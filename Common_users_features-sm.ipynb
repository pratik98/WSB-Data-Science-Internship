{
 "cells": [
  {
   "cell_type": "code",
   "execution_count": 1,
   "metadata": {},
   "outputs": [],
   "source": [
    "%%capture\n",
    "from datetime import datetime\n",
    "import matplotlib\n",
    "matplotlib.use('Agg')\n",
    "import matplotlib.pyplot as plt\n",
    "import numpy as np\n",
    "import pandas as pd\n",
    "import json\n",
    "\n",
    "plt.rcParams.update({\"font.size\": 12})\n",
    "%matplotlib inline"
   ]
  },
  {
   "cell_type": "code",
   "execution_count": 171,
   "metadata": {},
   "outputs": [],
   "source": [
    "wsb_common_users_data = pd.read_csv(\"data/wsb_common_users_data.csv\",sep=';')"
   ]
  },
  {
   "cell_type": "code",
   "execution_count": 172,
   "metadata": {},
   "outputs": [],
   "source": [
    "stocks_common_users_data= pd.read_csv(\"data/stocks_common_users_data.csv\",sep=';')"
   ]
  },
  {
   "cell_type": "code",
   "execution_count": 173,
   "metadata": {},
   "outputs": [],
   "source": [
    "investing_common_users_data= pd.read_csv(\"data/investing_common_users_data.csv\",sep=';')"
   ]
  },
  {
   "cell_type": "markdown",
   "metadata": {},
   "source": [
    "## Create new features : Part of Speech, Bag of Words, Sentiment, Tickers"
   ]
  },
  {
   "cell_type": "code",
   "execution_count": null,
   "metadata": {},
   "outputs": [],
   "source": [
    "!pip install SpacyTextBlob"
   ]
  },
  {
   "cell_type": "code",
   "execution_count": 2,
   "metadata": {},
   "outputs": [],
   "source": [
    "import spacy\n",
    "from spacy.lang.en.stop_words import STOP_WORDS\n",
    "from spacytextblob.spacytextblob import SpacyTextBlob\n",
    "from collections import Counter, defaultdict"
   ]
  },
  {
   "cell_type": "code",
   "execution_count": 175,
   "metadata": {},
   "outputs": [
    {
     "name": "stdout",
     "output_type": "stream",
     "text": [
      "['tok2vec', 'tagger', 'parser', 'attribute_ruler', 'lemmatizer', 'ner', 'sentiment']\n"
     ]
    }
   ],
   "source": [
    "nlp = spacy.load(\"en_core_web_sm\")#en_core_web_trf, _md\n",
    "\n",
    "#nlp = spacy.blank(\"en\")\n",
    "if \"spacytextblob\" not in nlp.pipe_names:\n",
    "    nlp.add_pipe(\"spacytextblob\")\n",
    "    nlp.rename_pipe(\"spacytextblob\", \"sentiment\")\n",
    "print(nlp.pipe_names)"
   ]
  },
  {
   "cell_type": "code",
   "execution_count": 176,
   "metadata": {},
   "outputs": [
    {
     "name": "stdout",
     "output_type": "stream",
     "text": [
      "{'PROPN': 2, 'AUX': 1, 'SPACE': 1, 'VERB': 3, 'ADP': 2, 'ADJ': 2, 'NOUN': 1, 'SYM': 1, 'NUM': 2}\n",
      "{'looking': 1, 'buying': 1, 'bought': 1}\n",
      "{'awesome': 1, 'great': 1}\n",
      "{'Apple': 1, 'U.K.': 1}\n",
      "{'startup': 1}\n",
      "{'at': 1, 'for': 1}\n",
      "{'$': 1}\n",
      "{'1': 1, 'billion': 1}\n",
      "{'is': 1}\n",
      "{'Apple': 1, 'be': 1, ' ': 1, 'look': 1, 'at': 1, 'buy': 2, 'awesome': 1, 'U.K.': 1, 'great': 1, 'startup': 1, 'for': 1, '$': 1, '1': 1, 'billion': 1}\n"
     ]
    }
   ],
   "source": [
    "doc = nlp(\"Apple is  looking at buying awesome U.K. great startup for $1 billion bought\")\n",
    "\n",
    "print(dict(Counter([token.pos_ for token in doc])))\n",
    "#print(dict(Counter([token.tag_ for token in doc])))\n",
    "#print(dict(Counter([ent.text for ent in doc.ents if ent.label_ =='ORG'])))   \n",
    "print(dict(Counter([token.text for token in doc if token.pos_ =='VERB'])))  \n",
    "print(dict(Counter([token.text for token in doc if token.pos_ =='ADJ'])))  \n",
    "print(dict(Counter([token.text for token in doc if token.pos_ =='PROPN'])))  \n",
    "print(dict(Counter([token.text for token in doc if token.pos_ =='NOUN']))) \n",
    "print(dict(Counter([token.text for token in doc if token.pos_ =='ADP']))) \n",
    "print(dict(Counter([token.text for token in doc if token.pos_ =='SYM']))) \n",
    "print(dict(Counter([token.text for token in doc if token.pos_ =='NUM']))) \n",
    "print(dict(Counter([token.text for token in doc if token.pos_ =='AUX']))) \n",
    "print (dict(Counter([token.lemma_ for token in doc])))"
   ]
  },
  {
   "cell_type": "code",
   "execution_count": 177,
   "metadata": {},
   "outputs": [],
   "source": [
    "nasdaq_stocks = pd.read_csv(\"data/nasdaq.csv\", sep=\",\")\n",
    "nasdaq_stocks_symbols = nasdaq_stocks[\"Symbol\"].tolist()"
   ]
  },
  {
   "cell_type": "code",
   "execution_count": 30,
   "metadata": {},
   "outputs": [
    {
     "name": "stdout",
     "output_type": "stream",
     "text": [
      "Requirement already satisfied: nltk in c:\\users\\96ank\\appdata\\local\\continuum\\anaconda3\\lib\\site-packages (3.4.5)\n",
      "Requirement already satisfied: six in c:\\users\\96ank\\appdata\\local\\continuum\\anaconda3\\lib\\site-packages (from nltk) (1.12.0)\n"
     ]
    }
   ],
   "source": [
    "!pip install nltk"
   ]
  },
  {
   "cell_type": "code",
   "execution_count": 178,
   "metadata": {},
   "outputs": [],
   "source": [
    "from nltk.corpus import stopwords\n",
    "from nltk.tokenize import word_tokenize"
   ]
  },
  {
   "cell_type": "code",
   "execution_count": 179,
   "metadata": {},
   "outputs": [
    {
     "name": "stdout",
     "output_type": "stream",
     "text": [
      "['Nick', 'likes', 'play', 'football', ',', 'however', 'fond', 'tennis', '.']\n"
     ]
    }
   ],
   "source": [
    "text = \"Nick likes to play football, however he is not too fond of tennis.\"\n",
    "text_tokens = word_tokenize(text)\n",
    "\n",
    "tokens_without_sw = [word for word in text_tokens if not word in stopwords.words()]\n",
    "\n",
    "print(tokens_without_sw)"
   ]
  },
  {
   "cell_type": "code",
   "execution_count": 181,
   "metadata": {},
   "outputs": [],
   "source": [
    "# Function to find stocks in a text given stock list\n",
    "import re\n",
    "regex = re.compile(\"[^a-zA-Z ]\")\n",
    "ticker_set = set(nasdaq_stocks_symbols)\n",
    "#list(filter(lambda word: word[0]=='s', text.split()))\n",
    "all_stopwords = stopwords.words('english')\n",
    "all_stopwords= all_stopwords + ['good','big','nice','go','em','live','hear','plan', 'else',\n",
    "                                'it','best','get','new','see','next',\n",
    "                               'cash','well','post','two','real','play','hope','low','free','huge','open','pay','move','ever',\n",
    "                                'love','tell','life','gain','tech','fund','bit','ago','fact','net','talk','turn','app','main',\n",
    "                               'grow','kind','pump','beat','vs','true','ride','care','mind','man','link','via','job','safe',\n",
    "                               'plus','wish','team','save','user','base','onto','view','eat','flow','jan','fun','info','car',\n",
    "                               'peak','step','mark','five','cars','max','wave','cool','auto','six','loan','act','eye','roll','site',\n",
    "                                'cost','form','dd','run','four','fast','gold','key','drug','bill','hi','game','age','hes'\n",
    "                               ]\n",
    "def calculate_mentioned_stocks(title, body=\"\"):\n",
    "    #content = regex.sub(\"\", str(title) + \" \" + str(body)).split(\" \")\n",
    "    text = str(title) + \" \" + str(body)   \n",
    "    tick_list = list(filter(lambda word: word[0]=='$', text.upper().split())) \n",
    "    #print(tick_list)\n",
    "    content = set(list([i[1:] for i in tick_list]))\n",
    "    #print(content)\n",
    "    tickers = list(ticker_set & content)\n",
    "    #print(tickers)\n",
    "    tickers2 = [word for word in text.split() if not word.lower() in all_stopwords]\n",
    "    #print(tickers2)\n",
    "    tickers2 = [x.upper() for x in tickers2  if len(x) > 1]\n",
    "    #print(tickers2)\n",
    "    #print()\n",
    "    return tickers +list(ticker_set & set(tickers2))\n",
    "\n"
   ]
  },
  {
   "cell_type": "code",
   "execution_count": 182,
   "metadata": {},
   "outputs": [
    {
     "name": "stdout",
     "output_type": "stream",
     "text": [
      "['MSFT', 'TSLA', 'E', 'TSLA', 'BB', 'AAPL']\n"
     ]
    }
   ],
   "source": [
    "print(calculate_mentioned_stocks('TSLA  any aapl be $E  420.69 $TSLA is go GO is $msft else plan it get best hear new not big nice a good em CONFIRMED.Something,on live bb something'))"
   ]
  },
  {
   "cell_type": "code",
   "execution_count": 183,
   "metadata": {},
   "outputs": [],
   "source": [
    "def find_tickers(title, body=\"\"):\n",
    "    tickers = dict(Counter(calculate_mentioned_stocks(title,body)))    \n",
    "    return tickers"
   ]
  },
  {
   "cell_type": "code",
   "execution_count": 184,
   "metadata": {},
   "outputs": [],
   "source": [
    "import collections\n",
    "from typing import Dict, List, Tuple\n",
    "\n",
    "\n",
    "def text2bow(words: List[str], dictionary: Dict[str, int]):\n",
    "    word_frequences = collections.defaultdict(int)\n",
    "    for word in words:\n",
    "        if word not in dictionary:\n",
    "            dictionary[word] = len(dictionary)\n",
    "        word_frequences[dictionary[word]] += 1\n",
    " \n",
    "    #return list(word_frequences.items())\n",
    "    return word_frequences"
   ]
  },
  {
   "cell_type": "code",
   "execution_count": 185,
   "metadata": {},
   "outputs": [],
   "source": [
    "dictionary = {}\n",
    "#print('BOW representation:', text2bow(sample_text.split(), dictionary))\n",
    "#print('Dictionary:', dictionary)"
   ]
  },
  {
   "cell_type": "code",
   "execution_count": 186,
   "metadata": {},
   "outputs": [],
   "source": [
    "def spacy_features(text, body=\"\"):\n",
    "    if(len(str(body)) < 3689602):\n",
    "       \n",
    "        doc = nlp(str(text).lower()+\" \"+ str(body).lower())\n",
    "        lemma_text = \" \".join([token.lemma_ for token in doc])\n",
    "        doc = nlp(lemma_text)\n",
    "        #part_of_speech():\n",
    "        ##count PROPN, VERB, ADP, NOUN, NUM\n",
    "        pos = dict(Counter([token.pos_ for token in doc]))\n",
    "        pos_tag = dict(Counter([token.tag_ for token in doc]))\n",
    "        \n",
    "        #Extract Nouns, Verbs and Adjectives\n",
    "        \n",
    "        nouns = dict(Counter([token.text for token in doc if token.pos_ =='NOUN']))\n",
    "        adjectives = dict(Counter([token.text for token in doc if token.pos_ =='ADJ']))\n",
    "        verbs =dict(Counter([token.text for token in doc if token.pos_ =='VERB']))\n",
    "        pronouns = dict(Counter([token.text for token in doc if token.pos_ =='PROPN']))      \n",
    "        symbols = dict(Counter([token.text for token in doc if token.pos_ =='SYM']))\n",
    "        numbers = dict(Counter([token.text for token in doc if token.pos_ =='NUM']))\n",
    "      \n",
    "        #named_entitles():\n",
    "        named_entities = dict(Counter([ent.label_ for ent in doc.ents]))\n",
    "        named_entities_org = dict(Counter([ent.text for ent in doc.ents if ent.label_ == 'ORG']))\n",
    "        #def bag_of_words():\n",
    "        token_list = [token.text for token in doc]\n",
    "        # Create list of word tokens after removing stopwords\n",
    "        filtered_sentence =[] \n",
    "\n",
    "        for word in token_list:\n",
    "            lexeme = nlp.vocab[word]\n",
    "            if lexeme.is_stop == False:\n",
    "                filtered_sentence.append(word) \n",
    "        bow=text2bow(filtered_sentence, dictionary)\n",
    "        #sentiment():\n",
    "        polarity = doc._.polarity        \n",
    "\n",
    "        return pd.Series([nouns,adjectives,verbs,pronouns,symbols,numbers,pos, pos_tag,named_entities,named_entities_org,polarity,bow,lemma_text])\n",
    "    else:\n",
    "         return pd.Series([0,0,0,0,0,0,0,0,0,0,0,0,0])    \n",
    "    "
   ]
  },
  {
   "cell_type": "code",
   "execution_count": 21,
   "metadata": {},
   "outputs": [],
   "source": [
    "investing_common_users_data[[\"nouns\",\"adjectives\",\"verbs\",\"pronouns\",\"symbols\",'numbers',\"pos\",\"pos_tag\",\"NER\",\"org\",\"polarity\",\"bow\",\"lemma_text\"]] = investing_common_users_data.apply(\n",
    "                                                                                    lambda row: spacy_features(row[\"title\"]), axis=1)"
   ]
  },
  {
   "cell_type": "code",
   "execution_count": 22,
   "metadata": {},
   "outputs": [
    {
     "data": {
      "text/html": [
       "<div>\n",
       "<style scoped>\n",
       "    .dataframe tbody tr th:only-of-type {\n",
       "        vertical-align: middle;\n",
       "    }\n",
       "\n",
       "    .dataframe tbody tr th {\n",
       "        vertical-align: top;\n",
       "    }\n",
       "\n",
       "    .dataframe thead th {\n",
       "        text-align: right;\n",
       "    }\n",
       "</style>\n",
       "<table border=\"1\" class=\"dataframe\">\n",
       "  <thead>\n",
       "    <tr style=\"text-align: right;\">\n",
       "      <th></th>\n",
       "      <th>created_utc</th>\n",
       "      <th>SegmentID</th>\n",
       "      <th>author</th>\n",
       "      <th>created_utc.1</th>\n",
       "      <th>id</th>\n",
       "      <th>link_flair_text</th>\n",
       "      <th>num_comments</th>\n",
       "      <th>score</th>\n",
       "      <th>subreddit_subscribers</th>\n",
       "      <th>selftext</th>\n",
       "      <th>...</th>\n",
       "      <th>pronouns</th>\n",
       "      <th>symbols</th>\n",
       "      <th>numbers</th>\n",
       "      <th>pos</th>\n",
       "      <th>pos_tag</th>\n",
       "      <th>NER</th>\n",
       "      <th>org</th>\n",
       "      <th>polarity</th>\n",
       "      <th>bow</th>\n",
       "      <th>lemma_text</th>\n",
       "    </tr>\n",
       "  </thead>\n",
       "  <tbody>\n",
       "    <tr>\n",
       "      <th>0</th>\n",
       "      <td>2021-11-26 14:11:28</td>\n",
       "      <td>2</td>\n",
       "      <td>VonDerBerg</td>\n",
       "      <td>2021-11-26 14:11:28</td>\n",
       "      <td>r2ob2e</td>\n",
       "      <td>NaN</td>\n",
       "      <td>1.0</td>\n",
       "      <td>1.0</td>\n",
       "      <td>1955253.0</td>\n",
       "      <td>So the markets are tanking on new variant news...</td>\n",
       "      <td>...</td>\n",
       "      <td>{}</td>\n",
       "      <td>{'$': 1}</td>\n",
       "      <td>{}</td>\n",
       "      <td>{'SYM': 1, 'NOUN': 5, 'ADJ': 1, 'PUNCT': 4}</td>\n",
       "      <td>{'$': 1, 'NN': 5, 'JJ': 1, '.': 3, 'HYPH': 1}</td>\n",
       "      <td>{}</td>\n",
       "      <td>{}</td>\n",
       "      <td>0.136364</td>\n",
       "      <td>{0: 1, 1: 1, 2: 1, 3: 1, 4: 3, 5: 1, 6: 1, 7: 1}</td>\n",
       "      <td>$ nvax new variant . approval . lift - off .</td>\n",
       "    </tr>\n",
       "    <tr>\n",
       "      <th>1</th>\n",
       "      <td>2021-11-26 10:02:16</td>\n",
       "      <td>19</td>\n",
       "      <td>AutoModerator</td>\n",
       "      <td>2021-11-26 10:02:16</td>\n",
       "      <td>r2jx7h</td>\n",
       "      <td>NaN</td>\n",
       "      <td>1.0</td>\n",
       "      <td>1.0</td>\n",
       "      <td>1955196.0</td>\n",
       "      <td>Have a general question?  Want to offer some c...</td>\n",
       "      <td>...</td>\n",
       "      <td>{'november': 1}</td>\n",
       "      <td>{}</td>\n",
       "      <td>{'26': 1, '2021': 1}</td>\n",
       "      <td>{'ADJ': 3, 'NOUN': 2, 'CCONJ': 1, 'PUNCT': 2, ...</td>\n",
       "      <td>{'JJ': 3, 'NN': 2, 'CC': 1, ':': 1, 'NNP': 1, ...</td>\n",
       "      <td>{'DATE': 2}</td>\n",
       "      <td>{}</td>\n",
       "      <td>0.025000</td>\n",
       "      <td>{8: 1, 9: 1, 10: 1, 11: 1, 12: 1, 7: 1, 13: 1,...</td>\n",
       "      <td>daily general discussion and spitballin thread...</td>\n",
       "    </tr>\n",
       "    <tr>\n",
       "      <th>2</th>\n",
       "      <td>2021-11-26 10:01:17</td>\n",
       "      <td>20</td>\n",
       "      <td>AutoModerator</td>\n",
       "      <td>2021-11-26 10:01:17</td>\n",
       "      <td>r2jwpw</td>\n",
       "      <td>NaN</td>\n",
       "      <td>1.0</td>\n",
       "      <td>1.0</td>\n",
       "      <td>1955196.0</td>\n",
       "      <td>If your question is \"I have $10,000, what do I...</td>\n",
       "      <td>...</td>\n",
       "      <td>{'november': 1}</td>\n",
       "      <td>{}</td>\n",
       "      <td>{'26': 1, '2021': 1}</td>\n",
       "      <td>{'ADJ': 2, 'NOUN': 6, 'PUNCT': 3, 'DET': 1, 'C...</td>\n",
       "      <td>{'JJ': 2, 'NN': 6, ':': 1, 'DT': 1, 'CC': 1, '...</td>\n",
       "      <td>{'DATE': 2}</td>\n",
       "      <td>{}</td>\n",
       "      <td>0.000000</td>\n",
       "      <td>{8: 1, 17: 2, 12: 1, 7: 1, 18: 1, 19: 1, 20: 1...</td>\n",
       "      <td>daily advice thread - all basic help or advice...</td>\n",
       "    </tr>\n",
       "    <tr>\n",
       "      <th>3</th>\n",
       "      <td>2021-11-25 17:50:56</td>\n",
       "      <td>71</td>\n",
       "      <td>McTruite</td>\n",
       "      <td>2021-11-25 17:50:56</td>\n",
       "      <td>r226qx</td>\n",
       "      <td>NaN</td>\n",
       "      <td>1.0</td>\n",
       "      <td>1.0</td>\n",
       "      <td>1954915.0</td>\n",
       "      <td>[removed]</td>\n",
       "      <td>...</td>\n",
       "      <td>{'aptevo': 1}</td>\n",
       "      <td>{}</td>\n",
       "      <td>{}</td>\n",
       "      <td>{'PROPN': 1, 'ADJ': 1, 'PUNCT': 3, 'ADV': 1, '...</td>\n",
       "      <td>{'NNP': 1, 'JJ': 1, '.': 2, 'RB': 1, '''': 1, ...</td>\n",
       "      <td>{'PERSON': 1}</td>\n",
       "      <td>{}</td>\n",
       "      <td>0.000000</td>\n",
       "      <td>{22: 1, 23: 1, 4: 2, 24: 1, 25: 1}</td>\n",
       "      <td>aptevo therapeutic . here ’ the deal .</td>\n",
       "    </tr>\n",
       "    <tr>\n",
       "      <th>4</th>\n",
       "      <td>2021-11-25 16:56:14</td>\n",
       "      <td>75</td>\n",
       "      <td>MangoExternal</td>\n",
       "      <td>2021-11-25 16:56:14</td>\n",
       "      <td>r20y20</td>\n",
       "      <td>NaN</td>\n",
       "      <td>1.0</td>\n",
       "      <td>1.0</td>\n",
       "      <td>1954884.0</td>\n",
       "      <td>Happy Thanksgiving everyone. As you may know, ...</td>\n",
       "      <td>...</td>\n",
       "      <td>{}</td>\n",
       "      <td>{}</td>\n",
       "      <td>{}</td>\n",
       "      <td>{'NOUN': 7, 'ADP': 3, 'PUNCT': 1}</td>\n",
       "      <td>{'NNS': 2, 'IN': 3, 'NN': 5, 'HYPH': 1}</td>\n",
       "      <td>{'PRODUCT': 2}</td>\n",
       "      <td>{}</td>\n",
       "      <td>0.000000</td>\n",
       "      <td>{26: 2, 27: 2, 28: 2, 29: 1, 30: 1, 7: 1}</td>\n",
       "      <td>403b before tax contribution vs 403b roth afte...</td>\n",
       "    </tr>\n",
       "  </tbody>\n",
       "</table>\n",
       "<p>5 rows × 30 columns</p>\n",
       "</div>"
      ],
      "text/plain": [
       "           created_utc  SegmentID         author        created_utc.1      id  \\\n",
       "0  2021-11-26 14:11:28          2     VonDerBerg  2021-11-26 14:11:28  r2ob2e   \n",
       "1  2021-11-26 10:02:16         19  AutoModerator  2021-11-26 10:02:16  r2jx7h   \n",
       "2  2021-11-26 10:01:17         20  AutoModerator  2021-11-26 10:01:17  r2jwpw   \n",
       "3  2021-11-25 17:50:56         71       McTruite  2021-11-25 17:50:56  r226qx   \n",
       "4  2021-11-25 16:56:14         75  MangoExternal  2021-11-25 16:56:14  r20y20   \n",
       "\n",
       "  link_flair_text  num_comments  score  subreddit_subscribers  \\\n",
       "0             NaN           1.0    1.0              1955253.0   \n",
       "1             NaN           1.0    1.0              1955196.0   \n",
       "2             NaN           1.0    1.0              1955196.0   \n",
       "3             NaN           1.0    1.0              1954915.0   \n",
       "4             NaN           1.0    1.0              1954884.0   \n",
       "\n",
       "                                            selftext  ...         pronouns  \\\n",
       "0  So the markets are tanking on new variant news...  ...               {}   \n",
       "1  Have a general question?  Want to offer some c...  ...  {'november': 1}   \n",
       "2  If your question is \"I have $10,000, what do I...  ...  {'november': 1}   \n",
       "3                                          [removed]  ...    {'aptevo': 1}   \n",
       "4  Happy Thanksgiving everyone. As you may know, ...  ...               {}   \n",
       "\n",
       "    symbols               numbers  \\\n",
       "0  {'$': 1}                    {}   \n",
       "1        {}  {'26': 1, '2021': 1}   \n",
       "2        {}  {'26': 1, '2021': 1}   \n",
       "3        {}                    {}   \n",
       "4        {}                    {}   \n",
       "\n",
       "                                                 pos  \\\n",
       "0        {'SYM': 1, 'NOUN': 5, 'ADJ': 1, 'PUNCT': 4}   \n",
       "1  {'ADJ': 3, 'NOUN': 2, 'CCONJ': 1, 'PUNCT': 2, ...   \n",
       "2  {'ADJ': 2, 'NOUN': 6, 'PUNCT': 3, 'DET': 1, 'C...   \n",
       "3  {'PROPN': 1, 'ADJ': 1, 'PUNCT': 3, 'ADV': 1, '...   \n",
       "4                  {'NOUN': 7, 'ADP': 3, 'PUNCT': 1}   \n",
       "\n",
       "                                             pos_tag             NER org  \\\n",
       "0      {'$': 1, 'NN': 5, 'JJ': 1, '.': 3, 'HYPH': 1}              {}  {}   \n",
       "1  {'JJ': 3, 'NN': 2, 'CC': 1, ':': 1, 'NNP': 1, ...     {'DATE': 2}  {}   \n",
       "2  {'JJ': 2, 'NN': 6, ':': 1, 'DT': 1, 'CC': 1, '...     {'DATE': 2}  {}   \n",
       "3  {'NNP': 1, 'JJ': 1, '.': 2, 'RB': 1, '''': 1, ...   {'PERSON': 1}  {}   \n",
       "4            {'NNS': 2, 'IN': 3, 'NN': 5, 'HYPH': 1}  {'PRODUCT': 2}  {}   \n",
       "\n",
       "   polarity                                                bow  \\\n",
       "0  0.136364   {0: 1, 1: 1, 2: 1, 3: 1, 4: 3, 5: 1, 6: 1, 7: 1}   \n",
       "1  0.025000  {8: 1, 9: 1, 10: 1, 11: 1, 12: 1, 7: 1, 13: 1,...   \n",
       "2  0.000000  {8: 1, 17: 2, 12: 1, 7: 1, 18: 1, 19: 1, 20: 1...   \n",
       "3  0.000000                 {22: 1, 23: 1, 4: 2, 24: 1, 25: 1}   \n",
       "4  0.000000          {26: 2, 27: 2, 28: 2, 29: 1, 30: 1, 7: 1}   \n",
       "\n",
       "                                          lemma_text  \n",
       "0       $ nvax new variant . approval . lift - off .  \n",
       "1  daily general discussion and spitballin thread...  \n",
       "2  daily advice thread - all basic help or advice...  \n",
       "3             aptevo therapeutic . here ’ the deal .  \n",
       "4  403b before tax contribution vs 403b roth afte...  \n",
       "\n",
       "[5 rows x 30 columns]"
      ]
     },
     "execution_count": 22,
     "metadata": {},
     "output_type": "execute_result"
    }
   ],
   "source": [
    "investing_common_users_data.head()"
   ]
  },
  {
   "cell_type": "code",
   "execution_count": 23,
   "metadata": {},
   "outputs": [],
   "source": [
    "dictionary_investing =dictionary"
   ]
  },
  {
   "cell_type": "code",
   "execution_count": 24,
   "metadata": {},
   "outputs": [],
   "source": [
    "investing_common_users_data['tickers'] = investing_common_users_data.apply(lambda row: find_tickers(row[\"title\"]), axis=1)\n",
    "investing_common_users_data.to_csv('data/investing_common_users_data_title.csv',sep=';',index=False)\n",
    "with open('data/dictionary_investing_title.json', 'w') as fp:\n",
    "    json.dump(dictionary_investing, fp)"
   ]
  },
  {
   "cell_type": "code",
   "execution_count": 25,
   "metadata": {},
   "outputs": [],
   "source": [
    "dictionary= {}\n",
    "stocks_common_users_data[[\"nouns\",\"adjectives\",\"verbs\",\"pronouns\",\"symbols\",'numbers',\"pos\",\"pos_tag\",\"NER\",\"org\",\"polarity\",\"bow\",\"lemma_text\"]]=stocks_common_users_data.apply(lambda row: spacy_features(row[\"title\"]), axis=1)\n",
    "dictionary_stocks =dictionary\n",
    "stocks_common_users_data['tickers'] = stocks_common_users_data.apply(lambda row: find_tickers(row[\"title\"]), axis=1)\n",
    "stocks_common_users_data.to_csv('data/stocks_common_users_data_title.csv',sep=';',index=False)\n",
    "with open('data/dictionary_stocks_title.json', 'w') as fp:\n",
    "    json.dump(dictionary_stocks, fp)"
   ]
  },
  {
   "cell_type": "code",
   "execution_count": 26,
   "metadata": {},
   "outputs": [],
   "source": [
    "dictionary= {}\n",
    "wsb_common_users_data[[\"nouns\",\"adjectives\",\"verbs\",\"pronouns\",\"symbols\",'numbers',\"pos\",\"pos_tag\",\"NER\",\"org\",\"polarity\",\"bow\",\"lemma_text\"]]=wsb_common_users_data.apply(lambda row: spacy_features(row[\"title\"]), axis=1)\n",
    "dictionary_wsb =dictionary\n",
    "wsb_common_users_data['tickers'] = wsb_common_users_data.apply(lambda row: find_tickers(row[\"title\"]), axis=1)\n",
    "wsb_common_users_data.to_csv('data/wsb_common_users_data_title.csv',sep=';',index=False)\n",
    "with open('data/dictionary_wsb_title.json', 'w') as fp:\n",
    "    json.dump(dictionary_wsb, fp)"
   ]
  },
  {
   "cell_type": "code",
   "execution_count": 27,
   "metadata": {},
   "outputs": [
    {
     "data": {
      "text/plain": [
       "21520"
      ]
     },
     "execution_count": 27,
     "metadata": {},
     "output_type": "execute_result"
    }
   ],
   "source": [
    "## total posts by common users in each subreddit :common_elements [List 1,2,3]: 5637\n",
    "len(investing_common_users_data)"
   ]
  },
  {
   "cell_type": "code",
   "execution_count": 28,
   "metadata": {},
   "outputs": [
    {
     "data": {
      "text/plain": [
       "25451"
      ]
     },
     "execution_count": 28,
     "metadata": {},
     "output_type": "execute_result"
    }
   ],
   "source": [
    "len(stocks_common_users_data)"
   ]
  },
  {
   "cell_type": "code",
   "execution_count": 29,
   "metadata": {},
   "outputs": [
    {
     "data": {
      "text/plain": [
       "64631"
      ]
     },
     "execution_count": 29,
     "metadata": {},
     "output_type": "execute_result"
    }
   ],
   "source": [
    "len(wsb_common_users_data)  # 3X posts in WSB by same number of users in WSB "
   ]
  },
  {
   "cell_type": "code",
   "execution_count": 187,
   "metadata": {},
   "outputs": [],
   "source": [
    "## title+selftext\n",
    "dictionary= {}\n",
    "investing_common_users_data[[\"nouns\",\"adjectives\",\"verbs\",\"pronouns\",\"symbols\",'numbers',\"pos\",\"pos_tag\",\"NER\",\"org\",\"polarity\",\"bow\",\"lemma_text\"]]=investing_common_users_data.apply(lambda row: spacy_features(row['title'],row['selftext']),axis=1)\n",
    "dictionary_investing =dictionary\n",
    "investing_common_users_data['tickers'] = investing_common_users_data.apply(lambda row: find_tickers(row[\"title\"],row[\"selftext\"]), axis=1)\n",
    "investing_common_users_data.to_csv('data/investing_common_users_data_title_selftext.csv',sep=';',index=False)\n",
    "with open('data/dictionary_investing_title_selftext.json', 'w') as fp:\n",
    "    json.dump(dictionary_investing, fp)"
   ]
  },
  {
   "cell_type": "code",
   "execution_count": 188,
   "metadata": {},
   "outputs": [],
   "source": [
    "dictionary= {}\n",
    "\n",
    "stocks_common_users_data[[\"nouns\",\"adjectives\",\"verbs\",\"pronouns\",\"symbols\",'numbers',\"pos\",\"pos_tag\",\"NER\",\"org\",\"polarity\",\"bow\",\"lemma_text\"]]=stocks_common_users_data.apply(lambda row: spacy_features(row['title'],row['selftext']),axis=1)\n",
    "dictionary_stocks =dictionary\n",
    "stocks_common_users_data['tickers'] = stocks_common_users_data.apply(lambda row: find_tickers(row[\"title\"],row[\"selftext\"]), axis=1)\n",
    "stocks_common_users_data.to_csv('data/stocks_common_users_data_title_selftext.csv',sep=';',index=False)\n",
    "with open('data/dictionary_stocks_title_selftext.json', 'w') as fp:\n",
    "    json.dump(dictionary_stocks, fp)"
   ]
  },
  {
   "cell_type": "code",
   "execution_count": 189,
   "metadata": {},
   "outputs": [],
   "source": [
    "dictionary= {}\n",
    "\n",
    "wsb_common_users_data[[\"nouns\",\"adjectives\",\"verbs\",\"pronouns\",\"symbols\",'numbers',\"pos\",\"pos_tag\",\"NER\",\"org\",\"polarity\",\"bow\",\"lemma_text\"]]=wsb_common_users_data.apply(lambda row: spacy_features(row['title'],row['selftext']),axis=1)\n",
    "dictionary_wsb =dictionary\n",
    "wsb_common_users_data['tickers'] = wsb_common_users_data.apply(lambda row: find_tickers(row[\"title\"],row[\"selftext\"]), axis=1)\n",
    "wsb_common_users_data.to_csv('data/wsb_common_users_data_title_selftext.csv',sep=';',index=False)\n",
    "with open('data/dictionary_wsb_title_selftext.json', 'w') as fp:\n",
    "    json.dump(dictionary_wsb, fp)"
   ]
  },
  {
   "cell_type": "code",
   "execution_count": 190,
   "metadata": {},
   "outputs": [],
   "source": [
    "## Group by author\n",
    "def create_dataset_groupby_author(df):\n",
    "    df_author_posts= df.groupby(['author']).agg({'id': 'count'})\n",
    "    df_author_posts['title']= df.groupby(['author']).agg({'title': ' '.join})\n",
    "    df['selftext'] = df['selftext'].astype(\"string\")\n",
    "    df.selftext = np.where(df.selftext.isnull(),\" \",df.selftext)\n",
    "    df_author_posts['selftext'] = df.groupby(['author']).agg({'selftext': ' '.join})\n",
    "    #df['year'] = df['year'].astype(\"string\")\n",
    "    #df_author_posts['year']= df.groupby(['author']).agg({'year': ' '.join})\n",
    "    df_author_posts[[\"nouns\",\"adjectives\",\"verbs\",\"pronouns\",\"symbols\",'numbers',\"pos\",\"pos_tag\",\"NER\",\"org\",\"polarity\",\"bow\",\"lemma_text\"]]=df_author_posts.apply(lambda row: spacy_features(row['title'],row['selftext']),axis=1)\n",
    "    \n",
    "    df_author_posts['tickers'] = df_author_posts.apply(lambda row: find_tickers(row[\"title\"],row[\"selftext\"]), axis=1)\n",
    "    \n",
    "    return df_author_posts"
   ]
  },
  {
   "cell_type": "code",
   "execution_count": 191,
   "metadata": {},
   "outputs": [],
   "source": [
    "dictionary= {}\n",
    "nlp.max_length = 3689602  \n",
    "investing_common_users_groupdata = create_dataset_groupby_author(investing_common_users_data)\n",
    "dictionary_investing=dictionary\n",
    "investing_common_users_groupdata.to_csv('data/investing_common_users_groupdata_title_selftext.csv',sep=';',index=False)\n",
    "with open('data/dictionary_investing_group_title_selftext.json', 'w') as fp:\n",
    "        json.dump(dictionary_investing, fp)"
   ]
  },
  {
   "cell_type": "code",
   "execution_count": 192,
   "metadata": {},
   "outputs": [
    {
     "data": {
      "text/html": [
       "<div>\n",
       "<style scoped>\n",
       "    .dataframe tbody tr th:only-of-type {\n",
       "        vertical-align: middle;\n",
       "    }\n",
       "\n",
       "    .dataframe tbody tr th {\n",
       "        vertical-align: top;\n",
       "    }\n",
       "\n",
       "    .dataframe thead th {\n",
       "        text-align: right;\n",
       "    }\n",
       "</style>\n",
       "<table border=\"1\" class=\"dataframe\">\n",
       "  <thead>\n",
       "    <tr style=\"text-align: right;\">\n",
       "      <th></th>\n",
       "      <th>id</th>\n",
       "      <th>title</th>\n",
       "      <th>selftext</th>\n",
       "      <th>nouns</th>\n",
       "      <th>adjectives</th>\n",
       "      <th>verbs</th>\n",
       "      <th>pronouns</th>\n",
       "      <th>symbols</th>\n",
       "      <th>numbers</th>\n",
       "      <th>pos</th>\n",
       "      <th>pos_tag</th>\n",
       "      <th>NER</th>\n",
       "      <th>org</th>\n",
       "      <th>polarity</th>\n",
       "      <th>bow</th>\n",
       "      <th>lemma_text</th>\n",
       "      <th>tickers</th>\n",
       "    </tr>\n",
       "    <tr>\n",
       "      <th>author</th>\n",
       "      <th></th>\n",
       "      <th></th>\n",
       "      <th></th>\n",
       "      <th></th>\n",
       "      <th></th>\n",
       "      <th></th>\n",
       "      <th></th>\n",
       "      <th></th>\n",
       "      <th></th>\n",
       "      <th></th>\n",
       "      <th></th>\n",
       "      <th></th>\n",
       "      <th></th>\n",
       "      <th></th>\n",
       "      <th></th>\n",
       "      <th></th>\n",
       "      <th></th>\n",
       "    </tr>\n",
       "  </thead>\n",
       "  <tbody>\n",
       "    <tr>\n",
       "      <th>----The_Truth-----</th>\n",
       "      <td>1</td>\n",
       "      <td>Cleanspark, Inc. ($CLSK) DEF 14C from 8/28/2020</td>\n",
       "      <td>Good evening to all. Haven't ever posted here,...</td>\n",
       "      <td>{'clsk': 2, '14c': 2, 'evening': 1, 'opinion':...</td>\n",
       "      <td>{'def': 2, 'good': 1, 'much': 1, 'weary': 1, '...</td>\n",
       "      <td>{'post': 2, 'want': 1, 'get': 2, 'seem': 3, 't...</td>\n",
       "      <td>{'cleanspark': 1, 'inc': 1, 'july': 3, 'amp;#x...</td>\n",
       "      <td>{'$': 4, '/': 3}</td>\n",
       "      <td>{'8/28/2020': 1, '2020': 1, '20': 3, 'm': 1, '...</td>\n",
       "      <td>{'PROPN': 11, 'PUNCT': 35, 'SYM': 7, 'NOUN': 6...</td>\n",
       "      <td>{'NNP': 11, ',': 7, '.': 20, '-LRB-': 2, '$': ...</td>\n",
       "      <td>{'ORG': 1, 'DATE': 10, 'TIME': 1, 'QUANTITY': ...</td>\n",
       "      <td>{'cleanspark , inc .': 1}</td>\n",
       "      <td>0.041527</td>\n",
       "      <td>{0: 1, 1: 7, 2: 1, 3: 17, 4: 1, 5: 4, 6: 3, 7:...</td>\n",
       "      <td>cleanspark , inc . ( $ clsk ) def 14c from 8/2...</td>\n",
       "      <td>{'IDEX': 1, 'CLSK': 1}</td>\n",
       "    </tr>\n",
       "  </tbody>\n",
       "</table>\n",
       "</div>"
      ],
      "text/plain": [
       "                    id                                            title  \\\n",
       "author                                                                    \n",
       "----The_Truth-----   1  Cleanspark, Inc. ($CLSK) DEF 14C from 8/28/2020   \n",
       "\n",
       "                                                             selftext  \\\n",
       "author                                                                  \n",
       "----The_Truth-----  Good evening to all. Haven't ever posted here,...   \n",
       "\n",
       "                                                                nouns  \\\n",
       "author                                                                  \n",
       "----The_Truth-----  {'clsk': 2, '14c': 2, 'evening': 1, 'opinion':...   \n",
       "\n",
       "                                                           adjectives  \\\n",
       "author                                                                  \n",
       "----The_Truth-----  {'def': 2, 'good': 1, 'much': 1, 'weary': 1, '...   \n",
       "\n",
       "                                                                verbs  \\\n",
       "author                                                                  \n",
       "----The_Truth-----  {'post': 2, 'want': 1, 'get': 2, 'seem': 3, 't...   \n",
       "\n",
       "                                                             pronouns  \\\n",
       "author                                                                  \n",
       "----The_Truth-----  {'cleanspark': 1, 'inc': 1, 'july': 3, 'amp;#x...   \n",
       "\n",
       "                             symbols  \\\n",
       "author                                 \n",
       "----The_Truth-----  {'$': 4, '/': 3}   \n",
       "\n",
       "                                                              numbers  \\\n",
       "author                                                                  \n",
       "----The_Truth-----  {'8/28/2020': 1, '2020': 1, '20': 3, 'm': 1, '...   \n",
       "\n",
       "                                                                  pos  \\\n",
       "author                                                                  \n",
       "----The_Truth-----  {'PROPN': 11, 'PUNCT': 35, 'SYM': 7, 'NOUN': 6...   \n",
       "\n",
       "                                                              pos_tag  \\\n",
       "author                                                                  \n",
       "----The_Truth-----  {'NNP': 11, ',': 7, '.': 20, '-LRB-': 2, '$': ...   \n",
       "\n",
       "                                                                  NER  \\\n",
       "author                                                                  \n",
       "----The_Truth-----  {'ORG': 1, 'DATE': 10, 'TIME': 1, 'QUANTITY': ...   \n",
       "\n",
       "                                          org  polarity  \\\n",
       "author                                                    \n",
       "----The_Truth-----  {'cleanspark , inc .': 1}  0.041527   \n",
       "\n",
       "                                                                  bow  \\\n",
       "author                                                                  \n",
       "----The_Truth-----  {0: 1, 1: 7, 2: 1, 3: 17, 4: 1, 5: 4, 6: 3, 7:...   \n",
       "\n",
       "                                                           lemma_text  \\\n",
       "author                                                                  \n",
       "----The_Truth-----  cleanspark , inc . ( $ clsk ) def 14c from 8/2...   \n",
       "\n",
       "                                   tickers  \n",
       "author                                      \n",
       "----The_Truth-----  {'IDEX': 1, 'CLSK': 1}  "
      ]
     },
     "execution_count": 192,
     "metadata": {},
     "output_type": "execute_result"
    }
   ],
   "source": [
    "investing_common_users_groupdata.head(1)"
   ]
  },
  {
   "cell_type": "code",
   "execution_count": 193,
   "metadata": {},
   "outputs": [],
   "source": [
    "dictionary= {}\n",
    "stocks_common_users_groupdata = create_dataset_groupby_author(stocks_common_users_data)\n",
    "dictionary_stocks =dictionary\n",
    "stocks_common_users_groupdata.to_csv('data/stocks_common_users_groupdata_title_selftext.csv',sep=';',index=False)\n",
    "with open('data/dictionary_stocks_group_title_selftext.json', 'w') as fp:\n",
    "        json.dump(dictionary_stocks, fp)"
   ]
  },
  {
   "cell_type": "code",
   "execution_count": 194,
   "metadata": {},
   "outputs": [
    {
     "data": {
      "text/html": [
       "<div>\n",
       "<style scoped>\n",
       "    .dataframe tbody tr th:only-of-type {\n",
       "        vertical-align: middle;\n",
       "    }\n",
       "\n",
       "    .dataframe tbody tr th {\n",
       "        vertical-align: top;\n",
       "    }\n",
       "\n",
       "    .dataframe thead th {\n",
       "        text-align: right;\n",
       "    }\n",
       "</style>\n",
       "<table border=\"1\" class=\"dataframe\">\n",
       "  <thead>\n",
       "    <tr style=\"text-align: right;\">\n",
       "      <th></th>\n",
       "      <th>id</th>\n",
       "      <th>title</th>\n",
       "      <th>selftext</th>\n",
       "      <th>nouns</th>\n",
       "      <th>adjectives</th>\n",
       "      <th>verbs</th>\n",
       "      <th>pronouns</th>\n",
       "      <th>symbols</th>\n",
       "      <th>numbers</th>\n",
       "      <th>pos</th>\n",
       "      <th>pos_tag</th>\n",
       "      <th>NER</th>\n",
       "      <th>org</th>\n",
       "      <th>polarity</th>\n",
       "      <th>bow</th>\n",
       "      <th>lemma_text</th>\n",
       "      <th>tickers</th>\n",
       "    </tr>\n",
       "    <tr>\n",
       "      <th>author</th>\n",
       "      <th></th>\n",
       "      <th></th>\n",
       "      <th></th>\n",
       "      <th></th>\n",
       "      <th></th>\n",
       "      <th></th>\n",
       "      <th></th>\n",
       "      <th></th>\n",
       "      <th></th>\n",
       "      <th></th>\n",
       "      <th></th>\n",
       "      <th></th>\n",
       "      <th></th>\n",
       "      <th></th>\n",
       "      <th></th>\n",
       "      <th></th>\n",
       "      <th></th>\n",
       "    </tr>\n",
       "  </thead>\n",
       "  <tbody>\n",
       "    <tr>\n",
       "      <th>----The_Truth-----</th>\n",
       "      <td>1</td>\n",
       "      <td>How to play ETFs</td>\n",
       "      <td>I've been trading pennies and swinging &amp;lt;$50...</td>\n",
       "      <td>{'etfs': 2, 'trade': 1, 'penny': 1, 'swinge': ...</td>\n",
       "      <td>{'start': 1, 'different': 1, 'small': 1, 'ok':...</td>\n",
       "      <td>{'play': 1, 'be': 4, 'look': 1, 'invest': 1, '...</td>\n",
       "      <td>{'lt;$50': 1, 'amp;#x200b': 2}</td>\n",
       "      <td>{}</td>\n",
       "      <td>{}</td>\n",
       "      <td>{'SCONJ': 3, 'PART': 7, 'VERB': 18, 'NOUN': 19...</td>\n",
       "      <td>{'WRB': 1, 'TO': 7, 'VB': 14, 'NN': 20, 'PRP':...</td>\n",
       "      <td>{}</td>\n",
       "      <td>{}</td>\n",
       "      <td>0.078333</td>\n",
       "      <td>{0: 1, 1: 2, 2: 1, 3: 1, 4: 1, 5: 1, 6: 1, 7: ...</td>\n",
       "      <td>how to play etfs I 've be trade penny and swin...</td>\n",
       "      <td>{}</td>\n",
       "    </tr>\n",
       "  </tbody>\n",
       "</table>\n",
       "</div>"
      ],
      "text/plain": [
       "                    id             title  \\\n",
       "author                                     \n",
       "----The_Truth-----   1  How to play ETFs   \n",
       "\n",
       "                                                             selftext  \\\n",
       "author                                                                  \n",
       "----The_Truth-----  I've been trading pennies and swinging &lt;$50...   \n",
       "\n",
       "                                                                nouns  \\\n",
       "author                                                                  \n",
       "----The_Truth-----  {'etfs': 2, 'trade': 1, 'penny': 1, 'swinge': ...   \n",
       "\n",
       "                                                           adjectives  \\\n",
       "author                                                                  \n",
       "----The_Truth-----  {'start': 1, 'different': 1, 'small': 1, 'ok':...   \n",
       "\n",
       "                                                                verbs  \\\n",
       "author                                                                  \n",
       "----The_Truth-----  {'play': 1, 'be': 4, 'look': 1, 'invest': 1, '...   \n",
       "\n",
       "                                          pronouns symbols numbers  \\\n",
       "author                                                               \n",
       "----The_Truth-----  {'lt;$50': 1, 'amp;#x200b': 2}      {}      {}   \n",
       "\n",
       "                                                                  pos  \\\n",
       "author                                                                  \n",
       "----The_Truth-----  {'SCONJ': 3, 'PART': 7, 'VERB': 18, 'NOUN': 19...   \n",
       "\n",
       "                                                              pos_tag NER org  \\\n",
       "author                                                                          \n",
       "----The_Truth-----  {'WRB': 1, 'TO': 7, 'VB': 14, 'NN': 20, 'PRP':...  {}  {}   \n",
       "\n",
       "                    polarity  \\\n",
       "author                         \n",
       "----The_Truth-----  0.078333   \n",
       "\n",
       "                                                                  bow  \\\n",
       "author                                                                  \n",
       "----The_Truth-----  {0: 1, 1: 2, 2: 1, 3: 1, 4: 1, 5: 1, 6: 1, 7: ...   \n",
       "\n",
       "                                                           lemma_text tickers  \n",
       "author                                                                         \n",
       "----The_Truth-----  how to play etfs I 've be trade penny and swin...      {}  "
      ]
     },
     "execution_count": 194,
     "metadata": {},
     "output_type": "execute_result"
    }
   ],
   "source": [
    "stocks_common_users_groupdata.head(1)"
   ]
  },
  {
   "cell_type": "code",
   "execution_count": 195,
   "metadata": {},
   "outputs": [],
   "source": [
    "dictionary= {}\n",
    "wsb_common_users_groupdata = create_dataset_groupby_author(wsb_common_users_data)\n",
    "dictionary_wsb =dictionary\n",
    "wsb_common_users_groupdata.to_csv('data/wsb_common_users_groupdata_title_selftext.csv',sep=';',index=False)\n",
    "with open('data/dictionary_wsb_group_title_selftext.json', 'w') as fp:\n",
    "        json.dump(dictionary_wsb, fp)"
   ]
  },
  {
   "cell_type": "code",
   "execution_count": 196,
   "metadata": {},
   "outputs": [
    {
     "data": {
      "text/html": [
       "<div>\n",
       "<style scoped>\n",
       "    .dataframe tbody tr th:only-of-type {\n",
       "        vertical-align: middle;\n",
       "    }\n",
       "\n",
       "    .dataframe tbody tr th {\n",
       "        vertical-align: top;\n",
       "    }\n",
       "\n",
       "    .dataframe thead th {\n",
       "        text-align: right;\n",
       "    }\n",
       "</style>\n",
       "<table border=\"1\" class=\"dataframe\">\n",
       "  <thead>\n",
       "    <tr style=\"text-align: right;\">\n",
       "      <th></th>\n",
       "      <th>id</th>\n",
       "      <th>title</th>\n",
       "      <th>selftext</th>\n",
       "      <th>nouns</th>\n",
       "      <th>adjectives</th>\n",
       "      <th>verbs</th>\n",
       "      <th>pronouns</th>\n",
       "      <th>symbols</th>\n",
       "      <th>numbers</th>\n",
       "      <th>pos</th>\n",
       "      <th>pos_tag</th>\n",
       "      <th>NER</th>\n",
       "      <th>org</th>\n",
       "      <th>polarity</th>\n",
       "      <th>bow</th>\n",
       "      <th>lemma_text</th>\n",
       "      <th>tickers</th>\n",
       "    </tr>\n",
       "    <tr>\n",
       "      <th>author</th>\n",
       "      <th></th>\n",
       "      <th></th>\n",
       "      <th></th>\n",
       "      <th></th>\n",
       "      <th></th>\n",
       "      <th></th>\n",
       "      <th></th>\n",
       "      <th></th>\n",
       "      <th></th>\n",
       "      <th></th>\n",
       "      <th></th>\n",
       "      <th></th>\n",
       "      <th></th>\n",
       "      <th></th>\n",
       "      <th></th>\n",
       "      <th></th>\n",
       "      <th></th>\n",
       "    </tr>\n",
       "  </thead>\n",
       "  <tbody>\n",
       "    <tr>\n",
       "      <th>----The_Truth-----</th>\n",
       "      <td>2</td>\n",
       "      <td>TSLA 420.69 CONFIRMED Something, something, so...</td>\n",
       "      <td>Wondering if there are any indicators to be ...</td>\n",
       "      <td>{'wonder': 1, 'indicator': 1, 'witching': 1, '...</td>\n",
       "      <td>{'tsla': 1, 'witchy': 1, 'upward': 1, 'otm': 1...</td>\n",
       "      <td>{'confirm': 1, 'take': 1, 'point': 1, 'come': ...</td>\n",
       "      <td>{'monday': 2, 'amp;#x200b': 1}</td>\n",
       "      <td>{}</td>\n",
       "      <td>{'420.69': 1, '25': 1}</td>\n",
       "      <td>{'ADJ': 14, 'NUM': 2, 'VERB': 17, 'PRON': 15, ...</td>\n",
       "      <td>{'JJ': 14, 'CD': 2, 'VB': 22, 'NN': 35, ',': 3...</td>\n",
       "      <td>{'CARDINAL': 1, 'DATE': 3, 'PERCENT': 1}</td>\n",
       "      <td>{}</td>\n",
       "      <td>0.15452</td>\n",
       "      <td>{0: 1, 1: 1, 2: 1, 3: 3, 4: 1, 5: 1, 6: 1, 7: ...</td>\n",
       "      <td>tsla 420.69 confirm something , something , so...</td>\n",
       "      <td>{'TSLA': 1}</td>\n",
       "    </tr>\n",
       "  </tbody>\n",
       "</table>\n",
       "</div>"
      ],
      "text/plain": [
       "                    id                                              title  \\\n",
       "author                                                                      \n",
       "----The_Truth-----   2  TSLA 420.69 CONFIRMED Something, something, so...   \n",
       "\n",
       "                                                             selftext  \\\n",
       "author                                                                  \n",
       "----The_Truth-----    Wondering if there are any indicators to be ...   \n",
       "\n",
       "                                                                nouns  \\\n",
       "author                                                                  \n",
       "----The_Truth-----  {'wonder': 1, 'indicator': 1, 'witching': 1, '...   \n",
       "\n",
       "                                                           adjectives  \\\n",
       "author                                                                  \n",
       "----The_Truth-----  {'tsla': 1, 'witchy': 1, 'upward': 1, 'otm': 1...   \n",
       "\n",
       "                                                                verbs  \\\n",
       "author                                                                  \n",
       "----The_Truth-----  {'confirm': 1, 'take': 1, 'point': 1, 'come': ...   \n",
       "\n",
       "                                          pronouns symbols  \\\n",
       "author                                                       \n",
       "----The_Truth-----  {'monday': 2, 'amp;#x200b': 1}      {}   \n",
       "\n",
       "                                   numbers  \\\n",
       "author                                       \n",
       "----The_Truth-----  {'420.69': 1, '25': 1}   \n",
       "\n",
       "                                                                  pos  \\\n",
       "author                                                                  \n",
       "----The_Truth-----  {'ADJ': 14, 'NUM': 2, 'VERB': 17, 'PRON': 15, ...   \n",
       "\n",
       "                                                              pos_tag  \\\n",
       "author                                                                  \n",
       "----The_Truth-----  {'JJ': 14, 'CD': 2, 'VB': 22, 'NN': 35, ',': 3...   \n",
       "\n",
       "                                                         NER org  polarity  \\\n",
       "author                                                                       \n",
       "----The_Truth-----  {'CARDINAL': 1, 'DATE': 3, 'PERCENT': 1}  {}   0.15452   \n",
       "\n",
       "                                                                  bow  \\\n",
       "author                                                                  \n",
       "----The_Truth-----  {0: 1, 1: 1, 2: 1, 3: 3, 4: 1, 5: 1, 6: 1, 7: ...   \n",
       "\n",
       "                                                           lemma_text  \\\n",
       "author                                                                  \n",
       "----The_Truth-----  tsla 420.69 confirm something , something , so...   \n",
       "\n",
       "                        tickers  \n",
       "author                           \n",
       "----The_Truth-----  {'TSLA': 1}  "
      ]
     },
     "execution_count": 196,
     "metadata": {},
     "output_type": "execute_result"
    }
   ],
   "source": [
    "wsb_common_users_groupdata.head(1)"
   ]
  },
  {
   "cell_type": "markdown",
   "metadata": {},
   "source": [
    "## Combine features : Part of Speech, Bag of Words, Sentiment, Tickers"
   ]
  },
  {
   "cell_type": "code",
   "execution_count": 197,
   "metadata": {},
   "outputs": [],
   "source": [
    "wsb =pd.read_csv('data/wsb_common_users_groupdata_title_selftext.csv',sep=';')\n",
    "stocks =pd.read_csv('data/stocks_common_users_groupdata_title_selftext.csv',sep=';')\n",
    "investing =pd.read_csv('data/investing_common_users_groupdata_title_selftext.csv',sep=';')"
   ]
  },
  {
   "cell_type": "code",
   "execution_count": 198,
   "metadata": {},
   "outputs": [
    {
     "data": {
      "text/html": [
       "<div>\n",
       "<style scoped>\n",
       "    .dataframe tbody tr th:only-of-type {\n",
       "        vertical-align: middle;\n",
       "    }\n",
       "\n",
       "    .dataframe tbody tr th {\n",
       "        vertical-align: top;\n",
       "    }\n",
       "\n",
       "    .dataframe thead th {\n",
       "        text-align: right;\n",
       "    }\n",
       "</style>\n",
       "<table border=\"1\" class=\"dataframe\">\n",
       "  <thead>\n",
       "    <tr style=\"text-align: right;\">\n",
       "      <th></th>\n",
       "      <th>id</th>\n",
       "      <th>title</th>\n",
       "      <th>selftext</th>\n",
       "      <th>nouns</th>\n",
       "      <th>adjectives</th>\n",
       "      <th>verbs</th>\n",
       "      <th>pronouns</th>\n",
       "      <th>symbols</th>\n",
       "      <th>numbers</th>\n",
       "      <th>pos</th>\n",
       "      <th>pos_tag</th>\n",
       "      <th>NER</th>\n",
       "      <th>org</th>\n",
       "      <th>polarity</th>\n",
       "      <th>bow</th>\n",
       "      <th>lemma_text</th>\n",
       "      <th>tickers</th>\n",
       "    </tr>\n",
       "  </thead>\n",
       "  <tbody>\n",
       "    <tr>\n",
       "      <th>0</th>\n",
       "      <td>2</td>\n",
       "      <td>TSLA 420.69 CONFIRMED Something, something, so...</td>\n",
       "      <td>Wondering if there are any indicators to be ...</td>\n",
       "      <td>{'wonder': 1, 'indicator': 1, 'witching': 1, '...</td>\n",
       "      <td>{'tsla': 1, 'witchy': 1, 'upward': 1, 'otm': 1...</td>\n",
       "      <td>{'confirm': 1, 'take': 1, 'point': 1, 'come': ...</td>\n",
       "      <td>{'monday': 2, 'amp;#x200b': 1}</td>\n",
       "      <td>{}</td>\n",
       "      <td>{'420.69': 1, '25': 1}</td>\n",
       "      <td>{'ADJ': 14, 'NUM': 2, 'VERB': 17, 'PRON': 15, ...</td>\n",
       "      <td>{'JJ': 14, 'CD': 2, 'VB': 22, 'NN': 35, ',': 3...</td>\n",
       "      <td>{'CARDINAL': 1, 'DATE': 3, 'PERCENT': 1}</td>\n",
       "      <td>{}</td>\n",
       "      <td>0.15452</td>\n",
       "      <td>defaultdict(&lt;class 'int'&gt;, {0: 1, 1: 1, 2: 1, ...</td>\n",
       "      <td>tsla 420.69 confirm something , something , so...</td>\n",
       "      <td>{'TSLA': 1}</td>\n",
       "    </tr>\n",
       "  </tbody>\n",
       "</table>\n",
       "</div>"
      ],
      "text/plain": [
       "   id                                              title  \\\n",
       "0   2  TSLA 420.69 CONFIRMED Something, something, so...   \n",
       "\n",
       "                                            selftext  \\\n",
       "0    Wondering if there are any indicators to be ...   \n",
       "\n",
       "                                               nouns  \\\n",
       "0  {'wonder': 1, 'indicator': 1, 'witching': 1, '...   \n",
       "\n",
       "                                          adjectives  \\\n",
       "0  {'tsla': 1, 'witchy': 1, 'upward': 1, 'otm': 1...   \n",
       "\n",
       "                                               verbs  \\\n",
       "0  {'confirm': 1, 'take': 1, 'point': 1, 'come': ...   \n",
       "\n",
       "                         pronouns symbols                 numbers  \\\n",
       "0  {'monday': 2, 'amp;#x200b': 1}      {}  {'420.69': 1, '25': 1}   \n",
       "\n",
       "                                                 pos  \\\n",
       "0  {'ADJ': 14, 'NUM': 2, 'VERB': 17, 'PRON': 15, ...   \n",
       "\n",
       "                                             pos_tag  \\\n",
       "0  {'JJ': 14, 'CD': 2, 'VB': 22, 'NN': 35, ',': 3...   \n",
       "\n",
       "                                        NER org  polarity  \\\n",
       "0  {'CARDINAL': 1, 'DATE': 3, 'PERCENT': 1}  {}   0.15452   \n",
       "\n",
       "                                                 bow  \\\n",
       "0  defaultdict(<class 'int'>, {0: 1, 1: 1, 2: 1, ...   \n",
       "\n",
       "                                          lemma_text      tickers  \n",
       "0  tsla 420.69 confirm something , something , so...  {'TSLA': 1}  "
      ]
     },
     "execution_count": 198,
     "metadata": {},
     "output_type": "execute_result"
    }
   ],
   "source": [
    "wsb.head(1)"
   ]
  },
  {
   "cell_type": "code",
   "execution_count": 199,
   "metadata": {},
   "outputs": [],
   "source": [
    "from collections import defaultdict\n",
    "import re"
   ]
  },
  {
   "cell_type": "code",
   "execution_count": 200,
   "metadata": {},
   "outputs": [],
   "source": [
    "def merge_dicts(merged,mergedfrom):\n",
    "    for k,v in mergedfrom.items():\n",
    "        if k in merged:\n",
    "            merged[k] += v\n",
    "        else:\n",
    "            merged[k] = v\n",
    "      \n",
    "    return merged"
   ]
  },
  {
   "cell_type": "code",
   "execution_count": 201,
   "metadata": {},
   "outputs": [],
   "source": [
    "from ast import literal_eval\n",
    "def merge_dict_column(dict_list,bow=False,total_posts=1):\n",
    "    #print(total_posts)\n",
    "    global_dict = {}\n",
    "    for dc in dict_list:\n",
    "        if bow:\n",
    "            dc = dict(eval(re.sub(r\"<class '(\\w+)'>\", r'\\1', dc)))\n",
    "        else:\n",
    "            dc = literal_eval(dc)\n",
    "        global_dict = merge_dicts(global_dict,dc)\n",
    "    global_dict = {k: (v / total_posts)*100 for k, v in global_dict.items()}\n",
    "    return sorted(global_dict.items(), key=lambda item: item[1], reverse = True)"
   ]
  },
  {
   "cell_type": "code",
   "execution_count": 202,
   "metadata": {},
   "outputs": [],
   "source": [
    "\n",
    "# combine all features as a one row i.e. add all tickers, Pos tags etc\n",
    "def combine_features(df):\n",
    "    posts_total = df['id'].sum()\n",
    "    polarity = df['polarity'].sum() / posts_total   \n",
    "    nouns= merge_dict_column(df['nouns'].tolist(),False,posts_total)\n",
    "    #print(nouns)\n",
    "    #return\n",
    "    verbs= merge_dict_column(df['verbs'].tolist(),False,posts_total)\n",
    "    adjectives= merge_dict_column(df['adjectives'].tolist(),False,posts_total)\n",
    "    pronouns= merge_dict_column(df['pronouns'].tolist(),False,posts_total)\n",
    "    symbols= merge_dict_column(df['symbols'].tolist(),False,posts_total)\n",
    "    numbers= merge_dict_column(df['numbers'].tolist(),False,posts_total)\n",
    "    pos= merge_dict_column(df['pos'].tolist(),False,posts_total)\n",
    "    pos_tag= merge_dict_column(df['pos_tag'].tolist(),False,posts_total)\n",
    "    NER= merge_dict_column(df['NER'].tolist(),False,posts_total)\n",
    "    org= merge_dict_column(df['org'].tolist(),False,posts_total)\n",
    "    bow= merge_dict_column(df['bow'].tolist(),True,posts_total)\n",
    "    tickers= merge_dict_column(df['tickers'].tolist(),False,posts_total)\n",
    "    \n",
    "    new_df = pd.DataFrame([[posts_total,polarity,nouns,adjectives,verbs,pronouns,symbols,numbers,pos,pos_tag,NER,org,bow,tickers]], columns = ['posts_total','polarity',\"nouns\",\"adjectives\",\"verbs\",\"pronouns\",\"symbols\",'numbers','pos','pos_tag','NER','org','bow','tickers'])\n",
    "    return new_df"
   ]
  },
  {
   "cell_type": "code",
   "execution_count": 203,
   "metadata": {},
   "outputs": [],
   "source": [
    "wsb_combined = combine_features(wsb)"
   ]
  },
  {
   "cell_type": "code",
   "execution_count": 204,
   "metadata": {},
   "outputs": [
    {
     "data": {
      "text/html": [
       "<div>\n",
       "<style scoped>\n",
       "    .dataframe tbody tr th:only-of-type {\n",
       "        vertical-align: middle;\n",
       "    }\n",
       "\n",
       "    .dataframe tbody tr th {\n",
       "        vertical-align: top;\n",
       "    }\n",
       "\n",
       "    .dataframe thead th {\n",
       "        text-align: right;\n",
       "    }\n",
       "</style>\n",
       "<table border=\"1\" class=\"dataframe\">\n",
       "  <thead>\n",
       "    <tr style=\"text-align: right;\">\n",
       "      <th></th>\n",
       "      <th>posts_total</th>\n",
       "      <th>polarity</th>\n",
       "      <th>nouns</th>\n",
       "      <th>adjectives</th>\n",
       "      <th>verbs</th>\n",
       "      <th>pronouns</th>\n",
       "      <th>symbols</th>\n",
       "      <th>numbers</th>\n",
       "      <th>pos</th>\n",
       "      <th>pos_tag</th>\n",
       "      <th>NER</th>\n",
       "      <th>org</th>\n",
       "      <th>bow</th>\n",
       "      <th>tickers</th>\n",
       "    </tr>\n",
       "  </thead>\n",
       "  <tbody>\n",
       "    <tr>\n",
       "      <th>0</th>\n",
       "      <td>64631</td>\n",
       "      <td>0.005659</td>\n",
       "      <td>[(%, 28.102613297024646), (stock, 27.754483142...</td>\n",
       "      <td>[(short, 14.409493896117961), (good, 12.142779...</td>\n",
       "      <td>[(be, 54.01123299964413), (have, 28.8669523912...</td>\n",
       "      <td>[(🚀, 27.418730949544333), (amp;#x200b, 8.74348...</td>\n",
       "      <td>[(/, 73.93046680385574), ($, 49.70215531246615...</td>\n",
       "      <td>[(one, 8.502111989602511), (million, 6.5247327...</td>\n",
       "      <td>[(NOUN, 1515.4910182420201), (PUNCT, 998.70340...</td>\n",
       "      <td>[(NN, 1489.2652132877413), (IN, 629.5616654546...</td>\n",
       "      <td>[(DATE, 83.68120561340533), (CARDINAL, 60.9831...</td>\n",
       "      <td>[(🚀, 20.996116414723584), (weekly](https://www...</td>\n",
       "      <td>[(15, 241.77871300150082), (3, 196.67497021553...</td>\n",
       "      <td>[(GME, 1.9417926382076713), (AMC, 0.7519611332...</td>\n",
       "    </tr>\n",
       "  </tbody>\n",
       "</table>\n",
       "</div>"
      ],
      "text/plain": [
       "   posts_total  polarity                                              nouns  \\\n",
       "0        64631  0.005659  [(%, 28.102613297024646), (stock, 27.754483142...   \n",
       "\n",
       "                                          adjectives  \\\n",
       "0  [(short, 14.409493896117961), (good, 12.142779...   \n",
       "\n",
       "                                               verbs  \\\n",
       "0  [(be, 54.01123299964413), (have, 28.8669523912...   \n",
       "\n",
       "                                            pronouns  \\\n",
       "0  [(🚀, 27.418730949544333), (amp;#x200b, 8.74348...   \n",
       "\n",
       "                                             symbols  \\\n",
       "0  [(/, 73.93046680385574), ($, 49.70215531246615...   \n",
       "\n",
       "                                             numbers  \\\n",
       "0  [(one, 8.502111989602511), (million, 6.5247327...   \n",
       "\n",
       "                                                 pos  \\\n",
       "0  [(NOUN, 1515.4910182420201), (PUNCT, 998.70340...   \n",
       "\n",
       "                                             pos_tag  \\\n",
       "0  [(NN, 1489.2652132877413), (IN, 629.5616654546...   \n",
       "\n",
       "                                                 NER  \\\n",
       "0  [(DATE, 83.68120561340533), (CARDINAL, 60.9831...   \n",
       "\n",
       "                                                 org  \\\n",
       "0  [(🚀, 20.996116414723584), (weekly](https://www...   \n",
       "\n",
       "                                                 bow  \\\n",
       "0  [(15, 241.77871300150082), (3, 196.67497021553...   \n",
       "\n",
       "                                             tickers  \n",
       "0  [(GME, 1.9417926382076713), (AMC, 0.7519611332...  "
      ]
     },
     "execution_count": 204,
     "metadata": {},
     "output_type": "execute_result"
    }
   ],
   "source": [
    "wsb_combined"
   ]
  },
  {
   "cell_type": "code",
   "execution_count": 205,
   "metadata": {},
   "outputs": [
    {
     "data": {
      "text/plain": [
       "[('GME', 1.9417926382076713),\n",
       " ('AMC', 0.7519611332023333),\n",
       " ('TSLA', 0.6452012192291624),\n",
       " ('PLTR', 0.5198743636954403),\n",
       " ('BB', 0.4517955779734183),\n",
       " ('NIO', 0.329563212699788),\n",
       " ('RH', 0.30480729061905276),\n",
       " ('AMD', 0.23053952437684702),\n",
       " ('SPCE', 0.23053952437684702),\n",
       " ('NOK', 0.21970880846652532)]"
      ]
     },
     "execution_count": 205,
     "metadata": {},
     "output_type": "execute_result"
    }
   ],
   "source": [
    "wsb_combined['tickers'].tolist()[0][:10]"
   ]
  },
  {
   "cell_type": "code",
   "execution_count": 206,
   "metadata": {},
   "outputs": [
    {
     "data": {
      "text/plain": [
       "[(15, 241.77871300150082),\n",
       " (3, 196.67497021553123),\n",
       " (134, 128.1211802385852),\n",
       " (28, 122.76307035323606),\n",
       " (353, 82.51458278535068),\n",
       " (73, 75.85369250050286),\n",
       " (75, 66.78528879330352),\n",
       " (261, 53.06122448979592),\n",
       " (489, 45.80000309449026),\n",
       " (27, 41.82203586514211)]"
      ]
     },
     "execution_count": 206,
     "metadata": {},
     "output_type": "execute_result"
    }
   ],
   "source": [
    "wsb_combined['bow'].tolist()[0][:10]"
   ]
  },
  {
   "cell_type": "code",
   "execution_count": 207,
   "metadata": {},
   "outputs": [
    {
     "data": {
      "text/plain": [
       "[('🚀', 20.996116414723584),\n",
       " ('weekly](https://www.reddit.com', 2.4632142470331573),\n",
       " ('sec', 1.318252850799152),\n",
       " ('fed', 1.282666212808095),\n",
       " ('fda', 0.7380359270319197),\n",
       " ('cnbc', 0.6204452971484272),\n",
       " ('nyse', 0.4780987451841996),\n",
       " ('treasury', 0.31873249678946636),\n",
       " ('congress', 0.30790178087914466),\n",
       " ('q3', 0.2800513685383175),\n",
       " ('max', 0.2800513685383175),\n",
       " ('microsoft', 0.25684269158762824),\n",
       " ('ford', 0.2552954464575823),\n",
       " ('webp&amp;s', 0.2552954464575823),\n",
       " ('intel', 0.24137024028716872),\n",
       " ('nok', 0.2382757500270768),\n",
       " ('toyota', 0.19031115099565224),\n",
       " ('etfs', 0.1686497191750089),\n",
       " ('senate', 0.16400798378487103),\n",
       " ('boeing', 0.14698828735436553)]"
      ]
     },
     "execution_count": 207,
     "metadata": {},
     "output_type": "execute_result"
    }
   ],
   "source": [
    "wsb_combined['org'].tolist()[0][:20]"
   ]
  },
  {
   "cell_type": "code",
   "execution_count": 208,
   "metadata": {},
   "outputs": [],
   "source": [
    "stocks_all = combine_features(stocks)"
   ]
  },
  {
   "cell_type": "code",
   "execution_count": 209,
   "metadata": {},
   "outputs": [
    {
     "data": {
      "text/html": [
       "<div>\n",
       "<style scoped>\n",
       "    .dataframe tbody tr th:only-of-type {\n",
       "        vertical-align: middle;\n",
       "    }\n",
       "\n",
       "    .dataframe tbody tr th {\n",
       "        vertical-align: top;\n",
       "    }\n",
       "\n",
       "    .dataframe thead th {\n",
       "        text-align: right;\n",
       "    }\n",
       "</style>\n",
       "<table border=\"1\" class=\"dataframe\">\n",
       "  <thead>\n",
       "    <tr style=\"text-align: right;\">\n",
       "      <th></th>\n",
       "      <th>posts_total</th>\n",
       "      <th>polarity</th>\n",
       "      <th>nouns</th>\n",
       "      <th>adjectives</th>\n",
       "      <th>verbs</th>\n",
       "      <th>pronouns</th>\n",
       "      <th>symbols</th>\n",
       "      <th>numbers</th>\n",
       "      <th>pos</th>\n",
       "      <th>pos_tag</th>\n",
       "      <th>NER</th>\n",
       "      <th>org</th>\n",
       "      <th>bow</th>\n",
       "      <th>tickers</th>\n",
       "    </tr>\n",
       "  </thead>\n",
       "  <tbody>\n",
       "    <tr>\n",
       "      <th>0</th>\n",
       "      <td>25451</td>\n",
       "      <td>0.019638</td>\n",
       "      <td>[(stock, 112.03489057404423), (%, 60.146949039...</td>\n",
       "      <td>[(good, 20.808612628187497), (more, 20.1799536...</td>\n",
       "      <td>[(be, 91.20663235236337), (have, 54.9840870692...</td>\n",
       "      <td>[(amp;#x200b, 10.050685631212918), (search?q, ...</td>\n",
       "      <td>[(/, 121.78303406545912), ($, 72.0600369337157...</td>\n",
       "      <td>[(one, 13.948371380299399), (million, 12.69105...</td>\n",
       "      <td>[(NOUN, 2681.3248988251935), (PUNCT, 1765.8245...</td>\n",
       "      <td>[(NN, 2654.712977879062), (IN, 1146.6897174963...</td>\n",
       "      <td>[(DATE, 155.7109740285254), (CARDINAL, 107.587...</td>\n",
       "      <td>[(fed, 1.9449137558445642), (nyse, 1.406624494...</td>\n",
       "      <td>[(22, 386.61742171231), (10, 356.2374759341479...</td>\n",
       "      <td>[(GME, 1.151231778712035), (TSLA, 0.8565478763...</td>\n",
       "    </tr>\n",
       "  </tbody>\n",
       "</table>\n",
       "</div>"
      ],
      "text/plain": [
       "   posts_total  polarity                                              nouns  \\\n",
       "0        25451  0.019638  [(stock, 112.03489057404423), (%, 60.146949039...   \n",
       "\n",
       "                                          adjectives  \\\n",
       "0  [(good, 20.808612628187497), (more, 20.1799536...   \n",
       "\n",
       "                                               verbs  \\\n",
       "0  [(be, 91.20663235236337), (have, 54.9840870692...   \n",
       "\n",
       "                                            pronouns  \\\n",
       "0  [(amp;#x200b, 10.050685631212918), (search?q, ...   \n",
       "\n",
       "                                             symbols  \\\n",
       "0  [(/, 121.78303406545912), ($, 72.0600369337157...   \n",
       "\n",
       "                                             numbers  \\\n",
       "0  [(one, 13.948371380299399), (million, 12.69105...   \n",
       "\n",
       "                                                 pos  \\\n",
       "0  [(NOUN, 2681.3248988251935), (PUNCT, 1765.8245...   \n",
       "\n",
       "                                             pos_tag  \\\n",
       "0  [(NN, 2654.712977879062), (IN, 1146.6897174963...   \n",
       "\n",
       "                                                 NER  \\\n",
       "0  [(DATE, 155.7109740285254), (CARDINAL, 107.587...   \n",
       "\n",
       "                                                 org  \\\n",
       "0  [(fed, 1.9449137558445642), (nyse, 1.406624494...   \n",
       "\n",
       "                                                 bow  \\\n",
       "0  [(22, 386.61742171231), (10, 356.2374759341479...   \n",
       "\n",
       "                                             tickers  \n",
       "0  [(GME, 1.151231778712035), (TSLA, 0.8565478763...  "
      ]
     },
     "execution_count": 209,
     "metadata": {},
     "output_type": "execute_result"
    }
   ],
   "source": [
    "stocks_all"
   ]
  },
  {
   "cell_type": "code",
   "execution_count": 210,
   "metadata": {},
   "outputs": [
    {
     "data": {
      "text/plain": [
       "[('GME', 1.151231778712035),\n",
       " ('TSLA', 0.8565478763113433),\n",
       " ('NIO', 0.691524890966956),\n",
       " ('AMD', 0.5893678048013831),\n",
       " ('AMC', 0.5500766178146241),\n",
       " ('AAPL', 0.5304310243212447),\n",
       " ('MSFT', 0.5068563121291894),\n",
       " ('PLTR', 0.4832815999371341),\n",
       " ('AMZN', 0.40077010726494045),\n",
       " ('BABA', 0.3693371576755334),\n",
       " ('AI', 0.3575498015795057),\n",
       " ('BLUE', 0.345762445483478),\n",
       " ('TD', 0.3221877332914227),\n",
       " ('UK', 0.3221877332914227),\n",
       " ('AIR', 0.3064712584967192),\n",
       " ('ROSE', 0.3064712584967192),\n",
       " ('PAYS', 0.3025421397980433),\n",
       " ('USA', 0.3025421397980433),\n",
       " ('DOW', 0.29468390240069153)]"
      ]
     },
     "execution_count": 210,
     "metadata": {},
     "output_type": "execute_result"
    }
   ],
   "source": [
    "stocks_all['tickers'].tolist()[0][:19]"
   ]
  },
  {
   "cell_type": "code",
   "execution_count": 211,
   "metadata": {},
   "outputs": [
    {
     "data": {
      "text/plain": [
       "[('fed', 1.9449137558445642),\n",
       " ('nyse', 1.4066244941259676),\n",
       " ('fundamentals](https://www.reddit.com', 1.386978900632588),\n",
       " ('sec', 1.1944520843974695),\n",
       " ('fda', 1.111940591725276),\n",
       " ('etfs', 0.9744214372716199),\n",
       " ('treasury', 0.8997681819967782),\n",
       " ('stocks.](https://www.reddit.com', 0.7701072649404738),\n",
       " ('microsoft', 0.7347451966523908),\n",
       " ('🚀', 0.6679501787749007),\n",
       " ('intel', 0.6208007543907901),\n",
       " ('ford', 0.5657930926093278),\n",
       " ('max', 0.5618639739106518),\n",
       " ('q3', 0.5147145495265412),\n",
       " ('congress', 0.4754233625397823),\n",
       " ('boeing', 0.42434481945699576),\n",
       " ('cnbc', 0.416486582059644),\n",
       " ('goldman sachs', 0.3889827511689128),\n",
       " ('toyota', 0.3536206828808298),\n",
       " ('sony', 0.33790420808612626),\n",
       " ('amazon', 0.3300459706887745),\n",
       " ('gm', 0.3300459706887745),\n",
       " ('morgan stanley', 0.31432949589407094),\n",
       " ('disney+', 0.3064712584967192),\n",
       " ('nasa', 0.2828965463046639),\n",
       " ('senate', 0.27503830890731207),\n",
       " ('ibm', 0.2671800715099603),\n",
       " ('mgm', 0.2357471219205532),\n",
       " ('mac', 0.18859769753644257),\n",
       " ('ebay', 0.1768103414404149)]"
      ]
     },
     "execution_count": 211,
     "metadata": {},
     "output_type": "execute_result"
    }
   ],
   "source": [
    "stocks_all['org'].tolist()[0][:30]"
   ]
  },
  {
   "cell_type": "code",
   "execution_count": 212,
   "metadata": {},
   "outputs": [],
   "source": [
    "investing_all =combine_features(investing)"
   ]
  },
  {
   "cell_type": "code",
   "execution_count": 213,
   "metadata": {},
   "outputs": [
    {
     "data": {
      "text/html": [
       "<div>\n",
       "<style scoped>\n",
       "    .dataframe tbody tr th:only-of-type {\n",
       "        vertical-align: middle;\n",
       "    }\n",
       "\n",
       "    .dataframe tbody tr th {\n",
       "        vertical-align: top;\n",
       "    }\n",
       "\n",
       "    .dataframe thead th {\n",
       "        text-align: right;\n",
       "    }\n",
       "</style>\n",
       "<table border=\"1\" class=\"dataframe\">\n",
       "  <thead>\n",
       "    <tr style=\"text-align: right;\">\n",
       "      <th></th>\n",
       "      <th>posts_total</th>\n",
       "      <th>polarity</th>\n",
       "      <th>nouns</th>\n",
       "      <th>adjectives</th>\n",
       "      <th>verbs</th>\n",
       "      <th>pronouns</th>\n",
       "      <th>symbols</th>\n",
       "      <th>numbers</th>\n",
       "      <th>pos</th>\n",
       "      <th>pos_tag</th>\n",
       "      <th>NER</th>\n",
       "      <th>org</th>\n",
       "      <th>bow</th>\n",
       "      <th>tickers</th>\n",
       "    </tr>\n",
       "  </thead>\n",
       "  <tbody>\n",
       "    <tr>\n",
       "      <th>0</th>\n",
       "      <td>21520</td>\n",
       "      <td>0.023621</td>\n",
       "      <td>[(%, 55.882899628252794), (stock, 53.271375464...</td>\n",
       "      <td>[(other, 31.579925650557623), (financial, 23.6...</td>\n",
       "      <td>[(be, 85.18122676579925), (have, 60.7295539033...</td>\n",
       "      <td>[(amp;#x200b, 8.684944237918216), (., 7.156133...</td>\n",
       "      <td>[($, 68.317843866171), (/, 52.90892193308551),...</td>\n",
       "      <td>[(one, 12.58364312267658), (100, 10.4786245353...</td>\n",
       "      <td>[(NOUN, 2524.32156133829), (PUNCT, 1642.081784...</td>\n",
       "      <td>[(NN, 2513.0157992565055), (IN, 1065.120817843...</td>\n",
       "      <td>[(DATE, 136.02230483271376), (CARDINAL, 84.196...</td>\n",
       "      <td>[(fed, 2.6347583643122676), (etfs, 1.305762081...</td>\n",
       "      <td>[(3, 363.95910780669146), (1, 310.455390334572...</td>\n",
       "      <td>[(GME, 0.7899628252788103), (TSLA, 0.776022304...</td>\n",
       "    </tr>\n",
       "  </tbody>\n",
       "</table>\n",
       "</div>"
      ],
      "text/plain": [
       "   posts_total  polarity                                              nouns  \\\n",
       "0        21520  0.023621  [(%, 55.882899628252794), (stock, 53.271375464...   \n",
       "\n",
       "                                          adjectives  \\\n",
       "0  [(other, 31.579925650557623), (financial, 23.6...   \n",
       "\n",
       "                                               verbs  \\\n",
       "0  [(be, 85.18122676579925), (have, 60.7295539033...   \n",
       "\n",
       "                                            pronouns  \\\n",
       "0  [(amp;#x200b, 8.684944237918216), (., 7.156133...   \n",
       "\n",
       "                                             symbols  \\\n",
       "0  [($, 68.317843866171), (/, 52.90892193308551),...   \n",
       "\n",
       "                                             numbers  \\\n",
       "0  [(one, 12.58364312267658), (100, 10.4786245353...   \n",
       "\n",
       "                                                 pos  \\\n",
       "0  [(NOUN, 2524.32156133829), (PUNCT, 1642.081784...   \n",
       "\n",
       "                                             pos_tag  \\\n",
       "0  [(NN, 2513.0157992565055), (IN, 1065.120817843...   \n",
       "\n",
       "                                                 NER  \\\n",
       "0  [(DATE, 136.02230483271376), (CARDINAL, 84.196...   \n",
       "\n",
       "                                                 org  \\\n",
       "0  [(fed, 2.6347583643122676), (etfs, 1.305762081...   \n",
       "\n",
       "                                                 bow  \\\n",
       "0  [(3, 363.95910780669146), (1, 310.455390334572...   \n",
       "\n",
       "                                             tickers  \n",
       "0  [(GME, 0.7899628252788103), (TSLA, 0.776022304...  "
      ]
     },
     "execution_count": 213,
     "metadata": {},
     "output_type": "execute_result"
    }
   ],
   "source": [
    "investing_all"
   ]
  },
  {
   "cell_type": "code",
   "execution_count": 214,
   "metadata": {},
   "outputs": [
    {
     "data": {
      "text/plain": [
       "[136.02230483271376,\n",
       " 84.19609665427508,\n",
       " 56.05483271375464,\n",
       " 52.20724907063197,\n",
       " 40.16263940520446,\n",
       " 31.2453531598513,\n",
       " 20.99442379182156,\n",
       " 13.308550185873605,\n",
       " 10.353159851301115,\n",
       " 3.9126394052044606,\n",
       " 3.0947955390334574,\n",
       " 2.9600371747211898,\n",
       " 2.6579925650557623,\n",
       " 0.3345724907063197,\n",
       " 0.2369888475836431,\n",
       " 0.16263940520446096,\n",
       " 0.11152416356877323,\n",
       " 0.10687732342007435]"
      ]
     },
     "execution_count": 214,
     "metadata": {},
     "output_type": "execute_result"
    }
   ],
   "source": [
    "list(list(zip(*investing_all['NER'][0][:]))[1])"
   ]
  },
  {
   "cell_type": "code",
   "execution_count": 215,
   "metadata": {},
   "outputs": [
    {
     "data": {
      "text/plain": [
       "[('GME', 0.7899628252788103),\n",
       " ('TSLA', 0.7760223048327137),\n",
       " ('BLUE', 0.4228624535315985),\n",
       " ('MSFT', 0.40427509293680297),\n",
       " ('UK', 0.40427509293680297),\n",
       " ('AMD', 0.3996282527881041),\n",
       " ('DOW', 0.3996282527881041),\n",
       " ('NIO', 0.3996282527881041),\n",
       " ('AAPL', 0.39498141263940517),\n",
       " ('APPS', 0.35315985130111527),\n",
       " ('TD', 0.3392193308550186),\n",
       " ('AI', 0.3345724907063197),\n",
       " ('EARN', 0.32063197026022305),\n",
       " ('PAYS', 0.32063197026022305),\n",
       " ('USA', 0.31133828996282525),\n",
       " ('JOBS', 0.31133828996282525),\n",
       " ('ROSE', 0.3020446096654275),\n",
       " ('AMC', 0.3020446096654275),\n",
       " ('AMZN', 0.3020446096654275),\n",
       " ('SUM', 0.29275092936802977),\n",
       " ('AIR', 0.29275092936802977),\n",
       " ('PATH', 0.28345724907063197),\n",
       " ('PLTR', 0.2741635687732342),\n",
       " ('BOOM', 0.2695167286245353),\n",
       " ('LAW', 0.2648698884758364),\n",
       " ('SELF', 0.26022304832713755),\n",
       " ('GDP', 0.2555762081784387),\n",
       " ('RENT', 0.2555762081784387),\n",
       " ('MASS', 0.2509293680297398),\n",
       " ('SPOT', 0.24628252788104088)]"
      ]
     },
     "execution_count": 215,
     "metadata": {},
     "output_type": "execute_result"
    }
   ],
   "source": [
    "investing_all['tickers'].tolist()[0][:30]"
   ]
  },
  {
   "cell_type": "code",
   "execution_count": 216,
   "metadata": {},
   "outputs": [
    {
     "data": {
      "text/plain": [
       "[('GME', 0.7899628252788103),\n",
       " ('TSLA', 0.7760223048327137),\n",
       " ('MSFT', 0.40427509293680297),\n",
       " ('AMD', 0.3996282527881041),\n",
       " ('NIO', 0.3996282527881041),\n",
       " ('AAPL', 0.39498141263940517),\n",
       " ('AMC', 0.3020446096654275),\n",
       " ('AMZN', 0.3020446096654275),\n",
       " ('PLTR', 0.2741635687732342),\n",
       " ('SPOT', 0.24628252788104088),\n",
       " ('RH', 0.19981412639405205),\n",
       " ('BB', 0.17193308550185873),\n",
       " ('SPCE', 0.16728624535315986),\n",
       " ('NOK', 0.11617100371747212),\n",
       " ('GAME', 0.004646840148698885)]"
      ]
     },
     "execution_count": 216,
     "metadata": {},
     "output_type": "execute_result"
    }
   ],
   "source": [
    "[item for item in investing_all['tickers'].tolist()[0][:] if item[0] in ['GME', 'AMC', 'TSLA', 'PLTR', 'GAME', 'BB', 'NIO', 'RH', 'SPCE', 'AMD', 'AAPL', 'NOK', 'MSFT', 'SPOT', 'AMZN']]"
   ]
  },
  {
   "cell_type": "code",
   "execution_count": 217,
   "metadata": {},
   "outputs": [
    {
     "data": {
      "text/plain": [
       "[('GME', 1.151231778712035),\n",
       " ('TSLA', 0.8565478763113433),\n",
       " ('NIO', 0.691524890966956),\n",
       " ('AMD', 0.5893678048013831),\n",
       " ('AMC', 0.5500766178146241),\n",
       " ('AAPL', 0.5304310243212447),\n",
       " ('MSFT', 0.5068563121291894),\n",
       " ('PLTR', 0.4832815999371341),\n",
       " ('AMZN', 0.40077010726494045),\n",
       " ('BABA', 0.3693371576755334),\n",
       " ('AI', 0.3575498015795057),\n",
       " ('BLUE', 0.345762445483478),\n",
       " ('TD', 0.3221877332914227),\n",
       " ('UK', 0.3221877332914227),\n",
       " ('AIR', 0.3064712584967192),\n",
       " ('ROSE', 0.3064712584967192),\n",
       " ('PAYS', 0.3025421397980433),\n",
       " ('USA', 0.3025421397980433),\n",
       " ('DOW', 0.29468390240069153),\n",
       " ('SPCE', 0.29468390240069153),\n",
       " ('APPS', 0.29075478370201563),\n",
       " ('SPOT', 0.29075478370201563),\n",
       " ('UBER', 0.27503830890731207),\n",
       " ('PLUG', 0.2632509528112844),\n",
       " ('FORD', 0.2632509528112844)]"
      ]
     },
     "execution_count": 217,
     "metadata": {},
     "output_type": "execute_result"
    }
   ],
   "source": [
    "stocks_all['tickers'].tolist()[0][:25]"
   ]
  },
  {
   "cell_type": "code",
   "execution_count": 218,
   "metadata": {},
   "outputs": [
    {
     "data": {
      "text/plain": [
       "[('GME', 1.151231778712035),\n",
       " ('TSLA', 0.8565478763113433),\n",
       " ('NIO', 0.691524890966956),\n",
       " ('AMD', 0.5893678048013831),\n",
       " ('AMC', 0.5500766178146241),\n",
       " ('AAPL', 0.5304310243212447),\n",
       " ('MSFT', 0.5068563121291894),\n",
       " ('PLTR', 0.4832815999371341),\n",
       " ('AMZN', 0.40077010726494045),\n",
       " ('SPCE', 0.29468390240069153),\n",
       " ('SPOT', 0.29075478370201563),\n",
       " ('BB', 0.208243291029822),\n",
       " ('RH', 0.18859769753644257),\n",
       " ('NOK', 0.172881222741739),\n",
       " ('GAME', 0.003929118698675887)]"
      ]
     },
     "execution_count": 218,
     "metadata": {},
     "output_type": "execute_result"
    }
   ],
   "source": [
    "[item for item in stocks_all['tickers'].tolist()[0][:] if item[0] in ['GME', 'AMC', 'TSLA', 'PLTR', 'GAME', 'BB', 'NIO', 'RH', 'SPCE', 'AMD', 'AAPL', 'NOK', 'MSFT', 'SPOT', 'AMZN']]"
   ]
  },
  {
   "cell_type": "code",
   "execution_count": 219,
   "metadata": {},
   "outputs": [
    {
     "data": {
      "text/plain": [
       "[('GME', 1.9417926382076713),\n",
       " ('AMC', 0.7519611332023333),\n",
       " ('TSLA', 0.6452012192291624),\n",
       " ('PLTR', 0.5198743636954403),\n",
       " ('BB', 0.4517955779734183),\n",
       " ('NIO', 0.329563212699788),\n",
       " ('RH', 0.30480729061905276),\n",
       " ('AMD', 0.23053952437684702),\n",
       " ('SPCE', 0.23053952437684702),\n",
       " ('NOK', 0.21970880846652532),\n",
       " ('AAPL', 0.20268911203601986),\n",
       " ('DOW', 0.1825749253454225),\n",
       " ('SPOT', 0.17638594482523867),\n",
       " ('MSFT', 0.17638594482523867),\n",
       " ('AMZN', 0.1717442094351008)]"
      ]
     },
     "execution_count": 219,
     "metadata": {},
     "output_type": "execute_result"
    }
   ],
   "source": [
    "wsb_combined['tickers'].tolist()[0][:15]"
   ]
  },
  {
   "cell_type": "code",
   "execution_count": 220,
   "metadata": {},
   "outputs": [
    {
     "data": {
      "text/plain": [
       "['GME',\n",
       " 'AMC',\n",
       " 'TSLA',\n",
       " 'PLTR',\n",
       " 'BB',\n",
       " 'NIO',\n",
       " 'RH',\n",
       " 'AMD',\n",
       " 'SPCE',\n",
       " 'NOK',\n",
       " 'AAPL',\n",
       " 'DOW',\n",
       " 'SPOT',\n",
       " 'MSFT',\n",
       " 'AMZN']"
      ]
     },
     "execution_count": 220,
     "metadata": {},
     "output_type": "execute_result"
    }
   ],
   "source": [
    "list(list(zip(*wsb_combined['tickers'][0][:15]))[0])"
   ]
  },
  {
   "cell_type": "code",
   "execution_count": 221,
   "metadata": {},
   "outputs": [
    {
     "data": {
      "text/plain": [
       "[1515.4910182420201,\n",
       " 998.7034085810216,\n",
       " 688.2687874239916,\n",
       " 577.9316427101546,\n",
       " 490.7304544258947,\n",
       " 477.9270009747644,\n",
       " 442.7132490600486,\n",
       " 328.7369838003435,\n",
       " 316.6236016772137,\n",
       " 288.74688616917575,\n",
       " 201.7375562810416,\n",
       " 199.797310887964,\n",
       " 188.3399606999737,\n",
       " 163.88420417446736,\n",
       " 137.7233835156504,\n",
       " 119.96565115811298,\n",
       " 21.932199718401385,\n",
       " 20.62323033838251]"
      ]
     },
     "execution_count": 221,
     "metadata": {},
     "output_type": "execute_result"
    }
   ],
   "source": [
    "list(list(zip(*wsb_combined['pos'][0][:]))[1])"
   ]
  },
  {
   "cell_type": "code",
   "execution_count": 222,
   "metadata": {},
   "outputs": [
    {
     "data": {
      "text/plain": [
       "[('CUZ', 0.03717472118959108),\n",
       " ('DELL', 0.03717472118959108),\n",
       " ('SE', 0.03717472118959108),\n",
       " ('ROOT', 0.03717472118959108),\n",
       " ('WFC', 0.03717472118959108),\n",
       " ('AL', 0.03717472118959108),\n",
       " ('SOS', 0.03717472118959108),\n",
       " ('ABBV', 0.03717472118959108),\n",
       " ('HD', 0.03717472118959108),\n",
       " ('OPT', 0.03717472118959108)]"
      ]
     },
     "execution_count": 222,
     "metadata": {},
     "output_type": "execute_result"
    }
   ],
   "source": [
    "investing_all['tickers'].tolist()[0][250:260]"
   ]
  },
  {
   "cell_type": "code",
   "execution_count": 9,
   "metadata": {},
   "outputs": [],
   "source": [
    "def set_diff_operations(feature1_keys,feature2_keys,feature3_keys):\n",
    "    print(\"In WSB,Not in Stocks:\",list(set(feature1_keys) - set(feature2_keys)))\n",
    "    print(\"In WSB,Not in Investing:\",list(set(feature1_keys) - set(feature3_keys)))\n",
    "    print(\"Unique in WSB:\", (set(feature1_keys) - set(feature2_keys)) & (set(feature1_keys) - set(feature3_keys)))\n",
    "    print()\n",
    "    print(\"In Stocks,Not in WSB:\",list(set(feature2_keys) - set(feature1_keys)))\n",
    "    print(\"In Stocks,Not in Investing:\",list(set(feature2_keys) - set(feature3_keys)))\n",
    "    print(\"Unique in Stocks:\", (set(feature2_keys) - set(feature1_keys)) & (set(feature2_keys) - set(feature3_keys)))\n",
    "    print()\n",
    "    print(\"In Investing,Not in Stocks:\",list(set(feature3_keys) - set(feature2_keys)))\n",
    "    print(\"In Investing,Not in WSB:\",list(set(feature3_keys) - set(feature1_keys)))\n",
    "    print(\"Unique in Investing:\", (set(feature3_keys) - set(feature2_keys)) & (set(feature3_keys) - set(feature1_keys)))\n",
    "   "
   ]
  },
  {
   "cell_type": "code",
   "execution_count": 11,
   "metadata": {},
   "outputs": [
    {
     "name": "stdout",
     "output_type": "stream",
     "text": [
      "In WSB,Not in Stocks: [1, 3]\n",
      "In WSB,Not in Investing: [1, 2]\n",
      "Unique in WSB: {1}\n",
      "\n",
      "In Stocks,Not in WSB: []\n",
      "In Stocks,Not in Investing: [2]\n",
      "Unique in Stocks: set()\n",
      "\n",
      "In Investing,Not in Stocks: [3]\n",
      "In Investing,Not in WSB: []\n",
      "Unique in Investing: set()\n"
     ]
    }
   ],
   "source": [
    "set_diff_operations(set([1,2,3]),set([2]),set([3]))"
   ]
  },
  {
   "cell_type": "code",
   "execution_count": 224,
   "metadata": {},
   "outputs": [],
   "source": [
    "def plot_features(feature_name,feature1,feature2,feature3=[],from_=0,till_=10): #input parameters: list of tuples\n",
    "    #seperate feature_keys and feature_counts\n",
    "    feature1_keys= list(list(zip(*feature1[from_:till_]))[0])\n",
    "    feature1_count= list(list(zip(*feature1[from_:till_]))[1])\n",
    "    feature2_keys= list(list(zip(*feature2[from_:till_]))[0])\n",
    "    feature2_count= list(list(zip(*feature2[from_:till_]))[1])\n",
    "    if feature3:\n",
    "        feature3_keys= list(list(zip(*feature3[from_:till_]))[0])\n",
    "        feature3_count= list(list(zip(*feature3[from_:till_]))[1])\n",
    "    #print(feature_keys1,feature1_count)\n",
    "    #intersect and find common_feature_keys\n",
    "    common_feature_keys = list(set(feature1_keys) & set(feature2_keys) & set(feature3_keys))\n",
    "    set_diff_operations(feature1_keys,feature2_keys,feature3_keys)\n",
    "    count=[]\n",
    "    feature2_count=[]\n",
    "    feature3_count=[]\n",
    "    for feature in common_feature_keys:\n",
    "        feature1_count=[]\n",
    "        feature1_count.append(feature)\n",
    "        feature1_count.append([count for word,count in feature1 if word == feature][0])\n",
    "        feature1_count.append([count for word,count in feature2 if word == feature][0])\n",
    "        feature1_count.append([count for word,count in feature3 if word == feature][0])\n",
    "        count.append(feature1_count)\n",
    "    plot_df = pd.DataFrame(count, columns =[feature_name, 'WSB', 'Stocks','Investing'], dtype = int)\n",
    "     #plot\n",
    "    plot_df.plot(figsize=(13,6),kind='bar',x=feature_name)\n",
    "   "
   ]
  },
  {
   "cell_type": "code",
   "execution_count": null,
   "metadata": {},
   "outputs": [],
   "source": []
  },
  {
   "cell_type": "code",
   "execution_count": 225,
   "metadata": {},
   "outputs": [],
   "source": [
    "def plot_features_(feature_name,feature1,feature2,feature3=[]): #input parameters: list of tuples\n",
    "    #seperate feature_keys and feature_counts\n",
    "    feature1_keys= list(list(zip(*feature1))[0])\n",
    "    feature1_count= list(list(zip(*feature1))[1])\n",
    "    feature2_keys= list(list(zip(*feature2))[0])\n",
    "    feature2_count= list(list(zip(*feature2))[1])\n",
    "    if feature3:\n",
    "        feature3_keys= list(list(zip(*feature3))[0])\n",
    "        feature3_count= list(list(zip(*feature3))[1])\n",
    "    #print(feature_keys1,feature1_count)\n",
    "    #intersect and find common_feature_keys\n",
    "    common_feature_keys = list(set(feature1_keys) & set(feature2_keys) & set(feature3_keys))\n",
    "    set_diff_operations(feature1_keys,feature2_keys,feature3_keys)\n",
    "    count=[]\n",
    "    feature2_count=[]\n",
    "    feature3_count=[]\n",
    "    for feature in common_feature_keys:\n",
    "        feature1_count=[]\n",
    "        feature1_count.append(feature)\n",
    "        feature1_count.append([count for word,count in feature1 if word == feature][0])\n",
    "        feature1_count.append([count for word,count in feature2 if word == feature][0])\n",
    "        feature1_count.append([count for word,count in feature3 if word == feature][0])\n",
    "        count.append(feature1_count)\n",
    "    plot_df = pd.DataFrame(count, columns =[feature_name, 'WSB', 'Stocks','Investing'], dtype = int)\n",
    "     #plot\n",
    "    plot_df.plot(figsize=(13,6),kind='bar',x=feature_name)"
   ]
  },
  {
   "cell_type": "code",
   "execution_count": 226,
   "metadata": {},
   "outputs": [
    {
     "name": "stdout",
     "output_type": "stream",
     "text": [
      "In WSB,Not in Stocks: ['social', 'enough', 'weekly', 'common', 'whole', 'fucking', 'red', 'digital', 'entire', 'on&amp;t', 'tsla', 'new&amp;restrict_sr', 'quick', 'true', 'ready', 'wrong']\n",
      "In WSB,Not in Investing: ['social', 'enough', 'green', 'wrong', 'weekly', 'red', 'digital', 'entire', 'tsla', 'new&amp;restrict_sr', 'quick', 'true', 'whole', 'electric', 'fucking', 'meme', 'previous', 'ready', 'on&amp;t']\n",
      "Unique in WSB: {'social', 'enough', 'fucking', 'weekly', 'whole', 'red', 'wrong', 'digital', 'entire', 'tsla', 'new&amp;restrict_sr', 'quick', 'true', 'ready', 'on&amp;t'}\n",
      "\n",
      "In Stocks,Not in WSB: ['helpful', 'favorite', 'safe', 'fundamental', 'popular', 'individual', 'several', 'main', 'negative', 'attractive', 'technical', 'basic', 'neutral', 'certain', 'general', 'annual']\n",
      "In Stocks,Not in Investing: ['helpful', 'favorite', 'fundamental', 'popular', 'green', 'several', 'meme', 'main', 'attractive', 'technical', 'electric', 'neutral', 'certain', 'previous']\n",
      "Unique in Stocks: {'helpful', 'favorite', 'fundamental', 'popular', 'several', 'main', 'certain', 'attractive', 'neutral', 'technical'}\n",
      "\n",
      "In Investing,Not in Stocks: ['common', 'private', 'direct', 'aware', 'useful', 'specific', 'proper', 'interested', 'non', 'relevant', 'registered', 'personal', 'international', 'expensive']\n",
      "In Investing,Not in WSB: ['individual', 'private', 'direct', 'aware', 'useful', 'non', 'relevant', 'registered', 'personal', 'annual', 'specific', 'proper', 'interested', 'safe', 'negative', 'basic', 'international', 'general', 'expensive']\n",
      "Unique in Investing: {'private', 'direct', 'specific', 'aware', 'useful', 'proper', 'interested', 'non', 'relevant', 'registered', 'personal', 'international', 'expensive'}\n"
     ]
    },
    {
     "name": "stderr",
     "output_type": "stream",
     "text": [
      "C:\\Users\\96ank\\AppData\\Local\\Continuum\\anaconda3\\lib\\site-packages\\ipykernel_launcher.py:1: FutureWarning: Could not cast to int32, falling back to object. This behavior is deprecated. In a future version, when a dtype is passed to 'DataFrame', either all columns will be cast to that dtype, or a TypeError will be raised\n",
      "  \"\"\"Entry point for launching an IPython kernel.\n",
      "C:\\Users\\96ank\\AppData\\Local\\Continuum\\anaconda3\\lib\\site-packages\\pandas\\core\\frame.py:708: FutureWarning: In a future version, passing float-dtype values and an integer dtype to DataFrame will retain floating dtype if they cannot be cast losslessly (matching Series behavior). To retain the old behavior, use DataFrame(data).astype(dtype)\n",
      "  typ=manager,\n"
     ]
    },
    {
     "data": {
      "image/png": "[encoded data removed]",
      "text/plain": [
       "<Figure size 936x432 with 1 Axes>"
      ]
     },
     "metadata": {
      "needs_background": "light"
     },
     "output_type": "display_data"
    }
   ],
   "source": [
    "plot_features_('Adjectives',wsb_combined['adjectives'].tolist()[0][:100],stocks_all['adjectives'].tolist()[0][:100],investing_all['adjectives'].tolist()[0][:100])"
   ]
  },
  {
   "cell_type": "code",
   "execution_count": 227,
   "metadata": {},
   "outputs": [
    {
     "name": "stdout",
     "output_type": "stream",
     "text": [
      "In WSB,Not in Stocks: ['social', 'enough', 'whole', 'red', 'meme', 'common', 'close', 'digital', 'entire', 'tsla', 'chinese', 'true', 'quick', 'previous', 'ready', 'net', 'wrong', 'different']\n",
      "In WSB,Not in Investing: ['social', 'enough', 'green', 'wrong', 'red', 'digital', 'entire', 'tsla', 'true', 'quick', 'different', 'whole', 'old', 'electric', 'meme', 'similar', 'significant', 'ready', 'previous']\n",
      "Unique in WSB: {'social', 'enough', 'whole', 'meme', 'red', 'wrong', 'digital', 'entire', 'tsla', 'true', 'quick', 'ready', 'previous', 'different'}\n",
      "\n",
      "In Stocks,Not in WSB: ['helpful', 'favorite', 'safe', 'individual', 'popular', 'several', 'main', 'negative', 'certain', 'right', 'attractive', 'technical', 'basic', 'full', 'retail', 'neutral', 'general', 'annual']\n",
      "In Stocks,Not in Investing: ['helpful', 'favorite', 'safe', 'popular', 'green', 'old', 'several', 'main', 'similar', 'attractive', 'technical', 'basic', 'electric', 'neutral', 'certain', 'significant', 'general']\n",
      "Unique in Stocks: {'helpful', 'favorite', 'safe', 'popular', 'several', 'main', 'certain', 'attractive', 'basic', 'neutral', 'technical', 'general'}\n",
      "\n",
      "In Investing,Not in Stocks: ['able', '-', 'top', 'little', 'common', 'private', 'direct', 'close', 'sure', 'interested', 'chinese', 'important', 'non', 'average', 'open', 'international', 'net']\n",
      "In Investing,Not in WSB: ['able', '-', 'individual', 'private', 'full', 'top', 'direct', 'non', 'retail', 'open', 'annual', 'little', 'interested', 'important', 'average', 'right', 'negative', 'international', 'sure']\n",
      "Unique in Investing: {'able', 'top', 'little', 'private', 'direct', 'sure', 'interested', 'important', 'non', 'average', 'open', 'international', '-'}\n"
     ]
    },
    {
     "name": "stderr",
     "output_type": "stream",
     "text": [
      "C:\\Users\\96ank\\AppData\\Local\\Continuum\\anaconda3\\lib\\site-packages\\ipykernel_launcher.py:1: FutureWarning: Could not cast to int32, falling back to object. This behavior is deprecated. In a future version, when a dtype is passed to 'DataFrame', either all columns will be cast to that dtype, or a TypeError will be raised\n",
      "  \"\"\"Entry point for launching an IPython kernel.\n"
     ]
    },
    {
     "data": {
      "image/png": "[encoded data removed]",
      "text/plain": [
       "<Figure size 936x432 with 1 Axes>"
      ]
     },
     "metadata": {
      "needs_background": "light"
     },
     "output_type": "display_data"
    }
   ],
   "source": [
    "plot_features('Adjectives',wsb_combined['adjectives'].tolist()[0],stocks_all['adjectives'].tolist()[0],investing_all['adjectives'].tolist()[0],50,100)"
   ]
  },
  {
   "cell_type": "code",
   "execution_count": 228,
   "metadata": {},
   "outputs": [
    {
     "name": "stdout",
     "output_type": "stream",
     "text": [
      "In WSB,Not in Stocks: ['tell', 'call', 'read', 'hit']\n",
      "In WSB,Not in Investing: ['read', 'show', 'tell', 'call', 'add', 'hit']\n",
      "Unique in WSB: {'tell', 'call', 'read', 'hit'}\n",
      "\n",
      "In Stocks,Not in WSB: ['discuss', 'feel', 'run', 'learn']\n",
      "In Stocks,Not in Investing: ['show', 'run', 'learn', 'discuss', 'add']\n",
      "Unique in Stocks: {'discuss', 'run', 'learn'}\n",
      "\n",
      "In Investing,Not in Stocks: ['ask', 'consider', 'mind', 'employ', 'risk']\n",
      "In Investing,Not in WSB: ['feel', 'ask', 'consider', 'mind', 'employ', 'risk']\n",
      "Unique in Investing: {'ask', 'consider', 'mind', 'employ', 'risk'}\n"
     ]
    },
    {
     "name": "stderr",
     "output_type": "stream",
     "text": [
      "C:\\Users\\96ank\\AppData\\Local\\Continuum\\anaconda3\\lib\\site-packages\\ipykernel_launcher.py:1: FutureWarning: Could not cast to int32, falling back to object. This behavior is deprecated. In a future version, when a dtype is passed to 'DataFrame', either all columns will be cast to that dtype, or a TypeError will be raised\n",
      "  \"\"\"Entry point for launching an IPython kernel.\n"
     ]
    },
    {
     "data": {
      "image/png": "[encoded data removed]",
      "text/plain": [
       "<Figure size 936x432 with 1 Axes>"
      ]
     },
     "metadata": {
      "needs_background": "light"
     },
     "output_type": "display_data"
    }
   ],
   "source": [
    "plot_features('verbs',wsb_combined['verbs'].tolist()[0],stocks_all['verbs'].tolist()[0],investing_all['verbs'].tolist()[0],0,50)"
   ]
  },
  {
   "cell_type": "code",
   "execution_count": 229,
   "metadata": {},
   "outputs": [
    {
     "name": "stdout",
     "output_type": "stream",
     "text": [
      "In WSB,Not in Stocks: ['ape', 'search?sort', 'line', 'moon', 'robinhood', 'volume', 'part', 'comment', 'retard', 'thread', 'game', '=', 'hand', 'level', 'shit', 'wallstreetbets', 'squeeze', 'on&amp;q', 'move', 'dd', 'daily**](https://www.reddit.com', 'gme', 'tomorrow', 'top&amp;q', '💎']\n",
      "In WSB,Not in Investing: ['ape', 'search?sort', 'line', 'moon', 'robinhood', 'volume', 'part', 'comment', 'retard', 'game', '=', 'hand', 'amp', 'level', 'play', 'discussion', 'reason', 'margin', 'order', 'shit', 'wallstreetbets', 'squeeze', 'm', 'on&amp;q', '|', 'move', 'dd', 'daily**](https://www.reddit.com', 'gme', 'target', 'work', 'guy', 'r', 'earning', 'case', 'tomorrow', 'top&amp;q', '💎']\n",
      "Unique in WSB: {'ape', 'search?sort', 'line', 'moon', 'robinhood', 'volume', 'part', 'comment', 'retard', 'game', '=', 'hand', 'level', 'shit', 'wallstreetbets', 'squeeze', 'on&amp;q', 'move', 'dd', 'daily**](https://www.reddit.com', 'gme', 'tomorrow', 'top&amp;q', '💎'}\n",
      "\n",
      "In Stocks,Not in WSB: ['index', 'idea', 'sector', 'opinion', 'tech', 'analyst', 'result', 'return', 'trend', 'strategy', 'energy', 'buy', 'analysis', 'dividend', 'question', 'information', 'apple', 'ratio', 'etf', 'remove', 'portfolio', 'platform', 'example', 'new&amp;t', 'chart']\n",
      "In Stocks,Not in Investing: ['idea', 'analyst', 'result', 'trend', 'energy', 'amp', 'discussion', 'buy', 'analysis', 'reason', 'margin', 'order', 'm', 'apple', '|', 'target', 'work', 'platform', 'example', 'guy', 'r', 'earning', 'new&amp;t', 'chart', 'case', 'play']\n",
      "Unique in Stocks: {'idea', 'example', 'energy', 'trend', 'apple', 'analyst', 'buy', 'analysis', 'result', 'new&amp;t', 'chart', 'platform'}\n",
      "\n",
      "In Investing,Not in Stocks: ['rep', 'asset', 'saving', 'exposure', 'help', 'thread', 'house', 'dollar', 'answer', 'objective', '20yrs', 'advice', 'car', 'follow', 'income', 'tolerance', 'decision', 'retirement', 'situation', 'bond', 'blackjack', 'holding', 'research', 'starting', 'redditor', 'investing']\n",
      "In Investing,Not in WSB: ['index', 'rep', 'asset', 'sector', 'saving', 'opinion', 'exposure', 'tech', 'help', 'house', 'return', 'strategy', 'dollar', 'answer', 'dividend', 'question', 'information', 'objective', '20yrs', 'advice', 'car', 'follow', 'income', 'tolerance', 'ratio', 'decision', 'retirement', 'etf', 'remove', 'portfolio', 'situation', 'bond', 'blackjack', 'holding', 'research', 'starting', 'redditor', 'investing']\n",
      "Unique in Investing: {'rep', 'asset', 'saving', 'exposure', 'help', 'house', 'dollar', 'answer', 'objective', '20yrs', 'advice', 'car', 'follow', 'income', 'tolerance', 'decision', 'retirement', 'situation', 'bond', 'blackjack', 'holding', 'research', 'starting', 'redditor', 'investing'}\n"
     ]
    },
    {
     "name": "stderr",
     "output_type": "stream",
     "text": [
      "C:\\Users\\96ank\\AppData\\Local\\Continuum\\anaconda3\\lib\\site-packages\\ipykernel_launcher.py:1: FutureWarning: Could not cast to int32, falling back to object. This behavior is deprecated. In a future version, when a dtype is passed to 'DataFrame', either all columns will be cast to that dtype, or a TypeError will be raised\n",
      "  \"\"\"Entry point for launching an IPython kernel.\n"
     ]
    },
    {
     "data": {
      "image/png": "[encoded data removed]",
      "text/plain": [
       "<Figure size 936x432 with 1 Axes>"
      ]
     },
     "metadata": {
      "needs_background": "light"
     },
     "output_type": "display_data"
    }
   ],
   "source": [
    "plot_features('nouns',wsb_combined['nouns'].tolist()[0],stocks_all['nouns'].tolist()[0],investing_all['nouns'].tolist()[0],0,100)"
   ]
  },
  {
   "cell_type": "code",
   "execution_count": 230,
   "metadata": {},
   "outputs": [
    {
     "name": "stdout",
     "output_type": "stream",
     "text": [
      "In WSB,Not in Stocks: ['search?sort', 'september', 'yolo', 'wsb', 'thread](https://www.reddit.com', 'fda', 'weekly](https://www.reddit.com', 'july', 'sec', '🚀', 'amc', 'melvin', 'cnbc', 'tsla', 'street', '’s', '️', 'good', 'palantir', 'october', 'flair%3a%22earnings%20thread%22', 'nok', 'august']\n",
      "In WSB,Not in Investing: ['search?sort', 'yolo', 'wsb', 'thread](https://www.reddit.com', 'weekly](https://www.reddit.com', 'february', '🚀', 'amc', 'melvin', 'cnbc', 'tsla', 'street', 'u', 'gme', '️', 'good', 'palantir', 'flair%3a%22earnings%20thread%22', 'december', 'nok']\n",
      "Unique in WSB: {'️', 'nok', '🚀', 'search?sort', 'amc', 'melvin', 'cnbc', 'street', 'yolo', 'tsla', 'wsb', 'good', 'palantir', 'flair%3a%22earnings%20thread%22', 'weekly](https://www.reddit.com', 'thread](https://www.reddit.com'}\n",
      "\n",
      "In Stocks,Not in WSB: ['thursday', 'tuesday', 'corp', 'wednesday', 'datum', 'ta', '_', 'reuters', 'aapl', '=', 'here.](https://www.reddit.com', 'check](https://www.streetinsider.com', 'overlook', 'nyse', 'aggregated](https://www.streetinsider.com', 'market+check', 'microsoft', 'wiki', 'united', 'news](https://www.bloomberg.com', 'search?q', 'market', 'bloomberg']\n",
      "In Stocks,Not in Investing: ['thursday', 'tuesday', 'wednesday', 'ta', 'february', 'reuters', '=', 'here.](https://www.reddit.com', 'check](https://www.streetinsider.com', 'overlook', 'nyse', 'aggregated](https://www.streetinsider.com', 'u', 'gme', 'market+check', 'wiki', 'news](https://www.bloomberg.com', 'december', 'search?q', 'market', 'bloomberg']\n",
      "Unique in Stocks: {'thursday', 'reuters', '=', 'market+check', 'here.](https://www.reddit.com', 'check](https://www.streetinsider.com', 'aggregated](https://www.streetinsider.com', 'tuesday', 'wiki', 'overlook', 'wednesday', 'nyse', 'news](https://www.bloomberg.com', 'search?q', 'market', 'ta', 'bloomberg'}\n",
      "\n",
      "In Investing,Not in Stocks: ['saving', 'walmart', 'september', 'november', 'bear', 'vanguard', 'fda', 'july', 'sec', 'bank', 'intel', 'trump', '’s', 'covid-19', 'ira', 'https://www.reddit.com/r/investing/wiki/faq', 'canada', 'october', 'august', 'tesla', 'treasury']\n",
      "In Investing,Not in WSB: ['saving', 'walmart', 'november', 'corp', 'datum', 'vanguard', 'bear', '_', 'aapl', 'bank', 'intel', 'trump', 'covid-19', 'ira', 'https://www.reddit.com/r/investing/wiki/faq', 'canada', 'microsoft', 'united', 'tesla', 'treasury']\n",
      "Unique in Investing: {'saving', 'walmart', 'tesla', 'bear', 'https://www.reddit.com/r/investing/wiki/faq', 'trump', 'bank', 'canada', 'november', 'covid-19', 'ira', 'vanguard', 'treasury', 'intel'}\n"
     ]
    },
    {
     "name": "stderr",
     "output_type": "stream",
     "text": [
      "C:\\Users\\96ank\\AppData\\Local\\Continuum\\anaconda3\\lib\\site-packages\\ipykernel_launcher.py:1: FutureWarning: Could not cast to int32, falling back to object. This behavior is deprecated. In a future version, when a dtype is passed to 'DataFrame', either all columns will be cast to that dtype, or a TypeError will be raised\n",
      "  \"\"\"Entry point for launching an IPython kernel.\n"
     ]
    },
    {
     "data": {
      "image/png": "[encoded data removed]",
      "text/plain": [
       "<Figure size 936x432 with 1 Axes>"
      ]
     },
     "metadata": {
      "needs_background": "light"
     },
     "output_type": "display_data"
    }
   ],
   "source": [
    "plot_features('pronouns',wsb_combined['pronouns'].tolist()[0],stocks_all['pronouns'].tolist()[0],investing_all['pronouns'].tolist()[0],0,50)"
   ]
  },
  {
   "cell_type": "code",
   "execution_count": 231,
   "metadata": {},
   "outputs": [
    {
     "data": {
      "text/plain": [
       "[('short', 14.409493896117961),\n",
       " ('good', 12.142779780600641),\n",
       " ('more', 10.245857251164301),\n",
       " ('new', 9.391777939378935),\n",
       " ('high', 8.913679194194737),\n",
       " ('other', 8.834769692562393),\n",
       " ('big', 7.6495799229471935),\n",
       " ('last', 6.889882564094629),\n",
       " ('next', 6.659343039717783),\n",
       " ('long', 5.56698797790534)]"
      ]
     },
     "execution_count": 231,
     "metadata": {},
     "output_type": "execute_result"
    }
   ],
   "source": [
    "wsb_combined['adjectives'].tolist()[0][:10]"
   ]
  },
  {
   "cell_type": "code",
   "execution_count": 232,
   "metadata": {},
   "outputs": [
    {
     "data": {
      "text/plain": [
       "[('other', 31.579925650557623),\n",
       " ('financial', 23.671003717472118),\n",
       " ('next', 19.186802973977695),\n",
       " ('good', 18.183085501858738),\n",
       " ('more', 17.12825278810409),\n",
       " ('high', 14.804832713754648),\n",
       " ('big', 14.600371747211897),\n",
       " ('new', 12.486059479553903),\n",
       " ('long', 12.142193308550187),\n",
       " ('current', 11.640334572490705)]"
      ]
     },
     "execution_count": 232,
     "metadata": {},
     "output_type": "execute_result"
    }
   ],
   "source": [
    "investing_all['adjectives'].tolist()[0][:10]"
   ]
  },
  {
   "cell_type": "code",
   "execution_count": 233,
   "metadata": {},
   "outputs": [
    {
     "data": {
      "text/plain": [
       "[('good', 20.808612628187497),\n",
       " ('more', 20.179953636399357),\n",
       " ('high', 17.81462417979647),\n",
       " ('other', 17.437428784723586),\n",
       " ('new', 15.241051432163765),\n",
       " ('long', 13.964087855094101),\n",
       " ('big', 13.076107029193352),\n",
       " ('short', 13.048603198302622),\n",
       " ('last', 11.311932733487879),\n",
       " ('low', 10.836509370948097)]"
      ]
     },
     "execution_count": 233,
     "metadata": {},
     "output_type": "execute_result"
    }
   ],
   "source": [
    "stocks_all['adjectives'].tolist()[0][:10]"
   ]
  },
  {
   "cell_type": "code",
   "execution_count": 234,
   "metadata": {},
   "outputs": [
    {
     "data": {
      "text/plain": [
       "[('NOK', 0.11617100371747212)]"
      ]
     },
     "execution_count": 234,
     "metadata": {},
     "output_type": "execute_result"
    }
   ],
   "source": [
    "[item for item in investing_all['tickers'].tolist()[0][:] if item[0] == 'NOK']"
   ]
  },
  {
   "cell_type": "code",
   "execution_count": 235,
   "metadata": {},
   "outputs": [
    {
     "data": {
      "text/plain": [
       "[('fed', 2.6347583643122676),\n",
       " ('etfs', 1.3057620817843867),\n",
       " ('sec', 1.2871747211895912),\n",
       " ('fda', 1.0827137546468402),\n",
       " ('treasury', 0.9433085501858736),\n",
       " ('intel', 0.8643122676579925),\n",
       " ('nyse', 0.7574349442379182),\n",
       " ('microsoft', 0.6877323420074349),\n",
       " ('🚀', 0.5483271375464684),\n",
       " ('q3', 0.5157992565055762),\n",
       " ('cnbc', 0.5157992565055762),\n",
       " ('ebay', 0.483271375464684),\n",
       " ('max', 0.4786245353159851),\n",
       " ('boeing', 0.4182156133828996),\n",
       " ('congress', 0.39498141263940517),\n",
       " ('goldman sachs', 0.362453531598513),\n",
       " ('ford', 0.3345724907063197),\n",
       " ('senate', 0.26022304832713755),\n",
       " ('reuters', 0.2509293680297398),\n",
       " ('the federal reserve', 0.23234200743494424),\n",
       " ('morgan stanley', 0.22304832713754646),\n",
       " ('amazon', 0.2091078066914498),\n",
       " ('gm', 0.2091078066914498),\n",
       " ('ibm', 0.2091078066914498),\n",
       " ('dtc', 0.19981412639405205),\n",
       " ('uso', 0.19052044609665428),\n",
       " ('samsung', 0.1812267657992565),\n",
       " ('sony', 0.17657992565055763),\n",
       " ('bank of america', 0.16263940520446096),\n",
       " ('sofi', 0.1579925650557621)]"
      ]
     },
     "execution_count": 235,
     "metadata": {},
     "output_type": "execute_result"
    }
   ],
   "source": [
    "investing_all['org'].tolist()[0][:30]"
   ]
  },
  {
   "cell_type": "code",
   "execution_count": 236,
   "metadata": {},
   "outputs": [
    {
     "data": {
      "text/plain": [
       "[(3, 363.95910780669146),\n",
       " (1, 310.4553903345725),\n",
       " (38, 193.79646840148698),\n",
       " (789, 188.37360594795538),\n",
       " (32, 182.9507434944238),\n",
       " (142, 132.71840148698885),\n",
       " (7, 99.84665427509294),\n",
       " (4, 75.22769516728624),\n",
       " (130, 75.10223048327137),\n",
       " (5, 71.50557620817844)]"
      ]
     },
     "execution_count": 236,
     "metadata": {},
     "output_type": "execute_result"
    }
   ],
   "source": [
    "investing_all['bow'].tolist()[0][:10]"
   ]
  },
  {
   "cell_type": "code",
   "execution_count": 237,
   "metadata": {},
   "outputs": [
    {
     "data": {
      "text/plain": [
       "[3, 1, 38, 789, 32, 142, 7, 4, 130, 5]"
      ]
     },
     "execution_count": 237,
     "metadata": {},
     "output_type": "execute_result"
    }
   ],
   "source": [
    "list(list(zip(*investing_all['bow'][0][:10]))[0])"
   ]
  },
  {
   "cell_type": "code",
   "execution_count": 238,
   "metadata": {},
   "outputs": [
    {
     "data": {
      "text/plain": [
       "[363.95910780669146,\n",
       " 310.4553903345725,\n",
       " 193.79646840148698,\n",
       " 188.37360594795538,\n",
       " 182.9507434944238,\n",
       " 132.71840148698885,\n",
       " 99.84665427509294,\n",
       " 75.22769516728624,\n",
       " 75.10223048327137,\n",
       " 71.50557620817844]"
      ]
     },
     "execution_count": 238,
     "metadata": {},
     "output_type": "execute_result"
    }
   ],
   "source": [
    "list(list(zip(*investing_all['bow'][0][:10]))[1])"
   ]
  },
  {
   "cell_type": "code",
   "execution_count": 239,
   "metadata": {},
   "outputs": [
    {
     "data": {
      "text/plain": [
       "[(3, 363.95910780669146),\n",
       " (1, 310.4553903345725),\n",
       " (38, 193.79646840148698),\n",
       " (789, 188.37360594795538),\n",
       " (32, 182.9507434944238),\n",
       " (142, 132.71840148698885),\n",
       " (7, 99.84665427509294),\n",
       " (4, 75.22769516728624),\n",
       " (130, 75.10223048327137),\n",
       " (5, 71.50557620817844)]"
      ]
     },
     "execution_count": 239,
     "metadata": {},
     "output_type": "execute_result"
    }
   ],
   "source": [
    "list(zip(list(list(zip(*investing_all['bow'][0][:10]))[0]),list(list(zip(*investing_all['bow'][0][:10]))[1])))"
   ]
  },
  {
   "cell_type": "code",
   "execution_count": 240,
   "metadata": {},
   "outputs": [
    {
     "data": {
      "text/plain": [
       "[(3, 1, 38, 789, 32, 142, 7, 4, 130, 5),\n",
       " (363.95910780669146,\n",
       "  310.4553903345725,\n",
       "  193.79646840148698,\n",
       "  188.37360594795538,\n",
       "  182.9507434944238,\n",
       "  132.71840148698885,\n",
       "  99.84665427509294,\n",
       "  75.22769516728624,\n",
       "  75.10223048327137,\n",
       "  71.50557620817844)]"
      ]
     },
     "execution_count": 240,
     "metadata": {},
     "output_type": "execute_result"
    }
   ],
   "source": [
    "list(list(zip(*investing_all['bow'][0][:10])))"
   ]
  },
  {
   "cell_type": "code",
   "execution_count": 241,
   "metadata": {},
   "outputs": [
    {
     "name": "stdout",
     "output_type": "stream",
     "text": [
      "[1, 3, 4, 5, 7, 32, 38, 130, 142, 789]\n"
     ]
    }
   ],
   "source": [
    "print(np.sort([index for index,count in investing_all['bow'][0][:10]]).tolist())"
   ]
  },
  {
   "cell_type": "code",
   "execution_count": 242,
   "metadata": {},
   "outputs": [
    {
     "data": {
      "text/plain": [
       "[363.95910780669146,\n",
       " 310.4553903345725,\n",
       " 193.79646840148698,\n",
       " 188.37360594795538,\n",
       " 182.9507434944238,\n",
       " 132.71840148698885,\n",
       " 99.84665427509294,\n",
       " 75.22769516728624,\n",
       " 75.10223048327137,\n",
       " 71.50557620817844]"
      ]
     },
     "execution_count": 242,
     "metadata": {},
     "output_type": "execute_result"
    }
   ],
   "source": [
    "[count for index,count in investing_all['bow'][0][:10]]"
   ]
  },
  {
   "cell_type": "code",
   "execution_count": 41,
   "metadata": {},
   "outputs": [],
   "source": [
    "def map_bag_of_words(vocab_file,bow_column,n=10):\n",
    "    vocab_file_dict={}\n",
    "    with open('data/dictionary_'+vocab_file+'_group_title_selftext.json', 'r') as fp:\n",
    "        vocab_file_dict= json.load(fp)\n",
    "        \n",
    "    vocab= [(pos,word) for word,pos in vocab_file_dict.items() if pos in np.sort(list(list(zip(*bow_column[:n]))[0])).tolist()]\n",
    "    counts =[(index,count) for index,count in bow_column[:n]] \n",
    "    #print(vocab)\n",
    "    #print(counts)\n",
    "    lst=[]\n",
    "    for key,value in vocab:    \n",
    "        val= [pos for word,pos in counts if word == key][0]    \n",
    "        lst.append((value,val))\n",
    "    return lst"
   ]
  },
  {
   "cell_type": "code",
   "execution_count": 42,
   "metadata": {},
   "outputs": [],
   "source": [
    "def map_bag_of_words_(vocab_file,bow_column,n=10):\n",
    "    vocab_file_dict={}\n",
    "    with open('data/dictionary_'+vocab_file+'_group_title_selftext.json', 'r') as fp:\n",
    "        vocab_file_dict= json.load(fp)\n",
    "    #print(bow_column[0][:n],bow_column[0][:n])\n",
    "    return list(\n",
    "                zip(\n",
    "                    [word for word,pos in vocab_file_dict.items() if pos in list(list(zip(*bow_column[0][:n]))[0])],              \n",
    "                    list(list(zip(*bow_column[0][:n]))[1])\n",
    "                )\n",
    "    )"
   ]
  },
  {
   "cell_type": "code",
   "execution_count": 245,
   "metadata": {},
   "outputs": [],
   "source": [
    "bow_lst=['buying','GME','high','short','buy','🚀','💎','long','DD','sell','growth','squeeze','moon','apes','options','cut','call','dividend','dividends','etf','etfs']"
   ]
  },
  {
   "cell_type": "code",
   "execution_count": 246,
   "metadata": {},
   "outputs": [
    {
     "ename": "ValueError",
     "evalue": "too many values to unpack (expected 2)",
     "output_type": "error",
     "traceback": [
      "\u001b[1;31m---------------------------------------------------------------------------\u001b[0m",
      "\u001b[1;31mValueError\u001b[0m                                Traceback (most recent call last)",
      "\u001b[1;32m<ipython-input-246-bc4a908d1db4>\u001b[0m in \u001b[0;36m<module>\u001b[1;34m\u001b[0m\n\u001b[1;32m----> 1\u001b[1;33m \u001b[1;33m[\u001b[0m\u001b[0mitem\u001b[0m \u001b[1;32mfor\u001b[0m \u001b[0mitem\u001b[0m \u001b[1;32min\u001b[0m \u001b[0mmap_bag_of_words\u001b[0m\u001b[1;33m(\u001b[0m\u001b[1;34m\"investing\"\u001b[0m\u001b[1;33m,\u001b[0m\u001b[0minvesting_all\u001b[0m\u001b[1;33m[\u001b[0m\u001b[1;34m'bow'\u001b[0m\u001b[1;33m]\u001b[0m\u001b[1;33m,\u001b[0m\u001b[1;36m1000\u001b[0m\u001b[1;33m)\u001b[0m\u001b[1;33m[\u001b[0m\u001b[1;33m:\u001b[0m\u001b[1;33m]\u001b[0m \u001b[1;32mif\u001b[0m \u001b[0mitem\u001b[0m\u001b[1;33m[\u001b[0m\u001b[1;36m0\u001b[0m\u001b[1;33m]\u001b[0m \u001b[1;32min\u001b[0m \u001b[0mbow_lst\u001b[0m\u001b[1;33m]\u001b[0m\u001b[1;33m\u001b[0m\u001b[1;33m\u001b[0m\u001b[0m\n\u001b[0m",
      "\u001b[1;32m<ipython-input-243-ecff5ff246b2>\u001b[0m in \u001b[0;36mmap_bag_of_words\u001b[1;34m(vocab_file, bow_column, n)\u001b[0m\n\u001b[0;32m      5\u001b[0m \u001b[1;33m\u001b[0m\u001b[0m\n\u001b[0;32m      6\u001b[0m     \u001b[0mvocab\u001b[0m\u001b[1;33m=\u001b[0m \u001b[1;33m[\u001b[0m\u001b[1;33m(\u001b[0m\u001b[0mpos\u001b[0m\u001b[1;33m,\u001b[0m\u001b[0mword\u001b[0m\u001b[1;33m)\u001b[0m \u001b[1;32mfor\u001b[0m \u001b[0mword\u001b[0m\u001b[1;33m,\u001b[0m\u001b[0mpos\u001b[0m \u001b[1;32min\u001b[0m \u001b[0mvocab_file_dict\u001b[0m\u001b[1;33m.\u001b[0m\u001b[0mitems\u001b[0m\u001b[1;33m(\u001b[0m\u001b[1;33m)\u001b[0m \u001b[1;32mif\u001b[0m \u001b[0mpos\u001b[0m \u001b[1;32min\u001b[0m \u001b[0mnp\u001b[0m\u001b[1;33m.\u001b[0m\u001b[0msort\u001b[0m\u001b[1;33m(\u001b[0m\u001b[0mlist\u001b[0m\u001b[1;33m(\u001b[0m\u001b[0mlist\u001b[0m\u001b[1;33m(\u001b[0m\u001b[0mzip\u001b[0m\u001b[1;33m(\u001b[0m\u001b[1;33m*\u001b[0m\u001b[0mbow_column\u001b[0m\u001b[1;33m[\u001b[0m\u001b[1;33m:\u001b[0m\u001b[0mn\u001b[0m\u001b[1;33m]\u001b[0m\u001b[1;33m)\u001b[0m\u001b[1;33m)\u001b[0m\u001b[1;33m[\u001b[0m\u001b[1;36m0\u001b[0m\u001b[1;33m]\u001b[0m\u001b[1;33m)\u001b[0m\u001b[1;33m)\u001b[0m\u001b[1;33m.\u001b[0m\u001b[0mtolist\u001b[0m\u001b[1;33m(\u001b[0m\u001b[1;33m)\u001b[0m\u001b[1;33m]\u001b[0m\u001b[1;33m\u001b[0m\u001b[1;33m\u001b[0m\u001b[0m\n\u001b[1;32m----> 7\u001b[1;33m     \u001b[0mcounts\u001b[0m \u001b[1;33m=\u001b[0m\u001b[1;33m[\u001b[0m\u001b[1;33m(\u001b[0m\u001b[0mindex\u001b[0m\u001b[1;33m,\u001b[0m\u001b[0mcount\u001b[0m\u001b[1;33m)\u001b[0m \u001b[1;32mfor\u001b[0m \u001b[0mindex\u001b[0m\u001b[1;33m,\u001b[0m\u001b[0mcount\u001b[0m \u001b[1;32min\u001b[0m \u001b[0mbow_column\u001b[0m\u001b[1;33m[\u001b[0m\u001b[1;33m:\u001b[0m\u001b[0mn\u001b[0m\u001b[1;33m]\u001b[0m\u001b[1;33m]\u001b[0m\u001b[1;33m\u001b[0m\u001b[1;33m\u001b[0m\u001b[0m\n\u001b[0m\u001b[0;32m      8\u001b[0m     \u001b[1;31m#print(vocab)\u001b[0m\u001b[1;33m\u001b[0m\u001b[1;33m\u001b[0m\u001b[1;33m\u001b[0m\u001b[0m\n\u001b[0;32m      9\u001b[0m     \u001b[1;31m#print(counts)\u001b[0m\u001b[1;33m\u001b[0m\u001b[1;33m\u001b[0m\u001b[1;33m\u001b[0m\u001b[0m\n",
      "\u001b[1;32m<ipython-input-243-ecff5ff246b2>\u001b[0m in \u001b[0;36m<listcomp>\u001b[1;34m(.0)\u001b[0m\n\u001b[0;32m      5\u001b[0m \u001b[1;33m\u001b[0m\u001b[0m\n\u001b[0;32m      6\u001b[0m     \u001b[0mvocab\u001b[0m\u001b[1;33m=\u001b[0m \u001b[1;33m[\u001b[0m\u001b[1;33m(\u001b[0m\u001b[0mpos\u001b[0m\u001b[1;33m,\u001b[0m\u001b[0mword\u001b[0m\u001b[1;33m)\u001b[0m \u001b[1;32mfor\u001b[0m \u001b[0mword\u001b[0m\u001b[1;33m,\u001b[0m\u001b[0mpos\u001b[0m \u001b[1;32min\u001b[0m \u001b[0mvocab_file_dict\u001b[0m\u001b[1;33m.\u001b[0m\u001b[0mitems\u001b[0m\u001b[1;33m(\u001b[0m\u001b[1;33m)\u001b[0m \u001b[1;32mif\u001b[0m \u001b[0mpos\u001b[0m \u001b[1;32min\u001b[0m \u001b[0mnp\u001b[0m\u001b[1;33m.\u001b[0m\u001b[0msort\u001b[0m\u001b[1;33m(\u001b[0m\u001b[0mlist\u001b[0m\u001b[1;33m(\u001b[0m\u001b[0mlist\u001b[0m\u001b[1;33m(\u001b[0m\u001b[0mzip\u001b[0m\u001b[1;33m(\u001b[0m\u001b[1;33m*\u001b[0m\u001b[0mbow_column\u001b[0m\u001b[1;33m[\u001b[0m\u001b[1;33m:\u001b[0m\u001b[0mn\u001b[0m\u001b[1;33m]\u001b[0m\u001b[1;33m)\u001b[0m\u001b[1;33m)\u001b[0m\u001b[1;33m[\u001b[0m\u001b[1;36m0\u001b[0m\u001b[1;33m]\u001b[0m\u001b[1;33m)\u001b[0m\u001b[1;33m)\u001b[0m\u001b[1;33m.\u001b[0m\u001b[0mtolist\u001b[0m\u001b[1;33m(\u001b[0m\u001b[1;33m)\u001b[0m\u001b[1;33m]\u001b[0m\u001b[1;33m\u001b[0m\u001b[1;33m\u001b[0m\u001b[0m\n\u001b[1;32m----> 7\u001b[1;33m     \u001b[0mcounts\u001b[0m \u001b[1;33m=\u001b[0m\u001b[1;33m[\u001b[0m\u001b[1;33m(\u001b[0m\u001b[0mindex\u001b[0m\u001b[1;33m,\u001b[0m\u001b[0mcount\u001b[0m\u001b[1;33m)\u001b[0m \u001b[1;32mfor\u001b[0m \u001b[0mindex\u001b[0m\u001b[1;33m,\u001b[0m\u001b[0mcount\u001b[0m \u001b[1;32min\u001b[0m \u001b[0mbow_column\u001b[0m\u001b[1;33m[\u001b[0m\u001b[1;33m:\u001b[0m\u001b[0mn\u001b[0m\u001b[1;33m]\u001b[0m\u001b[1;33m]\u001b[0m\u001b[1;33m\u001b[0m\u001b[1;33m\u001b[0m\u001b[0m\n\u001b[0m\u001b[0;32m      8\u001b[0m     \u001b[1;31m#print(vocab)\u001b[0m\u001b[1;33m\u001b[0m\u001b[1;33m\u001b[0m\u001b[1;33m\u001b[0m\u001b[0m\n\u001b[0;32m      9\u001b[0m     \u001b[1;31m#print(counts)\u001b[0m\u001b[1;33m\u001b[0m\u001b[1;33m\u001b[0m\u001b[1;33m\u001b[0m\u001b[0m\n",
      "\u001b[1;31mValueError\u001b[0m: too many values to unpack (expected 2)"
     ]
    }
   ],
   "source": [
    "[item for item in map_bag_of_words(\"investing\",investing_all['bow'],1000)[:] if item[0] in bow_lst]"
   ]
  },
  {
   "cell_type": "code",
   "execution_count": null,
   "metadata": {},
   "outputs": [],
   "source": [
    "[item for item in map_bag_of_words(\"stocks\",stocks_all['bow'],1000)[:] if item[0] in bow_lst]"
   ]
  },
  {
   "cell_type": "code",
   "execution_count": null,
   "metadata": {},
   "outputs": [],
   "source": [
    "[item for item in map_bag_of_words(\"wsb\",wsb_combined['bow'],1000)[:] if item[0] in bow_lst]"
   ]
  },
  {
   "cell_type": "code",
   "execution_count": 247,
   "metadata": {},
   "outputs": [],
   "source": [
    "wsb_combined.to_csv('data/wsb_final_userBased_normalized.csv',sep=';')\n",
    "stocks_all.to_csv('data/stocks_final_userBased_normalized.csv',sep=';')\n",
    "investing_all.to_csv('data/investing_final_userBased_normalized.csv',sep=';')"
   ]
  },
  {
   "cell_type": "code",
   "execution_count": null,
   "metadata": {},
   "outputs": [],
   "source": [
    "wsb_combined"
   ]
  },
  {
   "cell_type": "code",
   "execution_count": null,
   "metadata": {},
   "outputs": [],
   "source": [
    "eval(wsb_combined['bow'][0])[:5] #bag_of_words_investing =map_bag_of_words(\"investing\",eval(investing_all['bow'][0],5000)"
   ]
  },
  {
   "cell_type": "code",
   "execution_count": 103,
   "metadata": {},
   "outputs": [],
   "source": [
    "bag_of_words_wsb =map_bag_of_words(\"wsb\",wsb_combined['bow'][0],10000)"
   ]
  },
  {
   "cell_type": "code",
   "execution_count": 104,
   "metadata": {},
   "outputs": [],
   "source": [
    "bag_of_words_stocks =map_bag_of_words(\"stocks\",stocks_all['bow'][0],10000)"
   ]
  },
  {
   "cell_type": "code",
   "execution_count": 105,
   "metadata": {},
   "outputs": [],
   "source": [
    "bag_of_words_investing =map_bag_of_words(\"investing\",investing_all['bow'][0],10000)"
   ]
  },
  {
   "cell_type": "code",
   "execution_count": 106,
   "metadata": {},
   "outputs": [
    {
     "name": "stdout",
     "output_type": "stream",
     "text": [
      "In WSB,Not in Stocks: ['indicator', '  ', 'come', '.', 'point', 'downward', 'tsla', 'direction', 'change', 'day', 'monday', '420.69', 'upward', 'witching']\n",
      "In WSB,Not in Investing: ['indicator', '  ', 'come', 'point', 'downward', 'tsla', 'direction', 'change', 'day', 'monday', '420.69', 'upward', 'witching']\n",
      "Unique in WSB: {'indicator', '  ', 'come', 'point', 'downward', 'tsla', 'direction', 'change', 'day', 'monday', '420.69', 'upward', 'witching'}\n",
      "\n",
      "In Stocks,Not in WSB: ['way', 'look', 'stock', 'different', \"'\", 'play', 'trade', 'etfs', 'swinge', '&', 'couple', 'start', 'penny', 've']\n",
      "In Stocks,Not in Investing: ['way', 'look', 'stock', 'different', \"'\", 'play', 'trade', 'etfs', 'swinge', '&', 'couple', 'start', 'penny', 've']\n",
      "Unique in Stocks: {'way', 'look', 'stock', 'different', \"'\", 'play', 'trade', 'etfs', 'swinge', '&', 'couple', 'start', 'penny', 've'}\n",
      "\n",
      "In Investing,Not in Stocks: ['evening', 'document', 'def', 'want', '.', 'inc', 'clsk', '$', 'opinion', ')', 'date', 'post', '(', 'good']\n",
      "In Investing,Not in WSB: ['evening', 'document', 'def', 'want', 'inc', 'clsk', '$', 'opinion', ')', 'date', 'post', '(', 'good']\n",
      "Unique in Investing: {'evening', 'document', 'def', 'want', 'inc', 'clsk', '$', 'opinion', ')', 'date', 'post', '(', 'good'}\n"
     ]
    },
    {
     "name": "stderr",
     "output_type": "stream",
     "text": [
      "C:\\Users\\96ank\\AppData\\Local\\Continuum\\anaconda3\\lib\\site-packages\\ipykernel_launcher.py:1: FutureWarning: Could not cast to int32, falling back to object. This behavior is deprecated. In a future version, when a dtype is passed to 'DataFrame', either all columns will be cast to that dtype, or a TypeError will be raised\n",
      "  \"\"\"Entry point for launching an IPython kernel.\n"
     ]
    },
    {
     "data": {
      "image/png": "[encoded data removed]",
      "text/plain": [
       "<Figure size 936x432 with 1 Axes>"
      ]
     },
     "metadata": {
      "needs_background": "light"
     },
     "output_type": "display_data"
    }
   ],
   "source": [
    "plot_features('BOW',bag_of_words_wsb,bag_of_words_stocks,bag_of_words_investing,0,15)"
   ]
  },
  {
   "cell_type": "code",
   "execution_count": 107,
   "metadata": {},
   "outputs": [],
   "source": [
    "bow_lst=['buying','GME','apes','high','short','buy','🚀','💎','long','DD','sell','growth','squeeze','moon','options','cut','call','dividend','dividends', 'etf', 'etfs','apes','ape']"
   ]
  },
  {
   "cell_type": "code",
   "execution_count": 108,
   "metadata": {},
   "outputs": [
    {
     "data": {
      "text/plain": [
       "[('short', 14.946387956243909),\n",
       " ('buy', 20.021351982794634),\n",
       " ('moon', 3.3946558153208213),\n",
       " ('high', 9.399514165029165),\n",
       " ('etf', 1.0057093345298695),\n",
       " ('long', 7.576859401835033),\n",
       " ('🚀', 33.550463399916445),\n",
       " ('squeeze', 4.862991443734431),\n",
       " ('sell', 10.88486948987328),\n",
       " ('cut', 0.9298943231576179),\n",
       " ('💎', 5.297767325277344),\n",
       " ('growth', 5.454039083411985),\n",
       " ('etfs', 0.6111618263681515),\n",
       " ('buying', 1.1078275131129025),\n",
       " ('dividend', 1.2083984465658895),\n",
       " ('ape', 2.345623617149665)]"
      ]
     },
     "execution_count": 108,
     "metadata": {},
     "output_type": "execute_result"
    }
   ],
   "source": [
    "[item for item in bag_of_words_wsb if item[0] in bow_lst]"
   ]
  },
  {
   "cell_type": "code",
   "execution_count": 109,
   "metadata": {},
   "outputs": [
    {
     "data": {
      "text/plain": [
       "[('etfs', 3.308317944285097),\n",
       " ('etf', 4.644218301834899),\n",
       " ('buy', 28.867235079171742),\n",
       " ('moon', 0.7111704844603355),\n",
       " ('short', 13.685120427488116),\n",
       " ('high', 18.92263565282307),\n",
       " ('growth', 14.639896271266355),\n",
       " ('long', 17.07202074574673),\n",
       " ('sell', 18.144670150485247),\n",
       " ('cut', 2.08243291029822),\n",
       " ('dividend', 6.699147381242387),\n",
       " ('buying', 1.5205689363875683),\n",
       " ('squeeze', 2.7346666142784173),\n",
       " ('💎', 0.27110919020863616),\n",
       " ('🚀', 1.422340968920671),\n",
       " ('ape', 0.27110919020863616)]"
      ]
     },
     "execution_count": 109,
     "metadata": {},
     "output_type": "execute_result"
    }
   ],
   "source": [
    "[item for item in bag_of_words_stocks if item[0] in bow_lst]"
   ]
  },
  {
   "cell_type": "code",
   "execution_count": 110,
   "metadata": {},
   "outputs": [
    {
     "data": {
      "text/plain": [
       "[('buy', 29.763011152416357),\n",
       " ('moon', 0.34386617100371747),\n",
       " ('sell', 14.284386617100372),\n",
       " ('short', 9.158921933085502),\n",
       " ('etf', 5.827137546468402),\n",
       " ('high', 15.650557620817843),\n",
       " ('growth', 12.685873605947956),\n",
       " ('dividend', 6.5799256505576205),\n",
       " ('buying', 1.171003717472119),\n",
       " ('cut', 1.9377323420074348),\n",
       " ('long', 15.009293680297397),\n",
       " ('etfs', 4.567843866171003),\n",
       " ('💎', 0.11617100371747212),\n",
       " ('squeeze', 1.2778810408921932),\n",
       " ('🚀', 1.050185873605948),\n",
       " ('ape', 0.055762081784386616)]"
      ]
     },
     "execution_count": 110,
     "metadata": {},
     "output_type": "execute_result"
    }
   ],
   "source": [
    "[item for item in bag_of_words_investing if item[0] in bow_lst]"
   ]
  },
  {
   "cell_type": "code",
   "execution_count": 111,
   "metadata": {},
   "outputs": [],
   "source": [
    "bow_lst2=['option','commodity','longterm','risky','go','safe']"
   ]
  },
  {
   "cell_type": "code",
   "execution_count": 112,
   "metadata": {},
   "outputs": [
    {
     "data": {
      "text/plain": [
       "[('option', 6.699571413098977),\n",
       " ('commodity', 0.5399885503860377),\n",
       " ('safe', 0.9221580975073881),\n",
       " ('risky', 0.41775618511240736),\n",
       " ('longterm', 0.03249214773096502)]"
      ]
     },
     "execution_count": 112,
     "metadata": {},
     "output_type": "execute_result"
    }
   ],
   "source": [
    "[item for item in bag_of_words_wsb if item[0] in bow_lst2]"
   ]
  },
  {
   "cell_type": "code",
   "execution_count": 113,
   "metadata": {},
   "outputs": [
    {
     "data": {
      "text/plain": [
       "[('safe', 2.4949903736591885),\n",
       " ('option', 13.559388629130487),\n",
       " ('commodity', 0.9194137754901575),\n",
       " ('risky', 1.009783505559703),\n",
       " ('longterm', 0.2396762406192291)]"
      ]
     },
     "execution_count": 113,
     "metadata": {},
     "output_type": "execute_result"
    }
   ],
   "source": [
    "[item for item in bag_of_words_stocks if item[0] in bow_lst2]"
   ]
  },
  {
   "cell_type": "code",
   "execution_count": 114,
   "metadata": {},
   "outputs": [
    {
     "data": {
      "text/plain": [
       "[('option', 7.881040892193308),\n",
       " ('safe', 7.537174721189591),\n",
       " ('risky', 0.8736059479553903),\n",
       " ('commodity', 1.3708178438661711),\n",
       " ('longterm', 0.13475836431226765)]"
      ]
     },
     "execution_count": 114,
     "metadata": {},
     "output_type": "execute_result"
    }
   ],
   "source": [
    "[item for item in bag_of_words_investing if item[0] in bow_lst2]"
   ]
  },
  {
   "cell_type": "code",
   "execution_count": 115,
   "metadata": {},
   "outputs": [
    {
     "data": {
      "text/plain": [
       "[('index', 1.489997060234253),\n",
       " ('fund', 4.558184153115378),\n",
       " ('bullish', 1.585926258297102),\n",
       " ('buffet', 0.23053952437684702),\n",
       " ('bearish', 0.5044019123949808),\n",
       " ('musk', 0.6390122387089786),\n",
       " ('warren', 0.2552954464575823),\n",
       " ('🦍', 1.5472451300459533)]"
      ]
     },
     "execution_count": 115,
     "metadata": {},
     "output_type": "execute_result"
    }
   ],
   "source": [
    "bow_lst3=['SP500','DOW','musk','Elon','Bezos','warren','buffet','index','fund','S&P500','bullish','bearish','Musk','🦍']\n",
    "\n",
    "[item for item in bag_of_words_wsb if item[0] in bow_lst3]"
   ]
  },
  {
   "cell_type": "code",
   "execution_count": 116,
   "metadata": {},
   "outputs": [
    {
     "data": {
      "text/plain": [
       "[('index', 4.78566657498723),\n",
       " ('fund', 7.767867667282228),\n",
       " ('bullish', 2.538210679344623),\n",
       " ('buffet', 0.45970688774507873),\n",
       " ('bearish', 0.9744214372716199),\n",
       " ('musk', 0.7386743153510668),\n",
       " ('warren', 0.7897528584338533),\n",
       " ('🦍', 0.035362068288082985)]"
      ]
     },
     "execution_count": 116,
     "metadata": {},
     "output_type": "execute_result"
    }
   ],
   "source": [
    "[item for item in bag_of_words_stocks if item[0] in bow_lst3]"
   ]
  },
  {
   "cell_type": "code",
   "execution_count": 117,
   "metadata": {},
   "outputs": [
    {
     "data": {
      "text/plain": [
       "[('fund', 17.41171003717472),\n",
       " ('warren', 0.724907063197026),\n",
       " ('buffet', 0.5297397769516728),\n",
       " ('index', 6.431226765799257),\n",
       " ('musk', 0.6691449814126395),\n",
       " ('bullish', 1.6775092936802973),\n",
       " ('bearish', 0.6366171003717472),\n",
       " ('🦍', 0.027881040892193308)]"
      ]
     },
     "execution_count": 117,
     "metadata": {},
     "output_type": "execute_result"
    }
   ],
   "source": [
    "[item for item in bag_of_words_investing if item[0] in bow_lst3]"
   ]
  },
  {
   "cell_type": "code",
   "execution_count": 118,
   "metadata": {},
   "outputs": [],
   "source": [
    "wsb_f=pd.read_csv('../Reddit-Analysis/data/features.csv',sep=';')"
   ]
  },
  {
   "cell_type": "code",
   "execution_count": 119,
   "metadata": {},
   "outputs": [],
   "source": [
    "wsb_features=wsb_f.columns.tolist()"
   ]
  },
  {
   "cell_type": "code",
   "execution_count": 120,
   "metadata": {},
   "outputs": [
    {
     "data": {
      "text/plain": [
       "[('hold', 8.751218455539911),\n",
       " ('etf', 1.0057093345298695),\n",
       " ('✋', 0.47500425492410764),\n",
       " ('etfs', 0.6111618263681515),\n",
       " ('🙌', 1.7700484287725704),\n",
       " ('🦍', 1.5472451300459533),\n",
       " ('🔥', 0.4053782240720397),\n",
       " ('👀', 0.165555228914917),\n",
       " ('🤷', 0.07117327598211384),\n",
       " ('🤬', 0.03558663799105692),\n",
       " ('👋', 0.08974021754266528),\n",
       " ('☀', 0.023208676950689296),\n",
       " ('😍', 0.027850412340827156)]"
      ]
     },
     "execution_count": 120,
     "metadata": {},
     "output_type": "execute_result"
    }
   ],
   "source": [
    "emojis=['⏰','🤬','😍','🦅','🙌','✋','☀','🤷','🔥','👋','👀','🦍','hold','ETF','ETFs','etf','etfs']\n",
    "\n",
    "[item for item in bag_of_words_wsb if item[0] in emojis]"
   ]
  },
  {
   "cell_type": "code",
   "execution_count": 121,
   "metadata": {},
   "outputs": [
    {
     "data": {
      "text/plain": [
       "[('etfs', 3.308317944285097),\n",
       " ('etf', 4.644218301834899),\n",
       " ('hold', 10.223566853954658),\n",
       " ('🙌', 0.09822796746689717),\n",
       " ('🔥', 0.20431417233114613),\n",
       " ('👀', 0.09036973006954539),\n",
       " ('🦍', 0.035362068288082985),\n",
       " ('☀', 0.027503830890731207)]"
      ]
     },
     "execution_count": 121,
     "metadata": {},
     "output_type": "execute_result"
    }
   ],
   "source": [
    "[item for item in bag_of_words_stocks if item[0] in emojis]"
   ]
  },
  {
   "cell_type": "code",
   "execution_count": 122,
   "metadata": {},
   "outputs": [
    {
     "data": {
      "text/plain": [
       "[('hold', 8.550185873605948),\n",
       " ('etf', 5.827137546468402),\n",
       " ('etfs', 4.567843866171003),\n",
       " ('👀', 0.055762081784386616),\n",
       " ('🔥', 0.1579925650557621),\n",
       " ('🦍', 0.027881040892193308),\n",
       " ('🙌', 0.06505576208178439)]"
      ]
     },
     "execution_count": 122,
     "metadata": {},
     "output_type": "execute_result"
    }
   ],
   "source": [
    "[item for item in bag_of_words_investing if item[0] in emojis]"
   ]
  },
  {
   "cell_type": "code",
   "execution_count": 123,
   "metadata": {},
   "outputs": [
    {
     "data": {
      "text/plain": [
       "[('e', 1.8582414011851895),\n",
       " ('4', 3.140907613993285),\n",
       " ('🚀', 33.550463399916445),\n",
       " ('3', 5.050208104469991),\n",
       " ('1', 6.145657656542526),\n",
       " ('8', 1.4126348037319552),\n",
       " ('💎', 5.297767325277344),\n",
       " ('7', 1.389426126781266),\n",
       " ('5', 4.25182961736628),\n",
       " ('6', 2.043910816790704),\n",
       " ('🙌', 1.7700484287725704),\n",
       " ('🦍', 1.5472451300459533)]"
      ]
     },
     "execution_count": 123,
     "metadata": {},
     "output_type": "execute_result"
    }
   ],
   "source": [
    "[item for item in bag_of_words_wsb if item[0] in wsb_features[50:1200] and item[1]> 1 ]  # and item[1] >= 1"
   ]
  },
  {
   "cell_type": "code",
   "execution_count": 124,
   "metadata": {},
   "outputs": [
    {
     "data": {
      "text/plain": [
       "[('5', 8.915170327295588),\n",
       " ('6', 3.701229814152686),\n",
       " ('1', 12.8403599072728),\n",
       " ('3', 9.48489253860359),\n",
       " ('4', 6.828808298298691),\n",
       " ('e', 4.1727240579937925),\n",
       " ('7', 2.781816038662528),\n",
       " ('f', 0.3536206828808298),\n",
       " ('8', 2.6325095281128443),\n",
       " ('❗', 0.1178735609602766),\n",
       " ('💎', 0.27110919020863616),\n",
       " ('🙌', 0.09822796746689717),\n",
       " ('🚀', 1.422340968920671),\n",
       " ('🔥', 0.20431417233114613),\n",
       " ('c', 0.9822796746689717),\n",
       " ('📷', 0.208243291029822),\n",
       " ('👀', 0.09036973006954539),\n",
       " ('😅', 0.035362068288082985),\n",
       " ('😮', 0.031432949589407094),\n",
       " ('✅', 0.06286589917881419),\n",
       " ('💰', 0.055007661781462415),\n",
       " ('🤔', 0.03929118698675887),\n",
       " ('®', 0.27110919020863616),\n",
       " ('🚨', 0.10215708616557306),\n",
       " ('™', 0.10215708616557306),\n",
       " ('✨', 0.027503830890731207),\n",
       " ('▪', 0.10608620486424894),\n",
       " ('🍎', 0.06286589917881419),\n",
       " ('📈', 0.10608620486424894),\n",
       " ('😂', 0.055007661781462415),\n",
       " ('👇', 0.07465325527484185),\n",
       " ('🦍', 0.035362068288082985),\n",
       " ('☀', 0.027503830890731207),\n",
       " ('✂', 0.027503830890731207),\n",
       " ('🤑', 0.04714942438411064),\n",
       " ('🌚', 0.04714942438411064),\n",
       " ('🎼', 0.031432949589407094)]"
      ]
     },
     "execution_count": 124,
     "metadata": {},
     "output_type": "execute_result"
    }
   ],
   "source": [
    "[item for item in bag_of_words_stocks if item[0] in wsb_features[50:1200]]"
   ]
  },
  {
   "cell_type": "code",
   "execution_count": 125,
   "metadata": {},
   "outputs": [
    {
     "data": {
      "text/plain": [
       "[('1', 9.423791821561338),\n",
       " ('3', 8.21096654275093),\n",
       " ('e', 2.950743494423792),\n",
       " ('6', 3.5362453531598512),\n",
       " ('4', 4.976765799256506),\n",
       " ('7', 2.407063197026022),\n",
       " ('5', 8.285315985130111),\n",
       " ('8', 2.221189591078067),\n",
       " ('💎', 0.11617100371747212),\n",
       " ('f', 0.3159851301115242),\n",
       " ('🚀', 1.050185873605948),\n",
       " ('c', 0.6644981412639406),\n",
       " ('💲', 0.023234200743494422),\n",
       " ('😂', 0.032527881040892194),\n",
       " ('📷', 0.16263940520446096),\n",
       " ('▪', 0.041821561338289966),\n",
       " ('👀', 0.055762081784386616),\n",
       " ('⭐', 0.023234200743494422),\n",
       " ('🔥', 0.1579925650557621),\n",
       " ('🤔', 0.027881040892193308),\n",
       " ('💰', 0.08828996282527882),\n",
       " ('®', 0.16728624535315986),\n",
       " ('😮', 0.032527881040892194),\n",
       " ('📈', 0.13011152416356878),\n",
       " ('🦍', 0.027881040892193308),\n",
       " ('😁', 0.05111524163568773),\n",
       " ('🌈', 0.2509293680297398),\n",
       " ('🙌', 0.06505576208178439),\n",
       " ('✅', 0.2137546468401487),\n",
       " ('™', 0.07434944237918216),\n",
       " ('🎉', 0.03717472118959108),\n",
       " ('❌', 0.032527881040892194),\n",
       " ('😉', 0.03717472118959108),\n",
       " ('🚨', 0.05111524163568773),\n",
       " ('👇', 0.027881040892193308),\n",
       " ('🦠', 0.046468401486988845),\n",
       " ('🌱', 0.032527881040892194),\n",
       " ('👽', 0.07434944237918216),\n",
       " ('🌚', 0.027881040892193308),\n",
       " ('🤮', 0.03717472118959108),\n",
       " ('🤒', 0.041821561338289966),\n",
       " ('🤕', 0.041821561338289966)]"
      ]
     },
     "execution_count": 125,
     "metadata": {},
     "output_type": "execute_result"
    }
   ],
   "source": [
    "[item for item in bag_of_words_investing if item[0] in wsb_features[50:1200]]"
   ]
  },
  {
   "cell_type": "code",
   "execution_count": 126,
   "metadata": {},
   "outputs": [
    {
     "data": {
      "text/plain": [
       "Index(['created_utc', 'title_polarity', 'title_subjectivity',\n",
       "       'submission_body_polarity', 'submission_body_subjectivity',\n",
       "       'submission_count', 'submission_score', 'upvote_ratio',\n",
       "       'comment_body_polarity', 'comment_body_subjectivity',\n",
       "       ...\n",
       "       'DD.2', 'buying', 'high', 'BUY', 'holding', 'GO', 'squeeze', 'BUYING',\n",
       "       'TENDIES', 'BAGHOLDER'],\n",
       "      dtype='object', length=1856)"
      ]
     },
     "execution_count": 126,
     "metadata": {},
     "output_type": "execute_result"
    }
   ],
   "source": [
    "sp500_features=pd.read_csv('../Reddit-Analysis/data/features_sp500.csv',sep=';')\n",
    "sp500_features.columns"
   ]
  },
  {
   "cell_type": "code",
   "execution_count": 127,
   "metadata": {},
   "outputs": [],
   "source": [
    "sp500_features=sp500_features.columns.tolist()[15:]"
   ]
  },
  {
   "cell_type": "code",
   "execution_count": 128,
   "metadata": {},
   "outputs": [
    {
     "data": {
      "text/plain": [
       "[('moon', 3.3946558153208213),\n",
       " ('e', 1.8582414011851895),\n",
       " ('high', 9.399514165029165),\n",
       " ('4', 3.140907613993285),\n",
       " ('🚀', 33.550463399916445),\n",
       " ('2', 6.421067289690706),\n",
       " ('3', 5.050208104469991),\n",
       " ('squeeze', 4.862991443734431),\n",
       " ('1', 6.145657656542526),\n",
       " ('8', 1.4126348037319552),\n",
       " ('💎', 5.297767325277344),\n",
       " ('7', 1.389426126781266),\n",
       " ('5', 4.25182961736628),\n",
       " ('6', 2.043910816790704),\n",
       " ('buying', 1.1078275131129025),\n",
       " ('#', 5.345731924308769),\n",
       " ('🙌', 1.7700484287725704),\n",
       " ('u', 1.9123949807367984),\n",
       " ('🦍', 1.5472451300459533)]"
      ]
     },
     "execution_count": 128,
     "metadata": {},
     "output_type": "execute_result"
    }
   ],
   "source": [
    "[item for item in bag_of_words_wsb if item[0] in sp500_features and item[1]> 1 ]"
   ]
  },
  {
   "cell_type": "code",
   "execution_count": 129,
   "metadata": {},
   "outputs": [
    {
     "data": {
      "text/plain": [
       "[('5', 8.915170327295588),\n",
       " ('6', 3.701229814152686),\n",
       " ('high', 18.92263565282307),\n",
       " ('holding', 2.9468390240069153),\n",
       " ('1', 12.8403599072728),\n",
       " ('2', 10.974028525401753),\n",
       " ('3', 9.48489253860359),\n",
       " ('4', 6.828808298298691),\n",
       " ('e', 4.1727240579937925),\n",
       " ('0', 1.5402145298809475),\n",
       " ('buying', 1.5205689363875683),\n",
       " ('7', 2.781816038662528),\n",
       " ('squeeze', 2.7346666142784173),\n",
       " ('9', 1.88204785666575),\n",
       " ('8', 2.6325095281128443),\n",
       " ('u', 1.701308396526659),\n",
       " ('#', 9.335586028053907),\n",
       " ('🚀', 1.422340968920671)]"
      ]
     },
     "execution_count": 129,
     "metadata": {},
     "output_type": "execute_result"
    }
   ],
   "source": [
    "[item for item in bag_of_words_stocks if item[0] in sp500_features and item[1]> 1]"
   ]
  },
  {
   "cell_type": "code",
   "execution_count": 130,
   "metadata": {},
   "outputs": [
    {
     "data": {
      "text/plain": [
       "[('1', 9.423791821561338),\n",
       " ('2', 9.358736059479554),\n",
       " ('3', 8.21096654275093),\n",
       " ('e', 2.950743494423792),\n",
       " ('6', 3.5362453531598512),\n",
       " ('high', 15.650557620817843),\n",
       " ('0', 1.0037174721189592),\n",
       " ('4', 4.976765799256506),\n",
       " ('7', 2.407063197026022),\n",
       " ('buying', 1.171003717472119),\n",
       " ('holding', 8.215613382899628),\n",
       " ('5', 8.285315985130111),\n",
       " ('8', 2.221189591078067),\n",
       " ('9', 1.5148698884758365),\n",
       " ('squeeze', 1.2778810408921932),\n",
       " ('🚀', 1.050185873605948),\n",
       " ('#', 6.802973977695167)]"
      ]
     },
     "execution_count": 130,
     "metadata": {},
     "output_type": "execute_result"
    }
   ],
   "source": [
    "[item for item in bag_of_words_investing if item[0] in sp500_features and item[1]> 1]"
   ]
  },
  {
   "cell_type": "code",
   "execution_count": 131,
   "metadata": {},
   "outputs": [
    {
     "name": "stdout",
     "output_type": "stream",
     "text": [
      "In WSB,Not in Stocks: []\n",
      "In WSB,Not in Investing: []\n",
      "Unique in WSB: set()\n",
      "\n",
      "In Stocks,Not in WSB: []\n",
      "In Stocks,Not in Investing: []\n",
      "Unique in Stocks: set()\n",
      "\n",
      "In Investing,Not in Stocks: []\n",
      "In Investing,Not in WSB: []\n",
      "Unique in Investing: set()\n"
     ]
    },
    {
     "name": "stderr",
     "output_type": "stream",
     "text": [
      "C:\\Users\\96ank\\AppData\\Local\\Continuum\\anaconda3\\lib\\site-packages\\ipykernel_launcher.py:1: FutureWarning: Could not cast to int32, falling back to object. This behavior is deprecated. In a future version, when a dtype is passed to 'DataFrame', either all columns will be cast to that dtype, or a TypeError will be raised\n",
      "  \"\"\"Entry point for launching an IPython kernel.\n"
     ]
    },
    {
     "data": {
      "image/png": "[encoded data removed]",
      "text/plain": [
       "<Figure size 936x432 with 1 Axes>"
      ]
     },
     "metadata": {
      "needs_background": "light"
     },
     "output_type": "display_data"
    }
   ],
   "source": [
    "plot_features('NER',wsb_combined['NER'].tolist()[0],stocks_all['NER'].tolist()[0],investing_all['NER'].tolist()[0],0,60)"
   ]
  },
  {
   "cell_type": "code",
   "execution_count": 132,
   "metadata": {},
   "outputs": [
    {
     "name": "stdout",
     "output_type": "stream",
     "text": [
      "In WSB,Not in Stocks: ['weekly](https://www.reddit.com', 'pepsi', 's3', 'dtc', 'cftc', 'webp&amp;s', 'nok', 'bc', '🖐', '🚀 🌕', 'katapult', '💰', '100k', 'cnn', 'cboe', 'uso', 'irs']\n",
      "In WSB,Not in Investing: ['nasa', 'weekly](https://www.reddit.com', 'pepsi', 's3', 'cftc', 'webp&amp;s', 'nok', 'bc', '🖐', '🚀 🌕', 'katapult', '💰', '🙏', '100k', 'cnn', 'cboe']\n",
      "Unique in WSB: {'weekly](https://www.reddit.com', 'cftc', 'pepsi', 's3', 'webp&amp;s', 'nok', 'bc', '🖐', '🚀 🌕', 'katapult', '💰', '100k', 'cnn', 'cboe'}\n",
      "\n",
      "In Stocks,Not in WSB: ['bank of america', 'bmw', 'samsung', 'volkswagen', 'mgm', 'opec', 'android', 'stocks.](https://www.reddit.com', 'exxon', 'eli lilly', 'general motors', 'airbus', 'fundamentals](https://www.reddit.com', 'reuters', 'nasdaq 100 minis', 'the new york stock exchange', 'oxy']\n",
      "In Stocks,Not in Investing: ['nasa', 'volkswagen', 'stocks.](https://www.reddit.com', 'eli lilly', 'airbus', 'fundamentals](https://www.reddit.com', 'nasdaq 100 minis', '🙏']\n",
      "Unique in Stocks: {'volkswagen', 'stocks.](https://www.reddit.com', 'eli lilly', 'airbus', 'fundamentals](https://www.reddit.com', 'nasdaq 100 minis'}\n",
      "\n",
      "In Investing,Not in Stocks: ['cbs', 'dtc', 'the white house', 'white house', 'n / a \\n ', 'the wall street journal', 'uso', 'irs']\n",
      "In Investing,Not in WSB: ['bank of america', 'cbs', 'bmw', 'samsung', 'mgm', 'reuters', 'opec', 'android', 'oxy', 'exxon', 'white house', 'general motors', 'the white house', 'n / a \\n ', 'the new york stock exchange', 'the wall street journal']\n",
      "Unique in Investing: {'cbs', 'the white house', 'white house', 'n / a \\n ', 'the wall street journal'}\n"
     ]
    },
    {
     "name": "stderr",
     "output_type": "stream",
     "text": [
      "C:\\Users\\96ank\\AppData\\Local\\Continuum\\anaconda3\\lib\\site-packages\\ipykernel_launcher.py:1: FutureWarning: Could not cast to int32, falling back to object. This behavior is deprecated. In a future version, when a dtype is passed to 'DataFrame', either all columns will be cast to that dtype, or a TypeError will be raised\n",
      "  \"\"\"Entry point for launching an IPython kernel.\n",
      "C:\\Users\\96ank\\AppData\\Local\\Continuum\\anaconda3\\lib\\site-packages\\matplotlib\\backends\\backend_agg.py:238: RuntimeWarning: Glyph 128640 missing from current font.\n",
      "  font.set_text(s, 0.0, flags=flags)\n",
      "C:\\Users\\96ank\\AppData\\Local\\Continuum\\anaconda3\\lib\\site-packages\\matplotlib\\backends\\backend_agg.py:201: RuntimeWarning: Glyph 128640 missing from current font.\n",
      "  font.set_text(s, 0, flags=flags)\n"
     ]
    },
    {
     "data": {
      "image/png": "[encoded data removed]",
      "text/plain": [
       "<Figure size 936x432 with 1 Axes>"
      ]
     },
     "metadata": {
      "needs_background": "light"
     },
     "output_type": "display_data"
    }
   ],
   "source": [
    "plot_features('ORG',wsb_combined['org'].tolist()[0],stocks_all['org'].tolist()[0],investing_all['org'].tolist()[0],0,50)"
   ]
  },
  {
   "cell_type": "code",
   "execution_count": 133,
   "metadata": {},
   "outputs": [
    {
     "name": "stdout",
     "output_type": "stream",
     "text": [
      "In WSB,Not in Stocks: []\n",
      "In WSB,Not in Investing: ['ADD']\n",
      "Unique in WSB: set()\n",
      "\n",
      "In Stocks,Not in WSB: []\n",
      "In Stocks,Not in Investing: ['ADD']\n",
      "Unique in Stocks: set()\n",
      "\n",
      "In Investing,Not in Stocks: ['RBR']\n",
      "In Investing,Not in WSB: ['RBR']\n",
      "Unique in Investing: {'RBR'}\n"
     ]
    },
    {
     "name": "stderr",
     "output_type": "stream",
     "text": [
      "C:\\Users\\96ank\\AppData\\Local\\Continuum\\anaconda3\\lib\\site-packages\\ipykernel_launcher.py:1: FutureWarning: Could not cast to int32, falling back to object. This behavior is deprecated. In a future version, when a dtype is passed to 'DataFrame', either all columns will be cast to that dtype, or a TypeError will be raised\n",
      "  \"\"\"Entry point for launching an IPython kernel.\n"
     ]
    },
    {
     "data": {
      "image/png": "[encoded data removed]",
      "text/plain": [
       "<Figure size 936x432 with 1 Axes>"
      ]
     },
     "metadata": {
      "needs_background": "light"
     },
     "output_type": "display_data"
    }
   ],
   "source": [
    "plot_features('pos_tag',wsb_combined['pos_tag'].tolist()[0],stocks_all['pos_tag'].tolist()[0],investing_all['pos_tag'].tolist()[0],0,40)"
   ]
  },
  {
   "cell_type": "code",
   "execution_count": 134,
   "metadata": {},
   "outputs": [
    {
     "name": "stdout",
     "output_type": "stream",
     "text": [
      "In WSB,Not in Stocks: ['-200', '06.daily', '💪', '//', 'm', '.the', '...', '🙌']\n",
      "In WSB,Not in Investing: ['here](https://ibb.co', '06.daily', '💪', '/r', '//', '-200', '.the', '...', '🙌']\n",
      "Unique in WSB: {'06.daily', '💪', '//', '-200', '.the', '...', '🙌'}\n",
      "\n",
      "In Stocks,Not in WSB: ['^', 'public](https://www.cnn.com/2020/05/13', '●', '→', 'us$', '~30', 'usd', '~']\n",
      "In Stocks,Not in Investing: ['here](https://ibb.co', 'public](https://www.cnn.com/2020/05/13', '●', '→', '/r', 'us$', '~30', '~']\n",
      "Unique in Stocks: {'public](https://www.cnn.com/2020/05/13', '●', '→', 'us$', '~30', '~'}\n",
      "\n",
      "In Investing,Not in Stocks: ['----|--------------|-----|----|----------|---------------|-----------|------------|---------------|----------|', '?', '-|-|-', '0.465-&gt;$0.21|', 'rf', '..', 'm', 'https://www.youtube.com/watch?v=cf-2ybpbc2g](https://www.youtube.com/watch?v=cf-2ybpbc2']\n",
      "In Investing,Not in WSB: ['----|--------------|-----|----|----------|---------------|-----------|------------|---------------|----------|', '?', '^', '-|-|-', '0.465-&gt;$0.21|', 'rf', '..', 'usd', 'https://www.youtube.com/watch?v=cf-2ybpbc2g](https://www.youtube.com/watch?v=cf-2ybpbc2']\n",
      "Unique in Investing: {'----|--------------|-----|----|----------|---------------|-----------|------------|---------------|----------|', '?', '-|-|-', '0.465-&gt;$0.21|', 'rf', '..', 'https://www.youtube.com/watch?v=cf-2ybpbc2g](https://www.youtube.com/watch?v=cf-2ybpbc2'}\n"
     ]
    },
    {
     "name": "stderr",
     "output_type": "stream",
     "text": [
      "C:\\Users\\96ank\\AppData\\Local\\Continuum\\anaconda3\\lib\\site-packages\\ipykernel_launcher.py:1: FutureWarning: Could not cast to int32, falling back to object. This behavior is deprecated. In a future version, when a dtype is passed to 'DataFrame', either all columns will be cast to that dtype, or a TypeError will be raised\n",
      "  \"\"\"Entry point for launching an IPython kernel.\n"
     ]
    },
    {
     "data": {
      "image/png": "[encoded data removed]",
      "text/plain": [
       "<Figure size 936x432 with 1 Axes>"
      ]
     },
     "metadata": {
      "needs_background": "light"
     },
     "output_type": "display_data"
    }
   ],
   "source": [
    "plot_features('symbols',wsb_combined['symbols'].tolist()[0],stocks_all['symbols'].tolist()[0],investing_all['symbols'].tolist()[0],0,25)"
   ]
  },
  {
   "cell_type": "code",
   "execution_count": 135,
   "metadata": {},
   "outputs": [
    {
     "name": "stdout",
     "output_type": "stream",
     "text": [
      "In WSB,Not in Stocks: ['all](https://reddit.com']\n",
      "In WSB,Not in Investing: ['all](https://reddit.com', '8']\n",
      "Unique in WSB: {'all](https://reddit.com'}\n",
      "\n",
      "In Stocks,Not in WSB: ['7']\n",
      "In Stocks,Not in Investing: ['8']\n",
      "Unique in Stocks: set()\n",
      "\n",
      "In Investing,Not in Stocks: ['10,000']\n",
      "In Investing,Not in WSB: ['7', '10,000']\n",
      "Unique in Investing: {'10,000'}\n"
     ]
    },
    {
     "name": "stderr",
     "output_type": "stream",
     "text": [
      "C:\\Users\\96ank\\AppData\\Local\\Continuum\\anaconda3\\lib\\site-packages\\ipykernel_launcher.py:1: FutureWarning: Could not cast to int32, falling back to object. This behavior is deprecated. In a future version, when a dtype is passed to 'DataFrame', either all columns will be cast to that dtype, or a TypeError will be raised\n",
      "  \"\"\"Entry point for launching an IPython kernel.\n"
     ]
    },
    {
     "data": {
      "image/png": "[encoded data removed]",
      "text/plain": [
       "<Figure size 936x432 with 1 Axes>"
      ]
     },
     "metadata": {
      "needs_background": "light"
     },
     "output_type": "display_data"
    }
   ],
   "source": [
    "plot_features('numbers',wsb_combined['numbers'].tolist()[0],stocks_all['numbers'].tolist()[0],investing_all['numbers'].tolist()[0],0,25)"
   ]
  },
  {
   "cell_type": "code",
   "execution_count": 136,
   "metadata": {},
   "outputs": [
    {
     "name": "stdout",
     "output_type": "stream",
     "text": [
      "In WSB,Not in Stocks: []\n",
      "In WSB,Not in Investing: []\n",
      "Unique in WSB: set()\n",
      "\n",
      "In Stocks,Not in WSB: []\n",
      "In Stocks,Not in Investing: []\n",
      "Unique in Stocks: set()\n",
      "\n",
      "In Investing,Not in Stocks: []\n",
      "In Investing,Not in WSB: []\n",
      "Unique in Investing: set()\n"
     ]
    },
    {
     "name": "stderr",
     "output_type": "stream",
     "text": [
      "C:\\Users\\96ank\\AppData\\Local\\Continuum\\anaconda3\\lib\\site-packages\\ipykernel_launcher.py:1: FutureWarning: Could not cast to int32, falling back to object. This behavior is deprecated. In a future version, when a dtype is passed to 'DataFrame', either all columns will be cast to that dtype, or a TypeError will be raised\n",
      "  \"\"\"Entry point for launching an IPython kernel.\n"
     ]
    },
    {
     "data": {
      "image/png": "[encoded data removed]",
      "text/plain": [
       "<Figure size 936x432 with 1 Axes>"
      ]
     },
     "metadata": {
      "needs_background": "light"
     },
     "output_type": "display_data"
    }
   ],
   "source": [
    "plot_features('pos',wsb_combined['pos'].tolist()[0],stocks_all['pos'].tolist()[0],investing_all['pos'].tolist()[0],0,40)"
   ]
  },
  {
   "cell_type": "code",
   "execution_count": 137,
   "metadata": {},
   "outputs": [
    {
     "name": "stdout",
     "output_type": "stream",
     "text": [
      "In WSB,Not in Stocks: ['SPOT', 'NOK', 'SPCE', 'DOW', 'BB', 'RH']\n",
      "In WSB,Not in Investing: ['AMC', 'SPOT', 'NOK', 'AMZN', 'SPCE', 'PLTR', 'BB', 'RH']\n",
      "Unique in WSB: {'SPOT', 'NOK', 'SPCE', 'BB', 'RH'}\n",
      "\n",
      "In Stocks,Not in WSB: ['AI', 'UK', 'BABA', 'TD', 'ROSE', 'BLUE']\n",
      "In Stocks,Not in Investing: ['AMC', 'BABA', 'AMZN', 'PLTR', 'ROSE']\n",
      "Unique in Stocks: {'ROSE', 'BABA'}\n",
      "\n",
      "In Investing,Not in Stocks: ['PAYS', 'EARN', 'USA', 'DOW', 'APPS']\n",
      "In Investing,Not in WSB: ['AI', 'UK', 'PAYS', 'EARN', 'USA', 'TD', 'APPS', 'BLUE']\n",
      "Unique in Investing: {'USA', 'PAYS', 'APPS', 'EARN'}\n"
     ]
    },
    {
     "name": "stderr",
     "output_type": "stream",
     "text": [
      "C:\\Users\\96ank\\AppData\\Local\\Continuum\\anaconda3\\lib\\site-packages\\ipykernel_launcher.py:1: FutureWarning: Could not cast to int32, falling back to object. This behavior is deprecated. In a future version, when a dtype is passed to 'DataFrame', either all columns will be cast to that dtype, or a TypeError will be raised\n",
      "  \"\"\"Entry point for launching an IPython kernel.\n"
     ]
    },
    {
     "data": {
      "image/png": "[encoded data removed]",
      "text/plain": [
       "<Figure size 936x432 with 1 Axes>"
      ]
     },
     "metadata": {
      "needs_background": "light"
     },
     "output_type": "display_data"
    }
   ],
   "source": [
    "plot_features('tickers',wsb_combined['tickers'].tolist()[0],stocks_all['tickers'].tolist()[0],investing_all['tickers'].tolist()[0],0,15)"
   ]
  },
  {
   "cell_type": "code",
   "execution_count": 138,
   "metadata": {},
   "outputs": [
    {
     "name": "stdout",
     "output_type": "stream",
     "text": [
      "In WSB,Not in Stocks: ['PRO', 'MASS', 'RKT', 'FAT', 'NOK', 'PATH', 'CLOV', 'ROCK', 'NOV', 'GDP', 'AKA', 'SKY', 'KIDS', 'BODY']\n",
      "In WSB,Not in Investing: ['RKT', 'NOK', 'FAT', 'SPCE', 'CLOV', 'ROCK', 'BB', 'NOV', 'SHIP', 'AKA', 'SKY', 'PT', 'BODY']\n",
      "Unique in WSB: {'NOK', 'RKT', 'FAT', 'CLOV', 'ROCK', 'NOV', 'AKA', 'SKY', 'BODY'}\n",
      "\n",
      "In Stocks,Not in WSB: ['DKNG', 'ALOT', 'JACK', 'SHOP', 'NVDA', 'IMO', 'FORD', 'UNIT', 'RELY', 'APPS', 'SQ', 'TEN', 'SUM', 'PLUG']\n",
      "In Stocks,Not in Investing: ['DKNG', 'ALOT', 'SPCE', 'BB', 'SHIP', 'SQ', 'PT']\n",
      "Unique in Stocks: {'DKNG', 'ALOT', 'SQ'}\n",
      "\n",
      "In Investing,Not in Stocks: ['PRO', 'MASS', 'PATH', 'GDP', 'WASH', 'COIN', 'KIDS']\n",
      "In Investing,Not in WSB: ['JACK', 'SHOP', 'FORD', 'IMO', 'NVDA', 'UNIT', 'RELY', 'APPS', 'WASH', 'TEN', 'COIN', 'SUM', 'PLUG']\n",
      "Unique in Investing: {'WASH', 'COIN'}\n"
     ]
    },
    {
     "name": "stderr",
     "output_type": "stream",
     "text": [
      "C:\\Users\\96ank\\AppData\\Local\\Continuum\\anaconda3\\lib\\site-packages\\ipykernel_launcher.py:1: FutureWarning: Could not cast to int32, falling back to object. This behavior is deprecated. In a future version, when a dtype is passed to 'DataFrame', either all columns will be cast to that dtype, or a TypeError will be raised\n",
      "  \"\"\"Entry point for launching an IPython kernel.\n"
     ]
    },
    {
     "data": {
      "image/png": "[encoded data removed]",
      "text/plain": [
       "<Figure size 936x432 with 1 Axes>"
      ]
     },
     "metadata": {
      "needs_background": "light"
     },
     "output_type": "display_data"
    }
   ],
   "source": [
    "plot_features('tickers',wsb_combined['tickers'].tolist()[0],stocks_all['tickers'].tolist()[0],investing_all['tickers'].tolist()[0],0,55)"
   ]
  },
  {
   "cell_type": "code",
   "execution_count": 2,
   "metadata": {},
   "outputs": [],
   "source": [
    "wsb_combined= pd.read_csv('data/wsb_final_userBased_normalized.csv',sep=';')\n",
    "stocks_all= pd.read_csv('data/stocks_final_userBased_normalized.csv',sep=';')\n",
    "investing_all= pd.read_csv('data/investing_final_userBased_normalized.csv',sep=';')"
   ]
  },
  {
   "cell_type": "code",
   "execution_count": 6,
   "metadata": {},
   "outputs": [
    {
     "data": {
      "text/plain": [
       "[('GME', 1.9417926382076713),\n",
       " ('AMC', 0.7519611332023333),\n",
       " ('TSLA', 0.6452012192291624),\n",
       " ('PLTR', 0.5198743636954403),\n",
       " ('BB', 0.4517955779734183),\n",
       " ('NIO', 0.329563212699788),\n",
       " ('RH', 0.30480729061905276),\n",
       " ('AMD', 0.23053952437684702),\n",
       " ('SPCE', 0.23053952437684702),\n",
       " ('NOK', 0.21970880846652532),\n",
       " ('AAPL', 0.20268911203601986),\n",
       " ('DOW', 0.1825749253454225),\n",
       " ('SPOT', 0.17638594482523867),\n",
       " ('MSFT', 0.17638594482523867),\n",
       " ('AMZN', 0.1717442094351008),\n",
       " ('RKT', 0.16246073865482508),\n",
       " ('AIR', 0.15781900326468723),\n",
       " ('TD', 0.15627175813464128),\n",
       " ('KIDS', 0.15472451300459533),\n",
       " ('AI', 0.15317726787454936),\n",
       " ('SHIP', 0.1516300227445034),\n",
       " ('BLUE', 0.15008277761445746),\n",
       " ('BOOM', 0.15008277761445746),\n",
       " ('EYES', 0.15008277761445746),\n",
       " ('JOBS', 0.1485355324844115),\n",
       " ('CLOV', 0.14234655196422769),\n",
       " ('FAT', 0.14079930683418174),\n",
       " ('UBER', 0.1392520617041358),\n",
       " ('MASS', 0.1392520617041358)]"
      ]
     },
     "execution_count": 6,
     "metadata": {},
     "output_type": "execute_result"
    }
   ],
   "source": [
    "eval(wsb_combined['tickers'].tolist()[0])[:29]"
   ]
  },
  {
   "cell_type": "code",
   "execution_count": 10,
   "metadata": {},
   "outputs": [
    {
     "data": {
      "text/plain": [
       "[('MASS', 0.1493065105496837),\n",
       " ('PRO', 0.14537739185100781),\n",
       " ('SKY', 0.14537739185100781),\n",
       " ('RACE', 0.14537739185100781),\n",
       " ('SE', 0.14144827315233194),\n",
       " ('GE', 0.14144827315233194),\n",
       " ('ADS', 0.13751915445365603),\n",
       " ('JP', 0.13751915445365603),\n",
       " ('MRNA', 0.13751915445365603),\n",
       " ('AIM', 0.13751915445365603),\n",
       " ('SAN', 0.13359003575498016),\n",
       " ('BODY', 0.13359003575498016),\n",
       " ('PM', 0.13359003575498016),\n",
       " ('ID', 0.13359003575498016),\n",
       " ('FIX', 0.12573179835762838),\n",
       " ('ROCK', 0.12573179835762838),\n",
       " ('FLAG', 0.12573179835762838),\n",
       " ('LEAP', 0.12573179835762838),\n",
       " ('CCL', 0.12573179835762838),\n",
       " ('TSM', 0.12180267965895249)]"
      ]
     },
     "execution_count": 10,
     "metadata": {},
     "output_type": "execute_result"
    }
   ],
   "source": [
    "eval(stocks_all['tickers'].tolist()[0])[70:90]"
   ]
  },
  {
   "cell_type": "code",
   "execution_count": 11,
   "metadata": {},
   "outputs": [
    {
     "data": {
      "text/plain": [
       "[('GME', 1.151231778712035),\n",
       " ('TSLA', 0.8565478763113433),\n",
       " ('NIO', 0.691524890966956),\n",
       " ('AMD', 0.5893678048013831),\n",
       " ('AMC', 0.5500766178146241),\n",
       " ('AAPL', 0.5304310243212447),\n",
       " ('MSFT', 0.5068563121291894),\n",
       " ('PLTR', 0.4832815999371341),\n",
       " ('AMZN', 0.40077010726494045),\n",
       " ('SPCE', 0.29468390240069153),\n",
       " ('SPOT', 0.29075478370201563),\n",
       " ('BB', 0.208243291029822),\n",
       " ('RH', 0.18859769753644257),\n",
       " ('NOK', 0.172881222741739),\n",
       " ('CLOV', 0.09036973006954539),\n",
       " ('GAME', 0.003929118698675887)]"
      ]
     },
     "execution_count": 11,
     "metadata": {},
     "output_type": "execute_result"
    }
   ],
   "source": [
    "[item for item in eval(stocks_all['tickers'].tolist()[0])[:] if item[0] in ['GME', 'AMC', 'TSLA', 'PLTR', 'GAME', 'BB', 'NIO', 'RH', 'SPCE', 'AMD', 'AAPL', 'NOK', 'MSFT', 'SPOT', 'AMZN','CLOV']]"
   ]
  },
  {
   "cell_type": "code",
   "execution_count": 13,
   "metadata": {},
   "outputs": [
    {
     "data": {
      "text/plain": [
       "[('GME', 0.7899628252788103),\n",
       " ('TSLA', 0.7760223048327137),\n",
       " ('MSFT', 0.40427509293680297),\n",
       " ('AMD', 0.3996282527881041),\n",
       " ('NIO', 0.3996282527881041),\n",
       " ('AAPL', 0.39498141263940517),\n",
       " ('AMC', 0.3020446096654275),\n",
       " ('AMZN', 0.3020446096654275),\n",
       " ('PLTR', 0.2741635687732342),\n",
       " ('SPOT', 0.24628252788104088),\n",
       " ('UBER', 0.23234200743494424),\n",
       " ('RH', 0.19981412639405205),\n",
       " ('BB', 0.17193308550185873),\n",
       " ('SPCE', 0.16728624535315986),\n",
       " ('NOK', 0.11617100371747212),\n",
       " ('CLOV', 0.046468401486988845),\n",
       " ('GAME', 0.004646840148698885)]"
      ]
     },
     "execution_count": 13,
     "metadata": {},
     "output_type": "execute_result"
    }
   ],
   "source": [
    "[item for item in eval(investing_all['tickers'].tolist()[0])[:] if item[0] in ['GME','UBER', 'AMC', 'TSLA', 'PLTR', 'GAME', 'BB', 'NIO', 'RH', 'SPCE', 'AMD', 'AAPL', 'NOK', 'MSFT', 'SPOT', 'AMZN','CLOV']]"
   ]
  },
  {
   "cell_type": "code",
   "execution_count": 46,
   "metadata": {},
   "outputs": [],
   "source": [
    "bag_of_words_wsb={}\n",
    "with open('data/dictionary_wsb_bow.json', 'r') as fp:\n",
    "    bag_of_words_wsb= json.load(fp)\n",
    "bag_of_words_stocks ={}\n",
    "with open('data/dictionary_stocks_bow.json', 'r') as fp:\n",
    "    bag_of_words_stocks= json.load(fp)\n",
    "bag_of_words_investing ={}\n",
    "with open('data/dictionary_investing_bow.json', 'r') as fp:\n",
    "    bag_of_words_investing= json.load(fp)"
   ]
  },
  {
   "cell_type": "code",
   "execution_count": 249,
   "metadata": {},
   "outputs": [],
   "source": [
    "bag_of_words_wsb =map_bag_of_words(\"wsb\",eval(wsb_combined['bow'][0]),10000)"
   ]
  },
  {
   "cell_type": "code",
   "execution_count": 250,
   "metadata": {},
   "outputs": [],
   "source": [
    "bag_of_words_stocks =map_bag_of_words(\"stocks\",eval(stocks_all['bow'][0]),10000)"
   ]
  },
  {
   "cell_type": "code",
   "execution_count": 43,
   "metadata": {},
   "outputs": [],
   "source": [
    "bag_of_words_investing =map_bag_of_words(\"investing\",eval(investing_all['bow'][0]),10000)"
   ]
  },
  {
   "cell_type": "code",
   "execution_count": 47,
   "metadata": {},
   "outputs": [
    {
     "data": {
      "text/plain": [
       "[['etf', 1.0737881202518915],\n",
       " ['hold', 10.115888660240442],\n",
       " ['🚀', 33.55355789017654],\n",
       " ['✋', 0.47500425492410764],\n",
       " ['etfs', 0.6250870325385651],\n",
       " ['🙌', 1.7700484287725704],\n",
       " ['🦍', 1.548792375175999],\n",
       " ['🔥', 0.40692546920208567],\n",
       " ['👀', 0.165555228914917],\n",
       " ['🤷', 0.07117327598211384],\n",
       " ['🤬', 0.03558663799105692],\n",
       " ['👋', 0.08974021754266528],\n",
       " ['☀', 0.023208676950689296],\n",
       " ['😍', 0.027850412340827156]]"
      ]
     },
     "execution_count": 47,
     "metadata": {},
     "output_type": "execute_result"
    }
   ],
   "source": [
    "emojis=['⏰','🤬','😍','🦅','🙌','✋','🚀','☀','🤷','🔥','👋','👀','🦍','hold','ETF','ETFs','etf','etfs']\n",
    "\n",
    "[item for item in bag_of_words_wsb if item[0] in emojis]"
   ]
  },
  {
   "cell_type": "code",
   "execution_count": 48,
   "metadata": {},
   "outputs": [
    {
     "data": {
      "text/plain": [
       "[['etfs', 3.5754980157950573],\n",
       " ['etf', 5.013555459510432],\n",
       " ['hold', 10.526108993752702],\n",
       " ['🙌', 0.09822796746689717],\n",
       " ['🚀', 1.422340968920671],\n",
       " ['🔥', 0.20431417233114613],\n",
       " ['👀', 0.09036973006954539],\n",
       " ['🦍', 0.035362068288082985]]"
      ]
     },
     "execution_count": 48,
     "metadata": {},
     "output_type": "execute_result"
    }
   ],
   "source": [
    "[item for item in bag_of_words_stocks if item[0] in emojis]"
   ]
  },
  {
   "cell_type": "code",
   "execution_count": 49,
   "metadata": {},
   "outputs": [
    {
     "data": {
      "text/plain": [
       "[['hold', 8.745353159851302],\n",
       " ['etf', 6.133828996282528],\n",
       " ['etfs', 4.865241635687732],\n",
       " ['🚀', 1.054832713754647],\n",
       " ['👀', 0.055762081784386616],\n",
       " ['🔥', 0.1579925650557621],\n",
       " ['🦍', 0.027881040892193308],\n",
       " ['🙌', 0.06970260223048327]]"
      ]
     },
     "execution_count": 49,
     "metadata": {},
     "output_type": "execute_result"
    }
   ],
   "source": [
    "[item for item in bag_of_words_investing if item[0] in emojis]"
   ]
  },
  {
   "cell_type": "code",
   "execution_count": 127,
   "metadata": {},
   "outputs": [],
   "source": [
    "def plot_features_diff(feature_name,feature1,feature2,feature3=[],from_=0,till_=10,diff=2): #input parameters: list of tuples\n",
    "    #seperate feature_keys and feature_counts\n",
    "    feature1_keys= list(list(zip(*feature1[from_:till_]))[0])\n",
    "    feature1_count= list(list(zip(*feature1[from_:till_]))[1])\n",
    "    feature2_keys= list(list(zip(*feature2[from_:till_]))[0])\n",
    "    feature2_count= list(list(zip(*feature2[from_:till_]))[1])\n",
    "    if feature3:\n",
    "        feature3_keys= list(list(zip(*feature3[from_:till_]))[0])\n",
    "        feature3_count= list(list(zip(*feature3[from_:till_]))[1])\n",
    "    #print(feature_keys1,feature1_count)\n",
    "    #intersect and find common_feature_keys\n",
    "   # common_feature_keys = list(set(feature1_keys) & set(feature2_keys) & set(feature3_keys))\n",
    "    common_feature_keys = list((set(feature1_keys) & set(feature2_keys)) & (set(feature1_keys) & set(feature3_keys)))\n",
    "   # print(common_feature_keys)\n",
    "    #set_diff_operations(feature1_keys,feature2_keys,feature3_keys)\n",
    "    count=[]\n",
    "    feature2_count=[]\n",
    "    feature3_count=[]\n",
    "    for feature in common_feature_keys:\n",
    "        count1= [count for word,count in feature1 if word == feature][0]\n",
    "        count2= [count for word,count in feature2 if word == feature][0]\n",
    "        count3= [count for word,count in feature3 if word == feature][0]\n",
    "        if (\n",
    "            ((count1 > (1.5*(count3+count2)) )and (count1 > 1)) \n",
    "            or ((count2 > (1.5*(count1+count3)) )and (count2 > 10))\n",
    "            or ((count3 > (1.5*(count1+count2)) )and (count3 > 10))\n",
    "           ):\n",
    "            if feature not in ['#','(',')','[',']','?','&','-','10','m','amp;#x200b','\\n\\n ','  ','/','%',':','' '','12','4','\\n ','’','e','!','ios_app&amp;utm_name',\n",
    "                               'share&amp;utm_medium','i.e','iossmf','“','+0.2','hi','13.5','.hello', 'search?sort','}','/u','.i','.why','.it','n','ya',\n",
    "                              '{','s3','ya','cuz','\\xa0\\n ','225','q','800','quote.ashx?t','ishare','\"','1',' ','       ','   ','.','     ','rh',\n",
    "                              '️','=','\\xa0 ','amp','r','\\t ',' \\n ','100']:\n",
    "                feature1_count=[]\n",
    "                feature1_count.append(feature)\n",
    "                feature1_count.append([count for word,count in feature1 if word == feature][0])\n",
    "                feature1_count.append([count for word,count in feature2 if word == feature][0])\n",
    "                feature1_count.append([count for word,count in feature3 if word == feature][0])\n",
    "                count.append(feature1_count)\n",
    "    if count:\n",
    "        print(count)\n",
    "        plot_df = pd.DataFrame(count, columns =[feature_name, 'WSB', 'Stocks','Investing'], dtype = int)        \n",
    "         #plot\n",
    "        plot_df.plot(figsize=(15,15),kind='barh',x=feature_name,title=feature_name)\n",
    "   "
   ]
  },
  {
   "cell_type": "code",
   "execution_count": 87,
   "metadata": {},
   "outputs": [
    {
     "name": "stdout",
     "output_type": "stream",
     "text": [
      "[['shit', 3.3312187649889373, 1.009783505559703, 0.7156133828996283], ['question', 2.0655722486113475, 8.502612863934619, 30.627323420074347], ['yolo', 3.072828828271263, 0.3300459706887745, 0.2555762081784387], ['retard', 3.8665655799848366, 0.055007661781462415, 0.041821561338289966], ['report', 4.335380854388761, 11.20584652862363, 6.649628252788103], ['rocket', 1.9309619222973498, 0.9626340811755923, 0.5390334572490706], ['stonk', 1.2919496835883708, 0.2357471219205532, 0.06970260223048327], ['fucking', 3.068187092881125, 0.40077010726494045, 0.19516728624535315], ['💎', 5.297767325277344, 0.27110919020863616, 0.120817843866171], ['nok', 1.256363045597314, 0.5068563121291894, 0.3763940520446097], ['debt', 2.6983955068001424, 4.766020981493851, 10.534386617100372], ['🦍', 1.548792375175999, 0.035362068288082985, 0.027881040892193308], ['global', 1.7313673005214216, 10.400377195395073, 3.83364312267658], ['bb', 2.484875678853801, 1.037287336450434, 0.483271375464684], ['wallstreetbet', 2.234221967786356, 0.5775804487053554, 0.4275092936802974], ['answer', 0.6328232581887949, 1.0294290990530823, 16.352230483271377], ['money', 9.586730825764727, 13.64190012180268, 25.8224907063197], ['boy', 1.318252850799152, 0.4361321755530234, 0.26022304832713755], ['tendie', 2.2357692129164026, 0.06679501787749008, 0.05111524163568773], ['need', 6.4891460754127275, 9.406310164630073, 20.780669144981413], ['gme', 17.152759511689435, 5.984047778083376, 2.3745353159851303], ['amc', 6.967244820596926, 1.8899060940631016, 0.9433085501858736], ['news', 4.944995435626867, 16.349062905190365, 7.184014869888476], ['fuck', 4.288963500487382, 0.7347451966523908, 0.37174721189591076], ['risk', 3.4441676594822916, 7.410317865702723, 18.722118959107807], ['wallstreetbets', 12.965914189785089, 0.16895210404306313, 0.17193308550185873], ['remove', 0.7519611332023333, 30.317079878983144, 34.04275092936803], ['point', 3.589608701706611, 7.649994106321952, 11.556691449814126], ['pay', 3.4194117374015565, 6.726651212133119, 11.138475836431226], ['financial', 4.4545187294023, 7.724647361596794, 24.052044609665426], ['🚀', 33.55355789017654, 1.422340968920671, 1.054832713754647], ['weekly', 2.0207021398400147, 0.9233428941888335, 0.6505576208178439], ['information', 1.6694774953195834, 4.927114848139563, 13.894052044609664], ['ask', 1.887639058656063, 2.7975325134572313, 10.441449814126393], ['invest', 4.304435951787842, 14.514164472908728, 22.323420074349443], ['diamond', 1.2455323296869925, 0.2357471219205532, 0.14869888475836432], ['pltr', 2.4028716869613653, 1.6620172095399004, 0.7156133828996283], ['gamestop', 2.3580015781900325, 1.3791206632352364, 0.9014869888475836], ['stock', 28.142841670405844, 113.77941927625635, 54.26115241635687], ['house', 1.0474849530411103, 1.2691053396723115, 11.496282527881041], ['advice', 1.8845445683959712, 3.1472240776393856, 19.400557620817843], ['current', 3.2832541659575125, 7.512474951868296, 11.654275092936803], ['discord', 1.1511503767541893, 0.37719539507288513, 0.2648698884758364], ['rkt', 1.0320125017406507, 0.7111704844603355, 0.21840148698884757], ['fellow', 1.0397487273908805, 0.22788888452320144, 0.23234200743494424], ['ape', 2.70303724219028, 0.2828965463046639, 0.06505576208178439], ['🙌', 1.7700484287725704, 0.09822796746689717, 0.06970260223048327], ['moon', 4.087821633581408, 0.7779655023378256, 0.39498141263940517], ['going', 1.8984697745663845, 1.072649404738517, 0.7295539033457249], ['thread', 2.509631600934536, 1.7877490078975287, 12.857806691449813], ['asset', 1.7576704677322026, 4.157007583199088, 12.62546468401487], ['wsb', 5.895003945475081, 1.1590900161093867, 0.7946096654275092], ['consider', 2.1305565440732774, 3.7758830694275276, 12.657992565055762], ['fund', 4.689699989169284, 7.983969195709402, 17.894981412639403], ['ban', 1.3971623524314958, 0.6758084161722525, 0.6319702602230484], ['squeeze', 5.248255481115873, 2.85646929393737, 1.3661710037174721], ['minimum', 1.3120638702789682, 0.6011551608974107, 0.5994423791821561]]\n"
     ]
    },
    {
     "name": "stderr",
     "output_type": "stream",
     "text": [
      "C:\\Users\\96ank\\AppData\\Local\\Continuum\\anaconda3\\lib\\site-packages\\ipykernel_launcher.py:1: FutureWarning: Could not cast to int32, falling back to object. This behavior is deprecated. In a future version, when a dtype is passed to 'DataFrame', either all columns will be cast to that dtype, or a TypeError will be raised\n",
      "  \"\"\"Entry point for launching an IPython kernel.\n"
     ]
    },
    {
     "data": {
      "image/png": "[encoded data removed]",
      "text/plain": [
       "<Figure size 1080x1440 with 1 Axes>"
      ]
     },
     "metadata": {
      "needs_background": "light"
     },
     "output_type": "display_data"
    }
   ],
   "source": [
    "plot_features_diff('BOW',bag_of_words_wsb,bag_of_words_stocks,bag_of_words_investing,0,10000)"
   ]
  },
  {
   "cell_type": "code",
   "execution_count": 105,
   "metadata": {},
   "outputs": [
    {
     "data": {
      "text/plain": [
       "[('good', 20.808612628187497),\n",
       " ('more', 20.179953636399357),\n",
       " ('high', 17.81462417979647),\n",
       " ('other', 17.437428784723586),\n",
       " ('new', 15.241051432163765)]"
      ]
     },
     "execution_count": 105,
     "metadata": {},
     "output_type": "execute_result"
    }
   ],
   "source": [
    "eval(stocks_all['adjectives'].tolist()[0])[:5]"
   ]
  },
  {
   "cell_type": "code",
   "execution_count": 119,
   "metadata": {},
   "outputs": [
    {
     "name": "stdout",
     "output_type": "stream",
     "text": [
      "[['specific', 0.4517955779734183, 1.0608620486424893, 6.802973977695167], ['aware', 0.2908820844486392, 0.6011551608974107, 6.143122676579925], ['top', 1.7081586235707324, 8.852304428116774, 2.462825278810409], ['safe', 0.9376305488078477, 2.530352441947271, 7.57899628252788], ['useful', 0.24291748541721464, 1.740599583513418, 7.555762081784387], ['personal', 0.5925948848076, 1.2337432713842285, 8.931226765799256], ['financial', 4.253376862496325, 7.257082236454364, 23.671003717472118], ['expensive', 0.5121381380452105, 0.8054693332285568, 5.051115241635688], ['fundamental', 0.9639337160186289, 6.416250834937723, 1.338289962825279], ['fucking', 2.5312930327551797, 0.33397508938745035, 0.16263940520446096], ['registered', 0.013925206170413578, 0.031432949589407094, 5.580855018587361], ['old', 1.2656465163775898, 2.1374405720796825, 8.183085501858736], ['proper', 0.11294889449335457, 0.20431417233114613, 5.757434944237918], ['relevant', 0.18412217047546844, 0.4204157007583199, 9.739776951672862]]\n"
     ]
    },
    {
     "name": "stderr",
     "output_type": "stream",
     "text": [
      "C:\\Users\\96ank\\AppData\\Local\\Continuum\\anaconda3\\lib\\site-packages\\ipykernel_launcher.py:3: FutureWarning: Could not cast to int32, falling back to object. This behavior is deprecated. In a future version, when a dtype is passed to 'DataFrame', either all columns will be cast to that dtype, or a TypeError will be raised\n",
      "  This is separate from the ipykernel package so we can avoid doing imports until\n"
     ]
    },
    {
     "data": {
      "image/png": "[encoded data removed]",
      "text/plain": [
       "<Figure size 1080x1440 with 1 Axes>"
      ]
     },
     "metadata": {
      "needs_background": "light"
     },
     "output_type": "display_data"
    }
   ],
   "source": [
    "plot_features_diff('Adjectives',eval(wsb_combined['adjectives'].tolist()[0])\n",
    "              ,eval(stocks_all['adjectives'].tolist()[0])\n",
    "              ,eval(investing_all['adjectives'].tolist()[0]),0,10000)"
   ]
  },
  {
   "cell_type": "code",
   "execution_count": 123,
   "metadata": {},
   "outputs": [
    {
     "name": "stdout",
     "output_type": "stream",
     "text": [
      "[['employ', 0.0959291980628491, 0.16502298534438725, 5.70631970260223], ['need', 5.444755612631709, 7.779655023378257, 19.456319702602233], ['consider', 2.119725828162956, 3.756237475934148, 12.644052044609666], ['ask', 1.6911389271402268, 2.4910612549605124, 10.111524163568774], ['give', 5.183271185653943, 7.567482613649758, 15.789962825278812], ['mind', 0.1191378750135384, 0.2632509528112844, 5.7667286245353155], ['🦍', 1.3708591852207146, 0.02357471219205532, 0.01858736059479554], ['fuck', 1.9000170196964306, 0.3496915641821539, 0.1533457249070632], ['risk', 0.17329145456514675, 0.22395976582452554, 5.827137546468402]]\n"
     ]
    },
    {
     "name": "stderr",
     "output_type": "stream",
     "text": [
      "C:\\Users\\96ank\\AppData\\Local\\Continuum\\anaconda3\\lib\\site-packages\\ipykernel_launcher.py:3: FutureWarning: Could not cast to int32, falling back to object. This behavior is deprecated. In a future version, when a dtype is passed to 'DataFrame', either all columns will be cast to that dtype, or a TypeError will be raised\n",
      "  This is separate from the ipykernel package so we can avoid doing imports until\n"
     ]
    },
    {
     "data": {
      "image/png": "[encoded data removed]",
      "text/plain": [
       "<Figure size 1080x1080 with 1 Axes>"
      ]
     },
     "metadata": {
      "needs_background": "light"
     },
     "output_type": "display_data"
    }
   ],
   "source": [
    "plot_features_diff('Verbs',eval(wsb_combined['verbs'].tolist()[0])\n",
    "              ,eval(stocks_all['verbs'].tolist()[0])\n",
    "              ,eval(investing_all['verbs'].tolist()[0]),0,10000)"
   ]
  },
  {
   "cell_type": "code",
   "execution_count": 128,
   "metadata": {},
   "outputs": [
    {
     "name": "stdout",
     "output_type": "stream",
     "text": [
      "[['shit', 2.8283640977240023, 0.8486896389139915, 0.6366171003717472], ['question', 1.9650013151583605, 8.306156929000826, 30.492565055762082], ['yolo', 1.0799771007720753, 0.09429884876822128, 0.06970260223048327], ['retard', 3.136265878603147, 0.04322030568543475, 0.032527881040892194], ['💎', 3.5137936903343596, 0.1846685788377667, 0.09758364312267657], ['wallstreetbet', 2.19089910414507, 0.5540057365133, 0.40427509293680297], ['png&amp;auto', 1.3290835667094738, 0.015716474794703547, 0.08828996282527882], ['answer', 0.44096486206309665, 0.7268869592550391, 15.636617100371748], ['boy', 1.1434141511039595, 0.3732662763742092, 0.2091078066914498], ['tendie', 1.6013987095975617, 0.04322030568543475, 0.032527881040892194], ['gme', 11.079822376259072, 3.952693410867943, 1.6960966542750928], ['fuck', 1.85050517553496, 0.29468390240069153, 0.16728624535315986], ['wallstreetbets', 12.888551933282791, 0.14537739185100781, 0.16263940520446096], ['🚀', 1.3089693800188764, 0.07072413657616597, 0.041821561338289966], ['information', 1.6648357599294457, 4.9231857294408865, 13.87546468401487], ['diamond', 1.1062802679828565, 0.21610152842717378, 0.13011152416356878], ['house', 0.7550556234624252, 0.8919099445994264, 10.985130111524164], ['advice', 1.8814500781358792, 3.1354367215433574, 19.386617100371748], ['discord', 1.1248472095434079, 0.33790420808612626, 0.22304832713754646], ['ape', 2.5854466123067876, 0.2632509528112844, 0.06505576208178439], ['moon', 3.567947269885968, 0.6875957722682802, 0.3392193308550186], ['thread', 2.4895174142439385, 1.7720325331028253, 12.699814126394052], ['asset', 1.7344617907815136, 4.094141684020274, 12.518587360594797], ['minimum', 1.1697173183147407, 0.2868256650033397, 0.35315985130111527]]\n"
     ]
    },
    {
     "name": "stderr",
     "output_type": "stream",
     "text": [
      "C:\\Users\\96ank\\AppData\\Local\\Continuum\\anaconda3\\lib\\site-packages\\ipykernel_launcher.py:3: FutureWarning: Could not cast to int32, falling back to object. This behavior is deprecated. In a future version, when a dtype is passed to 'DataFrame', either all columns will be cast to that dtype, or a TypeError will be raised\n",
      "  This is separate from the ipykernel package so we can avoid doing imports until\n"
     ]
    },
    {
     "data": {
      "image/png": "[encoded data removed]",
      "text/plain": [
       "<Figure size 1080x1080 with 1 Axes>"
      ]
     },
     "metadata": {
      "needs_background": "light"
     },
     "output_type": "display_data"
    }
   ],
   "source": [
    "plot_features_diff('Nouns',eval(wsb_combined['nouns'].tolist()[0])\n",
    "              ,eval(stocks_all['nouns'].tolist()[0])\n",
    "              ,eval(investing_all['nouns'].tolist()[0]),0,10000)"
   ]
  },
  {
   "cell_type": "code",
   "execution_count": 77,
   "metadata": {},
   "outputs": [],
   "source": [
    "unique_wsb_bow = []\n",
    "unique_stocks_bow = []\n",
    "unique_investing_bow = []"
   ]
  },
  {
   "cell_type": "code",
   "execution_count": 129,
   "metadata": {},
   "outputs": [],
   "source": [
    "import re\n",
    "def set_diff_operations_(feature1_keys,feature2_keys,feature3_keys):\n",
    "    #special_characters = \"\"!@$%^&*()-+?_=,<>/\"\"\n",
    "    regex = re.compile('[@_!#%^&*;\\\\ \\-()<>?/\\|}{~:^0-9\\\\\\]') \n",
    "    unique_wsb_bow =list((set(feature1_keys) - set(feature2_keys)) & (set(feature1_keys) - set(feature3_keys)))\n",
    "    unique_stocks_bow = list((set(feature2_keys) - set(feature1_keys)) & (set(feature2_keys) - set(feature3_keys)))\n",
    "    unique_investing_bow = list((set(feature3_keys) - set(feature2_keys)) & (set(feature3_keys) - set(feature1_keys)))\n",
    "   \n",
    "    print(\"Unique in WSB:\",)# unique_wsb_bow[:10])\n",
    "    global_dict = dict([item for item in bag_of_words_wsb if (item[0] in unique_wsb_bow and regex.search(item[0]) == None)])\n",
    "    print(\"Unique in WSB:\", len(global_dict))\n",
    "    print(list(list(zip(*sorted(global_dict.items(), key=lambda item: item[1], reverse = True)[:100])))[0])\n",
    "    #print([item for item in bag_of_words_wsb if item[0] in unique_wsb_bow][:10])\n",
    "    print()\n",
    "   \n",
    "    \n",
    "    print(\"Unique in Stocks:\",)# unique_stocks_bow[:10])\n",
    "    global_dict = dict([item for item in bag_of_words_stocks if (item[0] in unique_stocks_bow and regex.search(item[0]) == None)])\n",
    "    print(\"Unique in Stocks:\",len(global_dict))\n",
    "    print(list(list(zip(*sorted(global_dict.items(), key=lambda item: item[1], reverse = True)[:100])))[0])\n",
    "    print()\n",
    "  \n",
    "  \n",
    "   \n",
    "    print(\"Unique in Investing:\",)# unique_investing_bow[:10])\n",
    "    global_dict = dict([item for item in bag_of_words_investing if (item[0] in unique_investing_bow and regex.search(item[0]) == None)])\n",
    "    print(\"Unique in Investing:\", len(global_dict))\n",
    "    print(list(list(zip(*sorted(global_dict.items(), key=lambda item: item[1], reverse = True)[:100])))[0])\n",
    "    \n",
    "   "
   ]
  },
  {
   "cell_type": "code",
   "execution_count": 79,
   "metadata": {},
   "outputs": [
    {
     "name": "stdout",
     "output_type": "stream",
     "text": [
      "Unique in WSB:\n",
      "Unique in WSB: 1395\n",
      "('shitposting', '👐', 'contentguide', '🌕', 'autistic', '✋', 'votebot', '🤲', '🤚', 'img', '\\u200d', '🏼', '🍌', '🌙', 'deepfuckingvalue', 'autism', 'spacecraft', '🌝', '🖐', 'zjz', 'fucker', 'tard', 'pussy', 'retards', '↗', '💪', 'barstool', '😎', '💸', 'fd', 'yoloe', 'peruse', 'hfs', 'cgx', 'thou', 'tmc', 'cuck', '💵', '🏽', 'guh', 'irnt', '❤', '✊', 'chad', 'motherfucker', 'moass', '👏', 'bitcorn', '🇸', '🧻', 'yolos', 'og', 'billboard', '🤡', 'stimmy', '👨', 'bastard', 'unto', 'shitpost', 'eow', 'distraction', 'magna', 'begat', 'electron', 'shitron', 'xpdbegt', '✌', 'aterian', 'ishbia', 'antimony', 'cftc', 'bye', 'gorilla', 'gilbert', 'gainz', '🍆', 'jordan', '👋', 'ncino', 'bigly', 'dildo', '👌', '💯', '😭', 'thy', 'jail', '\\U0001f9a7', 'dilutionary', 'obv', 'pluto', 'diablo', '🐂', 'valhalla', 'jerk', 'bf', 'mars', '🍗', 'cock', 'mln', 'std')\n",
      "\n",
      "Unique in Stocks:\n",
      "Unique in Stocks: 940\n",
      "('streetinsider', 'market+check', 'tcgyt', 'unattractive', 'hotly', 'autoremove', 'roa', 'lunchtime', 'whipsaw', 'bollinger', 'calloption.asp', 'putoption.asp', 'stocks', 'atr', 'dcf.asp', 'stockchart', 'cdn', 'patterns', 'csi', 'xtsx', 'maxn', 'rollin', 'douyu', 'elsese', 'doyu', 'opy', 'abcellera', 'margenza', 'smid', 'betterware', 'xtse', 'chgg', 'chf', 'assertio', 'stag', 'sft', 'runaway', 'genprex', 'ransomware', 'vwagy', 'rebuy', 'jac', 'embark', 'bund', 'trustee', 'ldi', 'vstoxx', 'gilt', 'eur€', 'gbp£', 'matterport', 'sedg', 'xerox', 'umc', 'pbf', 'triterras', 'presently', 'persona', 'jpy¥', 'kellogg', 'theresa', 'bokhari', 'dram', 'kaseya', 'ebita', 'sasol', 'des', 'sodium', 'rvp', 'jgbs', 'cape', 'siyata', 'syta', 'nls', 'clearsign', 'gb', 'fisher', 'agnc', 'leading', 'rigl', 'krato', 'enxtpa', 'fiserv', 'agtc', 'vie', 'aqua', 'imperial', 'yuengling', 'hmpt', 'mcclellan', 'nova', 'rl', 'geely', 'bottoming', 'dpo', 'bernstein', 'offensive', 'celularity', 'surf', 'lmp')\n",
      "\n",
      "Unique in Investing:\n",
      "Unique in Investing: 1236\n",
      "('neat', 'spitballin', 'dk', 'stablecoin', 'moronic', 'criteo', 'advancethank', 'chainlink', 'propane', 'aia', 'baos', 'redbubble', 'harassment', 'perimeter', 'directv', 'embarrassed', 'xxii', 'dx', 'bsv', 'utz', 'rv', 'biocept', 'biometric', 'servicer', 'alkerme', 'mer', 'nfi', 'cyxtera', 'prosus', 'opti', 'schizophrenia', 'palladium', 'pctl', 'viacom', 'htzgq', 'psyc', 'arosa', 'ejf', 'hikvision', 'lumateperone', 'cardlytic', 'howard', 'suburban', 'shack', 'fundrise', 'ftoc', 'uphealth', 'auvi', 'hihi', 'championship', 'molybdenum', 'slrx', 'confidentiality', 'novation', 'smme', 'smartmetric', 'brigadier', 'optec', 'pct', 'gbtc', 'allstate', 'torq', 'fn', 'bipolar', 'gist', 'igdaloff', 'nct', 'reorganize', 'lu', 'ringier', '👽', 'cytta', 'khiron', 'anonymity', 'vfiax', 'bridgewater', 'hsa', 'aavs', 'donahoe', 'vtiax', 'acgx', 'cyca', 'cibt', 'gcu', 'grayscale', 'jblu', 'nicotine', 'counsel', 'denison', 'nol', 'bpd', 'fc', 'abml', 'pnnx', 'sd', 'disinfect', 'zn', 'largo', 'cpr', 'def')\n"
     ]
    }
   ],
   "source": [
    "set_diff_operations_(set(list(list(zip(*bag_of_words_wsb[:]))[0])),set(list(list(zip(*bag_of_words_stocks[:]))[0])),set(list(list(zip(*bag_of_words_investing[:]))[0])))"
   ]
  },
  {
   "cell_type": "code",
   "execution_count": null,
   "metadata": {},
   "outputs": [],
   "source": [
    "import re\n",
    "def set_diff_operations_by_feature(feature1_keys,feature2_keys,feature3_keys,feature_name):\n",
    "    #print(feature1_keys)\n",
    "    #special_characters = \"\"!@$%^&*()-+?_=,<>/\"\"\n",
    "    regex = re.compile('[@_!#%^&*;\\\\ \\-()<>?/\\|}{~:^0-9\\\\\\]') \n",
    "    unique_wsb_bow =list((set(feature1_keys) - set(feature2_keys)) & (set(feature1_keys) - set(feature3_keys)))\n",
    "    unique_stocks_bow = list((set(feature2_keys) - set(feature1_keys)) & (set(feature2_keys) - set(feature3_keys)))\n",
    "    unique_investing_bow = list((set(feature3_keys) - set(feature2_keys)) & (set(feature3_keys) - set(feature1_keys)))\n",
    "    \n",
    "    print(\"Unique in WSB:\",)# unique_wsb_bow[:10])\n",
    "    global_dict = dict([item for item in eval(wsb_combined[feature_name].tolist()[0]) if (item[0] in unique_wsb_bow and regex.search(item[0]) == None)])\n",
    "    print(\"Unique in WSB:\", len(global_dict))\n",
    "    print(list(list(zip(*sorted(global_dict.items(), key=lambda item: item[1], reverse = True)[:50])))[0])\n",
    "    #print([item for item in bag_of_words_wsb if item[0] in unique_wsb_bow][:10])\n",
    "    print()\n",
    "   \n",
    "    \n",
    "    print(\"Unique in Stocks:\",)# unique_stocks_bow[:10])\n",
    "    global_dict = dict([item for item in eval(stocks_all[feature_name].tolist()[0]) if (item[0] in unique_stocks_bow and regex.search(item[0]) == None)])\n",
    "    print(\"Unique in Stocks:\",len(global_dict))\n",
    "    print(list(list(zip(*sorted(global_dict.items(), key=lambda item: item[1], reverse = True)[:50])))[0])\n",
    "    print()\n",
    "  \n",
    "  \n",
    "   \n",
    "    print(\"Unique in Investing:\",)# unique_investing_bow[:10])\n",
    "    global_dict = dict([item for item in eval(investing_all[feature_name].tolist()[0]) if (item[0] in unique_investing_bow and regex.search(item[0]) == None)])\n",
    "    print(\"Unique in Investing:\", len(global_dict))\n",
    "    print(list(list(zip(*sorted(global_dict.items(), key=lambda item: item[1], reverse = True)[:50])))[0])"
   ]
  },
  {
   "cell_type": "code",
   "execution_count": null,
   "metadata": {},
   "outputs": [],
   "source": [
    "set_diff_operations_by_feature(set(list(list(zip(*eval(wsb_combined['nouns'].tolist()[0])))[0])),\n",
    "                     set(list(list(zip(*eval(stocks_all['nouns'].tolist()[0])))[0])),\n",
    "                     set(list(list(zip(*eval(investing_all['nouns'].tolist()[0])))[0])),\n",
    "                              'nouns')"
   ]
  },
  {
   "cell_type": "code",
   "execution_count": null,
   "metadata": {},
   "outputs": [],
   "source": [
    "set_diff_operations_by_feature(set(list(list(zip(*eval(wsb_combined['tickers'].tolist()[0])))[0])),\n",
    "                     set(list(list(zip(*eval(stocks_all['tickers'].tolist()[0])))[0])),\n",
    "                     set(list(list(zip(*eval(investing_all['tickers'].tolist()[0])))[0])),\n",
    "                              'tickers')"
   ]
  },
  {
   "cell_type": "code",
   "execution_count": null,
   "metadata": {},
   "outputs": [],
   "source": [
    "set_diff_operations_by_feature(set(list(list(zip(*eval(wsb_combined['adjectives'].tolist()[0])))[0])),\n",
    "                     set(list(list(zip(*eval(stocks_all['adjectives'].tolist()[0])))[0])),\n",
    "                     set(list(list(zip(*eval(investing_all['adjectives'].tolist()[0])))[0])),\n",
    "                              'adjectives')"
   ]
  },
  {
   "cell_type": "code",
   "execution_count": null,
   "metadata": {},
   "outputs": [],
   "source": [
    "set_diff_operations_by_feature(set(list(list(zip(*eval(wsb_combined['verbs'].tolist()[0])))[0])),\n",
    "                     set(list(list(zip(*eval(stocks_all['verbs'].tolist()[0])))[0])),\n",
    "                     set(list(list(zip(*eval(investing_all['verbs'].tolist()[0])))[0])),\n",
    "                              'verbs')"
   ]
  },
  {
   "cell_type": "code",
   "execution_count": 45,
   "metadata": {},
   "outputs": [],
   "source": [
    "with open('data/dictionary_investing_bow.json', 'w') as fp:\n",
    "    json.dump(bag_of_words_investing, fp)"
   ]
  },
  {
   "cell_type": "code",
   "execution_count": 255,
   "metadata": {},
   "outputs": [],
   "source": [
    "with open('data/dictionary_stocks_bow.json', 'w') as fp:\n",
    "    json.dump(bag_of_words_stocks, fp)"
   ]
  },
  {
   "cell_type": "code",
   "execution_count": 256,
   "metadata": {},
   "outputs": [],
   "source": [
    "with open('data/dictionary_wsb_bow.json', 'w') as fp:\n",
    "    json.dump(bag_of_words_wsb, fp)"
   ]
  },
  {
   "cell_type": "code",
   "execution_count": null,
   "metadata": {},
   "outputs": [],
   "source": []
  }
 ],
 "metadata": {
  "kernelspec": {
   "display_name": "Python 3",
   "language": "python",
   "name": "python3"
  },
  "language_info": {
   "codemirror_mode": {
    "name": "ipython",
    "version": 3
   },
   "file_extension": ".py",
   "mimetype": "text/x-python",
   "name": "python",
   "nbconvert_exporter": "python",
   "pygments_lexer": "ipython3",
   "version": "3.7.4"
  }
 },
 "nbformat": 4,
 "nbformat_minor": 4
}
