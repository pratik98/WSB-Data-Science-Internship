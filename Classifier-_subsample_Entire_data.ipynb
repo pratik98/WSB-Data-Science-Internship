{
 "cells": [
  {
   "cell_type": "code",
   "execution_count": 1,
   "metadata": {},
   "outputs": [],
   "source": [
    "%%capture\n",
    "from datetime import datetime\n",
    "import matplotlib\n",
    "matplotlib.use('Agg')\n",
    "import matplotlib.pyplot as plt\n",
    "import numpy as np\n",
    "import pandas as pd\n",
    "import json\n",
    "from io import StringIO\n",
    "from sklearn.feature_extraction.text import TfidfVectorizer\n",
    "from sklearn.feature_selection import chi2\n",
    "\n",
    "from sklearn.model_selection import train_test_split\n",
    "from sklearn.feature_extraction.text import CountVectorizer\n",
    "from sklearn.feature_extraction.text import TfidfTransformer\n",
    "from sklearn.naive_bayes import MultinomialNB\n",
    "\n",
    "from sklearn.linear_model import LogisticRegression\n",
    "from sklearn.ensemble import RandomForestClassifier\n",
    "from sklearn.svm import LinearSVC\n",
    "from sklearn.model_selection import cross_val_score\n",
    "from sklearn.metrics import confusion_matrix\n",
    "import seaborn as sns\n",
    "from IPython.display import display\n",
    "from sklearn import metrics\n",
    "plt.rcParams.update({\"font.size\": 12})\n",
    "%matplotlib inline"
   ]
  },
  {
   "cell_type": "code",
   "execution_count": 2,
   "metadata": {},
   "outputs": [],
   "source": [
    "wsb_common_users_data = pd.read_csv(\"data/WSB_data_with_emb.csv\",sep=';', usecols = ['title'], low_memory = True)\n",
    "stocks_common_users_data= pd.read_csv(\"stocks/data/stocks_submissions_all.csv\",sep=';', usecols = ['title'], low_memory = True)\n",
    "investing_common_users_data= pd.read_csv(\"investing/data/investing_submissions_all.csv\",sep=';', usecols = ['title'], low_memory = True)"
   ]
  },
  {
   "cell_type": "code",
   "execution_count": 3,
   "metadata": {},
   "outputs": [],
   "source": [
    "# Create new column denoting class label and combine into one df\n",
    "wsb_common_users_data['sub'] = 'wsb'\n",
    "stocks_common_users_data['sub'] = 'stocks'\n",
    "investing_common_users_data['sub'] = 'investing'"
   ]
  },
  {
   "cell_type": "code",
   "execution_count": 29,
   "metadata": {},
   "outputs": [
    {
     "data": {
      "text/html": [
       "<div>\n",
       "<style scoped>\n",
       "    .dataframe tbody tr th:only-of-type {\n",
       "        vertical-align: middle;\n",
       "    }\n",
       "\n",
       "    .dataframe tbody tr th {\n",
       "        vertical-align: top;\n",
       "    }\n",
       "\n",
       "    .dataframe thead th {\n",
       "        text-align: right;\n",
       "    }\n",
       "</style>\n",
       "<table border=\"1\" class=\"dataframe\">\n",
       "  <thead>\n",
       "    <tr style=\"text-align: right;\">\n",
       "      <th></th>\n",
       "      <th>title</th>\n",
       "      <th>sub</th>\n",
       "    </tr>\n",
       "  </thead>\n",
       "  <tbody>\n",
       "    <tr>\n",
       "      <th>0</th>\n",
       "      <td>SNAP seems like a great long-term buy at this ...</td>\n",
       "      <td>stocks</td>\n",
       "    </tr>\n",
       "  </tbody>\n",
       "</table>\n",
       "</div>"
      ],
      "text/plain": [
       "                                               title     sub\n",
       "0  SNAP seems like a great long-term buy at this ...  stocks"
      ]
     },
     "execution_count": 29,
     "metadata": {},
     "output_type": "execute_result"
    }
   ],
   "source": [
    "stocks_common_users_data.head(1)"
   ]
  },
  {
   "cell_type": "code",
   "execution_count": 4,
   "metadata": {},
   "outputs": [
    {
     "data": {
      "text/html": [
       "<div>\n",
       "<style scoped>\n",
       "    .dataframe tbody tr th:only-of-type {\n",
       "        vertical-align: middle;\n",
       "    }\n",
       "\n",
       "    .dataframe tbody tr th {\n",
       "        vertical-align: top;\n",
       "    }\n",
       "\n",
       "    .dataframe thead th {\n",
       "        text-align: right;\n",
       "    }\n",
       "</style>\n",
       "<table border=\"1\" class=\"dataframe\">\n",
       "  <thead>\n",
       "    <tr style=\"text-align: right;\">\n",
       "      <th></th>\n",
       "      <th>title</th>\n",
       "      <th>sub</th>\n",
       "    </tr>\n",
       "  </thead>\n",
       "  <tbody>\n",
       "    <tr>\n",
       "      <th>0</th>\n",
       "      <td>What do you use to invest?</td>\n",
       "      <td>investing</td>\n",
       "    </tr>\n",
       "  </tbody>\n",
       "</table>\n",
       "</div>"
      ],
      "text/plain": [
       "                        title        sub\n",
       "0  What do you use to invest?  investing"
      ]
     },
     "execution_count": 4,
     "metadata": {},
     "output_type": "execute_result"
    }
   ],
   "source": [
    "investing_common_users_data.head(1)"
   ]
  },
  {
   "cell_type": "code",
   "execution_count": 5,
   "metadata": {},
   "outputs": [],
   "source": [
    "all_data = wsb_common_users_data.append(investing_common_users_data, ignore_index=True)"
   ]
  },
  {
   "cell_type": "code",
   "execution_count": 6,
   "metadata": {},
   "outputs": [],
   "source": [
    "all_data = all_data.append(stocks_common_users_data, ignore_index=True)"
   ]
  },
  {
   "cell_type": "code",
   "execution_count": 7,
   "metadata": {},
   "outputs": [],
   "source": [
    "all_data = all_data[pd.notnull(all_data['title'])]"
   ]
  },
  {
   "cell_type": "code",
   "execution_count": 8,
   "metadata": {},
   "outputs": [
    {
     "data": {
      "text/html": [
       "<div>\n",
       "<style scoped>\n",
       "    .dataframe tbody tr th:only-of-type {\n",
       "        vertical-align: middle;\n",
       "    }\n",
       "\n",
       "    .dataframe tbody tr th {\n",
       "        vertical-align: top;\n",
       "    }\n",
       "\n",
       "    .dataframe thead th {\n",
       "        text-align: right;\n",
       "    }\n",
       "</style>\n",
       "<table border=\"1\" class=\"dataframe\">\n",
       "  <thead>\n",
       "    <tr style=\"text-align: right;\">\n",
       "      <th></th>\n",
       "      <th>title</th>\n",
       "      <th>sub</th>\n",
       "    </tr>\n",
       "  </thead>\n",
       "  <tbody>\n",
       "    <tr>\n",
       "      <th>0</th>\n",
       "      <td>BB</td>\n",
       "      <td>wsb</td>\n",
       "    </tr>\n",
       "  </tbody>\n",
       "</table>\n",
       "</div>"
      ],
      "text/plain": [
       "  title  sub\n",
       "0    BB  wsb"
      ]
     },
     "execution_count": 8,
     "metadata": {},
     "output_type": "execute_result"
    }
   ],
   "source": [
    "all_data.head(1)"
   ]
  },
  {
   "cell_type": "code",
   "execution_count": 9,
   "metadata": {},
   "outputs": [
    {
     "name": "stdout",
     "output_type": "stream",
     "text": [
      "<class 'pandas.core.frame.DataFrame'>\n",
      "Int64Index: 1144025 entries, 0 to 1144026\n",
      "Data columns (total 2 columns):\n",
      " #   Column  Non-Null Count    Dtype \n",
      "---  ------  --------------    ----- \n",
      " 0   title   1144025 non-null  object\n",
      " 1   sub     1144025 non-null  object\n",
      "dtypes: object(2)\n",
      "memory usage: 26.2+ MB\n"
     ]
    }
   ],
   "source": [
    "all_data.info()"
   ]
  },
  {
   "cell_type": "code",
   "execution_count": 10,
   "metadata": {},
   "outputs": [
    {
     "data": {
      "text/html": [
       "<div>\n",
       "<style scoped>\n",
       "    .dataframe tbody tr th:only-of-type {\n",
       "        vertical-align: middle;\n",
       "    }\n",
       "\n",
       "    .dataframe tbody tr th {\n",
       "        vertical-align: top;\n",
       "    }\n",
       "\n",
       "    .dataframe thead th {\n",
       "        text-align: right;\n",
       "    }\n",
       "</style>\n",
       "<table border=\"1\" class=\"dataframe\">\n",
       "  <thead>\n",
       "    <tr style=\"text-align: right;\">\n",
       "      <th></th>\n",
       "      <th>title</th>\n",
       "      <th>sub</th>\n",
       "      <th>sub_id</th>\n",
       "    </tr>\n",
       "  </thead>\n",
       "  <tbody>\n",
       "    <tr>\n",
       "      <th>0</th>\n",
       "      <td>BB</td>\n",
       "      <td>wsb</td>\n",
       "      <td>0</td>\n",
       "    </tr>\n",
       "    <tr>\n",
       "      <th>1</th>\n",
       "      <td>Surely it is a coincidence.</td>\n",
       "      <td>wsb</td>\n",
       "      <td>0</td>\n",
       "    </tr>\n",
       "    <tr>\n",
       "      <th>2</th>\n",
       "      <td>yolo sava options</td>\n",
       "      <td>wsb</td>\n",
       "      <td>0</td>\n",
       "    </tr>\n",
       "    <tr>\n",
       "      <th>3</th>\n",
       "      <td>meme</td>\n",
       "      <td>wsb</td>\n",
       "      <td>0</td>\n",
       "    </tr>\n",
       "    <tr>\n",
       "      <th>4</th>\n",
       "      <td>BB</td>\n",
       "      <td>wsb</td>\n",
       "      <td>0</td>\n",
       "    </tr>\n",
       "  </tbody>\n",
       "</table>\n",
       "</div>"
      ],
      "text/plain": [
       "                         title  sub  sub_id\n",
       "0                           BB  wsb       0\n",
       "1  Surely it is a coincidence.  wsb       0\n",
       "2            yolo sava options  wsb       0\n",
       "3                         meme  wsb       0\n",
       "4                           BB  wsb       0"
      ]
     },
     "execution_count": 10,
     "metadata": {},
     "output_type": "execute_result"
    }
   ],
   "source": [
    "all_data['sub_id'] = all_data['sub'].factorize()[0]\n",
    "category_id_df = all_data[['sub', 'sub_id']].drop_duplicates().sort_values('sub_id')\n",
    "category_to_id = dict(category_id_df.values)\n",
    "id_to_category = dict(category_id_df[['sub_id', 'sub']].values)\n",
    "all_data.head()"
   ]
  },
  {
   "cell_type": "code",
   "execution_count": 21,
   "metadata": {},
   "outputs": [],
   "source": [
    "sample_data_1=all_data[all_data['sub']=='wsb'].sample(frac = 0.025)"
   ]
  },
  {
   "cell_type": "code",
   "execution_count": 22,
   "metadata": {},
   "outputs": [
    {
     "name": "stdout",
     "output_type": "stream",
     "text": [
      "<class 'pandas.core.frame.DataFrame'>\n",
      "Int64Index: 21544 entries, 729628 to 256438\n",
      "Data columns (total 3 columns):\n",
      " #   Column  Non-Null Count  Dtype \n",
      "---  ------  --------------  ----- \n",
      " 0   title   21544 non-null  object\n",
      " 1   sub     21544 non-null  object\n",
      " 2   sub_id  21544 non-null  int64 \n",
      "dtypes: int64(1), object(2)\n",
      "memory usage: 673.2+ KB\n"
     ]
    }
   ],
   "source": [
    "sample_data_1.info()"
   ]
  },
  {
   "cell_type": "code",
   "execution_count": 25,
   "metadata": {},
   "outputs": [],
   "source": [
    "sample_data_2=all_data[all_data['sub']=='stocks'].sample(frac = 0.15)"
   ]
  },
  {
   "cell_type": "code",
   "execution_count": 26,
   "metadata": {},
   "outputs": [
    {
     "name": "stdout",
     "output_type": "stream",
     "text": [
      "<class 'pandas.core.frame.DataFrame'>\n",
      "Int64Index: 23176 entries, 994627 to 1110244\n",
      "Data columns (total 3 columns):\n",
      " #   Column  Non-Null Count  Dtype \n",
      "---  ------  --------------  ----- \n",
      " 0   title   23176 non-null  object\n",
      " 1   sub     23176 non-null  object\n",
      " 2   sub_id  23176 non-null  int64 \n",
      "dtypes: int64(1), object(2)\n",
      "memory usage: 724.2+ KB\n"
     ]
    }
   ],
   "source": [
    "sample_data_2.info()"
   ]
  },
  {
   "cell_type": "code",
   "execution_count": 27,
   "metadata": {},
   "outputs": [],
   "source": [
    "sample_data_3=all_data[all_data['sub']=='investing'].sample(frac = 0.15)"
   ]
  },
  {
   "cell_type": "code",
   "execution_count": 28,
   "metadata": {},
   "outputs": [
    {
     "name": "stdout",
     "output_type": "stream",
     "text": [
      "<class 'pandas.core.frame.DataFrame'>\n",
      "Int64Index: 23176 entries, 994627 to 1110244\n",
      "Data columns (total 3 columns):\n",
      " #   Column  Non-Null Count  Dtype \n",
      "---  ------  --------------  ----- \n",
      " 0   title   23176 non-null  object\n",
      " 1   sub     23176 non-null  object\n",
      " 2   sub_id  23176 non-null  int64 \n",
      "dtypes: int64(1), object(2)\n",
      "memory usage: 724.2+ KB\n"
     ]
    }
   ],
   "source": [
    "sample_data_2.info()"
   ]
  },
  {
   "cell_type": "code",
   "execution_count": 30,
   "metadata": {},
   "outputs": [],
   "source": [
    "sample_data = sample_data_1.append(sample_data_2, ignore_index=True)\n",
    "sample_data = sample_data.append(sample_data_3, ignore_index=True)\n",
    "sample_data = sample_data[pd.notnull(sample_data['title'])]"
   ]
  },
  {
   "cell_type": "code",
   "execution_count": 31,
   "metadata": {},
   "outputs": [
    {
     "data": {
      "image/png": "[encoded data removed]",
      "text/plain": [
       "<Figure size 576x432 with 1 Axes>"
      ]
     },
     "metadata": {
      "needs_background": "light"
     },
     "output_type": "display_data"
    }
   ],
   "source": [
    "fig = plt.figure(figsize=(8,6))\n",
    "all_data.groupby('sub').title.count().plot.bar(ylim=0)\n",
    "plt.show()"
   ]
  },
  {
   "cell_type": "code",
   "execution_count": 32,
   "metadata": {},
   "outputs": [
    {
     "data": {
      "image/png": "[encoded data removed]",
      "text/plain": [
       "<Figure size 576x432 with 1 Axes>"
      ]
     },
     "metadata": {
      "needs_background": "light"
     },
     "output_type": "display_data"
    }
   ],
   "source": [
    "fig = plt.figure(figsize=(8,6))\n",
    "sample_data.groupby('sub').title.count().plot.bar(ylim=0)\n",
    "plt.show()"
   ]
  },
  {
   "cell_type": "code",
   "execution_count": 33,
   "metadata": {},
   "outputs": [
    {
     "data": {
      "text/plain": [
       "(63885, 8243)"
      ]
     },
     "execution_count": 33,
     "metadata": {},
     "output_type": "execute_result"
    }
   ],
   "source": [
    "tfidf = TfidfVectorizer(sublinear_tf=True, min_df=5, norm='l2', encoding='utf-8', ngram_range=(1, 1), stop_words='english',token_pattern=r'[^\\s]+')\n",
    "features = tfidf.fit_transform(sample_data.title).toarray() #+all_data.selftext\n",
    "labels = sample_data.sub_id\n",
    "features.shape"
   ]
  },
  {
   "cell_type": "code",
   "execution_count": 35,
   "metadata": {},
   "outputs": [
    {
     "name": "stdout",
     "output_type": "stream",
     "text": [
      "# 'investing':\n",
      "  . Most correlated unigrams:\n",
      ". bond\n",
      ". basic\n",
      ". bonds\n",
      ". fund\n",
      ". moon\n",
      ". 401k\n",
      ". index\n",
      ". amc\n",
      ". questions\n",
      ". gme\n",
      ". ira\n",
      ". invest\n",
      ". roth\n",
      ". investment\n",
      ". investing\n",
      "# 'stocks':\n",
      "  . Most correlated unigrams:\n",
      ". apes\n",
      ". $gme\n",
      ". fuck\n",
      ". 🚀🚀🚀\n",
      ". question\n",
      ". 🚀\n",
      ". wsb\n",
      ". moon\n",
      ". yolo\n",
      ". r/stocks\n",
      ". stocks?\n",
      ". gme\n",
      ". stock\n",
      ". thoughts\n",
      ". stocks\n",
      "# 'wsb':\n",
      "  . Most correlated unigrams:\n",
      ". wsb\n",
      ". invest\n",
      ". apes\n",
      ". hold\n",
      ". stock\n",
      ". thoughts\n",
      ". fuck\n",
      ". 🚀🚀🚀\n",
      ". 🚀\n",
      ". yolo\n",
      ". amc\n",
      ". investing\n",
      ". stocks\n",
      ". moon\n",
      ". gme\n"
     ]
    }
   ],
   "source": [
    "N = 15\n",
    "for Product, category_id in sorted(category_to_id.items()):\n",
    "   # X{array-like, sparse matrix} of shape (n_samples, n_features)\n",
    "    #y -array-like of shape (n_samples,)\n",
    "    #Target vector (class labels).\n",
    "  features_chi2 = chi2(features, labels == category_id) \n",
    "\n",
    "  indices = np.argsort(features_chi2[0])\n",
    "  feature_names = np.array(tfidf.get_feature_names())[indices]\n",
    "  unigrams = [v for v in feature_names if len(v.split(' ')) == 1]\n",
    "  print(\"# '{}':\".format(Product))\n",
    "  print(\"  . Most correlated unigrams:\\n. {}\".format('\\n. '.join(unigrams[-N:])))\n",
    " "
   ]
  },
  {
   "cell_type": "code",
   "execution_count": 36,
   "metadata": {},
   "outputs": [],
   "source": [
    "X_train, X_test, y_train, y_test = train_test_split(sample_data['title'], sample_data['sub'], random_state = 0)\n",
    "count_vect = CountVectorizer(token_pattern=r'[^\\s]+')#analyzer = 'char', binary = True)\n",
    "X_train_counts = count_vect.fit_transform(X_train)\n",
    "tfidf_transformer = TfidfTransformer()\n",
    "X_train_tfidf = tfidf_transformer.fit_transform(X_train_counts)\n",
    "clf = MultinomialNB().fit(X_train_tfidf, y_train)"
   ]
  },
  {
   "cell_type": "code",
   "execution_count": 37,
   "metadata": {},
   "outputs": [
    {
     "name": "stdout",
     "output_type": "stream",
     "text": [
      "['wsb']\n"
     ]
    }
   ],
   "source": [
    "print(clf.predict(count_vect.transform([\"🦍\"])))"
   ]
  },
  {
   "cell_type": "code",
   "execution_count": 38,
   "metadata": {},
   "outputs": [
    {
     "name": "stdout",
     "output_type": "stream",
     "text": [
      "['wsb']\n"
     ]
    }
   ],
   "source": [
    "print(clf.predict(count_vect.transform([\"🚀\"])))"
   ]
  },
  {
   "cell_type": "code",
   "execution_count": 30,
   "metadata": {},
   "outputs": [
    {
     "data": {
      "image/png": "[encoded data removed]",
      "text/plain": [
       "<Figure size 432x288 with 1 Axes>"
      ]
     },
     "metadata": {
      "needs_background": "light"
     },
     "output_type": "display_data"
    }
   ],
   "source": [
    "models = [\n",
    "    RandomForestClassifier(n_estimators=200, max_depth=3, random_state=0),\n",
    "    LinearSVC(),\n",
    "    MultinomialNB(),\n",
    "    LogisticRegression(random_state=0,max_iter=3000),\n",
    "]\n",
    "CV = 5\n",
    "cv_df = pd.DataFrame(index=range(CV * len(models)))\n",
    "entries = []\n",
    "for model in models:\n",
    "  model_name = model.__class__.__name__\n",
    "  accuracies = cross_val_score(model, features, labels, scoring='accuracy', cv=CV)\n",
    "  for fold_idx, accuracy in enumerate(accuracies):\n",
    "    entries.append((model_name, fold_idx, accuracy))\n",
    "cv_df = pd.DataFrame(entries, columns=['model_name', 'fold_idx', 'accuracy'])\n",
    "import seaborn as sns\n",
    "sns.boxplot(x='model_name', y='accuracy', data=cv_df)\n",
    "sns.stripplot(x='model_name', y='accuracy', data=cv_df, \n",
    "              size=8, jitter=True, edgecolor=\"gray\", linewidth=2)\n",
    "plt.show()"
   ]
  },
  {
   "cell_type": "code",
   "execution_count": 31,
   "metadata": {},
   "outputs": [
    {
     "data": {
      "text/plain": [
       "model_name\n",
       "LinearSVC                 0.591137\n",
       "LogisticRegression        0.605846\n",
       "MultinomialNB             0.603882\n",
       "RandomForestClassifier    0.467866\n",
       "Name: accuracy, dtype: float64"
      ]
     },
     "execution_count": 31,
     "metadata": {},
     "output_type": "execute_result"
    }
   ],
   "source": [
    "cv_df.groupby('model_name').accuracy.mean()"
   ]
  },
  {
   "cell_type": "code",
   "execution_count": 32,
   "metadata": {},
   "outputs": [
    {
     "data": {
      "text/plain": [
       "array(['wsb', 'investing', 'stocks'], dtype=object)"
      ]
     },
     "execution_count": 32,
     "metadata": {},
     "output_type": "execute_result"
    }
   ],
   "source": [
    "category_id_df['sub'].values"
   ]
  },
  {
   "cell_type": "code",
   "execution_count": 39,
   "metadata": {},
   "outputs": [
    {
     "name": "stderr",
     "output_type": "stream",
     "text": [
      "C:\\Users\\96ank\\AppData\\Local\\Continuum\\anaconda3\\lib\\site-packages\\sklearn\\linear_model\\_logistic.py:764: ConvergenceWarning: lbfgs failed to converge (status=1):\n",
      "STOP: TOTAL NO. of ITERATIONS REACHED LIMIT.\n",
      "\n",
      "Increase the number of iterations (max_iter) or scale the data as shown in:\n",
      "    https://scikit-learn.org/stable/modules/preprocessing.html\n",
      "Please also refer to the documentation for alternative solver options:\n",
      "    https://scikit-learn.org/stable/modules/linear_model.html#logistic-regression\n",
      "  extra_warning_msg=_LOGISTIC_SOLVER_CONVERGENCE_MSG)\n"
     ]
    },
    {
     "data": {
      "image/png": "[encoded data removed]",
      "text/plain": [
       "<Figure size 720x720 with 2 Axes>"
      ]
     },
     "metadata": {
      "needs_background": "light"
     },
     "output_type": "display_data"
    }
   ],
   "source": [
    "model = LogisticRegression()\n",
    "X_train, X_test, y_train, y_test, indices_train, indices_test = train_test_split(features, labels, sample_data.index, test_size=0.33, random_state=0)\n",
    "model.fit(X_train, y_train)\n",
    "y_pred = model.predict(X_test)\n",
    "from sklearn.metrics import confusion_matrix\n",
    "conf_mat = confusion_matrix(y_test, y_pred)\n",
    "fig, ax = plt.subplots(figsize=(10,10))\n",
    "sns.heatmap(conf_mat, annot=True, fmt='d',\n",
    "            xticklabels=category_id_df['sub'].values, yticklabels=category_id_df['sub'].values)\n",
    "plt.ylabel('Actual')\n",
    "plt.xlabel('Predicted')\n",
    "plt.show()"
   ]
  },
  {
   "cell_type": "code",
   "execution_count": 40,
   "metadata": {},
   "outputs": [
    {
     "data": {
      "text/html": [
       "<div>\n",
       "<style scoped>\n",
       "    .dataframe tbody tr th:only-of-type {\n",
       "        vertical-align: middle;\n",
       "    }\n",
       "\n",
       "    .dataframe tbody tr th {\n",
       "        vertical-align: top;\n",
       "    }\n",
       "\n",
       "    .dataframe thead th {\n",
       "        text-align: right;\n",
       "    }\n",
       "</style>\n",
       "<table border=\"1\" class=\"dataframe\">\n",
       "  <thead>\n",
       "    <tr style=\"text-align: right;\">\n",
       "      <th></th>\n",
       "      <th>sub</th>\n",
       "      <th>sub_id</th>\n",
       "    </tr>\n",
       "  </thead>\n",
       "  <tbody>\n",
       "    <tr>\n",
       "      <th>0</th>\n",
       "      <td>wsb</td>\n",
       "      <td>0</td>\n",
       "    </tr>\n",
       "    <tr>\n",
       "      <th>861752</th>\n",
       "      <td>investing</td>\n",
       "      <td>1</td>\n",
       "    </tr>\n",
       "    <tr>\n",
       "      <th>989521</th>\n",
       "      <td>stocks</td>\n",
       "      <td>2</td>\n",
       "    </tr>\n",
       "  </tbody>\n",
       "</table>\n",
       "</div>"
      ],
      "text/plain": [
       "              sub  sub_id\n",
       "0             wsb       0\n",
       "861752  investing       1\n",
       "989521     stocks       2"
      ]
     },
     "execution_count": 40,
     "metadata": {},
     "output_type": "execute_result"
    }
   ],
   "source": [
    "category_id_df"
   ]
  },
  {
   "cell_type": "code",
   "execution_count": 41,
   "metadata": {},
   "outputs": [
    {
     "name": "stdout",
     "output_type": "stream",
     "text": [
      "'investing' predicted as 'wsb' : 907 examples.\n"
     ]
    },
    {
     "data": {
      "text/html": [
       "<div>\n",
       "<style scoped>\n",
       "    .dataframe tbody tr th:only-of-type {\n",
       "        vertical-align: middle;\n",
       "    }\n",
       "\n",
       "    .dataframe tbody tr th {\n",
       "        vertical-align: top;\n",
       "    }\n",
       "\n",
       "    .dataframe thead th {\n",
       "        text-align: right;\n",
       "    }\n",
       "</style>\n",
       "<table border=\"1\" class=\"dataframe\">\n",
       "  <thead>\n",
       "    <tr style=\"text-align: right;\">\n",
       "      <th></th>\n",
       "      <th>sub</th>\n",
       "      <th>title</th>\n",
       "    </tr>\n",
       "  </thead>\n",
       "  <tbody>\n",
       "    <tr>\n",
       "      <th>45041</th>\n",
       "      <td>investing</td>\n",
       "      <td>What do people mean when they say “Follow the ...</td>\n",
       "    </tr>\n",
       "    <tr>\n",
       "      <th>46294</th>\n",
       "      <td>investing</td>\n",
       "      <td>Will \"Litepay\" bring cryptocurrencies out of t...</td>\n",
       "    </tr>\n",
       "    <tr>\n",
       "      <th>54536</th>\n",
       "      <td>investing</td>\n",
       "      <td>$NIO (2/28) Put Options?</td>\n",
       "    </tr>\n",
       "    <tr>\n",
       "      <th>49636</th>\n",
       "      <td>investing</td>\n",
       "      <td>Everyone buy 1 share of GME🚀🚀</td>\n",
       "    </tr>\n",
       "    <tr>\n",
       "      <th>58714</th>\n",
       "      <td>investing</td>\n",
       "      <td>SUP BOYS, I'M HERE FOR THE SICK 4-5% CAGR!!!</td>\n",
       "    </tr>\n",
       "    <tr>\n",
       "      <th>...</th>\n",
       "      <td>...</td>\n",
       "      <td>...</td>\n",
       "    </tr>\n",
       "    <tr>\n",
       "      <th>46513</th>\n",
       "      <td>investing</td>\n",
       "      <td>How Dogecoin is a sh*tcoin :D</td>\n",
       "    </tr>\n",
       "    <tr>\n",
       "      <th>52093</th>\n",
       "      <td>investing</td>\n",
       "      <td>Any support or offer is welcome</td>\n",
       "    </tr>\n",
       "    <tr>\n",
       "      <th>54336</th>\n",
       "      <td>investing</td>\n",
       "      <td>What Can Inflate ROE/ROA</td>\n",
       "    </tr>\n",
       "    <tr>\n",
       "      <th>57822</th>\n",
       "      <td>investing</td>\n",
       "      <td>I'm curious</td>\n",
       "    </tr>\n",
       "    <tr>\n",
       "      <th>47309</th>\n",
       "      <td>investing</td>\n",
       "      <td>How do I get hired like in Wall Street (the fi...</td>\n",
       "    </tr>\n",
       "  </tbody>\n",
       "</table>\n",
       "<p>907 rows × 2 columns</p>\n",
       "</div>"
      ],
      "text/plain": [
       "             sub                                              title\n",
       "45041  investing  What do people mean when they say “Follow the ...\n",
       "46294  investing  Will \"Litepay\" bring cryptocurrencies out of t...\n",
       "54536  investing                           $NIO (2/28) Put Options?\n",
       "49636  investing                      Everyone buy 1 share of GME🚀🚀\n",
       "58714  investing       SUP BOYS, I'M HERE FOR THE SICK 4-5% CAGR!!!\n",
       "...          ...                                                ...\n",
       "46513  investing                      How Dogecoin is a sh*tcoin :D\n",
       "52093  investing                    Any support or offer is welcome\n",
       "54336  investing                           What Can Inflate ROE/ROA\n",
       "57822  investing                                        I'm curious\n",
       "47309  investing  How do I get hired like in Wall Street (the fi...\n",
       "\n",
       "[907 rows x 2 columns]"
      ]
     },
     "metadata": {},
     "output_type": "display_data"
    },
    {
     "name": "stdout",
     "output_type": "stream",
     "text": [
      "\n",
      "'stocks' predicted as 'wsb' : 1509 examples.\n"
     ]
    },
    {
     "data": {
      "text/html": [
       "<div>\n",
       "<style scoped>\n",
       "    .dataframe tbody tr th:only-of-type {\n",
       "        vertical-align: middle;\n",
       "    }\n",
       "\n",
       "    .dataframe tbody tr th {\n",
       "        vertical-align: top;\n",
       "    }\n",
       "\n",
       "    .dataframe thead th {\n",
       "        text-align: right;\n",
       "    }\n",
       "</style>\n",
       "<table border=\"1\" class=\"dataframe\">\n",
       "  <thead>\n",
       "    <tr style=\"text-align: right;\">\n",
       "      <th></th>\n",
       "      <th>sub</th>\n",
       "      <th>title</th>\n",
       "    </tr>\n",
       "  </thead>\n",
       "  <tbody>\n",
       "    <tr>\n",
       "      <th>37284</th>\n",
       "      <td>stocks</td>\n",
       "      <td>Woah</td>\n",
       "    </tr>\n",
       "    <tr>\n",
       "      <th>23900</th>\n",
       "      <td>stocks</td>\n",
       "      <td>Sold most of my $GME shares at a gain, kept 5 ...</td>\n",
       "    </tr>\n",
       "    <tr>\n",
       "      <th>36689</th>\n",
       "      <td>stocks</td>\n",
       "      <td>Are we banned from talking about GNUS?</td>\n",
       "    </tr>\n",
       "    <tr>\n",
       "      <th>26779</th>\n",
       "      <td>stocks</td>\n",
       "      <td>$MGNX INSANITY up 231.45% TODAY</td>\n",
       "    </tr>\n",
       "    <tr>\n",
       "      <th>26382</th>\n",
       "      <td>stocks</td>\n",
       "      <td>¿Why isn’t there a sub dedicated to Michael Bu...</td>\n",
       "    </tr>\n",
       "    <tr>\n",
       "      <th>...</th>\n",
       "      <td>...</td>\n",
       "      <td>...</td>\n",
       "    </tr>\n",
       "    <tr>\n",
       "      <th>25497</th>\n",
       "      <td>stocks</td>\n",
       "      <td>Please 😉would be nice let's go</td>\n",
       "    </tr>\n",
       "    <tr>\n",
       "      <th>32931</th>\n",
       "      <td>stocks</td>\n",
       "      <td>Slanaz SLC waves</td>\n",
       "    </tr>\n",
       "    <tr>\n",
       "      <th>36022</th>\n",
       "      <td>stocks</td>\n",
       "      <td>A Human Declaration</td>\n",
       "    </tr>\n",
       "    <tr>\n",
       "      <th>35198</th>\n",
       "      <td>stocks</td>\n",
       "      <td>100 shares of $SPCE $29 call expiring today. I...</td>\n",
       "    </tr>\n",
       "    <tr>\n",
       "      <th>33024</th>\n",
       "      <td>stocks</td>\n",
       "      <td>I want to buy 1 share tomorrow...was thinking ...</td>\n",
       "    </tr>\n",
       "  </tbody>\n",
       "</table>\n",
       "<p>1509 rows × 2 columns</p>\n",
       "</div>"
      ],
      "text/plain": [
       "          sub                                              title\n",
       "37284  stocks                                               Woah\n",
       "23900  stocks  Sold most of my $GME shares at a gain, kept 5 ...\n",
       "36689  stocks             Are we banned from talking about GNUS?\n",
       "26779  stocks                    $MGNX INSANITY up 231.45% TODAY\n",
       "26382  stocks  ¿Why isn’t there a sub dedicated to Michael Bu...\n",
       "...       ...                                                ...\n",
       "25497  stocks                     Please 😉would be nice let's go\n",
       "32931  stocks                                   Slanaz SLC waves\n",
       "36022  stocks                                A Human Declaration\n",
       "35198  stocks  100 shares of $SPCE $29 call expiring today. I...\n",
       "33024  stocks  I want to buy 1 share tomorrow...was thinking ...\n",
       "\n",
       "[1509 rows x 2 columns]"
      ]
     },
     "metadata": {},
     "output_type": "display_data"
    },
    {
     "name": "stdout",
     "output_type": "stream",
     "text": [
      "\n",
      "'wsb' predicted as 'investing' : 495 examples.\n"
     ]
    },
    {
     "data": {
      "text/html": [
       "<div>\n",
       "<style scoped>\n",
       "    .dataframe tbody tr th:only-of-type {\n",
       "        vertical-align: middle;\n",
       "    }\n",
       "\n",
       "    .dataframe tbody tr th {\n",
       "        vertical-align: top;\n",
       "    }\n",
       "\n",
       "    .dataframe thead th {\n",
       "        text-align: right;\n",
       "    }\n",
       "</style>\n",
       "<table border=\"1\" class=\"dataframe\">\n",
       "  <thead>\n",
       "    <tr style=\"text-align: right;\">\n",
       "      <th></th>\n",
       "      <th>sub</th>\n",
       "      <th>title</th>\n",
       "    </tr>\n",
       "  </thead>\n",
       "  <tbody>\n",
       "    <tr>\n",
       "      <th>14865</th>\n",
       "      <td>wsb</td>\n",
       "      <td>the FUTURE</td>\n",
       "    </tr>\n",
       "    <tr>\n",
       "      <th>3913</th>\n",
       "      <td>wsb</td>\n",
       "      <td>Thinking the young retail investors are irresp...</td>\n",
       "    </tr>\n",
       "    <tr>\n",
       "      <th>14968</th>\n",
       "      <td>wsb</td>\n",
       "      <td>Zuckerberg &amp;amp; Gates - Spending their money ...</td>\n",
       "    </tr>\n",
       "    <tr>\n",
       "      <th>14501</th>\n",
       "      <td>wsb</td>\n",
       "      <td>Bad things happen to Margin Accounts when the ...</td>\n",
       "    </tr>\n",
       "    <tr>\n",
       "      <th>19178</th>\n",
       "      <td>wsb</td>\n",
       "      <td>04/01/2020 I decided to change my 401(k) to se...</td>\n",
       "    </tr>\n",
       "    <tr>\n",
       "      <th>...</th>\n",
       "      <td>...</td>\n",
       "      <td>...</td>\n",
       "    </tr>\n",
       "    <tr>\n",
       "      <th>7869</th>\n",
       "      <td>wsb</td>\n",
       "      <td>There is a short happening... of gas</td>\n",
       "    </tr>\n",
       "    <tr>\n",
       "      <th>10005</th>\n",
       "      <td>wsb</td>\n",
       "      <td>Current situation simplified...</td>\n",
       "    </tr>\n",
       "    <tr>\n",
       "      <th>14468</th>\n",
       "      <td>wsb</td>\n",
       "      <td>GME execs being congratulated for the company ...</td>\n",
       "    </tr>\n",
       "    <tr>\n",
       "      <th>6173</th>\n",
       "      <td>wsb</td>\n",
       "      <td>perspective</td>\n",
       "    </tr>\n",
       "    <tr>\n",
       "      <th>19074</th>\n",
       "      <td>wsb</td>\n",
       "      <td>How to Time the End of the Bear Market</td>\n",
       "    </tr>\n",
       "  </tbody>\n",
       "</table>\n",
       "<p>495 rows × 2 columns</p>\n",
       "</div>"
      ],
      "text/plain": [
       "       sub                                              title\n",
       "14865  wsb                                         the FUTURE\n",
       "3913   wsb  Thinking the young retail investors are irresp...\n",
       "14968  wsb  Zuckerberg &amp; Gates - Spending their money ...\n",
       "14501  wsb  Bad things happen to Margin Accounts when the ...\n",
       "19178  wsb  04/01/2020 I decided to change my 401(k) to se...\n",
       "...    ...                                                ...\n",
       "7869   wsb               There is a short happening... of gas\n",
       "10005  wsb                    Current situation simplified...\n",
       "14468  wsb  GME execs being congratulated for the company ...\n",
       "6173   wsb                                        perspective\n",
       "19074  wsb             How to Time the End of the Bear Market\n",
       "\n",
       "[495 rows x 2 columns]"
      ]
     },
     "metadata": {},
     "output_type": "display_data"
    },
    {
     "name": "stdout",
     "output_type": "stream",
     "text": [
      "\n",
      "'stocks' predicted as 'investing' : 1725 examples.\n"
     ]
    },
    {
     "data": {
      "text/html": [
       "<div>\n",
       "<style scoped>\n",
       "    .dataframe tbody tr th:only-of-type {\n",
       "        vertical-align: middle;\n",
       "    }\n",
       "\n",
       "    .dataframe tbody tr th {\n",
       "        vertical-align: top;\n",
       "    }\n",
       "\n",
       "    .dataframe thead th {\n",
       "        text-align: right;\n",
       "    }\n",
       "</style>\n",
       "<table border=\"1\" class=\"dataframe\">\n",
       "  <thead>\n",
       "    <tr style=\"text-align: right;\">\n",
       "      <th></th>\n",
       "      <th>sub</th>\n",
       "      <th>title</th>\n",
       "    </tr>\n",
       "  </thead>\n",
       "  <tbody>\n",
       "    <tr>\n",
       "      <th>40856</th>\n",
       "      <td>stocks</td>\n",
       "      <td>switching brokerage</td>\n",
       "    </tr>\n",
       "    <tr>\n",
       "      <th>30481</th>\n",
       "      <td>stocks</td>\n",
       "      <td>Tech Heavy</td>\n",
       "    </tr>\n",
       "    <tr>\n",
       "      <th>28372</th>\n",
       "      <td>stocks</td>\n",
       "      <td>National Beverage Corporation (FIZZ) seems rea...</td>\n",
       "    </tr>\n",
       "    <tr>\n",
       "      <th>36853</th>\n",
       "      <td>stocks</td>\n",
       "      <td>Auto allocation</td>\n",
       "    </tr>\n",
       "    <tr>\n",
       "      <th>23731</th>\n",
       "      <td>stocks</td>\n",
       "      <td>With strikes and a ‘sick out,’ some grocery an...</td>\n",
       "    </tr>\n",
       "    <tr>\n",
       "      <th>...</th>\n",
       "      <td>...</td>\n",
       "      <td>...</td>\n",
       "    </tr>\n",
       "    <tr>\n",
       "      <th>28707</th>\n",
       "      <td>stocks</td>\n",
       "      <td>Bitcoin is multiplying as right now</td>\n",
       "    </tr>\n",
       "    <tr>\n",
       "      <th>36715</th>\n",
       "      <td>stocks</td>\n",
       "      <td>Fidelity Contrafund questions</td>\n",
       "    </tr>\n",
       "    <tr>\n",
       "      <th>33371</th>\n",
       "      <td>stocks</td>\n",
       "      <td>cash account restriction/ account transfer?</td>\n",
       "    </tr>\n",
       "    <tr>\n",
       "      <th>34334</th>\n",
       "      <td>stocks</td>\n",
       "      <td>TOBACCO INDUSTRY (PM, MO, BAT)</td>\n",
       "    </tr>\n",
       "    <tr>\n",
       "      <th>42488</th>\n",
       "      <td>stocks</td>\n",
       "      <td>Any profits unlimited paid users?</td>\n",
       "    </tr>\n",
       "  </tbody>\n",
       "</table>\n",
       "<p>1725 rows × 2 columns</p>\n",
       "</div>"
      ],
      "text/plain": [
       "          sub                                              title\n",
       "40856  stocks                                switching brokerage\n",
       "30481  stocks                                         Tech Heavy\n",
       "28372  stocks  National Beverage Corporation (FIZZ) seems rea...\n",
       "36853  stocks                                    Auto allocation\n",
       "23731  stocks  With strikes and a ‘sick out,’ some grocery an...\n",
       "...       ...                                                ...\n",
       "28707  stocks                Bitcoin is multiplying as right now\n",
       "36715  stocks                      Fidelity Contrafund questions\n",
       "33371  stocks        cash account restriction/ account transfer?\n",
       "34334  stocks                     TOBACCO INDUSTRY (PM, MO, BAT)\n",
       "42488  stocks                  Any profits unlimited paid users?\n",
       "\n",
       "[1725 rows x 2 columns]"
      ]
     },
     "metadata": {},
     "output_type": "display_data"
    },
    {
     "name": "stdout",
     "output_type": "stream",
     "text": [
      "\n",
      "'wsb' predicted as 'stocks' : 1266 examples.\n"
     ]
    },
    {
     "data": {
      "text/html": [
       "<div>\n",
       "<style scoped>\n",
       "    .dataframe tbody tr th:only-of-type {\n",
       "        vertical-align: middle;\n",
       "    }\n",
       "\n",
       "    .dataframe tbody tr th {\n",
       "        vertical-align: top;\n",
       "    }\n",
       "\n",
       "    .dataframe thead th {\n",
       "        text-align: right;\n",
       "    }\n",
       "</style>\n",
       "<table border=\"1\" class=\"dataframe\">\n",
       "  <thead>\n",
       "    <tr style=\"text-align: right;\">\n",
       "      <th></th>\n",
       "      <th>sub</th>\n",
       "      <th>title</th>\n",
       "    </tr>\n",
       "  </thead>\n",
       "  <tbody>\n",
       "    <tr>\n",
       "      <th>17588</th>\n",
       "      <td>wsb</td>\n",
       "      <td>Newbie looking for advice.</td>\n",
       "    </tr>\n",
       "    <tr>\n",
       "      <th>12172</th>\n",
       "      <td>wsb</td>\n",
       "      <td>my curent DD</td>\n",
       "    </tr>\n",
       "    <tr>\n",
       "      <th>4126</th>\n",
       "      <td>wsb</td>\n",
       "      <td>NFTs...Playboy, Topps...who got next? Blockcha...</td>\n",
       "    </tr>\n",
       "    <tr>\n",
       "      <th>19251</th>\n",
       "      <td>wsb</td>\n",
       "      <td>NVDA FDs?</td>\n",
       "    </tr>\n",
       "    <tr>\n",
       "      <th>20682</th>\n",
       "      <td>wsb</td>\n",
       "      <td>Keep HODLING and buying! Topping the most trad...</td>\n",
       "    </tr>\n",
       "    <tr>\n",
       "      <th>...</th>\n",
       "      <td>...</td>\n",
       "      <td>...</td>\n",
       "    </tr>\n",
       "    <tr>\n",
       "      <th>12016</th>\n",
       "      <td>wsb</td>\n",
       "      <td>Tesla earning here I come 🔥🚗</td>\n",
       "    </tr>\n",
       "    <tr>\n",
       "      <th>18749</th>\n",
       "      <td>wsb</td>\n",
       "      <td>i have like 8 companies on the verge of curing...</td>\n",
       "    </tr>\n",
       "    <tr>\n",
       "      <th>16835</th>\n",
       "      <td>wsb</td>\n",
       "      <td>Short Term Bullish</td>\n",
       "    </tr>\n",
       "    <tr>\n",
       "      <th>4003</th>\n",
       "      <td>wsb</td>\n",
       "      <td>NWBO has a huge short position by Adam FEUERST...</td>\n",
       "    </tr>\n",
       "    <tr>\n",
       "      <th>6676</th>\n",
       "      <td>wsb</td>\n",
       "      <td>Nikola Motor Company on Twitter</td>\n",
       "    </tr>\n",
       "  </tbody>\n",
       "</table>\n",
       "<p>1266 rows × 2 columns</p>\n",
       "</div>"
      ],
      "text/plain": [
       "       sub                                              title\n",
       "17588  wsb                         Newbie looking for advice.\n",
       "12172  wsb                                       my curent DD\n",
       "4126   wsb  NFTs...Playboy, Topps...who got next? Blockcha...\n",
       "19251  wsb                                          NVDA FDs?\n",
       "20682  wsb  Keep HODLING and buying! Topping the most trad...\n",
       "...    ...                                                ...\n",
       "12016  wsb                       Tesla earning here I come 🔥🚗\n",
       "18749  wsb  i have like 8 companies on the verge of curing...\n",
       "16835  wsb                                 Short Term Bullish\n",
       "4003   wsb  NWBO has a huge short position by Adam FEUERST...\n",
       "6676   wsb                    Nikola Motor Company on Twitter\n",
       "\n",
       "[1266 rows x 2 columns]"
      ]
     },
     "metadata": {},
     "output_type": "display_data"
    },
    {
     "name": "stdout",
     "output_type": "stream",
     "text": [
      "\n",
      "'investing' predicted as 'stocks' : 2356 examples.\n"
     ]
    },
    {
     "data": {
      "text/html": [
       "<div>\n",
       "<style scoped>\n",
       "    .dataframe tbody tr th:only-of-type {\n",
       "        vertical-align: middle;\n",
       "    }\n",
       "\n",
       "    .dataframe tbody tr th {\n",
       "        vertical-align: top;\n",
       "    }\n",
       "\n",
       "    .dataframe thead th {\n",
       "        text-align: right;\n",
       "    }\n",
       "</style>\n",
       "<table border=\"1\" class=\"dataframe\">\n",
       "  <thead>\n",
       "    <tr style=\"text-align: right;\">\n",
       "      <th></th>\n",
       "      <th>sub</th>\n",
       "      <th>title</th>\n",
       "    </tr>\n",
       "  </thead>\n",
       "  <tbody>\n",
       "    <tr>\n",
       "      <th>62351</th>\n",
       "      <td>investing</td>\n",
       "      <td>Tesla likely to miss record second-quarter del...</td>\n",
       "    </tr>\n",
       "    <tr>\n",
       "      <th>62453</th>\n",
       "      <td>investing</td>\n",
       "      <td>Reddit filing for an IPO in future say sources</td>\n",
       "    </tr>\n",
       "    <tr>\n",
       "      <th>47134</th>\n",
       "      <td>investing</td>\n",
       "      <td>Best way to capitalize on raising Uranium</td>\n",
       "    </tr>\n",
       "    <tr>\n",
       "      <th>45633</th>\n",
       "      <td>investing</td>\n",
       "      <td>who to pick out of msft, aapl, googl, amzn, nflx?</td>\n",
       "    </tr>\n",
       "    <tr>\n",
       "      <th>56056</th>\n",
       "      <td>investing</td>\n",
       "      <td>Best stocks for 2021 to invest in</td>\n",
       "    </tr>\n",
       "    <tr>\n",
       "      <th>...</th>\n",
       "      <td>...</td>\n",
       "      <td>...</td>\n",
       "    </tr>\n",
       "    <tr>\n",
       "      <th>46446</th>\n",
       "      <td>investing</td>\n",
       "      <td>ARK dividends</td>\n",
       "    </tr>\n",
       "    <tr>\n",
       "      <th>60140</th>\n",
       "      <td>investing</td>\n",
       "      <td>How does after- hours trading work??</td>\n",
       "    </tr>\n",
       "    <tr>\n",
       "      <th>60193</th>\n",
       "      <td>investing</td>\n",
       "      <td>Thoughts on these Data Point for Excel Spreads...</td>\n",
       "    </tr>\n",
       "    <tr>\n",
       "      <th>55229</th>\n",
       "      <td>investing</td>\n",
       "      <td>What’s the perfect ETF portfolio for a 37 year...</td>\n",
       "    </tr>\n",
       "    <tr>\n",
       "      <th>49157</th>\n",
       "      <td>investing</td>\n",
       "      <td>Broker of choice by country.</td>\n",
       "    </tr>\n",
       "  </tbody>\n",
       "</table>\n",
       "<p>2356 rows × 2 columns</p>\n",
       "</div>"
      ],
      "text/plain": [
       "             sub                                              title\n",
       "62351  investing  Tesla likely to miss record second-quarter del...\n",
       "62453  investing     Reddit filing for an IPO in future say sources\n",
       "47134  investing          Best way to capitalize on raising Uranium\n",
       "45633  investing  who to pick out of msft, aapl, googl, amzn, nflx?\n",
       "56056  investing                  Best stocks for 2021 to invest in\n",
       "...          ...                                                ...\n",
       "46446  investing                                      ARK dividends\n",
       "60140  investing               How does after- hours trading work??\n",
       "60193  investing  Thoughts on these Data Point for Excel Spreads...\n",
       "55229  investing  What’s the perfect ETF portfolio for a 37 year...\n",
       "49157  investing                       Broker of choice by country.\n",
       "\n",
       "[2356 rows x 2 columns]"
      ]
     },
     "metadata": {},
     "output_type": "display_data"
    },
    {
     "name": "stdout",
     "output_type": "stream",
     "text": [
      "\n"
     ]
    }
   ],
   "source": [
    "from IPython.display import display\n",
    "for predicted in category_id_df.sub_id:\n",
    "  for actual in category_id_df.sub_id:\n",
    "    if predicted != actual and conf_mat[actual, predicted] >= 10:\n",
    "      print(\"'{}' predicted as '{}' : {} examples.\".format(id_to_category[actual], id_to_category[predicted], conf_mat[actual, predicted]))\n",
    "      display(sample_data.loc[indices_test[(y_test == actual) & (y_pred == predicted)]][['sub', 'title']])\n",
    "      print('')"
   ]
  },
  {
   "cell_type": "code",
   "execution_count": 42,
   "metadata": {},
   "outputs": [
    {
     "name": "stderr",
     "output_type": "stream",
     "text": [
      "C:\\Users\\96ank\\AppData\\Local\\Continuum\\anaconda3\\lib\\site-packages\\sklearn\\linear_model\\_logistic.py:764: ConvergenceWarning: lbfgs failed to converge (status=1):\n",
      "STOP: TOTAL NO. of ITERATIONS REACHED LIMIT.\n",
      "\n",
      "Increase the number of iterations (max_iter) or scale the data as shown in:\n",
      "    https://scikit-learn.org/stable/modules/preprocessing.html\n",
      "Please also refer to the documentation for alternative solver options:\n",
      "    https://scikit-learn.org/stable/modules/linear_model.html#logistic-regression\n",
      "  extra_warning_msg=_LOGISTIC_SOLVER_CONVERGENCE_MSG)\n"
     ]
    },
    {
     "data": {
      "text/plain": [
       "LogisticRegression()"
      ]
     },
     "execution_count": 42,
     "metadata": {},
     "output_type": "execute_result"
    }
   ],
   "source": [
    "model.fit(features, labels)\n"
   ]
  },
  {
   "cell_type": "code",
   "execution_count": 43,
   "metadata": {},
   "outputs": [
    {
     "name": "stdout",
     "output_type": "stream",
     "text": [
      "# 'investing':\n",
      "  . Top unigrams:\n",
      "       . investing\n",
      "       . spitballin\n",
      "       . bonds\n",
      "       . 401k\n",
      "       . investment\n",
      "       . estate\n",
      "       . bitcoin\n",
      "       . investing?\n",
      "       . bond\n",
      "       . investments?\n",
      "# 'stocks':\n",
      "  . Top unigrams:\n",
      "       . r/stocks\n",
      "       . stocks\n",
      "       . dkng\n",
      "       . stocks?\n",
      "       . gnus\n",
      "       . mojo\n",
      "       . tradingview\n",
      "       . mgm\n",
      "       . stock\n",
      "       . rtx\n",
      "# 'wsb':\n",
      "  . Top unigrams:\n",
      "       . yolo\n",
      "       . retards\n",
      "       . tendies\n",
      "       . retard\n",
      "       . fucking\n",
      "       . apes\n",
      "       . melvin\n",
      "       . 🌈🐻\n",
      "       . ape\n",
      "       . retarded\n"
     ]
    }
   ],
   "source": [
    "N = 10\n",
    "for Product, category_id in sorted(category_to_id.items()):\n",
    "  indices = np.argsort(model.coef_[category_id])\n",
    "  feature_names = np.array(tfidf.get_feature_names())[indices]\n",
    "  unigrams = [v for v in reversed(feature_names) if len(v.split(' ')) == 1][:N]\n",
    "\n",
    "  print(\"# '{}':\".format(Product))\n",
    "  print(\"  . Top unigrams:\\n       . {}\".format('\\n       . '.join(unigrams)))\n",
    "  "
   ]
  },
  {
   "cell_type": "code",
   "execution_count": 44,
   "metadata": {},
   "outputs": [
    {
     "name": "stdout",
     "output_type": "stream",
     "text": [
      "              precision    recall  f1-score   support\n",
      "\n",
      "         wsb       0.69      0.75      0.72      7065\n",
      "      stocks       0.58      0.49      0.53      6360\n",
      "   investing       0.55      0.58      0.56      7658\n",
      "\n",
      "    accuracy                           0.61     21083\n",
      "   macro avg       0.61      0.61      0.60     21083\n",
      "weighted avg       0.61      0.61      0.61     21083\n",
      "\n"
     ]
    }
   ],
   "source": [
    "print(metrics.classification_report(y_test, y_pred, target_names=sample_data['sub'].unique()))"
   ]
  },
  {
   "cell_type": "code",
   "execution_count": 45,
   "metadata": {},
   "outputs": [
    {
     "name": "stdout",
     "output_type": "stream",
     "text": [
      "# 'investing':\n",
      "(0, ('r/stocks', -2.323351808043773))\n",
      "(1, ('ape', -1.9413956573533058))\n",
      "(2, ('amc', -1.9325681369640695))\n",
      "(3, ('fucking', -1.9030718682754575))\n",
      "(4, ('melvin', -1.8614491281765724))\n",
      "(5, ('retards', -1.8072057781487927))\n",
      "(6, ('stonks', -1.7867170268859125))\n",
      "(7, ('apes', -1.7857080701097081))\n",
      "(8, ('retard', -1.744907562207206))\n",
      "(9, ('bb', -1.7194882026666338))\n",
      "(10, ('wkhs', -1.6207122935505271))\n",
      "(11, ('$amc', -1.6174493183902665))\n",
      "(12, ('yolo', -1.5262640462601702))\n",
      "(13, ('🚀🚀', -1.501196852880103))\n",
      "(14, ('🚀🚀🚀🚀', -1.4763638945128164))\n",
      "(15, ('gme.', -1.4616570159569353))\n",
      "(16, ('autist', -1.4390325926862548))\n",
      "(17, ('clov', -1.4020356480860139))\n",
      "(18, ('porn', -1.3620676823642108))\n",
      "(19, ('hands', -1.3587041451433184))\n",
      "(20, ('tendies', -1.3459147335382042))\n",
      "(21, ('gme', -1.3431294370338038))\n",
      "(22, ('$bb', -1.341285542400938))\n",
      "(23, ('boys', -1.3336140679425343))\n",
      "(24, ('revolut', -1.3200878035704888))\n"
     ]
    },
    {
     "name": "stderr",
     "output_type": "stream",
     "text": [
      "C:\\Users\\96ank\\AppData\\Local\\Continuum\\anaconda3\\lib\\site-packages\\matplotlib\\backends\\backend_agg.py:238: RuntimeWarning: Glyph 128640 missing from current font.\n",
      "  font.set_text(s, 0.0, flags=flags)\n",
      "C:\\Users\\96ank\\AppData\\Local\\Continuum\\anaconda3\\lib\\site-packages\\matplotlib\\backends\\backend_agg.py:201: RuntimeWarning: Glyph 128640 missing from current font.\n",
      "  font.set_text(s, 0, flags=flags)\n"
     ]
    },
    {
     "data": {
      "image/png": "[encoded data removed]",
      "text/plain": [
       "<Figure size 720x1440 with 1 Axes>"
      ]
     },
     "metadata": {
      "needs_background": "light"
     },
     "output_type": "display_data"
    },
    {
     "name": "stdout",
     "output_type": "stream",
     "text": [
      "# 'stocks':\n",
      "(0, ('yolo', -2.215422467082583))\n",
      "(1, ('tendies', -2.141733393383097))\n",
      "(2, ('thread', -1.9948079610909935))\n",
      "(3, ('retards', -1.8568286326084822))\n",
      "(4, ('gains.', -1.7150050971909272))\n",
      "(5, ('$gme', -1.7123408811824492))\n",
      "(6, ('retard', -1.6757190369272932))\n",
      "(7, ('💎', -1.5836321415742223))\n",
      "(8, ('wsb', -1.5698888534782265))\n",
      "(9, ('posted', -1.5679145469469429))\n",
      "(10, ('🌈🐻', -1.5664557685336906))\n",
      "(11, ('retarded', -1.5543388351131926))\n",
      "(12, ('gang', -1.5457571478860934))\n",
      "(13, ('💎🙌', -1.513041186284583))\n",
      "(14, ('autists', -1.4837141682830022))\n",
      "(15, ('token', -1.482329413324709))\n",
      "(16, ('spitballin', -1.4465279185665731))\n",
      "(17, ('history', -1.4443936688251664))\n",
      "(18, ('thread.', -1.4260889393788645))\n",
      "(19, ('friends', -1.3999926515904522))\n",
      "(20, ('hodl', -1.3835330479676364))\n",
      "(21, ('ig', -1.3776916733903721))\n",
      "(22, ('allowing', -1.3667629239235772))\n",
      "(23, ('virtual', -1.3573334407047064))\n",
      "(24, ('shut', -1.3554946129838628))\n"
     ]
    },
    {
     "name": "stderr",
     "output_type": "stream",
     "text": [
      "C:\\Users\\96ank\\AppData\\Local\\Continuum\\anaconda3\\lib\\site-packages\\matplotlib\\backends\\backend_agg.py:238: RuntimeWarning: Glyph 128142 missing from current font.\n",
      "  font.set_text(s, 0.0, flags=flags)\n",
      "C:\\Users\\96ank\\AppData\\Local\\Continuum\\anaconda3\\lib\\site-packages\\matplotlib\\backends\\backend_agg.py:238: RuntimeWarning: Glyph 127752 missing from current font.\n",
      "  font.set_text(s, 0.0, flags=flags)\n",
      "C:\\Users\\96ank\\AppData\\Local\\Continuum\\anaconda3\\lib\\site-packages\\matplotlib\\backends\\backend_agg.py:238: RuntimeWarning: Glyph 128059 missing from current font.\n",
      "  font.set_text(s, 0.0, flags=flags)\n",
      "C:\\Users\\96ank\\AppData\\Local\\Continuum\\anaconda3\\lib\\site-packages\\matplotlib\\backends\\backend_agg.py:238: RuntimeWarning: Glyph 128588 missing from current font.\n",
      "  font.set_text(s, 0.0, flags=flags)\n",
      "C:\\Users\\96ank\\AppData\\Local\\Continuum\\anaconda3\\lib\\site-packages\\matplotlib\\backends\\backend_agg.py:201: RuntimeWarning: Glyph 128142 missing from current font.\n",
      "  font.set_text(s, 0, flags=flags)\n",
      "C:\\Users\\96ank\\AppData\\Local\\Continuum\\anaconda3\\lib\\site-packages\\matplotlib\\backends\\backend_agg.py:201: RuntimeWarning: Glyph 127752 missing from current font.\n",
      "  font.set_text(s, 0, flags=flags)\n",
      "C:\\Users\\96ank\\AppData\\Local\\Continuum\\anaconda3\\lib\\site-packages\\matplotlib\\backends\\backend_agg.py:201: RuntimeWarning: Glyph 128059 missing from current font.\n",
      "  font.set_text(s, 0, flags=flags)\n",
      "C:\\Users\\96ank\\AppData\\Local\\Continuum\\anaconda3\\lib\\site-packages\\matplotlib\\backends\\backend_agg.py:201: RuntimeWarning: Glyph 128588 missing from current font.\n",
      "  font.set_text(s, 0, flags=flags)\n"
     ]
    },
    {
     "data": {
      "image/png": "[encoded data removed]",
      "text/plain": [
       "<Figure size 720x1440 with 1 Axes>"
      ]
     },
     "metadata": {
      "needs_background": "light"
     },
     "output_type": "display_data"
    },
    {
     "name": "stdout",
     "output_type": "stream",
     "text": [
      "# 'wsb':\n",
      "(0, ('investing', -3.444772777845908))\n",
      "(1, ('etfs', -2.967270748614393))\n",
      "(2, ('stocks', -2.9547536909279604))\n",
      "(3, ('stocks?', -2.8024917586491505))\n",
      "(4, ('questions', -2.692153779236689))\n",
      "(5, ('etf', -2.670228493892468))\n",
      "(6, ('r/stocks', -2.6113101991987504))\n",
      "(7, ('bitcoin', -2.534368932582786))\n",
      "(8, ('investing?', -2.5291197320342422))\n",
      "(9, ('investment', -2.4874021279876515))\n",
      "(10, ('invest', -2.4823041421514693))\n",
      "(11, ('question', -2.4170608720938778))\n",
      "(12, ('dividend', -2.336019800284364))\n",
      "(13, ('years?', -2.247119141987114))\n",
      "(14, ('portfolio?', -2.1284467292721865))\n",
      "(15, ('companies', -2.0866588958441983))\n",
      "(16, ('thoughts', -2.074856117382636))\n",
      "(17, ('income', -2.0624481210575203))\n",
      "(18, ('roth', -2.0102377588092293))\n",
      "(19, ('term', -1.9902546057043589))\n",
      "(20, ('wash', -1.9560957838221393))\n",
      "(21, ('investments?', -1.9044472455077368))\n",
      "(22, ('crypto', -1.904226974384591))\n",
      "(23, ('index', -1.859939245656627))\n",
      "(24, ('portfolio', -1.8293938700740136))\n"
     ]
    },
    {
     "data": {
      "image/png": "[encoded data removed]",
      "text/plain": [
       "<Figure size 720x1440 with 1 Axes>"
      ]
     },
     "metadata": {
      "needs_background": "light"
     },
     "output_type": "display_data"
    }
   ],
   "source": [
    "from matplotlib import pyplot\n",
    "for Product, category_id in sorted(category_to_id.items()):\n",
    "    print(\"# '{}':\".format(Product))\n",
    "    # summarize feature importance\n",
    "    importance = np.sort(model.coef_[category_id])\n",
    "    indices = np.argsort(model.coef_[category_id])\n",
    "    feature_names = np.array(tfidf.get_feature_names())[indices]\n",
    "    \n",
    "    for i,v in enumerate(zip(feature_names[:25],importance[:25])):\n",
    "        print((i,v))\n",
    "    # plot feature importance\n",
    "    pyplot.figure(figsize=(10,20))\n",
    "    pyplot.barh(feature_names[:25], importance[:25])    \n",
    "    pyplot.show()"
   ]
  },
  {
   "cell_type": "code",
   "execution_count": 46,
   "metadata": {},
   "outputs": [
    {
     "name": "stdout",
     "output_type": "stream",
     "text": [
      "# 'investing':\n",
      "(0, ('vanguard', 1.496949547527376))\n",
      "(1, ('moronic', 1.4986188589385419))\n",
      "(2, ('etfs?', 1.4992910832600974))\n",
      "(3, ('economic', 1.5073629937250852))\n",
      "(4, ('rollover', 1.507592518881689))\n",
      "(5, ('crypto?', 1.5092493148664126))\n",
      "(6, ('capital', 1.510306633409511))\n",
      "(7, ('rates?', 1.511698170215295))\n",
      "(8, ('insight', 1.514767470495605))\n",
      "(9, ('earn', 1.5234282920986084))\n",
      "(10, ('employer', 1.5385114669015616))\n",
      "(11, ('bonus', 1.539735763486946))\n",
      "(12, ('impact', 1.5404314180274588))\n",
      "(13, ('loans', 1.5420998418880532))\n",
      "(14, ('eli5:', 1.5650982104102744))\n",
      "(15, ('hedging', 1.5707570790605458))\n",
      "(16, ('robo', 1.580261414838484))\n",
      "(17, ('staking', 1.5824519479859487))\n",
      "(18, ('mutual', 1.5854158780272218))\n",
      "(19, ('ira', 1.5908696924350376))\n",
      "(20, ('lending', 1.5925725922955571))\n",
      "(21, ('etfs', 1.5989560318855556))\n",
      "(22, ('cryptocurrencies', 1.6299420041268862))\n",
      "(23, ('index', 1.6511698094834246))\n",
      "(24, ('rates', 1.689450667446394))\n",
      "(25, ('years?', 1.7051555667220428))\n",
      "(26, ('asset', 1.705681066250526))\n",
      "(27, ('etf', 1.7222089134409095))\n",
      "(28, ('retirement', 1.752110854788686))\n",
      "(29, ('investments', 1.7536283089524412))\n",
      "(30, ('ethereum', 1.8063411106262723))\n",
      "(31, ('traditional', 1.8170628584666006))\n",
      "(32, ('income', 1.8517794021924827))\n",
      "(33, ('portfolios', 1.8695966734846403))\n",
      "(34, ('invest', 1.8886154721891384))\n",
      "(35, ('questions', 1.89198787623934))\n",
      "(36, ('roth', 1.9133083206509718))\n",
      "(37, ('bonds?', 1.9180083535480537))\n",
      "(38, ('crypto', 1.9376571105223406))\n",
      "(39, ('2018', 2.0039318008678504))\n",
      "(40, ('investments?', 2.071240014257577))\n",
      "(41, ('bond', 2.091463078255595))\n",
      "(42, ('investing?', 2.1560685986119488))\n",
      "(43, ('bitcoin', 2.1885315529113254))\n",
      "(44, ('estate', 2.255703886366044))\n",
      "(45, ('investment', 2.301002416301693))\n",
      "(46, ('401k', 2.343081743031064))\n",
      "(47, ('bonds', 2.3531953225522786))\n",
      "(48, ('spitballin', 2.6689519120179326))\n",
      "(49, ('investing', 2.8692681558008912))\n"
     ]
    },
    {
     "data": {
      "image/png": "[encoded data removed]",
      "text/plain": [
       "<Figure size 720x1440 with 1 Axes>"
      ]
     },
     "metadata": {
      "needs_background": "light"
     },
     "output_type": "display_data"
    },
    {
     "name": "stdout",
     "output_type": "stream",
     "text": [
      "# 'stocks':\n",
      "(0, ('beginner', 1.2088874848349398))\n",
      "(1, ('li', 1.217363215279753))\n",
      "(2, ('merge', 1.2240215352725472))\n",
      "(3, ('ipos', 1.226774961450235))\n",
      "(4, ('mistake?', 1.2314183078471075))\n",
      "(5, ('question', 1.2374323564549428))\n",
      "(6, ('stock/etf', 1.2408554030687577))\n",
      "(7, ('institutions', 1.24199617419843))\n",
      "(8, ('kinda', 1.2433670188715533))\n",
      "(9, ('cloudflare', 1.246585014691324))\n",
      "(10, ('tsla?', 1.261468625963283))\n",
      "(11, ('baba', 1.264085155568515))\n",
      "(12, ('term?', 1.2757275588999437))\n",
      "(13, ('year,', 1.2938000026124015))\n",
      "(14, ('p/e', 1.2948597193762508))\n",
      "(15, ('ino', 1.3022732822558327))\n",
      "(16, ('gift', 1.3038725787184584))\n",
      "(17, (\"etf's?\", 1.3105309881144256))\n",
      "(18, ('ticker:', 1.3178137691088558))\n",
      "(19, ('tesla,', 1.3251470257965752))\n",
      "(20, ('recap', 1.3308177001158452))\n",
      "(21, ('movers', 1.3309620130885393))\n",
      "(22, ('stock?', 1.3314923600449255))\n",
      "(23, ('be?', 1.33346042947398))\n",
      "(24, ('trade?', 1.3363551205967632))\n",
      "(25, ('rookie', 1.340632920020074))\n",
      "(26, ('wkhs?', 1.3470233262004232))\n",
      "(27, ('hcmc', 1.353256970648341))\n",
      "(28, ('enph', 1.3565155245983698))\n",
      "(29, ('etfs', 1.3683147167288314))\n",
      "(30, ('stocks.', 1.3765914037049176))\n",
      "(31, ('mmedf', 1.382575870616164))\n",
      "(32, ('salesforce', 1.386764858698826))\n",
      "(33, ('thoughts', 1.388082404979638))\n",
      "(34, ('carnival', 1.4003654547291957))\n",
      "(35, ('airlines', 1.463374229042974))\n",
      "(36, ('gene', 1.4816246156345871))\n",
      "(37, ('hyliion', 1.5195666860770598))\n",
      "(38, ('nat', 1.5414299300257133))\n",
      "(39, ('picks', 1.5495028731168634))\n",
      "(40, ('rtx', 1.6174567940569224))\n",
      "(41, ('stock', 1.6504369359927293))\n",
      "(42, ('mgm', 1.6530275197248168))\n",
      "(43, ('tradingview', 1.6590149219061907))\n",
      "(44, ('mojo', 1.667196121984127))\n",
      "(45, ('gnus', 2.2273280013833054))\n",
      "(46, ('stocks?', 2.311254721104932))\n",
      "(47, ('dkng', 2.337261303966402))\n",
      "(48, ('stocks', 2.547379926774477))\n",
      "(49, ('r/stocks', 4.934662007242574))\n"
     ]
    },
    {
     "data": {
      "image/png": "[encoded data removed]",
      "text/plain": [
       "<Figure size 720x1440 with 1 Axes>"
      ]
     },
     "metadata": {
      "needs_background": "light"
     },
     "output_type": "display_data"
    },
    {
     "name": "stdout",
     "output_type": "stream",
     "text": [
      "# 'wsb':\n",
      "(0, ('amc', 1.7685998673660308))\n",
      "(1, ('blocking', 1.7723190136532114))\n",
      "(2, ('i’ll', 1.7746698286529659))\n",
      "(3, ('retards.', 1.7776271058698703))\n",
      "(4, ('🦍', 1.7802563064889123))\n",
      "(5, ('🚀🚀🚀🚀🚀', 1.7900337571019003))\n",
      "(6, ('😎', 1.7936381013795757))\n",
      "(7, ('🐻', 1.795333479071528))\n",
      "(8, ('spotted', 1.8072198336030176))\n",
      "(9, ('fucked', 1.84468673575234))\n",
      "(10, ('ain’t', 1.8473769980888937))\n",
      "(11, ('stonk', 1.8548846509897727))\n",
      "(12, ('bb', 1.8587905991435776))\n",
      "(13, ('🚀🚀', 1.8854310306961857))\n",
      "(14, ('autistic', 1.9265412867853586))\n",
      "(15, ('autism', 1.929993239516409))\n",
      "(16, ('hedgies', 1.9395985163127192))\n",
      "(17, ('likes', 1.9444748909680714))\n",
      "(18, ('diamond', 1.955926899740036))\n",
      "(19, ('clov', 1.9654691587670947))\n",
      "(20, ('dfv', 1.9793082984983181))\n",
      "(21, ('wsb', 1.9821581404081083))\n",
      "(22, ('💎', 1.9934160142741357))\n",
      "(23, ('shit', 2.0087971471493486))\n",
      "(24, ('🚀', 2.0121366013268815))\n",
      "(25, ('420', 2.0617127897250165))\n",
      "(26, ('boys', 2.0651985558434895))\n",
      "(27, ('hands', 2.076097998278062))\n",
      "(28, ('gme', 2.094731559044931))\n",
      "(29, ('allowing', 2.099318669032671))\n",
      "(30, ('$gme', 2.137431682780985))\n",
      "(31, ('🚀🚀🚀', 2.1662218236381765))\n",
      "(32, ('papa', 2.3616955357708136))\n",
      "(33, ('💎🙌', 2.3879708941070708))\n",
      "(34, ('gme.', 2.3973431922307795))\n",
      "(35, ('fuck', 2.4587928669499695))\n",
      "(36, ('porn', 2.501265722135268))\n",
      "(37, ('autists', 2.5754313491683964))\n",
      "(38, ('gang', 2.5814979922521455))\n",
      "(39, ('autist', 2.613909436054067))\n",
      "(40, ('retarded', 2.669862254835774))\n",
      "(41, ('ape', 2.7663289140067437))\n",
      "(42, ('🌈🐻', 2.84174132527336))\n",
      "(43, ('melvin', 2.939423104342528))\n",
      "(44, ('apes', 3.010698858216047))\n",
      "(45, ('fucking', 3.1202989981685594))\n",
      "(46, ('retard', 3.420626599134513))\n",
      "(47, ('tendies', 3.4876481269212958))\n",
      "(48, ('retards', 3.6640344107572775))\n",
      "(49, ('yolo', 3.74168651334269))\n"
     ]
    },
    {
     "name": "stderr",
     "output_type": "stream",
     "text": [
      "C:\\Users\\96ank\\AppData\\Local\\Continuum\\anaconda3\\lib\\site-packages\\matplotlib\\backends\\backend_agg.py:238: RuntimeWarning: Glyph 129421 missing from current font.\n",
      "  font.set_text(s, 0.0, flags=flags)\n",
      "C:\\Users\\96ank\\AppData\\Local\\Continuum\\anaconda3\\lib\\site-packages\\matplotlib\\backends\\backend_agg.py:201: RuntimeWarning: Glyph 129421 missing from current font.\n",
      "  font.set_text(s, 0, flags=flags)\n"
     ]
    },
    {
     "data": {
      "image/png": "[encoded data removed]",
      "text/plain": [
       "<Figure size 720x1440 with 1 Axes>"
      ]
     },
     "metadata": {
      "needs_background": "light"
     },
     "output_type": "display_data"
    }
   ],
   "source": [
    "from matplotlib import pyplot\n",
    "for Product, category_id in sorted(category_to_id.items()):\n",
    "    print(\"# '{}':\".format(Product))\n",
    "    # summarize feature importance\n",
    "    importance = np.sort(model.coef_[category_id])\n",
    "    indices = np.argsort(model.coef_[category_id])\n",
    "    feature_names = np.array(tfidf.get_feature_names())[indices]\n",
    "    \n",
    "    for i,v in enumerate(zip(feature_names[(len(feature_names[:])-50):],importance[(len(feature_names[:])-50):])):\n",
    "        print((i,v))\n",
    "    # plot feature importance\n",
    "    #pyplot.bar([x for x in range(len(importance[:10]))], importance[:10])\n",
    "    pyplot.figure(figsize=(10,20))\n",
    "    pyplot.barh(feature_names[len(feature_names[:])-50:], importance[len(feature_names[:])-50:])    \n",
    "    pyplot.show()"
   ]
  },
  {
   "cell_type": "code",
   "execution_count": null,
   "metadata": {},
   "outputs": [],
   "source": []
  }
 ],
 "metadata": {
  "kernelspec": {
   "display_name": "Python 3",
   "language": "python",
   "name": "python3"
  },
  "language_info": {
   "codemirror_mode": {
    "name": "ipython",
    "version": 3
   },
   "file_extension": ".py",
   "mimetype": "text/x-python",
   "name": "python",
   "nbconvert_exporter": "python",
   "pygments_lexer": "ipython3",
   "version": "3.7.4"
  }
 },
 "nbformat": 4,
 "nbformat_minor": 4
}
