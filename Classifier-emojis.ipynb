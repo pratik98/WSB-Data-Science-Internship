{
 "cells": [
  {
   "cell_type": "code",
   "execution_count": 1,
   "metadata": {},
   "outputs": [],
   "source": [
    "%%capture\n",
    "from datetime import datetime\n",
    "import matplotlib\n",
    "matplotlib.use('Agg')\n",
    "import matplotlib.pyplot as plt\n",
    "import numpy as np\n",
    "import pandas as pd\n",
    "import json\n",
    "from io import StringIO\n",
    "from sklearn.feature_extraction.text import TfidfVectorizer\n",
    "from sklearn.feature_selection import chi2\n",
    "\n",
    "from sklearn.model_selection import train_test_split\n",
    "from sklearn.feature_extraction.text import CountVectorizer\n",
    "from sklearn.feature_extraction.text import TfidfTransformer\n",
    "from sklearn.naive_bayes import MultinomialNB\n",
    "\n",
    "from sklearn.linear_model import LogisticRegression\n",
    "from sklearn.ensemble import RandomForestClassifier\n",
    "from sklearn.svm import LinearSVC\n",
    "from sklearn.model_selection import cross_val_score\n",
    "from sklearn.metrics import confusion_matrix\n",
    "import seaborn as sns\n",
    "from IPython.display import display\n",
    "from sklearn import metrics\n",
    "plt.rcParams.update({\"font.size\": 12})\n",
    "%matplotlib inline"
   ]
  },
  {
   "cell_type": "code",
   "execution_count": 2,
   "metadata": {},
   "outputs": [],
   "source": [
    "wsb_common_users_data = pd.read_csv(\"data/wsb_common_users_data.csv\",sep=';')\n",
    "stocks_common_users_data= pd.read_csv(\"data/stocks_common_users_data.csv\",sep=';')\n",
    "investing_common_users_data= pd.read_csv(\"data/investing_common_users_data.csv\",sep=';')"
   ]
  },
  {
   "cell_type": "code",
   "execution_count": 3,
   "metadata": {},
   "outputs": [],
   "source": [
    "# Create new column denoting class label and combine into one df\n",
    "wsb_common_users_data['sub'] = 'wsb'\n",
    "stocks_common_users_data['sub'] = 'stocks'\n",
    "investing_common_users_data['sub'] = 'investing'"
   ]
  },
  {
   "cell_type": "code",
   "execution_count": 4,
   "metadata": {},
   "outputs": [],
   "source": [
    "wsb_common_users_data = wsb_common_users_data[['title','selftext','sub']]"
   ]
  },
  {
   "cell_type": "code",
   "execution_count": 5,
   "metadata": {},
   "outputs": [],
   "source": [
    "stocks_common_users_data = stocks_common_users_data[['title','selftext','sub']]"
   ]
  },
  {
   "cell_type": "code",
   "execution_count": 6,
   "metadata": {},
   "outputs": [],
   "source": [
    "investing_common_users_data = investing_common_users_data[['title','selftext','sub']]"
   ]
  },
  {
   "cell_type": "code",
   "execution_count": 7,
   "metadata": {},
   "outputs": [
    {
     "data": {
      "text/html": [
       "<div>\n",
       "<style scoped>\n",
       "    .dataframe tbody tr th:only-of-type {\n",
       "        vertical-align: middle;\n",
       "    }\n",
       "\n",
       "    .dataframe tbody tr th {\n",
       "        vertical-align: top;\n",
       "    }\n",
       "\n",
       "    .dataframe thead th {\n",
       "        text-align: right;\n",
       "    }\n",
       "</style>\n",
       "<table border=\"1\" class=\"dataframe\">\n",
       "  <thead>\n",
       "    <tr style=\"text-align: right;\">\n",
       "      <th></th>\n",
       "      <th>title</th>\n",
       "      <th>selftext</th>\n",
       "      <th>sub</th>\n",
       "    </tr>\n",
       "  </thead>\n",
       "  <tbody>\n",
       "    <tr>\n",
       "      <th>0</th>\n",
       "      <td>$NVAX new variant. Approvals. Lift-off.</td>\n",
       "      <td>So the markets are tanking on new variant news...</td>\n",
       "      <td>investing</td>\n",
       "    </tr>\n",
       "  </tbody>\n",
       "</table>\n",
       "</div>"
      ],
      "text/plain": [
       "                                     title  \\\n",
       "0  $NVAX new variant. Approvals. Lift-off.   \n",
       "\n",
       "                                            selftext        sub  \n",
       "0  So the markets are tanking on new variant news...  investing  "
      ]
     },
     "execution_count": 7,
     "metadata": {},
     "output_type": "execute_result"
    }
   ],
   "source": [
    "investing_common_users_data.head(1)"
   ]
  },
  {
   "cell_type": "code",
   "execution_count": 8,
   "metadata": {},
   "outputs": [],
   "source": [
    "all_data = wsb_common_users_data.append(investing_common_users_data, ignore_index=True)"
   ]
  },
  {
   "cell_type": "code",
   "execution_count": 9,
   "metadata": {},
   "outputs": [],
   "source": [
    "all_data = all_data.append(stocks_common_users_data, ignore_index=True)"
   ]
  },
  {
   "cell_type": "code",
   "execution_count": 10,
   "metadata": {},
   "outputs": [],
   "source": [
    "all_data = all_data[pd.notnull(all_data['selftext'])]"
   ]
  },
  {
   "cell_type": "code",
   "execution_count": 11,
   "metadata": {},
   "outputs": [
    {
     "data": {
      "text/html": [
       "<div>\n",
       "<style scoped>\n",
       "    .dataframe tbody tr th:only-of-type {\n",
       "        vertical-align: middle;\n",
       "    }\n",
       "\n",
       "    .dataframe tbody tr th {\n",
       "        vertical-align: top;\n",
       "    }\n",
       "\n",
       "    .dataframe thead th {\n",
       "        text-align: right;\n",
       "    }\n",
       "</style>\n",
       "<table border=\"1\" class=\"dataframe\">\n",
       "  <thead>\n",
       "    <tr style=\"text-align: right;\">\n",
       "      <th></th>\n",
       "      <th>title</th>\n",
       "      <th>selftext</th>\n",
       "      <th>sub</th>\n",
       "    </tr>\n",
       "  </thead>\n",
       "  <tbody>\n",
       "    <tr>\n",
       "      <th>0</th>\n",
       "      <td>Don't Be A Menace To Hedge Funds By Squeezing ...</td>\n",
       "      <td>What up, nerds? Long time no post. I come bear...</td>\n",
       "      <td>wsb</td>\n",
       "    </tr>\n",
       "  </tbody>\n",
       "</table>\n",
       "</div>"
      ],
      "text/plain": [
       "                                               title  \\\n",
       "0  Don't Be A Menace To Hedge Funds By Squeezing ...   \n",
       "\n",
       "                                            selftext  sub  \n",
       "0  What up, nerds? Long time no post. I come bear...  wsb  "
      ]
     },
     "execution_count": 11,
     "metadata": {},
     "output_type": "execute_result"
    }
   ],
   "source": [
    "all_data.head(1)"
   ]
  },
  {
   "cell_type": "code",
   "execution_count": 12,
   "metadata": {},
   "outputs": [
    {
     "name": "stdout",
     "output_type": "stream",
     "text": [
      "<class 'pandas.core.frame.DataFrame'>\n",
      "Int64Index: 53135 entries, 0 to 111599\n",
      "Data columns (total 3 columns):\n",
      " #   Column    Non-Null Count  Dtype \n",
      "---  ------    --------------  ----- \n",
      " 0   title     53135 non-null  object\n",
      " 1   selftext  53135 non-null  object\n",
      " 2   sub       53135 non-null  object\n",
      "dtypes: object(3)\n",
      "memory usage: 1.6+ MB\n"
     ]
    }
   ],
   "source": [
    "all_data.info()"
   ]
  },
  {
   "cell_type": "code",
   "execution_count": 13,
   "metadata": {},
   "outputs": [
    {
     "data": {
      "text/html": [
       "<div>\n",
       "<style scoped>\n",
       "    .dataframe tbody tr th:only-of-type {\n",
       "        vertical-align: middle;\n",
       "    }\n",
       "\n",
       "    .dataframe tbody tr th {\n",
       "        vertical-align: top;\n",
       "    }\n",
       "\n",
       "    .dataframe thead th {\n",
       "        text-align: right;\n",
       "    }\n",
       "</style>\n",
       "<table border=\"1\" class=\"dataframe\">\n",
       "  <thead>\n",
       "    <tr style=\"text-align: right;\">\n",
       "      <th></th>\n",
       "      <th>title</th>\n",
       "      <th>selftext</th>\n",
       "      <th>sub</th>\n",
       "      <th>sub_id</th>\n",
       "    </tr>\n",
       "  </thead>\n",
       "  <tbody>\n",
       "    <tr>\n",
       "      <th>0</th>\n",
       "      <td>Don't Be A Menace To Hedge Funds By Squeezing ...</td>\n",
       "      <td>What up, nerds? Long time no post. I come bear...</td>\n",
       "      <td>wsb</td>\n",
       "      <td>0</td>\n",
       "    </tr>\n",
       "    <tr>\n",
       "      <th>1</th>\n",
       "      <td>TSLA Earnings Prediction: They beat estimates,...</td>\n",
       "      <td>As many of you know, [$TSLA - Tesla](https://u...</td>\n",
       "      <td>wsb</td>\n",
       "      <td>0</td>\n",
       "    </tr>\n",
       "    <tr>\n",
       "      <th>3</th>\n",
       "      <td>Do you guys follow zack Morris also?</td>\n",
       "      <td>Do you guys play his call outs too? I mean I c...</td>\n",
       "      <td>wsb</td>\n",
       "      <td>0</td>\n",
       "    </tr>\n",
       "    <tr>\n",
       "      <th>9</th>\n",
       "      <td>COMPASS Pathways is granted new US patent for ...</td>\n",
       "      <td>London, UK – 19 October 2021\\n\\nCOMPASS Pathwa...</td>\n",
       "      <td>wsb</td>\n",
       "      <td>0</td>\n",
       "    </tr>\n",
       "    <tr>\n",
       "      <th>10</th>\n",
       "      <td>Indonesia news today: EHang Flying Taxi to Arr...</td>\n",
       "      <td>Ehang stock will rocket soon. \\n\\nEhang is cur...</td>\n",
       "      <td>wsb</td>\n",
       "      <td>0</td>\n",
       "    </tr>\n",
       "  </tbody>\n",
       "</table>\n",
       "</div>"
      ],
      "text/plain": [
       "                                                title  \\\n",
       "0   Don't Be A Menace To Hedge Funds By Squeezing ...   \n",
       "1   TSLA Earnings Prediction: They beat estimates,...   \n",
       "3                Do you guys follow zack Morris also?   \n",
       "9   COMPASS Pathways is granted new US patent for ...   \n",
       "10  Indonesia news today: EHang Flying Taxi to Arr...   \n",
       "\n",
       "                                             selftext  sub  sub_id  \n",
       "0   What up, nerds? Long time no post. I come bear...  wsb       0  \n",
       "1   As many of you know, [$TSLA - Tesla](https://u...  wsb       0  \n",
       "3   Do you guys play his call outs too? I mean I c...  wsb       0  \n",
       "9   London, UK – 19 October 2021\\n\\nCOMPASS Pathwa...  wsb       0  \n",
       "10  Ehang stock will rocket soon. \\n\\nEhang is cur...  wsb       0  "
      ]
     },
     "execution_count": 13,
     "metadata": {},
     "output_type": "execute_result"
    }
   ],
   "source": [
    "all_data['sub_id'] = all_data['sub'].factorize()[0]\n",
    "category_id_df = all_data[['sub', 'sub_id']].drop_duplicates().sort_values('sub_id')\n",
    "category_to_id = dict(category_id_df.values)\n",
    "id_to_category = dict(category_id_df[['sub_id', 'sub']].values)\n",
    "all_data.head()"
   ]
  },
  {
   "cell_type": "code",
   "execution_count": 14,
   "metadata": {},
   "outputs": [
    {
     "data": {
      "image/png": "[encoded data removed]",
      "text/plain": [
       "<Figure size 576x432 with 1 Axes>"
      ]
     },
     "metadata": {
      "needs_background": "light"
     },
     "output_type": "display_data"
    }
   ],
   "source": [
    "fig = plt.figure(figsize=(8,6))\n",
    "all_data.groupby('sub').title.count().plot.bar(ylim=0)\n",
    "plt.show()"
   ]
  },
  {
   "cell_type": "code",
   "execution_count": 15,
   "metadata": {},
   "outputs": [
    {
     "data": {
      "text/plain": [
       "(53135, 8103)"
      ]
     },
     "execution_count": 15,
     "metadata": {},
     "output_type": "execute_result"
    }
   ],
   "source": [
    "tfidf = TfidfVectorizer(sublinear_tf=True, min_df=5, norm='l2', encoding='utf-8', ngram_range=(1, 1), stop_words='english')\n",
    "features = tfidf.fit_transform(all_data.title).toarray() #+all_data.selftext\n",
    "labels = all_data.sub_id\n",
    "features.shape"
   ]
  },
  {
   "cell_type": "code",
   "execution_count": 34,
   "metadata": {},
   "outputs": [
    {
     "name": "stdout",
     "output_type": "stream",
     "text": [
      "# 'investing':\n",
      "  . Most correlated unigrams:\n",
      ". 2020\n",
      ". gme\n",
      ". moves\n",
      ". thread\n",
      ". tomorrow,\n",
      ". investing\n",
      ". r/stocks\n",
      ". daily\n",
      ". general\n",
      ". spitballin\n",
      ". situation\n",
      ". personal\n",
      ". asked\n",
      ". thread.\n",
      ". help\n",
      ". posted\n",
      ". here.\n",
      ". basic\n",
      ". questions\n",
      ". advice\n",
      "# 'stocks':\n",
      "  . Most correlated unigrams:\n",
      ". stock\n",
      ". tuesday\n",
      ". overlooked\n",
      ". daily\n",
      ". thursday\n",
      ". situation\n",
      ". help\n",
      ". personal\n",
      ". moves\n",
      ". asked\n",
      ". thread.\n",
      ". tomorrow,\n",
      ". basic\n",
      ". posted\n",
      ". stocks\n",
      ". here.\n",
      ". thread\n",
      ". questions\n",
      ". advice\n",
      ". r/stocks\n",
      "# 'wsb':\n",
      "  . Most correlated unigrams:\n",
      ". moon\n",
      ". posted\n",
      ". fucking\n",
      ". retards\n",
      ". basic\n",
      ". calls\n",
      ". pltr\n",
      ". puts\n",
      ". fuck\n",
      ". tendies\n",
      ". january\n",
      ". wsb\n",
      ". questions\n",
      ". 2020\n",
      ". yolo\n",
      ". 2019\n",
      ". advice\n",
      ". gme\n",
      ". moves\n",
      ". tomorrow,\n"
     ]
    }
   ],
   "source": [
    "N = 20\n",
    "for Product, category_id in sorted(category_to_id.items()):\n",
    "   # X{array-like, sparse matrix} of shape (n_samples, n_features)\n",
    "    #y -array-like of shape (n_samples,)\n",
    "    #Target vector (class labels).\n",
    "  features_chi2 = chi2(features, labels == category_id) \n",
    "\n",
    "  indices = np.argsort(features_chi2[0])\n",
    "  feature_names = np.array(tfidf.get_feature_names())[indices]\n",
    "  unigrams = [v for v in feature_names if len(v.split(' ')) == 1]\n",
    "\n",
    "  print(\"# '{}':\".format(Product))\n",
    "  print(\"  . Most correlated unigrams:\\n. {}\".format('\\n. '.join(unigrams[-N:])))\n",
    " "
   ]
  },
  {
   "cell_type": "code",
   "execution_count": 17,
   "metadata": {},
   "outputs": [],
   "source": [
    "X_train, X_test, y_train, y_test = train_test_split(all_data['title'], all_data['sub'], random_state = 0)\n",
    "count_vect = CountVectorizer(token_pattern=r'[^\\s]+')\n",
    "X_train_counts = count_vect.fit_transform(X_train)\n",
    "tfidf_transformer = TfidfTransformer()\n",
    "X_train_tfidf = tfidf_transformer.fit_transform(X_train_counts)\n",
    "clf = MultinomialNB().fit(X_train_tfidf, y_train)"
   ]
  },
  {
   "cell_type": "code",
   "execution_count": 18,
   "metadata": {},
   "outputs": [
    {
     "name": "stdout",
     "output_type": "stream",
     "text": [
      "['investing']\n"
     ]
    }
   ],
   "source": [
    "print(clf.predict(count_vect.transform([\"🦍\"])))"
   ]
  },
  {
   "cell_type": "code",
   "execution_count": 19,
   "metadata": {},
   "outputs": [
    {
     "name": "stdout",
     "output_type": "stream",
     "text": [
      "['wsb']\n"
     ]
    }
   ],
   "source": [
    "print(clf.predict(count_vect.transform([\"🚀\"])))"
   ]
  },
  {
   "cell_type": "code",
   "execution_count": 20,
   "metadata": {},
   "outputs": [
    {
     "data": {
      "image/png": "[encoded data removed]",
      "text/plain": [
       "<Figure size 432x288 with 1 Axes>"
      ]
     },
     "metadata": {
      "needs_background": "light"
     },
     "output_type": "display_data"
    }
   ],
   "source": [
    "models = [\n",
    "      MultinomialNB(),\n",
    "    LogisticRegression(random_state=0,max_iter=3000),\n",
    "]\n",
    "CV = 5\n",
    "cv_df = pd.DataFrame(index=range(CV * len(models)))\n",
    "entries = []\n",
    "for model in models:\n",
    "  model_name = model.__class__.__name__\n",
    "  accuracies = cross_val_score(model, features, labels, scoring='accuracy', cv=CV)\n",
    "  for fold_idx, accuracy in enumerate(accuracies):\n",
    "    entries.append((model_name, fold_idx, accuracy))\n",
    "cv_df = pd.DataFrame(entries, columns=['model_name', 'fold_idx', 'accuracy'])\n",
    "import seaborn as sns\n",
    "sns.boxplot(x='model_name', y='accuracy', data=cv_df)\n",
    "sns.stripplot(x='model_name', y='accuracy', data=cv_df, \n",
    "              size=8, jitter=True, edgecolor=\"gray\", linewidth=2)\n",
    "plt.show()"
   ]
  },
  {
   "cell_type": "code",
   "execution_count": 21,
   "metadata": {},
   "outputs": [
    {
     "data": {
      "text/plain": [
       "model_name\n",
       "LogisticRegression    0.466228\n",
       "MultinomialNB         0.463254\n",
       "Name: accuracy, dtype: float64"
      ]
     },
     "execution_count": 21,
     "metadata": {},
     "output_type": "execute_result"
    }
   ],
   "source": [
    "cv_df.groupby('model_name').accuracy.mean()"
   ]
  },
  {
   "cell_type": "code",
   "execution_count": 22,
   "metadata": {},
   "outputs": [
    {
     "data": {
      "text/plain": [
       "array(['wsb', 'investing', 'stocks'], dtype=object)"
      ]
     },
     "execution_count": 22,
     "metadata": {},
     "output_type": "execute_result"
    }
   ],
   "source": [
    "category_id_df['sub'].values"
   ]
  },
  {
   "cell_type": "code",
   "execution_count": 23,
   "metadata": {},
   "outputs": [
    {
     "name": "stderr",
     "output_type": "stream",
     "text": [
      "C:\\Users\\96ank\\AppData\\Local\\Continuum\\anaconda3\\lib\\site-packages\\sklearn\\linear_model\\_logistic.py:764: ConvergenceWarning: lbfgs failed to converge (status=1):\n",
      "STOP: TOTAL NO. of ITERATIONS REACHED LIMIT.\n",
      "\n",
      "Increase the number of iterations (max_iter) or scale the data as shown in:\n",
      "    https://scikit-learn.org/stable/modules/preprocessing.html\n",
      "Please also refer to the documentation for alternative solver options:\n",
      "    https://scikit-learn.org/stable/modules/linear_model.html#logistic-regression\n",
      "  extra_warning_msg=_LOGISTIC_SOLVER_CONVERGENCE_MSG)\n"
     ]
    },
    {
     "data": {
      "image/png": "[encoded data removed]",
      "text/plain": [
       "<Figure size 720x720 with 2 Axes>"
      ]
     },
     "metadata": {
      "needs_background": "light"
     },
     "output_type": "display_data"
    }
   ],
   "source": [
    "model = LogisticRegression()\n",
    "X_train, X_test, y_train, y_test, indices_train, indices_test = train_test_split(features, labels, all_data.index, test_size=0.33, random_state=0)\n",
    "model.fit(X_train, y_train)\n",
    "y_pred = model.predict(X_test)\n",
    "from sklearn.metrics import confusion_matrix\n",
    "conf_mat = confusion_matrix(y_test, y_pred)\n",
    "fig, ax = plt.subplots(figsize=(10,10))\n",
    "sns.heatmap(conf_mat, annot=True, fmt='d',\n",
    "            xticklabels=category_id_df['sub'].values, yticklabels=category_id_df['sub'].values)\n",
    "plt.ylabel('Actual')\n",
    "plt.xlabel('Predicted')\n",
    "plt.show()"
   ]
  },
  {
   "cell_type": "code",
   "execution_count": 24,
   "metadata": {},
   "outputs": [
    {
     "data": {
      "text/html": [
       "<div>\n",
       "<style scoped>\n",
       "    .dataframe tbody tr th:only-of-type {\n",
       "        vertical-align: middle;\n",
       "    }\n",
       "\n",
       "    .dataframe tbody tr th {\n",
       "        vertical-align: top;\n",
       "    }\n",
       "\n",
       "    .dataframe thead th {\n",
       "        text-align: right;\n",
       "    }\n",
       "</style>\n",
       "<table border=\"1\" class=\"dataframe\">\n",
       "  <thead>\n",
       "    <tr style=\"text-align: right;\">\n",
       "      <th></th>\n",
       "      <th>sub</th>\n",
       "      <th>sub_id</th>\n",
       "    </tr>\n",
       "  </thead>\n",
       "  <tbody>\n",
       "    <tr>\n",
       "      <th>0</th>\n",
       "      <td>wsb</td>\n",
       "      <td>0</td>\n",
       "    </tr>\n",
       "    <tr>\n",
       "      <th>64631</th>\n",
       "      <td>investing</td>\n",
       "      <td>1</td>\n",
       "    </tr>\n",
       "    <tr>\n",
       "      <th>86151</th>\n",
       "      <td>stocks</td>\n",
       "      <td>2</td>\n",
       "    </tr>\n",
       "  </tbody>\n",
       "</table>\n",
       "</div>"
      ],
      "text/plain": [
       "             sub  sub_id\n",
       "0            wsb       0\n",
       "64631  investing       1\n",
       "86151     stocks       2"
      ]
     },
     "execution_count": 24,
     "metadata": {},
     "output_type": "execute_result"
    }
   ],
   "source": [
    "category_id_df"
   ]
  },
  {
   "cell_type": "code",
   "execution_count": 25,
   "metadata": {},
   "outputs": [
    {
     "name": "stdout",
     "output_type": "stream",
     "text": [
      "'investing' predicted as 'wsb' : 713 examples.\n"
     ]
    },
    {
     "data": {
      "text/html": [
       "<div>\n",
       "<style scoped>\n",
       "    .dataframe tbody tr th:only-of-type {\n",
       "        vertical-align: middle;\n",
       "    }\n",
       "\n",
       "    .dataframe tbody tr th {\n",
       "        vertical-align: top;\n",
       "    }\n",
       "\n",
       "    .dataframe thead th {\n",
       "        text-align: right;\n",
       "    }\n",
       "</style>\n",
       "<table border=\"1\" class=\"dataframe\">\n",
       "  <thead>\n",
       "    <tr style=\"text-align: right;\">\n",
       "      <th></th>\n",
       "      <th>sub</th>\n",
       "      <th>title</th>\n",
       "    </tr>\n",
       "  </thead>\n",
       "  <tbody>\n",
       "    <tr>\n",
       "      <th>65879</th>\n",
       "      <td>investing</td>\n",
       "      <td>Part 2: Cortexyme (CRTX) and GAIN Clinical Tri...</td>\n",
       "    </tr>\n",
       "    <tr>\n",
       "      <th>81707</th>\n",
       "      <td>investing</td>\n",
       "      <td>Premarket SPY trading points to -6.73% open, n...</td>\n",
       "    </tr>\n",
       "    <tr>\n",
       "      <th>69792</th>\n",
       "      <td>investing</td>\n",
       "      <td>DD on WTRH Waitr Holdings</td>\n",
       "    </tr>\n",
       "    <tr>\n",
       "      <th>69528</th>\n",
       "      <td>investing</td>\n",
       "      <td>$DISCA YOLO Call Options Trade! This stock wil...</td>\n",
       "    </tr>\n",
       "    <tr>\n",
       "      <th>84306</th>\n",
       "      <td>investing</td>\n",
       "      <td>BlackBerry bets on Kanata, pledging 800 new jobs</td>\n",
       "    </tr>\n",
       "    <tr>\n",
       "      <th>...</th>\n",
       "      <td>...</td>\n",
       "      <td>...</td>\n",
       "    </tr>\n",
       "    <tr>\n",
       "      <th>74057</th>\n",
       "      <td>investing</td>\n",
       "      <td>HRC Steel Prices hit ALL-TIME HIGH</td>\n",
       "    </tr>\n",
       "    <tr>\n",
       "      <th>67527</th>\n",
       "      <td>investing</td>\n",
       "      <td>Did Some Heavy DD on This One, massive Potenti...</td>\n",
       "    </tr>\n",
       "    <tr>\n",
       "      <th>74196</th>\n",
       "      <td>investing</td>\n",
       "      <td>Tesla bulls time to go back to your cave!!!!!</td>\n",
       "    </tr>\n",
       "    <tr>\n",
       "      <th>84551</th>\n",
       "      <td>investing</td>\n",
       "      <td>TMD TSX</td>\n",
       "    </tr>\n",
       "    <tr>\n",
       "      <th>81126</th>\n",
       "      <td>investing</td>\n",
       "      <td>Using SPY instead of VOO to sell options</td>\n",
       "    </tr>\n",
       "  </tbody>\n",
       "</table>\n",
       "<p>713 rows × 2 columns</p>\n",
       "</div>"
      ],
      "text/plain": [
       "             sub                                              title\n",
       "65879  investing  Part 2: Cortexyme (CRTX) and GAIN Clinical Tri...\n",
       "81707  investing  Premarket SPY trading points to -6.73% open, n...\n",
       "69792  investing                          DD on WTRH Waitr Holdings\n",
       "69528  investing  $DISCA YOLO Call Options Trade! This stock wil...\n",
       "84306  investing   BlackBerry bets on Kanata, pledging 800 new jobs\n",
       "...          ...                                                ...\n",
       "74057  investing                 HRC Steel Prices hit ALL-TIME HIGH\n",
       "67527  investing  Did Some Heavy DD on This One, massive Potenti...\n",
       "74196  investing      Tesla bulls time to go back to your cave!!!!!\n",
       "84551  investing                                            TMD TSX\n",
       "81126  investing           Using SPY instead of VOO to sell options\n",
       "\n",
       "[713 rows x 2 columns]"
      ]
     },
     "metadata": {},
     "output_type": "display_data"
    },
    {
     "name": "stdout",
     "output_type": "stream",
     "text": [
      "\n",
      "'stocks' predicted as 'wsb' : 973 examples.\n"
     ]
    },
    {
     "data": {
      "text/html": [
       "<div>\n",
       "<style scoped>\n",
       "    .dataframe tbody tr th:only-of-type {\n",
       "        vertical-align: middle;\n",
       "    }\n",
       "\n",
       "    .dataframe tbody tr th {\n",
       "        vertical-align: top;\n",
       "    }\n",
       "\n",
       "    .dataframe thead th {\n",
       "        text-align: right;\n",
       "    }\n",
       "</style>\n",
       "<table border=\"1\" class=\"dataframe\">\n",
       "  <thead>\n",
       "    <tr style=\"text-align: right;\">\n",
       "      <th></th>\n",
       "      <th>sub</th>\n",
       "      <th>title</th>\n",
       "    </tr>\n",
       "  </thead>\n",
       "  <tbody>\n",
       "    <tr>\n",
       "      <th>98543</th>\n",
       "      <td>stocks</td>\n",
       "      <td>Why Nokia Is My Latest 5G Trade</td>\n",
       "    </tr>\n",
       "    <tr>\n",
       "      <th>97586</th>\n",
       "      <td>stocks</td>\n",
       "      <td>$BB DD - no meems</td>\n",
       "    </tr>\n",
       "    <tr>\n",
       "      <th>109829</th>\n",
       "      <td>stocks</td>\n",
       "      <td>You’ve heard of r/wallstreetbets, introducing ...</td>\n",
       "    </tr>\n",
       "    <tr>\n",
       "      <th>102863</th>\n",
       "      <td>stocks</td>\n",
       "      <td>Why is the W K H S stock already $29 ?</td>\n",
       "    </tr>\n",
       "    <tr>\n",
       "      <th>100971</th>\n",
       "      <td>stocks</td>\n",
       "      <td>If you bought DoorDash at $180...</td>\n",
       "    </tr>\n",
       "    <tr>\n",
       "      <th>...</th>\n",
       "      <td>...</td>\n",
       "      <td>...</td>\n",
       "    </tr>\n",
       "    <tr>\n",
       "      <th>97208</th>\n",
       "      <td>stocks</td>\n",
       "      <td>GME buy or stay away?</td>\n",
       "    </tr>\n",
       "    <tr>\n",
       "      <th>94416</th>\n",
       "      <td>stocks</td>\n",
       "      <td>wallstreetbets update on Gme second short sque...</td>\n",
       "    </tr>\n",
       "    <tr>\n",
       "      <th>103895</th>\n",
       "      <td>stocks</td>\n",
       "      <td>Blackberry- Hidden Gem</td>\n",
       "    </tr>\n",
       "    <tr>\n",
       "      <th>98536</th>\n",
       "      <td>stocks</td>\n",
       "      <td>Who’s ready for round 3 of GME tomorrow? I’ve ...</td>\n",
       "    </tr>\n",
       "    <tr>\n",
       "      <th>93053</th>\n",
       "      <td>stocks</td>\n",
       "      <td>PLTR - what would you do ?</td>\n",
       "    </tr>\n",
       "  </tbody>\n",
       "</table>\n",
       "<p>973 rows × 2 columns</p>\n",
       "</div>"
      ],
      "text/plain": [
       "           sub                                              title\n",
       "98543   stocks                    Why Nokia Is My Latest 5G Trade\n",
       "97586   stocks                                  $BB DD - no meems\n",
       "109829  stocks  You’ve heard of r/wallstreetbets, introducing ...\n",
       "102863  stocks             Why is the W K H S stock already $29 ?\n",
       "100971  stocks                  If you bought DoorDash at $180...\n",
       "...        ...                                                ...\n",
       "97208   stocks                              GME buy or stay away?\n",
       "94416   stocks  wallstreetbets update on Gme second short sque...\n",
       "103895  stocks                             Blackberry- Hidden Gem\n",
       "98536   stocks  Who’s ready for round 3 of GME tomorrow? I’ve ...\n",
       "93053   stocks                         PLTR - what would you do ?\n",
       "\n",
       "[973 rows x 2 columns]"
      ]
     },
     "metadata": {},
     "output_type": "display_data"
    },
    {
     "name": "stdout",
     "output_type": "stream",
     "text": [
      "\n",
      "'wsb' predicted as 'investing' : 815 examples.\n"
     ]
    },
    {
     "data": {
      "text/html": [
       "<div>\n",
       "<style scoped>\n",
       "    .dataframe tbody tr th:only-of-type {\n",
       "        vertical-align: middle;\n",
       "    }\n",
       "\n",
       "    .dataframe tbody tr th {\n",
       "        vertical-align: top;\n",
       "    }\n",
       "\n",
       "    .dataframe thead th {\n",
       "        text-align: right;\n",
       "    }\n",
       "</style>\n",
       "<table border=\"1\" class=\"dataframe\">\n",
       "  <thead>\n",
       "    <tr style=\"text-align: right;\">\n",
       "      <th></th>\n",
       "      <th>sub</th>\n",
       "      <th>title</th>\n",
       "    </tr>\n",
       "  </thead>\n",
       "  <tbody>\n",
       "    <tr>\n",
       "      <th>56196</th>\n",
       "      <td>wsb</td>\n",
       "      <td>Drumbeat to decoupling? China cracking down on...</td>\n",
       "    </tr>\n",
       "    <tr>\n",
       "      <th>46170</th>\n",
       "      <td>wsb</td>\n",
       "      <td>Help Choosing my ETFs</td>\n",
       "    </tr>\n",
       "    <tr>\n",
       "      <th>45090</th>\n",
       "      <td>wsb</td>\n",
       "      <td>Operation BNG0</td>\n",
       "    </tr>\n",
       "    <tr>\n",
       "      <th>9616</th>\n",
       "      <td>wsb</td>\n",
       "      <td>Is there a difference between borrowing margin...</td>\n",
       "    </tr>\n",
       "    <tr>\n",
       "      <th>56638</th>\n",
       "      <td>wsb</td>\n",
       "      <td>Epic Fail</td>\n",
       "    </tr>\n",
       "    <tr>\n",
       "      <th>...</th>\n",
       "      <td>...</td>\n",
       "      <td>...</td>\n",
       "    </tr>\n",
       "    <tr>\n",
       "      <th>181</th>\n",
       "      <td>wsb</td>\n",
       "      <td>World-first Decentralized “ETF-like” product</td>\n",
       "    </tr>\n",
       "    <tr>\n",
       "      <th>10695</th>\n",
       "      <td>wsb</td>\n",
       "      <td>I’m Up 24.61% on My Managed Account and Down 2...</td>\n",
       "    </tr>\n",
       "    <tr>\n",
       "      <th>10326</th>\n",
       "      <td>wsb</td>\n",
       "      <td>Discussion about stock market youtube channels</td>\n",
       "    </tr>\n",
       "    <tr>\n",
       "      <th>3134</th>\n",
       "      <td>wsb</td>\n",
       "      <td>TSLA AI Day August 19th</td>\n",
       "    </tr>\n",
       "    <tr>\n",
       "      <th>14554</th>\n",
       "      <td>wsb</td>\n",
       "      <td>I'm working on a p2p network of databases that...</td>\n",
       "    </tr>\n",
       "  </tbody>\n",
       "</table>\n",
       "<p>815 rows × 2 columns</p>\n",
       "</div>"
      ],
      "text/plain": [
       "       sub                                              title\n",
       "56196  wsb  Drumbeat to decoupling? China cracking down on...\n",
       "46170  wsb                              Help Choosing my ETFs\n",
       "45090  wsb                                     Operation BNG0\n",
       "9616   wsb  Is there a difference between borrowing margin...\n",
       "56638  wsb                                          Epic Fail\n",
       "...    ...                                                ...\n",
       "181    wsb       World-first Decentralized “ETF-like” product\n",
       "10695  wsb  I’m Up 24.61% on My Managed Account and Down 2...\n",
       "10326  wsb     Discussion about stock market youtube channels\n",
       "3134   wsb                            TSLA AI Day August 19th\n",
       "14554  wsb  I'm working on a p2p network of databases that...\n",
       "\n",
       "[815 rows x 2 columns]"
      ]
     },
     "metadata": {},
     "output_type": "display_data"
    },
    {
     "name": "stdout",
     "output_type": "stream",
     "text": [
      "\n",
      "'stocks' predicted as 'investing' : 1913 examples.\n"
     ]
    },
    {
     "data": {
      "text/html": [
       "<div>\n",
       "<style scoped>\n",
       "    .dataframe tbody tr th:only-of-type {\n",
       "        vertical-align: middle;\n",
       "    }\n",
       "\n",
       "    .dataframe tbody tr th {\n",
       "        vertical-align: top;\n",
       "    }\n",
       "\n",
       "    .dataframe thead th {\n",
       "        text-align: right;\n",
       "    }\n",
       "</style>\n",
       "<table border=\"1\" class=\"dataframe\">\n",
       "  <thead>\n",
       "    <tr style=\"text-align: right;\">\n",
       "      <th></th>\n",
       "      <th>sub</th>\n",
       "      <th>title</th>\n",
       "    </tr>\n",
       "  </thead>\n",
       "  <tbody>\n",
       "    <tr>\n",
       "      <th>100477</th>\n",
       "      <td>stocks</td>\n",
       "      <td>I’m worried that if the GOP gets there way, th...</td>\n",
       "    </tr>\n",
       "    <tr>\n",
       "      <th>89453</th>\n",
       "      <td>stocks</td>\n",
       "      <td>AutoUFOs® Trading Apps</td>\n",
       "    </tr>\n",
       "    <tr>\n",
       "      <th>88633</th>\n",
       "      <td>stocks</td>\n",
       "      <td>#pton peloton to jump with ny and rest of coun...</td>\n",
       "    </tr>\n",
       "    <tr>\n",
       "      <th>92289</th>\n",
       "      <td>stocks</td>\n",
       "      <td>Roast the Portfolio</td>\n",
       "    </tr>\n",
       "    <tr>\n",
       "      <th>104526</th>\n",
       "      <td>stocks</td>\n",
       "      <td>Question on assignment</td>\n",
       "    </tr>\n",
       "    <tr>\n",
       "      <th>...</th>\n",
       "      <td>...</td>\n",
       "      <td>...</td>\n",
       "    </tr>\n",
       "    <tr>\n",
       "      <th>100698</th>\n",
       "      <td>stocks</td>\n",
       "      <td>2021: Time to Rebalance your Portfolio?</td>\n",
       "    </tr>\n",
       "    <tr>\n",
       "      <th>107193</th>\n",
       "      <td>stocks</td>\n",
       "      <td>Shocked to see so much buying of dividend ETFs...</td>\n",
       "    </tr>\n",
       "    <tr>\n",
       "      <th>106045</th>\n",
       "      <td>stocks</td>\n",
       "      <td>Bank stocks are lower due to the Fed announcem...</td>\n",
       "    </tr>\n",
       "    <tr>\n",
       "      <th>92816</th>\n",
       "      <td>stocks</td>\n",
       "      <td>FTC sues Illumina (ILMN) to block vertical int...</td>\n",
       "    </tr>\n",
       "    <tr>\n",
       "      <th>98884</th>\n",
       "      <td>stocks</td>\n",
       "      <td>need help understanding margin</td>\n",
       "    </tr>\n",
       "  </tbody>\n",
       "</table>\n",
       "<p>1913 rows × 2 columns</p>\n",
       "</div>"
      ],
      "text/plain": [
       "           sub                                              title\n",
       "100477  stocks  I’m worried that if the GOP gets there way, th...\n",
       "89453   stocks                             AutoUFOs® Trading Apps\n",
       "88633   stocks  #pton peloton to jump with ny and rest of coun...\n",
       "92289   stocks                                Roast the Portfolio\n",
       "104526  stocks                             Question on assignment\n",
       "...        ...                                                ...\n",
       "100698  stocks            2021: Time to Rebalance your Portfolio?\n",
       "107193  stocks  Shocked to see so much buying of dividend ETFs...\n",
       "106045  stocks  Bank stocks are lower due to the Fed announcem...\n",
       "92816   stocks  FTC sues Illumina (ILMN) to block vertical int...\n",
       "98884   stocks                     need help understanding margin\n",
       "\n",
       "[1913 rows x 2 columns]"
      ]
     },
     "metadata": {},
     "output_type": "display_data"
    },
    {
     "name": "stdout",
     "output_type": "stream",
     "text": [
      "\n",
      "'wsb' predicted as 'stocks' : 1581 examples.\n"
     ]
    },
    {
     "data": {
      "text/html": [
       "<div>\n",
       "<style scoped>\n",
       "    .dataframe tbody tr th:only-of-type {\n",
       "        vertical-align: middle;\n",
       "    }\n",
       "\n",
       "    .dataframe tbody tr th {\n",
       "        vertical-align: top;\n",
       "    }\n",
       "\n",
       "    .dataframe thead th {\n",
       "        text-align: right;\n",
       "    }\n",
       "</style>\n",
       "<table border=\"1\" class=\"dataframe\">\n",
       "  <thead>\n",
       "    <tr style=\"text-align: right;\">\n",
       "      <th></th>\n",
       "      <th>sub</th>\n",
       "      <th>title</th>\n",
       "    </tr>\n",
       "  </thead>\n",
       "  <tbody>\n",
       "    <tr>\n",
       "      <th>39796</th>\n",
       "      <td>wsb</td>\n",
       "      <td>Interactive Brokers now also limiting orders o...</td>\n",
       "    </tr>\n",
       "    <tr>\n",
       "      <th>6452</th>\n",
       "      <td>wsb</td>\n",
       "      <td>Social Investing - How do you think it's affec...</td>\n",
       "    </tr>\n",
       "    <tr>\n",
       "      <th>219</th>\n",
       "      <td>wsb</td>\n",
       "      <td>NRXP Full DD: Big mover (up 61% yesterday) and...</td>\n",
       "    </tr>\n",
       "    <tr>\n",
       "      <th>48107</th>\n",
       "      <td>wsb</td>\n",
       "      <td>TESLA NEWS | NIO SALES | NIKOLA STOCK CRASH | ...</td>\n",
       "    </tr>\n",
       "    <tr>\n",
       "      <th>49960</th>\n",
       "      <td>wsb</td>\n",
       "      <td>“I certainly wouldn’t want to be net short the...</td>\n",
       "    </tr>\n",
       "    <tr>\n",
       "      <th>...</th>\n",
       "      <td>...</td>\n",
       "      <td>...</td>\n",
       "    </tr>\n",
       "    <tr>\n",
       "      <th>50597</th>\n",
       "      <td>wsb</td>\n",
       "      <td>Crazy night</td>\n",
       "    </tr>\n",
       "    <tr>\n",
       "      <th>9278</th>\n",
       "      <td>wsb</td>\n",
       "      <td>What stock would you say is good for a call/pu...</td>\n",
       "    </tr>\n",
       "    <tr>\n",
       "      <th>8886</th>\n",
       "      <td>wsb</td>\n",
       "      <td>McDonalds Stock</td>\n",
       "    </tr>\n",
       "    <tr>\n",
       "      <th>3380</th>\n",
       "      <td>wsb</td>\n",
       "      <td>$SDC SmileDirectClub is one of the most shorte...</td>\n",
       "    </tr>\n",
       "    <tr>\n",
       "      <th>52649</th>\n",
       "      <td>wsb</td>\n",
       "      <td>Apple LEAP?</td>\n",
       "    </tr>\n",
       "  </tbody>\n",
       "</table>\n",
       "<p>1581 rows × 2 columns</p>\n",
       "</div>"
      ],
      "text/plain": [
       "       sub                                              title\n",
       "39796  wsb  Interactive Brokers now also limiting orders o...\n",
       "6452   wsb  Social Investing - How do you think it's affec...\n",
       "219    wsb  NRXP Full DD: Big mover (up 61% yesterday) and...\n",
       "48107  wsb  TESLA NEWS | NIO SALES | NIKOLA STOCK CRASH | ...\n",
       "49960  wsb  “I certainly wouldn’t want to be net short the...\n",
       "...    ...                                                ...\n",
       "50597  wsb                                        Crazy night\n",
       "9278   wsb  What stock would you say is good for a call/pu...\n",
       "8886   wsb                                    McDonalds Stock\n",
       "3380   wsb  $SDC SmileDirectClub is one of the most shorte...\n",
       "52649  wsb                                        Apple LEAP?\n",
       "\n",
       "[1581 rows x 2 columns]"
      ]
     },
     "metadata": {},
     "output_type": "display_data"
    },
    {
     "name": "stdout",
     "output_type": "stream",
     "text": [
      "\n",
      "'investing' predicted as 'stocks' : 2470 examples.\n"
     ]
    },
    {
     "data": {
      "text/html": [
       "<div>\n",
       "<style scoped>\n",
       "    .dataframe tbody tr th:only-of-type {\n",
       "        vertical-align: middle;\n",
       "    }\n",
       "\n",
       "    .dataframe tbody tr th {\n",
       "        vertical-align: top;\n",
       "    }\n",
       "\n",
       "    .dataframe thead th {\n",
       "        text-align: right;\n",
       "    }\n",
       "</style>\n",
       "<table border=\"1\" class=\"dataframe\">\n",
       "  <thead>\n",
       "    <tr style=\"text-align: right;\">\n",
       "      <th></th>\n",
       "      <th>sub</th>\n",
       "      <th>title</th>\n",
       "    </tr>\n",
       "  </thead>\n",
       "  <tbody>\n",
       "    <tr>\n",
       "      <th>82893</th>\n",
       "      <td>investing</td>\n",
       "      <td>Cindicator in the Middle East: addressing $4 t...</td>\n",
       "    </tr>\n",
       "    <tr>\n",
       "      <th>73040</th>\n",
       "      <td>investing</td>\n",
       "      <td>ANYONE PAYING ATTENTION TO DOGECOIN IN HERE?</td>\n",
       "    </tr>\n",
       "    <tr>\n",
       "      <th>64990</th>\n",
       "      <td>investing</td>\n",
       "      <td>Intel Core i5-12600K CPU Up To 50% Faster Than...</td>\n",
       "    </tr>\n",
       "    <tr>\n",
       "      <th>76095</th>\n",
       "      <td>investing</td>\n",
       "      <td>$CURR Great News Out - CURE Pharmaceutical Iss...</td>\n",
       "    </tr>\n",
       "    <tr>\n",
       "      <th>74551</th>\n",
       "      <td>investing</td>\n",
       "      <td>20k for 10 years</td>\n",
       "    </tr>\n",
       "    <tr>\n",
       "      <th>...</th>\n",
       "      <td>...</td>\n",
       "      <td>...</td>\n",
       "    </tr>\n",
       "    <tr>\n",
       "      <th>67719</th>\n",
       "      <td>investing</td>\n",
       "      <td>Norwegian startup FLYR AS</td>\n",
       "    </tr>\n",
       "    <tr>\n",
       "      <th>66306</th>\n",
       "      <td>investing</td>\n",
       "      <td>Nokia beats Q2 earnings and raises 2021 Outloo...</td>\n",
       "    </tr>\n",
       "    <tr>\n",
       "      <th>82360</th>\n",
       "      <td>investing</td>\n",
       "      <td>Growth cloud companies vs Long term blue chip ...</td>\n",
       "    </tr>\n",
       "    <tr>\n",
       "      <th>82587</th>\n",
       "      <td>investing</td>\n",
       "      <td>Question on capital gains</td>\n",
       "    </tr>\n",
       "    <tr>\n",
       "      <th>84538</th>\n",
       "      <td>investing</td>\n",
       "      <td>I realized it costs me an extra $16,600 to liv...</td>\n",
       "    </tr>\n",
       "  </tbody>\n",
       "</table>\n",
       "<p>2470 rows × 2 columns</p>\n",
       "</div>"
      ],
      "text/plain": [
       "             sub                                              title\n",
       "82893  investing  Cindicator in the Middle East: addressing $4 t...\n",
       "73040  investing       ANYONE PAYING ATTENTION TO DOGECOIN IN HERE?\n",
       "64990  investing  Intel Core i5-12600K CPU Up To 50% Faster Than...\n",
       "76095  investing  $CURR Great News Out - CURE Pharmaceutical Iss...\n",
       "74551  investing                                   20k for 10 years\n",
       "...          ...                                                ...\n",
       "67719  investing                          Norwegian startup FLYR AS\n",
       "66306  investing  Nokia beats Q2 earnings and raises 2021 Outloo...\n",
       "82360  investing  Growth cloud companies vs Long term blue chip ...\n",
       "82587  investing                          Question on capital gains\n",
       "84538  investing  I realized it costs me an extra $16,600 to liv...\n",
       "\n",
       "[2470 rows x 2 columns]"
      ]
     },
     "metadata": {},
     "output_type": "display_data"
    },
    {
     "name": "stdout",
     "output_type": "stream",
     "text": [
      "\n"
     ]
    }
   ],
   "source": [
    "from IPython.display import display\n",
    "for predicted in category_id_df.sub_id:\n",
    "  for actual in category_id_df.sub_id:\n",
    "    if predicted != actual and conf_mat[actual, predicted] >= 10:\n",
    "      print(\"'{}' predicted as '{}' : {} examples.\".format(id_to_category[actual], id_to_category[predicted], conf_mat[actual, predicted]))\n",
    "      display(all_data.loc[indices_test[(y_test == actual) & (y_pred == predicted)]][['sub', 'title']])\n",
    "      print('')"
   ]
  },
  {
   "cell_type": "code",
   "execution_count": 26,
   "metadata": {},
   "outputs": [
    {
     "name": "stderr",
     "output_type": "stream",
     "text": [
      "C:\\Users\\96ank\\AppData\\Local\\Continuum\\anaconda3\\lib\\site-packages\\sklearn\\linear_model\\_logistic.py:764: ConvergenceWarning: lbfgs failed to converge (status=1):\n",
      "STOP: TOTAL NO. of ITERATIONS REACHED LIMIT.\n",
      "\n",
      "Increase the number of iterations (max_iter) or scale the data as shown in:\n",
      "    https://scikit-learn.org/stable/modules/preprocessing.html\n",
      "Please also refer to the documentation for alternative solver options:\n",
      "    https://scikit-learn.org/stable/modules/linear_model.html#logistic-regression\n",
      "  extra_warning_msg=_LOGISTIC_SOLVER_CONVERGENCE_MSG)\n"
     ]
    },
    {
     "data": {
      "text/plain": [
       "LogisticRegression()"
      ]
     },
     "execution_count": 26,
     "metadata": {},
     "output_type": "execute_result"
    }
   ],
   "source": [
    "model.fit(features, labels)\n"
   ]
  },
  {
   "cell_type": "code",
   "execution_count": 31,
   "metadata": {},
   "outputs": [
    {
     "name": "stdout",
     "output_type": "stream",
     "text": [
      "# 'investing':\n",
      "  . Top unigrams:\n",
      "       . spitballin\n",
      "       . 2018)\n",
      "       . bitcoin\n",
      "       . questions\n",
      "       . thread.\n",
      "       . r/investing\n",
      "       . basic\n",
      "       . podcast\n",
      "       . posted\n",
      "       . crypto\n",
      "       . general\n",
      "       . here.\n",
      "       . taxable\n",
      "       . asked\n",
      "       . tariffs\n",
      "       . cash?\n",
      "       . private\n",
      "       . investing\n",
      "       . estate\n",
      "       . 401k\n",
      "# 'stocks':\n",
      "  . Top unigrams:\n",
      "       . r/stocks\n",
      "       . stocks\n",
      "       . watchlist\n",
      "       . read:\n",
      "       . etsy\n",
      "       . fast\n",
      "       . alibaba\n",
      "       . australis\n",
      "       . kulr\n",
      "       . (2021)\n",
      "       . $maxn\n",
      "       . jd.com\n",
      "       . (psfe)\n",
      "       . interesting!\n",
      "       . valuation?\n",
      "       . selling?\n",
      "       . mgm\n",
      "       . biontech\n",
      "       . triterras\n",
      "       . essay\n",
      "# 'wsb':\n",
      "  . Top unigrams:\n",
      "       . tomorrow,\n",
      "       . yolo\n",
      "       . retards\n",
      "       . tendies\n",
      "       . fuck\n",
      "       . autists\n",
      "       . apes\n",
      "       . retard\n",
      "       . autistic\n",
      "       . fucking\n",
      "       . gang\n",
      "       . wsb\n",
      "       . autist\n",
      "       . shit\n",
      "       . 🚀\n",
      "       . degenerates\n",
      "       . ape\n",
      "       . thread\n",
      "       . gay\n",
      "       . calls\n"
     ]
    }
   ],
   "source": [
    "N = 20\n",
    "for Product, category_id in sorted(category_to_id.items()):\n",
    "  indices = np.argsort(model.coef_[category_id])\n",
    "  feature_names = np.array(tfidf.get_feature_names())[indices]\n",
    "  unigrams = [v for v in reversed(feature_names) if len(v.split(' ')) == 1][:N]\n",
    " \n",
    "  print(\"# '{}':\".format(Product))\n",
    "  print(\"  . Top unigrams:\\n       . {}\".format('\\n       . '.join(unigrams)))\n",
    "  "
   ]
  },
  {
   "cell_type": "code",
   "execution_count": 28,
   "metadata": {},
   "outputs": [
    {
     "name": "stdout",
     "output_type": "stream",
     "text": [
      "              precision    recall  f1-score   support\n",
      "\n",
      "         wsb       0.60      0.52      0.56      4966\n",
      "   investing       0.52      0.48      0.50      6110\n",
      "      stocks       0.47      0.55      0.51      6459\n",
      "\n",
      "    accuracy                           0.52     17535\n",
      "   macro avg       0.53      0.52      0.52     17535\n",
      "weighted avg       0.52      0.52      0.52     17535\n",
      "\n"
     ]
    }
   ],
   "source": [
    "print(metrics.classification_report(y_test, y_pred, target_names=all_data['sub'].unique()))"
   ]
  },
  {
   "cell_type": "code",
   "execution_count": 29,
   "metadata": {},
   "outputs": [
    {
     "name": "stdout",
     "output_type": "stream",
     "text": [
      "# 'investing':\n",
      "Feature: , Score:  (0, ('r/stocks', -2.375727133087237))\n",
      "Feature: , Score:  (1, ('tomorrow,', -2.249143382816583))\n",
      "Feature: , Score:  (2, ('pltr', -1.8631271515056973))\n",
      "Feature: , Score:  (3, ('yolo', -1.8026056049573156))\n",
      "Feature: , Score:  (4, ('meme', -1.7228393571559029))\n",
      "Feature: , Score:  (5, ('retards', -1.685553735382861))\n",
      "Feature: , Score:  (6, ('🚀', -1.6656715857959008))\n",
      "Feature: , Score:  (7, ('fuck', -1.6614198305470413))\n",
      "Feature: , Score:  (8, ('tendies', -1.5708514645676466))\n",
      "Feature: , Score:  (9, ('fucking', -1.501371413983525))\n",
      "Feature: , Score:  (10, ('stonks', -1.4589057093557785))\n",
      "Feature: , Score:  (11, ('gme.', -1.4459094202919258))\n",
      "Feature: , Score:  (12, ('gang', -1.4025065253791422))\n",
      "Feature: , Score:  (13, ('apes', -1.3598647834065358))\n",
      "Feature: , Score:  (14, ('$clis', -1.3545202885890155))\n",
      "Feature: , Score:  (15, ('dkng', -1.3252139413298576))\n",
      "Feature: , Score:  (16, ('uwmc', -1.3224660794305945))\n",
      "Feature: , Score:  (17, ('autists', -1.2387517956273157))\n",
      "Feature: , Score:  (18, ('upgrades', -1.2286638959238796))\n",
      "Feature: , Score:  (19, ('(psfe)', -1.2047133314422525))\n",
      "Feature: , Score:  (20, ('retard', -1.2043125030343846))\n",
      "Feature: , Score:  (21, ('autistic', -1.199652161386821))\n",
      "Feature: , Score:  (22, ('rh', -1.1934377932136557))\n",
      "Feature: , Score:  (23, ('(january', -1.1911377561485008))\n",
      "Feature: , Score:  (24, ('porn', -1.1883519378136762))\n",
      "Feature: , Score:  (25, ('gme', -1.1883491989487402))\n",
      "Feature: , Score:  (26, ('hand', -1.1691578945578898))\n",
      "Feature: , Score:  (27, ('pltr?', -1.1654437775810775))\n",
      "Feature: , Score:  (28, ('om', -1.1608944878035397))\n",
      "Feature: , Score:  (29, ('wsb', -1.1507090263916446))\n"
     ]
    },
    {
     "name": "stderr",
     "output_type": "stream",
     "text": [
      "C:\\Users\\96ank\\AppData\\Local\\Continuum\\anaconda3\\lib\\site-packages\\matplotlib\\backends\\backend_agg.py:238: RuntimeWarning: Glyph 128640 missing from current font.\n",
      "  font.set_text(s, 0.0, flags=flags)\n",
      "C:\\Users\\96ank\\AppData\\Local\\Continuum\\anaconda3\\lib\\site-packages\\matplotlib\\backends\\backend_agg.py:201: RuntimeWarning: Glyph 128640 missing from current font.\n",
      "  font.set_text(s, 0, flags=flags)\n"
     ]
    },
    {
     "data": {
      "image/png": "[encoded data removed]",
      "text/plain": [
       "<Figure size 720x1440 with 1 Axes>"
      ]
     },
     "metadata": {
      "needs_background": "light"
     },
     "output_type": "display_data"
    },
    {
     "name": "stdout",
     "output_type": "stream",
     "text": [
      "# 'stocks':\n",
      "Feature: , Score:  (0, ('spitballin', -2.204509632271081))\n",
      "Feature: , Score:  (1, ('thread', -2.065235666840851))\n",
      "Feature: , Score:  (2, ('yolo', -1.9635436705762304))\n",
      "Feature: , Score:  (3, ('tomorrow,', -1.812243139037935))\n",
      "Feature: , Score:  (4, ('thread.', -1.7489895342235693))\n",
      "Feature: , Score:  (5, ('r/investing', -1.670151528405864))\n",
      "Feature: , Score:  (6, ('here.', -1.6259384343626822))\n",
      "Feature: , Score:  (7, ('tendies', -1.5971322974200755))\n",
      "Feature: , Score:  (8, ('retards', -1.5787285905264299))\n",
      "Feature: , Score:  (9, ('shit', -1.5732161121592039))\n",
      "Feature: , Score:  (10, ('retarded', -1.5644086935304173))\n",
      "Feature: , Score:  (11, ('listen', -1.4794625394135628))\n",
      "Feature: , Score:  (12, ('autists', -1.4747099339173324))\n",
      "Feature: , Score:  (13, ('🚀🚀🚀', -1.4392390609690204))\n",
      "Feature: , Score:  (14, ('headlines', -1.4056341372146905))\n",
      "Feature: , Score:  (15, ('2018)', -1.394609600223188))\n",
      "Feature: , Score:  (16, ('2019', -1.3746239873833872))\n",
      "Feature: , Score:  (17, ('retard', -1.3693338646947695))\n",
      "Feature: , Score:  (18, ('autistic', -1.3509031946504413))\n",
      "Feature: , Score:  (19, ('autist', -1.3379658068854308))\n",
      "Feature: , Score:  (20, ('wsb', -1.3307814061012655))\n",
      "Feature: , Score:  (21, ('tits', -1.3249300539582194))\n",
      "Feature: , Score:  (22, ('virus', -1.3041839515048221))\n",
      "Feature: , Score:  (23, ('asked', -1.2867760612811316))\n",
      "Feature: , Score:  (24, ('apes', -1.2739641349057862))\n",
      "Feature: , Score:  (25, ('ape', -1.2368919709245367))\n",
      "Feature: , Score:  (26, ('pls', -1.236388733359415))\n",
      "Feature: , Score:  (27, ('posted', -1.2166578352421304))\n",
      "Feature: , Score:  (28, ('calls', -1.2010989284462361))\n",
      "Feature: , Score:  (29, ('december', -1.189973421921409))\n"
     ]
    },
    {
     "data": {
      "image/png": "[encoded data removed]",
      "text/plain": [
       "<Figure size 720x1440 with 1 Axes>"
      ]
     },
     "metadata": {
      "needs_background": "light"
     },
     "output_type": "display_data"
    },
    {
     "name": "stdout",
     "output_type": "stream",
     "text": [
      "# 'wsb':\n",
      "Feature: , Score:  (0, ('r/stocks', -4.72558393387711))\n",
      "Feature: , Score:  (1, ('spitballin', -3.5393443617660605))\n",
      "Feature: , Score:  (2, ('bitcoin', -2.6973741488527088))\n",
      "Feature: , Score:  (3, ('crypto', -2.306970612369629))\n",
      "Feature: , Score:  (4, ('watchlist', -2.2817145508908165))\n",
      "Feature: , Score:  (5, ('general', -2.2773518760117075))\n",
      "Feature: , Score:  (6, ('questions', -2.252695327794086))\n",
      "Feature: , Score:  (7, ('years?', -1.8777753734114404))\n",
      "Feature: , Score:  (8, ('investing', -1.8132132866727846))\n",
      "Feature: , Score:  (9, ('portfolio', -1.7875375347132438))\n",
      "Feature: , Score:  (10, ('investing.', -1.7868517333552454))\n",
      "Feature: , Score:  (11, ('advice', -1.74301401483769))\n",
      "Feature: , Score:  (12, ('stocks', -1.7243221158943))\n",
      "Feature: , Score:  (13, ('alibaba', -1.6934044983297143))\n",
      "Feature: , Score:  (14, ('etfs?', -1.6478671056693666))\n",
      "Feature: , Score:  (15, ('dogecoin', -1.637034389736527))\n",
      "Feature: , Score:  (16, ('berkshire', -1.6162347991018846))\n",
      "Feature: , Score:  (17, ('stocks?', -1.6043157515396849))\n",
      "Feature: , Score:  (18, ('roth', -1.5988488418757743))\n",
      "Feature: , Score:  (19, ('estate', -1.5842343157051506))\n",
      "Feature: , Score:  (20, ('etfs', -1.5765017183474879))\n",
      "Feature: , Score:  (21, ('vti', -1.552501025630501))\n",
      "Feature: , Score:  (22, ('bond', -1.5159722778965148))\n",
      "Feature: , Score:  (23, ('term?', -1.4792681707444437))\n",
      "Feature: , Score:  (24, ('funds?', -1.4731482720693685))\n",
      "Feature: , Score:  (25, ('term', -1.4710575175552834))\n",
      "Feature: , Score:  (26, ('think?', -1.4314368298344764))\n",
      "Feature: , Score:  (27, ('invest', -1.420837959650439))\n",
      "Feature: , Score:  (28, ('stock,', -1.4115382056749717))\n",
      "Feature: , Score:  (29, ('dividends', -1.4110192582265924))\n"
     ]
    },
    {
     "data": {
      "image/png": "[encoded data removed]",
      "text/plain": [
       "<Figure size 720x1440 with 1 Axes>"
      ]
     },
     "metadata": {
      "needs_background": "light"
     },
     "output_type": "display_data"
    }
   ],
   "source": [
    "from matplotlib import pyplot\n",
    "for Product, category_id in sorted(category_to_id.items()):\n",
    "    print(\"# '{}':\".format(Product))\n",
    "    # summarize feature importance\n",
    "    importance = np.sort(model.coef_[category_id])\n",
    "    indices = np.argsort(model.coef_[category_id])\n",
    "    feature_names = np.array(tfidf.get_feature_names())[indices]\n",
    "    \n",
    "    for i,v in enumerate(zip(feature_names[:30],importance[:30])):\n",
    "        print('Feature: , Score: ',(i,v))\n",
    "    # plot feature importance\n",
    "    pyplot.figure(figsize=(10,20))\n",
    "    pyplot.barh(feature_names[:30], importance[:30])    \n",
    "    pyplot.show()"
   ]
  },
  {
   "cell_type": "markdown",
   "metadata": {},
   "source": [
    "## Positive corelation "
   ]
  },
  {
   "cell_type": "code",
   "execution_count": 30,
   "metadata": {},
   "outputs": [
    {
     "name": "stdout",
     "output_type": "stream",
     "text": [
      "# 'investing':\n",
      "Feature: , Score:  (0, ('ray', 1.2842951772454771))\n",
      "Feature: , Score:  (1, ('$posh', 1.285969853259988))\n",
      "Feature: , Score:  (2, ('monday,', 1.2923049348036015))\n",
      "Feature: , Score:  (3, ('30', 1.3019758153347376))\n",
      "Feature: , Score:  (4, ('seeks', 1.3139251020260136))\n",
      "Feature: , Score:  (5, ('advice', 1.3232215858263427))\n",
      "Feature: , Score:  (6, ('3.5%', 1.3287287809788682))\n",
      "Feature: , Score:  (7, ('reserve', 1.3307481246964679))\n",
      "Feature: , Score:  (8, ('proterra', 1.3451003470818765))\n",
      "Feature: , Score:  (9, ('investment', 1.3520902554271113))\n",
      "Feature: , Score:  (10, ('dogecoin', 1.3631985542254363))\n",
      "Feature: , Score:  (11, ('roth', 1.3724113904225936))\n",
      "Feature: , Score:  (12, ('equity', 1.374883945312714))\n",
      "Feature: , Score:  (13, ('$rggi', 1.383264235976653))\n",
      "Feature: , Score:  (14, ('manufacturing', 1.4098516950073972))\n",
      "Feature: , Score:  (15, ('stellar', 1.4099971205270552))\n",
      "Feature: , Score:  (16, ('invest?', 1.4106499536909072))\n",
      "Feature: , Score:  (17, ('$opti', 1.4224950266463772))\n",
      "Feature: , Score:  (18, ('etf.', 1.424813253229249))\n",
      "Feature: , Score:  (19, ('moronic', 1.433736546528304))\n",
      "Feature: , Score:  (20, ('production', 1.4464845502496786))\n",
      "Feature: , Score:  (21, ('buffett', 1.4497979669541783))\n",
      "Feature: , Score:  (22, ('bond', 1.4660915567623711))\n",
      "Feature: , Score:  (23, ('savings', 1.4751096388465859))\n",
      "Feature: , Score:  (24, ('europe?', 1.4987677355260047))\n",
      "Feature: , Score:  (25, ('vanguard', 1.4996519165128512))\n",
      "Feature: , Score:  (26, ('highlights', 1.5385413719428132))\n",
      "Feature: , Score:  (27, ('investments', 1.5657930258199522))\n",
      "Feature: , Score:  (28, ('$pnnx', 1.576487830175541))\n",
      "Feature: , Score:  (29, ('$pctl', 1.6021963042449345))\n",
      "Feature: , Score:  (30, ('401k', 1.6647703665330578))\n",
      "Feature: , Score:  (31, ('estate', 1.6695269340448877))\n",
      "Feature: , Score:  (32, ('investing', 1.6794152269266265))\n",
      "Feature: , Score:  (33, ('private', 1.681558170088075))\n",
      "Feature: , Score:  (34, ('cash?', 1.6866130430248072))\n",
      "Feature: , Score:  (35, ('tariffs', 1.6995102244512732))\n",
      "Feature: , Score:  (36, ('asked', 1.7000351367025008))\n",
      "Feature: , Score:  (37, ('taxable', 1.7098254562762218))\n",
      "Feature: , Score:  (38, ('here.', 1.7298958824352928))\n",
      "Feature: , Score:  (39, ('general', 1.7766334871814677))\n",
      "Feature: , Score:  (40, ('crypto', 1.8737590876035235))\n",
      "Feature: , Score:  (41, ('posted', 1.916369924685953))\n",
      "Feature: , Score:  (42, ('podcast', 1.9571950167875487))\n",
      "Feature: , Score:  (43, ('basic', 1.9725541266739057))\n",
      "Feature: , Score:  (44, ('r/investing', 2.0664374261123277))\n",
      "Feature: , Score:  (45, ('thread.', 2.1246210041808324))\n",
      "Feature: , Score:  (46, ('questions', 2.284668504937854))\n",
      "Feature: , Score:  (47, ('bitcoin', 2.5167487843255305))\n",
      "Feature: , Score:  (48, ('2018)', 2.5284759800343926))\n",
      "Feature: , Score:  (49, ('spitballin', 5.7438539940372))\n"
     ]
    },
    {
     "data": {
      "image/png": "[encoded data removed]",
      "text/plain": [
       "<Figure size 720x1440 with 1 Axes>"
      ]
     },
     "metadata": {
      "needs_background": "light"
     },
     "output_type": "display_data"
    },
    {
     "name": "stdout",
     "output_type": "stream",
     "text": [
      "# 'stocks':\n",
      "Feature: , Score:  (0, ('mmedf', 1.0855127865838874))\n",
      "Feature: , Score:  (1, ('dominance', 1.086170030372983))\n",
      "Feature: , Score:  (2, ('frequency', 1.0934349301509723))\n",
      "Feature: , Score:  (3, ('mergers', 1.0945445795097202))\n",
      "Feature: , Score:  (4, ('xle', 1.0992500365676259))\n",
      "Feature: , Score:  (5, ('/r/stocks', 1.1018531052974023))\n",
      "Feature: , Score:  (6, ('qqq?', 1.103585777741304))\n",
      "Feature: , Score:  (7, ('thursday', 1.1137659487108273))\n",
      "Feature: , Score:  (8, ('shll', 1.115070201520868))\n",
      "Feature: , Score:  (9, ('2nd', 1.1189770768212988))\n",
      "Feature: , Score:  (10, ('arrival', 1.1207667413499314))\n",
      "Feature: , Score:  (11, ('penn', 1.1245063768850174))\n",
      "Feature: , Score:  (12, ('23.', 1.1376444991750525))\n",
      "Feature: , Score:  (13, (\"could've\", 1.1415967977182806))\n",
      "Feature: , Score:  (14, ('overlooked', 1.1439516586773564))\n",
      "Feature: , Score:  (15, ('$2000', 1.1465315587137066))\n",
      "Feature: , Score:  (16, ('clir', 1.150060448361937))\n",
      "Feature: , Score:  (17, ('pops', 1.1703313010651923))\n",
      "Feature: , Score:  (18, ('moat', 1.1755078003520378))\n",
      "Feature: , Score:  (19, ('taper', 1.1780393224015682))\n",
      "Feature: , Score:  (20, ('responds', 1.1822589636723746))\n",
      "Feature: , Score:  (21, ('$wwr', 1.193048350346714))\n",
      "Feature: , Score:  (22, ('trader?', 1.1945710292892542))\n",
      "Feature: , Score:  (23, ('potential?', 1.2016928953104118))\n",
      "Feature: , Score:  (24, ('term?', 1.2023601448384895))\n",
      "Feature: , Score:  (25, ('ideas?', 1.2048006307686911))\n",
      "Feature: , Score:  (26, ('sell?', 1.2163679304347768))\n",
      "Feature: , Score:  (27, ('bernstein', 1.22117112318891))\n",
      "Feature: , Score:  (28, ('stocks?', 1.2277814462624446))\n",
      "Feature: , Score:  (29, ('benzinga', 1.234200914410711))\n",
      "Feature: , Score:  (30, ('essay', 1.2489629718955833))\n",
      "Feature: , Score:  (31, ('triterras', 1.2759036419841179))\n",
      "Feature: , Score:  (32, ('biontech', 1.2772550058520409))\n",
      "Feature: , Score:  (33, ('mgm', 1.280116315594635))\n",
      "Feature: , Score:  (34, ('selling?', 1.2897516518922756))\n",
      "Feature: , Score:  (35, ('valuation?', 1.2950123279615198))\n",
      "Feature: , Score:  (36, ('interesting!', 1.2965328493258685))\n",
      "Feature: , Score:  (37, ('(psfe)', 1.3064721378414461))\n",
      "Feature: , Score:  (38, ('jd.com', 1.3246915535799808))\n",
      "Feature: , Score:  (39, ('$maxn', 1.3314612483315622))\n",
      "Feature: , Score:  (40, ('(2021)', 1.3373217325519784))\n",
      "Feature: , Score:  (41, ('kulr', 1.3389474168307827))\n",
      "Feature: , Score:  (42, ('australis', 1.3426652957344511))\n",
      "Feature: , Score:  (43, ('alibaba', 1.346625767494554))\n",
      "Feature: , Score:  (44, ('fast', 1.3490938306655669))\n",
      "Feature: , Score:  (45, ('etsy', 1.369612897866136))\n",
      "Feature: , Score:  (46, ('read:', 1.4494903062916182))\n",
      "Feature: , Score:  (47, ('watchlist', 1.4773704589732597))\n",
      "Feature: , Score:  (48, ('stocks', 1.5150422690055048))\n",
      "Feature: , Score:  (49, ('r/stocks', 7.1013110669643655))\n"
     ]
    },
    {
     "data": {
      "image/png": "[encoded data removed]",
      "text/plain": [
       "<Figure size 720x1440 with 1 Axes>"
      ]
     },
     "metadata": {
      "needs_background": "light"
     },
     "output_type": "display_data"
    },
    {
     "name": "stdout",
     "output_type": "stream",
     "text": [
      "# 'wsb':\n",
      "Feature: , Score:  (0, ('opposite', 1.5192915837532717))\n",
      "Feature: , Score:  (1, ('sdc', 1.520495383677516))\n",
      "Feature: , Score:  (2, ('moon', 1.5215448826940257))\n",
      "Feature: , Score:  (3, ('january', 1.5224354201982015))\n",
      "Feature: , Score:  (4, ('unpinned', 1.5320620545575132))\n",
      "Feature: , Score:  (5, ('strikes', 1.5332651617078354))\n",
      "Feature: , Score:  (6, ('virus', 1.5350493084065084))\n",
      "Feature: , Score:  (7, ('twitter!', 1.5391562548760045))\n",
      "Feature: , Score:  (8, ('melvin', 1.5398473792429996))\n",
      "Feature: , Score:  (9, ('tards', 1.5513517669666044))\n",
      "Feature: , Score:  (10, ('gme:', 1.5691229096460981))\n",
      "Feature: , Score:  (11, ('yall', 1.5716287546419103))\n",
      "Feature: , Score:  (12, ('uwmc', 1.6748812805784759))\n",
      "Feature: , Score:  (13, ('tendie', 1.6809060539190799))\n",
      "Feature: , Score:  (14, ('🚀🚀🚀', 1.68653045011977))\n",
      "Feature: , Score:  (15, ('porn', 1.6970437525145252))\n",
      "Feature: , Score:  (16, ('fucked', 1.7077158998575146))\n",
      "Feature: , Score:  (17, ('2019', 1.715897515585518))\n",
      "Feature: , Score:  (18, ('🌈🐻', 1.74960320517468))\n",
      "Feature: , Score:  (19, ('jpow', 1.7513131642780675))\n",
      "Feature: , Score:  (20, ('gme', 1.7847969798188548))\n",
      "Feature: , Score:  (21, ('er', 1.8044341058678204))\n",
      "Feature: , Score:  (22, ('gonna', 1.8183052595766138))\n",
      "Feature: , Score:  (23, ('puts.', 1.824704696228057))\n",
      "Feature: , Score:  (24, ('puts', 1.825147256262871))\n",
      "Feature: , Score:  (25, ('pltr', 1.860607249488003))\n",
      "Feature: , Score:  (26, ('stonks', 1.8624705304832663))\n",
      "Feature: , Score:  (27, ('retarded', 1.9238468088182252))\n",
      "Feature: , Score:  (28, ('meme', 1.9365524713922289))\n",
      "Feature: , Score:  (29, ('rh', 1.9473645647319389))\n",
      "Feature: , Score:  (30, ('calls', 1.9843345582349643))\n",
      "Feature: , Score:  (31, ('gay', 2.0014659356898576))\n",
      "Feature: , Score:  (32, ('thread', 2.0761225785470816))\n",
      "Feature: , Score:  (33, ('ape', 2.134915890713825))\n",
      "Feature: , Score:  (34, ('degenerates', 2.1546060896644246))\n",
      "Feature: , Score:  (35, ('🚀', 2.1905738850254943))\n",
      "Feature: , Score:  (36, ('shit', 2.215841608891742))\n",
      "Feature: , Score:  (37, ('autist', 2.235821623270967))\n",
      "Feature: , Score:  (38, ('wsb', 2.4814904324929263))\n",
      "Feature: , Score:  (39, ('gang', 2.530885364350121))\n",
      "Feature: , Score:  (40, ('fucking', 2.533160587945705))\n",
      "Feature: , Score:  (41, ('autistic', 2.550555356037267))\n",
      "Feature: , Score:  (42, ('retard', 2.573646367729156))\n",
      "Feature: , Score:  (43, ('apes', 2.6338289183123527))\n",
      "Feature: , Score:  (44, ('autists', 2.7134617295446377))\n",
      "Feature: , Score:  (45, ('fuck', 2.821912900716881))\n",
      "Feature: , Score:  (46, ('tendies', 3.1679837619877422))\n",
      "Feature: , Score:  (47, ('retards', 3.264282325909321))\n",
      "Feature: , Score:  (48, ('yolo', 3.766149275533544))\n",
      "Feature: , Score:  (49, ('tomorrow,', 4.061386521854494))\n"
     ]
    },
    {
     "name": "stderr",
     "output_type": "stream",
     "text": [
      "C:\\Users\\96ank\\AppData\\Local\\Continuum\\anaconda3\\lib\\site-packages\\matplotlib\\backends\\backend_agg.py:238: RuntimeWarning: Glyph 127752 missing from current font.\n",
      "  font.set_text(s, 0.0, flags=flags)\n",
      "C:\\Users\\96ank\\AppData\\Local\\Continuum\\anaconda3\\lib\\site-packages\\matplotlib\\backends\\backend_agg.py:238: RuntimeWarning: Glyph 128059 missing from current font.\n",
      "  font.set_text(s, 0.0, flags=flags)\n",
      "C:\\Users\\96ank\\AppData\\Local\\Continuum\\anaconda3\\lib\\site-packages\\matplotlib\\backends\\backend_agg.py:201: RuntimeWarning: Glyph 127752 missing from current font.\n",
      "  font.set_text(s, 0, flags=flags)\n",
      "C:\\Users\\96ank\\AppData\\Local\\Continuum\\anaconda3\\lib\\site-packages\\matplotlib\\backends\\backend_agg.py:201: RuntimeWarning: Glyph 128059 missing from current font.\n",
      "  font.set_text(s, 0, flags=flags)\n"
     ]
    },
    {
     "data": {
      "image/png": "[encoded data removed]",
      "text/plain": [
       "<Figure size 720x1440 with 1 Axes>"
      ]
     },
     "metadata": {
      "needs_background": "light"
     },
     "output_type": "display_data"
    }
   ],
   "source": [
    "from matplotlib import pyplot\n",
    "for Product, category_id in sorted(category_to_id.items()):\n",
    "    print(\"# '{}':\".format(Product))\n",
    "    # summarize feature importance\n",
    "    importance = np.sort(model.coef_[category_id])\n",
    "    indices = np.argsort(model.coef_[category_id])\n",
    "    feature_names = np.array(tfidf.get_feature_names())[indices]\n",
    "    \n",
    "    for i,v in enumerate(zip(feature_names[(len(feature_names[:])-50):],importance[(len(feature_names[:])-50):])):\n",
    "        print('Feature: , Score: ',(i,v))\n",
    "    # plot feature importance\n",
    "    #pyplot.bar([x for x in range(len(importance[:10]))], importance[:10])\n",
    "    pyplot.figure(figsize=(10,20))\n",
    "    pyplot.barh(feature_names[len(feature_names[:])-50:], importance[len(feature_names[:])-50:])    \n",
    "    pyplot.show()"
   ]
  },
  {
   "cell_type": "code",
   "execution_count": null,
   "metadata": {},
   "outputs": [],
   "source": []
  }
 ],
 "metadata": {
  "kernelspec": {
   "display_name": "Python 3",
   "language": "python",
   "name": "python3"
  },
  "language_info": {
   "codemirror_mode": {
    "name": "ipython",
    "version": 3
   },
   "file_extension": ".py",
   "mimetype": "text/x-python",
   "name": "python",
   "nbconvert_exporter": "python",
   "pygments_lexer": "ipython3",
   "version": "3.7.4"
  }
 },
 "nbformat": 4,
 "nbformat_minor": 4
}
