{
 "cells": [
  {
   "cell_type": "markdown",
   "metadata": {
    "id": "roBz7ncGVAFM"
   },
   "source": [
    "# Has the language has changed after the hype?"
   ]
  },
  {
   "cell_type": "code",
   "execution_count": 1,
   "metadata": {
    "id": "qgKHQl3LHmuz"
   },
   "outputs": [],
   "source": [
    "%%capture\n",
    "from datetime import datetime\n",
    "import matplotlib\n",
    "matplotlib.use('Agg')\n",
    "import matplotlib.pyplot as plt\n",
    "import numpy as np\n",
    "import pandas as pd\n",
    "from IPython.display import display\n",
    "plt.rcParams.update({\"font.size\": 12})\n",
    "%matplotlib inline"
   ]
  },
  {
   "cell_type": "code",
   "execution_count": null,
   "metadata": {
    "colab": {
     "base_uri": "https://localhost:8080/"
    },
    "id": "GhqoZ3q6OWnM",
    "outputId": "c318b4db-a970-43ed-f7c8-e722cd23eb40"
   },
   "outputs": [],
   "source": [
    "from google.colab import drive\n",
    "drive.mount('/content/drive')"
   ]
  },
  {
   "cell_type": "code",
   "execution_count": null,
   "metadata": {
    "id": "0r6LgfUyVXe_"
   },
   "outputs": [],
   "source": [
    "# load datasets\n",
    "#wsb = pd.read_csv('data/WSB_submissions_all.csv',sep=';')\n",
    "#wsb.head(2)"
   ]
  },
  {
   "cell_type": "code",
   "execution_count": 2,
   "metadata": {
    "id": "EzKyjpPKsaOy",
    "outputId": "fa6f647f-39e7-426b-9529-4d1fd2d354e4"
   },
   "outputs": [
    {
     "data": {
      "text/html": [
       "<div>\n",
       "<style scoped>\n",
       "    .dataframe tbody tr th:only-of-type {\n",
       "        vertical-align: middle;\n",
       "    }\n",
       "\n",
       "    .dataframe tbody tr th {\n",
       "        vertical-align: top;\n",
       "    }\n",
       "\n",
       "    .dataframe thead th {\n",
       "        text-align: right;\n",
       "    }\n",
       "</style>\n",
       "<table border=\"1\" class=\"dataframe\">\n",
       "  <thead>\n",
       "    <tr style=\"text-align: right;\">\n",
       "      <th></th>\n",
       "      <th>created_utc</th>\n",
       "      <th>bigram</th>\n",
       "    </tr>\n",
       "  </thead>\n",
       "  <tbody>\n",
       "    <tr>\n",
       "      <th>0</th>\n",
       "      <td>2021-10-19 17:58:57</td>\n",
       "      <td>[]</td>\n",
       "    </tr>\n",
       "    <tr>\n",
       "      <th>1</th>\n",
       "      <td>2021-10-19 17:57:49</td>\n",
       "      <td>[]</td>\n",
       "    </tr>\n",
       "  </tbody>\n",
       "</table>\n",
       "</div>"
      ],
      "text/plain": [
       "           created_utc bigram\n",
       "0  2021-10-19 17:58:57     []\n",
       "1  2021-10-19 17:57:49     []"
      ]
     },
     "execution_count": 2,
     "metadata": {},
     "output_type": "execute_result"
    }
   ],
   "source": [
    "wsb_ = pd.read_csv('data/WSB_data_with_emb.csv',sep=';', usecols = ['created_utc','bigram'], low_memory = True)\n",
    "wsb_.head(2)"
   ]
  },
  {
   "cell_type": "code",
   "execution_count": 3,
   "metadata": {},
   "outputs": [
    {
     "name": "stdout",
     "output_type": "stream",
     "text": [
      "<class 'pandas.core.frame.DataFrame'>\n",
      "RangeIndex: 861752 entries, 0 to 861751\n",
      "Data columns (total 2 columns):\n",
      " #   Column       Non-Null Count   Dtype \n",
      "---  ------       --------------   ----- \n",
      " 0   created_utc  861752 non-null  object\n",
      " 1   bigram       861752 non-null  object\n",
      "dtypes: object(2)\n",
      "memory usage: 13.1+ MB\n"
     ]
    }
   ],
   "source": [
    "wsb_.info()"
   ]
  },
  {
   "cell_type": "code",
   "execution_count": null,
   "metadata": {
    "id": "7GyOkCiMsaO4"
   },
   "outputs": [],
   "source": [
    "#wsb_['bigram'] = wsb['bigram']\n",
    "#wsb_['trigram'] = wsb['trigram']\n",
    "#wsb_['four-gram'] = wsb['four-gram']\n",
    "#wsb_['five-gram'] = wsb['five-gram']"
   ]
  },
  {
   "cell_type": "code",
   "execution_count": null,
   "metadata": {
    "id": "2wOh0q_QsaO7"
   },
   "outputs": [],
   "source": [
    "#wsb_.head(3)"
   ]
  },
  {
   "cell_type": "code",
   "execution_count": null,
   "metadata": {
    "id": "jXtrm8-QsaO-"
   },
   "outputs": [],
   "source": [
    "#wsb_.to_csv('data/WSB_data_with_emb.csv',sep=';')"
   ]
  },
  {
   "cell_type": "code",
   "execution_count": 3,
   "metadata": {
    "colab": {
     "base_uri": "https://localhost:8080/",
     "height": 419
    },
    "id": "L4np9q3mInKY",
    "outputId": "814a8f5d-f266-4dbb-f6ef-22a4631f86d1"
   },
   "outputs": [
    {
     "data": {
      "text/html": [
       "<div>\n",
       "<style scoped>\n",
       "    .dataframe tbody tr th:only-of-type {\n",
       "        vertical-align: middle;\n",
       "    }\n",
       "\n",
       "    .dataframe tbody tr th {\n",
       "        vertical-align: top;\n",
       "    }\n",
       "\n",
       "    .dataframe thead th {\n",
       "        text-align: right;\n",
       "    }\n",
       "</style>\n",
       "<table border=\"1\" class=\"dataframe\">\n",
       "  <thead>\n",
       "    <tr style=\"text-align: right;\">\n",
       "      <th></th>\n",
       "      <th>created_utc</th>\n",
       "      <th>SegmentID</th>\n",
       "      <th>author</th>\n",
       "      <th>created_utc.1</th>\n",
       "      <th>id</th>\n",
       "      <th>link_flair_text</th>\n",
       "      <th>num_comments</th>\n",
       "      <th>score</th>\n",
       "      <th>subreddit_subscribers</th>\n",
       "      <th>selftext</th>\n",
       "      <th>title</th>\n",
       "      <th>upvote_ratio</th>\n",
       "      <th>sbert_emb</th>\n",
       "      <th>bigram</th>\n",
       "      <th>trigram</th>\n",
       "      <th>four-gram</th>\n",
       "      <th>five-gram</th>\n",
       "    </tr>\n",
       "  </thead>\n",
       "  <tbody>\n",
       "    <tr>\n",
       "      <th>0</th>\n",
       "      <td>2021-11-26 13:19:32</td>\n",
       "      <td>0</td>\n",
       "      <td>NovelAnteater</td>\n",
       "      <td>2021-11-26 13:19:32</td>\n",
       "      <td>r2nb9a</td>\n",
       "      <td>NaN</td>\n",
       "      <td>0</td>\n",
       "      <td>1</td>\n",
       "      <td>3310630</td>\n",
       "      <td>[removed]</td>\n",
       "      <td>SNAP seems like a great long-term buy at this ...</td>\n",
       "      <td>1.0</td>\n",
       "      <td>[-0.4700039029121399, -0.5687688589096069, -0....</td>\n",
       "      <td>[great long, term buy]</td>\n",
       "      <td>[SNAP seems like, like a great]</td>\n",
       "      <td>[like a great long, buy at this price]</td>\n",
       "      <td>[SNAP seems like a great, term buy at this price]</td>\n",
       "    </tr>\n",
       "  </tbody>\n",
       "</table>\n",
       "</div>"
      ],
      "text/plain": [
       "           created_utc  SegmentID         author        created_utc.1      id  \\\n",
       "0  2021-11-26 13:19:32          0  NovelAnteater  2021-11-26 13:19:32  r2nb9a   \n",
       "\n",
       "  link_flair_text  num_comments  score  subreddit_subscribers   selftext  \\\n",
       "0             NaN             0      1                3310630  [removed]   \n",
       "\n",
       "                                               title  upvote_ratio  \\\n",
       "0  SNAP seems like a great long-term buy at this ...           1.0   \n",
       "\n",
       "                                           sbert_emb                  bigram  \\\n",
       "0  [-0.4700039029121399, -0.5687688589096069, -0....  [great long, term buy]   \n",
       "\n",
       "                           trigram                               four-gram  \\\n",
       "0  [SNAP seems like, like a great]  [like a great long, buy at this price]   \n",
       "\n",
       "                                           five-gram  \n",
       "0  [SNAP seems like a great, term buy at this price]  "
      ]
     },
     "execution_count": 3,
     "metadata": {},
     "output_type": "execute_result"
    }
   ],
   "source": [
    "stocks = pd.read_csv('stocks/data/stocks_submissions_all.csv',sep=';')\n",
    "stocks.head(1)"
   ]
  },
  {
   "cell_type": "code",
   "execution_count": 4,
   "metadata": {
    "colab": {
     "base_uri": "https://localhost:8080/",
     "height": 367
    },
    "id": "hrGgWUvPIoMb",
    "outputId": "26a0938f-759c-45e0-a8e2-a6c0ed1741d6"
   },
   "outputs": [
    {
     "name": "stderr",
     "output_type": "stream",
     "text": [
      "C:\\Users\\96ank\\AppData\\Local\\Continuum\\anaconda3\\lib\\site-packages\\IPython\\core\\interactiveshell.py:3326: DtypeWarning: Columns (1,5) have mixed types.Specify dtype option on import or set low_memory=False.\n",
      "  exec(code_obj, self.user_global_ns, self.user_ns)\n"
     ]
    },
    {
     "data": {
      "text/html": [
       "<div>\n",
       "<style scoped>\n",
       "    .dataframe tbody tr th:only-of-type {\n",
       "        vertical-align: middle;\n",
       "    }\n",
       "\n",
       "    .dataframe tbody tr th {\n",
       "        vertical-align: top;\n",
       "    }\n",
       "\n",
       "    .dataframe thead th {\n",
       "        text-align: right;\n",
       "    }\n",
       "</style>\n",
       "<table border=\"1\" class=\"dataframe\">\n",
       "  <thead>\n",
       "    <tr style=\"text-align: right;\">\n",
       "      <th></th>\n",
       "      <th>created_utc</th>\n",
       "      <th>SegmentID</th>\n",
       "      <th>author</th>\n",
       "      <th>created_utc.1</th>\n",
       "      <th>id</th>\n",
       "      <th>link_flair_text</th>\n",
       "      <th>num_comments</th>\n",
       "      <th>score</th>\n",
       "      <th>subreddit_subscribers</th>\n",
       "      <th>selftext</th>\n",
       "      <th>title</th>\n",
       "      <th>upvote_ratio</th>\n",
       "      <th>sbert_emb</th>\n",
       "      <th>bigram</th>\n",
       "      <th>trigram</th>\n",
       "      <th>four-gram</th>\n",
       "      <th>five-gram</th>\n",
       "    </tr>\n",
       "  </thead>\n",
       "  <tbody>\n",
       "    <tr>\n",
       "      <th>0</th>\n",
       "      <td>2021-11-26 15:17:50</td>\n",
       "      <td>0</td>\n",
       "      <td>plszvlko</td>\n",
       "      <td>2021-11-26 15:17:50</td>\n",
       "      <td>r2po7v</td>\n",
       "      <td>NaN</td>\n",
       "      <td>1.0</td>\n",
       "      <td>1.0</td>\n",
       "      <td>1955286.0</td>\n",
       "      <td>[removed]</td>\n",
       "      <td>What do you use to invest?</td>\n",
       "      <td>1.0</td>\n",
       "      <td>[0.1719539761543274, -0.22599506378173828, -0....</td>\n",
       "      <td>[]</td>\n",
       "      <td>[use to invest]</td>\n",
       "      <td>[]</td>\n",
       "      <td>[]</td>\n",
       "    </tr>\n",
       "    <tr>\n",
       "      <th>1</th>\n",
       "      <td>2021-11-26 14:43:13</td>\n",
       "      <td>1</td>\n",
       "      <td>eopif</td>\n",
       "      <td>2021-11-26 14:43:13</td>\n",
       "      <td>r2oynm</td>\n",
       "      <td>NaN</td>\n",
       "      <td>1.0</td>\n",
       "      <td>1.0</td>\n",
       "      <td>1955263.0</td>\n",
       "      <td>[removed]</td>\n",
       "      <td>Where does flow data providers get their data ...</td>\n",
       "      <td>1.0</td>\n",
       "      <td>[-0.19163201749324799, -0.6306818723678589, -0...</td>\n",
       "      <td>[flow data, data providers]</td>\n",
       "      <td>[flow data providers]</td>\n",
       "      <td>[providers get their data]</td>\n",
       "      <td>[data providers get their data]</td>\n",
       "    </tr>\n",
       "  </tbody>\n",
       "</table>\n",
       "</div>"
      ],
      "text/plain": [
       "           created_utc SegmentID    author        created_utc.1      id  \\\n",
       "0  2021-11-26 15:17:50         0  plszvlko  2021-11-26 15:17:50  r2po7v   \n",
       "1  2021-11-26 14:43:13         1     eopif  2021-11-26 14:43:13  r2oynm   \n",
       "\n",
       "  link_flair_text  num_comments  score  subreddit_subscribers   selftext  \\\n",
       "0             NaN           1.0    1.0              1955286.0  [removed]   \n",
       "1             NaN           1.0    1.0              1955263.0  [removed]   \n",
       "\n",
       "                                               title  upvote_ratio  \\\n",
       "0                         What do you use to invest?           1.0   \n",
       "1  Where does flow data providers get their data ...           1.0   \n",
       "\n",
       "                                           sbert_emb  \\\n",
       "0  [0.1719539761543274, -0.22599506378173828, -0....   \n",
       "1  [-0.19163201749324799, -0.6306818723678589, -0...   \n",
       "\n",
       "                        bigram                trigram  \\\n",
       "0                           []        [use to invest]   \n",
       "1  [flow data, data providers]  [flow data providers]   \n",
       "\n",
       "                    four-gram                        five-gram  \n",
       "0                          []                               []  \n",
       "1  [providers get their data]  [data providers get their data]  "
      ]
     },
     "execution_count": 4,
     "metadata": {},
     "output_type": "execute_result"
    }
   ],
   "source": [
    "investing = pd.read_csv('investing/data/investing_submissions_all.csv',sep=';')\n",
    "investing.head(2)"
   ]
  },
  {
   "cell_type": "code",
   "execution_count": 5,
   "metadata": {
    "id": "kaxjndQvIjAW"
   },
   "outputs": [],
   "source": [
    "#create pre and post datasets\n",
    "# extract year from utc\n",
    "#wsb['created_utc'] = pd.to_datetime(wsb['created_utc'], unit='s')\n",
    "wsb_['year'] = pd.DatetimeIndex(wsb_['created_utc']).year"
   ]
  },
  {
   "cell_type": "code",
   "execution_count": 6,
   "metadata": {
    "colab": {
     "base_uri": "https://localhost:8080/",
     "height": 314
    },
    "id": "-JpHBeAEQmK2",
    "outputId": "5989e2ee-dd0e-4002-e8a8-42a4abae1b2f"
   },
   "outputs": [
    {
     "data": {
      "text/html": [
       "<div>\n",
       "<style scoped>\n",
       "    .dataframe tbody tr th:only-of-type {\n",
       "        vertical-align: middle;\n",
       "    }\n",
       "\n",
       "    .dataframe tbody tr th {\n",
       "        vertical-align: top;\n",
       "    }\n",
       "\n",
       "    .dataframe thead th {\n",
       "        text-align: right;\n",
       "    }\n",
       "</style>\n",
       "<table border=\"1\" class=\"dataframe\">\n",
       "  <thead>\n",
       "    <tr style=\"text-align: right;\">\n",
       "      <th></th>\n",
       "      <th>created_utc</th>\n",
       "      <th>bigram</th>\n",
       "      <th>year</th>\n",
       "    </tr>\n",
       "  </thead>\n",
       "  <tbody>\n",
       "    <tr>\n",
       "      <th>0</th>\n",
       "      <td>2021-10-19 17:58:57</td>\n",
       "      <td>[]</td>\n",
       "      <td>2021</td>\n",
       "    </tr>\n",
       "    <tr>\n",
       "      <th>1</th>\n",
       "      <td>2021-10-19 17:57:49</td>\n",
       "      <td>[]</td>\n",
       "      <td>2021</td>\n",
       "    </tr>\n",
       "  </tbody>\n",
       "</table>\n",
       "</div>"
      ],
      "text/plain": [
       "           created_utc bigram  year\n",
       "0  2021-10-19 17:58:57     []  2021\n",
       "1  2021-10-19 17:57:49     []  2021"
      ]
     },
     "execution_count": 6,
     "metadata": {},
     "output_type": "execute_result"
    }
   ],
   "source": [
    "wsb_.head(2)"
   ]
  },
  {
   "cell_type": "code",
   "execution_count": 7,
   "metadata": {
    "id": "FivuSZ7ZQXHi"
   },
   "outputs": [],
   "source": [
    "stocks['year'] = pd.DatetimeIndex(stocks['created_utc']).year"
   ]
  },
  {
   "cell_type": "code",
   "execution_count": 8,
   "metadata": {
    "id": "IJQ0s1d_saPN"
   },
   "outputs": [],
   "source": [
    "investing = investing.drop(investing[investing['created_utc'].str.contains('cryptoservices')].index)"
   ]
  },
  {
   "cell_type": "code",
   "execution_count": 9,
   "metadata": {
    "id": "EltSBnv8M1Rw"
   },
   "outputs": [],
   "source": [
    "#investing['created_utc'] = investing['created_utc'].apply(lambda x: pd.to_numeric(x, errors='coerce')).dropna()\n",
    "investing['year'] = pd.DatetimeIndex(investing['created_utc']).year"
   ]
  },
  {
   "cell_type": "code",
   "execution_count": 10,
   "metadata": {},
   "outputs": [],
   "source": [
    "wsb_pre = wsb_[wsb_['year'] < 2021]\n",
    "wsb_post = wsb_[wsb_['year'] > 2020]"
   ]
  },
  {
   "cell_type": "code",
   "execution_count": 11,
   "metadata": {
    "id": "wgS32EbvMkTK"
   },
   "outputs": [],
   "source": [
    "investing_pre = investing[investing['year'] < 2021]\n",
    "investing_post = investing[investing['year'] > 2020]"
   ]
  },
  {
   "cell_type": "code",
   "execution_count": 12,
   "metadata": {
    "id": "dahXhoSjsaPQ"
   },
   "outputs": [],
   "source": [
    "stocks_pre = stocks[stocks['year'] < 2021]\n",
    "stocks_post = stocks[stocks['year'] > 2020]"
   ]
  },
  {
   "cell_type": "code",
   "execution_count": null,
   "metadata": {
    "id": "bIic1nSwsaPS"
   },
   "outputs": [],
   "source": [
    "##save \n",
    "wsb_pre.to_csv('data/WSB_pre.csv',sep=';')\n",
    "wsb_post.to_csv('data/WSB_post.csv',sep=';')\n",
    "stocks_pre.to_csv('data/stocks_pre.csv',sep=';')\n",
    "stocks_post.to_csv('data/stocks_post.csv',sep=';')\n",
    "investing_pre.to_csv('data/investing_pre.csv',sep=';')\n",
    "investing_post.to_csv('data/investing_post.csv',sep=';')\n"
   ]
  },
  {
   "cell_type": "markdown",
   "metadata": {
    "id": "ID4SHDsvVDF9"
   },
   "source": [
    "## Put it on temporal scale / Time Period -2018- 2021 - how have the features changes/evolved over time?"
   ]
  },
  {
   "cell_type": "markdown",
   "metadata": {
    "id": "WX7tORLIsaPV"
   },
   "source": [
    "### pre vs post n-grams"
   ]
  },
  {
   "cell_type": "code",
   "execution_count": 13,
   "metadata": {
    "id": "gsDRUQZGsaPW"
   },
   "outputs": [],
   "source": [
    "import re\n",
    "def count_ngrams(ngram_column):\n",
    "    trigrams_title = []\n",
    "    for lst in ngram_column.tolist():  \n",
    "          for trigram in lst.split(','):    \n",
    "            trigram=re.sub('[[]', '', trigram)\n",
    "            trigram=re.sub('[]]', '', trigram)\n",
    "            if trigram != '':      \n",
    "                trigrams_title.append(trigram.lower())\n",
    "    count_freq_trigrams = {}\n",
    "    for item in trigrams_title:\n",
    "        item = item.strip()\n",
    "        if item in count_freq_trigrams:\n",
    "            count_freq_trigrams[item] +=1\n",
    "        else:\n",
    "            count_freq_trigrams[item] = 1\n",
    "    return sorted(count_freq_trigrams.items(), key=lambda item: item[1], reverse = True)"
   ]
  },
  {
   "cell_type": "markdown",
   "metadata": {
    "id": "Z6S_EDQzsaPY"
   },
   "source": [
    "### bigrams"
   ]
  },
  {
   "cell_type": "markdown",
   "metadata": {
    "id": "BIGsPAqysaPZ"
   },
   "source": [
    "#### WSB"
   ]
  },
  {
   "cell_type": "code",
   "execution_count": 14,
   "metadata": {
    "id": "vNDJYdRqsaPZ",
    "outputId": "4e3afcb5-a3e3-4ace-b3e9-8c0e0d42b384"
   },
   "outputs": [
    {
     "name": "stderr",
     "output_type": "stream",
     "text": [
      "C:\\Users\\96ank\\AppData\\Local\\Continuum\\anaconda3\\lib\\site-packages\\ipykernel_launcher.py:6: FutureWarning: Possible nested set at position 1\n",
      "  \n"
     ]
    },
    {
     "name": "stdout",
     "output_type": "stream",
     "text": [
      "[('🚀🚀', 7786), ('🌈🐻', 2208), ('gonna', 1497), ('$tsla', 1338), ('000', 1172), ('stock market', 1151), ('wsbvotebot log', 1077), ('02 2020', 888), ('spy puts', 886), ('wall street', 695)]\n"
     ]
    }
   ],
   "source": [
    "print(count_ngrams(wsb_pre['bigram'])[:10])"
   ]
  },
  {
   "cell_type": "code",
   "execution_count": 15,
   "metadata": {},
   "outputs": [
    {
     "data": {
      "text/plain": [
       "['🚀🚀',\n",
       " '🌈🐻',\n",
       " 'gonna',\n",
       " '$tsla',\n",
       " '000',\n",
       " 'stock market',\n",
       " 'wsbvotebot log',\n",
       " '02 2020',\n",
       " 'spy puts',\n",
       " 'wall street',\n",
       " 'long $',\n",
       " 'loss porn',\n",
       " 'looks like',\n",
       " 'free money',\n",
       " '$spy']"
      ]
     },
     "execution_count": 15,
     "metadata": {},
     "output_type": "execute_result"
    }
   ],
   "source": [
    "list(list(zip(*count_ngrams(wsb_pre['bigram'])[:15]))[0])"
   ]
  },
  {
   "cell_type": "code",
   "execution_count": 16,
   "metadata": {
    "id": "5KnDMf8zsaPb",
    "outputId": "c111f55b-1b18-4e48-8e57-95b9471a9e47"
   },
   "outputs": [
    {
     "name": "stdout",
     "output_type": "stream",
     "text": [
      "[('🚀🚀', 176355), ('$gme', 13915), ('💎🙌', 13516), ('💎💎', 12326), ('🚀 🚀', 6820), ('🦍🦍', 6341), ('$amc', 5772), ('diamond hands', 5345), ('moon 🚀', 4986), ('short squeeze', 4800)]\n"
     ]
    }
   ],
   "source": [
    "print(count_ngrams(wsb_post['bigram'])[:10])"
   ]
  },
  {
   "cell_type": "code",
   "execution_count": 17,
   "metadata": {},
   "outputs": [
    {
     "data": {
      "text/plain": [
       "['🚀🚀',\n",
       " '$gme',\n",
       " '💎🙌',\n",
       " '💎💎',\n",
       " '🚀 🚀',\n",
       " '🦍🦍',\n",
       " '$amc',\n",
       " 'diamond hands',\n",
       " 'moon 🚀',\n",
       " 'short squeeze',\n",
       " '🚀💎',\n",
       " 'wall street',\n",
       " 'hedge funds',\n",
       " '$bb',\n",
       " 'gonna']"
      ]
     },
     "execution_count": 17,
     "metadata": {},
     "output_type": "execute_result"
    }
   ],
   "source": [
    "list(list(zip(*count_ngrams(wsb_post['bigram'])[:15]))[0])"
   ]
  },
  {
   "cell_type": "code",
   "execution_count": 43,
   "metadata": {},
   "outputs": [
    {
     "data": {
      "text/plain": [
       "['bb yolo',\n",
       " 'ted cruz',\n",
       " '🏾💎',\n",
       " 'holding 🚀',\n",
       " 'apes 🚀',\n",
       " '🦍🦍',\n",
       " 'trading apps',\n",
       " 'short float',\n",
       " '👐🏻',\n",
       " '💎 💎',\n",
       " 'gme tendies',\n",
       " 'line boys',\n",
       " 'borrow fee',\n",
       " 'gme right',\n",
       " 'nt let']"
      ]
     },
     "execution_count": 43,
     "metadata": {},
     "output_type": "execute_result"
    }
   ],
   "source": [
    "## unique between pre and post from TOP 1000\n",
    "list(set(list(list(zip(*count_ngrams(wsb_post['bigram'])[:1000]))[0])) - set(list(list(zip(*count_ngrams(wsb_pre['bigram'])[:1000]))[0])))[:15]"
   ]
  },
  {
   "cell_type": "code",
   "execution_count": 24,
   "metadata": {},
   "outputs": [
    {
     "data": {
      "text/plain": [
       "606"
      ]
     },
     "execution_count": 24,
     "metadata": {},
     "output_type": "execute_result"
    }
   ],
   "source": [
    "len(list(set(list(list(zip(*count_ngrams(wsb_post['bigram'])[:1000]))[0])) - set(list(list(zip(*count_ngrams(wsb_pre['bigram'])[:1000]))[0]))))"
   ]
  },
  {
   "cell_type": "code",
   "execution_count": 60,
   "metadata": {},
   "outputs": [],
   "source": [
    "uniq_post =list(set(list(list(zip(*count_ngrams(wsb_post['bigram'])[:1000]))[0])) - set(list(list(zip(*count_ngrams(wsb_pre['bigram'])[:1000]))[0])))[:606]"
   ]
  },
  {
   "cell_type": "code",
   "execution_count": 61,
   "metadata": {},
   "outputs": [
    {
     "data": {
      "text/plain": [
       "[('🦍🦍', 6341),\n",
       " ('$amc', 5772),\n",
       " ('🚀💎', 4382),\n",
       " ('🙌💎', 3518),\n",
       " ('💎🚀', 3299),\n",
       " ('🙌🏻', 2350),\n",
       " ('$wish', 2323),\n",
       " ('🙌🏼', 1973),\n",
       " ('💎 🙌', 1872),\n",
       " ('hold hold', 1829),\n",
       " ('🦍🚀', 1804),\n",
       " ('$clov', 1681),\n",
       " ('🙌🚀', 1570),\n",
       " ('🙌🙌', 1511),\n",
       " ('💎🤚', 1489),\n",
       " ('gme $', 1466),\n",
       " ('financial advice', 1417),\n",
       " ('melvin capital', 1359),\n",
       " ('fellow apes', 1349),\n",
       " ('🏻💎', 1184)]"
      ]
     },
     "execution_count": 61,
     "metadata": {},
     "output_type": "execute_result"
    }
   ],
   "source": [
    "[item for item in count_ngrams(wsb_post['bigram'])[:1000] if item[0]  in uniq_post][:20]"
   ]
  },
  {
   "cell_type": "markdown",
   "metadata": {
    "id": "-m_PdHujsaPc"
   },
   "source": [
    "#### Stocks"
   ]
  },
  {
   "cell_type": "code",
   "execution_count": 25,
   "metadata": {
    "id": "d-OPt2HZsaPd",
    "outputId": "1ff188a4-0676-467e-c6dd-041863b9b77d"
   },
   "outputs": [
    {
     "name": "stdout",
     "output_type": "stream",
     "text": [
      "[('stock market', 1053), ('long term', 961), ('$$', 460), ('daily discussion', 368), ('stocks daily', 367), ('000', 278), ('s&amp;p 500', 272), ('day trading', 268), ('stock price', 232), ('good time', 229)]\n"
     ]
    }
   ],
   "source": [
    "print(count_ngrams(stocks_pre['bigram'])[:10])"
   ]
  },
  {
   "cell_type": "code",
   "execution_count": 26,
   "metadata": {},
   "outputs": [
    {
     "data": {
      "text/plain": [
       "['stock market',\n",
       " 'long term',\n",
       " '$$',\n",
       " 'daily discussion',\n",
       " 'stocks daily',\n",
       " '000',\n",
       " 's&amp;p 500',\n",
       " 'day trading',\n",
       " 'stock price',\n",
       " 'good time',\n",
       " 'guys think']"
      ]
     },
     "execution_count": 26,
     "metadata": {},
     "output_type": "execute_result"
    }
   ],
   "source": [
    "list(list(zip(*count_ngrams(stocks_pre['bigram'])[:11]))[0])"
   ]
  },
  {
   "cell_type": "code",
   "execution_count": 27,
   "metadata": {
    "id": "1KlLKM3qsaPe",
    "outputId": "51a0850c-25da-4fc3-8dd3-5dbf688db967"
   },
   "outputs": [
    {
     "name": "stdout",
     "output_type": "stream",
     "text": [
      "[('🚀🚀', 1391), ('stock market', 1038), ('long term', 950), ('short squeeze', 470), ('stocks daily', 417), ('need help', 349), ('meme stocks', 337), ('$gme', 283), ('000', 281), ('stock price', 263)]\n"
     ]
    }
   ],
   "source": [
    "print(count_ngrams(stocks_post['bigram'])[:10])"
   ]
  },
  {
   "cell_type": "code",
   "execution_count": 28,
   "metadata": {},
   "outputs": [
    {
     "data": {
      "text/plain": [
       "['🚀🚀',\n",
       " 'stock market',\n",
       " 'long term',\n",
       " 'short squeeze',\n",
       " 'stocks daily',\n",
       " 'need help',\n",
       " 'meme stocks',\n",
       " '$gme',\n",
       " '000',\n",
       " 'stock price']"
      ]
     },
     "execution_count": 28,
     "metadata": {},
     "output_type": "execute_result"
    }
   ],
   "source": [
    "list(list(zip(*count_ngrams(stocks_post['bigram'])[:10]))[0])"
   ]
  },
  {
   "cell_type": "code",
   "execution_count": 46,
   "metadata": {},
   "outputs": [
    {
     "data": {
      "text/plain": [
       "['black swan',\n",
       " '🦍🦍',\n",
       " '🚀🌙',\n",
       " '$nok',\n",
       " '$f',\n",
       " 'young investors',\n",
       " 'short float',\n",
       " 'short volume',\n",
       " '💥💥',\n",
       " 'bullish defi',\n",
       " 'debt ceiling',\n",
       " 'securities fraud',\n",
       " '3d printing',\n",
       " 'quarter 2021',\n",
       " 'shiba inu']"
      ]
     },
     "execution_count": 46,
     "metadata": {},
     "output_type": "execute_result"
    }
   ],
   "source": [
    "list(set(list(list(zip(*count_ngrams(stocks_post['bigram'])[:1000]))[0])) - set(list(list(zip(*count_ngrams(stocks_pre['bigram'])[:1000]))[0])))[:15]"
   ]
  },
  {
   "cell_type": "code",
   "execution_count": 30,
   "metadata": {},
   "outputs": [
    {
     "data": {
      "text/plain": [
       "395"
      ]
     },
     "execution_count": 30,
     "metadata": {},
     "output_type": "execute_result"
    }
   ],
   "source": [
    "len(list(set(list(list(zip(*count_ngrams(stocks_post['bigram'])[:1000]))[0])) - set(list(list(zip(*count_ngrams(stocks_pre['bigram'])[:1000]))[0]))))"
   ]
  },
  {
   "cell_type": "code",
   "execution_count": 57,
   "metadata": {},
   "outputs": [],
   "source": [
    "uniq_post =list(set(list(list(zip(*count_ngrams(stocks_post['bigram'])[:1000]))[0])) - set(list(list(zip(*count_ngrams(stocks_pre['bigram'])[:1000]))[0])))[:395]"
   ]
  },
  {
   "cell_type": "code",
   "execution_count": 58,
   "metadata": {},
   "outputs": [
    {
     "data": {
      "text/plain": [
       "[('$gme', 283),\n",
       " ('daily thread', 198),\n",
       " ('$amc', 134),\n",
       " ('overlooked stocks', 93),\n",
       " ('stocks discuss', 93),\n",
       " ('discuss overlooked', 91),\n",
       " ('amc stock', 88),\n",
       " ('doge coin', 85),\n",
       " ('🔥🔥', 83),\n",
       " ('buy gme', 80),\n",
       " ('gift card', 75),\n",
       " ('💎💎', 69),\n",
       " ('gme short', 69),\n",
       " ('$nok', 67),\n",
       " ('market stock', 65),\n",
       " ('gme stock', 64),\n",
       " ('stock movers', 61),\n",
       " ('stocks thursday', 58),\n",
       " ('stocks wednesday', 58),\n",
       " ('stocks friday', 57)]"
      ]
     },
     "execution_count": 58,
     "metadata": {},
     "output_type": "execute_result"
    }
   ],
   "source": [
    "[item for item in count_ngrams(stocks_post['bigram'])[:1000] if item[0]  in uniq_post][:20]"
   ]
  },
  {
   "cell_type": "markdown",
   "metadata": {
    "id": "xuizsv1SsaPf"
   },
   "source": [
    "####  Investing"
   ]
  },
  {
   "cell_type": "code",
   "execution_count": 33,
   "metadata": {
    "id": "HWwlHIHisaPg",
    "outputId": "2b35d20a-f97b-4b1e-b40d-724def0d5f32"
   },
   "outputs": [
    {
     "name": "stdout",
     "output_type": "stream",
     "text": [
      "[('stock market', 1121), ('long term', 896), ('roth ira', 859), ('daily advice', 822), ('advice thread', 820), ('000', 550), ('s&amp;p 500', 545), ('index funds', 483), ('basic help', 443), ('advice questions', 443)]\n"
     ]
    }
   ],
   "source": [
    "print(count_ngrams(investing_pre['bigram'])[:10])"
   ]
  },
  {
   "cell_type": "code",
   "execution_count": 34,
   "metadata": {},
   "outputs": [
    {
     "data": {
      "text/plain": [
       "['stock market',\n",
       " 'long term',\n",
       " 'roth ira',\n",
       " 'daily advice',\n",
       " 'advice thread',\n",
       " '000',\n",
       " 's&amp;p 500',\n",
       " 'index funds',\n",
       " 'basic help',\n",
       " 'advice questions']"
      ]
     },
     "execution_count": 34,
     "metadata": {},
     "output_type": "execute_result"
    }
   ],
   "source": [
    "list(list(zip(*count_ngrams(investing_pre['bigram'])[:10]))[0])"
   ]
  },
  {
   "cell_type": "code",
   "execution_count": 35,
   "metadata": {
    "id": "Ubl-l5JPsaPh",
    "outputId": "bcba7b5d-6231-4b95-f61d-e90a36aa6962"
   },
   "outputs": [
    {
     "name": "stdout",
     "output_type": "stream",
     "text": [
      "[('long term', 723), ('roth ira', 667), ('stock market', 584), ('🚀🚀', 548), ('daily advice', 302), ('basic help', 302), ('advice thread', 301), ('advice questions', 301), ('000', 298), ('index funds', 297)]\n"
     ]
    }
   ],
   "source": [
    "print(count_ngrams(investing_post['bigram'])[:10])"
   ]
  },
  {
   "cell_type": "code",
   "execution_count": 36,
   "metadata": {},
   "outputs": [
    {
     "data": {
      "text/plain": [
       "['long term',\n",
       " 'roth ira',\n",
       " 'stock market',\n",
       " '🚀🚀',\n",
       " 'daily advice',\n",
       " 'basic help',\n",
       " 'advice thread',\n",
       " 'advice questions',\n",
       " '000',\n",
       " 'index funds']"
      ]
     },
     "execution_count": 36,
     "metadata": {},
     "output_type": "execute_result"
    }
   ],
   "source": [
    "list(list(zip(*count_ngrams(investing_post['bigram'])[:10]))[0])"
   ]
  },
  {
   "cell_type": "code",
   "execution_count": 45,
   "metadata": {},
   "outputs": [
    {
     "data": {
      "text/plain": [
       "['stock day',\n",
       " 'black swan',\n",
       " 'fund performance',\n",
       " 'greatly appreciated',\n",
       " 'trading apps',\n",
       " '$nok',\n",
       " 'principal solar',\n",
       " 'earn free',\n",
       " 'short float',\n",
       " 'new bitcoin',\n",
       " 'student coin',\n",
       " 'rolls royce',\n",
       " 'portfolio diversification',\n",
       " 'invitation code',\n",
       " 'etf recommendations']"
      ]
     },
     "execution_count": 45,
     "metadata": {},
     "output_type": "execute_result"
    }
   ],
   "source": [
    "list(set(list(list(zip(*count_ngrams(investing_post['bigram'])[:1000]))[0])) - set(list(list(zip(*count_ngrams(investing_pre['bigram'])[:1000]))[0])))[:15]"
   ]
  },
  {
   "cell_type": "code",
   "execution_count": 53,
   "metadata": {},
   "outputs": [],
   "source": [
    "uniq_post =list(set(list(list(zip(*count_ngrams(investing_post['bigram'])[:1000]))[0])) - set(list(list(zip(*count_ngrams(investing_pre['bigram'])[:1000]))[0])))[:387]"
   ]
  },
  {
   "cell_type": "code",
   "execution_count": 56,
   "metadata": {},
   "outputs": [
    {
     "data": {
      "text/plain": [
       "[('daily general', 259),\n",
       " ('general discussion', 259),\n",
       " ('spitballin thread', 256),\n",
       " ('$gme', 150),\n",
       " ('🍀🍀', 70),\n",
       " ('👍🏾', 56),\n",
       " ('meme stocks', 52),\n",
       " ('🏾👍', 52),\n",
       " ('$amc', 49),\n",
       " ('🔥🔥', 47),\n",
       " ('cathie wood', 45),\n",
       " ('⠀⠀', 44),\n",
       " ('💰💰', 43),\n",
       " ('big thing', 39),\n",
       " ('| ant', 37),\n",
       " ('$bb', 37),\n",
       " ('gift card', 35),\n",
       " ('meme stock', 35),\n",
       " ('financial advice', 34),\n",
       " ('buy gme', 34)]"
      ]
     },
     "execution_count": 56,
     "metadata": {},
     "output_type": "execute_result"
    }
   ],
   "source": [
    "[item for item in count_ngrams(investing_post['bigram'])[:1000] if item[0]  in uniq_post][:20]"
   ]
  },
  {
   "cell_type": "code",
   "execution_count": 37,
   "metadata": {},
   "outputs": [
    {
     "data": {
      "text/plain": [
       "387"
      ]
     },
     "execution_count": 37,
     "metadata": {},
     "output_type": "execute_result"
    }
   ],
   "source": [
    "len(list(set(list(list(zip(*count_ngrams(investing_post['bigram'])[:1000]))[0])) - set(list(list(zip(*count_ngrams(investing_pre['bigram'])[:1000]))[0]))))"
   ]
  },
  {
   "cell_type": "markdown",
   "metadata": {
    "id": "gftWMzNisaPi"
   },
   "source": [
    "### Tri-grams"
   ]
  },
  {
   "cell_type": "markdown",
   "metadata": {
    "id": "Xiv4384gsaPj"
   },
   "source": [
    "#### WSB"
   ]
  },
  {
   "cell_type": "code",
   "execution_count": null,
   "metadata": {
    "id": "JO6pNPz-saPj",
    "outputId": "6fe9dd83-3e7c-436b-df5a-b6d6a317db93"
   },
   "outputs": [],
   "source": [
    "print(count_ngrams(wsb_pre['trigram'])[:100])"
   ]
  },
  {
   "cell_type": "code",
   "execution_count": null,
   "metadata": {
    "id": "CLDlKyfDsaPk",
    "outputId": "92d02be6-7118-40a6-971e-b9330414d77a"
   },
   "outputs": [],
   "source": [
    "print(count_ngrams(wsb_post['trigram'])[:100])"
   ]
  },
  {
   "cell_type": "markdown",
   "metadata": {
    "id": "qBYivOyzsaPl"
   },
   "source": [
    "#### Stocks"
   ]
  },
  {
   "cell_type": "code",
   "execution_count": null,
   "metadata": {
    "id": "idt4-uSpsaPm",
    "outputId": "72da809f-6914-43c0-cc9b-8ef36dbddfb5"
   },
   "outputs": [],
   "source": [
    "print(count_ngrams(stocks_pre['trigram'])[:100])"
   ]
  },
  {
   "cell_type": "code",
   "execution_count": null,
   "metadata": {
    "id": "HJeYFggesaPn",
    "outputId": "d32f2d77-4b59-4b68-eb18-e3ec169ac265"
   },
   "outputs": [],
   "source": [
    "print(count_ngrams(stocks_post['trigram'])[:100])"
   ]
  },
  {
   "cell_type": "markdown",
   "metadata": {
    "id": "Steokry_saPo"
   },
   "source": [
    "#### Investing"
   ]
  },
  {
   "cell_type": "code",
   "execution_count": null,
   "metadata": {
    "id": "6b9h_lcssaPo",
    "outputId": "ad564c86-12ed-4e2d-bc92-63971176b0c4"
   },
   "outputs": [],
   "source": [
    "print(count_ngrams(investing_pre['trigram'])[:100])"
   ]
  },
  {
   "cell_type": "code",
   "execution_count": null,
   "metadata": {
    "id": "bTxaUZ4osaPp",
    "outputId": "7a4a6072-d9c4-49ed-f518-9aed16e4b074"
   },
   "outputs": [],
   "source": [
    "print(count_ngrams(investing_post['trigram'])[:100])"
   ]
  },
  {
   "cell_type": "markdown",
   "metadata": {
    "id": "zpbyX_DrsaPq"
   },
   "source": [
    "### Four-grams"
   ]
  },
  {
   "cell_type": "markdown",
   "metadata": {
    "id": "dLEJOi1PsaPq"
   },
   "source": [
    "#### WSB"
   ]
  },
  {
   "cell_type": "code",
   "execution_count": null,
   "metadata": {
    "id": "I-8t9-zQsaPr",
    "outputId": "5f043d18-7f00-4fbc-9c7c-49fdd203d9a6"
   },
   "outputs": [],
   "source": [
    "print(count_ngrams(wsb_pre['four-gram'])[:50])"
   ]
  },
  {
   "cell_type": "code",
   "execution_count": null,
   "metadata": {
    "id": "ubfydrpNsaPs",
    "outputId": "85f70ff0-ba6d-4149-a46a-06c5f502fcb3"
   },
   "outputs": [],
   "source": [
    "print(count_ngrams(wsb_post['four-gram'])[:50])"
   ]
  },
  {
   "cell_type": "markdown",
   "metadata": {
    "id": "9I1nMKNOsaPs"
   },
   "source": [
    "#### Stocks"
   ]
  },
  {
   "cell_type": "code",
   "execution_count": null,
   "metadata": {
    "id": "6emFAFUCsaPt",
    "outputId": "f99d4132-0840-453a-89d7-65a5a690bf3b"
   },
   "outputs": [],
   "source": [
    "print(count_ngrams(stocks_pre['four-gram'])[:100])"
   ]
  },
  {
   "cell_type": "code",
   "execution_count": null,
   "metadata": {
    "id": "wjQgKimDsaPu",
    "outputId": "e79f185e-5766-4f5b-af15-12250bf62550"
   },
   "outputs": [],
   "source": [
    "print(count_ngrams(stocks_post['four-gram'])[:100])"
   ]
  },
  {
   "cell_type": "markdown",
   "metadata": {
    "id": "LEf_2G5xsaPu"
   },
   "source": [
    "#### Investing"
   ]
  },
  {
   "cell_type": "code",
   "execution_count": null,
   "metadata": {
    "id": "CpjZKU4msaPv",
    "outputId": "45ad0e8e-3510-4bf6-80a4-ed96d8e5e947"
   },
   "outputs": [],
   "source": [
    "print(count_ngrams(investing_pre['four-gram'])[:100])"
   ]
  },
  {
   "cell_type": "code",
   "execution_count": null,
   "metadata": {
    "id": "aYfvKWw0saPw",
    "outputId": "f28b9313-afb6-4326-d720-e2105e688c0e"
   },
   "outputs": [],
   "source": [
    "print(count_ngrams(investing_post['four-gram'])[:100])"
   ]
  },
  {
   "cell_type": "markdown",
   "metadata": {
    "id": "SvCUoNFSsaPx"
   },
   "source": [
    "### Five-grams"
   ]
  },
  {
   "cell_type": "markdown",
   "metadata": {
    "id": "bqvUdHKisaPx"
   },
   "source": [
    "#### WSB"
   ]
  },
  {
   "cell_type": "code",
   "execution_count": null,
   "metadata": {
    "id": "LmSaeZr8saPy",
    "outputId": "875d9e16-e177-4342-c27a-2054768c6f1f"
   },
   "outputs": [],
   "source": [
    "print(count_ngrams(wsb_pre['five-gram'])[:50])"
   ]
  },
  {
   "cell_type": "code",
   "execution_count": null,
   "metadata": {
    "id": "mGTKWtO4saPy",
    "outputId": "203859b2-ee4d-47a7-845b-2136a8697405"
   },
   "outputs": [],
   "source": [
    "print(count_ngrams(wsb_post['five-gram'])[:50])"
   ]
  },
  {
   "cell_type": "markdown",
   "metadata": {
    "id": "AaNR3hQwsaPz"
   },
   "source": [
    "#### Stocks"
   ]
  },
  {
   "cell_type": "code",
   "execution_count": null,
   "metadata": {
    "id": "9dfXPwy5saP0",
    "outputId": "b79458d4-af2f-424f-f3a4-0e56481a6e64"
   },
   "outputs": [],
   "source": [
    "print(count_ngrams(stocks_pre['five-gram'])[:50])"
   ]
  },
  {
   "cell_type": "code",
   "execution_count": null,
   "metadata": {
    "id": "AKwU93twsaP1",
    "outputId": "f31214d9-f9fc-4a84-ddcc-9b57dcfedd5e"
   },
   "outputs": [],
   "source": [
    "print(count_ngrams(stocks_post['five-gram'])[:50])"
   ]
  },
  {
   "cell_type": "markdown",
   "metadata": {
    "id": "noDIPIBnsaP2"
   },
   "source": [
    "#### Investing"
   ]
  },
  {
   "cell_type": "code",
   "execution_count": null,
   "metadata": {
    "id": "thqHvq4DsaP2",
    "outputId": "219d2002-11ab-414b-cadb-19cbb24086ad"
   },
   "outputs": [],
   "source": [
    "print(count_ngrams(investing_pre['five-gram'])[:50])"
   ]
  },
  {
   "cell_type": "code",
   "execution_count": null,
   "metadata": {
    "id": "X8abi98XsaP3",
    "outputId": "3e044c6e-514b-42f5-84ba-7315ff7cc3cc"
   },
   "outputs": [],
   "source": [
    "print(count_ngrams(investing_post['five-gram'])[:50])"
   ]
  },
  {
   "cell_type": "code",
   "execution_count": null,
   "metadata": {
    "id": "sFGmxzz4saP3"
   },
   "outputs": [],
   "source": [
    "## To do: Intersection between all sets to find common n-grams"
   ]
  },
  {
   "cell_type": "markdown",
   "metadata": {
    "id": "HI8f_S5bfgep"
   },
   "source": [
    "## Plot n-grams [Daily, Weekly & Monthly]"
   ]
  },
  {
   "cell_type": "code",
   "execution_count": 2,
   "metadata": {
    "id": "lGQhGyPRiV84"
   },
   "outputs": [],
   "source": [
    "# load datasets\n",
    "stocks_pre = pd.read_csv('stocks/data/stocks_pre.csv',sep=';')\n",
    "stocks_post = pd.read_csv('stocks/data/stocks_post.csv',sep=';')"
   ]
  },
  {
   "cell_type": "code",
   "execution_count": 3,
   "metadata": {
    "colab": {
     "base_uri": "https://localhost:8080/",
     "height": 249
    },
    "id": "EVRnkFc4xuNu",
    "outputId": "a1a80f77-dc41-4df9-cc60-dc30fa752ab1"
   },
   "outputs": [
    {
     "data": {
      "text/html": [
       "<div>\n",
       "<style scoped>\n",
       "    .dataframe tbody tr th:only-of-type {\n",
       "        vertical-align: middle;\n",
       "    }\n",
       "\n",
       "    .dataframe tbody tr th {\n",
       "        vertical-align: top;\n",
       "    }\n",
       "\n",
       "    .dataframe thead th {\n",
       "        text-align: right;\n",
       "    }\n",
       "</style>\n",
       "<table border=\"1\" class=\"dataframe\">\n",
       "  <thead>\n",
       "    <tr style=\"text-align: right;\">\n",
       "      <th></th>\n",
       "      <th>Unnamed: 0</th>\n",
       "      <th>created_utc</th>\n",
       "      <th>SegmentID</th>\n",
       "      <th>author</th>\n",
       "      <th>created_utc.1</th>\n",
       "      <th>id</th>\n",
       "      <th>link_flair_text</th>\n",
       "      <th>num_comments</th>\n",
       "      <th>score</th>\n",
       "      <th>subreddit_subscribers</th>\n",
       "      <th>selftext</th>\n",
       "      <th>title</th>\n",
       "      <th>upvote_ratio</th>\n",
       "      <th>sbert_emb</th>\n",
       "      <th>bigram</th>\n",
       "      <th>trigram</th>\n",
       "      <th>four-gram</th>\n",
       "      <th>five-gram</th>\n",
       "      <th>year</th>\n",
       "    </tr>\n",
       "  </thead>\n",
       "  <tbody>\n",
       "    <tr>\n",
       "      <th>0</th>\n",
       "      <td>85588</td>\n",
       "      <td>2020-12-31 23:58:19</td>\n",
       "      <td>85588</td>\n",
       "      <td>ttolam</td>\n",
       "      <td>2020-12-31 23:58:19</td>\n",
       "      <td>ko0zlv</td>\n",
       "      <td>NaN</td>\n",
       "      <td>27</td>\n",
       "      <td>1</td>\n",
       "      <td>1002204</td>\n",
       "      <td>I have a Roth IRA\\n\\nI am going to put $3500 i...</td>\n",
       "      <td>How should I spend my $3500</td>\n",
       "      <td>1.0</td>\n",
       "      <td>[0.325336754322052, -0.6045418381690979, 0.058...</td>\n",
       "      <td>[$3500]</td>\n",
       "      <td>[spend my $]</td>\n",
       "      <td>[spend my $3500]</td>\n",
       "      <td>[]</td>\n",
       "      <td>2020</td>\n",
       "    </tr>\n",
       "  </tbody>\n",
       "</table>\n",
       "</div>"
      ],
      "text/plain": [
       "   Unnamed: 0          created_utc  SegmentID  author        created_utc.1  \\\n",
       "0       85588  2020-12-31 23:58:19      85588  ttolam  2020-12-31 23:58:19   \n",
       "\n",
       "       id link_flair_text  num_comments  score  subreddit_subscribers  \\\n",
       "0  ko0zlv             NaN            27      1                1002204   \n",
       "\n",
       "                                            selftext  \\\n",
       "0  I have a Roth IRA\\n\\nI am going to put $3500 i...   \n",
       "\n",
       "                         title  upvote_ratio  \\\n",
       "0  How should I spend my $3500           1.0   \n",
       "\n",
       "                                           sbert_emb   bigram       trigram  \\\n",
       "0  [0.325336754322052, -0.6045418381690979, 0.058...  [$3500]  [spend my $]   \n",
       "\n",
       "          four-gram five-gram  year  \n",
       "0  [spend my $3500]        []  2020  "
      ]
     },
     "execution_count": 3,
     "metadata": {},
     "output_type": "execute_result"
    }
   ],
   "source": [
    "stocks_pre.head(1)"
   ]
  },
  {
   "cell_type": "code",
   "execution_count": null,
   "metadata": {},
   "outputs": [],
   "source": [
    "#pre-post\n",
    "wsb_popular_bigrams = ['👙👙','💜🤎','🚀🚀','🤎💜','🤬🤬']\n",
    "wsb_popular_trigrams = ['low quality meme','trade vix options','🚀🚀🚀','💜🤎💜','🤎💜🤎','🤬🤬🤬']\n",
    "wsb_popular_fourgrams = ['blocking a low quality','🚀🚀🚀🚀','💜🤎💜🤎','🤎💜🤎💜','🤬🤬🤬🤬']\n",
    "wsb_popular_fivegrams = ['blocking a low quality meme','💜🤎💜🤎💜','🚀🚀🚀🚀🚀','🤎💜🤎💜🤎','🤬🤬🤬🤬🤬']\n",
    "\n",
    "#pre\n",
    "wsb_popular_bigrams = ['👙👙','🚀🚀','🤬🤬']\n",
    "wsb_popular_trigrams = ['low quality meme','trade vix options','🚀🚀🚀','🤬🤬🤬']\n",
    "wsb_popular_fourgrams = ['blocking a low quality','🚀🚀🚀🚀','🤬🤬🤬🤬']\n",
    "wsb_popular_fivegrams = ['blocking a low quality meme','🚀🚀🚀🚀🚀','🤬🤬🤬🤬🤬']\n",
    "\n",
    "#post\n",
    "#pre\n",
    "wsb_popular_bigrams = ['👙👙','💜🤎','🚀🚀','🤎💜']\n",
    "wsb_popular_trigrams = ['🚀🚀🚀','💜🤎💜','🤎💜🤎']\n",
    "wsb_popular_fourgrams = ['🚀🚀🚀🚀','💜🤎💜🤎','🤎💜🤎💜']\n",
    "wsb_popular_fivegrams = ['💜🤎💜🤎💜','🚀🚀🚀🚀🚀','🤎💜🤎💜🤎']"
   ]
  },
  {
   "cell_type": "code",
   "execution_count": 3,
   "metadata": {},
   "outputs": [],
   "source": [
    "def count_ngrams_(ngram_column,min_count):\n",
    "    #print(ngram_column[0])\n",
    "    #print(ngram_column[1])\n",
    "    trigrams_title = []\n",
    "    for lst in ngram_column[0]:  \n",
    "          for trigram in lst.split(','):\n",
    "            if trigram == '[]':\n",
    "               continue \n",
    "            #print(type(trigram))\n",
    "            trigram=re.sub('\\\\[', '', trigram)\n",
    "            trigram=re.sub('\\\\]', '', trigram)           \n",
    "            if trigram != ' ' or trigram != '':      \n",
    "                trigrams_title.append(trigram.lower())\n",
    "    count_freq_trigrams = {}\n",
    "    for item in trigrams_title:\n",
    "        item = item.strip()\n",
    "        if item in count_freq_trigrams:\n",
    "            count_freq_trigrams[item] +=1\n",
    "        else:\n",
    "            count_freq_trigrams[item] = 1\n",
    "    count_freq_trigrams_ = {}\n",
    "    for item in count_freq_trigrams:\n",
    "        #if (count_freq_trigrams[item]/ngram_column[1]) >= min_count:\n",
    "        count_freq_trigrams_[item] =count_freq_trigrams[item]/ngram_column[1]\n",
    "   \n",
    "    return sorted(count_freq_trigrams_.items(), key=lambda item: item[1], reverse = True)\n",
    "    #return count_freq_trigrams"
   ]
  },
  {
   "cell_type": "code",
   "execution_count": 13,
   "metadata": {},
   "outputs": [],
   "source": [
    "def count_ngrams_abs(ngram_column):\n",
    "    #print(ngram_column[0])\n",
    "    #print(ngram_column[1])\n",
    "    trigrams_title = []\n",
    "    for lst in ngram_column[0]:  \n",
    "          for trigram in lst.split(','):\n",
    "            if trigram == '[]':\n",
    "               continue \n",
    "            #print(type(trigram))\n",
    "            trigram=re.sub('\\\\[', '', trigram)\n",
    "            trigram=re.sub('\\\\]', '', trigram)           \n",
    "            if trigram != ' ' or trigram != '':      \n",
    "                trigrams_title.append(trigram.lower())\n",
    "    count_freq_trigrams = {}\n",
    "    for item in trigrams_title:\n",
    "        item = item.strip()\n",
    "        if item in count_freq_trigrams:\n",
    "            count_freq_trigrams[item] +=1\n",
    "        else:\n",
    "            count_freq_trigrams[item] = 1\n",
    "    #for item in count_freq_trigrams:\n",
    "    #    count_freq_trigrams[item] =abs(count_freq_trigrams[item]#/ngram_column[1])\n",
    "    #print(sorted(count_freq_trigrams.items(), key=lambda item: item[1], reverse = True))\n",
    "    return sorted(count_freq_trigrams.items(), key=lambda item: item[1], reverse = True)\n",
    "    #return count_freq_trigrams"
   ]
  },
  {
   "cell_type": "code",
   "execution_count": 4,
   "metadata": {
    "id": "IDTNTjLqffRR"
   },
   "outputs": [],
   "source": [
    "import os\n",
    "import re\n",
    "#import gc\n",
    "\n",
    "\n",
    "def plot_term_frequency(df1,column_name,time_period,save_dir,min_count = 0.25):\n",
    "    #create date,Week,Month column\n",
    "   \n",
    "    df1['date'] = pd.DatetimeIndex(df1['created_utc']).date \n",
    "    if time_period == 'month':       \n",
    "        grp_format = '%m-%Y'\n",
    "    elif time_period == 'year':       \n",
    "        grp_format = '%Y'\n",
    "    elif time_period == 'week':\n",
    "        #df1[time_period] = pd.DatetimeIndex(df1['created_utc']).isocalendar().week       \n",
    "        #df1['month'] = pd.DatetimeIndex(df1['created_utc']).month    %U\n",
    "        grp_format = '%Y_%U'\n",
    "    elif time_period == 'daily':       \n",
    "        grp_format = '%d-%m-%Y'\n",
    "    else:\n",
    "      print('incorrect time period')\n",
    "      return\n",
    "    #Count term freqs  by time_period\n",
    "    #group by Month, join()\n",
    "\n",
    "    post_count = df1.groupby(pd.to_datetime(df1['created_utc']).dt.strftime(grp_format))[column_name].count().reset_index()\n",
    "    #print(post_count[column_name].tolist())\n",
    "    bigram = df1.groupby(pd.to_datetime(df1['created_utc']).dt.strftime(grp_format))[column_name].agg(list) \n",
    "    #bigram[['post_count']] = post_count[column_name]\n",
    "    bigram_new=pd.DataFrame(bigram)\n",
    "    bigram_new['post_count'] = post_count[column_name].tolist()\n",
    "    #print(bigram_new)\n",
    "    #return\n",
    "    if 'norm' in save_dir:\n",
    "         bigram_= bigram_new.apply(lambda x: count_ngrams_(x,min_count),axis=1)\n",
    "    else:\n",
    "         bigram_= bigram_new.apply(lambda x: count_ngrams_abs(x),axis=1)\n",
    "    #return\n",
    "    frame = { column_name: bigram_ }\n",
    "    df_plot= pd.DataFrame(frame)\n",
    "\n",
    "    df_plot[column_name+\"_dict\"] = df_plot.apply(lambda x: dict(x[column_name]), axis=1)  \n",
    "    #print(df_plot)\n",
    "    #return\n",
    "    df_plot_= pd.json_normalize(df_plot[column_name+\"_dict\"])\n",
    "    df_plot = df_plot.rename_axis('created_utc').reset_index()\n",
    "    df_plot_['created_utc']= df_plot['created_utc']\n",
    "    #print(df_plot_)\n",
    "    df_plot_=df_plot_.set_index('created_utc')   \n",
    "    df_plot_= df_plot_.fillna(0)\n",
    "    if (time_period != 'week'):\n",
    "        df_plot_.index = pd.to_datetime(df_plot_.index)\n",
    "        df_plot_.sort_index(inplace=True)   \n",
    "        \n",
    "    #print(df_plot_)\n",
    "    #return\n",
    "    count =0    \n",
    "    path1 = save_dir+\"\\\\\"+column_name\n",
    "    path2 = save_dir+\"\\\\\"+column_name+\"\\\\\"+ time_period\n",
    "    path3 =  save_dir+\"\\\\\"+column_name+\"\\\\\"+ time_period+\"\\\\\"+str(min_count)\n",
    "    if not os.path.exists(path1):\n",
    "        os.mkdir(path1)\n",
    "      \n",
    "    if not os.path.exists(path2):\n",
    "        os.mkdir(path2)\n",
    "    \n",
    "    #print((df_plot_.sum(axis=0)))\n",
    "    \n",
    "    #df_plot_ = df_plot_.loc[:, (df_plot_.sum(axis=0) >= min_count)]\n",
    "    #print(df_plot_.columns)\n",
    "    #return\n",
    "    #display(df_plot_.head())\n",
    "    print(len(df_plot_))\n",
    "    \n",
    "    if len(df_plot_.columns) >0:\n",
    "        if not os.path.exists(path3):\n",
    "            os.mkdir(path3)\n",
    "        for col in df_plot_.columns:\n",
    "            val = (df_plot_[col].sum()/len(df_plot_[col])) \n",
    "            #print(val)\n",
    "            if val >= min_count:\n",
    "              #fig=''\n",
    "              #print(df_plot_.columns[count])\n",
    "              plt.figure(1)\n",
    "              if (time_period == 'daily') or  (time_period == 'week'):            \n",
    "                  fig, axs = plt.subplots(figsize = (30,10))\n",
    "              else:\n",
    "                  fig, axs = plt.subplots(figsize = (15,8))\n",
    "              #print(df_plot_.columns[count])\n",
    "\n",
    "              plt.xticks(rotation=45, ha='right')\n",
    "              plt.title(df_plot_.columns[count].replace('$','\\\\$'), fontdict=None, loc='center')\n",
    "              plt.plot(df_plot_.index,df_plot_[col])    \n",
    "              os.chmod(path2, 0o400)\n",
    "\n",
    "              try:    \n",
    "                      plt.ioff()\n",
    "                      plt.savefig(path3+\"\\\\\"+column_name+'_'+df_plot_.columns[count] +'.png')\n",
    "                      plt.close(1)\n",
    "                      plt.ioff()\n",
    "                      count = count + 1\n",
    "              except OSError:\n",
    "\n",
    "                print(\"can't save:\"+df_plot_.columns[count])\n",
    "                count = count + 1\n",
    "              \n",
    "\n",
    "    del [[df1,df_plot,df_plot_]]\n",
    "    return count\n",
    "    #gc.collect()\n",
    "    #df1=pd.DataFrame()\n",
    "    #df_plot=pd.DataFrame()\n",
    "    #df_plot_=pd.DataFrame()\n",
    "      "
   ]
  },
  {
   "cell_type": "code",
   "execution_count": 7,
   "metadata": {},
   "outputs": [
    {
     "name": "stderr",
     "output_type": "stream",
     "text": [
      "C:\\Users\\96ank\\AppData\\Local\\Continuum\\anaconda3\\lib\\site-packages\\IPython\\core\\interactiveshell.py:3326: DtypeWarning: Columns (1,5) have mixed types.Specify dtype option on import or set low_memory=False.\n",
      "  exec(code_obj, self.user_global_ns, self.user_ns)\n"
     ]
    }
   ],
   "source": [
    "# load datasets\n",
    "#investing_pre = pd.read_csv('investing/data/investing_pre.csv',sep=';')\n",
    "#investing_post = pd.read_csv('investing/data/investing_post.csv',sep=';')\n",
    "investing = pd.read_csv('investing/data/investing_submissions_all.csv',sep=';')\n",
    "investing = investing.drop(investing[investing['created_utc'].str.contains('cryptoservices')].index)\n"
   ]
  },
  {
   "cell_type": "code",
   "execution_count": 9,
   "metadata": {},
   "outputs": [],
   "source": [
    "investing_pre = investing_pre.drop(investing_pre[investing_pre['created_utc'].str.contains('cryptoservices')].index)\n",
    "investing_post = investing_post.drop(investing_post[investing_post['created_utc'].str.contains('cryptoservices')].index)"
   ]
  },
  {
   "cell_type": "code",
   "execution_count": 6,
   "metadata": {},
   "outputs": [],
   "source": [
    "# load datasets\n",
    "wsb_pre = pd.read_csv('data/wsb_pre.csv',sep=';')\n",
    "wsb_post = pd.read_csv('data/wsb_post.csv',sep=';')"
   ]
  },
  {
   "cell_type": "code",
   "execution_count": 7,
   "metadata": {},
   "outputs": [
    {
     "name": "stdout",
     "output_type": "stream",
     "text": [
      "trigram daily 0.001 :\n"
     ]
    },
    {
     "ename": "MemoryError",
     "evalue": "Unable to allocate 7.87 KiB for an array with shape (1007,) and data type uint64",
     "output_type": "error",
     "traceback": [
      "\u001b[1;31m---------------------------------------------------------------------------\u001b[0m",
      "\u001b[1;31mMemoryError\u001b[0m                               Traceback (most recent call last)",
      "\u001b[1;32m<ipython-input-7-bc7fd58fdc6a>\u001b[0m in \u001b[0;36m<module>\u001b[1;34m\u001b[0m\n\u001b[0;32m     10\u001b[0m             \u001b[1;32mfor\u001b[0m \u001b[0mmin_count\u001b[0m \u001b[1;32min\u001b[0m \u001b[0mmin_counts\u001b[0m\u001b[1;33m:\u001b[0m\u001b[1;33m\u001b[0m\u001b[1;33m\u001b[0m\u001b[0m\n\u001b[0;32m     11\u001b[0m                 \u001b[0mprint\u001b[0m\u001b[1;33m(\u001b[0m\u001b[0mngram\u001b[0m\u001b[1;33m,\u001b[0m\u001b[0mtime_p\u001b[0m\u001b[1;33m,\u001b[0m\u001b[0mmin_count\u001b[0m\u001b[1;33m,\u001b[0m\u001b[1;34m\":\"\u001b[0m\u001b[1;33m)\u001b[0m\u001b[1;33m\u001b[0m\u001b[1;33m\u001b[0m\u001b[0m\n\u001b[1;32m---> 12\u001b[1;33m                 \u001b[0mprint\u001b[0m\u001b[1;33m(\u001b[0m\u001b[0mplot_term_frequency\u001b[0m\u001b[1;33m(\u001b[0m\u001b[0mdf\u001b[0m\u001b[1;33m,\u001b[0m\u001b[0mngram\u001b[0m\u001b[1;33m,\u001b[0m\u001b[0mtime_p\u001b[0m\u001b[1;33m,\u001b[0m\u001b[0mos\u001b[0m\u001b[1;33m.\u001b[0m\u001b[0mgetcwd\u001b[0m\u001b[1;33m(\u001b[0m\u001b[1;33m)\u001b[0m\u001b[1;33m+\u001b[0m\u001b[0mpath\u001b[0m\u001b[1;33m,\u001b[0m\u001b[0mmin_count\u001b[0m\u001b[1;33m)\u001b[0m\u001b[1;33m)\u001b[0m\u001b[1;33m\u001b[0m\u001b[1;33m\u001b[0m\u001b[0m\n\u001b[0m\u001b[0;32m     13\u001b[0m                 \u001b[1;31m#plot_term_frequency(df,ngram,time_p,os.getcwd()+path,min_count)\u001b[0m\u001b[1;33m\u001b[0m\u001b[1;33m\u001b[0m\u001b[1;33m\u001b[0m\u001b[0m\n",
      "\u001b[1;32m<ipython-input-4-1ec99b433ed4>\u001b[0m in \u001b[0;36mplot_term_frequency\u001b[1;34m(df1, column_name, time_period, save_dir, min_count)\u001b[0m\n\u001b[0;32m     43\u001b[0m     \u001b[1;31m#print(df_plot)\u001b[0m\u001b[1;33m\u001b[0m\u001b[1;33m\u001b[0m\u001b[1;33m\u001b[0m\u001b[0m\n\u001b[0;32m     44\u001b[0m     \u001b[1;31m#return\u001b[0m\u001b[1;33m\u001b[0m\u001b[1;33m\u001b[0m\u001b[1;33m\u001b[0m\u001b[0m\n\u001b[1;32m---> 45\u001b[1;33m     \u001b[0mdf_plot_\u001b[0m\u001b[1;33m=\u001b[0m \u001b[0mpd\u001b[0m\u001b[1;33m.\u001b[0m\u001b[0mjson_normalize\u001b[0m\u001b[1;33m(\u001b[0m\u001b[0mdf_plot\u001b[0m\u001b[1;33m[\u001b[0m\u001b[0mcolumn_name\u001b[0m\u001b[1;33m+\u001b[0m\u001b[1;34m\"_dict\"\u001b[0m\u001b[1;33m]\u001b[0m\u001b[1;33m)\u001b[0m\u001b[1;33m\u001b[0m\u001b[1;33m\u001b[0m\u001b[0m\n\u001b[0m\u001b[0;32m     46\u001b[0m     \u001b[0mdf_plot\u001b[0m \u001b[1;33m=\u001b[0m \u001b[0mdf_plot\u001b[0m\u001b[1;33m.\u001b[0m\u001b[0mrename_axis\u001b[0m\u001b[1;33m(\u001b[0m\u001b[1;34m'created_utc'\u001b[0m\u001b[1;33m)\u001b[0m\u001b[1;33m.\u001b[0m\u001b[0mreset_index\u001b[0m\u001b[1;33m(\u001b[0m\u001b[1;33m)\u001b[0m\u001b[1;33m\u001b[0m\u001b[1;33m\u001b[0m\u001b[0m\n\u001b[0;32m     47\u001b[0m     \u001b[0mdf_plot_\u001b[0m\u001b[1;33m[\u001b[0m\u001b[1;34m'created_utc'\u001b[0m\u001b[1;33m]\u001b[0m\u001b[1;33m=\u001b[0m \u001b[0mdf_plot\u001b[0m\u001b[1;33m[\u001b[0m\u001b[1;34m'created_utc'\u001b[0m\u001b[1;33m]\u001b[0m\u001b[1;33m\u001b[0m\u001b[1;33m\u001b[0m\u001b[0m\n",
      "\u001b[1;32m~\\AppData\\Local\\Continuum\\anaconda3\\lib\\site-packages\\pandas\\io\\json\\_normalize.py\u001b[0m in \u001b[0;36m_json_normalize\u001b[1;34m(data, record_path, meta, meta_prefix, record_prefix, errors, sep, max_level)\u001b[0m\n\u001b[0;32m    433\u001b[0m         \u001b[1;32mand\u001b[0m \u001b[0mmax_level\u001b[0m \u001b[1;32mis\u001b[0m \u001b[1;32mNone\u001b[0m\u001b[1;33m\u001b[0m\u001b[1;33m\u001b[0m\u001b[0m\n\u001b[0;32m    434\u001b[0m     ):\n\u001b[1;32m--> 435\u001b[1;33m         \u001b[1;32mreturn\u001b[0m \u001b[0mDataFrame\u001b[0m\u001b[1;33m(\u001b[0m\u001b[0m_simple_json_normalize\u001b[0m\u001b[1;33m(\u001b[0m\u001b[0mdata\u001b[0m\u001b[1;33m,\u001b[0m \u001b[0msep\u001b[0m\u001b[1;33m=\u001b[0m\u001b[0msep\u001b[0m\u001b[1;33m)\u001b[0m\u001b[1;33m)\u001b[0m\u001b[1;33m\u001b[0m\u001b[1;33m\u001b[0m\u001b[0m\n\u001b[0m\u001b[0;32m    436\u001b[0m \u001b[1;33m\u001b[0m\u001b[0m\n\u001b[0;32m    437\u001b[0m     \u001b[1;32mif\u001b[0m \u001b[0mrecord_path\u001b[0m \u001b[1;32mis\u001b[0m \u001b[1;32mNone\u001b[0m\u001b[1;33m:\u001b[0m\u001b[1;33m\u001b[0m\u001b[1;33m\u001b[0m\u001b[0m\n",
      "\u001b[1;32m~\\AppData\\Local\\Continuum\\anaconda3\\lib\\site-packages\\pandas\\core\\frame.py\u001b[0m in \u001b[0;36m__init__\u001b[1;34m(self, data, index, columns, dtype, copy)\u001b[0m\n\u001b[0;32m    698\u001b[0m                         \u001b[0mcolumns\u001b[0m\u001b[1;33m,\u001b[0m\u001b[1;33m\u001b[0m\u001b[1;33m\u001b[0m\u001b[0m\n\u001b[0;32m    699\u001b[0m                         \u001b[0mindex\u001b[0m\u001b[1;33m,\u001b[0m  \u001b[1;31m# type: ignore[arg-type]\u001b[0m\u001b[1;33m\u001b[0m\u001b[1;33m\u001b[0m\u001b[0m\n\u001b[1;32m--> 700\u001b[1;33m                         \u001b[0mdtype\u001b[0m\u001b[1;33m,\u001b[0m\u001b[1;33m\u001b[0m\u001b[1;33m\u001b[0m\u001b[0m\n\u001b[0m\u001b[0;32m    701\u001b[0m                     )\n\u001b[0;32m    702\u001b[0m                     mgr = arrays_to_mgr(\n",
      "\u001b[1;32m~\\AppData\\Local\\Continuum\\anaconda3\\lib\\site-packages\\pandas\\core\\internals\\construction.py\u001b[0m in \u001b[0;36mnested_data_to_arrays\u001b[1;34m(data, columns, index, dtype)\u001b[0m\n\u001b[0;32m    481\u001b[0m         \u001b[0mcolumns\u001b[0m \u001b[1;33m=\u001b[0m \u001b[0mensure_index\u001b[0m\u001b[1;33m(\u001b[0m\u001b[0mdata\u001b[0m\u001b[1;33m[\u001b[0m\u001b[1;36m0\u001b[0m\u001b[1;33m]\u001b[0m\u001b[1;33m.\u001b[0m\u001b[0m_fields\u001b[0m\u001b[1;33m)\u001b[0m\u001b[1;33m\u001b[0m\u001b[1;33m\u001b[0m\u001b[0m\n\u001b[0;32m    482\u001b[0m \u001b[1;33m\u001b[0m\u001b[0m\n\u001b[1;32m--> 483\u001b[1;33m     \u001b[0marrays\u001b[0m\u001b[1;33m,\u001b[0m \u001b[0mcolumns\u001b[0m \u001b[1;33m=\u001b[0m \u001b[0mto_arrays\u001b[0m\u001b[1;33m(\u001b[0m\u001b[0mdata\u001b[0m\u001b[1;33m,\u001b[0m \u001b[0mcolumns\u001b[0m\u001b[1;33m,\u001b[0m \u001b[0mdtype\u001b[0m\u001b[1;33m=\u001b[0m\u001b[0mdtype\u001b[0m\u001b[1;33m)\u001b[0m\u001b[1;33m\u001b[0m\u001b[1;33m\u001b[0m\u001b[0m\n\u001b[0m\u001b[0;32m    484\u001b[0m     \u001b[0mcolumns\u001b[0m \u001b[1;33m=\u001b[0m \u001b[0mensure_index\u001b[0m\u001b[1;33m(\u001b[0m\u001b[0mcolumns\u001b[0m\u001b[1;33m)\u001b[0m\u001b[1;33m\u001b[0m\u001b[1;33m\u001b[0m\u001b[0m\n\u001b[0;32m    485\u001b[0m \u001b[1;33m\u001b[0m\u001b[0m\n",
      "\u001b[1;32m~\\AppData\\Local\\Continuum\\anaconda3\\lib\\site-packages\\pandas\\core\\internals\\construction.py\u001b[0m in \u001b[0;36mto_arrays\u001b[1;34m(data, columns, dtype)\u001b[0m\n\u001b[0;32m    805\u001b[0m         \u001b[0marr\u001b[0m \u001b[1;33m=\u001b[0m \u001b[0m_list_to_arrays\u001b[0m\u001b[1;33m(\u001b[0m\u001b[0mdata\u001b[0m\u001b[1;33m)\u001b[0m\u001b[1;33m\u001b[0m\u001b[1;33m\u001b[0m\u001b[0m\n\u001b[0;32m    806\u001b[0m \u001b[1;33m\u001b[0m\u001b[0m\n\u001b[1;32m--> 807\u001b[1;33m     \u001b[0mcontent\u001b[0m\u001b[1;33m,\u001b[0m \u001b[0mcolumns\u001b[0m \u001b[1;33m=\u001b[0m \u001b[0m_finalize_columns_and_data\u001b[0m\u001b[1;33m(\u001b[0m\u001b[0marr\u001b[0m\u001b[1;33m,\u001b[0m \u001b[0mcolumns\u001b[0m\u001b[1;33m,\u001b[0m \u001b[0mdtype\u001b[0m\u001b[1;33m)\u001b[0m\u001b[1;33m\u001b[0m\u001b[1;33m\u001b[0m\u001b[0m\n\u001b[0m\u001b[0;32m    808\u001b[0m     \u001b[1;32mreturn\u001b[0m \u001b[0mcontent\u001b[0m\u001b[1;33m,\u001b[0m \u001b[0mcolumns\u001b[0m\u001b[1;33m\u001b[0m\u001b[1;33m\u001b[0m\u001b[0m\n\u001b[0;32m    809\u001b[0m \u001b[1;33m\u001b[0m\u001b[0m\n",
      "\u001b[1;32m~\\AppData\\Local\\Continuum\\anaconda3\\lib\\site-packages\\pandas\\core\\internals\\construction.py\u001b[0m in \u001b[0;36m_finalize_columns_and_data\u001b[1;34m(content, columns, dtype)\u001b[0m\n\u001b[0;32m    910\u001b[0m \u001b[1;33m\u001b[0m\u001b[0m\n\u001b[0;32m    911\u001b[0m     \u001b[1;32mif\u001b[0m \u001b[0mlen\u001b[0m\u001b[1;33m(\u001b[0m\u001b[0mcontents\u001b[0m\u001b[1;33m)\u001b[0m \u001b[1;32mand\u001b[0m \u001b[0mcontents\u001b[0m\u001b[1;33m[\u001b[0m\u001b[1;36m0\u001b[0m\u001b[1;33m]\u001b[0m\u001b[1;33m.\u001b[0m\u001b[0mdtype\u001b[0m \u001b[1;33m==\u001b[0m \u001b[0mnp\u001b[0m\u001b[1;33m.\u001b[0m\u001b[0mobject_\u001b[0m\u001b[1;33m:\u001b[0m\u001b[1;33m\u001b[0m\u001b[1;33m\u001b[0m\u001b[0m\n\u001b[1;32m--> 912\u001b[1;33m         \u001b[0mcontents\u001b[0m \u001b[1;33m=\u001b[0m \u001b[0m_convert_object_array\u001b[0m\u001b[1;33m(\u001b[0m\u001b[0mcontents\u001b[0m\u001b[1;33m,\u001b[0m \u001b[0mdtype\u001b[0m\u001b[1;33m=\u001b[0m\u001b[0mdtype\u001b[0m\u001b[1;33m)\u001b[0m\u001b[1;33m\u001b[0m\u001b[1;33m\u001b[0m\u001b[0m\n\u001b[0m\u001b[0;32m    913\u001b[0m \u001b[1;33m\u001b[0m\u001b[0m\n\u001b[0;32m    914\u001b[0m     \u001b[1;32mreturn\u001b[0m \u001b[0mcontents\u001b[0m\u001b[1;33m,\u001b[0m \u001b[0mcolumns\u001b[0m\u001b[1;33m\u001b[0m\u001b[1;33m\u001b[0m\u001b[0m\n",
      "\u001b[1;32m~\\AppData\\Local\\Continuum\\anaconda3\\lib\\site-packages\\pandas\\core\\internals\\construction.py\u001b[0m in \u001b[0;36m_convert_object_array\u001b[1;34m(content, dtype)\u001b[0m\n\u001b[0;32m    995\u001b[0m         \u001b[1;32mreturn\u001b[0m \u001b[0marr\u001b[0m\u001b[1;33m\u001b[0m\u001b[1;33m\u001b[0m\u001b[0m\n\u001b[0;32m    996\u001b[0m \u001b[1;33m\u001b[0m\u001b[0m\n\u001b[1;32m--> 997\u001b[1;33m     \u001b[0marrays\u001b[0m \u001b[1;33m=\u001b[0m \u001b[1;33m[\u001b[0m\u001b[0mconvert\u001b[0m\u001b[1;33m(\u001b[0m\u001b[0marr\u001b[0m\u001b[1;33m)\u001b[0m \u001b[1;32mfor\u001b[0m \u001b[0marr\u001b[0m \u001b[1;32min\u001b[0m \u001b[0mcontent\u001b[0m\u001b[1;33m]\u001b[0m\u001b[1;33m\u001b[0m\u001b[1;33m\u001b[0m\u001b[0m\n\u001b[0m\u001b[0;32m    998\u001b[0m \u001b[1;33m\u001b[0m\u001b[0m\n\u001b[0;32m    999\u001b[0m     \u001b[1;32mreturn\u001b[0m \u001b[0marrays\u001b[0m\u001b[1;33m\u001b[0m\u001b[1;33m\u001b[0m\u001b[0m\n",
      "\u001b[1;32m~\\AppData\\Local\\Continuum\\anaconda3\\lib\\site-packages\\pandas\\core\\internals\\construction.py\u001b[0m in \u001b[0;36m<listcomp>\u001b[1;34m(.0)\u001b[0m\n\u001b[0;32m    995\u001b[0m         \u001b[1;32mreturn\u001b[0m \u001b[0marr\u001b[0m\u001b[1;33m\u001b[0m\u001b[1;33m\u001b[0m\u001b[0m\n\u001b[0;32m    996\u001b[0m \u001b[1;33m\u001b[0m\u001b[0m\n\u001b[1;32m--> 997\u001b[1;33m     \u001b[0marrays\u001b[0m \u001b[1;33m=\u001b[0m \u001b[1;33m[\u001b[0m\u001b[0mconvert\u001b[0m\u001b[1;33m(\u001b[0m\u001b[0marr\u001b[0m\u001b[1;33m)\u001b[0m \u001b[1;32mfor\u001b[0m \u001b[0marr\u001b[0m \u001b[1;32min\u001b[0m \u001b[0mcontent\u001b[0m\u001b[1;33m]\u001b[0m\u001b[1;33m\u001b[0m\u001b[1;33m\u001b[0m\u001b[0m\n\u001b[0m\u001b[0;32m    998\u001b[0m \u001b[1;33m\u001b[0m\u001b[0m\n\u001b[0;32m    999\u001b[0m     \u001b[1;32mreturn\u001b[0m \u001b[0marrays\u001b[0m\u001b[1;33m\u001b[0m\u001b[1;33m\u001b[0m\u001b[0m\n",
      "\u001b[1;32m~\\AppData\\Local\\Continuum\\anaconda3\\lib\\site-packages\\pandas\\core\\internals\\construction.py\u001b[0m in \u001b[0;36mconvert\u001b[1;34m(arr)\u001b[0m\n\u001b[0;32m    991\u001b[0m     \u001b[1;32mdef\u001b[0m \u001b[0mconvert\u001b[0m\u001b[1;33m(\u001b[0m\u001b[0marr\u001b[0m\u001b[1;33m)\u001b[0m\u001b[1;33m:\u001b[0m\u001b[1;33m\u001b[0m\u001b[1;33m\u001b[0m\u001b[0m\n\u001b[0;32m    992\u001b[0m         \u001b[1;32mif\u001b[0m \u001b[0mdtype\u001b[0m \u001b[1;33m!=\u001b[0m \u001b[0mnp\u001b[0m\u001b[1;33m.\u001b[0m\u001b[0mdtype\u001b[0m\u001b[1;33m(\u001b[0m\u001b[1;34m\"O\"\u001b[0m\u001b[1;33m)\u001b[0m\u001b[1;33m:\u001b[0m\u001b[1;33m\u001b[0m\u001b[1;33m\u001b[0m\u001b[0m\n\u001b[1;32m--> 993\u001b[1;33m             \u001b[0marr\u001b[0m \u001b[1;33m=\u001b[0m \u001b[0mlib\u001b[0m\u001b[1;33m.\u001b[0m\u001b[0mmaybe_convert_objects\u001b[0m\u001b[1;33m(\u001b[0m\u001b[0marr\u001b[0m\u001b[1;33m)\u001b[0m\u001b[1;33m\u001b[0m\u001b[1;33m\u001b[0m\u001b[0m\n\u001b[0m\u001b[0;32m    994\u001b[0m             \u001b[0marr\u001b[0m \u001b[1;33m=\u001b[0m \u001b[0mmaybe_cast_to_datetime\u001b[0m\u001b[1;33m(\u001b[0m\u001b[0marr\u001b[0m\u001b[1;33m,\u001b[0m \u001b[0mdtype\u001b[0m\u001b[1;33m)\u001b[0m\u001b[1;33m\u001b[0m\u001b[1;33m\u001b[0m\u001b[0m\n\u001b[0;32m    995\u001b[0m         \u001b[1;32mreturn\u001b[0m \u001b[0marr\u001b[0m\u001b[1;33m\u001b[0m\u001b[1;33m\u001b[0m\u001b[0m\n",
      "\u001b[1;32m~\\AppData\\Local\\Continuum\\anaconda3\\lib\\site-packages\\pandas\\_libs\\lib.pyx\u001b[0m in \u001b[0;36mpandas._libs.lib.maybe_convert_objects\u001b[1;34m()\u001b[0m\n",
      "\u001b[1;31mMemoryError\u001b[0m: Unable to allocate 7.87 KiB for an array with shape (1007,) and data type uint64"
     ]
    }
   ],
   "source": [
    "##%%capture\n",
    "ngrams =['trigram']#,'trigram','four-gram','five-gram']#'bigram','trigram',\n",
    "time_periods = ['daily']#,'week','month','year']\n",
    "dfs=[wsb_]#wsb_pre,wsb_post,\n",
    "paths =[\"\\\\wsb\\\\plots\\\\pre-post\\\\norm\"]#,\"\\\\wsb\\\\plots\\\\post\\\\norm\",\"\\\\wsb\\\\plots\\\\pre-post\\\\norm\"]\n",
    "min_counts = [0.001]#,0.25,0.50,1]\n",
    "for df,path in zip(dfs,paths):\n",
    "    for ngram in ngrams:\n",
    "        for time_p in time_periods:\n",
    "            for min_count in min_counts:\n",
    "                print(ngram,time_p,min_count,\":\")\n",
    "                print(plot_term_frequency(df,ngram,time_p,os.getcwd()+path,min_count))\n",
    "                #plot_term_frequency(df,ngram,time_p,os.getcwd()+path,min_count)      "
   ]
  },
  {
   "cell_type": "code",
   "execution_count": 8,
   "metadata": {},
   "outputs": [],
   "source": [
    "stocks = pd.read_csv('stocks/data/stocks_submissions_all.csv',sep=';')"
   ]
  },
  {
   "cell_type": "code",
   "execution_count": null,
   "metadata": {},
   "outputs": [],
   "source": [
    "##%%capture\n",
    "ngrams =['bigram']#,'trigram','four-gram','five-gram']#'bigram','trigram',\n",
    "time_periods = ['daily']#,'week','month','year']\n",
    "dfs=[stocks]#[stocks_pre,stocks_post,\n",
    "paths =[\"\\\\stocks\\\\plots\\\\pre-post\\\\norm\"]#[\"\\\\stocks\\\\plots\\\\pre\\\\norm\",\"\\\\stocks\\\\plots\\\\post\\\\norm\",\n",
    "min_counts = [0.05]\n",
    "for df,path in zip(dfs,paths):\n",
    "    for ngram in ngrams:\n",
    "        for time_p in time_periods:\n",
    "            for min_count in min_counts:\n",
    "                print(ngram,time_p,min_count,\":\")\n",
    "                print(plot_term_frequency(df,ngram,time_p,os.getcwd()+path,min_count))\n",
    "                #plot_term_frequency(df,ngram,time_p,os.getcwd()+path,min_count)      "
   ]
  },
  {
   "cell_type": "code",
   "execution_count": null,
   "metadata": {},
   "outputs": [],
   "source": [
    "%%capture\n",
    "ngrams =['bigram','trigram','four-gram','five-gram']#'bigram',\n",
    "time_periods = ['daily','week','month','year']#'daily',\n",
    "dfs=[wsb_post]\n",
    "paths =[\"\\\\wsb\\\\plots\\\\post\\\\all\"]# [\"\\\\stocks\\\\plots\\\\all\",\"\\\\investing\\\\plots\\\\all\",\"\\\\wsb\\\\plots\\\\all\"]\n",
    "min_counts = [5000]\n",
    "for df,path in zip(dfs,paths):\n",
    "    for ngram in ngrams:\n",
    "        for time_p in time_periods:\n",
    "            for min_count in min_counts:\n",
    "                print(ngram,time_p,min_count,\":\")\n",
    "                print(plot_term_frequency(df,ngram,time_p,os.getcwd()+path,min_count))\n",
    "                #plot_term_frequency(df,ngram,time_p,os.getcwd()+path,min_count)   "
   ]
  },
  {
   "cell_type": "code",
   "execution_count": null,
   "metadata": {},
   "outputs": [],
   "source": [
    "ngrams =['bigram','trigram','four-gram','five-gram']#'bigram','trigram',\n",
    "time_periods = ['daily','week','month']\n",
    "dfs=[investing]#investing_pre,investing_post,\n",
    "paths =[\"\\\\investing\\\\plots\\\\pre-post\\\\norm\"]# [\"\\\\stocks\\\\plots\\\\all\",\"\\\\investing\\\\plots\\\\all\",\"\\\\wsb\\\\plots\\\\all\"]\"\\\\investing\\\\plots\\\\pre\\\\all\",\"\\\\investing\\\\plots\\\\post\\\\all\",\n",
    "min_counts = [0.05]\n",
    "for df,path in zip(dfs,paths):\n",
    "    for ngram in ngrams:\n",
    "        for time_p in time_periods:\n",
    "            for min_count in min_counts:\n",
    "                print(ngram,time_p,min_count,\" :\")\n",
    "                print(plot_term_frequency(df,ngram,time_p,os.getcwd()+path,min_count))\n",
    "                #plot_term_frequency(df,ngram,time_p,os.getcwd()+path,min_count)   "
   ]
  },
  {
   "cell_type": "code",
   "execution_count": 7,
   "metadata": {},
   "outputs": [],
   "source": [
    "plt.close('all')"
   ]
  },
  {
   "cell_type": "markdown",
   "metadata": {
    "id": "ELckNBrPVd1c"
   },
   "source": [
    "## Topic clusters, Modeling\n"
   ]
  },
  {
   "cell_type": "code",
   "execution_count": null,
   "metadata": {
    "id": "eay9Uv58OlGo"
   },
   "outputs": [],
   "source": [
    "# load datasets\n",
    "\n",
    "#wsb_post.to_csv('data/WSB_post.csv',sep=';')\n",
    "stocks_pre = pd.read_csv('/content/drive/MyDrive/stocks/stocks_pre.csv',sep=';')\n",
    "stocks_post = pd.read_csv('/content/drive/MyDrive/stocks/stocks_post.csv',sep=';')\n"
   ]
  },
  {
   "cell_type": "code",
   "execution_count": null,
   "metadata": {
    "colab": {
     "base_uri": "https://localhost:8080/"
    },
    "id": "FV_9GO3Qdibl",
    "outputId": "d4d5e015-556f-4dab-ff8b-7e155de09ca0"
   },
   "outputs": [],
   "source": [
    "investing_pre = pd.read_csv('/content/drive/MyDrive/investing/investing_pre.csv',sep=';')\n",
    "investing_post = pd.read_csv('/content/drive/MyDrive/investing/investing_post.csv',sep=';')"
   ]
  },
  {
   "cell_type": "code",
   "execution_count": null,
   "metadata": {
    "id": "B2jqHa06qzoZ"
   },
   "outputs": [],
   "source": [
    "#wsb_pre = pd.read_csv('/content/drive/MyDrive/WSB/WSB_pre.csv',sep=';')\n",
    "wsb_post = pd.read_csv('/content/drive/MyDrive/WSB/WSB_post.csv',sep=';')"
   ]
  },
  {
   "cell_type": "code",
   "execution_count": null,
   "metadata": {
    "id": "KbtKL1rksaP5"
   },
   "outputs": [],
   "source": [
    "%%capture\n",
    "pip install bertopic"
   ]
  },
  {
   "cell_type": "code",
   "execution_count": null,
   "metadata": {
    "colab": {
     "base_uri": "https://localhost:8080/"
    },
    "id": "JI6NtXJcsaP6",
    "outputId": "c7ce7040-b83b-4c6a-a399-33f0ace98ec8"
   },
   "outputs": [],
   "source": [
    "pip install --upgrade tbb"
   ]
  },
  {
   "cell_type": "code",
   "execution_count": null,
   "metadata": {
    "id": "o5pg4iAQsaP7"
   },
   "outputs": [],
   "source": [
    "from bertopic import BERTopic\n",
    "import re"
   ]
  },
  {
   "cell_type": "code",
   "execution_count": null,
   "metadata": {
    "id": "_hD6ok-VsaP7"
   },
   "outputs": [],
   "source": [
    "def bert_topic_modeling(df,n):\n",
    "    \n",
    "    df.index = pd.DatetimeIndex(df.created_utc)\n",
    "    df_title = df[\"title\"].apply(lambda title: re.sub(r\"http\\S+\", \"\", title).lower(), 1)\n",
    "    timestamps = df[\"created_utc\"].to_list()\n",
    "    titles = df_title.to_list()\n",
    "    topics, _ = topic_model.fit_transform(titles[0:n])\n",
    "    #freq = topic_model.get_topic_info(); freq.head(10)\n",
    "    #topic_model.visualize_barchart(top_n_topics=3)\n",
    "    return topics\n",
    "    "
   ]
  },
  {
   "cell_type": "code",
   "execution_count": null,
   "metadata": {
    "id": "aVV3OW8t8ZMC"
   },
   "outputs": [],
   "source": [
    "lst = [stocks_pre, stocks_post, investing_pre,investing_post]\n",
    "del lst"
   ]
  },
  {
   "cell_type": "markdown",
   "metadata": {
    "id": "1_VLMK_qfRNk"
   },
   "source": [
    "### WSB"
   ]
  },
  {
   "cell_type": "code",
   "execution_count": null,
   "metadata": {
    "colab": {
     "base_uri": "https://localhost:8080/"
    },
    "id": "zQjD-mAr72ot",
    "outputId": "a00498fc-f1b2-4fef-b913-b7ed07d13d9f"
   },
   "outputs": [],
   "source": [
    "len(wsb_pre['title'])"
   ]
  },
  {
   "cell_type": "code",
   "execution_count": null,
   "metadata": {
    "colab": {
     "base_uri": "https://localhost:8080/",
     "height": 69
    },
    "id": "oTaRJvAEsaP8",
    "outputId": "f11c81e8-4e6c-4d4c-e6b4-fcf1f3a0bdb1"
   },
   "outputs": [],
   "source": [
    "#pre\n",
    "%%capture\n",
    "topic_model = BERTopic( verbose=True)\n",
    "bert_topic_modeling(wsb_pre,99999)\n",
    "#bert_topic_modeling(wsb_pre,len(wsb_pre['title']))"
   ]
  },
  {
   "cell_type": "code",
   "execution_count": null,
   "metadata": {
    "colab": {
     "base_uri": "https://localhost:8080/"
    },
    "id": "P-hJXu-o8oTq",
    "outputId": "b6253738-f5a3-4afd-818f-1db3e17b15ea"
   },
   "outputs": [],
   "source": [
    "topic_model.save(\"WSB_Pre_BERTopic_DTM_30\")"
   ]
  },
  {
   "cell_type": "code",
   "execution_count": null,
   "metadata": {
    "id": "m2Q9_HuJVqd3"
   },
   "outputs": [],
   "source": [
    "from sklearn.feature_extraction.text import CountVectorizer\n",
    "\n",
    "vectorizer_model = CountVectorizer(ngram_range=(1, 2), stop_words=\"english\", min_df=10)\n",
    "topic_model_ = BERTopic(vectorizer_model=vectorizer_model)"
   ]
  },
  {
   "cell_type": "code",
   "execution_count": null,
   "metadata": {
    "id": "TJO3B2e1GCbg"
   },
   "outputs": [],
   "source": [
    "t=BERTopic.load(\"WSB_Post_BERTopic_DTM_30\")"
   ]
  },
  {
   "cell_type": "code",
   "execution_count": null,
   "metadata": {
    "colab": {
     "base_uri": "https://localhost:8080/",
     "height": 84,
     "referenced_widgets": [
      "42b826e93f214390ab961745f993c372",
      "be9db9385c6e48dd8b5207b4c41eaa05",
      "a114c35495434abf96761c06af98438b",
      "40b207823c8d4e028535ab1b9eb3e4f3",
      "bd5fe21f94574fa189e8b75b89c79625",
      "ec23cd8eea2f4374a75f9a975a469354",
      "3d235cf2eabc4b6e8ed394b0f58bfd6c",
      "18a5fca88984453a88eb5834e11e30c5",
      "51409d12889d4ed9a55ab0048188812f",
      "9cf92513b65942b3a111a958965fd849",
      "0626355c8bea452b9cffc4e42a4c6258"
     ]
    },
    "id": "P7C1OFTjB1ta",
    "outputId": "873ac043-22c6-4b9a-97e7-3e1bf285a699"
   },
   "outputs": [],
   "source": [
    "tops,_ = t.transform(wsb_post['title'].tolist()[0:99998])"
   ]
  },
  {
   "cell_type": "code",
   "execution_count": null,
   "metadata": {
    "colab": {
     "base_uri": "https://localhost:8080/",
     "height": 69
    },
    "id": "AurN2XcTsaP9",
    "outputId": "ce49cd3e-493e-4b7f-ea09-fea2dd9cf06c"
   },
   "outputs": [],
   "source": [
    "%%capture\n",
    "topic_model = BERTopic( verbose=True)\n",
    "bert_topic_modeling(wsb_post,99999)\n",
    "#bert_topic_modeling(wsb_pre,len(wsb_pre['title']))"
   ]
  },
  {
   "cell_type": "code",
   "execution_count": null,
   "metadata": {
    "colab": {
     "base_uri": "https://localhost:8080/"
    },
    "id": "CE1RL18e0V3f",
    "outputId": "7a950dcd-1f9f-47eb-fc11-7956e4971bf6"
   },
   "outputs": [],
   "source": [
    "topic_model.save(\"WSB_Post_BERTopic_DTM_30\")"
   ]
  },
  {
   "cell_type": "code",
   "execution_count": null,
   "metadata": {
    "colab": {
     "base_uri": "https://localhost:8080/",
     "height": 850
    },
    "id": "311or0HH0SB2",
    "outputId": "541f3753-1e3d-4c52-81b6-595c16799ea6"
   },
   "outputs": [],
   "source": [
    "from umap import UMAP\n",
    "import matplotlib\n",
    "import matplotlib.pyplot as plt\n",
    "from sklearn.datasets import fetch_20newsgroups\n",
    "\n",
    "%matplotlib inline\n",
    "\n",
    "# Create topic model\n",
    "#docs = fetch_20newsgroups(subset='all',  remove=('headers', 'footers', 'quotes'))[\"data\"]\n",
    "#topic_model = BERTopic(embedding_model=\"paraphrase-MiniLM-L6-v2\", verbose=True)\n",
    "#topics, _ = topic_model.fit_transform(docs[0:99])\n",
    "#df_title = wsb_post[\"title\"].apply(lambda title: re.sub(r\"http\\S+\", \"\", title).lower(), 1)\n",
    "# Prepare data for plotting\n",
    "embeddings = t._extract_embeddings(wsb_post['title'].tolist()[0:99998], method=\"document\")\n",
    "umap_model = UMAP(n_neighbors=10, n_components=2, min_dist=0.0, metric='cosine').fit(embeddings)\n",
    "df = pd.DataFrame(umap_model.embedding_, columns=[\"x\", \"y\"])\n",
    "#topics, _ = topic_model.fit_transform(titles[0:99])\n",
    "df[\"topic\"] = tops\n",
    "\n",
    "# Plot parameters\n",
    "top_n = 10\n",
    "fontsize = 12\n",
    "\n",
    "# Slice data\n",
    "to_plot = df.copy()\n",
    "to_plot[df.topic >= top_n] = -1\n",
    "outliers = to_plot.loc[to_plot.topic == -1]\n",
    "non_outliers = to_plot.loc[to_plot.topic != -1]\n",
    "\n",
    "# Visualize topics\n",
    "cmap = matplotlib.colors.ListedColormap(['#FF5722', # Red\n",
    "                                         '#03A9F4', # Blue\n",
    "                                         '#4CAF50', # Green\n",
    "                                         '#80CBC4', # FFEB3B\n",
    "                                         '#673AB7', # Purple\n",
    "                                         '#795548', # Brown\n",
    "                                         '#E91E63', # Pink\n",
    "                                         '#212121', # Black\n",
    "                                         '#00BCD4', # Light Blue\n",
    "                                         '#CDDC39', # Yellow/Red\n",
    "                                         '#AED581', # Light Green\n",
    "                                         '#FFE082', # Light Orange\n",
    "                                         '#BCAAA4', # Light Brown\n",
    "                                         '#B39DDB', # Light Purple\n",
    "                                         '#F48FB1', # Light Pink\n",
    "                                         ])\n",
    "\n",
    "# Visualize outliers + inliers\n",
    "fig, ax = plt.subplots(figsize=(15, 15))\n",
    "scatter_outliers = ax.scatter(outliers['x'], outliers['y'], c=\"#E0E0E0\", s=1, alpha=.3)\n",
    "scatter = ax.scatter(non_outliers['x'], non_outliers['y'], c=non_outliers['topic'], s=1, alpha=.3, cmap=cmap)\n",
    "\n",
    "# Add topic names to clusters\n",
    "centroids = to_plot.groupby(\"topic\").mean().reset_index().iloc[1:]\n",
    "for row in centroids.iterrows():\n",
    "    topic = int(row[1].topic)\n",
    "    text = f\"{topic}: \" + \"_\".join([x[0] for x in t.get_topic(topic)[:3]])\n",
    "    ax.text(row[1].x, row[1].y*1.01, text, fontsize=fontsize, horizontalalignment='center')\n",
    "\n",
    "ax.text(0.99, 0.01, f\"BERTopic - Top {top_n} topics\", transform=ax.transAxes, horizontalalignment=\"right\", color=\"black\")\n",
    "plt.xticks([], [])\n",
    "plt.yticks([], [])\n",
    "plt.show()"
   ]
  },
  {
   "cell_type": "code",
   "execution_count": null,
   "metadata": {
    "colab": {
     "base_uri": "https://localhost:8080/",
     "height": 206
    },
    "id": "T9KPikZxACrf",
    "outputId": "01b90e12-154e-4f1c-9ddb-7b09c308ba5b"
   },
   "outputs": [],
   "source": [
    "df.head()"
   ]
  },
  {
   "cell_type": "code",
   "execution_count": null,
   "metadata": {
    "colab": {
     "base_uri": "https://localhost:8080/"
    },
    "id": "HjfGaXWLAMcH",
    "outputId": "4fb87c85-123f-4fe7-af54-c410f9727e67"
   },
   "outputs": [],
   "source": [
    " print(topic_model.get_topic)"
   ]
  },
  {
   "cell_type": "code",
   "execution_count": null,
   "metadata": {
    "colab": {
     "base_uri": "https://localhost:8080/",
     "height": 1000
    },
    "id": "Rz7eVtcmzrWJ",
    "outputId": "31a3d2f5-2cea-4a5e-b806-a62eecfdff55"
   },
   "outputs": [],
   "source": [
    "topic_model.visualize_barchart(top_n_topics=30)"
   ]
  },
  {
   "cell_type": "markdown",
   "metadata": {
    "id": "iDl1062psaP9"
   },
   "source": [
    "### Stocks"
   ]
  },
  {
   "cell_type": "code",
   "execution_count": null,
   "metadata": {
    "colab": {
     "base_uri": "https://localhost:8080/"
    },
    "id": "lnFovnNW0V4L",
    "outputId": "9d117e1f-26bd-4714-9d71-26de4f0bdd91"
   },
   "outputs": [],
   "source": [
    "len(stocks_pre['title'])"
   ]
  },
  {
   "cell_type": "code",
   "execution_count": null,
   "metadata": {
    "colab": {
     "base_uri": "https://localhost:8080/"
    },
    "id": "kKaHlsKMsaP-",
    "outputId": "d29b70d4-0f64-467a-c706-165ac739673f"
   },
   "outputs": [],
   "source": [
    "%%capture\n",
    "topic_model = BERTopic( verbose=True)\n",
    "#bert_topic_modeling(stocks_pre,50000)\n",
    "bert_topic_modeling(stocks_pre,len(stocks_pre['title']))"
   ]
  },
  {
   "cell_type": "code",
   "execution_count": null,
   "metadata": {
    "colab": {
     "base_uri": "https://localhost:8080/"
    },
    "id": "Ip4J5oO40DtP",
    "outputId": "ea5e2411-c345-4243-a12c-2165878e2852"
   },
   "outputs": [],
   "source": [
    "topic_model.save(\"Stocks_Pre_BERTopic_DTM_30\")"
   ]
  },
  {
   "cell_type": "code",
   "execution_count": null,
   "metadata": {
    "colab": {
     "base_uri": "https://localhost:8080/",
     "height": 1000
    },
    "id": "vCoDfF3mV6uQ",
    "outputId": "014d7b87-1d54-4450-e4d8-264aa996d5ba"
   },
   "outputs": [],
   "source": [
    "topic_model.visualize_barchart(top_n_topics=30)"
   ]
  },
  {
   "cell_type": "code",
   "execution_count": null,
   "metadata": {
    "colab": {
     "base_uri": "https://localhost:8080/"
    },
    "id": "PGSDdRQ80axr",
    "outputId": "64748b45-b21b-463a-9a09-a17700a9d148"
   },
   "outputs": [],
   "source": [
    "len(stocks_post['title'])"
   ]
  },
  {
   "cell_type": "code",
   "execution_count": null,
   "metadata": {
    "colab": {
     "base_uri": "https://localhost:8080/"
    },
    "id": "jpE3WMvdsaP-",
    "outputId": "b160f616-9299-4390-b478-21ce734de9a4"
   },
   "outputs": [],
   "source": [
    "%%capture\n",
    "topic_model = BERTopic( verbose=True)\n",
    "#bert_topic_modeling(stocks_post,50000)\n",
    "bert_topic_modeling(stocks_post,len(stocks_post['title']))"
   ]
  },
  {
   "cell_type": "code",
   "execution_count": null,
   "metadata": {
    "colab": {
     "base_uri": "https://localhost:8080/"
    },
    "id": "m1YpDUXt0Imz",
    "outputId": "f7d85829-2203-4f0e-bd6a-0536acc24b55"
   },
   "outputs": [],
   "source": [
    "topic_model.save(\"Stocks_Post_BERTopic_DTM_30\")"
   ]
  },
  {
   "cell_type": "code",
   "execution_count": null,
   "metadata": {
    "colab": {
     "base_uri": "https://localhost:8080/",
     "height": 1000
    },
    "id": "hzIhiMVdWPA6",
    "outputId": "8f0de77e-5c03-4c57-aaaa-634ad05fefc6"
   },
   "outputs": [],
   "source": [
    "topic_model.visualize_barchart(top_n_topics=30)"
   ]
  },
  {
   "cell_type": "markdown",
   "metadata": {
    "id": "pTqOTMrEsaP_"
   },
   "source": [
    "### Investing"
   ]
  },
  {
   "cell_type": "code",
   "execution_count": null,
   "metadata": {
    "colab": {
     "base_uri": "https://localhost:8080/",
     "height": 249
    },
    "id": "t11QDefMo4U0",
    "outputId": "639a64d6-fd16-486c-f64c-aecd50916f64"
   },
   "outputs": [],
   "source": [
    "investing_pre.head(1)"
   ]
  },
  {
   "cell_type": "code",
   "execution_count": null,
   "metadata": {
    "id": "YYLT6J0Tfdjl"
   },
   "outputs": [],
   "source": [
    "investing_pre['title'] = investing_pre['title'].astype('str')"
   ]
  },
  {
   "cell_type": "code",
   "execution_count": null,
   "metadata": {
    "id": "YQO6kMNRsaQA"
   },
   "outputs": [],
   "source": [
    "%%capture\n",
    "topic_model = BERTopic( verbose=True)\n",
    "#bert_topic_modeling(investing_pre,50000)\n",
    "bert_topic_modeling(investing_pre,len(investing_pre['title']))\n"
   ]
  },
  {
   "cell_type": "code",
   "execution_count": null,
   "metadata": {
    "colab": {
     "base_uri": "https://localhost:8080/"
    },
    "id": "8ULkI1EXwVPs",
    "outputId": "05bb9643-7988-4415-f740-318adc58e805"
   },
   "outputs": [],
   "source": [
    "topic_model.save(\"investing_Pre_BERTopic_DTM_30\")"
   ]
  },
  {
   "cell_type": "code",
   "execution_count": null,
   "metadata": {
    "id": "3I_0OWEsw7sq"
   },
   "outputs": [],
   "source": [
    "topic_model.get_topic_info()[0:50]"
   ]
  },
  {
   "cell_type": "code",
   "execution_count": null,
   "metadata": {
    "colab": {
     "base_uri": "https://localhost:8080/",
     "height": 1000
    },
    "id": "rnqphCkJWW95",
    "outputId": "38b0ecec-722e-44e6-d49b-ac5f440b769c"
   },
   "outputs": [],
   "source": [
    "topic_model.visualize_barchart(top_n_topics=30)"
   ]
  },
  {
   "cell_type": "code",
   "execution_count": null,
   "metadata": {
    "id": "yYJi3v4ngCGa"
   },
   "outputs": [],
   "source": [
    "investing_post['title'] = investing_post['title'].astype('str')"
   ]
  },
  {
   "cell_type": "code",
   "execution_count": null,
   "metadata": {
    "colab": {
     "base_uri": "https://localhost:8080/"
    },
    "id": "Euv_2i7KyFBD",
    "outputId": "067d184d-15cd-466e-a060-86ba81a116f1"
   },
   "outputs": [],
   "source": [
    "len(investing_post['title'])"
   ]
  },
  {
   "cell_type": "code",
   "execution_count": null,
   "metadata": {
    "colab": {
     "base_uri": "https://localhost:8080/",
     "height": 69
    },
    "id": "NtrZ6X7tsaQB",
    "outputId": "39ea89c4-f811-4a65-944d-2be784b92768"
   },
   "outputs": [],
   "source": [
    "%%capture\n",
    "topic_model = BERTopic( verbose=True)\n",
    "#bert_topic_modeling(investing_post,50000)\n",
    "bert_topic_modeling(investing_post,len(investing_post['title']))"
   ]
  },
  {
   "cell_type": "code",
   "execution_count": null,
   "metadata": {
    "colab": {
     "base_uri": "https://localhost:8080/"
    },
    "id": "NxU9Rj7KyRz2",
    "outputId": "71a6f3e4-5bf9-40c5-ffc9-3e86490a7b2d"
   },
   "outputs": [],
   "source": [
    "topic_model.save(\"investing_Post_BERTopic_DTM_30\")"
   ]
  },
  {
   "cell_type": "code",
   "execution_count": null,
   "metadata": {
    "colab": {
     "base_uri": "https://localhost:8080/",
     "height": 1000
    },
    "id": "IS3g1v8NWa_G",
    "outputId": "9ee470a3-c791-493a-909b-339acc5c52bf"
   },
   "outputs": [],
   "source": [
    "topic_model.visualize_barchart(top_n_topics=30)"
   ]
  },
  {
   "cell_type": "markdown",
   "metadata": {
    "id": "hlxxYy9PGIjr"
   },
   "source": [
    "## Common Topics"
   ]
  },
  {
   "cell_type": "code",
   "execution_count": 23,
   "metadata": {
    "id": "QiskaHmkJIrg"
   },
   "outputs": [],
   "source": [
    "def common_elements(list1,list2,list3=[]):\n",
    "    users_wsb_stocks = set(list1) & set(list2) \n",
    "    print('Elements in List 1:',len(list1))\n",
    "    print('Elements in List 2:',len(list2))\n",
    "    print('common_elements [List 1,2]:',len(users_wsb_stocks))\n",
    "    #print('common_elements:',users_wsb_stocks)\n",
    "    if list3:\n",
    "      print('Elements in List 3:',len(list3))\n",
    "      users_wsb_investing = set(list1) & set(list3)\n",
    "      print('common_elements [List 1,3]:',len(users_wsb_investing))\n",
    "      #print('common_elements:',users_wsb_investing)\n",
    "      users_stocks_investing = set(list2) & set(list3)\n",
    "      print('common_elements [List 2,3]:',len(users_stocks_investing))\n",
    "      #print('common_elements:',users_stocks_investing)  \n",
    "      users = set(list1) & set(list2) & set(list3)\n",
    "      print('common_elements [List 1,2,3]:',len(users))\n",
    "      #print('common_elements:',users)\n",
    "      return list(users)"
   ]
  },
  {
   "cell_type": "code",
   "execution_count": null,
   "metadata": {
    "id": "Qj5lZMoeqw1A"
   },
   "outputs": [],
   "source": [
    "topics_over_time = topic_model.topics_over_time(docs=titles[0:50000], \n",
    "                                                topics=topics, \n",
    "                                                timestamps=timestamps[0:50000], \n",
    "                                                global_tuning=True, \n",
    "                                                evolution_tuning=True, \n",
    "                                                nr_bins=20)\n",
    "topic_model.visualize_topics_over_time(topics_over_time, top_n_topics=10)"
   ]
  },
  {
   "cell_type": "code",
   "execution_count": null,
   "metadata": {
    "id": "ZpOPEzGJ35ku"
   },
   "outputs": [],
   "source": [
    "## Function to get common topics across all subreddits\n",
    "def get_common_topics(topics1,topics2,topics3={}, common_words_nr= 5):\n",
    "  # get list of words for each topic \n",
    "  # intersect operation on list of words of two topics\n",
    "  # if intersection has atlest 1 or 2 common words : topic is same\n",
    "  # add it to list of common topics : dictionary - {topic1: [word1,word2], topic2: [word1,word2] }\n",
    "  common_topics = {}\n",
    "  count = 0\n",
    "  print('Topics in 1:'+ str(len(topics1.items())))\n",
    "  print('Topics in 2:'+ str(len(topics2.items())))\n",
    "  if topics3:\n",
    "      print('Topics in 3:'+ str(len(topics3.items())))\n",
    "  for topic,word_lst1 in topics1.items():\n",
    "    topic_words = list(map(lambda x: x[0], word_lst1))\n",
    "    #print(topic_words)\n",
    "   \n",
    "    for topic2,word_lst2 in topics2.items():\n",
    "      topic2_words =  list(map(lambda x: x[0], word_lst2))\n",
    "      #print(topic2_words)\n",
    "      if topics3:        \n",
    "        for topic3,word_lst3 in topics3.items():\n",
    "          topic3_words =  list(map(lambda x: x[0], word_lst3))\n",
    "          common_words = set(topic_words) & set(topic2_words) & set(topic3_words)\n",
    "          if len(list(common_words)) > common_words_nr:\n",
    "              print(common_words)\n",
    "              count = count + 1\n",
    "              common_topics['total'] = count \n",
    "              common_topics[topic]= topic_words\n",
    "              #common_topics[topic]= word_lst1\n",
    "              continue\n",
    "              continue\n",
    "              continue\n",
    "          \n",
    "      else:\n",
    "        common_words = set(topic_words) & set(topic2_words)\n",
    "        #print(list(common_words))\n",
    "        #print(len(list(common_words)))\n",
    "        \n",
    "        if len(list(common_words)) > common_words_nr:\n",
    "              print(common_words)\n",
    "              count = count + 1\n",
    "              common_topics['total'] = count \n",
    "              common_topics[topic]= topic_words\n",
    "              #common_topics[topic]= word_lst1\n",
    "              continue\n",
    "              continue\n",
    "  return common_topics"
   ]
  },
  {
   "cell_type": "code",
   "execution_count": null,
   "metadata": {
    "id": "fK8Nx5z1Uxc3"
   },
   "outputs": [],
   "source": [
    "investing_post = BERTopic.load(\"/content/drive/MyDrive/investing/investing_Post_BERTopic_DTM_30\")\n",
    "investing_pre = BERTopic.load(\"/content/drive/MyDrive/investing/investing_Pre_BERTopic_DTM_30\")"
   ]
  },
  {
   "cell_type": "code",
   "execution_count": null,
   "metadata": {
    "id": "hlImj-USrCpZ"
   },
   "outputs": [],
   "source": [
    "wsb_post = BERTopic.load(\"/content/drive/MyDrive/WSB/WSB_Post_BERTopic_DTM_30\")\n",
    "wsb_pre = BERTopic.load(\"/content/drive/MyDrive/WSB/WSB_Pre_BERTopic_DTM_30\")"
   ]
  },
  {
   "cell_type": "code",
   "execution_count": null,
   "metadata": {
    "id": "OKI_Cu9O5FHn"
   },
   "outputs": [],
   "source": [
    "stocks_pre = BERTopic.load(\"/content/drive/MyDrive/stocks/Stocks_Pre_BERTopic_DTM_30\")\n",
    "stocks_post = BERTopic.load(\"/content/drive/MyDrive/stocks/Stocks_Post_BERTopic_DTM_30\")"
   ]
  },
  {
   "cell_type": "code",
   "execution_count": null,
   "metadata": {
    "colab": {
     "base_uri": "https://localhost:8080/"
    },
    "id": "K9zYUad9RkjV",
    "outputId": "927c245e-ca69-40e1-ccbd-15c5fe2364b6"
   },
   "outputs": [],
   "source": [
    "print(get_common_topics(wsb_post.get_topics(),investing_post.get_topics()))"
   ]
  },
  {
   "cell_type": "code",
   "execution_count": null,
   "metadata": {
    "colab": {
     "base_uri": "https://localhost:8080/"
    },
    "id": "4HyL7DV_rgTI",
    "outputId": "77bbcc08-c6b6-4c43-ffe6-8a886c210430"
   },
   "outputs": [],
   "source": [
    "print(get_common_topics(wsb_post.get_topics(),wsb_pre.get_topics()))"
   ]
  },
  {
   "cell_type": "code",
   "execution_count": null,
   "metadata": {
    "colab": {
     "base_uri": "https://localhost:8080/"
    },
    "id": "JqWDV-NIrhTm",
    "outputId": "f232b3ed-2397-45f4-dbfa-2429765e2ed2"
   },
   "outputs": [],
   "source": [
    "print(get_common_topics(investing_pre.get_topics(),investing_post.get_topics()))"
   ]
  },
  {
   "cell_type": "code",
   "execution_count": null,
   "metadata": {
    "colab": {
     "base_uri": "https://localhost:8080/"
    },
    "id": "PN1hyvQ8rnOt",
    "outputId": "c7c8be88-2610-4687-da0b-1b59df3e7ecd"
   },
   "outputs": [],
   "source": [
    "print(get_common_topics(stocks_pre.get_topics(),stocks_post.get_topics()))"
   ]
  },
  {
   "cell_type": "code",
   "execution_count": null,
   "metadata": {
    "colab": {
     "base_uri": "https://localhost:8080/",
     "height": 0
    },
    "id": "hhp1qMYerwAA",
    "outputId": "2c3e74cc-daa0-484e-d7e0-fb863c37a91b"
   },
   "outputs": [],
   "source": [
    "print(get_common_topics(wsb_pre.get_topics(),investing_pre.get_topics(),stocks_pre.get_topics()))"
   ]
  },
  {
   "cell_type": "code",
   "execution_count": null,
   "metadata": {
    "id": "-uYk_uHovVf2"
   },
   "outputs": [],
   "source": [
    "print(get_common_topics(wsb_post.get_topics(),investing_post.get_topics(),stocks_post.get_topics()))"
   ]
  },
  {
   "cell_type": "markdown",
   "metadata": {
    "id": "HFM4vOMdsaQB"
   },
   "source": [
    "## Embeddings"
   ]
  },
  {
   "cell_type": "markdown",
   "metadata": {
    "id": "r7DwXafzVGM_"
   },
   "source": [
    "## Analyse how contexts of a word change over time (e.g. temporal word embeddings, HistWords)"
   ]
  },
  {
   "cell_type": "code",
   "execution_count": null,
   "metadata": {
    "id": "IVbt3Ayb4oA8"
   },
   "outputs": [],
   "source": [
    "#sentence, spacy embedding of titles: pre vs post"
   ]
  },
  {
   "cell_type": "markdown",
   "metadata": {
    "id": "kSd9j1qFVJkS"
   },
   "source": [
    "## If so, which changes are observable? (usage of emojis, choice of words)"
   ]
  },
  {
   "cell_type": "code",
   "execution_count": null,
   "metadata": {
    "id": "VE1pvYA44qcu"
   },
   "outputs": [],
   "source": [
    "# top emojis, words: pre vs post"
   ]
  },
  {
   "cell_type": "markdown",
   "metadata": {
    "id": "FKLxo3UkVMv5"
   },
   "source": [
    "## Are new users using old WSB patterns inflationary?"
   ]
  },
  {
   "cell_type": "code",
   "execution_count": 11,
   "metadata": {},
   "outputs": [],
   "source": [
    "stocks = pd.read_csv('stocks/data/stocks_submissions_all.csv',sep=';')\n"
   ]
  },
  {
   "cell_type": "code",
   "execution_count": 14,
   "metadata": {},
   "outputs": [
    {
     "name": "stderr",
     "output_type": "stream",
     "text": [
      "C:\\Users\\96ank\\AppData\\Local\\Continuum\\anaconda3\\lib\\site-packages\\IPython\\core\\interactiveshell.py:3326: DtypeWarning: Columns (1,5) have mixed types.Specify dtype option on import or set low_memory=False.\n",
      "  exec(code_obj, self.user_global_ns, self.user_ns)\n"
     ]
    }
   ],
   "source": [
    "investing= pd.read_csv('investing/data/investing_submissions_all.csv',sep=';')"
   ]
  },
  {
   "cell_type": "code",
   "execution_count": null,
   "metadata": {},
   "outputs": [],
   "source": [
    "common_users= {'folkwoodswest', 'bearsgotoalaskanstfu', 'learner4f', 'ilikelucy1', 'CIARRAPUNGI', 'automax', 'hhh888hhhh', 'Hard_working247', 'WhichEdge', 'slow_down_more',\n",
    "                  'hello-world-foo-bar', 'stillness0072', 'Slim-JayS', 'Griffin90', 'QuadraDGoesReddit', 'TheStonksHub', 'MountainsMan55', 'KingTimKap', 'BenDoverR8Now'}"
   ]
  },
  {
   "cell_type": "code",
   "execution_count": null,
   "metadata": {},
   "outputs": [],
   "source": [
    "# overall top common users\n",
    "common_users= {'moazzam0', 'ogordained', 'nafizzaki', 'seebz69', 'Michael12390', 'rawrtherapybackup'}\n",
    "\n",
    "#for user in list(common_users):\n",
    "wsb_[wsb_['author'] =='automax']['title']"
   ]
  },
  {
   "cell_type": "code",
   "execution_count": null,
   "metadata": {},
   "outputs": [],
   "source": [
    "wsb_[wsb_['author'] =='folkwoodswest']['title'].tolist()"
   ]
  },
  {
   "cell_type": "code",
   "execution_count": null,
   "metadata": {},
   "outputs": [],
   "source": [
    "stocks[stocks['author'] =='folkwoodswest']['title'].tolist()"
   ]
  },
  {
   "cell_type": "code",
   "execution_count": null,
   "metadata": {},
   "outputs": [],
   "source": [
    "investing[investing['author'] =='folkwoodswest']['title'].tolist()"
   ]
  },
  {
   "cell_type": "code",
   "execution_count": 15,
   "metadata": {},
   "outputs": [],
   "source": [
    "## create datasets of common users\n",
    "wsb_users = wsb_['author'].unique().tolist()\n",
    "stocks_users = stocks['author'].unique().tolist()\n",
    "investing_users = investing['author'].unique().tolist()"
   ]
  },
  {
   "cell_type": "code",
   "execution_count": 16,
   "metadata": {},
   "outputs": [
    {
     "data": {
      "text/plain": [
       "396127"
      ]
     },
     "execution_count": 16,
     "metadata": {},
     "output_type": "execute_result"
    }
   ],
   "source": [
    "len(wsb_users)"
   ]
  },
  {
   "cell_type": "code",
   "execution_count": 17,
   "metadata": {},
   "outputs": [
    {
     "data": {
      "text/plain": [
       "84609"
      ]
     },
     "execution_count": 17,
     "metadata": {},
     "output_type": "execute_result"
    }
   ],
   "source": [
    "len(stocks_users)"
   ]
  },
  {
   "cell_type": "code",
   "execution_count": 18,
   "metadata": {},
   "outputs": [
    {
     "data": {
      "text/plain": [
       "73952"
      ]
     },
     "execution_count": 18,
     "metadata": {},
     "output_type": "execute_result"
    }
   ],
   "source": [
    "len(investing_users)"
   ]
  },
  {
   "cell_type": "code",
   "execution_count": 24,
   "metadata": {},
   "outputs": [
    {
     "name": "stdout",
     "output_type": "stream",
     "text": [
      "Elements in List 1: 396127\n",
      "Elements in List 2: 84609\n",
      "common_elements [List 1,2]: 21271\n",
      "Elements in List 3: 73952\n",
      "common_elements [List 1,3]: 16413\n",
      "common_elements [List 2,3]: 13964\n",
      "common_elements [List 1,2,3]: 5637\n"
     ]
    }
   ],
   "source": [
    "common_users = common_elements(wsb_users,stocks_users,investing_users)"
   ]
  },
  {
   "cell_type": "code",
   "execution_count": 26,
   "metadata": {},
   "outputs": [],
   "source": [
    "\n",
    "wsb_common_users_data = wsb_[wsb_['author'].isin(common_users)]\n",
    "stocks_common_users_data = stocks[stocks['author'].isin(common_users)]\n",
    "investing_common_users_data = investing[investing['author'].isin(common_users)]"
   ]
  },
  {
   "cell_type": "code",
   "execution_count": 27,
   "metadata": {},
   "outputs": [
    {
     "data": {
      "text/html": [
       "<div>\n",
       "<style scoped>\n",
       "    .dataframe tbody tr th:only-of-type {\n",
       "        vertical-align: middle;\n",
       "    }\n",
       "\n",
       "    .dataframe tbody tr th {\n",
       "        vertical-align: top;\n",
       "    }\n",
       "\n",
       "    .dataframe thead th {\n",
       "        text-align: right;\n",
       "    }\n",
       "</style>\n",
       "<table border=\"1\" class=\"dataframe\">\n",
       "  <thead>\n",
       "    <tr style=\"text-align: right;\">\n",
       "      <th></th>\n",
       "      <th>Unnamed: 0</th>\n",
       "      <th>created_utc</th>\n",
       "      <th>SegmentID</th>\n",
       "      <th>author</th>\n",
       "      <th>id</th>\n",
       "      <th>link_flair_text</th>\n",
       "      <th>num_comments</th>\n",
       "      <th>score</th>\n",
       "      <th>subreddit_subscribers</th>\n",
       "      <th>selftext</th>\n",
       "      <th>title</th>\n",
       "      <th>upvote_ratio</th>\n",
       "      <th>embedding</th>\n",
       "      <th>bigram</th>\n",
       "      <th>trigram</th>\n",
       "      <th>four-gram</th>\n",
       "      <th>five-gram</th>\n",
       "      <th>year</th>\n",
       "      <th>date</th>\n",
       "    </tr>\n",
       "  </thead>\n",
       "  <tbody>\n",
       "    <tr>\n",
       "      <th>9</th>\n",
       "      <td>9</td>\n",
       "      <td>2021-10-19 17:46:46</td>\n",
       "      <td>9</td>\n",
       "      <td>Sciencetist</td>\n",
       "      <td>qbgrz6</td>\n",
       "      <td>DD</td>\n",
       "      <td>1</td>\n",
       "      <td>1</td>\n",
       "      <td>10967058</td>\n",
       "      <td>What up, nerds? Long time no post. I come bear...</td>\n",
       "      <td>Don't Be A Menace To Hedge Funds By Squeezing ...</td>\n",
       "      <td>1.0</td>\n",
       "      <td>[0.13588201999664307, -0.32027190923690796, -0...</td>\n",
       "      <td>[Hedge Funds, $HOOD]</td>\n",
       "      <td>[Menace To Hedge, Funds By Squeezing, Squeezin...</td>\n",
       "      <td>[Menace To Hedge Funds, Hedge Funds By Squeezi...</td>\n",
       "      <td>[Funds By Squeezing Their Shorts, Squeezing Th...</td>\n",
       "      <td>2021</td>\n",
       "      <td>2021-10-19</td>\n",
       "    </tr>\n",
       "    <tr>\n",
       "      <th>16</th>\n",
       "      <td>16</td>\n",
       "      <td>2021-10-19 17:41:55</td>\n",
       "      <td>16</td>\n",
       "      <td>Lost-Guarantee229</td>\n",
       "      <td>qbgo6x</td>\n",
       "      <td>DD</td>\n",
       "      <td>0</td>\n",
       "      <td>1</td>\n",
       "      <td>10967049</td>\n",
       "      <td>As many of you know, [$TSLA - Tesla](https://u...</td>\n",
       "      <td>TSLA Earnings Prediction: They beat estimates,...</td>\n",
       "      <td>1.0</td>\n",
       "      <td>[-0.3805695176124573, -0.3852122128009796, -0....</td>\n",
       "      <td>[TSLA Earnings, Earnings Prediction, beat esti...</td>\n",
       "      <td>[TSLA Earnings Prediction]</td>\n",
       "      <td>[]</td>\n",
       "      <td>[]</td>\n",
       "      <td>2021</td>\n",
       "      <td>2021-10-19</td>\n",
       "    </tr>\n",
       "    <tr>\n",
       "      <th>24</th>\n",
       "      <td>24</td>\n",
       "      <td>2021-10-19 17:35:43</td>\n",
       "      <td>24</td>\n",
       "      <td>Desperate-invest-56</td>\n",
       "      <td>qbgja6</td>\n",
       "      <td>Gain</td>\n",
       "      <td>0</td>\n",
       "      <td>1</td>\n",
       "      <td>10967030</td>\n",
       "      <td>NaN</td>\n",
       "      <td>$ADXS continue to buy more and gain more</td>\n",
       "      <td>1.0</td>\n",
       "      <td>[-0.020925845950841904, 0.01783006079494953, 0...</td>\n",
       "      <td>[$ADXS, ADXS continue]</td>\n",
       "      <td>[$ADXS continue, continue to buy]</td>\n",
       "      <td>[ADXS continue to buy, buy more and gain]</td>\n",
       "      <td>[$ADXS continue to buy]</td>\n",
       "      <td>2021</td>\n",
       "      <td>2021-10-19</td>\n",
       "    </tr>\n",
       "    <tr>\n",
       "      <th>69</th>\n",
       "      <td>69</td>\n",
       "      <td>2021-10-19 16:42:31</td>\n",
       "      <td>69</td>\n",
       "      <td>el_gato14</td>\n",
       "      <td>qbffb6</td>\n",
       "      <td>Discussion</td>\n",
       "      <td>0</td>\n",
       "      <td>1</td>\n",
       "      <td>10966837</td>\n",
       "      <td>Do you guys play his call outs too? I mean I c...</td>\n",
       "      <td>Do you guys follow zack Morris also?</td>\n",
       "      <td>1.0</td>\n",
       "      <td>[0.1666419506072998, -0.5782673954963684, -0.0...</td>\n",
       "      <td>[guys follow, follow zack, zack Morris]</td>\n",
       "      <td>[guys follow zack, follow zack Morris]</td>\n",
       "      <td>[guys follow zack Morris]</td>\n",
       "      <td>[]</td>\n",
       "      <td>2021</td>\n",
       "      <td>2021-10-19</td>\n",
       "    </tr>\n",
       "    <tr>\n",
       "      <th>74</th>\n",
       "      <td>74</td>\n",
       "      <td>2021-10-19 16:38:40</td>\n",
       "      <td>74</td>\n",
       "      <td>Postoaster</td>\n",
       "      <td>qbfcfl</td>\n",
       "      <td>Loss</td>\n",
       "      <td>0</td>\n",
       "      <td>1</td>\n",
       "      <td>10966829</td>\n",
       "      <td>NaN</td>\n",
       "      <td>What saith thou of my portfolio’th</td>\n",
       "      <td>1.0</td>\n",
       "      <td>[0.02445914037525654, 0.19092664122581482, -0....</td>\n",
       "      <td>[saith thou]</td>\n",
       "      <td>[]</td>\n",
       "      <td>[thou of my portfolio’th]</td>\n",
       "      <td>[saith thou of my portfolio’th]</td>\n",
       "      <td>2021</td>\n",
       "      <td>2021-10-19</td>\n",
       "    </tr>\n",
       "  </tbody>\n",
       "</table>\n",
       "</div>"
      ],
      "text/plain": [
       "    Unnamed: 0          created_utc  SegmentID               author      id  \\\n",
       "9            9  2021-10-19 17:46:46          9          Sciencetist  qbgrz6   \n",
       "16          16  2021-10-19 17:41:55         16    Lost-Guarantee229  qbgo6x   \n",
       "24          24  2021-10-19 17:35:43         24  Desperate-invest-56  qbgja6   \n",
       "69          69  2021-10-19 16:42:31         69            el_gato14  qbffb6   \n",
       "74          74  2021-10-19 16:38:40         74           Postoaster  qbfcfl   \n",
       "\n",
       "   link_flair_text  num_comments  score  subreddit_subscribers  \\\n",
       "9               DD             1      1               10967058   \n",
       "16              DD             0      1               10967049   \n",
       "24            Gain             0      1               10967030   \n",
       "69      Discussion             0      1               10966837   \n",
       "74            Loss             0      1               10966829   \n",
       "\n",
       "                                             selftext  \\\n",
       "9   What up, nerds? Long time no post. I come bear...   \n",
       "16  As many of you know, [$TSLA - Tesla](https://u...   \n",
       "24                                                NaN   \n",
       "69  Do you guys play his call outs too? I mean I c...   \n",
       "74                                                NaN   \n",
       "\n",
       "                                                title  upvote_ratio  \\\n",
       "9   Don't Be A Menace To Hedge Funds By Squeezing ...           1.0   \n",
       "16  TSLA Earnings Prediction: They beat estimates,...           1.0   \n",
       "24           $ADXS continue to buy more and gain more           1.0   \n",
       "69               Do you guys follow zack Morris also?           1.0   \n",
       "74                 What saith thou of my portfolio’th           1.0   \n",
       "\n",
       "                                            embedding  \\\n",
       "9   [0.13588201999664307, -0.32027190923690796, -0...   \n",
       "16  [-0.3805695176124573, -0.3852122128009796, -0....   \n",
       "24  [-0.020925845950841904, 0.01783006079494953, 0...   \n",
       "69  [0.1666419506072998, -0.5782673954963684, -0.0...   \n",
       "74  [0.02445914037525654, 0.19092664122581482, -0....   \n",
       "\n",
       "                                               bigram  \\\n",
       "9                                [Hedge Funds, $HOOD]   \n",
       "16  [TSLA Earnings, Earnings Prediction, beat esti...   \n",
       "24                             [$ADXS, ADXS continue]   \n",
       "69            [guys follow, follow zack, zack Morris]   \n",
       "74                                       [saith thou]   \n",
       "\n",
       "                                              trigram  \\\n",
       "9   [Menace To Hedge, Funds By Squeezing, Squeezin...   \n",
       "16                         [TSLA Earnings Prediction]   \n",
       "24                  [$ADXS continue, continue to buy]   \n",
       "69             [guys follow zack, follow zack Morris]   \n",
       "74                                                 []   \n",
       "\n",
       "                                            four-gram  \\\n",
       "9   [Menace To Hedge Funds, Hedge Funds By Squeezi...   \n",
       "16                                                 []   \n",
       "24          [ADXS continue to buy, buy more and gain]   \n",
       "69                          [guys follow zack Morris]   \n",
       "74                          [thou of my portfolio’th]   \n",
       "\n",
       "                                            five-gram  year        date  \n",
       "9   [Funds By Squeezing Their Shorts, Squeezing Th...  2021  2021-10-19  \n",
       "16                                                 []  2021  2021-10-19  \n",
       "24                            [$ADXS continue to buy]  2021  2021-10-19  \n",
       "69                                                 []  2021  2021-10-19  \n",
       "74                    [saith thou of my portfolio’th]  2021  2021-10-19  "
      ]
     },
     "execution_count": 27,
     "metadata": {},
     "output_type": "execute_result"
    }
   ],
   "source": [
    "wsb_common_users_data.head()"
   ]
  },
  {
   "cell_type": "code",
   "execution_count": 28,
   "metadata": {},
   "outputs": [],
   "source": [
    "wsb_common_users_data.to_csv(\"data/wsb_common_users_data.csv\",sep=';',index=False)"
   ]
  },
  {
   "cell_type": "code",
   "execution_count": 29,
   "metadata": {},
   "outputs": [],
   "source": [
    "stocks_common_users_data.to_csv(\"data/stocks_common_users_data.csv\",sep=';',index=False)"
   ]
  },
  {
   "cell_type": "code",
   "execution_count": 30,
   "metadata": {},
   "outputs": [],
   "source": [
    "investing_common_users_data.to_csv(\"data/investing_common_users_data.csv\",sep=';',index=False)"
   ]
  },
  {
   "cell_type": "code",
   "execution_count": null,
   "metadata": {},
   "outputs": [],
   "source": []
  }
 ],
 "metadata": {
  "colab": {
   "collapsed_sections": [
    "Z6S_EDQzsaPY",
    "BIGsPAqysaPZ",
    "-m_PdHujsaPc",
    "xuizsv1SsaPf",
    "gftWMzNisaPi",
    "zpbyX_DrsaPq",
    "SvCUoNFSsaPx",
    "ELckNBrPVd1c",
    "1_VLMK_qfRNk",
    "iDl1062psaP9",
    "pTqOTMrEsaP_",
    "hlxxYy9PGIjr"
   ],
   "name": "Temporal_Analysis_Pre_vs_post_hype_comparison.ipynb",
   "provenance": []
  },
  "kernelspec": {
   "display_name": "Python 3",
   "language": "python",
   "name": "python3"
  },
  "language_info": {
   "codemirror_mode": {
    "name": "ipython",
    "version": 3
   },
   "file_extension": ".py",
   "mimetype": "text/x-python",
   "name": "python",
   "nbconvert_exporter": "python",
   "pygments_lexer": "ipython3",
   "version": "3.7.4"
  },
  "widgets": {
   "application/vnd.jupyter.widget-state+json": {
    "0626355c8bea452b9cffc4e42a4c6258": {
     "model_module": "@jupyter-widgets/base",
     "model_module_version": "1.2.0",
     "model_name": "LayoutModel",
     "state": {
      "_model_module": "@jupyter-widgets/base",
      "_model_module_version": "1.2.0",
      "_model_name": "LayoutModel",
      "_view_count": null,
      "_view_module": "@jupyter-widgets/base",
      "_view_module_version": "1.2.0",
      "_view_name": "LayoutView",
      "align_content": null,
      "align_items": null,
      "align_self": null,
      "border": null,
      "bottom": null,
      "display": null,
      "flex": null,
      "flex_flow": null,
      "grid_area": null,
      "grid_auto_columns": null,
      "grid_auto_flow": null,
      "grid_auto_rows": null,
      "grid_column": null,
      "grid_gap": null,
      "grid_row": null,
      "grid_template_areas": null,
      "grid_template_columns": null,
      "grid_template_rows": null,
      "height": null,
      "justify_content": null,
      "justify_items": null,
      "left": null,
      "margin": null,
      "max_height": null,
      "max_width": null,
      "min_height": null,
      "min_width": null,
      "object_fit": null,
      "object_position": null,
      "order": null,
      "overflow": null,
      "overflow_x": null,
      "overflow_y": null,
      "padding": null,
      "right": null,
      "top": null,
      "visibility": null,
      "width": null
     }
    },
    "18a5fca88984453a88eb5834e11e30c5": {
     "model_module": "@jupyter-widgets/controls",
     "model_module_version": "1.5.0",
     "model_name": "ProgressStyleModel",
     "state": {
      "_model_module": "@jupyter-widgets/controls",
      "_model_module_version": "1.5.0",
      "_model_name": "ProgressStyleModel",
      "_view_count": null,
      "_view_module": "@jupyter-widgets/base",
      "_view_module_version": "1.2.0",
      "_view_name": "StyleView",
      "bar_color": null,
      "description_width": ""
     }
    },
    "3d235cf2eabc4b6e8ed394b0f58bfd6c": {
     "model_module": "@jupyter-widgets/base",
     "model_module_version": "1.2.0",
     "model_name": "LayoutModel",
     "state": {
      "_model_module": "@jupyter-widgets/base",
      "_model_module_version": "1.2.0",
      "_model_name": "LayoutModel",
      "_view_count": null,
      "_view_module": "@jupyter-widgets/base",
      "_view_module_version": "1.2.0",
      "_view_name": "LayoutView",
      "align_content": null,
      "align_items": null,
      "align_self": null,
      "border": null,
      "bottom": null,
      "display": null,
      "flex": null,
      "flex_flow": null,
      "grid_area": null,
      "grid_auto_columns": null,
      "grid_auto_flow": null,
      "grid_auto_rows": null,
      "grid_column": null,
      "grid_gap": null,
      "grid_row": null,
      "grid_template_areas": null,
      "grid_template_columns": null,
      "grid_template_rows": null,
      "height": null,
      "justify_content": null,
      "justify_items": null,
      "left": null,
      "margin": null,
      "max_height": null,
      "max_width": null,
      "min_height": null,
      "min_width": null,
      "object_fit": null,
      "object_position": null,
      "order": null,
      "overflow": null,
      "overflow_x": null,
      "overflow_y": null,
      "padding": null,
      "right": null,
      "top": null,
      "visibility": null,
      "width": null
     }
    },
    "40b207823c8d4e028535ab1b9eb3e4f3": {
     "model_module": "@jupyter-widgets/controls",
     "model_module_version": "1.5.0",
     "model_name": "FloatProgressModel",
     "state": {
      "_dom_classes": [],
      "_model_module": "@jupyter-widgets/controls",
      "_model_module_version": "1.5.0",
      "_model_name": "FloatProgressModel",
      "_view_count": null,
      "_view_module": "@jupyter-widgets/controls",
      "_view_module_version": "1.5.0",
      "_view_name": "ProgressView",
      "bar_style": "success",
      "description": "",
      "description_tooltip": null,
      "layout": "IPY_MODEL_51409d12889d4ed9a55ab0048188812f",
      "max": 3125,
      "min": 0,
      "orientation": "horizontal",
      "style": "IPY_MODEL_18a5fca88984453a88eb5834e11e30c5",
      "value": 3125
     }
    },
    "42b826e93f214390ab961745f993c372": {
     "model_module": "@jupyter-widgets/controls",
     "model_module_version": "1.5.0",
     "model_name": "HBoxModel",
     "state": {
      "_dom_classes": [],
      "_model_module": "@jupyter-widgets/controls",
      "_model_module_version": "1.5.0",
      "_model_name": "HBoxModel",
      "_view_count": null,
      "_view_module": "@jupyter-widgets/controls",
      "_view_module_version": "1.5.0",
      "_view_name": "HBoxView",
      "box_style": "",
      "children": [
       "IPY_MODEL_a114c35495434abf96761c06af98438b",
       "IPY_MODEL_40b207823c8d4e028535ab1b9eb3e4f3",
       "IPY_MODEL_bd5fe21f94574fa189e8b75b89c79625"
      ],
      "layout": "IPY_MODEL_be9db9385c6e48dd8b5207b4c41eaa05"
     }
    },
    "51409d12889d4ed9a55ab0048188812f": {
     "model_module": "@jupyter-widgets/base",
     "model_module_version": "1.2.0",
     "model_name": "LayoutModel",
     "state": {
      "_model_module": "@jupyter-widgets/base",
      "_model_module_version": "1.2.0",
      "_model_name": "LayoutModel",
      "_view_count": null,
      "_view_module": "@jupyter-widgets/base",
      "_view_module_version": "1.2.0",
      "_view_name": "LayoutView",
      "align_content": null,
      "align_items": null,
      "align_self": null,
      "border": null,
      "bottom": null,
      "display": null,
      "flex": null,
      "flex_flow": null,
      "grid_area": null,
      "grid_auto_columns": null,
      "grid_auto_flow": null,
      "grid_auto_rows": null,
      "grid_column": null,
      "grid_gap": null,
      "grid_row": null,
      "grid_template_areas": null,
      "grid_template_columns": null,
      "grid_template_rows": null,
      "height": null,
      "justify_content": null,
      "justify_items": null,
      "left": null,
      "margin": null,
      "max_height": null,
      "max_width": null,
      "min_height": null,
      "min_width": null,
      "object_fit": null,
      "object_position": null,
      "order": null,
      "overflow": null,
      "overflow_x": null,
      "overflow_y": null,
      "padding": null,
      "right": null,
      "top": null,
      "visibility": null,
      "width": null
     }
    },
    "9cf92513b65942b3a111a958965fd849": {
     "model_module": "@jupyter-widgets/controls",
     "model_module_version": "1.5.0",
     "model_name": "DescriptionStyleModel",
     "state": {
      "_model_module": "@jupyter-widgets/controls",
      "_model_module_version": "1.5.0",
      "_model_name": "DescriptionStyleModel",
      "_view_count": null,
      "_view_module": "@jupyter-widgets/base",
      "_view_module_version": "1.2.0",
      "_view_name": "StyleView",
      "description_width": ""
     }
    },
    "a114c35495434abf96761c06af98438b": {
     "model_module": "@jupyter-widgets/controls",
     "model_module_version": "1.5.0",
     "model_name": "HTMLModel",
     "state": {
      "_dom_classes": [],
      "_model_module": "@jupyter-widgets/controls",
      "_model_module_version": "1.5.0",
      "_model_name": "HTMLModel",
      "_view_count": null,
      "_view_module": "@jupyter-widgets/controls",
      "_view_module_version": "1.5.0",
      "_view_name": "HTMLView",
      "description": "",
      "description_tooltip": null,
      "layout": "IPY_MODEL_3d235cf2eabc4b6e8ed394b0f58bfd6c",
      "placeholder": "​",
      "style": "IPY_MODEL_ec23cd8eea2f4374a75f9a975a469354",
      "value": "Batches: 100%"
     }
    },
    "bd5fe21f94574fa189e8b75b89c79625": {
     "model_module": "@jupyter-widgets/controls",
     "model_module_version": "1.5.0",
     "model_name": "HTMLModel",
     "state": {
      "_dom_classes": [],
      "_model_module": "@jupyter-widgets/controls",
      "_model_module_version": "1.5.0",
      "_model_name": "HTMLModel",
      "_view_count": null,
      "_view_module": "@jupyter-widgets/controls",
      "_view_module_version": "1.5.0",
      "_view_name": "HTMLView",
      "description": "",
      "description_tooltip": null,
      "layout": "IPY_MODEL_0626355c8bea452b9cffc4e42a4c6258",
      "placeholder": "​",
      "style": "IPY_MODEL_9cf92513b65942b3a111a958965fd849",
      "value": " 3125/3125 [19:35&lt;00:00, 12.02it/s]"
     }
    },
    "be9db9385c6e48dd8b5207b4c41eaa05": {
     "model_module": "@jupyter-widgets/base",
     "model_module_version": "1.2.0",
     "model_name": "LayoutModel",
     "state": {
      "_model_module": "@jupyter-widgets/base",
      "_model_module_version": "1.2.0",
      "_model_name": "LayoutModel",
      "_view_count": null,
      "_view_module": "@jupyter-widgets/base",
      "_view_module_version": "1.2.0",
      "_view_name": "LayoutView",
      "align_content": null,
      "align_items": null,
      "align_self": null,
      "border": null,
      "bottom": null,
      "display": null,
      "flex": null,
      "flex_flow": null,
      "grid_area": null,
      "grid_auto_columns": null,
      "grid_auto_flow": null,
      "grid_auto_rows": null,
      "grid_column": null,
      "grid_gap": null,
      "grid_row": null,
      "grid_template_areas": null,
      "grid_template_columns": null,
      "grid_template_rows": null,
      "height": null,
      "justify_content": null,
      "justify_items": null,
      "left": null,
      "margin": null,
      "max_height": null,
      "max_width": null,
      "min_height": null,
      "min_width": null,
      "object_fit": null,
      "object_position": null,
      "order": null,
      "overflow": null,
      "overflow_x": null,
      "overflow_y": null,
      "padding": null,
      "right": null,
      "top": null,
      "visibility": null,
      "width": null
     }
    },
    "ec23cd8eea2f4374a75f9a975a469354": {
     "model_module": "@jupyter-widgets/controls",
     "model_module_version": "1.5.0",
     "model_name": "DescriptionStyleModel",
     "state": {
      "_model_module": "@jupyter-widgets/controls",
      "_model_module_version": "1.5.0",
      "_model_name": "DescriptionStyleModel",
      "_view_count": null,
      "_view_module": "@jupyter-widgets/base",
      "_view_module_version": "1.2.0",
      "_view_name": "StyleView",
      "description_width": ""
     }
    }
   }
  }
 },
 "nbformat": 4,
 "nbformat_minor": 4
}
