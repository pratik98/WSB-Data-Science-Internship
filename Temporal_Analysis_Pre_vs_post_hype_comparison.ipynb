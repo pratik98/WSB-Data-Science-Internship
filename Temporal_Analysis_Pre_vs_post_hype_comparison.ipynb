{
 "cells": [
  {
   "cell_type": "markdown",
   "metadata": {
    "id": "roBz7ncGVAFM"
   },
   "source": [
    "# Has the language changed after the hype?"
   ]
  },
  {
   "cell_type": "code",
   "execution_count": 1,
   "metadata": {
    "id": "qgKHQl3LHmuz"
   },
   "outputs": [],
   "source": [
    "%%capture\n",
    "from datetime import datetime\n",
    "import matplotlib.pyplot as plt\n",
    "import numpy as np\n",
    "import pandas as pd\n",
    "\n",
    "plt.rcParams.update({\"font.size\": 12})\n",
    "%matplotlib inline"
   ]
  },
  {
   "cell_type": "code",
   "execution_count": 2,
   "metadata": {
    "colab": {
     "base_uri": "https://localhost:8080/",
     "height": 314
    },
    "id": "0r6LgfUyVXe_",
    "outputId": "9c3fb30e-c6c4-4a1e-905c-35f622463f1f"
   },
   "outputs": [],
   "source": [
    "# load datasets\n",
    "#wsb = pd.read_csv('data/WSB_submissions_all.csv',sep=';')\n",
    "#wsb.head(2)"
   ]
  },
  {
   "cell_type": "code",
   "execution_count": 3,
   "metadata": {},
   "outputs": [
    {
     "data": {
      "text/html": [
       "<div>\n",
       "<style scoped>\n",
       "    .dataframe tbody tr th:only-of-type {\n",
       "        vertical-align: middle;\n",
       "    }\n",
       "\n",
       "    .dataframe tbody tr th {\n",
       "        vertical-align: top;\n",
       "    }\n",
       "\n",
       "    .dataframe thead th {\n",
       "        text-align: right;\n",
       "    }\n",
       "</style>\n",
       "<table border=\"1\" class=\"dataframe\">\n",
       "  <thead>\n",
       "    <tr style=\"text-align: right;\">\n",
       "      <th></th>\n",
       "      <th>Unnamed: 0</th>\n",
       "      <th>created_utc</th>\n",
       "      <th>SegmentID</th>\n",
       "      <th>author</th>\n",
       "      <th>id</th>\n",
       "      <th>link_flair_text</th>\n",
       "      <th>num_comments</th>\n",
       "      <th>score</th>\n",
       "      <th>subreddit_subscribers</th>\n",
       "      <th>selftext</th>\n",
       "      <th>title</th>\n",
       "      <th>upvote_ratio</th>\n",
       "      <th>embedding</th>\n",
       "      <th>bigram</th>\n",
       "      <th>trigram</th>\n",
       "      <th>four-gram</th>\n",
       "      <th>five-gram</th>\n",
       "      <th>year</th>\n",
       "    </tr>\n",
       "  </thead>\n",
       "  <tbody>\n",
       "    <tr>\n",
       "      <th>0</th>\n",
       "      <td>0</td>\n",
       "      <td>2021-10-19 17:58:57</td>\n",
       "      <td>0</td>\n",
       "      <td>VendiVendiVendi</td>\n",
       "      <td>qbh10s</td>\n",
       "      <td>Gain</td>\n",
       "      <td>0</td>\n",
       "      <td>1</td>\n",
       "      <td>10967090</td>\n",
       "      <td>So 13.56 cad for BB.  It’s moving and gaining ...</td>\n",
       "      <td>BB</td>\n",
       "      <td>1.0</td>\n",
       "      <td>[0.08041322976350784, 0.5628291964530945, -0.7...</td>\n",
       "      <td>[]</td>\n",
       "      <td>[]</td>\n",
       "      <td>[]</td>\n",
       "      <td>[]</td>\n",
       "      <td>2021</td>\n",
       "    </tr>\n",
       "    <tr>\n",
       "      <th>1</th>\n",
       "      <td>1</td>\n",
       "      <td>2021-10-19 17:57:49</td>\n",
       "      <td>1</td>\n",
       "      <td>Far_Bass_7284</td>\n",
       "      <td>qbh04w</td>\n",
       "      <td>News</td>\n",
       "      <td>1</td>\n",
       "      <td>1</td>\n",
       "      <td>10967087</td>\n",
       "      <td>NaN</td>\n",
       "      <td>Surely it is a coincidence.</td>\n",
       "      <td>1.0</td>\n",
       "      <td>[-0.44094061851501465, -0.08837655186653137, 0...</td>\n",
       "      <td>[]</td>\n",
       "      <td>[]</td>\n",
       "      <td>[]</td>\n",
       "      <td>[Surely it is a coincidence]</td>\n",
       "      <td>2021</td>\n",
       "    </tr>\n",
       "  </tbody>\n",
       "</table>\n",
       "</div>"
      ],
      "text/plain": [
       "   Unnamed: 0          created_utc  SegmentID           author      id  \\\n",
       "0           0  2021-10-19 17:58:57          0  VendiVendiVendi  qbh10s   \n",
       "1           1  2021-10-19 17:57:49          1    Far_Bass_7284  qbh04w   \n",
       "\n",
       "  link_flair_text  num_comments  score  subreddit_subscribers  \\\n",
       "0            Gain             0      1               10967090   \n",
       "1            News             1      1               10967087   \n",
       "\n",
       "                                            selftext  \\\n",
       "0  So 13.56 cad for BB.  It’s moving and gaining ...   \n",
       "1                                                NaN   \n",
       "\n",
       "                         title  upvote_ratio  \\\n",
       "0                           BB           1.0   \n",
       "1  Surely it is a coincidence.           1.0   \n",
       "\n",
       "                                           embedding bigram trigram four-gram  \\\n",
       "0  [0.08041322976350784, 0.5628291964530945, -0.7...     []      []        []   \n",
       "1  [-0.44094061851501465, -0.08837655186653137, 0...     []      []        []   \n",
       "\n",
       "                      five-gram  year  \n",
       "0                            []  2021  \n",
       "1  [Surely it is a coincidence]  2021  "
      ]
     },
     "execution_count": 3,
     "metadata": {},
     "output_type": "execute_result"
    }
   ],
   "source": [
    "wsb_ = pd.read_csv('data/WSB_data_with_emb.csv',sep=';')\n",
    "wsb_.head(2)"
   ]
  },
  {
   "cell_type": "code",
   "execution_count": 4,
   "metadata": {},
   "outputs": [],
   "source": [
    "#wsb_['bigram'] = wsb['bigram']\n",
    "#wsb_['trigram'] = wsb['trigram']\n",
    "#wsb_['four-gram'] = wsb['four-gram']\n",
    "#wsb_['five-gram'] = wsb['five-gram']"
   ]
  },
  {
   "cell_type": "code",
   "execution_count": 5,
   "metadata": {},
   "outputs": [],
   "source": [
    "#wsb_.head(3)"
   ]
  },
  {
   "cell_type": "code",
   "execution_count": 6,
   "metadata": {},
   "outputs": [],
   "source": [
    "#wsb_.to_csv('data/WSB_data_with_emb.csv',sep=';')"
   ]
  },
  {
   "cell_type": "code",
   "execution_count": 7,
   "metadata": {
    "colab": {
     "base_uri": "https://localhost:8080/",
     "height": 419
    },
    "id": "L4np9q3mInKY",
    "outputId": "814a8f5d-f266-4dbb-f6ef-22a4631f86d1"
   },
   "outputs": [
    {
     "data": {
      "text/html": [
       "<div>\n",
       "<style scoped>\n",
       "    .dataframe tbody tr th:only-of-type {\n",
       "        vertical-align: middle;\n",
       "    }\n",
       "\n",
       "    .dataframe tbody tr th {\n",
       "        vertical-align: top;\n",
       "    }\n",
       "\n",
       "    .dataframe thead th {\n",
       "        text-align: right;\n",
       "    }\n",
       "</style>\n",
       "<table border=\"1\" class=\"dataframe\">\n",
       "  <thead>\n",
       "    <tr style=\"text-align: right;\">\n",
       "      <th></th>\n",
       "      <th>created_utc</th>\n",
       "      <th>SegmentID</th>\n",
       "      <th>author</th>\n",
       "      <th>created_utc.1</th>\n",
       "      <th>id</th>\n",
       "      <th>link_flair_text</th>\n",
       "      <th>num_comments</th>\n",
       "      <th>score</th>\n",
       "      <th>subreddit_subscribers</th>\n",
       "      <th>selftext</th>\n",
       "      <th>title</th>\n",
       "      <th>upvote_ratio</th>\n",
       "      <th>sbert_emb</th>\n",
       "      <th>bigram</th>\n",
       "      <th>trigram</th>\n",
       "      <th>four-gram</th>\n",
       "      <th>five-gram</th>\n",
       "    </tr>\n",
       "  </thead>\n",
       "  <tbody>\n",
       "    <tr>\n",
       "      <th>0</th>\n",
       "      <td>2021-11-26 13:19:32</td>\n",
       "      <td>0</td>\n",
       "      <td>NovelAnteater</td>\n",
       "      <td>2021-11-26 13:19:32</td>\n",
       "      <td>r2nb9a</td>\n",
       "      <td>NaN</td>\n",
       "      <td>0</td>\n",
       "      <td>1</td>\n",
       "      <td>3310630</td>\n",
       "      <td>[removed]</td>\n",
       "      <td>SNAP seems like a great long-term buy at this ...</td>\n",
       "      <td>1.0</td>\n",
       "      <td>[-0.4700039029121399, -0.5687688589096069, -0....</td>\n",
       "      <td>[great long, term buy]</td>\n",
       "      <td>[SNAP seems like, like a great]</td>\n",
       "      <td>[like a great long, buy at this price]</td>\n",
       "      <td>[SNAP seems like a great, term buy at this price]</td>\n",
       "    </tr>\n",
       "    <tr>\n",
       "      <th>1</th>\n",
       "      <td>2021-11-26 12:37:50</td>\n",
       "      <td>1</td>\n",
       "      <td>VonDerBerg</td>\n",
       "      <td>2021-11-26 12:37:50</td>\n",
       "      <td>r2ma8u</td>\n",
       "      <td>Trades</td>\n",
       "      <td>0</td>\n",
       "      <td>1</td>\n",
       "      <td>3310546</td>\n",
       "      <td>So the markets are tanking on new variant news...</td>\n",
       "      <td>$NVAX new variant</td>\n",
       "      <td>1.0</td>\n",
       "      <td>[-0.6267229318618774, 0.2307320535182953, 0.18...</td>\n",
       "      <td>[$NVAX, NVAX new, new variant]</td>\n",
       "      <td>[$NVAX new, NVAX new variant]</td>\n",
       "      <td>[$NVAX new variant]</td>\n",
       "      <td>[]</td>\n",
       "    </tr>\n",
       "  </tbody>\n",
       "</table>\n",
       "</div>"
      ],
      "text/plain": [
       "           created_utc  SegmentID         author        created_utc.1      id  \\\n",
       "0  2021-11-26 13:19:32          0  NovelAnteater  2021-11-26 13:19:32  r2nb9a   \n",
       "1  2021-11-26 12:37:50          1     VonDerBerg  2021-11-26 12:37:50  r2ma8u   \n",
       "\n",
       "  link_flair_text  num_comments  score  subreddit_subscribers  \\\n",
       "0             NaN             0      1                3310630   \n",
       "1          Trades             0      1                3310546   \n",
       "\n",
       "                                            selftext  \\\n",
       "0                                          [removed]   \n",
       "1  So the markets are tanking on new variant news...   \n",
       "\n",
       "                                               title  upvote_ratio  \\\n",
       "0  SNAP seems like a great long-term buy at this ...           1.0   \n",
       "1                                  $NVAX new variant           1.0   \n",
       "\n",
       "                                           sbert_emb  \\\n",
       "0  [-0.4700039029121399, -0.5687688589096069, -0....   \n",
       "1  [-0.6267229318618774, 0.2307320535182953, 0.18...   \n",
       "\n",
       "                           bigram                          trigram  \\\n",
       "0          [great long, term buy]  [SNAP seems like, like a great]   \n",
       "1  [$NVAX, NVAX new, new variant]    [$NVAX new, NVAX new variant]   \n",
       "\n",
       "                                four-gram  \\\n",
       "0  [like a great long, buy at this price]   \n",
       "1                     [$NVAX new variant]   \n",
       "\n",
       "                                           five-gram  \n",
       "0  [SNAP seems like a great, term buy at this price]  \n",
       "1                                                 []  "
      ]
     },
     "execution_count": 7,
     "metadata": {},
     "output_type": "execute_result"
    }
   ],
   "source": [
    "stocks = pd.read_csv('stocks/data/stocks_submissions_all.csv',sep=';')\n",
    "stocks.head(2)"
   ]
  },
  {
   "cell_type": "code",
   "execution_count": 8,
   "metadata": {
    "colab": {
     "base_uri": "https://localhost:8080/",
     "height": 367
    },
    "id": "hrGgWUvPIoMb",
    "outputId": "26a0938f-759c-45e0-a8e2-a6c0ed1741d6"
   },
   "outputs": [
    {
     "name": "stderr",
     "output_type": "stream",
     "text": [
      "C:\\Users\\96ank\\AppData\\Local\\Continuum\\anaconda3\\lib\\site-packages\\IPython\\core\\interactiveshell.py:3326: DtypeWarning: Columns (1,5) have mixed types.Specify dtype option on import or set low_memory=False.\n",
      "  exec(code_obj, self.user_global_ns, self.user_ns)\n"
     ]
    },
    {
     "data": {
      "text/html": [
       "<div>\n",
       "<style scoped>\n",
       "    .dataframe tbody tr th:only-of-type {\n",
       "        vertical-align: middle;\n",
       "    }\n",
       "\n",
       "    .dataframe tbody tr th {\n",
       "        vertical-align: top;\n",
       "    }\n",
       "\n",
       "    .dataframe thead th {\n",
       "        text-align: right;\n",
       "    }\n",
       "</style>\n",
       "<table border=\"1\" class=\"dataframe\">\n",
       "  <thead>\n",
       "    <tr style=\"text-align: right;\">\n",
       "      <th></th>\n",
       "      <th>created_utc</th>\n",
       "      <th>SegmentID</th>\n",
       "      <th>author</th>\n",
       "      <th>created_utc.1</th>\n",
       "      <th>id</th>\n",
       "      <th>link_flair_text</th>\n",
       "      <th>num_comments</th>\n",
       "      <th>score</th>\n",
       "      <th>subreddit_subscribers</th>\n",
       "      <th>selftext</th>\n",
       "      <th>title</th>\n",
       "      <th>upvote_ratio</th>\n",
       "      <th>sbert_emb</th>\n",
       "      <th>bigram</th>\n",
       "      <th>trigram</th>\n",
       "      <th>four-gram</th>\n",
       "      <th>five-gram</th>\n",
       "    </tr>\n",
       "  </thead>\n",
       "  <tbody>\n",
       "    <tr>\n",
       "      <th>0</th>\n",
       "      <td>2021-11-26 15:17:50</td>\n",
       "      <td>0</td>\n",
       "      <td>plszvlko</td>\n",
       "      <td>2021-11-26 15:17:50</td>\n",
       "      <td>r2po7v</td>\n",
       "      <td>NaN</td>\n",
       "      <td>1.0</td>\n",
       "      <td>1.0</td>\n",
       "      <td>1955286.0</td>\n",
       "      <td>[removed]</td>\n",
       "      <td>What do you use to invest?</td>\n",
       "      <td>1.0</td>\n",
       "      <td>[0.1719539761543274, -0.22599506378173828, -0....</td>\n",
       "      <td>[]</td>\n",
       "      <td>[use to invest]</td>\n",
       "      <td>[]</td>\n",
       "      <td>[]</td>\n",
       "    </tr>\n",
       "    <tr>\n",
       "      <th>1</th>\n",
       "      <td>2021-11-26 14:43:13</td>\n",
       "      <td>1</td>\n",
       "      <td>eopif</td>\n",
       "      <td>2021-11-26 14:43:13</td>\n",
       "      <td>r2oynm</td>\n",
       "      <td>NaN</td>\n",
       "      <td>1.0</td>\n",
       "      <td>1.0</td>\n",
       "      <td>1955263.0</td>\n",
       "      <td>[removed]</td>\n",
       "      <td>Where does flow data providers get their data ...</td>\n",
       "      <td>1.0</td>\n",
       "      <td>[-0.19163201749324799, -0.6306818723678589, -0...</td>\n",
       "      <td>[flow data, data providers]</td>\n",
       "      <td>[flow data providers]</td>\n",
       "      <td>[providers get their data]</td>\n",
       "      <td>[data providers get their data]</td>\n",
       "    </tr>\n",
       "  </tbody>\n",
       "</table>\n",
       "</div>"
      ],
      "text/plain": [
       "           created_utc SegmentID    author        created_utc.1      id  \\\n",
       "0  2021-11-26 15:17:50         0  plszvlko  2021-11-26 15:17:50  r2po7v   \n",
       "1  2021-11-26 14:43:13         1     eopif  2021-11-26 14:43:13  r2oynm   \n",
       "\n",
       "  link_flair_text  num_comments  score  subreddit_subscribers   selftext  \\\n",
       "0             NaN           1.0    1.0              1955286.0  [removed]   \n",
       "1             NaN           1.0    1.0              1955263.0  [removed]   \n",
       "\n",
       "                                               title  upvote_ratio  \\\n",
       "0                         What do you use to invest?           1.0   \n",
       "1  Where does flow data providers get their data ...           1.0   \n",
       "\n",
       "                                           sbert_emb  \\\n",
       "0  [0.1719539761543274, -0.22599506378173828, -0....   \n",
       "1  [-0.19163201749324799, -0.6306818723678589, -0...   \n",
       "\n",
       "                        bigram                trigram  \\\n",
       "0                           []        [use to invest]   \n",
       "1  [flow data, data providers]  [flow data providers]   \n",
       "\n",
       "                    four-gram                        five-gram  \n",
       "0                          []                               []  \n",
       "1  [providers get their data]  [data providers get their data]  "
      ]
     },
     "execution_count": 8,
     "metadata": {},
     "output_type": "execute_result"
    }
   ],
   "source": [
    "investing = pd.read_csv('investing/data/investing_submissions_all.csv',sep=';')\n",
    "investing.head(2)"
   ]
  },
  {
   "cell_type": "code",
   "execution_count": 9,
   "metadata": {
    "id": "kaxjndQvIjAW"
   },
   "outputs": [],
   "source": [
    "#create pre and post datasets\n",
    "# extract year from utc\n",
    "#wsb['created_utc'] = pd.to_datetime(wsb['created_utc'], unit='s')\n",
    "wsb_['year'] = pd.DatetimeIndex(wsb_['created_utc']).year"
   ]
  },
  {
   "cell_type": "code",
   "execution_count": 10,
   "metadata": {
    "colab": {
     "base_uri": "https://localhost:8080/",
     "height": 314
    },
    "id": "-JpHBeAEQmK2",
    "outputId": "5989e2ee-dd0e-4002-e8a8-42a4abae1b2f"
   },
   "outputs": [
    {
     "data": {
      "text/html": [
       "<div>\n",
       "<style scoped>\n",
       "    .dataframe tbody tr th:only-of-type {\n",
       "        vertical-align: middle;\n",
       "    }\n",
       "\n",
       "    .dataframe tbody tr th {\n",
       "        vertical-align: top;\n",
       "    }\n",
       "\n",
       "    .dataframe thead th {\n",
       "        text-align: right;\n",
       "    }\n",
       "</style>\n",
       "<table border=\"1\" class=\"dataframe\">\n",
       "  <thead>\n",
       "    <tr style=\"text-align: right;\">\n",
       "      <th></th>\n",
       "      <th>Unnamed: 0</th>\n",
       "      <th>created_utc</th>\n",
       "      <th>SegmentID</th>\n",
       "      <th>author</th>\n",
       "      <th>id</th>\n",
       "      <th>link_flair_text</th>\n",
       "      <th>num_comments</th>\n",
       "      <th>score</th>\n",
       "      <th>subreddit_subscribers</th>\n",
       "      <th>selftext</th>\n",
       "      <th>title</th>\n",
       "      <th>upvote_ratio</th>\n",
       "      <th>embedding</th>\n",
       "      <th>bigram</th>\n",
       "      <th>trigram</th>\n",
       "      <th>four-gram</th>\n",
       "      <th>five-gram</th>\n",
       "      <th>year</th>\n",
       "    </tr>\n",
       "  </thead>\n",
       "  <tbody>\n",
       "    <tr>\n",
       "      <th>0</th>\n",
       "      <td>0</td>\n",
       "      <td>2021-10-19 17:58:57</td>\n",
       "      <td>0</td>\n",
       "      <td>VendiVendiVendi</td>\n",
       "      <td>qbh10s</td>\n",
       "      <td>Gain</td>\n",
       "      <td>0</td>\n",
       "      <td>1</td>\n",
       "      <td>10967090</td>\n",
       "      <td>So 13.56 cad for BB.  It’s moving and gaining ...</td>\n",
       "      <td>BB</td>\n",
       "      <td>1.0</td>\n",
       "      <td>[0.08041322976350784, 0.5628291964530945, -0.7...</td>\n",
       "      <td>[]</td>\n",
       "      <td>[]</td>\n",
       "      <td>[]</td>\n",
       "      <td>[]</td>\n",
       "      <td>2021</td>\n",
       "    </tr>\n",
       "    <tr>\n",
       "      <th>1</th>\n",
       "      <td>1</td>\n",
       "      <td>2021-10-19 17:57:49</td>\n",
       "      <td>1</td>\n",
       "      <td>Far_Bass_7284</td>\n",
       "      <td>qbh04w</td>\n",
       "      <td>News</td>\n",
       "      <td>1</td>\n",
       "      <td>1</td>\n",
       "      <td>10967087</td>\n",
       "      <td>NaN</td>\n",
       "      <td>Surely it is a coincidence.</td>\n",
       "      <td>1.0</td>\n",
       "      <td>[-0.44094061851501465, -0.08837655186653137, 0...</td>\n",
       "      <td>[]</td>\n",
       "      <td>[]</td>\n",
       "      <td>[]</td>\n",
       "      <td>[Surely it is a coincidence]</td>\n",
       "      <td>2021</td>\n",
       "    </tr>\n",
       "  </tbody>\n",
       "</table>\n",
       "</div>"
      ],
      "text/plain": [
       "   Unnamed: 0          created_utc  SegmentID           author      id  \\\n",
       "0           0  2021-10-19 17:58:57          0  VendiVendiVendi  qbh10s   \n",
       "1           1  2021-10-19 17:57:49          1    Far_Bass_7284  qbh04w   \n",
       "\n",
       "  link_flair_text  num_comments  score  subreddit_subscribers  \\\n",
       "0            Gain             0      1               10967090   \n",
       "1            News             1      1               10967087   \n",
       "\n",
       "                                            selftext  \\\n",
       "0  So 13.56 cad for BB.  It’s moving and gaining ...   \n",
       "1                                                NaN   \n",
       "\n",
       "                         title  upvote_ratio  \\\n",
       "0                           BB           1.0   \n",
       "1  Surely it is a coincidence.           1.0   \n",
       "\n",
       "                                           embedding bigram trigram four-gram  \\\n",
       "0  [0.08041322976350784, 0.5628291964530945, -0.7...     []      []        []   \n",
       "1  [-0.44094061851501465, -0.08837655186653137, 0...     []      []        []   \n",
       "\n",
       "                      five-gram  year  \n",
       "0                            []  2021  \n",
       "1  [Surely it is a coincidence]  2021  "
      ]
     },
     "execution_count": 10,
     "metadata": {},
     "output_type": "execute_result"
    }
   ],
   "source": [
    "wsb_.head(2)"
   ]
  },
  {
   "cell_type": "code",
   "execution_count": 11,
   "metadata": {
    "id": "FivuSZ7ZQXHi"
   },
   "outputs": [],
   "source": [
    "stocks['year'] = pd.DatetimeIndex(stocks['created_utc']).year"
   ]
  },
  {
   "cell_type": "code",
   "execution_count": 12,
   "metadata": {},
   "outputs": [],
   "source": [
    "investing = investing.drop(investing[investing['created_utc'].str.contains('cryptoservices')].index)"
   ]
  },
  {
   "cell_type": "code",
   "execution_count": 13,
   "metadata": {
    "id": "EltSBnv8M1Rw"
   },
   "outputs": [],
   "source": [
    "#investing['created_utc'] = investing['created_utc'].apply(lambda x: pd.to_numeric(x, errors='coerce')).dropna()\n",
    "investing['year'] = pd.DatetimeIndex(investing['created_utc']).year"
   ]
  },
  {
   "cell_type": "code",
   "execution_count": 14,
   "metadata": {
    "id": "wgS32EbvMkTK"
   },
   "outputs": [],
   "source": [
    "wsb_pre = wsb_[wsb_['year'] < 2021]\n",
    "wsb_post = wsb_[wsb_['year'] > 2020]\n",
    "\n",
    "investing_pre = investing[investing['year'] < 2021]\n",
    "investing_post = investing[investing['year'] > 2020]"
   ]
  },
  {
   "cell_type": "code",
   "execution_count": 15,
   "metadata": {},
   "outputs": [],
   "source": [
    "stocks_pre = stocks[stocks['year'] < 2021]\n",
    "stocks_post = stocks[stocks['year'] > 2020]"
   ]
  },
  {
   "cell_type": "code",
   "execution_count": 16,
   "metadata": {},
   "outputs": [],
   "source": [
    "##save \n",
    "wsb_pre.to_csv('data/WSB_pre.csv',sep=';')\n",
    "wsb_post.to_csv('data/WSB_post.csv',sep=';')\n",
    "stocks_pre.to_csv('data/stocks_pre.csv',sep=';')\n",
    "stocks_post.to_csv('data/stocks_post.csv',sep=';')\n",
    "investing_pre.to_csv('data/investing_pre.csv',sep=';')\n",
    "investing_post.to_csv('data/investing_post.csv',sep=';')\n"
   ]
  },
  {
   "cell_type": "markdown",
   "metadata": {
    "id": "ID4SHDsvVDF9"
   },
   "source": [
    "## Put it on temporal scale / Time Period -2018- 2021 - how have the features changes/evolved over time?"
   ]
  },
  {
   "cell_type": "markdown",
   "metadata": {},
   "source": [
    "### pre vs post n-grams"
   ]
  },
  {
   "cell_type": "code",
   "execution_count": 15,
   "metadata": {},
   "outputs": [],
   "source": [
    "import re\n",
    "def count_ngrams(ngram_column):\n",
    "    trigrams_title = []\n",
    "    for lst in ngram_column.tolist():  \n",
    "          for trigram in lst.split(','):    \n",
    "            trigram=re.sub('[[]', '', trigram)\n",
    "            trigram=re.sub('[]]', '', trigram)\n",
    "            if trigram != '':      \n",
    "                trigrams_title.append(trigram.lower())\n",
    "    count_freq_trigrams = {}\n",
    "    for item in trigrams_title:\n",
    "        item = item.strip()\n",
    "        if item in count_freq_trigrams:\n",
    "            count_freq_trigrams[item] +=1\n",
    "        else:\n",
    "            count_freq_trigrams[item] = 1\n",
    "    return sorted(count_freq_trigrams.items(), key=lambda item: item[1], reverse = True)"
   ]
  },
  {
   "cell_type": "markdown",
   "metadata": {},
   "source": [
    "### bigrams"
   ]
  },
  {
   "cell_type": "markdown",
   "metadata": {},
   "source": [
    "#### WSB"
   ]
  },
  {
   "cell_type": "code",
   "execution_count": 16,
   "metadata": {},
   "outputs": [
    {
     "name": "stderr",
     "output_type": "stream",
     "text": [
      "C:\\Users\\96ank\\AppData\\Local\\Continuum\\anaconda3\\lib\\site-packages\\ipykernel_launcher.py:6: FutureWarning: Possible nested set at position 1\n",
      "  \n"
     ]
    },
    {
     "name": "stdout",
     "output_type": "stream",
     "text": [
      "[('🚀🚀', 7786), ('🌈🐻', 2208), ('gonna', 1497), ('$tsla', 1338), ('000', 1172), ('stock market', 1151), ('wsbvotebot log', 1077), ('02 2020', 888), ('spy puts', 886), ('wall street', 695), ('long $', 658), ('loss porn', 636), ('looks like', 604), ('free money', 583), ('$spy', 571), ('discussion thread', 540), ('$pltr', 538), ('elon musk', 517), ('buy puts', 505), ('$1', 487), ('gay bears', 484), ('🌈 🐻', 478), ('gay bear', 464), ('🚀 🚀', 457), ('diamond hands', 454), ('daily discussion', 442), ('moves tomorrow', 430), ('dd inside', 420), ('buy calls', 418), ('$100', 412), ('bear gang', 408), ('spy calls', 403), ('trading options', 380), ('options trading', 380), ('short $', 377), ('$spce', 375), ('$$', 368), ('papa elon', 356), ('️\\u200d🌈', 339), ('🏳️\\u200d', 337), ('tsla calls', 335), ('earnings thread', 335), ('long term', 326), ('moon 🚀', 324), ('s&amp;p 500', 317), ('meme stock', 313), ('$10', 306), ('$500', 296), ('$50', 293), ('short squeeze', 283), ('bull gang', 278), ('$dis', 271), ('technical analysis', 270), ('day trading', 270), ('life savings', 262), ('2 weeks', 259), ('theta gang', 256), ('🐻🌈', 252), ('gain porn', 252), ('3 months', 248), ('buy $', 246), ('gotta', 245), ('feel like', 241), ('corona virus', 241), ('$msft', 236), ('$20', 235), ('bull market', 234), ('fellow autists', 232), ('$200', 231), ('$gme', 230), ('$2', 230), ('guys think', 227), ('♂️', 225), ('$aapl', 218), ('spy $', 217), ('beer virus', 216), ('honest work', 215), ('$30', 214), ('lose money', 214), ('money printer', 214), ('$nio', 212), ('trade war', 204), ('stock price', 203), ('earnings play', 203), ('price target', 201), ('year old', 198), ('$5', 198), ('papa musk', 197), ('$rope', 197), ('bear market', 196), ('started trading', 195), ('need help', 190), ('market open', 187), ('$bynd', 187), ('week beginning', 184), ('$1000', 183), ('$amzn', 183), ('losing money', 181), ('weeks ago', 179), ('jim cramer', 179)]\n"
     ]
    }
   ],
   "source": [
    "print(count_ngrams(wsb_pre['bigram'])[:100])"
   ]
  },
  {
   "cell_type": "code",
   "execution_count": 17,
   "metadata": {},
   "outputs": [
    {
     "name": "stdout",
     "output_type": "stream",
     "text": [
      "[('🚀🚀', 176355), ('$gme', 13915), ('💎🙌', 13516), ('💎💎', 12326), ('🚀 🚀', 6820), ('🦍🦍', 6341), ('$amc', 5772), ('diamond hands', 5345), ('moon 🚀', 4986), ('short squeeze', 4800), ('🚀💎', 4382), ('wall street', 4304), ('hedge funds', 4182), ('$bb', 4019), ('gonna', 4001), ('short interest', 3577), ('💎👐', 3529), ('🙌💎', 3518), ('💎🤲', 3469), ('💎🚀', 3299), ('000', 2748), ('buy gme', 2728), ('💎✋', 2583), ('🚀🌕', 2500), ('loss porn', 2406), ('gme 🚀', 2395), ('$nok', 2357), ('🙌🏻', 2350), ('$wish', 2323), ('🔥🔥', 2302), ('looks like', 2142), ('hedge fund', 2061), ('🙌🏼', 1973), ('$$', 1957), ('💎 🙌', 1872), ('hold hold', 1829), ('buy buy', 1816), ('🦍🚀', 1804), ('market manipulation', 1725), ('stock market', 1693), ('$clov', 1681), ('moon🚀', 1676), ('🙌🚀', 1570), ('🙌🙌', 1511), ('💎🤚', 1489), ('gme $', 1466), ('$1', 1429), ('financial advice', 1417), ('🌕🌕', 1401), ('$100', 1392), ('📈📈', 1382), ('♂️', 1381), ('melvin capital', 1359), ('fellow apes', 1349), ('paper hands', 1329), ('😂😂', 1290), ('honest work', 1230), ('🏻💎', 1184), ('🦍💎', 1144), ('🌈🐻', 1137), ('hold gme', 1133), ('robin hood', 1117), ('💎🖐', 1117), ('🚀🌙', 1106), ('elon musk', 1097), ('gme shares', 1087), ('td ameritrade', 1061), ('buy amc', 1053), ('yolo update', 1045), ('amc 🚀', 1040), ('stay strong', 1028), ('buy $', 1012), ('🚀🦍', 1011), ('👐💎', 1011), ('fuck robinhood', 1003), ('$10', 996), ('🏼💎', 968), ('🙌🏽', 967), ('❤️', 955), ('amc $', 930), ('🤲💎', 922), ('🚀🌝', 907), ('trading 212', 904), ('✋💎', 897), ('buying gme', 895), ('🚀🌚', 893), ('$1000', 889), ('🍌🍌', 885), ('short sellers', 877), ('1 share', 847), ('fucking moon', 847), ('fellow retards', 831), ('🤑🤑', 828), ('long term', 804), ('gotta', 799), ('life savings', 798), ('$20', 796), ('gme stock', 796), ('holding strong', 791), ('gme short', 791)]\n"
     ]
    }
   ],
   "source": [
    "print(count_ngrams(wsb_post['bigram'])[:100])"
   ]
  },
  {
   "cell_type": "markdown",
   "metadata": {},
   "source": [
    "#### Stocks"
   ]
  },
  {
   "cell_type": "code",
   "execution_count": 18,
   "metadata": {},
   "outputs": [
    {
     "name": "stdout",
     "output_type": "stream",
     "text": [
      "[('stock market', 1053), ('long term', 961), ('$$', 460), ('daily discussion', 368), ('stocks daily', 367), ('000', 278), ('s&amp;p 500', 272), ('day trading', 268), ('stock price', 232), ('good time', 229), ('guys think', 217), ('short term', 210), ('free stock', 209), ('stock trading', 204), ('good buy', 203), ('need help', 192), ('new investor', 175), ('wall street', 170), ('tesla stock', 160), ('market news', 157), ('options trading', 152), ('year old', 152), ('market cap', 148), ('roth ira', 147), ('td ameritrade', 141), ('dividend stocks', 137), ('good idea', 136), ('stock split', 135), ('buy stocks', 126), ('week beginning', 124), ('tech stocks', 123), ('earnings report', 123), ('growth stocks', 121), ('$1', 119), ('index funds', 117), ('$100', 115), ('start investing', 115), ('trading platform', 112), ('best way', 112), ('best stocks', 110), ('capital gains', 109), ('buy right', 108), ('🚀🚀', 108), ('5g', 107), ('need advice', 105), ('oil stocks', 105), ('$tsla', 101), ('$10', 99), ('buying stocks', 98), ('stock prices', 98), ('good stock', 97), ('term investment', 95), ('airline stocks', 94), ('trading week', 94), ('years old', 91), ('buy buy', 91), ('week ahead', 91), ('penny stocks', 90), ('energy stocks', 90), ('apple stock', 90), ('individual stocks', 89), ('gonna', 89), ('price target', 88), ('virgin galactic', 87), ('market crash', 87), ('stock picks', 84), ('10 years', 83), ('watch list', 82), ('$1000', 81), ('stop loss', 81), ('best stock', 80), ('elon musk', 80), ('stock portfolio', 79), ('trading thursday', 77), ('discussion wednesday', 77), ('$2', 77), ('good stocks', 77), ('mutual funds', 76), ('fundamentals friday', 76), ('fractional shares', 75), ('street week', 75), ('chinese stocks', 74), ('discussion monday', 73), ('5 years', 73), ('good investment', 73), ('technical analysis', 72), ('trading stocks', 72), ('warren buffett', 72), ('share price', 71), ('$500', 71), ('free stocks', 70), ('penny stock', 70), ('=$', 70), ('technicals tuesday', 69), ('bear market', 68), ('stock watch', 67), ('swing trading', 66), ('market recap', 66), ('index fund', 66), ('brokerage account', 66)]\n"
     ]
    }
   ],
   "source": [
    "print(count_ngrams(stocks_pre['bigram'])[:100])"
   ]
  },
  {
   "cell_type": "code",
   "execution_count": 19,
   "metadata": {},
   "outputs": [
    {
     "name": "stdout",
     "output_type": "stream",
     "text": [
      "[('🚀🚀', 1391), ('stock market', 1038), ('long term', 950), ('short squeeze', 470), ('stocks daily', 417), ('need help', 349), ('meme stocks', 337), ('$gme', 283), ('000', 281), ('stock price', 263), ('short term', 239), ('wall street', 228), ('market cap', 226), ('$$', 223), ('daily discussion', 222), ('new investor', 221), ('short interest', 215), ('day trading', 211), ('roth ira', 209), ('guys think', 204), ('daily thread', 198), ('s&amp;p 500', 198), ('wash sale', 194), ('hedge funds', 187), ('capital gains', 185), ('stock trading', 184), ('good buy', 181), ('market crash', 178), ('market recap', 175), ('buy stocks', 168), ('good time', 163), ('free stock', 162), ('need advice', 160), ('start investing', 159), ('$1', 158), ('$100', 154), ('year old', 142), ('best way', 142), ('good stock', 138), ('$amc', 134), ('best stocks', 126), ('best stock', 126), ('options trading', 125), ('trading platform', 124), ('penny stocks', 124), ('clean energy', 124), ('index funds', 123), ('$10', 122), ('growth stocks', 122), ('penny stock', 120), ('trading app', 116), ('td ameritrade', 116), ('gonna', 116), ('elon musk', 111), ('technical analysis', 111), ('price target', 107), ('buying stocks', 107), ('earnings report', 107), ('tech stocks', 106), ('$bb', 106), ('free stocks', 104), ('motley fool', 102), ('term investment', 102), ('meme stock', 101), ('hedge fund', 99), ('covered calls', 98), ('10 years', 97), ('good investment', 96), ('best app', 93), ('$200', 93), ('overlooked stocks', 93), ('stocks discuss', 93), ('looks like', 92), ('good idea', 91), ('discuss overlooked', 91), ('share price', 90), ('5 years', 90), ('quick question', 90), ('stock split', 90), ('cathie wood', 88), ('dividend stocks', 88), ('amc stock', 88), ('good stocks', 85), ('doge coin', 85), ('stock prices', 84), ('🔥🔥', 83), ('stop loss', 83), ('gains tax', 82), ('stock picks', 82), ('social media', 82), ('$tsla', 80), ('stock analysis', 80), ('cannabis stocks', 80), ('virgin galactic', 80), ('buy gme', 80), ('$50', 79), ('market news', 79), ('buy right', 78), ('$1000', 76), ('5g', 76)]\n"
     ]
    }
   ],
   "source": [
    "print(count_ngrams(stocks_post['bigram'])[:100])"
   ]
  },
  {
   "cell_type": "markdown",
   "metadata": {},
   "source": [
    "####  Investing"
   ]
  },
  {
   "cell_type": "code",
   "execution_count": 20,
   "metadata": {},
   "outputs": [
    {
     "name": "stdout",
     "output_type": "stream",
     "text": [
      "[('stock market', 1053), ('long term', 961), ('$$', 460), ('daily discussion', 368), ('stocks daily', 367), ('000', 278), ('s&amp;p 500', 272), ('day trading', 268), ('stock price', 232), ('good time', 229), ('guys think', 217), ('short term', 210), ('free stock', 209), ('stock trading', 204), ('good buy', 203), ('need help', 192), ('new investor', 175), ('wall street', 170), ('tesla stock', 160), ('market news', 157), ('options trading', 152), ('year old', 152), ('market cap', 148), ('roth ira', 147), ('td ameritrade', 141), ('dividend stocks', 137), ('good idea', 136), ('stock split', 135), ('buy stocks', 126), ('week beginning', 124), ('tech stocks', 123), ('earnings report', 123), ('growth stocks', 121), ('$1', 119), ('index funds', 117), ('$100', 115), ('start investing', 115), ('trading platform', 112), ('best way', 112), ('best stocks', 110), ('capital gains', 109), ('buy right', 108), ('🚀🚀', 108), ('5g', 107), ('need advice', 105), ('oil stocks', 105), ('$tsla', 101), ('$10', 99), ('buying stocks', 98), ('stock prices', 98), ('good stock', 97), ('term investment', 95), ('airline stocks', 94), ('trading week', 94), ('years old', 91), ('buy buy', 91), ('week ahead', 91), ('penny stocks', 90), ('energy stocks', 90), ('apple stock', 90), ('individual stocks', 89), ('gonna', 89), ('price target', 88), ('virgin galactic', 87), ('market crash', 87), ('stock picks', 84), ('10 years', 83), ('watch list', 82), ('$1000', 81), ('stop loss', 81), ('best stock', 80), ('elon musk', 80), ('stock portfolio', 79), ('trading thursday', 77), ('discussion wednesday', 77), ('$2', 77), ('good stocks', 77), ('mutual funds', 76), ('fundamentals friday', 76), ('fractional shares', 75), ('street week', 75), ('chinese stocks', 74), ('discussion monday', 73), ('5 years', 73), ('good investment', 73), ('technical analysis', 72), ('trading stocks', 72), ('warren buffett', 72), ('share price', 71), ('$500', 71), ('free stocks', 70), ('penny stock', 70), ('=$', 70), ('technicals tuesday', 69), ('bear market', 68), ('stock watch', 67), ('swing trading', 66), ('market recap', 66), ('index fund', 66), ('brokerage account', 66)]\n"
     ]
    }
   ],
   "source": [
    "print(count_ngrams(stocks_pre['bigram'])[:100])"
   ]
  },
  {
   "cell_type": "code",
   "execution_count": 21,
   "metadata": {},
   "outputs": [
    {
     "name": "stdout",
     "output_type": "stream",
     "text": [
      "[('🚀🚀', 1391), ('stock market', 1038), ('long term', 950), ('short squeeze', 470), ('stocks daily', 417), ('need help', 349), ('meme stocks', 337), ('$gme', 283), ('000', 281), ('stock price', 263), ('short term', 239), ('wall street', 228), ('market cap', 226), ('$$', 223), ('daily discussion', 222), ('new investor', 221), ('short interest', 215), ('day trading', 211), ('roth ira', 209), ('guys think', 204), ('daily thread', 198), ('s&amp;p 500', 198), ('wash sale', 194), ('hedge funds', 187), ('capital gains', 185), ('stock trading', 184), ('good buy', 181), ('market crash', 178), ('market recap', 175), ('buy stocks', 168), ('good time', 163), ('free stock', 162), ('need advice', 160), ('start investing', 159), ('$1', 158), ('$100', 154), ('year old', 142), ('best way', 142), ('good stock', 138), ('$amc', 134), ('best stocks', 126), ('best stock', 126), ('options trading', 125), ('trading platform', 124), ('penny stocks', 124), ('clean energy', 124), ('index funds', 123), ('$10', 122), ('growth stocks', 122), ('penny stock', 120), ('trading app', 116), ('td ameritrade', 116), ('gonna', 116), ('elon musk', 111), ('technical analysis', 111), ('price target', 107), ('buying stocks', 107), ('earnings report', 107), ('tech stocks', 106), ('$bb', 106), ('free stocks', 104), ('motley fool', 102), ('term investment', 102), ('meme stock', 101), ('hedge fund', 99), ('covered calls', 98), ('10 years', 97), ('good investment', 96), ('best app', 93), ('$200', 93), ('overlooked stocks', 93), ('stocks discuss', 93), ('looks like', 92), ('good idea', 91), ('discuss overlooked', 91), ('share price', 90), ('5 years', 90), ('quick question', 90), ('stock split', 90), ('cathie wood', 88), ('dividend stocks', 88), ('amc stock', 88), ('good stocks', 85), ('doge coin', 85), ('stock prices', 84), ('🔥🔥', 83), ('stop loss', 83), ('gains tax', 82), ('stock picks', 82), ('social media', 82), ('$tsla', 80), ('stock analysis', 80), ('cannabis stocks', 80), ('virgin galactic', 80), ('buy gme', 80), ('$50', 79), ('market news', 79), ('buy right', 78), ('$1000', 76), ('5g', 76)]\n"
     ]
    }
   ],
   "source": [
    "print(count_ngrams(stocks_post['bigram'])[:100])"
   ]
  },
  {
   "cell_type": "markdown",
   "metadata": {},
   "source": [
    "### Tri-grams"
   ]
  },
  {
   "cell_type": "markdown",
   "metadata": {},
   "source": [
    "#### WSB"
   ]
  },
  {
   "cell_type": "code",
   "execution_count": 22,
   "metadata": {},
   "outputs": [
    {
     "name": "stdout",
     "output_type": "stream",
     "text": [
      "[('🚀🚀🚀', 5336), ('000', 619), ('buy the dip', 469), ('daily discussion thread', 414), ('🏳️\\u200d🌈', 337), ('time to buy', 298), ('wish me luck', 239), ('🚀 🚀 🚀', 222), ('️\\u200d🌈🐻', 222), ('$$$', 194), ('moon 🚀🚀', 191), ('pump and dump', 156), ('wall street bets', 134), ('puts on $', 132), ('anticipated earnings releases', 130), ('1', 124), ('🤬🤬🤬', 119), ('time to short', 117), ('pltr 🚀🚀', 109), ('\\u200d♂️', 107), ('new to options', 104), ('wife’s boyfriend', 100), ('thank you wsb', 96), ('long $tsla', 94), ('bought the dip', 91), ('calls on $', 91), ('calls or puts', 91), ('started trading options', 90), ('trading week beginning', 90), ('hold or sell', 87), ('weekend discussion thread', 87), ('$spy puts', 78), ('buying the dip', 77), ('trying to tell', 77), ('thoughts on $', 76), ('literally free money', 73), ('🌈🐻s', 71), ('buy buy buy', 70), ('unusual options activity', 70), ('🐻🐻🐻', 68), ('$tsla calls', 66), ('moon🚀🚀', 65), ('wall street week', 65), ('street week ahead', 65), ('sell or hold', 65), ('gme short squeeze', 63), ('$1', 63), ('end of day', 63), ('started with $', 62), ('thank you papa', 61), ('calls and puts', 61), ('2', 61), ('going to moon', 60), ('😂😂😂', 60), ('wtf is going', 60), ('hold the line', 58), (\"wife's boyfriend\", 58), ('dead cat bounce', 58), ('test test test', 58), ('shit shit shit', 58), ('buy high sell', 57), ('time to sell', 57), ('high sell low', 56), ('new to trading', 56), ('🏻\\u200d♂️', 55), ('positive for coronavirus', 55), ('lot of money', 54), ('2 weeks ago', 53), ('500', 53), ('🔥🔥🔥', 52), ('🌈🐻🌈', 51), ('gonna moon', 51), ('time to yolo', 51), ('$tsla $', 50), (\"today's pre\", 50), ('going to $', 49), ('thank me later', 49), ('want to buy', 49), ('market is going', 49), ('going to happen', 48), ('buy spy puts', 47), ('bank of america', 47), ('🤷\\u200d♂', 47), ('$1m', 47), ('change my mind', 47), ('y’all think', 45), ('new to investing', 45), ('puts and calls', 45), ('went full retard', 45), ('puts or calls', 45), ('$spy calls', 45), ('🐻🌈🐻', 44), ('gonna print', 43), ('10', 43), ('buy and hold', 43), ('time to invest', 43), ('fuck is going', 43), ('lord and savior', 42), ('help me understand', 42), ('puts will print', 42)]\n"
     ]
    }
   ],
   "source": [
    "print(count_ngrams(wsb_pre['trigram'])[:100])"
   ]
  },
  {
   "cell_type": "code",
   "execution_count": 23,
   "metadata": {},
   "outputs": [
    {
     "name": "stdout",
     "output_type": "stream",
     "text": [
      "[('🚀🚀🚀', 125030), ('💎💎💎', 6602), ('hold the line', 6112), ('🦍🦍🦍', 3663), ('like the stock', 3649), ('🚀 🚀 🚀', 3601), ('moon 🚀🚀', 3387), ('gme and amc', 2526), ('buy the dip', 2436), ('🚀🚀💎', 2194), ('💎🙌💎', 1987), ('gme 🚀🚀', 1601), ('buy and hold', 1545), ('🙌💎🙌', 1530), ('000', 1526), ('💎🙌🏻', 1486), ('💎🙌🚀', 1411), ('🔥🔥🔥', 1357), ('💎🚀🚀', 1356), ('moon🚀🚀', 1308), ('💎🙌🏼', 1254), ('$gme $', 1193), ('amc and gme', 1176), ('$$$', 1137), ('hold hold hold', 1003), ('🚀💎🙌', 998), ('🚀🚀🌕', 985), ('💎💎🙌', 938), ('🚀💎💎', 927), ('buy buy buy', 910), ('🙌🙌🙌', 842), ('$amc $', 802), ('apes together strong', 801), ('🙌🚀🚀', 799), ('🌕🌕🌕', 789), ('like this stock', 781), ('📈📈📈', 764), ('shares of gme', 756), ('time to buy', 722), ('holding the line', 703), ('gme $amc', 662), ('🚀 🚀🚀', 660), ('💎💎🚀', 658), ('amc 🚀🚀', 653), ('\\u200d♂️', 635), ('🦍🚀🚀', 618), ('💎👐💎', 608), ('bought the dip', 602), ('$gme 🚀', 601), ('🚀💎🚀', 585), ('💎🙌🏽', 581), ('buy more gme', 575), ('😂😂😂', 571), ('💎🚀💎', 545), ('🍌🍌🍌', 540), ('🙌🏻💎', 534), ('wall street bets', 522), ('bb 🚀🚀', 508), ('wife’s boyfriend', 489), ('💎🙌🙌', 470), ('gme and $', 469), ('let me buy', 469), ('🚀🚀🌙', 468), ('gme🚀🚀', 466), ('💎🤲💎', 462), ('hold the fucking', 460), ('👐💎👐', 449), ('🦍🦍🚀', 448), ('🤑🤑🤑', 440), ('🙌🏼💎', 437), ('🙌💎🚀', 433), ('💰💰💰', 431), ('share of gme', 431), ('won’t let', 430), ('buying the dip', 424), ('🚀🌕🌕', 420), ('💎👐🚀', 414), ('💎🤲🏻', 412), (\"wife's boyfriend\", 410), ('$bb $', 409), ('🚀🚀🌚', 404), ('shares of amc', 403), ('🚀🚀🌝', 388), ('🌙🌙🌙', 384), ('wish me luck', 379), ('diamond hands 💎', 379), ('🤲💎🤲', 378), ('🚀🚀 🚀', 377), ('buy $gme', 375), ('💎✋💎', 370), ('$nok $', 369), ('🌝🌝🌝', 368), ('🚀🚀🦍', 368), ('hold and buy', 366), ('amc amc amc', 365), ('✋💎✋', 350), ('💎🤲🚀', 340), ('able to buy', 331), ('like the stonk', 328), ('gme at $', 326)]\n"
     ]
    }
   ],
   "source": [
    "print(count_ngrams(wsb_post['trigram'])[:100])"
   ]
  },
  {
   "cell_type": "markdown",
   "metadata": {},
   "source": [
    "#### Stocks"
   ]
  },
  {
   "cell_type": "code",
   "execution_count": 24,
   "metadata": {},
   "outputs": [
    {
     "name": "stdout",
     "output_type": "stream",
     "text": [
      "[('stocks daily discussion', 366), ('$$$', 333), ('new to stocks', 281), ('time to buy', 215), ('stocks to buy', 186), ('thoughts on $', 170), ('new to investing', 156), ('000', 125), ('rate my portfolio', 111), ('stocks to invest', 102), ('hold or sell', 102), ('trading week beginning', 91), ('looking for advice', 90), ('time to invest', 84), ('buy and hold', 80), ('investing in stocks', 79), ('daily discussion wednesday', 77), ('time to sell', 77), ('options trading thursday', 76), ('buy buy buy', 75), ('wall street week', 75), ('street week ahead', 75), ('sell or hold', 74), ('long term investment', 74), ('invest in stocks', 73), ('daily discussion monday', 73), ('new to trading', 73), (\"today's pre\", 73), ('=$$', 70), ('help me understand', 65), ('🚀🚀🚀', 64), ('stock watch list', 62), ('looking to invest', 59), ('want to invest', 58), ('stock market news', 56), ('long term hold', 50), ('late to buy', 49), ('want to start', 48), ('buy the dip', 46), ('capital gains tax', 45), ('stock to buy', 44), ('good long term', 42), ('anticipated earnings releases', 42), ('long term stocks', 40), ('stock to invest', 38), ('need some help', 37), ('market this week', 37), ('stock market crash', 36), ('new to stock', 36), ('bank of america', 36), ('18 year old', 35), ('long term growth', 35), ('buy a stock', 34), ('stocks to watch', 34), ('long term investing', 34), ('recap for today', 34), ('thoughts on buying', 33), ('want to buy', 32), ('need some advice', 32), ('long term investments', 32), ('1', 31), ('pump and dump', 31), ('want to learn', 31), ('buy and sell', 30), ('buy or sell', 30), ('good buy right', 29), ('long term stock', 29), ('going to happen', 29), ('16 year old', 28), ('morning market synopsis', 28), ('invest in right', 28), ('learn about stocks', 27), ('buying and selling', 27), ('000 to invest', 27), ('idea to buy', 27), ('need to know', 26), ('end of day', 26), (\"let's talk\", 26), ('looking to start', 26), ('renewable energy stocks', 25), ('cd projekt red', 25), ('10', 25), ('question about options', 25), ('long term holds', 25), ('way to invest', 25), ('term capital gains', 24), ('best long term', 24), ('looking to buy', 24), ('good or bad', 24), ('sell a stock', 23), ('let’s talk', 23), ('want to know', 23), ('k to invest', 22), ('thoughts on investing', 22), ('trying to understand', 22), ('5g stocks', 22), ('apple stock split', 22), ('read the news', 22), ('late to invest', 21), ('getting into stocks', 21)]\n"
     ]
    }
   ],
   "source": [
    "print(count_ngrams(stocks_pre['trigram'])[:100])"
   ]
  },
  {
   "cell_type": "code",
   "execution_count": 25,
   "metadata": {},
   "outputs": [
    {
     "name": "stdout",
     "output_type": "stream",
     "text": [
      "[('🚀🚀🚀', 902), ('new to stocks', 371), ('stocks daily discussion', 220), ('new to investing', 199), ('stocks daily thread', 196), ('thread on meme', 196), ('stocks to buy', 192), ('time to buy', 189), ('000', 167), ('recap for today', 161), ('thoughts on $', 139), ('looking for advice', 137), ('$$$', 127), ('stocks to invest', 125), ('rate my portfolio', 102), ('buy the dip', 96), ('new to trading', 96), ('help me understand', 91), ('discuss overlooked stocks', 91), ('stock to buy', 90), ('stocks discuss overlooked', 90), ('investing in stocks', 88), ('invest in stocks', 88), ('long term investment', 77), ('capital gains tax', 71), ('need some advice', 71), ('gme and amc', 70), ('buy and hold', 67), ('pump and dump', 67), ('need some help', 65), ('hold or sell', 65), ('want to invest', 64), ('looking to invest', 64), ('stock market news', 62), ('want to start', 61), ('market stock movers', 61), ('good long term', 56), ('wall street week', 55), ('street week ahead', 55), ('trading week beginning', 55), ('need to know', 52), ('stock to invest', 51), ('time to sell', 50), ('long term hold', 50), ('getting into stocks', 46), ('🔥🔥🔥', 46), ('amazon gift card', 46), ('options trading thursday', 45), ('daily discussion wednesday', 45), ('time to invest', 45), ('wash sale rule', 44), ('term capital gains', 43), ('buy or sell', 43), ('daily discussion monday', 42), ('sell a stock', 42), ('long term stocks', 42), ('buy and sell', 42), ('question about options', 41), ('stock market crash', 41), ('meme stocks friday', 39), ('meme stocks thursday', 39), ('meme stocks wednesday', 39), ('amc and gme', 39), ('app to use', 39), ('good or bad', 39), ('$200 amazon', 39), ('long term investments', 38), ('gme short squeeze', 38), ('meme stocks tuesday', 37), ('long term growth', 37), (\"let's talk\", 37), ('dd on $', 37), ('💎💎💎', 37), ('meme stocks monday', 36), ('buying and selling', 36), ('want to know', 35), ('buy a stock', 35), ('late to buy', 35), ('new to stock', 35), ('want to buy', 35), ('buy buy buy', 35), ('nok nok nok', 35), ('🚀 🚀 🚀', 34), ('long term investing', 32), ('need your help', 31), ('way to invest', 31), ('trying to understand', 30), ('long term stock', 30), ('invest in right', 30), ('stocks to watch', 29), ('let’s talk', 29), ('need help understanding', 29), ('long term play', 29), ('news for today', 29), ('wash sale question', 28), ('looking to buy', 27), ('buying the dip', 27), ('looking for help', 27), ('trying to learn', 27), ('high short interest', 27)]\n"
     ]
    }
   ],
   "source": [
    "print(count_ngrams(stocks_post['trigram'])[:100])"
   ]
  },
  {
   "cell_type": "markdown",
   "metadata": {},
   "source": [
    "#### Investing"
   ]
  },
  {
   "cell_type": "code",
   "execution_count": 26,
   "metadata": {},
   "outputs": [
    {
     "name": "stdout",
     "output_type": "stream",
     "text": [
      "[('daily advice thread', 820), ('help or advice', 443), ('000', 291), ('new to investing', 273), ('$$$', 226), ('time to buy', 163), ('way to invest', 127), ('want to invest', 120), ('long term investment', 92), ('time to invest', 92), ('help me understand', 86), ('want to start', 84), ('looking for advice', 80), ('chance to ask', 80), ('looking to invest', 73), ('buy and hold', 72), ('thoughts on $', 70), ('investing in stocks', 68), ('capital gains tax', 66), ('long term investing', 62), ('s&amp;p 500 index', 60), ('dollar cost averaging', 58), ('stocks to buy', 57), ('1', 56), ('rate my portfolio', 54), ('buy the dip', 54), ('timing the market', 52), ('tax loss harvesting', 48), ('time the market', 47), ('real estate investing', 46), ('invest in stocks', 46), ('questions without fear', 42), ('fear of harassment', 42), ('rate of return', 39), ('10', 39), ('thoughts on investing', 39), ('buy buy buy', 39), ('sell or hold', 38), ('2', 38), ('embarrassed to ask', 38), ('stocks to invest', 37), ('gold and silver', 37), ('want to buy', 37), ('time to start', 37), ('ask in real', 37), ('term capital gains', 36), ('18 year old', 36), ('pros and cons', 36), ('need to know', 35), ('looking to start', 35), ('bank of america', 35), ('total stock market', 35), ('beat the market', 34), ('time to sell', 34), ('good long term', 33), ('need some advice', 32), ('stock market crash', 32), ('read the news', 32), ('interested in investing', 31), ('good or bad', 31), ('money market fund', 31), ('$1 billion', 31), ('invest my money', 30), ('trying to understand', 30), ('lot of money', 30), ('want to learn', 30), ('=$$', 30), ('companies to invest', 29), ('need some help', 29), ('invest in gold', 28), ('000 to invest', 27), ('500', 27), ('$100 billion', 27), ('starting to invest', 26), ('commercial real estate', 26), ('way to buy', 26), ('500 index fund', 26), ('free cash flow', 26), ('negative interest rates', 26), ('wash sale rule', 25), ('invest in index', 25), ('target date fund', 25), ('17 year old', 25), ('idea to invest', 25), ('investing in gold', 24), ('vanguard roth ira', 24), ('investing in real', 24), ('dead cat bounce', 24), ('buy a house', 24), ('uber and lyft', 24), ('2008 financial crisis', 24), ('learn about investing', 24), ('buying and selling', 23), ('question about investing', 23), ('advice on investing', 23), ('3', 23), ('looking to buy', 23), ('$1 trillion', 23), ('pi network cryptocurrency', 23), ('let me know', 22)]\n"
     ]
    }
   ],
   "source": [
    "print(count_ngrams(investing_pre['trigram'])[:100])"
   ]
  },
  {
   "cell_type": "code",
   "execution_count": 27,
   "metadata": {},
   "outputs": [
    {
     "name": "stdout",
     "output_type": "stream",
     "text": [
      "[('🚀🚀🚀', 384), ('help or advice', 302), ('daily advice thread', 301), ('new to investing', 276), ('daily general discussion', 258), ('discussion and spitballin', 256), ('000', 144), ('looking for advice', 95), ('want to invest', 92), ('$$$', 87), ('time to buy', 82), ('way to invest', 81), ('help me understand', 72), ('long term investment', 68), ('capital gains tax', 66), ('🍀🍀🍀', 64), ('looking to invest', 59), ('stocks to buy', 57), ('want to start', 57), ('investing in stocks', 57), ('long term investing', 53), ('buy and hold', 53), ('👍🏾👍', 52), ('🏾👍🏾', 52), ('need some advice', 47), ('time to invest', 42), ('term capital gains', 41), ('need some help', 40), ('need to know', 39), ('want to learn', 38), ('⠀⠀⠀', 37), ('rate my portfolio', 36), ('stocks to invest', 36), ('pump and dump', 35), ('doge doge doge', 33), ('invest in crypto', 32), ('dollar cost averaging', 32), ('🔥🔥🔥', 32), ('buy the dip', 31), ('thoughts on $', 31), ('000 to invest', 31), ('gme and amc', 31), ('long term growth', 30), ('| ant lawyers', 30), ('invest in stocks', 29), ('18 year old', 28), ('💰💰💰', 27), ('invest my money', 27), ('long term hold', 27), ('long term capital', 27), ('amazon gift card', 27), ('timing the market', 26), ('10', 26), ('wash sale rule', 26), ('looking to start', 25), ('🌈🌈🌈', 25), ('trying to understand', 25), ('rate of return', 25), ('1', 25), ('good long term', 25), ('wall street bets', 25), ('want to know', 24), ('hold or sell', 24), ('real estate investing', 24), ('buy and sell', 24), ('stocks and shares', 24), ('need your help', 23), ('new to trading', 23), ('want to buy', 23), ('bank of america', 23), ('new to stocks', 23), ('money to invest', 22), ('advice on investing', 22), ('tax loss harvesting', 21), ('buy a house', 21), ('investing in crypto', 21), ('looking for help', 21), ('stocks and crypto', 21), ('real estate investment', 21), ('selling covered calls', 21), ('stock to invest', 21), ('invest in bitcoin', 21), ('good or bad', 20), ('way to buy', 20), ('need help understanding', 20), ('sell a stock', 20), ('s&amp;p 500 index', 20), ('pros and cons', 20), ('invest in index', 19), ('question about investing', 19), ('open a roth', 19), ('long term investments', 19), (\"let's talk\", 18), ('stock market crash', 18), ('thoughts on investing', 18), ('learn about investing', 18), ('$1m', 18), ('starting to invest', 17), ('trying to learn', 17), ('stock to buy', 17)]\n"
     ]
    }
   ],
   "source": [
    "print(count_ngrams(investing_post['trigram'])[:100])"
   ]
  },
  {
   "cell_type": "markdown",
   "metadata": {},
   "source": [
    "### Four-grams"
   ]
  },
  {
   "cell_type": "markdown",
   "metadata": {},
   "source": [
    "#### WSB"
   ]
  },
  {
   "cell_type": "code",
   "execution_count": 28,
   "metadata": {},
   "outputs": [
    {
     "name": "stdout",
     "output_type": "stream",
     "text": [
      "[('🚀🚀🚀🚀', 3349), ('log for may 02', 882), ('000', 629), ('going to the moon', 227), ('🏳️\\u200d🌈🐻', 220), ('moon 🚀🚀🚀', 163), ('pltr to the moon', 120), ('🤬🤬🤬🤬', 115), ('1', 95), ('🚀 🚀 🚀 🚀', 91), ('releases for the week', 87), ('pltr 🚀🚀🚀', 86), ('$1', 81), ('tsla to the moon', 79), ('$$$$', 74), ('ahead for the trading', 67), ('wall street week ahead', 65), ('test test test test', 57), ('shit shit shit shit', 57), ('2', 56), ('buy high sell low', 55), ('gme to the moon', 55), ('moon🚀🚀🚀', 52), ('500', 50), ('wsb in a nutshell', 49), ('🤷\\u200d♂️', 45), ('$2', 45), ('tesla to the moon', 44), ('good time to buy', 43), ('🌈🐻🌈🐻', 39), ('end of the day', 39), ('10', 39), ('market and options summary', 39), ('f in the chat', 37), ('100', 36), ('sub in a nutshell', 35), ('guess when i started', 35), ('🤦\\u200d♂️', 34), ('thread for the weekend', 34), ('thank you papa elon', 33), ('4', 33), ('know what that means', 33), ('⠀⠀⠀⠀', 33), ('gme 🚀🚀🚀', 31), ('end of the year', 31), ('wolf of wall street', 31), ('calls to the moon', 31), ('spce to the moon', 31), ('news for your radar', 31), ('tests positive for coronavirus', 30)]\n"
     ]
    }
   ],
   "source": [
    "print(count_ngrams(wsb_pre['four-gram'])[:50])"
   ]
  },
  {
   "cell_type": "code",
   "execution_count": 29,
   "metadata": {},
   "outputs": [
    {
     "name": "stdout",
     "output_type": "stream",
     "text": [
      "[('🚀🚀🚀🚀', 83267), ('💎💎💎💎', 3363), ('moon 🚀🚀🚀', 2873), ('gme to the moon', 2207), ('🦍🦍🦍🦍', 1946), ('🚀 🚀 🚀 🚀', 1806), ('going to the moon', 1655), ('🚀🚀🚀💎', 1635), ('amc to the moon', 1573), ('000', 1482), ('gme 🚀🚀🚀', 1376), ('💎🙌💎🙌', 1297), ('moon🚀🚀🚀', 1066), ('💎🚀🚀🚀', 1034), ('🙌💎🙌💎', 911), ('bb to the moon', 885), ('🚀🚀💎💎', 862), ('🚀🚀🚀🌕', 766), ('🔥🔥🔥🔥', 736), ('💎🙌🚀🚀', 674), ('$gme $amc', 662), ('🙌🚀🚀🚀', 641), ('$$$$', 607), ('💎💎🚀🚀', 576), ('🚀💎💎💎', 561), ('🚀🚀💎🙌', 560), ('amc 🚀🚀🚀', 542), ('🙌🙌🙌🙌', 488), ('nok to the moon', 476), ('💎💎💎🙌', 461), ('$gme and $', 460), ('🦍🚀🚀🚀', 434), ('💎💎🙌🙌', 433), ('hold the fucking line', 424), ('🚀💎🚀💎', 409), ('bb 🚀🚀🚀', 404), ('$gme 🚀🚀', 402), ('🌕🌕🌕🌕', 401), ('🚀🚀🌕🌕', 396), ('💎🚀💎🚀', 396), ('🦍🦍🚀🚀', 389), ('🚀 🚀🚀🚀', 387), ('📈📈📈📈', 387), ('💎👐💎👐', 385), ('gme and $amc', 376), ('🚀🚀🚀🌙', 372), ('gme🚀🚀🚀', 370), ('💎💎💎🚀', 360), ('late to the party', 336), ('🍌🍌🍌🍌', 319)]\n"
     ]
    }
   ],
   "source": [
    "print(count_ngrams(wsb_post['four-gram'])[:50])"
   ]
  },
  {
   "cell_type": "markdown",
   "metadata": {},
   "source": [
    "#### Stocks"
   ]
  },
  {
   "cell_type": "code",
   "execution_count": 30,
   "metadata": {},
   "outputs": [
    {
     "name": "stdout",
     "output_type": "stream",
     "text": [
      "[('$$$$', 226), ('000', 119), ('good time to buy', 97), ('ahead for the trading', 80), ('stocks daily discussion wednesday', 77), ('wall street week ahead', 75), ('stocks daily discussion monday', 73), ('=$$$', 70), ('buy buy buy buy', 59), ('good time to invest', 56), ('stock market this week', 36), ('🚀🚀🚀🚀', 34), ('market recap for today', 34), ('best stocks to buy', 33), ('releases for the week', 33), ('new to the stock', 32), ('1', 28), ('000 to invest', 27), ('good idea to buy', 25), ('500', 24), ('stocks should i buy', 24), ('news in the stock', 24), ('buy now or wait', 23), ('$1', 23), ('end of the year', 21), ('want to start investing', 21), ('stocks to buy right', 21), ('stocks do you think', 20), ('$10', 20), ('good to be true', 20), ('news that you need', 19), ('start investing in stocks', 18), ('good idea to invest', 18), ('best way to invest', 18), ('stock watch list april', 18), ('good stock to buy', 17), ('| stock market news', 17), ('stocks are you guys', 17), ('looking for some advice', 17), ('market and options summary', 17), ('selling all of steven', 17), ('good stock to invest', 16), ('new to the market', 16), ('10', 16), ('best time to buy', 16), ('new to stock trading', 16), ('market is looking past', 16), ('investing in the stock', 15), ('best stocks to invest', 15), ('invest in the stock', 15), ('thoughts on my portfolio', 15), ('platform do you use', 15), ('know where to start', 15), ('good stocks to invest', 15), ('stock watch list march', 15), ('advice on my portfolio', 14), ('$1000 to invest', 14), ('new to the game', 14), ('invest in the market', 14), ('buy and sell stocks', 13), ('puts open interest holdings', 13), ('looking for a good', 13), ('stocks for long term', 13), ('stocks would you buy', 13), ('good long term investment', 13), ('going on with $', 13), ('timothy sykes stock trading', 13), ('sykes stock trading technique', 13), ('stock trading technique dvds', 13), ('2', 12), ('short term capital gains', 12), ('buying and selling stocks', 12), ('eps beats by $', 12), ('looking to start investing', 12), ('stock do you think', 12), ('$2', 12), ('percent gainers and decliners', 12), ('technique dvds all digitial', 12), ('time to buy stocks', 11), ('advice for a beginner', 11), ('learn how to trade', 11), ('price of a stock', 11), ('good time to sell', 11), ('stocks are you looking', 11), ('learn how to invest', 11), ('good time to start', 11), ('trading week beginning april', 11), ('looking for long term', 10), ('stocks should i invest', 10), ('capital gains tax question', 10), ('value of a stock', 10), ('broker do you use', 10), ('new to stock market', 10), ('advice for a newbie', 10), ('brand new to stocks', 10), ('good stocks to buy', 10), ('100', 10), ('learn more about stocks', 10), ('affect the stock market', 10), ('right time to buy', 10)]\n"
     ]
    }
   ],
   "source": [
    "print(count_ngrams(stocks_pre['four-gram'])[:100])"
   ]
  },
  {
   "cell_type": "code",
   "execution_count": 31,
   "metadata": {},
   "outputs": [
    {
     "name": "stdout",
     "output_type": "stream",
     "text": [
      "[('🚀🚀🚀🚀', 526), ('daily thread on meme', 196), ('thread on meme stocks', 196), ('market recap for today', 161), ('000', 154), ('stocks discuss overlooked stocks', 90), ('good time to buy', 78), ('$$$$', 69), ('wall street week ahead', 55), ('ahead for the trading', 55), ('new to the stock', 46), ('going to the moon', 46), ('stocks daily discussion wednesday', 45), ('stocks daily discussion monday', 42), ('recap for today monday', 34), ('want to start investing', 33), ('recap for today friday', 32), ('recap for today wednesday', 32), ('nok nok nok nok', 32), ('recap for today thursday', 31), ('looking for some advice', 31), ('stocks should i buy', 31), ('recap for today tuesday', 30), ('market news for today', 29), ('morning update for monday', 27), ('news for today |', 27), ('best stocks to invest', 26), ('preparation for trading day', 25), ('best stocks to buy', 24), ('$200 amazon gift', 24), ('200 amazon gift card', 24), ('products launch in may.', 24), ('😁😁😁😁', 24), ('good stock to buy', 23), ('app should i use', 23), ('investing in the stock', 23), ('moon 🚀🚀🚀', 23), ('invest in the stock', 22), ('advice for a beginner', 21), ('new to the game', 21), ('long term capital gains', 20), ('going on with $', 20), ('start investing in stocks', 20), ('good time to invest', 20), ('looking for a good', 19), ('$1', 19), ('know where to start', 19), ('free $200 amazon', 19), ('stocks should i invest', 19), ('🔥🔥🔥🔥', 19), ('discuss overlooked stocks thursday', 19), ('discuss overlooked stocks wednesday', 19), ('dogecoin to the moon', 19), ('🚀 🚀 🚀 🚀', 19), ('term capital gains tax', 18), ('stocks for long term', 18), ('amazon free gift card', 18), ('discuss overlooked stocks tuesday', 18), ('price of a stock', 17), ('000 to invest', 17), ('short term capital gains', 17), ('advice for a new', 17), ('free amazon gift card', 17), ('discuss overlooked stocks friday', 17), ('discuss overlooked stocks monday', 17), ('click it every day', 17), ('day and use code', 17), ('good stocks to invest', 16), ('best way to learn', 16), ('good long term investment', 16), ('good to be true', 16), ('new to stock market', 16), ('10', 16), ('amc to the moon', 16), ('stocks do you think', 15), ('💎💎💎💎', 15), ('best way to invest', 15), ('$200 amazon free', 15), ('200 amazon free gift', 15), ('free gift card offer', 15), ('1', 14), ('stocks to buy right', 14), ('morning update for friday', 14), ('5', 14), ('high risk high reward', 14), ('stock do you think', 13), ('market brief for october', 13), ('app to buy stocks', 13), ('sndl to the moon', 13), ('defi ico of 2021', 13), ('launch in may. gain', 13), ('may. gain 50x short', 13), ('gme to the moon', 13), ('worse than a price', 12), ('best app to use', 12), ('thoughts on my portfolio', 12), ('stock should i invest', 12), ('buying and selling stocks', 12), ('market brief for september', 12), ('new to the market', 12)]\n"
     ]
    }
   ],
   "source": [
    "print(count_ngrams(stocks_post['four-gram'])[:100])"
   ]
  },
  {
   "cell_type": "markdown",
   "metadata": {},
   "source": [
    "#### Investing"
   ]
  },
  {
   "cell_type": "code",
   "execution_count": 32,
   "metadata": {},
   "outputs": [
    {
     "name": "stdout",
     "output_type": "stream",
     "text": [
      "[('basic help or advice', 443), ('help or advice questions', 443), ('questions must be posted', 443), ('questions about your personal', 374), ('situation should be asked', 374), ('000', 246), ('$$$$', 150), ('best way to invest', 73), ('good time to buy', 73), ('want to start investing', 52), ('good time to invest', 49), ('1', 43), ('lingering questions without fear', 42), ('ask in real life', 37), ('500', 36), ('10', 36), ('$1', 35), ('$10', 31), ('=$$$', 30), ('buy buy buy buy', 29), ('good to be true', 28), ('time in the market', 27), ('investing in the stock', 26), ('invest in the stock', 26), ('end of the year', 25), ('$2', 25), ('invest in index funds', 23), ('investing in real estate', 23), ('looking to start investing', 22), ('s&amp;p 500 index fund', 22), ('2', 21), ('learn how to invest', 21), ('good time to start', 21), ('way to invest $', 21), ('000 to invest', 20), ('good idea to invest', 20), ('long term capital gains', 18), ('looking for a good', 18), ('affect the stock market', 18), ('good long term investment', 18), ('investing in index funds', 18), ('100', 17), ('short term capital gains', 14), ('200', 14), ('looking for some advice', 14), ('best way to buy', 14), ('time to start investing', 14), ('total stock market index', 14), ('credit and debit cards', 13), ('investing in mutual funds', 13), ('$3', 13), ('time to buy stocks', 13), ('question about roth ira', 12), ('way to start investing', 12), ('money in the stock', 12), ('3', 12), ('know where to start', 12), ('invest in real estate', 12), ('$25 in bitcoin', 12), (\"buffett's berkshire hathaway\", 11), ('best ways to invest', 10), ('best stocks to buy', 10), ('best way to start', 10), ('time high of $', 10), ('investing in individual stocks', 10), ('set it and forget', 10), ('etf or mutual fund', 10), ('end of the day', 10), ('way to make money', 10), ('best way to hedge', 10), ('etfs and mutual funds', 10), ('claims for the week', 10), ('like to start investing', 10), ('high yield savings account', 10), ('5', 10), ('bad time to buy', 10), ('investing in an index', 10), ('$100', 9), ('advice for a beginner', 9), ('want to invest $', 9), ('files to go public', 9), ('s and p 500', 9), ('looking for an investor', 9), ('103', 9), ('401k and roth ira', 9), ('stocks do you think', 9), ('environments like this happen', 9), ('start investing in stocks', 9), ('trade deal with china', 9), ('investing in stock market', 9), ('open a roth ira', 9), ('best place to park', 9), ('000 points', 9), ('investing in an etf', 8), ('feedback on my portfolio', 8), ('best time to invest', 8), ('price of a stock', 8), ('place to park cash', 8), ('investing in the s&amp;p', 8), ('bad time to invest', 8)]\n"
     ]
    }
   ],
   "source": [
    "print(count_ngrams(investing_pre['four-gram'])[:100])"
   ]
  },
  {
   "cell_type": "code",
   "execution_count": 33,
   "metadata": {},
   "outputs": [
    {
     "name": "stdout",
     "output_type": "stream",
     "text": [
      "[('basic help or advice', 301), ('help or advice questions', 301), ('questions must be posted', 301), ('🚀🚀🚀🚀', 264), ('general discussion and spitballin', 256), ('discussion and spitballin thread', 256), ('000', 122), ('🍀🍀🍀🍀', 58), ('$$$$', 58), ('👍🏾👍🏾', 52), ('best way to invest', 50), ('🏾👍🏾👍', 48), ('want to start investing', 40), ('doge doge doge doge', 32), ('⠀⠀⠀⠀', 31), ('000 to invest', 28), ('good time to buy', 27), ('good to be true', 23), ('🌈🌈🌈🌈', 22), ('long term capital gains', 22), ('10', 22), ('learn how to invest', 21), ('🔥🔥🔥🔥', 21), ('going to the moon', 20), ('know where to start', 19), ('invest in index funds', 18), ('open a roth ira', 17), ('$1', 17), ('looking for some advice', 17), ('level ii order book', 17), ('good time to invest', 16), ('looking to start investing', 16), ('$10', 16), ('strawberries on the blockchain', 16), ('join up have fun', 15), ('fun get any roles', 15), ('💰💰💰💰', 14), ('$100', 14), ('1', 14), ('time in the market', 14), ('stocks and shares isa', 14), ('hedge fund made $', 14), ('100', 13), ('investing in real estate', 13), ('$200 amazon gift', 13), ('200 amazon gift card', 13), ('fund made $700', 13), ('700 million on gamestop', 13), ('way to invest $', 12), ('payment for order flow', 12), ('way to make money', 12), ('invest in the stock', 12), ('new to the stock', 12), ('pi is a new', 12), ('company growing over 100', 12), ('total market index funds', 12), ('💎💎💎💎', 12), ('🌜🌜🌜🌜', 12), ('👽👽👽👽', 12), ('invest in s&amp;p 500', 11), ('vietnam | ant lawyers', 11), ('app should i use', 11), ('investing in the stock', 11), ('term capital gains tax', 11), ('good long term investment', 11), ('👹👹👹👹', 11), ('d d d d', 11), ('advice for a beginner', 10), ('best way to buy', 10), ('money in the stock', 10), ('price of a stock', 10), ('risking from east ukraine', 10), ('investing in index funds', 10), ('investor looking for advice', 10), ('short term capital gains', 10), ('stick to total market', 10), ('misleading clients about pricing', 10), ('clients about pricing trades', 10), ('500', 9), ('looking for a good', 9), ('invest in real estate', 9), ('stocks for long term', 9), ('end of the year', 9), ('$50', 9), ('looking for a new', 9), ('discount on all trading', 9), ('20', 9), ('time to start investing', 9), ('books do you recommend', 9), ('opened a roth ira', 9), ('$5', 9), ('new digital currency developed', 9), ('currency developed by stanford', 9), ('developed by stanford phds', 9), ('america top 50 holdings', 9), ('€12', 9), ('28m revenue', 9), ('trading at under 2x', 9), ('buy the dip buy', 9), ('dip buy the dip', 9)]\n"
     ]
    }
   ],
   "source": [
    "print(count_ngrams(investing_post['four-gram'])[:100])"
   ]
  },
  {
   "cell_type": "markdown",
   "metadata": {},
   "source": [
    "### Five-grams"
   ]
  },
  {
   "cell_type": "markdown",
   "metadata": {},
   "source": [
    "#### WSB"
   ]
  },
  {
   "cell_type": "code",
   "execution_count": 34,
   "metadata": {},
   "outputs": [
    {
     "name": "stdout",
     "output_type": "stream",
     "text": [
      "[('🚀🚀🚀🚀🚀', 2543), ('wsbvotebot log for may 02', 882), ('log for may 02 2020', 882), ('000', 564), ('🤬🤬🤬🤬🤬', 112), ('earnings releases for the week', 84), ('releases for the week beginning', 81), ('$1', 71), ('moon 🚀🚀🚀🚀', 70), ('week ahead for the trading', 67), ('ahead for the trading week', 67), ('🚀 🚀 🚀 🚀 🚀', 64), ('test test test test test', 56), ('shit shit shit shit shit', 56), ('1', 53), ('literally cannot go tits', 50), (\"literally can't go tits\", 47), ('$$$$$', 47), ('500', 45), ('literally can’t go tits', 42), ('2', 42), ('pltr 🚀🚀🚀🚀', 36), ('$2', 35), ('discussion thread for the weekend', 34), ('pltr to the moon 🚀', 33), ('⠀⠀⠀⠀⠀', 32), ('economic news for your radar', 31), ('100', 30), ('10', 30), (\"| today's top 25\", 29), (\"today's top 25 wsb\", 29), ('today was a good day', 27), ('🐻🌈🐻🌈🐻', 25), ('moon🚀🚀🚀🚀', 24), ('🌈🐻🌈🐻🌈', 23), ('daily discussion thread for december', 22), ('$10', 22), ('5', 22), ('🤔🤔🤔🤔🤔', 22), ('$4', 21), ('4', 21), ('🏳️\\u200d🌈🏳️\\u200d', 21), ('️\\u200d🌈🏳️\\u200d🌈', 21), ('daily market and options summary', 21), ('earnings releases for the trading', 21), ('releases for the trading week', 21), ('000 negative', 21), ('$3', 20), ('boy chimpu back with daily', 20), ('posted in the last 24', 20)]\n"
     ]
    }
   ],
   "source": [
    "print(count_ngrams(wsb_pre['five-gram'])[:50])"
   ]
  },
  {
   "cell_type": "code",
   "execution_count": 35,
   "metadata": {},
   "outputs": [
    {
     "name": "stdout",
     "output_type": "stream",
     "text": [
      "[('🚀🚀🚀🚀🚀', 62682), ('💎💎💎💎💎', 2139), ('moon 🚀🚀🚀🚀', 1416), ('🦍🦍🦍🦍🦍', 1305), ('🚀 🚀 🚀 🚀 🚀', 1301), ('000', 1249), ('💎🙌💎🙌💎', 796), ('🚀🚀🚀🚀💎', 781), ('🙌💎🙌💎🙌', 703), ('gme 🚀🚀🚀🚀', 680), ('🚀🚀🚀💎💎', 673), ('gme to the moon 🚀', 548), ('💎🙌🚀🚀🚀', 547), ('🚀🚀💎💎💎', 541), ('moon🚀🚀🚀🚀', 528), ('🔥🔥🔥🔥🔥', 504), ('💎🚀🚀🚀🚀', 497), ('💎💎🚀🚀🚀', 428), ('🚀🚀🚀💎🙌', 427), ('$$$$$', 424), ('🚀🚀🚀🚀🌕', 399), ('$gme and $amc', 375), ('$gme to the moon', 373), ('🙌🚀🚀🚀🚀', 354), ('🙌🙌🙌🙌🙌', 348), ('$gme 🚀🚀🚀', 341), ('💎💎💎🚀🚀', 335), ('🚀💎🚀💎🚀', 312), ('🚀🚀🚀🌕🌕', 309), ('💜\\U0001f90e💜\\U0001f90e💜', 284), ('🦍🦍🚀🚀🚀', 284), ('amc to the moon 🚀', 283), ('💎🚀💎🚀💎', 280), ('🚀 🚀🚀🚀🚀', 279), ('\\U0001f90e💜\\U0001f90e💜\\U0001f90e', 275), ('$gme $amc $', 263), ('🚀🚀🌕🌕🌕', 257), ('💎💎💎🙌🙌', 257), ('bb to the moon 🚀', 254), ('📈📈📈📈📈', 253), ('🌕🌕🌕🌕🌕', 246), ('🚀💎💎💎💎', 243), ('amc 🚀🚀🚀🚀', 243), ('🦍🦍🦍🚀🚀', 241), ('💎💎🙌🙌🙌', 241), ('going to the moon 🚀', 234), ('💎👐💎👐💎', 231), ('🍌🍌🍌🍌🍌', 227), ('bb 🚀🚀🚀🚀', 226), ('👙👙👙👙👙', 217)]\n"
     ]
    }
   ],
   "source": [
    "print(count_ngrams(wsb_post['five-gram'])[:50])"
   ]
  },
  {
   "cell_type": "markdown",
   "metadata": {},
   "source": [
    "#### Stocks"
   ]
  },
  {
   "cell_type": "code",
   "execution_count": 36,
   "metadata": {},
   "outputs": [
    {
     "name": "stdout",
     "output_type": "stream",
     "text": [
      "[('$$$$$', 150), ('000', 126), ('week ahead for the trading', 80), ('ahead for the trading week', 80), ('buy buy buy buy buy', 54), ('=$$$$', 52), ('earnings releases for the week', 33), ('releases for the week beginning', 32), ('new to the stock market', 28), ('news in the stock market', 24), ('1', 23), ('interesting news in the stock', 23), ('🚀🚀🚀🚀🚀', 21), ('preview and a whole lot', 19), ('selling all of steven dux', 17), ('500', 16), ('$1', 16), ('investing in the stock market', 15), ('invest in the stock market', 15), ('looking to get into stocks', 15), ('10', 14), ('dvds all digital for sell', 13), ('digital for sell very cheap', 13), ('timothy sykes stock trading technique', 13), ('sykes stock trading technique dvds', 13), ('trading technique dvds all digitial', 12), ('$10', 11), ('2', 10), ('stock market news for today', 9), ('best stocks to buy right', 9), ('stocks are you guys looking', 9), ('$2', 9), ('getting into the stock market', 9), ('earnings releases for the trading', 9), ('releases for the trading week', 9), ('stories in the stock market', 9), ('money in the stock market', 8), ('3', 8), ('stocks to invest in right', 8), ('trading platform do you use', 8), ('interesting stories in the stock', 8), ('trying to get into stocks', 7), ('stocks to buy and hold', 7), ('new to investing in stocks', 7), ('⚠️⚠️⚠', 7), ('️⚠️⚠️', 7), ('invest in for long term', 7), ('portfolio allocation and my idea', 7), (\"today's stock market news\", 7), ('stock analysis + price prediction', 7)]\n"
     ]
    }
   ],
   "source": [
    "print(count_ngrams(stocks_pre['five-gram'])[:50])"
   ]
  },
  {
   "cell_type": "code",
   "execution_count": 37,
   "metadata": {},
   "outputs": [
    {
     "name": "stdout",
     "output_type": "stream",
     "text": [
      "[('🚀🚀🚀🚀🚀', 375), ('stocks daily thread on meme', 196), ('daily thread on meme stocks', 196), ('000', 156), ('week ahead for the trading', 55), ('ahead for the trading week', 55), ('thread on meme stocks friday', 39), ('thread on meme stocks thursday', 39), ('thread on meme stocks wednesday', 39), ('$$$$$', 39), ('thread on meme stocks tuesday', 37), ('thread on meme stocks monday', 36), ('market recap for today monday', 34), ('market recap for today friday', 32), ('market recap for today wednesday', 32), ('market recap for today thursday', 31), ('nok nok nok nok nok', 31), ('market recap for today tuesday', 30), ('new to the stock market', 29), ('stock market news for today', 29), ('market news for today |', 27), ('$200 amazon gift card', 24), ('invest in the stock market', 22), ('investing in the stock market', 22), ('😁😁😁😁😁', 22), ('free $200 amazon gift', 19), ('stocks discuss overlooked stocks thursday', 19), ('stocks discuss overlooked stocks wednesday', 19), ('stocks discuss overlooked stocks tuesday', 18), ('stocks discuss overlooked stocks friday', 17), ('stocks discuss overlooked stocks monday', 17), ('use this to make easy', 17), ('money click it every day', 17), ('trying to get into stocks', 15), ('$200 amazon free gift', 15), ('200 amazon free gift card', 15), ('amazon free gift card offer', 15), ('500', 13), ('daily market brief for october', 13), ('bullish defi ico of 2021', 13), ('products launch in may. gain', 13), ('launch in may. gain 50x', 13), ('worse than a price correction', 12), ('buy or not to buy', 12), ('daily market brief for september', 12), ('200 amazon gift card v2', 12), ('🚀 🚀 🚀 🚀 🚀', 12), ('tracks the most hyped stocks', 12), ('1', 11), ('10', 11)]\n"
     ]
    }
   ],
   "source": [
    "print(count_ngrams(stocks_post['five-gram'])[:50])"
   ]
  },
  {
   "cell_type": "markdown",
   "metadata": {},
   "source": [
    "#### Investing"
   ]
  },
  {
   "cell_type": "code",
   "execution_count": 38,
   "metadata": {},
   "outputs": [
    {
     "name": "stdout",
     "output_type": "stream",
     "text": [
      "[('basic help or advice questions', 443), ('advice questions must be posted', 443), ('questions about your personal situation', 374), ('personal situation should be asked', 374), ('000', 261), ('$$$$$', 97), ('1', 42), ('ask any of those lingering', 42), ('questions without fear of harassment', 42), ('ask any of those questions', 37), (\"questions that you're embarrassed\", 37), ('embarrassed to ask in real', 37), ('10', 35), ('$1', 27), ('buy buy buy buy buy', 27), ('investing in the stock market', 26), ('invest in the stock market', 25), ('500', 25), ('2', 23), ('=$$$$', 22), ('$10', 21), ('$2', 15), ('100', 14), ('best way to invest $', 14), ('3', 13), ('money in the stock market', 12), ('trying to time the market', 11), ('want to get into investing', 11), ('good time to start investing', 11), ('minds behind uber and e', 10), ('20', 10), ('000 points', 10), ('try to time the market', 9), ('jobless claims for the week', 9), ('claims for the week ending', 9), ('investing environments like this happen', 9), ('time in the market beats', 8), (\"warren buffett's berkshire hathaway\", 8), ('new to investing and looking', 8), ('good time to buy stocks', 8), ('131', 8), (\"federal reserve's balance sheet\", 8), ('investing in an index fund', 8), ('900', 8), ('5', 8), ('death of modern portfolio theory', 8), ('engages interim chief financial officer', 7), ('chief financial officer and interim', 7), ('financial officer and interim chief', 7), ('officer and interim chief legal', 7)]\n"
     ]
    }
   ],
   "source": [
    "print(count_ngrams(investing_pre['five-gram'])[:50])"
   ]
  },
  {
   "cell_type": "code",
   "execution_count": 39,
   "metadata": {},
   "outputs": [
    {
     "name": "stdout",
     "output_type": "stream",
     "text": [
      "[('basic help or advice questions', 301), ('advice questions must be posted', 301), ('daily general discussion and spitballin', 256), ('general discussion and spitballin thread', 256), ('🚀🚀🚀🚀🚀', 214), ('000', 129), ('🍀🍀🍀🍀🍀', 54), ('👍🏾👍🏾👍', 48), ('🏾👍🏾👍🏾', 48), ('$$$$$', 45), ('doge doge doge doge doge', 31), ('⠀⠀⠀⠀⠀', 25), ('🌈🌈🌈🌈🌈', 20), ('🔥🔥🔥🔥🔥', 17), ('10', 16), ('$10', 16), ('https://discord.gg/5xmsbvyu join up have fun', 15), ('$200 amazon gift card', 13), ('hedge fund made $700', 13), ('fund made $700 million', 13), ('$700 million on gamestop', 13), ('best way to invest $', 12), ('invest in the stock market', 12), ('fun get any roles https://discord.gg/5xmsbvyu', 12), ('pi is a new digital', 12), ('1', 11), ('investing in the stock market', 11), ('new to the stock market', 11), ('👽👽👽👽👽', 11), ('500', 10), ('money in the stock market', 10), ('5', 10), ('d d d d d', 10), ('stick to total market index', 10), ('🌜🌜🌜🌜🌜', 10), ('misleading clients about pricing trades', 10), ('100', 9), ('lifetime discount on all trading', 9), ('discount on all trading fees', 9), ('$1', 9), ('digital currency developed by stanford', 9), ('currency developed by stanford phds', 9), ('bank of america top 50', 9), ('👹👹👹👹👹', 9), ('💎💎💎💎💎', 9), ('yoy trading at under 2x', 9), ('$100', 8), ('looking for a new broker', 8), ('east ukraine with sales agreement', 8), ('rk field is now producing', 8)]\n"
     ]
    }
   ],
   "source": [
    "print(count_ngrams(investing_post['five-gram'])[:50])"
   ]
  },
  {
   "cell_type": "code",
   "execution_count": 40,
   "metadata": {},
   "outputs": [],
   "source": [
    "## To do: Intersection between all sets to find common n-grams"
   ]
  },
  {
   "cell_type": "markdown",
   "metadata": {
    "id": "ELckNBrPVd1c"
   },
   "source": [
    "## Topic clusters, Modeling\n"
   ]
  },
  {
   "cell_type": "markdown",
   "metadata": {},
   "source": [
    "### WSB"
   ]
  },
  {
   "cell_type": "code",
   "execution_count": 47,
   "metadata": {},
   "outputs": [],
   "source": [
    "%%capture\n",
    "pip install bertopic\n"
   ]
  },
  {
   "cell_type": "code",
   "execution_count": 53,
   "metadata": {},
   "outputs": [
    {
     "name": "stdout",
     "output_type": "stream",
     "text": [
      "Requirement already up-to-date: tbb in c:\\users\\96ank\\appdata\\local\\continuum\\anaconda3\\lib\\site-packages (2021.5.0)\n",
      "Note: you may need to restart the kernel to use updated packages.\n"
     ]
    }
   ],
   "source": [
    "pip install --upgrade tbb"
   ]
  },
  {
   "cell_type": "code",
   "execution_count": 54,
   "metadata": {},
   "outputs": [
    {
     "ename": "ModuleNotFoundError",
     "evalue": "No module named 'bertopic'",
     "output_type": "error",
     "traceback": [
      "\u001b[1;31m---------------------------------------------------------------------------\u001b[0m",
      "\u001b[1;31mModuleNotFoundError\u001b[0m                       Traceback (most recent call last)",
      "\u001b[1;32m<ipython-input-54-9390a23f8ba3>\u001b[0m in \u001b[0;36m<module>\u001b[1;34m\u001b[0m\n\u001b[1;32m----> 1\u001b[1;33m \u001b[1;32mfrom\u001b[0m \u001b[0mbertopic\u001b[0m \u001b[1;32mimport\u001b[0m \u001b[0mBERTopic\u001b[0m\u001b[1;33m\u001b[0m\u001b[1;33m\u001b[0m\u001b[0m\n\u001b[0m\u001b[0;32m      2\u001b[0m \u001b[0mtopic_model\u001b[0m \u001b[1;33m=\u001b[0m \u001b[0mBERTopic\u001b[0m\u001b[1;33m(\u001b[0m \u001b[0mverbose\u001b[0m\u001b[1;33m=\u001b[0m\u001b[1;32mTrue\u001b[0m\u001b[1;33m)\u001b[0m\u001b[1;33m\u001b[0m\u001b[1;33m\u001b[0m\u001b[0m\n",
      "\u001b[1;31mModuleNotFoundError\u001b[0m: No module named 'bertopic'"
     ]
    }
   ],
   "source": [
    "from bertopic import BERTopic\n",
    "topic_model = BERTopic( verbose=True)"
   ]
  },
  {
   "cell_type": "code",
   "execution_count": null,
   "metadata": {},
   "outputs": [],
   "source": [
    "def bert_topic_modeling(df):\n",
    "    topic_model = BERTopic( verbose=True)\n",
    "    df.index = pd.DatetimeIndex(df.created_utc)\n",
    "    df_title = df[\"title\"].apply(lambda title: re.sub(r\"http\\S+\", \"\", title).lower(), 1)\n",
    "    timestamps = df[\"created_utc\"].to_list()\n",
    "    titles = wsb_pre_title.to_list()\n",
    "    topics, _ = topic_model.fit_transform(titles[0:50000])\n",
    "    #freq = topic_model.get_topic_info(); freq.head(10)\n",
    "    topic_model.visualize_barchart(top_n_topics=30)"
   ]
  },
  {
   "cell_type": "code",
   "execution_count": null,
   "metadata": {},
   "outputs": [],
   "source": [
    "#pre\n",
    "bert_topic_modeling(wsb_pre)"
   ]
  },
  {
   "cell_type": "code",
   "execution_count": null,
   "metadata": {},
   "outputs": [],
   "source": [
    "#post\n",
    "bert_topic_modeling(wsb_pre)"
   ]
  },
  {
   "cell_type": "markdown",
   "metadata": {},
   "source": [
    "### Stocks"
   ]
  },
  {
   "cell_type": "code",
   "execution_count": null,
   "metadata": {},
   "outputs": [],
   "source": [
    "#pre\n",
    "bert_topic_modeling(stocks_pre)"
   ]
  },
  {
   "cell_type": "code",
   "execution_count": null,
   "metadata": {},
   "outputs": [],
   "source": [
    "#post\n",
    "bert_topic_modeling(stocks_pre)"
   ]
  },
  {
   "cell_type": "markdown",
   "metadata": {},
   "source": [
    "### Investing"
   ]
  },
  {
   "cell_type": "code",
   "execution_count": null,
   "metadata": {},
   "outputs": [],
   "source": [
    "#pre\n",
    "bert_topic_modeling(investing_pre)"
   ]
  },
  {
   "cell_type": "code",
   "execution_count": null,
   "metadata": {},
   "outputs": [],
   "source": [
    "#post\n",
    "bert_topic_modeling(investing_pre)"
   ]
  },
  {
   "cell_type": "markdown",
   "metadata": {},
   "source": [
    "## Embeddings"
   ]
  },
  {
   "cell_type": "markdown",
   "metadata": {
    "id": "r7DwXafzVGM_"
   },
   "source": [
    "## Analyse how contexts of a word change over time (e.g. temporal word embeddings, HistWords)"
   ]
  },
  {
   "cell_type": "code",
   "execution_count": null,
   "metadata": {
    "id": "IVbt3Ayb4oA8"
   },
   "outputs": [],
   "source": [
    "#sentence, spacy embedding of titles: pre vs post"
   ]
  },
  {
   "cell_type": "markdown",
   "metadata": {
    "id": "kSd9j1qFVJkS"
   },
   "source": [
    "## If so, which changes are observable? (usage of emojis, choice of words)"
   ]
  },
  {
   "cell_type": "code",
   "execution_count": null,
   "metadata": {
    "id": "VE1pvYA44qcu"
   },
   "outputs": [],
   "source": [
    "# top emojis, words: pre vs post"
   ]
  },
  {
   "cell_type": "markdown",
   "metadata": {
    "id": "FKLxo3UkVMv5"
   },
   "source": [
    "## Are new users using old WSB patterns inflationary?"
   ]
  }
 ],
 "metadata": {
  "colab": {
   "collapsed_sections": [],
   "name": "Temporal Analysis: Pre vs post hype comparison.ipynb",
   "provenance": []
  },
  "kernelspec": {
   "display_name": "Python 3",
   "language": "python",
   "name": "python3"
  },
  "language_info": {
   "codemirror_mode": {
    "name": "ipython",
    "version": 3
   },
   "file_extension": ".py",
   "mimetype": "text/x-python",
   "name": "python",
   "nbconvert_exporter": "python",
   "pygments_lexer": "ipython3",
   "version": "3.7.4"
  }
 },
 "nbformat": 4,
 "nbformat_minor": 4
}
