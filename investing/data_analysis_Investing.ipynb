{
 "cells": [
  {
   "cell_type": "code",
   "execution_count": 2,
   "metadata": {
    "id": "EFsMPfS_EMIS"
   },
   "outputs": [
    {
     "name": "stderr",
     "output_type": "stream",
     "text": [
      "In C:\\Users\\96ank\\AppData\\Local\\Continuum\\anaconda3\\lib\\site-packages\\matplotlib\\mpl-data\\stylelib\\_classic_test.mplstyle: \n",
      "The text.latex.preview rcparam was deprecated in Matplotlib 3.3 and will be removed two minor releases later.\n",
      "In C:\\Users\\96ank\\AppData\\Local\\Continuum\\anaconda3\\lib\\site-packages\\matplotlib\\mpl-data\\stylelib\\_classic_test.mplstyle: \n",
      "The mathtext.fallback_to_cm rcparam was deprecated in Matplotlib 3.3 and will be removed two minor releases later.\n",
      "In C:\\Users\\96ank\\AppData\\Local\\Continuum\\anaconda3\\lib\\site-packages\\matplotlib\\mpl-data\\stylelib\\_classic_test.mplstyle: Support for setting the 'mathtext.fallback_to_cm' rcParam is deprecated since 3.3 and will be removed two minor releases later; use 'mathtext.fallback : 'cm' instead.\n",
      "In C:\\Users\\96ank\\AppData\\Local\\Continuum\\anaconda3\\lib\\site-packages\\matplotlib\\mpl-data\\stylelib\\_classic_test.mplstyle: \n",
      "The validate_bool_maybe_none function was deprecated in Matplotlib 3.3 and will be removed two minor releases later.\n",
      "In C:\\Users\\96ank\\AppData\\Local\\Continuum\\anaconda3\\lib\\site-packages\\matplotlib\\mpl-data\\stylelib\\_classic_test.mplstyle: \n",
      "The savefig.jpeg_quality rcparam was deprecated in Matplotlib 3.3 and will be removed two minor releases later.\n",
      "In C:\\Users\\96ank\\AppData\\Local\\Continuum\\anaconda3\\lib\\site-packages\\matplotlib\\mpl-data\\stylelib\\_classic_test.mplstyle: \n",
      "The keymap.all_axes rcparam was deprecated in Matplotlib 3.3 and will be removed two minor releases later.\n",
      "In C:\\Users\\96ank\\AppData\\Local\\Continuum\\anaconda3\\lib\\site-packages\\matplotlib\\mpl-data\\stylelib\\_classic_test.mplstyle: \n",
      "The animation.avconv_path rcparam was deprecated in Matplotlib 3.3 and will be removed two minor releases later.\n",
      "In C:\\Users\\96ank\\AppData\\Local\\Continuum\\anaconda3\\lib\\site-packages\\matplotlib\\mpl-data\\stylelib\\_classic_test.mplstyle: \n",
      "The animation.avconv_args rcparam was deprecated in Matplotlib 3.3 and will be removed two minor releases later.\n"
     ]
    }
   ],
   "source": [
    "from datetime import datetime\n",
    "import matplotlib.pyplot as plt\n",
    "import numpy as np\n",
    "import pandas as pd\n",
    "\n",
    "import spacy\n",
    "from spacy.lang.en.stop_words import STOP_WORDS\n",
    "from spacytextblob.spacytextblob import SpacyTextBlob\n",
    "import json\n",
    "plt.rcParams.update({\"font.size\": 12})\n",
    "%matplotlib inline"
   ]
  },
  {
   "cell_type": "code",
   "execution_count": 1,
   "metadata": {
    "id": "ym6f2X2Vh0XC"
   },
   "outputs": [],
   "source": [
    "%%capture\n",
    "!pip install SpacyTextBlob\n",
    "!pip3 install spacymoji==2.0.0\n",
    "!pip3 uninstall spacy -y\n",
    "!pip3 install spacy==3"
   ]
  },
  {
   "cell_type": "code",
   "execution_count": null,
   "metadata": {
    "colab": {
     "base_uri": "https://localhost:8080/"
    },
    "id": "9XhOwkucFd76",
    "outputId": "310f30af-26e5-4826-f1a9-3c4a50a97331"
   },
   "outputs": [
    {
     "name": "stdout",
     "output_type": "stream",
     "text": [
      "Mounted at /content/drive\n"
     ]
    }
   ],
   "source": [
    "from google.colab import drive\n",
    "drive.mount('/content/drive')"
   ]
  },
  {
   "cell_type": "code",
   "execution_count": null,
   "metadata": {
    "id": "j9t2yD4LEMIa"
   },
   "outputs": [],
   "source": [
    "submissions_json = \"data/submissions_investing_20211126.json\""
   ]
  },
  {
   "cell_type": "code",
   "execution_count": null,
   "metadata": {
    "id": "LA9danw6EMIc"
   },
   "outputs": [],
   "source": [
    "from pathlib import Path\n",
    "# read json\n",
    "p = Path(submissions_json)\n",
    "\n",
    "with p.open('r', encoding='utf-8') as f:\n",
    "    data = json.loads(f.read())\n",
    "\n"
   ]
  },
  {
   "cell_type": "code",
   "execution_count": null,
   "metadata": {
    "colab": {
     "base_uri": "https://localhost:8080/"
    },
    "id": "iPkyLgflEMId",
    "outputId": "a31cea2a-72a0-4c2f-ef82-2603db2a17ed"
   },
   "outputs": [
    {
     "data": {
      "text/plain": [
       "['all_awardings',\n",
       " 'allow_live_comments',\n",
       " 'author',\n",
       " 'author_flair_css_class',\n",
       " 'author_flair_richtext',\n",
       " 'author_flair_text',\n",
       " 'author_flair_type',\n",
       " 'author_fullname',\n",
       " 'author_is_blocked',\n",
       " 'author_patreon_flair',\n",
       " 'author_premium',\n",
       " 'awarders',\n",
       " 'can_mod_post',\n",
       " 'contest_mode',\n",
       " 'created_utc',\n",
       " 'domain',\n",
       " 'full_link',\n",
       " 'gildings',\n",
       " 'id',\n",
       " 'is_created_from_ads_ui',\n",
       " 'is_crosspostable',\n",
       " 'is_meta',\n",
       " 'is_original_content',\n",
       " 'is_reddit_media_domain',\n",
       " 'is_robot_indexable',\n",
       " 'is_self',\n",
       " 'is_video',\n",
       " 'link_flair_background_color',\n",
       " 'link_flair_richtext',\n",
       " 'link_flair_text_color',\n",
       " 'link_flair_type',\n",
       " 'locked',\n",
       " 'media_only',\n",
       " 'no_follow',\n",
       " 'num_comments',\n",
       " 'num_crossposts',\n",
       " 'over_18',\n",
       " 'parent_whitelist_status',\n",
       " 'permalink',\n",
       " 'pinned',\n",
       " 'post_hint',\n",
       " 'preview',\n",
       " 'pwls',\n",
       " 'removed_by_category',\n",
       " 'retrieved_on',\n",
       " 'score',\n",
       " 'selftext',\n",
       " 'send_replies',\n",
       " 'spoiler',\n",
       " 'stickied',\n",
       " 'subreddit',\n",
       " 'subreddit_id',\n",
       " 'subreddit_subscribers',\n",
       " 'subreddit_type',\n",
       " 'thumbnail',\n",
       " 'title',\n",
       " 'total_awards_received',\n",
       " 'treatment_tags',\n",
       " 'upvote_ratio',\n",
       " 'url',\n",
       " 'whitelist_status',\n",
       " 'wls']"
      ]
     },
     "execution_count": 4,
     "metadata": {},
     "output_type": "execute_result"
    }
   ],
   "source": [
    "list(data[0].keys())"
   ]
  },
  {
   "cell_type": "code",
   "execution_count": null,
   "metadata": {
    "colab": {
     "base_uri": "https://localhost:8080/"
    },
    "id": "0EBDhBknkZRF",
    "outputId": "383f6650-4b41-465f-8cbe-c24a7cbadfa5"
   },
   "outputs": [
    {
     "data": {
      "text/plain": [
       "128379"
      ]
     },
     "execution_count": 5,
     "metadata": {},
     "output_type": "execute_result"
    }
   ],
   "source": [
    "len(data)"
   ]
  },
  {
   "cell_type": "code",
   "execution_count": null,
   "metadata": {
    "colab": {
     "base_uri": "https://localhost:8080/"
    },
    "id": "RSXp_-jwq5ft",
    "outputId": "50be3803-e06a-4ed3-c887-66786a5229cd"
   },
   "outputs": [
    {
     "name": "stdout",
     "output_type": "stream",
     "text": [
      "10\n"
     ]
    }
   ],
   "source": [
    "a = set([1, 2, 3,5])\n",
    "b = set([2, 3, 4,10])\n",
    "\n",
    "print(list(b-a)[0])"
   ]
  },
  {
   "cell_type": "code",
   "execution_count": null,
   "metadata": {
    "colab": {
     "base_uri": "https://localhost:8080/"
    },
    "id": "ALT2QkDuEMIf",
    "outputId": "8a4a1722-58a3-4623-cee9-015fe11283a6"
   },
   "outputs": [],
   "source": [
    "cols = [\n",
    " 'author', \n",
    " 'created_utc',  \n",
    " 'id', \n",
    "'link_flair_text',\n",
    " 'num_comments', \n",
    " 'score',\n",
    "  'subreddit_subscribers',   \n",
    " 'selftext', \n",
    " 'title', 'upvote_ratio'\n",
    "\n",
    "]\n",
    "\n",
    "\n",
    "df_data = []\n",
    "\n",
    "for doc in data:\n",
    "  #cols =list(doc.keys())\n",
    "  #print(list(doc.keys()))\n",
    "  #print(list(doc.values()))\n",
    "  #df_data.append(list(doc.values()))\n",
    "  #break\n",
    "    if  doc.keys() >= set(cols):\n",
    "        lst =  [doc['author'], doc['created_utc'],doc['id']\n",
    "                ,doc[ 'link_flair_text'], \n",
    "                doc['num_comments'],doc[ 'score'],\n",
    "                doc[ 'subreddit_subscribers'],doc['selftext'],doc['title'],\n",
    "                doc['upvote_ratio']          \n",
    "                ]\n",
    "        df_data.append(lst)\n",
    "    else:\n",
    "      missing_keys = list(set(cols) - doc.keys())\n",
    "      if (len(missing_keys) == 1) and (missing_keys[0] == 'selftext'):\n",
    "        #print('selftext')\n",
    "        lst =  [doc['author'], doc['created_utc'],doc['id']\n",
    "                  ,doc[ 'link_flair_text'], \n",
    "                  doc['num_comments'],doc[ 'score'],\n",
    "                  doc[ 'subreddit_subscribers'],\"NA\",doc['title'],\n",
    "                  doc['upvote_ratio']          \n",
    "                  ]\n",
    "        df_data.append(lst)\n",
    "      elif(len(missing_keys) == 1) and (missing_keys[0] == 'upvote_ratio'):\n",
    "        #print('upvote_ratio')\n",
    "        lst =  [doc['author'], doc['created_utc'],doc['id']\n",
    "                  ,doc[ 'link_flair_text'], \n",
    "                  doc['num_comments'],doc[ 'score'],\n",
    "                  doc[ 'subreddit_subscribers'],doc['selftext'],doc['title'],\n",
    "                  0          \n",
    "                  ]\n",
    "        df_data.append(lst)\n",
    "      elif(len(missing_keys) == 1) and (missing_keys[0] == 'link_flair_text'):\n",
    "        #print('upvote_ratio')\n",
    "        lst =  [doc['author'], doc['created_utc'],doc['id']\n",
    "                  ,\"NA\", \n",
    "                  doc['num_comments'],doc[ 'score'],\n",
    "                  doc[ 'subreddit_subscribers'],doc['selftext'],doc['title'],\n",
    "                   doc['upvote_ratio']            \n",
    "                  ]\n",
    "        df_data.append(lst)\n",
    "      elif ((len(missing_keys) == 2) and (missing_keys[0] == 'link_flair_text') and (missing_keys[1] == 'upvote_ratio')):\n",
    "          #print('upvote_ratio and link_flair_text')\n",
    "          lst =  [doc['author'], doc['created_utc'],doc['id']\n",
    "                  ,\"NA\", \n",
    "                  doc['num_comments'],doc[ 'score'],\n",
    "                  doc[ 'subreddit_subscribers'],doc['selftext'],doc['title'],\n",
    "                  0          \n",
    "                  ]\n",
    "          df_data.append(lst)\n",
    "      elif ((len(missing_keys) == 2) and (missing_keys[0] == 'upvote_ratio') and (missing_keys[1] == 'selftext')):\n",
    "          #print('upvote_ratio and link_flair_text')\n",
    "          lst =  [doc['author'], doc['created_utc'],doc['id']\n",
    "                 ,doc[ 'link_flair_text'],\n",
    "                  doc['num_comments'],doc[ 'score'],\n",
    "                  doc[ 'subreddit_subscribers'],\"NA\",doc['title'],\n",
    "                  0          \n",
    "                  ]\n",
    "          df_data.append(lst)\n",
    "      elif ((len(missing_keys) == 2) and (missing_keys[0] == 'link_flair_text') and (missing_keys[1] == 'selftext')):\n",
    "          #print('upvote_ratio and link_flair_text')\n",
    "          lst =  [doc['author'], doc['created_utc'],doc['id']\n",
    "                 ,\"NA\",\n",
    "                  doc['num_comments'],doc[ 'score'],\n",
    "                  doc[ 'subreddit_subscribers'],\"NA\",doc['title'],\n",
    "                  doc['upvote_ratio']           \n",
    "                  ]\n",
    "          df_data.append(lst)\n",
    "      elif ((len(missing_keys) == 3) and (missing_keys[0] == 'link_flair_text') and (missing_keys[1] == 'upvote_ratio')):\n",
    "          #print('upvote_ratio and link_flair_text')\n",
    "          print(missing_keys)\n",
    "          lst =  [doc['author'], doc['created_utc'],doc['id']\n",
    "                 ,\"NA\",\n",
    "                  doc['num_comments'],doc[ 'score'],\n",
    "                  0,doc['selftext'],doc['title'],\n",
    "                  0          \n",
    "                  ]\n",
    "          df_data.append(lst)\n",
    "      elif ((len(missing_keys) == 3) and (missing_keys[0] == 'selftext') and (missing_keys[1] == 'link_flair_text')):\n",
    "          #print('upvote_ratio and link_flair_text')\n",
    "          lst =  [doc['author'], doc['created_utc'],doc['id']\n",
    "                 ,\"NA\",\n",
    "                  doc['num_comments'],doc[ 'score'],\n",
    "                  doc[ 'subreddit_subscribers'],\"NA\",doc['title'],\n",
    "                  0           \n",
    "                  ]\n",
    "          df_data.append(lst)\n",
    "      else:\n",
    "        print(missing_keys)\n",
    "        #print(doc) \n",
    "        #print(doc.values()) \n",
    "        \n",
    "\n",
    "df = pd.DataFrame(data=df_data,columns=cols)\n",
    "df.info()"
   ]
  },
  {
   "cell_type": "code",
   "execution_count": null,
   "metadata": {
    "colab": {
     "base_uri": "https://localhost:8080/"
    },
    "id": "OxMqUc3YEMIh",
    "outputId": "7cded044-313c-4d22-c3b1-725f63359279"
   },
   "outputs": [
    {
     "name": "stdout",
     "output_type": "stream",
     "text": [
      "<class 'pandas.core.frame.DataFrame'>\n",
      "RangeIndex: 127768 entries, 0 to 127767\n",
      "Data columns (total 10 columns):\n",
      " #   Column                 Non-Null Count   Dtype  \n",
      "---  ------                 --------------   -----  \n",
      " 0   author                 127768 non-null  object \n",
      " 1   created_utc            127768 non-null  int64  \n",
      " 2   id                     127768 non-null  object \n",
      " 3   link_flair_text        127765 non-null  object \n",
      " 4   num_comments           127768 non-null  int64  \n",
      " 5   score                  127768 non-null  int64  \n",
      " 6   subreddit_subscribers  127768 non-null  int64  \n",
      " 7   selftext               127768 non-null  object \n",
      " 8   title                  127768 non-null  object \n",
      " 9   upvote_ratio           127768 non-null  float64\n",
      "dtypes: float64(1), int64(4), object(5)\n",
      "memory usage: 9.7+ MB\n"
     ]
    }
   ],
   "source": [
    "df.info()"
   ]
  },
  {
   "cell_type": "code",
   "execution_count": null,
   "metadata": {
    "id": "CAfRa2AMEMIj"
   },
   "outputs": [],
   "source": [
    "df.to_csv(\"data/investing_submissions_all.csv\", sep=\";\")"
   ]
  },
  {
   "cell_type": "code",
   "execution_count": null,
   "metadata": {
    "colab": {
     "base_uri": "https://localhost:8080/",
     "height": 345
    },
    "id": "q0RH3I0fEMIm",
    "outputId": "0c28783a-c20c-49e9-f4bb-9cf0e2854d54"
   },
   "outputs": [
    {
     "data": {
      "text/html": [
       "<div>\n",
       "<style scoped>\n",
       "    .dataframe tbody tr th:only-of-type {\n",
       "        vertical-align: middle;\n",
       "    }\n",
       "\n",
       "    .dataframe tbody tr th {\n",
       "        vertical-align: top;\n",
       "    }\n",
       "\n",
       "    .dataframe thead th {\n",
       "        text-align: right;\n",
       "    }\n",
       "</style>\n",
       "<table border=\"1\" class=\"dataframe\">\n",
       "  <thead>\n",
       "    <tr style=\"text-align: right;\">\n",
       "      <th></th>\n",
       "      <th>author</th>\n",
       "      <th>created_utc</th>\n",
       "      <th>id</th>\n",
       "      <th>link_flair_text</th>\n",
       "      <th>num_comments</th>\n",
       "      <th>score</th>\n",
       "      <th>subreddit_subscribers</th>\n",
       "      <th>selftext</th>\n",
       "      <th>title</th>\n",
       "      <th>upvote_ratio</th>\n",
       "    </tr>\n",
       "  </thead>\n",
       "  <tbody>\n",
       "    <tr>\n",
       "      <th>0</th>\n",
       "      <td>plszvlko</td>\n",
       "      <td>1637939870</td>\n",
       "      <td>r2po7v</td>\n",
       "      <td>NA</td>\n",
       "      <td>1</td>\n",
       "      <td>1</td>\n",
       "      <td>1955286</td>\n",
       "      <td>[removed]</td>\n",
       "      <td>What do you use to invest?</td>\n",
       "      <td>1.0</td>\n",
       "    </tr>\n",
       "    <tr>\n",
       "      <th>1</th>\n",
       "      <td>eopif</td>\n",
       "      <td>1637937793</td>\n",
       "      <td>r2oynm</td>\n",
       "      <td>NA</td>\n",
       "      <td>1</td>\n",
       "      <td>1</td>\n",
       "      <td>1955263</td>\n",
       "      <td>[removed]</td>\n",
       "      <td>Where does flow data providers get their data ...</td>\n",
       "      <td>1.0</td>\n",
       "    </tr>\n",
       "    <tr>\n",
       "      <th>2</th>\n",
       "      <td>VonDerBerg</td>\n",
       "      <td>1637935888</td>\n",
       "      <td>r2ob2e</td>\n",
       "      <td>NA</td>\n",
       "      <td>1</td>\n",
       "      <td>1</td>\n",
       "      <td>1955253</td>\n",
       "      <td>So the markets are tanking on new variant news...</td>\n",
       "      <td>$NVAX new variant. Approvals. Lift-off.</td>\n",
       "      <td>1.0</td>\n",
       "    </tr>\n",
       "    <tr>\n",
       "      <th>3</th>\n",
       "      <td>AccountForFinance</td>\n",
       "      <td>1637935867</td>\n",
       "      <td>r2oaua</td>\n",
       "      <td>NA</td>\n",
       "      <td>1</td>\n",
       "      <td>1</td>\n",
       "      <td>1955253</td>\n",
       "      <td>[removed]</td>\n",
       "      <td>Need Advice re % Allocation to Stocks and ROTH...</td>\n",
       "      <td>1.0</td>\n",
       "    </tr>\n",
       "    <tr>\n",
       "      <th>4</th>\n",
       "      <td>ascends-me</td>\n",
       "      <td>1637934997</td>\n",
       "      <td>r2o0ww</td>\n",
       "      <td>NA</td>\n",
       "      <td>1</td>\n",
       "      <td>1</td>\n",
       "      <td>1955247</td>\n",
       "      <td>[removed]</td>\n",
       "      <td>how do you seek crypto guidance?</td>\n",
       "      <td>1.0</td>\n",
       "    </tr>\n",
       "  </tbody>\n",
       "</table>\n",
       "</div>"
      ],
      "text/plain": [
       "              author  created_utc      id link_flair_text  num_comments  \\\n",
       "0           plszvlko   1637939870  r2po7v              NA             1   \n",
       "1              eopif   1637937793  r2oynm              NA             1   \n",
       "2         VonDerBerg   1637935888  r2ob2e              NA             1   \n",
       "3  AccountForFinance   1637935867  r2oaua              NA             1   \n",
       "4         ascends-me   1637934997  r2o0ww              NA             1   \n",
       "\n",
       "   score  subreddit_subscribers  \\\n",
       "0      1                1955286   \n",
       "1      1                1955263   \n",
       "2      1                1955253   \n",
       "3      1                1955253   \n",
       "4      1                1955247   \n",
       "\n",
       "                                            selftext  \\\n",
       "0                                          [removed]   \n",
       "1                                          [removed]   \n",
       "2  So the markets are tanking on new variant news...   \n",
       "3                                          [removed]   \n",
       "4                                          [removed]   \n",
       "\n",
       "                                               title  upvote_ratio  \n",
       "0                         What do you use to invest?           1.0  \n",
       "1  Where does flow data providers get their data ...           1.0  \n",
       "2            $NVAX new variant. Approvals. Lift-off.           1.0  \n",
       "3  Need Advice re % Allocation to Stocks and ROTH...           1.0  \n",
       "4                   how do you seek crypto guidance?           1.0  "
      ]
     },
     "execution_count": 14,
     "metadata": {},
     "output_type": "execute_result"
    }
   ],
   "source": [
    "df.head()"
   ]
  },
  {
   "cell_type": "code",
   "execution_count": null,
   "metadata": {
    "id": "xUatGY1QEMIq"
   },
   "outputs": [],
   "source": [
    "df['created_utc'] = pd.to_datetime(df['created_utc'], unit='s')"
   ]
  },
  {
   "cell_type": "code",
   "execution_count": null,
   "metadata": {
    "id": "DVRfYAWyEMIr"
   },
   "outputs": [],
   "source": [
    "#set created_utc as index\n",
    "#df.set_index('created_utc')\n",
    "\n",
    "df.index = pd.DatetimeIndex(df.created_utc)\n"
   ]
  },
  {
   "cell_type": "code",
   "execution_count": null,
   "metadata": {
    "colab": {
     "base_uri": "https://localhost:8080/",
     "height": 553
    },
    "id": "qlI2H0K_EMIt",
    "outputId": "f819d25c-ad78-4426-937c-f605b5c85011"
   },
   "outputs": [
    {
     "data": {
      "text/html": [
       "<div>\n",
       "<style scoped>\n",
       "    .dataframe tbody tr th:only-of-type {\n",
       "        vertical-align: middle;\n",
       "    }\n",
       "\n",
       "    .dataframe tbody tr th {\n",
       "        vertical-align: top;\n",
       "    }\n",
       "\n",
       "    .dataframe thead th {\n",
       "        text-align: right;\n",
       "    }\n",
       "</style>\n",
       "<table border=\"1\" class=\"dataframe\">\n",
       "  <thead>\n",
       "    <tr style=\"text-align: right;\">\n",
       "      <th></th>\n",
       "      <th>author</th>\n",
       "      <th>created_utc</th>\n",
       "      <th>id</th>\n",
       "      <th>link_flair_text</th>\n",
       "      <th>num_comments</th>\n",
       "      <th>score</th>\n",
       "      <th>subreddit_subscribers</th>\n",
       "      <th>selftext</th>\n",
       "      <th>title</th>\n",
       "      <th>upvote_ratio</th>\n",
       "    </tr>\n",
       "    <tr>\n",
       "      <th>created_utc</th>\n",
       "      <th></th>\n",
       "      <th></th>\n",
       "      <th></th>\n",
       "      <th></th>\n",
       "      <th></th>\n",
       "      <th></th>\n",
       "      <th></th>\n",
       "      <th></th>\n",
       "      <th></th>\n",
       "      <th></th>\n",
       "    </tr>\n",
       "  </thead>\n",
       "  <tbody>\n",
       "    <tr>\n",
       "      <th>2017-12-29 22:35:34</th>\n",
       "      <td>SolarSurfer7</td>\n",
       "      <td>2017-12-29 22:35:34</td>\n",
       "      <td>7mxl2u</td>\n",
       "      <td>NA</td>\n",
       "      <td>19</td>\n",
       "      <td>2</td>\n",
       "      <td>0</td>\n",
       "      <td>With all of the Canadian pot stocks going para...</td>\n",
       "      <td>Canadian Pot Market Cap Napkin Calcs</td>\n",
       "      <td>0.0</td>\n",
       "    </tr>\n",
       "    <tr>\n",
       "      <th>2017-12-29 21:14:45</th>\n",
       "      <td>koolkavi2</td>\n",
       "      <td>2017-12-29 21:14:45</td>\n",
       "      <td>7mx3f1</td>\n",
       "      <td>NA</td>\n",
       "      <td>0</td>\n",
       "      <td>1</td>\n",
       "      <td>0</td>\n",
       "      <td>I am relatively new to investing and have been...</td>\n",
       "      <td>What are US-domiciled funds?</td>\n",
       "      <td>0.0</td>\n",
       "    </tr>\n",
       "    <tr>\n",
       "      <th>2017-12-29 20:17:47</th>\n",
       "      <td>Bcrane0305</td>\n",
       "      <td>2017-12-29 20:17:47</td>\n",
       "      <td>7mwqss</td>\n",
       "      <td>NA</td>\n",
       "      <td>5</td>\n",
       "      <td>3</td>\n",
       "      <td>0</td>\n",
       "      <td>What would his job title be if it really exist...</td>\n",
       "      <td>Gordon Gekko-Wall street</td>\n",
       "      <td>0.0</td>\n",
       "    </tr>\n",
       "    <tr>\n",
       "      <th>2017-12-29 19:00:35</th>\n",
       "      <td>runawaytrainmaster</td>\n",
       "      <td>2017-12-29 19:00:35</td>\n",
       "      <td>7mw93s</td>\n",
       "      <td>NA</td>\n",
       "      <td>7</td>\n",
       "      <td>2</td>\n",
       "      <td>0</td>\n",
       "      <td>i have a unique situation with my home equity ...</td>\n",
       "      <td>dump savings into home equity before selling?</td>\n",
       "      <td>0.0</td>\n",
       "    </tr>\n",
       "    <tr>\n",
       "      <th>2017-12-29 18:43:47</th>\n",
       "      <td>IndexMyAss</td>\n",
       "      <td>2017-12-29 18:43:47</td>\n",
       "      <td>7mw58w</td>\n",
       "      <td>NA</td>\n",
       "      <td>4</td>\n",
       "      <td>16</td>\n",
       "      <td>0</td>\n",
       "      <td>My account shows that it takes 2 days for cash...</td>\n",
       "      <td>Why do options take only 1 day to settle where...</td>\n",
       "      <td>0.0</td>\n",
       "    </tr>\n",
       "  </tbody>\n",
       "</table>\n",
       "</div>"
      ],
      "text/plain": [
       "                                 author         created_utc      id  \\\n",
       "created_utc                                                           \n",
       "2017-12-29 22:35:34        SolarSurfer7 2017-12-29 22:35:34  7mxl2u   \n",
       "2017-12-29 21:14:45           koolkavi2 2017-12-29 21:14:45  7mx3f1   \n",
       "2017-12-29 20:17:47          Bcrane0305 2017-12-29 20:17:47  7mwqss   \n",
       "2017-12-29 19:00:35  runawaytrainmaster 2017-12-29 19:00:35  7mw93s   \n",
       "2017-12-29 18:43:47          IndexMyAss 2017-12-29 18:43:47  7mw58w   \n",
       "\n",
       "                    link_flair_text  num_comments  score  \\\n",
       "created_utc                                                \n",
       "2017-12-29 22:35:34              NA            19      2   \n",
       "2017-12-29 21:14:45              NA             0      1   \n",
       "2017-12-29 20:17:47              NA             5      3   \n",
       "2017-12-29 19:00:35              NA             7      2   \n",
       "2017-12-29 18:43:47              NA             4     16   \n",
       "\n",
       "                     subreddit_subscribers  \\\n",
       "created_utc                                  \n",
       "2017-12-29 22:35:34                      0   \n",
       "2017-12-29 21:14:45                      0   \n",
       "2017-12-29 20:17:47                      0   \n",
       "2017-12-29 19:00:35                      0   \n",
       "2017-12-29 18:43:47                      0   \n",
       "\n",
       "                                                              selftext  \\\n",
       "created_utc                                                              \n",
       "2017-12-29 22:35:34  With all of the Canadian pot stocks going para...   \n",
       "2017-12-29 21:14:45  I am relatively new to investing and have been...   \n",
       "2017-12-29 20:17:47  What would his job title be if it really exist...   \n",
       "2017-12-29 19:00:35  i have a unique situation with my home equity ...   \n",
       "2017-12-29 18:43:47  My account shows that it takes 2 days for cash...   \n",
       "\n",
       "                                                                 title  \\\n",
       "created_utc                                                              \n",
       "2017-12-29 22:35:34               Canadian Pot Market Cap Napkin Calcs   \n",
       "2017-12-29 21:14:45                       What are US-domiciled funds?   \n",
       "2017-12-29 20:17:47                           Gordon Gekko-Wall street   \n",
       "2017-12-29 19:00:35      dump savings into home equity before selling?   \n",
       "2017-12-29 18:43:47  Why do options take only 1 day to settle where...   \n",
       "\n",
       "                     upvote_ratio  \n",
       "created_utc                        \n",
       "2017-12-29 22:35:34           0.0  \n",
       "2017-12-29 21:14:45           0.0  \n",
       "2017-12-29 20:17:47           0.0  \n",
       "2017-12-29 19:00:35           0.0  \n",
       "2017-12-29 18:43:47           0.0  "
      ]
     },
     "execution_count": 17,
     "metadata": {},
     "output_type": "execute_result"
    }
   ],
   "source": [
    "df.tail()"
   ]
  },
  {
   "cell_type": "markdown",
   "metadata": {
    "id": "o-RbMJUREMIv"
   },
   "source": [
    "# 3. Exploratory Data Analysis"
   ]
  },
  {
   "cell_type": "markdown",
   "metadata": {
    "id": "AUdPpQQ2EMIy"
   },
   "source": [
    "## 3.1. Number of submissions"
   ]
  },
  {
   "cell_type": "code",
   "execution_count": null,
   "metadata": {
    "colab": {
     "base_uri": "https://localhost:8080/",
     "height": 350
    },
    "id": "CJFYP62MEMI0",
    "outputId": "14d8b87c-e237-4088-afc4-c23d02f9f0ea"
   },
   "outputs": [
    {
     "data": {
      "image/png": "[encoded data removed]",
      "text/plain": [
       "<Figure size 1080x360 with 1 Axes>"
      ]
     },
     "metadata": {
      "needs_background": "light"
     },
     "output_type": "display_data"
    }
   ],
   "source": [
    "df_submissions = df.groupby(pd.Grouper(freq=\"D\"))[\"id\"].count()\n",
    " \n",
    "\n",
    "plt.figure(figsize=(15,5))\n",
    "plt.plot(df_submissions)\n",
    "plt.xlabel(\"Months\")\n",
    "plt.ylabel(\"Number of submissions\")\n",
    "plt.title(\"Number of submissions\")\n",
    "plt.show()"
   ]
  },
  {
   "cell_type": "markdown",
   "metadata": {
    "id": "8s6dHO1LEMI2"
   },
   "source": [
    "## 3.2. Number of subscribers"
   ]
  },
  {
   "cell_type": "code",
   "execution_count": null,
   "metadata": {
    "colab": {
     "base_uri": "https://localhost:8080/",
     "height": 350
    },
    "id": "2fN6i9HSEMI3",
    "outputId": "4702bb1d-7817-4f48-87ee-3c710935011c"
   },
   "outputs": [
    {
     "data": {
      "image/png": "[encoded data removed]",
      "text/plain": [
       "<Figure size 1080x360 with 1 Axes>"
      ]
     },
     "metadata": {
      "needs_background": "light"
     },
     "output_type": "display_data"
    }
   ],
   "source": [
    "df_subscribers = df.groupby(pd.Grouper(freq=\"D\"))[\"subreddit_subscribers\"].nth(-1)\n",
    "# print(df_subscribers)\n",
    "\n",
    "plt.figure(figsize=(15,5))\n",
    "plt.plot(df_subscribers)\n",
    "plt.xlabel(\"Months\")\n",
    "plt.ylabel(\"Number of subscribers\")\n",
    "plt.title(\"Number of subscribers\")\n",
    "plt.show()"
   ]
  },
  {
   "cell_type": "markdown",
   "metadata": {
    "id": "hauLX23PEMI5"
   },
   "source": [
    "## 3.3. Number of submissions by flair"
   ]
  },
  {
   "cell_type": "code",
   "execution_count": null,
   "metadata": {
    "colab": {
     "base_uri": "https://localhost:8080/"
    },
    "id": "dO_XtqLnEMI6",
    "outputId": "85c13e24-b9b5-4da7-9fd1-1a8f33135f87"
   },
   "outputs": [
    {
     "name": "stdout",
     "output_type": "stream",
     "text": [
      "5 flair categories:\n",
      "['NA' 'Discussion' 'Help' 'News' 'Education']\n",
      "\n",
      "Top 15 flair count:\n",
      "link_flair_text\n",
      "NA            125244\n",
      "Discussion       890\n",
      "Help             766\n",
      "News             593\n",
      "Education        272\n",
      "Name: link_flair_text, dtype: int64\n"
     ]
    }
   ],
   "source": [
    "df_flairs = df.groupby(\"link_flair_text\")[\"link_flair_text\"].count().sort_values(ascending=False)\n",
    "print(f\"{len(df_flairs)} flair categories:\\n{df_flairs.index.values}\\n\")\n",
    "print(f\"Top 15 flair count:\\n{df_flairs.head(15)}\")"
   ]
  },
  {
   "cell_type": "code",
   "execution_count": null,
   "metadata": {
    "colab": {
     "base_uri": "https://localhost:8080/",
     "height": 442
    },
    "id": "ad_WdMWDEMI8",
    "outputId": "ef134a5f-efc2-41c2-e299-29fafd45e57d"
   },
   "outputs": [
    {
     "data": {
      "text/plain": [
       "<AxesSubplot:xlabel='link_flair_text'>"
      ]
     },
     "execution_count": 21,
     "metadata": {},
     "output_type": "execute_result"
    },
    {
     "data": {
      "image/png": "[encoded data removed]",
      "text/plain": [
       "<Figure size 432x288 with 1 Axes>"
      ]
     },
     "metadata": {
      "needs_background": "light"
     },
     "output_type": "display_data"
    }
   ],
   "source": [
    "df_flairs.plot.bar()"
   ]
  },
  {
   "cell_type": "markdown",
   "metadata": {
    "id": "8CuDJL46EMI-"
   },
   "source": [
    "## 3.4. Top authors by submissions"
   ]
  },
  {
   "cell_type": "code",
   "execution_count": null,
   "metadata": {
    "colab": {
     "base_uri": "https://localhost:8080/"
    },
    "id": "FaHtgo4OEMI_",
    "outputId": "ce2af11d-9269-4edc-dc9b-9c231a1838c8"
   },
   "outputs": [
    {
     "name": "stdout",
     "output_type": "stream",
     "text": [
      "Top 15 authors:\n",
      "author\n",
      "[deleted]              3450\n",
      "AutoModerator          1454\n",
      "coolcomfort123          375\n",
      "dailystockalert         323\n",
      "NineteenEighty9         204\n",
      "pipsdontsqueak          176\n",
      "markyu007               169\n",
      "COMPUTER1313            150\n",
      "mrinalinimoneymaker     142\n",
      "howtoreadspaghetti      132\n",
      "wealthbuild-up          123\n",
      "MrCrickets              120\n",
      "etienner                112\n",
      "StocksHighAlert         110\n",
      "huongdinhant            106\n",
      "Name: author, dtype: int64\n"
     ]
    }
   ],
   "source": [
    "df_authors = df.groupby(\"author\")[\"author\"].count().sort_values(ascending=False)\n",
    "print(f\"Top 15 authors:\\n{df_authors.head(15)}\")\n"
   ]
  },
  {
   "cell_type": "code",
   "execution_count": null,
   "metadata": {
    "colab": {
     "base_uri": "https://localhost:8080/",
     "height": 376
    },
    "id": "oV_-RBEFFRB_",
    "outputId": "734ebd5d-e0d7-4fb6-96cd-427fc9e194ac"
   },
   "outputs": [
    {
     "data": {
      "text/html": [
       "<div>\n",
       "<style scoped>\n",
       "    .dataframe tbody tr th:only-of-type {\n",
       "        vertical-align: middle;\n",
       "    }\n",
       "\n",
       "    .dataframe tbody tr th {\n",
       "        vertical-align: top;\n",
       "    }\n",
       "\n",
       "    .dataframe thead th {\n",
       "        text-align: right;\n",
       "    }\n",
       "</style>\n",
       "<table border=\"1\" class=\"dataframe\">\n",
       "  <thead>\n",
       "    <tr style=\"text-align: right;\">\n",
       "      <th></th>\n",
       "      <th>Unnamed: 0</th>\n",
       "      <th>author</th>\n",
       "      <th>created_utc</th>\n",
       "      <th>id</th>\n",
       "      <th>link_flair_text</th>\n",
       "      <th>num_comments</th>\n",
       "      <th>score</th>\n",
       "      <th>subreddit_subscribers</th>\n",
       "      <th>selftext</th>\n",
       "      <th>title</th>\n",
       "      <th>upvote_ratio</th>\n",
       "    </tr>\n",
       "    <tr>\n",
       "      <th>created_utc</th>\n",
       "      <th></th>\n",
       "      <th></th>\n",
       "      <th></th>\n",
       "      <th></th>\n",
       "      <th></th>\n",
       "      <th></th>\n",
       "      <th></th>\n",
       "      <th></th>\n",
       "      <th></th>\n",
       "      <th></th>\n",
       "      <th></th>\n",
       "    </tr>\n",
       "  </thead>\n",
       "  <tbody>\n",
       "    <tr>\n",
       "      <th>2018-12-31 15:05:18</th>\n",
       "      <td>861747</td>\n",
       "      <td>Leading_Breath</td>\n",
       "      <td>2018-12-31 15:05:18</td>\n",
       "      <td>ab7upy</td>\n",
       "      <td>NaN</td>\n",
       "      <td>417</td>\n",
       "      <td>1</td>\n",
       "      <td>454678</td>\n",
       "      <td>NaN</td>\n",
       "      <td>\"I don't give a shit about Tesla I just want t...</td>\n",
       "      <td>0.0</td>\n",
       "    </tr>\n",
       "    <tr>\n",
       "      <th>2018-12-31 14:45:20</th>\n",
       "      <td>861748</td>\n",
       "      <td>skitty2</td>\n",
       "      <td>2018-12-31 14:45:20</td>\n",
       "      <td>ab7oz6</td>\n",
       "      <td>NaN</td>\n",
       "      <td>8</td>\n",
       "      <td>1</td>\n",
       "      <td>454674</td>\n",
       "      <td>The whole next year will be green.</td>\n",
       "      <td>If today closes green</td>\n",
       "      <td>0.0</td>\n",
       "    </tr>\n",
       "    <tr>\n",
       "      <th>2018-12-31 14:40:30</th>\n",
       "      <td>861749</td>\n",
       "      <td>Googs84</td>\n",
       "      <td>2018-12-31 14:40:30</td>\n",
       "      <td>ab7nkw</td>\n",
       "      <td>Shitpost</td>\n",
       "      <td>0</td>\n",
       "      <td>1</td>\n",
       "      <td>454672</td>\n",
       "      <td>Happy New Year to all you degenerates includin...</td>\n",
       "      <td>Happy New Year Degenerates</td>\n",
       "      <td>0.0</td>\n",
       "    </tr>\n",
       "    <tr>\n",
       "      <th>2018-12-31 14:34:10</th>\n",
       "      <td>861750</td>\n",
       "      <td>neocoff</td>\n",
       "      <td>2018-12-31 14:34:10</td>\n",
       "      <td>ab7lu7</td>\n",
       "      <td>NaN</td>\n",
       "      <td>7</td>\n",
       "      <td>1</td>\n",
       "      <td>454672</td>\n",
       "      <td>NaN</td>\n",
       "      <td>Chip stocks set for worst quarter in a decade....</td>\n",
       "      <td>0.0</td>\n",
       "    </tr>\n",
       "    <tr>\n",
       "      <th>2018-12-31 14:29:50</th>\n",
       "      <td>861751</td>\n",
       "      <td>Brodmann</td>\n",
       "      <td>2018-12-31 14:29:50</td>\n",
       "      <td>ab7km1</td>\n",
       "      <td>Discussion</td>\n",
       "      <td>2</td>\n",
       "      <td>1</td>\n",
       "      <td>454671</td>\n",
       "      <td>NaN</td>\n",
       "      <td>Aphria down 7% premarket; Questions Surface if...</td>\n",
       "      <td>0.0</td>\n",
       "    </tr>\n",
       "  </tbody>\n",
       "</table>\n",
       "</div>"
      ],
      "text/plain": [
       "                     Unnamed: 0  ... upvote_ratio\n",
       "created_utc                      ...             \n",
       "2018-12-31 15:05:18      861747  ...          0.0\n",
       "2018-12-31 14:45:20      861748  ...          0.0\n",
       "2018-12-31 14:40:30      861749  ...          0.0\n",
       "2018-12-31 14:34:10      861750  ...          0.0\n",
       "2018-12-31 14:29:50      861751  ...          0.0\n",
       "\n",
       "[5 rows x 11 columns]"
      ]
     },
     "execution_count": 12,
     "metadata": {},
     "output_type": "execute_result"
    }
   ],
   "source": [
    "df = pd.read_csv(\"/content/drive/MyDrive/WSB/WSB_submissions_all.csv\", sep=\";\")\n",
    "df['created_utc'] = pd.to_datetime(df['created_utc'], unit='s')\n",
    "df.index = pd.DatetimeIndex(df.created_utc)\n",
    "df.tail()"
   ]
  },
  {
   "cell_type": "markdown",
   "metadata": {
    "id": "GAcxDbQIEMJD"
   },
   "source": [
    "# 2. Find Sentiment"
   ]
  },
  {
   "cell_type": "markdown",
   "metadata": {
    "id": "tpC9b1CzEMJD"
   },
   "source": [
    "## 2.1. Intialize pipline\n",
    "\n",
    "<!-- ![nlp_pipeline](https://spacy.io/pipeline-fde48da9b43661abcdf62ab70a546d71.svg) -->"
   ]
  },
  {
   "cell_type": "code",
   "execution_count": 7,
   "metadata": {
    "colab": {
     "base_uri": "https://localhost:8080/"
    },
    "id": "MR7eLdQhEMJE",
    "outputId": "054d6cb6-1b20-4713-ee42-c46ea9231404"
   },
   "outputs": [
    {
     "name": "stdout",
     "output_type": "stream",
     "text": [
      "['sentiment']\n"
     ]
    }
   ],
   "source": [
    "# nlp = spacy.load(\"en_core_web_lg\")\n",
    "\n",
    "nlp = spacy.blank(\"en\")\n",
    "if \"spacytextblob\" not in nlp.pipe_names:\n",
    "    nlp.add_pipe(\"spacytextblob\")\n",
    "    nlp.rename_pipe(\"spacytextblob\", \"sentiment\")\n",
    "print(nlp.pipe_names)"
   ]
  },
  {
   "cell_type": "markdown",
   "metadata": {
    "id": "GPJtDtp2EMJF"
   },
   "source": [
    "## 2.2. Find sentiment"
   ]
  },
  {
   "cell_type": "code",
   "execution_count": null,
   "metadata": {
    "colab": {
     "base_uri": "https://localhost:8080/",
     "height": 518
    },
    "id": "RvWDH2JxEMJG",
    "outputId": "c52950ad-1eec-4f2e-8714-6e7e84b5007c"
   },
   "outputs": [
    {
     "data": {
      "text/html": [
       "<div>\n",
       "<style scoped>\n",
       "    .dataframe tbody tr th:only-of-type {\n",
       "        vertical-align: middle;\n",
       "    }\n",
       "\n",
       "    .dataframe tbody tr th {\n",
       "        vertical-align: top;\n",
       "    }\n",
       "\n",
       "    .dataframe thead th {\n",
       "        text-align: right;\n",
       "    }\n",
       "</style>\n",
       "<table border=\"1\" class=\"dataframe\">\n",
       "  <thead>\n",
       "    <tr style=\"text-align: right;\">\n",
       "      <th></th>\n",
       "      <th>author</th>\n",
       "      <th>created_utc</th>\n",
       "      <th>id</th>\n",
       "      <th>link_flair_text</th>\n",
       "      <th>num_comments</th>\n",
       "      <th>score</th>\n",
       "      <th>subreddit_subscribers</th>\n",
       "      <th>selftext</th>\n",
       "      <th>title</th>\n",
       "      <th>upvote_ratio</th>\n",
       "      <th>title_polarity</th>\n",
       "      <th>title_subjectivity</th>\n",
       "      <th>body_polarity</th>\n",
       "      <th>body_subjectivity</th>\n",
       "      <th>polarity</th>\n",
       "      <th>title_tokens</th>\n",
       "      <th>selftext_tokens</th>\n",
       "    </tr>\n",
       "    <tr>\n",
       "      <th>created_utc</th>\n",
       "      <th></th>\n",
       "      <th></th>\n",
       "      <th></th>\n",
       "      <th></th>\n",
       "      <th></th>\n",
       "      <th></th>\n",
       "      <th></th>\n",
       "      <th></th>\n",
       "      <th></th>\n",
       "      <th></th>\n",
       "      <th></th>\n",
       "      <th></th>\n",
       "      <th></th>\n",
       "      <th></th>\n",
       "      <th></th>\n",
       "      <th></th>\n",
       "      <th></th>\n",
       "    </tr>\n",
       "  </thead>\n",
       "  <tbody>\n",
       "    <tr>\n",
       "      <th>2021-11-26 15:17:50</th>\n",
       "      <td>plszvlko</td>\n",
       "      <td>2021-11-26 15:17:50</td>\n",
       "      <td>r2po7v</td>\n",
       "      <td>NA</td>\n",
       "      <td>1</td>\n",
       "      <td>1</td>\n",
       "      <td>1955286</td>\n",
       "      <td>[removed]</td>\n",
       "      <td>What do you use to invest?</td>\n",
       "      <td>1.0</td>\n",
       "      <td>0.000000</td>\n",
       "      <td>0.000000</td>\n",
       "      <td>0.000000</td>\n",
       "      <td>0.000000</td>\n",
       "      <td>0.000000</td>\n",
       "      <td>[What, do, you, use, to, invest, ?]</td>\n",
       "      <td>[[, removed, ]]</td>\n",
       "    </tr>\n",
       "    <tr>\n",
       "      <th>2021-11-26 14:43:13</th>\n",
       "      <td>eopif</td>\n",
       "      <td>2021-11-26 14:43:13</td>\n",
       "      <td>r2oynm</td>\n",
       "      <td>NA</td>\n",
       "      <td>1</td>\n",
       "      <td>1</td>\n",
       "      <td>1955263</td>\n",
       "      <td>[removed]</td>\n",
       "      <td>Where does flow data providers get their data ...</td>\n",
       "      <td>1.0</td>\n",
       "      <td>0.000000</td>\n",
       "      <td>0.000000</td>\n",
       "      <td>0.000000</td>\n",
       "      <td>0.000000</td>\n",
       "      <td>0.000000</td>\n",
       "      <td>[Where, does, flow, data, providers, get, thei...</td>\n",
       "      <td>[[, removed, ]]</td>\n",
       "    </tr>\n",
       "    <tr>\n",
       "      <th>2021-11-26 14:11:28</th>\n",
       "      <td>VonDerBerg</td>\n",
       "      <td>2021-11-26 14:11:28</td>\n",
       "      <td>r2ob2e</td>\n",
       "      <td>NA</td>\n",
       "      <td>1</td>\n",
       "      <td>1</td>\n",
       "      <td>1955253</td>\n",
       "      <td>So the markets are tanking on new variant news...</td>\n",
       "      <td>$NVAX new variant. Approvals. Lift-off.</td>\n",
       "      <td>1.0</td>\n",
       "      <td>0.136364</td>\n",
       "      <td>0.454545</td>\n",
       "      <td>0.094084</td>\n",
       "      <td>0.514141</td>\n",
       "      <td>0.230447</td>\n",
       "      <td>[$, NVAX, new, variant, ., Approvals, ., Lift,...</td>\n",
       "      <td>[So, the, markets, are, tanking, on, new, vari...</td>\n",
       "    </tr>\n",
       "    <tr>\n",
       "      <th>2021-11-26 14:11:07</th>\n",
       "      <td>AccountForFinance</td>\n",
       "      <td>2021-11-26 14:11:07</td>\n",
       "      <td>r2oaua</td>\n",
       "      <td>NA</td>\n",
       "      <td>1</td>\n",
       "      <td>1</td>\n",
       "      <td>1955253</td>\n",
       "      <td>[removed]</td>\n",
       "      <td>Need Advice re % Allocation to Stocks and ROTH...</td>\n",
       "      <td>1.0</td>\n",
       "      <td>0.000000</td>\n",
       "      <td>0.000000</td>\n",
       "      <td>0.000000</td>\n",
       "      <td>0.000000</td>\n",
       "      <td>0.000000</td>\n",
       "      <td>[Need, Advice, re, %, Allocation, to, Stocks, ...</td>\n",
       "      <td>[[, removed, ]]</td>\n",
       "    </tr>\n",
       "    <tr>\n",
       "      <th>2021-11-26 13:56:37</th>\n",
       "      <td>ascends-me</td>\n",
       "      <td>2021-11-26 13:56:37</td>\n",
       "      <td>r2o0ww</td>\n",
       "      <td>NA</td>\n",
       "      <td>1</td>\n",
       "      <td>1</td>\n",
       "      <td>1955247</td>\n",
       "      <td>[removed]</td>\n",
       "      <td>how do you seek crypto guidance?</td>\n",
       "      <td>1.0</td>\n",
       "      <td>0.000000</td>\n",
       "      <td>0.000000</td>\n",
       "      <td>0.000000</td>\n",
       "      <td>0.000000</td>\n",
       "      <td>0.000000</td>\n",
       "      <td>[how, do, you, seek, crypto, guidance, ?]</td>\n",
       "      <td>[[, removed, ]]</td>\n",
       "    </tr>\n",
       "  </tbody>\n",
       "</table>\n",
       "</div>"
      ],
      "text/plain": [
       "                                author         created_utc      id  \\\n",
       "created_utc                                                          \n",
       "2021-11-26 15:17:50           plszvlko 2021-11-26 15:17:50  r2po7v   \n",
       "2021-11-26 14:43:13              eopif 2021-11-26 14:43:13  r2oynm   \n",
       "2021-11-26 14:11:28         VonDerBerg 2021-11-26 14:11:28  r2ob2e   \n",
       "2021-11-26 14:11:07  AccountForFinance 2021-11-26 14:11:07  r2oaua   \n",
       "2021-11-26 13:56:37         ascends-me 2021-11-26 13:56:37  r2o0ww   \n",
       "\n",
       "                    link_flair_text  num_comments  score  \\\n",
       "created_utc                                                \n",
       "2021-11-26 15:17:50              NA             1      1   \n",
       "2021-11-26 14:43:13              NA             1      1   \n",
       "2021-11-26 14:11:28              NA             1      1   \n",
       "2021-11-26 14:11:07              NA             1      1   \n",
       "2021-11-26 13:56:37              NA             1      1   \n",
       "\n",
       "                     subreddit_subscribers  \\\n",
       "created_utc                                  \n",
       "2021-11-26 15:17:50                1955286   \n",
       "2021-11-26 14:43:13                1955263   \n",
       "2021-11-26 14:11:28                1955253   \n",
       "2021-11-26 14:11:07                1955253   \n",
       "2021-11-26 13:56:37                1955247   \n",
       "\n",
       "                                                              selftext  \\\n",
       "created_utc                                                              \n",
       "2021-11-26 15:17:50                                          [removed]   \n",
       "2021-11-26 14:43:13                                          [removed]   \n",
       "2021-11-26 14:11:28  So the markets are tanking on new variant news...   \n",
       "2021-11-26 14:11:07                                          [removed]   \n",
       "2021-11-26 13:56:37                                          [removed]   \n",
       "\n",
       "                                                                 title  \\\n",
       "created_utc                                                              \n",
       "2021-11-26 15:17:50                         What do you use to invest?   \n",
       "2021-11-26 14:43:13  Where does flow data providers get their data ...   \n",
       "2021-11-26 14:11:28            $NVAX new variant. Approvals. Lift-off.   \n",
       "2021-11-26 14:11:07  Need Advice re % Allocation to Stocks and ROTH...   \n",
       "2021-11-26 13:56:37                   how do you seek crypto guidance?   \n",
       "\n",
       "                     upvote_ratio  title_polarity  title_subjectivity  \\\n",
       "created_utc                                                             \n",
       "2021-11-26 15:17:50           1.0        0.000000            0.000000   \n",
       "2021-11-26 14:43:13           1.0        0.000000            0.000000   \n",
       "2021-11-26 14:11:28           1.0        0.136364            0.454545   \n",
       "2021-11-26 14:11:07           1.0        0.000000            0.000000   \n",
       "2021-11-26 13:56:37           1.0        0.000000            0.000000   \n",
       "\n",
       "                     body_polarity  body_subjectivity  polarity  \\\n",
       "created_utc                                                       \n",
       "2021-11-26 15:17:50       0.000000           0.000000  0.000000   \n",
       "2021-11-26 14:43:13       0.000000           0.000000  0.000000   \n",
       "2021-11-26 14:11:28       0.094084           0.514141  0.230447   \n",
       "2021-11-26 14:11:07       0.000000           0.000000  0.000000   \n",
       "2021-11-26 13:56:37       0.000000           0.000000  0.000000   \n",
       "\n",
       "                                                          title_tokens  \\\n",
       "created_utc                                                              \n",
       "2021-11-26 15:17:50                [What, do, you, use, to, invest, ?]   \n",
       "2021-11-26 14:43:13  [Where, does, flow, data, providers, get, thei...   \n",
       "2021-11-26 14:11:28  [$, NVAX, new, variant, ., Approvals, ., Lift,...   \n",
       "2021-11-26 14:11:07  [Need, Advice, re, %, Allocation, to, Stocks, ...   \n",
       "2021-11-26 13:56:37          [how, do, you, seek, crypto, guidance, ?]   \n",
       "\n",
       "                                                       selftext_tokens  \n",
       "created_utc                                                             \n",
       "2021-11-26 15:17:50                                    [[, removed, ]]  \n",
       "2021-11-26 14:43:13                                    [[, removed, ]]  \n",
       "2021-11-26 14:11:28  [So, the, markets, are, tanking, on, new, vari...  \n",
       "2021-11-26 14:11:07                                    [[, removed, ]]  \n",
       "2021-11-26 13:56:37                                    [[, removed, ]]  "
      ]
     },
     "execution_count": 24,
     "metadata": {},
     "output_type": "execute_result"
    }
   ],
   "source": [
    "import re\n",
    "df[\"title_polarity\"] = 0.0\n",
    "df[\"title_subjectivity\"] = 0.0\n",
    "df[\"body_polarity\"] = 0.0\n",
    "df[\"body_subjectivity\"] = 0.0\n",
    "df[\"polarity\"] = 0.0\n",
    "df[\"title_tokens\"] = \"\"\n",
    "df['title_tokens'] = df['title_tokens'].apply(list)\n",
    "df[\"selftext_tokens\"] =\"\" \n",
    "df['selftext_tokens'] = df['selftext_tokens'].apply(list)\n",
    "\n",
    "def get_sentiment(title, body):\n",
    "    title = re.sub(r\"http\\S+\",\"\",title) \n",
    "    body = re.sub(r\"http\\S+\",\"\",str(body)) \n",
    "    nlp_title = nlp(title)\n",
    "    nlp_body = nlp(body)\n",
    "    title_tokens = [token.text for token in nlp_title]\n",
    "    body_tokens = [token.text for token in nlp_body]\n",
    "    #ngrams = ngrams.append(list(textacy.extract.basics.ngrams(nlp_title, 3)))\n",
    "    #print(pd.Series([nlp_title._.polarity, nlp_title._.subjectivity,\n",
    "    #                  nlp_body._.polarity, nlp_body._.subjectivity,title_tokens,body_tokens]))\n",
    "    return pd.Series([nlp_title._.polarity, nlp_title._.subjectivity,\n",
    "                      nlp_body._.polarity, nlp_body._.subjectivity,title_tokens,body_tokens])\n",
    "\n",
    "df[[\"title_polarity\", \"title_subjectivity\", \"body_polarity\", \"body_subjectivity\",\"title_tokens\",\"selftext_tokens\"]] = df.apply(lambda row: get_sentiment(row[\"title\"], row[\"selftext\"]), axis=1)\n",
    "df[\"polarity\"] = (df[\"title_polarity\"] + df[\"body_polarity\"])\n",
    "df.head()"
   ]
  },
  {
   "cell_type": "markdown",
   "metadata": {
    "id": "EQFcn1bBEMJJ"
   },
   "source": [
    "## 2.3. Group by day"
   ]
  },
  {
   "cell_type": "code",
   "execution_count": null,
   "metadata": {
    "colab": {
     "base_uri": "https://localhost:8080/",
     "height": 238
    },
    "id": "jM3m1xMFEMJK",
    "outputId": "67ff41d2-785e-4865-c89f-a6feca338296"
   },
   "outputs": [
    {
     "data": {
      "text/html": [
       "<div>\n",
       "<style scoped>\n",
       "    .dataframe tbody tr th:only-of-type {\n",
       "        vertical-align: middle;\n",
       "    }\n",
       "\n",
       "    .dataframe tbody tr th {\n",
       "        vertical-align: top;\n",
       "    }\n",
       "\n",
       "    .dataframe thead th {\n",
       "        text-align: right;\n",
       "    }\n",
       "</style>\n",
       "<table border=\"1\" class=\"dataframe\">\n",
       "  <thead>\n",
       "    <tr style=\"text-align: right;\">\n",
       "      <th></th>\n",
       "      <th>polarity</th>\n",
       "    </tr>\n",
       "    <tr>\n",
       "      <th>created_utc</th>\n",
       "      <th></th>\n",
       "    </tr>\n",
       "  </thead>\n",
       "  <tbody>\n",
       "    <tr>\n",
       "      <th>2017-12-29</th>\n",
       "      <td>0.119427</td>\n",
       "    </tr>\n",
       "    <tr>\n",
       "      <th>2017-12-30</th>\n",
       "      <td>0.114057</td>\n",
       "    </tr>\n",
       "    <tr>\n",
       "      <th>2017-12-31</th>\n",
       "      <td>0.111098</td>\n",
       "    </tr>\n",
       "    <tr>\n",
       "      <th>2018-01-01</th>\n",
       "      <td>0.248178</td>\n",
       "    </tr>\n",
       "    <tr>\n",
       "      <th>2018-01-02</th>\n",
       "      <td>0.151106</td>\n",
       "    </tr>\n",
       "  </tbody>\n",
       "</table>\n",
       "</div>"
      ],
      "text/plain": [
       "             polarity\n",
       "created_utc          \n",
       "2017-12-29   0.119427\n",
       "2017-12-30   0.114057\n",
       "2017-12-31   0.111098\n",
       "2018-01-01   0.248178\n",
       "2018-01-02   0.151106"
      ]
     },
     "metadata": {},
     "output_type": "display_data"
    }
   ],
   "source": [
    "df_polarity = df.groupby(pd.Grouper(freq=\"D\"))[[\"polarity\"]].mean()\n",
    "df_polarity = df_polarity.fillna(0)\n",
    "display(df_polarity.head())"
   ]
  },
  {
   "cell_type": "markdown",
   "metadata": {
    "id": "8PaGeQg1EMJL"
   },
   "source": [
    "##  choice of words, n-grams/phrases, ticker extraction"
   ]
  },
  {
   "cell_type": "code",
   "execution_count": 4,
   "metadata": {
    "id": "OLdQim6oiJs1"
   },
   "outputs": [
    {
     "name": "stderr",
     "output_type": "stream",
     "text": [
      "C:\\Users\\96ank\\AppData\\Local\\Continuum\\anaconda3\\lib\\site-packages\\IPython\\core\\interactiveshell.py:3326: DtypeWarning: Columns (1,5) have mixed types.Specify dtype option on import or set low_memory=False.\n",
      "  exec(code_obj, self.user_global_ns, self.user_ns)\n"
     ]
    }
   ],
   "source": [
    "df = pd.read_csv(\"data/investing_submissions_all.csv\", sep=\";\")"
   ]
  },
  {
   "cell_type": "code",
   "execution_count": 3,
   "metadata": {
    "id": "_oD_gmfViRgZ"
   },
   "outputs": [],
   "source": [
    "%%capture\n",
    "!pip install textacy"
   ]
  },
  {
   "cell_type": "code",
   "execution_count": 5,
   "metadata": {
    "id": "EsvI03qqEMJL"
   },
   "outputs": [],
   "source": [
    "import textacy\n",
    "bigrams_title = []\n",
    "trigrams_title = []\n",
    "\n",
    "def get_ngrams(title,n):\n",
    "    nlp_title = nlp(str(title)) \n",
    "    f.write(\"%s\\n\" % list(textacy.extract.basics.ngrams(nlp_title, n, filter_stops=True, filter_punct=True, filter_nums=False)))\n",
    "\n",
    "def get_ngrams_(title,n):\n",
    "    nlp_title = nlp(str(title)) \n",
    "    return list(textacy.extract.basics.ngrams(nlp_title, n, filter_stops=True, filter_punct=True, filter_nums=False))\n"
   ]
  },
  {
   "cell_type": "code",
   "execution_count": 8,
   "metadata": {
    "id": "sri0glgoinbD"
   },
   "outputs": [],
   "source": [
    "df['bigram']=df.apply(lambda row: get_ngrams_(row[\"title\"],2), axis=1)\n",
    "df['trigram']=df.apply(lambda row: get_ngrams_(row[\"title\"],3), axis=1)\n",
    "df['four-gram']=df.apply(lambda row: get_ngrams_(row[\"title\"],4), axis=1)\n",
    "df['five-gram']=df.apply(lambda row: get_ngrams_(row[\"title\"],5), axis=1)"
   ]
  },
  {
   "cell_type": "code",
   "execution_count": 9,
   "metadata": {},
   "outputs": [
    {
     "data": {
      "text/html": [
       "<div>\n",
       "<style scoped>\n",
       "    .dataframe tbody tr th:only-of-type {\n",
       "        vertical-align: middle;\n",
       "    }\n",
       "\n",
       "    .dataframe tbody tr th {\n",
       "        vertical-align: top;\n",
       "    }\n",
       "\n",
       "    .dataframe thead th {\n",
       "        text-align: right;\n",
       "    }\n",
       "</style>\n",
       "<table border=\"1\" class=\"dataframe\">\n",
       "  <thead>\n",
       "    <tr style=\"text-align: right;\">\n",
       "      <th></th>\n",
       "      <th>created_utc</th>\n",
       "      <th>SegmentID</th>\n",
       "      <th>author</th>\n",
       "      <th>created_utc.1</th>\n",
       "      <th>id</th>\n",
       "      <th>link_flair_text</th>\n",
       "      <th>num_comments</th>\n",
       "      <th>score</th>\n",
       "      <th>subreddit_subscribers</th>\n",
       "      <th>selftext</th>\n",
       "      <th>title</th>\n",
       "      <th>upvote_ratio</th>\n",
       "      <th>sbert_emb</th>\n",
       "      <th>bigram</th>\n",
       "      <th>trigram</th>\n",
       "      <th>four-gram</th>\n",
       "      <th>five-gram</th>\n",
       "    </tr>\n",
       "  </thead>\n",
       "  <tbody>\n",
       "    <tr>\n",
       "      <th>0</th>\n",
       "      <td>2021-11-26 15:17:50</td>\n",
       "      <td>0</td>\n",
       "      <td>plszvlko</td>\n",
       "      <td>2021-11-26 15:17:50</td>\n",
       "      <td>r2po7v</td>\n",
       "      <td>NaN</td>\n",
       "      <td>1.0</td>\n",
       "      <td>1.0</td>\n",
       "      <td>1955286.0</td>\n",
       "      <td>[removed]</td>\n",
       "      <td>What do you use to invest?</td>\n",
       "      <td>1.0</td>\n",
       "      <td>[0.1719539761543274, -0.22599506378173828, -0....</td>\n",
       "      <td>[]</td>\n",
       "      <td>[(use, to, invest)]</td>\n",
       "      <td>[]</td>\n",
       "      <td>[]</td>\n",
       "    </tr>\n",
       "    <tr>\n",
       "      <th>1</th>\n",
       "      <td>2021-11-26 14:43:13</td>\n",
       "      <td>1</td>\n",
       "      <td>eopif</td>\n",
       "      <td>2021-11-26 14:43:13</td>\n",
       "      <td>r2oynm</td>\n",
       "      <td>NaN</td>\n",
       "      <td>1.0</td>\n",
       "      <td>1.0</td>\n",
       "      <td>1955263.0</td>\n",
       "      <td>[removed]</td>\n",
       "      <td>Where does flow data providers get their data ...</td>\n",
       "      <td>1.0</td>\n",
       "      <td>[-0.19163201749324799, -0.6306818723678589, -0...</td>\n",
       "      <td>[(flow, data), (data, providers)]</td>\n",
       "      <td>[(flow, data, providers)]</td>\n",
       "      <td>[(providers, get, their, data)]</td>\n",
       "      <td>[(data, providers, get, their, data)]</td>\n",
       "    </tr>\n",
       "    <tr>\n",
       "      <th>2</th>\n",
       "      <td>2021-11-26 14:11:28</td>\n",
       "      <td>2</td>\n",
       "      <td>VonDerBerg</td>\n",
       "      <td>2021-11-26 14:11:28</td>\n",
       "      <td>r2ob2e</td>\n",
       "      <td>NaN</td>\n",
       "      <td>1.0</td>\n",
       "      <td>1.0</td>\n",
       "      <td>1955253.0</td>\n",
       "      <td>So the markets are tanking on new variant news...</td>\n",
       "      <td>$NVAX new variant. Approvals. Lift-off.</td>\n",
       "      <td>1.0</td>\n",
       "      <td>[-0.7088669538497925, 0.23540973663330078, 0.1...</td>\n",
       "      <td>[($, NVAX), (NVAX, new), (new, variant)]</td>\n",
       "      <td>[($, NVAX, new), (NVAX, new, variant)]</td>\n",
       "      <td>[($, NVAX, new, variant)]</td>\n",
       "      <td>[]</td>\n",
       "    </tr>\n",
       "    <tr>\n",
       "      <th>3</th>\n",
       "      <td>2021-11-26 14:11:07</td>\n",
       "      <td>3</td>\n",
       "      <td>AccountForFinance</td>\n",
       "      <td>2021-11-26 14:11:07</td>\n",
       "      <td>r2oaua</td>\n",
       "      <td>NaN</td>\n",
       "      <td>1.0</td>\n",
       "      <td>1.0</td>\n",
       "      <td>1955253.0</td>\n",
       "      <td>[removed]</td>\n",
       "      <td>Need Advice re % Allocation to Stocks and ROTH...</td>\n",
       "      <td>1.0</td>\n",
       "      <td>[-0.3507850468158722, -0.39994874596595764, -0...</td>\n",
       "      <td>[(Need, Advice), (ROTH, Backdoor), (Backdoor, ...</td>\n",
       "      <td>[(Allocation, to, Stocks), (Stocks, and, ROTH)...</td>\n",
       "      <td>[(Stocks, and, ROTH, Backdoor)]</td>\n",
       "      <td>[(Allocation, to, Stocks, and, ROTH), (Stocks,...</td>\n",
       "    </tr>\n",
       "    <tr>\n",
       "      <th>4</th>\n",
       "      <td>2021-11-26 13:56:37</td>\n",
       "      <td>4</td>\n",
       "      <td>ascends-me</td>\n",
       "      <td>2021-11-26 13:56:37</td>\n",
       "      <td>r2o0ww</td>\n",
       "      <td>NaN</td>\n",
       "      <td>1.0</td>\n",
       "      <td>1.0</td>\n",
       "      <td>1955247.0</td>\n",
       "      <td>[removed]</td>\n",
       "      <td>how do you seek crypto guidance?</td>\n",
       "      <td>1.0</td>\n",
       "      <td>[-0.35977065563201904, 0.21836304664611816, -0...</td>\n",
       "      <td>[(seek, crypto), (crypto, guidance)]</td>\n",
       "      <td>[(seek, crypto, guidance)]</td>\n",
       "      <td>[]</td>\n",
       "      <td>[]</td>\n",
       "    </tr>\n",
       "  </tbody>\n",
       "</table>\n",
       "</div>"
      ],
      "text/plain": [
       "           created_utc SegmentID             author        created_utc.1  \\\n",
       "0  2021-11-26 15:17:50         0           plszvlko  2021-11-26 15:17:50   \n",
       "1  2021-11-26 14:43:13         1              eopif  2021-11-26 14:43:13   \n",
       "2  2021-11-26 14:11:28         2         VonDerBerg  2021-11-26 14:11:28   \n",
       "3  2021-11-26 14:11:07         3  AccountForFinance  2021-11-26 14:11:07   \n",
       "4  2021-11-26 13:56:37         4         ascends-me  2021-11-26 13:56:37   \n",
       "\n",
       "       id link_flair_text  num_comments  score  subreddit_subscribers  \\\n",
       "0  r2po7v             NaN           1.0    1.0              1955286.0   \n",
       "1  r2oynm             NaN           1.0    1.0              1955263.0   \n",
       "2  r2ob2e             NaN           1.0    1.0              1955253.0   \n",
       "3  r2oaua             NaN           1.0    1.0              1955253.0   \n",
       "4  r2o0ww             NaN           1.0    1.0              1955247.0   \n",
       "\n",
       "                                            selftext  \\\n",
       "0                                          [removed]   \n",
       "1                                          [removed]   \n",
       "2  So the markets are tanking on new variant news...   \n",
       "3                                          [removed]   \n",
       "4                                          [removed]   \n",
       "\n",
       "                                               title  upvote_ratio  \\\n",
       "0                         What do you use to invest?           1.0   \n",
       "1  Where does flow data providers get their data ...           1.0   \n",
       "2            $NVAX new variant. Approvals. Lift-off.           1.0   \n",
       "3  Need Advice re % Allocation to Stocks and ROTH...           1.0   \n",
       "4                   how do you seek crypto guidance?           1.0   \n",
       "\n",
       "                                           sbert_emb  \\\n",
       "0  [0.1719539761543274, -0.22599506378173828, -0....   \n",
       "1  [-0.19163201749324799, -0.6306818723678589, -0...   \n",
       "2  [-0.7088669538497925, 0.23540973663330078, 0.1...   \n",
       "3  [-0.3507850468158722, -0.39994874596595764, -0...   \n",
       "4  [-0.35977065563201904, 0.21836304664611816, -0...   \n",
       "\n",
       "                                              bigram  \\\n",
       "0                                                 []   \n",
       "1                  [(flow, data), (data, providers)]   \n",
       "2           [($, NVAX), (NVAX, new), (new, variant)]   \n",
       "3  [(Need, Advice), (ROTH, Backdoor), (Backdoor, ...   \n",
       "4               [(seek, crypto), (crypto, guidance)]   \n",
       "\n",
       "                                             trigram  \\\n",
       "0                                [(use, to, invest)]   \n",
       "1                          [(flow, data, providers)]   \n",
       "2             [($, NVAX, new), (NVAX, new, variant)]   \n",
       "3  [(Allocation, to, Stocks), (Stocks, and, ROTH)...   \n",
       "4                         [(seek, crypto, guidance)]   \n",
       "\n",
       "                         four-gram  \\\n",
       "0                               []   \n",
       "1  [(providers, get, their, data)]   \n",
       "2        [($, NVAX, new, variant)]   \n",
       "3  [(Stocks, and, ROTH, Backdoor)]   \n",
       "4                               []   \n",
       "\n",
       "                                           five-gram  \n",
       "0                                                 []  \n",
       "1              [(data, providers, get, their, data)]  \n",
       "2                                                 []  \n",
       "3  [(Allocation, to, Stocks, and, ROTH), (Stocks,...  \n",
       "4                                                 []  "
      ]
     },
     "execution_count": 9,
     "metadata": {},
     "output_type": "execute_result"
    }
   ],
   "source": [
    "df.head()"
   ]
  },
  {
   "cell_type": "code",
   "execution_count": 10,
   "metadata": {
    "id": "zrb0zqOCitbe"
   },
   "outputs": [],
   "source": [
    "df.to_csv(\"data/investing_submissions_all.csv\", sep=\";\",index=False)"
   ]
  },
  {
   "cell_type": "code",
   "execution_count": null,
   "metadata": {
    "id": "jI3giMheQ1nT"
   },
   "outputs": [],
   "source": [
    "with open('data/bigrams_title.txt', 'a', encoding=\"utf-8\") as f: \n",
    " df.apply(lambda row: get_ngrams(row[\"title\"],2), axis=1)\n",
    "    \n",
    "with open('data/trigrams_title.txt', 'a', encoding=\"utf-8\") as f:\n",
    " df.apply(lambda row: get_ngrams(row[\"title\"],3), axis=1)"
   ]
  },
  {
   "cell_type": "code",
   "execution_count": null,
   "metadata": {
    "id": "KRw9t2P_k9jP"
   },
   "outputs": [],
   "source": [
    "    \n",
    "with open('data/bigrams_selftext.txt', 'a', encoding=\"utf-8\") as f:\n",
    " df.apply(lambda row: get_ngrams(row[\"selftext\"],2), axis=1)\n",
    " \n",
    "with open('data/trigrams_selftext.txt', 'a', encoding=\"utf-8\") as f:\n",
    " df.apply(lambda row: get_ngrams(row[\"selftext\"],3), axis=1)"
   ]
  },
  {
   "cell_type": "markdown",
   "metadata": {
    "id": "wSNXSFcHwCOF"
   },
   "source": [
    "## Frequency of N-grams"
   ]
  },
  {
   "cell_type": "code",
   "execution_count": null,
   "metadata": {
    "id": "cVs3RkLvwC__"
   },
   "outputs": [],
   "source": [
    "# read a line from a file as a list of ngrams\n",
    "# create a list of all ngrams\n",
    "# calculate freq.\n",
    "# wordcloud \n",
    "\n",
    "import ast\n",
    "bigrams_title = []\n",
    "with open('data/bigrams_title.txt',encoding=\"utf-8\") as f:\n",
    " lines = f.read().splitlines() \n"
   ]
  },
  {
   "cell_type": "code",
   "execution_count": null,
   "metadata": {
    "colab": {
     "base_uri": "https://localhost:8080/"
    },
    "id": "tSsyB1J9yc-c",
    "outputId": "93fb45fc-a6cc-43fc-ffc4-7b1c66e43165"
   },
   "outputs": [
    {
     "name": "stderr",
     "output_type": "stream",
     "text": [
      "C:\\Users\\96ank\\AppData\\Local\\Continuum\\anaconda3\\lib\\site-packages\\ipykernel_launcher.py:5: FutureWarning: Possible nested set at position 1\n",
      "  \"\"\"\n"
     ]
    },
    {
     "name": "stdout",
     "output_type": "stream",
     "text": [
      "['flow data', ' data providers', '$nvax', ' nvax new', ' new variant', 'need advice', ' roth backdoor', ' backdoor conversion', 'seek crypto', ' crypto guidance', 'institutions loaning', 'institutions loading', 'gala crypto', ' punjabi language', 'bag x', ' x fantom', ' fantom bridge', ' bridge open', 'getting stronger', 'tech startup', ' startup investing', ' investing platform', ' black friday', 'china asks', ' asks didi', ' security fears', 'sec form', ' form 4', 'bored ape', ' ape alternative', ' alternative club', 'dow futures', ' futures plunge', ' plunge 800', ' 800 points', ' points amid', ' amid fears', ' new covid', ' covid variant', ' variant found', ' south africa', 'lifetime idea', ' elon musk', ' musk jeff', ' jeff bezos', ' bezos status', ' simple idea', ' level pinnacle', ' pinnacle idea', ' guy pleasedropcomment']\n"
     ]
    }
   ],
   "source": [
    "import re\n",
    "bigrams_title = []\n",
    "for lst in lines:  \n",
    "  for bigram in lst.split(','):    \n",
    "    bigram=re.sub('[[]', '', bigram)\n",
    "    bigram=re.sub('[]]', '', bigram)\n",
    "    if bigram != '':      \n",
    "      bigrams_title.append(bigram.lower())\n",
    "print(bigrams_title[0:50])\n",
    "  "
   ]
  },
  {
   "cell_type": "code",
   "execution_count": null,
   "metadata": {
    "id": "hV4LF3R8CZbG"
   },
   "outputs": [],
   "source": [
    "count_freq = {}\n",
    "for item in bigrams_title:\n",
    "    item = item.strip()\n",
    "    if item in count_freq:\n",
    "        count_freq[item] +=1\n",
    "    else:\n",
    "        count_freq[item] = 1"
   ]
  },
  {
   "cell_type": "code",
   "execution_count": null,
   "metadata": {
    "colab": {
     "base_uri": "https://localhost:8080/"
    },
    "id": "W9mLKRwZCn4H",
    "outputId": "60d2bf4b-ef0b-4725-e82b-431593f73d1b"
   },
   "outputs": [
    {
     "name": "stdout",
     "output_type": "stream",
     "text": [
      "[('stock market', 1705), ('long term', 1619), ('roth ira', 1528), ('daily advice', 1125), ('advice thread', 1122), ('000', 848), ('s&amp;p 500', 800), ('index funds', 780), ('basic help', 746), ('advice questions', 745), ('real estate', 691), ('🚀🚀', 569), ('start investing', 552), ('index fund', 533), ('mutual funds', 499), ('need help', 479), ('best way', 468), ('$$', 445), ('capital gains', 421), ('year old', 417), ('mutual fund', 408), ('short term', 386), ('personal situation', 375), ('market cap', 315), ('$1', 315), ('$100', 313), ('interest rates', 303), ('good time', 292), ('brokerage account', 288), ('stock price', 282), ('need advice', 272), ('wall street', 272), ('td ameritrade', 270), ('new investor', 267), ('$10', 262), ('daily general', 260), ('general discussion', 260), ('free stock', 260), ('spitballin thread', 257), ('wash sale', 252), ('years old', 236), ('day trading', 233), ('term investment', 232), ('invest $', 232), ('market crash', 226), ('10 years', 224), ('good investment', 223), ('hedge funds', 216), ('warren buffett', 212), ('short squeeze', 208), ('good idea', 207), ('hedge fund', 207), ('bear market', 206), ('elon musk', 205), ('guys think', 198), ('$1000', 192), ('401k', 188), ('interest rate', 185), ('options trading', 182), ('investment strategy', 181), ('trading platform', 180), ('individual stocks', 177), ('5 years', 177), ('term investing', 175), ('investing advice', 175), ('interactive brokers', 174), ('dividend stocks', 169), ('buy stocks', 166), ('$500', 163), ('passive income', 162), ('berkshire hathaway', 162), ('small cap', 157), ('value investing', 156), ('$gme', 155), ('motley fool', 152), ('gains tax', 147), ('asset allocation', 146), ('$2', 144), ('stock trading', 143), ('savings account', 139), ('technical analysis', 139), ('investment advice', 139), ('stock prices', 139), ('covered calls', 137), ('best investment', 135), ('cash flow', 131), ('good buy', 130), ('yahoo finance', 129), ('$5', 129), ('dollar cost', 129), ('short interest', 129), ('taxable account', 126), ('retail investors', 126), ('$50', 125), ('share price', 124), ('bull market', 124), ('growth stocks', 122), ('$20', 122), ('leveraged etfs', 121), ('fractional shares', 115)]\n"
     ]
    }
   ],
   "source": [
    "sorted_two_grams = sorted(count_freq.items(), key=lambda item: item[1], reverse = True)\n",
    "print(sorted_two_grams[:100])"
   ]
  },
  {
   "cell_type": "code",
   "execution_count": null,
   "metadata": {
    "id": "1BADQeQS8OzN"
   },
   "outputs": [],
   "source": [
    "from nltk.probability import FreqDist\n",
    "from sklearn.feature_extraction.text import CountVectorizer\n",
    "from sklearn.feature_extraction.text import TfidfVectorizer\n",
    "from sklearn.decomposition import LatentDirichletAllocation, NMF\n",
    "from wordcloud import WordCloud, ImageColorGenerator\n",
    "import matplotlib.pyplot as plt\n",
    "import seaborn as sns\n"
   ]
  },
  {
   "cell_type": "code",
   "execution_count": null,
   "metadata": {
    "id": "KZJzqkrr9z0V"
   },
   "outputs": [],
   "source": [
    "import nltk\n",
    "from nltk.util import ngrams\n",
    "from nltk.collocations import BigramCollocationFinder\n",
    "from nltk.metrics import BigramAssocMeasures\n",
    "\n",
    "#word_fd = nltk.FreqDist(filtered_sentence)\n",
    "bigram_fd = nltk.FreqDist(nltk.bigrams(bigrams_title))\n",
    "\n"
   ]
  },
  {
   "cell_type": "code",
   "execution_count": null,
   "metadata": {
    "colab": {
     "base_uri": "https://localhost:8080/"
    },
    "id": "ACAelwtB-aJy",
    "outputId": "d116619b-16dc-462c-8bf8-f9723d507d84"
   },
   "outputs": [
    {
     "data": {
      "text/plain": [
       "[(('daily advice', ' advice thread'), 1122),\n",
       " ((' advice thread', ' basic help'), 745),\n",
       " ((' basic help', ' advice questions'), 745),\n",
       " ((' 🚀🚀', ' 🚀🚀'), 383),\n",
       " ((' advice thread', ' personal situation'), 374),\n",
       " ((' $$', ' $$'), 303),\n",
       " (('daily general', ' general discussion'), 259),\n",
       " ((' general discussion', ' spitballin thread'), 257),\n",
       " ((' long term', ' term investment'), 103),\n",
       " ((' term capital', ' capital gains'), 75)]"
      ]
     },
     "execution_count": 38,
     "metadata": {},
     "output_type": "execute_result"
    }
   ],
   "source": [
    "bigram_fd.most_common(10)"
   ]
  },
  {
   "cell_type": "code",
   "execution_count": null,
   "metadata": {
    "colab": {
     "base_uri": "https://localhost:8080/",
     "height": 751
    },
    "id": "-QaruPs9-dPj",
    "outputId": "b4c45054-8829-4f33-e68e-331e171309b4"
   },
   "outputs": [
    {
     "data": {
      "image/png": "[encoded data removed]",
      "text/plain": [
       "<Figure size 2160x720 with 1 Axes>"
      ]
     },
     "metadata": {},
     "output_type": "display_data"
    }
   ],
   "source": [
    "mostcommon = bigram_fd.most_common(20)\n",
    "wordcloud = WordCloud(width=1000, height=500, background_color='white').generate(str(mostcommon))\n",
    "fig = plt.figure(figsize=(30,10), facecolor='white')\n",
    "plt.imshow(wordcloud, interpolation=\"bilinear\")\n",
    "plt.axis('off')\n",
    "plt.title('Top 100 Most Common bigrams', fontsize=50)\n",
    "plt.tight_layout(pad=0)\n",
    "plt.show()"
   ]
  },
  {
   "cell_type": "code",
   "execution_count": null,
   "metadata": {
    "colab": {
     "base_uri": "https://localhost:8080/"
    },
    "id": "VLIHLkQc_O0z",
    "outputId": "483ede39-9fbe-43fc-d3ee-77fef1a37ee2"
   },
   "outputs": [
    {
     "name": "stdout",
     "output_type": "stream",
     "text": [
      "['use to invest', 'flow data providers', '$nvax new', ' nvax new variant', 'allocation to stocks', ' stocks and roth', ' roth backdoor conversion', 'seek crypto guidance', 'based on elv', ' elv or nlv', 'loaning out shares', ' shares after buying', 'based on elv', ' elv or nlv', 'stock to loan', 'crypto in punjabi', 'bag x fantom', ' x fantom bridge', ' fantom bridge open', 'yes', '#ezycoin is coming', ' ezycoin was rising', ' rising and shining', ' shining this fire', ' fire is getting', ' steel in dip', 'tech startup investing', ' startup investing platform', 'china asks didi', ' didi to delist', ' delist from u.s.', ' u.s. on security', 'questions about sec', ' sec form 4', 'timing the market', ' market as opposed', ' opposed to buying', 'bored ape alternative', ' ape alternative club', 'dow futures plunge', ' futures plunge 800', ' plunge 800 points', ' 800 points amid', ' points amid fears', ' fears of new', ' new covid variant', ' covid variant found', ' found in south', 'elon musk jeff', ' musk jeff bezos']\n"
     ]
    }
   ],
   "source": [
    "with open('data/trigrams_title.txt',encoding=\"utf-8\") as f:\n",
    " lines = f.read().splitlines() \n",
    "\n",
    "trigrams_title = []\n",
    "for lst in lines:  \n",
    "  for trigram in lst.split(','):    \n",
    "    trigram=re.sub('[[]', '', trigram)\n",
    "    trigram=re.sub('[]]', '', trigram)\n",
    "    if trigram != '':      \n",
    "      trigrams_title.append(trigram.lower())\n",
    "print(trigrams_title[0:50])"
   ]
  },
  {
   "cell_type": "code",
   "execution_count": null,
   "metadata": {
    "id": "sO9GkI1wXKbK"
   },
   "outputs": [],
   "source": [
    "count_freq_trigrams = {}\n",
    "for item in trigrams_title:\n",
    "    item = item.strip()\n",
    "    if item in count_freq_trigrams:\n",
    "        count_freq_trigrams[item] +=1\n",
    "    else:\n",
    "        count_freq_trigrams[item] = 1"
   ]
  },
  {
   "cell_type": "code",
   "execution_count": null,
   "metadata": {
    "colab": {
     "base_uri": "https://localhost:8080/"
    },
    "id": "z8e3XMCHXVOK",
    "outputId": "c6f89bd6-f98b-4821-b9d1-24caa9a84635"
   },
   "outputs": [
    {
     "name": "stdout",
     "output_type": "stream",
     "text": [
      "[('daily advice thread', 1121), ('help or advice', 745), ('new to investing', 549), ('000', 435), ('🚀🚀🚀', 396), ('$$$', 313), ('daily general discussion', 258), ('discussion and spitballin', 256), ('time to buy', 245), ('want to invest', 212), ('way to invest', 208), ('looking for advice', 175), ('long term investment', 160), ('help me understand', 158), ('want to start', 141), ('time to invest', 134), ('capital gains tax', 132), ('looking to invest', 132), ('investing in stocks', 125), ('buy and hold', 125), ('long term investing', 115), ('stocks to buy', 114), ('thoughts on $', 101), ('rate my portfolio', 90), ('dollar cost averaging', 90), ('buy the dip', 85), ('1', 81), ('chance to ask', 81), ('s&amp;p 500 index', 80), ('need some advice', 79), ('timing the market', 78), ('term capital gains', 77), ('invest in stocks', 75), ('need to know', 74), ('stocks to invest', 73), ('real estate investing', 70), ('tax loss harvesting', 69), ('need some help', 69), ('want to learn', 68), ('10', 65), ('18 year old', 64), ('🍀🍀🍀', 64), ('rate of return', 64), ('time the market', 62), ('looking to start', 60), ('want to buy', 60), ('bank of america', 58), ('good long term', 58), ('000 to invest', 58), ('invest my money', 57), ('thoughts on investing', 57), ('pump and dump', 56), ('pros and cons', 56), ('buy buy buy', 55), ('trying to understand', 55), ('gold and silver', 53), ('time to start', 52), ('👍🏾👍', 52), ('🏾👍🏾', 52), ('good or bad', 51), ('time to sell', 51), ('wash sale rule', 51), ('long term growth', 50), ('stock market crash', 50), ('sell or hold', 50), ('long term hold', 49), ('beat the market', 49), ('long term capital', 48), ('way to buy', 46), ('buy a house', 45), ('advice on investing', 45), ('money to invest', 44), ('invest in index', 44), ('want to know', 44), ('lot of money', 44), ('interested in investing', 44), ('starting to invest', 43), ('hold or sell', 43), ('free cash flow', 43), ('buy and sell', 43), ('2', 43), ('question about investing', 42), ('learn about investing', 42), ('total stock market', 42), ('selling covered calls', 42), ('questions without fear', 42), ('fear of harassment', 42), ('need help understanding', 41), ('long term investments', 41), ('invest in crypto', 39), ('sell a stock', 39), ('let me know', 39), ('looking to buy', 39), ('looking for help', 38), ('companies to invest', 38), ('20 year old', 38), ('embarrassed to ask', 38), ('17 year old', 37), ('target date fund', 37), ('real estate investment', 37)]\n"
     ]
    }
   ],
   "source": [
    "sorted_tri_grams = sorted(count_freq_trigrams.items(), key=lambda item: item[1], reverse = True)\n",
    "print(sorted_tri_grams[:100])"
   ]
  },
  {
   "cell_type": "code",
   "execution_count": null,
   "metadata": {
    "colab": {
     "base_uri": "https://localhost:8080/"
    },
    "id": "zHZ8PC5-BFdr",
    "outputId": "f4b8c9ca-7df8-40f5-dc98-4867dc298182"
   },
   "outputs": [
    {
     "data": {
      "text/plain": [
       "[(('daily general discussion',\n",
       "   ' discussion and spitballin',\n",
       "   'daily advice thread'),\n",
       "  244),\n",
       " ((' discussion and spitballin', 'daily advice thread', ' help or advice'),\n",
       "  244),\n",
       " ((' 🚀🚀🚀', ' 🚀🚀🚀', ' 🚀🚀🚀'), 212),\n",
       " ((' $$$', ' $$$', ' $$$'), 143),\n",
       " ((' 🍀🍀🍀', ' 🍀🍀🍀', ' 🍀🍀🍀'), 54),\n",
       " ((' 👍🏾👍', ' 🏾👍🏾', ' 👍🏾👍'), 48),\n",
       " ((' 🏾👍🏾', ' 👍🏾👍', ' 🏾👍🏾'), 48),\n",
       " (('chance to ask', ' questions without fear', ' fear of harassment'), 42),\n",
       " (('chance to ask', ' embarrassed to ask', ' ask in real'), 37),\n",
       " (('daily advice thread', 'chance to ask', ' questions without fear'), 35)]"
      ]
     },
     "execution_count": 43,
     "metadata": {},
     "output_type": "execute_result"
    }
   ],
   "source": [
    "trigram_fd = nltk.FreqDist(nltk.trigrams(trigrams_title))\n",
    "trigram_fd.most_common(10)"
   ]
  },
  {
   "cell_type": "markdown",
   "metadata": {
    "id": "3vjTONweYVUM"
   },
   "source": [
    "## Extract Tickers "
   ]
  },
  {
   "cell_type": "code",
   "execution_count": null,
   "metadata": {
    "id": "ZNqW5tkzYZ6i"
   },
   "outputs": [],
   "source": [
    "nasdaq_stocks = pd.read_csv(\"data/nasdaq.csv\", sep=\",\")\n",
    "nasdaq_stocks_symbols = nasdaq_stocks[\"Symbol\"].tolist()"
   ]
  },
  {
   "cell_type": "code",
   "execution_count": null,
   "metadata": {
    "id": "aFQa9MnOcMih"
   },
   "outputs": [],
   "source": [
    "# Function to find stocks in a text given stock list\n",
    "regex = re.compile(\"[^a-zA-Z ]\")\n",
    "ticker_set = set(nasdaq_stocks_symbols)\n",
    "\n",
    "\n",
    "def calculate_mentioned_stocks(title, body=\"\"):\n",
    "    content = regex.sub(\"\", str(title) + \" \" + str(body)).split(\" \")\n",
    "    content = set(content)\n",
    "    tickers = str(list(ticker_set & content))    \n",
    "    return pd.Series([tickers])\n",
    "\n",
    "def sanitize_column(column):\n",
    "    column = column.replace(\"[],\", \"\").replace(\"[]\", \"\").replace(\"],[\", \",\")\n",
    "    return column"
   ]
  },
  {
   "cell_type": "code",
   "execution_count": null,
   "metadata": {
    "id": "GQvXbqyWdYAn"
   },
   "outputs": [],
   "source": [
    "df[[\"tickers\"]] = df.apply(lambda x: calculate_mentioned_stocks(x[\"title\"],x[\"selftext\"]), axis=1)\n"
   ]
  },
  {
   "cell_type": "code",
   "execution_count": null,
   "metadata": {
    "colab": {
     "base_uri": "https://localhost:8080/",
     "height": 706
    },
    "id": "2YEqlxD4grv0",
    "outputId": "2c738d29-904f-4edf-b59f-0ec0da1438b0"
   },
   "outputs": [
    {
     "data": {
      "text/html": [
       "<div>\n",
       "<style scoped>\n",
       "    .dataframe tbody tr th:only-of-type {\n",
       "        vertical-align: middle;\n",
       "    }\n",
       "\n",
       "    .dataframe tbody tr th {\n",
       "        vertical-align: top;\n",
       "    }\n",
       "\n",
       "    .dataframe thead th {\n",
       "        text-align: right;\n",
       "    }\n",
       "</style>\n",
       "<table border=\"1\" class=\"dataframe\">\n",
       "  <thead>\n",
       "    <tr style=\"text-align: right;\">\n",
       "      <th></th>\n",
       "      <th>author</th>\n",
       "      <th>created_utc</th>\n",
       "      <th>id</th>\n",
       "      <th>link_flair_text</th>\n",
       "      <th>num_comments</th>\n",
       "      <th>score</th>\n",
       "      <th>subreddit_subscribers</th>\n",
       "      <th>selftext</th>\n",
       "      <th>title</th>\n",
       "      <th>upvote_ratio</th>\n",
       "      <th>title_polarity</th>\n",
       "      <th>title_subjectivity</th>\n",
       "      <th>body_polarity</th>\n",
       "      <th>body_subjectivity</th>\n",
       "      <th>polarity</th>\n",
       "      <th>title_tokens</th>\n",
       "      <th>selftext_tokens</th>\n",
       "      <th>tickers</th>\n",
       "    </tr>\n",
       "    <tr>\n",
       "      <th>created_utc</th>\n",
       "      <th></th>\n",
       "      <th></th>\n",
       "      <th></th>\n",
       "      <th></th>\n",
       "      <th></th>\n",
       "      <th></th>\n",
       "      <th></th>\n",
       "      <th></th>\n",
       "      <th></th>\n",
       "      <th></th>\n",
       "      <th></th>\n",
       "      <th></th>\n",
       "      <th></th>\n",
       "      <th></th>\n",
       "      <th></th>\n",
       "      <th></th>\n",
       "      <th></th>\n",
       "      <th></th>\n",
       "    </tr>\n",
       "  </thead>\n",
       "  <tbody>\n",
       "    <tr>\n",
       "      <th>2021-11-26 15:17:50</th>\n",
       "      <td>plszvlko</td>\n",
       "      <td>2021-11-26 15:17:50</td>\n",
       "      <td>r2po7v</td>\n",
       "      <td>NA</td>\n",
       "      <td>1</td>\n",
       "      <td>1</td>\n",
       "      <td>1955286</td>\n",
       "      <td>[removed]</td>\n",
       "      <td>What do you use to invest?</td>\n",
       "      <td>1.0</td>\n",
       "      <td>0.000000</td>\n",
       "      <td>0.000000</td>\n",
       "      <td>0.000000</td>\n",
       "      <td>0.000000</td>\n",
       "      <td>0.000000</td>\n",
       "      <td>[What, do, you, use, to, invest, ?]</td>\n",
       "      <td>[[, removed, ]]</td>\n",
       "      <td>[]</td>\n",
       "    </tr>\n",
       "    <tr>\n",
       "      <th>2021-11-26 14:43:13</th>\n",
       "      <td>eopif</td>\n",
       "      <td>2021-11-26 14:43:13</td>\n",
       "      <td>r2oynm</td>\n",
       "      <td>NA</td>\n",
       "      <td>1</td>\n",
       "      <td>1</td>\n",
       "      <td>1955263</td>\n",
       "      <td>[removed]</td>\n",
       "      <td>Where does flow data providers get their data ...</td>\n",
       "      <td>1.0</td>\n",
       "      <td>0.000000</td>\n",
       "      <td>0.000000</td>\n",
       "      <td>0.000000</td>\n",
       "      <td>0.000000</td>\n",
       "      <td>0.000000</td>\n",
       "      <td>[Where, does, flow, data, providers, get, thei...</td>\n",
       "      <td>[[, removed, ]]</td>\n",
       "      <td>[]</td>\n",
       "    </tr>\n",
       "    <tr>\n",
       "      <th>2021-11-26 14:11:28</th>\n",
       "      <td>VonDerBerg</td>\n",
       "      <td>2021-11-26 14:11:28</td>\n",
       "      <td>r2ob2e</td>\n",
       "      <td>NA</td>\n",
       "      <td>1</td>\n",
       "      <td>1</td>\n",
       "      <td>1955253</td>\n",
       "      <td>So the markets are tanking on new variant news...</td>\n",
       "      <td>$NVAX new variant. Approvals. Lift-off.</td>\n",
       "      <td>1.0</td>\n",
       "      <td>0.136364</td>\n",
       "      <td>0.454545</td>\n",
       "      <td>0.094084</td>\n",
       "      <td>0.514141</td>\n",
       "      <td>0.230447</td>\n",
       "      <td>[$, NVAX, new, variant, ., Approvals, ., Lift,...</td>\n",
       "      <td>[So, the, markets, are, tanking, on, new, vari...</td>\n",
       "      <td>['YOU', 'UK', 'WE', 'NVAX', 'NOW', 'ARE', 'AN'...</td>\n",
       "    </tr>\n",
       "    <tr>\n",
       "      <th>2021-11-26 14:11:07</th>\n",
       "      <td>AccountForFinance</td>\n",
       "      <td>2021-11-26 14:11:07</td>\n",
       "      <td>r2oaua</td>\n",
       "      <td>NA</td>\n",
       "      <td>1</td>\n",
       "      <td>1</td>\n",
       "      <td>1955253</td>\n",
       "      <td>[removed]</td>\n",
       "      <td>Need Advice re % Allocation to Stocks and ROTH...</td>\n",
       "      <td>1.0</td>\n",
       "      <td>0.000000</td>\n",
       "      <td>0.000000</td>\n",
       "      <td>0.000000</td>\n",
       "      <td>0.000000</td>\n",
       "      <td>0.000000</td>\n",
       "      <td>[Need, Advice, re, %, Allocation, to, Stocks, ...</td>\n",
       "      <td>[[, removed, ]]</td>\n",
       "      <td>[]</td>\n",
       "    </tr>\n",
       "    <tr>\n",
       "      <th>2021-11-26 13:56:37</th>\n",
       "      <td>ascends-me</td>\n",
       "      <td>2021-11-26 13:56:37</td>\n",
       "      <td>r2o0ww</td>\n",
       "      <td>NA</td>\n",
       "      <td>1</td>\n",
       "      <td>1</td>\n",
       "      <td>1955247</td>\n",
       "      <td>[removed]</td>\n",
       "      <td>how do you seek crypto guidance?</td>\n",
       "      <td>1.0</td>\n",
       "      <td>0.000000</td>\n",
       "      <td>0.000000</td>\n",
       "      <td>0.000000</td>\n",
       "      <td>0.000000</td>\n",
       "      <td>0.000000</td>\n",
       "      <td>[how, do, you, seek, crypto, guidance, ?]</td>\n",
       "      <td>[[, removed, ]]</td>\n",
       "      <td>[]</td>\n",
       "    </tr>\n",
       "    <tr>\n",
       "      <th>2021-11-26 13:41:00</th>\n",
       "      <td>marqix</td>\n",
       "      <td>2021-11-26 13:41:00</td>\n",
       "      <td>r2nqtj</td>\n",
       "      <td>NA</td>\n",
       "      <td>1</td>\n",
       "      <td>1</td>\n",
       "      <td>1955246</td>\n",
       "      <td>[removed]</td>\n",
       "      <td>Margin Call: Based on ELV or NLV?</td>\n",
       "      <td>1.0</td>\n",
       "      <td>0.000000</td>\n",
       "      <td>0.000000</td>\n",
       "      <td>0.000000</td>\n",
       "      <td>0.000000</td>\n",
       "      <td>0.000000</td>\n",
       "      <td>[Margin, Call, :, Based, on, ELV, or, NLV, ?]</td>\n",
       "      <td>[[, removed, ]]</td>\n",
       "      <td>[]</td>\n",
       "    </tr>\n",
       "    <tr>\n",
       "      <th>2021-11-26 13:36:12</th>\n",
       "      <td>dbh2</td>\n",
       "      <td>2021-11-26 13:36:12</td>\n",
       "      <td>r2nnar</td>\n",
       "      <td>NA</td>\n",
       "      <td>1</td>\n",
       "      <td>1</td>\n",
       "      <td>1955245</td>\n",
       "      <td>[removed]</td>\n",
       "      <td>ELI5: institutions loaning out shares after bu...</td>\n",
       "      <td>1.0</td>\n",
       "      <td>0.000000</td>\n",
       "      <td>0.000000</td>\n",
       "      <td>0.000000</td>\n",
       "      <td>0.000000</td>\n",
       "      <td>0.000000</td>\n",
       "      <td>[ELI5, :, institutions, loaning, out, shares, ...</td>\n",
       "      <td>[[, removed, ]]</td>\n",
       "      <td>[]</td>\n",
       "    </tr>\n",
       "    <tr>\n",
       "      <th>2021-11-26 13:35:18</th>\n",
       "      <td>marqix</td>\n",
       "      <td>2021-11-26 13:35:18</td>\n",
       "      <td>r2nmp6</td>\n",
       "      <td>NA</td>\n",
       "      <td>1</td>\n",
       "      <td>1</td>\n",
       "      <td>1955245</td>\n",
       "      <td>[removed]</td>\n",
       "      <td>Margin Call: Based on ELV or NLV?</td>\n",
       "      <td>1.0</td>\n",
       "      <td>0.000000</td>\n",
       "      <td>0.000000</td>\n",
       "      <td>0.000000</td>\n",
       "      <td>0.000000</td>\n",
       "      <td>0.000000</td>\n",
       "      <td>[Margin, Call, :, Based, on, ELV, or, NLV, ?]</td>\n",
       "      <td>[[, removed, ]]</td>\n",
       "      <td>[]</td>\n",
       "    </tr>\n",
       "    <tr>\n",
       "      <th>2021-11-26 13:32:57</th>\n",
       "      <td>dbh2</td>\n",
       "      <td>2021-11-26 13:32:57</td>\n",
       "      <td>r2nl1o</td>\n",
       "      <td>NA</td>\n",
       "      <td>1</td>\n",
       "      <td>1</td>\n",
       "      <td>1955246</td>\n",
       "      <td>[removed]</td>\n",
       "      <td>ELI5: Institutions loading up on a stock to lo...</td>\n",
       "      <td>1.0</td>\n",
       "      <td>0.000000</td>\n",
       "      <td>0.000000</td>\n",
       "      <td>0.000000</td>\n",
       "      <td>0.000000</td>\n",
       "      <td>0.000000</td>\n",
       "      <td>[ELI5, :, Institutions, loading, up, on, a, st...</td>\n",
       "      <td>[[, removed, ]]</td>\n",
       "      <td>[]</td>\n",
       "    </tr>\n",
       "    <tr>\n",
       "      <th>2021-11-26 13:25:36</th>\n",
       "      <td>cryptosardarg</td>\n",
       "      <td>2021-11-26 13:25:36</td>\n",
       "      <td>r2nfw5</td>\n",
       "      <td>NA</td>\n",
       "      <td>1</td>\n",
       "      <td>1</td>\n",
       "      <td>1955243</td>\n",
       "      <td>[removed]</td>\n",
       "      <td>about gala crypto in punjabi language</td>\n",
       "      <td>1.0</td>\n",
       "      <td>0.000000</td>\n",
       "      <td>0.000000</td>\n",
       "      <td>0.000000</td>\n",
       "      <td>0.000000</td>\n",
       "      <td>0.000000</td>\n",
       "      <td>[about, gala, crypto, in, punjabi, language]</td>\n",
       "      <td>[[, removed, ]]</td>\n",
       "      <td>[]</td>\n",
       "    </tr>\n",
       "  </tbody>\n",
       "</table>\n",
       "</div>"
      ],
      "text/plain": [
       "                                author         created_utc      id  \\\n",
       "created_utc                                                          \n",
       "2021-11-26 15:17:50           plszvlko 2021-11-26 15:17:50  r2po7v   \n",
       "2021-11-26 14:43:13              eopif 2021-11-26 14:43:13  r2oynm   \n",
       "2021-11-26 14:11:28         VonDerBerg 2021-11-26 14:11:28  r2ob2e   \n",
       "2021-11-26 14:11:07  AccountForFinance 2021-11-26 14:11:07  r2oaua   \n",
       "2021-11-26 13:56:37         ascends-me 2021-11-26 13:56:37  r2o0ww   \n",
       "2021-11-26 13:41:00             marqix 2021-11-26 13:41:00  r2nqtj   \n",
       "2021-11-26 13:36:12               dbh2 2021-11-26 13:36:12  r2nnar   \n",
       "2021-11-26 13:35:18             marqix 2021-11-26 13:35:18  r2nmp6   \n",
       "2021-11-26 13:32:57               dbh2 2021-11-26 13:32:57  r2nl1o   \n",
       "2021-11-26 13:25:36      cryptosardarg 2021-11-26 13:25:36  r2nfw5   \n",
       "\n",
       "                    link_flair_text  num_comments  score  \\\n",
       "created_utc                                                \n",
       "2021-11-26 15:17:50              NA             1      1   \n",
       "2021-11-26 14:43:13              NA             1      1   \n",
       "2021-11-26 14:11:28              NA             1      1   \n",
       "2021-11-26 14:11:07              NA             1      1   \n",
       "2021-11-26 13:56:37              NA             1      1   \n",
       "2021-11-26 13:41:00              NA             1      1   \n",
       "2021-11-26 13:36:12              NA             1      1   \n",
       "2021-11-26 13:35:18              NA             1      1   \n",
       "2021-11-26 13:32:57              NA             1      1   \n",
       "2021-11-26 13:25:36              NA             1      1   \n",
       "\n",
       "                     subreddit_subscribers  \\\n",
       "created_utc                                  \n",
       "2021-11-26 15:17:50                1955286   \n",
       "2021-11-26 14:43:13                1955263   \n",
       "2021-11-26 14:11:28                1955253   \n",
       "2021-11-26 14:11:07                1955253   \n",
       "2021-11-26 13:56:37                1955247   \n",
       "2021-11-26 13:41:00                1955246   \n",
       "2021-11-26 13:36:12                1955245   \n",
       "2021-11-26 13:35:18                1955245   \n",
       "2021-11-26 13:32:57                1955246   \n",
       "2021-11-26 13:25:36                1955243   \n",
       "\n",
       "                                                              selftext  \\\n",
       "created_utc                                                              \n",
       "2021-11-26 15:17:50                                          [removed]   \n",
       "2021-11-26 14:43:13                                          [removed]   \n",
       "2021-11-26 14:11:28  So the markets are tanking on new variant news...   \n",
       "2021-11-26 14:11:07                                          [removed]   \n",
       "2021-11-26 13:56:37                                          [removed]   \n",
       "2021-11-26 13:41:00                                          [removed]   \n",
       "2021-11-26 13:36:12                                          [removed]   \n",
       "2021-11-26 13:35:18                                          [removed]   \n",
       "2021-11-26 13:32:57                                          [removed]   \n",
       "2021-11-26 13:25:36                                          [removed]   \n",
       "\n",
       "                                                                 title  \\\n",
       "created_utc                                                              \n",
       "2021-11-26 15:17:50                         What do you use to invest?   \n",
       "2021-11-26 14:43:13  Where does flow data providers get their data ...   \n",
       "2021-11-26 14:11:28            $NVAX new variant. Approvals. Lift-off.   \n",
       "2021-11-26 14:11:07  Need Advice re % Allocation to Stocks and ROTH...   \n",
       "2021-11-26 13:56:37                   how do you seek crypto guidance?   \n",
       "2021-11-26 13:41:00                  Margin Call: Based on ELV or NLV?   \n",
       "2021-11-26 13:36:12  ELI5: institutions loaning out shares after bu...   \n",
       "2021-11-26 13:35:18                  Margin Call: Based on ELV or NLV?   \n",
       "2021-11-26 13:32:57  ELI5: Institutions loading up on a stock to lo...   \n",
       "2021-11-26 13:25:36              about gala crypto in punjabi language   \n",
       "\n",
       "                     upvote_ratio  title_polarity  title_subjectivity  \\\n",
       "created_utc                                                             \n",
       "2021-11-26 15:17:50           1.0        0.000000            0.000000   \n",
       "2021-11-26 14:43:13           1.0        0.000000            0.000000   \n",
       "2021-11-26 14:11:28           1.0        0.136364            0.454545   \n",
       "2021-11-26 14:11:07           1.0        0.000000            0.000000   \n",
       "2021-11-26 13:56:37           1.0        0.000000            0.000000   \n",
       "2021-11-26 13:41:00           1.0        0.000000            0.000000   \n",
       "2021-11-26 13:36:12           1.0        0.000000            0.000000   \n",
       "2021-11-26 13:35:18           1.0        0.000000            0.000000   \n",
       "2021-11-26 13:32:57           1.0        0.000000            0.000000   \n",
       "2021-11-26 13:25:36           1.0        0.000000            0.000000   \n",
       "\n",
       "                     body_polarity  body_subjectivity  polarity  \\\n",
       "created_utc                                                       \n",
       "2021-11-26 15:17:50       0.000000           0.000000  0.000000   \n",
       "2021-11-26 14:43:13       0.000000           0.000000  0.000000   \n",
       "2021-11-26 14:11:28       0.094084           0.514141  0.230447   \n",
       "2021-11-26 14:11:07       0.000000           0.000000  0.000000   \n",
       "2021-11-26 13:56:37       0.000000           0.000000  0.000000   \n",
       "2021-11-26 13:41:00       0.000000           0.000000  0.000000   \n",
       "2021-11-26 13:36:12       0.000000           0.000000  0.000000   \n",
       "2021-11-26 13:35:18       0.000000           0.000000  0.000000   \n",
       "2021-11-26 13:32:57       0.000000           0.000000  0.000000   \n",
       "2021-11-26 13:25:36       0.000000           0.000000  0.000000   \n",
       "\n",
       "                                                          title_tokens  \\\n",
       "created_utc                                                              \n",
       "2021-11-26 15:17:50                [What, do, you, use, to, invest, ?]   \n",
       "2021-11-26 14:43:13  [Where, does, flow, data, providers, get, thei...   \n",
       "2021-11-26 14:11:28  [$, NVAX, new, variant, ., Approvals, ., Lift,...   \n",
       "2021-11-26 14:11:07  [Need, Advice, re, %, Allocation, to, Stocks, ...   \n",
       "2021-11-26 13:56:37          [how, do, you, seek, crypto, guidance, ?]   \n",
       "2021-11-26 13:41:00      [Margin, Call, :, Based, on, ELV, or, NLV, ?]   \n",
       "2021-11-26 13:36:12  [ELI5, :, institutions, loaning, out, shares, ...   \n",
       "2021-11-26 13:35:18      [Margin, Call, :, Based, on, ELV, or, NLV, ?]   \n",
       "2021-11-26 13:32:57  [ELI5, :, Institutions, loading, up, on, a, st...   \n",
       "2021-11-26 13:25:36       [about, gala, crypto, in, punjabi, language]   \n",
       "\n",
       "                                                       selftext_tokens  \\\n",
       "created_utc                                                              \n",
       "2021-11-26 15:17:50                                    [[, removed, ]]   \n",
       "2021-11-26 14:43:13                                    [[, removed, ]]   \n",
       "2021-11-26 14:11:28  [So, the, markets, are, tanking, on, new, vari...   \n",
       "2021-11-26 14:11:07                                    [[, removed, ]]   \n",
       "2021-11-26 13:56:37                                    [[, removed, ]]   \n",
       "2021-11-26 13:41:00                                    [[, removed, ]]   \n",
       "2021-11-26 13:36:12                                    [[, removed, ]]   \n",
       "2021-11-26 13:35:18                                    [[, removed, ]]   \n",
       "2021-11-26 13:32:57                                    [[, removed, ]]   \n",
       "2021-11-26 13:25:36                                    [[, removed, ]]   \n",
       "\n",
       "                                                               tickers  \n",
       "created_utc                                                             \n",
       "2021-11-26 15:17:50                                                 []  \n",
       "2021-11-26 14:43:13                                                 []  \n",
       "2021-11-26 14:11:28  ['YOU', 'UK', 'WE', 'NVAX', 'NOW', 'ARE', 'AN'...  \n",
       "2021-11-26 14:11:07                                                 []  \n",
       "2021-11-26 13:56:37                                                 []  \n",
       "2021-11-26 13:41:00                                                 []  \n",
       "2021-11-26 13:36:12                                                 []  \n",
       "2021-11-26 13:35:18                                                 []  \n",
       "2021-11-26 13:32:57                                                 []  \n",
       "2021-11-26 13:25:36                                                 []  "
      ]
     },
     "execution_count": 47,
     "metadata": {},
     "output_type": "execute_result"
    }
   ],
   "source": [
    "df.head(10)"
   ]
  },
  {
   "cell_type": "code",
   "execution_count": null,
   "metadata": {
    "id": "P-Ws4N9Qgu0t"
   },
   "outputs": [],
   "source": [
    "df[\"tickers\"] = df[\"tickers\"].apply(sanitize_column)"
   ]
  },
  {
   "cell_type": "code",
   "execution_count": null,
   "metadata": {
    "colab": {
     "base_uri": "https://localhost:8080/",
     "height": 724
    },
    "id": "w66aVng9iRM8",
    "outputId": "22da0154-8b57-4e45-89ae-6af787c0e3d8"
   },
   "outputs": [
    {
     "data": {
      "text/html": [
       "<div>\n",
       "<style scoped>\n",
       "    .dataframe tbody tr th:only-of-type {\n",
       "        vertical-align: middle;\n",
       "    }\n",
       "\n",
       "    .dataframe tbody tr th {\n",
       "        vertical-align: top;\n",
       "    }\n",
       "\n",
       "    .dataframe thead th {\n",
       "        text-align: right;\n",
       "    }\n",
       "</style>\n",
       "<table border=\"1\" class=\"dataframe\">\n",
       "  <thead>\n",
       "    <tr style=\"text-align: right;\">\n",
       "      <th></th>\n",
       "      <th>author</th>\n",
       "      <th>created_utc</th>\n",
       "      <th>id</th>\n",
       "      <th>link_flair_text</th>\n",
       "      <th>num_comments</th>\n",
       "      <th>score</th>\n",
       "      <th>subreddit_subscribers</th>\n",
       "      <th>selftext</th>\n",
       "      <th>title</th>\n",
       "      <th>upvote_ratio</th>\n",
       "      <th>title_polarity</th>\n",
       "      <th>title_subjectivity</th>\n",
       "      <th>body_polarity</th>\n",
       "      <th>body_subjectivity</th>\n",
       "      <th>polarity</th>\n",
       "      <th>title_tokens</th>\n",
       "      <th>selftext_tokens</th>\n",
       "      <th>tickers</th>\n",
       "    </tr>\n",
       "    <tr>\n",
       "      <th>created_utc</th>\n",
       "      <th></th>\n",
       "      <th></th>\n",
       "      <th></th>\n",
       "      <th></th>\n",
       "      <th></th>\n",
       "      <th></th>\n",
       "      <th></th>\n",
       "      <th></th>\n",
       "      <th></th>\n",
       "      <th></th>\n",
       "      <th></th>\n",
       "      <th></th>\n",
       "      <th></th>\n",
       "      <th></th>\n",
       "      <th></th>\n",
       "      <th></th>\n",
       "      <th></th>\n",
       "      <th></th>\n",
       "    </tr>\n",
       "  </thead>\n",
       "  <tbody>\n",
       "    <tr>\n",
       "      <th>2021-11-26 15:17:50</th>\n",
       "      <td>plszvlko</td>\n",
       "      <td>2021-11-26 15:17:50</td>\n",
       "      <td>r2po7v</td>\n",
       "      <td>NA</td>\n",
       "      <td>1</td>\n",
       "      <td>1</td>\n",
       "      <td>1955286</td>\n",
       "      <td>[removed]</td>\n",
       "      <td>What do you use to invest?</td>\n",
       "      <td>1.0</td>\n",
       "      <td>0.000000</td>\n",
       "      <td>0.000000</td>\n",
       "      <td>0.000000</td>\n",
       "      <td>0.000000</td>\n",
       "      <td>0.000000</td>\n",
       "      <td>[What, do, you, use, to, invest, ?]</td>\n",
       "      <td>[[, removed, ]]</td>\n",
       "      <td></td>\n",
       "    </tr>\n",
       "    <tr>\n",
       "      <th>2021-11-26 14:43:13</th>\n",
       "      <td>eopif</td>\n",
       "      <td>2021-11-26 14:43:13</td>\n",
       "      <td>r2oynm</td>\n",
       "      <td>NA</td>\n",
       "      <td>1</td>\n",
       "      <td>1</td>\n",
       "      <td>1955263</td>\n",
       "      <td>[removed]</td>\n",
       "      <td>Where does flow data providers get their data ...</td>\n",
       "      <td>1.0</td>\n",
       "      <td>0.000000</td>\n",
       "      <td>0.000000</td>\n",
       "      <td>0.000000</td>\n",
       "      <td>0.000000</td>\n",
       "      <td>0.000000</td>\n",
       "      <td>[Where, does, flow, data, providers, get, thei...</td>\n",
       "      <td>[[, removed, ]]</td>\n",
       "      <td></td>\n",
       "    </tr>\n",
       "    <tr>\n",
       "      <th>2021-11-26 14:11:28</th>\n",
       "      <td>VonDerBerg</td>\n",
       "      <td>2021-11-26 14:11:28</td>\n",
       "      <td>r2ob2e</td>\n",
       "      <td>NA</td>\n",
       "      <td>1</td>\n",
       "      <td>1</td>\n",
       "      <td>1955253</td>\n",
       "      <td>So the markets are tanking on new variant news...</td>\n",
       "      <td>$NVAX new variant. Approvals. Lift-off.</td>\n",
       "      <td>1.0</td>\n",
       "      <td>0.136364</td>\n",
       "      <td>0.454545</td>\n",
       "      <td>0.094084</td>\n",
       "      <td>0.514141</td>\n",
       "      <td>0.230447</td>\n",
       "      <td>[$, NVAX, new, variant, ., Approvals, ., Lift,...</td>\n",
       "      <td>[So, the, markets, are, tanking, on, new, vari...</td>\n",
       "      <td>['YOU', 'UK', 'WE', 'NVAX', 'NOW', 'ARE', 'AN'...</td>\n",
       "    </tr>\n",
       "    <tr>\n",
       "      <th>2021-11-26 14:11:07</th>\n",
       "      <td>AccountForFinance</td>\n",
       "      <td>2021-11-26 14:11:07</td>\n",
       "      <td>r2oaua</td>\n",
       "      <td>NA</td>\n",
       "      <td>1</td>\n",
       "      <td>1</td>\n",
       "      <td>1955253</td>\n",
       "      <td>[removed]</td>\n",
       "      <td>Need Advice re % Allocation to Stocks and ROTH...</td>\n",
       "      <td>1.0</td>\n",
       "      <td>0.000000</td>\n",
       "      <td>0.000000</td>\n",
       "      <td>0.000000</td>\n",
       "      <td>0.000000</td>\n",
       "      <td>0.000000</td>\n",
       "      <td>[Need, Advice, re, %, Allocation, to, Stocks, ...</td>\n",
       "      <td>[[, removed, ]]</td>\n",
       "      <td></td>\n",
       "    </tr>\n",
       "    <tr>\n",
       "      <th>2021-11-26 13:56:37</th>\n",
       "      <td>ascends-me</td>\n",
       "      <td>2021-11-26 13:56:37</td>\n",
       "      <td>r2o0ww</td>\n",
       "      <td>NA</td>\n",
       "      <td>1</td>\n",
       "      <td>1</td>\n",
       "      <td>1955247</td>\n",
       "      <td>[removed]</td>\n",
       "      <td>how do you seek crypto guidance?</td>\n",
       "      <td>1.0</td>\n",
       "      <td>0.000000</td>\n",
       "      <td>0.000000</td>\n",
       "      <td>0.000000</td>\n",
       "      <td>0.000000</td>\n",
       "      <td>0.000000</td>\n",
       "      <td>[how, do, you, seek, crypto, guidance, ?]</td>\n",
       "      <td>[[, removed, ]]</td>\n",
       "      <td></td>\n",
       "    </tr>\n",
       "    <tr>\n",
       "      <th>2021-11-26 13:41:00</th>\n",
       "      <td>marqix</td>\n",
       "      <td>2021-11-26 13:41:00</td>\n",
       "      <td>r2nqtj</td>\n",
       "      <td>NA</td>\n",
       "      <td>1</td>\n",
       "      <td>1</td>\n",
       "      <td>1955246</td>\n",
       "      <td>[removed]</td>\n",
       "      <td>Margin Call: Based on ELV or NLV?</td>\n",
       "      <td>1.0</td>\n",
       "      <td>0.000000</td>\n",
       "      <td>0.000000</td>\n",
       "      <td>0.000000</td>\n",
       "      <td>0.000000</td>\n",
       "      <td>0.000000</td>\n",
       "      <td>[Margin, Call, :, Based, on, ELV, or, NLV, ?]</td>\n",
       "      <td>[[, removed, ]]</td>\n",
       "      <td></td>\n",
       "    </tr>\n",
       "    <tr>\n",
       "      <th>2021-11-26 13:36:12</th>\n",
       "      <td>dbh2</td>\n",
       "      <td>2021-11-26 13:36:12</td>\n",
       "      <td>r2nnar</td>\n",
       "      <td>NA</td>\n",
       "      <td>1</td>\n",
       "      <td>1</td>\n",
       "      <td>1955245</td>\n",
       "      <td>[removed]</td>\n",
       "      <td>ELI5: institutions loaning out shares after bu...</td>\n",
       "      <td>1.0</td>\n",
       "      <td>0.000000</td>\n",
       "      <td>0.000000</td>\n",
       "      <td>0.000000</td>\n",
       "      <td>0.000000</td>\n",
       "      <td>0.000000</td>\n",
       "      <td>[ELI5, :, institutions, loaning, out, shares, ...</td>\n",
       "      <td>[[, removed, ]]</td>\n",
       "      <td></td>\n",
       "    </tr>\n",
       "    <tr>\n",
       "      <th>2021-11-26 13:35:18</th>\n",
       "      <td>marqix</td>\n",
       "      <td>2021-11-26 13:35:18</td>\n",
       "      <td>r2nmp6</td>\n",
       "      <td>NA</td>\n",
       "      <td>1</td>\n",
       "      <td>1</td>\n",
       "      <td>1955245</td>\n",
       "      <td>[removed]</td>\n",
       "      <td>Margin Call: Based on ELV or NLV?</td>\n",
       "      <td>1.0</td>\n",
       "      <td>0.000000</td>\n",
       "      <td>0.000000</td>\n",
       "      <td>0.000000</td>\n",
       "      <td>0.000000</td>\n",
       "      <td>0.000000</td>\n",
       "      <td>[Margin, Call, :, Based, on, ELV, or, NLV, ?]</td>\n",
       "      <td>[[, removed, ]]</td>\n",
       "      <td></td>\n",
       "    </tr>\n",
       "    <tr>\n",
       "      <th>2021-11-26 13:32:57</th>\n",
       "      <td>dbh2</td>\n",
       "      <td>2021-11-26 13:32:57</td>\n",
       "      <td>r2nl1o</td>\n",
       "      <td>NA</td>\n",
       "      <td>1</td>\n",
       "      <td>1</td>\n",
       "      <td>1955246</td>\n",
       "      <td>[removed]</td>\n",
       "      <td>ELI5: Institutions loading up on a stock to lo...</td>\n",
       "      <td>1.0</td>\n",
       "      <td>0.000000</td>\n",
       "      <td>0.000000</td>\n",
       "      <td>0.000000</td>\n",
       "      <td>0.000000</td>\n",
       "      <td>0.000000</td>\n",
       "      <td>[ELI5, :, Institutions, loading, up, on, a, st...</td>\n",
       "      <td>[[, removed, ]]</td>\n",
       "      <td></td>\n",
       "    </tr>\n",
       "    <tr>\n",
       "      <th>2021-11-26 13:25:36</th>\n",
       "      <td>cryptosardarg</td>\n",
       "      <td>2021-11-26 13:25:36</td>\n",
       "      <td>r2nfw5</td>\n",
       "      <td>NA</td>\n",
       "      <td>1</td>\n",
       "      <td>1</td>\n",
       "      <td>1955243</td>\n",
       "      <td>[removed]</td>\n",
       "      <td>about gala crypto in punjabi language</td>\n",
       "      <td>1.0</td>\n",
       "      <td>0.000000</td>\n",
       "      <td>0.000000</td>\n",
       "      <td>0.000000</td>\n",
       "      <td>0.000000</td>\n",
       "      <td>0.000000</td>\n",
       "      <td>[about, gala, crypto, in, punjabi, language]</td>\n",
       "      <td>[[, removed, ]]</td>\n",
       "      <td></td>\n",
       "    </tr>\n",
       "  </tbody>\n",
       "</table>\n",
       "</div>"
      ],
      "text/plain": [
       "                                author         created_utc      id  \\\n",
       "created_utc                                                          \n",
       "2021-11-26 15:17:50           plszvlko 2021-11-26 15:17:50  r2po7v   \n",
       "2021-11-26 14:43:13              eopif 2021-11-26 14:43:13  r2oynm   \n",
       "2021-11-26 14:11:28         VonDerBerg 2021-11-26 14:11:28  r2ob2e   \n",
       "2021-11-26 14:11:07  AccountForFinance 2021-11-26 14:11:07  r2oaua   \n",
       "2021-11-26 13:56:37         ascends-me 2021-11-26 13:56:37  r2o0ww   \n",
       "2021-11-26 13:41:00             marqix 2021-11-26 13:41:00  r2nqtj   \n",
       "2021-11-26 13:36:12               dbh2 2021-11-26 13:36:12  r2nnar   \n",
       "2021-11-26 13:35:18             marqix 2021-11-26 13:35:18  r2nmp6   \n",
       "2021-11-26 13:32:57               dbh2 2021-11-26 13:32:57  r2nl1o   \n",
       "2021-11-26 13:25:36      cryptosardarg 2021-11-26 13:25:36  r2nfw5   \n",
       "\n",
       "                    link_flair_text  num_comments  score  \\\n",
       "created_utc                                                \n",
       "2021-11-26 15:17:50              NA             1      1   \n",
       "2021-11-26 14:43:13              NA             1      1   \n",
       "2021-11-26 14:11:28              NA             1      1   \n",
       "2021-11-26 14:11:07              NA             1      1   \n",
       "2021-11-26 13:56:37              NA             1      1   \n",
       "2021-11-26 13:41:00              NA             1      1   \n",
       "2021-11-26 13:36:12              NA             1      1   \n",
       "2021-11-26 13:35:18              NA             1      1   \n",
       "2021-11-26 13:32:57              NA             1      1   \n",
       "2021-11-26 13:25:36              NA             1      1   \n",
       "\n",
       "                     subreddit_subscribers  \\\n",
       "created_utc                                  \n",
       "2021-11-26 15:17:50                1955286   \n",
       "2021-11-26 14:43:13                1955263   \n",
       "2021-11-26 14:11:28                1955253   \n",
       "2021-11-26 14:11:07                1955253   \n",
       "2021-11-26 13:56:37                1955247   \n",
       "2021-11-26 13:41:00                1955246   \n",
       "2021-11-26 13:36:12                1955245   \n",
       "2021-11-26 13:35:18                1955245   \n",
       "2021-11-26 13:32:57                1955246   \n",
       "2021-11-26 13:25:36                1955243   \n",
       "\n",
       "                                                              selftext  \\\n",
       "created_utc                                                              \n",
       "2021-11-26 15:17:50                                          [removed]   \n",
       "2021-11-26 14:43:13                                          [removed]   \n",
       "2021-11-26 14:11:28  So the markets are tanking on new variant news...   \n",
       "2021-11-26 14:11:07                                          [removed]   \n",
       "2021-11-26 13:56:37                                          [removed]   \n",
       "2021-11-26 13:41:00                                          [removed]   \n",
       "2021-11-26 13:36:12                                          [removed]   \n",
       "2021-11-26 13:35:18                                          [removed]   \n",
       "2021-11-26 13:32:57                                          [removed]   \n",
       "2021-11-26 13:25:36                                          [removed]   \n",
       "\n",
       "                                                                 title  \\\n",
       "created_utc                                                              \n",
       "2021-11-26 15:17:50                         What do you use to invest?   \n",
       "2021-11-26 14:43:13  Where does flow data providers get their data ...   \n",
       "2021-11-26 14:11:28            $NVAX new variant. Approvals. Lift-off.   \n",
       "2021-11-26 14:11:07  Need Advice re % Allocation to Stocks and ROTH...   \n",
       "2021-11-26 13:56:37                   how do you seek crypto guidance?   \n",
       "2021-11-26 13:41:00                  Margin Call: Based on ELV or NLV?   \n",
       "2021-11-26 13:36:12  ELI5: institutions loaning out shares after bu...   \n",
       "2021-11-26 13:35:18                  Margin Call: Based on ELV or NLV?   \n",
       "2021-11-26 13:32:57  ELI5: Institutions loading up on a stock to lo...   \n",
       "2021-11-26 13:25:36              about gala crypto in punjabi language   \n",
       "\n",
       "                     upvote_ratio  title_polarity  title_subjectivity  \\\n",
       "created_utc                                                             \n",
       "2021-11-26 15:17:50           1.0        0.000000            0.000000   \n",
       "2021-11-26 14:43:13           1.0        0.000000            0.000000   \n",
       "2021-11-26 14:11:28           1.0        0.136364            0.454545   \n",
       "2021-11-26 14:11:07           1.0        0.000000            0.000000   \n",
       "2021-11-26 13:56:37           1.0        0.000000            0.000000   \n",
       "2021-11-26 13:41:00           1.0        0.000000            0.000000   \n",
       "2021-11-26 13:36:12           1.0        0.000000            0.000000   \n",
       "2021-11-26 13:35:18           1.0        0.000000            0.000000   \n",
       "2021-11-26 13:32:57           1.0        0.000000            0.000000   \n",
       "2021-11-26 13:25:36           1.0        0.000000            0.000000   \n",
       "\n",
       "                     body_polarity  body_subjectivity  polarity  \\\n",
       "created_utc                                                       \n",
       "2021-11-26 15:17:50       0.000000           0.000000  0.000000   \n",
       "2021-11-26 14:43:13       0.000000           0.000000  0.000000   \n",
       "2021-11-26 14:11:28       0.094084           0.514141  0.230447   \n",
       "2021-11-26 14:11:07       0.000000           0.000000  0.000000   \n",
       "2021-11-26 13:56:37       0.000000           0.000000  0.000000   \n",
       "2021-11-26 13:41:00       0.000000           0.000000  0.000000   \n",
       "2021-11-26 13:36:12       0.000000           0.000000  0.000000   \n",
       "2021-11-26 13:35:18       0.000000           0.000000  0.000000   \n",
       "2021-11-26 13:32:57       0.000000           0.000000  0.000000   \n",
       "2021-11-26 13:25:36       0.000000           0.000000  0.000000   \n",
       "\n",
       "                                                          title_tokens  \\\n",
       "created_utc                                                              \n",
       "2021-11-26 15:17:50                [What, do, you, use, to, invest, ?]   \n",
       "2021-11-26 14:43:13  [Where, does, flow, data, providers, get, thei...   \n",
       "2021-11-26 14:11:28  [$, NVAX, new, variant, ., Approvals, ., Lift,...   \n",
       "2021-11-26 14:11:07  [Need, Advice, re, %, Allocation, to, Stocks, ...   \n",
       "2021-11-26 13:56:37          [how, do, you, seek, crypto, guidance, ?]   \n",
       "2021-11-26 13:41:00      [Margin, Call, :, Based, on, ELV, or, NLV, ?]   \n",
       "2021-11-26 13:36:12  [ELI5, :, institutions, loaning, out, shares, ...   \n",
       "2021-11-26 13:35:18      [Margin, Call, :, Based, on, ELV, or, NLV, ?]   \n",
       "2021-11-26 13:32:57  [ELI5, :, Institutions, loading, up, on, a, st...   \n",
       "2021-11-26 13:25:36       [about, gala, crypto, in, punjabi, language]   \n",
       "\n",
       "                                                       selftext_tokens  \\\n",
       "created_utc                                                              \n",
       "2021-11-26 15:17:50                                    [[, removed, ]]   \n",
       "2021-11-26 14:43:13                                    [[, removed, ]]   \n",
       "2021-11-26 14:11:28  [So, the, markets, are, tanking, on, new, vari...   \n",
       "2021-11-26 14:11:07                                    [[, removed, ]]   \n",
       "2021-11-26 13:56:37                                    [[, removed, ]]   \n",
       "2021-11-26 13:41:00                                    [[, removed, ]]   \n",
       "2021-11-26 13:36:12                                    [[, removed, ]]   \n",
       "2021-11-26 13:35:18                                    [[, removed, ]]   \n",
       "2021-11-26 13:32:57                                    [[, removed, ]]   \n",
       "2021-11-26 13:25:36                                    [[, removed, ]]   \n",
       "\n",
       "                                                               tickers  \n",
       "created_utc                                                             \n",
       "2021-11-26 15:17:50                                                     \n",
       "2021-11-26 14:43:13                                                     \n",
       "2021-11-26 14:11:28  ['YOU', 'UK', 'WE', 'NVAX', 'NOW', 'ARE', 'AN'...  \n",
       "2021-11-26 14:11:07                                                     \n",
       "2021-11-26 13:56:37                                                     \n",
       "2021-11-26 13:41:00                                                     \n",
       "2021-11-26 13:36:12                                                     \n",
       "2021-11-26 13:35:18                                                     \n",
       "2021-11-26 13:32:57                                                     \n",
       "2021-11-26 13:25:36                                                     "
      ]
     },
     "execution_count": 49,
     "metadata": {},
     "output_type": "execute_result"
    }
   ],
   "source": [
    "df.head(10)"
   ]
  },
  {
   "cell_type": "code",
   "execution_count": null,
   "metadata": {
    "id": "pa2Rc1Jkp6ti"
   },
   "outputs": [],
   "source": [
    "df.to_csv(\"data/investing_submissions_features_tickers.csv\", sep=\";\")"
   ]
  },
  {
   "cell_type": "code",
   "execution_count": null,
   "metadata": {
    "id": "ppwtRPnjgxzo"
   },
   "outputs": [],
   "source": []
  }
 ],
 "metadata": {
  "colab": {
   "collapsed_sections": [
    "AUdPpQQ2EMIy",
    "8s6dHO1LEMI2",
    "hauLX23PEMI5",
    "8CuDJL46EMI-",
    "tpC9b1CzEMJD",
    "GPJtDtp2EMJF",
    "EQFcn1bBEMJJ",
    "wSNXSFcHwCOF",
    "3vjTONweYVUM"
   ],
   "name": "data_analysis_Investing.ipynb",
   "provenance": []
  },
  "kernelspec": {
   "display_name": "Python 3",
   "language": "python",
   "name": "python3"
  },
  "language_info": {
   "codemirror_mode": {
    "name": "ipython",
    "version": 3
   },
   "file_extension": ".py",
   "mimetype": "text/x-python",
   "name": "python",
   "nbconvert_exporter": "python",
   "pygments_lexer": "ipython3",
   "version": "3.7.4"
  }
 },
 "nbformat": 4,
 "nbformat_minor": 4
}
