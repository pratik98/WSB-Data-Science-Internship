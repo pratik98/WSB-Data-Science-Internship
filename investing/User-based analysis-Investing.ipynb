{
 "cells": [
  {
   "cell_type": "code",
   "execution_count": 4,
   "metadata": {
    "executionInfo": {
     "elapsed": 379,
     "status": "ok",
     "timestamp": 1640700731853,
     "user": {
      "displayName": "Pratik Agrawal",
      "photoUrl": "https://lh3.googleusercontent.com/a-/AOh14Gic3zhpzr916Y01z_b2NkfIWMHKiBe-fVqe5bj-AA=s64",
      "userId": "07645729797073748393"
     },
     "user_tz": -60
    },
    "id": "EFsMPfS_EMIS"
   },
   "outputs": [
    {
     "name": "stdout",
     "output_type": "stream",
     "text": [
      "Collecting spacymoji==2.0.0\n",
      "  Downloading https://files.pythonhosted.org/packages/e6/42/b4460030eb06504451973609ab8a95b8c0106090aca7a4d657baf9b2611d/spacymoji-2.0.0-py3-none-any.whl\n",
      "Collecting emoji<1.0.0,>=0.4.5 (from spacymoji==2.0.0)\n",
      "  Downloading https://files.pythonhosted.org/packages/ff/1c/1f1457fe52d0b30cbeebfd578483cedb3e3619108d2d5a21380dfecf8ffd/emoji-0.6.0.tar.gz (51kB)\n",
      "Collecting spacy<3.0.0,>=2.1.3 (from spacymoji==2.0.0)\n",
      "  Downloading https://files.pythonhosted.org/packages/32/9b/03d87be5ba617b1dec5c356539b3494aaf200a00fdc5636a15bf0aebb673/spacy-2.3.7-cp37-cp37m-win_amd64.whl (9.6MB)\n",
      "Requirement already satisfied: tqdm<5.0.0,>=4.38.0 in c:\\users\\96ank\\appdata\\local\\continuum\\anaconda3\\lib\\site-packages (from spacy<3.0.0,>=2.1.3->spacymoji==2.0.0) (4.62.3)\n",
      "Requirement already satisfied: setuptools in c:\\users\\96ank\\appdata\\local\\continuum\\anaconda3\\lib\\site-packages (from spacy<3.0.0,>=2.1.3->spacymoji==2.0.0) (59.4.0)\n",
      "Collecting catalogue<1.1.0,>=0.0.7 (from spacy<3.0.0,>=2.1.3->spacymoji==2.0.0)\n",
      "  Downloading https://files.pythonhosted.org/packages/6c/f9/9a5658e2f56932e41eb264941f9a2cb7f3ce41a80cb36b2af6ab78e2f8af/catalogue-1.0.0-py2.py3-none-any.whl\n",
      "Collecting srsly<1.1.0,>=1.0.2 (from spacy<3.0.0,>=2.1.3->spacymoji==2.0.0)\n",
      "  Downloading https://files.pythonhosted.org/packages/34/9d/23daf512877cc4a60e60d407926c69c01f91d8aa99fbc4177919f490dbd1/srsly-1.0.5-cp37-cp37m-win_amd64.whl (176kB)\n",
      "Collecting plac<1.2.0,>=0.9.6 (from spacy<3.0.0,>=2.1.3->spacymoji==2.0.0)\n",
      "  Downloading https://files.pythonhosted.org/packages/86/85/40b8f66c2dd8f4fd9f09d59b22720cffecf1331e788b8a0cab5bafb353d1/plac-1.1.3-py2.py3-none-any.whl\n",
      "Requirement already satisfied: preshed<3.1.0,>=3.0.2 in c:\\users\\96ank\\appdata\\local\\continuum\\anaconda3\\lib\\site-packages (from spacy<3.0.0,>=2.1.3->spacymoji==2.0.0) (3.0.5)\n",
      "Requirement already satisfied: requests<3.0.0,>=2.13.0 in c:\\users\\96ank\\appdata\\local\\continuum\\anaconda3\\lib\\site-packages (from spacy<3.0.0,>=2.1.3->spacymoji==2.0.0) (2.22.0)\n",
      "Requirement already satisfied: cymem<2.1.0,>=2.0.2 in c:\\users\\96ank\\appdata\\local\\continuum\\anaconda3\\lib\\site-packages (from spacy<3.0.0,>=2.1.3->spacymoji==2.0.0) (2.0.5)\n",
      "Requirement already satisfied: numpy>=1.15.0 in c:\\users\\96ank\\appdata\\local\\continuum\\anaconda3\\lib\\site-packages (from spacy<3.0.0,>=2.1.3->spacymoji==2.0.0) (1.19.0)\n",
      "Requirement already satisfied: murmurhash<1.1.0,>=0.28.0 in c:\\users\\96ank\\appdata\\local\\continuum\\anaconda3\\lib\\site-packages (from spacy<3.0.0,>=2.1.3->spacymoji==2.0.0) (1.0.5)\n",
      "Requirement already satisfied: blis<0.8.0,>=0.4.0 in c:\\users\\96ank\\appdata\\local\\continuum\\anaconda3\\lib\\site-packages (from spacy<3.0.0,>=2.1.3->spacymoji==2.0.0) (0.7.4)\n",
      "Requirement already satisfied: wasabi<1.1.0,>=0.4.0 in c:\\users\\96ank\\appdata\\local\\continuum\\anaconda3\\lib\\site-packages (from spacy<3.0.0,>=2.1.3->spacymoji==2.0.0) (0.8.2)\n",
      "Collecting thinc<7.5.0,>=7.4.1 (from spacy<3.0.0,>=2.1.3->spacymoji==2.0.0)\n",
      "  Downloading https://files.pythonhosted.org/packages/2d/68/9d0a25a2a78bfdab8c42018de4ee19fd9caa533dd535cc2cb9bc92f1801f/thinc-7.4.5-cp37-cp37m-win_amd64.whl (888kB)\n",
      "Requirement already satisfied: colorama; platform_system == \"Windows\" in c:\\users\\96ank\\appdata\\local\\continuum\\anaconda3\\lib\\site-packages (from tqdm<5.0.0,>=4.38.0->spacy<3.0.0,>=2.1.3->spacymoji==2.0.0) (0.4.1)\n",
      "Requirement already satisfied: importlib-metadata>=0.20; python_version < \"3.8\" in c:\\users\\96ank\\appdata\\local\\continuum\\anaconda3\\lib\\site-packages (from catalogue<1.1.0,>=0.0.7->spacy<3.0.0,>=2.1.3->spacymoji==2.0.0) (0.23)\n",
      "Requirement already satisfied: chardet<3.1.0,>=3.0.2 in c:\\users\\96ank\\appdata\\local\\continuum\\anaconda3\\lib\\site-packages (from requests<3.0.0,>=2.13.0->spacy<3.0.0,>=2.1.3->spacymoji==2.0.0) (3.0.4)\n",
      "Requirement already satisfied: certifi>=2017.4.17 in c:\\users\\96ank\\appdata\\local\\continuum\\anaconda3\\lib\\site-packages (from requests<3.0.0,>=2.13.0->spacy<3.0.0,>=2.1.3->spacymoji==2.0.0) (2020.12.5)\n",
      "Requirement already satisfied: urllib3!=1.25.0,!=1.25.1,<1.26,>=1.21.1 in c:\\users\\96ank\\appdata\\local\\continuum\\anaconda3\\lib\\site-packages (from requests<3.0.0,>=2.13.0->spacy<3.0.0,>=2.1.3->spacymoji==2.0.0) (1.24.2)\n",
      "Requirement already satisfied: idna<2.9,>=2.5 in c:\\users\\96ank\\appdata\\local\\continuum\\anaconda3\\lib\\site-packages (from requests<3.0.0,>=2.13.0->spacy<3.0.0,>=2.1.3->spacymoji==2.0.0) (2.8)\n",
      "Requirement already satisfied: zipp>=0.5 in c:\\users\\96ank\\appdata\\local\\continuum\\anaconda3\\lib\\site-packages (from importlib-metadata>=0.20; python_version < \"3.8\"->catalogue<1.1.0,>=0.0.7->spacy<3.0.0,>=2.1.3->spacymoji==2.0.0) (0.6.0)\n",
      "Requirement already satisfied: more-itertools in c:\\users\\96ank\\appdata\\local\\continuum\\anaconda3\\lib\\site-packages (from zipp>=0.5->importlib-metadata>=0.20; python_version < \"3.8\"->catalogue<1.1.0,>=0.0.7->spacy<3.0.0,>=2.1.3->spacymoji==2.0.0) (7.2.0)\n",
      "Building wheels for collected packages: emoji\n",
      "  Building wheel for emoji (setup.py): started\n",
      "  Building wheel for emoji (setup.py): finished with status 'done'\n",
      "  Created wheel for emoji: filename=emoji-0.6.0-cp37-none-any.whl size=49740 sha256=8eacdd968706f4f8e66b5f93acdaa552b40fb143f0f2ec465c3bf53516c83c52\n",
      "  Stored in directory: C:\\Users\\96ank\\AppData\\Local\\pip\\Cache\\wheels\\46\\2c\\8b\\9dcf5216ca68e14e0320e283692dce8ae321cdc01e73e17796\n",
      "Successfully built emoji\n",
      "Installing collected packages: emoji, catalogue, srsly, plac, thinc, spacy, spacymoji\n",
      "  Found existing installation: catalogue 2.0.6\n",
      "    Uninstalling catalogue-2.0.6:\n",
      "      Successfully uninstalled catalogue-2.0.6\n",
      "  Found existing installation: srsly 2.4.1\n",
      "    Uninstalling srsly-2.4.1:\n",
      "      Successfully uninstalled srsly-2.4.1\n"
     ]
    },
    {
     "name": "stderr",
     "output_type": "stream",
     "text": [
      "ERROR: textacy 0.11.0 has requirement spacy>=3.0.0, but you'll have spacy 2.3.7 which is incompatible.\n",
      "ERROR: spacytextblob 3.0.1 has requirement spacy<4.0,>=3.0, but you'll have spacy 2.3.7 which is incompatible.\n",
      "ERROR: spacy-transformers 1.0.6 has requirement spacy<4.0.0,>=3.1.0, but you'll have spacy 2.3.7 which is incompatible.\n",
      "ERROR: spacy-transformers 1.0.6 has requirement srsly<3.0.0,>=2.4.0, but you'll have srsly 1.0.5 which is incompatible.\n",
      "ERROR: Could not install packages due to an EnvironmentError: [WinError 5] Access is denied: 'c:\\\\users\\\\96ank\\\\appdata\\\\local\\\\continuum\\\\anaconda3\\\\lib\\\\site-packages\\\\~rsly\\\\msgpack\\\\_packer.cp37-win_amd64.pyd'\n",
      "Consider using the `--user` option or check the permissions.\n",
      "\n"
     ]
    },
    {
     "name": "stdout",
     "output_type": "stream",
     "text": [
      "Uninstalling spacy-3.1.3:\n",
      "  Successfully uninstalled spacy-3.1.3\n"
     ]
    },
    {
     "name": "stderr",
     "output_type": "stream",
     "text": [
      "ERROR: Exception:\n",
      "Traceback (most recent call last):\n",
      "  File \"C:\\Users\\96ank\\AppData\\Local\\Continuum\\anaconda3\\lib\\shutil.py\", line 398, in _rmtree_unsafe\n",
      "    os.unlink(fullname)\n",
      "PermissionError: [WinError 5] Access is denied: 'c:\\\\users\\\\96ank\\\\appdata\\\\local\\\\continuum\\\\anaconda3\\\\lib\\\\site-packages\\\\~pacy\\\\attrs.cp37-win_amd64.pyd'\n",
      "\n",
      "During handling of the above exception, another exception occurred:\n",
      "\n",
      "Traceback (most recent call last):\n",
      "  File \"C:\\Users\\96ank\\AppData\\Local\\Continuum\\anaconda3\\lib\\site-packages\\pip\\_internal\\cli\\base_command.py\", line 188, in main\n",
      "    status = self.run(options, args)\n",
      "  File \"C:\\Users\\96ank\\AppData\\Local\\Continuum\\anaconda3\\lib\\site-packages\\pip\\_internal\\commands\\uninstall.py\", line 78, in run\n",
      "    uninstall_pathset.commit()\n",
      "  File \"C:\\Users\\96ank\\AppData\\Local\\Continuum\\anaconda3\\lib\\site-packages\\pip\\_internal\\req\\req_uninstall.py\", line 444, in commit\n",
      "    self._moved_paths.commit()\n",
      "  File \"C:\\Users\\96ank\\AppData\\Local\\Continuum\\anaconda3\\lib\\site-packages\\pip\\_internal\\req\\req_uninstall.py\", line 284, in commit\n",
      "    save_dir.cleanup()\n",
      "  File \"C:\\Users\\96ank\\AppData\\Local\\Continuum\\anaconda3\\lib\\site-packages\\pip\\_internal\\utils\\temp_dir.py\", line 83, in cleanup\n",
      "    rmtree(self.path)\n",
      "  File \"C:\\Users\\96ank\\AppData\\Local\\Continuum\\anaconda3\\lib\\site-packages\\pip\\_vendor\\retrying.py\", line 49, in wrapped_f\n",
      "    return Retrying(*dargs, **dkw).call(f, *args, **kw)\n",
      "  File \"C:\\Users\\96ank\\AppData\\Local\\Continuum\\anaconda3\\lib\\site-packages\\pip\\_vendor\\retrying.py\", line 212, in call\n",
      "    raise attempt.get()\n",
      "  File \"C:\\Users\\96ank\\AppData\\Local\\Continuum\\anaconda3\\lib\\site-packages\\pip\\_vendor\\retrying.py\", line 247, in get\n",
      "    six.reraise(self.value[0], self.value[1], self.value[2])\n",
      "  File \"C:\\Users\\96ank\\AppData\\Local\\Continuum\\anaconda3\\lib\\site-packages\\pip\\_vendor\\six.py\", line 693, in reraise\n",
      "    raise value\n",
      "  File \"C:\\Users\\96ank\\AppData\\Local\\Continuum\\anaconda3\\lib\\site-packages\\pip\\_vendor\\retrying.py\", line 200, in call\n",
      "    attempt = Attempt(fn(*args, **kwargs), attempt_number, False)\n",
      "  File \"C:\\Users\\96ank\\AppData\\Local\\Continuum\\anaconda3\\lib\\site-packages\\pip\\_internal\\utils\\misc.py\", line 166, in rmtree\n",
      "    onerror=rmtree_errorhandler)\n",
      "  File \"C:\\Users\\96ank\\AppData\\Local\\Continuum\\anaconda3\\lib\\shutil.py\", line 516, in rmtree\n",
      "    return _rmtree_unsafe(path, onerror)\n",
      "  File \"C:\\Users\\96ank\\AppData\\Local\\Continuum\\anaconda3\\lib\\shutil.py\", line 400, in _rmtree_unsafe\n",
      "    onerror(os.unlink, fullname, sys.exc_info())\n",
      "  File \"C:\\Users\\96ank\\AppData\\Local\\Continuum\\anaconda3\\lib\\site-packages\\pip\\_internal\\utils\\misc.py\", line 178, in rmtree_errorhandler\n",
      "    func(path)\n",
      "PermissionError: [WinError 5] Access is denied: 'c:\\\\users\\\\96ank\\\\appdata\\\\local\\\\continuum\\\\anaconda3\\\\lib\\\\site-packages\\\\~pacy\\\\attrs.cp37-win_amd64.pyd'\n"
     ]
    },
    {
     "name": "stdout",
     "output_type": "stream",
     "text": [
      "Collecting spacy==3\n",
      "  Downloading https://files.pythonhosted.org/packages/59/e2/ceb31f53a96647e58e64d9a9b910b7d861ebb0a7f569c8ce80d039223bfc/spacy-3.0.0-cp37-cp37m-win_amd64.whl (11.6MB)\n",
      "Collecting pydantic<1.8.0,>=1.7.1 (from spacy==3)\n",
      "  Downloading https://files.pythonhosted.org/packages/e6/ab/48e9fba6288d5edc03d8d03834889df860eccda0d674c4b420e1599c8b36/pydantic-1.7.4-cp37-cp37m-win_amd64.whl (1.7MB)\n",
      "Requirement already satisfied: jinja2 in c:\\users\\96ank\\appdata\\local\\continuum\\anaconda3\\lib\\site-packages (from spacy==3) (2.10.3)\n",
      "Requirement already satisfied: wasabi<1.1.0,>=0.8.1 in c:\\users\\96ank\\appdata\\local\\continuum\\anaconda3\\lib\\site-packages (from spacy==3) (0.8.2)\n",
      "Collecting typer<0.4.0,>=0.3.0 (from spacy==3)\n",
      "  Downloading https://files.pythonhosted.org/packages/90/34/d138832f6945432c638f32137e6c79a3b682f06a63c488dcfaca6b166c64/typer-0.3.2-py3-none-any.whl\n",
      "Requirement already satisfied: packaging>=20.0 in c:\\users\\96ank\\appdata\\local\\continuum\\anaconda3\\lib\\site-packages (from spacy==3) (21.0)\n",
      "Requirement already satisfied: preshed<3.1.0,>=3.0.2 in c:\\users\\96ank\\appdata\\local\\continuum\\anaconda3\\lib\\site-packages (from spacy==3) (3.0.5)\n",
      "Collecting catalogue<2.1.0,>=2.0.1 (from spacy==3)\n",
      "  Using cached https://files.pythonhosted.org/packages/1f/8b/273bf7d3863570302401991839e1b2c68ae544cc5b02367f58089db872cb/catalogue-2.0.6-py3-none-any.whl\n",
      "Requirement already satisfied: spacy-legacy<3.1.0,>=3.0.0 in c:\\users\\96ank\\appdata\\local\\continuum\\anaconda3\\lib\\site-packages (from spacy==3) (3.0.8)\n",
      "Requirement already satisfied: murmurhash<1.1.0,>=0.28.0 in c:\\users\\96ank\\appdata\\local\\continuum\\anaconda3\\lib\\site-packages (from spacy==3) (1.0.5)\n",
      "Requirement already satisfied: cymem<2.1.0,>=2.0.2 in c:\\users\\96ank\\appdata\\local\\continuum\\anaconda3\\lib\\site-packages (from spacy==3) (2.0.5)\n",
      "Requirement already satisfied: thinc<8.1.0,>=8.0.0 in c:\\users\\96ank\\appdata\\local\\continuum\\anaconda3\\lib\\site-packages (from spacy==3) (8.0.10)\n",
      "Requirement already satisfied: requests<3.0.0,>=2.13.0 in c:\\users\\96ank\\appdata\\local\\continuum\\anaconda3\\lib\\site-packages (from spacy==3) (2.22.0)\n",
      "Collecting srsly<3.0.0,>=2.4.0 (from spacy==3)\n",
      "  Downloading https://files.pythonhosted.org/packages/b7/e8/466a1e460afc3bfe8ce8fb2364a5e9cd6ae323934b0be601dda05bc82080/srsly-2.4.2-cp37-cp37m-win_amd64.whl (450kB)\n",
      "Requirement already satisfied: tqdm<5.0.0,>=4.38.0 in c:\\users\\96ank\\appdata\\local\\continuum\\anaconda3\\lib\\site-packages (from spacy==3) (4.62.3)\n",
      "Requirement already satisfied: pathy in c:\\users\\96ank\\appdata\\local\\continuum\\anaconda3\\lib\\site-packages (from spacy==3) (0.6.0)\n",
      "Requirement already satisfied: setuptools in c:\\users\\96ank\\appdata\\local\\continuum\\anaconda3\\lib\\site-packages (from spacy==3) (59.4.0)\n",
      "Requirement already satisfied: blis<0.8.0,>=0.4.0 in c:\\users\\96ank\\appdata\\local\\continuum\\anaconda3\\lib\\site-packages (from spacy==3) (0.7.4)\n",
      "Requirement already satisfied: importlib-metadata>=0.20; python_version < \"3.8\" in c:\\users\\96ank\\appdata\\local\\continuum\\anaconda3\\lib\\site-packages (from spacy==3) (0.23)\n",
      "Requirement already satisfied: typing-extensions>=3.7.4; python_version < \"3.8\" in c:\\users\\96ank\\appdata\\local\\continuum\\anaconda3\\lib\\site-packages (from spacy==3) (3.10.0.2)\n",
      "Requirement already satisfied: numpy>=1.15.0 in c:\\users\\96ank\\appdata\\local\\continuum\\anaconda3\\lib\\site-packages (from spacy==3) (1.19.0)\n",
      "Requirement already satisfied: MarkupSafe>=0.23 in c:\\users\\96ank\\appdata\\local\\continuum\\anaconda3\\lib\\site-packages (from jinja2->spacy==3) (1.1.1)\n",
      "Collecting click<7.2.0,>=7.1.1 (from typer<0.4.0,>=0.3.0->spacy==3)\n",
      "  Downloading https://files.pythonhosted.org/packages/d2/3d/fa76db83bf75c4f8d338c2fd15c8d33fdd7ad23a9b5e57eb6c5de26b430e/click-7.1.2-py2.py3-none-any.whl (82kB)\n",
      "Requirement already satisfied: pyparsing>=2.0.2 in c:\\users\\96ank\\appdata\\local\\continuum\\anaconda3\\lib\\site-packages (from packaging>=20.0->spacy==3) (2.4.2)\n",
      "Requirement already satisfied: zipp>=0.5; python_version < \"3.8\" in c:\\users\\96ank\\appdata\\local\\continuum\\anaconda3\\lib\\site-packages (from catalogue<2.1.0,>=2.0.1->spacy==3) (0.6.0)\n",
      "Requirement already satisfied: chardet<3.1.0,>=3.0.2 in c:\\users\\96ank\\appdata\\local\\continuum\\anaconda3\\lib\\site-packages (from requests<3.0.0,>=2.13.0->spacy==3) (3.0.4)\n",
      "Requirement already satisfied: certifi>=2017.4.17 in c:\\users\\96ank\\appdata\\local\\continuum\\anaconda3\\lib\\site-packages (from requests<3.0.0,>=2.13.0->spacy==3) (2020.12.5)\n",
      "Requirement already satisfied: urllib3!=1.25.0,!=1.25.1,<1.26,>=1.21.1 in c:\\users\\96ank\\appdata\\local\\continuum\\anaconda3\\lib\\site-packages (from requests<3.0.0,>=2.13.0->spacy==3) (1.24.2)\n",
      "Requirement already satisfied: idna<2.9,>=2.5 in c:\\users\\96ank\\appdata\\local\\continuum\\anaconda3\\lib\\site-packages (from requests<3.0.0,>=2.13.0->spacy==3) (2.8)\n",
      "Requirement already satisfied: colorama; platform_system == \"Windows\" in c:\\users\\96ank\\appdata\\local\\continuum\\anaconda3\\lib\\site-packages (from tqdm<5.0.0,>=4.38.0->spacy==3) (0.4.1)\n",
      "Requirement already satisfied: smart-open<6.0.0,>=5.0.0 in c:\\users\\96ank\\appdata\\local\\continuum\\anaconda3\\lib\\site-packages (from pathy->spacy==3) (5.2.1)\n",
      "Requirement already satisfied: more-itertools in c:\\users\\96ank\\appdata\\local\\continuum\\anaconda3\\lib\\site-packages (from zipp>=0.5; python_version < \"3.8\"->catalogue<2.1.0,>=2.0.1->spacy==3) (7.2.0)\n",
      "Installing collected packages: pydantic, click, typer, catalogue, srsly, spacy\n",
      "  Found existing installation: pydantic 1.8.2\n",
      "    Uninstalling pydantic-1.8.2:\n",
      "      Successfully uninstalled pydantic-1.8.2\n"
     ]
    },
    {
     "name": "stderr",
     "output_type": "stream",
     "text": [
      "ERROR: spacy-transformers 1.0.6 has requirement spacy<4.0.0,>=3.1.0, but you'll have spacy 3.0.0 which is incompatible.\n",
      "ERROR: Could not install packages due to an EnvironmentError: [WinError 5] Access is denied: 'c:\\\\users\\\\96ank\\\\appdata\\\\local\\\\continuum\\\\anaconda3\\\\lib\\\\site-packages\\\\~ydantic\\\\annotated_types.cp37-win_amd64.pyd'\n",
      "Consider using the `--user` option or check the permissions.\n",
      "\n"
     ]
    }
   ],
   "source": [
    "!pip install spacymoji==2.0.0\n",
    "!pip uninstall spacy -y\n",
    "!pip install spacy==3"
   ]
  },
  {
   "cell_type": "code",
   "execution_count": 5,
   "metadata": {},
   "outputs": [],
   "source": [
    "from datetime import datetime\n",
    "import matplotlib.pyplot as plt\n",
    "import numpy as np\n",
    "import pandas as pd\n",
    "\n",
    "plt.rcParams.update({\"font.size\": 12})\n",
    "%matplotlib inline"
   ]
  },
  {
   "cell_type": "code",
   "execution_count": 6,
   "metadata": {
    "executionInfo": {
     "elapsed": 381,
     "status": "ok",
     "timestamp": 1640700757013,
     "user": {
      "displayName": "Pratik Agrawal",
      "photoUrl": "https://lh3.googleusercontent.com/a-/AOh14Gic3zhpzr916Y01z_b2NkfIWMHKiBe-fVqe5bj-AA=s64",
      "userId": "07645729797073748393"
     },
     "user_tz": -60
    },
    "id": "YypKyBtESag3"
   },
   "outputs": [],
   "source": [
    "import spacy\n",
    "from spacy.lang.en.stop_words import STOP_WORDS\n",
    "#from spacytextblob.spacytextblob import SpacyTextBlob\n",
    "import json"
   ]
  },
  {
   "cell_type": "code",
   "execution_count": 7,
   "metadata": {
    "colab": {
     "base_uri": "https://localhost:8080/",
     "height": 403
    },
    "executionInfo": {
     "elapsed": 3716,
     "status": "ok",
     "timestamp": 1640700819170,
     "user": {
      "displayName": "Pratik Agrawal",
      "photoUrl": "https://lh3.googleusercontent.com/a-/AOh14Gic3zhpzr916Y01z_b2NkfIWMHKiBe-fVqe5bj-AA=s64",
      "userId": "07645729797073748393"
     },
     "user_tz": -60
    },
    "id": "oV_-RBEFFRB_",
    "outputId": "ba380114-da9c-4c27-fd54-57d46f1abfc0"
   },
   "outputs": [
    {
     "name": "stderr",
     "output_type": "stream",
     "text": [
      "C:\\Users\\96ank\\AppData\\Local\\Continuum\\anaconda3\\lib\\site-packages\\IPython\\core\\interactiveshell.py:3326: DtypeWarning: Columns (4) have mixed types.Specify dtype option on import or set low_memory=False.\n",
      "  exec(code_obj, self.user_global_ns, self.user_ns)\n"
     ]
    },
    {
     "data": {
      "text/html": [
       "<div>\n",
       "<style scoped>\n",
       "    .dataframe tbody tr th:only-of-type {\n",
       "        vertical-align: middle;\n",
       "    }\n",
       "\n",
       "    .dataframe tbody tr th {\n",
       "        vertical-align: top;\n",
       "    }\n",
       "\n",
       "    .dataframe thead th {\n",
       "        text-align: right;\n",
       "    }\n",
       "</style>\n",
       "<table border=\"1\" class=\"dataframe\">\n",
       "  <thead>\n",
       "    <tr style=\"text-align: right;\">\n",
       "      <th></th>\n",
       "      <th>Unnamed: 0</th>\n",
       "      <th>author</th>\n",
       "      <th>created_utc</th>\n",
       "      <th>id</th>\n",
       "      <th>link_flair_text</th>\n",
       "      <th>num_comments</th>\n",
       "      <th>score</th>\n",
       "      <th>subreddit_subscribers</th>\n",
       "      <th>selftext</th>\n",
       "      <th>title</th>\n",
       "      <th>upvote_ratio</th>\n",
       "    </tr>\n",
       "    <tr>\n",
       "      <th>created_utc</th>\n",
       "      <th></th>\n",
       "      <th></th>\n",
       "      <th></th>\n",
       "      <th></th>\n",
       "      <th></th>\n",
       "      <th></th>\n",
       "      <th></th>\n",
       "      <th></th>\n",
       "      <th></th>\n",
       "      <th></th>\n",
       "      <th></th>\n",
       "    </tr>\n",
       "  </thead>\n",
       "  <tbody>\n",
       "    <tr>\n",
       "      <th>2017-12-29 22:35:34</th>\n",
       "      <td>127763</td>\n",
       "      <td>SolarSurfer7</td>\n",
       "      <td>2017-12-29 22:35:34</td>\n",
       "      <td>7mxl2u</td>\n",
       "      <td>NaN</td>\n",
       "      <td>19</td>\n",
       "      <td>2</td>\n",
       "      <td>0</td>\n",
       "      <td>With all of the Canadian pot stocks going para...</td>\n",
       "      <td>Canadian Pot Market Cap Napkin Calcs</td>\n",
       "      <td>0.0</td>\n",
       "    </tr>\n",
       "    <tr>\n",
       "      <th>2017-12-29 21:14:45</th>\n",
       "      <td>127764</td>\n",
       "      <td>koolkavi2</td>\n",
       "      <td>2017-12-29 21:14:45</td>\n",
       "      <td>7mx3f1</td>\n",
       "      <td>NaN</td>\n",
       "      <td>0</td>\n",
       "      <td>1</td>\n",
       "      <td>0</td>\n",
       "      <td>I am relatively new to investing and have been...</td>\n",
       "      <td>What are US-domiciled funds?</td>\n",
       "      <td>0.0</td>\n",
       "    </tr>\n",
       "    <tr>\n",
       "      <th>2017-12-29 20:17:47</th>\n",
       "      <td>127765</td>\n",
       "      <td>Bcrane0305</td>\n",
       "      <td>2017-12-29 20:17:47</td>\n",
       "      <td>7mwqss</td>\n",
       "      <td>NaN</td>\n",
       "      <td>5</td>\n",
       "      <td>3</td>\n",
       "      <td>0</td>\n",
       "      <td>What would his job title be if it really exist...</td>\n",
       "      <td>Gordon Gekko-Wall street</td>\n",
       "      <td>0.0</td>\n",
       "    </tr>\n",
       "    <tr>\n",
       "      <th>2017-12-29 19:00:35</th>\n",
       "      <td>127766</td>\n",
       "      <td>runawaytrainmaster</td>\n",
       "      <td>2017-12-29 19:00:35</td>\n",
       "      <td>7mw93s</td>\n",
       "      <td>NaN</td>\n",
       "      <td>7</td>\n",
       "      <td>2</td>\n",
       "      <td>0</td>\n",
       "      <td>i have a unique situation with my home equity ...</td>\n",
       "      <td>dump savings into home equity before selling?</td>\n",
       "      <td>0.0</td>\n",
       "    </tr>\n",
       "    <tr>\n",
       "      <th>2017-12-29 18:43:47</th>\n",
       "      <td>127767</td>\n",
       "      <td>IndexMyAss</td>\n",
       "      <td>2017-12-29 18:43:47</td>\n",
       "      <td>7mw58w</td>\n",
       "      <td>NaN</td>\n",
       "      <td>4</td>\n",
       "      <td>16</td>\n",
       "      <td>0</td>\n",
       "      <td>My account shows that it takes 2 days for cash...</td>\n",
       "      <td>Why do options take only 1 day to settle where...</td>\n",
       "      <td>0.0</td>\n",
       "    </tr>\n",
       "  </tbody>\n",
       "</table>\n",
       "</div>"
      ],
      "text/plain": [
       "                     Unnamed: 0              author         created_utc  \\\n",
       "created_utc                                                               \n",
       "2017-12-29 22:35:34      127763        SolarSurfer7 2017-12-29 22:35:34   \n",
       "2017-12-29 21:14:45      127764           koolkavi2 2017-12-29 21:14:45   \n",
       "2017-12-29 20:17:47      127765          Bcrane0305 2017-12-29 20:17:47   \n",
       "2017-12-29 19:00:35      127766  runawaytrainmaster 2017-12-29 19:00:35   \n",
       "2017-12-29 18:43:47      127767          IndexMyAss 2017-12-29 18:43:47   \n",
       "\n",
       "                         id link_flair_text  num_comments  score  \\\n",
       "created_utc                                                        \n",
       "2017-12-29 22:35:34  7mxl2u             NaN            19      2   \n",
       "2017-12-29 21:14:45  7mx3f1             NaN             0      1   \n",
       "2017-12-29 20:17:47  7mwqss             NaN             5      3   \n",
       "2017-12-29 19:00:35  7mw93s             NaN             7      2   \n",
       "2017-12-29 18:43:47  7mw58w             NaN             4     16   \n",
       "\n",
       "                     subreddit_subscribers  \\\n",
       "created_utc                                  \n",
       "2017-12-29 22:35:34                      0   \n",
       "2017-12-29 21:14:45                      0   \n",
       "2017-12-29 20:17:47                      0   \n",
       "2017-12-29 19:00:35                      0   \n",
       "2017-12-29 18:43:47                      0   \n",
       "\n",
       "                                                              selftext  \\\n",
       "created_utc                                                              \n",
       "2017-12-29 22:35:34  With all of the Canadian pot stocks going para...   \n",
       "2017-12-29 21:14:45  I am relatively new to investing and have been...   \n",
       "2017-12-29 20:17:47  What would his job title be if it really exist...   \n",
       "2017-12-29 19:00:35  i have a unique situation with my home equity ...   \n",
       "2017-12-29 18:43:47  My account shows that it takes 2 days for cash...   \n",
       "\n",
       "                                                                 title  \\\n",
       "created_utc                                                              \n",
       "2017-12-29 22:35:34               Canadian Pot Market Cap Napkin Calcs   \n",
       "2017-12-29 21:14:45                       What are US-domiciled funds?   \n",
       "2017-12-29 20:17:47                           Gordon Gekko-Wall street   \n",
       "2017-12-29 19:00:35      dump savings into home equity before selling?   \n",
       "2017-12-29 18:43:47  Why do options take only 1 day to settle where...   \n",
       "\n",
       "                     upvote_ratio  \n",
       "created_utc                        \n",
       "2017-12-29 22:35:34           0.0  \n",
       "2017-12-29 21:14:45           0.0  \n",
       "2017-12-29 20:17:47           0.0  \n",
       "2017-12-29 19:00:35           0.0  \n",
       "2017-12-29 18:43:47           0.0  "
      ]
     },
     "execution_count": 7,
     "metadata": {},
     "output_type": "execute_result"
    }
   ],
   "source": [
    "df = pd.read_csv(\"data/investing_submissions_all.csv\", sep=\";\")\n",
    "df['created_utc'] = pd.to_datetime(df['created_utc'], unit='s')\n",
    "df.index = pd.DatetimeIndex(df.created_utc)\n",
    "df.tail()"
   ]
  },
  {
   "cell_type": "markdown",
   "metadata": {
    "id": "wHNRmrhdGyCB"
   },
   "source": [
    "# Split datasets "
   ]
  },
  {
   "cell_type": "code",
   "execution_count": 8,
   "metadata": {
    "executionInfo": {
     "elapsed": 457,
     "status": "ok",
     "timestamp": 1640700849331,
     "user": {
      "displayName": "Pratik Agrawal",
      "photoUrl": "https://lh3.googleusercontent.com/a-/AOh14Gic3zhpzr916Y01z_b2NkfIWMHKiBe-fVqe5bj-AA=s64",
      "userId": "07645729797073748393"
     },
     "user_tz": -60
    },
    "id": "aLpmzOAxMO2b"
   },
   "outputs": [],
   "source": [
    "df['year'] = pd.DatetimeIndex(df['created_utc']).year"
   ]
  },
  {
   "cell_type": "code",
   "execution_count": 9,
   "metadata": {
    "colab": {
     "base_uri": "https://localhost:8080/",
     "height": 683
    },
    "executionInfo": {
     "elapsed": 12,
     "status": "ok",
     "timestamp": 1640700851401,
     "user": {
      "displayName": "Pratik Agrawal",
      "photoUrl": "https://lh3.googleusercontent.com/a-/AOh14Gic3zhpzr916Y01z_b2NkfIWMHKiBe-fVqe5bj-AA=s64",
      "userId": "07645729797073748393"
     },
     "user_tz": -60
    },
    "id": "RnAkX7SwMs-t",
    "outputId": "bda90320-83f6-4670-d5ef-f047b1fc50c5"
   },
   "outputs": [
    {
     "data": {
      "text/html": [
       "<div>\n",
       "<style scoped>\n",
       "    .dataframe tbody tr th:only-of-type {\n",
       "        vertical-align: middle;\n",
       "    }\n",
       "\n",
       "    .dataframe tbody tr th {\n",
       "        vertical-align: top;\n",
       "    }\n",
       "\n",
       "    .dataframe thead th {\n",
       "        text-align: right;\n",
       "    }\n",
       "</style>\n",
       "<table border=\"1\" class=\"dataframe\">\n",
       "  <thead>\n",
       "    <tr style=\"text-align: right;\">\n",
       "      <th></th>\n",
       "      <th>Unnamed: 0</th>\n",
       "      <th>author</th>\n",
       "      <th>created_utc</th>\n",
       "      <th>id</th>\n",
       "      <th>link_flair_text</th>\n",
       "      <th>num_comments</th>\n",
       "      <th>score</th>\n",
       "      <th>subreddit_subscribers</th>\n",
       "      <th>selftext</th>\n",
       "      <th>title</th>\n",
       "      <th>upvote_ratio</th>\n",
       "      <th>year</th>\n",
       "      <th>month</th>\n",
       "      <th>date</th>\n",
       "      <th>day</th>\n",
       "    </tr>\n",
       "    <tr>\n",
       "      <th>created_utc</th>\n",
       "      <th></th>\n",
       "      <th></th>\n",
       "      <th></th>\n",
       "      <th></th>\n",
       "      <th></th>\n",
       "      <th></th>\n",
       "      <th></th>\n",
       "      <th></th>\n",
       "      <th></th>\n",
       "      <th></th>\n",
       "      <th></th>\n",
       "      <th></th>\n",
       "      <th></th>\n",
       "      <th></th>\n",
       "      <th></th>\n",
       "    </tr>\n",
       "  </thead>\n",
       "  <tbody>\n",
       "    <tr>\n",
       "      <th>2021-11-26 15:17:50</th>\n",
       "      <td>0</td>\n",
       "      <td>plszvlko</td>\n",
       "      <td>2021-11-26 15:17:50</td>\n",
       "      <td>r2po7v</td>\n",
       "      <td>NaN</td>\n",
       "      <td>1</td>\n",
       "      <td>1</td>\n",
       "      <td>1955286</td>\n",
       "      <td>[removed]</td>\n",
       "      <td>What do you use to invest?</td>\n",
       "      <td>1.0</td>\n",
       "      <td>2021</td>\n",
       "      <td>11</td>\n",
       "      <td>2021-11-26</td>\n",
       "      <td>26</td>\n",
       "    </tr>\n",
       "    <tr>\n",
       "      <th>2021-11-26 14:43:13</th>\n",
       "      <td>1</td>\n",
       "      <td>eopif</td>\n",
       "      <td>2021-11-26 14:43:13</td>\n",
       "      <td>r2oynm</td>\n",
       "      <td>NaN</td>\n",
       "      <td>1</td>\n",
       "      <td>1</td>\n",
       "      <td>1955263</td>\n",
       "      <td>[removed]</td>\n",
       "      <td>Where does flow data providers get their data ...</td>\n",
       "      <td>1.0</td>\n",
       "      <td>2021</td>\n",
       "      <td>11</td>\n",
       "      <td>2021-11-26</td>\n",
       "      <td>26</td>\n",
       "    </tr>\n",
       "    <tr>\n",
       "      <th>2021-11-26 14:11:28</th>\n",
       "      <td>2</td>\n",
       "      <td>VonDerBerg</td>\n",
       "      <td>2021-11-26 14:11:28</td>\n",
       "      <td>r2ob2e</td>\n",
       "      <td>NaN</td>\n",
       "      <td>1</td>\n",
       "      <td>1</td>\n",
       "      <td>1955253</td>\n",
       "      <td>So the markets are tanking on new variant news...</td>\n",
       "      <td>$NVAX new variant. Approvals. Lift-off.</td>\n",
       "      <td>1.0</td>\n",
       "      <td>2021</td>\n",
       "      <td>11</td>\n",
       "      <td>2021-11-26</td>\n",
       "      <td>26</td>\n",
       "    </tr>\n",
       "    <tr>\n",
       "      <th>2021-11-26 14:11:07</th>\n",
       "      <td>3</td>\n",
       "      <td>AccountForFinance</td>\n",
       "      <td>2021-11-26 14:11:07</td>\n",
       "      <td>r2oaua</td>\n",
       "      <td>NaN</td>\n",
       "      <td>1</td>\n",
       "      <td>1</td>\n",
       "      <td>1955253</td>\n",
       "      <td>[removed]</td>\n",
       "      <td>Need Advice re % Allocation to Stocks and ROTH...</td>\n",
       "      <td>1.0</td>\n",
       "      <td>2021</td>\n",
       "      <td>11</td>\n",
       "      <td>2021-11-26</td>\n",
       "      <td>26</td>\n",
       "    </tr>\n",
       "    <tr>\n",
       "      <th>2021-11-26 13:56:37</th>\n",
       "      <td>4</td>\n",
       "      <td>ascends-me</td>\n",
       "      <td>2021-11-26 13:56:37</td>\n",
       "      <td>r2o0ww</td>\n",
       "      <td>NaN</td>\n",
       "      <td>1</td>\n",
       "      <td>1</td>\n",
       "      <td>1955247</td>\n",
       "      <td>[removed]</td>\n",
       "      <td>how do you seek crypto guidance?</td>\n",
       "      <td>1.0</td>\n",
       "      <td>2021</td>\n",
       "      <td>11</td>\n",
       "      <td>2021-11-26</td>\n",
       "      <td>26</td>\n",
       "    </tr>\n",
       "  </tbody>\n",
       "</table>\n",
       "</div>"
      ],
      "text/plain": [
       "                     Unnamed: 0             author         created_utc  \\\n",
       "created_utc                                                              \n",
       "2021-11-26 15:17:50           0           plszvlko 2021-11-26 15:17:50   \n",
       "2021-11-26 14:43:13           1              eopif 2021-11-26 14:43:13   \n",
       "2021-11-26 14:11:28           2         VonDerBerg 2021-11-26 14:11:28   \n",
       "2021-11-26 14:11:07           3  AccountForFinance 2021-11-26 14:11:07   \n",
       "2021-11-26 13:56:37           4         ascends-me 2021-11-26 13:56:37   \n",
       "\n",
       "                         id link_flair_text  num_comments  score  \\\n",
       "created_utc                                                        \n",
       "2021-11-26 15:17:50  r2po7v             NaN             1      1   \n",
       "2021-11-26 14:43:13  r2oynm             NaN             1      1   \n",
       "2021-11-26 14:11:28  r2ob2e             NaN             1      1   \n",
       "2021-11-26 14:11:07  r2oaua             NaN             1      1   \n",
       "2021-11-26 13:56:37  r2o0ww             NaN             1      1   \n",
       "\n",
       "                     subreddit_subscribers  \\\n",
       "created_utc                                  \n",
       "2021-11-26 15:17:50                1955286   \n",
       "2021-11-26 14:43:13                1955263   \n",
       "2021-11-26 14:11:28                1955253   \n",
       "2021-11-26 14:11:07                1955253   \n",
       "2021-11-26 13:56:37                1955247   \n",
       "\n",
       "                                                              selftext  \\\n",
       "created_utc                                                              \n",
       "2021-11-26 15:17:50                                          [removed]   \n",
       "2021-11-26 14:43:13                                          [removed]   \n",
       "2021-11-26 14:11:28  So the markets are tanking on new variant news...   \n",
       "2021-11-26 14:11:07                                          [removed]   \n",
       "2021-11-26 13:56:37                                          [removed]   \n",
       "\n",
       "                                                                 title  \\\n",
       "created_utc                                                              \n",
       "2021-11-26 15:17:50                         What do you use to invest?   \n",
       "2021-11-26 14:43:13  Where does flow data providers get their data ...   \n",
       "2021-11-26 14:11:28            $NVAX new variant. Approvals. Lift-off.   \n",
       "2021-11-26 14:11:07  Need Advice re % Allocation to Stocks and ROTH...   \n",
       "2021-11-26 13:56:37                   how do you seek crypto guidance?   \n",
       "\n",
       "                     upvote_ratio  year  month        date  day  \n",
       "created_utc                                                      \n",
       "2021-11-26 15:17:50           1.0  2021     11  2021-11-26   26  \n",
       "2021-11-26 14:43:13           1.0  2021     11  2021-11-26   26  \n",
       "2021-11-26 14:11:28           1.0  2021     11  2021-11-26   26  \n",
       "2021-11-26 14:11:07           1.0  2021     11  2021-11-26   26  \n",
       "2021-11-26 13:56:37           1.0  2021     11  2021-11-26   26  "
      ]
     },
     "execution_count": 9,
     "metadata": {},
     "output_type": "execute_result"
    }
   ],
   "source": [
    "df['month'] = pd.DatetimeIndex(df['created_utc']).month\n",
    "df['date'] = pd.DatetimeIndex(df['created_utc']).date\n",
    "df['day'] = pd.DatetimeIndex(df['created_utc']).day\n",
    "df.head()"
   ]
  },
  {
   "cell_type": "code",
   "execution_count": 10,
   "metadata": {
    "executionInfo": {
     "elapsed": 656,
     "status": "ok",
     "timestamp": 1640700859280,
     "user": {
      "displayName": "Pratik Agrawal",
      "photoUrl": "https://lh3.googleusercontent.com/a-/AOh14Gic3zhpzr916Y01z_b2NkfIWMHKiBe-fVqe5bj-AA=s64",
      "userId": "07645729797073748393"
     },
     "user_tz": -60
    },
    "id": "gc8LP987Ndou"
   },
   "outputs": [],
   "source": [
    "df['link_flair_text'] = df['link_flair_text'].astype(\"string\")"
   ]
  },
  {
   "cell_type": "code",
   "execution_count": 11,
   "metadata": {
    "colab": {
     "base_uri": "https://localhost:8080/",
     "height": 517
    },
    "executionInfo": {
     "elapsed": 434,
     "status": "ok",
     "timestamp": 1640700862058,
     "user": {
      "displayName": "Pratik Agrawal",
      "photoUrl": "https://lh3.googleusercontent.com/a-/AOh14Gic3zhpzr916Y01z_b2NkfIWMHKiBe-fVqe5bj-AA=s64",
      "userId": "07645729797073748393"
     },
     "user_tz": -60
    },
    "id": "QE_xK9e1kOQ_",
    "outputId": "5f2c494a-2d0a-438b-8b0d-c6de27a67c20"
   },
   "outputs": [
    {
     "data": {
      "text/html": [
       "<div>\n",
       "<style scoped>\n",
       "    .dataframe tbody tr th:only-of-type {\n",
       "        vertical-align: middle;\n",
       "    }\n",
       "\n",
       "    .dataframe tbody tr th {\n",
       "        vertical-align: top;\n",
       "    }\n",
       "\n",
       "    .dataframe thead th {\n",
       "        text-align: right;\n",
       "    }\n",
       "</style>\n",
       "<table border=\"1\" class=\"dataframe\">\n",
       "  <thead>\n",
       "    <tr style=\"text-align: right;\">\n",
       "      <th></th>\n",
       "      <th>Unnamed: 0</th>\n",
       "      <th>author</th>\n",
       "      <th>created_utc</th>\n",
       "      <th>id</th>\n",
       "      <th>link_flair_text</th>\n",
       "      <th>num_comments</th>\n",
       "      <th>score</th>\n",
       "      <th>subreddit_subscribers</th>\n",
       "      <th>selftext</th>\n",
       "      <th>title</th>\n",
       "      <th>upvote_ratio</th>\n",
       "      <th>year</th>\n",
       "      <th>month</th>\n",
       "      <th>date</th>\n",
       "      <th>day</th>\n",
       "    </tr>\n",
       "    <tr>\n",
       "      <th>created_utc</th>\n",
       "      <th></th>\n",
       "      <th></th>\n",
       "      <th></th>\n",
       "      <th></th>\n",
       "      <th></th>\n",
       "      <th></th>\n",
       "      <th></th>\n",
       "      <th></th>\n",
       "      <th></th>\n",
       "      <th></th>\n",
       "      <th></th>\n",
       "      <th></th>\n",
       "      <th></th>\n",
       "      <th></th>\n",
       "      <th></th>\n",
       "    </tr>\n",
       "  </thead>\n",
       "  <tbody>\n",
       "    <tr>\n",
       "      <th>2021-11-26 15:17:50</th>\n",
       "      <td>0</td>\n",
       "      <td>plszvlko</td>\n",
       "      <td>2021-11-26 15:17:50</td>\n",
       "      <td>r2po7v</td>\n",
       "      <td>&lt;NA&gt;</td>\n",
       "      <td>1</td>\n",
       "      <td>1</td>\n",
       "      <td>1955286</td>\n",
       "      <td>[removed]</td>\n",
       "      <td>What do you use to invest?</td>\n",
       "      <td>1.0</td>\n",
       "      <td>2021</td>\n",
       "      <td>11</td>\n",
       "      <td>2021-11-26</td>\n",
       "      <td>26</td>\n",
       "    </tr>\n",
       "    <tr>\n",
       "      <th>2021-11-26 14:43:13</th>\n",
       "      <td>1</td>\n",
       "      <td>eopif</td>\n",
       "      <td>2021-11-26 14:43:13</td>\n",
       "      <td>r2oynm</td>\n",
       "      <td>&lt;NA&gt;</td>\n",
       "      <td>1</td>\n",
       "      <td>1</td>\n",
       "      <td>1955263</td>\n",
       "      <td>[removed]</td>\n",
       "      <td>Where does flow data providers get their data ...</td>\n",
       "      <td>1.0</td>\n",
       "      <td>2021</td>\n",
       "      <td>11</td>\n",
       "      <td>2021-11-26</td>\n",
       "      <td>26</td>\n",
       "    </tr>\n",
       "    <tr>\n",
       "      <th>2021-11-26 14:11:28</th>\n",
       "      <td>2</td>\n",
       "      <td>VonDerBerg</td>\n",
       "      <td>2021-11-26 14:11:28</td>\n",
       "      <td>r2ob2e</td>\n",
       "      <td>&lt;NA&gt;</td>\n",
       "      <td>1</td>\n",
       "      <td>1</td>\n",
       "      <td>1955253</td>\n",
       "      <td>So the markets are tanking on new variant news...</td>\n",
       "      <td>$NVAX new variant. Approvals. Lift-off.</td>\n",
       "      <td>1.0</td>\n",
       "      <td>2021</td>\n",
       "      <td>11</td>\n",
       "      <td>2021-11-26</td>\n",
       "      <td>26</td>\n",
       "    </tr>\n",
       "  </tbody>\n",
       "</table>\n",
       "</div>"
      ],
      "text/plain": [
       "                     Unnamed: 0      author         created_utc      id  \\\n",
       "created_utc                                                               \n",
       "2021-11-26 15:17:50           0    plszvlko 2021-11-26 15:17:50  r2po7v   \n",
       "2021-11-26 14:43:13           1       eopif 2021-11-26 14:43:13  r2oynm   \n",
       "2021-11-26 14:11:28           2  VonDerBerg 2021-11-26 14:11:28  r2ob2e   \n",
       "\n",
       "                    link_flair_text  num_comments  score  \\\n",
       "created_utc                                                \n",
       "2021-11-26 15:17:50            <NA>             1      1   \n",
       "2021-11-26 14:43:13            <NA>             1      1   \n",
       "2021-11-26 14:11:28            <NA>             1      1   \n",
       "\n",
       "                     subreddit_subscribers  \\\n",
       "created_utc                                  \n",
       "2021-11-26 15:17:50                1955286   \n",
       "2021-11-26 14:43:13                1955263   \n",
       "2021-11-26 14:11:28                1955253   \n",
       "\n",
       "                                                              selftext  \\\n",
       "created_utc                                                              \n",
       "2021-11-26 15:17:50                                          [removed]   \n",
       "2021-11-26 14:43:13                                          [removed]   \n",
       "2021-11-26 14:11:28  So the markets are tanking on new variant news...   \n",
       "\n",
       "                                                                 title  \\\n",
       "created_utc                                                              \n",
       "2021-11-26 15:17:50                         What do you use to invest?   \n",
       "2021-11-26 14:43:13  Where does flow data providers get their data ...   \n",
       "2021-11-26 14:11:28            $NVAX new variant. Approvals. Lift-off.   \n",
       "\n",
       "                     upvote_ratio  year  month        date  day  \n",
       "created_utc                                                      \n",
       "2021-11-26 15:17:50           1.0  2021     11  2021-11-26   26  \n",
       "2021-11-26 14:43:13           1.0  2021     11  2021-11-26   26  \n",
       "2021-11-26 14:11:28           1.0  2021     11  2021-11-26   26  "
      ]
     },
     "execution_count": 11,
     "metadata": {},
     "output_type": "execute_result"
    }
   ],
   "source": [
    "df.head(3)"
   ]
  },
  {
   "cell_type": "markdown",
   "metadata": {
    "id": "kHxYDs37nrzF"
   },
   "source": [
    "## group by user"
   ]
  },
  {
   "cell_type": "code",
   "execution_count": 12,
   "metadata": {
    "colab": {
     "base_uri": "https://localhost:8080/"
    },
    "executionInfo": {
     "elapsed": 518,
     "status": "ok",
     "timestamp": 1640700875453,
     "user": {
      "displayName": "Pratik Agrawal",
      "photoUrl": "https://lh3.googleusercontent.com/a-/AOh14Gic3zhpzr916Y01z_b2NkfIWMHKiBe-fVqe5bj-AA=s64",
      "userId": "07645729797073748393"
     },
     "user_tz": -60
    },
    "id": "nhJa_0SUnxUr",
    "outputId": "df59ab1e-a78d-4f16-8bfc-2ee3326f0357"
   },
   "outputs": [
    {
     "name": "stdout",
     "output_type": "stream",
     "text": [
      "Top 15 authors:\n",
      "author\n",
      "[deleted]              3450\n",
      "AutoModerator          1454\n",
      "coolcomfort123          375\n",
      "dailystockalert         323\n",
      "NineteenEighty9         204\n",
      "pipsdontsqueak          176\n",
      "markyu007               169\n",
      "COMPUTER1313            150\n",
      "mrinalinimoneymaker     142\n",
      "howtoreadspaghetti      132\n",
      "wealthbuild-up          123\n",
      "MrCrickets              120\n",
      "etienner                112\n",
      "StocksHighAlert         110\n",
      "huongdinhant            106\n",
      "Name: author, dtype: int64\n"
     ]
    }
   ],
   "source": [
    "df_authors = df.groupby(\"author\")[\"author\"].count().sort_values(ascending=False)\n",
    "print(f\"Top 15 authors:\\n{df_authors.head(15)}\")"
   ]
  },
  {
   "cell_type": "code",
   "execution_count": 13,
   "metadata": {
    "executionInfo": {
     "elapsed": 526,
     "status": "ok",
     "timestamp": 1640700887455,
     "user": {
      "displayName": "Pratik Agrawal",
      "photoUrl": "https://lh3.googleusercontent.com/a-/AOh14Gic3zhpzr916Y01z_b2NkfIWMHKiBe-fVqe5bj-AA=s64",
      "userId": "07645729797073748393"
     },
     "user_tz": -60
    },
    "id": "bONtmBPBoCHt"
   },
   "outputs": [],
   "source": [
    "# remove submissions where author = '[deleted]'"
   ]
  },
  {
   "cell_type": "code",
   "execution_count": 14,
   "metadata": {
    "executionInfo": {
     "elapsed": 6,
     "status": "ok",
     "timestamp": 1640700889177,
     "user": {
      "displayName": "Pratik Agrawal",
      "photoUrl": "https://lh3.googleusercontent.com/a-/AOh14Gic3zhpzr916Y01z_b2NkfIWMHKiBe-fVqe5bj-AA=s64",
      "userId": "07645729797073748393"
     },
     "user_tz": -60
    },
    "id": "6-Pvl5_joJWm"
   },
   "outputs": [],
   "source": [
    "df_deleted = df[df['author'] == '[deleted]']\n",
    "df = df[df['author'] != '[deleted]']"
   ]
  },
  {
   "cell_type": "code",
   "execution_count": 15,
   "metadata": {
    "colab": {
     "base_uri": "https://localhost:8080/"
    },
    "executionInfo": {
     "elapsed": 524,
     "status": "ok",
     "timestamp": 1640700891869,
     "user": {
      "displayName": "Pratik Agrawal",
      "photoUrl": "https://lh3.googleusercontent.com/a-/AOh14Gic3zhpzr916Y01z_b2NkfIWMHKiBe-fVqe5bj-AA=s64",
      "userId": "07645729797073748393"
     },
     "user_tz": -60
    },
    "id": "2PcQZdRzobH9",
    "outputId": "0a8e03b6-1bea-4d3a-df6c-fd5dceb66f4c"
   },
   "outputs": [
    {
     "name": "stdout",
     "output_type": "stream",
     "text": [
      "<class 'pandas.core.frame.DataFrame'>\n",
      "DatetimeIndex: 124318 entries, 2021-11-26 15:17:50 to 2017-12-29 18:43:47\n",
      "Data columns (total 15 columns):\n",
      " #   Column                 Non-Null Count   Dtype         \n",
      "---  ------                 --------------   -----         \n",
      " 0   Unnamed: 0             124318 non-null  int64         \n",
      " 1   author                 124318 non-null  object        \n",
      " 2   created_utc            124318 non-null  datetime64[ns]\n",
      " 3   id                     124318 non-null  object        \n",
      " 4   link_flair_text        2494 non-null    string        \n",
      " 5   num_comments           124318 non-null  int64         \n",
      " 6   score                  124318 non-null  int64         \n",
      " 7   subreddit_subscribers  124318 non-null  int64         \n",
      " 8   selftext               121346 non-null  object        \n",
      " 9   title                  124318 non-null  object        \n",
      " 10  upvote_ratio           124318 non-null  float64       \n",
      " 11  year                   124318 non-null  int64         \n",
      " 12  month                  124318 non-null  int64         \n",
      " 13  date                   124318 non-null  object        \n",
      " 14  day                    124318 non-null  int64         \n",
      "dtypes: datetime64[ns](1), float64(1), int64(7), object(5), string(1)\n",
      "memory usage: 15.2+ MB\n"
     ]
    }
   ],
   "source": [
    "df.info()"
   ]
  },
  {
   "cell_type": "code",
   "execution_count": 16,
   "metadata": {
    "colab": {
     "base_uri": "https://localhost:8080/"
    },
    "executionInfo": {
     "elapsed": 389,
     "status": "ok",
     "timestamp": 1640700911182,
     "user": {
      "displayName": "Pratik Agrawal",
      "photoUrl": "https://lh3.googleusercontent.com/a-/AOh14Gic3zhpzr916Y01z_b2NkfIWMHKiBe-fVqe5bj-AA=s64",
      "userId": "07645729797073748393"
     },
     "user_tz": -60
    },
    "id": "A-c8EKkjogN4",
    "outputId": "5df03d7c-5a74-4c5e-d031-e74088f42508"
   },
   "outputs": [
    {
     "name": "stdout",
     "output_type": "stream",
     "text": [
      "<class 'pandas.core.frame.DataFrame'>\n",
      "DatetimeIndex: 3450 entries, 2021-11-19 14:40:13 to 2017-12-30 01:55:32\n",
      "Data columns (total 15 columns):\n",
      " #   Column                 Non-Null Count  Dtype         \n",
      "---  ------                 --------------  -----         \n",
      " 0   Unnamed: 0             3450 non-null   int64         \n",
      " 1   author                 3450 non-null   object        \n",
      " 2   created_utc            3450 non-null   datetime64[ns]\n",
      " 3   id                     3450 non-null   object        \n",
      " 4   link_flair_text        27 non-null     string        \n",
      " 5   num_comments           3450 non-null   int64         \n",
      " 6   score                  3450 non-null   int64         \n",
      " 7   subreddit_subscribers  3450 non-null   int64         \n",
      " 8   selftext               812 non-null    object        \n",
      " 9   title                  3450 non-null   object        \n",
      " 10  upvote_ratio           3450 non-null   float64       \n",
      " 11  year                   3450 non-null   int64         \n",
      " 12  month                  3450 non-null   int64         \n",
      " 13  date                   3450 non-null   object        \n",
      " 14  day                    3450 non-null   int64         \n",
      "dtypes: datetime64[ns](1), float64(1), int64(7), object(5), string(1)\n",
      "memory usage: 431.2+ KB\n"
     ]
    }
   ],
   "source": [
    "df_deleted.info()"
   ]
  },
  {
   "cell_type": "code",
   "execution_count": 17,
   "metadata": {
    "colab": {
     "base_uri": "https://localhost:8080/"
    },
    "executionInfo": {
     "elapsed": 394,
     "status": "ok",
     "timestamp": 1640700926736,
     "user": {
      "displayName": "Pratik Agrawal",
      "photoUrl": "https://lh3.googleusercontent.com/a-/AOh14Gic3zhpzr916Y01z_b2NkfIWMHKiBe-fVqe5bj-AA=s64",
      "userId": "07645729797073748393"
     },
     "user_tz": -60
    },
    "id": "L8jh7tEQom0j",
    "outputId": "f268dfb1-782a-46a0-dbfb-3ae8fa5d3ed5"
   },
   "outputs": [
    {
     "name": "stdout",
     "output_type": "stream",
     "text": [
      "Top 15 authors:\n",
      "author\n",
      "AutoModerator          1454\n",
      "coolcomfort123          375\n",
      "dailystockalert         323\n",
      "NineteenEighty9         204\n",
      "pipsdontsqueak          176\n",
      "markyu007               169\n",
      "COMPUTER1313            150\n",
      "mrinalinimoneymaker     142\n",
      "howtoreadspaghetti      132\n",
      "wealthbuild-up          123\n",
      "MrCrickets              120\n",
      "etienner                112\n",
      "StocksHighAlert         110\n",
      "huongdinhant            106\n",
      "ChocolateTsar            88\n",
      "street-guru              85\n",
      "Okmanl                   83\n",
      "pikindaguy               82\n",
      "CIARRAPUNGI              75\n",
      "gymaliz                  71\n",
      "Name: author, dtype: int64\n"
     ]
    }
   ],
   "source": [
    "df_authors = df.groupby(\"author\")[\"author\"].count().sort_values(ascending=False)\n",
    "print(f\"Top 15 authors:\\n{df_authors.head(20)}\")"
   ]
  },
  {
   "cell_type": "code",
   "execution_count": 18,
   "metadata": {
    "executionInfo": {
     "elapsed": 1106,
     "status": "ok",
     "timestamp": 1640701258576,
     "user": {
      "displayName": "Pratik Agrawal",
      "photoUrl": "https://lh3.googleusercontent.com/a-/AOh14Gic3zhpzr916Y01z_b2NkfIWMHKiBe-fVqe5bj-AA=s64",
      "userId": "07645729797073748393"
     },
     "user_tz": -60
    },
    "id": "iExZeItHJgld"
   },
   "outputs": [],
   "source": [
    "df_daily_title= df.groupby(['author']).agg({'title': ' '.join})\n",
    "#df_daily_title= df.groupby(pd.Grouper(freq=\"D\")).agg({'title': ' '.join})\n",
    "#df.groupby(['name','month'])['text'].apply(','.join).reset_index()"
   ]
  },
  {
   "cell_type": "code",
   "execution_count": 19,
   "metadata": {
    "executionInfo": {
     "elapsed": 534,
     "status": "ok",
     "timestamp": 1640701263085,
     "user": {
      "displayName": "Pratik Agrawal",
      "photoUrl": "https://lh3.googleusercontent.com/a-/AOh14Gic3zhpzr916Y01z_b2NkfIWMHKiBe-fVqe5bj-AA=s64",
      "userId": "07645729797073748393"
     },
     "user_tz": -60
    },
    "id": "8PEYVhKmpdi4"
   },
   "outputs": [],
   "source": [
    "df_author_posts= df.groupby(['author']).agg({'id': 'count'})"
   ]
  },
  {
   "cell_type": "code",
   "execution_count": 20,
   "metadata": {
    "colab": {
     "base_uri": "https://localhost:8080/"
    },
    "executionInfo": {
     "elapsed": 507,
     "status": "ok",
     "timestamp": 1640701266644,
     "user": {
      "displayName": "Pratik Agrawal",
      "photoUrl": "https://lh3.googleusercontent.com/a-/AOh14Gic3zhpzr916Y01z_b2NkfIWMHKiBe-fVqe5bj-AA=s64",
      "userId": "07645729797073748393"
     },
     "user_tz": -60
    },
    "id": "vkmwHz7gpseU",
    "outputId": "f71c2dbb-227a-48a9-cbca-8892879dc96e"
   },
   "outputs": [
    {
     "name": "stdout",
     "output_type": "stream",
     "text": [
      "<class 'pandas.core.frame.DataFrame'>\n",
      "Index: 73950 entries, ------me to zzzzllll\n",
      "Data columns (total 1 columns):\n",
      " #   Column  Non-Null Count  Dtype\n",
      "---  ------  --------------  -----\n",
      " 0   id      73950 non-null  int64\n",
      "dtypes: int64(1)\n",
      "memory usage: 1.1+ MB\n"
     ]
    }
   ],
   "source": [
    "df_author_posts.info()"
   ]
  },
  {
   "cell_type": "code",
   "execution_count": 21,
   "metadata": {
    "colab": {
     "base_uri": "https://localhost:8080/",
     "height": 238
    },
    "executionInfo": {
     "elapsed": 431,
     "status": "ok",
     "timestamp": 1640701276850,
     "user": {
      "displayName": "Pratik Agrawal",
      "photoUrl": "https://lh3.googleusercontent.com/a-/AOh14Gic3zhpzr916Y01z_b2NkfIWMHKiBe-fVqe5bj-AA=s64",
      "userId": "07645729797073748393"
     },
     "user_tz": -60
    },
    "id": "Lt7O078Xpxy9",
    "outputId": "a16210a9-e3d2-497a-c350-ebe2fd454437"
   },
   "outputs": [
    {
     "data": {
      "text/html": [
       "<div>\n",
       "<style scoped>\n",
       "    .dataframe tbody tr th:only-of-type {\n",
       "        vertical-align: middle;\n",
       "    }\n",
       "\n",
       "    .dataframe tbody tr th {\n",
       "        vertical-align: top;\n",
       "    }\n",
       "\n",
       "    .dataframe thead th {\n",
       "        text-align: right;\n",
       "    }\n",
       "</style>\n",
       "<table border=\"1\" class=\"dataframe\">\n",
       "  <thead>\n",
       "    <tr style=\"text-align: right;\">\n",
       "      <th></th>\n",
       "      <th>id</th>\n",
       "    </tr>\n",
       "    <tr>\n",
       "      <th>author</th>\n",
       "      <th></th>\n",
       "    </tr>\n",
       "  </thead>\n",
       "  <tbody>\n",
       "    <tr>\n",
       "      <th>------me</th>\n",
       "      <td>1</td>\n",
       "    </tr>\n",
       "    <tr>\n",
       "      <th>----GHOST----</th>\n",
       "      <td>1</td>\n",
       "    </tr>\n",
       "    <tr>\n",
       "      <th>----Questions----</th>\n",
       "      <td>1</td>\n",
       "    </tr>\n",
       "    <tr>\n",
       "      <th>----The_Truth-----</th>\n",
       "      <td>1</td>\n",
       "    </tr>\n",
       "    <tr>\n",
       "      <th>---Dracarys---</th>\n",
       "      <td>5</td>\n",
       "    </tr>\n",
       "  </tbody>\n",
       "</table>\n",
       "</div>"
      ],
      "text/plain": [
       "                    id\n",
       "author                \n",
       "------me             1\n",
       "----GHOST----        1\n",
       "----Questions----    1\n",
       "----The_Truth-----   1\n",
       "---Dracarys---       5"
      ]
     },
     "execution_count": 21,
     "metadata": {},
     "output_type": "execute_result"
    }
   ],
   "source": [
    "df_author_posts.head()"
   ]
  },
  {
   "cell_type": "code",
   "execution_count": 22,
   "metadata": {
    "executionInfo": {
     "elapsed": 1034,
     "status": "ok",
     "timestamp": 1640701283953,
     "user": {
      "displayName": "Pratik Agrawal",
      "photoUrl": "https://lh3.googleusercontent.com/a-/AOh14Gic3zhpzr916Y01z_b2NkfIWMHKiBe-fVqe5bj-AA=s64",
      "userId": "07645729797073748393"
     },
     "user_tz": -60
    },
    "id": "hxN0UvG4p_5Z"
   },
   "outputs": [],
   "source": [
    "df_author_posts['title']= df.groupby(['author']).agg({'title': ' '.join})"
   ]
  },
  {
   "cell_type": "code",
   "execution_count": 23,
   "metadata": {
    "colab": {
     "base_uri": "https://localhost:8080/",
     "height": 238
    },
    "executionInfo": {
     "elapsed": 17,
     "status": "ok",
     "timestamp": 1640701286717,
     "user": {
      "displayName": "Pratik Agrawal",
      "photoUrl": "https://lh3.googleusercontent.com/a-/AOh14Gic3zhpzr916Y01z_b2NkfIWMHKiBe-fVqe5bj-AA=s64",
      "userId": "07645729797073748393"
     },
     "user_tz": -60
    },
    "id": "8YPj-kxOqHHy",
    "outputId": "bcb62839-7dfa-4b12-9db0-726719e58fe8"
   },
   "outputs": [
    {
     "data": {
      "text/html": [
       "<div>\n",
       "<style scoped>\n",
       "    .dataframe tbody tr th:only-of-type {\n",
       "        vertical-align: middle;\n",
       "    }\n",
       "\n",
       "    .dataframe tbody tr th {\n",
       "        vertical-align: top;\n",
       "    }\n",
       "\n",
       "    .dataframe thead th {\n",
       "        text-align: right;\n",
       "    }\n",
       "</style>\n",
       "<table border=\"1\" class=\"dataframe\">\n",
       "  <thead>\n",
       "    <tr style=\"text-align: right;\">\n",
       "      <th></th>\n",
       "      <th>id</th>\n",
       "      <th>title</th>\n",
       "    </tr>\n",
       "    <tr>\n",
       "      <th>author</th>\n",
       "      <th></th>\n",
       "      <th></th>\n",
       "    </tr>\n",
       "  </thead>\n",
       "  <tbody>\n",
       "    <tr>\n",
       "      <th>------me</th>\n",
       "      <td>1</td>\n",
       "      <td>401k + Roth contributions and limits</td>\n",
       "    </tr>\n",
       "    <tr>\n",
       "      <th>----GHOST----</th>\n",
       "      <td>1</td>\n",
       "      <td>Vanguard ETF Investment Question / Query</td>\n",
       "    </tr>\n",
       "    <tr>\n",
       "      <th>----Questions----</th>\n",
       "      <td>1</td>\n",
       "      <td>Pay off credit card (28k) and student loan (10...</td>\n",
       "    </tr>\n",
       "    <tr>\n",
       "      <th>----The_Truth-----</th>\n",
       "      <td>1</td>\n",
       "      <td>Cleanspark, Inc. ($CLSK) DEF 14C from 8/28/2020</td>\n",
       "    </tr>\n",
       "    <tr>\n",
       "      <th>---Dracarys---</th>\n",
       "      <td>5</td>\n",
       "      <td>What do you think about my stock portfolio? Ar...</td>\n",
       "    </tr>\n",
       "  </tbody>\n",
       "</table>\n",
       "</div>"
      ],
      "text/plain": [
       "                    id                                              title\n",
       "author                                                                   \n",
       "------me             1               401k + Roth contributions and limits\n",
       "----GHOST----        1           Vanguard ETF Investment Question / Query\n",
       "----Questions----    1  Pay off credit card (28k) and student loan (10...\n",
       "----The_Truth-----   1    Cleanspark, Inc. ($CLSK) DEF 14C from 8/28/2020\n",
       "---Dracarys---       5  What do you think about my stock portfolio? Ar..."
      ]
     },
     "execution_count": 23,
     "metadata": {},
     "output_type": "execute_result"
    }
   ],
   "source": [
    "df_author_posts.head()"
   ]
  },
  {
   "cell_type": "code",
   "execution_count": 24,
   "metadata": {
    "executionInfo": {
     "elapsed": 481,
     "status": "ok",
     "timestamp": 1640701292149,
     "user": {
      "displayName": "Pratik Agrawal",
      "photoUrl": "https://lh3.googleusercontent.com/a-/AOh14Gic3zhpzr916Y01z_b2NkfIWMHKiBe-fVqe5bj-AA=s64",
      "userId": "07645729797073748393"
     },
     "user_tz": -60
    },
    "id": "BshuG3W9Y0uF"
   },
   "outputs": [],
   "source": [
    "df['selftext'] = df['selftext'].astype(\"string\")"
   ]
  },
  {
   "cell_type": "code",
   "execution_count": 25,
   "metadata": {
    "executionInfo": {
     "elapsed": 488,
     "status": "ok",
     "timestamp": 1640701294507,
     "user": {
      "displayName": "Pratik Agrawal",
      "photoUrl": "https://lh3.googleusercontent.com/a-/AOh14Gic3zhpzr916Y01z_b2NkfIWMHKiBe-fVqe5bj-AA=s64",
      "userId": "07645729797073748393"
     },
     "user_tz": -60
    },
    "id": "nVAjuip-lNgX"
   },
   "outputs": [],
   "source": [
    "df.selftext = np.where(df.selftext.isnull(),\" \",df.selftext)"
   ]
  },
  {
   "cell_type": "code",
   "execution_count": 26,
   "metadata": {
    "executionInfo": {
     "elapsed": 1024,
     "status": "ok",
     "timestamp": 1640701297670,
     "user": {
      "displayName": "Pratik Agrawal",
      "photoUrl": "https://lh3.googleusercontent.com/a-/AOh14Gic3zhpzr916Y01z_b2NkfIWMHKiBe-fVqe5bj-AA=s64",
      "userId": "07645729797073748393"
     },
     "user_tz": -60
    },
    "id": "dQTm57XGknsx"
   },
   "outputs": [],
   "source": [
    "df_author_posts['selftext'] = df.groupby(['author']).agg({'selftext': ' '.join})"
   ]
  },
  {
   "cell_type": "code",
   "execution_count": 27,
   "metadata": {
    "executionInfo": {
     "elapsed": 406,
     "status": "ok",
     "timestamp": 1640701300580,
     "user": {
      "displayName": "Pratik Agrawal",
      "photoUrl": "https://lh3.googleusercontent.com/a-/AOh14Gic3zhpzr916Y01z_b2NkfIWMHKiBe-fVqe5bj-AA=s64",
      "userId": "07645729797073748393"
     },
     "user_tz": -60
    },
    "id": "UobP3wTosqA_"
   },
   "outputs": [],
   "source": [
    "df['date'] = df['date'].astype(\"string\")"
   ]
  },
  {
   "cell_type": "code",
   "execution_count": 28,
   "metadata": {
    "executionInfo": {
     "elapsed": 8633,
     "status": "ok",
     "timestamp": 1640701311403,
     "user": {
      "displayName": "Pratik Agrawal",
      "photoUrl": "https://lh3.googleusercontent.com/a-/AOh14Gic3zhpzr916Y01z_b2NkfIWMHKiBe-fVqe5bj-AA=s64",
      "userId": "07645729797073748393"
     },
     "user_tz": -60
    },
    "id": "hrpk3QQwWH2M"
   },
   "outputs": [],
   "source": [
    "df_author_posts['date']= df.groupby(['author']).agg({'date': ' '.join})"
   ]
  },
  {
   "cell_type": "code",
   "execution_count": 29,
   "metadata": {
    "executionInfo": {
     "elapsed": 657,
     "status": "ok",
     "timestamp": 1640701312041,
     "user": {
      "displayName": "Pratik Agrawal",
      "photoUrl": "https://lh3.googleusercontent.com/a-/AOh14Gic3zhpzr916Y01z_b2NkfIWMHKiBe-fVqe5bj-AA=s64",
      "userId": "07645729797073748393"
     },
     "user_tz": -60
    },
    "id": "4zN5-ASWtEp6"
   },
   "outputs": [],
   "source": [
    "df['day'] = df['day'].astype(\"string\")\n",
    "df['month'] = df['month'].astype(\"string\")\n",
    "df['year'] = df['year'].astype(\"string\")"
   ]
  },
  {
   "cell_type": "code",
   "execution_count": 30,
   "metadata": {
    "executionInfo": {
     "elapsed": 24006,
     "status": "ok",
     "timestamp": 1640701336032,
     "user": {
      "displayName": "Pratik Agrawal",
      "photoUrl": "https://lh3.googleusercontent.com/a-/AOh14Gic3zhpzr916Y01z_b2NkfIWMHKiBe-fVqe5bj-AA=s64",
      "userId": "07645729797073748393"
     },
     "user_tz": -60
    },
    "id": "amN40Qx4tH7G"
   },
   "outputs": [],
   "source": [
    "df_author_posts['day']= df.groupby(['author']).agg({'day': ' '.join})\n",
    "df_author_posts['month']= df.groupby(['author']).agg({'month': ' '.join})\n",
    "df_author_posts['year']= df.groupby(['author']).agg({'year': ' '.join})"
   ]
  },
  {
   "cell_type": "code",
   "execution_count": 31,
   "metadata": {
    "colab": {
     "base_uri": "https://localhost:8080/",
     "height": 238
    },
    "executionInfo": {
     "elapsed": 63,
     "status": "ok",
     "timestamp": 1640701336034,
     "user": {
      "displayName": "Pratik Agrawal",
      "photoUrl": "https://lh3.googleusercontent.com/a-/AOh14Gic3zhpzr916Y01z_b2NkfIWMHKiBe-fVqe5bj-AA=s64",
      "userId": "07645729797073748393"
     },
     "user_tz": -60
    },
    "id": "h6cqDnWdloSe",
    "outputId": "b6f42d0b-58b9-432f-c95d-d1ff2f62ad1a"
   },
   "outputs": [
    {
     "data": {
      "text/html": [
       "<div>\n",
       "<style scoped>\n",
       "    .dataframe tbody tr th:only-of-type {\n",
       "        vertical-align: middle;\n",
       "    }\n",
       "\n",
       "    .dataframe tbody tr th {\n",
       "        vertical-align: top;\n",
       "    }\n",
       "\n",
       "    .dataframe thead th {\n",
       "        text-align: right;\n",
       "    }\n",
       "</style>\n",
       "<table border=\"1\" class=\"dataframe\">\n",
       "  <thead>\n",
       "    <tr style=\"text-align: right;\">\n",
       "      <th></th>\n",
       "      <th>id</th>\n",
       "      <th>title</th>\n",
       "      <th>selftext</th>\n",
       "      <th>date</th>\n",
       "      <th>day</th>\n",
       "      <th>month</th>\n",
       "      <th>year</th>\n",
       "    </tr>\n",
       "    <tr>\n",
       "      <th>author</th>\n",
       "      <th></th>\n",
       "      <th></th>\n",
       "      <th></th>\n",
       "      <th></th>\n",
       "      <th></th>\n",
       "      <th></th>\n",
       "      <th></th>\n",
       "    </tr>\n",
       "  </thead>\n",
       "  <tbody>\n",
       "    <tr>\n",
       "      <th>------me</th>\n",
       "      <td>1</td>\n",
       "      <td>401k + Roth contributions and limits</td>\n",
       "      <td>[removed]</td>\n",
       "      <td>2021-09-09</td>\n",
       "      <td>9</td>\n",
       "      <td>9</td>\n",
       "      <td>2021</td>\n",
       "    </tr>\n",
       "    <tr>\n",
       "      <th>----GHOST----</th>\n",
       "      <td>1</td>\n",
       "      <td>Vanguard ETF Investment Question / Query</td>\n",
       "      <td>Quick question I have in regards to a Vanguard...</td>\n",
       "      <td>2020-05-16</td>\n",
       "      <td>16</td>\n",
       "      <td>5</td>\n",
       "      <td>2020</td>\n",
       "    </tr>\n",
       "    <tr>\n",
       "      <th>----Questions----</th>\n",
       "      <td>1</td>\n",
       "      <td>Pay off credit card (28k) and student loan (10...</td>\n",
       "      <td>Tried posting this in /r/personalfinance but p...</td>\n",
       "      <td>2021-01-02</td>\n",
       "      <td>2</td>\n",
       "      <td>1</td>\n",
       "      <td>2021</td>\n",
       "    </tr>\n",
       "    <tr>\n",
       "      <th>----The_Truth-----</th>\n",
       "      <td>1</td>\n",
       "      <td>Cleanspark, Inc. ($CLSK) DEF 14C from 8/28/2020</td>\n",
       "      <td>Good evening to all. Haven't ever posted here,...</td>\n",
       "      <td>2020-08-16</td>\n",
       "      <td>16</td>\n",
       "      <td>8</td>\n",
       "      <td>2020</td>\n",
       "    </tr>\n",
       "    <tr>\n",
       "      <th>---Dracarys---</th>\n",
       "      <td>5</td>\n",
       "      <td>What do you think about my stock portfolio? Ar...</td>\n",
       "      <td>What do you think about my portfolio? Are ther...</td>\n",
       "      <td>2021-05-23 2021-05-19 2020-12-03 2020-03-13 20...</td>\n",
       "      <td>23 19 3 13 10</td>\n",
       "      <td>5 5 12 3 3</td>\n",
       "      <td>2021 2021 2020 2020 2020</td>\n",
       "    </tr>\n",
       "  </tbody>\n",
       "</table>\n",
       "</div>"
      ],
      "text/plain": [
       "                    id                                              title  \\\n",
       "author                                                                      \n",
       "------me             1               401k + Roth contributions and limits   \n",
       "----GHOST----        1           Vanguard ETF Investment Question / Query   \n",
       "----Questions----    1  Pay off credit card (28k) and student loan (10...   \n",
       "----The_Truth-----   1    Cleanspark, Inc. ($CLSK) DEF 14C from 8/28/2020   \n",
       "---Dracarys---       5  What do you think about my stock portfolio? Ar...   \n",
       "\n",
       "                                                             selftext  \\\n",
       "author                                                                  \n",
       "------me                                                    [removed]   \n",
       "----GHOST----       Quick question I have in regards to a Vanguard...   \n",
       "----Questions----   Tried posting this in /r/personalfinance but p...   \n",
       "----The_Truth-----  Good evening to all. Haven't ever posted here,...   \n",
       "---Dracarys---      What do you think about my portfolio? Are ther...   \n",
       "\n",
       "                                                                 date  \\\n",
       "author                                                                  \n",
       "------me                                                   2021-09-09   \n",
       "----GHOST----                                              2020-05-16   \n",
       "----Questions----                                          2021-01-02   \n",
       "----The_Truth-----                                         2020-08-16   \n",
       "---Dracarys---      2021-05-23 2021-05-19 2020-12-03 2020-03-13 20...   \n",
       "\n",
       "                              day       month                      year  \n",
       "author                                                                   \n",
       "------me                        9           9                      2021  \n",
       "----GHOST----                  16           5                      2020  \n",
       "----Questions----               2           1                      2021  \n",
       "----The_Truth-----             16           8                      2020  \n",
       "---Dracarys---      23 19 3 13 10  5 5 12 3 3  2021 2021 2020 2020 2020  "
      ]
     },
     "execution_count": 31,
     "metadata": {},
     "output_type": "execute_result"
    }
   ],
   "source": [
    "df_author_posts.head()"
   ]
  },
  {
   "cell_type": "markdown",
   "metadata": {
    "id": "XgBb2-Niu9-X"
   },
   "source": [
    "## number of users who have posted more than n times"
   ]
  },
  {
   "cell_type": "code",
   "execution_count": 32,
   "metadata": {
    "colab": {
     "base_uri": "https://localhost:8080/"
    },
    "executionInfo": {
     "elapsed": 502,
     "status": "ok",
     "timestamp": 1640701351721,
     "user": {
      "displayName": "Pratik Agrawal",
      "photoUrl": "https://lh3.googleusercontent.com/a-/AOh14Gic3zhpzr916Y01z_b2NkfIWMHKiBe-fVqe5bj-AA=s64",
      "userId": "07645729797073748393"
     },
     "user_tz": -60
    },
    "id": "XlwGNSlYumFs",
    "outputId": "fc9bf25b-9972-4fdc-87d8-67dccddd96ff"
   },
   "outputs": [
    {
     "name": "stdout",
     "output_type": "stream",
     "text": [
      "<class 'pandas.core.frame.DataFrame'>\n",
      "Index: 640 entries, 007moonboundnxs to zuelearth\n",
      "Data columns (total 7 columns):\n",
      " #   Column    Non-Null Count  Dtype \n",
      "---  ------    --------------  ----- \n",
      " 0   id        640 non-null    int64 \n",
      " 1   title     640 non-null    object\n",
      " 2   selftext  640 non-null    object\n",
      " 3   date      640 non-null    object\n",
      " 4   day       640 non-null    object\n",
      " 5   month     640 non-null    object\n",
      " 6   year      640 non-null    object\n",
      "dtypes: int64(1), object(6)\n",
      "memory usage: 40.0+ KB\n"
     ]
    }
   ],
   "source": [
    "df_author_posts[df_author_posts['id'] > 10].info()"
   ]
  },
  {
   "cell_type": "code",
   "execution_count": 33,
   "metadata": {
    "colab": {
     "base_uri": "https://localhost:8080/"
    },
    "executionInfo": {
     "elapsed": 509,
     "status": "ok",
     "timestamp": 1640701359211,
     "user": {
      "displayName": "Pratik Agrawal",
      "photoUrl": "https://lh3.googleusercontent.com/a-/AOh14Gic3zhpzr916Y01z_b2NkfIWMHKiBe-fVqe5bj-AA=s64",
      "userId": "07645729797073748393"
     },
     "user_tz": -60
    },
    "id": "n62r2Mz3u87i",
    "outputId": "17ffd39f-024b-4b07-ea65-11211108e735"
   },
   "outputs": [
    {
     "name": "stdout",
     "output_type": "stream",
     "text": [
      "<class 'pandas.core.frame.DataFrame'>\n",
      "Index: 19127 entries, ---Dracarys--- to zzoar13\n",
      "Data columns (total 7 columns):\n",
      " #   Column    Non-Null Count  Dtype \n",
      "---  ------    --------------  ----- \n",
      " 0   id        19127 non-null  int64 \n",
      " 1   title     19127 non-null  object\n",
      " 2   selftext  19127 non-null  object\n",
      " 3   date      19127 non-null  object\n",
      " 4   day       19127 non-null  object\n",
      " 5   month     19127 non-null  object\n",
      " 6   year      19127 non-null  object\n",
      "dtypes: int64(1), object(6)\n",
      "memory usage: 1.2+ MB\n"
     ]
    }
   ],
   "source": [
    "df_author_posts[df_author_posts['id'] > 1].info()"
   ]
  },
  {
   "cell_type": "code",
   "execution_count": 34,
   "metadata": {
    "colab": {
     "base_uri": "https://localhost:8080/"
    },
    "executionInfo": {
     "elapsed": 491,
     "status": "ok",
     "timestamp": 1640701364959,
     "user": {
      "displayName": "Pratik Agrawal",
      "photoUrl": "https://lh3.googleusercontent.com/a-/AOh14Gic3zhpzr916Y01z_b2NkfIWMHKiBe-fVqe5bj-AA=s64",
      "userId": "07645729797073748393"
     },
     "user_tz": -60
    },
    "id": "u8DqPrF0vkfL",
    "outputId": "5296876a-3bd0-4b4f-fb99-d87e0c76ec17"
   },
   "outputs": [
    {
     "name": "stdout",
     "output_type": "stream",
     "text": [
      "<class 'pandas.core.frame.DataFrame'>\n",
      "Index: 604 entries, 007moonboundnxs to zuelearth\n",
      "Data columns (total 7 columns):\n",
      " #   Column    Non-Null Count  Dtype \n",
      "---  ------    --------------  ----- \n",
      " 0   id        604 non-null    int64 \n",
      " 1   title     604 non-null    object\n",
      " 2   selftext  604 non-null    object\n",
      " 3   date      604 non-null    object\n",
      " 4   day       604 non-null    object\n",
      " 5   month     604 non-null    object\n",
      " 6   year      604 non-null    object\n",
      "dtypes: int64(1), object(6)\n",
      "memory usage: 37.8+ KB\n"
     ]
    }
   ],
   "source": [
    "df_author_posts[(df_author_posts['id'] > 10) & (df_author_posts['id'] <50)].info()"
   ]
  },
  {
   "cell_type": "code",
   "execution_count": 35,
   "metadata": {
    "colab": {
     "base_uri": "https://localhost:8080/"
    },
    "executionInfo": {
     "elapsed": 521,
     "status": "ok",
     "timestamp": 1640701379485,
     "user": {
      "displayName": "Pratik Agrawal",
      "photoUrl": "https://lh3.googleusercontent.com/a-/AOh14Gic3zhpzr916Y01z_b2NkfIWMHKiBe-fVqe5bj-AA=s64",
      "userId": "07645729797073748393"
     },
     "user_tz": -60
    },
    "id": "zW-0iPglvXuR",
    "outputId": "74f95221-660a-474c-b0cb-b6a4391ab6e6"
   },
   "outputs": [
    {
     "name": "stdout",
     "output_type": "stream",
     "text": [
      "<class 'pandas.core.frame.DataFrame'>\n",
      "Index: 36 entries, Able_Hat to xenocloud1989\n",
      "Data columns (total 7 columns):\n",
      " #   Column    Non-Null Count  Dtype \n",
      "---  ------    --------------  ----- \n",
      " 0   id        36 non-null     int64 \n",
      " 1   title     36 non-null     object\n",
      " 2   selftext  36 non-null     object\n",
      " 3   date      36 non-null     object\n",
      " 4   day       36 non-null     object\n",
      " 5   month     36 non-null     object\n",
      " 6   year      36 non-null     object\n",
      "dtypes: int64(1), object(6)\n",
      "memory usage: 2.2+ KB\n"
     ]
    }
   ],
   "source": [
    "df_author_posts[df_author_posts['id'] > 50].info()"
   ]
  },
  {
   "cell_type": "code",
   "execution_count": 36,
   "metadata": {
    "colab": {
     "base_uri": "https://localhost:8080/"
    },
    "executionInfo": {
     "elapsed": 534,
     "status": "ok",
     "timestamp": 1640701383792,
     "user": {
      "displayName": "Pratik Agrawal",
      "photoUrl": "https://lh3.googleusercontent.com/a-/AOh14Gic3zhpzr916Y01z_b2NkfIWMHKiBe-fVqe5bj-AA=s64",
      "userId": "07645729797073748393"
     },
     "user_tz": -60
    },
    "id": "E90Hgd20vMR0",
    "outputId": "4a6b9691-1921-4659-b0b0-479d25de551b"
   },
   "outputs": [
    {
     "name": "stdout",
     "output_type": "stream",
     "text": [
      "<class 'pandas.core.frame.DataFrame'>\n",
      "Index: 14 entries, AutoModerator to wealthbuild-up\n",
      "Data columns (total 7 columns):\n",
      " #   Column    Non-Null Count  Dtype \n",
      "---  ------    --------------  ----- \n",
      " 0   id        14 non-null     int64 \n",
      " 1   title     14 non-null     object\n",
      " 2   selftext  14 non-null     object\n",
      " 3   date      14 non-null     object\n",
      " 4   day       14 non-null     object\n",
      " 5   month     14 non-null     object\n",
      " 6   year      14 non-null     object\n",
      "dtypes: int64(1), object(6)\n",
      "memory usage: 896.0+ bytes\n"
     ]
    }
   ],
   "source": [
    "df_author_posts[df_author_posts['id'] > 100].info()"
   ]
  },
  {
   "cell_type": "markdown",
   "metadata": {
    "id": "Z4xUa_qEywg0"
   },
   "source": [
    "# Tickers by user"
   ]
  },
  {
   "cell_type": "code",
   "execution_count": 37,
   "metadata": {
    "executionInfo": {
     "elapsed": 1000,
     "status": "ok",
     "timestamp": 1640701447610,
     "user": {
      "displayName": "Pratik Agrawal",
      "photoUrl": "https://lh3.googleusercontent.com/a-/AOh14Gic3zhpzr916Y01z_b2NkfIWMHKiBe-fVqe5bj-AA=s64",
      "userId": "07645729797073748393"
     },
     "user_tz": -60
    },
    "id": "ZCOJYQB8lzUJ"
   },
   "outputs": [],
   "source": [
    "\n",
    "nasdaq_stocks = pd.read_csv(\"data/nasdaq.csv\", sep=\",\")\n",
    "nasdaq_stocks_symbols = nasdaq_stocks[\"Symbol\"].tolist()"
   ]
  },
  {
   "cell_type": "code",
   "execution_count": 38,
   "metadata": {
    "executionInfo": {
     "elapsed": 8,
     "status": "ok",
     "timestamp": 1640701449160,
     "user": {
      "displayName": "Pratik Agrawal",
      "photoUrl": "https://lh3.googleusercontent.com/a-/AOh14Gic3zhpzr916Y01z_b2NkfIWMHKiBe-fVqe5bj-AA=s64",
      "userId": "07645729797073748393"
     },
     "user_tz": -60
    },
    "id": "cZQO8vsgysmG"
   },
   "outputs": [],
   "source": [
    "# Function to find stocks in a text given stock list\n",
    "import re\n",
    "regex = re.compile(\"[^a-zA-Z ]\")\n",
    "ticker_set = set(nasdaq_stocks_symbols)\n",
    "#list(filter(lambda word: word[0]=='s', text.split()))\n",
    "\n",
    "def calculate_mentioned_stocks(title, body=\"\"):\n",
    "    #content = regex.sub(\"\", str(title) + \" \" + str(body)).split(\" \")\n",
    "    text = str(title) + \" \" + str(body)   \n",
    "    tick_list = list(filter(lambda word: word[0]=='$', text.split())) \n",
    "    content = set(list([i[1:] for i in tick_list]))\n",
    "    tickers = str(list(ticker_set & content))    \n",
    "    return pd.Series([tickers])\n",
    "\n",
    "def sanitize_column(column):\n",
    "    #print(str(column))\n",
    "    column = str(column).replace(\"[],\", \"\").replace(\"[]\", \"\").replace(\"],[\", \",\").replace(\"][\", \",\")\n",
    "    return column"
   ]
  },
  {
   "cell_type": "code",
   "execution_count": 39,
   "metadata": {
    "executionInfo": {
     "elapsed": 24696,
     "status": "ok",
     "timestamp": 1640701477287,
     "user": {
      "displayName": "Pratik Agrawal",
      "photoUrl": "https://lh3.googleusercontent.com/a-/AOh14Gic3zhpzr916Y01z_b2NkfIWMHKiBe-fVqe5bj-AA=s64",
      "userId": "07645729797073748393"
     },
     "user_tz": -60
    },
    "id": "Iyq6uS4Syx9I"
   },
   "outputs": [],
   "source": [
    "df_author_posts['tickers_'] = df_author_posts.apply(lambda x: calculate_mentioned_stocks(x[\"title\"],x[\"selftext\"]), axis=1)\n"
   ]
  },
  {
   "cell_type": "code",
   "execution_count": 40,
   "metadata": {
    "executionInfo": {
     "elapsed": 492,
     "status": "ok",
     "timestamp": 1640701489257,
     "user": {
      "displayName": "Pratik Agrawal",
      "photoUrl": "https://lh3.googleusercontent.com/a-/AOh14Gic3zhpzr916Y01z_b2NkfIWMHKiBe-fVqe5bj-AA=s64",
      "userId": "07645729797073748393"
     },
     "user_tz": -60
    },
    "id": "apgwS2vsz4GO"
   },
   "outputs": [],
   "source": [
    "df_author_posts['tickers_'] = df_author_posts['tickers_'].apply(sanitize_column)"
   ]
  },
  {
   "cell_type": "code",
   "execution_count": 41,
   "metadata": {
    "colab": {
     "base_uri": "https://localhost:8080/",
     "height": 238
    },
    "executionInfo": {
     "elapsed": 23,
     "status": "ok",
     "timestamp": 1640701491018,
     "user": {
      "displayName": "Pratik Agrawal",
      "photoUrl": "https://lh3.googleusercontent.com/a-/AOh14Gic3zhpzr916Y01z_b2NkfIWMHKiBe-fVqe5bj-AA=s64",
      "userId": "07645729797073748393"
     },
     "user_tz": -60
    },
    "id": "Oup7pMW4e9R9",
    "outputId": "b677ed93-0cec-4522-e803-272d3de106c4"
   },
   "outputs": [
    {
     "data": {
      "text/html": [
       "<div>\n",
       "<style scoped>\n",
       "    .dataframe tbody tr th:only-of-type {\n",
       "        vertical-align: middle;\n",
       "    }\n",
       "\n",
       "    .dataframe tbody tr th {\n",
       "        vertical-align: top;\n",
       "    }\n",
       "\n",
       "    .dataframe thead th {\n",
       "        text-align: right;\n",
       "    }\n",
       "</style>\n",
       "<table border=\"1\" class=\"dataframe\">\n",
       "  <thead>\n",
       "    <tr style=\"text-align: right;\">\n",
       "      <th></th>\n",
       "      <th>id</th>\n",
       "      <th>title</th>\n",
       "      <th>selftext</th>\n",
       "      <th>date</th>\n",
       "      <th>day</th>\n",
       "      <th>month</th>\n",
       "      <th>year</th>\n",
       "      <th>tickers_</th>\n",
       "    </tr>\n",
       "    <tr>\n",
       "      <th>author</th>\n",
       "      <th></th>\n",
       "      <th></th>\n",
       "      <th></th>\n",
       "      <th></th>\n",
       "      <th></th>\n",
       "      <th></th>\n",
       "      <th></th>\n",
       "      <th></th>\n",
       "    </tr>\n",
       "  </thead>\n",
       "  <tbody>\n",
       "    <tr>\n",
       "      <th>------me</th>\n",
       "      <td>1</td>\n",
       "      <td>401k + Roth contributions and limits</td>\n",
       "      <td>[removed]</td>\n",
       "      <td>2021-09-09</td>\n",
       "      <td>9</td>\n",
       "      <td>9</td>\n",
       "      <td>2021</td>\n",
       "      <td></td>\n",
       "    </tr>\n",
       "    <tr>\n",
       "      <th>----GHOST----</th>\n",
       "      <td>1</td>\n",
       "      <td>Vanguard ETF Investment Question / Query</td>\n",
       "      <td>Quick question I have in regards to a Vanguard...</td>\n",
       "      <td>2020-05-16</td>\n",
       "      <td>16</td>\n",
       "      <td>5</td>\n",
       "      <td>2020</td>\n",
       "      <td></td>\n",
       "    </tr>\n",
       "    <tr>\n",
       "      <th>----Questions----</th>\n",
       "      <td>1</td>\n",
       "      <td>Pay off credit card (28k) and student loan (10...</td>\n",
       "      <td>Tried posting this in /r/personalfinance but p...</td>\n",
       "      <td>2021-01-02</td>\n",
       "      <td>2</td>\n",
       "      <td>1</td>\n",
       "      <td>2021</td>\n",
       "      <td></td>\n",
       "    </tr>\n",
       "    <tr>\n",
       "      <th>----The_Truth-----</th>\n",
       "      <td>1</td>\n",
       "      <td>Cleanspark, Inc. ($CLSK) DEF 14C from 8/28/2020</td>\n",
       "      <td>Good evening to all. Haven't ever posted here,...</td>\n",
       "      <td>2020-08-16</td>\n",
       "      <td>16</td>\n",
       "      <td>8</td>\n",
       "      <td>2020</td>\n",
       "      <td></td>\n",
       "    </tr>\n",
       "    <tr>\n",
       "      <th>---Dracarys---</th>\n",
       "      <td>5</td>\n",
       "      <td>What do you think about my stock portfolio? Ar...</td>\n",
       "      <td>What do you think about my portfolio? Are ther...</td>\n",
       "      <td>2021-05-23 2021-05-19 2020-12-03 2020-03-13 20...</td>\n",
       "      <td>23 19 3 13 10</td>\n",
       "      <td>5 5 12 3 3</td>\n",
       "      <td>2021 2021 2020 2020 2020</td>\n",
       "      <td></td>\n",
       "    </tr>\n",
       "  </tbody>\n",
       "</table>\n",
       "</div>"
      ],
      "text/plain": [
       "                    id                                              title  \\\n",
       "author                                                                      \n",
       "------me             1               401k + Roth contributions and limits   \n",
       "----GHOST----        1           Vanguard ETF Investment Question / Query   \n",
       "----Questions----    1  Pay off credit card (28k) and student loan (10...   \n",
       "----The_Truth-----   1    Cleanspark, Inc. ($CLSK) DEF 14C from 8/28/2020   \n",
       "---Dracarys---       5  What do you think about my stock portfolio? Ar...   \n",
       "\n",
       "                                                             selftext  \\\n",
       "author                                                                  \n",
       "------me                                                    [removed]   \n",
       "----GHOST----       Quick question I have in regards to a Vanguard...   \n",
       "----Questions----   Tried posting this in /r/personalfinance but p...   \n",
       "----The_Truth-----  Good evening to all. Haven't ever posted here,...   \n",
       "---Dracarys---      What do you think about my portfolio? Are ther...   \n",
       "\n",
       "                                                                 date  \\\n",
       "author                                                                  \n",
       "------me                                                   2021-09-09   \n",
       "----GHOST----                                              2020-05-16   \n",
       "----Questions----                                          2021-01-02   \n",
       "----The_Truth-----                                         2020-08-16   \n",
       "---Dracarys---      2021-05-23 2021-05-19 2020-12-03 2020-03-13 20...   \n",
       "\n",
       "                              day       month                      year  \\\n",
       "author                                                                    \n",
       "------me                        9           9                      2021   \n",
       "----GHOST----                  16           5                      2020   \n",
       "----Questions----               2           1                      2021   \n",
       "----The_Truth-----             16           8                      2020   \n",
       "---Dracarys---      23 19 3 13 10  5 5 12 3 3  2021 2021 2020 2020 2020   \n",
       "\n",
       "                   tickers_  \n",
       "author                       \n",
       "------me                     \n",
       "----GHOST----                \n",
       "----Questions----            \n",
       "----The_Truth-----           \n",
       "---Dracarys---               "
      ]
     },
     "execution_count": 41,
     "metadata": {},
     "output_type": "execute_result"
    }
   ],
   "source": [
    "df_author_posts.head()"
   ]
  },
  {
   "cell_type": "code",
   "execution_count": 42,
   "metadata": {
    "colab": {
     "base_uri": "https://localhost:8080/"
    },
    "executionInfo": {
     "elapsed": 391,
     "status": "ok",
     "timestamp": 1640701495737,
     "user": {
      "displayName": "Pratik Agrawal",
      "photoUrl": "https://lh3.googleusercontent.com/a-/AOh14Gic3zhpzr916Y01z_b2NkfIWMHKiBe-fVqe5bj-AA=s64",
      "userId": "07645729797073748393"
     },
     "user_tz": -60
    },
    "id": "Na9okb2v1KIo",
    "outputId": "77e4fae8-6dad-4b05-e72d-755af4ec3d5b"
   },
   "outputs": [
    {
     "data": {
      "text/plain": [
       "['', '', '', '', '', '', '', '', '', '']"
      ]
     },
     "execution_count": 42,
     "metadata": {},
     "output_type": "execute_result"
    }
   ],
   "source": [
    "df_author_posts['tickers_'].tolist()[:10]"
   ]
  },
  {
   "cell_type": "code",
   "execution_count": 43,
   "metadata": {
    "executionInfo": {
     "elapsed": 457,
     "status": "ok",
     "timestamp": 1640701500016,
     "user": {
      "displayName": "Pratik Agrawal",
      "photoUrl": "https://lh3.googleusercontent.com/a-/AOh14Gic3zhpzr916Y01z_b2NkfIWMHKiBe-fVqe5bj-AA=s64",
      "userId": "07645729797073748393"
     },
     "user_tz": -60
    },
    "id": "2LVEf8Rw1fqR"
   },
   "outputs": [],
   "source": [
    "df_author_posts['tickers']= df_author_posts['tickers_'].apply(lambda x: sanitize_column(x))"
   ]
  },
  {
   "cell_type": "code",
   "execution_count": 44,
   "metadata": {
    "colab": {
     "base_uri": "https://localhost:8080/"
    },
    "executionInfo": {
     "elapsed": 12,
     "status": "ok",
     "timestamp": 1640701502184,
     "user": {
      "displayName": "Pratik Agrawal",
      "photoUrl": "https://lh3.googleusercontent.com/a-/AOh14Gic3zhpzr916Y01z_b2NkfIWMHKiBe-fVqe5bj-AA=s64",
      "userId": "07645729797073748393"
     },
     "user_tz": -60
    },
    "id": "h-4mEwb01jlk",
    "outputId": "535bffaf-6793-45c8-ccd2-df07abb5cbc0"
   },
   "outputs": [
    {
     "data": {
      "text/plain": [
       "['', '', '', '', '', '', '', '', '', '']"
      ]
     },
     "execution_count": 44,
     "metadata": {},
     "output_type": "execute_result"
    }
   ],
   "source": [
    "df_author_posts['tickers'].tolist()[:10]"
   ]
  },
  {
   "cell_type": "code",
   "execution_count": 45,
   "metadata": {
    "executionInfo": {
     "elapsed": 437,
     "status": "ok",
     "timestamp": 1640701506661,
     "user": {
      "displayName": "Pratik Agrawal",
      "photoUrl": "https://lh3.googleusercontent.com/a-/AOh14Gic3zhpzr916Y01z_b2NkfIWMHKiBe-fVqe5bj-AA=s64",
      "userId": "07645729797073748393"
     },
     "user_tz": -60
    },
    "id": "9TMrmvsr2Buk"
   },
   "outputs": [],
   "source": [
    "from collections import Counter, defaultdict\n",
    "import ast"
   ]
  },
  {
   "cell_type": "code",
   "execution_count": 46,
   "metadata": {
    "executionInfo": {
     "elapsed": 907,
     "status": "ok",
     "timestamp": 1640701510642,
     "user": {
      "displayName": "Pratik Agrawal",
      "photoUrl": "https://lh3.googleusercontent.com/a-/AOh14Gic3zhpzr916Y01z_b2NkfIWMHKiBe-fVqe5bj-AA=s64",
      "userId": "07645729797073748393"
     },
     "user_tz": -60
    },
    "id": "-3Z-aAnn2El7"
   },
   "outputs": [],
   "source": [
    "#count stocks\n",
    "df_author_posts[\"tickers\"] =df_author_posts[\"tickers\"].str.strip(\"[]\").str.split(\",\")\n",
    "df_author_posts[\"tickers_count\"] = df_author_posts.apply(lambda x: dict(Counter(list(x['tickers']))), axis=1)"
   ]
  },
  {
   "cell_type": "code",
   "execution_count": 47,
   "metadata": {
    "executionInfo": {
     "elapsed": 413,
     "status": "ok",
     "timestamp": 1640701514041,
     "user": {
      "displayName": "Pratik Agrawal",
      "photoUrl": "https://lh3.googleusercontent.com/a-/AOh14Gic3zhpzr916Y01z_b2NkfIWMHKiBe-fVqe5bj-AA=s64",
      "userId": "07645729797073748393"
     },
     "user_tz": -60
    },
    "id": "KkG5YMUKdaZk"
   },
   "outputs": [],
   "source": [
    "from numpy.core.numeric import NaN\n",
    "\n",
    "def agg_counter_objs(rows):\n",
    "    #print(rows)\n",
    "    #print(type(rows))\n",
    "    if ((rows == '') | (rows == NaN)):\n",
    "        return 0\n",
    "    new_counter_objs = []\n",
    "    #rows= ast.literal_eval(rows)\n",
    "    def default_val():\n",
    "        return 0\n",
    "        \n",
    "    new_dict = defaultdict(default_val)\n",
    "    #print(rows)\n",
    "    test_dict = Counter(rows)\n",
    "    for key in test_dict.keys():\n",
    "        new_key = key.replace(\"'\",\"\").replace('\"',\"\").replace(\"]\",\"\").replace(\"\\\\\",\"\").strip()\n",
    "        new_dict[new_key] += test_dict[key]\n",
    "            \n",
    "    if \"\" in new_dict.keys():\n",
    "        del new_dict[\"\"]\n",
    "            \n",
    "    new_counter_objs.append(Counter(new_dict))\n",
    "        \n",
    "    agg_counter_obj = Counter({})\n",
    "    for obj in new_counter_objs:\n",
    "        agg_counter_obj += obj        \n",
    "    return (str(dict(agg_counter_obj)))"
   ]
  },
  {
   "cell_type": "code",
   "execution_count": 48,
   "metadata": {
    "executionInfo": {
     "elapsed": 1379,
     "status": "ok",
     "timestamp": 1640701519056,
     "user": {
      "displayName": "Pratik Agrawal",
      "photoUrl": "https://lh3.googleusercontent.com/a-/AOh14Gic3zhpzr916Y01z_b2NkfIWMHKiBe-fVqe5bj-AA=s64",
      "userId": "07645729797073748393"
     },
     "user_tz": -60
    },
    "id": "AG92FehP2tjX"
   },
   "outputs": [],
   "source": [
    "df_author_posts['tickers_count_'] = df_author_posts[\"tickers_count\"].apply(agg_counter_objs)"
   ]
  },
  {
   "cell_type": "code",
   "execution_count": 49,
   "metadata": {
    "executionInfo": {
     "elapsed": 515,
     "status": "ok",
     "timestamp": 1640701532787,
     "user": {
      "displayName": "Pratik Agrawal",
      "photoUrl": "https://lh3.googleusercontent.com/a-/AOh14Gic3zhpzr916Y01z_b2NkfIWMHKiBe-fVqe5bj-AA=s64",
      "userId": "07645729797073748393"
     },
     "user_tz": -60
    },
    "id": "QLXC9ECV36bV"
   },
   "outputs": [],
   "source": [
    "df_author_posts = df_author_posts.drop(['tickers','tickers_count'],axis=1)"
   ]
  },
  {
   "cell_type": "code",
   "execution_count": 50,
   "metadata": {
    "colab": {
     "base_uri": "https://localhost:8080/",
     "height": 350
    },
    "executionInfo": {
     "elapsed": 14,
     "status": "ok",
     "timestamp": 1640701534421,
     "user": {
      "displayName": "Pratik Agrawal",
      "photoUrl": "https://lh3.googleusercontent.com/a-/AOh14Gic3zhpzr916Y01z_b2NkfIWMHKiBe-fVqe5bj-AA=s64",
      "userId": "07645729797073748393"
     },
     "user_tz": -60
    },
    "id": "Tw88OcXF3qhg",
    "outputId": "cec2da51-c677-4577-ca50-58937b612c09"
   },
   "outputs": [
    {
     "data": {
      "text/html": [
       "<div>\n",
       "<style scoped>\n",
       "    .dataframe tbody tr th:only-of-type {\n",
       "        vertical-align: middle;\n",
       "    }\n",
       "\n",
       "    .dataframe tbody tr th {\n",
       "        vertical-align: top;\n",
       "    }\n",
       "\n",
       "    .dataframe thead th {\n",
       "        text-align: right;\n",
       "    }\n",
       "</style>\n",
       "<table border=\"1\" class=\"dataframe\">\n",
       "  <thead>\n",
       "    <tr style=\"text-align: right;\">\n",
       "      <th></th>\n",
       "      <th>id</th>\n",
       "      <th>title</th>\n",
       "      <th>selftext</th>\n",
       "      <th>date</th>\n",
       "      <th>day</th>\n",
       "      <th>month</th>\n",
       "      <th>year</th>\n",
       "      <th>tickers_</th>\n",
       "      <th>tickers_count_</th>\n",
       "    </tr>\n",
       "    <tr>\n",
       "      <th>author</th>\n",
       "      <th></th>\n",
       "      <th></th>\n",
       "      <th></th>\n",
       "      <th></th>\n",
       "      <th></th>\n",
       "      <th></th>\n",
       "      <th></th>\n",
       "      <th></th>\n",
       "      <th></th>\n",
       "    </tr>\n",
       "  </thead>\n",
       "  <tbody>\n",
       "    <tr>\n",
       "      <th>------me</th>\n",
       "      <td>1</td>\n",
       "      <td>401k + Roth contributions and limits</td>\n",
       "      <td>[removed]</td>\n",
       "      <td>2021-09-09</td>\n",
       "      <td>9</td>\n",
       "      <td>9</td>\n",
       "      <td>2021</td>\n",
       "      <td></td>\n",
       "      <td>{}</td>\n",
       "    </tr>\n",
       "    <tr>\n",
       "      <th>----GHOST----</th>\n",
       "      <td>1</td>\n",
       "      <td>Vanguard ETF Investment Question / Query</td>\n",
       "      <td>Quick question I have in regards to a Vanguard...</td>\n",
       "      <td>2020-05-16</td>\n",
       "      <td>16</td>\n",
       "      <td>5</td>\n",
       "      <td>2020</td>\n",
       "      <td></td>\n",
       "      <td>{}</td>\n",
       "    </tr>\n",
       "    <tr>\n",
       "      <th>----Questions----</th>\n",
       "      <td>1</td>\n",
       "      <td>Pay off credit card (28k) and student loan (10...</td>\n",
       "      <td>Tried posting this in /r/personalfinance but p...</td>\n",
       "      <td>2021-01-02</td>\n",
       "      <td>2</td>\n",
       "      <td>1</td>\n",
       "      <td>2021</td>\n",
       "      <td></td>\n",
       "      <td>{}</td>\n",
       "    </tr>\n",
       "    <tr>\n",
       "      <th>----The_Truth-----</th>\n",
       "      <td>1</td>\n",
       "      <td>Cleanspark, Inc. ($CLSK) DEF 14C from 8/28/2020</td>\n",
       "      <td>Good evening to all. Haven't ever posted here,...</td>\n",
       "      <td>2020-08-16</td>\n",
       "      <td>16</td>\n",
       "      <td>8</td>\n",
       "      <td>2020</td>\n",
       "      <td></td>\n",
       "      <td>{}</td>\n",
       "    </tr>\n",
       "    <tr>\n",
       "      <th>---Dracarys---</th>\n",
       "      <td>5</td>\n",
       "      <td>What do you think about my stock portfolio? Ar...</td>\n",
       "      <td>What do you think about my portfolio? Are ther...</td>\n",
       "      <td>2021-05-23 2021-05-19 2020-12-03 2020-03-13 20...</td>\n",
       "      <td>23 19 3 13 10</td>\n",
       "      <td>5 5 12 3 3</td>\n",
       "      <td>2021 2021 2020 2020 2020</td>\n",
       "      <td></td>\n",
       "      <td>{}</td>\n",
       "    </tr>\n",
       "  </tbody>\n",
       "</table>\n",
       "</div>"
      ],
      "text/plain": [
       "                    id                                              title  \\\n",
       "author                                                                      \n",
       "------me             1               401k + Roth contributions and limits   \n",
       "----GHOST----        1           Vanguard ETF Investment Question / Query   \n",
       "----Questions----    1  Pay off credit card (28k) and student loan (10...   \n",
       "----The_Truth-----   1    Cleanspark, Inc. ($CLSK) DEF 14C from 8/28/2020   \n",
       "---Dracarys---       5  What do you think about my stock portfolio? Ar...   \n",
       "\n",
       "                                                             selftext  \\\n",
       "author                                                                  \n",
       "------me                                                    [removed]   \n",
       "----GHOST----       Quick question I have in regards to a Vanguard...   \n",
       "----Questions----   Tried posting this in /r/personalfinance but p...   \n",
       "----The_Truth-----  Good evening to all. Haven't ever posted here,...   \n",
       "---Dracarys---      What do you think about my portfolio? Are ther...   \n",
       "\n",
       "                                                                 date  \\\n",
       "author                                                                  \n",
       "------me                                                   2021-09-09   \n",
       "----GHOST----                                              2020-05-16   \n",
       "----Questions----                                          2021-01-02   \n",
       "----The_Truth-----                                         2020-08-16   \n",
       "---Dracarys---      2021-05-23 2021-05-19 2020-12-03 2020-03-13 20...   \n",
       "\n",
       "                              day       month                      year  \\\n",
       "author                                                                    \n",
       "------me                        9           9                      2021   \n",
       "----GHOST----                  16           5                      2020   \n",
       "----Questions----               2           1                      2021   \n",
       "----The_Truth-----             16           8                      2020   \n",
       "---Dracarys---      23 19 3 13 10  5 5 12 3 3  2021 2021 2020 2020 2020   \n",
       "\n",
       "                   tickers_ tickers_count_  \n",
       "author                                      \n",
       "------me                                {}  \n",
       "----GHOST----                           {}  \n",
       "----Questions----                       {}  \n",
       "----The_Truth-----                      {}  \n",
       "---Dracarys---                          {}  "
      ]
     },
     "execution_count": 50,
     "metadata": {},
     "output_type": "execute_result"
    }
   ],
   "source": [
    "df_author_posts.head()"
   ]
  },
  {
   "cell_type": "code",
   "execution_count": 51,
   "metadata": {
    "executionInfo": {
     "elapsed": 480,
     "status": "ok",
     "timestamp": 1640701541173,
     "user": {
      "displayName": "Pratik Agrawal",
      "photoUrl": "https://lh3.googleusercontent.com/a-/AOh14Gic3zhpzr916Y01z_b2NkfIWMHKiBe-fVqe5bj-AA=s64",
      "userId": "07645729797073748393"
     },
     "user_tz": -60
    },
    "id": "JoIG9rr86A6J"
   },
   "outputs": [],
   "source": [
    "df['link_flair_text'] = df['link_flair_text'].astype(\"string\")"
   ]
  },
  {
   "cell_type": "code",
   "execution_count": 52,
   "metadata": {
    "executionInfo": {
     "elapsed": 7,
     "status": "ok",
     "timestamp": 1640701543734,
     "user": {
      "displayName": "Pratik Agrawal",
      "photoUrl": "https://lh3.googleusercontent.com/a-/AOh14Gic3zhpzr916Y01z_b2NkfIWMHKiBe-fVqe5bj-AA=s64",
      "userId": "07645729797073748393"
     },
     "user_tz": -60
    },
    "id": "hz26U828nhev"
   },
   "outputs": [],
   "source": [
    "df['link_flair_text'] = np.where(df.link_flair_text.isnull(),\"\",df.link_flair_text)"
   ]
  },
  {
   "cell_type": "code",
   "execution_count": 53,
   "metadata": {
    "executionInfo": {
     "elapsed": 806,
     "status": "ok",
     "timestamp": 1640701547067,
     "user": {
      "displayName": "Pratik Agrawal",
      "photoUrl": "https://lh3.googleusercontent.com/a-/AOh14Gic3zhpzr916Y01z_b2NkfIWMHKiBe-fVqe5bj-AA=s64",
      "userId": "07645729797073748393"
     },
     "user_tz": -60
    },
    "id": "1qvofZo2VCsX"
   },
   "outputs": [],
   "source": [
    "df_author_posts['link_flair_text']= df.groupby(['author']).agg({'link_flair_text': ' '.join})"
   ]
  },
  {
   "cell_type": "code",
   "execution_count": 54,
   "metadata": {
    "executionInfo": {
     "elapsed": 518,
     "status": "ok",
     "timestamp": 1640701547564,
     "user": {
      "displayName": "Pratik Agrawal",
      "photoUrl": "https://lh3.googleusercontent.com/a-/AOh14Gic3zhpzr916Y01z_b2NkfIWMHKiBe-fVqe5bj-AA=s64",
      "userId": "07645729797073748393"
     },
     "user_tz": -60
    },
    "id": "ifa5Pi7B64eb"
   },
   "outputs": [],
   "source": [
    "df_author_posts['comments_mean']= df.groupby(['author']).agg({'num_comments': 'mean'})\n",
    "df_author_posts['comments_sum']= df.groupby(['author']).agg({'num_comments': 'sum'})"
   ]
  },
  {
   "cell_type": "code",
   "execution_count": 55,
   "metadata": {
    "executionInfo": {
     "elapsed": 463,
     "status": "ok",
     "timestamp": 1640701548019,
     "user": {
      "displayName": "Pratik Agrawal",
      "photoUrl": "https://lh3.googleusercontent.com/a-/AOh14Gic3zhpzr916Y01z_b2NkfIWMHKiBe-fVqe5bj-AA=s64",
      "userId": "07645729797073748393"
     },
     "user_tz": -60
    },
    "id": "Kd7qKqfj7tLe"
   },
   "outputs": [],
   "source": [
    "df_author_posts['score_mean']= df.groupby(['author']).agg({'score': 'mean'})\n",
    "df_author_posts['score_sum']= df.groupby(['author']).agg({'score': 'sum'})"
   ]
  },
  {
   "cell_type": "code",
   "execution_count": 56,
   "metadata": {
    "executionInfo": {
     "elapsed": 409,
     "status": "ok",
     "timestamp": 1640701548890,
     "user": {
      "displayName": "Pratik Agrawal",
      "photoUrl": "https://lh3.googleusercontent.com/a-/AOh14Gic3zhpzr916Y01z_b2NkfIWMHKiBe-fVqe5bj-AA=s64",
      "userId": "07645729797073748393"
     },
     "user_tz": -60
    },
    "id": "IuJPyqEW72CN"
   },
   "outputs": [],
   "source": [
    "df_author_posts['upvote_ratio_mean']= df.groupby(['author']).agg({'upvote_ratio': 'mean'})\n",
    "df_author_posts['upvote_ratio_sum']= df.groupby(['author']).agg({'upvote_ratio': 'sum'})"
   ]
  },
  {
   "cell_type": "code",
   "execution_count": 57,
   "metadata": {
    "colab": {
     "base_uri": "https://localhost:8080/",
     "height": 770
    },
    "executionInfo": {
     "elapsed": 17,
     "status": "ok",
     "timestamp": 1640701552873,
     "user": {
      "displayName": "Pratik Agrawal",
      "photoUrl": "https://lh3.googleusercontent.com/a-/AOh14Gic3zhpzr916Y01z_b2NkfIWMHKiBe-fVqe5bj-AA=s64",
      "userId": "07645729797073748393"
     },
     "user_tz": -60
    },
    "id": "G3bgtRd4nx86",
    "outputId": "68e8a53d-59ad-45a5-ae48-a3e579428615"
   },
   "outputs": [
    {
     "data": {
      "text/html": [
       "<div>\n",
       "<style scoped>\n",
       "    .dataframe tbody tr th:only-of-type {\n",
       "        vertical-align: middle;\n",
       "    }\n",
       "\n",
       "    .dataframe tbody tr th {\n",
       "        vertical-align: top;\n",
       "    }\n",
       "\n",
       "    .dataframe thead th {\n",
       "        text-align: right;\n",
       "    }\n",
       "</style>\n",
       "<table border=\"1\" class=\"dataframe\">\n",
       "  <thead>\n",
       "    <tr style=\"text-align: right;\">\n",
       "      <th></th>\n",
       "      <th>id</th>\n",
       "      <th>title</th>\n",
       "      <th>selftext</th>\n",
       "      <th>date</th>\n",
       "      <th>day</th>\n",
       "      <th>month</th>\n",
       "      <th>year</th>\n",
       "      <th>tickers_</th>\n",
       "      <th>tickers_count_</th>\n",
       "      <th>link_flair_text</th>\n",
       "      <th>comments_mean</th>\n",
       "      <th>comments_sum</th>\n",
       "      <th>score_mean</th>\n",
       "      <th>score_sum</th>\n",
       "      <th>upvote_ratio_mean</th>\n",
       "      <th>upvote_ratio_sum</th>\n",
       "    </tr>\n",
       "    <tr>\n",
       "      <th>author</th>\n",
       "      <th></th>\n",
       "      <th></th>\n",
       "      <th></th>\n",
       "      <th></th>\n",
       "      <th></th>\n",
       "      <th></th>\n",
       "      <th></th>\n",
       "      <th></th>\n",
       "      <th></th>\n",
       "      <th></th>\n",
       "      <th></th>\n",
       "      <th></th>\n",
       "      <th></th>\n",
       "      <th></th>\n",
       "      <th></th>\n",
       "      <th></th>\n",
       "    </tr>\n",
       "  </thead>\n",
       "  <tbody>\n",
       "    <tr>\n",
       "      <th>------me</th>\n",
       "      <td>1</td>\n",
       "      <td>401k + Roth contributions and limits</td>\n",
       "      <td>[removed]</td>\n",
       "      <td>2021-09-09</td>\n",
       "      <td>9</td>\n",
       "      <td>9</td>\n",
       "      <td>2021</td>\n",
       "      <td></td>\n",
       "      <td>{}</td>\n",
       "      <td></td>\n",
       "      <td>2.0</td>\n",
       "      <td>2</td>\n",
       "      <td>1.0</td>\n",
       "      <td>1</td>\n",
       "      <td>1.0</td>\n",
       "      <td>1.0</td>\n",
       "    </tr>\n",
       "    <tr>\n",
       "      <th>----GHOST----</th>\n",
       "      <td>1</td>\n",
       "      <td>Vanguard ETF Investment Question / Query</td>\n",
       "      <td>Quick question I have in regards to a Vanguard...</td>\n",
       "      <td>2020-05-16</td>\n",
       "      <td>16</td>\n",
       "      <td>5</td>\n",
       "      <td>2020</td>\n",
       "      <td></td>\n",
       "      <td>{}</td>\n",
       "      <td></td>\n",
       "      <td>3.0</td>\n",
       "      <td>3</td>\n",
       "      <td>1.0</td>\n",
       "      <td>1</td>\n",
       "      <td>1.0</td>\n",
       "      <td>1.0</td>\n",
       "    </tr>\n",
       "    <tr>\n",
       "      <th>----Questions----</th>\n",
       "      <td>1</td>\n",
       "      <td>Pay off credit card (28k) and student loan (10...</td>\n",
       "      <td>Tried posting this in /r/personalfinance but p...</td>\n",
       "      <td>2021-01-02</td>\n",
       "      <td>2</td>\n",
       "      <td>1</td>\n",
       "      <td>2021</td>\n",
       "      <td></td>\n",
       "      <td>{}</td>\n",
       "      <td></td>\n",
       "      <td>14.0</td>\n",
       "      <td>14</td>\n",
       "      <td>1.0</td>\n",
       "      <td>1</td>\n",
       "      <td>1.0</td>\n",
       "      <td>1.0</td>\n",
       "    </tr>\n",
       "    <tr>\n",
       "      <th>----The_Truth-----</th>\n",
       "      <td>1</td>\n",
       "      <td>Cleanspark, Inc. ($CLSK) DEF 14C from 8/28/2020</td>\n",
       "      <td>Good evening to all. Haven't ever posted here,...</td>\n",
       "      <td>2020-08-16</td>\n",
       "      <td>16</td>\n",
       "      <td>8</td>\n",
       "      <td>2020</td>\n",
       "      <td></td>\n",
       "      <td>{}</td>\n",
       "      <td></td>\n",
       "      <td>2.0</td>\n",
       "      <td>2</td>\n",
       "      <td>1.0</td>\n",
       "      <td>1</td>\n",
       "      <td>1.0</td>\n",
       "      <td>1.0</td>\n",
       "    </tr>\n",
       "    <tr>\n",
       "      <th>---Dracarys---</th>\n",
       "      <td>5</td>\n",
       "      <td>What do you think about my stock portfolio? Ar...</td>\n",
       "      <td>What do you think about my portfolio? Are ther...</td>\n",
       "      <td>2021-05-23 2021-05-19 2020-12-03 2020-03-13 20...</td>\n",
       "      <td>23 19 3 13 10</td>\n",
       "      <td>5 5 12 3 3</td>\n",
       "      <td>2021 2021 2020 2020 2020</td>\n",
       "      <td></td>\n",
       "      <td>{}</td>\n",
       "      <td></td>\n",
       "      <td>8.6</td>\n",
       "      <td>43</td>\n",
       "      <td>1.0</td>\n",
       "      <td>5</td>\n",
       "      <td>0.6</td>\n",
       "      <td>3.0</td>\n",
       "    </tr>\n",
       "  </tbody>\n",
       "</table>\n",
       "</div>"
      ],
      "text/plain": [
       "                    id                                              title  \\\n",
       "author                                                                      \n",
       "------me             1               401k + Roth contributions and limits   \n",
       "----GHOST----        1           Vanguard ETF Investment Question / Query   \n",
       "----Questions----    1  Pay off credit card (28k) and student loan (10...   \n",
       "----The_Truth-----   1    Cleanspark, Inc. ($CLSK) DEF 14C from 8/28/2020   \n",
       "---Dracarys---       5  What do you think about my stock portfolio? Ar...   \n",
       "\n",
       "                                                             selftext  \\\n",
       "author                                                                  \n",
       "------me                                                    [removed]   \n",
       "----GHOST----       Quick question I have in regards to a Vanguard...   \n",
       "----Questions----   Tried posting this in /r/personalfinance but p...   \n",
       "----The_Truth-----  Good evening to all. Haven't ever posted here,...   \n",
       "---Dracarys---      What do you think about my portfolio? Are ther...   \n",
       "\n",
       "                                                                 date  \\\n",
       "author                                                                  \n",
       "------me                                                   2021-09-09   \n",
       "----GHOST----                                              2020-05-16   \n",
       "----Questions----                                          2021-01-02   \n",
       "----The_Truth-----                                         2020-08-16   \n",
       "---Dracarys---      2021-05-23 2021-05-19 2020-12-03 2020-03-13 20...   \n",
       "\n",
       "                              day       month                      year  \\\n",
       "author                                                                    \n",
       "------me                        9           9                      2021   \n",
       "----GHOST----                  16           5                      2020   \n",
       "----Questions----               2           1                      2021   \n",
       "----The_Truth-----             16           8                      2020   \n",
       "---Dracarys---      23 19 3 13 10  5 5 12 3 3  2021 2021 2020 2020 2020   \n",
       "\n",
       "                   tickers_ tickers_count_ link_flair_text  comments_mean  \\\n",
       "author                                                                      \n",
       "------me                                {}                            2.0   \n",
       "----GHOST----                           {}                            3.0   \n",
       "----Questions----                       {}                           14.0   \n",
       "----The_Truth-----                      {}                            2.0   \n",
       "---Dracarys---                          {}                            8.6   \n",
       "\n",
       "                    comments_sum  score_mean  score_sum  upvote_ratio_mean  \\\n",
       "author                                                                       \n",
       "------me                       2         1.0          1                1.0   \n",
       "----GHOST----                  3         1.0          1                1.0   \n",
       "----Questions----             14         1.0          1                1.0   \n",
       "----The_Truth-----             2         1.0          1                1.0   \n",
       "---Dracarys---                43         1.0          5                0.6   \n",
       "\n",
       "                    upvote_ratio_sum  \n",
       "author                                \n",
       "------me                         1.0  \n",
       "----GHOST----                    1.0  \n",
       "----Questions----                1.0  \n",
       "----The_Truth-----               1.0  \n",
       "---Dracarys---                   3.0  "
      ]
     },
     "execution_count": 57,
     "metadata": {},
     "output_type": "execute_result"
    }
   ],
   "source": [
    "df_author_posts.head()"
   ]
  },
  {
   "cell_type": "markdown",
   "metadata": {
    "id": "uArhfyyO-Qq_"
   },
   "source": [
    "## Count Flairs"
   ]
  },
  {
   "cell_type": "code",
   "execution_count": 62,
   "metadata": {
    "colab": {
     "base_uri": "https://localhost:8080/"
    },
    "executionInfo": {
     "elapsed": 458,
     "status": "ok",
     "timestamp": 1640701572732,
     "user": {
      "displayName": "Pratik Agrawal",
      "photoUrl": "https://lh3.googleusercontent.com/a-/AOh14Gic3zhpzr916Y01z_b2NkfIWMHKiBe-fVqe5bj-AA=s64",
      "userId": "07645729797073748393"
     },
     "user_tz": -60
    },
    "id": "LbmNVhA8_tjZ",
    "outputId": "166389a6-8c9b-47fa-a78e-237cc0c7965d"
   },
   "outputs": [
    {
     "name": "stdout",
     "output_type": "stream",
     "text": [
      "<class 'pandas.core.frame.DataFrame'>\n",
      "Index: 73950 entries, ------me to zzzzllll\n",
      "Data columns (total 18 columns):\n",
      " #   Column             Non-Null Count  Dtype  \n",
      "---  ------             --------------  -----  \n",
      " 0   id                 73950 non-null  int64  \n",
      " 1   title              73950 non-null  object \n",
      " 2   selftext           73950 non-null  object \n",
      " 3   date               73950 non-null  object \n",
      " 4   day                73950 non-null  object \n",
      " 5   month              73950 non-null  object \n",
      " 6   year               73950 non-null  object \n",
      " 7   tickers_           73950 non-null  object \n",
      " 8   tickers_count_     73950 non-null  object \n",
      " 9   link_flair_text    73950 non-null  object \n",
      " 10  comments_mean      73950 non-null  float64\n",
      " 11  comments_sum       73950 non-null  int64  \n",
      " 12  score_mean         73950 non-null  float64\n",
      " 13  score_sum          73950 non-null  int64  \n",
      " 14  upvote_ratio_mean  73950 non-null  float64\n",
      " 15  upvote_ratio_sum   73950 non-null  float64\n",
      " 16  flairs             73950 non-null  object \n",
      " 17  flairs_count       73950 non-null  object \n",
      "dtypes: float64(4), int64(3), object(11)\n",
      "memory usage: 10.7+ MB\n"
     ]
    }
   ],
   "source": [
    "df_author_posts.info()"
   ]
  },
  {
   "cell_type": "code",
   "execution_count": 63,
   "metadata": {
    "executionInfo": {
     "elapsed": 411,
     "status": "ok",
     "timestamp": 1640701578189,
     "user": {
      "displayName": "Pratik Agrawal",
      "photoUrl": "https://lh3.googleusercontent.com/a-/AOh14Gic3zhpzr916Y01z_b2NkfIWMHKiBe-fVqe5bj-AA=s64",
      "userId": "07645729797073748393"
     },
     "user_tz": -60
    },
    "id": "872F5ibQ-MNr"
   },
   "outputs": [],
   "source": [
    "df_author_posts['flairs'] = df_author_posts['link_flair_text'].apply(lambda x: list(x.split(\" \")))\n"
   ]
  },
  {
   "cell_type": "code",
   "execution_count": 64,
   "metadata": {
    "executionInfo": {
     "elapsed": 8,
     "status": "ok",
     "timestamp": 1640701580299,
     "user": {
      "displayName": "Pratik Agrawal",
      "photoUrl": "https://lh3.googleusercontent.com/a-/AOh14Gic3zhpzr916Y01z_b2NkfIWMHKiBe-fVqe5bj-AA=s64",
      "userId": "07645729797073748393"
     },
     "user_tz": -60
    },
    "id": "ELWd6UanApVl"
   },
   "outputs": [],
   "source": [
    "df_author_posts[\"flairs_count\"] = df_author_posts['flairs'].apply(lambda x: dict(Counter(list(x))))"
   ]
  },
  {
   "cell_type": "code",
   "execution_count": 65,
   "metadata": {
    "colab": {
     "base_uri": "https://localhost:8080/",
     "height": 533
    },
    "executionInfo": {
     "elapsed": 514,
     "status": "ok",
     "timestamp": 1640701583264,
     "user": {
      "displayName": "Pratik Agrawal",
      "photoUrl": "https://lh3.googleusercontent.com/a-/AOh14Gic3zhpzr916Y01z_b2NkfIWMHKiBe-fVqe5bj-AA=s64",
      "userId": "07645729797073748393"
     },
     "user_tz": -60
    },
    "id": "wNn-CadRBhJe",
    "outputId": "0bd3d7c7-1f3d-4859-ba77-0848425a1f13"
   },
   "outputs": [
    {
     "data": {
      "text/html": [
       "<div>\n",
       "<style scoped>\n",
       "    .dataframe tbody tr th:only-of-type {\n",
       "        vertical-align: middle;\n",
       "    }\n",
       "\n",
       "    .dataframe tbody tr th {\n",
       "        vertical-align: top;\n",
       "    }\n",
       "\n",
       "    .dataframe thead th {\n",
       "        text-align: right;\n",
       "    }\n",
       "</style>\n",
       "<table border=\"1\" class=\"dataframe\">\n",
       "  <thead>\n",
       "    <tr style=\"text-align: right;\">\n",
       "      <th></th>\n",
       "      <th>id</th>\n",
       "      <th>title</th>\n",
       "      <th>selftext</th>\n",
       "      <th>date</th>\n",
       "      <th>day</th>\n",
       "      <th>month</th>\n",
       "      <th>year</th>\n",
       "      <th>tickers_</th>\n",
       "      <th>tickers_count_</th>\n",
       "      <th>link_flair_text</th>\n",
       "      <th>comments_mean</th>\n",
       "      <th>comments_sum</th>\n",
       "      <th>score_mean</th>\n",
       "      <th>score_sum</th>\n",
       "      <th>upvote_ratio_mean</th>\n",
       "      <th>upvote_ratio_sum</th>\n",
       "      <th>flairs</th>\n",
       "      <th>flairs_count</th>\n",
       "    </tr>\n",
       "    <tr>\n",
       "      <th>author</th>\n",
       "      <th></th>\n",
       "      <th></th>\n",
       "      <th></th>\n",
       "      <th></th>\n",
       "      <th></th>\n",
       "      <th></th>\n",
       "      <th></th>\n",
       "      <th></th>\n",
       "      <th></th>\n",
       "      <th></th>\n",
       "      <th></th>\n",
       "      <th></th>\n",
       "      <th></th>\n",
       "      <th></th>\n",
       "      <th></th>\n",
       "      <th></th>\n",
       "      <th></th>\n",
       "      <th></th>\n",
       "    </tr>\n",
       "  </thead>\n",
       "  <tbody>\n",
       "    <tr>\n",
       "      <th>------me</th>\n",
       "      <td>1</td>\n",
       "      <td>401k + Roth contributions and limits</td>\n",
       "      <td>[removed]</td>\n",
       "      <td>2021-09-09</td>\n",
       "      <td>9</td>\n",
       "      <td>9</td>\n",
       "      <td>2021</td>\n",
       "      <td></td>\n",
       "      <td>{}</td>\n",
       "      <td></td>\n",
       "      <td>2.0</td>\n",
       "      <td>2</td>\n",
       "      <td>1.0</td>\n",
       "      <td>1</td>\n",
       "      <td>1.0</td>\n",
       "      <td>1.0</td>\n",
       "      <td>[]</td>\n",
       "      <td>{'': 1}</td>\n",
       "    </tr>\n",
       "    <tr>\n",
       "      <th>----GHOST----</th>\n",
       "      <td>1</td>\n",
       "      <td>Vanguard ETF Investment Question / Query</td>\n",
       "      <td>Quick question I have in regards to a Vanguard...</td>\n",
       "      <td>2020-05-16</td>\n",
       "      <td>16</td>\n",
       "      <td>5</td>\n",
       "      <td>2020</td>\n",
       "      <td></td>\n",
       "      <td>{}</td>\n",
       "      <td></td>\n",
       "      <td>3.0</td>\n",
       "      <td>3</td>\n",
       "      <td>1.0</td>\n",
       "      <td>1</td>\n",
       "      <td>1.0</td>\n",
       "      <td>1.0</td>\n",
       "      <td>[]</td>\n",
       "      <td>{'': 1}</td>\n",
       "    </tr>\n",
       "    <tr>\n",
       "      <th>----Questions----</th>\n",
       "      <td>1</td>\n",
       "      <td>Pay off credit card (28k) and student loan (10...</td>\n",
       "      <td>Tried posting this in /r/personalfinance but p...</td>\n",
       "      <td>2021-01-02</td>\n",
       "      <td>2</td>\n",
       "      <td>1</td>\n",
       "      <td>2021</td>\n",
       "      <td></td>\n",
       "      <td>{}</td>\n",
       "      <td></td>\n",
       "      <td>14.0</td>\n",
       "      <td>14</td>\n",
       "      <td>1.0</td>\n",
       "      <td>1</td>\n",
       "      <td>1.0</td>\n",
       "      <td>1.0</td>\n",
       "      <td>[]</td>\n",
       "      <td>{'': 1}</td>\n",
       "    </tr>\n",
       "  </tbody>\n",
       "</table>\n",
       "</div>"
      ],
      "text/plain": [
       "                   id                                              title  \\\n",
       "author                                                                     \n",
       "------me            1               401k + Roth contributions and limits   \n",
       "----GHOST----       1           Vanguard ETF Investment Question / Query   \n",
       "----Questions----   1  Pay off credit card (28k) and student loan (10...   \n",
       "\n",
       "                                                            selftext  \\\n",
       "author                                                                 \n",
       "------me                                                   [removed]   \n",
       "----GHOST----      Quick question I have in regards to a Vanguard...   \n",
       "----Questions----  Tried posting this in /r/personalfinance but p...   \n",
       "\n",
       "                         date day month  year tickers_ tickers_count_  \\\n",
       "author                                                                  \n",
       "------me           2021-09-09   9     9  2021                      {}   \n",
       "----GHOST----      2020-05-16  16     5  2020                      {}   \n",
       "----Questions----  2021-01-02   2     1  2021                      {}   \n",
       "\n",
       "                  link_flair_text  comments_mean  comments_sum  score_mean  \\\n",
       "author                                                                       \n",
       "------me                                     2.0             2         1.0   \n",
       "----GHOST----                                3.0             3         1.0   \n",
       "----Questions----                           14.0            14         1.0   \n",
       "\n",
       "                   score_sum  upvote_ratio_mean  upvote_ratio_sum flairs  \\\n",
       "author                                                                     \n",
       "------me                   1                1.0               1.0     []   \n",
       "----GHOST----              1                1.0               1.0     []   \n",
       "----Questions----          1                1.0               1.0     []   \n",
       "\n",
       "                  flairs_count  \n",
       "author                          \n",
       "------me               {'': 1}  \n",
       "----GHOST----          {'': 1}  \n",
       "----Questions----      {'': 1}  "
      ]
     },
     "execution_count": 65,
     "metadata": {},
     "output_type": "execute_result"
    }
   ],
   "source": [
    "df_author_posts.head(3)"
   ]
  },
  {
   "cell_type": "markdown",
   "metadata": {
    "id": "HJwNv2n68yW6"
   },
   "source": [
    "# Sentiment by Authors"
   ]
  },
  {
   "cell_type": "code",
   "execution_count": null,
   "metadata": {
    "id": "HCm9CRxkb7Cm"
   },
   "outputs": [],
   "source": [
    "!pip install SpacyTextBlob"
   ]
  },
  {
   "cell_type": "code",
   "execution_count": 66,
   "metadata": {
    "executionInfo": {
     "elapsed": 2208,
     "status": "ok",
     "timestamp": 1640701638717,
     "user": {
      "displayName": "Pratik Agrawal",
      "photoUrl": "https://lh3.googleusercontent.com/a-/AOh14Gic3zhpzr916Y01z_b2NkfIWMHKiBe-fVqe5bj-AA=s64",
      "userId": "07645729797073748393"
     },
     "user_tz": -60
    },
    "id": "4UKmew2n9ALm"
   },
   "outputs": [],
   "source": [
    "from spacytextblob.spacytextblob import SpacyTextBlob"
   ]
  },
  {
   "cell_type": "code",
   "execution_count": 67,
   "metadata": {
    "colab": {
     "base_uri": "https://localhost:8080/"
    },
    "executionInfo": {
     "elapsed": 1730,
     "status": "ok",
     "timestamp": 1640701643802,
     "user": {
      "displayName": "Pratik Agrawal",
      "photoUrl": "https://lh3.googleusercontent.com/a-/AOh14Gic3zhpzr916Y01z_b2NkfIWMHKiBe-fVqe5bj-AA=s64",
      "userId": "07645729797073748393"
     },
     "user_tz": -60
    },
    "id": "U5R4rnE09PMu",
    "outputId": "635549b1-c078-4995-fdc6-fe291ed6af2e"
   },
   "outputs": [
    {
     "name": "stdout",
     "output_type": "stream",
     "text": [
      "['sentiment']\n"
     ]
    }
   ],
   "source": [
    "# nlp = spacy.load(\"en_core_web_lg\")\n",
    "from spacytextblob.spacytextblob import SpacyTextBlob\n",
    "nlp = spacy.blank(\"en\")\n",
    "if \"spacytextblob\" not in nlp.pipe_names:\n",
    "    nlp.add_pipe(\"spacytextblob\")\n",
    "    nlp.rename_pipe(\"spacytextblob\", \"sentiment\")\n",
    "print(nlp.pipe_names)"
   ]
  },
  {
   "cell_type": "code",
   "execution_count": 68,
   "metadata": {
    "executionInfo": {
     "elapsed": 413,
     "status": "ok",
     "timestamp": 1640701649010,
     "user": {
      "displayName": "Pratik Agrawal",
      "photoUrl": "https://lh3.googleusercontent.com/a-/AOh14Gic3zhpzr916Y01z_b2NkfIWMHKiBe-fVqe5bj-AA=s64",
      "userId": "07645729797073748393"
     },
     "user_tz": -60
    },
    "id": "ysEdjEDU9Qn5"
   },
   "outputs": [],
   "source": [
    "\n",
    "def get_sentiment(title, body):\n",
    "    if(len(body) < 3689602):\n",
    "      nlp_title = nlp(title)\n",
    "      nlp_body = nlp(str(body))\n",
    "      title_tokens = [token.text for token in nlp_title]\n",
    "      body_tokens = [token.text for token in nlp_body]\n",
    "      #ngrams = ngrams.append(list(textacy.extract.basics.ngrams(nlp_title, 3)))\n",
    "      #print(pd.Series([nlp_title._.polarity, nlp_title._.subjectivity,\n",
    "      #                  nlp_body._.polarity, nlp_body._.subjectivity,title_tokens,body_tokens]))\n",
    "      return pd.Series([nlp_title._.polarity, nlp_title._.subjectivity,\n",
    "                        nlp_body._.polarity, nlp_body._.subjectivity,title_tokens,body_tokens])\n",
    "    else:\n",
    "      return pd.Series([0, 0,\n",
    "                       0, 0,0,0])\n",
    "\n"
   ]
  },
  {
   "cell_type": "code",
   "execution_count": 69,
   "metadata": {
    "executionInfo": {
     "elapsed": 322504,
     "status": "ok",
     "timestamp": 1640701975149,
     "user": {
      "displayName": "Pratik Agrawal",
      "photoUrl": "https://lh3.googleusercontent.com/a-/AOh14Gic3zhpzr916Y01z_b2NkfIWMHKiBe-fVqe5bj-AA=s64",
      "userId": "07645729797073748393"
     },
     "user_tz": -60
    },
    "id": "ifwxjkZAoCvE"
   },
   "outputs": [],
   "source": [
    "nlp.max_length = 3689602  \n",
    "df_author_posts[[\"title_polarity\", \"title_subjectivity\", \"body_polarity\", \"body_subjectivity\",\"title_tokens\",\"selftext_tokens\"]] = df_author_posts.apply(lambda row: get_sentiment(row[\"title\"], row[\"selftext\"]), axis=1)\n"
   ]
  },
  {
   "cell_type": "code",
   "execution_count": 70,
   "metadata": {
    "executionInfo": {
     "elapsed": 83,
     "status": "ok",
     "timestamp": 1640701975152,
     "user": {
      "displayName": "Pratik Agrawal",
      "photoUrl": "https://lh3.googleusercontent.com/a-/AOh14Gic3zhpzr916Y01z_b2NkfIWMHKiBe-fVqe5bj-AA=s64",
      "userId": "07645729797073748393"
     },
     "user_tz": -60
    },
    "id": "Si6R_TWwNWse"
   },
   "outputs": [],
   "source": [
    "df_author_posts[\"polarity\"] = (df_author_posts[\"title_polarity\"] + df_author_posts[\"body_polarity\"])"
   ]
  },
  {
   "cell_type": "code",
   "execution_count": 71,
   "metadata": {
    "colab": {
     "base_uri": "https://localhost:8080/",
     "height": 770
    },
    "executionInfo": {
     "elapsed": 48,
     "status": "ok",
     "timestamp": 1640701975154,
     "user": {
      "displayName": "Pratik Agrawal",
      "photoUrl": "https://lh3.googleusercontent.com/a-/AOh14Gic3zhpzr916Y01z_b2NkfIWMHKiBe-fVqe5bj-AA=s64",
      "userId": "07645729797073748393"
     },
     "user_tz": -60
    },
    "id": "w0eaL6tpNW1w",
    "outputId": "58108c9c-e214-4e45-a8dd-a687efdad279"
   },
   "outputs": [
    {
     "data": {
      "text/html": [
       "<div>\n",
       "<style scoped>\n",
       "    .dataframe tbody tr th:only-of-type {\n",
       "        vertical-align: middle;\n",
       "    }\n",
       "\n",
       "    .dataframe tbody tr th {\n",
       "        vertical-align: top;\n",
       "    }\n",
       "\n",
       "    .dataframe thead th {\n",
       "        text-align: right;\n",
       "    }\n",
       "</style>\n",
       "<table border=\"1\" class=\"dataframe\">\n",
       "  <thead>\n",
       "    <tr style=\"text-align: right;\">\n",
       "      <th></th>\n",
       "      <th>id</th>\n",
       "      <th>title</th>\n",
       "      <th>selftext</th>\n",
       "      <th>date</th>\n",
       "      <th>day</th>\n",
       "      <th>month</th>\n",
       "      <th>year</th>\n",
       "      <th>tickers_</th>\n",
       "      <th>tickers_count_</th>\n",
       "      <th>link_flair_text</th>\n",
       "      <th>...</th>\n",
       "      <th>upvote_ratio_sum</th>\n",
       "      <th>flairs</th>\n",
       "      <th>flairs_count</th>\n",
       "      <th>title_polarity</th>\n",
       "      <th>title_subjectivity</th>\n",
       "      <th>body_polarity</th>\n",
       "      <th>body_subjectivity</th>\n",
       "      <th>title_tokens</th>\n",
       "      <th>selftext_tokens</th>\n",
       "      <th>polarity</th>\n",
       "    </tr>\n",
       "    <tr>\n",
       "      <th>author</th>\n",
       "      <th></th>\n",
       "      <th></th>\n",
       "      <th></th>\n",
       "      <th></th>\n",
       "      <th></th>\n",
       "      <th></th>\n",
       "      <th></th>\n",
       "      <th></th>\n",
       "      <th></th>\n",
       "      <th></th>\n",
       "      <th></th>\n",
       "      <th></th>\n",
       "      <th></th>\n",
       "      <th></th>\n",
       "      <th></th>\n",
       "      <th></th>\n",
       "      <th></th>\n",
       "      <th></th>\n",
       "      <th></th>\n",
       "      <th></th>\n",
       "      <th></th>\n",
       "    </tr>\n",
       "  </thead>\n",
       "  <tbody>\n",
       "    <tr>\n",
       "      <th>------me</th>\n",
       "      <td>1</td>\n",
       "      <td>401k + Roth contributions and limits</td>\n",
       "      <td>[removed]</td>\n",
       "      <td>2021-09-09</td>\n",
       "      <td>9</td>\n",
       "      <td>9</td>\n",
       "      <td>2021</td>\n",
       "      <td></td>\n",
       "      <td>{}</td>\n",
       "      <td></td>\n",
       "      <td>...</td>\n",
       "      <td>1.0</td>\n",
       "      <td>[]</td>\n",
       "      <td>{'': 1}</td>\n",
       "      <td>0.00</td>\n",
       "      <td>0.0</td>\n",
       "      <td>0.000000</td>\n",
       "      <td>0.000000</td>\n",
       "      <td>[401k, +, Roth, contributions, and, limits]</td>\n",
       "      <td>[[, removed, ]]</td>\n",
       "      <td>0.000000</td>\n",
       "    </tr>\n",
       "    <tr>\n",
       "      <th>----GHOST----</th>\n",
       "      <td>1</td>\n",
       "      <td>Vanguard ETF Investment Question / Query</td>\n",
       "      <td>Quick question I have in regards to a Vanguard...</td>\n",
       "      <td>2020-05-16</td>\n",
       "      <td>16</td>\n",
       "      <td>5</td>\n",
       "      <td>2020</td>\n",
       "      <td></td>\n",
       "      <td>{}</td>\n",
       "      <td></td>\n",
       "      <td>...</td>\n",
       "      <td>1.0</td>\n",
       "      <td>[]</td>\n",
       "      <td>{'': 1}</td>\n",
       "      <td>0.00</td>\n",
       "      <td>0.0</td>\n",
       "      <td>0.337037</td>\n",
       "      <td>0.305556</td>\n",
       "      <td>[Vanguard, ETF, Investment, Question, /, Query]</td>\n",
       "      <td>[Quick, question, I, have, in, regards, to, a,...</td>\n",
       "      <td>0.337037</td>\n",
       "    </tr>\n",
       "    <tr>\n",
       "      <th>----Questions----</th>\n",
       "      <td>1</td>\n",
       "      <td>Pay off credit card (28k) and student loan (10...</td>\n",
       "      <td>Tried posting this in /r/personalfinance but p...</td>\n",
       "      <td>2021-01-02</td>\n",
       "      <td>2</td>\n",
       "      <td>1</td>\n",
       "      <td>2021</td>\n",
       "      <td></td>\n",
       "      <td>{}</td>\n",
       "      <td></td>\n",
       "      <td>...</td>\n",
       "      <td>1.0</td>\n",
       "      <td>[]</td>\n",
       "      <td>{'': 1}</td>\n",
       "      <td>0.00</td>\n",
       "      <td>0.0</td>\n",
       "      <td>-0.055972</td>\n",
       "      <td>0.428056</td>\n",
       "      <td>[Pay, off, credit, card, (, 28k, ), and, stude...</td>\n",
       "      <td>[Tried, posting, this, in, /r, /, personalfina...</td>\n",
       "      <td>-0.055972</td>\n",
       "    </tr>\n",
       "    <tr>\n",
       "      <th>----The_Truth-----</th>\n",
       "      <td>1</td>\n",
       "      <td>Cleanspark, Inc. ($CLSK) DEF 14C from 8/28/2020</td>\n",
       "      <td>Good evening to all. Haven't ever posted here,...</td>\n",
       "      <td>2020-08-16</td>\n",
       "      <td>16</td>\n",
       "      <td>8</td>\n",
       "      <td>2020</td>\n",
       "      <td></td>\n",
       "      <td>{}</td>\n",
       "      <td></td>\n",
       "      <td>...</td>\n",
       "      <td>1.0</td>\n",
       "      <td>[]</td>\n",
       "      <td>{'': 1}</td>\n",
       "      <td>0.00</td>\n",
       "      <td>0.0</td>\n",
       "      <td>0.082067</td>\n",
       "      <td>0.483440</td>\n",
       "      <td>[Cleanspark, ,, Inc., (, $, CLSK, ), DEF, 14C,...</td>\n",
       "      <td>[Good, evening, to, all, ., Have, n't, ever, p...</td>\n",
       "      <td>0.082067</td>\n",
       "    </tr>\n",
       "    <tr>\n",
       "      <th>---Dracarys---</th>\n",
       "      <td>5</td>\n",
       "      <td>What do you think about my stock portfolio? Ar...</td>\n",
       "      <td>What do you think about my portfolio? Are ther...</td>\n",
       "      <td>2021-05-23 2021-05-19 2020-12-03 2020-03-13 20...</td>\n",
       "      <td>23 19 3 13 10</td>\n",
       "      <td>5 5 12 3 3</td>\n",
       "      <td>2021 2021 2020 2020 2020</td>\n",
       "      <td></td>\n",
       "      <td>{}</td>\n",
       "      <td></td>\n",
       "      <td>...</td>\n",
       "      <td>3.0</td>\n",
       "      <td>[, , , , ]</td>\n",
       "      <td>{'': 5}</td>\n",
       "      <td>0.25</td>\n",
       "      <td>0.3</td>\n",
       "      <td>0.176829</td>\n",
       "      <td>0.423780</td>\n",
       "      <td>[What, do, you, think, about, my, stock, portf...</td>\n",
       "      <td>[What, do, you, think, about, my, portfolio, ?...</td>\n",
       "      <td>0.426829</td>\n",
       "    </tr>\n",
       "  </tbody>\n",
       "</table>\n",
       "<p>5 rows × 25 columns</p>\n",
       "</div>"
      ],
      "text/plain": [
       "                    id                                              title  \\\n",
       "author                                                                      \n",
       "------me             1               401k + Roth contributions and limits   \n",
       "----GHOST----        1           Vanguard ETF Investment Question / Query   \n",
       "----Questions----    1  Pay off credit card (28k) and student loan (10...   \n",
       "----The_Truth-----   1    Cleanspark, Inc. ($CLSK) DEF 14C from 8/28/2020   \n",
       "---Dracarys---       5  What do you think about my stock portfolio? Ar...   \n",
       "\n",
       "                                                             selftext  \\\n",
       "author                                                                  \n",
       "------me                                                    [removed]   \n",
       "----GHOST----       Quick question I have in regards to a Vanguard...   \n",
       "----Questions----   Tried posting this in /r/personalfinance but p...   \n",
       "----The_Truth-----  Good evening to all. Haven't ever posted here,...   \n",
       "---Dracarys---      What do you think about my portfolio? Are ther...   \n",
       "\n",
       "                                                                 date  \\\n",
       "author                                                                  \n",
       "------me                                                   2021-09-09   \n",
       "----GHOST----                                              2020-05-16   \n",
       "----Questions----                                          2021-01-02   \n",
       "----The_Truth-----                                         2020-08-16   \n",
       "---Dracarys---      2021-05-23 2021-05-19 2020-12-03 2020-03-13 20...   \n",
       "\n",
       "                              day       month                      year  \\\n",
       "author                                                                    \n",
       "------me                        9           9                      2021   \n",
       "----GHOST----                  16           5                      2020   \n",
       "----Questions----               2           1                      2021   \n",
       "----The_Truth-----             16           8                      2020   \n",
       "---Dracarys---      23 19 3 13 10  5 5 12 3 3  2021 2021 2020 2020 2020   \n",
       "\n",
       "                   tickers_ tickers_count_ link_flair_text  ...  \\\n",
       "author                                                      ...   \n",
       "------me                                {}                  ...   \n",
       "----GHOST----                           {}                  ...   \n",
       "----Questions----                       {}                  ...   \n",
       "----The_Truth-----                      {}                  ...   \n",
       "---Dracarys---                          {}                  ...   \n",
       "\n",
       "                    upvote_ratio_sum      flairs  flairs_count  \\\n",
       "author                                                           \n",
       "------me                         1.0          []       {'': 1}   \n",
       "----GHOST----                    1.0          []       {'': 1}   \n",
       "----Questions----                1.0          []       {'': 1}   \n",
       "----The_Truth-----               1.0          []       {'': 1}   \n",
       "---Dracarys---                   3.0  [, , , , ]       {'': 5}   \n",
       "\n",
       "                    title_polarity  title_subjectivity  body_polarity  \\\n",
       "author                                                                  \n",
       "------me                      0.00                 0.0       0.000000   \n",
       "----GHOST----                 0.00                 0.0       0.337037   \n",
       "----Questions----             0.00                 0.0      -0.055972   \n",
       "----The_Truth-----            0.00                 0.0       0.082067   \n",
       "---Dracarys---                0.25                 0.3       0.176829   \n",
       "\n",
       "                   body_subjectivity  \\\n",
       "author                                 \n",
       "------me                    0.000000   \n",
       "----GHOST----               0.305556   \n",
       "----Questions----           0.428056   \n",
       "----The_Truth-----          0.483440   \n",
       "---Dracarys---              0.423780   \n",
       "\n",
       "                                                         title_tokens  \\\n",
       "author                                                                  \n",
       "------me                  [401k, +, Roth, contributions, and, limits]   \n",
       "----GHOST----         [Vanguard, ETF, Investment, Question, /, Query]   \n",
       "----Questions----   [Pay, off, credit, card, (, 28k, ), and, stude...   \n",
       "----The_Truth-----  [Cleanspark, ,, Inc., (, $, CLSK, ), DEF, 14C,...   \n",
       "---Dracarys---      [What, do, you, think, about, my, stock, portf...   \n",
       "\n",
       "                                                      selftext_tokens  \\\n",
       "author                                                                  \n",
       "------me                                              [[, removed, ]]   \n",
       "----GHOST----       [Quick, question, I, have, in, regards, to, a,...   \n",
       "----Questions----   [Tried, posting, this, in, /r, /, personalfina...   \n",
       "----The_Truth-----  [Good, evening, to, all, ., Have, n't, ever, p...   \n",
       "---Dracarys---      [What, do, you, think, about, my, portfolio, ?...   \n",
       "\n",
       "                    polarity  \n",
       "author                        \n",
       "------me            0.000000  \n",
       "----GHOST----       0.337037  \n",
       "----Questions----  -0.055972  \n",
       "----The_Truth-----  0.082067  \n",
       "---Dracarys---      0.426829  \n",
       "\n",
       "[5 rows x 25 columns]"
      ]
     },
     "execution_count": 71,
     "metadata": {},
     "output_type": "execute_result"
    }
   ],
   "source": [
    "df_author_posts.head()"
   ]
  },
  {
   "cell_type": "code",
   "execution_count": 72,
   "metadata": {
    "executionInfo": {
     "elapsed": 8970,
     "status": "ok",
     "timestamp": 1640701984083,
     "user": {
      "displayName": "Pratik Agrawal",
      "photoUrl": "https://lh3.googleusercontent.com/a-/AOh14Gic3zhpzr916Y01z_b2NkfIWMHKiBe-fVqe5bj-AA=s64",
      "userId": "07645729797073748393"
     },
     "user_tz": -60
    },
    "id": "egcekwOcNu_7"
   },
   "outputs": [],
   "source": [
    "df_author_posts.to_csv('data/investing_users_featurs.csv',sep=';')"
   ]
  },
  {
   "cell_type": "code",
   "execution_count": 73,
   "metadata": {
    "executionInfo": {
     "elapsed": 85,
     "status": "ok",
     "timestamp": 1640701984086,
     "user": {
      "displayName": "Pratik Agrawal",
      "photoUrl": "https://lh3.googleusercontent.com/a-/AOh14Gic3zhpzr916Y01z_b2NkfIWMHKiBe-fVqe5bj-AA=s64",
      "userId": "07645729797073748393"
     },
     "user_tz": -60
    },
    "id": "iSKspinkOGah"
   },
   "outputs": [],
   "source": [
    "df_top_users =df_author_posts[df_author_posts['id']> 10]"
   ]
  },
  {
   "cell_type": "code",
   "execution_count": 74,
   "metadata": {
    "executionInfo": {
     "elapsed": 2036,
     "status": "ok",
     "timestamp": 1640701986042,
     "user": {
      "displayName": "Pratik Agrawal",
      "photoUrl": "https://lh3.googleusercontent.com/a-/AOh14Gic3zhpzr916Y01z_b2NkfIWMHKiBe-fVqe5bj-AA=s64",
      "userId": "07645729797073748393"
     },
     "user_tz": -60
    },
    "id": "dgI2HejVOY5f"
   },
   "outputs": [],
   "source": [
    "df_top_users.to_csv('data/investing_top_users_features.csv',sep=';')"
   ]
  }
 ],
 "metadata": {
  "colab": {
   "name": "User-based analysis-Stocks.ipynb",
   "provenance": [
    {
     "file_id": "1S4BKDeLv9XQyDqK0ymyeCK1TdT8yb3BZ",
     "timestamp": 1640700352806
    },
    {
     "file_id": "1JAOnkijfCvj4DjFf8mWQ6DY0YvXgE1vW",
     "timestamp": 1640351633273
    },
    {
     "file_id": "16GiqDC3SxhPXfI9mRbxciRJXfjC7fIy8",
     "timestamp": 1639319709388
    }
   ]
  },
  "kernelspec": {
   "display_name": "Python 3",
   "language": "python",
   "name": "python3"
  },
  "language_info": {
   "codemirror_mode": {
    "name": "ipython",
    "version": 3
   },
   "file_extension": ".py",
   "mimetype": "text/x-python",
   "name": "python",
   "nbconvert_exporter": "python",
   "pygments_lexer": "ipython3",
   "version": "3.7.4"
  }
 },
 "nbformat": 4,
 "nbformat_minor": 4
}
