{
 "cells": [
  {
   "cell_type": "code",
   "execution_count": 2,
   "metadata": {
    "executionInfo": {
     "elapsed": 377,
     "status": "ok",
     "timestamp": 1640704369382,
     "user": {
      "displayName": "Pratik Agrawal",
      "photoUrl": "https://lh3.googleusercontent.com/a-/AOh14Gic3zhpzr916Y01z_b2NkfIWMHKiBe-fVqe5bj-AA=s64",
      "userId": "07645729797073748393"
     },
     "user_tz": -60
    },
    "id": "EFsMPfS_EMIS"
   },
   "outputs": [
    {
     "name": "stderr",
     "output_type": "stream",
     "text": [
      "In C:\\Users\\96ank\\AppData\\Local\\Continuum\\anaconda3\\lib\\site-packages\\matplotlib\\mpl-data\\stylelib\\_classic_test.mplstyle: \n",
      "The text.latex.preview rcparam was deprecated in Matplotlib 3.3 and will be removed two minor releases later.\n",
      "In C:\\Users\\96ank\\AppData\\Local\\Continuum\\anaconda3\\lib\\site-packages\\matplotlib\\mpl-data\\stylelib\\_classic_test.mplstyle: \n",
      "The mathtext.fallback_to_cm rcparam was deprecated in Matplotlib 3.3 and will be removed two minor releases later.\n",
      "In C:\\Users\\96ank\\AppData\\Local\\Continuum\\anaconda3\\lib\\site-packages\\matplotlib\\mpl-data\\stylelib\\_classic_test.mplstyle: Support for setting the 'mathtext.fallback_to_cm' rcParam is deprecated since 3.3 and will be removed two minor releases later; use 'mathtext.fallback : 'cm' instead.\n",
      "In C:\\Users\\96ank\\AppData\\Local\\Continuum\\anaconda3\\lib\\site-packages\\matplotlib\\mpl-data\\stylelib\\_classic_test.mplstyle: \n",
      "The validate_bool_maybe_none function was deprecated in Matplotlib 3.3 and will be removed two minor releases later.\n",
      "In C:\\Users\\96ank\\AppData\\Local\\Continuum\\anaconda3\\lib\\site-packages\\matplotlib\\mpl-data\\stylelib\\_classic_test.mplstyle: \n",
      "The savefig.jpeg_quality rcparam was deprecated in Matplotlib 3.3 and will be removed two minor releases later.\n",
      "In C:\\Users\\96ank\\AppData\\Local\\Continuum\\anaconda3\\lib\\site-packages\\matplotlib\\mpl-data\\stylelib\\_classic_test.mplstyle: \n",
      "The keymap.all_axes rcparam was deprecated in Matplotlib 3.3 and will be removed two minor releases later.\n",
      "In C:\\Users\\96ank\\AppData\\Local\\Continuum\\anaconda3\\lib\\site-packages\\matplotlib\\mpl-data\\stylelib\\_classic_test.mplstyle: \n",
      "The animation.avconv_path rcparam was deprecated in Matplotlib 3.3 and will be removed two minor releases later.\n",
      "In C:\\Users\\96ank\\AppData\\Local\\Continuum\\anaconda3\\lib\\site-packages\\matplotlib\\mpl-data\\stylelib\\_classic_test.mplstyle: \n",
      "The animation.avconv_args rcparam was deprecated in Matplotlib 3.3 and will be removed two minor releases later.\n"
     ]
    }
   ],
   "source": [
    "from datetime import datetime\n",
    "import matplotlib.pyplot as plt\n",
    "import numpy as np\n",
    "import pandas as pd\n",
    "\n",
    "plt.rcParams.update({\"font.size\": 12})\n",
    "%matplotlib inline"
   ]
  },
  {
   "cell_type": "code",
   "execution_count": 3,
   "metadata": {
    "colab": {
     "base_uri": "https://localhost:8080/",
     "height": 370
    },
    "executionInfo": {
     "elapsed": 2682,
     "status": "ok",
     "timestamp": 1640704470744,
     "user": {
      "displayName": "Pratik Agrawal",
      "photoUrl": "https://lh3.googleusercontent.com/a-/AOh14Gic3zhpzr916Y01z_b2NkfIWMHKiBe-fVqe5bj-AA=s64",
      "userId": "07645729797073748393"
     },
     "user_tz": -60
    },
    "id": "oV_-RBEFFRB_",
    "outputId": "ba020d5d-dd01-4deb-8dcb-0d8f15615ced"
   },
   "outputs": [
    {
     "data": {
      "text/html": [
       "<div>\n",
       "<style scoped>\n",
       "    .dataframe tbody tr th:only-of-type {\n",
       "        vertical-align: middle;\n",
       "    }\n",
       "\n",
       "    .dataframe tbody tr th {\n",
       "        vertical-align: top;\n",
       "    }\n",
       "\n",
       "    .dataframe thead th {\n",
       "        text-align: right;\n",
       "    }\n",
       "</style>\n",
       "<table border=\"1\" class=\"dataframe\">\n",
       "  <thead>\n",
       "    <tr style=\"text-align: right;\">\n",
       "      <th></th>\n",
       "      <th>author</th>\n",
       "      <th>id</th>\n",
       "      <th>title</th>\n",
       "      <th>selftext</th>\n",
       "      <th>date</th>\n",
       "      <th>day</th>\n",
       "      <th>month</th>\n",
       "      <th>year</th>\n",
       "      <th>tickers_</th>\n",
       "      <th>tickers_count_</th>\n",
       "      <th>...</th>\n",
       "      <th>upvote_ratio_sum</th>\n",
       "      <th>flairs</th>\n",
       "      <th>flairs_count</th>\n",
       "      <th>title_polarity</th>\n",
       "      <th>title_subjectivity</th>\n",
       "      <th>body_polarity</th>\n",
       "      <th>body_subjectivity</th>\n",
       "      <th>title_tokens</th>\n",
       "      <th>selftext_tokens</th>\n",
       "      <th>polarity</th>\n",
       "    </tr>\n",
       "  </thead>\n",
       "  <tbody>\n",
       "    <tr>\n",
       "      <th>639</th>\n",
       "      <td>zuelearth</td>\n",
       "      <td>13</td>\n",
       "      <td>Despite earnings beat and strong guidance, int...</td>\n",
       "      <td>How do you think current situation? As you kno...</td>\n",
       "      <td>2018-07-27 2018-07-26 2018-06-12 2018-06-10 20...</td>\n",
       "      <td>27 26 12 10 7 7 28 18 13 8 7 4 4</td>\n",
       "      <td>7 7 6 6 6 6 5 5 5 5 5 5 5</td>\n",
       "      <td>2018 2018 2018 2018 2018 2018 2018 2018 2018 2...</td>\n",
       "      <td>NaN</td>\n",
       "      <td>{}</td>\n",
       "      <td>...</td>\n",
       "      <td>0.0</td>\n",
       "      <td>['', '', '', '', '', '', '', '', '', '', '', '...</td>\n",
       "      <td>{'': 13}</td>\n",
       "      <td>0.333333</td>\n",
       "      <td>0.358333</td>\n",
       "      <td>0.123641</td>\n",
       "      <td>0.57047</td>\n",
       "      <td>['Despite', 'earnings', 'beat', 'and', 'strong...</td>\n",
       "      <td>['How', 'do', 'you', 'think', 'current', 'situ...</td>\n",
       "      <td>0.456974</td>\n",
       "    </tr>\n",
       "  </tbody>\n",
       "</table>\n",
       "<p>1 rows × 26 columns</p>\n",
       "</div>"
      ],
      "text/plain": [
       "        author  id                                              title  \\\n",
       "639  zuelearth  13  Despite earnings beat and strong guidance, int...   \n",
       "\n",
       "                                              selftext  \\\n",
       "639  How do you think current situation? As you kno...   \n",
       "\n",
       "                                                  date  \\\n",
       "639  2018-07-27 2018-07-26 2018-06-12 2018-06-10 20...   \n",
       "\n",
       "                                  day                      month  \\\n",
       "639  27 26 12 10 7 7 28 18 13 8 7 4 4  7 7 6 6 6 6 5 5 5 5 5 5 5   \n",
       "\n",
       "                                                  year tickers_  \\\n",
       "639  2018 2018 2018 2018 2018 2018 2018 2018 2018 2...      NaN   \n",
       "\n",
       "    tickers_count_  ... upvote_ratio_sum  \\\n",
       "639             {}  ...              0.0   \n",
       "\n",
       "                                                flairs  flairs_count  \\\n",
       "639  ['', '', '', '', '', '', '', '', '', '', '', '...      {'': 13}   \n",
       "\n",
       "     title_polarity  title_subjectivity  body_polarity  body_subjectivity  \\\n",
       "639        0.333333            0.358333       0.123641            0.57047   \n",
       "\n",
       "                                          title_tokens  \\\n",
       "639  ['Despite', 'earnings', 'beat', 'and', 'strong...   \n",
       "\n",
       "                                       selftext_tokens  polarity  \n",
       "639  ['How', 'do', 'you', 'think', 'current', 'situ...  0.456974  \n",
       "\n",
       "[1 rows x 26 columns]"
      ]
     },
     "execution_count": 3,
     "metadata": {},
     "output_type": "execute_result"
    }
   ],
   "source": [
    "df = pd.read_csv(\"data/investing_top_users_features.csv\", sep=\";\")\n",
    "df.tail(1)"
   ]
  },
  {
   "cell_type": "markdown",
   "metadata": {
    "id": "nJuFLILVDnkD"
   },
   "source": [
    "## Count Years, Months "
   ]
  },
  {
   "cell_type": "code",
   "execution_count": 4,
   "metadata": {
    "executionInfo": {
     "elapsed": 431,
     "status": "ok",
     "timestamp": 1640704491222,
     "user": {
      "displayName": "Pratik Agrawal",
      "photoUrl": "https://lh3.googleusercontent.com/a-/AOh14Gic3zhpzr916Y01z_b2NkfIWMHKiBe-fVqe5bj-AA=s64",
      "userId": "07645729797073748393"
     },
     "user_tz": -60
    },
    "id": "PTJG0rxPEYR7"
   },
   "outputs": [],
   "source": [
    "from collections import Counter"
   ]
  },
  {
   "cell_type": "code",
   "execution_count": 5,
   "metadata": {
    "executionInfo": {
     "elapsed": 10,
     "status": "ok",
     "timestamp": 1640704492727,
     "user": {
      "displayName": "Pratik Agrawal",
      "photoUrl": "https://lh3.googleusercontent.com/a-/AOh14Gic3zhpzr916Y01z_b2NkfIWMHKiBe-fVqe5bj-AA=s64",
      "userId": "07645729797073748393"
     },
     "user_tz": -60
    },
    "id": "YFZYHN-ODrFD"
   },
   "outputs": [],
   "source": [
    "df['year'] = df['year'].apply(lambda x: list(x.split(\" \")))\n",
    "df[\"years_count\"] = df['year'].apply(lambda x: dict(Counter(list(x))))"
   ]
  },
  {
   "cell_type": "code",
   "execution_count": 6,
   "metadata": {
    "executionInfo": {
     "elapsed": 9,
     "status": "ok",
     "timestamp": 1640704493113,
     "user": {
      "displayName": "Pratik Agrawal",
      "photoUrl": "https://lh3.googleusercontent.com/a-/AOh14Gic3zhpzr916Y01z_b2NkfIWMHKiBe-fVqe5bj-AA=s64",
      "userId": "07645729797073748393"
     },
     "user_tz": -60
    },
    "id": "SCfLJMaAD84E"
   },
   "outputs": [],
   "source": [
    "df['month'] = df['month'].apply(lambda x: list(x.split(\" \")))\n",
    "df[\"months_count\"] = df['month'].apply(lambda x: dict(Counter(list(x))))"
   ]
  },
  {
   "cell_type": "code",
   "execution_count": 7,
   "metadata": {
    "executionInfo": {
     "elapsed": 7,
     "status": "ok",
     "timestamp": 1640704493932,
     "user": {
      "displayName": "Pratik Agrawal",
      "photoUrl": "https://lh3.googleusercontent.com/a-/AOh14Gic3zhpzr916Y01z_b2NkfIWMHKiBe-fVqe5bj-AA=s64",
      "userId": "07645729797073748393"
     },
     "user_tz": -60
    },
    "id": "kGR0IMJV1kER"
   },
   "outputs": [],
   "source": [
    "df['date'] = df['date'].apply(lambda x: list(x.split(\" \")))\n",
    "df[\"dates_count\"] = df['date'].apply(lambda x: dict(Counter(list(x))))"
   ]
  },
  {
   "cell_type": "code",
   "execution_count": 8,
   "metadata": {
    "colab": {
     "base_uri": "https://localhost:8080/",
     "height": 353
    },
    "executionInfo": {
     "elapsed": 22,
     "status": "ok",
     "timestamp": 1640704494889,
     "user": {
      "displayName": "Pratik Agrawal",
      "photoUrl": "https://lh3.googleusercontent.com/a-/AOh14Gic3zhpzr916Y01z_b2NkfIWMHKiBe-fVqe5bj-AA=s64",
      "userId": "07645729797073748393"
     },
     "user_tz": -60
    },
    "id": "ltqw98gaINCn",
    "outputId": "a2cc8dc1-b12d-41b7-cc70-45029f239a4f"
   },
   "outputs": [
    {
     "data": {
      "text/html": [
       "<div>\n",
       "<style scoped>\n",
       "    .dataframe tbody tr th:only-of-type {\n",
       "        vertical-align: middle;\n",
       "    }\n",
       "\n",
       "    .dataframe tbody tr th {\n",
       "        vertical-align: top;\n",
       "    }\n",
       "\n",
       "    .dataframe thead th {\n",
       "        text-align: right;\n",
       "    }\n",
       "</style>\n",
       "<table border=\"1\" class=\"dataframe\">\n",
       "  <thead>\n",
       "    <tr style=\"text-align: right;\">\n",
       "      <th></th>\n",
       "      <th>author</th>\n",
       "      <th>id</th>\n",
       "      <th>title</th>\n",
       "      <th>selftext</th>\n",
       "      <th>date</th>\n",
       "      <th>day</th>\n",
       "      <th>month</th>\n",
       "      <th>year</th>\n",
       "      <th>tickers_</th>\n",
       "      <th>tickers_count_</th>\n",
       "      <th>...</th>\n",
       "      <th>title_polarity</th>\n",
       "      <th>title_subjectivity</th>\n",
       "      <th>body_polarity</th>\n",
       "      <th>body_subjectivity</th>\n",
       "      <th>title_tokens</th>\n",
       "      <th>selftext_tokens</th>\n",
       "      <th>polarity</th>\n",
       "      <th>years_count</th>\n",
       "      <th>months_count</th>\n",
       "      <th>dates_count</th>\n",
       "    </tr>\n",
       "  </thead>\n",
       "  <tbody>\n",
       "    <tr>\n",
       "      <th>0</th>\n",
       "      <td>007moonboundnxs</td>\n",
       "      <td>11</td>\n",
       "      <td>HBK-GoChain Announces Investment In Arabian Bo...</td>\n",
       "      <td>[removed] [removed] [removed] [removed] [remov...</td>\n",
       "      <td>[2019-12-10, 2019-12-08, 2019-11-25, 2019-10-1...</td>\n",
       "      <td>10 8 25 15 14 9 1 14 10 7 7</td>\n",
       "      <td>[12, 12, 11, 10, 10, 10, 6, 3, 11, 11, 11]</td>\n",
       "      <td>[2019, 2019, 2019, 2019, 2019, 2019, 2019, 201...</td>\n",
       "      <td>NaN</td>\n",
       "      <td>{}</td>\n",
       "      <td>...</td>\n",
       "      <td>0.056404</td>\n",
       "      <td>0.213405</td>\n",
       "      <td>0.0</td>\n",
       "      <td>0.0</td>\n",
       "      <td>['HBK', '-', 'GoChain', 'Announces', 'Investme...</td>\n",
       "      <td>['[', 'removed', ']', '[', 'removed', ']', '['...</td>\n",
       "      <td>0.056404</td>\n",
       "      <td>{'2019': 8, '2018': 3}</td>\n",
       "      <td>{'12': 2, '11': 4, '10': 3, '6': 1, '3': 1}</td>\n",
       "      <td>{'2019-12-10': 1, '2019-12-08': 1, '2019-11-25...</td>\n",
       "    </tr>\n",
       "  </tbody>\n",
       "</table>\n",
       "<p>1 rows × 29 columns</p>\n",
       "</div>"
      ],
      "text/plain": [
       "            author  id                                              title  \\\n",
       "0  007moonboundnxs  11  HBK-GoChain Announces Investment In Arabian Bo...   \n",
       "\n",
       "                                            selftext  \\\n",
       "0  [removed] [removed] [removed] [removed] [remov...   \n",
       "\n",
       "                                                date  \\\n",
       "0  [2019-12-10, 2019-12-08, 2019-11-25, 2019-10-1...   \n",
       "\n",
       "                           day                                       month  \\\n",
       "0  10 8 25 15 14 9 1 14 10 7 7  [12, 12, 11, 10, 10, 10, 6, 3, 11, 11, 11]   \n",
       "\n",
       "                                                year tickers_ tickers_count_  \\\n",
       "0  [2019, 2019, 2019, 2019, 2019, 2019, 2019, 201...      NaN             {}   \n",
       "\n",
       "   ... title_polarity  title_subjectivity  body_polarity  body_subjectivity  \\\n",
       "0  ...       0.056404            0.213405            0.0                0.0   \n",
       "\n",
       "                                        title_tokens  \\\n",
       "0  ['HBK', '-', 'GoChain', 'Announces', 'Investme...   \n",
       "\n",
       "                                     selftext_tokens  polarity  \\\n",
       "0  ['[', 'removed', ']', '[', 'removed', ']', '['...  0.056404   \n",
       "\n",
       "              years_count                                 months_count  \\\n",
       "0  {'2019': 8, '2018': 3}  {'12': 2, '11': 4, '10': 3, '6': 1, '3': 1}   \n",
       "\n",
       "                                         dates_count  \n",
       "0  {'2019-12-10': 1, '2019-12-08': 1, '2019-11-25...  \n",
       "\n",
       "[1 rows x 29 columns]"
      ]
     },
     "execution_count": 8,
     "metadata": {},
     "output_type": "execute_result"
    }
   ],
   "source": [
    "df.head(1)"
   ]
  },
  {
   "cell_type": "code",
   "execution_count": 9,
   "metadata": {
    "executionInfo": {
     "elapsed": 2055,
     "status": "ok",
     "timestamp": 1640704521326,
     "user": {
      "displayName": "Pratik Agrawal",
      "photoUrl": "https://lh3.googleusercontent.com/a-/AOh14Gic3zhpzr916Y01z_b2NkfIWMHKiBe-fVqe5bj-AA=s64",
      "userId": "07645729797073748393"
     },
     "user_tz": -60
    },
    "id": "1NsqGXCsH-_7"
   },
   "outputs": [],
   "source": [
    "df.to_csv(\"data/investing_top_users_features.csv\",sep=';')"
   ]
  },
  {
   "cell_type": "markdown",
   "metadata": {
    "id": "H2aGKg1S5vKb"
   },
   "source": [
    "## Are there differences between \"old\" users (pre-2021) and new ones?"
   ]
  },
  {
   "cell_type": "code",
   "execution_count": 10,
   "metadata": {
    "colab": {
     "base_uri": "https://localhost:8080/"
    },
    "executionInfo": {
     "elapsed": 391,
     "status": "ok",
     "timestamp": 1640704524904,
     "user": {
      "displayName": "Pratik Agrawal",
      "photoUrl": "https://lh3.googleusercontent.com/a-/AOh14Gic3zhpzr916Y01z_b2NkfIWMHKiBe-fVqe5bj-AA=s64",
      "userId": "07645729797073748393"
     },
     "user_tz": -60
    },
    "id": "erAwc9lw56ud",
    "outputId": "210d4cb1-0dda-45ce-d450-d8abab31c4c3"
   },
   "outputs": [
    {
     "name": "stdout",
     "output_type": "stream",
     "text": [
      "<class 'pandas.core.frame.DataFrame'>\n",
      "Int64Index: 335 entries, 2 to 639\n",
      "Data columns (total 29 columns):\n",
      " #   Column              Non-Null Count  Dtype  \n",
      "---  ------              --------------  -----  \n",
      " 0   author              335 non-null    object \n",
      " 1   id                  335 non-null    int64  \n",
      " 2   title               335 non-null    object \n",
      " 3   selftext            335 non-null    object \n",
      " 4   date                335 non-null    object \n",
      " 5   day                 335 non-null    object \n",
      " 6   month               335 non-null    object \n",
      " 7   year                335 non-null    object \n",
      " 8   tickers_            56 non-null     object \n",
      " 9   tickers_count_      335 non-null    object \n",
      " 10  link_flair_text     335 non-null    object \n",
      " 11  comments_mean       335 non-null    float64\n",
      " 12  comments_sum        335 non-null    int64  \n",
      " 13  score_mean          335 non-null    float64\n",
      " 14  score_sum           335 non-null    int64  \n",
      " 15  upvote_ratio_mean   335 non-null    float64\n",
      " 16  upvote_ratio_sum    335 non-null    float64\n",
      " 17  flairs              335 non-null    object \n",
      " 18  flairs_count        335 non-null    object \n",
      " 19  title_polarity      335 non-null    float64\n",
      " 20  title_subjectivity  335 non-null    float64\n",
      " 21  body_polarity       335 non-null    float64\n",
      " 22  body_subjectivity   335 non-null    float64\n",
      " 23  title_tokens        335 non-null    object \n",
      " 24  selftext_tokens     335 non-null    object \n",
      " 25  polarity            335 non-null    float64\n",
      " 26  years_count         335 non-null    object \n",
      " 27  months_count        335 non-null    object \n",
      " 28  dates_count         335 non-null    object \n",
      "dtypes: float64(9), int64(3), object(17)\n",
      "memory usage: 78.5+ KB\n"
     ]
    }
   ],
   "source": [
    "# split dataset: pre and post hype \n",
    "#users_pre = df['year'].apply(lambda x:list(set(x).intersection(pre_years)))\n",
    "users_post = df[['2021' in x for x in df['year'].values] and ['2020' not in x for x in df['year'].values] and ['2018' not in x for x in df['year'].values] and ['2019' not in x for x in df['year'].values]]\n",
    "users_post.info()"
   ]
  },
  {
   "cell_type": "code",
   "execution_count": 11,
   "metadata": {
    "executionInfo": {
     "elapsed": 2023,
     "status": "ok",
     "timestamp": 1640704589266,
     "user": {
      "displayName": "Pratik Agrawal",
      "photoUrl": "https://lh3.googleusercontent.com/a-/AOh14Gic3zhpzr916Y01z_b2NkfIWMHKiBe-fVqe5bj-AA=s64",
      "userId": "07645729797073748393"
     },
     "user_tz": -60
    },
    "id": "bskFNi_RFO89"
   },
   "outputs": [],
   "source": [
    "users_post.to_csv(\"data/investing_users_post-hype.csv\",sep=';')"
   ]
  },
  {
   "cell_type": "code",
   "execution_count": 12,
   "metadata": {
    "colab": {
     "base_uri": "https://localhost:8080/"
    },
    "executionInfo": {
     "elapsed": 420,
     "status": "ok",
     "timestamp": 1640704591772,
     "user": {
      "displayName": "Pratik Agrawal",
      "photoUrl": "https://lh3.googleusercontent.com/a-/AOh14Gic3zhpzr916Y01z_b2NkfIWMHKiBe-fVqe5bj-AA=s64",
      "userId": "07645729797073748393"
     },
     "user_tz": -60
    },
    "id": "RST67huc88NI",
    "outputId": "89db2a72-a9d8-4d94-a125-6281d6f5e1e5"
   },
   "outputs": [
    {
     "name": "stdout",
     "output_type": "stream",
     "text": [
      "<class 'pandas.core.frame.DataFrame'>\n",
      "Int64Index: 271 entries, 0 to 639\n",
      "Data columns (total 29 columns):\n",
      " #   Column              Non-Null Count  Dtype  \n",
      "---  ------              --------------  -----  \n",
      " 0   author              271 non-null    object \n",
      " 1   id                  271 non-null    int64  \n",
      " 2   title               271 non-null    object \n",
      " 3   selftext            271 non-null    object \n",
      " 4   date                271 non-null    object \n",
      " 5   day                 271 non-null    object \n",
      " 6   month               271 non-null    object \n",
      " 7   year                271 non-null    object \n",
      " 8   tickers_            41 non-null     object \n",
      " 9   tickers_count_      271 non-null    object \n",
      " 10  link_flair_text     271 non-null    object \n",
      " 11  comments_mean       271 non-null    float64\n",
      " 12  comments_sum        271 non-null    int64  \n",
      " 13  score_mean          271 non-null    float64\n",
      " 14  score_sum           271 non-null    int64  \n",
      " 15  upvote_ratio_mean   271 non-null    float64\n",
      " 16  upvote_ratio_sum    271 non-null    float64\n",
      " 17  flairs              271 non-null    object \n",
      " 18  flairs_count        271 non-null    object \n",
      " 19  title_polarity      271 non-null    float64\n",
      " 20  title_subjectivity  271 non-null    float64\n",
      " 21  body_polarity       271 non-null    float64\n",
      " 22  body_subjectivity   271 non-null    float64\n",
      " 23  title_tokens        271 non-null    object \n",
      " 24  selftext_tokens     271 non-null    object \n",
      " 25  polarity            271 non-null    float64\n",
      " 26  years_count         271 non-null    object \n",
      " 27  months_count        271 non-null    object \n",
      " 28  dates_count         271 non-null    object \n",
      "dtypes: float64(9), int64(3), object(17)\n",
      "memory usage: 63.5+ KB\n"
     ]
    }
   ],
   "source": [
    "users_pre = df[['2021' not in x for x in df['year'].values]]\n",
    "users_pre.info()"
   ]
  },
  {
   "cell_type": "code",
   "execution_count": 13,
   "metadata": {
    "colab": {
     "base_uri": "https://localhost:8080/",
     "height": 353
    },
    "executionInfo": {
     "elapsed": 615,
     "status": "ok",
     "timestamp": 1640704550099,
     "user": {
      "displayName": "Pratik Agrawal",
      "photoUrl": "https://lh3.googleusercontent.com/a-/AOh14Gic3zhpzr916Y01z_b2NkfIWMHKiBe-fVqe5bj-AA=s64",
      "userId": "07645729797073748393"
     },
     "user_tz": -60
    },
    "id": "ZpDW0HL9Eznt",
    "outputId": "fd1b34ca-eabd-4e62-e480-a6ce238bfc1e"
   },
   "outputs": [
    {
     "data": {
      "text/html": [
       "<div>\n",
       "<style scoped>\n",
       "    .dataframe tbody tr th:only-of-type {\n",
       "        vertical-align: middle;\n",
       "    }\n",
       "\n",
       "    .dataframe tbody tr th {\n",
       "        vertical-align: top;\n",
       "    }\n",
       "\n",
       "    .dataframe thead th {\n",
       "        text-align: right;\n",
       "    }\n",
       "</style>\n",
       "<table border=\"1\" class=\"dataframe\">\n",
       "  <thead>\n",
       "    <tr style=\"text-align: right;\">\n",
       "      <th></th>\n",
       "      <th>author</th>\n",
       "      <th>id</th>\n",
       "      <th>title</th>\n",
       "      <th>selftext</th>\n",
       "      <th>date</th>\n",
       "      <th>day</th>\n",
       "      <th>month</th>\n",
       "      <th>year</th>\n",
       "      <th>tickers_</th>\n",
       "      <th>tickers_count_</th>\n",
       "      <th>...</th>\n",
       "      <th>title_polarity</th>\n",
       "      <th>title_subjectivity</th>\n",
       "      <th>body_polarity</th>\n",
       "      <th>body_subjectivity</th>\n",
       "      <th>title_tokens</th>\n",
       "      <th>selftext_tokens</th>\n",
       "      <th>polarity</th>\n",
       "      <th>years_count</th>\n",
       "      <th>months_count</th>\n",
       "      <th>dates_count</th>\n",
       "    </tr>\n",
       "  </thead>\n",
       "  <tbody>\n",
       "    <tr>\n",
       "      <th>0</th>\n",
       "      <td>007moonboundnxs</td>\n",
       "      <td>11</td>\n",
       "      <td>HBK-GoChain Announces Investment In Arabian Bo...</td>\n",
       "      <td>[removed] [removed] [removed] [removed] [remov...</td>\n",
       "      <td>[2019-12-10, 2019-12-08, 2019-11-25, 2019-10-1...</td>\n",
       "      <td>10 8 25 15 14 9 1 14 10 7 7</td>\n",
       "      <td>[12, 12, 11, 10, 10, 10, 6, 3, 11, 11, 11]</td>\n",
       "      <td>[2019, 2019, 2019, 2019, 2019, 2019, 2019, 201...</td>\n",
       "      <td>NaN</td>\n",
       "      <td>{}</td>\n",
       "      <td>...</td>\n",
       "      <td>0.056404</td>\n",
       "      <td>0.213405</td>\n",
       "      <td>0.0</td>\n",
       "      <td>0.0</td>\n",
       "      <td>['HBK', '-', 'GoChain', 'Announces', 'Investme...</td>\n",
       "      <td>['[', 'removed', ']', '[', 'removed', ']', '['...</td>\n",
       "      <td>0.056404</td>\n",
       "      <td>{'2019': 8, '2018': 3}</td>\n",
       "      <td>{'12': 2, '11': 4, '10': 3, '6': 1, '3': 1}</td>\n",
       "      <td>{'2019-12-10': 1, '2019-12-08': 1, '2019-11-25...</td>\n",
       "    </tr>\n",
       "  </tbody>\n",
       "</table>\n",
       "<p>1 rows × 29 columns</p>\n",
       "</div>"
      ],
      "text/plain": [
       "            author  id                                              title  \\\n",
       "0  007moonboundnxs  11  HBK-GoChain Announces Investment In Arabian Bo...   \n",
       "\n",
       "                                            selftext  \\\n",
       "0  [removed] [removed] [removed] [removed] [remov...   \n",
       "\n",
       "                                                date  \\\n",
       "0  [2019-12-10, 2019-12-08, 2019-11-25, 2019-10-1...   \n",
       "\n",
       "                           day                                       month  \\\n",
       "0  10 8 25 15 14 9 1 14 10 7 7  [12, 12, 11, 10, 10, 10, 6, 3, 11, 11, 11]   \n",
       "\n",
       "                                                year tickers_ tickers_count_  \\\n",
       "0  [2019, 2019, 2019, 2019, 2019, 2019, 2019, 201...      NaN             {}   \n",
       "\n",
       "   ... title_polarity  title_subjectivity  body_polarity  body_subjectivity  \\\n",
       "0  ...       0.056404            0.213405            0.0                0.0   \n",
       "\n",
       "                                        title_tokens  \\\n",
       "0  ['HBK', '-', 'GoChain', 'Announces', 'Investme...   \n",
       "\n",
       "                                     selftext_tokens  polarity  \\\n",
       "0  ['[', 'removed', ']', '[', 'removed', ']', '['...  0.056404   \n",
       "\n",
       "              years_count                                 months_count  \\\n",
       "0  {'2019': 8, '2018': 3}  {'12': 2, '11': 4, '10': 3, '6': 1, '3': 1}   \n",
       "\n",
       "                                         dates_count  \n",
       "0  {'2019-12-10': 1, '2019-12-08': 1, '2019-11-25...  \n",
       "\n",
       "[1 rows x 29 columns]"
      ]
     },
     "execution_count": 13,
     "metadata": {},
     "output_type": "execute_result"
    }
   ],
   "source": [
    "users_pre.head(1)"
   ]
  },
  {
   "cell_type": "code",
   "execution_count": 14,
   "metadata": {
    "executionInfo": {
     "elapsed": 438,
     "status": "ok",
     "timestamp": 1640704604174,
     "user": {
      "displayName": "Pratik Agrawal",
      "photoUrl": "https://lh3.googleusercontent.com/a-/AOh14Gic3zhpzr916Y01z_b2NkfIWMHKiBe-fVqe5bj-AA=s64",
      "userId": "07645729797073748393"
     },
     "user_tz": -60
    },
    "id": "fqufF8ZdFb-d"
   },
   "outputs": [],
   "source": [
    "users_pre.to_csv(\"data/investing_users_pre-hype.csv\",sep=';')"
   ]
  },
  {
   "cell_type": "code",
   "execution_count": 15,
   "metadata": {
    "colab": {
     "base_uri": "https://localhost:8080/"
    },
    "executionInfo": {
     "elapsed": 375,
     "status": "ok",
     "timestamp": 1640704618303,
     "user": {
      "displayName": "Pratik Agrawal",
      "photoUrl": "https://lh3.googleusercontent.com/a-/AOh14Gic3zhpzr916Y01z_b2NkfIWMHKiBe-fVqe5bj-AA=s64",
      "userId": "07645729797073748393"
     },
     "user_tz": -60
    },
    "id": "LYzOSEvaE5nU",
    "outputId": "d1a2a765-8543-45e3-b400-0fb3c32924d2"
   },
   "outputs": [
    {
     "name": "stdout",
     "output_type": "stream",
     "text": [
      "<class 'pandas.core.frame.DataFrame'>\n",
      "Int64Index: 305 entries, 0 to 638\n",
      "Data columns (total 29 columns):\n",
      " #   Column              Non-Null Count  Dtype  \n",
      "---  ------              --------------  -----  \n",
      " 0   author              305 non-null    object \n",
      " 1   id                  305 non-null    int64  \n",
      " 2   title               305 non-null    object \n",
      " 3   selftext            305 non-null    object \n",
      " 4   date                305 non-null    object \n",
      " 5   day                 305 non-null    object \n",
      " 6   month               305 non-null    object \n",
      " 7   year                305 non-null    object \n",
      " 8   tickers_            50 non-null     object \n",
      " 9   tickers_count_      305 non-null    object \n",
      " 10  link_flair_text     305 non-null    object \n",
      " 11  comments_mean       305 non-null    float64\n",
      " 12  comments_sum        305 non-null    int64  \n",
      " 13  score_mean          305 non-null    float64\n",
      " 14  score_sum           305 non-null    int64  \n",
      " 15  upvote_ratio_mean   305 non-null    float64\n",
      " 16  upvote_ratio_sum    305 non-null    float64\n",
      " 17  flairs              305 non-null    object \n",
      " 18  flairs_count        305 non-null    object \n",
      " 19  title_polarity      305 non-null    float64\n",
      " 20  title_subjectivity  305 non-null    float64\n",
      " 21  body_polarity       305 non-null    float64\n",
      " 22  body_subjectivity   305 non-null    float64\n",
      " 23  title_tokens        305 non-null    object \n",
      " 24  selftext_tokens     305 non-null    object \n",
      " 25  polarity            305 non-null    float64\n",
      " 26  years_count         305 non-null    object \n",
      " 27  months_count        305 non-null    object \n",
      " 28  dates_count         305 non-null    object \n",
      "dtypes: float64(9), int64(3), object(17)\n",
      "memory usage: 71.5+ KB\n"
     ]
    }
   ],
   "source": [
    "users_pre_post = df[['2021' in x for x in df['year'].values] and ['2020' in x for x in df['year'].values] and ['2018' in x for x in df['year'].values] and ['2019' in x for x in df['year'].values]]\n",
    "users_pre_post.info()"
   ]
  },
  {
   "cell_type": "code",
   "execution_count": 16,
   "metadata": {
    "colab": {
     "base_uri": "https://localhost:8080/",
     "height": 1714
    },
    "executionInfo": {
     "elapsed": 428,
     "status": "ok",
     "timestamp": 1640704623221,
     "user": {
      "displayName": "Pratik Agrawal",
      "photoUrl": "https://lh3.googleusercontent.com/a-/AOh14Gic3zhpzr916Y01z_b2NkfIWMHKiBe-fVqe5bj-AA=s64",
      "userId": "07645729797073748393"
     },
     "user_tz": -60
    },
    "id": "e0KUeWnAFHkk",
    "outputId": "ecc0184a-3413-4520-9e65-2152903c6986"
   },
   "outputs": [
    {
     "data": {
      "text/html": [
       "<div>\n",
       "<style scoped>\n",
       "    .dataframe tbody tr th:only-of-type {\n",
       "        vertical-align: middle;\n",
       "    }\n",
       "\n",
       "    .dataframe tbody tr th {\n",
       "        vertical-align: top;\n",
       "    }\n",
       "\n",
       "    .dataframe thead th {\n",
       "        text-align: right;\n",
       "    }\n",
       "</style>\n",
       "<table border=\"1\" class=\"dataframe\">\n",
       "  <thead>\n",
       "    <tr style=\"text-align: right;\">\n",
       "      <th></th>\n",
       "      <th>author</th>\n",
       "      <th>id</th>\n",
       "      <th>title</th>\n",
       "      <th>selftext</th>\n",
       "      <th>date</th>\n",
       "      <th>day</th>\n",
       "      <th>month</th>\n",
       "      <th>year</th>\n",
       "      <th>tickers_</th>\n",
       "      <th>tickers_count_</th>\n",
       "      <th>...</th>\n",
       "      <th>title_polarity</th>\n",
       "      <th>title_subjectivity</th>\n",
       "      <th>body_polarity</th>\n",
       "      <th>body_subjectivity</th>\n",
       "      <th>title_tokens</th>\n",
       "      <th>selftext_tokens</th>\n",
       "      <th>polarity</th>\n",
       "      <th>years_count</th>\n",
       "      <th>months_count</th>\n",
       "      <th>dates_count</th>\n",
       "    </tr>\n",
       "  </thead>\n",
       "  <tbody>\n",
       "    <tr>\n",
       "      <th>0</th>\n",
       "      <td>007moonboundnxs</td>\n",
       "      <td>11</td>\n",
       "      <td>HBK-GoChain Announces Investment In Arabian Bo...</td>\n",
       "      <td>[removed] [removed] [removed] [removed] [remov...</td>\n",
       "      <td>[2019-12-10, 2019-12-08, 2019-11-25, 2019-10-1...</td>\n",
       "      <td>10 8 25 15 14 9 1 14 10 7 7</td>\n",
       "      <td>[12, 12, 11, 10, 10, 10, 6, 3, 11, 11, 11]</td>\n",
       "      <td>[2019, 2019, 2019, 2019, 2019, 2019, 2019, 201...</td>\n",
       "      <td>NaN</td>\n",
       "      <td>{}</td>\n",
       "      <td>...</td>\n",
       "      <td>0.056404</td>\n",
       "      <td>0.213405</td>\n",
       "      <td>0.0</td>\n",
       "      <td>0.0</td>\n",
       "      <td>['HBK', '-', 'GoChain', 'Announces', 'Investme...</td>\n",
       "      <td>['[', 'removed', ']', '[', 'removed', ']', '['...</td>\n",
       "      <td>0.056404</td>\n",
       "      <td>{'2019': 8, '2018': 3}</td>\n",
       "      <td>{'12': 2, '11': 4, '10': 3, '6': 1, '3': 1}</td>\n",
       "      <td>{'2019-12-10': 1, '2019-12-08': 1, '2019-11-25...</td>\n",
       "    </tr>\n",
       "  </tbody>\n",
       "</table>\n",
       "<p>1 rows × 29 columns</p>\n",
       "</div>"
      ],
      "text/plain": [
       "            author  id                                              title  \\\n",
       "0  007moonboundnxs  11  HBK-GoChain Announces Investment In Arabian Bo...   \n",
       "\n",
       "                                            selftext  \\\n",
       "0  [removed] [removed] [removed] [removed] [remov...   \n",
       "\n",
       "                                                date  \\\n",
       "0  [2019-12-10, 2019-12-08, 2019-11-25, 2019-10-1...   \n",
       "\n",
       "                           day                                       month  \\\n",
       "0  10 8 25 15 14 9 1 14 10 7 7  [12, 12, 11, 10, 10, 10, 6, 3, 11, 11, 11]   \n",
       "\n",
       "                                                year tickers_ tickers_count_  \\\n",
       "0  [2019, 2019, 2019, 2019, 2019, 2019, 2019, 201...      NaN             {}   \n",
       "\n",
       "   ... title_polarity  title_subjectivity  body_polarity  body_subjectivity  \\\n",
       "0  ...       0.056404            0.213405            0.0                0.0   \n",
       "\n",
       "                                        title_tokens  \\\n",
       "0  ['HBK', '-', 'GoChain', 'Announces', 'Investme...   \n",
       "\n",
       "                                     selftext_tokens  polarity  \\\n",
       "0  ['[', 'removed', ']', '[', 'removed', ']', '['...  0.056404   \n",
       "\n",
       "              years_count                                 months_count  \\\n",
       "0  {'2019': 8, '2018': 3}  {'12': 2, '11': 4, '10': 3, '6': 1, '3': 1}   \n",
       "\n",
       "                                         dates_count  \n",
       "0  {'2019-12-10': 1, '2019-12-08': 1, '2019-11-25...  \n",
       "\n",
       "[1 rows x 29 columns]"
      ]
     },
     "execution_count": 16,
     "metadata": {},
     "output_type": "execute_result"
    }
   ],
   "source": [
    "users_pre_post.head(1)"
   ]
  },
  {
   "cell_type": "code",
   "execution_count": 17,
   "metadata": {
    "executionInfo": {
     "elapsed": 846,
     "status": "ok",
     "timestamp": 1640704631228,
     "user": {
      "displayName": "Pratik Agrawal",
      "photoUrl": "https://lh3.googleusercontent.com/a-/AOh14Gic3zhpzr916Y01z_b2NkfIWMHKiBe-fVqe5bj-AA=s64",
      "userId": "07645729797073748393"
     },
     "user_tz": -60
    },
    "id": "nub8j-9vFlb5"
   },
   "outputs": [],
   "source": [
    "users_pre_post.to_csv(\"data/investing_users_pre-post_hype.csv\",sep=';')"
   ]
  },
  {
   "cell_type": "markdown",
   "metadata": {
    "id": "NbJt-Fo_5xXW"
   },
   "source": [
    "## Can we identify those that have posted (successful) DDs, Analysis, Company?"
   ]
  },
  {
   "cell_type": "code",
   "execution_count": 22,
   "metadata": {
    "colab": {
     "base_uri": "https://localhost:8080/"
    },
    "executionInfo": {
     "elapsed": 583,
     "status": "ok",
     "timestamp": 1640705212498,
     "user": {
      "displayName": "Pratik Agrawal",
      "photoUrl": "https://lh3.googleusercontent.com/a-/AOh14Gic3zhpzr916Y01z_b2NkfIWMHKiBe-fVqe5bj-AA=s64",
      "userId": "07645729797073748393"
     },
     "user_tz": -60
    },
    "id": "aYMeogR4pof6",
    "outputId": "24b0aa59-31d4-45e9-a9c2-6218a4f787b9"
   },
   "outputs": [
    {
     "data": {
      "text/plain": [
       "array([\"['', '', '', '', '', '', '', '', '', '', '', '']\",\n",
       "       \"['', 'News', '', 'News', 'News', '', '', '', 'News', 'News', 'News', 'News', 'News', 'News', 'News', '']\",\n",
       "       \"['', '', '', '', '', '', '', '', '', '', '', '', '']\",\n",
       "       \"['', '', '', '', '', '', '', '', '', '', '', '', '', '', '', '', '', '', '']\",\n",
       "       \"['', '', '', '', '', '', '', '', '', '', '', '', '', '', '', '', '', '', '', '', '', '', '', '', '']\",\n",
       "       \"['', '', '', '', '', '', '', '', '', '', '', '', '', '', '', '', '', '', '', '', '', '', '', '', '', '', '', '', '', '', '', '', '', '', '', '', '', '', '', '', '', '', '', '', '', '', '', '', '', '', '', '', '', '', '', '', '', '', '', '', '', '', '', '', '', '', '', '', '', '', '', '', '', '', '', '', '', '', '', '', '', '', '', '', 'News', 'News', 'Discussion', '']\",\n",
       "       \"['', '', '', '', '', '', '', '', '', '', '', '']\",\n",
       "       \"['', '', '', '', '', '', '', '', '', '', '', '', '', '', '', '', '', '', '', '', '']\",\n",
       "       \"['', '', '', '', '', '', '', '', '', '', '']\",\n",
       "       \"['', '', '', '', '', '', '', '', 'News', '', '', '', '', '']\",\n",
       "       \"['', '', '', '', '', '', '', '', '', '', '']\",\n",
       "       \"['', '', '', '', '', '', '', '', '', '', '', '', '', '', '', '', '', '', '', '', '']\",\n",
       "       \"['', '', '', '', '', '', '', '', '', '', '']\",\n",
       "       \"['', '', '', '', '', '', '', '', '', '', '', '', '', '', '']\",\n",
       "       \"['', '', '', '', '', '', '', '', '', '', '', '']\",\n",
       "       \"['', '', '', '', '', '', '', '', '', '', '', '']\",\n",
       "       \"['', '', '', '', '', '', '', '', '', '', '', '', '']\",\n",
       "       \"['', '', '', '', '', '', '', '', '', '', '', '', '']\",\n",
       "       \"['', '', '', '', '', '', '', '', '', '', '', '', '', '', '', '', '', '', '', '', '', '', '', '', '', '', '', '', '', '', '', '', '']\",\n",
       "       \"['', '', '', '', '', '', '', '', '', '', '', '', '', '', '', '']\",\n",
       "       \"['', '', '', '', '', '', '', '', '', '', '', '', '', '', '']\",\n",
       "       \"['', '', '', '', '', '', '', '', '', '', '', '', '', '', '', '', '', '', '', '', '', '', '', '', '', '', '', '', '', '', '', '', '', '', '', '', '', '', '', '', '', '', '', '', '', '', '', '', '', '', '', '', '', '', '', '', '', '', '', '', '', '']\",\n",
       "       \"['', '', '', '', '', '', '', '', '', '', '', '', '', '', '', '', '', '', '', '', '', '', '', '', '']\",\n",
       "       \"['', 'Discussion', 'Discussion', 'Discussion', 'Discussion', 'Discussion', 'Education', 'Discussion', 'Discussion', 'Education', 'Discussion', 'Help', 'Discussion', 'Discussion']\",\n",
       "       \"['', '', '', '', '', '', '', '', '', '', '']\",\n",
       "       \"['', '', '', '', '', '', '', '', '', '', '', '', '', '']\",\n",
       "       \"['', '', '', '', '', '', '', '', '', '', '', '', '', '', '', '', '', '', '', '', '', '', '', '', '', '', '', '', '', '', '', '', '', '', '', '', '', '', '', '', '', '', '', '', '', '', '', '', '', '', '', '', '']\",\n",
       "       \"['', '', '', '', '', '', '', '', '', '', '', '', '']\",\n",
       "       \"['', '', '', '', '', '', '', '', '', '', '', '', '', '', '']\",\n",
       "       \"['', '', '', '', '', '', '', '', '', '', '', '', '', '', '', '', '', '', '', '', '', '']\"],\n",
       "      dtype=object)"
      ]
     },
     "execution_count": 22,
     "metadata": {},
     "output_type": "execute_result"
    }
   ],
   "source": [
    "df['flairs'].values[60:90]"
   ]
  },
  {
   "cell_type": "code",
   "execution_count": 23,
   "metadata": {
    "colab": {
     "base_uri": "https://localhost:8080/"
    },
    "executionInfo": {
     "elapsed": 392,
     "status": "ok",
     "timestamp": 1640705278360,
     "user": {
      "displayName": "Pratik Agrawal",
      "photoUrl": "https://lh3.googleusercontent.com/a-/AOh14Gic3zhpzr916Y01z_b2NkfIWMHKiBe-fVqe5bj-AA=s64",
      "userId": "07645729797073748393"
     },
     "user_tz": -60
    },
    "id": "xk_J3_lp6DJj",
    "outputId": "a2940647-51fc-48c6-8af4-db4612a2bec4"
   },
   "outputs": [
    {
     "name": "stdout",
     "output_type": "stream",
     "text": [
      "<class 'pandas.core.frame.DataFrame'>\n",
      "Int64Index: 45 entries, 6 to 634\n",
      "Data columns (total 29 columns):\n",
      " #   Column              Non-Null Count  Dtype  \n",
      "---  ------              --------------  -----  \n",
      " 0   author              45 non-null     object \n",
      " 1   id                  45 non-null     int64  \n",
      " 2   title               45 non-null     object \n",
      " 3   selftext            45 non-null     object \n",
      " 4   date                45 non-null     object \n",
      " 5   day                 45 non-null     object \n",
      " 6   month               45 non-null     object \n",
      " 7   year                45 non-null     object \n",
      " 8   tickers_            11 non-null     object \n",
      " 9   tickers_count_      45 non-null     object \n",
      " 10  link_flair_text     45 non-null     object \n",
      " 11  comments_mean       45 non-null     float64\n",
      " 12  comments_sum        45 non-null     int64  \n",
      " 13  score_mean          45 non-null     float64\n",
      " 14  score_sum           45 non-null     int64  \n",
      " 15  upvote_ratio_mean   45 non-null     float64\n",
      " 16  upvote_ratio_sum    45 non-null     float64\n",
      " 17  flairs              45 non-null     object \n",
      " 18  flairs_count        45 non-null     object \n",
      " 19  title_polarity      45 non-null     float64\n",
      " 20  title_subjectivity  45 non-null     float64\n",
      " 21  body_polarity       45 non-null     float64\n",
      " 22  body_subjectivity   45 non-null     float64\n",
      " 23  title_tokens        45 non-null     object \n",
      " 24  selftext_tokens     45 non-null     object \n",
      " 25  polarity            45 non-null     float64\n",
      " 26  years_count         45 non-null     object \n",
      " 27  months_count        45 non-null     object \n",
      " 28  dates_count         45 non-null     object \n",
      "dtypes: float64(9), int64(3), object(17)\n",
      "memory usage: 10.5+ KB\n"
     ]
    }
   ],
   "source": [
    "## get all users with 'DD' flair and high upvotes, positive sentiment \n",
    "users_DD = df[['Discussion' in x for x in df['flairs'].values] or ['Education' in x for x in df['flairs'].values]]\n",
    "users_DD.info()"
   ]
  },
  {
   "cell_type": "code",
   "execution_count": 24,
   "metadata": {
    "id": "LMy_2H1QoAAO"
   },
   "outputs": [
    {
     "data": {
      "text/html": [
       "<div>\n",
       "<style scoped>\n",
       "    .dataframe tbody tr th:only-of-type {\n",
       "        vertical-align: middle;\n",
       "    }\n",
       "\n",
       "    .dataframe tbody tr th {\n",
       "        vertical-align: top;\n",
       "    }\n",
       "\n",
       "    .dataframe thead th {\n",
       "        text-align: right;\n",
       "    }\n",
       "</style>\n",
       "<table border=\"1\" class=\"dataframe\">\n",
       "  <thead>\n",
       "    <tr style=\"text-align: right;\">\n",
       "      <th></th>\n",
       "      <th>author</th>\n",
       "      <th>id</th>\n",
       "      <th>title</th>\n",
       "      <th>selftext</th>\n",
       "      <th>date</th>\n",
       "      <th>day</th>\n",
       "      <th>month</th>\n",
       "      <th>year</th>\n",
       "      <th>tickers_</th>\n",
       "      <th>tickers_count_</th>\n",
       "      <th>...</th>\n",
       "      <th>title_polarity</th>\n",
       "      <th>title_subjectivity</th>\n",
       "      <th>body_polarity</th>\n",
       "      <th>body_subjectivity</th>\n",
       "      <th>title_tokens</th>\n",
       "      <th>selftext_tokens</th>\n",
       "      <th>polarity</th>\n",
       "      <th>years_count</th>\n",
       "      <th>months_count</th>\n",
       "      <th>dates_count</th>\n",
       "    </tr>\n",
       "  </thead>\n",
       "  <tbody>\n",
       "    <tr>\n",
       "      <th>6</th>\n",
       "      <td>14MTH30n3</td>\n",
       "      <td>30</td>\n",
       "      <td>I am curious how much do you micromanage inves...</td>\n",
       "      <td>[removed] [removed] [removed] [removed] [remov...</td>\n",
       "      <td>[2021-09-20, 2021-07-11, 2021-06-22, 2021-06-0...</td>\n",
       "      <td>20 11 22 6 1 21 13 13 9 31 13 4 26 12 9 8 28 1...</td>\n",
       "      <td>[9, 7, 6, 6, 6, 5, 5, 5, 2, 12, 7, 6, 3, 3, 3,...</td>\n",
       "      <td>[2021, 2021, 2021, 2021, 2021, 2021, 2021, 202...</td>\n",
       "      <td>NaN</td>\n",
       "      <td>{}</td>\n",
       "      <td>...</td>\n",
       "      <td>0.150482</td>\n",
       "      <td>0.439482</td>\n",
       "      <td>0.005088</td>\n",
       "      <td>0.490042</td>\n",
       "      <td>['I', 'am', 'curious', 'how', 'much', 'do', 'y...</td>\n",
       "      <td>['[', 'removed', ']', '[', 'removed', ']', '['...</td>\n",
       "      <td>0.15557</td>\n",
       "      <td>{'2021': 9, '2020': 10, '2019': 2, '2018': 9}</td>\n",
       "      <td>{'9': 1, '7': 2, '6': 4, '5': 4, '2': 4, '12':...</td>\n",
       "      <td>{'2021-09-20': 1, '2021-07-11': 1, '2021-06-22...</td>\n",
       "    </tr>\n",
       "    <tr>\n",
       "      <th>18</th>\n",
       "      <td>Aboly</td>\n",
       "      <td>23</td>\n",
       "      <td>What happened with chines ADR on yahoo finance...</td>\n",
       "      <td>It looks like a bug on yahoo finance. these nu...</td>\n",
       "      <td>[2020-02-26, 2020-01-30, 2020-01-14, 2020-01-1...</td>\n",
       "      <td>26 30 14 13 27 18 11 29 10 29 8 19 23 14 13 31...</td>\n",
       "      <td>[2, 1, 1, 1, 12, 12, 10, 7, 5, 4, 4, 9, 8, 8, ...</td>\n",
       "      <td>[2020, 2020, 2020, 2020, 2019, 2019, 2019, 201...</td>\n",
       "      <td>['TSLA']</td>\n",
       "      <td>{'TSLA': 1}</td>\n",
       "      <td>...</td>\n",
       "      <td>0.109435</td>\n",
       "      <td>0.500867</td>\n",
       "      <td>0.031094</td>\n",
       "      <td>0.403637</td>\n",
       "      <td>['What', 'happened', 'with', 'chines', 'ADR', ...</td>\n",
       "      <td>['It', 'looks', 'like', 'a', 'bug', 'on', 'yah...</td>\n",
       "      <td>0.14053</td>\n",
       "      <td>{'2020': 4, '2019': 7, '2018': 12}</td>\n",
       "      <td>{'2': 2, '1': 7, '12': 2, '10': 1, '7': 3, '5'...</td>\n",
       "      <td>{'2020-02-26': 1, '2020-01-30': 1, '2020-01-14...</td>\n",
       "    </tr>\n",
       "  </tbody>\n",
       "</table>\n",
       "<p>2 rows × 29 columns</p>\n",
       "</div>"
      ],
      "text/plain": [
       "       author  id                                              title  \\\n",
       "6   14MTH30n3  30  I am curious how much do you micromanage inves...   \n",
       "18      Aboly  23  What happened with chines ADR on yahoo finance...   \n",
       "\n",
       "                                             selftext  \\\n",
       "6   [removed] [removed] [removed] [removed] [remov...   \n",
       "18  It looks like a bug on yahoo finance. these nu...   \n",
       "\n",
       "                                                 date  \\\n",
       "6   [2021-09-20, 2021-07-11, 2021-06-22, 2021-06-0...   \n",
       "18  [2020-02-26, 2020-01-30, 2020-01-14, 2020-01-1...   \n",
       "\n",
       "                                                  day  \\\n",
       "6   20 11 22 6 1 21 13 13 9 31 13 4 26 12 9 8 28 1...   \n",
       "18  26 30 14 13 27 18 11 29 10 29 8 19 23 14 13 31...   \n",
       "\n",
       "                                                month  \\\n",
       "6   [9, 7, 6, 6, 6, 5, 5, 5, 2, 12, 7, 6, 3, 3, 3,...   \n",
       "18  [2, 1, 1, 1, 12, 12, 10, 7, 5, 4, 4, 9, 8, 8, ...   \n",
       "\n",
       "                                                 year  tickers_  \\\n",
       "6   [2021, 2021, 2021, 2021, 2021, 2021, 2021, 202...       NaN   \n",
       "18  [2020, 2020, 2020, 2020, 2019, 2019, 2019, 201...  ['TSLA']   \n",
       "\n",
       "   tickers_count_  ... title_polarity  title_subjectivity  body_polarity  \\\n",
       "6              {}  ...       0.150482            0.439482       0.005088   \n",
       "18    {'TSLA': 1}  ...       0.109435            0.500867       0.031094   \n",
       "\n",
       "    body_subjectivity                                       title_tokens  \\\n",
       "6            0.490042  ['I', 'am', 'curious', 'how', 'much', 'do', 'y...   \n",
       "18           0.403637  ['What', 'happened', 'with', 'chines', 'ADR', ...   \n",
       "\n",
       "                                      selftext_tokens  polarity  \\\n",
       "6   ['[', 'removed', ']', '[', 'removed', ']', '['...   0.15557   \n",
       "18  ['It', 'looks', 'like', 'a', 'bug', 'on', 'yah...   0.14053   \n",
       "\n",
       "                                      years_count  \\\n",
       "6   {'2021': 9, '2020': 10, '2019': 2, '2018': 9}   \n",
       "18             {'2020': 4, '2019': 7, '2018': 12}   \n",
       "\n",
       "                                         months_count  \\\n",
       "6   {'9': 1, '7': 2, '6': 4, '5': 4, '2': 4, '12':...   \n",
       "18  {'2': 2, '1': 7, '12': 2, '10': 1, '7': 3, '5'...   \n",
       "\n",
       "                                          dates_count  \n",
       "6   {'2021-09-20': 1, '2021-07-11': 1, '2021-06-22...  \n",
       "18  {'2020-02-26': 1, '2020-01-30': 1, '2020-01-14...  \n",
       "\n",
       "[2 rows x 29 columns]"
      ]
     },
     "execution_count": 24,
     "metadata": {},
     "output_type": "execute_result"
    }
   ],
   "source": [
    "users_DD.head(2)"
   ]
  },
  {
   "cell_type": "code",
   "execution_count": 25,
   "metadata": {
    "colab": {
     "base_uri": "https://localhost:8080/",
     "height": 364
    },
    "executionInfo": {
     "elapsed": 430,
     "status": "ok",
     "timestamp": 1640704646876,
     "user": {
      "displayName": "Pratik Agrawal",
      "photoUrl": "https://lh3.googleusercontent.com/a-/AOh14Gic3zhpzr916Y01z_b2NkfIWMHKiBe-fVqe5bj-AA=s64",
      "userId": "07645729797073748393"
     },
     "user_tz": -60
    },
    "id": "C0UuABanGLcV",
    "outputId": "58613f4f-60ec-4e6d-ffe1-349668517784"
   },
   "outputs": [
    {
     "data": {
      "text/html": [
       "<div>\n",
       "<style scoped>\n",
       "    .dataframe tbody tr th:only-of-type {\n",
       "        vertical-align: middle;\n",
       "    }\n",
       "\n",
       "    .dataframe tbody tr th {\n",
       "        vertical-align: top;\n",
       "    }\n",
       "\n",
       "    .dataframe thead th {\n",
       "        text-align: right;\n",
       "    }\n",
       "</style>\n",
       "<table border=\"1\" class=\"dataframe\">\n",
       "  <thead>\n",
       "    <tr style=\"text-align: right;\">\n",
       "      <th></th>\n",
       "      <th>id</th>\n",
       "      <th>comments_mean</th>\n",
       "      <th>comments_sum</th>\n",
       "      <th>score_mean</th>\n",
       "      <th>score_sum</th>\n",
       "      <th>upvote_ratio_mean</th>\n",
       "      <th>upvote_ratio_sum</th>\n",
       "      <th>title_polarity</th>\n",
       "      <th>title_subjectivity</th>\n",
       "      <th>body_polarity</th>\n",
       "      <th>body_subjectivity</th>\n",
       "      <th>polarity</th>\n",
       "    </tr>\n",
       "  </thead>\n",
       "  <tbody>\n",
       "    <tr>\n",
       "      <th>count</th>\n",
       "      <td>45.000000</td>\n",
       "      <td>45.000000</td>\n",
       "      <td>45.000000</td>\n",
       "      <td>45.000000</td>\n",
       "      <td>45.000000</td>\n",
       "      <td>45.000000</td>\n",
       "      <td>45.000000</td>\n",
       "      <td>45.000000</td>\n",
       "      <td>45.000000</td>\n",
       "      <td>45.000000</td>\n",
       "      <td>45.000000</td>\n",
       "      <td>45.000000</td>\n",
       "    </tr>\n",
       "    <tr>\n",
       "      <th>mean</th>\n",
       "      <td>28.111111</td>\n",
       "      <td>35.025153</td>\n",
       "      <td>1373.355556</td>\n",
       "      <td>28.965056</td>\n",
       "      <td>1538.800000</td>\n",
       "      <td>0.110060</td>\n",
       "      <td>3.152444</td>\n",
       "      <td>0.133494</td>\n",
       "      <td>0.428966</td>\n",
       "      <td>0.083989</td>\n",
       "      <td>0.404208</td>\n",
       "      <td>0.217483</td>\n",
       "    </tr>\n",
       "    <tr>\n",
       "      <th>std</th>\n",
       "      <td>30.758755</td>\n",
       "      <td>31.965044</td>\n",
       "      <td>2935.517394</td>\n",
       "      <td>51.441536</td>\n",
       "      <td>4275.123819</td>\n",
       "      <td>0.148571</td>\n",
       "      <td>5.738795</td>\n",
       "      <td>0.135121</td>\n",
       "      <td>0.136624</td>\n",
       "      <td>0.062864</td>\n",
       "      <td>0.139004</td>\n",
       "      <td>0.158584</td>\n",
       "    </tr>\n",
       "    <tr>\n",
       "      <th>min</th>\n",
       "      <td>11.000000</td>\n",
       "      <td>0.000000</td>\n",
       "      <td>0.000000</td>\n",
       "      <td>1.000000</td>\n",
       "      <td>11.000000</td>\n",
       "      <td>0.000000</td>\n",
       "      <td>0.000000</td>\n",
       "      <td>-0.159322</td>\n",
       "      <td>0.000000</td>\n",
       "      <td>-0.093019</td>\n",
       "      <td>0.000000</td>\n",
       "      <td>-0.136289</td>\n",
       "    </tr>\n",
       "    <tr>\n",
       "      <th>25%</th>\n",
       "      <td>14.000000</td>\n",
       "      <td>11.780488</td>\n",
       "      <td>241.000000</td>\n",
       "      <td>2.281250</td>\n",
       "      <td>49.000000</td>\n",
       "      <td>0.000000</td>\n",
       "      <td>0.000000</td>\n",
       "      <td>0.039517</td>\n",
       "      <td>0.389489</td>\n",
       "      <td>0.047873</td>\n",
       "      <td>0.385301</td>\n",
       "      <td>0.107364</td>\n",
       "    </tr>\n",
       "    <tr>\n",
       "      <th>50%</th>\n",
       "      <td>20.000000</td>\n",
       "      <td>24.840000</td>\n",
       "      <td>475.000000</td>\n",
       "      <td>5.450000</td>\n",
       "      <td>109.000000</td>\n",
       "      <td>0.033333</td>\n",
       "      <td>1.000000</td>\n",
       "      <td>0.123422</td>\n",
       "      <td>0.443119</td>\n",
       "      <td>0.078849</td>\n",
       "      <td>0.434995</td>\n",
       "      <td>0.164386</td>\n",
       "    </tr>\n",
       "    <tr>\n",
       "      <th>75%</th>\n",
       "      <td>31.000000</td>\n",
       "      <td>46.222222</td>\n",
       "      <td>1248.000000</td>\n",
       "      <td>22.783333</td>\n",
       "      <td>681.000000</td>\n",
       "      <td>0.200000</td>\n",
       "      <td>3.000000</td>\n",
       "      <td>0.210074</td>\n",
       "      <td>0.473571</td>\n",
       "      <td>0.126753</td>\n",
       "      <td>0.474774</td>\n",
       "      <td>0.312641</td>\n",
       "    </tr>\n",
       "    <tr>\n",
       "      <th>max</th>\n",
       "      <td>204.000000</td>\n",
       "      <td>159.125000</td>\n",
       "      <td>14672.000000</td>\n",
       "      <td>235.659091</td>\n",
       "      <td>20738.000000</td>\n",
       "      <td>0.555556</td>\n",
       "      <td>31.300000</td>\n",
       "      <td>0.500000</td>\n",
       "      <td>0.900000</td>\n",
       "      <td>0.213261</td>\n",
       "      <td>0.612352</td>\n",
       "      <td>0.596595</td>\n",
       "    </tr>\n",
       "  </tbody>\n",
       "</table>\n",
       "</div>"
      ],
      "text/plain": [
       "               id  comments_mean  comments_sum  score_mean     score_sum  \\\n",
       "count   45.000000      45.000000     45.000000   45.000000     45.000000   \n",
       "mean    28.111111      35.025153   1373.355556   28.965056   1538.800000   \n",
       "std     30.758755      31.965044   2935.517394   51.441536   4275.123819   \n",
       "min     11.000000       0.000000      0.000000    1.000000     11.000000   \n",
       "25%     14.000000      11.780488    241.000000    2.281250     49.000000   \n",
       "50%     20.000000      24.840000    475.000000    5.450000    109.000000   \n",
       "75%     31.000000      46.222222   1248.000000   22.783333    681.000000   \n",
       "max    204.000000     159.125000  14672.000000  235.659091  20738.000000   \n",
       "\n",
       "       upvote_ratio_mean  upvote_ratio_sum  title_polarity  \\\n",
       "count          45.000000         45.000000       45.000000   \n",
       "mean            0.110060          3.152444        0.133494   \n",
       "std             0.148571          5.738795        0.135121   \n",
       "min             0.000000          0.000000       -0.159322   \n",
       "25%             0.000000          0.000000        0.039517   \n",
       "50%             0.033333          1.000000        0.123422   \n",
       "75%             0.200000          3.000000        0.210074   \n",
       "max             0.555556         31.300000        0.500000   \n",
       "\n",
       "       title_subjectivity  body_polarity  body_subjectivity   polarity  \n",
       "count           45.000000      45.000000          45.000000  45.000000  \n",
       "mean             0.428966       0.083989           0.404208   0.217483  \n",
       "std              0.136624       0.062864           0.139004   0.158584  \n",
       "min              0.000000      -0.093019           0.000000  -0.136289  \n",
       "25%              0.389489       0.047873           0.385301   0.107364  \n",
       "50%              0.443119       0.078849           0.434995   0.164386  \n",
       "75%              0.473571       0.126753           0.474774   0.312641  \n",
       "max              0.900000       0.213261           0.612352   0.596595  "
      ]
     },
     "execution_count": 25,
     "metadata": {},
     "output_type": "execute_result"
    }
   ],
   "source": [
    "users_DD.describe()"
   ]
  },
  {
   "cell_type": "code",
   "execution_count": 28,
   "metadata": {
    "colab": {
     "base_uri": "https://localhost:8080/"
    },
    "executionInfo": {
     "elapsed": 415,
     "status": "ok",
     "timestamp": 1640704651777,
     "user": {
      "displayName": "Pratik Agrawal",
      "photoUrl": "https://lh3.googleusercontent.com/a-/AOh14Gic3zhpzr916Y01z_b2NkfIWMHKiBe-fVqe5bj-AA=s64",
      "userId": "07645729797073748393"
     },
     "user_tz": -60
    },
    "id": "rdx9LEp2G3Tq",
    "outputId": "7d0ca635-494b-4bba-c263-dbc0ffe832d7"
   },
   "outputs": [
    {
     "name": "stdout",
     "output_type": "stream",
     "text": [
      "<class 'pandas.core.frame.DataFrame'>\n",
      "Int64Index: 19 entries, 18 to 626\n",
      "Data columns (total 29 columns):\n",
      " #   Column              Non-Null Count  Dtype  \n",
      "---  ------              --------------  -----  \n",
      " 0   author              19 non-null     object \n",
      " 1   id                  19 non-null     int64  \n",
      " 2   title               19 non-null     object \n",
      " 3   selftext            19 non-null     object \n",
      " 4   date                19 non-null     object \n",
      " 5   day                 19 non-null     object \n",
      " 6   month               19 non-null     object \n",
      " 7   year                19 non-null     object \n",
      " 8   tickers_            4 non-null      object \n",
      " 9   tickers_count_      19 non-null     object \n",
      " 10  link_flair_text     19 non-null     object \n",
      " 11  comments_mean       19 non-null     float64\n",
      " 12  comments_sum        19 non-null     int64  \n",
      " 13  score_mean          19 non-null     float64\n",
      " 14  score_sum           19 non-null     int64  \n",
      " 15  upvote_ratio_mean   19 non-null     float64\n",
      " 16  upvote_ratio_sum    19 non-null     float64\n",
      " 17  flairs              19 non-null     object \n",
      " 18  flairs_count        19 non-null     object \n",
      " 19  title_polarity      19 non-null     float64\n",
      " 20  title_subjectivity  19 non-null     float64\n",
      " 21  body_polarity       19 non-null     float64\n",
      " 22  body_subjectivity   19 non-null     float64\n",
      " 23  title_tokens        19 non-null     object \n",
      " 24  selftext_tokens     19 non-null     object \n",
      " 25  polarity            19 non-null     float64\n",
      " 26  years_count         19 non-null     object \n",
      " 27  months_count        19 non-null     object \n",
      " 28  dates_count         19 non-null     object \n",
      "dtypes: float64(9), int64(3), object(17)\n",
      "memory usage: 4.5+ KB\n"
     ]
    }
   ],
   "source": [
    "users_DD_top = users_DD[users_DD['score_mean'] > 10]\n",
    "users_DD_top.info()"
   ]
  },
  {
   "cell_type": "code",
   "execution_count": 29,
   "metadata": {
    "executionInfo": {
     "elapsed": 2465,
     "status": "ok",
     "timestamp": 1640704668067,
     "user": {
      "displayName": "Pratik Agrawal",
      "photoUrl": "https://lh3.googleusercontent.com/a-/AOh14Gic3zhpzr916Y01z_b2NkfIWMHKiBe-fVqe5bj-AA=s64",
      "userId": "07645729797073748393"
     },
     "user_tz": -60
    },
    "id": "lo4QzvqeH2jj"
   },
   "outputs": [],
   "source": [
    "users_DD.to_csv(\"data/investing_users_DD.csv\",sep=';')"
   ]
  },
  {
   "cell_type": "markdown",
   "metadata": {
    "id": "8op-ogrT5zuO"
   },
   "source": [
    "## Can we rank the users according to their expertise?"
   ]
  },
  {
   "cell_type": "code",
   "execution_count": 30,
   "metadata": {
    "colab": {
     "base_uri": "https://localhost:8080/",
     "height": 1000
    },
    "executionInfo": {
     "elapsed": 443,
     "status": "ok",
     "timestamp": 1640704672593,
     "user": {
      "displayName": "Pratik Agrawal",
      "photoUrl": "https://lh3.googleusercontent.com/a-/AOh14Gic3zhpzr916Y01z_b2NkfIWMHKiBe-fVqe5bj-AA=s64",
      "userId": "07645729797073748393"
     },
     "user_tz": -60
    },
    "id": "VdHUTdNU6Ot3",
    "outputId": "53120d35-5360-4452-dca8-8779942c0243"
   },
   "outputs": [
    {
     "data": {
      "text/html": [
       "<div>\n",
       "<style scoped>\n",
       "    .dataframe tbody tr th:only-of-type {\n",
       "        vertical-align: middle;\n",
       "    }\n",
       "\n",
       "    .dataframe tbody tr th {\n",
       "        vertical-align: top;\n",
       "    }\n",
       "\n",
       "    .dataframe thead th {\n",
       "        text-align: right;\n",
       "    }\n",
       "</style>\n",
       "<table border=\"1\" class=\"dataframe\">\n",
       "  <thead>\n",
       "    <tr style=\"text-align: right;\">\n",
       "      <th></th>\n",
       "      <th>author</th>\n",
       "      <th>id</th>\n",
       "      <th>title</th>\n",
       "      <th>selftext</th>\n",
       "      <th>date</th>\n",
       "      <th>day</th>\n",
       "      <th>month</th>\n",
       "      <th>year</th>\n",
       "      <th>tickers_</th>\n",
       "      <th>tickers_count_</th>\n",
       "      <th>...</th>\n",
       "      <th>title_polarity</th>\n",
       "      <th>title_subjectivity</th>\n",
       "      <th>body_polarity</th>\n",
       "      <th>body_subjectivity</th>\n",
       "      <th>title_tokens</th>\n",
       "      <th>selftext_tokens</th>\n",
       "      <th>polarity</th>\n",
       "      <th>years_count</th>\n",
       "      <th>months_count</th>\n",
       "      <th>dates_count</th>\n",
       "    </tr>\n",
       "  </thead>\n",
       "  <tbody>\n",
       "    <tr>\n",
       "      <th>65</th>\n",
       "      <td>ChocolateTsar</td>\n",
       "      <td>88</td>\n",
       "      <td>Amazon to stop accepting Visa credit cards iss...</td>\n",
       "      <td>&amp;gt;**KEY POINTS**  \\n&amp;gt;  \\n&amp;gt;**Amazon has...</td>\n",
       "      <td>[2021-11-17, 2021-11-09, 2021-10-28, 2021-10-1...</td>\n",
       "      <td>17 9 28 11 27 23 30 25 22 5 14 29 28 16 15 13 ...</td>\n",
       "      <td>[11, 11, 10, 10, 8, 8, 6, 6, 6, 5, 4, 1, 1, 1,...</td>\n",
       "      <td>[2021, 2021, 2021, 2021, 2021, 2021, 2021, 202...</td>\n",
       "      <td>NaN</td>\n",
       "      <td>{}</td>\n",
       "      <td>...</td>\n",
       "      <td>0.039517</td>\n",
       "      <td>0.386575</td>\n",
       "      <td>0.068774</td>\n",
       "      <td>0.393855</td>\n",
       "      <td>['Amazon', 'to', 'stop', 'accepting', 'Visa', ...</td>\n",
       "      <td>['&amp;', 'gt;**KEY', 'POINTS', '*', '*', ' \\n', '...</td>\n",
       "      <td>0.108291</td>\n",
       "      <td>{'2021': 17, '2020': 41, '2019': 21, '2018': 9}</td>\n",
       "      <td>{'11': 7, '10': 7, '8': 6, '6': 7, '5': 5, '4'...</td>\n",
       "      <td>{'2021-11-17': 1, '2021-11-09': 1, '2021-10-28...</td>\n",
       "    </tr>\n",
       "    <tr>\n",
       "      <th>286</th>\n",
       "      <td>Wagamaga</td>\n",
       "      <td>31</td>\n",
       "      <td>Gold likely to bounce back to $1,320 an ounce ...</td>\n",
       "      <td>https://www.scrapregister.com/news/45285/gold-...</td>\n",
       "      <td>[2018-10-15, 2018-10-13, 2018-08-31, 2018-07-2...</td>\n",
       "      <td>15 13 31 29 1 27 25 22 17 16 15 13 8 2 25 15 1...</td>\n",
       "      <td>[10, 10, 8, 7, 7, 6, 6, 5, 5, 5, 5, 5, 5, 5, 4...</td>\n",
       "      <td>[2018, 2018, 2018, 2018, 2018, 2018, 2018, 201...</td>\n",
       "      <td>NaN</td>\n",
       "      <td>{}</td>\n",
       "      <td>...</td>\n",
       "      <td>0.097541</td>\n",
       "      <td>0.458785</td>\n",
       "      <td>0.000000</td>\n",
       "      <td>0.000000</td>\n",
       "      <td>['Gold', 'likely', 'to', 'bounce', 'back', 'to...</td>\n",
       "      <td>['https://www.scrapregister.com/news/45285/gol...</td>\n",
       "      <td>0.097541</td>\n",
       "      <td>{'2018': 31}</td>\n",
       "      <td>{'10': 2, '8': 1, '7': 2, '6': 2, '5': 7, '4':...</td>\n",
       "      <td>{'2018-10-15': 1, '2018-10-13': 1, '2018-08-31...</td>\n",
       "    </tr>\n",
       "    <tr>\n",
       "      <th>113</th>\n",
       "      <td>GoldMEng</td>\n",
       "      <td>54</td>\n",
       "      <td>Facebook CEO Mark Zuckerberg stands his ground...</td>\n",
       "      <td>https://twitter.com/CNN/status/106503631561866...</td>\n",
       "      <td>[2018-11-21, 2018-10-31, 2018-10-31, 2018-10-2...</td>\n",
       "      <td>21 31 31 26 10 5 4 3 3 1 1 29 27 26 25 23 21 7...</td>\n",
       "      <td>[11, 10, 10, 10, 10, 10, 10, 10, 10, 10, 10, 9...</td>\n",
       "      <td>[2018, 2018, 2018, 2018, 2018, 2018, 2018, 201...</td>\n",
       "      <td>['GE', 'WAB']</td>\n",
       "      <td>{'GE': 1, 'WAB': 1}</td>\n",
       "      <td>...</td>\n",
       "      <td>0.056128</td>\n",
       "      <td>0.389489</td>\n",
       "      <td>0.000000</td>\n",
       "      <td>0.000000</td>\n",
       "      <td>['Facebook', 'CEO', 'Mark', 'Zuckerberg', 'sta...</td>\n",
       "      <td>['https://twitter.com/CNN/status/1065036315618...</td>\n",
       "      <td>0.056128</td>\n",
       "      <td>{'2018': 54}</td>\n",
       "      <td>{'11': 1, '10': 10, '9': 7, '8': 2, '7': 4, '6...</td>\n",
       "      <td>{'2018-11-21': 1, '2018-10-31': 2, '2018-10-26...</td>\n",
       "    </tr>\n",
       "    <tr>\n",
       "      <th>623</th>\n",
       "      <td>warrenfgerald</td>\n",
       "      <td>20</td>\n",
       "      <td>If people were angry when brokers halted GME b...</td>\n",
       "      <td>I was just listening to a podcast with an inve...</td>\n",
       "      <td>[2021-11-14, 2021-08-02, 2021-04-09, 2021-01-0...</td>\n",
       "      <td>14 2 9 8 28 12 13 27 25 19 27 22 28 11 7 2 9 7...</td>\n",
       "      <td>[11, 8, 4, 1, 4, 3, 12, 11, 7, 7, 6, 5, 4, 4, ...</td>\n",
       "      <td>[2021, 2021, 2021, 2021, 2020, 2020, 2019, 201...</td>\n",
       "      <td>NaN</td>\n",
       "      <td>{}</td>\n",
       "      <td>...</td>\n",
       "      <td>-0.075540</td>\n",
       "      <td>0.420886</td>\n",
       "      <td>0.061777</td>\n",
       "      <td>0.454891</td>\n",
       "      <td>['If', 'people', 'were', 'angry', 'when', 'bro...</td>\n",
       "      <td>['I', 'was', 'just', 'listening', 'to', 'a', '...</td>\n",
       "      <td>-0.013763</td>\n",
       "      <td>{'2021': 4, '2020': 2, '2019': 1, '2018': 13}</td>\n",
       "      <td>{'11': 2, '8': 1, '4': 6, '1': 2, '3': 1, '12'...</td>\n",
       "      <td>{'2021-11-14': 1, '2021-08-02': 1, '2021-04-09...</td>\n",
       "    </tr>\n",
       "    <tr>\n",
       "      <th>156</th>\n",
       "      <td>Lost_in_Adeles_Rolls</td>\n",
       "      <td>42</td>\n",
       "      <td>Performance Update for Passive Investors who o...</td>\n",
       "      <td>[removed] [removed]  [https://www.businessinsi...</td>\n",
       "      <td>[2020-12-21, 2020-06-12, 2020-03-18, 2020-03-1...</td>\n",
       "      <td>21 12 18 18 11 6 26 24 22 29 28 19 19 15 3 26 ...</td>\n",
       "      <td>[12, 6, 3, 3, 9, 9, 8, 8, 5, 4, 4, 4, 4, 4, 4,...</td>\n",
       "      <td>[2020, 2020, 2020, 2020, 2019, 2019, 2019, 201...</td>\n",
       "      <td>NaN</td>\n",
       "      <td>{}</td>\n",
       "      <td>...</td>\n",
       "      <td>0.020241</td>\n",
       "      <td>0.296416</td>\n",
       "      <td>0.066598</td>\n",
       "      <td>0.381167</td>\n",
       "      <td>['Performance', 'Update', 'for', 'Passive', 'I...</td>\n",
       "      <td>['[', 'removed', ']', '[', 'removed', ']', ' '...</td>\n",
       "      <td>0.086839</td>\n",
       "      <td>{'2020': 4, '2019': 19, '2018': 19}</td>\n",
       "      <td>{'12': 2, '6': 3, '3': 6, '9': 7, '8': 6, '5':...</td>\n",
       "      <td>{'2020-12-21': 1, '2020-06-12': 1, '2020-03-18...</td>\n",
       "    </tr>\n",
       "  </tbody>\n",
       "</table>\n",
       "<p>5 rows × 29 columns</p>\n",
       "</div>"
      ],
      "text/plain": [
       "                   author  id  \\\n",
       "65          ChocolateTsar  88   \n",
       "286              Wagamaga  31   \n",
       "113              GoldMEng  54   \n",
       "623         warrenfgerald  20   \n",
       "156  Lost_in_Adeles_Rolls  42   \n",
       "\n",
       "                                                 title  \\\n",
       "65   Amazon to stop accepting Visa credit cards iss...   \n",
       "286  Gold likely to bounce back to $1,320 an ounce ...   \n",
       "113  Facebook CEO Mark Zuckerberg stands his ground...   \n",
       "623  If people were angry when brokers halted GME b...   \n",
       "156  Performance Update for Passive Investors who o...   \n",
       "\n",
       "                                              selftext  \\\n",
       "65   &gt;**KEY POINTS**  \\n&gt;  \\n&gt;**Amazon has...   \n",
       "286  https://www.scrapregister.com/news/45285/gold-...   \n",
       "113  https://twitter.com/CNN/status/106503631561866...   \n",
       "623  I was just listening to a podcast with an inve...   \n",
       "156  [removed] [removed]  [https://www.businessinsi...   \n",
       "\n",
       "                                                  date  \\\n",
       "65   [2021-11-17, 2021-11-09, 2021-10-28, 2021-10-1...   \n",
       "286  [2018-10-15, 2018-10-13, 2018-08-31, 2018-07-2...   \n",
       "113  [2018-11-21, 2018-10-31, 2018-10-31, 2018-10-2...   \n",
       "623  [2021-11-14, 2021-08-02, 2021-04-09, 2021-01-0...   \n",
       "156  [2020-12-21, 2020-06-12, 2020-03-18, 2020-03-1...   \n",
       "\n",
       "                                                   day  \\\n",
       "65   17 9 28 11 27 23 30 25 22 5 14 29 28 16 15 13 ...   \n",
       "286  15 13 31 29 1 27 25 22 17 16 15 13 8 2 25 15 1...   \n",
       "113  21 31 31 26 10 5 4 3 3 1 1 29 27 26 25 23 21 7...   \n",
       "623  14 2 9 8 28 12 13 27 25 19 27 22 28 11 7 2 9 7...   \n",
       "156  21 12 18 18 11 6 26 24 22 29 28 19 19 15 3 26 ...   \n",
       "\n",
       "                                                 month  \\\n",
       "65   [11, 11, 10, 10, 8, 8, 6, 6, 6, 5, 4, 1, 1, 1,...   \n",
       "286  [10, 10, 8, 7, 7, 6, 6, 5, 5, 5, 5, 5, 5, 5, 4...   \n",
       "113  [11, 10, 10, 10, 10, 10, 10, 10, 10, 10, 10, 9...   \n",
       "623  [11, 8, 4, 1, 4, 3, 12, 11, 7, 7, 6, 5, 4, 4, ...   \n",
       "156  [12, 6, 3, 3, 9, 9, 8, 8, 5, 4, 4, 4, 4, 4, 4,...   \n",
       "\n",
       "                                                  year       tickers_  \\\n",
       "65   [2021, 2021, 2021, 2021, 2021, 2021, 2021, 202...            NaN   \n",
       "286  [2018, 2018, 2018, 2018, 2018, 2018, 2018, 201...            NaN   \n",
       "113  [2018, 2018, 2018, 2018, 2018, 2018, 2018, 201...  ['GE', 'WAB']   \n",
       "623  [2021, 2021, 2021, 2021, 2020, 2020, 2019, 201...            NaN   \n",
       "156  [2020, 2020, 2020, 2020, 2019, 2019, 2019, 201...            NaN   \n",
       "\n",
       "          tickers_count_  ... title_polarity  title_subjectivity  \\\n",
       "65                    {}  ...       0.039517            0.386575   \n",
       "286                   {}  ...       0.097541            0.458785   \n",
       "113  {'GE': 1, 'WAB': 1}  ...       0.056128            0.389489   \n",
       "623                   {}  ...      -0.075540            0.420886   \n",
       "156                   {}  ...       0.020241            0.296416   \n",
       "\n",
       "     body_polarity  body_subjectivity  \\\n",
       "65        0.068774           0.393855   \n",
       "286       0.000000           0.000000   \n",
       "113       0.000000           0.000000   \n",
       "623       0.061777           0.454891   \n",
       "156       0.066598           0.381167   \n",
       "\n",
       "                                          title_tokens  \\\n",
       "65   ['Amazon', 'to', 'stop', 'accepting', 'Visa', ...   \n",
       "286  ['Gold', 'likely', 'to', 'bounce', 'back', 'to...   \n",
       "113  ['Facebook', 'CEO', 'Mark', 'Zuckerberg', 'sta...   \n",
       "623  ['If', 'people', 'were', 'angry', 'when', 'bro...   \n",
       "156  ['Performance', 'Update', 'for', 'Passive', 'I...   \n",
       "\n",
       "                                       selftext_tokens  polarity  \\\n",
       "65   ['&', 'gt;**KEY', 'POINTS', '*', '*', ' \\n', '...  0.108291   \n",
       "286  ['https://www.scrapregister.com/news/45285/gol...  0.097541   \n",
       "113  ['https://twitter.com/CNN/status/1065036315618...  0.056128   \n",
       "623  ['I', 'was', 'just', 'listening', 'to', 'a', '... -0.013763   \n",
       "156  ['[', 'removed', ']', '[', 'removed', ']', ' '...  0.086839   \n",
       "\n",
       "                                         years_count  \\\n",
       "65   {'2021': 17, '2020': 41, '2019': 21, '2018': 9}   \n",
       "286                                     {'2018': 31}   \n",
       "113                                     {'2018': 54}   \n",
       "623    {'2021': 4, '2020': 2, '2019': 1, '2018': 13}   \n",
       "156              {'2020': 4, '2019': 19, '2018': 19}   \n",
       "\n",
       "                                          months_count  \\\n",
       "65   {'11': 7, '10': 7, '8': 6, '6': 7, '5': 5, '4'...   \n",
       "286  {'10': 2, '8': 1, '7': 2, '6': 2, '5': 7, '4':...   \n",
       "113  {'11': 1, '10': 10, '9': 7, '8': 2, '7': 4, '6...   \n",
       "623  {'11': 2, '8': 1, '4': 6, '1': 2, '3': 1, '12'...   \n",
       "156  {'12': 2, '6': 3, '3': 6, '9': 7, '8': 6, '5':...   \n",
       "\n",
       "                                           dates_count  \n",
       "65   {'2021-11-17': 1, '2021-11-09': 1, '2021-10-28...  \n",
       "286  {'2018-10-15': 1, '2018-10-13': 1, '2018-08-31...  \n",
       "113  {'2018-11-21': 1, '2018-10-31': 2, '2018-10-26...  \n",
       "623  {'2021-11-14': 1, '2021-08-02': 1, '2021-04-09...  \n",
       "156  {'2020-12-21': 1, '2020-06-12': 1, '2020-03-18...  \n",
       "\n",
       "[5 rows x 29 columns]"
      ]
     },
     "execution_count": 30,
     "metadata": {},
     "output_type": "execute_result"
    }
   ],
   "source": [
    "## rank users based on upvote ratio, num_comments etc.\n",
    "## order by score_mean \n",
    "users_DD = users_DD.sort_values(by=['score_mean'],ascending=False)\n",
    "users_DD.head()"
   ]
  },
  {
   "cell_type": "markdown",
   "metadata": {
    "id": "KFJYspNi544N"
   },
   "source": [
    "## Are the same users active in the other reviewed subreddits?"
   ]
  },
  {
   "cell_type": "code",
   "execution_count": null,
   "metadata": {
    "id": "nA2eLGEn6Xlk"
   },
   "outputs": [],
   "source": [
    "## compare users with investing and stocks\n",
    "\n",
    "# intersect top users of all three subreddits to find common users"
   ]
  }
 ],
 "metadata": {
  "colab": {
   "collapsed_sections": [],
   "name": "User-based analysis-Stocks_part-3.ipynb",
   "provenance": [
    {
     "file_id": "1nV-h_T7SdjJr-ZQ4ODv1oYydaIxbawAz",
     "timestamp": 1640700549793
    },
    {
     "file_id": "1tWgDXImEmVKdZ5V7p3KuL8GmSyLwdNw1",
     "timestamp": 1640539860022
    },
    {
     "file_id": "1S4BKDeLv9XQyDqK0ymyeCK1TdT8yb3BZ",
     "timestamp": 1640455382140
    },
    {
     "file_id": "1JAOnkijfCvj4DjFf8mWQ6DY0YvXgE1vW",
     "timestamp": 1640351633273
    },
    {
     "file_id": "16GiqDC3SxhPXfI9mRbxciRJXfjC7fIy8",
     "timestamp": 1639319709388
    }
   ]
  },
  "kernelspec": {
   "display_name": "Python 3",
   "language": "python",
   "name": "python3"
  },
  "language_info": {
   "codemirror_mode": {
    "name": "ipython",
    "version": 3
   },
   "file_extension": ".py",
   "mimetype": "text/x-python",
   "name": "python",
   "nbconvert_exporter": "python",
   "pygments_lexer": "ipython3",
   "version": "3.7.4"
  }
 },
 "nbformat": 4,
 "nbformat_minor": 4
}
