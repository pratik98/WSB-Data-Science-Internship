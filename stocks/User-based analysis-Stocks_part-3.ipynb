{
 "cells": [
  {
   "cell_type": "code",
   "execution_count": 1,
   "metadata": {
    "executionInfo": {
     "elapsed": 377,
     "status": "ok",
     "timestamp": 1640704369382,
     "user": {
      "displayName": "Pratik Agrawal",
      "photoUrl": "https://lh3.googleusercontent.com/a-/AOh14Gic3zhpzr916Y01z_b2NkfIWMHKiBe-fVqe5bj-AA=s64",
      "userId": "07645729797073748393"
     },
     "user_tz": -60
    },
    "id": "EFsMPfS_EMIS"
   },
   "outputs": [
    {
     "name": "stderr",
     "output_type": "stream",
     "text": [
      "In C:\\Users\\96ank\\AppData\\Local\\Continuum\\anaconda3\\lib\\site-packages\\matplotlib\\mpl-data\\stylelib\\_classic_test.mplstyle: \n",
      "The text.latex.preview rcparam was deprecated in Matplotlib 3.3 and will be removed two minor releases later.\n",
      "In C:\\Users\\96ank\\AppData\\Local\\Continuum\\anaconda3\\lib\\site-packages\\matplotlib\\mpl-data\\stylelib\\_classic_test.mplstyle: \n",
      "The mathtext.fallback_to_cm rcparam was deprecated in Matplotlib 3.3 and will be removed two minor releases later.\n",
      "In C:\\Users\\96ank\\AppData\\Local\\Continuum\\anaconda3\\lib\\site-packages\\matplotlib\\mpl-data\\stylelib\\_classic_test.mplstyle: Support for setting the 'mathtext.fallback_to_cm' rcParam is deprecated since 3.3 and will be removed two minor releases later; use 'mathtext.fallback : 'cm' instead.\n",
      "In C:\\Users\\96ank\\AppData\\Local\\Continuum\\anaconda3\\lib\\site-packages\\matplotlib\\mpl-data\\stylelib\\_classic_test.mplstyle: \n",
      "The validate_bool_maybe_none function was deprecated in Matplotlib 3.3 and will be removed two minor releases later.\n",
      "In C:\\Users\\96ank\\AppData\\Local\\Continuum\\anaconda3\\lib\\site-packages\\matplotlib\\mpl-data\\stylelib\\_classic_test.mplstyle: \n",
      "The savefig.jpeg_quality rcparam was deprecated in Matplotlib 3.3 and will be removed two minor releases later.\n",
      "In C:\\Users\\96ank\\AppData\\Local\\Continuum\\anaconda3\\lib\\site-packages\\matplotlib\\mpl-data\\stylelib\\_classic_test.mplstyle: \n",
      "The keymap.all_axes rcparam was deprecated in Matplotlib 3.3 and will be removed two minor releases later.\n",
      "In C:\\Users\\96ank\\AppData\\Local\\Continuum\\anaconda3\\lib\\site-packages\\matplotlib\\mpl-data\\stylelib\\_classic_test.mplstyle: \n",
      "The animation.avconv_path rcparam was deprecated in Matplotlib 3.3 and will be removed two minor releases later.\n",
      "In C:\\Users\\96ank\\AppData\\Local\\Continuum\\anaconda3\\lib\\site-packages\\matplotlib\\mpl-data\\stylelib\\_classic_test.mplstyle: \n",
      "The animation.avconv_args rcparam was deprecated in Matplotlib 3.3 and will be removed two minor releases later.\n"
     ]
    }
   ],
   "source": [
    "from datetime import datetime\n",
    "import matplotlib.pyplot as plt\n",
    "import numpy as np\n",
    "import pandas as pd\n",
    "\n",
    "plt.rcParams.update({\"font.size\": 12})\n",
    "%matplotlib inline"
   ]
  },
  {
   "cell_type": "code",
   "execution_count": null,
   "metadata": {
    "colab": {
     "base_uri": "https://localhost:8080/"
    },
    "executionInfo": {
     "elapsed": 40963,
     "status": "ok",
     "timestamp": 1640704428136,
     "user": {
      "displayName": "Pratik Agrawal",
      "photoUrl": "https://lh3.googleusercontent.com/a-/AOh14Gic3zhpzr916Y01z_b2NkfIWMHKiBe-fVqe5bj-AA=s64",
      "userId": "07645729797073748393"
     },
     "user_tz": -60
    },
    "id": "Pi260KEuFIaU",
    "outputId": "3567db84-ba55-4e22-e30f-848b3b0d30b9"
   },
   "outputs": [],
   "source": [
    "!pip3 install flair"
   ]
  },
  {
   "cell_type": "code",
   "execution_count": 3,
   "metadata": {
    "colab": {
     "base_uri": "https://localhost:8080/"
    },
    "executionInfo": {
     "elapsed": 30071,
     "status": "ok",
     "timestamp": 1640704458166,
     "user": {
      "displayName": "Pratik Agrawal",
      "photoUrl": "https://lh3.googleusercontent.com/a-/AOh14Gic3zhpzr916Y01z_b2NkfIWMHKiBe-fVqe5bj-AA=s64",
      "userId": "07645729797073748393"
     },
     "user_tz": -60
    },
    "id": "9XhOwkucFd76",
    "outputId": "9dd17eae-6a08-47ac-8c40-e5a877b5e6bb"
   },
   "outputs": [
    {
     "name": "stdout",
     "output_type": "stream",
     "text": [
      "Mounted at /content/drive\n"
     ]
    }
   ],
   "source": [
    "from google.colab import drive\n",
    "drive.mount('/content/drive')"
   ]
  },
  {
   "cell_type": "code",
   "execution_count": 2,
   "metadata": {
    "colab": {
     "base_uri": "https://localhost:8080/",
     "height": 370
    },
    "executionInfo": {
     "elapsed": 2682,
     "status": "ok",
     "timestamp": 1640704470744,
     "user": {
      "displayName": "Pratik Agrawal",
      "photoUrl": "https://lh3.googleusercontent.com/a-/AOh14Gic3zhpzr916Y01z_b2NkfIWMHKiBe-fVqe5bj-AA=s64",
      "userId": "07645729797073748393"
     },
     "user_tz": -60
    },
    "id": "oV_-RBEFFRB_",
    "outputId": "ba020d5d-dd01-4deb-8dcb-0d8f15615ced"
   },
   "outputs": [
    {
     "data": {
      "text/html": [
       "<div>\n",
       "<style scoped>\n",
       "    .dataframe tbody tr th:only-of-type {\n",
       "        vertical-align: middle;\n",
       "    }\n",
       "\n",
       "    .dataframe tbody tr th {\n",
       "        vertical-align: top;\n",
       "    }\n",
       "\n",
       "    .dataframe thead th {\n",
       "        text-align: right;\n",
       "    }\n",
       "</style>\n",
       "<table border=\"1\" class=\"dataframe\">\n",
       "  <thead>\n",
       "    <tr style=\"text-align: right;\">\n",
       "      <th></th>\n",
       "      <th>Unnamed: 0</th>\n",
       "      <th>author</th>\n",
       "      <th>id</th>\n",
       "      <th>title</th>\n",
       "      <th>selftext</th>\n",
       "      <th>date</th>\n",
       "      <th>day</th>\n",
       "      <th>month</th>\n",
       "      <th>year</th>\n",
       "      <th>tickers_</th>\n",
       "      <th>...</th>\n",
       "      <th>title_polarity</th>\n",
       "      <th>title_subjectivity</th>\n",
       "      <th>body_polarity</th>\n",
       "      <th>body_subjectivity</th>\n",
       "      <th>title_tokens</th>\n",
       "      <th>selftext_tokens</th>\n",
       "      <th>polarity</th>\n",
       "      <th>years_count</th>\n",
       "      <th>months_count</th>\n",
       "      <th>dates_count</th>\n",
       "    </tr>\n",
       "  </thead>\n",
       "  <tbody>\n",
       "    <tr>\n",
       "      <th>984</th>\n",
       "      <td>984</td>\n",
       "      <td>zeroskater45</td>\n",
       "      <td>16</td>\n",
       "      <td>Beyond Meat Cash Flow Issue? What is your favo...</td>\n",
       "      <td>Hi,\\n\\nI noticed beyond meat has been a fairly...</td>\n",
       "      <td>['2020-12-28', '2020-12-04', '2020-12-01', '20...</td>\n",
       "      <td>28 4 1 3 10 9 8 1 28 20 20 29 18 27 26 25</td>\n",
       "      <td>['12', '12', '12', '9', '7', '5', '5', '5', '4...</td>\n",
       "      <td>['2020', '2020', '2020', '2020', '2020', '2020...</td>\n",
       "      <td>NaN</td>\n",
       "      <td>...</td>\n",
       "      <td>0.336443</td>\n",
       "      <td>0.457257</td>\n",
       "      <td>0.234165</td>\n",
       "      <td>0.509774</td>\n",
       "      <td>['Beyond', 'Meat', 'Cash', 'Flow', 'Issue', '?...</td>\n",
       "      <td>['Hi', ',', '\\n\\n', 'I', 'noticed', 'beyond', ...</td>\n",
       "      <td>0.570608</td>\n",
       "      <td>{'2020': 16}</td>\n",
       "      <td>{'12': 3, '9': 1, '7': 1, '5': 3, '4': 3, '3':...</td>\n",
       "      <td>{'2020-12-28': 1, '2020-12-04': 1, '2020-12-01...</td>\n",
       "    </tr>\n",
       "  </tbody>\n",
       "</table>\n",
       "<p>1 rows × 30 columns</p>\n",
       "</div>"
      ],
      "text/plain": [
       "     Unnamed: 0        author  id  \\\n",
       "984         984  zeroskater45  16   \n",
       "\n",
       "                                                 title  \\\n",
       "984  Beyond Meat Cash Flow Issue? What is your favo...   \n",
       "\n",
       "                                              selftext  \\\n",
       "984  Hi,\\n\\nI noticed beyond meat has been a fairly...   \n",
       "\n",
       "                                                  date  \\\n",
       "984  ['2020-12-28', '2020-12-04', '2020-12-01', '20...   \n",
       "\n",
       "                                           day  \\\n",
       "984  28 4 1 3 10 9 8 1 28 20 20 29 18 27 26 25   \n",
       "\n",
       "                                                 month  \\\n",
       "984  ['12', '12', '12', '9', '7', '5', '5', '5', '4...   \n",
       "\n",
       "                                                  year tickers_  ...  \\\n",
       "984  ['2020', '2020', '2020', '2020', '2020', '2020...      NaN  ...   \n",
       "\n",
       "    title_polarity title_subjectivity  body_polarity  body_subjectivity  \\\n",
       "984       0.336443           0.457257       0.234165           0.509774   \n",
       "\n",
       "                                          title_tokens  \\\n",
       "984  ['Beyond', 'Meat', 'Cash', 'Flow', 'Issue', '?...   \n",
       "\n",
       "                                       selftext_tokens  polarity  \\\n",
       "984  ['Hi', ',', '\\n\\n', 'I', 'noticed', 'beyond', ...  0.570608   \n",
       "\n",
       "      years_count                                       months_count  \\\n",
       "984  {'2020': 16}  {'12': 3, '9': 1, '7': 1, '5': 3, '4': 3, '3':...   \n",
       "\n",
       "                                           dates_count  \n",
       "984  {'2020-12-28': 1, '2020-12-04': 1, '2020-12-01...  \n",
       "\n",
       "[1 rows x 30 columns]"
      ]
     },
     "execution_count": 2,
     "metadata": {},
     "output_type": "execute_result"
    }
   ],
   "source": [
    "df = pd.read_csv(\"data/stocks_top_users_features.csv\", sep=\";\")\n",
    "df.tail(1)"
   ]
  },
  {
   "cell_type": "code",
   "execution_count": 3,
   "metadata": {},
   "outputs": [
    {
     "data": {
      "text/html": [
       "<div>\n",
       "<style scoped>\n",
       "    .dataframe tbody tr th:only-of-type {\n",
       "        vertical-align: middle;\n",
       "    }\n",
       "\n",
       "    .dataframe tbody tr th {\n",
       "        vertical-align: top;\n",
       "    }\n",
       "\n",
       "    .dataframe thead th {\n",
       "        text-align: right;\n",
       "    }\n",
       "</style>\n",
       "<table border=\"1\" class=\"dataframe\">\n",
       "  <thead>\n",
       "    <tr style=\"text-align: right;\">\n",
       "      <th></th>\n",
       "      <th>Unnamed: 0</th>\n",
       "      <th>id</th>\n",
       "      <th>comments_mean</th>\n",
       "      <th>comments_sum</th>\n",
       "      <th>score_mean</th>\n",
       "      <th>score_sum</th>\n",
       "      <th>upvote_ratio_mean</th>\n",
       "      <th>upvote_ratio_sum</th>\n",
       "      <th>title_polarity</th>\n",
       "      <th>title_subjectivity</th>\n",
       "      <th>body_polarity</th>\n",
       "      <th>body_subjectivity</th>\n",
       "      <th>polarity</th>\n",
       "    </tr>\n",
       "  </thead>\n",
       "  <tbody>\n",
       "    <tr>\n",
       "      <th>count</th>\n",
       "      <td>985.000000</td>\n",
       "      <td>985.000000</td>\n",
       "      <td>985.000000</td>\n",
       "      <td>985.000000</td>\n",
       "      <td>985.000000</td>\n",
       "      <td>985.000000</td>\n",
       "      <td>985.000000</td>\n",
       "      <td>985.000000</td>\n",
       "      <td>985.000000</td>\n",
       "      <td>985.000000</td>\n",
       "      <td>985.000000</td>\n",
       "      <td>985.000000</td>\n",
       "      <td>985.000000</td>\n",
       "    </tr>\n",
       "    <tr>\n",
       "      <th>mean</th>\n",
       "      <td>492.000000</td>\n",
       "      <td>22.774619</td>\n",
       "      <td>28.519815</td>\n",
       "      <td>999.263959</td>\n",
       "      <td>7.581921</td>\n",
       "      <td>230.048731</td>\n",
       "      <td>0.770486</td>\n",
       "      <td>17.268071</td>\n",
       "      <td>0.128167</td>\n",
       "      <td>0.423134</td>\n",
       "      <td>0.096084</td>\n",
       "      <td>0.417602</td>\n",
       "      <td>0.224251</td>\n",
       "    </tr>\n",
       "    <tr>\n",
       "      <th>std</th>\n",
       "      <td>284.489309</td>\n",
       "      <td>47.137620</td>\n",
       "      <td>41.971150</td>\n",
       "      <td>9776.052485</td>\n",
       "      <td>51.055797</td>\n",
       "      <td>2100.601050</td>\n",
       "      <td>0.326129</td>\n",
       "      <td>31.351345</td>\n",
       "      <td>0.158982</td>\n",
       "      <td>0.136608</td>\n",
       "      <td>0.064043</td>\n",
       "      <td>0.133405</td>\n",
       "      <td>0.181416</td>\n",
       "    </tr>\n",
       "    <tr>\n",
       "      <th>min</th>\n",
       "      <td>0.000000</td>\n",
       "      <td>11.000000</td>\n",
       "      <td>0.000000</td>\n",
       "      <td>0.000000</td>\n",
       "      <td>1.000000</td>\n",
       "      <td>11.000000</td>\n",
       "      <td>0.000000</td>\n",
       "      <td>0.000000</td>\n",
       "      <td>-1.000000</td>\n",
       "      <td>0.000000</td>\n",
       "      <td>-0.337492</td>\n",
       "      <td>0.000000</td>\n",
       "      <td>-0.961706</td>\n",
       "    </tr>\n",
       "    <tr>\n",
       "      <th>25%</th>\n",
       "      <td>246.000000</td>\n",
       "      <td>12.000000</td>\n",
       "      <td>9.000000</td>\n",
       "      <td>129.000000</td>\n",
       "      <td>1.000000</td>\n",
       "      <td>15.000000</td>\n",
       "      <td>0.636364</td>\n",
       "      <td>10.000000</td>\n",
       "      <td>0.035000</td>\n",
       "      <td>0.347563</td>\n",
       "      <td>0.060348</td>\n",
       "      <td>0.409974</td>\n",
       "      <td>0.111093</td>\n",
       "    </tr>\n",
       "    <tr>\n",
       "      <th>50%</th>\n",
       "      <td>492.000000</td>\n",
       "      <td>15.000000</td>\n",
       "      <td>15.764706</td>\n",
       "      <td>273.000000</td>\n",
       "      <td>1.225806</td>\n",
       "      <td>23.000000</td>\n",
       "      <td>0.961538</td>\n",
       "      <td>12.350000</td>\n",
       "      <td>0.117949</td>\n",
       "      <td>0.423611</td>\n",
       "      <td>0.097497</td>\n",
       "      <td>0.446193</td>\n",
       "      <td>0.210298</td>\n",
       "    </tr>\n",
       "    <tr>\n",
       "      <th>75%</th>\n",
       "      <td>738.000000</td>\n",
       "      <td>22.000000</td>\n",
       "      <td>32.727273</td>\n",
       "      <td>628.000000</td>\n",
       "      <td>2.176471</td>\n",
       "      <td>48.000000</td>\n",
       "      <td>0.999231</td>\n",
       "      <td>18.000000</td>\n",
       "      <td>0.209007</td>\n",
       "      <td>0.500000</td>\n",
       "      <td>0.131791</td>\n",
       "      <td>0.477965</td>\n",
       "      <td>0.326346</td>\n",
       "    </tr>\n",
       "    <tr>\n",
       "      <th>max</th>\n",
       "      <td>984.000000</td>\n",
       "      <td>1016.000000</td>\n",
       "      <td>548.916667</td>\n",
       "      <td>297918.000000</td>\n",
       "      <td>1232.000000</td>\n",
       "      <td>53236.000000</td>\n",
       "      <td>1.000000</td>\n",
       "      <td>637.370000</td>\n",
       "      <td>1.000000</td>\n",
       "      <td>1.000000</td>\n",
       "      <td>0.357143</td>\n",
       "      <td>0.850000</td>\n",
       "      <td>1.183293</td>\n",
       "    </tr>\n",
       "  </tbody>\n",
       "</table>\n",
       "</div>"
      ],
      "text/plain": [
       "       Unnamed: 0           id  comments_mean   comments_sum   score_mean  \\\n",
       "count  985.000000   985.000000     985.000000     985.000000   985.000000   \n",
       "mean   492.000000    22.774619      28.519815     999.263959     7.581921   \n",
       "std    284.489309    47.137620      41.971150    9776.052485    51.055797   \n",
       "min      0.000000    11.000000       0.000000       0.000000     1.000000   \n",
       "25%    246.000000    12.000000       9.000000     129.000000     1.000000   \n",
       "50%    492.000000    15.000000      15.764706     273.000000     1.225806   \n",
       "75%    738.000000    22.000000      32.727273     628.000000     2.176471   \n",
       "max    984.000000  1016.000000     548.916667  297918.000000  1232.000000   \n",
       "\n",
       "          score_sum  upvote_ratio_mean  upvote_ratio_sum  title_polarity  \\\n",
       "count    985.000000         985.000000        985.000000      985.000000   \n",
       "mean     230.048731           0.770486         17.268071        0.128167   \n",
       "std     2100.601050           0.326129         31.351345        0.158982   \n",
       "min       11.000000           0.000000          0.000000       -1.000000   \n",
       "25%       15.000000           0.636364         10.000000        0.035000   \n",
       "50%       23.000000           0.961538         12.350000        0.117949   \n",
       "75%       48.000000           0.999231         18.000000        0.209007   \n",
       "max    53236.000000           1.000000        637.370000        1.000000   \n",
       "\n",
       "       title_subjectivity  body_polarity  body_subjectivity    polarity  \n",
       "count          985.000000     985.000000         985.000000  985.000000  \n",
       "mean             0.423134       0.096084           0.417602    0.224251  \n",
       "std              0.136608       0.064043           0.133405    0.181416  \n",
       "min              0.000000      -0.337492           0.000000   -0.961706  \n",
       "25%              0.347563       0.060348           0.409974    0.111093  \n",
       "50%              0.423611       0.097497           0.446193    0.210298  \n",
       "75%              0.500000       0.131791           0.477965    0.326346  \n",
       "max              1.000000       0.357143           0.850000    1.183293  "
      ]
     },
     "execution_count": 3,
     "metadata": {},
     "output_type": "execute_result"
    }
   ],
   "source": [
    "df.describe()"
   ]
  },
  {
   "cell_type": "code",
   "execution_count": 5,
   "metadata": {},
   "outputs": [
    {
     "name": "stdout",
     "output_type": "stream",
     "text": [
      "<class 'pandas.core.frame.DataFrame'>\n",
      "Int64Index: 493 entries, 0 to 983\n",
      "Data columns (total 30 columns):\n",
      " #   Column              Non-Null Count  Dtype  \n",
      "---  ------              --------------  -----  \n",
      " 0   Unnamed: 0          493 non-null    int64  \n",
      " 1   author              493 non-null    object \n",
      " 2   id                  493 non-null    int64  \n",
      " 3   title               493 non-null    object \n",
      " 4   selftext            493 non-null    object \n",
      " 5   date                493 non-null    object \n",
      " 6   day                 493 non-null    object \n",
      " 7   month               493 non-null    object \n",
      " 8   year                493 non-null    object \n",
      " 9   tickers_            146 non-null    object \n",
      " 10  tickers_count_      493 non-null    object \n",
      " 11  link_flair_text     493 non-null    object \n",
      " 12  comments_mean       493 non-null    float64\n",
      " 13  comments_sum        493 non-null    int64  \n",
      " 14  score_mean          493 non-null    float64\n",
      " 15  score_sum           493 non-null    int64  \n",
      " 16  upvote_ratio_mean   493 non-null    float64\n",
      " 17  upvote_ratio_sum    493 non-null    float64\n",
      " 18  flairs              493 non-null    object \n",
      " 19  flairs_count        493 non-null    object \n",
      " 20  title_polarity      493 non-null    float64\n",
      " 21  title_subjectivity  493 non-null    float64\n",
      " 22  body_polarity       493 non-null    float64\n",
      " 23  body_subjectivity   493 non-null    float64\n",
      " 24  title_tokens        493 non-null    object \n",
      " 25  selftext_tokens     493 non-null    object \n",
      " 26  polarity            493 non-null    float64\n",
      " 27  years_count         493 non-null    object \n",
      " 28  months_count        493 non-null    object \n",
      " 29  dates_count         493 non-null    object \n",
      "dtypes: float64(9), int64(4), object(17)\n",
      "memory usage: 119.4+ KB\n"
     ]
    }
   ],
   "source": [
    "# overall top users > median\n",
    "users_above_median = df[df['score_mean'] >= df['score_mean'].median()] #\n",
    "users_above_median.info()"
   ]
  },
  {
   "cell_type": "code",
   "execution_count": 6,
   "metadata": {},
   "outputs": [],
   "source": [
    "users_above_median.to_csv('data/stocks_users_Overall_top_median.csv',sep=';',index=False)"
   ]
  },
  {
   "cell_type": "code",
   "execution_count": 9,
   "metadata": {},
   "outputs": [
    {
     "name": "stdout",
     "output_type": "stream",
     "text": [
      "<class 'pandas.core.frame.DataFrame'>\n",
      "Int64Index: 739 entries, 0 to 984\n",
      "Data columns (total 30 columns):\n",
      " #   Column              Non-Null Count  Dtype  \n",
      "---  ------              --------------  -----  \n",
      " 0   Unnamed: 0          739 non-null    int64  \n",
      " 1   author              739 non-null    object \n",
      " 2   id                  739 non-null    int64  \n",
      " 3   title               739 non-null    object \n",
      " 4   selftext            739 non-null    object \n",
      " 5   date                739 non-null    object \n",
      " 6   day                 739 non-null    object \n",
      " 7   month               739 non-null    object \n",
      " 8   year                739 non-null    object \n",
      " 9   tickers_            195 non-null    object \n",
      " 10  tickers_count_      739 non-null    object \n",
      " 11  link_flair_text     739 non-null    object \n",
      " 12  comments_mean       739 non-null    float64\n",
      " 13  comments_sum        739 non-null    int64  \n",
      " 14  score_mean          739 non-null    float64\n",
      " 15  score_sum           739 non-null    int64  \n",
      " 16  upvote_ratio_mean   739 non-null    float64\n",
      " 17  upvote_ratio_sum    739 non-null    float64\n",
      " 18  flairs              739 non-null    object \n",
      " 19  flairs_count        739 non-null    object \n",
      " 20  title_polarity      739 non-null    float64\n",
      " 21  title_subjectivity  739 non-null    float64\n",
      " 22  body_polarity       739 non-null    float64\n",
      " 23  body_subjectivity   739 non-null    float64\n",
      " 24  title_tokens        739 non-null    object \n",
      " 25  selftext_tokens     739 non-null    object \n",
      " 26  polarity            739 non-null    float64\n",
      " 27  years_count         739 non-null    object \n",
      " 28  months_count        739 non-null    object \n",
      " 29  dates_count         739 non-null    object \n",
      "dtypes: float64(9), int64(4), object(17)\n",
      "memory usage: 179.0+ KB\n"
     ]
    }
   ],
   "source": [
    "# overall top between 25 to 75 percentile\n",
    "users_25to75 = df.loc[(df['score_mean'] >= df['score_mean'].quantile(.25)) & (df['score_mean'] <= df['score_mean'].quantile(.75))]\n",
    "#users_25to75 = df.loc[(df['score_mean'] >= 1) & (df['score_mean'] <= 2.17)]\n",
    "users_25to75.info()"
   ]
  },
  {
   "cell_type": "code",
   "execution_count": 10,
   "metadata": {},
   "outputs": [],
   "source": [
    "users_25to75.to_csv('data/stocks_users_25to75.csv',sep=';',index=False)"
   ]
  },
  {
   "cell_type": "code",
   "execution_count": null,
   "metadata": {},
   "outputs": [],
   "source": []
  },
  {
   "cell_type": "markdown",
   "metadata": {
    "id": "wHNRmrhdGyCB"
   },
   "source": [
    "# Embedding of titles by user"
   ]
  },
  {
   "cell_type": "code",
   "execution_count": 5,
   "metadata": {
    "executionInfo": {
     "elapsed": 13030,
     "status": "ok",
     "timestamp": 1640704489079,
     "user": {
      "displayName": "Pratik Agrawal",
      "photoUrl": "https://lh3.googleusercontent.com/a-/AOh14Gic3zhpzr916Y01z_b2NkfIWMHKiBe-fVqe5bj-AA=s64",
      "userId": "07645729797073748393"
     },
     "user_tz": -60
    },
    "id": "DRVw78rYycCr"
   },
   "outputs": [],
   "source": [
    "from flair.embeddings import WordEmbeddings, DocumentPoolEmbeddings\n",
    "from flair.data import Sentence\n",
    "from sklearn.manifold import TSNE\n",
    "%matplotlib inline\n"
   ]
  },
  {
   "cell_type": "markdown",
   "metadata": {
    "id": "FjAwuvhS3aqT"
   },
   "source": [
    "## Visualize Embeddings for clustering"
   ]
  },
  {
   "cell_type": "markdown",
   "metadata": {
    "id": "vMTqxqEf-00z"
   },
   "source": [
    "## Stacked Embeddings"
   ]
  },
  {
   "cell_type": "code",
   "execution_count": null,
   "metadata": {
    "colab": {
     "base_uri": "https://localhost:8080/"
    },
    "executionInfo": {
     "elapsed": 11780,
     "status": "ok",
     "timestamp": 1640540208796,
     "user": {
      "displayName": "Pratik Agrawal",
      "photoUrl": "https://lh3.googleusercontent.com/a-/AOh14Gic3zhpzr916Y01z_b2NkfIWMHKiBe-fVqe5bj-AA=s64",
      "userId": "07645729797073748393"
     },
     "user_tz": -60
    },
    "id": "TLPouzIi-zcQ",
    "outputId": "a196092e-8904-4c2c-e755-de0274c573b6"
   },
   "outputs": [
    {
     "name": "stdout",
     "output_type": "stream",
     "text": [
      "2021-12-26 17:36:36,015 https://flair.informatik.hu-berlin.de/resources/embeddings/token/glove.gensim.vectors.npy not found in cache, downloading to /tmp/tmplmlea279\n"
     ]
    },
    {
     "name": "stderr",
     "output_type": "stream",
     "text": [
      "100%|██████████| 160000128/160000128 [00:06<00:00, 25998870.03B/s]"
     ]
    },
    {
     "name": "stdout",
     "output_type": "stream",
     "text": [
      "2021-12-26 17:36:42,480 copying /tmp/tmplmlea279 to cache at /root/.flair/embeddings/glove.gensim.vectors.npy\n"
     ]
    },
    {
     "name": "stderr",
     "output_type": "stream",
     "text": [
      "\n"
     ]
    },
    {
     "name": "stdout",
     "output_type": "stream",
     "text": [
      "2021-12-26 17:36:42,804 removing temp file /tmp/tmplmlea279\n",
      "2021-12-26 17:36:43,323 https://flair.informatik.hu-berlin.de/resources/embeddings/token/glove.gensim not found in cache, downloading to /tmp/tmpegklw76a\n"
     ]
    },
    {
     "name": "stderr",
     "output_type": "stream",
     "text": [
      "100%|██████████| 21494764/21494764 [00:01<00:00, 14792396.61B/s]"
     ]
    },
    {
     "name": "stdout",
     "output_type": "stream",
     "text": [
      "2021-12-26 17:36:45,096 copying /tmp/tmpegklw76a to cache at /root/.flair/embeddings/glove.gensim\n"
     ]
    },
    {
     "name": "stderr",
     "output_type": "stream",
     "text": [
      "\n"
     ]
    },
    {
     "name": "stdout",
     "output_type": "stream",
     "text": [
      "2021-12-26 17:36:45,132 removing temp file /tmp/tmpegklw76a\n"
     ]
    }
   ],
   "source": [
    "from flair.embeddings import  FlairEmbeddings\n",
    "# initialize the word embeddings\n",
    "glove_embedding = WordEmbeddings('glove')\n",
    "\n",
    "# initialize the document embeddings, mode = mean\n",
    "document_embeddings = DocumentPoolEmbeddings([glove_embedding])\n",
    "# init Flair forward and backwards embeddings\n",
    "flair_embedding_forward = FlairEmbeddings('news-forward')\n",
    "flair_embedding_backward = FlairEmbeddings('news-backward')"
   ]
  },
  {
   "cell_type": "code",
   "execution_count": null,
   "metadata": {
    "id": "vzMRPg0l_OD3"
   },
   "outputs": [],
   "source": [
    "from flair.embeddings import StackedEmbeddings\n",
    "\n",
    "# create a StackedEmbedding object that combines glove and forward/backward flair embeddings\n",
    "stacked_embeddings = StackedEmbeddings([\n",
    "                                        glove_embedding,\n",
    "                                        flair_embedding_forward,\n",
    "                                        flair_embedding_backward,\n",
    "                                       ])"
   ]
  },
  {
   "cell_type": "code",
   "execution_count": null,
   "metadata": {
    "id": "My8CD0II_Z8H"
   },
   "outputs": [],
   "source": [
    "def get_stackedsentence_emb(text):\n",
    "  sentence = Sentence(text)\n",
    "  stacked_embeddings.embed(sentence)\n",
    "  return sentence.embedding\n",
    "\n",
    "\n",
    "# now check out the embedded tokens.\n",
    "#for token in sentence:\n",
    "#    print(token)\n",
    "#    print(token.embedding)"
   ]
  },
  {
   "cell_type": "code",
   "execution_count": null,
   "metadata": {
    "id": "7wVXVlK1_5DJ"
   },
   "outputs": [],
   "source": [
    "#df['title_emb_stacked'] = df['title'].apply(lambda x: get_stackedsentence_emb(x))\n",
    "title_emb_stacked = df.loc[:50,'title'].apply(lambda x: get_stackedsentence_emb(x))"
   ]
  },
  {
   "cell_type": "code",
   "execution_count": null,
   "metadata": {
    "id": "n8gVmYkh_-uA"
   },
   "outputs": [],
   "source": [
    "from sklearn.manifold import TSNE\n",
    "%matplotlib inline\n",
    "def plot_embeddings(df_name,label_name,emb_col_name,total_points):\n",
    "\n",
    "\tall_users = []\n",
    "\tall_users_emb = []\n",
    "\tfor index, row in df_name.iterrows():\n",
    "\t\t #print(row[\"author\"], row[\"title_emb\"])\n",
    "\t\t all_users.append(row[label_name])\n",
    "\t\t all_users_emb.append(row[emb_col_name].numpy())\n",
    "\t\t \n",
    "\n",
    "\ttsne_model = TSNE(perplexity=40, n_components=2, init='pca', n_iter=2500, random_state=23)\n",
    "\tnew_values = tsne_model.fit_transform(all_users_emb)\n",
    "\n",
    "\tx = []\n",
    "\ty = []\n",
    "\tfor value in new_values:\n",
    "\t\tx.append(value[0])\n",
    "\t\ty.append(value[1])\n",
    "\t\t\t\n",
    "\tplt.figure(figsize=(16, 16)) \n",
    "\tfor i in range(len(x[0:total_points])):\n",
    "\t\tplt.scatter(x[i],y[i])\n",
    "\t\tplt.annotate(all_users[i],\n",
    "\t\t\t\t\t\t xy=(x[i], y[i]),\n",
    "\t\t\t\t\t\t xytext=(5, 2),\n",
    "\t\t\t\t\t\t textcoords='offset points',\n",
    "\t\t\t\t\t\t ha='right',\n",
    "\t\t\t\t\t\t va='bottom')\n",
    "\tplt.show()"
   ]
  },
  {
   "cell_type": "code",
   "execution_count": null,
   "metadata": {
    "id": "_hN2uxMKBIzL"
   },
   "outputs": [],
   "source": [
    "#plot_embeddings(df,\"author\",\"title_emb_stacked\",100)"
   ]
  },
  {
   "cell_type": "code",
   "execution_count": null,
   "metadata": {
    "id": "wMfk2jR-HZK9"
   },
   "outputs": [],
   "source": [
    "#plot_embeddings(df[df['score'] > 250],\"author\",\"title_emb_stacked\",50)"
   ]
  },
  {
   "cell_type": "markdown",
   "metadata": {
    "id": "nJuFLILVDnkD"
   },
   "source": [
    "## Count Years, Months "
   ]
  },
  {
   "cell_type": "code",
   "execution_count": 6,
   "metadata": {
    "executionInfo": {
     "elapsed": 431,
     "status": "ok",
     "timestamp": 1640704491222,
     "user": {
      "displayName": "Pratik Agrawal",
      "photoUrl": "https://lh3.googleusercontent.com/a-/AOh14Gic3zhpzr916Y01z_b2NkfIWMHKiBe-fVqe5bj-AA=s64",
      "userId": "07645729797073748393"
     },
     "user_tz": -60
    },
    "id": "PTJG0rxPEYR7"
   },
   "outputs": [],
   "source": [
    "from collections import Counter"
   ]
  },
  {
   "cell_type": "code",
   "execution_count": 7,
   "metadata": {
    "executionInfo": {
     "elapsed": 10,
     "status": "ok",
     "timestamp": 1640704492727,
     "user": {
      "displayName": "Pratik Agrawal",
      "photoUrl": "https://lh3.googleusercontent.com/a-/AOh14Gic3zhpzr916Y01z_b2NkfIWMHKiBe-fVqe5bj-AA=s64",
      "userId": "07645729797073748393"
     },
     "user_tz": -60
    },
    "id": "YFZYHN-ODrFD"
   },
   "outputs": [],
   "source": [
    "df['year'] = df['year'].apply(lambda x: list(x.split(\" \")))\n",
    "df[\"years_count\"] = df['year'].apply(lambda x: dict(Counter(list(x))))"
   ]
  },
  {
   "cell_type": "code",
   "execution_count": 8,
   "metadata": {
    "executionInfo": {
     "elapsed": 9,
     "status": "ok",
     "timestamp": 1640704493113,
     "user": {
      "displayName": "Pratik Agrawal",
      "photoUrl": "https://lh3.googleusercontent.com/a-/AOh14Gic3zhpzr916Y01z_b2NkfIWMHKiBe-fVqe5bj-AA=s64",
      "userId": "07645729797073748393"
     },
     "user_tz": -60
    },
    "id": "SCfLJMaAD84E"
   },
   "outputs": [],
   "source": [
    "df['month'] = df['month'].apply(lambda x: list(x.split(\" \")))\n",
    "df[\"months_count\"] = df['month'].apply(lambda x: dict(Counter(list(x))))"
   ]
  },
  {
   "cell_type": "code",
   "execution_count": 9,
   "metadata": {
    "executionInfo": {
     "elapsed": 7,
     "status": "ok",
     "timestamp": 1640704493932,
     "user": {
      "displayName": "Pratik Agrawal",
      "photoUrl": "https://lh3.googleusercontent.com/a-/AOh14Gic3zhpzr916Y01z_b2NkfIWMHKiBe-fVqe5bj-AA=s64",
      "userId": "07645729797073748393"
     },
     "user_tz": -60
    },
    "id": "kGR0IMJV1kER"
   },
   "outputs": [],
   "source": [
    "df['date'] = df['date'].apply(lambda x: list(x.split(\" \")))\n",
    "df[\"dates_count\"] = df['date'].apply(lambda x: dict(Counter(list(x))))"
   ]
  },
  {
   "cell_type": "code",
   "execution_count": 10,
   "metadata": {
    "colab": {
     "base_uri": "https://localhost:8080/",
     "height": 353
    },
    "executionInfo": {
     "elapsed": 22,
     "status": "ok",
     "timestamp": 1640704494889,
     "user": {
      "displayName": "Pratik Agrawal",
      "photoUrl": "https://lh3.googleusercontent.com/a-/AOh14Gic3zhpzr916Y01z_b2NkfIWMHKiBe-fVqe5bj-AA=s64",
      "userId": "07645729797073748393"
     },
     "user_tz": -60
    },
    "id": "ltqw98gaINCn",
    "outputId": "a2cc8dc1-b12d-41b7-cc70-45029f239a4f"
   },
   "outputs": [
    {
     "data": {
      "text/html": [
       "\n",
       "  <div id=\"df-26b45501-df98-4217-885b-4c7167ec79da\">\n",
       "    <div class=\"colab-df-container\">\n",
       "      <div>\n",
       "<style scoped>\n",
       "    .dataframe tbody tr th:only-of-type {\n",
       "        vertical-align: middle;\n",
       "    }\n",
       "\n",
       "    .dataframe tbody tr th {\n",
       "        vertical-align: top;\n",
       "    }\n",
       "\n",
       "    .dataframe thead th {\n",
       "        text-align: right;\n",
       "    }\n",
       "</style>\n",
       "<table border=\"1\" class=\"dataframe\">\n",
       "  <thead>\n",
       "    <tr style=\"text-align: right;\">\n",
       "      <th></th>\n",
       "      <th>author</th>\n",
       "      <th>id</th>\n",
       "      <th>title</th>\n",
       "      <th>selftext</th>\n",
       "      <th>date</th>\n",
       "      <th>day</th>\n",
       "      <th>month</th>\n",
       "      <th>year</th>\n",
       "      <th>tickers_</th>\n",
       "      <th>tickers_count_</th>\n",
       "      <th>link_flair_text</th>\n",
       "      <th>comments_mean</th>\n",
       "      <th>comments_sum</th>\n",
       "      <th>score_mean</th>\n",
       "      <th>score_sum</th>\n",
       "      <th>upvote_ratio_mean</th>\n",
       "      <th>upvote_ratio_sum</th>\n",
       "      <th>flairs</th>\n",
       "      <th>flairs_count</th>\n",
       "      <th>title_polarity</th>\n",
       "      <th>title_subjectivity</th>\n",
       "      <th>body_polarity</th>\n",
       "      <th>body_subjectivity</th>\n",
       "      <th>title_tokens</th>\n",
       "      <th>selftext_tokens</th>\n",
       "      <th>polarity</th>\n",
       "      <th>years_count</th>\n",
       "      <th>months_count</th>\n",
       "      <th>dates_count</th>\n",
       "    </tr>\n",
       "  </thead>\n",
       "  <tbody>\n",
       "    <tr>\n",
       "      <th>0</th>\n",
       "      <td>-0-itisaplane</td>\n",
       "      <td>13</td>\n",
       "      <td>thoughts on dropbox ? Thinking of making anoth...</td>\n",
       "      <td>currently trading at 20.72 US.\\n\\nhigh, median...</td>\n",
       "      <td>[2020-08-31, 2020-08-29, 2020-08-10, 2020-08-0...</td>\n",
       "      <td>31 29 10 5 26 24 23 22 22 22 21 21 12</td>\n",
       "      <td>[8, 8, 8, 8, 7, 7, 7, 7, 7, 7, 7, 7, 7]</td>\n",
       "      <td>[2020, 2020, 2020, 2020, 2020, 2020, 2020, 202...</td>\n",
       "      <td>NaN</td>\n",
       "      <td>{}</td>\n",
       "      <td>Discussion</td>\n",
       "      <td>25.538462</td>\n",
       "      <td>332</td>\n",
       "      <td>1.846154</td>\n",
       "      <td>24</td>\n",
       "      <td>0.897692</td>\n",
       "      <td>11.67</td>\n",
       "      <td>['Discussion', '', '', '', '', '', '', '', '',...</td>\n",
       "      <td>{'Discussion': 1, '': 12}</td>\n",
       "      <td>0.066031</td>\n",
       "      <td>0.538518</td>\n",
       "      <td>0.104859</td>\n",
       "      <td>0.454719</td>\n",
       "      <td>['thoughts', 'on', 'dropbox', '?', 'Thinking',...</td>\n",
       "      <td>['currently', 'trading', 'at', '20.72', 'US', ...</td>\n",
       "      <td>0.17089</td>\n",
       "      <td>{'2020': 13}</td>\n",
       "      <td>{'8': 4, '7': 9}</td>\n",
       "      <td>{'2020-08-31': 1, '2020-08-29': 1, '2020-08-10...</td>\n",
       "    </tr>\n",
       "  </tbody>\n",
       "</table>\n",
       "</div>\n",
       "      <button class=\"colab-df-convert\" onclick=\"convertToInteractive('df-26b45501-df98-4217-885b-4c7167ec79da')\"\n",
       "              title=\"Convert this dataframe to an interactive table.\"\n",
       "              style=\"display:none;\">\n",
       "        \n",
       "  <svg xmlns=\"http://www.w3.org/2000/svg\" height=\"24px\"viewBox=\"0 0 24 24\"\n",
       "       width=\"24px\">\n",
       "    <path d=\"M0 0h24v24H0V0z\" fill=\"none\"/>\n",
       "    <path d=\"M18.56 5.44l.94 2.06.94-2.06 2.06-.94-2.06-.94-.94-2.06-.94 2.06-2.06.94zm-11 1L8.5 8.5l.94-2.06 2.06-.94-2.06-.94L8.5 2.5l-.94 2.06-2.06.94zm10 10l.94 2.06.94-2.06 2.06-.94-2.06-.94-.94-2.06-.94 2.06-2.06.94z\"/><path d=\"M17.41 7.96l-1.37-1.37c-.4-.4-.92-.59-1.43-.59-.52 0-1.04.2-1.43.59L10.3 9.45l-7.72 7.72c-.78.78-.78 2.05 0 2.83L4 21.41c.39.39.9.59 1.41.59.51 0 1.02-.2 1.41-.59l7.78-7.78 2.81-2.81c.8-.78.8-2.07 0-2.86zM5.41 20L4 18.59l7.72-7.72 1.47 1.35L5.41 20z\"/>\n",
       "  </svg>\n",
       "      </button>\n",
       "      \n",
       "  <style>\n",
       "    .colab-df-container {\n",
       "      display:flex;\n",
       "      flex-wrap:wrap;\n",
       "      gap: 12px;\n",
       "    }\n",
       "\n",
       "    .colab-df-convert {\n",
       "      background-color: #E8F0FE;\n",
       "      border: none;\n",
       "      border-radius: 50%;\n",
       "      cursor: pointer;\n",
       "      display: none;\n",
       "      fill: #1967D2;\n",
       "      height: 32px;\n",
       "      padding: 0 0 0 0;\n",
       "      width: 32px;\n",
       "    }\n",
       "\n",
       "    .colab-df-convert:hover {\n",
       "      background-color: #E2EBFA;\n",
       "      box-shadow: 0px 1px 2px rgba(60, 64, 67, 0.3), 0px 1px 3px 1px rgba(60, 64, 67, 0.15);\n",
       "      fill: #174EA6;\n",
       "    }\n",
       "\n",
       "    [theme=dark] .colab-df-convert {\n",
       "      background-color: #3B4455;\n",
       "      fill: #D2E3FC;\n",
       "    }\n",
       "\n",
       "    [theme=dark] .colab-df-convert:hover {\n",
       "      background-color: #434B5C;\n",
       "      box-shadow: 0px 1px 3px 1px rgba(0, 0, 0, 0.15);\n",
       "      filter: drop-shadow(0px 1px 2px rgba(0, 0, 0, 0.3));\n",
       "      fill: #FFFFFF;\n",
       "    }\n",
       "  </style>\n",
       "\n",
       "      <script>\n",
       "        const buttonEl =\n",
       "          document.querySelector('#df-26b45501-df98-4217-885b-4c7167ec79da button.colab-df-convert');\n",
       "        buttonEl.style.display =\n",
       "          google.colab.kernel.accessAllowed ? 'block' : 'none';\n",
       "\n",
       "        async function convertToInteractive(key) {\n",
       "          const element = document.querySelector('#df-26b45501-df98-4217-885b-4c7167ec79da');\n",
       "          const dataTable =\n",
       "            await google.colab.kernel.invokeFunction('convertToInteractive',\n",
       "                                                     [key], {});\n",
       "          if (!dataTable) return;\n",
       "\n",
       "          const docLinkHtml = 'Like what you see? Visit the ' +\n",
       "            '<a target=\"_blank\" href=https://colab.research.google.com/notebooks/data_table.ipynb>data table notebook</a>'\n",
       "            + ' to learn more about interactive tables.';\n",
       "          element.innerHTML = '';\n",
       "          dataTable['output_type'] = 'display_data';\n",
       "          await google.colab.output.renderOutput(dataTable, element);\n",
       "          const docLink = document.createElement('div');\n",
       "          docLink.innerHTML = docLinkHtml;\n",
       "          element.appendChild(docLink);\n",
       "        }\n",
       "      </script>\n",
       "    </div>\n",
       "  </div>\n",
       "  "
      ],
      "text/plain": [
       "          author  ...                                        dates_count\n",
       "0  -0-itisaplane  ...  {'2020-08-31': 1, '2020-08-29': 1, '2020-08-10...\n",
       "\n",
       "[1 rows x 29 columns]"
      ]
     },
     "execution_count": 10,
     "metadata": {},
     "output_type": "execute_result"
    }
   ],
   "source": [
    "df.head(1)"
   ]
  },
  {
   "cell_type": "code",
   "execution_count": 11,
   "metadata": {
    "executionInfo": {
     "elapsed": 2055,
     "status": "ok",
     "timestamp": 1640704521326,
     "user": {
      "displayName": "Pratik Agrawal",
      "photoUrl": "https://lh3.googleusercontent.com/a-/AOh14Gic3zhpzr916Y01z_b2NkfIWMHKiBe-fVqe5bj-AA=s64",
      "userId": "07645729797073748393"
     },
     "user_tz": -60
    },
    "id": "1NsqGXCsH-_7"
   },
   "outputs": [],
   "source": [
    "df.to_csv(\"/content/drive/MyDrive/stocks/stocks_top_users_features.csv\",sep=';')"
   ]
  },
  {
   "cell_type": "markdown",
   "metadata": {
    "id": "H2aGKg1S5vKb"
   },
   "source": [
    "## Are there differences between \"old\" users (pre-2021) and new ones?"
   ]
  },
  {
   "cell_type": "code",
   "execution_count": 12,
   "metadata": {
    "colab": {
     "base_uri": "https://localhost:8080/"
    },
    "executionInfo": {
     "elapsed": 391,
     "status": "ok",
     "timestamp": 1640704524904,
     "user": {
      "displayName": "Pratik Agrawal",
      "photoUrl": "https://lh3.googleusercontent.com/a-/AOh14Gic3zhpzr916Y01z_b2NkfIWMHKiBe-fVqe5bj-AA=s64",
      "userId": "07645729797073748393"
     },
     "user_tz": -60
    },
    "id": "erAwc9lw56ud",
    "outputId": "210d4cb1-0dda-45ce-d450-d8abab31c4c3"
   },
   "outputs": [
    {
     "name": "stdout",
     "output_type": "stream",
     "text": [
      "<class 'pandas.core.frame.DataFrame'>\n",
      "Int64Index: 793 entries, 0 to 984\n",
      "Data columns (total 29 columns):\n",
      " #   Column              Non-Null Count  Dtype  \n",
      "---  ------              --------------  -----  \n",
      " 0   author              793 non-null    object \n",
      " 1   id                  793 non-null    int64  \n",
      " 2   title               793 non-null    object \n",
      " 3   selftext            793 non-null    object \n",
      " 4   date                793 non-null    object \n",
      " 5   day                 793 non-null    object \n",
      " 6   month               793 non-null    object \n",
      " 7   year                793 non-null    object \n",
      " 8   tickers_            222 non-null    object \n",
      " 9   tickers_count_      793 non-null    object \n",
      " 10  link_flair_text     793 non-null    object \n",
      " 11  comments_mean       793 non-null    float64\n",
      " 12  comments_sum        793 non-null    int64  \n",
      " 13  score_mean          793 non-null    float64\n",
      " 14  score_sum           793 non-null    int64  \n",
      " 15  upvote_ratio_mean   793 non-null    float64\n",
      " 16  upvote_ratio_sum    793 non-null    float64\n",
      " 17  flairs              793 non-null    object \n",
      " 18  flairs_count        793 non-null    object \n",
      " 19  title_polarity      793 non-null    float64\n",
      " 20  title_subjectivity  793 non-null    float64\n",
      " 21  body_polarity       793 non-null    float64\n",
      " 22  body_subjectivity   793 non-null    float64\n",
      " 23  title_tokens        793 non-null    object \n",
      " 24  selftext_tokens     793 non-null    object \n",
      " 25  polarity            793 non-null    float64\n",
      " 26  years_count         793 non-null    object \n",
      " 27  months_count        793 non-null    object \n",
      " 28  dates_count         793 non-null    object \n",
      "dtypes: float64(9), int64(3), object(17)\n",
      "memory usage: 185.9+ KB\n"
     ]
    }
   ],
   "source": [
    "# split dataset: pre and post hype \n",
    "#users_pre = df['year'].apply(lambda x:list(set(x).intersection(pre_years)))\n",
    "users_post = df[['2021' in x for x in df['year'].values] and ['2020' not in x for x in df['year'].values] and ['2018' not in x for x in df['year'].values] and ['2019' not in x for x in df['year'].values]]\n",
    "users_post.info()"
   ]
  },
  {
   "cell_type": "code",
   "execution_count": 17,
   "metadata": {
    "executionInfo": {
     "elapsed": 2023,
     "status": "ok",
     "timestamp": 1640704589266,
     "user": {
      "displayName": "Pratik Agrawal",
      "photoUrl": "https://lh3.googleusercontent.com/a-/AOh14Gic3zhpzr916Y01z_b2NkfIWMHKiBe-fVqe5bj-AA=s64",
      "userId": "07645729797073748393"
     },
     "user_tz": -60
    },
    "id": "bskFNi_RFO89"
   },
   "outputs": [],
   "source": [
    "users_post.to_csv(\"/content/drive/MyDrive/stocks/stocks_users_post-hype.csv\",sep=';')"
   ]
  },
  {
   "cell_type": "code",
   "execution_count": 18,
   "metadata": {
    "colab": {
     "base_uri": "https://localhost:8080/"
    },
    "executionInfo": {
     "elapsed": 420,
     "status": "ok",
     "timestamp": 1640704591772,
     "user": {
      "displayName": "Pratik Agrawal",
      "photoUrl": "https://lh3.googleusercontent.com/a-/AOh14Gic3zhpzr916Y01z_b2NkfIWMHKiBe-fVqe5bj-AA=s64",
      "userId": "07645729797073748393"
     },
     "user_tz": -60
    },
    "id": "RST67huc88NI",
    "outputId": "89db2a72-a9d8-4d94-a125-6281d6f5e1e5"
   },
   "outputs": [
    {
     "name": "stdout",
     "output_type": "stream",
     "text": [
      "<class 'pandas.core.frame.DataFrame'>\n",
      "Int64Index: 283 entries, 0 to 984\n",
      "Data columns (total 29 columns):\n",
      " #   Column              Non-Null Count  Dtype  \n",
      "---  ------              --------------  -----  \n",
      " 0   author              283 non-null    object \n",
      " 1   id                  283 non-null    int64  \n",
      " 2   title               283 non-null    object \n",
      " 3   selftext            283 non-null    object \n",
      " 4   date                283 non-null    object \n",
      " 5   day                 283 non-null    object \n",
      " 6   month               283 non-null    object \n",
      " 7   year                283 non-null    object \n",
      " 8   tickers_            53 non-null     object \n",
      " 9   tickers_count_      283 non-null    object \n",
      " 10  link_flair_text     283 non-null    object \n",
      " 11  comments_mean       283 non-null    float64\n",
      " 12  comments_sum        283 non-null    int64  \n",
      " 13  score_mean          283 non-null    float64\n",
      " 14  score_sum           283 non-null    int64  \n",
      " 15  upvote_ratio_mean   283 non-null    float64\n",
      " 16  upvote_ratio_sum    283 non-null    float64\n",
      " 17  flairs              283 non-null    object \n",
      " 18  flairs_count        283 non-null    object \n",
      " 19  title_polarity      283 non-null    float64\n",
      " 20  title_subjectivity  283 non-null    float64\n",
      " 21  body_polarity       283 non-null    float64\n",
      " 22  body_subjectivity   283 non-null    float64\n",
      " 23  title_tokens        283 non-null    object \n",
      " 24  selftext_tokens     283 non-null    object \n",
      " 25  polarity            283 non-null    float64\n",
      " 26  years_count         283 non-null    object \n",
      " 27  months_count        283 non-null    object \n",
      " 28  dates_count         283 non-null    object \n",
      "dtypes: float64(9), int64(3), object(17)\n",
      "memory usage: 66.3+ KB\n"
     ]
    }
   ],
   "source": [
    "users_pre = df[['2021' not in x for x in df['year'].values]]\n",
    "users_pre.info()"
   ]
  },
  {
   "cell_type": "code",
   "execution_count": 15,
   "metadata": {
    "colab": {
     "base_uri": "https://localhost:8080/",
     "height": 353
    },
    "executionInfo": {
     "elapsed": 615,
     "status": "ok",
     "timestamp": 1640704550099,
     "user": {
      "displayName": "Pratik Agrawal",
      "photoUrl": "https://lh3.googleusercontent.com/a-/AOh14Gic3zhpzr916Y01z_b2NkfIWMHKiBe-fVqe5bj-AA=s64",
      "userId": "07645729797073748393"
     },
     "user_tz": -60
    },
    "id": "ZpDW0HL9Eznt",
    "outputId": "fd1b34ca-eabd-4e62-e480-a6ce238bfc1e"
   },
   "outputs": [
    {
     "data": {
      "text/html": [
       "\n",
       "  <div id=\"df-da429130-33ac-4909-8052-840e557f962d\">\n",
       "    <div class=\"colab-df-container\">\n",
       "      <div>\n",
       "<style scoped>\n",
       "    .dataframe tbody tr th:only-of-type {\n",
       "        vertical-align: middle;\n",
       "    }\n",
       "\n",
       "    .dataframe tbody tr th {\n",
       "        vertical-align: top;\n",
       "    }\n",
       "\n",
       "    .dataframe thead th {\n",
       "        text-align: right;\n",
       "    }\n",
       "</style>\n",
       "<table border=\"1\" class=\"dataframe\">\n",
       "  <thead>\n",
       "    <tr style=\"text-align: right;\">\n",
       "      <th></th>\n",
       "      <th>author</th>\n",
       "      <th>id</th>\n",
       "      <th>title</th>\n",
       "      <th>selftext</th>\n",
       "      <th>date</th>\n",
       "      <th>day</th>\n",
       "      <th>month</th>\n",
       "      <th>year</th>\n",
       "      <th>tickers_</th>\n",
       "      <th>tickers_count_</th>\n",
       "      <th>link_flair_text</th>\n",
       "      <th>comments_mean</th>\n",
       "      <th>comments_sum</th>\n",
       "      <th>score_mean</th>\n",
       "      <th>score_sum</th>\n",
       "      <th>upvote_ratio_mean</th>\n",
       "      <th>upvote_ratio_sum</th>\n",
       "      <th>flairs</th>\n",
       "      <th>flairs_count</th>\n",
       "      <th>title_polarity</th>\n",
       "      <th>title_subjectivity</th>\n",
       "      <th>body_polarity</th>\n",
       "      <th>body_subjectivity</th>\n",
       "      <th>title_tokens</th>\n",
       "      <th>selftext_tokens</th>\n",
       "      <th>polarity</th>\n",
       "      <th>years_count</th>\n",
       "      <th>months_count</th>\n",
       "      <th>dates_count</th>\n",
       "    </tr>\n",
       "  </thead>\n",
       "  <tbody>\n",
       "    <tr>\n",
       "      <th>0</th>\n",
       "      <td>-0-itisaplane</td>\n",
       "      <td>13</td>\n",
       "      <td>thoughts on dropbox ? Thinking of making anoth...</td>\n",
       "      <td>currently trading at 20.72 US.\\n\\nhigh, median...</td>\n",
       "      <td>[2020-08-31, 2020-08-29, 2020-08-10, 2020-08-0...</td>\n",
       "      <td>31 29 10 5 26 24 23 22 22 22 21 21 12</td>\n",
       "      <td>[8, 8, 8, 8, 7, 7, 7, 7, 7, 7, 7, 7, 7]</td>\n",
       "      <td>[2020, 2020, 2020, 2020, 2020, 2020, 2020, 202...</td>\n",
       "      <td>NaN</td>\n",
       "      <td>{}</td>\n",
       "      <td>Discussion</td>\n",
       "      <td>25.538462</td>\n",
       "      <td>332</td>\n",
       "      <td>1.846154</td>\n",
       "      <td>24</td>\n",
       "      <td>0.897692</td>\n",
       "      <td>11.67</td>\n",
       "      <td>['Discussion', '', '', '', '', '', '', '', '',...</td>\n",
       "      <td>{'Discussion': 1, '': 12}</td>\n",
       "      <td>0.066031</td>\n",
       "      <td>0.538518</td>\n",
       "      <td>0.104859</td>\n",
       "      <td>0.454719</td>\n",
       "      <td>['thoughts', 'on', 'dropbox', '?', 'Thinking',...</td>\n",
       "      <td>['currently', 'trading', 'at', '20.72', 'US', ...</td>\n",
       "      <td>0.17089</td>\n",
       "      <td>{'2020': 13}</td>\n",
       "      <td>{'8': 4, '7': 9}</td>\n",
       "      <td>{'2020-08-31': 1, '2020-08-29': 1, '2020-08-10...</td>\n",
       "    </tr>\n",
       "  </tbody>\n",
       "</table>\n",
       "</div>\n",
       "      <button class=\"colab-df-convert\" onclick=\"convertToInteractive('df-da429130-33ac-4909-8052-840e557f962d')\"\n",
       "              title=\"Convert this dataframe to an interactive table.\"\n",
       "              style=\"display:none;\">\n",
       "        \n",
       "  <svg xmlns=\"http://www.w3.org/2000/svg\" height=\"24px\"viewBox=\"0 0 24 24\"\n",
       "       width=\"24px\">\n",
       "    <path d=\"M0 0h24v24H0V0z\" fill=\"none\"/>\n",
       "    <path d=\"M18.56 5.44l.94 2.06.94-2.06 2.06-.94-2.06-.94-.94-2.06-.94 2.06-2.06.94zm-11 1L8.5 8.5l.94-2.06 2.06-.94-2.06-.94L8.5 2.5l-.94 2.06-2.06.94zm10 10l.94 2.06.94-2.06 2.06-.94-2.06-.94-.94-2.06-.94 2.06-2.06.94z\"/><path d=\"M17.41 7.96l-1.37-1.37c-.4-.4-.92-.59-1.43-.59-.52 0-1.04.2-1.43.59L10.3 9.45l-7.72 7.72c-.78.78-.78 2.05 0 2.83L4 21.41c.39.39.9.59 1.41.59.51 0 1.02-.2 1.41-.59l7.78-7.78 2.81-2.81c.8-.78.8-2.07 0-2.86zM5.41 20L4 18.59l7.72-7.72 1.47 1.35L5.41 20z\"/>\n",
       "  </svg>\n",
       "      </button>\n",
       "      \n",
       "  <style>\n",
       "    .colab-df-container {\n",
       "      display:flex;\n",
       "      flex-wrap:wrap;\n",
       "      gap: 12px;\n",
       "    }\n",
       "\n",
       "    .colab-df-convert {\n",
       "      background-color: #E8F0FE;\n",
       "      border: none;\n",
       "      border-radius: 50%;\n",
       "      cursor: pointer;\n",
       "      display: none;\n",
       "      fill: #1967D2;\n",
       "      height: 32px;\n",
       "      padding: 0 0 0 0;\n",
       "      width: 32px;\n",
       "    }\n",
       "\n",
       "    .colab-df-convert:hover {\n",
       "      background-color: #E2EBFA;\n",
       "      box-shadow: 0px 1px 2px rgba(60, 64, 67, 0.3), 0px 1px 3px 1px rgba(60, 64, 67, 0.15);\n",
       "      fill: #174EA6;\n",
       "    }\n",
       "\n",
       "    [theme=dark] .colab-df-convert {\n",
       "      background-color: #3B4455;\n",
       "      fill: #D2E3FC;\n",
       "    }\n",
       "\n",
       "    [theme=dark] .colab-df-convert:hover {\n",
       "      background-color: #434B5C;\n",
       "      box-shadow: 0px 1px 3px 1px rgba(0, 0, 0, 0.15);\n",
       "      filter: drop-shadow(0px 1px 2px rgba(0, 0, 0, 0.3));\n",
       "      fill: #FFFFFF;\n",
       "    }\n",
       "  </style>\n",
       "\n",
       "      <script>\n",
       "        const buttonEl =\n",
       "          document.querySelector('#df-da429130-33ac-4909-8052-840e557f962d button.colab-df-convert');\n",
       "        buttonEl.style.display =\n",
       "          google.colab.kernel.accessAllowed ? 'block' : 'none';\n",
       "\n",
       "        async function convertToInteractive(key) {\n",
       "          const element = document.querySelector('#df-da429130-33ac-4909-8052-840e557f962d');\n",
       "          const dataTable =\n",
       "            await google.colab.kernel.invokeFunction('convertToInteractive',\n",
       "                                                     [key], {});\n",
       "          if (!dataTable) return;\n",
       "\n",
       "          const docLinkHtml = 'Like what you see? Visit the ' +\n",
       "            '<a target=\"_blank\" href=https://colab.research.google.com/notebooks/data_table.ipynb>data table notebook</a>'\n",
       "            + ' to learn more about interactive tables.';\n",
       "          element.innerHTML = '';\n",
       "          dataTable['output_type'] = 'display_data';\n",
       "          await google.colab.output.renderOutput(dataTable, element);\n",
       "          const docLink = document.createElement('div');\n",
       "          docLink.innerHTML = docLinkHtml;\n",
       "          element.appendChild(docLink);\n",
       "        }\n",
       "      </script>\n",
       "    </div>\n",
       "  </div>\n",
       "  "
      ],
      "text/plain": [
       "          author  ...                                        dates_count\n",
       "0  -0-itisaplane  ...  {'2020-08-31': 1, '2020-08-29': 1, '2020-08-10...\n",
       "\n",
       "[1 rows x 29 columns]"
      ]
     },
     "execution_count": 15,
     "metadata": {},
     "output_type": "execute_result"
    }
   ],
   "source": [
    "users_pre.head(1)"
   ]
  },
  {
   "cell_type": "code",
   "execution_count": 19,
   "metadata": {
    "executionInfo": {
     "elapsed": 438,
     "status": "ok",
     "timestamp": 1640704604174,
     "user": {
      "displayName": "Pratik Agrawal",
      "photoUrl": "https://lh3.googleusercontent.com/a-/AOh14Gic3zhpzr916Y01z_b2NkfIWMHKiBe-fVqe5bj-AA=s64",
      "userId": "07645729797073748393"
     },
     "user_tz": -60
    },
    "id": "fqufF8ZdFb-d"
   },
   "outputs": [],
   "source": [
    "users_pre.to_csv(\"/content/drive/MyDrive/stocks/stocks_users_pre-hype.csv\",sep=';')"
   ]
  },
  {
   "cell_type": "code",
   "execution_count": 20,
   "metadata": {
    "colab": {
     "base_uri": "https://localhost:8080/"
    },
    "executionInfo": {
     "elapsed": 375,
     "status": "ok",
     "timestamp": 1640704618303,
     "user": {
      "displayName": "Pratik Agrawal",
      "photoUrl": "https://lh3.googleusercontent.com/a-/AOh14Gic3zhpzr916Y01z_b2NkfIWMHKiBe-fVqe5bj-AA=s64",
      "userId": "07645729797073748393"
     },
     "user_tz": -60
    },
    "id": "LYzOSEvaE5nU",
    "outputId": "d1a2a765-8543-45e3-b400-0fb3c32924d2"
   },
   "outputs": [
    {
     "name": "stdout",
     "output_type": "stream",
     "text": [
      "<class 'pandas.core.frame.DataFrame'>\n",
      "Int64Index: 192 entries, 1 to 979\n",
      "Data columns (total 29 columns):\n",
      " #   Column              Non-Null Count  Dtype  \n",
      "---  ------              --------------  -----  \n",
      " 0   author              192 non-null    object \n",
      " 1   id                  192 non-null    int64  \n",
      " 2   title               192 non-null    object \n",
      " 3   selftext            192 non-null    object \n",
      " 4   date                192 non-null    object \n",
      " 5   day                 192 non-null    object \n",
      " 6   month               192 non-null    object \n",
      " 7   year                192 non-null    object \n",
      " 8   tickers_            51 non-null     object \n",
      " 9   tickers_count_      192 non-null    object \n",
      " 10  link_flair_text     192 non-null    object \n",
      " 11  comments_mean       192 non-null    float64\n",
      " 12  comments_sum        192 non-null    int64  \n",
      " 13  score_mean          192 non-null    float64\n",
      " 14  score_sum           192 non-null    int64  \n",
      " 15  upvote_ratio_mean   192 non-null    float64\n",
      " 16  upvote_ratio_sum    192 non-null    float64\n",
      " 17  flairs              192 non-null    object \n",
      " 18  flairs_count        192 non-null    object \n",
      " 19  title_polarity      192 non-null    float64\n",
      " 20  title_subjectivity  192 non-null    float64\n",
      " 21  body_polarity       192 non-null    float64\n",
      " 22  body_subjectivity   192 non-null    float64\n",
      " 23  title_tokens        192 non-null    object \n",
      " 24  selftext_tokens     192 non-null    object \n",
      " 25  polarity            192 non-null    float64\n",
      " 26  years_count         192 non-null    object \n",
      " 27  months_count        192 non-null    object \n",
      " 28  dates_count         192 non-null    object \n",
      "dtypes: float64(9), int64(3), object(17)\n",
      "memory usage: 45.0+ KB\n"
     ]
    }
   ],
   "source": [
    "users_pre_post = df[['2021' in x for x in df['year'].values] and ['2020' in x for x in df['year'].values] and ['2018' in x for x in df['year'].values] and ['2019' in x for x in df['year'].values]]\n",
    "users_pre_post.info()"
   ]
  },
  {
   "cell_type": "code",
   "execution_count": 21,
   "metadata": {
    "colab": {
     "base_uri": "https://localhost:8080/",
     "height": 1714
    },
    "executionInfo": {
     "elapsed": 428,
     "status": "ok",
     "timestamp": 1640704623221,
     "user": {
      "displayName": "Pratik Agrawal",
      "photoUrl": "https://lh3.googleusercontent.com/a-/AOh14Gic3zhpzr916Y01z_b2NkfIWMHKiBe-fVqe5bj-AA=s64",
      "userId": "07645729797073748393"
     },
     "user_tz": -60
    },
    "id": "e0KUeWnAFHkk",
    "outputId": "ecc0184a-3413-4520-9e65-2152903c6986"
   },
   "outputs": [
    {
     "data": {
      "text/html": [
       "\n",
       "  <div id=\"df-3d25169c-73c7-41f4-87ef-ab9ac3bb0177\">\n",
       "    <div class=\"colab-df-container\">\n",
       "      <div>\n",
       "<style scoped>\n",
       "    .dataframe tbody tr th:only-of-type {\n",
       "        vertical-align: middle;\n",
       "    }\n",
       "\n",
       "    .dataframe tbody tr th {\n",
       "        vertical-align: top;\n",
       "    }\n",
       "\n",
       "    .dataframe thead th {\n",
       "        text-align: right;\n",
       "    }\n",
       "</style>\n",
       "<table border=\"1\" class=\"dataframe\">\n",
       "  <thead>\n",
       "    <tr style=\"text-align: right;\">\n",
       "      <th></th>\n",
       "      <th>author</th>\n",
       "      <th>id</th>\n",
       "      <th>title</th>\n",
       "      <th>selftext</th>\n",
       "      <th>date</th>\n",
       "      <th>day</th>\n",
       "      <th>month</th>\n",
       "      <th>year</th>\n",
       "      <th>tickers_</th>\n",
       "      <th>tickers_count_</th>\n",
       "      <th>link_flair_text</th>\n",
       "      <th>comments_mean</th>\n",
       "      <th>comments_sum</th>\n",
       "      <th>score_mean</th>\n",
       "      <th>score_sum</th>\n",
       "      <th>upvote_ratio_mean</th>\n",
       "      <th>upvote_ratio_sum</th>\n",
       "      <th>flairs</th>\n",
       "      <th>flairs_count</th>\n",
       "      <th>title_polarity</th>\n",
       "      <th>title_subjectivity</th>\n",
       "      <th>body_polarity</th>\n",
       "      <th>body_subjectivity</th>\n",
       "      <th>title_tokens</th>\n",
       "      <th>selftext_tokens</th>\n",
       "      <th>polarity</th>\n",
       "      <th>years_count</th>\n",
       "      <th>months_count</th>\n",
       "      <th>dates_count</th>\n",
       "    </tr>\n",
       "  </thead>\n",
       "  <tbody>\n",
       "    <tr>\n",
       "      <th>1</th>\n",
       "      <td>01Cloud01</td>\n",
       "      <td>27</td>\n",
       "      <td>Stock buyback monitoring website or tool $GT s...</td>\n",
       "      <td>I notice a lot or companies are issuing stock ...</td>\n",
       "      <td>[2021-11-15, 2021-10-29, 2021-10-26, 2021-09-0...</td>\n",
       "      <td>15 29 26 6 30 21 22 3 3 1 23 15 1 7 20 15 12 1...</td>\n",
       "      <td>[11, 10, 10, 9, 8, 8, 1, 1, 1, 1, 12, 11, 9, 8...</td>\n",
       "      <td>[2021, 2021, 2021, 2021, 2021, 2021, 2021, 202...</td>\n",
       "      <td>['SMG', 'GT']</td>\n",
       "      <td>{'SMG': 1, 'GT': 1}</td>\n",
       "      <td>Resources Company Discussion Company Analysis ...</td>\n",
       "      <td>7.407407</td>\n",
       "      <td>200</td>\n",
       "      <td>1.851852</td>\n",
       "      <td>50</td>\n",
       "      <td>0.573704</td>\n",
       "      <td>15.49</td>\n",
       "      <td>['Resources', 'Company', 'Discussion', 'Compan...</td>\n",
       "      <td>{'Resources': 1, 'Company': 2, 'Discussion': 4...</td>\n",
       "      <td>0.299495</td>\n",
       "      <td>0.24899</td>\n",
       "      <td>0.129085</td>\n",
       "      <td>0.406224</td>\n",
       "      <td>['Stock', 'buyback', 'monitoring', 'website', ...</td>\n",
       "      <td>['I', 'notice', 'a', 'lot', 'or', 'companies',...</td>\n",
       "      <td>0.42858</td>\n",
       "      <td>{'2021': 10, '2020': 12, '2019': 4, '2018': 1}</td>\n",
       "      <td>{'11': 2, '10': 2, '9': 4, '8': 3, '1': 5, '12...</td>\n",
       "      <td>{'2021-11-15': 1, '2021-10-29': 1, '2021-10-26...</td>\n",
       "    </tr>\n",
       "  </tbody>\n",
       "</table>\n",
       "</div>\n",
       "      <button class=\"colab-df-convert\" onclick=\"convertToInteractive('df-3d25169c-73c7-41f4-87ef-ab9ac3bb0177')\"\n",
       "              title=\"Convert this dataframe to an interactive table.\"\n",
       "              style=\"display:none;\">\n",
       "        \n",
       "  <svg xmlns=\"http://www.w3.org/2000/svg\" height=\"24px\"viewBox=\"0 0 24 24\"\n",
       "       width=\"24px\">\n",
       "    <path d=\"M0 0h24v24H0V0z\" fill=\"none\"/>\n",
       "    <path d=\"M18.56 5.44l.94 2.06.94-2.06 2.06-.94-2.06-.94-.94-2.06-.94 2.06-2.06.94zm-11 1L8.5 8.5l.94-2.06 2.06-.94-2.06-.94L8.5 2.5l-.94 2.06-2.06.94zm10 10l.94 2.06.94-2.06 2.06-.94-2.06-.94-.94-2.06-.94 2.06-2.06.94z\"/><path d=\"M17.41 7.96l-1.37-1.37c-.4-.4-.92-.59-1.43-.59-.52 0-1.04.2-1.43.59L10.3 9.45l-7.72 7.72c-.78.78-.78 2.05 0 2.83L4 21.41c.39.39.9.59 1.41.59.51 0 1.02-.2 1.41-.59l7.78-7.78 2.81-2.81c.8-.78.8-2.07 0-2.86zM5.41 20L4 18.59l7.72-7.72 1.47 1.35L5.41 20z\"/>\n",
       "  </svg>\n",
       "      </button>\n",
       "      \n",
       "  <style>\n",
       "    .colab-df-container {\n",
       "      display:flex;\n",
       "      flex-wrap:wrap;\n",
       "      gap: 12px;\n",
       "    }\n",
       "\n",
       "    .colab-df-convert {\n",
       "      background-color: #E8F0FE;\n",
       "      border: none;\n",
       "      border-radius: 50%;\n",
       "      cursor: pointer;\n",
       "      display: none;\n",
       "      fill: #1967D2;\n",
       "      height: 32px;\n",
       "      padding: 0 0 0 0;\n",
       "      width: 32px;\n",
       "    }\n",
       "\n",
       "    .colab-df-convert:hover {\n",
       "      background-color: #E2EBFA;\n",
       "      box-shadow: 0px 1px 2px rgba(60, 64, 67, 0.3), 0px 1px 3px 1px rgba(60, 64, 67, 0.15);\n",
       "      fill: #174EA6;\n",
       "    }\n",
       "\n",
       "    [theme=dark] .colab-df-convert {\n",
       "      background-color: #3B4455;\n",
       "      fill: #D2E3FC;\n",
       "    }\n",
       "\n",
       "    [theme=dark] .colab-df-convert:hover {\n",
       "      background-color: #434B5C;\n",
       "      box-shadow: 0px 1px 3px 1px rgba(0, 0, 0, 0.15);\n",
       "      filter: drop-shadow(0px 1px 2px rgba(0, 0, 0, 0.3));\n",
       "      fill: #FFFFFF;\n",
       "    }\n",
       "  </style>\n",
       "\n",
       "      <script>\n",
       "        const buttonEl =\n",
       "          document.querySelector('#df-3d25169c-73c7-41f4-87ef-ab9ac3bb0177 button.colab-df-convert');\n",
       "        buttonEl.style.display =\n",
       "          google.colab.kernel.accessAllowed ? 'block' : 'none';\n",
       "\n",
       "        async function convertToInteractive(key) {\n",
       "          const element = document.querySelector('#df-3d25169c-73c7-41f4-87ef-ab9ac3bb0177');\n",
       "          const dataTable =\n",
       "            await google.colab.kernel.invokeFunction('convertToInteractive',\n",
       "                                                     [key], {});\n",
       "          if (!dataTable) return;\n",
       "\n",
       "          const docLinkHtml = 'Like what you see? Visit the ' +\n",
       "            '<a target=\"_blank\" href=https://colab.research.google.com/notebooks/data_table.ipynb>data table notebook</a>'\n",
       "            + ' to learn more about interactive tables.';\n",
       "          element.innerHTML = '';\n",
       "          dataTable['output_type'] = 'display_data';\n",
       "          await google.colab.output.renderOutput(dataTable, element);\n",
       "          const docLink = document.createElement('div');\n",
       "          docLink.innerHTML = docLinkHtml;\n",
       "          element.appendChild(docLink);\n",
       "        }\n",
       "      </script>\n",
       "    </div>\n",
       "  </div>\n",
       "  "
      ],
      "text/plain": [
       "      author  ...                                        dates_count\n",
       "1  01Cloud01  ...  {'2021-11-15': 1, '2021-10-29': 1, '2021-10-26...\n",
       "\n",
       "[1 rows x 29 columns]"
      ]
     },
     "execution_count": 21,
     "metadata": {},
     "output_type": "execute_result"
    },
    {
     "name": "stdout",
     "output_type": "stream",
     "text": [
      "Warning: Total number of columns (29) exceeds max_columns (20) limiting to first (20) columns.\n"
     ]
    }
   ],
   "source": [
    "users_pre_post.head(1)"
   ]
  },
  {
   "cell_type": "code",
   "execution_count": 22,
   "metadata": {
    "executionInfo": {
     "elapsed": 846,
     "status": "ok",
     "timestamp": 1640704631228,
     "user": {
      "displayName": "Pratik Agrawal",
      "photoUrl": "https://lh3.googleusercontent.com/a-/AOh14Gic3zhpzr916Y01z_b2NkfIWMHKiBe-fVqe5bj-AA=s64",
      "userId": "07645729797073748393"
     },
     "user_tz": -60
    },
    "id": "nub8j-9vFlb5"
   },
   "outputs": [],
   "source": [
    "users_pre_post.to_csv(\"/content/drive/MyDrive/stocks/stocks_users_pre-post_hype.csv\",sep=';')"
   ]
  },
  {
   "cell_type": "markdown",
   "metadata": {
    "id": "NbJt-Fo_5xXW"
   },
   "source": [
    "## Can we identify those that have posted (successful) DDs, Analysis, Company?"
   ]
  },
  {
   "cell_type": "code",
   "execution_count": null,
   "metadata": {
    "colab": {
     "base_uri": "https://localhost:8080/"
    },
    "executionInfo": {
     "elapsed": 583,
     "status": "ok",
     "timestamp": 1640705212498,
     "user": {
      "displayName": "Pratik Agrawal",
      "photoUrl": "https://lh3.googleusercontent.com/a-/AOh14Gic3zhpzr916Y01z_b2NkfIWMHKiBe-fVqe5bj-AA=s64",
      "userId": "07645729797073748393"
     },
     "user_tz": -60
    },
    "id": "aYMeogR4pof6",
    "outputId": "24b0aa59-31d4-45e9-a9c2-6218a4f787b9"
   },
   "outputs": [],
   "source": [
    "df['flairs'].values"
   ]
  },
  {
   "cell_type": "code",
   "execution_count": 11,
   "metadata": {
    "colab": {
     "base_uri": "https://localhost:8080/"
    },
    "executionInfo": {
     "elapsed": 392,
     "status": "ok",
     "timestamp": 1640705278360,
     "user": {
      "displayName": "Pratik Agrawal",
      "photoUrl": "https://lh3.googleusercontent.com/a-/AOh14Gic3zhpzr916Y01z_b2NkfIWMHKiBe-fVqe5bj-AA=s64",
      "userId": "07645729797073748393"
     },
     "user_tz": -60
    },
    "id": "xk_J3_lp6DJj",
    "outputId": "a2940647-51fc-48c6-8af4-db4612a2bec4"
   },
   "outputs": [
    {
     "name": "stdout",
     "output_type": "stream",
     "text": [
      "<class 'pandas.core.frame.DataFrame'>\n",
      "Int64Index: 497 entries, 1 to 982\n",
      "Data columns (total 30 columns):\n",
      " #   Column              Non-Null Count  Dtype  \n",
      "---  ------              --------------  -----  \n",
      " 0   Unnamed: 0          497 non-null    int64  \n",
      " 1   author              497 non-null    object \n",
      " 2   id                  497 non-null    int64  \n",
      " 3   title               497 non-null    object \n",
      " 4   selftext            497 non-null    object \n",
      " 5   date                497 non-null    object \n",
      " 6   day                 497 non-null    object \n",
      " 7   month               497 non-null    object \n",
      " 8   year                497 non-null    object \n",
      " 9   tickers_            140 non-null    object \n",
      " 10  tickers_count_      497 non-null    object \n",
      " 11  link_flair_text     497 non-null    object \n",
      " 12  comments_mean       497 non-null    float64\n",
      " 13  comments_sum        497 non-null    int64  \n",
      " 14  score_mean          497 non-null    float64\n",
      " 15  score_sum           497 non-null    int64  \n",
      " 16  upvote_ratio_mean   497 non-null    float64\n",
      " 17  upvote_ratio_sum    497 non-null    float64\n",
      " 18  flairs              497 non-null    object \n",
      " 19  flairs_count        497 non-null    object \n",
      " 20  title_polarity      497 non-null    float64\n",
      " 21  title_subjectivity  497 non-null    float64\n",
      " 22  body_polarity       497 non-null    float64\n",
      " 23  body_subjectivity   497 non-null    float64\n",
      " 24  title_tokens        497 non-null    object \n",
      " 25  selftext_tokens     497 non-null    object \n",
      " 26  polarity            497 non-null    float64\n",
      " 27  years_count         497 non-null    object \n",
      " 28  months_count        497 non-null    object \n",
      " 29  dates_count         497 non-null    object \n",
      "dtypes: float64(9), int64(4), object(17)\n",
      "memory usage: 120.4+ KB\n"
     ]
    }
   ],
   "source": [
    "## get all users with 'DD' flair and high upvotes, positive sentiment \n",
    "users_DD = df[['Advice' in x for x in df['flairs'].values] or ['Ticker' in x for x in df['flairs'].values]]\n",
    "users_DD.info()"
   ]
  },
  {
   "cell_type": "code",
   "execution_count": 12,
   "metadata": {
    "id": "LMy_2H1QoAAO"
   },
   "outputs": [
    {
     "data": {
      "text/html": [
       "<div>\n",
       "<style scoped>\n",
       "    .dataframe tbody tr th:only-of-type {\n",
       "        vertical-align: middle;\n",
       "    }\n",
       "\n",
       "    .dataframe tbody tr th {\n",
       "        vertical-align: top;\n",
       "    }\n",
       "\n",
       "    .dataframe thead th {\n",
       "        text-align: right;\n",
       "    }\n",
       "</style>\n",
       "<table border=\"1\" class=\"dataframe\">\n",
       "  <thead>\n",
       "    <tr style=\"text-align: right;\">\n",
       "      <th></th>\n",
       "      <th>Unnamed: 0</th>\n",
       "      <th>author</th>\n",
       "      <th>id</th>\n",
       "      <th>title</th>\n",
       "      <th>selftext</th>\n",
       "      <th>date</th>\n",
       "      <th>day</th>\n",
       "      <th>month</th>\n",
       "      <th>year</th>\n",
       "      <th>tickers_</th>\n",
       "      <th>...</th>\n",
       "      <th>title_polarity</th>\n",
       "      <th>title_subjectivity</th>\n",
       "      <th>body_polarity</th>\n",
       "      <th>body_subjectivity</th>\n",
       "      <th>title_tokens</th>\n",
       "      <th>selftext_tokens</th>\n",
       "      <th>polarity</th>\n",
       "      <th>years_count</th>\n",
       "      <th>months_count</th>\n",
       "      <th>dates_count</th>\n",
       "    </tr>\n",
       "  </thead>\n",
       "  <tbody>\n",
       "    <tr>\n",
       "      <th>1</th>\n",
       "      <td>1</td>\n",
       "      <td>01Cloud01</td>\n",
       "      <td>27</td>\n",
       "      <td>Stock buyback monitoring website or tool $GT s...</td>\n",
       "      <td>I notice a lot or companies are issuing stock ...</td>\n",
       "      <td>['2021-11-15', '2021-10-29', '2021-10-26', '20...</td>\n",
       "      <td>15 29 26 6 30 21 22 3 3 1 23 15 1 7 20 15 12 1...</td>\n",
       "      <td>['11', '10', '10', '9', '8', '8', '1', '1', '1...</td>\n",
       "      <td>['2021', '2021', '2021', '2021', '2021', '2021...</td>\n",
       "      <td>['SMG', 'GT']</td>\n",
       "      <td>...</td>\n",
       "      <td>0.299495</td>\n",
       "      <td>0.248990</td>\n",
       "      <td>0.129085</td>\n",
       "      <td>0.406224</td>\n",
       "      <td>['Stock', 'buyback', 'monitoring', 'website', ...</td>\n",
       "      <td>['I', 'notice', 'a', 'lot', 'or', 'companies',...</td>\n",
       "      <td>0.428580</td>\n",
       "      <td>{'2021': 10, '2020': 12, '2019': 4, '2018': 1}</td>\n",
       "      <td>{'11': 2, '10': 2, '9': 4, '8': 3, '1': 5, '12...</td>\n",
       "      <td>{'2021-11-15': 1, '2021-10-29': 1, '2021-10-26...</td>\n",
       "    </tr>\n",
       "    <tr>\n",
       "      <th>3</th>\n",
       "      <td>3</td>\n",
       "      <td>0toHeroInvesting</td>\n",
       "      <td>128</td>\n",
       "      <td>7 Must Know Things Right Now About The Stock M...</td>\n",
       "      <td>**In today’s post I’m going to share with you ...</td>\n",
       "      <td>['2021-04-08', '2021-04-08', '2021-03-15', '20...</td>\n",
       "      <td>8 8 15 15 22 18 11 2 1 30 29 29 29 29 29 29 29...</td>\n",
       "      <td>['4', '4', '3', '3', '2', '2', '2', '2', '2', ...</td>\n",
       "      <td>['2021', '2021', '2021', '2021', '2021', '2021...</td>\n",
       "      <td>['COST', 'TSLA', 'ORCL', 'LULU', 'PLAY', 'AMD'...</td>\n",
       "      <td>...</td>\n",
       "      <td>0.059927</td>\n",
       "      <td>0.328736</td>\n",
       "      <td>0.145787</td>\n",
       "      <td>0.448640</td>\n",
       "      <td>['7', 'Must', 'Know', 'Things', 'Right', 'Now'...</td>\n",
       "      <td>['*', '*', 'In', 'today', '’s', 'post', 'I', '...</td>\n",
       "      <td>0.205714</td>\n",
       "      <td>{'2021': 48, '2020': 80}</td>\n",
       "      <td>{'4': 2, '3': 2, '2': 5, '1': 39, '12': 46, '1...</td>\n",
       "      <td>{'2021-04-08': 2, '2021-03-15': 2, '2021-02-22...</td>\n",
       "    </tr>\n",
       "  </tbody>\n",
       "</table>\n",
       "<p>2 rows × 30 columns</p>\n",
       "</div>"
      ],
      "text/plain": [
       "   Unnamed: 0            author   id  \\\n",
       "1           1         01Cloud01   27   \n",
       "3           3  0toHeroInvesting  128   \n",
       "\n",
       "                                               title  \\\n",
       "1  Stock buyback monitoring website or tool $GT s...   \n",
       "3  7 Must Know Things Right Now About The Stock M...   \n",
       "\n",
       "                                            selftext  \\\n",
       "1  I notice a lot or companies are issuing stock ...   \n",
       "3  **In today’s post I’m going to share with you ...   \n",
       "\n",
       "                                                date  \\\n",
       "1  ['2021-11-15', '2021-10-29', '2021-10-26', '20...   \n",
       "3  ['2021-04-08', '2021-04-08', '2021-03-15', '20...   \n",
       "\n",
       "                                                 day  \\\n",
       "1  15 29 26 6 30 21 22 3 3 1 23 15 1 7 20 15 12 1...   \n",
       "3  8 8 15 15 22 18 11 2 1 30 29 29 29 29 29 29 29...   \n",
       "\n",
       "                                               month  \\\n",
       "1  ['11', '10', '10', '9', '8', '8', '1', '1', '1...   \n",
       "3  ['4', '4', '3', '3', '2', '2', '2', '2', '2', ...   \n",
       "\n",
       "                                                year  \\\n",
       "1  ['2021', '2021', '2021', '2021', '2021', '2021...   \n",
       "3  ['2021', '2021', '2021', '2021', '2021', '2021...   \n",
       "\n",
       "                                            tickers_  ... title_polarity  \\\n",
       "1                                      ['SMG', 'GT']  ...       0.299495   \n",
       "3  ['COST', 'TSLA', 'ORCL', 'LULU', 'PLAY', 'AMD'...  ...       0.059927   \n",
       "\n",
       "  title_subjectivity  body_polarity  body_subjectivity  \\\n",
       "1           0.248990       0.129085           0.406224   \n",
       "3           0.328736       0.145787           0.448640   \n",
       "\n",
       "                                        title_tokens  \\\n",
       "1  ['Stock', 'buyback', 'monitoring', 'website', ...   \n",
       "3  ['7', 'Must', 'Know', 'Things', 'Right', 'Now'...   \n",
       "\n",
       "                                     selftext_tokens  polarity  \\\n",
       "1  ['I', 'notice', 'a', 'lot', 'or', 'companies',...  0.428580   \n",
       "3  ['*', '*', 'In', 'today', '’s', 'post', 'I', '...  0.205714   \n",
       "\n",
       "                                      years_count  \\\n",
       "1  {'2021': 10, '2020': 12, '2019': 4, '2018': 1}   \n",
       "3                        {'2021': 48, '2020': 80}   \n",
       "\n",
       "                                        months_count  \\\n",
       "1  {'11': 2, '10': 2, '9': 4, '8': 3, '1': 5, '12...   \n",
       "3  {'4': 2, '3': 2, '2': 5, '1': 39, '12': 46, '1...   \n",
       "\n",
       "                                         dates_count  \n",
       "1  {'2021-11-15': 1, '2021-10-29': 1, '2021-10-26...  \n",
       "3  {'2021-04-08': 2, '2021-03-15': 2, '2021-02-22...  \n",
       "\n",
       "[2 rows x 30 columns]"
      ]
     },
     "execution_count": 12,
     "metadata": {},
     "output_type": "execute_result"
    }
   ],
   "source": [
    "users_DD.head(2)"
   ]
  },
  {
   "cell_type": "code",
   "execution_count": 13,
   "metadata": {
    "colab": {
     "base_uri": "https://localhost:8080/",
     "height": 364
    },
    "executionInfo": {
     "elapsed": 430,
     "status": "ok",
     "timestamp": 1640704646876,
     "user": {
      "displayName": "Pratik Agrawal",
      "photoUrl": "https://lh3.googleusercontent.com/a-/AOh14Gic3zhpzr916Y01z_b2NkfIWMHKiBe-fVqe5bj-AA=s64",
      "userId": "07645729797073748393"
     },
     "user_tz": -60
    },
    "id": "C0UuABanGLcV",
    "outputId": "58613f4f-60ec-4e6d-ffe1-349668517784"
   },
   "outputs": [
    {
     "data": {
      "text/html": [
       "<div>\n",
       "<style scoped>\n",
       "    .dataframe tbody tr th:only-of-type {\n",
       "        vertical-align: middle;\n",
       "    }\n",
       "\n",
       "    .dataframe tbody tr th {\n",
       "        vertical-align: top;\n",
       "    }\n",
       "\n",
       "    .dataframe thead th {\n",
       "        text-align: right;\n",
       "    }\n",
       "</style>\n",
       "<table border=\"1\" class=\"dataframe\">\n",
       "  <thead>\n",
       "    <tr style=\"text-align: right;\">\n",
       "      <th></th>\n",
       "      <th>Unnamed: 0</th>\n",
       "      <th>id</th>\n",
       "      <th>comments_mean</th>\n",
       "      <th>comments_sum</th>\n",
       "      <th>score_mean</th>\n",
       "      <th>score_sum</th>\n",
       "      <th>upvote_ratio_mean</th>\n",
       "      <th>upvote_ratio_sum</th>\n",
       "      <th>title_polarity</th>\n",
       "      <th>title_subjectivity</th>\n",
       "      <th>body_polarity</th>\n",
       "      <th>body_subjectivity</th>\n",
       "      <th>polarity</th>\n",
       "    </tr>\n",
       "  </thead>\n",
       "  <tbody>\n",
       "    <tr>\n",
       "      <th>count</th>\n",
       "      <td>497.00000</td>\n",
       "      <td>497.000000</td>\n",
       "      <td>497.000000</td>\n",
       "      <td>497.000000</td>\n",
       "      <td>497.000000</td>\n",
       "      <td>497.000000</td>\n",
       "      <td>497.000000</td>\n",
       "      <td>497.000000</td>\n",
       "      <td>497.000000</td>\n",
       "      <td>497.000000</td>\n",
       "      <td>497.000000</td>\n",
       "      <td>497.000000</td>\n",
       "      <td>497.000000</td>\n",
       "    </tr>\n",
       "    <tr>\n",
       "      <th>mean</th>\n",
       "      <td>490.05835</td>\n",
       "      <td>23.480885</td>\n",
       "      <td>28.095833</td>\n",
       "      <td>803.696177</td>\n",
       "      <td>8.853013</td>\n",
       "      <td>298.975855</td>\n",
       "      <td>0.834085</td>\n",
       "      <td>19.001408</td>\n",
       "      <td>0.123916</td>\n",
       "      <td>0.427431</td>\n",
       "      <td>0.105229</td>\n",
       "      <td>0.444014</td>\n",
       "      <td>0.229145</td>\n",
       "    </tr>\n",
       "    <tr>\n",
       "      <th>std</th>\n",
       "      <td>284.26481</td>\n",
       "      <td>48.216625</td>\n",
       "      <td>34.853981</td>\n",
       "      <td>3212.144948</td>\n",
       "      <td>66.732247</td>\n",
       "      <td>2868.185680</td>\n",
       "      <td>0.269196</td>\n",
       "      <td>29.387015</td>\n",
       "      <td>0.151626</td>\n",
       "      <td>0.125662</td>\n",
       "      <td>0.061964</td>\n",
       "      <td>0.089176</td>\n",
       "      <td>0.175525</td>\n",
       "    </tr>\n",
       "    <tr>\n",
       "      <th>min</th>\n",
       "      <td>1.00000</td>\n",
       "      <td>11.000000</td>\n",
       "      <td>0.000000</td>\n",
       "      <td>0.000000</td>\n",
       "      <td>1.000000</td>\n",
       "      <td>11.000000</td>\n",
       "      <td>0.000000</td>\n",
       "      <td>0.000000</td>\n",
       "      <td>-0.366708</td>\n",
       "      <td>0.000000</td>\n",
       "      <td>-0.337492</td>\n",
       "      <td>0.000000</td>\n",
       "      <td>-0.322440</td>\n",
       "    </tr>\n",
       "    <tr>\n",
       "      <th>25%</th>\n",
       "      <td>247.00000</td>\n",
       "      <td>12.000000</td>\n",
       "      <td>9.583333</td>\n",
       "      <td>139.000000</td>\n",
       "      <td>1.000000</td>\n",
       "      <td>14.000000</td>\n",
       "      <td>0.791000</td>\n",
       "      <td>10.800000</td>\n",
       "      <td>0.036111</td>\n",
       "      <td>0.351732</td>\n",
       "      <td>0.072717</td>\n",
       "      <td>0.423336</td>\n",
       "      <td>0.123898</td>\n",
       "    </tr>\n",
       "    <tr>\n",
       "      <th>50%</th>\n",
       "      <td>485.00000</td>\n",
       "      <td>15.000000</td>\n",
       "      <td>16.727273</td>\n",
       "      <td>304.000000</td>\n",
       "      <td>1.200000</td>\n",
       "      <td>23.000000</td>\n",
       "      <td>0.974615</td>\n",
       "      <td>13.000000</td>\n",
       "      <td>0.113677</td>\n",
       "      <td>0.431250</td>\n",
       "      <td>0.106778</td>\n",
       "      <td>0.451936</td>\n",
       "      <td>0.216538</td>\n",
       "    </tr>\n",
       "    <tr>\n",
       "      <th>75%</th>\n",
       "      <td>735.00000</td>\n",
       "      <td>23.000000</td>\n",
       "      <td>32.727273</td>\n",
       "      <td>683.000000</td>\n",
       "      <td>2.037037</td>\n",
       "      <td>49.000000</td>\n",
       "      <td>1.000000</td>\n",
       "      <td>19.760000</td>\n",
       "      <td>0.209041</td>\n",
       "      <td>0.500000</td>\n",
       "      <td>0.133978</td>\n",
       "      <td>0.482814</td>\n",
       "      <td>0.327671</td>\n",
       "    </tr>\n",
       "    <tr>\n",
       "      <th>max</th>\n",
       "      <td>982.00000</td>\n",
       "      <td>1016.000000</td>\n",
       "      <td>399.153846</td>\n",
       "      <td>65688.000000</td>\n",
       "      <td>1232.000000</td>\n",
       "      <td>53236.000000</td>\n",
       "      <td>1.000000</td>\n",
       "      <td>551.630000</td>\n",
       "      <td>1.000000</td>\n",
       "      <td>1.000000</td>\n",
       "      <td>0.357143</td>\n",
       "      <td>0.742548</td>\n",
       "      <td>1.183293</td>\n",
       "    </tr>\n",
       "  </tbody>\n",
       "</table>\n",
       "</div>"
      ],
      "text/plain": [
       "       Unnamed: 0           id  comments_mean  comments_sum   score_mean  \\\n",
       "count   497.00000   497.000000     497.000000    497.000000   497.000000   \n",
       "mean    490.05835    23.480885      28.095833    803.696177     8.853013   \n",
       "std     284.26481    48.216625      34.853981   3212.144948    66.732247   \n",
       "min       1.00000    11.000000       0.000000      0.000000     1.000000   \n",
       "25%     247.00000    12.000000       9.583333    139.000000     1.000000   \n",
       "50%     485.00000    15.000000      16.727273    304.000000     1.200000   \n",
       "75%     735.00000    23.000000      32.727273    683.000000     2.037037   \n",
       "max     982.00000  1016.000000     399.153846  65688.000000  1232.000000   \n",
       "\n",
       "          score_sum  upvote_ratio_mean  upvote_ratio_sum  title_polarity  \\\n",
       "count    497.000000         497.000000        497.000000      497.000000   \n",
       "mean     298.975855           0.834085         19.001408        0.123916   \n",
       "std     2868.185680           0.269196         29.387015        0.151626   \n",
       "min       11.000000           0.000000          0.000000       -0.366708   \n",
       "25%       14.000000           0.791000         10.800000        0.036111   \n",
       "50%       23.000000           0.974615         13.000000        0.113677   \n",
       "75%       49.000000           1.000000         19.760000        0.209041   \n",
       "max    53236.000000           1.000000        551.630000        1.000000   \n",
       "\n",
       "       title_subjectivity  body_polarity  body_subjectivity    polarity  \n",
       "count          497.000000     497.000000         497.000000  497.000000  \n",
       "mean             0.427431       0.105229           0.444014    0.229145  \n",
       "std              0.125662       0.061964           0.089176    0.175525  \n",
       "min              0.000000      -0.337492           0.000000   -0.322440  \n",
       "25%              0.351732       0.072717           0.423336    0.123898  \n",
       "50%              0.431250       0.106778           0.451936    0.216538  \n",
       "75%              0.500000       0.133978           0.482814    0.327671  \n",
       "max              1.000000       0.357143           0.742548    1.183293  "
      ]
     },
     "execution_count": 13,
     "metadata": {},
     "output_type": "execute_result"
    }
   ],
   "source": [
    "users_DD.describe()"
   ]
  },
  {
   "cell_type": "code",
   "execution_count": 14,
   "metadata": {},
   "outputs": [
    {
     "name": "stdout",
     "output_type": "stream",
     "text": [
      "<class 'pandas.core.frame.DataFrame'>\n",
      "Int64Index: 251 entries, 1 to 980\n",
      "Data columns (total 30 columns):\n",
      " #   Column              Non-Null Count  Dtype  \n",
      "---  ------              --------------  -----  \n",
      " 0   Unnamed: 0          251 non-null    int64  \n",
      " 1   author              251 non-null    object \n",
      " 2   id                  251 non-null    int64  \n",
      " 3   title               251 non-null    object \n",
      " 4   selftext            251 non-null    object \n",
      " 5   date                251 non-null    object \n",
      " 6   day                 251 non-null    object \n",
      " 7   month               251 non-null    object \n",
      " 8   year                251 non-null    object \n",
      " 9   tickers_            80 non-null     object \n",
      " 10  tickers_count_      251 non-null    object \n",
      " 11  link_flair_text     251 non-null    object \n",
      " 12  comments_mean       251 non-null    float64\n",
      " 13  comments_sum        251 non-null    int64  \n",
      " 14  score_mean          251 non-null    float64\n",
      " 15  score_sum           251 non-null    int64  \n",
      " 16  upvote_ratio_mean   251 non-null    float64\n",
      " 17  upvote_ratio_sum    251 non-null    float64\n",
      " 18  flairs              251 non-null    object \n",
      " 19  flairs_count        251 non-null    object \n",
      " 20  title_polarity      251 non-null    float64\n",
      " 21  title_subjectivity  251 non-null    float64\n",
      " 22  body_polarity       251 non-null    float64\n",
      " 23  body_subjectivity   251 non-null    float64\n",
      " 24  title_tokens        251 non-null    object \n",
      " 25  selftext_tokens     251 non-null    object \n",
      " 26  polarity            251 non-null    float64\n",
      " 27  years_count         251 non-null    object \n",
      " 28  months_count        251 non-null    object \n",
      " 29  dates_count         251 non-null    object \n",
      "dtypes: float64(9), int64(4), object(17)\n",
      "memory usage: 60.8+ KB\n"
     ]
    }
   ],
   "source": [
    "# by median \n",
    "users_DD_gt_Median = users_DD[users_DD['score_mean'] >= users_DD['score_mean'].median()]\n",
    "users_DD_gt_Median.info()"
   ]
  },
  {
   "cell_type": "code",
   "execution_count": 15,
   "metadata": {},
   "outputs": [],
   "source": [
    "users_DD_gt_Median.to_csv(\"data/stocks_users_DD_median.csv\",sep=';',index=False)"
   ]
  },
  {
   "cell_type": "code",
   "execution_count": 25,
   "metadata": {
    "colab": {
     "base_uri": "https://localhost:8080/"
    },
    "executionInfo": {
     "elapsed": 415,
     "status": "ok",
     "timestamp": 1640704651777,
     "user": {
      "displayName": "Pratik Agrawal",
      "photoUrl": "https://lh3.googleusercontent.com/a-/AOh14Gic3zhpzr916Y01z_b2NkfIWMHKiBe-fVqe5bj-AA=s64",
      "userId": "07645729797073748393"
     },
     "user_tz": -60
    },
    "id": "rdx9LEp2G3Tq",
    "outputId": "7d0ca635-494b-4bba-c263-dbc0ffe832d7"
   },
   "outputs": [
    {
     "name": "stdout",
     "output_type": "stream",
     "text": [
      "<class 'pandas.core.frame.DataFrame'>\n",
      "Int64Index: 18 entries, 27 to 940\n",
      "Data columns (total 29 columns):\n",
      " #   Column              Non-Null Count  Dtype  \n",
      "---  ------              --------------  -----  \n",
      " 0   author              18 non-null     object \n",
      " 1   id                  18 non-null     int64  \n",
      " 2   title               18 non-null     object \n",
      " 3   selftext            18 non-null     object \n",
      " 4   date                18 non-null     object \n",
      " 5   day                 18 non-null     object \n",
      " 6   month               18 non-null     object \n",
      " 7   year                18 non-null     object \n",
      " 8   tickers_            3 non-null      object \n",
      " 9   tickers_count_      18 non-null     object \n",
      " 10  link_flair_text     18 non-null     object \n",
      " 11  comments_mean       18 non-null     float64\n",
      " 12  comments_sum        18 non-null     int64  \n",
      " 13  score_mean          18 non-null     float64\n",
      " 14  score_sum           18 non-null     int64  \n",
      " 15  upvote_ratio_mean   18 non-null     float64\n",
      " 16  upvote_ratio_sum    18 non-null     float64\n",
      " 17  flairs              18 non-null     object \n",
      " 18  flairs_count        18 non-null     object \n",
      " 19  title_polarity      18 non-null     float64\n",
      " 20  title_subjectivity  18 non-null     float64\n",
      " 21  body_polarity       18 non-null     float64\n",
      " 22  body_subjectivity   18 non-null     float64\n",
      " 23  title_tokens        18 non-null     object \n",
      " 24  selftext_tokens     18 non-null     object \n",
      " 25  polarity            18 non-null     float64\n",
      " 26  years_count         18 non-null     object \n",
      " 27  months_count        18 non-null     object \n",
      " 28  dates_count         18 non-null     object \n",
      "dtypes: float64(9), int64(3), object(17)\n",
      "memory usage: 4.2+ KB\n"
     ]
    }
   ],
   "source": [
    "users_DD_top = users_DD[users_DD['score_mean'] > 60]\n",
    "users_DD_top.info()"
   ]
  },
  {
   "cell_type": "code",
   "execution_count": 26,
   "metadata": {
    "executionInfo": {
     "elapsed": 2465,
     "status": "ok",
     "timestamp": 1640704668067,
     "user": {
      "displayName": "Pratik Agrawal",
      "photoUrl": "https://lh3.googleusercontent.com/a-/AOh14Gic3zhpzr916Y01z_b2NkfIWMHKiBe-fVqe5bj-AA=s64",
      "userId": "07645729797073748393"
     },
     "user_tz": -60
    },
    "id": "lo4QzvqeH2jj"
   },
   "outputs": [],
   "source": [
    "users_DD.to_csv(\"/content/drive/MyDrive/stocks/stocks_users_DD.csv\",sep=';')"
   ]
  },
  {
   "cell_type": "markdown",
   "metadata": {
    "id": "8op-ogrT5zuO"
   },
   "source": [
    "## Can we rank the users according to their expertise?"
   ]
  },
  {
   "cell_type": "code",
   "execution_count": 27,
   "metadata": {
    "colab": {
     "base_uri": "https://localhost:8080/",
     "height": 1000
    },
    "executionInfo": {
     "elapsed": 443,
     "status": "ok",
     "timestamp": 1640704672593,
     "user": {
      "displayName": "Pratik Agrawal",
      "photoUrl": "https://lh3.googleusercontent.com/a-/AOh14Gic3zhpzr916Y01z_b2NkfIWMHKiBe-fVqe5bj-AA=s64",
      "userId": "07645729797073748393"
     },
     "user_tz": -60
    },
    "id": "VdHUTdNU6Ot3",
    "outputId": "53120d35-5360-4452-dca8-8779942c0243"
   },
   "outputs": [
    {
     "data": {
      "text/html": [
       "\n",
       "  <div id=\"df-0df1fe60-f5b6-4799-80e9-077cd9caef85\">\n",
       "    <div class=\"colab-df-container\">\n",
       "      <div>\n",
       "<style scoped>\n",
       "    .dataframe tbody tr th:only-of-type {\n",
       "        vertical-align: middle;\n",
       "    }\n",
       "\n",
       "    .dataframe tbody tr th {\n",
       "        vertical-align: top;\n",
       "    }\n",
       "\n",
       "    .dataframe thead th {\n",
       "        text-align: right;\n",
       "    }\n",
       "</style>\n",
       "<table border=\"1\" class=\"dataframe\">\n",
       "  <thead>\n",
       "    <tr style=\"text-align: right;\">\n",
       "      <th></th>\n",
       "      <th>author</th>\n",
       "      <th>id</th>\n",
       "      <th>title</th>\n",
       "      <th>selftext</th>\n",
       "      <th>date</th>\n",
       "      <th>day</th>\n",
       "      <th>month</th>\n",
       "      <th>year</th>\n",
       "      <th>tickers_</th>\n",
       "      <th>tickers_count_</th>\n",
       "      <th>link_flair_text</th>\n",
       "      <th>comments_mean</th>\n",
       "      <th>comments_sum</th>\n",
       "      <th>score_mean</th>\n",
       "      <th>score_sum</th>\n",
       "      <th>upvote_ratio_mean</th>\n",
       "      <th>upvote_ratio_sum</th>\n",
       "      <th>flairs</th>\n",
       "      <th>flairs_count</th>\n",
       "      <th>title_polarity</th>\n",
       "      <th>title_subjectivity</th>\n",
       "      <th>body_polarity</th>\n",
       "      <th>body_subjectivity</th>\n",
       "      <th>title_tokens</th>\n",
       "      <th>selftext_tokens</th>\n",
       "      <th>polarity</th>\n",
       "      <th>years_count</th>\n",
       "      <th>months_count</th>\n",
       "      <th>dates_count</th>\n",
       "    </tr>\n",
       "  </thead>\n",
       "  <tbody>\n",
       "    <tr>\n",
       "      <th>661</th>\n",
       "      <td>hooman_or_whatever</td>\n",
       "      <td>26</td>\n",
       "      <td>Quit my Career to Become a Day Trader/Entrepre...</td>\n",
       "      <td>Hello all!\\n\\nFor those who don't know the bac...</td>\n",
       "      <td>[2021-04-18, 2021-03-31, 2021-03-09, 2021-02-2...</td>\n",
       "      <td>18 31 9 26 25 24 16 16 9 3 3 2 25 22 14 10 9 8...</td>\n",
       "      <td>[4, 3, 3, 2, 2, 2, 2, 2, 2, 2, 2, 2, 1, 1, 1, ...</td>\n",
       "      <td>[2021, 2021, 2021, 2021, 2021, 2021, 2021, 202...</td>\n",
       "      <td>NaN</td>\n",
       "      <td>{}</td>\n",
       "      <td>Trades  Company Analysis Company Discussion Co...</td>\n",
       "      <td>399.153846</td>\n",
       "      <td>10378</td>\n",
       "      <td>1232.000000</td>\n",
       "      <td>32032</td>\n",
       "      <td>0.978077</td>\n",
       "      <td>25.43</td>\n",
       "      <td>['Trades', '', 'Company', 'Analysis', 'Company...</td>\n",
       "      <td>{'Trades': 1, '': 10, 'Company': 5, 'Analysis'...</td>\n",
       "      <td>0.094223</td>\n",
       "      <td>0.349148</td>\n",
       "      <td>0.089229</td>\n",
       "      <td>0.454340</td>\n",
       "      <td>['Quit', 'my', 'Career', 'to', 'Become', 'a', ...</td>\n",
       "      <td>['Hello', 'all', '!', '\\n\\n', 'For', 'those', ...</td>\n",
       "      <td>0.183452</td>\n",
       "      <td>{'2021': 15, '2020': 11}</td>\n",
       "      <td>{'4': 1, '3': 2, '2': 9, '1': 3, '12': 4, '11'...</td>\n",
       "      <td>{'2021-04-18': 1, '2021-03-31': 1, '2021-03-09...</td>\n",
       "    </tr>\n",
       "    <tr>\n",
       "      <th>807</th>\n",
       "      <td>one8e4</td>\n",
       "      <td>18</td>\n",
       "      <td>Regulations not always Negative Are there othe...</td>\n",
       "      <td>First will say, Not a supporter of socialism,\\...</td>\n",
       "      <td>[2021-07-27, 2021-07-16, 2021-05-27, 2021-04-1...</td>\n",
       "      <td>27 16 27 16 2 8 3 31 31 28 28 14 4 16 12 12 6 6</td>\n",
       "      <td>[7, 7, 5, 4, 3, 2, 2, 1, 1, 1, 1, 1, 1, 12, 12...</td>\n",
       "      <td>[2021, 2021, 2021, 2021, 2021, 2021, 2021, 202...</td>\n",
       "      <td>NaN</td>\n",
       "      <td>{}</td>\n",
       "      <td>Industry Discussion Advice Request Advice Comp...</td>\n",
       "      <td>150.500000</td>\n",
       "      <td>2709</td>\n",
       "      <td>676.555556</td>\n",
       "      <td>12178</td>\n",
       "      <td>0.974444</td>\n",
       "      <td>17.54</td>\n",
       "      <td>['Industry', 'Discussion', 'Advice', 'Request'...</td>\n",
       "      <td>{'Industry': 1, 'Discussion': 3, 'Advice': 6, ...</td>\n",
       "      <td>0.052333</td>\n",
       "      <td>0.407667</td>\n",
       "      <td>0.143329</td>\n",
       "      <td>0.574002</td>\n",
       "      <td>['Regulations', 'not', 'always', 'Negative', '...</td>\n",
       "      <td>['First', 'will', 'say', ',', 'Not', 'a', 'sup...</td>\n",
       "      <td>0.195662</td>\n",
       "      <td>{'2021': 13, '2020': 5}</td>\n",
       "      <td>{'7': 2, '5': 1, '4': 1, '3': 1, '2': 2, '1': ...</td>\n",
       "      <td>{'2021-07-27': 1, '2021-07-16': 1, '2021-05-27...</td>\n",
       "    </tr>\n",
       "    <tr>\n",
       "      <th>676</th>\n",
       "      <td>ilai_reddead</td>\n",
       "      <td>22</td>\n",
       "      <td>Why I think tech stocks are a good buy Why I d...</td>\n",
       "      <td>This is going to be a slightly interesting pos...</td>\n",
       "      <td>[2021-03-09, 2021-02-27, 2021-02-15, 2021-02-1...</td>\n",
       "      <td>9 27 15 13 13 13 11 2 1 1 1 30 29 29 28 28 28 ...</td>\n",
       "      <td>[3, 2, 2, 2, 2, 2, 2, 2, 2, 2, 2, 1, 1, 1, 1, ...</td>\n",
       "      <td>[2021, 2021, 2021, 2021, 2021, 2021, 2021, 202...</td>\n",
       "      <td>NaN</td>\n",
       "      <td>{}</td>\n",
       "      <td>Meta</td>\n",
       "      <td>184.818182</td>\n",
       "      <td>4066</td>\n",
       "      <td>440.590909</td>\n",
       "      <td>9693</td>\n",
       "      <td>0.935909</td>\n",
       "      <td>20.59</td>\n",
       "      <td>['', '', '', '', '', '', '', 'Meta', '', '', '...</td>\n",
       "      <td>{'': 21, 'Meta': 1}</td>\n",
       "      <td>0.044697</td>\n",
       "      <td>0.354545</td>\n",
       "      <td>0.096322</td>\n",
       "      <td>0.519839</td>\n",
       "      <td>['Why', 'I', 'think', 'tech', 'stocks', 'are',...</td>\n",
       "      <td>['This', 'is', 'going', 'to', 'be', 'a', 'slig...</td>\n",
       "      <td>0.141019</td>\n",
       "      <td>{'2021': 22}</td>\n",
       "      <td>{'3': 1, '2': 10, '1': 11}</td>\n",
       "      <td>{'2021-03-09': 1, '2021-02-27': 1, '2021-02-15...</td>\n",
       "    </tr>\n",
       "    <tr>\n",
       "      <th>27</th>\n",
       "      <td>AjaxFC1900</td>\n",
       "      <td>22</td>\n",
       "      <td>Janet Yellen to call for global minimum tax ra...</td>\n",
       "      <td>Janet Yellen will use her first major address ...</td>\n",
       "      <td>[2021-04-05, 2021-02-23, 2021-02-23, 2021-02-1...</td>\n",
       "      <td>5 23 23 12 10 24 24 18 18 31 31 27 27 26 26 2 ...</td>\n",
       "      <td>[4, 2, 2, 2, 2, 3, 2, 2, 2, 1, 1, 1, 1, 1, 1, ...</td>\n",
       "      <td>[2021, 2021, 2021, 2021, 2021, 2020, 2020, 202...</td>\n",
       "      <td>NaN</td>\n",
       "      <td>{}</td>\n",
       "      <td>Off topic: Political Bullshit Industry News C...</td>\n",
       "      <td>309.363636</td>\n",
       "      <td>6806</td>\n",
       "      <td>335.954545</td>\n",
       "      <td>7391</td>\n",
       "      <td>0.221364</td>\n",
       "      <td>4.87</td>\n",
       "      <td>['', 'Off', 'topic:', 'Political', 'Bullshit',...</td>\n",
       "      <td>{'': 17, 'Off': 1, 'topic:': 1, 'Political': 1...</td>\n",
       "      <td>0.086942</td>\n",
       "      <td>0.367358</td>\n",
       "      <td>0.078691</td>\n",
       "      <td>0.339481</td>\n",
       "      <td>['Janet', 'Yellen', 'to', 'call', 'for', 'glob...</td>\n",
       "      <td>['Janet', 'Yellen', 'will', 'use', 'her', 'fir...</td>\n",
       "      <td>0.165633</td>\n",
       "      <td>{'2021': 5, '2020': 10, '2019': 7}</td>\n",
       "      <td>{'4': 1, '2': 12, '3': 1, '1': 6, '12': 1, '5'...</td>\n",
       "      <td>{'2021-04-05': 1, '2021-02-23': 2, '2021-02-12...</td>\n",
       "    </tr>\n",
       "    <tr>\n",
       "      <th>153</th>\n",
       "      <td>Floofyboy</td>\n",
       "      <td>11</td>\n",
       "      <td>The \"crypt\" rule is a bit too strict VFV.TO vs...</td>\n",
       "      <td>Example: Some dude ask if coinbase is a good s...</td>\n",
       "      <td>[2021-05-23, 2021-04-20, 2021-04-03, 2021-03-1...</td>\n",
       "      <td>23 20 3 12 9 8 4 3 27 20 20</td>\n",
       "      <td>[5, 4, 4, 3, 3, 3, 3, 3, 2, 2, 2]</td>\n",
       "      <td>[2021, 2021, 2021, 2021, 2021, 2021, 2021, 202...</td>\n",
       "      <td>NaN</td>\n",
       "      <td>{}</td>\n",
       "      <td>Meta Advice Request Advice Industry Discussion...</td>\n",
       "      <td>127.909091</td>\n",
       "      <td>1407</td>\n",
       "      <td>257.454545</td>\n",
       "      <td>2832</td>\n",
       "      <td>0.939091</td>\n",
       "      <td>10.33</td>\n",
       "      <td>['Meta', 'Advice', 'Request', 'Advice', 'Indus...</td>\n",
       "      <td>{'Meta': 1, 'Advice': 7, 'Request': 4, 'Indust...</td>\n",
       "      <td>0.428571</td>\n",
       "      <td>0.467857</td>\n",
       "      <td>0.059493</td>\n",
       "      <td>0.506846</td>\n",
       "      <td>['The', '\"', 'crypt', '\"', 'rule', 'is', 'a', ...</td>\n",
       "      <td>['Example', ':', 'Some', 'dude', 'ask', 'if', ...</td>\n",
       "      <td>0.488064</td>\n",
       "      <td>{'2021': 11}</td>\n",
       "      <td>{'5': 1, '4': 2, '3': 5, '2': 3}</td>\n",
       "      <td>{'2021-05-23': 1, '2021-04-20': 1, '2021-04-03...</td>\n",
       "    </tr>\n",
       "  </tbody>\n",
       "</table>\n",
       "</div>\n",
       "      <button class=\"colab-df-convert\" onclick=\"convertToInteractive('df-0df1fe60-f5b6-4799-80e9-077cd9caef85')\"\n",
       "              title=\"Convert this dataframe to an interactive table.\"\n",
       "              style=\"display:none;\">\n",
       "        \n",
       "  <svg xmlns=\"http://www.w3.org/2000/svg\" height=\"24px\"viewBox=\"0 0 24 24\"\n",
       "       width=\"24px\">\n",
       "    <path d=\"M0 0h24v24H0V0z\" fill=\"none\"/>\n",
       "    <path d=\"M18.56 5.44l.94 2.06.94-2.06 2.06-.94-2.06-.94-.94-2.06-.94 2.06-2.06.94zm-11 1L8.5 8.5l.94-2.06 2.06-.94-2.06-.94L8.5 2.5l-.94 2.06-2.06.94zm10 10l.94 2.06.94-2.06 2.06-.94-2.06-.94-.94-2.06-.94 2.06-2.06.94z\"/><path d=\"M17.41 7.96l-1.37-1.37c-.4-.4-.92-.59-1.43-.59-.52 0-1.04.2-1.43.59L10.3 9.45l-7.72 7.72c-.78.78-.78 2.05 0 2.83L4 21.41c.39.39.9.59 1.41.59.51 0 1.02-.2 1.41-.59l7.78-7.78 2.81-2.81c.8-.78.8-2.07 0-2.86zM5.41 20L4 18.59l7.72-7.72 1.47 1.35L5.41 20z\"/>\n",
       "  </svg>\n",
       "      </button>\n",
       "      \n",
       "  <style>\n",
       "    .colab-df-container {\n",
       "      display:flex;\n",
       "      flex-wrap:wrap;\n",
       "      gap: 12px;\n",
       "    }\n",
       "\n",
       "    .colab-df-convert {\n",
       "      background-color: #E8F0FE;\n",
       "      border: none;\n",
       "      border-radius: 50%;\n",
       "      cursor: pointer;\n",
       "      display: none;\n",
       "      fill: #1967D2;\n",
       "      height: 32px;\n",
       "      padding: 0 0 0 0;\n",
       "      width: 32px;\n",
       "    }\n",
       "\n",
       "    .colab-df-convert:hover {\n",
       "      background-color: #E2EBFA;\n",
       "      box-shadow: 0px 1px 2px rgba(60, 64, 67, 0.3), 0px 1px 3px 1px rgba(60, 64, 67, 0.15);\n",
       "      fill: #174EA6;\n",
       "    }\n",
       "\n",
       "    [theme=dark] .colab-df-convert {\n",
       "      background-color: #3B4455;\n",
       "      fill: #D2E3FC;\n",
       "    }\n",
       "\n",
       "    [theme=dark] .colab-df-convert:hover {\n",
       "      background-color: #434B5C;\n",
       "      box-shadow: 0px 1px 3px 1px rgba(0, 0, 0, 0.15);\n",
       "      filter: drop-shadow(0px 1px 2px rgba(0, 0, 0, 0.3));\n",
       "      fill: #FFFFFF;\n",
       "    }\n",
       "  </style>\n",
       "\n",
       "      <script>\n",
       "        const buttonEl =\n",
       "          document.querySelector('#df-0df1fe60-f5b6-4799-80e9-077cd9caef85 button.colab-df-convert');\n",
       "        buttonEl.style.display =\n",
       "          google.colab.kernel.accessAllowed ? 'block' : 'none';\n",
       "\n",
       "        async function convertToInteractive(key) {\n",
       "          const element = document.querySelector('#df-0df1fe60-f5b6-4799-80e9-077cd9caef85');\n",
       "          const dataTable =\n",
       "            await google.colab.kernel.invokeFunction('convertToInteractive',\n",
       "                                                     [key], {});\n",
       "          if (!dataTable) return;\n",
       "\n",
       "          const docLinkHtml = 'Like what you see? Visit the ' +\n",
       "            '<a target=\"_blank\" href=https://colab.research.google.com/notebooks/data_table.ipynb>data table notebook</a>'\n",
       "            + ' to learn more about interactive tables.';\n",
       "          element.innerHTML = '';\n",
       "          dataTable['output_type'] = 'display_data';\n",
       "          await google.colab.output.renderOutput(dataTable, element);\n",
       "          const docLink = document.createElement('div');\n",
       "          docLink.innerHTML = docLinkHtml;\n",
       "          element.appendChild(docLink);\n",
       "        }\n",
       "      </script>\n",
       "    </div>\n",
       "  </div>\n",
       "  "
      ],
      "text/plain": [
       "                 author  ...                                        dates_count\n",
       "661  hooman_or_whatever  ...  {'2021-04-18': 1, '2021-03-31': 1, '2021-03-09...\n",
       "807              one8e4  ...  {'2021-07-27': 1, '2021-07-16': 1, '2021-05-27...\n",
       "676        ilai_reddead  ...  {'2021-03-09': 1, '2021-02-27': 1, '2021-02-15...\n",
       "27           AjaxFC1900  ...  {'2021-04-05': 1, '2021-02-23': 2, '2021-02-12...\n",
       "153           Floofyboy  ...  {'2021-05-23': 1, '2021-04-20': 1, '2021-04-03...\n",
       "\n",
       "[5 rows x 29 columns]"
      ]
     },
     "execution_count": 27,
     "metadata": {},
     "output_type": "execute_result"
    }
   ],
   "source": [
    "## rank users based on upvote ratio, num_comments etc.\n",
    "## order by score_mean \n",
    "users_DD = users_DD.sort_values(by=['score_mean'],ascending=False)\n",
    "users_DD.head()"
   ]
  },
  {
   "cell_type": "markdown",
   "metadata": {
    "id": "KFJYspNi544N"
   },
   "source": [
    "## Are the same users active in the other reviewed subreddits?"
   ]
  },
  {
   "cell_type": "code",
   "execution_count": null,
   "metadata": {
    "id": "nA2eLGEn6Xlk"
   },
   "outputs": [],
   "source": [
    "## compare users with investing and stocks\n",
    "\n",
    "# intersect top users of all three subreddits to find common users"
   ]
  }
 ],
 "metadata": {
  "colab": {
   "collapsed_sections": [],
   "name": "User-based analysis-Stocks_part-3.ipynb",
   "provenance": [
    {
     "file_id": "1nV-h_T7SdjJr-ZQ4ODv1oYydaIxbawAz",
     "timestamp": 1640700549793
    },
    {
     "file_id": "1tWgDXImEmVKdZ5V7p3KuL8GmSyLwdNw1",
     "timestamp": 1640539860022
    },
    {
     "file_id": "1S4BKDeLv9XQyDqK0ymyeCK1TdT8yb3BZ",
     "timestamp": 1640455382140
    },
    {
     "file_id": "1JAOnkijfCvj4DjFf8mWQ6DY0YvXgE1vW",
     "timestamp": 1640351633273
    },
    {
     "file_id": "16GiqDC3SxhPXfI9mRbxciRJXfjC7fIy8",
     "timestamp": 1639319709388
    }
   ]
  },
  "kernelspec": {
   "display_name": "Python 3",
   "language": "python",
   "name": "python3"
  },
  "language_info": {
   "codemirror_mode": {
    "name": "ipython",
    "version": 3
   },
   "file_extension": ".py",
   "mimetype": "text/x-python",
   "name": "python",
   "nbconvert_exporter": "python",
   "pygments_lexer": "ipython3",
   "version": "3.7.4"
  }
 },
 "nbformat": 4,
 "nbformat_minor": 4
}
