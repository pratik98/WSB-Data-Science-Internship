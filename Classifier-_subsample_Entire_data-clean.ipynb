{
 "cells": [
  {
   "cell_type": "code",
   "execution_count": 1,
   "metadata": {},
   "outputs": [],
   "source": [
    "%%capture\n",
    "from datetime import datetime\n",
    "import matplotlib\n",
    "matplotlib.use('Agg')\n",
    "import matplotlib.pyplot as plt\n",
    "import numpy as np\n",
    "import pandas as pd\n",
    "import json\n",
    "from io import StringIO\n",
    "from sklearn.feature_extraction.text import TfidfVectorizer\n",
    "from sklearn.feature_selection import chi2\n",
    "\n",
    "from sklearn.model_selection import train_test_split\n",
    "from sklearn.feature_extraction.text import CountVectorizer\n",
    "from sklearn.feature_extraction.text import TfidfTransformer\n",
    "from sklearn.naive_bayes import MultinomialNB\n",
    "\n",
    "from sklearn.linear_model import LogisticRegression\n",
    "from sklearn.ensemble import RandomForestClassifier\n",
    "from sklearn.svm import LinearSVC\n",
    "from sklearn.model_selection import cross_val_score\n",
    "from sklearn.metrics import confusion_matrix\n",
    "import seaborn as sns\n",
    "from IPython.display import display\n",
    "from sklearn import metrics\n",
    "plt.rcParams.update({\"font.size\": 12})\n",
    "%matplotlib inline"
   ]
  },
  {
   "cell_type": "code",
   "execution_count": 2,
   "metadata": {},
   "outputs": [],
   "source": [
    "wsb_common_users_data = pd.read_csv(\"data/WSB_data_with_emb.csv\",sep=';', usecols = ['title'], low_memory = True)\n",
    "stocks_common_users_data= pd.read_csv(\"stocks/data/stocks_submissions_all.csv\",sep=';', usecols = ['title'], low_memory = True)\n",
    "investing_common_users_data= pd.read_csv(\"investing/data/investing_submissions_all.csv\",sep=';', usecols = ['title'], low_memory = True)"
   ]
  },
  {
   "cell_type": "code",
   "execution_count": 3,
   "metadata": {},
   "outputs": [],
   "source": [
    "# Create new column denoting class label and combine into one df\n",
    "wsb_common_users_data['sub'] = 'wsb'\n",
    "stocks_common_users_data['sub'] = 'stocks'\n",
    "investing_common_users_data['sub'] = 'investing'"
   ]
  },
  {
   "cell_type": "code",
   "execution_count": 4,
   "metadata": {},
   "outputs": [
    {
     "data": {
      "text/html": [
       "<div>\n",
       "<style scoped>\n",
       "    .dataframe tbody tr th:only-of-type {\n",
       "        vertical-align: middle;\n",
       "    }\n",
       "\n",
       "    .dataframe tbody tr th {\n",
       "        vertical-align: top;\n",
       "    }\n",
       "\n",
       "    .dataframe thead th {\n",
       "        text-align: right;\n",
       "    }\n",
       "</style>\n",
       "<table border=\"1\" class=\"dataframe\">\n",
       "  <thead>\n",
       "    <tr style=\"text-align: right;\">\n",
       "      <th></th>\n",
       "      <th>title</th>\n",
       "      <th>sub</th>\n",
       "    </tr>\n",
       "  </thead>\n",
       "  <tbody>\n",
       "    <tr>\n",
       "      <th>0</th>\n",
       "      <td>SNAP seems like a great long-term buy at this ...</td>\n",
       "      <td>stocks</td>\n",
       "    </tr>\n",
       "  </tbody>\n",
       "</table>\n",
       "</div>"
      ],
      "text/plain": [
       "                                               title     sub\n",
       "0  SNAP seems like a great long-term buy at this ...  stocks"
      ]
     },
     "execution_count": 4,
     "metadata": {},
     "output_type": "execute_result"
    }
   ],
   "source": [
    "stocks_common_users_data.head(1)"
   ]
  },
  {
   "cell_type": "code",
   "execution_count": 5,
   "metadata": {},
   "outputs": [
    {
     "data": {
      "text/html": [
       "<div>\n",
       "<style scoped>\n",
       "    .dataframe tbody tr th:only-of-type {\n",
       "        vertical-align: middle;\n",
       "    }\n",
       "\n",
       "    .dataframe tbody tr th {\n",
       "        vertical-align: top;\n",
       "    }\n",
       "\n",
       "    .dataframe thead th {\n",
       "        text-align: right;\n",
       "    }\n",
       "</style>\n",
       "<table border=\"1\" class=\"dataframe\">\n",
       "  <thead>\n",
       "    <tr style=\"text-align: right;\">\n",
       "      <th></th>\n",
       "      <th>title</th>\n",
       "      <th>sub</th>\n",
       "    </tr>\n",
       "  </thead>\n",
       "  <tbody>\n",
       "    <tr>\n",
       "      <th>0</th>\n",
       "      <td>What do you use to invest?</td>\n",
       "      <td>investing</td>\n",
       "    </tr>\n",
       "  </tbody>\n",
       "</table>\n",
       "</div>"
      ],
      "text/plain": [
       "                        title        sub\n",
       "0  What do you use to invest?  investing"
      ]
     },
     "execution_count": 5,
     "metadata": {},
     "output_type": "execute_result"
    }
   ],
   "source": [
    "investing_common_users_data.head(1)"
   ]
  },
  {
   "cell_type": "code",
   "execution_count": 6,
   "metadata": {},
   "outputs": [],
   "source": [
    "all_data = wsb_common_users_data.append(investing_common_users_data, ignore_index=True)"
   ]
  },
  {
   "cell_type": "code",
   "execution_count": 7,
   "metadata": {},
   "outputs": [],
   "source": [
    "all_data = all_data.append(stocks_common_users_data, ignore_index=True)"
   ]
  },
  {
   "cell_type": "code",
   "execution_count": 8,
   "metadata": {},
   "outputs": [],
   "source": [
    "all_data = all_data[pd.notnull(all_data['title'])]"
   ]
  },
  {
   "cell_type": "code",
   "execution_count": 9,
   "metadata": {},
   "outputs": [
    {
     "data": {
      "text/html": [
       "<div>\n",
       "<style scoped>\n",
       "    .dataframe tbody tr th:only-of-type {\n",
       "        vertical-align: middle;\n",
       "    }\n",
       "\n",
       "    .dataframe tbody tr th {\n",
       "        vertical-align: top;\n",
       "    }\n",
       "\n",
       "    .dataframe thead th {\n",
       "        text-align: right;\n",
       "    }\n",
       "</style>\n",
       "<table border=\"1\" class=\"dataframe\">\n",
       "  <thead>\n",
       "    <tr style=\"text-align: right;\">\n",
       "      <th></th>\n",
       "      <th>title</th>\n",
       "      <th>sub</th>\n",
       "    </tr>\n",
       "  </thead>\n",
       "  <tbody>\n",
       "    <tr>\n",
       "      <th>0</th>\n",
       "      <td>BB</td>\n",
       "      <td>wsb</td>\n",
       "    </tr>\n",
       "  </tbody>\n",
       "</table>\n",
       "</div>"
      ],
      "text/plain": [
       "  title  sub\n",
       "0    BB  wsb"
      ]
     },
     "execution_count": 9,
     "metadata": {},
     "output_type": "execute_result"
    }
   ],
   "source": [
    "all_data.head(1)"
   ]
  },
  {
   "cell_type": "code",
   "execution_count": 10,
   "metadata": {},
   "outputs": [
    {
     "name": "stdout",
     "output_type": "stream",
     "text": [
      "<class 'pandas.core.frame.DataFrame'>\n",
      "Int64Index: 1144025 entries, 0 to 1144026\n",
      "Data columns (total 2 columns):\n",
      " #   Column  Non-Null Count    Dtype \n",
      "---  ------  --------------    ----- \n",
      " 0   title   1144025 non-null  object\n",
      " 1   sub     1144025 non-null  object\n",
      "dtypes: object(2)\n",
      "memory usage: 26.2+ MB\n"
     ]
    }
   ],
   "source": [
    "all_data.info()"
   ]
  },
  {
   "cell_type": "code",
   "execution_count": 11,
   "metadata": {},
   "outputs": [
    {
     "data": {
      "text/html": [
       "<div>\n",
       "<style scoped>\n",
       "    .dataframe tbody tr th:only-of-type {\n",
       "        vertical-align: middle;\n",
       "    }\n",
       "\n",
       "    .dataframe tbody tr th {\n",
       "        vertical-align: top;\n",
       "    }\n",
       "\n",
       "    .dataframe thead th {\n",
       "        text-align: right;\n",
       "    }\n",
       "</style>\n",
       "<table border=\"1\" class=\"dataframe\">\n",
       "  <thead>\n",
       "    <tr style=\"text-align: right;\">\n",
       "      <th></th>\n",
       "      <th>title</th>\n",
       "      <th>sub</th>\n",
       "      <th>sub_id</th>\n",
       "    </tr>\n",
       "  </thead>\n",
       "  <tbody>\n",
       "    <tr>\n",
       "      <th>0</th>\n",
       "      <td>BB</td>\n",
       "      <td>wsb</td>\n",
       "      <td>0</td>\n",
       "    </tr>\n",
       "    <tr>\n",
       "      <th>1</th>\n",
       "      <td>Surely it is a coincidence.</td>\n",
       "      <td>wsb</td>\n",
       "      <td>0</td>\n",
       "    </tr>\n",
       "    <tr>\n",
       "      <th>2</th>\n",
       "      <td>yolo sava options</td>\n",
       "      <td>wsb</td>\n",
       "      <td>0</td>\n",
       "    </tr>\n",
       "    <tr>\n",
       "      <th>3</th>\n",
       "      <td>meme</td>\n",
       "      <td>wsb</td>\n",
       "      <td>0</td>\n",
       "    </tr>\n",
       "    <tr>\n",
       "      <th>4</th>\n",
       "      <td>BB</td>\n",
       "      <td>wsb</td>\n",
       "      <td>0</td>\n",
       "    </tr>\n",
       "  </tbody>\n",
       "</table>\n",
       "</div>"
      ],
      "text/plain": [
       "                         title  sub  sub_id\n",
       "0                           BB  wsb       0\n",
       "1  Surely it is a coincidence.  wsb       0\n",
       "2            yolo sava options  wsb       0\n",
       "3                         meme  wsb       0\n",
       "4                           BB  wsb       0"
      ]
     },
     "execution_count": 11,
     "metadata": {},
     "output_type": "execute_result"
    }
   ],
   "source": [
    "all_data['sub_id'] = all_data['sub'].factorize()[0]\n",
    "category_id_df = all_data[['sub', 'sub_id']].drop_duplicates().sort_values('sub_id')\n",
    "category_to_id = dict(category_id_df.values)\n",
    "id_to_category = dict(category_id_df[['sub_id', 'sub']].values)\n",
    "all_data.head()"
   ]
  },
  {
   "cell_type": "code",
   "execution_count": 12,
   "metadata": {},
   "outputs": [],
   "source": [
    "sample_data_1=all_data[all_data['sub']=='wsb'].sample(frac = 0.025)"
   ]
  },
  {
   "cell_type": "code",
   "execution_count": 13,
   "metadata": {},
   "outputs": [
    {
     "name": "stdout",
     "output_type": "stream",
     "text": [
      "<class 'pandas.core.frame.DataFrame'>\n",
      "Int64Index: 21544 entries, 44878 to 198268\n",
      "Data columns (total 3 columns):\n",
      " #   Column  Non-Null Count  Dtype \n",
      "---  ------  --------------  ----- \n",
      " 0   title   21544 non-null  object\n",
      " 1   sub     21544 non-null  object\n",
      " 2   sub_id  21544 non-null  int64 \n",
      "dtypes: int64(1), object(2)\n",
      "memory usage: 673.2+ KB\n"
     ]
    }
   ],
   "source": [
    "sample_data_1.info()"
   ]
  },
  {
   "cell_type": "code",
   "execution_count": 14,
   "metadata": {},
   "outputs": [],
   "source": [
    "sample_data_2=all_data[all_data['sub']=='stocks'].sample(frac = 0.15)"
   ]
  },
  {
   "cell_type": "code",
   "execution_count": 15,
   "metadata": {},
   "outputs": [
    {
     "name": "stdout",
     "output_type": "stream",
     "text": [
      "<class 'pandas.core.frame.DataFrame'>\n",
      "Int64Index: 23176 entries, 1088343 to 1143802\n",
      "Data columns (total 3 columns):\n",
      " #   Column  Non-Null Count  Dtype \n",
      "---  ------  --------------  ----- \n",
      " 0   title   23176 non-null  object\n",
      " 1   sub     23176 non-null  object\n",
      " 2   sub_id  23176 non-null  int64 \n",
      "dtypes: int64(1), object(2)\n",
      "memory usage: 724.2+ KB\n"
     ]
    }
   ],
   "source": [
    "sample_data_2.info()"
   ]
  },
  {
   "cell_type": "code",
   "execution_count": 16,
   "metadata": {},
   "outputs": [],
   "source": [
    "sample_data_3=all_data[all_data['sub']=='investing'].sample(frac = 0.15)"
   ]
  },
  {
   "cell_type": "code",
   "execution_count": 17,
   "metadata": {},
   "outputs": [
    {
     "name": "stdout",
     "output_type": "stream",
     "text": [
      "<class 'pandas.core.frame.DataFrame'>\n",
      "Int64Index: 23176 entries, 1088343 to 1143802\n",
      "Data columns (total 3 columns):\n",
      " #   Column  Non-Null Count  Dtype \n",
      "---  ------  --------------  ----- \n",
      " 0   title   23176 non-null  object\n",
      " 1   sub     23176 non-null  object\n",
      " 2   sub_id  23176 non-null  int64 \n",
      "dtypes: int64(1), object(2)\n",
      "memory usage: 724.2+ KB\n"
     ]
    }
   ],
   "source": [
    "sample_data_2.info()"
   ]
  },
  {
   "cell_type": "code",
   "execution_count": 61,
   "metadata": {},
   "outputs": [],
   "source": [
    "sample_data = sample_data_1.append(sample_data_2, ignore_index=True)\n",
    "sample_data = sample_data.append(sample_data_3, ignore_index=True)\n",
    "sample_data = sample_data[pd.notnull(sample_data['title'])]"
   ]
  },
  {
   "cell_type": "code",
   "execution_count": 62,
   "metadata": {},
   "outputs": [
    {
     "data": {
      "image/png": "[encoded data removed]",
      "text/plain": [
       "<Figure size 576x432 with 1 Axes>"
      ]
     },
     "metadata": {
      "needs_background": "light"
     },
     "output_type": "display_data"
    }
   ],
   "source": [
    "fig = plt.figure(figsize=(8,6))\n",
    "all_data.groupby('sub').title.count().plot.bar(ylim=0)\n",
    "plt.show()"
   ]
  },
  {
   "cell_type": "code",
   "execution_count": 63,
   "metadata": {},
   "outputs": [
    {
     "data": {
      "image/png": "[encoded data removed]",
      "text/plain": [
       "<Figure size 576x432 with 1 Axes>"
      ]
     },
     "metadata": {
      "needs_background": "light"
     },
     "output_type": "display_data"
    }
   ],
   "source": [
    "fig = plt.figure(figsize=(8,6))\n",
    "sample_data.groupby('sub').title.count().plot.bar(ylim=0)\n",
    "plt.show()"
   ]
  },
  {
   "cell_type": "code",
   "execution_count": 64,
   "metadata": {},
   "outputs": [
    {
     "data": {
      "text/plain": [
       "'Whatdoyouusetoinvest'"
      ]
     },
     "execution_count": 64,
     "metadata": {},
     "output_type": "execute_result"
    }
   ],
   "source": [
    "import re\n",
    "re.sub('[^A-Za-z0-9]+','', 'What do you use to invest?🚀🚀🚀')"
   ]
  },
  {
   "cell_type": "code",
   "execution_count": 65,
   "metadata": {},
   "outputs": [
    {
     "data": {
      "text/plain": [
       "'what  do you  use  r to  🚀🚀🚀'"
      ]
     },
     "execution_count": 65,
     "metadata": {},
     "output_type": "execute_result"
    }
   ],
   "source": [
    "import string\n",
    "\n",
    "'What. wsb do$ you stocks use/  r/stocks to investing wallstreetbets?🚀🚀🚀'.lower().translate(str.maketrans('', '', string.punctuation)).replace(\"wsb\", \"\").replace(\"stocks\", \"\").replace(\"wallstreetbets\", \"\").replace(\"investing\", \"\")"
   ]
  },
  {
   "cell_type": "code",
   "execution_count": 67,
   "metadata": {},
   "outputs": [],
   "source": [
    "#clean titles to remove special characters, 'wsb','stocks','investing','wallstreetbets'\n",
    "sample_data['title'] = sample_data['title'].apply(lambda x: x.lower().translate(str.maketrans('', '', string.punctuation)).replace(\"wsb\", \"\").replace(\"stocks\", \"\").replace(\"wallstreetbets\", \"\").replace(\"investing\", \"\") )\n"
   ]
  },
  {
   "cell_type": "code",
   "execution_count": 68,
   "metadata": {},
   "outputs": [
    {
     "data": {
      "text/plain": [
       "0                                 amc is it the bottom\n",
       "1                 crsr update the pirates want tendies\n",
       "2    there is information that the crying kitten bu...\n",
       "3                                mark cuban approves 🚀\n",
       "4      what is now banned at rh in germany is all open\n",
       "Name: title, dtype: object"
      ]
     },
     "execution_count": 68,
     "metadata": {},
     "output_type": "execute_result"
    }
   ],
   "source": [
    "sample_data['title'][:5]"
   ]
  },
  {
   "cell_type": "code",
   "execution_count": 69,
   "metadata": {},
   "outputs": [
    {
     "data": {
      "text/plain": [
       "(63885, 6920)"
      ]
     },
     "execution_count": 69,
     "metadata": {},
     "output_type": "execute_result"
    }
   ],
   "source": [
    "tfidf = TfidfVectorizer(sublinear_tf=True, min_df=5, norm='l2', encoding='utf-8', ngram_range=(1, 1), stop_words='english',token_pattern=r'[^\\s]+')\n",
    "features = tfidf.fit_transform(sample_data.title).toarray() #+all_data.selftext\n",
    "labels = sample_data.sub_id\n",
    "features.shape"
   ]
  },
  {
   "cell_type": "code",
   "execution_count": 70,
   "metadata": {},
   "outputs": [
    {
     "name": "stdout",
     "output_type": "stream",
     "text": [
      "# 'investing':\n",
      "  . Most correlated unigrams:\n",
      ". vanguard\n",
      ". funds\n",
      ". 401k\n",
      ". mutual\n",
      ". bonds\n",
      ". index\n",
      ". questions\n",
      ". fund\n",
      ". moon\n",
      ". roth\n",
      ". amc\n",
      ". ira\n",
      ". gme\n",
      ". investment\n",
      ". invest\n",
      "# 'stocks':\n",
      "  . Most correlated unigrams:\n",
      ". new\n",
      ". fucking\n",
      ". tendies\n",
      ". amc\n",
      ". apes\n",
      ". fuck\n",
      ". 🚀🚀🚀\n",
      ". retards\n",
      ". question\n",
      ". trading\n",
      ". yolo\n",
      ". moon\n",
      ". gme\n",
      ". thoughts\n",
      ". stock\n",
      "# 'wsb':\n",
      "  . Most correlated unigrams:\n",
      ". fucking\n",
      ". question\n",
      ". fuck\n",
      ". retards\n",
      ". 🚀\n",
      ". stock\n",
      ". apes\n",
      ". hold\n",
      ". bb\n",
      ". invest\n",
      ". 🚀🚀🚀\n",
      ". yolo\n",
      ". amc\n",
      ". moon\n",
      ". gme\n"
     ]
    }
   ],
   "source": [
    "N = 15\n",
    "for Product, category_id in sorted(category_to_id.items()):\n",
    "   # X{array-like, sparse matrix} of shape (n_samples, n_features)\n",
    "    #y -array-like of shape (n_samples,)\n",
    "    #Target vector (class labels).\n",
    "  features_chi2 = chi2(features, labels == category_id) \n",
    "\n",
    "  indices = np.argsort(features_chi2[0])\n",
    "  feature_names = np.array(tfidf.get_feature_names())[indices]\n",
    "  unigrams = [v for v in feature_names if len(v.split(' ')) == 1]\n",
    "  print(\"# '{}':\".format(Product))\n",
    "  print(\"  . Most correlated unigrams:\\n. {}\".format('\\n. '.join(unigrams[-N:])))\n",
    " "
   ]
  },
  {
   "cell_type": "code",
   "execution_count": 72,
   "metadata": {},
   "outputs": [],
   "source": [
    "X_train, X_test, y_train, y_test = train_test_split(sample_data['title'], sample_data['sub'], random_state = 0)\n",
    "count_vect = CountVectorizer(token_pattern=r'[^\\s]+')#analyzer = 'char', binary = True)\n",
    "X_train_counts = count_vect.fit_transform(X_train)\n",
    "tfidf_transformer = TfidfTransformer()\n",
    "X_train_tfidf = tfidf_transformer.fit_transform(X_train_counts)\n",
    "clf = MultinomialNB().fit(X_train_tfidf, y_train)"
   ]
  },
  {
   "cell_type": "code",
   "execution_count": 73,
   "metadata": {},
   "outputs": [
    {
     "name": "stdout",
     "output_type": "stream",
     "text": [
      "['wsb']\n"
     ]
    }
   ],
   "source": [
    "print(clf.predict(count_vect.transform([\"🦍\"])))"
   ]
  },
  {
   "cell_type": "code",
   "execution_count": 74,
   "metadata": {},
   "outputs": [
    {
     "name": "stdout",
     "output_type": "stream",
     "text": [
      "['wsb']\n"
     ]
    }
   ],
   "source": [
    "print(clf.predict(count_vect.transform([\"🚀\"])))"
   ]
  },
  {
   "cell_type": "code",
   "execution_count": 75,
   "metadata": {},
   "outputs": [
    {
     "data": {
      "image/png": "[encoded data removed]",
      "text/plain": [
       "<Figure size 432x288 with 1 Axes>"
      ]
     },
     "metadata": {
      "needs_background": "light"
     },
     "output_type": "display_data"
    }
   ],
   "source": [
    "models = [\n",
    "    LinearSVC(),\n",
    "    MultinomialNB(),\n",
    "    LogisticRegression(random_state=0,max_iter=3000),\n",
    "]\n",
    "CV = 5\n",
    "cv_df = pd.DataFrame(index=range(CV * len(models)))\n",
    "entries = []\n",
    "for model in models:\n",
    "  model_name = model.__class__.__name__\n",
    "  accuracies = cross_val_score(model, features, labels, scoring='accuracy', cv=CV)\n",
    "  for fold_idx, accuracy in enumerate(accuracies):\n",
    "    entries.append((model_name, fold_idx, accuracy))\n",
    "cv_df = pd.DataFrame(entries, columns=['model_name', 'fold_idx', 'accuracy'])\n",
    "import seaborn as sns\n",
    "sns.boxplot(x='model_name', y='accuracy', data=cv_df)\n",
    "sns.stripplot(x='model_name', y='accuracy', data=cv_df, \n",
    "              size=8, jitter=True, edgecolor=\"gray\", linewidth=2)\n",
    "plt.show()"
   ]
  },
  {
   "cell_type": "code",
   "execution_count": 76,
   "metadata": {},
   "outputs": [
    {
     "data": {
      "text/plain": [
       "model_name\n",
       "LinearSVC             0.590890\n",
       "LogisticRegression    0.601174\n",
       "MultinomialNB         0.604931\n",
       "Name: accuracy, dtype: float64"
      ]
     },
     "execution_count": 76,
     "metadata": {},
     "output_type": "execute_result"
    }
   ],
   "source": [
    "cv_df.groupby('model_name').accuracy.mean()"
   ]
  },
  {
   "cell_type": "code",
   "execution_count": 77,
   "metadata": {},
   "outputs": [
    {
     "data": {
      "text/plain": [
       "array(['wsb', 'investing', 'stocks'], dtype=object)"
      ]
     },
     "execution_count": 77,
     "metadata": {},
     "output_type": "execute_result"
    }
   ],
   "source": [
    "category_id_df['sub'].values"
   ]
  },
  {
   "cell_type": "code",
   "execution_count": 78,
   "metadata": {},
   "outputs": [
    {
     "data": {
      "image/png": "[encoded data removed]",
      "text/plain": [
       "<Figure size 720x720 with 2 Axes>"
      ]
     },
     "metadata": {
      "needs_background": "light"
     },
     "output_type": "display_data"
    }
   ],
   "source": [
    "model = MultinomialNB()\n",
    "X_train, X_test, y_train, y_test, indices_train, indices_test = train_test_split(features, labels, sample_data.index, test_size=0.33, random_state=0)\n",
    "model.fit(X_train, y_train)\n",
    "y_pred = model.predict(X_test)\n",
    "from sklearn.metrics import confusion_matrix\n",
    "conf_mat = confusion_matrix(y_test, y_pred)\n",
    "fig, ax = plt.subplots(figsize=(10,10))\n",
    "sns.heatmap(conf_mat, annot=True, fmt='d',\n",
    "            xticklabels=category_id_df['sub'].values, yticklabels=category_id_df['sub'].values)\n",
    "plt.ylabel('Actual')\n",
    "plt.xlabel('Predicted')\n",
    "plt.show()"
   ]
  },
  {
   "cell_type": "code",
   "execution_count": 79,
   "metadata": {},
   "outputs": [
    {
     "data": {
      "text/html": [
       "<div>\n",
       "<style scoped>\n",
       "    .dataframe tbody tr th:only-of-type {\n",
       "        vertical-align: middle;\n",
       "    }\n",
       "\n",
       "    .dataframe tbody tr th {\n",
       "        vertical-align: top;\n",
       "    }\n",
       "\n",
       "    .dataframe thead th {\n",
       "        text-align: right;\n",
       "    }\n",
       "</style>\n",
       "<table border=\"1\" class=\"dataframe\">\n",
       "  <thead>\n",
       "    <tr style=\"text-align: right;\">\n",
       "      <th></th>\n",
       "      <th>sub</th>\n",
       "      <th>sub_id</th>\n",
       "    </tr>\n",
       "  </thead>\n",
       "  <tbody>\n",
       "    <tr>\n",
       "      <th>0</th>\n",
       "      <td>wsb</td>\n",
       "      <td>0</td>\n",
       "    </tr>\n",
       "    <tr>\n",
       "      <th>861752</th>\n",
       "      <td>investing</td>\n",
       "      <td>1</td>\n",
       "    </tr>\n",
       "    <tr>\n",
       "      <th>989521</th>\n",
       "      <td>stocks</td>\n",
       "      <td>2</td>\n",
       "    </tr>\n",
       "  </tbody>\n",
       "</table>\n",
       "</div>"
      ],
      "text/plain": [
       "              sub  sub_id\n",
       "0             wsb       0\n",
       "861752  investing       1\n",
       "989521     stocks       2"
      ]
     },
     "execution_count": 79,
     "metadata": {},
     "output_type": "execute_result"
    }
   ],
   "source": [
    "category_id_df"
   ]
  },
  {
   "cell_type": "code",
   "execution_count": 80,
   "metadata": {},
   "outputs": [
    {
     "name": "stdout",
     "output_type": "stream",
     "text": [
      "'investing' predicted as 'wsb' : 738 examples.\n"
     ]
    },
    {
     "data": {
      "text/html": [
       "<div>\n",
       "<style scoped>\n",
       "    .dataframe tbody tr th:only-of-type {\n",
       "        vertical-align: middle;\n",
       "    }\n",
       "\n",
       "    .dataframe tbody tr th {\n",
       "        vertical-align: top;\n",
       "    }\n",
       "\n",
       "    .dataframe thead th {\n",
       "        text-align: right;\n",
       "    }\n",
       "</style>\n",
       "<table border=\"1\" class=\"dataframe\">\n",
       "  <thead>\n",
       "    <tr style=\"text-align: right;\">\n",
       "      <th></th>\n",
       "      <th>sub</th>\n",
       "      <th>title</th>\n",
       "    </tr>\n",
       "  </thead>\n",
       "  <tbody>\n",
       "    <tr>\n",
       "      <th>49551</th>\n",
       "      <td>investing</td>\n",
       "      <td>wow someone who isnt appalled by dave portnoy</td>\n",
       "    </tr>\n",
       "    <tr>\n",
       "      <th>52552</th>\n",
       "      <td>investing</td>\n",
       "      <td>“ elys gaming “</td>\n",
       "    </tr>\n",
       "    <tr>\n",
       "      <th>62755</th>\n",
       "      <td>investing</td>\n",
       "      <td>robinhood sent a margin account of 200000 to m...</td>\n",
       "    </tr>\n",
       "    <tr>\n",
       "      <th>48676</th>\n",
       "      <td>investing</td>\n",
       "      <td>if you had to short something what would it be...</td>\n",
       "    </tr>\n",
       "    <tr>\n",
       "      <th>61921</th>\n",
       "      <td>investing</td>\n",
       "      <td>this stock is a goldmine literally</td>\n",
       "    </tr>\n",
       "    <tr>\n",
       "      <th>...</th>\n",
       "      <td>...</td>\n",
       "      <td>...</td>\n",
       "    </tr>\n",
       "    <tr>\n",
       "      <th>46108</th>\n",
       "      <td>investing</td>\n",
       "      <td>how can shares shorted exceed the float ie mor...</td>\n",
       "    </tr>\n",
       "    <tr>\n",
       "      <th>49541</th>\n",
       "      <td>investing</td>\n",
       "      <td>skill or luck</td>\n",
       "    </tr>\n",
       "    <tr>\n",
       "      <th>46446</th>\n",
       "      <td>investing</td>\n",
       "      <td>completely forgot i had signed up for etoros c...</td>\n",
       "    </tr>\n",
       "    <tr>\n",
       "      <th>60193</th>\n",
       "      <td>investing</td>\n",
       "      <td>the bang rally was a pump and dump scheme by h...</td>\n",
       "    </tr>\n",
       "    <tr>\n",
       "      <th>63093</th>\n",
       "      <td>investing</td>\n",
       "      <td>lets address the elephant in the room</td>\n",
       "    </tr>\n",
       "  </tbody>\n",
       "</table>\n",
       "<p>738 rows × 2 columns</p>\n",
       "</div>"
      ],
      "text/plain": [
       "             sub                                              title\n",
       "49551  investing      wow someone who isnt appalled by dave portnoy\n",
       "52552  investing                                    “ elys gaming “\n",
       "62755  investing  robinhood sent a margin account of 200000 to m...\n",
       "48676  investing  if you had to short something what would it be...\n",
       "61921  investing                 this stock is a goldmine literally\n",
       "...          ...                                                ...\n",
       "46108  investing  how can shares shorted exceed the float ie mor...\n",
       "49541  investing                                      skill or luck\n",
       "46446  investing  completely forgot i had signed up for etoros c...\n",
       "60193  investing  the bang rally was a pump and dump scheme by h...\n",
       "63093  investing              lets address the elephant in the room\n",
       "\n",
       "[738 rows x 2 columns]"
      ]
     },
     "metadata": {},
     "output_type": "display_data"
    },
    {
     "name": "stdout",
     "output_type": "stream",
     "text": [
      "\n",
      "'stocks' predicted as 'wsb' : 1351 examples.\n"
     ]
    },
    {
     "data": {
      "text/html": [
       "<div>\n",
       "<style scoped>\n",
       "    .dataframe tbody tr th:only-of-type {\n",
       "        vertical-align: middle;\n",
       "    }\n",
       "\n",
       "    .dataframe tbody tr th {\n",
       "        vertical-align: top;\n",
       "    }\n",
       "\n",
       "    .dataframe thead th {\n",
       "        text-align: right;\n",
       "    }\n",
       "</style>\n",
       "<table border=\"1\" class=\"dataframe\">\n",
       "  <thead>\n",
       "    <tr style=\"text-align: right;\">\n",
       "      <th></th>\n",
       "      <th>sub</th>\n",
       "      <th>title</th>\n",
       "    </tr>\n",
       "  </thead>\n",
       "  <tbody>\n",
       "    <tr>\n",
       "      <th>23900</th>\n",
       "      <td>stocks</td>\n",
       "      <td>blackrock inc has officially hit the bottom of...</td>\n",
       "    </tr>\n",
       "    <tr>\n",
       "      <th>26987</th>\n",
       "      <td>stocks</td>\n",
       "      <td>charlie munger calls robinhood a ‘gambling par...</td>\n",
       "    </tr>\n",
       "    <tr>\n",
       "      <th>26880</th>\n",
       "      <td>stocks</td>\n",
       "      <td>holding onto 100 shares of bynd that i picked ...</td>\n",
       "    </tr>\n",
       "    <tr>\n",
       "      <th>39561</th>\n",
       "      <td>stocks</td>\n",
       "      <td>what should i buy tommorow</td>\n",
       "    </tr>\n",
       "    <tr>\n",
       "      <th>26852</th>\n",
       "      <td>stocks</td>\n",
       "      <td>limit order cancellation</td>\n",
       "    </tr>\n",
       "    <tr>\n",
       "      <th>...</th>\n",
       "      <td>...</td>\n",
       "      <td>...</td>\n",
       "    </tr>\n",
       "    <tr>\n",
       "      <th>22342</th>\n",
       "      <td>stocks</td>\n",
       "      <td>is it “wrong” to short</td>\n",
       "    </tr>\n",
       "    <tr>\n",
       "      <th>33828</th>\n",
       "      <td>stocks</td>\n",
       "      <td>sold cci this morning but balance available fo...</td>\n",
       "    </tr>\n",
       "    <tr>\n",
       "      <th>35198</th>\n",
       "      <td>stocks</td>\n",
       "      <td>hedge fund shit</td>\n",
       "    </tr>\n",
       "    <tr>\n",
       "      <th>32505</th>\n",
       "      <td>stocks</td>\n",
       "      <td>morning update for monday 062121</td>\n",
       "    </tr>\n",
       "    <tr>\n",
       "      <th>30850</th>\n",
       "      <td>stocks</td>\n",
       "      <td>can someone give me a tldr on weed</td>\n",
       "    </tr>\n",
       "  </tbody>\n",
       "</table>\n",
       "<p>1351 rows × 2 columns</p>\n",
       "</div>"
      ],
      "text/plain": [
       "          sub                                              title\n",
       "23900  stocks  blackrock inc has officially hit the bottom of...\n",
       "26987  stocks  charlie munger calls robinhood a ‘gambling par...\n",
       "26880  stocks  holding onto 100 shares of bynd that i picked ...\n",
       "39561  stocks                         what should i buy tommorow\n",
       "26852  stocks                           limit order cancellation\n",
       "...       ...                                                ...\n",
       "22342  stocks                            is it “wrong” to short \n",
       "33828  stocks  sold cci this morning but balance available fo...\n",
       "35198  stocks                                    hedge fund shit\n",
       "32505  stocks                   morning update for monday 062121\n",
       "30850  stocks                can someone give me a tldr on weed \n",
       "\n",
       "[1351 rows x 2 columns]"
      ]
     },
     "metadata": {},
     "output_type": "display_data"
    },
    {
     "name": "stdout",
     "output_type": "stream",
     "text": [
      "\n",
      "'wsb' predicted as 'investing' : 449 examples.\n"
     ]
    },
    {
     "data": {
      "text/html": [
       "<div>\n",
       "<style scoped>\n",
       "    .dataframe tbody tr th:only-of-type {\n",
       "        vertical-align: middle;\n",
       "    }\n",
       "\n",
       "    .dataframe tbody tr th {\n",
       "        vertical-align: top;\n",
       "    }\n",
       "\n",
       "    .dataframe thead th {\n",
       "        text-align: right;\n",
       "    }\n",
       "</style>\n",
       "<table border=\"1\" class=\"dataframe\">\n",
       "  <thead>\n",
       "    <tr style=\"text-align: right;\">\n",
       "      <th></th>\n",
       "      <th>sub</th>\n",
       "      <th>title</th>\n",
       "    </tr>\n",
       "  </thead>\n",
       "  <tbody>\n",
       "    <tr>\n",
       "      <th>14513</th>\n",
       "      <td>wsb</td>\n",
       "      <td>i wrote a script that tracks the day’s highest...</td>\n",
       "    </tr>\n",
       "    <tr>\n",
       "      <th>9836</th>\n",
       "      <td>wsb</td>\n",
       "      <td>its for your own protection</td>\n",
       "    </tr>\n",
       "    <tr>\n",
       "      <th>14487</th>\n",
       "      <td>wsb</td>\n",
       "      <td>sse crashed on cv news peaked twice during ful...</td>\n",
       "    </tr>\n",
       "    <tr>\n",
       "      <th>12114</th>\n",
       "      <td>wsb</td>\n",
       "      <td>the wallstreet bets network</td>\n",
       "    </tr>\n",
       "    <tr>\n",
       "      <th>12711</th>\n",
       "      <td>wsb</td>\n",
       "      <td>community  game using marketwatchs virtual sto...</td>\n",
       "    </tr>\n",
       "    <tr>\n",
       "      <th>...</th>\n",
       "      <td>...</td>\n",
       "      <td>...</td>\n",
       "    </tr>\n",
       "    <tr>\n",
       "      <th>10195</th>\n",
       "      <td>wsb</td>\n",
       "      <td>longshort signals for popular stonks</td>\n",
       "    </tr>\n",
       "    <tr>\n",
       "      <th>10166</th>\n",
       "      <td>wsb</td>\n",
       "      <td>teslas stock will be added to the sampp 500 in...</td>\n",
       "    </tr>\n",
       "    <tr>\n",
       "      <th>20702</th>\n",
       "      <td>wsb</td>\n",
       "      <td>dipping my toes into</td>\n",
       "    </tr>\n",
       "    <tr>\n",
       "      <th>12913</th>\n",
       "      <td>wsb</td>\n",
       "      <td>75k to 1k witness me some questionable trades ...</td>\n",
       "    </tr>\n",
       "    <tr>\n",
       "      <th>237</th>\n",
       "      <td>wsb</td>\n",
       "      <td>i want to get into trading would you mind answ...</td>\n",
       "    </tr>\n",
       "  </tbody>\n",
       "</table>\n",
       "<p>449 rows × 2 columns</p>\n",
       "</div>"
      ],
      "text/plain": [
       "       sub                                              title\n",
       "14513  wsb  i wrote a script that tracks the day’s highest...\n",
       "9836   wsb                        its for your own protection\n",
       "14487  wsb  sse crashed on cv news peaked twice during ful...\n",
       "12114  wsb                        the wallstreet bets network\n",
       "12711  wsb  community  game using marketwatchs virtual sto...\n",
       "...    ...                                                ...\n",
       "10195  wsb               longshort signals for popular stonks\n",
       "10166  wsb  teslas stock will be added to the sampp 500 in...\n",
       "20702  wsb                              dipping my toes into \n",
       "12913  wsb  75k to 1k witness me some questionable trades ...\n",
       "237    wsb  i want to get into trading would you mind answ...\n",
       "\n",
       "[449 rows x 2 columns]"
      ]
     },
     "metadata": {},
     "output_type": "display_data"
    },
    {
     "name": "stdout",
     "output_type": "stream",
     "text": [
      "\n",
      "'stocks' predicted as 'investing' : 1641 examples.\n"
     ]
    },
    {
     "data": {
      "text/html": [
       "<div>\n",
       "<style scoped>\n",
       "    .dataframe tbody tr th:only-of-type {\n",
       "        vertical-align: middle;\n",
       "    }\n",
       "\n",
       "    .dataframe tbody tr th {\n",
       "        vertical-align: top;\n",
       "    }\n",
       "\n",
       "    .dataframe thead th {\n",
       "        text-align: right;\n",
       "    }\n",
       "</style>\n",
       "<table border=\"1\" class=\"dataframe\">\n",
       "  <thead>\n",
       "    <tr style=\"text-align: right;\">\n",
       "      <th></th>\n",
       "      <th>sub</th>\n",
       "      <th>title</th>\n",
       "    </tr>\n",
       "  </thead>\n",
       "  <tbody>\n",
       "    <tr>\n",
       "      <th>24007</th>\n",
       "      <td>stocks</td>\n",
       "      <td>what is the best way to invest 1600 into a rot...</td>\n",
       "    </tr>\n",
       "    <tr>\n",
       "      <th>23864</th>\n",
       "      <td>stocks</td>\n",
       "      <td>19 year old  advice</td>\n",
       "    </tr>\n",
       "    <tr>\n",
       "      <th>29853</th>\n",
       "      <td>stocks</td>\n",
       "      <td>grab on netflix now</td>\n",
       "    </tr>\n",
       "    <tr>\n",
       "      <th>30481</th>\n",
       "      <td>stocks</td>\n",
       "      <td>genuine question regarding cryptocurrency</td>\n",
       "    </tr>\n",
       "    <tr>\n",
       "      <th>39839</th>\n",
       "      <td>stocks</td>\n",
       "      <td>windfall lump sum average or sell and reinvest</td>\n",
       "    </tr>\n",
       "    <tr>\n",
       "      <th>...</th>\n",
       "      <td>...</td>\n",
       "      <td>...</td>\n",
       "    </tr>\n",
       "    <tr>\n",
       "      <th>32931</th>\n",
       "      <td>stocks</td>\n",
       "      <td>sndl very exciting setup</td>\n",
       "    </tr>\n",
       "    <tr>\n",
       "      <th>28707</th>\n",
       "      <td>stocks</td>\n",
       "      <td>4000 per person to travel in the us a new bill...</td>\n",
       "    </tr>\n",
       "    <tr>\n",
       "      <th>36022</th>\n",
       "      <td>stocks</td>\n",
       "      <td>any good books for better understanding a comp...</td>\n",
       "    </tr>\n",
       "    <tr>\n",
       "      <th>42488</th>\n",
       "      <td>stocks</td>\n",
       "      <td>brokerage recommendation</td>\n",
       "    </tr>\n",
       "    <tr>\n",
       "      <th>33024</th>\n",
       "      <td>stocks</td>\n",
       "      <td>alternative to lumber industrial</td>\n",
       "    </tr>\n",
       "  </tbody>\n",
       "</table>\n",
       "<p>1641 rows × 2 columns</p>\n",
       "</div>"
      ],
      "text/plain": [
       "          sub                                              title\n",
       "24007  stocks  what is the best way to invest 1600 into a rot...\n",
       "23864  stocks                                19 year old  advice\n",
       "29853  stocks                                grab on netflix now\n",
       "30481  stocks          genuine question regarding cryptocurrency\n",
       "39839  stocks     windfall lump sum average or sell and reinvest\n",
       "...       ...                                                ...\n",
       "32931  stocks                           sndl very exciting setup\n",
       "28707  stocks  4000 per person to travel in the us a new bill...\n",
       "36022  stocks  any good books for better understanding a comp...\n",
       "42488  stocks                           brokerage recommendation\n",
       "33024  stocks                  alternative to lumber industrial \n",
       "\n",
       "[1641 rows x 2 columns]"
      ]
     },
     "metadata": {},
     "output_type": "display_data"
    },
    {
     "name": "stdout",
     "output_type": "stream",
     "text": [
      "\n",
      "'wsb' predicted as 'stocks' : 1593 examples.\n"
     ]
    },
    {
     "data": {
      "text/html": [
       "<div>\n",
       "<style scoped>\n",
       "    .dataframe tbody tr th:only-of-type {\n",
       "        vertical-align: middle;\n",
       "    }\n",
       "\n",
       "    .dataframe tbody tr th {\n",
       "        vertical-align: top;\n",
       "    }\n",
       "\n",
       "    .dataframe thead th {\n",
       "        text-align: right;\n",
       "    }\n",
       "</style>\n",
       "<table border=\"1\" class=\"dataframe\">\n",
       "  <thead>\n",
       "    <tr style=\"text-align: right;\">\n",
       "      <th></th>\n",
       "      <th>sub</th>\n",
       "      <th>title</th>\n",
       "    </tr>\n",
       "  </thead>\n",
       "  <tbody>\n",
       "    <tr>\n",
       "      <th>7757</th>\n",
       "      <td>wsb</td>\n",
       "      <td>pltr is tracking spy today</td>\n",
       "    </tr>\n",
       "    <tr>\n",
       "      <th>10918</th>\n",
       "      <td>wsb</td>\n",
       "      <td>bynd  will it drop on the 29th</td>\n",
       "    </tr>\n",
       "    <tr>\n",
       "      <th>6651</th>\n",
       "      <td>wsb</td>\n",
       "      <td>futu and gbs volatile buy</td>\n",
       "    </tr>\n",
       "    <tr>\n",
       "      <th>6289</th>\n",
       "      <td>wsb</td>\n",
       "      <td>how it started</td>\n",
       "    </tr>\n",
       "    <tr>\n",
       "      <th>11706</th>\n",
       "      <td>wsb</td>\n",
       "      <td>game on</td>\n",
       "    </tr>\n",
       "    <tr>\n",
       "      <th>...</th>\n",
       "      <td>...</td>\n",
       "      <td>...</td>\n",
       "    </tr>\n",
       "    <tr>\n",
       "      <th>12779</th>\n",
       "      <td>wsb</td>\n",
       "      <td>prostitution</td>\n",
       "    </tr>\n",
       "    <tr>\n",
       "      <th>6122</th>\n",
       "      <td>wsb</td>\n",
       "      <td>massively undervalued container tonnage provid...</td>\n",
       "    </tr>\n",
       "    <tr>\n",
       "      <th>19074</th>\n",
       "      <td>wsb</td>\n",
       "      <td>long on ostk amp tls</td>\n",
       "    </tr>\n",
       "    <tr>\n",
       "      <th>10645</th>\n",
       "      <td>wsb</td>\n",
       "      <td>tlry board continues support of merger with ap...</td>\n",
       "    </tr>\n",
       "    <tr>\n",
       "      <th>17557</th>\n",
       "      <td>wsb</td>\n",
       "      <td>tsla is undervalued at 1200 per share value is...</td>\n",
       "    </tr>\n",
       "  </tbody>\n",
       "</table>\n",
       "<p>1593 rows × 2 columns</p>\n",
       "</div>"
      ],
      "text/plain": [
       "       sub                                              title\n",
       "7757   wsb                         pltr is tracking spy today\n",
       "10918  wsb                     bynd  will it drop on the 29th\n",
       "6651   wsb                          futu and gbs volatile buy\n",
       "6289   wsb                                     how it started\n",
       "11706  wsb                                            game on\n",
       "...    ...                                                ...\n",
       "12779  wsb                                       prostitution\n",
       "6122   wsb  massively undervalued container tonnage provid...\n",
       "19074  wsb                               long on ostk amp tls\n",
       "10645  wsb  tlry board continues support of merger with ap...\n",
       "17557  wsb  tsla is undervalued at 1200 per share value is...\n",
       "\n",
       "[1593 rows x 2 columns]"
      ]
     },
     "metadata": {},
     "output_type": "display_data"
    },
    {
     "name": "stdout",
     "output_type": "stream",
     "text": [
      "\n",
      "'investing' predicted as 'stocks' : 2579 examples.\n"
     ]
    },
    {
     "data": {
      "text/html": [
       "<div>\n",
       "<style scoped>\n",
       "    .dataframe tbody tr th:only-of-type {\n",
       "        vertical-align: middle;\n",
       "    }\n",
       "\n",
       "    .dataframe tbody tr th {\n",
       "        vertical-align: top;\n",
       "    }\n",
       "\n",
       "    .dataframe thead th {\n",
       "        text-align: right;\n",
       "    }\n",
       "</style>\n",
       "<table border=\"1\" class=\"dataframe\">\n",
       "  <thead>\n",
       "    <tr style=\"text-align: right;\">\n",
       "      <th></th>\n",
       "      <th>sub</th>\n",
       "      <th>title</th>\n",
       "    </tr>\n",
       "  </thead>\n",
       "  <tbody>\n",
       "    <tr>\n",
       "      <th>62178</th>\n",
       "      <td>investing</td>\n",
       "      <td>why is teva stock doing so well</td>\n",
       "    </tr>\n",
       "    <tr>\n",
       "      <th>45041</th>\n",
       "      <td>investing</td>\n",
       "      <td>please review my portfolio</td>\n",
       "    </tr>\n",
       "    <tr>\n",
       "      <th>45721</th>\n",
       "      <td>investing</td>\n",
       "      <td>what will be a trigger for you to get out of a...</td>\n",
       "    </tr>\n",
       "    <tr>\n",
       "      <th>49636</th>\n",
       "      <td>investing</td>\n",
       "      <td>sos stock</td>\n",
       "    </tr>\n",
       "    <tr>\n",
       "      <th>59771</th>\n",
       "      <td>investing</td>\n",
       "      <td>thoughts on nok</td>\n",
       "    </tr>\n",
       "    <tr>\n",
       "      <th>...</th>\n",
       "      <td>...</td>\n",
       "      <td>...</td>\n",
       "    </tr>\n",
       "    <tr>\n",
       "      <th>50897</th>\n",
       "      <td>investing</td>\n",
       "      <td>brkab unaffected</td>\n",
       "    </tr>\n",
       "    <tr>\n",
       "      <th>53083</th>\n",
       "      <td>investing</td>\n",
       "      <td>asml stock is up 32 in the last 6 months</td>\n",
       "    </tr>\n",
       "    <tr>\n",
       "      <th>63239</th>\n",
       "      <td>investing</td>\n",
       "      <td>good to be alive</td>\n",
       "    </tr>\n",
       "    <tr>\n",
       "      <th>46221</th>\n",
       "      <td>investing</td>\n",
       "      <td>soinflation huh…what now</td>\n",
       "    </tr>\n",
       "    <tr>\n",
       "      <th>47309</th>\n",
       "      <td>investing</td>\n",
       "      <td>i am early but this is the next great leap for...</td>\n",
       "    </tr>\n",
       "  </tbody>\n",
       "</table>\n",
       "<p>2579 rows × 2 columns</p>\n",
       "</div>"
      ],
      "text/plain": [
       "             sub                                              title\n",
       "62178  investing                    why is teva stock doing so well\n",
       "45041  investing                         please review my portfolio\n",
       "45721  investing  what will be a trigger for you to get out of a...\n",
       "49636  investing                                          sos stock\n",
       "59771  investing                                    thoughts on nok\n",
       "...          ...                                                ...\n",
       "50897  investing                                   brkab unaffected\n",
       "53083  investing           asml stock is up 32 in the last 6 months\n",
       "63239  investing                                   good to be alive\n",
       "46221  investing                           soinflation huh…what now\n",
       "47309  investing  i am early but this is the next great leap for...\n",
       "\n",
       "[2579 rows x 2 columns]"
      ]
     },
     "metadata": {},
     "output_type": "display_data"
    },
    {
     "name": "stdout",
     "output_type": "stream",
     "text": [
      "\n"
     ]
    }
   ],
   "source": [
    "from IPython.display import display\n",
    "for predicted in category_id_df.sub_id:\n",
    "  for actual in category_id_df.sub_id:\n",
    "    if predicted != actual and conf_mat[actual, predicted] >= 10:\n",
    "      print(\"'{}' predicted as '{}' : {} examples.\".format(id_to_category[actual], id_to_category[predicted], conf_mat[actual, predicted]))\n",
    "      display(sample_data.loc[indices_test[(y_test == actual) & (y_pred == predicted)]][['sub', 'title']])\n",
    "      print('')"
   ]
  },
  {
   "cell_type": "code",
   "execution_count": 81,
   "metadata": {},
   "outputs": [
    {
     "data": {
      "text/plain": [
       "MultinomialNB()"
      ]
     },
     "execution_count": 81,
     "metadata": {},
     "output_type": "execute_result"
    }
   ],
   "source": [
    "model.fit(features, labels)\n"
   ]
  },
  {
   "cell_type": "code",
   "execution_count": 90,
   "metadata": {},
   "outputs": [
    {
     "name": "stdout",
     "output_type": "stream",
     "text": [
      "# 'investing':\n",
      "  . Top unigrams:\n",
      "       invest, stock, market, investment, question, advice, portfolio, help, buy, best, good, new, money, trading, vs, etf, funds, thoughts, etfs, looking, ira, does, fund, time, long, options, questions, index, term, account, roth, need, companies, start, investor, buying, just, company, investors, year, like, think, crypto, short, shares, cash, value, sell, price, robinhood\n",
      "# 'stocks':\n",
      "  . Top unigrams:\n",
      "       stock, buy, thoughts, market, new, trading, question, good, invest, help, advice, best, today, portfolio, sell, looking, long, buying, time, term, going, need, options, think, does, short, tesla, price, gme, just, earnings, company, shares, investment, vs, money, robinhood, amc, day, free, 2021, etf, start, etfs, amp, like, week, use, know, companies\n",
      "# 'wsb':\n",
      "  . Top unigrams:\n",
      "       gme, amc, moon, hold, buy, robinhood, just, like, stock, yolo, bb, going, short, today, holding, 🚀, time, 🚀🚀🚀, im, market, nok, sell, apes, right, i’m, new, fuck, calls, bought, shares, money, guys, squeeze, week, did, doing, day, think, got, lets, tomorrow, fucking, trading, retards, make, puts, know, dont, good, it’s\n"
     ]
    }
   ],
   "source": [
    "N = 50\n",
    "for Product, category_id in sorted(category_to_id.items()):\n",
    "  indices = np.argsort(model.coef_[category_id])\n",
    "  feature_names = np.array(tfidf.get_feature_names())[indices]\n",
    "  unigrams = [v for v in reversed(feature_names) if len(v.split(' ')) == 1][:N]\n",
    "\n",
    "  print(\"# '{}':\".format(Product))\n",
    "  print(\"  . Top unigrams:\\n       {}\".format(', '.join(unigrams)))\n",
    "  "
   ]
  },
  {
   "cell_type": "code",
   "execution_count": 83,
   "metadata": {},
   "outputs": [
    {
     "name": "stdout",
     "output_type": "stream",
     "text": [
      "              precision    recall  f1-score   support\n",
      "\n",
      "         wsb       0.71      0.71      0.71      7065\n",
      "      stocks       0.59      0.48      0.53      6360\n",
      "   investing       0.53      0.61      0.57      7658\n",
      "\n",
      "    accuracy                           0.60     21083\n",
      "   macro avg       0.61      0.60      0.60     21083\n",
      "weighted avg       0.61      0.60      0.60     21083\n",
      "\n"
     ]
    }
   ],
   "source": [
    "print(metrics.classification_report(y_test, y_pred, target_names=sample_data['sub'].unique()))"
   ]
  },
  {
   "cell_type": "code",
   "execution_count": 84,
   "metadata": {},
   "outputs": [
    {
     "name": "stdout",
     "output_type": "stream",
     "text": [
      "# 'investing':\n",
      "(0, ('\\U0001f9a7', -10.747524048494917))\n",
      "(1, ('mobility', -10.747524048494917))\n",
      "(2, ('mobil', -10.747524048494917))\n",
      "(3, ('moass', -10.747524048494917))\n",
      "(4, ('mnmd', -10.747524048494917))\n",
      "(5, ('mms', -10.747524048494917))\n",
      "(6, ('mmat', -10.747524048494917))\n",
      "(7, ('mm', -10.747524048494917))\n",
      "(8, ('boyfriends', -10.747524048494917))\n",
      "(9, ('mjna', -10.747524048494917))\n",
      "(10, ('boyz', -10.747524048494917))\n",
      "(11, ('bp', -10.747524048494917))\n",
      "(12, ('brained', -10.747524048494917))\n",
      "(13, ('brains', -10.747524048494917))\n",
      "(14, ('brave', -10.747524048494917))\n",
      "(15, ('surely', -10.747524048494917))\n",
      "(16, ('surf', -10.747524048494917))\n",
      "(17, ('misinformation', -10.747524048494917))\n",
      "(18, ('mins', -10.747524048494917))\n",
      "(19, ('breakfast', -10.747524048494917))\n",
      "(20, ('mini', -10.747524048494917))\n",
      "(21, ('milk', -10.747524048494917))\n",
      "(22, ('breath', -10.747524048494917))\n",
      "(23, ('brethren', -10.747524048494917))\n",
      "(24, ('brew', -10.747524048494917))\n"
     ]
    },
    {
     "name": "stderr",
     "output_type": "stream",
     "text": [
      "C:\\Users\\96ank\\AppData\\Local\\Continuum\\anaconda3\\lib\\site-packages\\matplotlib\\backends\\backend_agg.py:238: RuntimeWarning: Glyph 129447 missing from current font.\n",
      "  font.set_text(s, 0.0, flags=flags)\n",
      "C:\\Users\\96ank\\AppData\\Local\\Continuum\\anaconda3\\lib\\site-packages\\matplotlib\\backends\\backend_agg.py:201: RuntimeWarning: Glyph 129447 missing from current font.\n",
      "  font.set_text(s, 0, flags=flags)\n"
     ]
    },
    {
     "data": {
      "image/png": "[encoded data removed]",
      "text/plain": [
       "<Figure size 720x1440 with 1 Axes>"
      ]
     },
     "metadata": {
      "needs_background": "light"
     },
     "output_type": "display_data"
    },
    {
     "name": "stdout",
     "output_type": "stream",
     "text": [
      "# 'stocks':\n",
      "(0, ('\\U0001f9a7', -10.831497099136689))\n",
      "(1, ('countrys', -10.831497099136689))\n",
      "(2, ('street’s', -10.831497099136689))\n",
      "(3, ('strap', -10.831497099136689))\n",
      "(4, ('crayon', -10.831497099136689))\n",
      "(5, ('stolen', -10.831497099136689))\n",
      "(6, ('crime', -10.831497099136689))\n",
      "(7, ('crowdfunding', -10.831497099136689))\n",
      "(8, ('cruz', -10.831497099136689))\n",
      "(9, ('stfu', -10.831497099136689))\n",
      "(10, ('cryptocurrencies', -10.831497099136689))\n",
      "(11, ('cuck', -10.831497099136689))\n",
      "(12, ('cucked', -10.831497099136689))\n",
      "(13, ('cucks', -10.831497099136689))\n",
      "(14, ('cum', -10.831497099136689))\n",
      "(15, ('stayed', -10.831497099136689))\n",
      "(16, ('cute', -10.831497099136689))\n",
      "(17, ('cuz', -10.831497099136689))\n",
      "(18, ('station', -10.831497099136689))\n",
      "(19, ('starring', -10.831497099136689))\n",
      "(20, ('dare', -10.831497099136689))\n",
      "(21, ('darkness', -10.831497099136689))\n",
      "(22, ('staring', -10.831497099136689))\n",
      "(23, ('daughter', -10.831497099136689))\n",
      "(24, ('dawn', -10.831497099136689))\n"
     ]
    },
    {
     "data": {
      "image/png": "[encoded data removed]",
      "text/plain": [
       "<Figure size 720x1440 with 1 Axes>"
      ]
     },
     "metadata": {
      "needs_background": "light"
     },
     "output_type": "display_data"
    },
    {
     "name": "stdout",
     "output_type": "stream",
     "text": [
      "# 'wsb':\n",
      "(0, ('caribbean', -10.806979571053768))\n",
      "(1, ('horizons', -10.806979571053768))\n",
      "(2, ('horizon', -10.806979571053768))\n",
      "(3, ('homework', -10.806979571053768))\n",
      "(4, ('homes', -10.806979571053768))\n",
      "(5, ('transparent', -10.806979571053768))\n",
      "(6, ('transportation', -10.806979571053768))\n",
      "(7, ('revolutionary', -10.806979571053768))\n",
      "(8, ('statements', -10.806979571053768))\n",
      "(9, ('vt', -10.806979571053768))\n",
      "(10, ('annualized', -10.806979571053768))\n",
      "(11, ('annuity', -10.806979571053768))\n",
      "(12, ('seed', -10.806979571053768))\n",
      "(13, ('hindsight', -10.806979571053768))\n",
      "(14, ('hims', -10.806979571053768))\n",
      "(15, ('sedg', -10.806979571053768))\n",
      "(16, ('rick', -10.806979571053768))\n",
      "(17, ('anticipating', -10.806979571053768))\n",
      "(18, ('antidumping', -10.806979571053768))\n",
      "(19, ('vryyf', -10.806979571053768))\n",
      "(20, ('trit', -10.806979571053768))\n",
      "(21, ('crispr', -10.806979571053768))\n",
      "(22, ('hostile', -10.806979571053768))\n",
      "(23, ('criteria', -10.806979571053768))\n",
      "(24, ('trailing', -10.806979571053768))\n"
     ]
    },
    {
     "data": {
      "image/png": "[encoded data removed]",
      "text/plain": [
       "<Figure size 720x1440 with 1 Axes>"
      ]
     },
     "metadata": {
      "needs_background": "light"
     },
     "output_type": "display_data"
    }
   ],
   "source": [
    "from matplotlib import pyplot\n",
    "for Product, category_id in sorted(category_to_id.items()):\n",
    "    print(\"# '{}':\".format(Product))\n",
    "    # summarize feature importance\n",
    "    importance = np.sort(model.coef_[category_id])\n",
    "    indices = np.argsort(model.coef_[category_id])\n",
    "    feature_names = np.array(tfidf.get_feature_names())[indices]\n",
    "    \n",
    "    for i,v in enumerate(zip(feature_names[:25],importance[:25])):\n",
    "        print((i,v))\n",
    "    # plot feature importance\n",
    "    pyplot.figure(figsize=(10,20))\n",
    "    pyplot.barh(feature_names[:25], importance[:25])    \n",
    "    pyplot.show()"
   ]
  },
  {
   "cell_type": "code",
   "execution_count": 85,
   "metadata": {},
   "outputs": [
    {
     "name": "stdout",
     "output_type": "stream",
     "text": [
      "# 'investing':\n",
      "(0, ('robinhood', -6.275536791220668))\n",
      "(1, ('price', -6.259393629163196))\n",
      "(2, ('sell', -6.257950638191942))\n",
      "(3, ('value', -6.244376253707492))\n",
      "(4, ('cash', -6.233251212324569))\n",
      "(5, ('shares', -6.222216171173681))\n",
      "(6, ('short', -6.22078055560165))\n",
      "(7, ('crypto', -6.2159457975894705))\n",
      "(8, ('think', -6.213260688072614))\n",
      "(9, ('like', -6.211171841243385))\n",
      "(10, ('year', -6.2060979501908236))\n",
      "(11, ('investors', -6.2042284576809115))\n",
      "(12, ('company', -6.151778064853554))\n",
      "(13, ('just', -6.151413040935695))\n",
      "(14, ('buying', -6.129436804912592))\n",
      "(15, ('investor', -6.109598099289279))\n",
      "(16, ('start', -6.073880482621268))\n",
      "(17, ('companies', -6.044065959428392))\n",
      "(18, ('need', -6.039986958689124))\n",
      "(19, ('roth', -6.036071560878954))\n",
      "(20, ('account', -6.0321594117903725))\n",
      "(21, ('term', -6.03130482565352))\n",
      "(22, ('index', -6.0001931874306145))\n",
      "(23, ('questions', -5.998627662910208))\n",
      "(24, ('options', -5.968210016253697))\n",
      "(25, ('long', -5.9490506890045785))\n",
      "(26, ('time', -5.93929854242785))\n",
      "(27, ('fund', -5.879636984026443))\n",
      "(28, ('does', -5.853192076405457))\n",
      "(29, ('ira', -5.8492348828280365))\n",
      "(30, ('looking', -5.830268541818424))\n",
      "(31, ('etfs', -5.822781942624731))\n",
      "(32, ('thoughts', -5.784587723453161))\n",
      "(33, ('funds', -5.778983360344663))\n",
      "(34, ('etf', -5.760033996331301))\n",
      "(35, ('vs', -5.733137403007224))\n",
      "(36, ('trading', -5.664149018823726))\n",
      "(37, ('money', -5.5835142358161685))\n",
      "(38, ('new', -5.545692341240713))\n",
      "(39, ('good', -5.532188726682262))\n",
      "(40, ('best', -5.513949374211269))\n",
      "(41, ('buy', -5.499804730818624))\n",
      "(42, ('help', -5.4899906740348765))\n",
      "(43, ('portfolio', -5.474488330751535))\n",
      "(44, ('advice', -5.312536080278171))\n",
      "(45, ('question', -5.289512234406823))\n",
      "(46, ('investment', -5.241408369663345))\n",
      "(47, ('market', -5.122335711060635))\n",
      "(48, ('stock', -4.93131239151121))\n",
      "(49, ('invest', -4.887258112109166))\n"
     ]
    },
    {
     "data": {
      "image/png": "[encoded data removed]",
      "text/plain": [
       "<Figure size 720x1440 with 1 Axes>"
      ]
     },
     "metadata": {
      "needs_background": "light"
     },
     "output_type": "display_data"
    },
    {
     "name": "stdout",
     "output_type": "stream",
     "text": [
      "# 'stocks':\n",
      "(0, ('companies', -6.275768941067118))\n",
      "(1, ('know', -6.271861660355956))\n",
      "(2, ('use', -6.2697992325713985))\n",
      "(3, ('week', -6.269403645738627))\n",
      "(4, ('like', -6.227926481428505))\n",
      "(5, ('amp', -6.216301475468634))\n",
      "(6, ('etfs', -6.185356467094203))\n",
      "(7, ('start', -6.179369645998885))\n",
      "(8, ('etf', -6.176588412273402))\n",
      "(9, ('2021', -6.172795293042716))\n",
      "(10, ('free', -6.141605335759226))\n",
      "(11, ('day', -6.122283724697095))\n",
      "(12, ('amc', -6.11052948044974))\n",
      "(13, ('robinhood', -6.109677003954146))\n",
      "(14, ('money', -6.0739108900270224))\n",
      "(15, ('vs', -6.047452001625887))\n",
      "(16, ('investment', -6.0457139333149525))\n",
      "(17, ('shares', -6.0308601896050895))\n",
      "(18, ('company', -6.029819878522383))\n",
      "(19, ('earnings', -6.019429153391136))\n",
      "(20, ('just', -5.997953065529613))\n",
      "(21, ('gme', -5.971683398854867))\n",
      "(22, ('price', -5.952157811047053))\n",
      "(23, ('tesla', -5.932643452221242))\n",
      "(24, ('short', -5.925503350684387))\n",
      "(25, ('does', -5.893436205241191))\n",
      "(26, ('think', -5.888438885851112))\n",
      "(27, ('options', -5.87620763378892))\n",
      "(28, ('need', -5.855587181250685))\n",
      "(29, ('going', -5.8441530028767295))\n",
      "(30, ('term', -5.809916470743863))\n",
      "(31, ('time', -5.799629445755427))\n",
      "(32, ('buying', -5.783430116538775))\n",
      "(33, ('long', -5.746288569596741))\n",
      "(34, ('looking', -5.7234828443106))\n",
      "(35, ('sell', -5.6940728259271935))\n",
      "(36, ('portfolio', -5.682466930652041))\n",
      "(37, ('today', -5.622029701906115))\n",
      "(38, ('best', -5.524781427075356))\n",
      "(39, ('advice', -5.4697916474342545))\n",
      "(40, ('help', -5.382194419326897))\n",
      "(41, ('invest', -5.377710677318239))\n",
      "(42, ('good', -5.343876609299648))\n",
      "(43, ('question', -5.156846393842526))\n",
      "(44, ('trading', -5.143816694084233))\n",
      "(45, ('new', -5.127482892060931))\n",
      "(46, ('market', -5.1149464299379135))\n",
      "(47, ('thoughts', -4.97301503472124))\n",
      "(48, ('buy', -4.829975864615864))\n",
      "(49, ('stock', -4.196404045726716))\n"
     ]
    },
    {
     "data": {
      "image/png": "[encoded data removed]",
      "text/plain": [
       "<Figure size 720x1440 with 1 Axes>"
      ]
     },
     "metadata": {
      "needs_background": "light"
     },
     "output_type": "display_data"
    },
    {
     "name": "stdout",
     "output_type": "stream",
     "text": [
      "# 'wsb':\n",
      "(0, ('it’s', -6.2252027100382135))\n",
      "(1, ('good', -6.206546962419671))\n",
      "(2, ('dont', -6.197824175425689))\n",
      "(3, ('know', -6.192647531670054))\n",
      "(4, ('puts', -6.189831071542105))\n",
      "(5, ('make', -6.189074675115439))\n",
      "(6, ('retards', -6.179655662734173))\n",
      "(7, ('trading', -6.174985729179601))\n",
      "(8, ('fucking', -6.165336493701708))\n",
      "(9, ('tomorrow', -6.153958112162183))\n",
      "(10, ('lets', -6.149796633491896))\n",
      "(11, ('got', -6.139369009835651))\n",
      "(12, ('think', -6.137829265287655))\n",
      "(13, ('day', -6.129950718000879))\n",
      "(14, ('doing', -6.129475293719672))\n",
      "(15, ('did', -6.122135250753932))\n",
      "(16, ('week', -6.110703511595588))\n",
      "(17, ('squeeze', -6.105404030846947))\n",
      "(18, ('guys', -6.0902094273186504))\n",
      "(19, ('money', -6.061579486458294))\n",
      "(20, ('shares', -6.023868687296341))\n",
      "(21, ('bought', -5.993381901974262))\n",
      "(22, ('calls', -5.9919919961798795))\n",
      "(23, ('fuck', -5.988153109805555))\n",
      "(24, ('new', -5.978987978511527))\n",
      "(25, ('i’m', -5.975702883055175))\n",
      "(26, ('right', -5.971152697307626))\n",
      "(27, ('apes', -5.960670175053979))\n",
      "(28, ('sell', -5.92674182338309))\n",
      "(29, ('nok', -5.9140362147290615))\n",
      "(30, ('market', -5.9041711425719665))\n",
      "(31, ('im', -5.828093671999034))\n",
      "(32, ('🚀🚀🚀', -5.817324845364793))\n",
      "(33, ('time', -5.785489495379264))\n",
      "(34, ('🚀', -5.735375577269069))\n",
      "(35, ('holding', -5.717083967743368))\n",
      "(36, ('today', -5.715604657521465))\n",
      "(37, ('short', -5.694915436866187))\n",
      "(38, ('going', -5.662390900766884))\n",
      "(39, ('bb', -5.63599581279594))\n",
      "(40, ('yolo', -5.6175705590285885))\n",
      "(41, ('stock', -5.538773656305583))\n",
      "(42, ('like', -5.451169563391103))\n",
      "(43, ('just', -5.370660092961465))\n",
      "(44, ('robinhood', -5.26692692712752))\n",
      "(45, ('buy', -5.129549230653))\n",
      "(46, ('hold', -5.114061188966741))\n",
      "(47, ('moon', -4.997876087487332))\n",
      "(48, ('amc', -4.843225041530105))\n",
      "(49, ('gme', -4.407699158453545))\n"
     ]
    },
    {
     "name": "stderr",
     "output_type": "stream",
     "text": [
      "C:\\Users\\96ank\\AppData\\Local\\Continuum\\anaconda3\\lib\\site-packages\\matplotlib\\backends\\backend_agg.py:238: RuntimeWarning: Glyph 128640 missing from current font.\n",
      "  font.set_text(s, 0.0, flags=flags)\n",
      "C:\\Users\\96ank\\AppData\\Local\\Continuum\\anaconda3\\lib\\site-packages\\matplotlib\\backends\\backend_agg.py:201: RuntimeWarning: Glyph 128640 missing from current font.\n",
      "  font.set_text(s, 0, flags=flags)\n"
     ]
    },
    {
     "data": {
      "image/png": "[encoded data removed]",
      "text/plain": [
       "<Figure size 720x1440 with 1 Axes>"
      ]
     },
     "metadata": {
      "needs_background": "light"
     },
     "output_type": "display_data"
    }
   ],
   "source": [
    "from matplotlib import pyplot\n",
    "for Product, category_id in sorted(category_to_id.items()):\n",
    "    print(\"# '{}':\".format(Product))\n",
    "    # summarize feature importance\n",
    "    importance = np.sort(model.coef_[category_id])\n",
    "    indices = np.argsort(model.coef_[category_id])\n",
    "    feature_names = np.array(tfidf.get_feature_names())[indices]\n",
    "    \n",
    "    for i,v in enumerate(zip(feature_names[(len(feature_names[:])-50):],importance[(len(feature_names[:])-50):])):\n",
    "        print((i,v))\n",
    "    # plot feature importance\n",
    "    #pyplot.bar([x for x in range(len(importance[:10]))], importance[:10])\n",
    "    pyplot.figure(figsize=(10,20))\n",
    "    pyplot.barh(feature_names[len(feature_names[:])-50:], importance[len(feature_names[:])-50:])    \n",
    "    pyplot.show()"
   ]
  },
  {
   "cell_type": "code",
   "execution_count": 91,
   "metadata": {},
   "outputs": [
    {
     "name": "stderr",
     "output_type": "stream",
     "text": [
      "C:\\Users\\96ank\\AppData\\Local\\Continuum\\anaconda3\\lib\\site-packages\\sklearn\\linear_model\\_logistic.py:764: ConvergenceWarning: lbfgs failed to converge (status=1):\n",
      "STOP: TOTAL NO. of ITERATIONS REACHED LIMIT.\n",
      "\n",
      "Increase the number of iterations (max_iter) or scale the data as shown in:\n",
      "    https://scikit-learn.org/stable/modules/preprocessing.html\n",
      "Please also refer to the documentation for alternative solver options:\n",
      "    https://scikit-learn.org/stable/modules/linear_model.html#logistic-regression\n",
      "  extra_warning_msg=_LOGISTIC_SOLVER_CONVERGENCE_MSG)\n"
     ]
    },
    {
     "data": {
      "image/png": "[encoded data removed]",
      "text/plain": [
       "<Figure size 720x720 with 2 Axes>"
      ]
     },
     "metadata": {
      "needs_background": "light"
     },
     "output_type": "display_data"
    }
   ],
   "source": [
    "model = LogisticRegression()\n",
    "X_train, X_test, y_train, y_test, indices_train, indices_test = train_test_split(features, labels, sample_data.index, test_size=0.33, random_state=0)\n",
    "model.fit(X_train, y_train)\n",
    "y_pred = model.predict(X_test)\n",
    "from sklearn.metrics import confusion_matrix\n",
    "conf_mat = confusion_matrix(y_test, y_pred)\n",
    "fig, ax = plt.subplots(figsize=(10,10))\n",
    "sns.heatmap(conf_mat, annot=True, fmt='d',\n",
    "            xticklabels=category_id_df['sub'].values, yticklabels=category_id_df['sub'].values)\n",
    "plt.ylabel('Actual')\n",
    "plt.xlabel('Predicted')\n",
    "plt.show()"
   ]
  },
  {
   "cell_type": "code",
   "execution_count": 92,
   "metadata": {},
   "outputs": [
    {
     "name": "stderr",
     "output_type": "stream",
     "text": [
      "C:\\Users\\96ank\\AppData\\Local\\Continuum\\anaconda3\\lib\\site-packages\\sklearn\\linear_model\\_logistic.py:764: ConvergenceWarning: lbfgs failed to converge (status=1):\n",
      "STOP: TOTAL NO. of ITERATIONS REACHED LIMIT.\n",
      "\n",
      "Increase the number of iterations (max_iter) or scale the data as shown in:\n",
      "    https://scikit-learn.org/stable/modules/preprocessing.html\n",
      "Please also refer to the documentation for alternative solver options:\n",
      "    https://scikit-learn.org/stable/modules/linear_model.html#logistic-regression\n",
      "  extra_warning_msg=_LOGISTIC_SOLVER_CONVERGENCE_MSG)\n"
     ]
    },
    {
     "data": {
      "text/plain": [
       "LogisticRegression()"
      ]
     },
     "execution_count": 92,
     "metadata": {},
     "output_type": "execute_result"
    }
   ],
   "source": [
    "model.fit(features, labels)"
   ]
  },
  {
   "cell_type": "code",
   "execution_count": 93,
   "metadata": {},
   "outputs": [
    {
     "name": "stdout",
     "output_type": "stream",
     "text": [
      "# 'investing':\n",
      "  . Top unigrams:\n",
      "       spitballin, bonds, estate, invest, crypto, ira, bitcoin, business, 401k, investment, etfs, loans, asset, retirement, assets, acorns, crowdfunding, bond, earn, questions, vanguard, startups, private, housing, gdp, equity, cryptocurrency, property, investments, buffett, intelligent, hsa, basic, 2018, compound, resident, investor, countries, fund, economy, etf, online, giveaway, registration, japanese, moronic, dca, yield, cryptocurrencies, reinvest\n",
      "# 'stocks':\n",
      "  . Top unigrams:\n",
      "       dgly, stock, shll, dkng, term, se, airlines, watchlist, etfs, enph, workhorse, utility, pink, gnus, plug, sqqq, mgm, codx, metaverse, thursday, r, alpp, dividend, recap, taper, mrna, 1600, etsy, therapeutics, bp, stoploss, corporation, salesforce, mojo, logistics, mro, fiasco, shopify, sq, question, synopsis, scyx, ties, jun, thoughts, dodge, sava, poised, tsx, depot\n",
      "# 'wsb':\n",
      "  . Top unigrams:\n",
      "       yolo, retards, retard, tendies, autist, autists, porn, 💎🙌, retarded, fucking, apes, melvin, ape, 🚀🚀, boys, 🌈🐻, 🚀🚀🚀, 🚀🚀🚀🚀, fuck, autism, gang, gme, autistic, clov, papa, degenerates, confirmed, dfv, thanks, memes, yolod, 💎👐, fucked, hands, blocking, allowing, jpow, stonk, lmao, shit, fuckers, bois, 69, we’re, hodl, ill, becky, log, hedgies, em\n"
     ]
    }
   ],
   "source": [
    "N = 50\n",
    "for Product, category_id in sorted(category_to_id.items()):\n",
    "  indices = np.argsort(model.coef_[category_id])\n",
    "  feature_names = np.array(tfidf.get_feature_names())[indices]\n",
    "  unigrams = [v for v in reversed(feature_names) if len(v.split(' ')) == 1][:N]\n",
    "\n",
    "  print(\"# '{}':\".format(Product))\n",
    "  print(\"  . Top unigrams:\\n       {}\".format(', '.join(unigrams)))\n",
    "  "
   ]
  },
  {
   "cell_type": "code",
   "execution_count": 94,
   "metadata": {},
   "outputs": [
    {
     "name": "stdout",
     "output_type": "stream",
     "text": [
      "              precision    recall  f1-score   support\n",
      "\n",
      "         wsb       0.70      0.71      0.70      7065\n",
      "      stocks       0.58      0.50      0.54      6360\n",
      "   investing       0.52      0.57      0.55      7658\n",
      "\n",
      "    accuracy                           0.60     21083\n",
      "   macro avg       0.60      0.59      0.59     21083\n",
      "weighted avg       0.60      0.60      0.59     21083\n",
      "\n"
     ]
    }
   ],
   "source": [
    "print(metrics.classification_report(y_test, y_pred, target_names=sample_data['sub'].unique()))"
   ]
  },
  {
   "cell_type": "code",
   "execution_count": 95,
   "metadata": {},
   "outputs": [
    {
     "name": "stdout",
     "output_type": "stream",
     "text": [
      "# 'investing':\n",
      "(0, ('reinvest', 1.4896490225616468))\n",
      "(1, ('cryptocurrencies', 1.489965447932738))\n",
      "(2, ('yield', 1.4960450833763197))\n",
      "(3, ('dca', 1.5011056822801314))\n",
      "(4, ('moronic', 1.509537189852371))\n",
      "(5, ('japanese', 1.5112730486063137))\n",
      "(6, ('registration', 1.5118372907107156))\n",
      "(7, ('giveaway', 1.5314541396425043))\n",
      "(8, ('online', 1.5322207578904816))\n",
      "(9, ('etf', 1.5323637504843495))\n",
      "(10, ('economy', 1.5341703629639039))\n",
      "(11, ('fund', 1.5371614102851685))\n",
      "(12, ('countries', 1.5562599855220463))\n",
      "(13, ('investor', 1.5566867758387417))\n",
      "(14, ('resident', 1.5575153827879062))\n",
      "(15, ('compound', 1.5700832933729336))\n",
      "(16, ('2018', 1.5725257048417913))\n",
      "(17, ('basic', 1.5830058188160558))\n",
      "(18, ('hsa', 1.5835811390264467))\n",
      "(19, ('intelligent', 1.6139280629553856))\n",
      "(20, ('buffett', 1.6168689107806524))\n",
      "(21, ('investments', 1.6243982055934416))\n",
      "(22, ('property', 1.6284321824092116))\n",
      "(23, ('cryptocurrency', 1.6705638119772834))\n",
      "(24, ('equity', 1.6736549812317443))\n",
      "(25, ('gdp', 1.689474885968013))\n",
      "(26, ('housing', 1.6962716196167424))\n",
      "(27, ('private', 1.7003709286950226))\n",
      "(28, ('startups', 1.701148999564951))\n",
      "(29, ('vanguard', 1.7068958067975437))\n",
      "(30, ('questions', 1.7118735390103654))\n",
      "(31, ('earn', 1.7193258543493446))\n",
      "(32, ('bond', 1.7243117407592583))\n",
      "(33, ('crowdfunding', 1.7572959434132673))\n",
      "(34, ('acorns', 1.7577527278752347))\n",
      "(35, ('assets', 1.797530867652439))\n",
      "(36, ('retirement', 1.8120913149159046))\n",
      "(37, ('asset', 1.8132959365091161))\n",
      "(38, ('loans', 1.8311402067140223))\n",
      "(39, ('etfs', 1.8457571237170727))\n",
      "(40, ('investment', 1.8638672763102393))\n",
      "(41, ('401k', 1.890918603668992))\n",
      "(42, ('business', 1.894990814274817))\n",
      "(43, ('bitcoin', 1.9114535452211088))\n",
      "(44, ('ira', 2.0149097402994864))\n",
      "(45, ('crypto', 2.0768788360956445))\n",
      "(46, ('invest', 2.091020624258631))\n",
      "(47, ('estate', 2.3566096820396223))\n",
      "(48, ('bonds', 2.3673649207332694))\n",
      "(49, ('spitballin', 2.998290550503033))\n"
     ]
    },
    {
     "data": {
      "image/png": "[encoded data removed]",
      "text/plain": [
       "<Figure size 720x1440 with 1 Axes>"
      ]
     },
     "metadata": {
      "needs_background": "light"
     },
     "output_type": "display_data"
    },
    {
     "name": "stdout",
     "output_type": "stream",
     "text": [
      "# 'stocks':\n",
      "(0, ('depot', 1.1094306242443943))\n",
      "(1, ('tsx', 1.1143229524334173))\n",
      "(2, ('poised', 1.1304846681937435))\n",
      "(3, ('sava', 1.1333010124529044))\n",
      "(4, ('dodge', 1.1333300193462612))\n",
      "(5, ('thoughts', 1.144897318419963))\n",
      "(6, ('jun', 1.1468640419982585))\n",
      "(7, ('ties', 1.1509768267152258))\n",
      "(8, ('scyx', 1.1538943209430712))\n",
      "(9, ('synopsis', 1.1588369143532282))\n",
      "(10, ('question', 1.1763645516385808))\n",
      "(11, ('sq', 1.1780257297371743))\n",
      "(12, ('shopify', 1.1782701502146484))\n",
      "(13, ('fiasco', 1.1803691150653106))\n",
      "(14, ('mro', 1.1879111167591911))\n",
      "(15, ('logistics', 1.1958914508188407))\n",
      "(16, ('mojo', 1.2011235319054696))\n",
      "(17, ('salesforce', 1.2054654224227666))\n",
      "(18, ('corporation', 1.209686146980411))\n",
      "(19, ('stoploss', 1.2206797794336142))\n",
      "(20, ('bp', 1.2361446279704473))\n",
      "(21, ('therapeutics', 1.2363541750233047))\n",
      "(22, ('etsy', 1.2427841396000634))\n",
      "(23, ('1600', 1.2457448013491437))\n",
      "(24, ('mrna', 1.2529640880158075))\n",
      "(25, ('taper', 1.2577628640170526))\n",
      "(26, ('recap', 1.2583990772267777))\n",
      "(27, ('dividend', 1.2597421550910732))\n",
      "(28, ('alpp', 1.2617268959584018))\n",
      "(29, ('r', 1.2625772915380087))\n",
      "(30, ('thursday', 1.2732242615152203))\n",
      "(31, ('metaverse', 1.2799381288575447))\n",
      "(32, ('codx', 1.293567546798263))\n",
      "(33, ('mgm', 1.2965776467209273))\n",
      "(34, ('sqqq', 1.3035829340805143))\n",
      "(35, ('plug', 1.313468074132993))\n",
      "(36, ('gnus', 1.3278920590844556))\n",
      "(37, ('pink', 1.351771713160826))\n",
      "(38, ('utility', 1.3613429467707328))\n",
      "(39, ('workhorse', 1.3699234600277683))\n",
      "(40, ('enph', 1.3759467501289855))\n",
      "(41, ('etfs', 1.3987468976215667))\n",
      "(42, ('watchlist', 1.4100029993770806))\n",
      "(43, ('airlines', 1.4145867959489895))\n",
      "(44, ('se', 1.4177731369112885))\n",
      "(45, ('term', 1.430976984900071))\n",
      "(46, ('dkng', 1.4574905416722859))\n",
      "(47, ('shll', 1.612833159569541))\n",
      "(48, ('stock', 1.64856523555599))\n",
      "(49, ('dgly', 1.6683370110791742))\n"
     ]
    },
    {
     "data": {
      "image/png": "[encoded data removed]",
      "text/plain": [
       "<Figure size 720x1440 with 1 Axes>"
      ]
     },
     "metadata": {
      "needs_background": "light"
     },
     "output_type": "display_data"
    },
    {
     "name": "stdout",
     "output_type": "stream",
     "text": [
      "# 'wsb':\n",
      "(0, ('em', 1.7828213008815605))\n",
      "(1, ('hedgies', 1.7829618408944823))\n",
      "(2, ('log', 1.7911127682691979))\n",
      "(3, ('becky', 1.79734058330796))\n",
      "(4, ('ill', 1.8057175507485181))\n",
      "(5, ('hodl', 1.8072836910585601))\n",
      "(6, ('we’re', 1.8152680986859036))\n",
      "(7, ('69', 1.8260325483043562))\n",
      "(8, ('bois', 1.8338419404416695))\n",
      "(9, ('fuckers', 1.8466735218563606))\n",
      "(10, ('shit', 1.8483322809402358))\n",
      "(11, ('lmao', 1.859236529503867))\n",
      "(12, ('stonk', 1.8789651597116215))\n",
      "(13, ('jpow', 1.879395163821834))\n",
      "(14, ('allowing', 1.881147718034342))\n",
      "(15, ('blocking', 1.8931612840844751))\n",
      "(16, ('hands', 1.9001640338876116))\n",
      "(17, ('fucked', 1.9067937033976536))\n",
      "(18, ('💎👐', 1.9164175651130757))\n",
      "(19, ('yolod', 1.9276361942623428))\n",
      "(20, ('memes', 1.9496218702539114))\n",
      "(21, ('thanks', 1.9506461970496312))\n",
      "(22, ('dfv', 1.9513680582207278))\n",
      "(23, ('confirmed', 2.0049080061654174))\n",
      "(24, ('degenerates', 2.021962835943594))\n",
      "(25, ('papa', 2.036915561015157))\n",
      "(26, ('clov', 2.044226955999547))\n",
      "(27, ('autistic', 2.0724119690452705))\n",
      "(28, ('gme', 2.2990338133899013))\n",
      "(29, ('gang', 2.3666616273801284))\n",
      "(30, ('autism', 2.372337483892581))\n",
      "(31, ('fuck', 2.391518057530003))\n",
      "(32, ('🚀🚀🚀🚀', 2.4004098668486464))\n",
      "(33, ('🚀🚀🚀', 2.516483921570422))\n",
      "(34, ('🌈🐻', 2.547778372533055))\n",
      "(35, ('boys', 2.5773550847907223))\n",
      "(36, ('🚀🚀', 2.589543248118777))\n",
      "(37, ('ape', 2.643203785384113))\n",
      "(38, ('melvin', 2.6812211875758516))\n",
      "(39, ('apes', 2.770288355470664))\n",
      "(40, ('fucking', 2.792555049154752))\n",
      "(41, ('retarded', 2.8460133346580947))\n",
      "(42, ('💎🙌', 2.9076423936786626))\n",
      "(43, ('porn', 3.2340006363517118))\n",
      "(44, ('autists', 3.3628254452021946))\n",
      "(45, ('autist', 3.396707803299572))\n",
      "(46, ('tendies', 3.5594639535818318))\n",
      "(47, ('retard', 3.937285761612039))\n",
      "(48, ('retards', 4.096984816033226))\n",
      "(49, ('yolo', 4.503537180248587))\n"
     ]
    },
    {
     "name": "stderr",
     "output_type": "stream",
     "text": [
      "C:\\Users\\96ank\\AppData\\Local\\Continuum\\anaconda3\\lib\\site-packages\\matplotlib\\backends\\backend_agg.py:238: RuntimeWarning: Glyph 128142 missing from current font.\n",
      "  font.set_text(s, 0.0, flags=flags)\n",
      "C:\\Users\\96ank\\AppData\\Local\\Continuum\\anaconda3\\lib\\site-packages\\matplotlib\\backends\\backend_agg.py:238: RuntimeWarning: Glyph 128080 missing from current font.\n",
      "  font.set_text(s, 0.0, flags=flags)\n",
      "C:\\Users\\96ank\\AppData\\Local\\Continuum\\anaconda3\\lib\\site-packages\\matplotlib\\backends\\backend_agg.py:238: RuntimeWarning: Glyph 128640 missing from current font.\n",
      "  font.set_text(s, 0.0, flags=flags)\n",
      "C:\\Users\\96ank\\AppData\\Local\\Continuum\\anaconda3\\lib\\site-packages\\matplotlib\\backends\\backend_agg.py:238: RuntimeWarning: Glyph 127752 missing from current font.\n",
      "  font.set_text(s, 0.0, flags=flags)\n",
      "C:\\Users\\96ank\\AppData\\Local\\Continuum\\anaconda3\\lib\\site-packages\\matplotlib\\backends\\backend_agg.py:238: RuntimeWarning: Glyph 128059 missing from current font.\n",
      "  font.set_text(s, 0.0, flags=flags)\n",
      "C:\\Users\\96ank\\AppData\\Local\\Continuum\\anaconda3\\lib\\site-packages\\matplotlib\\backends\\backend_agg.py:238: RuntimeWarning: Glyph 128588 missing from current font.\n",
      "  font.set_text(s, 0.0, flags=flags)\n",
      "C:\\Users\\96ank\\AppData\\Local\\Continuum\\anaconda3\\lib\\site-packages\\matplotlib\\backends\\backend_agg.py:201: RuntimeWarning: Glyph 128142 missing from current font.\n",
      "  font.set_text(s, 0, flags=flags)\n",
      "C:\\Users\\96ank\\AppData\\Local\\Continuum\\anaconda3\\lib\\site-packages\\matplotlib\\backends\\backend_agg.py:201: RuntimeWarning: Glyph 128080 missing from current font.\n",
      "  font.set_text(s, 0, flags=flags)\n",
      "C:\\Users\\96ank\\AppData\\Local\\Continuum\\anaconda3\\lib\\site-packages\\matplotlib\\backends\\backend_agg.py:201: RuntimeWarning: Glyph 128640 missing from current font.\n",
      "  font.set_text(s, 0, flags=flags)\n",
      "C:\\Users\\96ank\\AppData\\Local\\Continuum\\anaconda3\\lib\\site-packages\\matplotlib\\backends\\backend_agg.py:201: RuntimeWarning: Glyph 127752 missing from current font.\n",
      "  font.set_text(s, 0, flags=flags)\n",
      "C:\\Users\\96ank\\AppData\\Local\\Continuum\\anaconda3\\lib\\site-packages\\matplotlib\\backends\\backend_agg.py:201: RuntimeWarning: Glyph 128059 missing from current font.\n",
      "  font.set_text(s, 0, flags=flags)\n",
      "C:\\Users\\96ank\\AppData\\Local\\Continuum\\anaconda3\\lib\\site-packages\\matplotlib\\backends\\backend_agg.py:201: RuntimeWarning: Glyph 128588 missing from current font.\n",
      "  font.set_text(s, 0, flags=flags)\n"
     ]
    },
    {
     "data": {
      "image/png": "[encoded data removed]",
      "text/plain": [
       "<Figure size 720x1440 with 1 Axes>"
      ]
     },
     "metadata": {
      "needs_background": "light"
     },
     "output_type": "display_data"
    }
   ],
   "source": [
    "from matplotlib import pyplot\n",
    "for Product, category_id in sorted(category_to_id.items()):\n",
    "    print(\"# '{}':\".format(Product))\n",
    "    # summarize feature importance\n",
    "    importance = np.sort(model.coef_[category_id])\n",
    "    indices = np.argsort(model.coef_[category_id])\n",
    "    feature_names = np.array(tfidf.get_feature_names())[indices]\n",
    "    \n",
    "    for i,v in enumerate(zip(feature_names[(len(feature_names[:])-50):],importance[(len(feature_names[:])-50):])):\n",
    "        print((i,v))\n",
    "    # plot feature importance\n",
    "    #pyplot.bar([x for x in range(len(importance[:10]))], importance[:10])\n",
    "    pyplot.figure(figsize=(10,20))\n",
    "    pyplot.barh(feature_names[len(feature_names[:])-50:], importance[len(feature_names[:])-50:])    \n",
    "    pyplot.show()"
   ]
  },
  {
   "cell_type": "code",
   "execution_count": 103,
   "metadata": {},
   "outputs": [
    {
     "name": "stdout",
     "output_type": "stream",
     "text": [
      "# 'investing':\n",
      "(0, ('assets', 1.797530867652439))\n",
      "(1, ('retirement', 1.8120913149159046))\n",
      "(2, ('asset', 1.8132959365091161))\n",
      "(3, ('loans', 1.8311402067140223))\n",
      "(4, ('etfs', 1.8457571237170727))\n",
      "(5, ('investment', 1.8638672763102393))\n",
      "(6, ('401k', 1.890918603668992))\n",
      "(7, ('business', 1.894990814274817))\n",
      "(8, ('bitcoin', 1.9114535452211088))\n",
      "(9, ('ira', 2.0149097402994864))\n",
      "(10, ('crypto', 2.0768788360956445))\n",
      "(11, ('invest', 2.091020624258631))\n",
      "(12, ('estate', 2.3566096820396223))\n",
      "(13, ('bonds', 2.3673649207332694))\n",
      "(14, ('spitballin', 2.998290550503033))\n"
     ]
    },
    {
     "data": {
      "image/png": "[encoded data removed]",
      "text/plain": [
       "<Figure size 360x360 with 1 Axes>"
      ]
     },
     "metadata": {
      "needs_background": "light"
     },
     "output_type": "display_data"
    },
    {
     "name": "stdout",
     "output_type": "stream",
     "text": [
      "# 'stocks':\n",
      "(0, ('plug', 1.313468074132993))\n",
      "(1, ('gnus', 1.3278920590844556))\n",
      "(2, ('pink', 1.351771713160826))\n",
      "(3, ('utility', 1.3613429467707328))\n",
      "(4, ('workhorse', 1.3699234600277683))\n",
      "(5, ('enph', 1.3759467501289855))\n",
      "(6, ('etfs', 1.3987468976215667))\n",
      "(7, ('watchlist', 1.4100029993770806))\n",
      "(8, ('airlines', 1.4145867959489895))\n",
      "(9, ('se', 1.4177731369112885))\n",
      "(10, ('term', 1.430976984900071))\n",
      "(11, ('dkng', 1.4574905416722859))\n",
      "(12, ('shll', 1.612833159569541))\n",
      "(13, ('stock', 1.64856523555599))\n",
      "(14, ('dgly', 1.6683370110791742))\n"
     ]
    },
    {
     "data": {
      "image/png": "[encoded data removed]",
      "text/plain": [
       "<Figure size 360x360 with 1 Axes>"
      ]
     },
     "metadata": {
      "needs_background": "light"
     },
     "output_type": "display_data"
    },
    {
     "name": "stdout",
     "output_type": "stream",
     "text": [
      "# 'wsb':\n",
      "(0, ('boys', 2.5773550847907223))\n",
      "(1, ('🚀🚀', 2.589543248118777))\n",
      "(2, ('ape', 2.643203785384113))\n",
      "(3, ('melvin', 2.6812211875758516))\n",
      "(4, ('apes', 2.770288355470664))\n",
      "(5, ('fucking', 2.792555049154752))\n",
      "(6, ('retarded', 2.8460133346580947))\n",
      "(7, ('💎🙌', 2.9076423936786626))\n",
      "(8, ('porn', 3.2340006363517118))\n",
      "(9, ('autists', 3.3628254452021946))\n",
      "(10, ('autist', 3.396707803299572))\n",
      "(11, ('tendies', 3.5594639535818318))\n",
      "(12, ('retard', 3.937285761612039))\n",
      "(13, ('retards', 4.096984816033226))\n",
      "(14, ('yolo', 4.503537180248587))\n"
     ]
    },
    {
     "data": {
      "image/png": "[encoded data removed]",
      "text/plain": [
       "<Figure size 360x360 with 1 Axes>"
      ]
     },
     "metadata": {
      "needs_background": "light"
     },
     "output_type": "display_data"
    }
   ],
   "source": [
    "from matplotlib import pyplot\n",
    "for Product, category_id in sorted(category_to_id.items()):\n",
    "    print(\"# '{}':\".format(Product))\n",
    "    # summarize feature importance\n",
    "    importance = np.sort(model.coef_[category_id])\n",
    "    indices = np.argsort(model.coef_[category_id])\n",
    "    feature_names = np.array(tfidf.get_feature_names())[indices]\n",
    "    \n",
    "    for i,v in enumerate(zip(feature_names[(len(feature_names[:])-15):],importance[(len(feature_names[:])-15):])):\n",
    "        print((i,v))\n",
    "    # plot feature importance\n",
    "    #pyplot.bar([x for x in range(len(importance[:10]))], importance[:10])\n",
    "    pyplot.figure(figsize=(5,5))\n",
    "    pyplot.barh(feature_names[len(feature_names[:])-15:], importance[len(feature_names[:])-15:])    \n",
    "    pyplot.title(Product+\" Feature Importance (LogisticRegression Classifier)\")\n",
    "    pyplot.show()"
   ]
  },
  {
   "cell_type": "code",
   "execution_count": null,
   "metadata": {},
   "outputs": [],
   "source": []
  }
 ],
 "metadata": {
  "kernelspec": {
   "display_name": "Python 3",
   "language": "python",
   "name": "python3"
  },
  "language_info": {
   "codemirror_mode": {
    "name": "ipython",
    "version": 3
   },
   "file_extension": ".py",
   "mimetype": "text/x-python",
   "name": "python",
   "nbconvert_exporter": "python",
   "pygments_lexer": "ipython3",
   "version": "3.7.4"
  }
 },
 "nbformat": 4,
 "nbformat_minor": 4
}
