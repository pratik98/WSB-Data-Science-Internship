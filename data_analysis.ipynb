{
 "cells": [
  {
   "cell_type": "code",
   "execution_count": 1,
   "metadata": {},
   "outputs": [
    {
     "name": "stderr",
     "output_type": "stream",
     "text": [
      "In C:\\Users\\96ank\\AppData\\Local\\Continuum\\anaconda3\\lib\\site-packages\\matplotlib\\mpl-data\\stylelib\\_classic_test.mplstyle: \n",
      "The text.latex.preview rcparam was deprecated in Matplotlib 3.3 and will be removed two minor releases later.\n",
      "In C:\\Users\\96ank\\AppData\\Local\\Continuum\\anaconda3\\lib\\site-packages\\matplotlib\\mpl-data\\stylelib\\_classic_test.mplstyle: \n",
      "The mathtext.fallback_to_cm rcparam was deprecated in Matplotlib 3.3 and will be removed two minor releases later.\n",
      "In C:\\Users\\96ank\\AppData\\Local\\Continuum\\anaconda3\\lib\\site-packages\\matplotlib\\mpl-data\\stylelib\\_classic_test.mplstyle: Support for setting the 'mathtext.fallback_to_cm' rcParam is deprecated since 3.3 and will be removed two minor releases later; use 'mathtext.fallback : 'cm' instead.\n",
      "In C:\\Users\\96ank\\AppData\\Local\\Continuum\\anaconda3\\lib\\site-packages\\matplotlib\\mpl-data\\stylelib\\_classic_test.mplstyle: \n",
      "The validate_bool_maybe_none function was deprecated in Matplotlib 3.3 and will be removed two minor releases later.\n",
      "In C:\\Users\\96ank\\AppData\\Local\\Continuum\\anaconda3\\lib\\site-packages\\matplotlib\\mpl-data\\stylelib\\_classic_test.mplstyle: \n",
      "The savefig.jpeg_quality rcparam was deprecated in Matplotlib 3.3 and will be removed two minor releases later.\n",
      "In C:\\Users\\96ank\\AppData\\Local\\Continuum\\anaconda3\\lib\\site-packages\\matplotlib\\mpl-data\\stylelib\\_classic_test.mplstyle: \n",
      "The keymap.all_axes rcparam was deprecated in Matplotlib 3.3 and will be removed two minor releases later.\n",
      "In C:\\Users\\96ank\\AppData\\Local\\Continuum\\anaconda3\\lib\\site-packages\\matplotlib\\mpl-data\\stylelib\\_classic_test.mplstyle: \n",
      "The animation.avconv_path rcparam was deprecated in Matplotlib 3.3 and will be removed two minor releases later.\n",
      "In C:\\Users\\96ank\\AppData\\Local\\Continuum\\anaconda3\\lib\\site-packages\\matplotlib\\mpl-data\\stylelib\\_classic_test.mplstyle: \n",
      "The animation.avconv_args rcparam was deprecated in Matplotlib 3.3 and will be removed two minor releases later.\n"
     ]
    }
   ],
   "source": [
    "from datetime import datetime\n",
    "import matplotlib.pyplot as plt\n",
    "import numpy as np\n",
    "import pandas as pd\n",
    "from sklearn.preprocessing import MinMaxScaler\n",
    "import spacy\n",
    "from spacy.lang.en.stop_words import STOP_WORDS\n",
    "#from spacytextblob.spacytextblob import SpacyTextBlob\n",
    "import json\n",
    "plt.rcParams.update({\"font.size\": 12})\n",
    "%matplotlib inline"
   ]
  },
  {
   "cell_type": "code",
   "execution_count": 2,
   "metadata": {},
   "outputs": [],
   "source": [
    "submissions_json = \"WSB_Datasets/submission_data_pushshift_score1_20211020_clean.json\""
   ]
  },
  {
   "cell_type": "code",
   "execution_count": 3,
   "metadata": {},
   "outputs": [],
   "source": [
    "from pathlib import Path\n",
    "# read json\n",
    "p = Path(r'C:\\Users\\96ank\\Notebooks\\WSB-internship\\WSB_Datasets\\submission_data_pushshift_score1_20211020_clean.json')\n",
    "\n",
    "with p.open('r', encoding='utf-8') as f:\n",
    "    data = json.loads(f.read())\n",
    "\n"
   ]
  },
  {
   "cell_type": "code",
   "execution_count": 4,
   "metadata": {},
   "outputs": [
    {
     "data": {
      "text/plain": [
       "['all_awardings',\n",
       " 'allow_live_comments',\n",
       " 'author',\n",
       " 'author_flair_css_class',\n",
       " 'author_flair_richtext',\n",
       " 'author_flair_text',\n",
       " 'author_flair_type',\n",
       " 'author_fullname',\n",
       " 'author_is_blocked',\n",
       " 'author_patreon_flair',\n",
       " 'author_premium',\n",
       " 'awarders',\n",
       " 'can_mod_post',\n",
       " 'contest_mode',\n",
       " 'created_utc',\n",
       " 'domain',\n",
       " 'full_link',\n",
       " 'gildings',\n",
       " 'id',\n",
       " 'is_created_from_ads_ui',\n",
       " 'is_crosspostable',\n",
       " 'is_meta',\n",
       " 'is_original_content',\n",
       " 'is_reddit_media_domain',\n",
       " 'is_robot_indexable',\n",
       " 'is_self',\n",
       " 'is_video',\n",
       " 'link_flair_background_color',\n",
       " 'link_flair_css_class',\n",
       " 'link_flair_richtext',\n",
       " 'link_flair_template_id',\n",
       " 'link_flair_text',\n",
       " 'link_flair_text_color',\n",
       " 'link_flair_type',\n",
       " 'locked',\n",
       " 'media_only',\n",
       " 'no_follow',\n",
       " 'num_comments',\n",
       " 'num_crossposts',\n",
       " 'over_18',\n",
       " 'parent_whitelist_status',\n",
       " 'permalink',\n",
       " 'pinned',\n",
       " 'pwls',\n",
       " 'retrieved_on',\n",
       " 'score',\n",
       " 'selftext',\n",
       " 'send_replies',\n",
       " 'spoiler',\n",
       " 'stickied',\n",
       " 'subreddit',\n",
       " 'subreddit_id',\n",
       " 'subreddit_subscribers',\n",
       " 'subreddit_type',\n",
       " 'suggested_sort',\n",
       " 'thumbnail',\n",
       " 'title',\n",
       " 'total_awards_received',\n",
       " 'treatment_tags',\n",
       " 'upvote_ratio',\n",
       " 'url',\n",
       " 'whitelist_status',\n",
       " 'wls']"
      ]
     },
     "execution_count": 4,
     "metadata": {},
     "output_type": "execute_result"
    }
   ],
   "source": [
    "list(data[0].keys())"
   ]
  },
  {
   "cell_type": "code",
   "execution_count": 5,
   "metadata": {},
   "outputs": [],
   "source": [
    "cols = [\n",
    " 'author', \n",
    " 'created_utc',  \n",
    " 'id', \n",
    "'link_flair_text',\n",
    " 'num_comments', \n",
    " 'score',\n",
    "  'subreddit_subscribers',   \n",
    " 'selftext', \n",
    " 'title', 'upvote_ratio', 'url'\n",
    "\n",
    "]\n",
    "\n",
    "\n",
    "df_data = []\n",
    "\n",
    "for doc in data:\n",
    "    if  doc.keys() >= set(cols):\n",
    "        lst =  [doc['author'], doc['created_utc'],doc['id']\n",
    "                ,doc[ 'link_flair_text'], \n",
    "                doc['num_comments'],doc[ 'score'],\n",
    "                doc[ 'subreddit_subscribers'],doc['selftext'],doc['title'],\n",
    "                doc['upvote_ratio'], doc['url']           \n",
    "                ]\n",
    "        df_data.append(lst)\n",
    "        \n",
    "        \n",
    "\n",
    "df = pd.DataFrame(data=df_data, columns=cols)"
   ]
  },
  {
   "cell_type": "code",
   "execution_count": 6,
   "metadata": {},
   "outputs": [
    {
     "name": "stdout",
     "output_type": "stream",
     "text": [
      "<class 'pandas.core.frame.DataFrame'>\n",
      "RangeIndex: 714666 entries, 0 to 714665\n",
      "Data columns (total 11 columns):\n",
      " #   Column                 Non-Null Count   Dtype  \n",
      "---  ------                 --------------   -----  \n",
      " 0   author                 714666 non-null  object \n",
      " 1   created_utc            714666 non-null  int64  \n",
      " 2   id                     714666 non-null  object \n",
      " 3   link_flair_text        714666 non-null  object \n",
      " 4   num_comments           714666 non-null  int64  \n",
      " 5   score                  714666 non-null  int64  \n",
      " 6   subreddit_subscribers  714666 non-null  int64  \n",
      " 7   selftext               714666 non-null  object \n",
      " 8   title                  714666 non-null  object \n",
      " 9   upvote_ratio           714666 non-null  float64\n",
      " 10  url                    714666 non-null  object \n",
      "dtypes: float64(1), int64(4), object(6)\n",
      "memory usage: 60.0+ MB\n"
     ]
    }
   ],
   "source": [
    "df.info()"
   ]
  },
  {
   "cell_type": "code",
   "execution_count": 10,
   "metadata": {},
   "outputs": [],
   "source": [
    "df=pd.read_csv('data/WSB_data_with_emb.csv',sep=';', usecols = ['created_utc','subreddit_subscribers'], low_memory = True)"
   ]
  },
  {
   "cell_type": "code",
   "execution_count": 11,
   "metadata": {},
   "outputs": [
    {
     "name": "stdout",
     "output_type": "stream",
     "text": [
      "<class 'pandas.core.frame.DataFrame'>\n",
      "RangeIndex: 861752 entries, 0 to 861751\n",
      "Data columns (total 2 columns):\n",
      " #   Column                 Non-Null Count   Dtype \n",
      "---  ------                 --------------   ----- \n",
      " 0   created_utc            861752 non-null  object\n",
      " 1   subreddit_subscribers  861752 non-null  int64 \n",
      "dtypes: int64(1), object(1)\n",
      "memory usage: 13.1+ MB\n"
     ]
    }
   ],
   "source": [
    "df.info()"
   ]
  },
  {
   "cell_type": "code",
   "execution_count": 12,
   "metadata": {},
   "outputs": [],
   "source": [
    "df2=pd.read_csv(\"investing/data/investing_submissions_all.csv\", sep=\";\", usecols = ['created_utc','subreddit_subscribers'], low_memory = True)"
   ]
  },
  {
   "cell_type": "code",
   "execution_count": 13,
   "metadata": {},
   "outputs": [],
   "source": [
    "df2 = df2.drop(df2[df2['created_utc'].str.contains('cryptoservices')].index)"
   ]
  },
  {
   "cell_type": "code",
   "execution_count": 14,
   "metadata": {},
   "outputs": [],
   "source": [
    "#df2['created_utc'] = pd.to_datetime(df2['created_utc'], unit='s')\n",
    "df2.index = pd.DatetimeIndex(df2.created_utc)\n",
    "df2['date']=pd.DatetimeIndex(df2.created_utc).date"
   ]
  },
  {
   "cell_type": "code",
   "execution_count": 15,
   "metadata": {},
   "outputs": [
    {
     "name": "stdout",
     "output_type": "stream",
     "text": [
      "<class 'pandas.core.frame.DataFrame'>\n",
      "DatetimeIndex: 127768 entries, 2021-11-26 15:17:50 to 2017-12-29 18:43:47\n",
      "Data columns (total 3 columns):\n",
      " #   Column                 Non-Null Count   Dtype  \n",
      "---  ------                 --------------   -----  \n",
      " 0   created_utc            127768 non-null  object \n",
      " 1   subreddit_subscribers  127768 non-null  float64\n",
      " 2   date                   127768 non-null  object \n",
      "dtypes: float64(1), object(2)\n",
      "memory usage: 3.9+ MB\n"
     ]
    }
   ],
   "source": [
    "df2.info()"
   ]
  },
  {
   "cell_type": "code",
   "execution_count": 16,
   "metadata": {},
   "outputs": [
    {
     "data": {
      "text/html": [
       "<div>\n",
       "<style scoped>\n",
       "    .dataframe tbody tr th:only-of-type {\n",
       "        vertical-align: middle;\n",
       "    }\n",
       "\n",
       "    .dataframe tbody tr th {\n",
       "        vertical-align: top;\n",
       "    }\n",
       "\n",
       "    .dataframe thead th {\n",
       "        text-align: right;\n",
       "    }\n",
       "</style>\n",
       "<table border=\"1\" class=\"dataframe\">\n",
       "  <thead>\n",
       "    <tr style=\"text-align: right;\">\n",
       "      <th></th>\n",
       "      <th>created_utc</th>\n",
       "      <th>subreddit_subscribers</th>\n",
       "      <th>date</th>\n",
       "    </tr>\n",
       "    <tr>\n",
       "      <th>created_utc</th>\n",
       "      <th></th>\n",
       "      <th></th>\n",
       "      <th></th>\n",
       "    </tr>\n",
       "  </thead>\n",
       "  <tbody>\n",
       "    <tr>\n",
       "      <th>2021-11-26 15:17:50</th>\n",
       "      <td>2021-11-26 15:17:50</td>\n",
       "      <td>1955286.0</td>\n",
       "      <td>2021-11-26</td>\n",
       "    </tr>\n",
       "  </tbody>\n",
       "</table>\n",
       "</div>"
      ],
      "text/plain": [
       "                             created_utc  subreddit_subscribers        date\n",
       "created_utc                                                                \n",
       "2021-11-26 15:17:50  2021-11-26 15:17:50              1955286.0  2021-11-26"
      ]
     },
     "execution_count": 16,
     "metadata": {},
     "output_type": "execute_result"
    }
   ],
   "source": [
    "df2.head(1)"
   ]
  },
  {
   "cell_type": "code",
   "execution_count": 17,
   "metadata": {},
   "outputs": [],
   "source": [
    "df3=pd.read_csv(\"stocks/data/stocks_submissions_all.csv\", sep=\";\", usecols = ['created_utc','subreddit_subscribers'], low_memory = True)"
   ]
  },
  {
   "cell_type": "code",
   "execution_count": 18,
   "metadata": {},
   "outputs": [],
   "source": [
    "df3.index = pd.DatetimeIndex(df3.created_utc)\n",
    "df3['date']=pd.DatetimeIndex(df3.created_utc).date"
   ]
  },
  {
   "cell_type": "code",
   "execution_count": 19,
   "metadata": {},
   "outputs": [
    {
     "data": {
      "text/html": [
       "<div>\n",
       "<style scoped>\n",
       "    .dataframe tbody tr th:only-of-type {\n",
       "        vertical-align: middle;\n",
       "    }\n",
       "\n",
       "    .dataframe tbody tr th {\n",
       "        vertical-align: top;\n",
       "    }\n",
       "\n",
       "    .dataframe thead th {\n",
       "        text-align: right;\n",
       "    }\n",
       "</style>\n",
       "<table border=\"1\" class=\"dataframe\">\n",
       "  <thead>\n",
       "    <tr style=\"text-align: right;\">\n",
       "      <th></th>\n",
       "      <th>created_utc</th>\n",
       "      <th>subreddit_subscribers</th>\n",
       "      <th>date</th>\n",
       "    </tr>\n",
       "    <tr>\n",
       "      <th>created_utc</th>\n",
       "      <th></th>\n",
       "      <th></th>\n",
       "      <th></th>\n",
       "    </tr>\n",
       "  </thead>\n",
       "  <tbody>\n",
       "    <tr>\n",
       "      <th>2021-11-26 13:19:32</th>\n",
       "      <td>2021-11-26 13:19:32</td>\n",
       "      <td>3310630</td>\n",
       "      <td>2021-11-26</td>\n",
       "    </tr>\n",
       "  </tbody>\n",
       "</table>\n",
       "</div>"
      ],
      "text/plain": [
       "                             created_utc  subreddit_subscribers        date\n",
       "created_utc                                                                \n",
       "2021-11-26 13:19:32  2021-11-26 13:19:32                3310630  2021-11-26"
      ]
     },
     "execution_count": 19,
     "metadata": {},
     "output_type": "execute_result"
    }
   ],
   "source": [
    "df3.head(1)"
   ]
  },
  {
   "cell_type": "code",
   "execution_count": 97,
   "metadata": {},
   "outputs": [],
   "source": [
    "df.to_csv(\"data/WSB_submissions.csv\", sep=\";\")"
   ]
  },
  {
   "cell_type": "code",
   "execution_count": 98,
   "metadata": {},
   "outputs": [
    {
     "data": {
      "text/html": [
       "<div>\n",
       "<style scoped>\n",
       "    .dataframe tbody tr th:only-of-type {\n",
       "        vertical-align: middle;\n",
       "    }\n",
       "\n",
       "    .dataframe tbody tr th {\n",
       "        vertical-align: top;\n",
       "    }\n",
       "\n",
       "    .dataframe thead th {\n",
       "        text-align: right;\n",
       "    }\n",
       "</style>\n",
       "<table border=\"1\" class=\"dataframe\">\n",
       "  <thead>\n",
       "    <tr style=\"text-align: right;\">\n",
       "      <th></th>\n",
       "      <th>author</th>\n",
       "      <th>created_utc</th>\n",
       "      <th>id</th>\n",
       "      <th>link_flair_text</th>\n",
       "      <th>num_comments</th>\n",
       "      <th>score</th>\n",
       "      <th>subreddit_subscribers</th>\n",
       "      <th>selftext</th>\n",
       "      <th>title</th>\n",
       "      <th>upvote_ratio</th>\n",
       "      <th>url</th>\n",
       "    </tr>\n",
       "  </thead>\n",
       "  <tbody>\n",
       "    <tr>\n",
       "      <th>0</th>\n",
       "      <td>VendiVendiVendi</td>\n",
       "      <td>1634666337</td>\n",
       "      <td>qbh10s</td>\n",
       "      <td>Gain</td>\n",
       "      <td>0</td>\n",
       "      <td>1</td>\n",
       "      <td>10967090</td>\n",
       "      <td>So 13.56 cad for BB.  It’s moving and gaining ...</td>\n",
       "      <td>BB</td>\n",
       "      <td>1.0</td>\n",
       "      <td>https://www.reddit.com/r/wallstreetbets/commen...</td>\n",
       "    </tr>\n",
       "    <tr>\n",
       "      <th>1</th>\n",
       "      <td>Far_Bass_7284</td>\n",
       "      <td>1634666269</td>\n",
       "      <td>qbh04w</td>\n",
       "      <td>News</td>\n",
       "      <td>1</td>\n",
       "      <td>1</td>\n",
       "      <td>10967087</td>\n",
       "      <td></td>\n",
       "      <td>Surely it is a coincidence.</td>\n",
       "      <td>1.0</td>\n",
       "      <td>https://www.reddit.com/gallery/qbh04w</td>\n",
       "    </tr>\n",
       "    <tr>\n",
       "      <th>2</th>\n",
       "      <td>HistoricalAnimator43</td>\n",
       "      <td>1634666124</td>\n",
       "      <td>qbgyco</td>\n",
       "      <td>YOLO</td>\n",
       "      <td>0</td>\n",
       "      <td>1</td>\n",
       "      <td>10967076</td>\n",
       "      <td></td>\n",
       "      <td>yolo sava options</td>\n",
       "      <td>1.0</td>\n",
       "      <td>https://i.redd.it/a3mzqbu44gu71.png</td>\n",
       "    </tr>\n",
       "    <tr>\n",
       "      <th>3</th>\n",
       "      <td>ZaRaWi</td>\n",
       "      <td>1634666091</td>\n",
       "      <td>qbgxy8</td>\n",
       "      <td>YOLO</td>\n",
       "      <td>0</td>\n",
       "      <td>1</td>\n",
       "      <td>10967076</td>\n",
       "      <td></td>\n",
       "      <td>meme</td>\n",
       "      <td>1.0</td>\n",
       "      <td>https://i.redd.it/ki810mvz3gu71.jpg</td>\n",
       "    </tr>\n",
       "    <tr>\n",
       "      <th>4</th>\n",
       "      <td>CuteInterest1884</td>\n",
       "      <td>1634665953</td>\n",
       "      <td>qbgw9u</td>\n",
       "      <td>DD</td>\n",
       "      <td>0</td>\n",
       "      <td>1</td>\n",
       "      <td>10967075</td>\n",
       "      <td>BB is on the move higher, not because of the p...</td>\n",
       "      <td>BB</td>\n",
       "      <td>1.0</td>\n",
       "      <td>https://www.reddit.com/r/wallstreetbets/commen...</td>\n",
       "    </tr>\n",
       "  </tbody>\n",
       "</table>\n",
       "</div>"
      ],
      "text/plain": [
       "                 author  created_utc      id link_flair_text  num_comments  \\\n",
       "0       VendiVendiVendi   1634666337  qbh10s            Gain             0   \n",
       "1         Far_Bass_7284   1634666269  qbh04w            News             1   \n",
       "2  HistoricalAnimator43   1634666124  qbgyco            YOLO             0   \n",
       "3                ZaRaWi   1634666091  qbgxy8            YOLO             0   \n",
       "4      CuteInterest1884   1634665953  qbgw9u              DD             0   \n",
       "\n",
       "   score  subreddit_subscribers  \\\n",
       "0      1               10967090   \n",
       "1      1               10967087   \n",
       "2      1               10967076   \n",
       "3      1               10967076   \n",
       "4      1               10967075   \n",
       "\n",
       "                                            selftext  \\\n",
       "0  So 13.56 cad for BB.  It’s moving and gaining ...   \n",
       "1                                                      \n",
       "2                                                      \n",
       "3                                                      \n",
       "4  BB is on the move higher, not because of the p...   \n",
       "\n",
       "                         title  upvote_ratio  \\\n",
       "0                           BB           1.0   \n",
       "1  Surely it is a coincidence.           1.0   \n",
       "2            yolo sava options           1.0   \n",
       "3                         meme           1.0   \n",
       "4                           BB           1.0   \n",
       "\n",
       "                                                 url  \n",
       "0  https://www.reddit.com/r/wallstreetbets/commen...  \n",
       "1              https://www.reddit.com/gallery/qbh04w  \n",
       "2                https://i.redd.it/a3mzqbu44gu71.png  \n",
       "3                https://i.redd.it/ki810mvz3gu71.jpg  \n",
       "4  https://www.reddit.com/r/wallstreetbets/commen...  "
      ]
     },
     "execution_count": 98,
     "metadata": {},
     "output_type": "execute_result"
    }
   ],
   "source": [
    "df.head()"
   ]
  },
  {
   "cell_type": "code",
   "execution_count": 85,
   "metadata": {},
   "outputs": [
    {
     "name": "stdout",
     "output_type": "stream",
     "text": [
      "<class 'pandas.core.frame.DataFrame'>\n",
      "RangeIndex: 714666 entries, 0 to 714665\n",
      "Data columns (total 11 columns):\n",
      " #   Column           Non-Null Count   Dtype  \n",
      "---  ------           --------------   -----  \n",
      " 0   author           714666 non-null  object \n",
      " 1   created_utc      714666 non-null  int64  \n",
      " 2   id               714666 non-null  object \n",
      " 3   num_comments     714666 non-null  int64  \n",
      " 4   score            714666 non-null  int64  \n",
      " 5   permalink        714666 non-null  object \n",
      " 6   selftext         714666 non-null  object \n",
      " 7   title            714666 non-null  object \n",
      " 8   upvote_ratio     714666 non-null  float64\n",
      " 9   url              714666 non-null  object \n",
      " 10  link_flair_text  714666 non-null  object \n",
      "dtypes: float64(1), int64(3), object(7)\n",
      "memory usage: 60.0+ MB\n"
     ]
    }
   ],
   "source": [
    "df.info()"
   ]
  },
  {
   "cell_type": "code",
   "execution_count": 20,
   "metadata": {},
   "outputs": [
    {
     "ename": "ValueError",
     "evalue": "non convertible value 2021-10-19 17:58:57 with the unit 's'",
     "output_type": "error",
     "traceback": [
      "\u001b[1;31m---------------------------------------------------------------------------\u001b[0m",
      "\u001b[1;31mValueError\u001b[0m                                Traceback (most recent call last)",
      "\u001b[1;32m~\\AppData\\Local\\Continuum\\anaconda3\\lib\\site-packages\\pandas\\_libs\\tslib.pyx\u001b[0m in \u001b[0;36mpandas._libs.tslib.array_with_unit_to_datetime\u001b[1;34m()\u001b[0m\n",
      "\u001b[1;31mValueError\u001b[0m: could not convert string to float: '2021-10-19 17:58:57'",
      "\nDuring handling of the above exception, another exception occurred:\n",
      "\u001b[1;31mValueError\u001b[0m                                Traceback (most recent call last)",
      "\u001b[1;32m<ipython-input-20-bc3ac4bb6b7a>\u001b[0m in \u001b[0;36m<module>\u001b[1;34m\u001b[0m\n\u001b[1;32m----> 1\u001b[1;33m \u001b[0mdf\u001b[0m\u001b[1;33m[\u001b[0m\u001b[1;34m'created_utc'\u001b[0m\u001b[1;33m]\u001b[0m \u001b[1;33m=\u001b[0m \u001b[0mpd\u001b[0m\u001b[1;33m.\u001b[0m\u001b[0mto_datetime\u001b[0m\u001b[1;33m(\u001b[0m\u001b[0mdf\u001b[0m\u001b[1;33m[\u001b[0m\u001b[1;34m'created_utc'\u001b[0m\u001b[1;33m]\u001b[0m\u001b[1;33m,\u001b[0m \u001b[0munit\u001b[0m\u001b[1;33m=\u001b[0m\u001b[1;34m's'\u001b[0m\u001b[1;33m)\u001b[0m\u001b[1;33m\u001b[0m\u001b[1;33m\u001b[0m\u001b[0m\n\u001b[0m",
      "\u001b[1;32m~\\AppData\\Local\\Continuum\\anaconda3\\lib\\site-packages\\pandas\\core\\tools\\datetimes.py\u001b[0m in \u001b[0;36mto_datetime\u001b[1;34m(arg, errors, dayfirst, yearfirst, utc, format, exact, unit, infer_datetime_format, origin, cache)\u001b[0m\n\u001b[0;32m    885\u001b[0m             \u001b[0mresult\u001b[0m \u001b[1;33m=\u001b[0m \u001b[0marg\u001b[0m\u001b[1;33m.\u001b[0m\u001b[0mmap\u001b[0m\u001b[1;33m(\u001b[0m\u001b[0mcache_array\u001b[0m\u001b[1;33m)\u001b[0m\u001b[1;33m\u001b[0m\u001b[1;33m\u001b[0m\u001b[0m\n\u001b[0;32m    886\u001b[0m         \u001b[1;32melse\u001b[0m\u001b[1;33m:\u001b[0m\u001b[1;33m\u001b[0m\u001b[1;33m\u001b[0m\u001b[0m\n\u001b[1;32m--> 887\u001b[1;33m             \u001b[0mvalues\u001b[0m \u001b[1;33m=\u001b[0m \u001b[0mconvert_listlike\u001b[0m\u001b[1;33m(\u001b[0m\u001b[0marg\u001b[0m\u001b[1;33m.\u001b[0m\u001b[0m_values\u001b[0m\u001b[1;33m,\u001b[0m \u001b[0mformat\u001b[0m\u001b[1;33m)\u001b[0m\u001b[1;33m\u001b[0m\u001b[1;33m\u001b[0m\u001b[0m\n\u001b[0m\u001b[0;32m    888\u001b[0m             \u001b[0mresult\u001b[0m \u001b[1;33m=\u001b[0m \u001b[0marg\u001b[0m\u001b[1;33m.\u001b[0m\u001b[0m_constructor\u001b[0m\u001b[1;33m(\u001b[0m\u001b[0mvalues\u001b[0m\u001b[1;33m,\u001b[0m \u001b[0mindex\u001b[0m\u001b[1;33m=\u001b[0m\u001b[0marg\u001b[0m\u001b[1;33m.\u001b[0m\u001b[0mindex\u001b[0m\u001b[1;33m,\u001b[0m \u001b[0mname\u001b[0m\u001b[1;33m=\u001b[0m\u001b[0marg\u001b[0m\u001b[1;33m.\u001b[0m\u001b[0mname\u001b[0m\u001b[1;33m)\u001b[0m\u001b[1;33m\u001b[0m\u001b[1;33m\u001b[0m\u001b[0m\n\u001b[0;32m    889\u001b[0m     \u001b[1;32melif\u001b[0m \u001b[0misinstance\u001b[0m\u001b[1;33m(\u001b[0m\u001b[0marg\u001b[0m\u001b[1;33m,\u001b[0m \u001b[1;33m(\u001b[0m\u001b[0mABCDataFrame\u001b[0m\u001b[1;33m,\u001b[0m \u001b[0mabc\u001b[0m\u001b[1;33m.\u001b[0m\u001b[0mMutableMapping\u001b[0m\u001b[1;33m)\u001b[0m\u001b[1;33m)\u001b[0m\u001b[1;33m:\u001b[0m\u001b[1;33m\u001b[0m\u001b[1;33m\u001b[0m\u001b[0m\n",
      "\u001b[1;32m~\\AppData\\Local\\Continuum\\anaconda3\\lib\\site-packages\\pandas\\core\\tools\\datetimes.py\u001b[0m in \u001b[0;36m_convert_listlike_datetimes\u001b[1;34m(arg, format, name, tz, unit, errors, infer_datetime_format, dayfirst, yearfirst, exact)\u001b[0m\n\u001b[0;32m    354\u001b[0m         \u001b[1;32mif\u001b[0m \u001b[0mformat\u001b[0m \u001b[1;32mis\u001b[0m \u001b[1;32mnot\u001b[0m \u001b[1;32mNone\u001b[0m\u001b[1;33m:\u001b[0m\u001b[1;33m\u001b[0m\u001b[1;33m\u001b[0m\u001b[0m\n\u001b[0;32m    355\u001b[0m             \u001b[1;32mraise\u001b[0m \u001b[0mValueError\u001b[0m\u001b[1;33m(\u001b[0m\u001b[1;34m\"cannot specify both format and unit\"\u001b[0m\u001b[1;33m)\u001b[0m\u001b[1;33m\u001b[0m\u001b[1;33m\u001b[0m\u001b[0m\n\u001b[1;32m--> 356\u001b[1;33m         \u001b[1;32mreturn\u001b[0m \u001b[0m_to_datetime_with_unit\u001b[0m\u001b[1;33m(\u001b[0m\u001b[0marg\u001b[0m\u001b[1;33m,\u001b[0m \u001b[0munit\u001b[0m\u001b[1;33m,\u001b[0m \u001b[0mname\u001b[0m\u001b[1;33m,\u001b[0m \u001b[0mtz\u001b[0m\u001b[1;33m,\u001b[0m \u001b[0merrors\u001b[0m\u001b[1;33m)\u001b[0m\u001b[1;33m\u001b[0m\u001b[1;33m\u001b[0m\u001b[0m\n\u001b[0m\u001b[0;32m    357\u001b[0m     \u001b[1;32melif\u001b[0m \u001b[0mgetattr\u001b[0m\u001b[1;33m(\u001b[0m\u001b[0marg\u001b[0m\u001b[1;33m,\u001b[0m \u001b[1;34m\"ndim\"\u001b[0m\u001b[1;33m,\u001b[0m \u001b[1;36m1\u001b[0m\u001b[1;33m)\u001b[0m \u001b[1;33m>\u001b[0m \u001b[1;36m1\u001b[0m\u001b[1;33m:\u001b[0m\u001b[1;33m\u001b[0m\u001b[1;33m\u001b[0m\u001b[0m\n\u001b[0;32m    358\u001b[0m         raise TypeError(\n",
      "\u001b[1;32m~\\AppData\\Local\\Continuum\\anaconda3\\lib\\site-packages\\pandas\\core\\tools\\datetimes.py\u001b[0m in \u001b[0;36m_to_datetime_with_unit\u001b[1;34m(arg, unit, name, tz, errors)\u001b[0m\n\u001b[0;32m    526\u001b[0m         \u001b[0mtz_parsed\u001b[0m \u001b[1;33m=\u001b[0m \u001b[1;32mNone\u001b[0m\u001b[1;33m\u001b[0m\u001b[1;33m\u001b[0m\u001b[0m\n\u001b[0;32m    527\u001b[0m     \u001b[1;32melse\u001b[0m\u001b[1;33m:\u001b[0m\u001b[1;33m\u001b[0m\u001b[1;33m\u001b[0m\u001b[0m\n\u001b[1;32m--> 528\u001b[1;33m         \u001b[0marr\u001b[0m\u001b[1;33m,\u001b[0m \u001b[0mtz_parsed\u001b[0m \u001b[1;33m=\u001b[0m \u001b[0mtslib\u001b[0m\u001b[1;33m.\u001b[0m\u001b[0marray_with_unit_to_datetime\u001b[0m\u001b[1;33m(\u001b[0m\u001b[0marg\u001b[0m\u001b[1;33m,\u001b[0m \u001b[0munit\u001b[0m\u001b[1;33m,\u001b[0m \u001b[0merrors\u001b[0m\u001b[1;33m=\u001b[0m\u001b[0merrors\u001b[0m\u001b[1;33m)\u001b[0m\u001b[1;33m\u001b[0m\u001b[1;33m\u001b[0m\u001b[0m\n\u001b[0m\u001b[0;32m    529\u001b[0m \u001b[1;33m\u001b[0m\u001b[0m\n\u001b[0;32m    530\u001b[0m     \u001b[1;32mif\u001b[0m \u001b[0merrors\u001b[0m \u001b[1;33m==\u001b[0m \u001b[1;34m\"ignore\"\u001b[0m\u001b[1;33m:\u001b[0m\u001b[1;33m\u001b[0m\u001b[1;33m\u001b[0m\u001b[0m\n",
      "\u001b[1;32m~\\AppData\\Local\\Continuum\\anaconda3\\lib\\site-packages\\pandas\\_libs\\tslib.pyx\u001b[0m in \u001b[0;36mpandas._libs.tslib.array_with_unit_to_datetime\u001b[1;34m()\u001b[0m\n",
      "\u001b[1;31mValueError\u001b[0m: non convertible value 2021-10-19 17:58:57 with the unit 's'"
     ]
    }
   ],
   "source": [
    "df['created_utc'] = pd.to_datetime(df['created_utc'], unit='s')"
   ]
  },
  {
   "cell_type": "code",
   "execution_count": 21,
   "metadata": {},
   "outputs": [],
   "source": [
    "#set created_utc as index\n",
    "#df.set_index('created_utc')\n",
    "\n",
    "df.index = pd.DatetimeIndex(df.created_utc)\n"
   ]
  },
  {
   "cell_type": "code",
   "execution_count": 22,
   "metadata": {},
   "outputs": [],
   "source": [
    "df['date']=pd.DatetimeIndex(df.created_utc).date"
   ]
  },
  {
   "cell_type": "code",
   "execution_count": 23,
   "metadata": {},
   "outputs": [
    {
     "name": "stdout",
     "output_type": "stream",
     "text": [
      "<class 'pandas.core.frame.DataFrame'>\n",
      "DatetimeIndex: 861752 entries, 2021-10-19 17:58:57 to 2018-12-31 14:29:50\n",
      "Data columns (total 3 columns):\n",
      " #   Column                 Non-Null Count   Dtype \n",
      "---  ------                 --------------   ----- \n",
      " 0   created_utc            861752 non-null  object\n",
      " 1   subreddit_subscribers  861752 non-null  int64 \n",
      " 2   date                   861752 non-null  object\n",
      "dtypes: int64(1), object(2)\n",
      "memory usage: 26.3+ MB\n"
     ]
    }
   ],
   "source": [
    "df.info()"
   ]
  },
  {
   "cell_type": "markdown",
   "metadata": {},
   "source": [
    "# 3. Exploratory Data Analysis"
   ]
  },
  {
   "cell_type": "markdown",
   "metadata": {},
   "source": [
    "## 3.1. Number of submissions"
   ]
  },
  {
   "cell_type": "code",
   "execution_count": 24,
   "metadata": {},
   "outputs": [
    {
     "ename": "KeyError",
     "evalue": "'Column not found: id'",
     "output_type": "error",
     "traceback": [
      "\u001b[1;31m---------------------------------------------------------------------------\u001b[0m",
      "\u001b[1;31mKeyError\u001b[0m                                  Traceback (most recent call last)",
      "\u001b[1;32m<ipython-input-24-f80d36784045>\u001b[0m in \u001b[0;36m<module>\u001b[1;34m\u001b[0m\n\u001b[1;32m----> 1\u001b[1;33m \u001b[0mdf_submissions\u001b[0m \u001b[1;33m=\u001b[0m \u001b[0mdf\u001b[0m\u001b[1;33m.\u001b[0m\u001b[0mgroupby\u001b[0m\u001b[1;33m(\u001b[0m\u001b[0mpd\u001b[0m\u001b[1;33m.\u001b[0m\u001b[0mGrouper\u001b[0m\u001b[1;33m(\u001b[0m\u001b[0mfreq\u001b[0m\u001b[1;33m=\u001b[0m\u001b[1;34m\"D\"\u001b[0m\u001b[1;33m)\u001b[0m\u001b[1;33m)\u001b[0m\u001b[1;33m[\u001b[0m\u001b[1;34m\"id\"\u001b[0m\u001b[1;33m]\u001b[0m\u001b[1;33m.\u001b[0m\u001b[0mcount\u001b[0m\u001b[1;33m(\u001b[0m\u001b[1;33m)\u001b[0m\u001b[1;33m\u001b[0m\u001b[1;33m\u001b[0m\u001b[0m\n\u001b[0m\u001b[0;32m      2\u001b[0m \u001b[1;33m\u001b[0m\u001b[0m\n\u001b[0;32m      3\u001b[0m \u001b[1;33m\u001b[0m\u001b[0m\n\u001b[0;32m      4\u001b[0m \u001b[0mplt\u001b[0m\u001b[1;33m.\u001b[0m\u001b[0mfigure\u001b[0m\u001b[1;33m(\u001b[0m\u001b[0mfigsize\u001b[0m\u001b[1;33m=\u001b[0m\u001b[1;33m(\u001b[0m\u001b[1;36m15\u001b[0m\u001b[1;33m,\u001b[0m\u001b[1;36m5\u001b[0m\u001b[1;33m)\u001b[0m\u001b[1;33m)\u001b[0m\u001b[1;33m\u001b[0m\u001b[1;33m\u001b[0m\u001b[0m\n\u001b[0;32m      5\u001b[0m \u001b[0mplt\u001b[0m\u001b[1;33m.\u001b[0m\u001b[0mplot\u001b[0m\u001b[1;33m(\u001b[0m\u001b[0mdf_submissions\u001b[0m\u001b[1;33m)\u001b[0m\u001b[1;33m\u001b[0m\u001b[1;33m\u001b[0m\u001b[0m\n",
      "\u001b[1;32m~\\AppData\\Local\\Continuum\\anaconda3\\lib\\site-packages\\pandas\\core\\groupby\\generic.py\u001b[0m in \u001b[0;36m__getitem__\u001b[1;34m(self, key)\u001b[0m\n\u001b[0;32m   1536\u001b[0m                 \u001b[0mstacklevel\u001b[0m\u001b[1;33m=\u001b[0m\u001b[1;36m2\u001b[0m\u001b[1;33m,\u001b[0m\u001b[1;33m\u001b[0m\u001b[1;33m\u001b[0m\u001b[0m\n\u001b[0;32m   1537\u001b[0m             )\n\u001b[1;32m-> 1538\u001b[1;33m         \u001b[1;32mreturn\u001b[0m \u001b[0msuper\u001b[0m\u001b[1;33m(\u001b[0m\u001b[1;33m)\u001b[0m\u001b[1;33m.\u001b[0m\u001b[0m__getitem__\u001b[0m\u001b[1;33m(\u001b[0m\u001b[0mkey\u001b[0m\u001b[1;33m)\u001b[0m\u001b[1;33m\u001b[0m\u001b[1;33m\u001b[0m\u001b[0m\n\u001b[0m\u001b[0;32m   1539\u001b[0m \u001b[1;33m\u001b[0m\u001b[0m\n\u001b[0;32m   1540\u001b[0m     \u001b[1;32mdef\u001b[0m \u001b[0m_gotitem\u001b[0m\u001b[1;33m(\u001b[0m\u001b[0mself\u001b[0m\u001b[1;33m,\u001b[0m \u001b[0mkey\u001b[0m\u001b[1;33m,\u001b[0m \u001b[0mndim\u001b[0m\u001b[1;33m:\u001b[0m \u001b[0mint\u001b[0m\u001b[1;33m,\u001b[0m \u001b[0msubset\u001b[0m\u001b[1;33m=\u001b[0m\u001b[1;32mNone\u001b[0m\u001b[1;33m)\u001b[0m\u001b[1;33m:\u001b[0m\u001b[1;33m\u001b[0m\u001b[1;33m\u001b[0m\u001b[0m\n",
      "\u001b[1;32m~\\AppData\\Local\\Continuum\\anaconda3\\lib\\site-packages\\pandas\\core\\base.py\u001b[0m in \u001b[0;36m__getitem__\u001b[1;34m(self, key)\u001b[0m\n\u001b[0;32m    230\u001b[0m         \u001b[1;32melse\u001b[0m\u001b[1;33m:\u001b[0m\u001b[1;33m\u001b[0m\u001b[1;33m\u001b[0m\u001b[0m\n\u001b[0;32m    231\u001b[0m             \u001b[1;32mif\u001b[0m \u001b[0mkey\u001b[0m \u001b[1;32mnot\u001b[0m \u001b[1;32min\u001b[0m \u001b[0mself\u001b[0m\u001b[1;33m.\u001b[0m\u001b[0mobj\u001b[0m\u001b[1;33m:\u001b[0m\u001b[1;33m\u001b[0m\u001b[1;33m\u001b[0m\u001b[0m\n\u001b[1;32m--> 232\u001b[1;33m                 \u001b[1;32mraise\u001b[0m \u001b[0mKeyError\u001b[0m\u001b[1;33m(\u001b[0m\u001b[1;34mf\"Column not found: {key}\"\u001b[0m\u001b[1;33m)\u001b[0m\u001b[1;33m\u001b[0m\u001b[1;33m\u001b[0m\u001b[0m\n\u001b[0m\u001b[0;32m    233\u001b[0m             \u001b[0msubset\u001b[0m \u001b[1;33m=\u001b[0m \u001b[0mself\u001b[0m\u001b[1;33m.\u001b[0m\u001b[0mobj\u001b[0m\u001b[1;33m[\u001b[0m\u001b[0mkey\u001b[0m\u001b[1;33m]\u001b[0m\u001b[1;33m\u001b[0m\u001b[1;33m\u001b[0m\u001b[0m\n\u001b[0;32m    234\u001b[0m             \u001b[0mndim\u001b[0m \u001b[1;33m=\u001b[0m \u001b[0msubset\u001b[0m\u001b[1;33m.\u001b[0m\u001b[0mndim\u001b[0m\u001b[1;33m\u001b[0m\u001b[1;33m\u001b[0m\u001b[0m\n",
      "\u001b[1;31mKeyError\u001b[0m: 'Column not found: id'"
     ]
    }
   ],
   "source": [
    "df_submissions = df.groupby(pd.Grouper(freq=\"D\"))[\"id\"].count()\n",
    " \n",
    "\n",
    "plt.figure(figsize=(15,5))\n",
    "plt.plot(df_submissions)\n",
    "plt.xlabel(\"Months\")\n",
    "plt.ylabel(\"Number of submissions\")\n",
    "plt.title(\"Number of submissions\")\n",
    "plt.show()"
   ]
  },
  {
   "cell_type": "markdown",
   "metadata": {},
   "source": [
    "## 3.2. Number of subscribers"
   ]
  },
  {
   "cell_type": "code",
   "execution_count": 25,
   "metadata": {},
   "outputs": [
    {
     "data": {
      "image/png": "[encoded data removed]",
      "text/plain": [
       "<Figure size 1080x360 with 1 Axes>"
      ]
     },
     "metadata": {
      "needs_background": "light"
     },
     "output_type": "display_data"
    }
   ],
   "source": [
    "df_subscribers = df.groupby(pd.Grouper(freq=\"D\"))[\"subreddit_subscribers\"].nth(-1)\n",
    "# print(df_subscribers)\n",
    "\n",
    "plt.figure(figsize=(15,5))\n",
    "plt.plot(df_subscribers)\n",
    "plt.xlabel(\"Months\")\n",
    "plt.ylabel(\"Number of subscribers\")\n",
    "plt.title(\"Number of subscribers\")\n",
    "plt.show()"
   ]
  },
  {
   "cell_type": "code",
   "execution_count": 26,
   "metadata": {},
   "outputs": [
    {
     "data": {
      "image/png": "[encoded data removed]",
      "text/plain": [
       "<Figure size 1080x360 with 1 Axes>"
      ]
     },
     "metadata": {
      "needs_background": "light"
     },
     "output_type": "display_data"
    }
   ],
   "source": [
    "df_subscribers2 = df2.groupby(pd.Grouper(freq=\"D\"))[\"subreddit_subscribers\"].nth(-1)\n",
    "# print(df_subscribers)\n",
    "\n",
    "plt.figure(figsize=(15,5))\n",
    "plt.plot(df_subscribers2)\n",
    "plt.xlabel(\"Months\")\n",
    "plt.ylabel(\"Number of subscribers\")\n",
    "plt.title(\"Number of subscribers\")\n",
    "plt.show()"
   ]
  },
  {
   "cell_type": "code",
   "execution_count": 27,
   "metadata": {},
   "outputs": [
    {
     "data": {
      "image/png": "[encoded data removed]",
      "text/plain": [
       "<Figure size 1080x360 with 1 Axes>"
      ]
     },
     "metadata": {
      "needs_background": "light"
     },
     "output_type": "display_data"
    }
   ],
   "source": [
    "df_subscribers3 = df3.groupby(pd.Grouper(freq=\"D\"))[\"subreddit_subscribers\"].nth(-1)\n",
    "# print(df_subscribers)\n",
    "\n",
    "plt.figure(figsize=(15,5))\n",
    "plt.plot(df_subscribers3)\n",
    "plt.xlabel(\"Months\")\n",
    "plt.ylabel(\"Number of subscribers\")\n",
    "plt.title(\"Number of subscribers\")\n",
    "plt.show()"
   ]
  },
  {
   "cell_type": "code",
   "execution_count": 29,
   "metadata": {},
   "outputs": [],
   "source": [
    "df_subscribers= df_subscribers.to_frame()"
   ]
  },
  {
   "cell_type": "code",
   "execution_count": 30,
   "metadata": {},
   "outputs": [],
   "source": [
    "df_subscribers2= df_subscribers2.to_frame()"
   ]
  },
  {
   "cell_type": "code",
   "execution_count": 31,
   "metadata": {},
   "outputs": [],
   "source": [
    "df_subscribers3= df_subscribers3.to_frame()"
   ]
  },
  {
   "cell_type": "code",
   "execution_count": 34,
   "metadata": {},
   "outputs": [
    {
     "data": {
      "text/html": [
       "<div>\n",
       "<style scoped>\n",
       "    .dataframe tbody tr th:only-of-type {\n",
       "        vertical-align: middle;\n",
       "    }\n",
       "\n",
       "    .dataframe tbody tr th {\n",
       "        vertical-align: top;\n",
       "    }\n",
       "\n",
       "    .dataframe thead th {\n",
       "        text-align: right;\n",
       "    }\n",
       "</style>\n",
       "<table border=\"1\" class=\"dataframe\">\n",
       "  <thead>\n",
       "    <tr style=\"text-align: right;\">\n",
       "      <th></th>\n",
       "      <th>subreddit_subscribers</th>\n",
       "    </tr>\n",
       "    <tr>\n",
       "      <th>created_utc</th>\n",
       "      <th></th>\n",
       "    </tr>\n",
       "  </thead>\n",
       "  <tbody>\n",
       "    <tr>\n",
       "      <th>2018-12-31</th>\n",
       "      <td>454903</td>\n",
       "    </tr>\n",
       "  </tbody>\n",
       "</table>\n",
       "</div>"
      ],
      "text/plain": [
       "             subreddit_subscribers\n",
       "created_utc                       \n",
       "2018-12-31                  454903"
      ]
     },
     "execution_count": 34,
     "metadata": {},
     "output_type": "execute_result"
    }
   ],
   "source": [
    "df_subscribers.head(1)"
   ]
  },
  {
   "cell_type": "code",
   "execution_count": 35,
   "metadata": {},
   "outputs": [],
   "source": [
    "#join by created_utc, get subreddit_subscribers column\n",
    "common=pd.merge(df_subscribers, df_subscribers2, how=\"left\", on=[\"created_utc\"])"
   ]
  },
  {
   "cell_type": "code",
   "execution_count": 36,
   "metadata": {},
   "outputs": [],
   "source": [
    "common=pd.merge(common, df_subscribers3, how=\"left\", on=[\"created_utc\"])"
   ]
  },
  {
   "cell_type": "code",
   "execution_count": 37,
   "metadata": {},
   "outputs": [
    {
     "data": {
      "text/html": [
       "<div>\n",
       "<style scoped>\n",
       "    .dataframe tbody tr th:only-of-type {\n",
       "        vertical-align: middle;\n",
       "    }\n",
       "\n",
       "    .dataframe tbody tr th {\n",
       "        vertical-align: top;\n",
       "    }\n",
       "\n",
       "    .dataframe thead th {\n",
       "        text-align: right;\n",
       "    }\n",
       "</style>\n",
       "<table border=\"1\" class=\"dataframe\">\n",
       "  <thead>\n",
       "    <tr style=\"text-align: right;\">\n",
       "      <th></th>\n",
       "      <th>subreddit_subscribers_x</th>\n",
       "      <th>subreddit_subscribers_y</th>\n",
       "      <th>subreddit_subscribers</th>\n",
       "    </tr>\n",
       "    <tr>\n",
       "      <th>created_utc</th>\n",
       "      <th></th>\n",
       "      <th></th>\n",
       "      <th></th>\n",
       "    </tr>\n",
       "  </thead>\n",
       "  <tbody>\n",
       "    <tr>\n",
       "      <th>2018-12-31</th>\n",
       "      <td>454903</td>\n",
       "      <td>644086.0</td>\n",
       "      <td>307415</td>\n",
       "    </tr>\n",
       "  </tbody>\n",
       "</table>\n",
       "</div>"
      ],
      "text/plain": [
       "             subreddit_subscribers_x  subreddit_subscribers_y  \\\n",
       "created_utc                                                     \n",
       "2018-12-31                    454903                 644086.0   \n",
       "\n",
       "             subreddit_subscribers  \n",
       "created_utc                         \n",
       "2018-12-31                  307415  "
      ]
     },
     "execution_count": 37,
     "metadata": {},
     "output_type": "execute_result"
    }
   ],
   "source": [
    "common.head(1)"
   ]
  },
  {
   "cell_type": "code",
   "execution_count": 53,
   "metadata": {},
   "outputs": [
    {
     "data": {
      "image/png": "[encoded data removed]",
      "text/plain": [
       "<Figure size 1080x360 with 1 Axes>"
      ]
     },
     "metadata": {
      "needs_background": "light"
     },
     "output_type": "display_data"
    }
   ],
   "source": [
    "import matplotlib.ticker as ticker\n",
    "scale_y = 1e6\n",
    "ticks_y = ticker.FuncFormatter(lambda x, pos: '{0:g}'.format(x/scale_y))\n",
    "fig, ax=plt.subplots(figsize=(15,5))\n",
    "ax.yaxis.set_major_formatter(ticks_y)\n",
    "\n",
    "\n",
    "ax.plot(common)\n",
    "plt.xlabel(\"Month\")\n",
    "plt.ylabel(\"Number of subscribers (millions)\")\n",
    "plt.title(\"User Growth \")\n",
    "plt.legend([\"WSB\",\"Investing\",\"Stocks\"])\n",
    "plt.show()"
   ]
  },
  {
   "cell_type": "markdown",
   "metadata": {},
   "source": [
    "## 3.3. Number of submissions by flair"
   ]
  },
  {
   "cell_type": "code",
   "execution_count": 111,
   "metadata": {},
   "outputs": [
    {
     "name": "stdout",
     "output_type": "stream",
     "text": [
      "37 flair categories:\n",
      "['Discussion' 'Meme' 'YOLO' 'News' 'Gain' 'Loss' 'DD' 'Shitpost' 'Chart'\n",
      " 'Technical Analysis' 'Stocks' 'Options' 'Satire' 'Storytime'\n",
      " 'Fundamentals' 'Technicals' 'Daily Discussion' 'Futures' 'Donation'\n",
      " 'Earnings Thread' 'Forex' 'Weekend Discussion' 'WSBbooks' 'Mods' 'Gods'\n",
      " \"IT'S ACTUALLY GOOD\" 'GME Thread' 'Literally 10 minutes long'\n",
      " 'Megathread' 'Welcome' 'Mods - Regarding MrBeast Post'\n",
      " 'Mods - Rule Reminder' 'Official' 'Tendies'\n",
      " 'Thank you, silent participants!' \"Tuesday 2-Feb. I'm retarded\"\n",
      " 'Announcement']\n",
      "\n",
      "Top 15 flair count:\n",
      "link_flair_text\n",
      "Discussion            174636\n",
      "Meme                  159926\n",
      "YOLO                  107421\n",
      "News                   74665\n",
      "Gain                   62518\n",
      "Loss                   36760\n",
      "DD                     33597\n",
      "Shitpost               20632\n",
      "Chart                  11074\n",
      "Technical Analysis      9684\n",
      "Stocks                  6052\n",
      "Options                 5957\n",
      "Satire                  3010\n",
      "Storytime               2319\n",
      "Fundamentals            2247\n",
      "Name: link_flair_text, dtype: int64\n"
     ]
    }
   ],
   "source": [
    "df_flairs = df.groupby(\"link_flair_text\")[\"link_flair_text\"].count().sort_values(ascending=False)\n",
    "print(f\"{len(df_flairs)} flair categories:\\n{df_flairs.index.values}\\n\")\n",
    "print(f\"Top 15 flair count:\\n{df_flairs.head(15)}\")"
   ]
  },
  {
   "cell_type": "code",
   "execution_count": 137,
   "metadata": {},
   "outputs": [
    {
     "data": {
      "text/plain": [
       "<AxesSubplot:xlabel='link_flair_text'>"
      ]
     },
     "execution_count": 137,
     "metadata": {},
     "output_type": "execute_result"
    },
    {
     "data": {
      "image/png": "[encoded data removed]",
      "text/plain": [
       "<Figure size 432x288 with 1 Axes>"
      ]
     },
     "metadata": {
      "needs_background": "light"
     },
     "output_type": "display_data"
    }
   ],
   "source": [
    "df_flairs.plot.bar()"
   ]
  },
  {
   "cell_type": "markdown",
   "metadata": {},
   "source": [
    "## 3.4. Top authors by submissions"
   ]
  },
  {
   "cell_type": "code",
   "execution_count": 113,
   "metadata": {},
   "outputs": [
    {
     "name": "stdout",
     "output_type": "stream",
     "text": [
      "Top 15 authors:\n",
      "author\n",
      "OPINION_IS_UNPOPULAR    371\n",
      "AutoModerator           366\n",
      "RealPennyMuncher        223\n",
      "patrickbateman02        220\n",
      "pdwp90                  194\n",
      "btoned                  184\n",
      "keenfeed                182\n",
      "indonesian_activist     163\n",
      "cuki321                 162\n",
      "dhiral1994              152\n",
      "Janto_2021              150\n",
      "DeadLightsOut           147\n",
      "DrioMarqui              146\n",
      "[deleted]               139\n",
      "The_wokeHindi           133\n",
      "Name: author, dtype: int64\n"
     ]
    }
   ],
   "source": [
    "df_authors = df.groupby(\"author\")[\"author\"].count().sort_values(ascending=False)\n",
    "print(f\"Top 15 authors:\\n{df_authors.head(15)}\")\n",
    "\n",
    "# @todo Fetch top authors data and do some data analysis"
   ]
  },
  {
   "cell_type": "code",
   "execution_count": 140,
   "metadata": {},
   "outputs": [],
   "source": [
    "from spacytextblob.spacytextblob import SpacyTextBlob"
   ]
  },
  {
   "cell_type": "markdown",
   "metadata": {},
   "source": [
    "# 2. Find Sentiment"
   ]
  },
  {
   "cell_type": "markdown",
   "metadata": {},
   "source": [
    "## 2.1. Intialize pipline\n",
    "\n",
    "<!-- ![nlp_pipeline](https://spacy.io/pipeline-fde48da9b43661abcdf62ab70a546d71.svg) -->"
   ]
  },
  {
   "cell_type": "code",
   "execution_count": 141,
   "metadata": {},
   "outputs": [
    {
     "name": "stdout",
     "output_type": "stream",
     "text": [
      "['sentiment']\n"
     ]
    }
   ],
   "source": [
    "# @todo Handle stop words\n",
    "# @todo Calculate weighted mean for sentiments using score + upvote_ratio \n",
    "\n",
    "# nlp = spacy.load(\"en_core_web_lg\")\n",
    "nlp = spacy.blank(\"en\")\n",
    "if \"spacytextblob\" not in nlp.pipe_names:\n",
    "    nlp.add_pipe(\"spacytextblob\")\n",
    "    nlp.rename_pipe(\"spacytextblob\", \"sentiment\")\n",
    "print(nlp.pipe_names)"
   ]
  },
  {
   "cell_type": "markdown",
   "metadata": {},
   "source": [
    "## 2.2. Find sentiment"
   ]
  },
  {
   "cell_type": "code",
   "execution_count": 142,
   "metadata": {},
   "outputs": [
    {
     "data": {
      "text/html": [
       "<div>\n",
       "<style scoped>\n",
       "    .dataframe tbody tr th:only-of-type {\n",
       "        vertical-align: middle;\n",
       "    }\n",
       "\n",
       "    .dataframe tbody tr th {\n",
       "        vertical-align: top;\n",
       "    }\n",
       "\n",
       "    .dataframe thead th {\n",
       "        text-align: right;\n",
       "    }\n",
       "</style>\n",
       "<table border=\"1\" class=\"dataframe\">\n",
       "  <thead>\n",
       "    <tr style=\"text-align: right;\">\n",
       "      <th></th>\n",
       "      <th>author</th>\n",
       "      <th>created_utc</th>\n",
       "      <th>id</th>\n",
       "      <th>link_flair_text</th>\n",
       "      <th>num_comments</th>\n",
       "      <th>score</th>\n",
       "      <th>subreddit_subscribers</th>\n",
       "      <th>selftext</th>\n",
       "      <th>title</th>\n",
       "      <th>upvote_ratio</th>\n",
       "      <th>url</th>\n",
       "      <th>title_polarity</th>\n",
       "      <th>title_subjectivity</th>\n",
       "      <th>body_polarity</th>\n",
       "      <th>body_subjectivity</th>\n",
       "      <th>polarity</th>\n",
       "    </tr>\n",
       "    <tr>\n",
       "      <th>created_utc</th>\n",
       "      <th></th>\n",
       "      <th></th>\n",
       "      <th></th>\n",
       "      <th></th>\n",
       "      <th></th>\n",
       "      <th></th>\n",
       "      <th></th>\n",
       "      <th></th>\n",
       "      <th></th>\n",
       "      <th></th>\n",
       "      <th></th>\n",
       "      <th></th>\n",
       "      <th></th>\n",
       "      <th></th>\n",
       "      <th></th>\n",
       "      <th></th>\n",
       "    </tr>\n",
       "  </thead>\n",
       "  <tbody>\n",
       "    <tr>\n",
       "      <th>2021-10-19 17:58:57</th>\n",
       "      <td>VendiVendiVendi</td>\n",
       "      <td>2021-10-19 17:58:57</td>\n",
       "      <td>qbh10s</td>\n",
       "      <td>Gain</td>\n",
       "      <td>0</td>\n",
       "      <td>1</td>\n",
       "      <td>10967090</td>\n",
       "      <td>So 13.56 cad for BB.  It’s moving and gaining ...</td>\n",
       "      <td>BB</td>\n",
       "      <td>1.0</td>\n",
       "      <td>https://www.reddit.com/r/wallstreetbets/commen...</td>\n",
       "      <td>0.0</td>\n",
       "      <td>0.000000</td>\n",
       "      <td>-0.470378</td>\n",
       "      <td>0.516667</td>\n",
       "      <td>-0.470378</td>\n",
       "    </tr>\n",
       "    <tr>\n",
       "      <th>2021-10-19 17:57:49</th>\n",
       "      <td>Far_Bass_7284</td>\n",
       "      <td>2021-10-19 17:57:49</td>\n",
       "      <td>qbh04w</td>\n",
       "      <td>News</td>\n",
       "      <td>1</td>\n",
       "      <td>1</td>\n",
       "      <td>10967087</td>\n",
       "      <td></td>\n",
       "      <td>Surely it is a coincidence.</td>\n",
       "      <td>1.0</td>\n",
       "      <td>https://www.reddit.com/gallery/qbh04w</td>\n",
       "      <td>0.5</td>\n",
       "      <td>0.888889</td>\n",
       "      <td>0.000000</td>\n",
       "      <td>0.000000</td>\n",
       "      <td>0.500000</td>\n",
       "    </tr>\n",
       "    <tr>\n",
       "      <th>2021-10-19 17:55:24</th>\n",
       "      <td>HistoricalAnimator43</td>\n",
       "      <td>2021-10-19 17:55:24</td>\n",
       "      <td>qbgyco</td>\n",
       "      <td>YOLO</td>\n",
       "      <td>0</td>\n",
       "      <td>1</td>\n",
       "      <td>10967076</td>\n",
       "      <td></td>\n",
       "      <td>yolo sava options</td>\n",
       "      <td>1.0</td>\n",
       "      <td>https://i.redd.it/a3mzqbu44gu71.png</td>\n",
       "      <td>0.0</td>\n",
       "      <td>0.000000</td>\n",
       "      <td>0.000000</td>\n",
       "      <td>0.000000</td>\n",
       "      <td>0.000000</td>\n",
       "    </tr>\n",
       "    <tr>\n",
       "      <th>2021-10-19 17:54:51</th>\n",
       "      <td>ZaRaWi</td>\n",
       "      <td>2021-10-19 17:54:51</td>\n",
       "      <td>qbgxy8</td>\n",
       "      <td>YOLO</td>\n",
       "      <td>0</td>\n",
       "      <td>1</td>\n",
       "      <td>10967076</td>\n",
       "      <td></td>\n",
       "      <td>meme</td>\n",
       "      <td>1.0</td>\n",
       "      <td>https://i.redd.it/ki810mvz3gu71.jpg</td>\n",
       "      <td>0.0</td>\n",
       "      <td>0.000000</td>\n",
       "      <td>0.000000</td>\n",
       "      <td>0.000000</td>\n",
       "      <td>0.000000</td>\n",
       "    </tr>\n",
       "    <tr>\n",
       "      <th>2021-10-19 17:52:33</th>\n",
       "      <td>CuteInterest1884</td>\n",
       "      <td>2021-10-19 17:52:33</td>\n",
       "      <td>qbgw9u</td>\n",
       "      <td>DD</td>\n",
       "      <td>0</td>\n",
       "      <td>1</td>\n",
       "      <td>10967075</td>\n",
       "      <td>BB is on the move higher, not because of the p...</td>\n",
       "      <td>BB</td>\n",
       "      <td>1.0</td>\n",
       "      <td>https://www.reddit.com/r/wallstreetbets/commen...</td>\n",
       "      <td>0.0</td>\n",
       "      <td>0.000000</td>\n",
       "      <td>0.168254</td>\n",
       "      <td>0.506349</td>\n",
       "      <td>0.168254</td>\n",
       "    </tr>\n",
       "  </tbody>\n",
       "</table>\n",
       "</div>"
      ],
      "text/plain": [
       "                                   author         created_utc      id  \\\n",
       "created_utc                                                             \n",
       "2021-10-19 17:58:57       VendiVendiVendi 2021-10-19 17:58:57  qbh10s   \n",
       "2021-10-19 17:57:49         Far_Bass_7284 2021-10-19 17:57:49  qbh04w   \n",
       "2021-10-19 17:55:24  HistoricalAnimator43 2021-10-19 17:55:24  qbgyco   \n",
       "2021-10-19 17:54:51                ZaRaWi 2021-10-19 17:54:51  qbgxy8   \n",
       "2021-10-19 17:52:33      CuteInterest1884 2021-10-19 17:52:33  qbgw9u   \n",
       "\n",
       "                    link_flair_text  num_comments  score  \\\n",
       "created_utc                                                \n",
       "2021-10-19 17:58:57            Gain             0      1   \n",
       "2021-10-19 17:57:49            News             1      1   \n",
       "2021-10-19 17:55:24            YOLO             0      1   \n",
       "2021-10-19 17:54:51            YOLO             0      1   \n",
       "2021-10-19 17:52:33              DD             0      1   \n",
       "\n",
       "                     subreddit_subscribers  \\\n",
       "created_utc                                  \n",
       "2021-10-19 17:58:57               10967090   \n",
       "2021-10-19 17:57:49               10967087   \n",
       "2021-10-19 17:55:24               10967076   \n",
       "2021-10-19 17:54:51               10967076   \n",
       "2021-10-19 17:52:33               10967075   \n",
       "\n",
       "                                                              selftext  \\\n",
       "created_utc                                                              \n",
       "2021-10-19 17:58:57  So 13.56 cad for BB.  It’s moving and gaining ...   \n",
       "2021-10-19 17:57:49                                                      \n",
       "2021-10-19 17:55:24                                                      \n",
       "2021-10-19 17:54:51                                                      \n",
       "2021-10-19 17:52:33  BB is on the move higher, not because of the p...   \n",
       "\n",
       "                                           title  upvote_ratio  \\\n",
       "created_utc                                                      \n",
       "2021-10-19 17:58:57                           BB           1.0   \n",
       "2021-10-19 17:57:49  Surely it is a coincidence.           1.0   \n",
       "2021-10-19 17:55:24            yolo sava options           1.0   \n",
       "2021-10-19 17:54:51                         meme           1.0   \n",
       "2021-10-19 17:52:33                           BB           1.0   \n",
       "\n",
       "                                                                   url  \\\n",
       "created_utc                                                              \n",
       "2021-10-19 17:58:57  https://www.reddit.com/r/wallstreetbets/commen...   \n",
       "2021-10-19 17:57:49              https://www.reddit.com/gallery/qbh04w   \n",
       "2021-10-19 17:55:24                https://i.redd.it/a3mzqbu44gu71.png   \n",
       "2021-10-19 17:54:51                https://i.redd.it/ki810mvz3gu71.jpg   \n",
       "2021-10-19 17:52:33  https://www.reddit.com/r/wallstreetbets/commen...   \n",
       "\n",
       "                     title_polarity  title_subjectivity  body_polarity  \\\n",
       "created_utc                                                              \n",
       "2021-10-19 17:58:57             0.0            0.000000      -0.470378   \n",
       "2021-10-19 17:57:49             0.5            0.888889       0.000000   \n",
       "2021-10-19 17:55:24             0.0            0.000000       0.000000   \n",
       "2021-10-19 17:54:51             0.0            0.000000       0.000000   \n",
       "2021-10-19 17:52:33             0.0            0.000000       0.168254   \n",
       "\n",
       "                     body_subjectivity  polarity  \n",
       "created_utc                                       \n",
       "2021-10-19 17:58:57           0.516667 -0.470378  \n",
       "2021-10-19 17:57:49           0.000000  0.500000  \n",
       "2021-10-19 17:55:24           0.000000  0.000000  \n",
       "2021-10-19 17:54:51           0.000000  0.000000  \n",
       "2021-10-19 17:52:33           0.506349  0.168254  "
      ]
     },
     "execution_count": 142,
     "metadata": {},
     "output_type": "execute_result"
    }
   ],
   "source": [
    "df[\"title_polarity\"] = 0.0\n",
    "df[\"title_subjectivity\"] = 0.0\n",
    "df[\"body_polarity\"] = 0.0\n",
    "df[\"body_subjectivity\"] = 0.0\n",
    "df[\"polarity\"] = 0.0\n",
    "\n",
    "def get_sentiment(title, body):\n",
    "    nlp_title = nlp(title)\n",
    "    nlp_body = nlp(body)\n",
    "    return pd.Series([nlp_title._.polarity, nlp_title._.subjectivity,\n",
    "                      nlp_body._.polarity, nlp_body._.subjectivity])\n",
    "\n",
    "df[[\"title_polarity\", \"title_subjectivity\", \"body_polarity\", \"body_subjectivity\"]] = df.apply(lambda row: get_sentiment(row[\"title\"], row[\"selftext\"]), axis=1)\n",
    "df[\"polarity\"] = (df[\"title_polarity\"] + df[\"body_polarity\"])\n",
    "df.head()"
   ]
  },
  {
   "cell_type": "code",
   "execution_count": 145,
   "metadata": {},
   "outputs": [],
   "source": [
    "df.to_csv(\"data/WSB_submissions_features.csv\", sep=\";\")"
   ]
  },
  {
   "cell_type": "markdown",
   "metadata": {},
   "source": [
    "## 2.3. Group by day"
   ]
  },
  {
   "cell_type": "code",
   "execution_count": 143,
   "metadata": {},
   "outputs": [
    {
     "data": {
      "text/html": [
       "<div>\n",
       "<style scoped>\n",
       "    .dataframe tbody tr th:only-of-type {\n",
       "        vertical-align: middle;\n",
       "    }\n",
       "\n",
       "    .dataframe tbody tr th {\n",
       "        vertical-align: top;\n",
       "    }\n",
       "\n",
       "    .dataframe thead th {\n",
       "        text-align: right;\n",
       "    }\n",
       "</style>\n",
       "<table border=\"1\" class=\"dataframe\">\n",
       "  <thead>\n",
       "    <tr style=\"text-align: right;\">\n",
       "      <th></th>\n",
       "      <th>polarity</th>\n",
       "    </tr>\n",
       "    <tr>\n",
       "      <th>created_utc</th>\n",
       "      <th></th>\n",
       "    </tr>\n",
       "  </thead>\n",
       "  <tbody>\n",
       "    <tr>\n",
       "      <th>2020-04-29</th>\n",
       "      <td>0.071991</td>\n",
       "    </tr>\n",
       "    <tr>\n",
       "      <th>2020-04-30</th>\n",
       "      <td>0.034093</td>\n",
       "    </tr>\n",
       "    <tr>\n",
       "      <th>2020-05-01</th>\n",
       "      <td>0.058532</td>\n",
       "    </tr>\n",
       "    <tr>\n",
       "      <th>2020-05-02</th>\n",
       "      <td>0.061776</td>\n",
       "    </tr>\n",
       "    <tr>\n",
       "      <th>2020-05-03</th>\n",
       "      <td>0.029154</td>\n",
       "    </tr>\n",
       "  </tbody>\n",
       "</table>\n",
       "</div>"
      ],
      "text/plain": [
       "             polarity\n",
       "created_utc          \n",
       "2020-04-29   0.071991\n",
       "2020-04-30   0.034093\n",
       "2020-05-01   0.058532\n",
       "2020-05-02   0.061776\n",
       "2020-05-03   0.029154"
      ]
     },
     "metadata": {},
     "output_type": "display_data"
    }
   ],
   "source": [
    "df_polarity = df.groupby(pd.Grouper(freq=\"D\"))[[\"polarity\"]].mean()\n",
    "df_polarity = df_polarity.fillna(0)\n",
    "display(df_polarity.head())"
   ]
  },
  {
   "cell_type": "markdown",
   "metadata": {},
   "source": [
    "## To Do - word/emoji counts, choice of words, n-grams/phrases, topic modeling,"
   ]
  },
  {
   "cell_type": "code",
   "execution_count": null,
   "metadata": {},
   "outputs": [],
   "source": []
  }
 ],
 "metadata": {
  "kernelspec": {
   "display_name": "Python 3",
   "language": "python",
   "name": "python3"
  },
  "language_info": {
   "codemirror_mode": {
    "name": "ipython",
    "version": 3
   },
   "file_extension": ".py",
   "mimetype": "text/x-python",
   "name": "python",
   "nbconvert_exporter": "python",
   "pygments_lexer": "ipython3",
   "version": "3.7.4"
  }
 },
 "nbformat": 4,
 "nbformat_minor": 4
}
