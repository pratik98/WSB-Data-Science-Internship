{
 "cells": [
  {
   "cell_type": "code",
   "execution_count": 1,
   "metadata": {
    "id": "EFsMPfS_EMIS"
   },
   "outputs": [
    {
     "name": "stderr",
     "output_type": "stream",
     "text": [
      "In C:\\Users\\96ank\\AppData\\Local\\Continuum\\anaconda3\\lib\\site-packages\\matplotlib\\mpl-data\\stylelib\\_classic_test.mplstyle: \n",
      "The text.latex.preview rcparam was deprecated in Matplotlib 3.3 and will be removed two minor releases later.\n",
      "In C:\\Users\\96ank\\AppData\\Local\\Continuum\\anaconda3\\lib\\site-packages\\matplotlib\\mpl-data\\stylelib\\_classic_test.mplstyle: \n",
      "The mathtext.fallback_to_cm rcparam was deprecated in Matplotlib 3.3 and will be removed two minor releases later.\n",
      "In C:\\Users\\96ank\\AppData\\Local\\Continuum\\anaconda3\\lib\\site-packages\\matplotlib\\mpl-data\\stylelib\\_classic_test.mplstyle: Support for setting the 'mathtext.fallback_to_cm' rcParam is deprecated since 3.3 and will be removed two minor releases later; use 'mathtext.fallback : 'cm' instead.\n",
      "In C:\\Users\\96ank\\AppData\\Local\\Continuum\\anaconda3\\lib\\site-packages\\matplotlib\\mpl-data\\stylelib\\_classic_test.mplstyle: \n",
      "The validate_bool_maybe_none function was deprecated in Matplotlib 3.3 and will be removed two minor releases later.\n",
      "In C:\\Users\\96ank\\AppData\\Local\\Continuum\\anaconda3\\lib\\site-packages\\matplotlib\\mpl-data\\stylelib\\_classic_test.mplstyle: \n",
      "The savefig.jpeg_quality rcparam was deprecated in Matplotlib 3.3 and will be removed two minor releases later.\n",
      "In C:\\Users\\96ank\\AppData\\Local\\Continuum\\anaconda3\\lib\\site-packages\\matplotlib\\mpl-data\\stylelib\\_classic_test.mplstyle: \n",
      "The keymap.all_axes rcparam was deprecated in Matplotlib 3.3 and will be removed two minor releases later.\n",
      "In C:\\Users\\96ank\\AppData\\Local\\Continuum\\anaconda3\\lib\\site-packages\\matplotlib\\mpl-data\\stylelib\\_classic_test.mplstyle: \n",
      "The animation.avconv_path rcparam was deprecated in Matplotlib 3.3 and will be removed two minor releases later.\n",
      "In C:\\Users\\96ank\\AppData\\Local\\Continuum\\anaconda3\\lib\\site-packages\\matplotlib\\mpl-data\\stylelib\\_classic_test.mplstyle: \n",
      "The animation.avconv_args rcparam was deprecated in Matplotlib 3.3 and will be removed two minor releases later.\n"
     ]
    }
   ],
   "source": [
    "from datetime import datetime\n",
    "import matplotlib.pyplot as plt\n",
    "import numpy as np\n",
    "import pandas as pd\n",
    "\n",
    "plt.rcParams.update({\"font.size\": 12})\n",
    "%matplotlib inline"
   ]
  },
  {
   "cell_type": "code",
   "execution_count": null,
   "metadata": {
    "colab": {
     "base_uri": "https://localhost:8080/"
    },
    "id": "Pi260KEuFIaU",
    "outputId": "a96a6202-c04d-4b0f-89ca-e4ab084b6e5b"
   },
   "outputs": [],
   "source": [
    "!pip3 install flair"
   ]
  },
  {
   "cell_type": "code",
   "execution_count": 2,
   "metadata": {
    "colab": {
     "base_uri": "https://localhost:8080/",
     "height": 318
    },
    "id": "oV_-RBEFFRB_",
    "outputId": "64efb29d-90f9-45d7-f071-4049d6ea1d72"
   },
   "outputs": [
    {
     "data": {
      "text/html": [
       "<div>\n",
       "<style scoped>\n",
       "    .dataframe tbody tr th:only-of-type {\n",
       "        vertical-align: middle;\n",
       "    }\n",
       "\n",
       "    .dataframe tbody tr th {\n",
       "        vertical-align: top;\n",
       "    }\n",
       "\n",
       "    .dataframe thead th {\n",
       "        text-align: right;\n",
       "    }\n",
       "</style>\n",
       "<table border=\"1\" class=\"dataframe\">\n",
       "  <thead>\n",
       "    <tr style=\"text-align: right;\">\n",
       "      <th></th>\n",
       "      <th>Unnamed: 0</th>\n",
       "      <th>author</th>\n",
       "      <th>id</th>\n",
       "      <th>title</th>\n",
       "      <th>selftext</th>\n",
       "      <th>date</th>\n",
       "      <th>day</th>\n",
       "      <th>month</th>\n",
       "      <th>year</th>\n",
       "      <th>tickers_</th>\n",
       "      <th>...</th>\n",
       "      <th>title_polarity</th>\n",
       "      <th>title_subjectivity</th>\n",
       "      <th>body_polarity</th>\n",
       "      <th>body_subjectivity</th>\n",
       "      <th>title_tokens</th>\n",
       "      <th>selftext_tokens</th>\n",
       "      <th>polarity</th>\n",
       "      <th>years_count</th>\n",
       "      <th>months_count</th>\n",
       "      <th>dates_count</th>\n",
       "    </tr>\n",
       "  </thead>\n",
       "  <tbody>\n",
       "    <tr>\n",
       "      <th>7252</th>\n",
       "      <td>7252</td>\n",
       "      <td>zxc123zxc123</td>\n",
       "      <td>12</td>\n",
       "      <td>Is WSB hiding the scale of financial crisis? +...</td>\n",
       "      <td>There’s a bubble they’d like us to think WE ca...</td>\n",
       "      <td>['2021-10-13', '2021-06-04', '2021-06-04', '20...</td>\n",
       "      <td>13 4 4 4 29 22 19 19 7 29 23 23</td>\n",
       "      <td>['10', '6', '6', '6', '4', '1', '1', '1', '1',...</td>\n",
       "      <td>['2021', '2021', '2021', '2021', '2021', '2021...</td>\n",
       "      <td>NaN</td>\n",
       "      <td>...</td>\n",
       "      <td>0.515</td>\n",
       "      <td>0.59</td>\n",
       "      <td>-0.227381</td>\n",
       "      <td>0.561012</td>\n",
       "      <td>['Is', 'WSB', 'hiding', 'the', 'scale', 'of', ...</td>\n",
       "      <td>['There', '’s', 'a', 'bubble', 'they', '’d', '...</td>\n",
       "      <td>0.287619</td>\n",
       "      <td>{'2021': 9, '2020': 3}</td>\n",
       "      <td>{'10': 1, '6': 3, '4': 1, '1': 4, '12': 3}</td>\n",
       "      <td>{'2021-10-13': 1, '2021-06-04': 3, '2021-04-29...</td>\n",
       "    </tr>\n",
       "  </tbody>\n",
       "</table>\n",
       "<p>1 rows × 30 columns</p>\n",
       "</div>"
      ],
      "text/plain": [
       "      Unnamed: 0        author  id  \\\n",
       "7252        7252  zxc123zxc123  12   \n",
       "\n",
       "                                                  title  \\\n",
       "7252  Is WSB hiding the scale of financial crisis? +...   \n",
       "\n",
       "                                               selftext  \\\n",
       "7252  There’s a bubble they’d like us to think WE ca...   \n",
       "\n",
       "                                                   date  \\\n",
       "7252  ['2021-10-13', '2021-06-04', '2021-06-04', '20...   \n",
       "\n",
       "                                  day  \\\n",
       "7252  13 4 4 4 29 22 19 19 7 29 23 23   \n",
       "\n",
       "                                                  month  \\\n",
       "7252  ['10', '6', '6', '6', '4', '1', '1', '1', '1',...   \n",
       "\n",
       "                                                   year tickers_  ...  \\\n",
       "7252  ['2021', '2021', '2021', '2021', '2021', '2021...      NaN  ...   \n",
       "\n",
       "     title_polarity title_subjectivity  body_polarity  body_subjectivity  \\\n",
       "7252          0.515               0.59      -0.227381           0.561012   \n",
       "\n",
       "                                           title_tokens  \\\n",
       "7252  ['Is', 'WSB', 'hiding', 'the', 'scale', 'of', ...   \n",
       "\n",
       "                                        selftext_tokens  polarity  \\\n",
       "7252  ['There', '’s', 'a', 'bubble', 'they', '’d', '...  0.287619   \n",
       "\n",
       "                 years_count                                months_count  \\\n",
       "7252  {'2021': 9, '2020': 3}  {'10': 1, '6': 3, '4': 1, '1': 4, '12': 3}   \n",
       "\n",
       "                                            dates_count  \n",
       "7252  {'2021-10-13': 1, '2021-06-04': 3, '2021-04-29...  \n",
       "\n",
       "[1 rows x 30 columns]"
      ]
     },
     "execution_count": 2,
     "metadata": {},
     "output_type": "execute_result"
    }
   ],
   "source": [
    "df = pd.read_csv(\"data/WSB_top_users_features.csv\", sep=\";\")\n",
    "df.tail(1)"
   ]
  },
  {
   "cell_type": "markdown",
   "metadata": {
    "id": "wHNRmrhdGyCB"
   },
   "source": [
    "# Embedding of titles by user"
   ]
  },
  {
   "cell_type": "code",
   "execution_count": null,
   "metadata": {
    "id": "DRVw78rYycCr"
   },
   "outputs": [],
   "source": [
    "from flair.embeddings import WordEmbeddings, DocumentPoolEmbeddings\n",
    "from flair.data import Sentence\n",
    "from sklearn.manifold import TSNE\n",
    "%matplotlib inline\n"
   ]
  },
  {
   "cell_type": "markdown",
   "metadata": {
    "id": "FjAwuvhS3aqT"
   },
   "source": [
    "## Visualize Embeddings for clustering"
   ]
  },
  {
   "cell_type": "markdown",
   "metadata": {
    "id": "vMTqxqEf-00z"
   },
   "source": [
    "## Stacked Embeddings"
   ]
  },
  {
   "cell_type": "code",
   "execution_count": null,
   "metadata": {
    "colab": {
     "base_uri": "https://localhost:8080/"
    },
    "id": "TLPouzIi-zcQ",
    "outputId": "a196092e-8904-4c2c-e755-de0274c573b6"
   },
   "outputs": [
    {
     "name": "stdout",
     "output_type": "stream",
     "text": [
      "2021-12-26 17:36:36,015 https://flair.informatik.hu-berlin.de/resources/embeddings/token/glove.gensim.vectors.npy not found in cache, downloading to /tmp/tmplmlea279\n"
     ]
    },
    {
     "name": "stderr",
     "output_type": "stream",
     "text": [
      "100%|██████████| 160000128/160000128 [00:06<00:00, 25998870.03B/s]"
     ]
    },
    {
     "name": "stdout",
     "output_type": "stream",
     "text": [
      "2021-12-26 17:36:42,480 copying /tmp/tmplmlea279 to cache at /root/.flair/embeddings/glove.gensim.vectors.npy\n"
     ]
    },
    {
     "name": "stderr",
     "output_type": "stream",
     "text": [
      "\n"
     ]
    },
    {
     "name": "stdout",
     "output_type": "stream",
     "text": [
      "2021-12-26 17:36:42,804 removing temp file /tmp/tmplmlea279\n",
      "2021-12-26 17:36:43,323 https://flair.informatik.hu-berlin.de/resources/embeddings/token/glove.gensim not found in cache, downloading to /tmp/tmpegklw76a\n"
     ]
    },
    {
     "name": "stderr",
     "output_type": "stream",
     "text": [
      "100%|██████████| 21494764/21494764 [00:01<00:00, 14792396.61B/s]"
     ]
    },
    {
     "name": "stdout",
     "output_type": "stream",
     "text": [
      "2021-12-26 17:36:45,096 copying /tmp/tmpegklw76a to cache at /root/.flair/embeddings/glove.gensim\n"
     ]
    },
    {
     "name": "stderr",
     "output_type": "stream",
     "text": [
      "\n"
     ]
    },
    {
     "name": "stdout",
     "output_type": "stream",
     "text": [
      "2021-12-26 17:36:45,132 removing temp file /tmp/tmpegklw76a\n"
     ]
    }
   ],
   "source": [
    "from flair.embeddings import  FlairEmbeddings\n",
    "# initialize the word embeddings\n",
    "glove_embedding = WordEmbeddings('glove')\n",
    "\n",
    "# initialize the document embeddings, mode = mean\n",
    "document_embeddings = DocumentPoolEmbeddings([glove_embedding])\n",
    "# init Flair forward and backwards embeddings\n",
    "flair_embedding_forward = FlairEmbeddings('news-forward')\n",
    "flair_embedding_backward = FlairEmbeddings('news-backward')"
   ]
  },
  {
   "cell_type": "code",
   "execution_count": null,
   "metadata": {
    "id": "vzMRPg0l_OD3"
   },
   "outputs": [],
   "source": [
    "from flair.embeddings import StackedEmbeddings\n",
    "\n",
    "# create a StackedEmbedding object that combines glove and forward/backward flair embeddings\n",
    "stacked_embeddings = StackedEmbeddings([\n",
    "                                        glove_embedding,\n",
    "                                        flair_embedding_forward,\n",
    "                                        flair_embedding_backward,\n",
    "                                       ])"
   ]
  },
  {
   "cell_type": "code",
   "execution_count": null,
   "metadata": {
    "id": "My8CD0II_Z8H"
   },
   "outputs": [],
   "source": [
    "def get_stackedsentence_emb(text):\n",
    "  sentence = Sentence(text)\n",
    "  stacked_embeddings.embed(sentence)\n",
    "  return sentence.embedding\n",
    "\n",
    "\n",
    "# now check out the embedded tokens.\n",
    "#for token in sentence:\n",
    "#    print(token)\n",
    "#    print(token.embedding)"
   ]
  },
  {
   "cell_type": "code",
   "execution_count": null,
   "metadata": {
    "id": "7wVXVlK1_5DJ"
   },
   "outputs": [],
   "source": [
    "#df['title_emb_stacked'] = df['title'].apply(lambda x: get_stackedsentence_emb(x))\n",
    "title_emb_stacked = df.loc[:50,'title'].apply(lambda x: get_stackedsentence_emb(x))"
   ]
  },
  {
   "cell_type": "code",
   "execution_count": null,
   "metadata": {
    "id": "n8gVmYkh_-uA"
   },
   "outputs": [],
   "source": [
    "from sklearn.manifold import TSNE\n",
    "%matplotlib inline\n",
    "def plot_embeddings(df_name,label_name,emb_col_name,total_points):\n",
    "\n",
    "\tall_users = []\n",
    "\tall_users_emb = []\n",
    "\tfor index, row in df_name.iterrows():\n",
    "\t\t #print(row[\"author\"], row[\"title_emb\"])\n",
    "\t\t all_users.append(row[label_name])\n",
    "\t\t all_users_emb.append(row[emb_col_name].numpy())\n",
    "\t\t \n",
    "\n",
    "\ttsne_model = TSNE(perplexity=40, n_components=2, init='pca', n_iter=2500, random_state=23)\n",
    "\tnew_values = tsne_model.fit_transform(all_users_emb)\n",
    "\n",
    "\tx = []\n",
    "\ty = []\n",
    "\tfor value in new_values:\n",
    "\t\tx.append(value[0])\n",
    "\t\ty.append(value[1])\n",
    "\t\t\t\n",
    "\tplt.figure(figsize=(16, 16)) \n",
    "\tfor i in range(len(x[0:total_points])):\n",
    "\t\tplt.scatter(x[i],y[i])\n",
    "\t\tplt.annotate(all_users[i],\n",
    "\t\t\t\t\t\t xy=(x[i], y[i]),\n",
    "\t\t\t\t\t\t xytext=(5, 2),\n",
    "\t\t\t\t\t\t textcoords='offset points',\n",
    "\t\t\t\t\t\t ha='right',\n",
    "\t\t\t\t\t\t va='bottom')\n",
    "\tplt.show()"
   ]
  },
  {
   "cell_type": "code",
   "execution_count": null,
   "metadata": {
    "id": "_hN2uxMKBIzL"
   },
   "outputs": [],
   "source": [
    "#plot_embeddings(df,\"author\",\"title_emb_stacked\",100)"
   ]
  },
  {
   "cell_type": "code",
   "execution_count": null,
   "metadata": {
    "id": "wMfk2jR-HZK9"
   },
   "outputs": [],
   "source": [
    "#plot_embeddings(df[df['score'] > 250],\"author\",\"title_emb_stacked\",50)"
   ]
  },
  {
   "cell_type": "markdown",
   "metadata": {
    "id": "nJuFLILVDnkD"
   },
   "source": [
    "# Count Years, Months "
   ]
  },
  {
   "cell_type": "code",
   "execution_count": null,
   "metadata": {
    "id": "PTJG0rxPEYR7"
   },
   "outputs": [],
   "source": [
    "from collections import Counter"
   ]
  },
  {
   "cell_type": "code",
   "execution_count": null,
   "metadata": {
    "id": "YFZYHN-ODrFD"
   },
   "outputs": [],
   "source": [
    "df['year'] = df['year'].apply(lambda x: list(x.split(\" \")))\n",
    "df[\"years_count\"] = df['year'].apply(lambda x: dict(Counter(list(x))))"
   ]
  },
  {
   "cell_type": "code",
   "execution_count": null,
   "metadata": {
    "id": "SCfLJMaAD84E"
   },
   "outputs": [],
   "source": [
    "df['month'] = df['month'].apply(lambda x: list(x.split(\" \")))\n",
    "df[\"months_count\"] = df['month'].apply(lambda x: dict(Counter(list(x))))"
   ]
  },
  {
   "cell_type": "code",
   "execution_count": null,
   "metadata": {
    "id": "kGR0IMJV1kER"
   },
   "outputs": [],
   "source": [
    "df['date'] = df['date'].apply(lambda x: list(x.split(\" \")))\n",
    "df[\"dates_count\"] = df['date'].apply(lambda x: dict(Counter(list(x))))"
   ]
  },
  {
   "cell_type": "code",
   "execution_count": null,
   "metadata": {
    "colab": {
     "base_uri": "https://localhost:8080/",
     "height": 370
    },
    "id": "ltqw98gaINCn",
    "outputId": "2cfda938-0202-4c0b-e4ce-f3545c5ec10d"
   },
   "outputs": [
    {
     "data": {
      "text/html": [
       "\n",
       "  <div id=\"df-ad68c0ea-b079-46d1-8645-24dd44104fe5\">\n",
       "    <div class=\"colab-df-container\">\n",
       "      <div>\n",
       "<style scoped>\n",
       "    .dataframe tbody tr th:only-of-type {\n",
       "        vertical-align: middle;\n",
       "    }\n",
       "\n",
       "    .dataframe tbody tr th {\n",
       "        vertical-align: top;\n",
       "    }\n",
       "\n",
       "    .dataframe thead th {\n",
       "        text-align: right;\n",
       "    }\n",
       "</style>\n",
       "<table border=\"1\" class=\"dataframe\">\n",
       "  <thead>\n",
       "    <tr style=\"text-align: right;\">\n",
       "      <th></th>\n",
       "      <th>author</th>\n",
       "      <th>id</th>\n",
       "      <th>title</th>\n",
       "      <th>selftext</th>\n",
       "      <th>date</th>\n",
       "      <th>day</th>\n",
       "      <th>month</th>\n",
       "      <th>year</th>\n",
       "      <th>tickers_</th>\n",
       "      <th>tickers_count_</th>\n",
       "      <th>link_flair_text</th>\n",
       "      <th>comments_mean</th>\n",
       "      <th>comments_sum</th>\n",
       "      <th>score_mean</th>\n",
       "      <th>score_sum</th>\n",
       "      <th>upvote_ratio_mean</th>\n",
       "      <th>upvote_ratio_sum</th>\n",
       "      <th>flairs</th>\n",
       "      <th>flairs_count</th>\n",
       "      <th>title_polarity</th>\n",
       "      <th>title_subjectivity</th>\n",
       "      <th>body_polarity</th>\n",
       "      <th>body_subjectivity</th>\n",
       "      <th>title_tokens</th>\n",
       "      <th>selftext_tokens</th>\n",
       "      <th>polarity</th>\n",
       "      <th>years_count</th>\n",
       "      <th>months_count</th>\n",
       "      <th>dates_count</th>\n",
       "    </tr>\n",
       "  </thead>\n",
       "  <tbody>\n",
       "    <tr>\n",
       "      <th>0</th>\n",
       "      <td>-A-Brocoma2021</td>\n",
       "      <td>14</td>\n",
       "      <td>Strength of a silverback gorilla, dominance of...</td>\n",
       "      <td>What if everyone did? Bought just one more s...</td>\n",
       "      <td>[2021-04-03, 2021-03-28, 2021-03-16, 2021-03-1...</td>\n",
       "      <td>3 28 16 16 10 10 10 27 26 25 25 23 20 2</td>\n",
       "      <td>[4, 3, 3, 3, 3, 3, 3, 2, 2, 2, 2, 2, 2, 2]</td>\n",
       "      <td>[2021, 2021, 2021, 2021, 2021, 2021, 2021, 202...</td>\n",
       "      <td>['GME']</td>\n",
       "      <td>{'GME': 1}</td>\n",
       "      <td>Meme Discussion Meme YOLO Technical Analysis G...</td>\n",
       "      <td>5.428571</td>\n",
       "      <td>76</td>\n",
       "      <td>19.285714</td>\n",
       "      <td>270</td>\n",
       "      <td>0.972857</td>\n",
       "      <td>13.62</td>\n",
       "      <td>['Meme', 'Discussion', 'Meme', 'YOLO', 'Techni...</td>\n",
       "      <td>{'Meme': 2, 'Discussion': 2, 'YOLO': 8, 'Techn...</td>\n",
       "      <td>0.22166</td>\n",
       "      <td>0.507253</td>\n",
       "      <td>0.25</td>\n",
       "      <td>0.25</td>\n",
       "      <td>['Strength', 'of', 'a', 'silverback', 'gorilla...</td>\n",
       "      <td>['  ', 'What', 'if', 'everyone', 'did', '?', '...</td>\n",
       "      <td>0.47166</td>\n",
       "      <td>{'2021': 14}</td>\n",
       "      <td>{'4': 1, '3': 6, '2': 7}</td>\n",
       "      <td>{'2021-04-03': 1, '2021-03-28': 1, '2021-03-16...</td>\n",
       "    </tr>\n",
       "  </tbody>\n",
       "</table>\n",
       "</div>\n",
       "      <button class=\"colab-df-convert\" onclick=\"convertToInteractive('df-ad68c0ea-b079-46d1-8645-24dd44104fe5')\"\n",
       "              title=\"Convert this dataframe to an interactive table.\"\n",
       "              style=\"display:none;\">\n",
       "        \n",
       "  <svg xmlns=\"http://www.w3.org/2000/svg\" height=\"24px\"viewBox=\"0 0 24 24\"\n",
       "       width=\"24px\">\n",
       "    <path d=\"M0 0h24v24H0V0z\" fill=\"none\"/>\n",
       "    <path d=\"M18.56 5.44l.94 2.06.94-2.06 2.06-.94-2.06-.94-.94-2.06-.94 2.06-2.06.94zm-11 1L8.5 8.5l.94-2.06 2.06-.94-2.06-.94L8.5 2.5l-.94 2.06-2.06.94zm10 10l.94 2.06.94-2.06 2.06-.94-2.06-.94-.94-2.06-.94 2.06-2.06.94z\"/><path d=\"M17.41 7.96l-1.37-1.37c-.4-.4-.92-.59-1.43-.59-.52 0-1.04.2-1.43.59L10.3 9.45l-7.72 7.72c-.78.78-.78 2.05 0 2.83L4 21.41c.39.39.9.59 1.41.59.51 0 1.02-.2 1.41-.59l7.78-7.78 2.81-2.81c.8-.78.8-2.07 0-2.86zM5.41 20L4 18.59l7.72-7.72 1.47 1.35L5.41 20z\"/>\n",
       "  </svg>\n",
       "      </button>\n",
       "      \n",
       "  <style>\n",
       "    .colab-df-container {\n",
       "      display:flex;\n",
       "      flex-wrap:wrap;\n",
       "      gap: 12px;\n",
       "    }\n",
       "\n",
       "    .colab-df-convert {\n",
       "      background-color: #E8F0FE;\n",
       "      border: none;\n",
       "      border-radius: 50%;\n",
       "      cursor: pointer;\n",
       "      display: none;\n",
       "      fill: #1967D2;\n",
       "      height: 32px;\n",
       "      padding: 0 0 0 0;\n",
       "      width: 32px;\n",
       "    }\n",
       "\n",
       "    .colab-df-convert:hover {\n",
       "      background-color: #E2EBFA;\n",
       "      box-shadow: 0px 1px 2px rgba(60, 64, 67, 0.3), 0px 1px 3px 1px rgba(60, 64, 67, 0.15);\n",
       "      fill: #174EA6;\n",
       "    }\n",
       "\n",
       "    [theme=dark] .colab-df-convert {\n",
       "      background-color: #3B4455;\n",
       "      fill: #D2E3FC;\n",
       "    }\n",
       "\n",
       "    [theme=dark] .colab-df-convert:hover {\n",
       "      background-color: #434B5C;\n",
       "      box-shadow: 0px 1px 3px 1px rgba(0, 0, 0, 0.15);\n",
       "      filter: drop-shadow(0px 1px 2px rgba(0, 0, 0, 0.3));\n",
       "      fill: #FFFFFF;\n",
       "    }\n",
       "  </style>\n",
       "\n",
       "      <script>\n",
       "        const buttonEl =\n",
       "          document.querySelector('#df-ad68c0ea-b079-46d1-8645-24dd44104fe5 button.colab-df-convert');\n",
       "        buttonEl.style.display =\n",
       "          google.colab.kernel.accessAllowed ? 'block' : 'none';\n",
       "\n",
       "        async function convertToInteractive(key) {\n",
       "          const element = document.querySelector('#df-ad68c0ea-b079-46d1-8645-24dd44104fe5');\n",
       "          const dataTable =\n",
       "            await google.colab.kernel.invokeFunction('convertToInteractive',\n",
       "                                                     [key], {});\n",
       "          if (!dataTable) return;\n",
       "\n",
       "          const docLinkHtml = 'Like what you see? Visit the ' +\n",
       "            '<a target=\"_blank\" href=https://colab.research.google.com/notebooks/data_table.ipynb>data table notebook</a>'\n",
       "            + ' to learn more about interactive tables.';\n",
       "          element.innerHTML = '';\n",
       "          dataTable['output_type'] = 'display_data';\n",
       "          await google.colab.output.renderOutput(dataTable, element);\n",
       "          const docLink = document.createElement('div');\n",
       "          docLink.innerHTML = docLinkHtml;\n",
       "          element.appendChild(docLink);\n",
       "        }\n",
       "      </script>\n",
       "    </div>\n",
       "  </div>\n",
       "  "
      ],
      "text/plain": [
       "           author  ...                                        dates_count\n",
       "0  -A-Brocoma2021  ...  {'2021-04-03': 1, '2021-03-28': 1, '2021-03-16...\n",
       "\n",
       "[1 rows x 29 columns]"
      ]
     },
     "execution_count": 54,
     "metadata": {},
     "output_type": "execute_result"
    }
   ],
   "source": [
    "df.head(1)"
   ]
  },
  {
   "cell_type": "code",
   "execution_count": null,
   "metadata": {
    "id": "1NsqGXCsH-_7"
   },
   "outputs": [],
   "source": [
    "df.to_csv(\"/content/drive/MyDrive/WSB/WSB_top_users_features.csv\",sep=';')"
   ]
  },
  {
   "cell_type": "markdown",
   "metadata": {
    "id": "H2aGKg1S5vKb"
   },
   "source": [
    "## Are there differences between \"old\" users (pre-2021) and new ones?"
   ]
  },
  {
   "cell_type": "code",
   "execution_count": null,
   "metadata": {
    "colab": {
     "base_uri": "https://localhost:8080/"
    },
    "id": "erAwc9lw56ud",
    "outputId": "5f4d2d08-5a5c-4c28-8d24-6a114e257211"
   },
   "outputs": [
    {
     "name": "stdout",
     "output_type": "stream",
     "text": [
      "<class 'pandas.core.frame.DataFrame'>\n",
      "Int64Index: 5919 entries, 0 to 7252\n",
      "Data columns (total 29 columns):\n",
      " #   Column              Non-Null Count  Dtype  \n",
      "---  ------              --------------  -----  \n",
      " 0   author              5919 non-null   object \n",
      " 1   id                  5919 non-null   int64  \n",
      " 2   title               5919 non-null   object \n",
      " 3   selftext            5919 non-null   object \n",
      " 4   date                5919 non-null   object \n",
      " 5   day                 5919 non-null   object \n",
      " 6   month               5919 non-null   object \n",
      " 7   year                5919 non-null   object \n",
      " 8   tickers_            2497 non-null   object \n",
      " 9   tickers_count_      5919 non-null   object \n",
      " 10  link_flair_text     5919 non-null   object \n",
      " 11  comments_mean       5919 non-null   float64\n",
      " 12  comments_sum        5919 non-null   int64  \n",
      " 13  score_mean          5919 non-null   float64\n",
      " 14  score_sum           5919 non-null   int64  \n",
      " 15  upvote_ratio_mean   5919 non-null   float64\n",
      " 16  upvote_ratio_sum    5919 non-null   float64\n",
      " 17  flairs              5919 non-null   object \n",
      " 18  flairs_count        5919 non-null   object \n",
      " 19  title_polarity      5919 non-null   float64\n",
      " 20  title_subjectivity  5919 non-null   float64\n",
      " 21  body_polarity       5919 non-null   float64\n",
      " 22  body_subjectivity   5919 non-null   float64\n",
      " 23  title_tokens        5919 non-null   object \n",
      " 24  selftext_tokens     5919 non-null   object \n",
      " 25  polarity            5919 non-null   float64\n",
      " 26  years_count         5919 non-null   object \n",
      " 27  months_count        5919 non-null   object \n",
      " 28  dates_count         5919 non-null   object \n",
      "dtypes: float64(9), int64(3), object(17)\n",
      "memory usage: 1.4+ MB\n"
     ]
    }
   ],
   "source": [
    "# split dataset: pre and post hype \n",
    "#users_pre = df['year'].apply(lambda x:list(set(x).intersection(pre_years)))\n",
    "users_post = df[['2021' in x for x in df['year'].values] and ['2020' not in x for x in df['year'].values] and ['2018' not in x for x in df['year'].values] and ['2019' not in x for x in df['year'].values]]\n",
    "users_post.info()"
   ]
  },
  {
   "cell_type": "code",
   "execution_count": null,
   "metadata": {
    "id": "bskFNi_RFO89"
   },
   "outputs": [],
   "source": [
    "users_post.to_csv(\"/content/drive/MyDrive/WSB/WSB_users_post-hype.csv\",sep=';')"
   ]
  },
  {
   "cell_type": "code",
   "execution_count": null,
   "metadata": {
    "colab": {
     "base_uri": "https://localhost:8080/"
    },
    "id": "RST67huc88NI",
    "outputId": "9f426642-0c42-41e1-c9ce-e4bc6e1caa30"
   },
   "outputs": [
    {
     "name": "stdout",
     "output_type": "stream",
     "text": [
      "<class 'pandas.core.frame.DataFrame'>\n",
      "Int64Index: 1034 entries, 2 to 7250\n",
      "Data columns (total 29 columns):\n",
      " #   Column              Non-Null Count  Dtype  \n",
      "---  ------              --------------  -----  \n",
      " 0   author              1034 non-null   object \n",
      " 1   id                  1034 non-null   int64  \n",
      " 2   title               1034 non-null   object \n",
      " 3   selftext            1034 non-null   object \n",
      " 4   date                1034 non-null   object \n",
      " 5   day                 1034 non-null   object \n",
      " 6   month               1034 non-null   object \n",
      " 7   year                1034 non-null   object \n",
      " 8   tickers_            448 non-null    object \n",
      " 9   tickers_count_      1034 non-null   object \n",
      " 10  link_flair_text     1034 non-null   object \n",
      " 11  comments_mean       1034 non-null   float64\n",
      " 12  comments_sum        1034 non-null   int64  \n",
      " 13  score_mean          1034 non-null   float64\n",
      " 14  score_sum           1034 non-null   int64  \n",
      " 15  upvote_ratio_mean   1034 non-null   float64\n",
      " 16  upvote_ratio_sum    1034 non-null   float64\n",
      " 17  flairs              1034 non-null   object \n",
      " 18  flairs_count        1034 non-null   object \n",
      " 19  title_polarity      1034 non-null   float64\n",
      " 20  title_subjectivity  1034 non-null   float64\n",
      " 21  body_polarity       1034 non-null   float64\n",
      " 22  body_subjectivity   1034 non-null   float64\n",
      " 23  title_tokens        1034 non-null   object \n",
      " 24  selftext_tokens     1034 non-null   object \n",
      " 25  polarity            1034 non-null   float64\n",
      " 26  years_count         1034 non-null   object \n",
      " 27  months_count        1034 non-null   object \n",
      " 28  dates_count         1034 non-null   object \n",
      "dtypes: float64(9), int64(3), object(17)\n",
      "memory usage: 242.3+ KB\n"
     ]
    }
   ],
   "source": [
    "users_pre = df[['2021' not in x for x in df['year'].values]]\n",
    "users_pre.info()"
   ]
  },
  {
   "cell_type": "code",
   "execution_count": null,
   "metadata": {
    "colab": {
     "base_uri": "https://localhost:8080/",
     "height": 266
    },
    "id": "ZpDW0HL9Eznt",
    "outputId": "386ba2db-ae58-4555-e99e-6de012f47eb5"
   },
   "outputs": [
    {
     "data": {
      "text/html": [
       "\n",
       "  <div id=\"df-32d62650-038b-4536-b552-cd2c46f6f158\">\n",
       "    <div class=\"colab-df-container\">\n",
       "      <div>\n",
       "<style scoped>\n",
       "    .dataframe tbody tr th:only-of-type {\n",
       "        vertical-align: middle;\n",
       "    }\n",
       "\n",
       "    .dataframe tbody tr th {\n",
       "        vertical-align: top;\n",
       "    }\n",
       "\n",
       "    .dataframe thead th {\n",
       "        text-align: right;\n",
       "    }\n",
       "</style>\n",
       "<table border=\"1\" class=\"dataframe\">\n",
       "  <thead>\n",
       "    <tr style=\"text-align: right;\">\n",
       "      <th></th>\n",
       "      <th>author</th>\n",
       "      <th>id</th>\n",
       "      <th>title</th>\n",
       "      <th>selftext</th>\n",
       "      <th>date</th>\n",
       "      <th>day</th>\n",
       "      <th>month</th>\n",
       "      <th>year</th>\n",
       "      <th>tickers_</th>\n",
       "      <th>tickers_count_</th>\n",
       "      <th>link_flair_text</th>\n",
       "      <th>comments_mean</th>\n",
       "      <th>comments_sum</th>\n",
       "      <th>score_mean</th>\n",
       "      <th>score_sum</th>\n",
       "      <th>upvote_ratio_mean</th>\n",
       "      <th>upvote_ratio_sum</th>\n",
       "      <th>flairs</th>\n",
       "      <th>flairs_count</th>\n",
       "      <th>title_polarity</th>\n",
       "      <th>title_subjectivity</th>\n",
       "      <th>body_polarity</th>\n",
       "      <th>body_subjectivity</th>\n",
       "      <th>title_tokens</th>\n",
       "      <th>selftext_tokens</th>\n",
       "      <th>polarity</th>\n",
       "      <th>years_count</th>\n",
       "      <th>months_count</th>\n",
       "      <th>dates_count</th>\n",
       "    </tr>\n",
       "  </thead>\n",
       "  <tbody>\n",
       "    <tr>\n",
       "      <th>2</th>\n",
       "      <td>-F1sh-</td>\n",
       "      <td>11</td>\n",
       "      <td>Very Bullish jobs chart. SPY 400 on the horizo...</td>\n",
       "      <td>https://twitter.com/espn_esports/s...</td>\n",
       "      <td>[2020-12-04, 2020-09-08, 2020-09-07, 2020-09-0...</td>\n",
       "      <td>4 8 7 7 27 15 28 24 8 7 31</td>\n",
       "      <td>[12, 9, 9, 9, 6, 6, 4, 4, 4, 4, 3]</td>\n",
       "      <td>[2020, 2020, 2020, 2020, 2020, 2020, 2020, 202...</td>\n",
       "      <td>NaN</td>\n",
       "      <td>{}</td>\n",
       "      <td>Discussion Shitpost Meme Meme YOLO Meme Discus...</td>\n",
       "      <td>6.090909</td>\n",
       "      <td>67</td>\n",
       "      <td>1.0</td>\n",
       "      <td>11</td>\n",
       "      <td>0.545455</td>\n",
       "      <td>6.0</td>\n",
       "      <td>['Discussion', 'Shitpost', 'Meme', 'Meme', 'YO...</td>\n",
       "      <td>{'Discussion': 2, 'Shitpost': 5, 'Meme': 3, 'Y...</td>\n",
       "      <td>0.022222</td>\n",
       "      <td>0.111111</td>\n",
       "      <td>0.074583</td>\n",
       "      <td>0.450407</td>\n",
       "      <td>['Very', 'Bullish', 'jobs', 'chart', '.', 'SPY...</td>\n",
       "      <td>['            ', 'https://twitter.com/espn_esp...</td>\n",
       "      <td>0.096805</td>\n",
       "      <td>{'2020': 11}</td>\n",
       "      <td>{'12': 1, '9': 3, '6': 2, '4': 4, '3': 1}</td>\n",
       "      <td>{'2020-12-04': 1, '2020-09-08': 1, '2020-09-07...</td>\n",
       "    </tr>\n",
       "  </tbody>\n",
       "</table>\n",
       "</div>\n",
       "      <button class=\"colab-df-convert\" onclick=\"convertToInteractive('df-32d62650-038b-4536-b552-cd2c46f6f158')\"\n",
       "              title=\"Convert this dataframe to an interactive table.\"\n",
       "              style=\"display:none;\">\n",
       "        \n",
       "  <svg xmlns=\"http://www.w3.org/2000/svg\" height=\"24px\"viewBox=\"0 0 24 24\"\n",
       "       width=\"24px\">\n",
       "    <path d=\"M0 0h24v24H0V0z\" fill=\"none\"/>\n",
       "    <path d=\"M18.56 5.44l.94 2.06.94-2.06 2.06-.94-2.06-.94-.94-2.06-.94 2.06-2.06.94zm-11 1L8.5 8.5l.94-2.06 2.06-.94-2.06-.94L8.5 2.5l-.94 2.06-2.06.94zm10 10l.94 2.06.94-2.06 2.06-.94-2.06-.94-.94-2.06-.94 2.06-2.06.94z\"/><path d=\"M17.41 7.96l-1.37-1.37c-.4-.4-.92-.59-1.43-.59-.52 0-1.04.2-1.43.59L10.3 9.45l-7.72 7.72c-.78.78-.78 2.05 0 2.83L4 21.41c.39.39.9.59 1.41.59.51 0 1.02-.2 1.41-.59l7.78-7.78 2.81-2.81c.8-.78.8-2.07 0-2.86zM5.41 20L4 18.59l7.72-7.72 1.47 1.35L5.41 20z\"/>\n",
       "  </svg>\n",
       "      </button>\n",
       "      \n",
       "  <style>\n",
       "    .colab-df-container {\n",
       "      display:flex;\n",
       "      flex-wrap:wrap;\n",
       "      gap: 12px;\n",
       "    }\n",
       "\n",
       "    .colab-df-convert {\n",
       "      background-color: #E8F0FE;\n",
       "      border: none;\n",
       "      border-radius: 50%;\n",
       "      cursor: pointer;\n",
       "      display: none;\n",
       "      fill: #1967D2;\n",
       "      height: 32px;\n",
       "      padding: 0 0 0 0;\n",
       "      width: 32px;\n",
       "    }\n",
       "\n",
       "    .colab-df-convert:hover {\n",
       "      background-color: #E2EBFA;\n",
       "      box-shadow: 0px 1px 2px rgba(60, 64, 67, 0.3), 0px 1px 3px 1px rgba(60, 64, 67, 0.15);\n",
       "      fill: #174EA6;\n",
       "    }\n",
       "\n",
       "    [theme=dark] .colab-df-convert {\n",
       "      background-color: #3B4455;\n",
       "      fill: #D2E3FC;\n",
       "    }\n",
       "\n",
       "    [theme=dark] .colab-df-convert:hover {\n",
       "      background-color: #434B5C;\n",
       "      box-shadow: 0px 1px 3px 1px rgba(0, 0, 0, 0.15);\n",
       "      filter: drop-shadow(0px 1px 2px rgba(0, 0, 0, 0.3));\n",
       "      fill: #FFFFFF;\n",
       "    }\n",
       "  </style>\n",
       "\n",
       "      <script>\n",
       "        const buttonEl =\n",
       "          document.querySelector('#df-32d62650-038b-4536-b552-cd2c46f6f158 button.colab-df-convert');\n",
       "        buttonEl.style.display =\n",
       "          google.colab.kernel.accessAllowed ? 'block' : 'none';\n",
       "\n",
       "        async function convertToInteractive(key) {\n",
       "          const element = document.querySelector('#df-32d62650-038b-4536-b552-cd2c46f6f158');\n",
       "          const dataTable =\n",
       "            await google.colab.kernel.invokeFunction('convertToInteractive',\n",
       "                                                     [key], {});\n",
       "          if (!dataTable) return;\n",
       "\n",
       "          const docLinkHtml = 'Like what you see? Visit the ' +\n",
       "            '<a target=\"_blank\" href=https://colab.research.google.com/notebooks/data_table.ipynb>data table notebook</a>'\n",
       "            + ' to learn more about interactive tables.';\n",
       "          element.innerHTML = '';\n",
       "          dataTable['output_type'] = 'display_data';\n",
       "          await google.colab.output.renderOutput(dataTable, element);\n",
       "          const docLink = document.createElement('div');\n",
       "          docLink.innerHTML = docLinkHtml;\n",
       "          element.appendChild(docLink);\n",
       "        }\n",
       "      </script>\n",
       "    </div>\n",
       "  </div>\n",
       "  "
      ],
      "text/plain": [
       "   author  ...                                        dates_count\n",
       "2  -F1sh-  ...  {'2020-12-04': 1, '2020-09-08': 1, '2020-09-07...\n",
       "\n",
       "[1 rows x 29 columns]"
      ]
     },
     "execution_count": 59,
     "metadata": {},
     "output_type": "execute_result"
    }
   ],
   "source": [
    "users_pre.head(1)"
   ]
  },
  {
   "cell_type": "code",
   "execution_count": null,
   "metadata": {
    "id": "fqufF8ZdFb-d"
   },
   "outputs": [],
   "source": [
    "users_pre.to_csv(\"/content/drive/MyDrive/WSB/WSB_users_pre-hype.csv\",sep=';')"
   ]
  },
  {
   "cell_type": "code",
   "execution_count": null,
   "metadata": {
    "colab": {
     "base_uri": "https://localhost:8080/"
    },
    "id": "LYzOSEvaE5nU",
    "outputId": "ed231a7c-195b-4caf-8717-822ecfd3f0e1"
   },
   "outputs": [
    {
     "name": "stdout",
     "output_type": "stream",
     "text": [
      "<class 'pandas.core.frame.DataFrame'>\n",
      "Int64Index: 1334 entries, 4 to 7250\n",
      "Data columns (total 29 columns):\n",
      " #   Column              Non-Null Count  Dtype  \n",
      "---  ------              --------------  -----  \n",
      " 0   author              1334 non-null   object \n",
      " 1   id                  1334 non-null   int64  \n",
      " 2   title               1334 non-null   object \n",
      " 3   selftext            1334 non-null   object \n",
      " 4   date                1334 non-null   object \n",
      " 5   day                 1334 non-null   object \n",
      " 6   month               1334 non-null   object \n",
      " 7   year                1334 non-null   object \n",
      " 8   tickers_            693 non-null    object \n",
      " 9   tickers_count_      1334 non-null   object \n",
      " 10  link_flair_text     1334 non-null   object \n",
      " 11  comments_mean       1334 non-null   float64\n",
      " 12  comments_sum        1334 non-null   int64  \n",
      " 13  score_mean          1334 non-null   float64\n",
      " 14  score_sum           1334 non-null   int64  \n",
      " 15  upvote_ratio_mean   1334 non-null   float64\n",
      " 16  upvote_ratio_sum    1334 non-null   float64\n",
      " 17  flairs              1334 non-null   object \n",
      " 18  flairs_count        1334 non-null   object \n",
      " 19  title_polarity      1334 non-null   float64\n",
      " 20  title_subjectivity  1334 non-null   float64\n",
      " 21  body_polarity       1334 non-null   float64\n",
      " 22  body_subjectivity   1334 non-null   float64\n",
      " 23  title_tokens        1334 non-null   object \n",
      " 24  selftext_tokens     1334 non-null   object \n",
      " 25  polarity            1334 non-null   float64\n",
      " 26  years_count         1334 non-null   object \n",
      " 27  months_count        1334 non-null   object \n",
      " 28  dates_count         1334 non-null   object \n",
      "dtypes: float64(9), int64(3), object(17)\n",
      "memory usage: 312.7+ KB\n"
     ]
    }
   ],
   "source": [
    "users_pre_post = df[['2021' in x for x in df['year'].values] and ['2020' in x for x in df['year'].values] and ['2018' in x for x in df['year'].values] and ['2019' in x for x in df['year'].values]]\n",
    "users_pre_post.info()"
   ]
  },
  {
   "cell_type": "code",
   "execution_count": null,
   "metadata": {
    "colab": {
     "base_uri": "https://localhost:8080/",
     "height": 388
    },
    "id": "e0KUeWnAFHkk",
    "outputId": "7678fd64-892f-46a8-8e75-cb8c36d4f19e"
   },
   "outputs": [
    {
     "data": {
      "text/html": [
       "\n",
       "  <div id=\"df-5543497a-bb4a-4e0f-ba9d-81d67d6d49c6\">\n",
       "    <div class=\"colab-df-container\">\n",
       "      <div>\n",
       "<style scoped>\n",
       "    .dataframe tbody tr th:only-of-type {\n",
       "        vertical-align: middle;\n",
       "    }\n",
       "\n",
       "    .dataframe tbody tr th {\n",
       "        vertical-align: top;\n",
       "    }\n",
       "\n",
       "    .dataframe thead th {\n",
       "        text-align: right;\n",
       "    }\n",
       "</style>\n",
       "<table border=\"1\" class=\"dataframe\">\n",
       "  <thead>\n",
       "    <tr style=\"text-align: right;\">\n",
       "      <th></th>\n",
       "      <th>author</th>\n",
       "      <th>id</th>\n",
       "      <th>title</th>\n",
       "      <th>selftext</th>\n",
       "      <th>date</th>\n",
       "      <th>day</th>\n",
       "      <th>month</th>\n",
       "      <th>year</th>\n",
       "      <th>tickers_</th>\n",
       "      <th>tickers_count_</th>\n",
       "      <th>link_flair_text</th>\n",
       "      <th>comments_mean</th>\n",
       "      <th>comments_sum</th>\n",
       "      <th>score_mean</th>\n",
       "      <th>score_sum</th>\n",
       "      <th>upvote_ratio_mean</th>\n",
       "      <th>upvote_ratio_sum</th>\n",
       "      <th>flairs</th>\n",
       "      <th>flairs_count</th>\n",
       "      <th>title_polarity</th>\n",
       "      <th>title_subjectivity</th>\n",
       "      <th>body_polarity</th>\n",
       "      <th>body_subjectivity</th>\n",
       "      <th>title_tokens</th>\n",
       "      <th>selftext_tokens</th>\n",
       "      <th>polarity</th>\n",
       "      <th>years_count</th>\n",
       "      <th>months_count</th>\n",
       "      <th>dates_count</th>\n",
       "    </tr>\n",
       "  </thead>\n",
       "  <tbody>\n",
       "    <tr>\n",
       "      <th>4</th>\n",
       "      <td>-Hyre</td>\n",
       "      <td>19</td>\n",
       "      <td>The age of silver. And clandestine inflation. ...</td>\n",
       "      <td>You're all front row to the Fed money printing...</td>\n",
       "      <td>[2021-01-29, 2021-01-29, 2021-01-28, 2019-12-0...</td>\n",
       "      <td>29 29 28 4 2 14 24 18 17 9 8 7 3 3 3 2 27 23 20</td>\n",
       "      <td>[1, 1, 1, 12, 12, 11, 10, 10, 10, 10, 10, 10, ...</td>\n",
       "      <td>[2021, 2021, 2021, 2019, 2019, 2019, 2019, 201...</td>\n",
       "      <td>['AMZN', 'ROKU', 'MU', 'BYND', 'GME']</td>\n",
       "      <td>{'AMZN': 1, 'ROKU': 1, 'MU': 1, 'BYND': 1, 'GM...</td>\n",
       "      <td>DD Discussion DD YOLO Options YOLO Discussion ...</td>\n",
       "      <td>333.842105</td>\n",
       "      <td>6343</td>\n",
       "      <td>164.315789</td>\n",
       "      <td>3122</td>\n",
       "      <td>0.156316</td>\n",
       "      <td>2.97</td>\n",
       "      <td>['DD', 'Discussion', 'DD', 'YOLO', 'Options', ...</td>\n",
       "      <td>{'DD': 3, 'Discussion': 2, 'YOLO': 5, 'Options...</td>\n",
       "      <td>-0.15</td>\n",
       "      <td>0.3</td>\n",
       "      <td>0.036943</td>\n",
       "      <td>0.479711</td>\n",
       "      <td>['The', 'age', 'of', 'silver', '.', 'And', 'cl...</td>\n",
       "      <td>['You', \"'re\", 'all', 'front', 'row', 'to', 't...</td>\n",
       "      <td>-0.113057</td>\n",
       "      <td>{'2021': 3, '2019': 16}</td>\n",
       "      <td>{'1': 3, '12': 2, '11': 1, '10': 10, '9': 3}</td>\n",
       "      <td>{'2021-01-29': 2, '2021-01-28': 1, '2019-12-04...</td>\n",
       "    </tr>\n",
       "  </tbody>\n",
       "</table>\n",
       "</div>\n",
       "      <button class=\"colab-df-convert\" onclick=\"convertToInteractive('df-5543497a-bb4a-4e0f-ba9d-81d67d6d49c6')\"\n",
       "              title=\"Convert this dataframe to an interactive table.\"\n",
       "              style=\"display:none;\">\n",
       "        \n",
       "  <svg xmlns=\"http://www.w3.org/2000/svg\" height=\"24px\"viewBox=\"0 0 24 24\"\n",
       "       width=\"24px\">\n",
       "    <path d=\"M0 0h24v24H0V0z\" fill=\"none\"/>\n",
       "    <path d=\"M18.56 5.44l.94 2.06.94-2.06 2.06-.94-2.06-.94-.94-2.06-.94 2.06-2.06.94zm-11 1L8.5 8.5l.94-2.06 2.06-.94-2.06-.94L8.5 2.5l-.94 2.06-2.06.94zm10 10l.94 2.06.94-2.06 2.06-.94-2.06-.94-.94-2.06-.94 2.06-2.06.94z\"/><path d=\"M17.41 7.96l-1.37-1.37c-.4-.4-.92-.59-1.43-.59-.52 0-1.04.2-1.43.59L10.3 9.45l-7.72 7.72c-.78.78-.78 2.05 0 2.83L4 21.41c.39.39.9.59 1.41.59.51 0 1.02-.2 1.41-.59l7.78-7.78 2.81-2.81c.8-.78.8-2.07 0-2.86zM5.41 20L4 18.59l7.72-7.72 1.47 1.35L5.41 20z\"/>\n",
       "  </svg>\n",
       "      </button>\n",
       "      \n",
       "  <style>\n",
       "    .colab-df-container {\n",
       "      display:flex;\n",
       "      flex-wrap:wrap;\n",
       "      gap: 12px;\n",
       "    }\n",
       "\n",
       "    .colab-df-convert {\n",
       "      background-color: #E8F0FE;\n",
       "      border: none;\n",
       "      border-radius: 50%;\n",
       "      cursor: pointer;\n",
       "      display: none;\n",
       "      fill: #1967D2;\n",
       "      height: 32px;\n",
       "      padding: 0 0 0 0;\n",
       "      width: 32px;\n",
       "    }\n",
       "\n",
       "    .colab-df-convert:hover {\n",
       "      background-color: #E2EBFA;\n",
       "      box-shadow: 0px 1px 2px rgba(60, 64, 67, 0.3), 0px 1px 3px 1px rgba(60, 64, 67, 0.15);\n",
       "      fill: #174EA6;\n",
       "    }\n",
       "\n",
       "    [theme=dark] .colab-df-convert {\n",
       "      background-color: #3B4455;\n",
       "      fill: #D2E3FC;\n",
       "    }\n",
       "\n",
       "    [theme=dark] .colab-df-convert:hover {\n",
       "      background-color: #434B5C;\n",
       "      box-shadow: 0px 1px 3px 1px rgba(0, 0, 0, 0.15);\n",
       "      filter: drop-shadow(0px 1px 2px rgba(0, 0, 0, 0.3));\n",
       "      fill: #FFFFFF;\n",
       "    }\n",
       "  </style>\n",
       "\n",
       "      <script>\n",
       "        const buttonEl =\n",
       "          document.querySelector('#df-5543497a-bb4a-4e0f-ba9d-81d67d6d49c6 button.colab-df-convert');\n",
       "        buttonEl.style.display =\n",
       "          google.colab.kernel.accessAllowed ? 'block' : 'none';\n",
       "\n",
       "        async function convertToInteractive(key) {\n",
       "          const element = document.querySelector('#df-5543497a-bb4a-4e0f-ba9d-81d67d6d49c6');\n",
       "          const dataTable =\n",
       "            await google.colab.kernel.invokeFunction('convertToInteractive',\n",
       "                                                     [key], {});\n",
       "          if (!dataTable) return;\n",
       "\n",
       "          const docLinkHtml = 'Like what you see? Visit the ' +\n",
       "            '<a target=\"_blank\" href=https://colab.research.google.com/notebooks/data_table.ipynb>data table notebook</a>'\n",
       "            + ' to learn more about interactive tables.';\n",
       "          element.innerHTML = '';\n",
       "          dataTable['output_type'] = 'display_data';\n",
       "          await google.colab.output.renderOutput(dataTable, element);\n",
       "          const docLink = document.createElement('div');\n",
       "          docLink.innerHTML = docLinkHtml;\n",
       "          element.appendChild(docLink);\n",
       "        }\n",
       "      </script>\n",
       "    </div>\n",
       "  </div>\n",
       "  "
      ],
      "text/plain": [
       "  author  ...                                        dates_count\n",
       "4  -Hyre  ...  {'2021-01-29': 2, '2021-01-28': 1, '2019-12-04...\n",
       "\n",
       "[1 rows x 29 columns]"
      ]
     },
     "execution_count": 62,
     "metadata": {},
     "output_type": "execute_result"
    }
   ],
   "source": [
    "users_pre_post.head(1)"
   ]
  },
  {
   "cell_type": "code",
   "execution_count": null,
   "metadata": {
    "id": "nub8j-9vFlb5"
   },
   "outputs": [],
   "source": [
    "users_pre_post.to_csv(\"/content/drive/MyDrive/WSB/WSB_users_pre-post_hype.csv\",sep=';')"
   ]
  },
  {
   "cell_type": "markdown",
   "metadata": {
    "id": "NbJt-Fo_5xXW"
   },
   "source": [
    "## Can we identify those that have posted (successful) DDs?"
   ]
  },
  {
   "cell_type": "code",
   "execution_count": 9,
   "metadata": {},
   "outputs": [
    {
     "data": {
      "text/html": [
       "<div>\n",
       "<style scoped>\n",
       "    .dataframe tbody tr th:only-of-type {\n",
       "        vertical-align: middle;\n",
       "    }\n",
       "\n",
       "    .dataframe tbody tr th {\n",
       "        vertical-align: top;\n",
       "    }\n",
       "\n",
       "    .dataframe thead th {\n",
       "        text-align: right;\n",
       "    }\n",
       "</style>\n",
       "<table border=\"1\" class=\"dataframe\">\n",
       "  <thead>\n",
       "    <tr style=\"text-align: right;\">\n",
       "      <th></th>\n",
       "      <th>Unnamed: 0</th>\n",
       "      <th>id</th>\n",
       "      <th>comments_mean</th>\n",
       "      <th>comments_sum</th>\n",
       "      <th>score_mean</th>\n",
       "      <th>score_sum</th>\n",
       "      <th>upvote_ratio_mean</th>\n",
       "      <th>upvote_ratio_sum</th>\n",
       "      <th>title_polarity</th>\n",
       "      <th>title_subjectivity</th>\n",
       "      <th>body_polarity</th>\n",
       "      <th>body_subjectivity</th>\n",
       "      <th>polarity</th>\n",
       "    </tr>\n",
       "  </thead>\n",
       "  <tbody>\n",
       "    <tr>\n",
       "      <th>count</th>\n",
       "      <td>7253.000000</td>\n",
       "      <td>7253.000000</td>\n",
       "      <td>7253.000000</td>\n",
       "      <td>7.253000e+03</td>\n",
       "      <td>7253.000000</td>\n",
       "      <td>7253.000000</td>\n",
       "      <td>7253.000000</td>\n",
       "      <td>7253.000000</td>\n",
       "      <td>7253.000000</td>\n",
       "      <td>7253.000000</td>\n",
       "      <td>7253.000000</td>\n",
       "      <td>7253.000000</td>\n",
       "      <td>7253.000000</td>\n",
       "    </tr>\n",
       "    <tr>\n",
       "      <th>mean</th>\n",
       "      <td>3626.000000</td>\n",
       "      <td>20.604991</td>\n",
       "      <td>44.710142</td>\n",
       "      <td>4.327122e+03</td>\n",
       "      <td>56.210572</td>\n",
       "      <td>1349.207500</td>\n",
       "      <td>0.808659</td>\n",
       "      <td>16.371195</td>\n",
       "      <td>0.064442</td>\n",
       "      <td>0.481713</td>\n",
       "      <td>0.044302</td>\n",
       "      <td>0.371057</td>\n",
       "      <td>0.108743</td>\n",
       "    </tr>\n",
       "    <tr>\n",
       "      <th>std</th>\n",
       "      <td>2093.905084</td>\n",
       "      <td>26.956220</td>\n",
       "      <td>422.546416</td>\n",
       "      <td>2.017091e+05</td>\n",
       "      <td>348.667883</td>\n",
       "      <td>9493.127294</td>\n",
       "      <td>0.314847</td>\n",
       "      <td>23.826521</td>\n",
       "      <td>0.162926</td>\n",
       "      <td>0.129514</td>\n",
       "      <td>0.122352</td>\n",
       "      <td>0.220327</td>\n",
       "      <td>0.211182</td>\n",
       "    </tr>\n",
       "    <tr>\n",
       "      <th>min</th>\n",
       "      <td>0.000000</td>\n",
       "      <td>11.000000</td>\n",
       "      <td>0.000000</td>\n",
       "      <td>0.000000e+00</td>\n",
       "      <td>1.000000</td>\n",
       "      <td>11.000000</td>\n",
       "      <td>0.000000</td>\n",
       "      <td>0.000000</td>\n",
       "      <td>-1.000000</td>\n",
       "      <td>0.000000</td>\n",
       "      <td>-1.000000</td>\n",
       "      <td>0.000000</td>\n",
       "      <td>-1.360069</td>\n",
       "    </tr>\n",
       "    <tr>\n",
       "      <th>25%</th>\n",
       "      <td>1813.000000</td>\n",
       "      <td>12.000000</td>\n",
       "      <td>5.454545</td>\n",
       "      <td>8.200000e+01</td>\n",
       "      <td>1.000000</td>\n",
       "      <td>16.000000</td>\n",
       "      <td>0.750000</td>\n",
       "      <td>10.750000</td>\n",
       "      <td>-0.020567</td>\n",
       "      <td>0.408123</td>\n",
       "      <td>0.000000</td>\n",
       "      <td>0.288889</td>\n",
       "      <td>-0.002833</td>\n",
       "    </tr>\n",
       "    <tr>\n",
       "      <th>50%</th>\n",
       "      <td>3626.000000</td>\n",
       "      <td>15.000000</td>\n",
       "      <td>15.276596</td>\n",
       "      <td>2.540000e+02</td>\n",
       "      <td>1.846154</td>\n",
       "      <td>35.000000</td>\n",
       "      <td>0.981818</td>\n",
       "      <td>13.000000</td>\n",
       "      <td>0.063131</td>\n",
       "      <td>0.482381</td>\n",
       "      <td>0.031632</td>\n",
       "      <td>0.450747</td>\n",
       "      <td>0.111765</td>\n",
       "    </tr>\n",
       "    <tr>\n",
       "      <th>75%</th>\n",
       "      <td>5439.000000</td>\n",
       "      <td>21.000000</td>\n",
       "      <td>33.111111</td>\n",
       "      <td>6.380000e+02</td>\n",
       "      <td>9.055556</td>\n",
       "      <td>177.000000</td>\n",
       "      <td>1.000000</td>\n",
       "      <td>18.000000</td>\n",
       "      <td>0.153328</td>\n",
       "      <td>0.556878</td>\n",
       "      <td>0.095408</td>\n",
       "      <td>0.507998</td>\n",
       "      <td>0.223496</td>\n",
       "    </tr>\n",
       "    <tr>\n",
       "      <th>max</th>\n",
       "      <td>7252.000000</td>\n",
       "      <td>1103.000000</td>\n",
       "      <td>20629.751004</td>\n",
       "      <td>1.374015e+07</td>\n",
       "      <td>9204.916667</td>\n",
       "      <td>368913.000000</td>\n",
       "      <td>1.000000</td>\n",
       "      <td>1103.000000</td>\n",
       "      <td>1.000000</td>\n",
       "      <td>1.000000</td>\n",
       "      <td>1.000000</td>\n",
       "      <td>1.000000</td>\n",
       "      <td>1.371719</td>\n",
       "    </tr>\n",
       "  </tbody>\n",
       "</table>\n",
       "</div>"
      ],
      "text/plain": [
       "        Unnamed: 0           id  comments_mean  comments_sum   score_mean  \\\n",
       "count  7253.000000  7253.000000    7253.000000  7.253000e+03  7253.000000   \n",
       "mean   3626.000000    20.604991      44.710142  4.327122e+03    56.210572   \n",
       "std    2093.905084    26.956220     422.546416  2.017091e+05   348.667883   \n",
       "min       0.000000    11.000000       0.000000  0.000000e+00     1.000000   \n",
       "25%    1813.000000    12.000000       5.454545  8.200000e+01     1.000000   \n",
       "50%    3626.000000    15.000000      15.276596  2.540000e+02     1.846154   \n",
       "75%    5439.000000    21.000000      33.111111  6.380000e+02     9.055556   \n",
       "max    7252.000000  1103.000000   20629.751004  1.374015e+07  9204.916667   \n",
       "\n",
       "           score_sum  upvote_ratio_mean  upvote_ratio_sum  title_polarity  \\\n",
       "count    7253.000000        7253.000000       7253.000000     7253.000000   \n",
       "mean     1349.207500           0.808659         16.371195        0.064442   \n",
       "std      9493.127294           0.314847         23.826521        0.162926   \n",
       "min        11.000000           0.000000          0.000000       -1.000000   \n",
       "25%        16.000000           0.750000         10.750000       -0.020567   \n",
       "50%        35.000000           0.981818         13.000000        0.063131   \n",
       "75%       177.000000           1.000000         18.000000        0.153328   \n",
       "max    368913.000000           1.000000       1103.000000        1.000000   \n",
       "\n",
       "       title_subjectivity  body_polarity  body_subjectivity     polarity  \n",
       "count         7253.000000    7253.000000        7253.000000  7253.000000  \n",
       "mean             0.481713       0.044302           0.371057     0.108743  \n",
       "std              0.129514       0.122352           0.220327     0.211182  \n",
       "min              0.000000      -1.000000           0.000000    -1.360069  \n",
       "25%              0.408123       0.000000           0.288889    -0.002833  \n",
       "50%              0.482381       0.031632           0.450747     0.111765  \n",
       "75%              0.556878       0.095408           0.507998     0.223496  \n",
       "max              1.000000       1.000000           1.000000     1.371719  "
      ]
     },
     "execution_count": 9,
     "metadata": {},
     "output_type": "execute_result"
    }
   ],
   "source": [
    "df.describe()"
   ]
  },
  {
   "cell_type": "code",
   "execution_count": 10,
   "metadata": {},
   "outputs": [
    {
     "name": "stdout",
     "output_type": "stream",
     "text": [
      "<class 'pandas.core.frame.DataFrame'>\n",
      "Int64Index: 3625 entries, 0 to 7252\n",
      "Data columns (total 30 columns):\n",
      " #   Column              Non-Null Count  Dtype  \n",
      "---  ------              --------------  -----  \n",
      " 0   Unnamed: 0          3625 non-null   int64  \n",
      " 1   author              3625 non-null   object \n",
      " 2   id                  3625 non-null   int64  \n",
      " 3   title               3625 non-null   object \n",
      " 4   selftext            3625 non-null   object \n",
      " 5   date                3625 non-null   object \n",
      " 6   day                 3625 non-null   object \n",
      " 7   month               3625 non-null   object \n",
      " 8   year                3625 non-null   object \n",
      " 9   tickers_            1694 non-null   object \n",
      " 10  tickers_count_      3625 non-null   object \n",
      " 11  link_flair_text     3625 non-null   object \n",
      " 12  comments_mean       3625 non-null   float64\n",
      " 13  comments_sum        3625 non-null   int64  \n",
      " 14  score_mean          3625 non-null   float64\n",
      " 15  score_sum           3625 non-null   int64  \n",
      " 16  upvote_ratio_mean   3625 non-null   float64\n",
      " 17  upvote_ratio_sum    3625 non-null   float64\n",
      " 18  flairs              3625 non-null   object \n",
      " 19  flairs_count        3625 non-null   object \n",
      " 20  title_polarity      3625 non-null   float64\n",
      " 21  title_subjectivity  3625 non-null   float64\n",
      " 22  body_polarity       3625 non-null   float64\n",
      " 23  body_subjectivity   3625 non-null   float64\n",
      " 24  title_tokens        3625 non-null   object \n",
      " 25  selftext_tokens     3625 non-null   object \n",
      " 26  polarity            3625 non-null   float64\n",
      " 27  years_count         3625 non-null   object \n",
      " 28  months_count        3625 non-null   object \n",
      " 29  dates_count         3625 non-null   object \n",
      "dtypes: float64(9), int64(4), object(17)\n",
      "memory usage: 877.9+ KB\n"
     ]
    }
   ],
   "source": [
    "# overall top users > median\n",
    "users_above_median = df[df['score_mean'] >= 1.846154]\n",
    "users_above_median.info()"
   ]
  },
  {
   "cell_type": "code",
   "execution_count": 20,
   "metadata": {},
   "outputs": [],
   "source": [
    "users_above_median.to_csv('data/WSB_users_Overall_top_median.csv',sep=';',index=False)"
   ]
  },
  {
   "cell_type": "code",
   "execution_count": 17,
   "metadata": {},
   "outputs": [
    {
     "name": "stdout",
     "output_type": "stream",
     "text": [
      "<class 'pandas.core.frame.DataFrame'>\n",
      "Int64Index: 5440 entries, 1 to 7252\n",
      "Data columns (total 30 columns):\n",
      " #   Column              Non-Null Count  Dtype  \n",
      "---  ------              --------------  -----  \n",
      " 0   Unnamed: 0          5440 non-null   int64  \n",
      " 1   author              5440 non-null   object \n",
      " 2   id                  5440 non-null   int64  \n",
      " 3   title               5440 non-null   object \n",
      " 4   selftext            5440 non-null   object \n",
      " 5   date                5440 non-null   object \n",
      " 6   day                 5440 non-null   object \n",
      " 7   month               5440 non-null   object \n",
      " 8   year                5440 non-null   object \n",
      " 9   tickers_            2319 non-null   object \n",
      " 10  tickers_count_      5440 non-null   object \n",
      " 11  link_flair_text     5440 non-null   object \n",
      " 12  comments_mean       5440 non-null   float64\n",
      " 13  comments_sum        5440 non-null   int64  \n",
      " 14  score_mean          5440 non-null   float64\n",
      " 15  score_sum           5440 non-null   int64  \n",
      " 16  upvote_ratio_mean   5440 non-null   float64\n",
      " 17  upvote_ratio_sum    5440 non-null   float64\n",
      " 18  flairs              5440 non-null   object \n",
      " 19  flairs_count        5440 non-null   object \n",
      " 20  title_polarity      5440 non-null   float64\n",
      " 21  title_subjectivity  5440 non-null   float64\n",
      " 22  body_polarity       5440 non-null   float64\n",
      " 23  body_subjectivity   5440 non-null   float64\n",
      " 24  title_tokens        5440 non-null   object \n",
      " 25  selftext_tokens     5440 non-null   object \n",
      " 26  polarity            5440 non-null   float64\n",
      " 27  years_count         5440 non-null   object \n",
      " 28  months_count        5440 non-null   object \n",
      " 29  dates_count         5440 non-null   object \n",
      "dtypes: float64(9), int64(4), object(17)\n",
      "memory usage: 1.3+ MB\n"
     ]
    }
   ],
   "source": [
    "# overall top between 25 to 75 percentile\n",
    "users_25to75 = df.loc[(df['score_mean'] >= 1) & (df['score_mean'] <= 9.055556)]\n",
    "users_25to75.info()"
   ]
  },
  {
   "cell_type": "code",
   "execution_count": 18,
   "metadata": {},
   "outputs": [],
   "source": [
    "users_25to75.to_csv('data/WSB_users_25to75.csv',sep=';',index=False)"
   ]
  },
  {
   "cell_type": "code",
   "execution_count": 3,
   "metadata": {
    "colab": {
     "base_uri": "https://localhost:8080/"
    },
    "id": "xk_J3_lp6DJj",
    "outputId": "da04a3e3-a6e0-4cfe-f7e1-9bca027b50bb"
   },
   "outputs": [
    {
     "name": "stdout",
     "output_type": "stream",
     "text": [
      "<class 'pandas.core.frame.DataFrame'>\n",
      "Int64Index: 3486 entries, 3 to 7251\n",
      "Data columns (total 30 columns):\n",
      " #   Column              Non-Null Count  Dtype  \n",
      "---  ------              --------------  -----  \n",
      " 0   Unnamed: 0          3486 non-null   int64  \n",
      " 1   author              3486 non-null   object \n",
      " 2   id                  3486 non-null   int64  \n",
      " 3   title               3486 non-null   object \n",
      " 4   selftext            3486 non-null   object \n",
      " 5   date                3486 non-null   object \n",
      " 6   day                 3486 non-null   object \n",
      " 7   month               3486 non-null   object \n",
      " 8   year                3486 non-null   object \n",
      " 9   tickers_            1813 non-null   object \n",
      " 10  tickers_count_      3486 non-null   object \n",
      " 11  link_flair_text     3486 non-null   object \n",
      " 12  comments_mean       3486 non-null   float64\n",
      " 13  comments_sum        3486 non-null   int64  \n",
      " 14  score_mean          3486 non-null   float64\n",
      " 15  score_sum           3486 non-null   int64  \n",
      " 16  upvote_ratio_mean   3486 non-null   float64\n",
      " 17  upvote_ratio_sum    3486 non-null   float64\n",
      " 18  flairs              3486 non-null   object \n",
      " 19  flairs_count        3486 non-null   object \n",
      " 20  title_polarity      3486 non-null   float64\n",
      " 21  title_subjectivity  3486 non-null   float64\n",
      " 22  body_polarity       3486 non-null   float64\n",
      " 23  body_subjectivity   3486 non-null   float64\n",
      " 24  title_tokens        3486 non-null   object \n",
      " 25  selftext_tokens     3486 non-null   object \n",
      " 26  polarity            3486 non-null   float64\n",
      " 27  years_count         3486 non-null   object \n",
      " 28  months_count        3486 non-null   object \n",
      " 29  dates_count         3486 non-null   object \n",
      "dtypes: float64(9), int64(4), object(17)\n",
      "memory usage: 844.3+ KB\n"
     ]
    }
   ],
   "source": [
    "## get all users with 'DD' flair and high upvotes, positive sentiment \n",
    "users_DD = df[['DD' in x for x in df['flairs'].values]]\n",
    "users_DD.info()"
   ]
  },
  {
   "cell_type": "code",
   "execution_count": 4,
   "metadata": {
    "colab": {
     "base_uri": "https://localhost:8080/",
     "height": 364
    },
    "id": "C0UuABanGLcV",
    "outputId": "c82a6420-ba06-40d4-bb00-6f83fcd248ea"
   },
   "outputs": [
    {
     "data": {
      "text/html": [
       "<div>\n",
       "<style scoped>\n",
       "    .dataframe tbody tr th:only-of-type {\n",
       "        vertical-align: middle;\n",
       "    }\n",
       "\n",
       "    .dataframe tbody tr th {\n",
       "        vertical-align: top;\n",
       "    }\n",
       "\n",
       "    .dataframe thead th {\n",
       "        text-align: right;\n",
       "    }\n",
       "</style>\n",
       "<table border=\"1\" class=\"dataframe\">\n",
       "  <thead>\n",
       "    <tr style=\"text-align: right;\">\n",
       "      <th></th>\n",
       "      <th>Unnamed: 0</th>\n",
       "      <th>id</th>\n",
       "      <th>comments_mean</th>\n",
       "      <th>comments_sum</th>\n",
       "      <th>score_mean</th>\n",
       "      <th>score_sum</th>\n",
       "      <th>upvote_ratio_mean</th>\n",
       "      <th>upvote_ratio_sum</th>\n",
       "      <th>title_polarity</th>\n",
       "      <th>title_subjectivity</th>\n",
       "      <th>body_polarity</th>\n",
       "      <th>body_subjectivity</th>\n",
       "      <th>polarity</th>\n",
       "    </tr>\n",
       "  </thead>\n",
       "  <tbody>\n",
       "    <tr>\n",
       "      <th>count</th>\n",
       "      <td>3486.000000</td>\n",
       "      <td>3486.000000</td>\n",
       "      <td>3486.000000</td>\n",
       "      <td>3486.000000</td>\n",
       "      <td>3486.000000</td>\n",
       "      <td>3486.000000</td>\n",
       "      <td>3486.000000</td>\n",
       "      <td>3486.000000</td>\n",
       "      <td>3486.000000</td>\n",
       "      <td>3486.000000</td>\n",
       "      <td>3486.000000</td>\n",
       "      <td>3486.000000</td>\n",
       "      <td>3486.000000</td>\n",
       "    </tr>\n",
       "    <tr>\n",
       "      <th>mean</th>\n",
       "      <td>3611.849971</td>\n",
       "      <td>22.414515</td>\n",
       "      <td>40.946608</td>\n",
       "      <td>956.551061</td>\n",
       "      <td>52.485032</td>\n",
       "      <td>1302.780264</td>\n",
       "      <td>0.782659</td>\n",
       "      <td>17.232263</td>\n",
       "      <td>0.068253</td>\n",
       "      <td>0.476584</td>\n",
       "      <td>0.056647</td>\n",
       "      <td>0.421233</td>\n",
       "      <td>0.124901</td>\n",
       "    </tr>\n",
       "    <tr>\n",
       "      <th>std</th>\n",
       "      <td>2094.849369</td>\n",
       "      <td>19.637300</td>\n",
       "      <td>303.983454</td>\n",
       "      <td>5231.594807</td>\n",
       "      <td>313.397822</td>\n",
       "      <td>7793.067789</td>\n",
       "      <td>0.323352</td>\n",
       "      <td>16.522570</td>\n",
       "      <td>0.146659</td>\n",
       "      <td>0.123992</td>\n",
       "      <td>0.103772</td>\n",
       "      <td>0.171173</td>\n",
       "      <td>0.190003</td>\n",
       "    </tr>\n",
       "    <tr>\n",
       "      <th>min</th>\n",
       "      <td>3.000000</td>\n",
       "      <td>11.000000</td>\n",
       "      <td>0.000000</td>\n",
       "      <td>0.000000</td>\n",
       "      <td>1.000000</td>\n",
       "      <td>11.000000</td>\n",
       "      <td>0.000000</td>\n",
       "      <td>0.000000</td>\n",
       "      <td>-0.719658</td>\n",
       "      <td>0.000000</td>\n",
       "      <td>-0.600000</td>\n",
       "      <td>0.000000</td>\n",
       "      <td>-0.688058</td>\n",
       "    </tr>\n",
       "    <tr>\n",
       "      <th>25%</th>\n",
       "      <td>1786.000000</td>\n",
       "      <td>13.000000</td>\n",
       "      <td>7.867857</td>\n",
       "      <td>124.000000</td>\n",
       "      <td>1.000000</td>\n",
       "      <td>18.000000</td>\n",
       "      <td>0.637700</td>\n",
       "      <td>10.480000</td>\n",
       "      <td>-0.013092</td>\n",
       "      <td>0.405556</td>\n",
       "      <td>0.000000</td>\n",
       "      <td>0.411067</td>\n",
       "      <td>0.015983</td>\n",
       "    </tr>\n",
       "    <tr>\n",
       "      <th>50%</th>\n",
       "      <td>3624.500000</td>\n",
       "      <td>17.000000</td>\n",
       "      <td>18.677083</td>\n",
       "      <td>338.000000</td>\n",
       "      <td>2.083333</td>\n",
       "      <td>43.000000</td>\n",
       "      <td>0.974674</td>\n",
       "      <td>13.580000</td>\n",
       "      <td>0.064998</td>\n",
       "      <td>0.476131</td>\n",
       "      <td>0.056917</td>\n",
       "      <td>0.461113</td>\n",
       "      <td>0.122863</td>\n",
       "    </tr>\n",
       "    <tr>\n",
       "      <th>75%</th>\n",
       "      <td>5417.750000</td>\n",
       "      <td>24.000000</td>\n",
       "      <td>37.127404</td>\n",
       "      <td>776.500000</td>\n",
       "      <td>9.571115</td>\n",
       "      <td>204.750000</td>\n",
       "      <td>1.000000</td>\n",
       "      <td>20.000000</td>\n",
       "      <td>0.150314</td>\n",
       "      <td>0.548867</td>\n",
       "      <td>0.102322</td>\n",
       "      <td>0.506615</td>\n",
       "      <td>0.229794</td>\n",
       "    </tr>\n",
       "    <tr>\n",
       "      <th>max</th>\n",
       "      <td>7251.000000</td>\n",
       "      <td>310.000000</td>\n",
       "      <td>15854.500000</td>\n",
       "      <td>214709.000000</td>\n",
       "      <td>6190.416667</td>\n",
       "      <td>268232.000000</td>\n",
       "      <td>1.000000</td>\n",
       "      <td>223.000000</td>\n",
       "      <td>1.000000</td>\n",
       "      <td>1.000000</td>\n",
       "      <td>1.000000</td>\n",
       "      <td>1.000000</td>\n",
       "      <td>1.165128</td>\n",
       "    </tr>\n",
       "  </tbody>\n",
       "</table>\n",
       "</div>"
      ],
      "text/plain": [
       "        Unnamed: 0           id  comments_mean   comments_sum   score_mean  \\\n",
       "count  3486.000000  3486.000000    3486.000000    3486.000000  3486.000000   \n",
       "mean   3611.849971    22.414515      40.946608     956.551061    52.485032   \n",
       "std    2094.849369    19.637300     303.983454    5231.594807   313.397822   \n",
       "min       3.000000    11.000000       0.000000       0.000000     1.000000   \n",
       "25%    1786.000000    13.000000       7.867857     124.000000     1.000000   \n",
       "50%    3624.500000    17.000000      18.677083     338.000000     2.083333   \n",
       "75%    5417.750000    24.000000      37.127404     776.500000     9.571115   \n",
       "max    7251.000000   310.000000   15854.500000  214709.000000  6190.416667   \n",
       "\n",
       "           score_sum  upvote_ratio_mean  upvote_ratio_sum  title_polarity  \\\n",
       "count    3486.000000        3486.000000       3486.000000     3486.000000   \n",
       "mean     1302.780264           0.782659         17.232263        0.068253   \n",
       "std      7793.067789           0.323352         16.522570        0.146659   \n",
       "min        11.000000           0.000000          0.000000       -0.719658   \n",
       "25%        18.000000           0.637700         10.480000       -0.013092   \n",
       "50%        43.000000           0.974674         13.580000        0.064998   \n",
       "75%       204.750000           1.000000         20.000000        0.150314   \n",
       "max    268232.000000           1.000000        223.000000        1.000000   \n",
       "\n",
       "       title_subjectivity  body_polarity  body_subjectivity     polarity  \n",
       "count         3486.000000    3486.000000        3486.000000  3486.000000  \n",
       "mean             0.476584       0.056647           0.421233     0.124901  \n",
       "std              0.123992       0.103772           0.171173     0.190003  \n",
       "min              0.000000      -0.600000           0.000000    -0.688058  \n",
       "25%              0.405556       0.000000           0.411067     0.015983  \n",
       "50%              0.476131       0.056917           0.461113     0.122863  \n",
       "75%              0.548867       0.102322           0.506615     0.229794  \n",
       "max              1.000000       1.000000           1.000000     1.165128  "
      ]
     },
     "execution_count": 4,
     "metadata": {},
     "output_type": "execute_result"
    }
   ],
   "source": [
    "users_DD.describe()"
   ]
  },
  {
   "cell_type": "code",
   "execution_count": 7,
   "metadata": {},
   "outputs": [
    {
     "name": "stdout",
     "output_type": "stream",
     "text": [
      "<class 'pandas.core.frame.DataFrame'>\n",
      "Int64Index: 1746 entries, 4 to 7243\n",
      "Data columns (total 30 columns):\n",
      " #   Column              Non-Null Count  Dtype  \n",
      "---  ------              --------------  -----  \n",
      " 0   Unnamed: 0          1746 non-null   int64  \n",
      " 1   author              1746 non-null   object \n",
      " 2   id                  1746 non-null   int64  \n",
      " 3   title               1746 non-null   object \n",
      " 4   selftext            1746 non-null   object \n",
      " 5   date                1746 non-null   object \n",
      " 6   day                 1746 non-null   object \n",
      " 7   month               1746 non-null   object \n",
      " 8   year                1746 non-null   object \n",
      " 9   tickers_            944 non-null    object \n",
      " 10  tickers_count_      1746 non-null   object \n",
      " 11  link_flair_text     1746 non-null   object \n",
      " 12  comments_mean       1746 non-null   float64\n",
      " 13  comments_sum        1746 non-null   int64  \n",
      " 14  score_mean          1746 non-null   float64\n",
      " 15  score_sum           1746 non-null   int64  \n",
      " 16  upvote_ratio_mean   1746 non-null   float64\n",
      " 17  upvote_ratio_sum    1746 non-null   float64\n",
      " 18  flairs              1746 non-null   object \n",
      " 19  flairs_count        1746 non-null   object \n",
      " 20  title_polarity      1746 non-null   float64\n",
      " 21  title_subjectivity  1746 non-null   float64\n",
      " 22  body_polarity       1746 non-null   float64\n",
      " 23  body_subjectivity   1746 non-null   float64\n",
      " 24  title_tokens        1746 non-null   object \n",
      " 25  selftext_tokens     1746 non-null   object \n",
      " 26  polarity            1746 non-null   float64\n",
      " 27  years_count         1746 non-null   object \n",
      " 28  months_count        1746 non-null   object \n",
      " 29  dates_count         1746 non-null   object \n",
      "dtypes: float64(9), int64(4), object(17)\n",
      "memory usage: 422.9+ KB\n"
     ]
    }
   ],
   "source": [
    "# by median \n",
    "users_DD_gt_Median = users_DD[users_DD['score_mean'] >= 2.083333]\n",
    "users_DD_gt_Median.info()"
   ]
  },
  {
   "cell_type": "code",
   "execution_count": 19,
   "metadata": {},
   "outputs": [],
   "source": [
    "users_DD_gt_Median.to_csv(\"data/WSB_users_DD_median.csv\",sep=';',index=False)"
   ]
  },
  {
   "cell_type": "code",
   "execution_count": null,
   "metadata": {
    "colab": {
     "base_uri": "https://localhost:8080/"
    },
    "id": "rdx9LEp2G3Tq",
    "outputId": "b6c5dd24-f462-488a-90c5-d11538fc316a"
   },
   "outputs": [
    {
     "name": "stdout",
     "output_type": "stream",
     "text": [
      "<class 'pandas.core.frame.DataFrame'>\n",
      "Int64Index: 293 entries, 4 to 7224\n",
      "Data columns (total 29 columns):\n",
      " #   Column              Non-Null Count  Dtype  \n",
      "---  ------              --------------  -----  \n",
      " 0   author              293 non-null    object \n",
      " 1   id                  293 non-null    int64  \n",
      " 2   title               293 non-null    object \n",
      " 3   selftext            293 non-null    object \n",
      " 4   date                293 non-null    object \n",
      " 5   day                 293 non-null    object \n",
      " 6   month               293 non-null    object \n",
      " 7   year                293 non-null    object \n",
      " 8   tickers_            154 non-null    object \n",
      " 9   tickers_count_      293 non-null    object \n",
      " 10  link_flair_text     293 non-null    object \n",
      " 11  comments_mean       293 non-null    float64\n",
      " 12  comments_sum        293 non-null    int64  \n",
      " 13  score_mean          293 non-null    float64\n",
      " 14  score_sum           293 non-null    int64  \n",
      " 15  upvote_ratio_mean   293 non-null    float64\n",
      " 16  upvote_ratio_sum    293 non-null    float64\n",
      " 17  flairs              293 non-null    object \n",
      " 18  flairs_count        293 non-null    object \n",
      " 19  title_polarity      293 non-null    float64\n",
      " 20  title_subjectivity  293 non-null    float64\n",
      " 21  body_polarity       293 non-null    float64\n",
      " 22  body_subjectivity   293 non-null    float64\n",
      " 23  title_tokens        293 non-null    object \n",
      " 24  selftext_tokens     293 non-null    object \n",
      " 25  polarity            293 non-null    float64\n",
      " 26  years_count         293 non-null    object \n",
      " 27  months_count        293 non-null    object \n",
      " 28  dates_count         293 non-null    object \n",
      "dtypes: float64(9), int64(3), object(17)\n",
      "memory usage: 68.7+ KB\n"
     ]
    }
   ],
   "source": [
    "users_DD_top = users_DD[users_DD['score_mean'] > 60]\n",
    "users_DD_top.info()"
   ]
  },
  {
   "cell_type": "code",
   "execution_count": null,
   "metadata": {
    "id": "lo4QzvqeH2jj"
   },
   "outputs": [],
   "source": [
    "users_DD.to_csv(\"/content/drive/MyDrive/WSB/WSB_users_DD.csv\",sep=';')"
   ]
  },
  {
   "cell_type": "markdown",
   "metadata": {
    "id": "8op-ogrT5zuO"
   },
   "source": [
    "## Can we rank the users according to their expertise?"
   ]
  },
  {
   "cell_type": "code",
   "execution_count": null,
   "metadata": {
    "colab": {
     "base_uri": "https://localhost:8080/",
     "height": 1000
    },
    "id": "VdHUTdNU6Ot3",
    "outputId": "03442727-162b-40b9-ac81-dfe734d8fcb8"
   },
   "outputs": [
    {
     "data": {
      "text/html": [
       "\n",
       "  <div id=\"df-68a362a7-0fb2-4298-9367-88b4f512dd84\">\n",
       "    <div class=\"colab-df-container\">\n",
       "      <div>\n",
       "<style scoped>\n",
       "    .dataframe tbody tr th:only-of-type {\n",
       "        vertical-align: middle;\n",
       "    }\n",
       "\n",
       "    .dataframe tbody tr th {\n",
       "        vertical-align: top;\n",
       "    }\n",
       "\n",
       "    .dataframe thead th {\n",
       "        text-align: right;\n",
       "    }\n",
       "</style>\n",
       "<table border=\"1\" class=\"dataframe\">\n",
       "  <thead>\n",
       "    <tr style=\"text-align: right;\">\n",
       "      <th></th>\n",
       "      <th>author</th>\n",
       "      <th>id</th>\n",
       "      <th>title</th>\n",
       "      <th>selftext</th>\n",
       "      <th>date</th>\n",
       "      <th>day</th>\n",
       "      <th>month</th>\n",
       "      <th>year</th>\n",
       "      <th>tickers_</th>\n",
       "      <th>tickers_count_</th>\n",
       "      <th>link_flair_text</th>\n",
       "      <th>comments_mean</th>\n",
       "      <th>comments_sum</th>\n",
       "      <th>score_mean</th>\n",
       "      <th>score_sum</th>\n",
       "      <th>upvote_ratio_mean</th>\n",
       "      <th>upvote_ratio_sum</th>\n",
       "      <th>flairs</th>\n",
       "      <th>flairs_count</th>\n",
       "      <th>title_polarity</th>\n",
       "      <th>title_subjectivity</th>\n",
       "      <th>body_polarity</th>\n",
       "      <th>body_subjectivity</th>\n",
       "      <th>title_tokens</th>\n",
       "      <th>selftext_tokens</th>\n",
       "      <th>polarity</th>\n",
       "      <th>years_count</th>\n",
       "      <th>months_count</th>\n",
       "      <th>dates_count</th>\n",
       "    </tr>\n",
       "  </thead>\n",
       "  <tbody>\n",
       "    <tr>\n",
       "      <th>4346</th>\n",
       "      <td>armchairtycoon</td>\n",
       "      <td>12</td>\n",
       "      <td>\"Give my regards to your puppet master!\" 🐙 Ult...</td>\n",
       "      <td></td>\n",
       "      <td>[2021-02-23, 2020-12-29, 2020-12-16, 2020-08-0...</td>\n",
       "      <td>23 29 16 5 16 19 13 13 12 7 3 1</td>\n",
       "      <td>[2, 12, 12, 8, 6, 5, 3, 3, 3, 3, 3, 2]</td>\n",
       "      <td>[2021, 2020, 2020, 2020, 2020, 2020, 2020, 202...</td>\n",
       "      <td>NaN</td>\n",
       "      <td>{}</td>\n",
       "      <td>News Loss Meme DD Loss Loss Shitpost Meme Sati...</td>\n",
       "      <td>622.916667</td>\n",
       "      <td>7475</td>\n",
       "      <td>6190.416667</td>\n",
       "      <td>74285</td>\n",
       "      <td>0.484167</td>\n",
       "      <td>5.81</td>\n",
       "      <td>['News', 'Loss', 'Meme', 'DD', 'Loss', 'Loss',...</td>\n",
       "      <td>{'News': 1, 'Loss': 4, 'Meme': 2, 'DD': 1, 'Sh...</td>\n",
       "      <td>-0.102405</td>\n",
       "      <td>0.568889</td>\n",
       "      <td>0.000000</td>\n",
       "      <td>0.000000</td>\n",
       "      <td>['\"', 'Give', 'my', 'regards', 'to', 'your', '...</td>\n",
       "      <td>['                       ']</td>\n",
       "      <td>-0.102405</td>\n",
       "      <td>{'2021': 1, '2020': 11}</td>\n",
       "      <td>{'2': 2, '12': 2, '8': 1, '6': 1, '5': 1, '3': 5}</td>\n",
       "      <td>{'2021-02-23': 1, '2020-12-29': 1, '2020-12-16...</td>\n",
       "    </tr>\n",
       "    <tr>\n",
       "      <th>6717</th>\n",
       "      <td>superanth</td>\n",
       "      <td>16</td>\n",
       "      <td>5 Biggest Hedge Fund Casualties of Reddit Wall...</td>\n",
       "      <td>On the fundamentals side, they just did a bi...</td>\n",
       "      <td>[2021-07-06, 2021-05-19, 2021-05-19, 2021-04-2...</td>\n",
       "      <td>6 19 19 25 31 11 11 4 3 3 1 1 16 15 13 13</td>\n",
       "      <td>[7, 5, 5, 4, 3, 2, 2, 2, 2, 2, 2, 2, 3, 3, 3, 3]</td>\n",
       "      <td>[2021, 2021, 2021, 2021, 2021, 2021, 2021, 202...</td>\n",
       "      <td>NaN</td>\n",
       "      <td>{}</td>\n",
       "      <td>News Technical Analysis Technical Analysis New...</td>\n",
       "      <td>328.250000</td>\n",
       "      <td>5252</td>\n",
       "      <td>6159.312500</td>\n",
       "      <td>98549</td>\n",
       "      <td>0.721875</td>\n",
       "      <td>11.55</td>\n",
       "      <td>['News', 'Technical', 'Analysis', 'Technical',...</td>\n",
       "      <td>{'News': 7, 'Technical': 2, 'Analysis': 2, 'Di...</td>\n",
       "      <td>0.012363</td>\n",
       "      <td>0.461722</td>\n",
       "      <td>0.108222</td>\n",
       "      <td>0.423550</td>\n",
       "      <td>['5', 'Biggest', 'Hedge', 'Fund', 'Casualties'...</td>\n",
       "      <td>['  ', 'On', 'the', 'fundamentals', 'side', ',...</td>\n",
       "      <td>0.120585</td>\n",
       "      <td>{'2021': 12, '2020': 4}</td>\n",
       "      <td>{'7': 1, '5': 2, '4': 1, '3': 5, '2': 7}</td>\n",
       "      <td>{'2021-07-06': 1, '2021-05-19': 2, '2021-04-25...</td>\n",
       "    </tr>\n",
       "    <tr>\n",
       "      <th>2160</th>\n",
       "      <td>Makitt</td>\n",
       "      <td>12</td>\n",
       "      <td>Not Even a Shooting Star Can Fix the Portfolio...</td>\n",
       "      <td>*Before I start BlackBerry...</td>\n",
       "      <td>[2021-08-13, 2021-07-14, 2021-05-20, 2021-05-2...</td>\n",
       "      <td>13 14 20 20 20 6 3 3 13 13 2 1</td>\n",
       "      <td>[8, 7, 5, 5, 5, 5, 5, 5, 3, 2, 2, 2]</td>\n",
       "      <td>[2021, 2021, 2021, 2021, 2021, 2021, 2021, 202...</td>\n",
       "      <td>NaN</td>\n",
       "      <td>{}</td>\n",
       "      <td>Meme Meme Meme Meme Meme Meme Meme Meme Meme N...</td>\n",
       "      <td>504.083333</td>\n",
       "      <td>6049</td>\n",
       "      <td>5768.166667</td>\n",
       "      <td>69218</td>\n",
       "      <td>0.982500</td>\n",
       "      <td>11.79</td>\n",
       "      <td>['Meme', 'Meme', 'Meme', 'Meme', 'Meme', 'Meme...</td>\n",
       "      <td>{'Meme': 9, 'News': 2, 'DD': 1}</td>\n",
       "      <td>0.059524</td>\n",
       "      <td>0.595635</td>\n",
       "      <td>-0.023125</td>\n",
       "      <td>0.384583</td>\n",
       "      <td>['Not', 'Even', 'a', 'Shooting', 'Star', 'Can'...</td>\n",
       "      <td>['                    ', '*', 'Before', 'I', '...</td>\n",
       "      <td>0.036399</td>\n",
       "      <td>{'2021': 12}</td>\n",
       "      <td>{'8': 1, '7': 1, '5': 6, '3': 1, '2': 3}</td>\n",
       "      <td>{'2021-08-13': 1, '2021-07-14': 1, '2021-05-20...</td>\n",
       "    </tr>\n",
       "    <tr>\n",
       "      <th>1825</th>\n",
       "      <td>Jkelchner4</td>\n",
       "      <td>14</td>\n",
       "      <td>Coincidence? The resemblance between Balkan’s ...</td>\n",
       "      <td>My brother and I are...</td>\n",
       "      <td>[2021-02-02, 2021-02-01, 2021-01-28, 2021-01-2...</td>\n",
       "      <td>2 1 28 27 25 25 18 17 17 15 15 13 13 10</td>\n",
       "      <td>[2, 2, 1, 1, 1, 1, 1, 1, 1, 1, 1, 1, 1, 1]</td>\n",
       "      <td>[2021, 2021, 2021, 2021, 2021, 2021, 2021, 202...</td>\n",
       "      <td>['CAT', 'VALE']</td>\n",
       "      <td>{'CAT': 1, 'VALE': 1}</td>\n",
       "      <td>DD Gain News Gain Meme Meme Meme Meme Meme Dis...</td>\n",
       "      <td>247.571429</td>\n",
       "      <td>3466</td>\n",
       "      <td>4725.285714</td>\n",
       "      <td>66154</td>\n",
       "      <td>0.995000</td>\n",
       "      <td>13.93</td>\n",
       "      <td>['DD', 'Gain', 'News', 'Gain', 'Meme', 'Meme',...</td>\n",
       "      <td>{'DD': 2, 'Gain': 2, 'News': 1, 'Meme': 6, 'Di...</td>\n",
       "      <td>0.104299</td>\n",
       "      <td>0.506150</td>\n",
       "      <td>-0.093939</td>\n",
       "      <td>0.575758</td>\n",
       "      <td>['Coincidence', '?', 'The', 'resemblance', 'be...</td>\n",
       "      <td>['                          ', 'My', 'brother'...</td>\n",
       "      <td>0.010360</td>\n",
       "      <td>{'2021': 14}</td>\n",
       "      <td>{'2': 2, '1': 12}</td>\n",
       "      <td>{'2021-02-02': 1, '2021-02-01': 1, '2021-01-28...</td>\n",
       "    </tr>\n",
       "    <tr>\n",
       "      <th>3427</th>\n",
       "      <td>Stylux</td>\n",
       "      <td>12</td>\n",
       "      <td>Haven't memed in a bit. Let's go. GME MEGATHRE...</td>\n",
       "      <td>Continuation from [https://www.reddit.com/r/...</td>\n",
       "      <td>[2021-07-20, 2021-03-10, 2021-02-11, 2021-02-0...</td>\n",
       "      <td>20 10 11 2 29 28 28 16 23 21 21 7</td>\n",
       "      <td>[7, 3, 2, 2, 1, 1, 1, 11, 10, 3, 3, 11]</td>\n",
       "      <td>[2021, 2021, 2021, 2021, 2021, 2021, 2021, 202...</td>\n",
       "      <td>['XOM', 'LL']</td>\n",
       "      <td>{'XOM': 1, 'LL': 1}</td>\n",
       "      <td>YOLO Daily Discussion   Daily Discussion Daily...</td>\n",
       "      <td>15854.500000</td>\n",
       "      <td>190254</td>\n",
       "      <td>4650.666667</td>\n",
       "      <td>55808</td>\n",
       "      <td>0.735000</td>\n",
       "      <td>8.82</td>\n",
       "      <td>['YOLO', 'Daily', 'Discussion', '', '', 'Daily...</td>\n",
       "      <td>{'YOLO': 1, 'Daily': 3, 'Discussion': 3, '': 6...</td>\n",
       "      <td>-0.180556</td>\n",
       "      <td>0.378704</td>\n",
       "      <td>0.153771</td>\n",
       "      <td>0.420946</td>\n",
       "      <td>['Have', \"n't\", 'memed', 'in', 'a', 'bit', '.'...</td>\n",
       "      <td>['  ', 'Continuation', 'from', '[', 'https://w...</td>\n",
       "      <td>-0.026784</td>\n",
       "      <td>{'2021': 7, '2020': 4, '2019': 1}</td>\n",
       "      <td>{'7': 1, '3': 3, '2': 2, '1': 3, '11': 2, '10'...</td>\n",
       "      <td>{'2021-07-20': 1, '2021-03-10': 1, '2021-02-11...</td>\n",
       "    </tr>\n",
       "  </tbody>\n",
       "</table>\n",
       "</div>\n",
       "      <button class=\"colab-df-convert\" onclick=\"convertToInteractive('df-68a362a7-0fb2-4298-9367-88b4f512dd84')\"\n",
       "              title=\"Convert this dataframe to an interactive table.\"\n",
       "              style=\"display:none;\">\n",
       "        \n",
       "  <svg xmlns=\"http://www.w3.org/2000/svg\" height=\"24px\"viewBox=\"0 0 24 24\"\n",
       "       width=\"24px\">\n",
       "    <path d=\"M0 0h24v24H0V0z\" fill=\"none\"/>\n",
       "    <path d=\"M18.56 5.44l.94 2.06.94-2.06 2.06-.94-2.06-.94-.94-2.06-.94 2.06-2.06.94zm-11 1L8.5 8.5l.94-2.06 2.06-.94-2.06-.94L8.5 2.5l-.94 2.06-2.06.94zm10 10l.94 2.06.94-2.06 2.06-.94-2.06-.94-.94-2.06-.94 2.06-2.06.94z\"/><path d=\"M17.41 7.96l-1.37-1.37c-.4-.4-.92-.59-1.43-.59-.52 0-1.04.2-1.43.59L10.3 9.45l-7.72 7.72c-.78.78-.78 2.05 0 2.83L4 21.41c.39.39.9.59 1.41.59.51 0 1.02-.2 1.41-.59l7.78-7.78 2.81-2.81c.8-.78.8-2.07 0-2.86zM5.41 20L4 18.59l7.72-7.72 1.47 1.35L5.41 20z\"/>\n",
       "  </svg>\n",
       "      </button>\n",
       "      \n",
       "  <style>\n",
       "    .colab-df-container {\n",
       "      display:flex;\n",
       "      flex-wrap:wrap;\n",
       "      gap: 12px;\n",
       "    }\n",
       "\n",
       "    .colab-df-convert {\n",
       "      background-color: #E8F0FE;\n",
       "      border: none;\n",
       "      border-radius: 50%;\n",
       "      cursor: pointer;\n",
       "      display: none;\n",
       "      fill: #1967D2;\n",
       "      height: 32px;\n",
       "      padding: 0 0 0 0;\n",
       "      width: 32px;\n",
       "    }\n",
       "\n",
       "    .colab-df-convert:hover {\n",
       "      background-color: #E2EBFA;\n",
       "      box-shadow: 0px 1px 2px rgba(60, 64, 67, 0.3), 0px 1px 3px 1px rgba(60, 64, 67, 0.15);\n",
       "      fill: #174EA6;\n",
       "    }\n",
       "\n",
       "    [theme=dark] .colab-df-convert {\n",
       "      background-color: #3B4455;\n",
       "      fill: #D2E3FC;\n",
       "    }\n",
       "\n",
       "    [theme=dark] .colab-df-convert:hover {\n",
       "      background-color: #434B5C;\n",
       "      box-shadow: 0px 1px 3px 1px rgba(0, 0, 0, 0.15);\n",
       "      filter: drop-shadow(0px 1px 2px rgba(0, 0, 0, 0.3));\n",
       "      fill: #FFFFFF;\n",
       "    }\n",
       "  </style>\n",
       "\n",
       "      <script>\n",
       "        const buttonEl =\n",
       "          document.querySelector('#df-68a362a7-0fb2-4298-9367-88b4f512dd84 button.colab-df-convert');\n",
       "        buttonEl.style.display =\n",
       "          google.colab.kernel.accessAllowed ? 'block' : 'none';\n",
       "\n",
       "        async function convertToInteractive(key) {\n",
       "          const element = document.querySelector('#df-68a362a7-0fb2-4298-9367-88b4f512dd84');\n",
       "          const dataTable =\n",
       "            await google.colab.kernel.invokeFunction('convertToInteractive',\n",
       "                                                     [key], {});\n",
       "          if (!dataTable) return;\n",
       "\n",
       "          const docLinkHtml = 'Like what you see? Visit the ' +\n",
       "            '<a target=\"_blank\" href=https://colab.research.google.com/notebooks/data_table.ipynb>data table notebook</a>'\n",
       "            + ' to learn more about interactive tables.';\n",
       "          element.innerHTML = '';\n",
       "          dataTable['output_type'] = 'display_data';\n",
       "          await google.colab.output.renderOutput(dataTable, element);\n",
       "          const docLink = document.createElement('div');\n",
       "          docLink.innerHTML = docLinkHtml;\n",
       "          element.appendChild(docLink);\n",
       "        }\n",
       "      </script>\n",
       "    </div>\n",
       "  </div>\n",
       "  "
      ],
      "text/plain": [
       "              author  ...                                        dates_count\n",
       "4346  armchairtycoon  ...  {'2021-02-23': 1, '2020-12-29': 1, '2020-12-16...\n",
       "6717       superanth  ...  {'2021-07-06': 1, '2021-05-19': 2, '2021-04-25...\n",
       "2160          Makitt  ...  {'2021-08-13': 1, '2021-07-14': 1, '2021-05-20...\n",
       "1825      Jkelchner4  ...  {'2021-02-02': 1, '2021-02-01': 1, '2021-01-28...\n",
       "3427          Stylux  ...  {'2021-07-20': 1, '2021-03-10': 1, '2021-02-11...\n",
       "\n",
       "[5 rows x 29 columns]"
      ]
     },
     "execution_count": 68,
     "metadata": {},
     "output_type": "execute_result"
    }
   ],
   "source": [
    "## rank users based on upvote ratio, num_comments etc.\n",
    "## order by score_mean \n",
    "users_DD = users_DD.sort_values(by=['score_mean'],ascending=False)\n",
    "users_DD.head()"
   ]
  },
  {
   "cell_type": "markdown",
   "metadata": {
    "id": "KFJYspNi544N"
   },
   "source": [
    "## Are the same users active in the other reviewed subreddits?"
   ]
  },
  {
   "cell_type": "code",
   "execution_count": 2,
   "metadata": {
    "colab": {
     "base_uri": "https://localhost:8080/"
    },
    "id": "GnpXELwko2z1",
    "outputId": "377f10ee-ba7e-4b17-e268-3f6a309d98ae"
   },
   "outputs": [
    {
     "name": "stdout",
     "output_type": "stream",
     "text": [
      "Mounted at /content/drive\n"
     ]
    }
   ],
   "source": [
    "from google.colab import drive\n",
    "drive.mount('/content/drive')"
   ]
  },
  {
   "cell_type": "code",
   "execution_count": 3,
   "metadata": {
    "colab": {
     "base_uri": "https://localhost:8080/",
     "height": 336
    },
    "id": "nA2eLGEn6Xlk",
    "outputId": "35851c80-6a8c-4fe6-cb0f-eb6868d59d80"
   },
   "outputs": [
    {
     "data": {
      "text/html": [
       "\n",
       "  <div id=\"df-2e758645-6b84-4236-b3c6-0695ff0d521d\">\n",
       "    <div class=\"colab-df-container\">\n",
       "      <div>\n",
       "<style scoped>\n",
       "    .dataframe tbody tr th:only-of-type {\n",
       "        vertical-align: middle;\n",
       "    }\n",
       "\n",
       "    .dataframe tbody tr th {\n",
       "        vertical-align: top;\n",
       "    }\n",
       "\n",
       "    .dataframe thead th {\n",
       "        text-align: right;\n",
       "    }\n",
       "</style>\n",
       "<table border=\"1\" class=\"dataframe\">\n",
       "  <thead>\n",
       "    <tr style=\"text-align: right;\">\n",
       "      <th></th>\n",
       "      <th>Unnamed: 0</th>\n",
       "      <th>author</th>\n",
       "      <th>id</th>\n",
       "      <th>title</th>\n",
       "      <th>selftext</th>\n",
       "      <th>date</th>\n",
       "      <th>day</th>\n",
       "      <th>month</th>\n",
       "      <th>year</th>\n",
       "      <th>tickers_</th>\n",
       "      <th>tickers_count_</th>\n",
       "      <th>link_flair_text</th>\n",
       "      <th>comments_mean</th>\n",
       "      <th>comments_sum</th>\n",
       "      <th>score_mean</th>\n",
       "      <th>score_sum</th>\n",
       "      <th>upvote_ratio_mean</th>\n",
       "      <th>upvote_ratio_sum</th>\n",
       "      <th>flairs</th>\n",
       "      <th>flairs_count</th>\n",
       "      <th>title_polarity</th>\n",
       "      <th>title_subjectivity</th>\n",
       "      <th>body_polarity</th>\n",
       "      <th>body_subjectivity</th>\n",
       "      <th>title_tokens</th>\n",
       "      <th>selftext_tokens</th>\n",
       "      <th>polarity</th>\n",
       "      <th>years_count</th>\n",
       "      <th>months_count</th>\n",
       "      <th>dates_count</th>\n",
       "    </tr>\n",
       "  </thead>\n",
       "  <tbody>\n",
       "    <tr>\n",
       "      <th>7252</th>\n",
       "      <td>7252</td>\n",
       "      <td>zxc123zxc123</td>\n",
       "      <td>12</td>\n",
       "      <td>Is WSB hiding the scale of financial crisis? +...</td>\n",
       "      <td>There’s a bubble they’d like us to think WE ca...</td>\n",
       "      <td>['2021-10-13', '2021-06-04', '2021-06-04', '20...</td>\n",
       "      <td>13 4 4 4 29 22 19 19 7 29 23 23</td>\n",
       "      <td>['10', '6', '6', '6', '4', '1', '1', '1', '1',...</td>\n",
       "      <td>['2021', '2021', '2021', '2021', '2021', '2021...</td>\n",
       "      <td>NaN</td>\n",
       "      <td>{}</td>\n",
       "      <td>Meme Gain Meme Gain News Meme Meme Meme Discus...</td>\n",
       "      <td>9.0</td>\n",
       "      <td>108</td>\n",
       "      <td>2.083333</td>\n",
       "      <td>25</td>\n",
       "      <td>0.980833</td>\n",
       "      <td>11.77</td>\n",
       "      <td>['Meme', 'Gain', 'Meme', 'Gain', 'News', 'Meme...</td>\n",
       "      <td>{'Meme': 6, 'Gain': 2, 'News': 1, 'Discussion'...</td>\n",
       "      <td>0.515</td>\n",
       "      <td>0.59</td>\n",
       "      <td>-0.227381</td>\n",
       "      <td>0.561012</td>\n",
       "      <td>['Is', 'WSB', 'hiding', 'the', 'scale', 'of', ...</td>\n",
       "      <td>['There', '’s', 'a', 'bubble', 'they', '’d', '...</td>\n",
       "      <td>0.287619</td>\n",
       "      <td>{'2021': 9, '2020': 3}</td>\n",
       "      <td>{'10': 1, '6': 3, '4': 1, '1': 4, '12': 3}</td>\n",
       "      <td>{'2021-10-13': 1, '2021-06-04': 3, '2021-04-29...</td>\n",
       "    </tr>\n",
       "  </tbody>\n",
       "</table>\n",
       "</div>\n",
       "      <button class=\"colab-df-convert\" onclick=\"convertToInteractive('df-2e758645-6b84-4236-b3c6-0695ff0d521d')\"\n",
       "              title=\"Convert this dataframe to an interactive table.\"\n",
       "              style=\"display:none;\">\n",
       "        \n",
       "  <svg xmlns=\"http://www.w3.org/2000/svg\" height=\"24px\"viewBox=\"0 0 24 24\"\n",
       "       width=\"24px\">\n",
       "    <path d=\"M0 0h24v24H0V0z\" fill=\"none\"/>\n",
       "    <path d=\"M18.56 5.44l.94 2.06.94-2.06 2.06-.94-2.06-.94-.94-2.06-.94 2.06-2.06.94zm-11 1L8.5 8.5l.94-2.06 2.06-.94-2.06-.94L8.5 2.5l-.94 2.06-2.06.94zm10 10l.94 2.06.94-2.06 2.06-.94-2.06-.94-.94-2.06-.94 2.06-2.06.94z\"/><path d=\"M17.41 7.96l-1.37-1.37c-.4-.4-.92-.59-1.43-.59-.52 0-1.04.2-1.43.59L10.3 9.45l-7.72 7.72c-.78.78-.78 2.05 0 2.83L4 21.41c.39.39.9.59 1.41.59.51 0 1.02-.2 1.41-.59l7.78-7.78 2.81-2.81c.8-.78.8-2.07 0-2.86zM5.41 20L4 18.59l7.72-7.72 1.47 1.35L5.41 20z\"/>\n",
       "  </svg>\n",
       "      </button>\n",
       "      \n",
       "  <style>\n",
       "    .colab-df-container {\n",
       "      display:flex;\n",
       "      flex-wrap:wrap;\n",
       "      gap: 12px;\n",
       "    }\n",
       "\n",
       "    .colab-df-convert {\n",
       "      background-color: #E8F0FE;\n",
       "      border: none;\n",
       "      border-radius: 50%;\n",
       "      cursor: pointer;\n",
       "      display: none;\n",
       "      fill: #1967D2;\n",
       "      height: 32px;\n",
       "      padding: 0 0 0 0;\n",
       "      width: 32px;\n",
       "    }\n",
       "\n",
       "    .colab-df-convert:hover {\n",
       "      background-color: #E2EBFA;\n",
       "      box-shadow: 0px 1px 2px rgba(60, 64, 67, 0.3), 0px 1px 3px 1px rgba(60, 64, 67, 0.15);\n",
       "      fill: #174EA6;\n",
       "    }\n",
       "\n",
       "    [theme=dark] .colab-df-convert {\n",
       "      background-color: #3B4455;\n",
       "      fill: #D2E3FC;\n",
       "    }\n",
       "\n",
       "    [theme=dark] .colab-df-convert:hover {\n",
       "      background-color: #434B5C;\n",
       "      box-shadow: 0px 1px 3px 1px rgba(0, 0, 0, 0.15);\n",
       "      filter: drop-shadow(0px 1px 2px rgba(0, 0, 0, 0.3));\n",
       "      fill: #FFFFFF;\n",
       "    }\n",
       "  </style>\n",
       "\n",
       "      <script>\n",
       "        const buttonEl =\n",
       "          document.querySelector('#df-2e758645-6b84-4236-b3c6-0695ff0d521d button.colab-df-convert');\n",
       "        buttonEl.style.display =\n",
       "          google.colab.kernel.accessAllowed ? 'block' : 'none';\n",
       "\n",
       "        async function convertToInteractive(key) {\n",
       "          const element = document.querySelector('#df-2e758645-6b84-4236-b3c6-0695ff0d521d');\n",
       "          const dataTable =\n",
       "            await google.colab.kernel.invokeFunction('convertToInteractive',\n",
       "                                                     [key], {});\n",
       "          if (!dataTable) return;\n",
       "\n",
       "          const docLinkHtml = 'Like what you see? Visit the ' +\n",
       "            '<a target=\"_blank\" href=https://colab.research.google.com/notebooks/data_table.ipynb>data table notebook</a>'\n",
       "            + ' to learn more about interactive tables.';\n",
       "          element.innerHTML = '';\n",
       "          dataTable['output_type'] = 'display_data';\n",
       "          await google.colab.output.renderOutput(dataTable, element);\n",
       "          const docLink = document.createElement('div');\n",
       "          docLink.innerHTML = docLinkHtml;\n",
       "          element.appendChild(docLink);\n",
       "        }\n",
       "      </script>\n",
       "    </div>\n",
       "  </div>\n",
       "  "
      ],
      "text/plain": [
       "      Unnamed: 0  ...                                        dates_count\n",
       "7252        7252  ...  {'2021-10-13': 1, '2021-06-04': 3, '2021-04-29...\n",
       "\n",
       "[1 rows x 30 columns]"
      ]
     },
     "execution_count": 3,
     "metadata": {},
     "output_type": "execute_result"
    }
   ],
   "source": [
    "## compare users with investing and stocks\n",
    "\n",
    "wsb = pd.read_csv(\"/content/drive/MyDrive/WSB/WSB_top_users_features.csv\", sep=\";\")\n",
    "wsb.tail(1)\n"
   ]
  },
  {
   "cell_type": "code",
   "execution_count": 4,
   "metadata": {
    "colab": {
     "base_uri": "https://localhost:8080/",
     "height": 388
    },
    "id": "zdJK7NVApGk4",
    "outputId": "eabc714a-601e-4117-ad73-594e86a85328"
   },
   "outputs": [
    {
     "data": {
      "text/html": [
       "\n",
       "  <div id=\"df-3dc82cca-4482-4d12-bc5c-4ebd5ff69eeb\">\n",
       "    <div class=\"colab-df-container\">\n",
       "      <div>\n",
       "<style scoped>\n",
       "    .dataframe tbody tr th:only-of-type {\n",
       "        vertical-align: middle;\n",
       "    }\n",
       "\n",
       "    .dataframe tbody tr th {\n",
       "        vertical-align: top;\n",
       "    }\n",
       "\n",
       "    .dataframe thead th {\n",
       "        text-align: right;\n",
       "    }\n",
       "</style>\n",
       "<table border=\"1\" class=\"dataframe\">\n",
       "  <thead>\n",
       "    <tr style=\"text-align: right;\">\n",
       "      <th></th>\n",
       "      <th>Unnamed: 0</th>\n",
       "      <th>author</th>\n",
       "      <th>id</th>\n",
       "      <th>title</th>\n",
       "      <th>selftext</th>\n",
       "      <th>date</th>\n",
       "      <th>day</th>\n",
       "      <th>month</th>\n",
       "      <th>year</th>\n",
       "      <th>tickers_</th>\n",
       "      <th>tickers_count_</th>\n",
       "      <th>link_flair_text</th>\n",
       "      <th>comments_mean</th>\n",
       "      <th>comments_sum</th>\n",
       "      <th>score_mean</th>\n",
       "      <th>score_sum</th>\n",
       "      <th>upvote_ratio_mean</th>\n",
       "      <th>upvote_ratio_sum</th>\n",
       "      <th>flairs</th>\n",
       "      <th>flairs_count</th>\n",
       "      <th>title_polarity</th>\n",
       "      <th>title_subjectivity</th>\n",
       "      <th>body_polarity</th>\n",
       "      <th>body_subjectivity</th>\n",
       "      <th>title_tokens</th>\n",
       "      <th>selftext_tokens</th>\n",
       "      <th>polarity</th>\n",
       "      <th>years_count</th>\n",
       "      <th>months_count</th>\n",
       "      <th>dates_count</th>\n",
       "    </tr>\n",
       "  </thead>\n",
       "  <tbody>\n",
       "    <tr>\n",
       "      <th>984</th>\n",
       "      <td>984</td>\n",
       "      <td>zeroskater45</td>\n",
       "      <td>16</td>\n",
       "      <td>Beyond Meat Cash Flow Issue? What is your favo...</td>\n",
       "      <td>Hi,\\n\\nI noticed beyond meat has been a fairly...</td>\n",
       "      <td>['2020-12-28', '2020-12-04', '2020-12-01', '20...</td>\n",
       "      <td>28 4 1 3 10 9 8 1 28 20 20 29 18 27 26 25</td>\n",
       "      <td>['12', '12', '12', '9', '7', '5', '5', '5', '4...</td>\n",
       "      <td>['2020', '2020', '2020', '2020', '2020', '2020...</td>\n",
       "      <td>NaN</td>\n",
       "      <td>{}</td>\n",
       "      <td>Ticker Discussion Discussion Question Discussi...</td>\n",
       "      <td>7.8125</td>\n",
       "      <td>125</td>\n",
       "      <td>1.0</td>\n",
       "      <td>16</td>\n",
       "      <td>0.5</td>\n",
       "      <td>8.0</td>\n",
       "      <td>['Ticker', 'Discussion', 'Discussion', 'Questi...</td>\n",
       "      <td>{'Ticker': 2, 'Discussion': 5, 'Question': 1, ...</td>\n",
       "      <td>0.336443</td>\n",
       "      <td>0.457257</td>\n",
       "      <td>0.234165</td>\n",
       "      <td>0.509774</td>\n",
       "      <td>['Beyond', 'Meat', 'Cash', 'Flow', 'Issue', '?...</td>\n",
       "      <td>['Hi', ',', '\\n\\n', 'I', 'noticed', 'beyond', ...</td>\n",
       "      <td>0.570608</td>\n",
       "      <td>{'2020': 16}</td>\n",
       "      <td>{'12': 3, '9': 1, '7': 1, '5': 3, '4': 3, '3':...</td>\n",
       "      <td>{'2020-12-28': 1, '2020-12-04': 1, '2020-12-01...</td>\n",
       "    </tr>\n",
       "  </tbody>\n",
       "</table>\n",
       "</div>\n",
       "      <button class=\"colab-df-convert\" onclick=\"convertToInteractive('df-3dc82cca-4482-4d12-bc5c-4ebd5ff69eeb')\"\n",
       "              title=\"Convert this dataframe to an interactive table.\"\n",
       "              style=\"display:none;\">\n",
       "        \n",
       "  <svg xmlns=\"http://www.w3.org/2000/svg\" height=\"24px\"viewBox=\"0 0 24 24\"\n",
       "       width=\"24px\">\n",
       "    <path d=\"M0 0h24v24H0V0z\" fill=\"none\"/>\n",
       "    <path d=\"M18.56 5.44l.94 2.06.94-2.06 2.06-.94-2.06-.94-.94-2.06-.94 2.06-2.06.94zm-11 1L8.5 8.5l.94-2.06 2.06-.94-2.06-.94L8.5 2.5l-.94 2.06-2.06.94zm10 10l.94 2.06.94-2.06 2.06-.94-2.06-.94-.94-2.06-.94 2.06-2.06.94z\"/><path d=\"M17.41 7.96l-1.37-1.37c-.4-.4-.92-.59-1.43-.59-.52 0-1.04.2-1.43.59L10.3 9.45l-7.72 7.72c-.78.78-.78 2.05 0 2.83L4 21.41c.39.39.9.59 1.41.59.51 0 1.02-.2 1.41-.59l7.78-7.78 2.81-2.81c.8-.78.8-2.07 0-2.86zM5.41 20L4 18.59l7.72-7.72 1.47 1.35L5.41 20z\"/>\n",
       "  </svg>\n",
       "      </button>\n",
       "      \n",
       "  <style>\n",
       "    .colab-df-container {\n",
       "      display:flex;\n",
       "      flex-wrap:wrap;\n",
       "      gap: 12px;\n",
       "    }\n",
       "\n",
       "    .colab-df-convert {\n",
       "      background-color: #E8F0FE;\n",
       "      border: none;\n",
       "      border-radius: 50%;\n",
       "      cursor: pointer;\n",
       "      display: none;\n",
       "      fill: #1967D2;\n",
       "      height: 32px;\n",
       "      padding: 0 0 0 0;\n",
       "      width: 32px;\n",
       "    }\n",
       "\n",
       "    .colab-df-convert:hover {\n",
       "      background-color: #E2EBFA;\n",
       "      box-shadow: 0px 1px 2px rgba(60, 64, 67, 0.3), 0px 1px 3px 1px rgba(60, 64, 67, 0.15);\n",
       "      fill: #174EA6;\n",
       "    }\n",
       "\n",
       "    [theme=dark] .colab-df-convert {\n",
       "      background-color: #3B4455;\n",
       "      fill: #D2E3FC;\n",
       "    }\n",
       "\n",
       "    [theme=dark] .colab-df-convert:hover {\n",
       "      background-color: #434B5C;\n",
       "      box-shadow: 0px 1px 3px 1px rgba(0, 0, 0, 0.15);\n",
       "      filter: drop-shadow(0px 1px 2px rgba(0, 0, 0, 0.3));\n",
       "      fill: #FFFFFF;\n",
       "    }\n",
       "  </style>\n",
       "\n",
       "      <script>\n",
       "        const buttonEl =\n",
       "          document.querySelector('#df-3dc82cca-4482-4d12-bc5c-4ebd5ff69eeb button.colab-df-convert');\n",
       "        buttonEl.style.display =\n",
       "          google.colab.kernel.accessAllowed ? 'block' : 'none';\n",
       "\n",
       "        async function convertToInteractive(key) {\n",
       "          const element = document.querySelector('#df-3dc82cca-4482-4d12-bc5c-4ebd5ff69eeb');\n",
       "          const dataTable =\n",
       "            await google.colab.kernel.invokeFunction('convertToInteractive',\n",
       "                                                     [key], {});\n",
       "          if (!dataTable) return;\n",
       "\n",
       "          const docLinkHtml = 'Like what you see? Visit the ' +\n",
       "            '<a target=\"_blank\" href=https://colab.research.google.com/notebooks/data_table.ipynb>data table notebook</a>'\n",
       "            + ' to learn more about interactive tables.';\n",
       "          element.innerHTML = '';\n",
       "          dataTable['output_type'] = 'display_data';\n",
       "          await google.colab.output.renderOutput(dataTable, element);\n",
       "          const docLink = document.createElement('div');\n",
       "          docLink.innerHTML = docLinkHtml;\n",
       "          element.appendChild(docLink);\n",
       "        }\n",
       "      </script>\n",
       "    </div>\n",
       "  </div>\n",
       "  "
      ],
      "text/plain": [
       "     Unnamed: 0  ...                                        dates_count\n",
       "984         984  ...  {'2020-12-28': 1, '2020-12-04': 1, '2020-12-01...\n",
       "\n",
       "[1 rows x 30 columns]"
      ]
     },
     "execution_count": 4,
     "metadata": {},
     "output_type": "execute_result"
    }
   ],
   "source": [
    "stocks = pd.read_csv(\"/content/drive/MyDrive/stocks/stocks_top_users_features.csv\", sep=\";\")\n",
    "stocks.tail(1)"
   ]
  },
  {
   "cell_type": "code",
   "execution_count": 8,
   "metadata": {
    "id": "egw6JAK2qb14"
   },
   "outputs": [],
   "source": [
    "investing = pd.read_csv(\"/content/drive/MyDrive/investing/investing_top_users_features.csv\", sep=\";\")"
   ]
  },
  {
   "cell_type": "code",
   "execution_count": 30,
   "metadata": {
    "colab": {
     "base_uri": "https://localhost:8080/",
     "height": 1000
    },
    "id": "Q4niY1tn0UN7",
    "outputId": "ff16ad24-ce31-4df2-879a-092a8e9af66d"
   },
   "outputs": [
    {
     "data": {
      "text/html": [
       "\n",
       "  <div id=\"df-f6eba55c-44d0-43bd-9b64-33329551f7ad\">\n",
       "    <div class=\"colab-df-container\">\n",
       "      <div>\n",
       "<style scoped>\n",
       "    .dataframe tbody tr th:only-of-type {\n",
       "        vertical-align: middle;\n",
       "    }\n",
       "\n",
       "    .dataframe tbody tr th {\n",
       "        vertical-align: top;\n",
       "    }\n",
       "\n",
       "    .dataframe thead th {\n",
       "        text-align: right;\n",
       "    }\n",
       "</style>\n",
       "<table border=\"1\" class=\"dataframe\">\n",
       "  <thead>\n",
       "    <tr style=\"text-align: right;\">\n",
       "      <th></th>\n",
       "      <th>Unnamed: 0</th>\n",
       "      <th>author</th>\n",
       "      <th>id</th>\n",
       "      <th>title</th>\n",
       "      <th>selftext</th>\n",
       "      <th>date</th>\n",
       "      <th>day</th>\n",
       "      <th>month</th>\n",
       "      <th>year</th>\n",
       "      <th>tickers_</th>\n",
       "      <th>tickers_count_</th>\n",
       "      <th>link_flair_text</th>\n",
       "      <th>comments_mean</th>\n",
       "      <th>comments_sum</th>\n",
       "      <th>score_mean</th>\n",
       "      <th>score_sum</th>\n",
       "      <th>upvote_ratio_mean</th>\n",
       "      <th>upvote_ratio_sum</th>\n",
       "      <th>flairs</th>\n",
       "      <th>flairs_count</th>\n",
       "      <th>title_polarity</th>\n",
       "      <th>title_subjectivity</th>\n",
       "      <th>body_polarity</th>\n",
       "      <th>body_subjectivity</th>\n",
       "      <th>title_tokens</th>\n",
       "      <th>selftext_tokens</th>\n",
       "      <th>polarity</th>\n",
       "      <th>years_count</th>\n",
       "      <th>months_count</th>\n",
       "      <th>dates_count</th>\n",
       "    </tr>\n",
       "  </thead>\n",
       "  <tbody>\n",
       "    <tr>\n",
       "      <th>0</th>\n",
       "      <td>0</td>\n",
       "      <td>007moonboundnxs</td>\n",
       "      <td>11</td>\n",
       "      <td>HBK-GoChain Announces Investment In Arabian Bo...</td>\n",
       "      <td>[removed] [removed] [removed] [removed] [remov...</td>\n",
       "      <td>['2019-12-10', '2019-12-08', '2019-11-25', '20...</td>\n",
       "      <td>10 8 25 15 14 9 1 14 10 7 7</td>\n",
       "      <td>['12', '12', '11', '10', '10', '10', '6', '3',...</td>\n",
       "      <td>['2019', '2019', '2019', '2019', '2019', '2019...</td>\n",
       "      <td>NaN</td>\n",
       "      <td>{}</td>\n",
       "      <td></td>\n",
       "      <td>0.090909</td>\n",
       "      <td>1</td>\n",
       "      <td>1.000000</td>\n",
       "      <td>11</td>\n",
       "      <td>0.000000</td>\n",
       "      <td>0.00</td>\n",
       "      <td>['', '', '', '', '', '', '', '', '', '', '']</td>\n",
       "      <td>{'': 11}</td>\n",
       "      <td>0.056404</td>\n",
       "      <td>0.213405</td>\n",
       "      <td>0.000000</td>\n",
       "      <td>0.000000</td>\n",
       "      <td>['HBK', '-', 'GoChain', 'Announces', 'Investme...</td>\n",
       "      <td>['[', 'removed', ']', '[', 'removed', ']', '['...</td>\n",
       "      <td>0.056404</td>\n",
       "      <td>{'2019': 8, '2018': 3}</td>\n",
       "      <td>{'12': 2, '11': 4, '10': 3, '6': 1, '3': 1}</td>\n",
       "      <td>{'2019-12-10': 1, '2019-12-08': 1, '2019-11-25...</td>\n",
       "    </tr>\n",
       "    <tr>\n",
       "      <th>1</th>\n",
       "      <td>1</td>\n",
       "      <td>01Cloud01</td>\n",
       "      <td>18</td>\n",
       "      <td>Brokerage firms that offer auto stock buying f...</td>\n",
       "      <td>Hello all I have seemingly been on a endless m...</td>\n",
       "      <td>['2021-06-12', '2021-06-11', '2020-10-04', '20...</td>\n",
       "      <td>12 11 4 26 2 1 31 30 25 19 16 3 2 1 1 24 24 7</td>\n",
       "      <td>['6', '6', '10', '7', '4', '4', '3', '3', '3',...</td>\n",
       "      <td>['2021', '2021', '2020', '2020', '2020', '2020...</td>\n",
       "      <td>NaN</td>\n",
       "      <td>{}</td>\n",
       "      <td></td>\n",
       "      <td>35.222222</td>\n",
       "      <td>634</td>\n",
       "      <td>28.444444</td>\n",
       "      <td>512</td>\n",
       "      <td>0.222222</td>\n",
       "      <td>4.00</td>\n",
       "      <td>['', '', '', '', '', '', '', '', '', '', '', '...</td>\n",
       "      <td>{'': 18}</td>\n",
       "      <td>0.077500</td>\n",
       "      <td>0.275000</td>\n",
       "      <td>0.116614</td>\n",
       "      <td>0.436446</td>\n",
       "      <td>['Brokerage', 'firms', 'that', 'offer', 'auto'...</td>\n",
       "      <td>['Hello', 'all', 'I', 'have', 'seemingly', 'be...</td>\n",
       "      <td>0.194114</td>\n",
       "      <td>{'2021': 2, '2020': 12, '2019': 2, '2018': 2}</td>\n",
       "      <td>{'6': 3, '10': 1, '7': 1, '4': 3, '3': 9, '9': 1}</td>\n",
       "      <td>{'2021-06-12': 1, '2021-06-11': 1, '2020-10-04...</td>\n",
       "    </tr>\n",
       "    <tr>\n",
       "      <th>2</th>\n",
       "      <td>2</td>\n",
       "      <td>036Gooddaysir036</td>\n",
       "      <td>18</td>\n",
       "      <td>AT&amp;amp;T (NYSE: T) - A stock Guide/Review AT&amp;a...</td>\n",
       "      <td>[removed] [removed] [removed] [removed] # Intr...</td>\n",
       "      <td>['2020-12-06', '2020-12-06', '2020-12-06', '20...</td>\n",
       "      <td>6 6 6 6 28 28 28 28 28 21 21 21 20 3 1 24 24 24</td>\n",
       "      <td>['12', '12', '12', '12', '11', '11', '11', '11...</td>\n",
       "      <td>['2020', '2020', '2020', '2020', '2020', '2020...</td>\n",
       "      <td>NaN</td>\n",
       "      <td>{}</td>\n",
       "      <td></td>\n",
       "      <td>18.833333</td>\n",
       "      <td>339</td>\n",
       "      <td>1.000000</td>\n",
       "      <td>18</td>\n",
       "      <td>1.000000</td>\n",
       "      <td>18.00</td>\n",
       "      <td>['', '', '', '', '', '', '', '', '', '', '', '...</td>\n",
       "      <td>{'': 18}</td>\n",
       "      <td>0.196508</td>\n",
       "      <td>0.491190</td>\n",
       "      <td>0.152726</td>\n",
       "      <td>0.463984</td>\n",
       "      <td>['AT&amp;amp;T', '(', 'NYSE', ':', 'T', ')', '-', ...</td>\n",
       "      <td>['[', 'removed', ']', '[', 'removed', ']', '['...</td>\n",
       "      <td>0.349234</td>\n",
       "      <td>{'2020': 18}</td>\n",
       "      <td>{'12': 4, '11': 11, '10': 3}</td>\n",
       "      <td>{'2020-12-06': 4, '2020-11-28': 5, '2020-11-21...</td>\n",
       "    </tr>\n",
       "    <tr>\n",
       "      <th>3</th>\n",
       "      <td>3</td>\n",
       "      <td>1-1-1-1-1-1-1-1-1-2</td>\n",
       "      <td>14</td>\n",
       "      <td>My attempt at EBITDA forecast valuation for Te...</td>\n",
       "      <td>So I've tried to estimate the 10-year return f...</td>\n",
       "      <td>['2021-04-14', '2021-04-14', '2021-01-31', '20...</td>\n",
       "      <td>14 14 31 18 13 23 15 16 9 3 22 5 23 10</td>\n",
       "      <td>['4', '4', '1', '11', '8', '7', '7', '6', '4',...</td>\n",
       "      <td>['2021', '2021', '2021', '2020', '2020', '2020...</td>\n",
       "      <td>['BCE']</td>\n",
       "      <td>{'BCE': 1}</td>\n",
       "      <td></td>\n",
       "      <td>16.214286</td>\n",
       "      <td>227</td>\n",
       "      <td>2.071429</td>\n",
       "      <td>29</td>\n",
       "      <td>0.553571</td>\n",
       "      <td>7.75</td>\n",
       "      <td>['', '', '', '', '', '', '', '', '', '', '', '...</td>\n",
       "      <td>{'': 14}</td>\n",
       "      <td>0.102698</td>\n",
       "      <td>0.429048</td>\n",
       "      <td>0.076278</td>\n",
       "      <td>0.386660</td>\n",
       "      <td>['My', 'attempt', 'at', 'EBITDA', 'forecast', ...</td>\n",
       "      <td>['So', 'I', \"'ve\", 'tried', 'to', 'estimate', ...</td>\n",
       "      <td>0.178977</td>\n",
       "      <td>{'2021': 3, '2020': 7, '2019': 4}</td>\n",
       "      <td>{'4': 3, '1': 2, '11': 3, '8': 1, '7': 2, '6':...</td>\n",
       "      <td>{'2021-04-14': 2, '2021-01-31': 1, '2020-11-18...</td>\n",
       "    </tr>\n",
       "    <tr>\n",
       "      <th>4</th>\n",
       "      <td>4</td>\n",
       "      <td>10meh</td>\n",
       "      <td>13</td>\n",
       "      <td>How Hedge Against The US Dollar ? (For investo...</td>\n",
       "      <td>If You own an investment in a country other th...</td>\n",
       "      <td>['2020-12-04', '2020-10-14', '2020-10-14', '20...</td>\n",
       "      <td>4 14 14 24 27 6 19 17 15 14 12 10 30</td>\n",
       "      <td>['12', '10', '10', '8', '6', '6', '5', '5', '5...</td>\n",
       "      <td>['2020', '2020', '2020', '2020', '2020', '2020...</td>\n",
       "      <td>NaN</td>\n",
       "      <td>{}</td>\n",
       "      <td></td>\n",
       "      <td>34.076923</td>\n",
       "      <td>443</td>\n",
       "      <td>19.692308</td>\n",
       "      <td>256</td>\n",
       "      <td>0.965385</td>\n",
       "      <td>12.55</td>\n",
       "      <td>['', '', '', '', '', '', '', '', '', '', '', '...</td>\n",
       "      <td>{'': 13}</td>\n",
       "      <td>0.130777</td>\n",
       "      <td>0.591317</td>\n",
       "      <td>0.193169</td>\n",
       "      <td>0.438436</td>\n",
       "      <td>['How', 'Hedge', 'Against', 'The', 'US', 'Doll...</td>\n",
       "      <td>['If', 'You', 'own', 'an', 'investment', 'in',...</td>\n",
       "      <td>0.323946</td>\n",
       "      <td>{'2020': 13}</td>\n",
       "      <td>{'12': 1, '10': 2, '8': 1, '6': 2, '5': 6, '4'...</td>\n",
       "      <td>{'2020-12-04': 1, '2020-10-14': 2, '2020-08-24...</td>\n",
       "    </tr>\n",
       "  </tbody>\n",
       "</table>\n",
       "</div>\n",
       "      <button class=\"colab-df-convert\" onclick=\"convertToInteractive('df-f6eba55c-44d0-43bd-9b64-33329551f7ad')\"\n",
       "              title=\"Convert this dataframe to an interactive table.\"\n",
       "              style=\"display:none;\">\n",
       "        \n",
       "  <svg xmlns=\"http://www.w3.org/2000/svg\" height=\"24px\"viewBox=\"0 0 24 24\"\n",
       "       width=\"24px\">\n",
       "    <path d=\"M0 0h24v24H0V0z\" fill=\"none\"/>\n",
       "    <path d=\"M18.56 5.44l.94 2.06.94-2.06 2.06-.94-2.06-.94-.94-2.06-.94 2.06-2.06.94zm-11 1L8.5 8.5l.94-2.06 2.06-.94-2.06-.94L8.5 2.5l-.94 2.06-2.06.94zm10 10l.94 2.06.94-2.06 2.06-.94-2.06-.94-.94-2.06-.94 2.06-2.06.94z\"/><path d=\"M17.41 7.96l-1.37-1.37c-.4-.4-.92-.59-1.43-.59-.52 0-1.04.2-1.43.59L10.3 9.45l-7.72 7.72c-.78.78-.78 2.05 0 2.83L4 21.41c.39.39.9.59 1.41.59.51 0 1.02-.2 1.41-.59l7.78-7.78 2.81-2.81c.8-.78.8-2.07 0-2.86zM5.41 20L4 18.59l7.72-7.72 1.47 1.35L5.41 20z\"/>\n",
       "  </svg>\n",
       "      </button>\n",
       "      \n",
       "  <style>\n",
       "    .colab-df-container {\n",
       "      display:flex;\n",
       "      flex-wrap:wrap;\n",
       "      gap: 12px;\n",
       "    }\n",
       "\n",
       "    .colab-df-convert {\n",
       "      background-color: #E8F0FE;\n",
       "      border: none;\n",
       "      border-radius: 50%;\n",
       "      cursor: pointer;\n",
       "      display: none;\n",
       "      fill: #1967D2;\n",
       "      height: 32px;\n",
       "      padding: 0 0 0 0;\n",
       "      width: 32px;\n",
       "    }\n",
       "\n",
       "    .colab-df-convert:hover {\n",
       "      background-color: #E2EBFA;\n",
       "      box-shadow: 0px 1px 2px rgba(60, 64, 67, 0.3), 0px 1px 3px 1px rgba(60, 64, 67, 0.15);\n",
       "      fill: #174EA6;\n",
       "    }\n",
       "\n",
       "    [theme=dark] .colab-df-convert {\n",
       "      background-color: #3B4455;\n",
       "      fill: #D2E3FC;\n",
       "    }\n",
       "\n",
       "    [theme=dark] .colab-df-convert:hover {\n",
       "      background-color: #434B5C;\n",
       "      box-shadow: 0px 1px 3px 1px rgba(0, 0, 0, 0.15);\n",
       "      filter: drop-shadow(0px 1px 2px rgba(0, 0, 0, 0.3));\n",
       "      fill: #FFFFFF;\n",
       "    }\n",
       "  </style>\n",
       "\n",
       "      <script>\n",
       "        const buttonEl =\n",
       "          document.querySelector('#df-f6eba55c-44d0-43bd-9b64-33329551f7ad button.colab-df-convert');\n",
       "        buttonEl.style.display =\n",
       "          google.colab.kernel.accessAllowed ? 'block' : 'none';\n",
       "\n",
       "        async function convertToInteractive(key) {\n",
       "          const element = document.querySelector('#df-f6eba55c-44d0-43bd-9b64-33329551f7ad');\n",
       "          const dataTable =\n",
       "            await google.colab.kernel.invokeFunction('convertToInteractive',\n",
       "                                                     [key], {});\n",
       "          if (!dataTable) return;\n",
       "\n",
       "          const docLinkHtml = 'Like what you see? Visit the ' +\n",
       "            '<a target=\"_blank\" href=https://colab.research.google.com/notebooks/data_table.ipynb>data table notebook</a>'\n",
       "            + ' to learn more about interactive tables.';\n",
       "          element.innerHTML = '';\n",
       "          dataTable['output_type'] = 'display_data';\n",
       "          await google.colab.output.renderOutput(dataTable, element);\n",
       "          const docLink = document.createElement('div');\n",
       "          docLink.innerHTML = docLinkHtml;\n",
       "          element.appendChild(docLink);\n",
       "        }\n",
       "      </script>\n",
       "    </div>\n",
       "  </div>\n",
       "  "
      ],
      "text/plain": [
       "   Unnamed: 0  ...                                        dates_count\n",
       "0           0  ...  {'2019-12-10': 1, '2019-12-08': 1, '2019-11-25...\n",
       "1           1  ...  {'2021-06-12': 1, '2021-06-11': 1, '2020-10-04...\n",
       "2           2  ...  {'2020-12-06': 4, '2020-11-28': 5, '2020-11-21...\n",
       "3           3  ...  {'2021-04-14': 2, '2021-01-31': 1, '2020-11-18...\n",
       "4           4  ...  {'2020-12-04': 1, '2020-10-14': 2, '2020-08-24...\n",
       "\n",
       "[5 rows x 30 columns]"
      ]
     },
     "execution_count": 30,
     "metadata": {},
     "output_type": "execute_result"
    }
   ],
   "source": [
    "investing.head()"
   ]
  },
  {
   "cell_type": "code",
   "execution_count": 9,
   "metadata": {
    "colab": {
     "base_uri": "https://localhost:8080/"
    },
    "id": "Zqt4ehSmpR_U",
    "outputId": "ce05619e-049b-4106-b6f4-48a3311255bb"
   },
   "outputs": [
    {
     "data": {
      "text/plain": [
       "33"
      ]
     },
     "execution_count": 9,
     "metadata": {},
     "output_type": "execute_result"
    }
   ],
   "source": [
    "### intersect top users of all three subreddits to find common users\n",
    "\n",
    "wsb_users = wsb['author'].tolist()\n",
    "stocks_users = stocks['author'].tolist()\n",
    "investing_users = investing['author'].tolist()\n",
    "common_users = set(wsb_users) & set(stocks_users) & set(investing_users)\n",
    "len(common_users)"
   ]
  },
  {
   "cell_type": "code",
   "execution_count": 21,
   "metadata": {
    "id": "9GbVd-xNqvSk"
   },
   "outputs": [],
   "source": [
    "def common_elements(list1,list2,list3=[]):\n",
    "    users_wsb_stocks = set(list1) & set(list2) \n",
    "    print('Elements in List 1:',len(list1))\n",
    "    print('Elements in List 2:',len(list2))\n",
    "    print('common_elements [List 1,2]:',len(users_wsb_stocks))\n",
    "    print('common_elements:',users_wsb_stocks)\n",
    "    if list3:\n",
    "      print('Elements in List 3:',len(list3))\n",
    "      users_wsb_investing = set(list1) & set(list3)\n",
    "      print('common_elements [List 1,3]:',len(users_wsb_investing))\n",
    "      print('common_elements:',users_wsb_investing)\n",
    "      users_stocks_investing = set(list2) & set(list3)\n",
    "      print('common_elements [List 2,3]:',len(users_stocks_investing))\n",
    "      print('common_elements:',users_stocks_investing)  \n",
    "      users = set(list1) & set(list2) & set(list3)\n",
    "      print('common_elements [List 1,2,3]:',len(users))\n",
    "      print('common_elements:',users)"
   ]
  },
  {
   "cell_type": "code",
   "execution_count": 25,
   "metadata": {
    "colab": {
     "base_uri": "https://localhost:8080/"
    },
    "id": "aVTqjfQFsJJV",
    "outputId": "f36ebabb-b37f-4ae5-f5c7-d0f9da4c7b44"
   },
   "outputs": [
    {
     "name": "stdout",
     "output_type": "stream",
     "text": [
      "Elements in List 1: 7253\n",
      "Elements in List 2: 985\n",
      "common_elements [List 1,2]: 143\n",
      "Elements in List 3: 640\n",
      "common_elements [List 1,3]: 92\n",
      "common_elements [List 2,3]: 117\n",
      "common_elements [List 1,2,3]: 33\n"
     ]
    }
   ],
   "source": [
    "common_elements(wsb_users,stocks_users,investing_users)"
   ]
  },
  {
   "cell_type": "code",
   "execution_count": 15,
   "metadata": {
    "id": "PU_Usnearmyh"
   },
   "outputs": [],
   "source": [
    "## DD users\n",
    "\n",
    "wsb_dd = pd.read_csv('/content/drive/MyDrive/WSB/WSB_users_DD.csv',sep=';')\n",
    "stocks_dd = pd.read_csv('/content/drive/MyDrive/stocks/stocks_users_DD.csv',sep=';')\n",
    "investing_dd = pd.read_csv('/content/drive/MyDrive/investing/investing_users_DD.csv',sep=';')"
   ]
  },
  {
   "cell_type": "code",
   "execution_count": 26,
   "metadata": {
    "colab": {
     "base_uri": "https://localhost:8080/"
    },
    "id": "NswuiXg2s8z6",
    "outputId": "98bb6e3a-6181-4d97-82ab-1cc004be519b"
   },
   "outputs": [
    {
     "name": "stdout",
     "output_type": "stream",
     "text": [
      "Elements in List 1: 3486\n",
      "Elements in List 2: 985\n",
      "common_elements [List 1,2]: 94\n",
      "Elements in List 3: 45\n",
      "common_elements [List 1,3]: 3\n",
      "common_elements [List 2,3]: 7\n",
      "common_elements [List 1,2,3]: 1\n"
     ]
    }
   ],
   "source": [
    "common_elements(wsb_dd['author'].tolist(),stocks_dd['author'].tolist(),investing_dd['author'].tolist())"
   ]
  },
  {
   "cell_type": "code",
   "execution_count": 18,
   "metadata": {
    "id": "XAbEX1HwtRGS"
   },
   "outputs": [],
   "source": [
    "## Pre and Post users\n",
    "\n",
    "wsb_pre = pd.read_csv('/content/drive/MyDrive/WSB/WSB_users_pre-hype.csv',sep=';')\n",
    "wsb_post = pd.read_csv('/content/drive/MyDrive/WSB/WSB_users_post-hype.csv',sep=';')\n",
    "stocks_pre = pd.read_csv('/content/drive/MyDrive/stocks/stocks_users_pre-hype.csv',sep=';')\n",
    "stocks_post = pd.read_csv('/content/drive/MyDrive/stocks/stocks_users_post-hype.csv',sep=';')\n",
    "investing_pre = pd.read_csv('/content/drive/MyDrive/investing/investing_users_pre-hype.csv',sep=';')\n",
    "investing_post = pd.read_csv('/content/drive/MyDrive/investing/investing_users_post-hype.csv',sep=';')"
   ]
  },
  {
   "cell_type": "code",
   "execution_count": 27,
   "metadata": {
    "colab": {
     "base_uri": "https://localhost:8080/"
    },
    "id": "scx5dvLkv92w",
    "outputId": "40e03904-515f-4c6a-b39c-d3a38557bae7"
   },
   "outputs": [
    {
     "name": "stdout",
     "output_type": "stream",
     "text": [
      "Elements in List 1: 1034\n",
      "Elements in List 2: 5919\n",
      "common_elements [List 1,2]: 499\n"
     ]
    }
   ],
   "source": [
    "## WSB common Pre and Post users\n",
    "common_elements(wsb_pre['author'].tolist(),wsb_post['author'].tolist())"
   ]
  },
  {
   "cell_type": "code",
   "execution_count": 28,
   "metadata": {
    "colab": {
     "base_uri": "https://localhost:8080/"
    },
    "id": "NSwxAhq4wlFR",
    "outputId": "de6c6877-3db6-42f4-8f73-80fc2bffdda3"
   },
   "outputs": [
    {
     "name": "stdout",
     "output_type": "stream",
     "text": [
      "Elements in List 1: 283\n",
      "Elements in List 2: 793\n",
      "common_elements [List 1,2]: 204\n"
     ]
    }
   ],
   "source": [
    "## stocks common Pre and post users\n",
    "common_elements(stocks_pre['author'].tolist(),stocks_post['author'].tolist())"
   ]
  },
  {
   "cell_type": "code",
   "execution_count": 29,
   "metadata": {
    "colab": {
     "base_uri": "https://localhost:8080/"
    },
    "id": "A_uxWpCAw5Lt",
    "outputId": "d6140404-b85c-4e61-ef01-3188fc95815d"
   },
   "outputs": [
    {
     "name": "stdout",
     "output_type": "stream",
     "text": [
      "Elements in List 1: 271\n",
      "Elements in List 2: 335\n",
      "common_elements [List 1,2]: 120\n"
     ]
    }
   ],
   "source": [
    "## investing common Pre and Post users\n",
    "common_elements(investing_pre['author'].tolist(),investing_post['author'].tolist())"
   ]
  },
  {
   "cell_type": "code",
   "execution_count": 57,
   "metadata": {
    "id": "mPkF-jYSxI_z"
   },
   "outputs": [],
   "source": [
    "## find common Tickers between pre vs post, subreddits\n",
    "import re\n",
    "def count_freq(_column): # column type : list\n",
    "    trigrams_title = []\n",
    "    #print(type(_column))\n",
    "    #print(_column)\n",
    "    for lst in _column.tolist():  \n",
    "          #print(type(lst))\n",
    "          #print(lst)\n",
    "          if not pd.isna(lst):\n",
    "            for trigram in lst.split(','):    \n",
    "              trigram=re.sub('[[]', '', trigram)\n",
    "              trigram=re.sub('[]]', '', trigram)\n",
    "              if trigram != '':      \n",
    "                  trigrams_title.append(trigram.lower())\n",
    "    count_freq_trigrams = {}\n",
    "    for item in trigrams_title:\n",
    "        item = item.strip()\n",
    "        if item in count_freq_trigrams:\n",
    "            count_freq_trigrams[item] +=1\n",
    "        else:\n",
    "            count_freq_trigrams[item] = 1\n",
    "    return sorted(count_freq_trigrams.items(), key=lambda item: item[1], reverse = True)\n"
   ]
  },
  {
   "cell_type": "code",
   "execution_count": 81,
   "metadata": {
    "colab": {
     "base_uri": "https://localhost:8080/"
    },
    "id": "7AD_gIT67O_S",
    "outputId": "e6673dfc-b437-48e8-ddd5-fd815bb9df2d"
   },
   "outputs": [
    {
     "name": "stderr",
     "output_type": "stream",
     "text": [
      "/usr/local/lib/python3.7/dist-packages/ipykernel_launcher.py:1: DeprecationWarning: The default dtype for empty Series will be 'object' instead of 'float64' in a future version. Specify a dtype explicitly to silence this warning.\n",
      "  \"\"\"Entry point for launching an IPython kernel.\n"
     ]
    }
   ],
   "source": [
    "def common_tickers(_column1,_column2,_column3=pd.Series([])): # column type : series\n",
    "    tickers1 = []\n",
    "    tickers2 = []\n",
    "    tickers3 = []\n",
    "    ticker_lst = [tickers1,tickers2,tickers3]\n",
    "    columns_lst = [_column1,_column2,_column3]\n",
    "    for ticker,col in zip(ticker_lst,columns_lst):\n",
    "        for lst in col.tolist():  \n",
    "            if not pd.isna(lst):\n",
    "                for trigram in lst.split(','):    \n",
    "                  trigram=re.sub('[[]', '', trigram)\n",
    "                  trigram=re.sub('[]]', '', trigram)\n",
    "                  if trigram != '':      \n",
    "                      ticker.append(trigram.lower())\n",
    "    common_elements(tickers1,tickers2,tickers3)"
   ]
  },
  {
   "cell_type": "code",
   "execution_count": 78,
   "metadata": {
    "colab": {
     "base_uri": "https://localhost:8080/"
    },
    "id": "cubmS0C39Wu9",
    "outputId": "b8ad55c3-b923-4baf-a683-a435587290ae"
   },
   "outputs": [
    {
     "name": "stdout",
     "output_type": "stream",
     "text": [
      "Elements in List 1: 6379\n",
      "Elements in List 2: 1703\n",
      "common_elements [List 1,2]: 669\n",
      "common_elements: {\" 'iclk'\", \" 'ljpc'\", \" 'mac'\", \" 'net'\", \" 'roku'\", \" 'sono'\", \" 'vtrs'\", \" 'rtx'\", \" 'nke'\", \"'ride'\", \" 'sgh'\", \" 'hbi'\", \" 'asts'\", \" 'air'\", \" 'smts'\", \" 'hrb'\", \" 'aep'\", \" 'pcg'\", \" 'auph'\", \" 'ctek'\", \" 'ois'\", \"'gild'\", \"'twlo'\", \" 'ccxi'\", \" 'sldb'\", \" 'mmm'\", \" 'orcl'\", \" 'snx'\", \" 'sify'\", \" 'tlry'\", \" 'arw'\", \"'mu'\", \" 'arwr'\", \" 'auy'\", \" 'scs'\", \" 'gpl'\", \" 'sjr'\", \" 'blnk'\", \" 'mga'\", \" 'isrg'\", \" 'gnk'\", \" 'pump'\", \" 'ma'\", \"'pep'\", \" 'lpx'\", \"'viac'\", \" 'ayx'\", \" 'sq'\", \" 'ng'\", \" 'uber'\", \" 'virt'\", \" 'nova'\", \" 'veev'\", \" 'albo'\", \"'amd'\", \" 'tcom'\", \"'fuv'\", \" 'tgtx'\", \" 'din'\", \" 'xpo'\", \" 'amat'\", \" 'grub'\", \" 'wcn'\", \" 'dgly'\", \" 'dal'\", \" 'gm'\", \" 'pypl'\", \" 'sdc'\", \" 'teck'\", \"'ba'\", \"'cmg'\", \" 'crm'\", \" 'panw'\", \" 'wfc'\", \"'lvs'\", \" 'b'\", \" 'cx'\", \" 'lgih'\", \"'low'\", \" 'rng'\", \" 'chra'\", \" 'plnt'\", \" 'hun'\", \" 'li'\", \" 'mara'\", \" 'cbsh'\", \" 'sail'\", \" 'bep'\", \" 'rcl'\", \"'ttwo'\", \" 'calm'\", \" 'khc'\", \" 'kndi'\", \" 'ual'\", \" 'ango'\", \" 'vrnt'\", \" 'pd'\", \"'hal'\", \" 'conn'\", \"'oxy'\", \" 'ampe'\", \" 'bway'\", \" 'lw'\", \"'qs'\", \" 'enph'\", \"'luv'\", \" 'cag'\", \" 'ccl'\", \" 'pag'\", \" 'cyd'\", \"'pton'\", \" 'lh'\", \" 'imv'\", \" 'hzo'\", \" 'cvs'\", \" 'neog'\", \" 'wh'\", \" 'avgr'\", \" 'bkng'\", \" 'rmbl'\", \" 'xpev'\", \"'ai'\", \" 'a'\", \" 'root'\", \" 'cah'\", \" 'irwd'\", \" 'spgi'\", \" 'athm'\", \" 'eqt'\", \" 'fslr'\", \" 'ttd'\", \" 'himx'\", \" 'bgfv'\", \" 'trgp'\", \" 'mc'\", \" 'ayi'\", \" 'grwg'\", \" 'prty'\", \" 'coin'\", \" 'kmph'\", \" 'mtor'\", \" 'vmw'\", \" 'doc'\", \" 'slb'\", \" 'mlm'\", \" 'adap'\", \" 'gis'\", \" 'dkng'\", \" 'vtsi'\", \" 'wgo'\", \" 'ontx'\", \" 'wen'\", \" 'scvl'\", \" 'bx'\", \" 'on'\", \" 'nrz'\", \" 'jfin'\", \" 'iq'\", \" 'hd'\", \" 'x'\", \" 'etsy'\", \"'uwmc'\", \" 'chwy'\", \" 'wwe'\", \" 'wday'\", \" 'cci'\", \" 'gnog'\", \" 'hexo'\", \" 'ocgn'\", \" 'sedg'\", \" 'rlgy'\", \"'sndl'\", \" 'aapl'\", \"'acb'\", \" 'nvax'\", \" 'jill'\", \" 'gbx'\", \" 'cost'\", \" 'w'\", \" 'cron'\", \" 'jnj'\", \"'cron'\", \" 'se'\", \" 'mirm'\", \"'snap'\", \" 'v'\", \"'dkng'\", \" 'visl'\", \" 'midd'\", \" 'expr'\", \" 't'\", \"'clov'\", \" 'rdn'\", \" 'rok'\", \" 'grpn'\", \" 'acb'\", \"'clne'\", \" 'lake'\", \" 'kirk'\", \"'x'\", \" 'aht'\", \" 'momo'\", \" 'gnln'\", \" 'pays'\", \" 'dgx'\", \" 'bud'\", \" 'amzn'\", \" 'celh'\", \" 'll'\", \" 'wetf'\", \" 'run'\", \" 'mots'\", \" 'mtch'\", \"'azn'\", \" 'cmps'\", \" 'fdx'\", \" 'srpt'\", \" 'zim'\", \" 'swbi'\", \" 'upst'\", \" 'hl'\", \" 'csiq'\", \" 'info'\", \" 'tdup'\", \"'ups'\", \" 'gps'\", \" 'rezi'\", \" 'umpq'\", \" 'alpn'\", \" 'u'\", \" 'dash'\", \" 'gil'\", \" 'bah'\", \"'ccl'\", \" 'dare'\", \" 'zeal'\", \" 'db'\", \"'upwk'\", \" 'gpn'\", \" 'cei'\", \"'wmt'\", \"'gold'\", \"'gme'\", \" 'si'\", \"'wkhs'\", \" 'gme'\", \" 'wba'\", \" 'cl'\", \" 'csse'\", \"'msft'\", \" 'mt'\", \" 'imax'\", \" 'titn'\", \" 'boh'\", \"'aht'\", \" 'livn'\", \" 'aroc'\", \" 'vz'\", \" 'sbux'\", \" 'erj'\", \" 'aqms'\", \" 'chtr'\", \" 'mdxg'\", \" 'glpi'\", \" 'tast'\", \" 'sage'\", \" 'hyre'\", \"'ttd'\", \" 'ab'\", \"'idex'\", \" 'txn'\", \" 'bby'\", \" 'pton'\", \" 'sglb'\", \" 'mplx'\", \"'cost'\", \" 'clov'\", \" 'kmb'\", \" 'nsa'\", \" 'lyb'\", \" 'cna'\", \" 'onvo'\", \" 'phm'\", \"'amzn'\", \" 'psx'\", \" 'amg'\", \" 'scwx'\", \" 'cvna'\", \" 'et'\", \"'mgm'\", \" 'cdw'\", \"'zm'\", \" 'intc'\", \" 'cdak'\", \" 'viot'\", \" 'rick'\", \" 'ups'\", \" 'lea'\", \" 'dlth'\", \" 'iipr'\", \"'nvax'\", \" 'ldi'\", \"'spce'\", \"'spg'\", \" 'emn'\", \" 'chpt'\", \" 'caap'\", \" 'rcii'\", \" 'qcom'\", \" 'flr'\", \" 'jwn'\", \"'nio'\", \" 'xom'\", \" 'mogo'\", \" 'tak'\", \"'dgly'\", \" 'nkla'\", \" 'gte'\", \" 'snow'\", \" 'aytu'\", \"'yy'\", \" 'avgo'\", \" 'bntx'\", \" 'niu'\", \" 'mrna'\", \"'plug'\", \" 'cake'\", \" 'eaf'\", \" 'penn'\", \" 'crc'\", \" 'prts'\", \" 'ea'\", \"'net'\", \" 'negg'\", \"'roku'\", \"'fb'\", \" 'irnt'\", \" 'pins'\", \" 'ibkr'\", \" 'tlsa'\", \"'dis'\", \" 'ati'\", \" 'sam'\", \"'psth'\", \" 'pcrx'\", \" 'bidu'\", \" 'qsr'\", \" 'lnn'\", \" 'tkr'\", \" 'nvta'\", \" 'goog'\", \" 'tfc'\", \"'baba'\", \" 'crnt'\", \" 'go'\", \" 'tgt'\", \" 'mkc'\", \" 'gsky'\", \"'zom'\", \" 'be'\", \" 'rvlv'\", \" 'pep'\", \" 'crsp'\", \" 'cat'\", \" 'cboe'\", \" 'skx'\", \" 'fr'\", \" 'shop'\", \"'apt'\", \" 'chgg'\", \" 'rost'\", \" 'nat'\", \" 'ms'\", \" 'tsm'\", \" 'rkda'\", \"'blnk'\", \" 'opgn'\", \" 'rklb'\", \" 'clne'\", \" 'asnd'\", \" 'xxii'\", \" 'twtr'\", \" 'aes'\", \" 'vlta'\", \" 'jpm'\", \" 'ko'\", \" 'twi'\", \"'kt'\", \" 'glw'\", \" 'fgen'\", \" 'csco'\", \" 'wor'\", \" 'qiwi'\", \" 'bigc'\", \" 'irt'\", \" 'gold'\", \" 'snap'\", \" 'jd'\", \" 'docu'\", \" 'vff'\", \" 'levi'\", \" 'fitb'\", \" 'sfix'\", \" 'gt'\", \" 'disca'\", \" 'tmdx'\", \" 'doyu'\", \" 'lulu'\", \"'abnb'\", \" 'bmy'\", \" 'twlo'\", \"'crsr'\", \" 'mgni'\", \" 'googl'\", \" 'spg'\", \"'coin'\", \" 'play'\", \" 'ntic'\", \" 'sava'\", \" 'syf'\", \" 'dht'\", \" 'coty'\", \" 'twnk'\", \"'bynd'\", \"'cvna'\", \" 'mlco'\", \" 'bldp'\", \"'crwd'\", \" 'dow'\", \" 'fubo'\", \" 'pdd'\", \" 'sig'\", \" 'eton'\", \" 'dks'\", \" 'lmt'\", \" 'imgn'\", \" 'ba'\", \" 'biib'\", \" 'nee'\", \" 'plug'\", \" 'ilpt'\", \" 'cvac'\", \" 'dmtk'\", \"'huya'\", \" 'osw'\", \" 'edap'\", \" 'rad'\", \" 'dhr'\", \" 'slp'\", \" 'mvis'\", \" 'vmc'\", \" 'lndc'\", \" 'zg'\", \" 'ge'\", \" 'apo'\", \" 'cnc'\", \" 'spce'\", \" 'rkt'\", \"'lumn'\", \" 'psfe'\", \" 'bhc'\", \" 'plby'\", \" 'blue'\", \" 'tjx'\", \" 'riot'\", \" 'tmus'\", \"'tsla'\", \" 'wdfc'\", \"'mp'\", \" 'xray'\", \" 'imo'\", \"'aapl'\", \" 'rsi'\", \" 'maxr'\", \" 'blmn'\", \" 'hlt'\", \" 'c'\", \" 'cmrx'\", \" 'wmt'\", \" 'eslt'\", \" 'mdt'\", \" 'swn'\", \" 'edu'\", \" 'rh'\", \" 'nvo'\", \" 'pvh'\", \" 'viac'\", \"'lcid'\", \" 'ptn'\", \" 'ceqp'\", \" 'idxx'\", \" 'mdb'\", \" 'nvda'\", \"'bbig'\", \" 'ccj'\", \" 'acco'\", \" 'ttcf'\", \" 'mas'\", \" 'abt'\", \" 'bgs'\", \" 'nio'\", \"'tsm'\", \" 'kplt'\", \"'crm'\", \" 'zi'\", \" 'fb'\", \" 'mgnx'\", \" 'schn'\", \" 'zm'\", \"'rblx'\", \" 'geo'\", \" 'aout'\", \" 'amrn'\", \" 'lx'\", \" 'rpm'\", \" 'kkr'\", \" 'f'\", \" 'blk'\", \" 'gd'\", \" 'fcel'\", \" 'six'\", \" 'cop'\", \" 'crwd'\", \"'ttcf'\", \" 'onem'\", \" 'amt'\", \" 'skt'\", \" 'bb'\", \" 'has'\", \" 'jt'\", \" 'kbh'\", \" 'dis'\", \" 'siri'\", \" 'fnko'\", \" 'rl'\", \" 'nuro'\", \" 'uaa'\", \"'hrtx'\", \" 'crsr'\", \"'amc'\", \" 'race'\", \" 'cnce'\", \"'cwh'\", \" 'lamr'\", \" 'arvl'\", \" 'atvi'\", \" 'bac'\", \" 'cyrn'\", \"'hood'\", \" 'best'\", \" 'well'\", \" 'wy'\", \" 'twou'\", \" 'stz'\", \" 'whr'\", \" 'ebay'\", \" 'frc'\", \" 'ino'\", \" 'vrt'\", \" 'aal'\", \"'plnt'\", \" 'bzun'\", \" 'dg'\", \" 'fsly'\", \"'vbiv'\", \" 'dell'\", \" 'lazr'\", \" 'kmx'\", \" 'msft'\", \" 'mov'\", \" 'nclh'\", \" 'sesn'\", \" 'clf'\", \"'nvda'\", \" 'eric'\", \" 'beke'\", \" 'ttnp'\", \"'intc'\", \" 'mro'\", \" 'cmi'\", \" 'mu'\", \" 'baba'\", \" 'muds'\", \" 'eprt'\", \" 'crnc'\", \" 'kdp'\", \" 'aa'\", \" 'amc'\", \" 'nflx'\", \" 'nok'\", \" 'bynd'\", \" 'aeye'\", \" 'cgc'\", \" 'gwgh'\", \" 'pfe'\", \" 'amd'\", \" 'jmia'\", \" 'sqm'\", \" 'aldx'\", \" 'lspd'\", \" 'bp'\", \" 'tmhc'\", \" 'hayw'\", \" 'pg'\", \" 'mrk'\", \" 'east'\", \" 'mpc'\", \" 'msm'\", \" 'unf'\", \" 'de'\", \" 'jblu'\", \"'zs'\", \" 'adbe'\", \"'gm'\", \" 'imab'\", \" 'apog'\", \" 'bbig'\", \"'tlry'\", \"'sq'\", \" 'peg'\", \" 'pm'\", \" 'z'\", \" 'fold'\", \" 'pltr'\", \" 'ice'\", \" 'ai'\", \" 'oncy'\", \" 'aptx'\", \" 'tnp'\", \"'adtx'\", \" 'liqt'\", \" 'nxpi'\", \" 'tsla'\", \" 'payx'\", \" 'abus'\", \" 'otrk'\", \" 'ry'\", \"'kmph'\", \" 'prgs'\", \" 'saic'\", \" 'gern'\", \" 'mcd'\", \" 'pii'\", \"'w'\", \"'wish'\", \" 'fds'\", \" 'sklz'\", \" 'vtiq'\", \" 'big'\", \" 'gs'\", \"'bb'\", \" 'nep'\", \" 'fang'\", \" 'estc'\", \" 'amgn'\", \" 'cb'\", \" 'luv'\", \" 'slca'\", \" 'mrsn'\", \" 'fbp'\", \" 'astr'\", \"'rkt'\", \" 'cvx'\", \"'wwr'\", \" 'nvcn'\", \"'cybn'\", \"'hexo'\", \" 'stor'\", \" 'ttwo'\"}\n",
      "Elements in List 3: 23\n",
      "common_elements [List 1,3]: 10\n",
      "common_elements: {\"'ge'\", \" 'bldp'\", \" 'wkhs'\", \" 'lea'\", \"'tsla'\", \"'pins'\", \" 'fb'\", \" 'wab'\", \" 'omc'\", \" 'nflx'\"}\n",
      "common_elements [List 2,3]: 7\n",
      "common_elements: {\" 'bepc'\", \" 'bldp'\", \" 'lea'\", \"'tsla'\", \" 'fb'\", \" 'nflx'\", \" 'uavs'\"}\n",
      "common_elements [List 1,2,3]: 5\n",
      "common_elements: {\" 'bldp'\", \" 'lea'\", \"'tsla'\", \" 'fb'\", \" 'nflx'\"}\n"
     ]
    }
   ],
   "source": [
    "common_tickers(wsb_dd['tickers_'],stocks_dd['tickers_'],investing_dd['tickers_'])"
   ]
  },
  {
   "cell_type": "code",
   "execution_count": 79,
   "metadata": {
    "colab": {
     "base_uri": "https://localhost:8080/"
    },
    "id": "HHMmRC5v_nEi",
    "outputId": "a90f261e-d7d6-41c2-b82d-07d5e94efcc9"
   },
   "outputs": [
    {
     "name": "stdout",
     "output_type": "stream",
     "text": [
      "Elements in List 1: 9406\n",
      "Elements in List 2: 1703\n",
      "common_elements [List 1,2]: 709\n",
      "common_elements: {\" 'iclk'\", \" 'ljpc'\", \" 'mac'\", \" 'net'\", \" 'smar'\", \" 'roku'\", \"'lrn'\", \" 'sono'\", \" 'vtrs'\", \" 'rtx'\", \" 'nke'\", \"'ride'\", \" 'sgh'\", \" 'hbi'\", \" 'asts'\", \" 'air'\", \" 'smts'\", \" 'hrb'\", \" 'aep'\", \" 'pcg'\", \" 'auph'\", \" 'ctek'\", \" 'ois'\", \"'gild'\", \"'twlo'\", \" 'ccxi'\", \" 'sldb'\", \" 'mmm'\", \" 'orcl'\", \" 'snx'\", \" 'sify'\", \" 'tlry'\", \" 'arw'\", \"'mu'\", \" 'arwr'\", \" 'auy'\", \"'dal'\", \" 'scs'\", \" 'gpl'\", \" 'sjr'\", \" 'blnk'\", \" 'mga'\", \" 'isrg'\", \" 'gnk'\", \" 'pump'\", \" 'ma'\", \"'pep'\", \" 'lpx'\", \"'viac'\", \" 'ayx'\", \" 'sq'\", \" 'ng'\", \" 'uber'\", \" 'virt'\", \" 'nova'\", \" 'veev'\", \" 'albo'\", \"'amd'\", \" 'tcom'\", \"'fuv'\", \" 'tgtx'\", \" 'din'\", \" 'xpo'\", \" 'amat'\", \" 'grub'\", \" 'wcn'\", \" 'dgly'\", \" 'dal'\", \" 'gm'\", \" 'pypl'\", \" 'sdc'\", \" 'teck'\", \"'ba'\", \"'cmg'\", \" 'crm'\", \" 'panw'\", \" 'wfc'\", \"'lvs'\", \" 'b'\", \" 'cx'\", \" 'lgih'\", \"'low'\", \" 'rng'\", \" 'chra'\", \" 'plnt'\", \" 'hun'\", \" 'li'\", \" 'mara'\", \" 'cbsh'\", \" 'sail'\", \" 'bep'\", \" 'rcl'\", \"'ttwo'\", \" 'calm'\", \" 'khc'\", \" 'kndi'\", \" 'ual'\", \" 'ango'\", \" 'vrnt'\", \" 'pd'\", \"'hal'\", \" 'crvs'\", \" 'conn'\", \"'oxy'\", \" 'ampe'\", \" 'bway'\", \" 'lw'\", \" 'irm'\", \"'qs'\", \" 'enph'\", \"'luv'\", \" 'cag'\", \" 'ccl'\", \" 'pag'\", \" 'cyd'\", \"'pton'\", \" 'lh'\", \" 'imv'\", \" 'hzo'\", \" 'cvs'\", \" 'neog'\", \" 'ngd'\", \" 'wh'\", \" 'avgr'\", \" 'bkng'\", \" 'rmbl'\", \" 'xpev'\", \"'ai'\", \" 'hear'\", \" 'a'\", \" 'root'\", \" 'cah'\", \" 'irwd'\", \" 'spgi'\", \" 'athm'\", \" 'eqt'\", \" 'fslr'\", \" 'ttd'\", \" 'himx'\", \" 'bgfv'\", \" 'trgp'\", \" 'mc'\", \" 'ayi'\", \" 'grwg'\", \" 'prty'\", \" 'coin'\", \" 'kmph'\", \" 'mtor'\", \"'posh'\", \" 'vmw'\", \" 'doc'\", \" 'slb'\", \" 'mlm'\", \" 'adap'\", \" 'gis'\", \" 'dkng'\", \" 'vtsi'\", \" 'awr'\", \" 'wgo'\", \" 'ontx'\", \" 'wen'\", \" 'scvl'\", \" 'bx'\", \" 'on'\", \" 'nrz'\", \" 'jfin'\", \" 'iq'\", \" 'hd'\", \" 'x'\", \" 'etsy'\", \"'uwmc'\", \" 'chwy'\", \" 'wwe'\", \" 'enr'\", \" 'wday'\", \" 'cci'\", \" 'gnog'\", \" 'hexo'\", \" 'ocgn'\", \" 'sedg'\", \" 'rlgy'\", \"'sndl'\", \" 'aapl'\", \"'acb'\", \" 'nvax'\", \" 'jill'\", \" 'gbx'\", \" 'cost'\", \" 'w'\", \" 'cron'\", \" 'jnj'\", \"'cron'\", \" 'se'\", \" 'mirm'\", \"'snap'\", \" 'v'\", \"'dkng'\", \" 'visl'\", \" 'midd'\", \" 'expr'\", \" 't'\", \"'clov'\", \" 'rdn'\", \" 'rok'\", \" 'wtrh'\", \" 'grpn'\", \" 'acb'\", \"'clne'\", \" 'lake'\", \" 'kirk'\", \"'x'\", \" 'aht'\", \" 'momo'\", \" 'gnln'\", \" 'pays'\", \" 'dgx'\", \" 'bud'\", \" 'amzn'\", \" 'celh'\", \" 'll'\", \" 'wetf'\", \" 'run'\", \" 'mots'\", \" 'mtch'\", \"'azn'\", \" 'cmps'\", \" 'fdx'\", \" 'srpt'\", \" 'zim'\", \" 'swbi'\", \" 'upst'\", \" 'hl'\", \" 'csiq'\", \" 'info'\", \" 'tdup'\", \"'ups'\", \" 'gps'\", \" 'rezi'\", \" 'umpq'\", \" 'alpn'\", \" 'u'\", \" 'dash'\", \" 'gil'\", \" 'bah'\", \"'ccl'\", \" 'dare'\", \" 'pgen'\", \" 'zeal'\", \" 'db'\", \" 'bill'\", \" 'phun'\", \"'upwk'\", \" 'gpn'\", \" 'cei'\", \"'wmt'\", \"'gold'\", \"'gme'\", \" 'band'\", \" 'si'\", \"'wkhs'\", \"'etsy'\", \" 'gme'\", \" 'wba'\", \" 'cl'\", \" 'csse'\", \"'msft'\", \" 'mt'\", \" 'imax'\", \" 'titn'\", \" 'boh'\", \"'spaq'\", \"'aht'\", \" 'livn'\", \" 'aroc'\", \" 'vz'\", \" 'sbux'\", \" 'erj'\", \" 'aqms'\", \" 'chtr'\", \" 'mdxg'\", \" 'glpi'\", \" 'tast'\", \" 'sage'\", \" 'hyre'\", \"'ttd'\", \" 'ab'\", \"'idex'\", \" 'txn'\", \" 'bby'\", \" 'pton'\", \" 'sglb'\", \" 'mplx'\", \" 'sft'\", \"'cost'\", \" 'clov'\", \" 'kmb'\", \" 'nsa'\", \" 'lyb'\", \" 'cna'\", \" 'onvo'\", \" 'phm'\", \"'amzn'\", \" 'psx'\", \" 'amg'\", \" 'scwx'\", \" 'cvna'\", \" 'et'\", \"'mgm'\", \"'se'\", \" 'cdw'\", \"'zm'\", \" 'intc'\", \" 'cdak'\", \" 'viot'\", \" 'rick'\", \" 'ups'\", \" 'lea'\", \" 'dlth'\", \" 'iipr'\", \"'nvax'\", \" 'ldi'\", \"'spce'\", \"'spg'\", \" 'emn'\", \" 'chpt'\", \" 'caap'\", \" 'rcii'\", \" 'qcom'\", \" 'flr'\", \" 'jwn'\", \"'nio'\", \" 'xom'\", \"'fami'\", \" 'mogo'\", \" 'tak'\", \"'dgly'\", \" 'nkla'\", \" 'gte'\", \" 'snow'\", \" 'aytu'\", \"'yy'\", \" 'avgo'\", \" 'bntx'\", \" 'niu'\", \" 'mrna'\", \"'plug'\", \" 'cake'\", \" 'eaf'\", \" 'penn'\", \" 'crc'\", \" 'prts'\", \" 'ea'\", \"'net'\", \" 'negg'\", \"'roku'\", \"'fb'\", \" 'irnt'\", \" 'pins'\", \" 'ibkr'\", \" 'tlsa'\", \"'dis'\", \" 'ati'\", \" 'sam'\", \"'psth'\", \" 'pcrx'\", \" 'bidu'\", \" 'qsr'\", \" 'lnn'\", \" 'tkr'\", \" 'nvta'\", \" 'goog'\", \" 'tfc'\", \"'baba'\", \" 'crnt'\", \" 'go'\", \" 'tgt'\", \" 'mkc'\", \" 'gsky'\", \"'zom'\", \" 'be'\", \" 'rvlv'\", \" 'pep'\", \" 'crsp'\", \" 'cat'\", \" 'orph'\", \" 'cboe'\", \" 'skx'\", \" 'fr'\", \" 'shop'\", \"'apt'\", \" 'chgg'\", \" 'rost'\", \" 'nat'\", \" 'ms'\", \" 'tsm'\", \" 'rkda'\", \"'blnk'\", \" 'opgn'\", \" 'rklb'\", \" 'clne'\", \" 'asnd'\", \" 'xxii'\", \" 'twtr'\", \" 'aes'\", \" 'vlta'\", \" 'jpm'\", \" 'ko'\", \" 'twi'\", \"'kt'\", \" 'glw'\", \" 'fgen'\", \" 'csco'\", \" 'wor'\", \" 'qiwi'\", \" 'bigc'\", \" 'irt'\", \" 'gold'\", \" 'snap'\", \" 'jd'\", \" 'docu'\", \"'opk'\", \" 'vff'\", \" 'levi'\", \" 'fitb'\", \" 'sfix'\", \" 'gt'\", \" 'disca'\", \" 'tmdx'\", \" 'doyu'\", \" 'lulu'\", \"'abnb'\", \" 'bmy'\", \" 'twlo'\", \"'crsr'\", \" 'mgni'\", \"'four'\", \" 'googl'\", \" 'spg'\", \"'coin'\", \"'xpev'\", \" 'play'\", \" 'ntic'\", \" 'sava'\", \" 'syf'\", \" 'dht'\", \" 'coty'\", \" 'twnk'\", \"'tigr'\", \"'bynd'\", \"'cvna'\", \" 'mlco'\", \" 'bldp'\", \"'crwd'\", \" 'dow'\", \" 'fubo'\", \" 'pdd'\", \" 'sig'\", \" 'eton'\", \" 'dks'\", \" 'lmt'\", \" 'imgn'\", \" 'ba'\", \" 'biib'\", \" 'trvg'\", \" 'nee'\", \" 'plug'\", \" 'ilpt'\", \" 'cvac'\", \" 'dmtk'\", \"'huya'\", \" 'osw'\", \" 'edap'\", \" 'rad'\", \" 'dhr'\", \" 'slp'\", \" 'mvis'\", \"'gan'\", \" 'vmc'\", \" 'lndc'\", \" 'zg'\", \" 'ge'\", \" 'apo'\", \" 'cnc'\", \" 'spce'\", \" 'rkt'\", \"'lumn'\", \" 'psfe'\", \" 'bhc'\", \" 'plby'\", \" 'blue'\", \" 'tjx'\", \" 'riot'\", \" 'cc'\", \" 'tmus'\", \"'tsla'\", \" 'wdfc'\", \"'mp'\", \" 'xray'\", \" 'imo'\", \"'aapl'\", \" 'rsi'\", \" 'maxr'\", \" 'blmn'\", \" 'hlt'\", \" 'c'\", \" 'cmrx'\", \" 'wmt'\", \" 'eslt'\", \" 'mdt'\", \" 'swn'\", \" 'edu'\", \" 'rh'\", \" 'nvo'\", \" 'pvh'\", \" 'viac'\", \"'lcid'\", \" 'ptn'\", \" 'ceqp'\", \" 'idxx'\", \"'v'\", \" 'mdb'\", \" 'nvda'\", \"'bbig'\", \" 'ccj'\", \"'team'\", \" 'acco'\", \" 'ttcf'\", \" 'mas'\", \" 'abt'\", \" 'bgs'\", \" 'nio'\", \"'tsm'\", \" 'kplt'\", \"'crm'\", \" 'zi'\", \" 'fb'\", \" 'mgnx'\", \" 'schn'\", \" 'zm'\", \"'rblx'\", \" 'geo'\", \" 'aout'\", \" 'amrn'\", \" 'lx'\", \" 'rpm'\", \" 'kkr'\", \" 'f'\", \" 'blk'\", \" 'gd'\", \"'kulr'\", \" 'fcel'\", \" 'six'\", \" 'cop'\", \" 'crwd'\", \"'ttcf'\", \" 'onem'\", \" 'amt'\", \" 'skt'\", \" 'bb'\", \" 'has'\", \" 'jt'\", \" 'kbh'\", \" 'dis'\", \" 'siri'\", \" 'fnko'\", \" 'rl'\", \" 'nuro'\", \" 'uaa'\", \"'hrtx'\", \" 'crsr'\", \"'amc'\", \" 'race'\", \" 'cnce'\", \"'adbe'\", \"'cwh'\", \" 'lamr'\", \" 'arvl'\", \" 'atvi'\", \" 'bac'\", \" 'cyrn'\", \"'hood'\", \" 'best'\", \" 'well'\", \" 'wy'\", \" 'twou'\", \" 'stz'\", \" 'whr'\", \" 'ebay'\", \" 'frc'\", \" 'ni'\", \" 'ino'\", \" 'vrt'\", \" 'aal'\", \"'plnt'\", \" 'bzun'\", \" 'dg'\", \" 'fsly'\", \"'vbiv'\", \" 'dell'\", \" 'lazr'\", \" 'uuuu'\", \" 'kmx'\", \" 'msft'\", \" 'mov'\", \" 'nclh'\", \" 'sesn'\", \" 'clf'\", \"'nvda'\", \" 'eric'\", \" 'beke'\", \" 'ttnp'\", \"'intc'\", \" 'abbv'\", \" 'mro'\", \"'eric'\", \" 'cmi'\", \" 'mu'\", \" 'baba'\", \" 'muds'\", \" 'eprt'\", \" 'crnc'\", \" 'kdp'\", \" 'aa'\", \" 'amc'\", \" 'nflx'\", \" 'nok'\", \" 'bynd'\", \" 'aeye'\", \" 'cgc'\", \" 'gwgh'\", \" 'pfe'\", \" 'amd'\", \" 'jmia'\", \" 'sqm'\", \" 'aldx'\", \" 'lspd'\", \" 'bp'\", \" 'tmhc'\", \" 'hayw'\", \" 'pg'\", \" 'mrk'\", \" 'east'\", \" 'mpc'\", \" 'msm'\", \" 'unf'\", \" 'de'\", \" 'jblu'\", \"'zs'\", \" 'adbe'\", \"'gm'\", \" 'imab'\", \" 'apog'\", \" 'bbig'\", \"'tlry'\", \"'sq'\", \" 'peg'\", \" 'pm'\", \" 'z'\", \" 'fold'\", \" 'pltr'\", \" 'ice'\", \" 'ai'\", \" 'oncy'\", \" 'aptx'\", \" 'tnp'\", \"'adtx'\", \"'glsi'\", \" 'liqt'\", \" 'nxpi'\", \" 'tsla'\", \" 'payx'\", \" 'abus'\", \" 'otrk'\", \" 'ry'\", \"'kmph'\", \" 'prgs'\", \" 'saic'\", \" 'gern'\", \" 'mcd'\", \" 'pii'\", \"'w'\", \"'wish'\", \" 'fds'\", \" 'sklz'\", \" 'vtiq'\", \" 'big'\", \" 'spwr'\", \" 'gs'\", \"'bb'\", \" 'nep'\", \" 'fang'\", \" 'estc'\", \" 'amgn'\", \" 'cb'\", \" 'luv'\", \" 'slca'\", \" 'mrsn'\", \" 'fbp'\", \" 'astr'\", \"'lmnd'\", \"'rkt'\", \" 'cvx'\", \"'wwr'\", \" 'nvcn'\", \"'dbx'\", \"'cybn'\", \"'hexo'\", \" 'stor'\", \" 'ttwo'\"}\n",
      "Elements in List 3: 423\n",
      "common_elements [List 1,3]: 242\n",
      "common_elements: {\" 'ulta'\", \" 'roku'\", \" 'sono'\", \" 'etsy'\", \" 'okta'\", \"'teva'\", \" 'upwk'\", \" 'ibm'\", \" 'amrn'\", \" 'nke'\", \" 'apt'\", \" 'wday'\", \" 'mkc'\", \"'qcom'\", \" 'f'\", \" 'aep'\", \" 'pcg'\", \" 'alb'\", \" 'auph'\", \"'snow'\", \" 'cat'\", \"'pm'\", \" 'cboe'\", \" 'skx'\", \" 'tsn'\", \" 'fr'\", \"'sndl'\", \" 'shop'\", \" 'aapl'\", \"'kplt'\", \" 'nvax'\", \" 'tigr'\", \" 'cron'\", \" 'ccxi'\", \" 'tsm'\", \" 'bb'\", \" 'mmm'\", \" 'gtn'\", \" 'bg'\", \" 'mirm'\", \"'snap'\", \" 'v'\", \" 'al'\", \"'nnox'\", \" 'clne'\", \" 'wab'\", \"'dkng'\", \" 'twtr'\", \" 'dis'\", \" 'sndl'\", \" 't'\", \" 'vlta'\", \" 'adt'\", \" 'jpm'\", \" 'ko'\", \"'dal'\", \"'hrtx'\", \" 'unh'\", \"'clov'\", \" 'uaa'\", \" 'crsr'\", \"'regn'\", \"'htz'\", \" 'fgen'\", \" 'csco'\", \" 'grpn'\", \" 'acb'\", \" 'ma'\", \"'pep'\", \" 'cnce'\", \"'adbe'\", \" 'gold'\", \"'gs'\", \" 'ayx'\", \" 'noc'\", \" 'docu'\", \" 'wkhs'\", \" 'sq'\", \" 'lamr'\", \" 'posh'\", \"'x'\", \"'pfe'\", \" 's'\", \" 'stz'\", \" 'ally'\", \" 'gt'\", \" 'tmdx'\", \" 'lulu'\", \" 'cpb'\", \"'abnb'\", \" 'amzn'\", \" 'celh'\", \"'slqt'\", \" 'twlo'\", \" 'amat'\", \" 'll'\", \" 'grub'\", \"'uber'\", \"'crsr'\", \" 'googl'\", \" 'mdu'\", \" 'msft'\", \" 'wcn'\", \"'azn'\", \" 'fdx'\", \"'nvda'\", \" 'eric'\", \" 'zim'\", \" 'dal'\", \" 'upst'\", \" 'sdc'\", \" 'cmg'\", \" 'tdup'\", \"'ba'\", \" 'wfc'\", \" 'crm'\", \" 'lite'\", \" 'mlco'\", \" 'rblx'\", \" 'aso'\", \" 'umpq'\", \" 'gil'\", \" 'bldp'\", \"'crwd'\", \" 'cim'\", \" 'pgen'\", \" 'mu'\", \" 'rng'\", \" 'baba'\", \"'cmps'\", \" 'eprt'\", \" 'bill'\", \" 'hun'\", \" 'amc'\", \" 'nflx'\", \" 'lyft'\", \"'gold'\", \" 'mara'\", \"'ge'\", \"'wmt'\", \" 'dks'\", \" 'bxp'\", \" 'ba'\", \" 'gdp'\", \" 'bynd'\", \"'gme'\", \" 'khc'\", \" 'cvac'\", \" 'band'\", \" 'kndi'\", \"'pcg'\", \" 'si'\", \" 'wix'\", \"'etsy'\", \" 'ual'\", \" 'dmtk'\", \" 'gme'\", \" 'pfe'\", \" 'amd'\", \" 'imax'\", \" 'jmia'\", \" 'sqm'\", \" 'vmc'\", \" 'tpr'\", \" 'lw'\", \" 'apo'\", \" 'mo'\", \" 'ab'\", \"'ttd'\", \" 'fun'\", \"'you'\", \"'luv'\", \" 'itci'\", \" 'ccl'\", \" 'txn'\", \"'lrcx'\", \" 'cnc'\", \" 'spce'\", \"'g'\", \"'shop'\", \"'riot'\", \"'tgt'\", \"'cvs'\", \"'bngo'\", \" 'bbig'\", \"'sq'\", \" 'fuv'\", \" 'nsa'\", \" 'tjx'\", \" 'gild'\", \" 'peg'\", \" 'bkng'\", \"'amzn'\", \" 'phm'\", \" 'riot'\", \" 'tmus'\", \"'tsla'\", \" 'cah'\", \" 'cdw'\", \" 'omc'\", \" 'pltr'\", \"'aapl'\", \" 'intc'\", \"'cers'\", \" 'hlt'\", \" 'lea'\", \" 'tsla'\", \" 'awk'\", \" 'eqt'\", \"'nvax'\", \"'pins'\", \" 'tap'\", \" 'fivn'\", \" 'hpq'\", \" 'chpt'\", \" 'qcom'\", \" 'wmt'\", \" 'coin'\", \" 'big'\", \" 'xom'\", \" 'edu'\", \" 'bdx'\", \" 'mtor'\", \" 'viac'\", \"'c'\", \" 'nep'\", \"'t'\", \" 'bntx'\", \" 'mrna'\", \" 'nvda'\", \"'cgc'\", \"'bbig'\", \" 'luv'\", \" 'ea'\", \" 'bgs'\", \" 'nio'\", \"'fb'\", \"'crm'\", \" 'fb'\", \"'dbx'\", \"'cybn'\", \" 'mgnx'\"}\n",
      "common_elements [List 2,3]: 213\n",
      "common_elements: {\" 'sui'\", \" 'roku'\", \" 'sono'\", \" 'etsy'\", \"'bhc'\", \" 'amrn'\", \" 'nke'\", \" 'wday'\", \" 'mkc'\", \" 'f'\", \" 'yten'\", \" 'aep'\", \" 'pcg'\", \" 'auph'\", \" 'fl'\", \" 'cat'\", \" 'cboe'\", \" 'skx'\", \" 'fr'\", \"'sndl'\", \" 'alny'\", \" 'shop'\", \" 'aapl'\", \" 'nvax'\", \" 'cron'\", \" 'ccxi'\", \" 'tsm'\", \" 'bb'\", \" 'mmm'\", \" 'mirm'\", \"'snap'\", \" 'v'\", \" 'clne'\", \" 'twtr'\", \" 'dis'\", \"'dkng'\", \" 'erie'\", \" 't'\", \" 'vlta'\", \" 'jpm'\", \" 'ko'\", \"'dal'\", \"'hrtx'\", \" 'uaa'\", \"'clov'\", \" 'crsr'\", \" 'fgen'\", \" 'csco'\", \" 'grpn'\", \" 'acb'\", \" 'ma'\", \"'pep'\", \" 'cnce'\", \" 'uavs'\", \"'adbe'\", \" 'gold'\", \" 'emp'\", \" 'ayx'\", \" 'docu'\", \" 'lamr'\", \" 'sq'\", \"'x'\", \" 'psnl'\", \" 'itt'\", \" 'stz'\", \" 'gt'\", \" 'tmdx'\", \" 'pnw'\", \" 'lulu'\", \" 'ebr'\", \"'abnb'\", \" 'optt'\", \" 'amrx'\", \" 'cern'\", \" 'amzn'\", \" 'celh'\", \" 'twlo'\", \" 'cdxc'\", \" 'amat'\", \" 'll'\", \" 'grub'\", \"'crsr'\", \" 'psa'\", \" 'googl'\", \" 'msft'\", \" 'wcn'\", \"'azn'\", \" 'fdx'\", \"'nvda'\", \" 'mux'\", \" 'eric'\", \" 'zim'\", \" 'dal'\", \" 'upst'\", \" 'sdc'\", \" 'grnq'\", \" 'tdup'\", \"'ba'\", \" 'ed'\", \" 'wfc'\", \" 'crm'\", \" 'mlco'\", \" 'umpq'\", \" 'gil'\", \" 'o'\", \" 'bldp'\", \"'crwd'\", \" 'pgen'\", \" 'mu'\", \" 'rng'\", \" 'baba'\", \" 'eprt'\", \" 'bill'\", \" 'hun'\", \" 'morf'\", \" 'amc'\", \" 'nflx'\", \"'gold'\", \"'wmt'\", \" 'mara'\", \" 'dks'\", \" 'ba'\", \" 'kpti'\", \" 'slrx'\", \" 'bynd'\", \"'gme'\", \" 'khc'\", \" 'cvac'\", \" 'band'\", \" 'kndi'\", \" 'si'\", \" 'dmtk'\", \"'etsy'\", \" 'ual'\", \" 'pfe'\", \" 'gme'\", \" 'amd'\", \" 'imax'\", \" 'jmia'\", \" 'sqm'\", \" 'vmc'\", \" 'spt'\", \" 'grbk'\", \" 'rvp'\", \" 'wyy'\", \" 'lw'\", \" 'apo'\", \" 'ab'\", \"'ttd'\", \"'luv'\", \" 'cnc'\", \" 'ccl'\", \" 'txn'\", \" 'spce'\", \" 'peak'\", \" 'adc'\", \" 'bbig'\", \"'sq'\", \" 'nsa'\", \" 'tjx'\", \" 'peg'\", \" 'bkng'\", \"'amzn'\", \" 'phm'\", \" 'riot'\", \" 'tmus'\", \"'tsla'\", \" 'cah'\", \" 'cdw'\", \" 'pltr'\", \" 'cor'\", \"'aapl'\", \" 'intc'\", \" 'bepc'\", \" 'hlt'\", \" 'lea'\", \" 'tsla'\", \" 'atnx'\", \" 'eqt'\", \"'nvax'\", \" 'chpt'\", \" 'btg'\", \" 'qcom'\", \" 'wmt'\", \" 'coin'\", \" 'big'\", \" 'xom'\", \" 'edu'\", \" 'pzg'\", \" 'mtor'\", \" 'viac'\", \" 'kref'\", \" 'nep'\", \" 'bntx'\", \" 'mrna'\", \" 'nvda'\", \"'bbig'\", \" 'dre'\", \"'gsmg'\", \" 'prta'\", \" 'mdc'\", \" 'luv'\", \" 'vrsn'\", \" 'ea'\", \" 'bgs'\", \" 'nio'\", \" 'ptgx'\", \"'fb'\", \"'crm'\", \" 'fb'\", \"'dbx'\", \"'cybn'\", \" 'mgnx'\"}\n",
      "common_elements [List 1,2,3]: 171\n",
      "common_elements: {\" 'roku'\", \" 'sono'\", \" 'etsy'\", \" 'amrn'\", \" 'nke'\", \" 'wday'\", \" 'mkc'\", \" 'f'\", \" 'aep'\", \" 'pcg'\", \" 'auph'\", \" 'cat'\", \" 'cboe'\", \" 'skx'\", \" 'fr'\", \"'sndl'\", \" 'shop'\", \" 'aapl'\", \" 'nvax'\", \" 'cron'\", \" 'ccxi'\", \" 'tsm'\", \" 'bb'\", \" 'mmm'\", \" 'mirm'\", \"'snap'\", \" 'v'\", \" 'clne'\", \" 'twtr'\", \" 'dis'\", \"'dkng'\", \" 't'\", \" 'vlta'\", \" 'jpm'\", \" 'ko'\", \"'dal'\", \"'hrtx'\", \" 'uaa'\", \"'clov'\", \" 'crsr'\", \" 'fgen'\", \" 'csco'\", \" 'grpn'\", \" 'acb'\", \" 'ma'\", \"'pep'\", \" 'cnce'\", \"'adbe'\", \" 'gold'\", \" 'ayx'\", \" 'docu'\", \" 'lamr'\", \" 'sq'\", \"'x'\", \" 'stz'\", \" 'gt'\", \" 'tmdx'\", \" 'lulu'\", \"'abnb'\", \" 'amzn'\", \" 'celh'\", \" 'twlo'\", \" 'amat'\", \" 'll'\", \" 'grub'\", \"'crsr'\", \" 'googl'\", \" 'msft'\", \" 'wcn'\", \"'azn'\", \" 'fdx'\", \"'nvda'\", \" 'eric'\", \" 'zim'\", \" 'dal'\", \" 'upst'\", \" 'sdc'\", \" 'tdup'\", \"'ba'\", \" 'wfc'\", \" 'crm'\", \" 'mlco'\", \" 'umpq'\", \" 'gil'\", \" 'bldp'\", \"'crwd'\", \" 'pgen'\", \" 'mu'\", \" 'rng'\", \" 'baba'\", \" 'eprt'\", \" 'bill'\", \" 'hun'\", \" 'amc'\", \" 'nflx'\", \"'gold'\", \"'wmt'\", \" 'mara'\", \" 'dks'\", \" 'ba'\", \" 'bynd'\", \"'gme'\", \" 'khc'\", \" 'cvac'\", \" 'band'\", \" 'kndi'\", \" 'si'\", \" 'dmtk'\", \"'etsy'\", \" 'ual'\", \" 'pfe'\", \" 'gme'\", \" 'amd'\", \" 'imax'\", \" 'jmia'\", \" 'sqm'\", \" 'vmc'\", \" 'lw'\", \" 'apo'\", \" 'ab'\", \"'ttd'\", \"'luv'\", \" 'cnc'\", \" 'ccl'\", \" 'txn'\", \" 'spce'\", \" 'bbig'\", \"'sq'\", \" 'nsa'\", \" 'tjx'\", \" 'peg'\", \" 'bkng'\", \"'amzn'\", \" 'phm'\", \" 'riot'\", \" 'tmus'\", \"'tsla'\", \" 'cah'\", \" 'cdw'\", \" 'pltr'\", \"'aapl'\", \" 'intc'\", \" 'hlt'\", \" 'lea'\", \" 'tsla'\", \" 'eqt'\", \"'nvax'\", \" 'chpt'\", \" 'qcom'\", \" 'wmt'\", \" 'coin'\", \" 'big'\", \" 'xom'\", \" 'edu'\", \" 'mtor'\", \" 'viac'\", \" 'nep'\", \" 'bntx'\", \" 'mrna'\", \" 'nvda'\", \"'bbig'\", \" 'luv'\", \" 'ea'\", \" 'bgs'\", \" 'nio'\", \"'fb'\", \"'crm'\", \" 'fb'\", \"'dbx'\", \"'cybn'\", \" 'mgnx'\"}\n"
     ]
    }
   ],
   "source": [
    "common_tickers(wsb['tickers_'],stocks['tickers_'],investing['tickers_'])"
   ]
  },
  {
   "cell_type": "code",
   "execution_count": 82,
   "metadata": {
    "colab": {
     "base_uri": "https://localhost:8080/"
    },
    "id": "86Qwmfa5AcIS",
    "outputId": "5202dbcd-a34c-4ac5-9244-a4947ebca8da"
   },
   "outputs": [
    {
     "name": "stdout",
     "output_type": "stream",
     "text": [
      "Elements in List 1: 1132\n",
      "Elements in List 2: 6520\n",
      "common_elements [List 1,2]: 358\n",
      "common_elements: {\"'upld'\", \"'seas'\", \" 'roku'\", \" 'sono'\", \" 'nke'\", \"'ride'\", \" 'aeo'\", \" 'pcg'\", \"'crox'\", \" 'm'\", \"'jd'\", \"'gild'\", \"'twlo'\", \" 'sldb'\", \" 'tlry'\", \"'mu'\", \" 'hpe'\", \"'play'\", \"'pep'\", \" 'ayx'\", \" 'sq'\", \" 'uber'\", \"'pfe'\", \" 'ally'\", \" 'veev'\", \"'amd'\", \"'siga'\", \"'bam'\", \"'twtr'\", \" 'grub'\", \"'aal'\", \"'cris'\", \" 'gm'\", \" 'pypl'\", \" 'blct'\", \"'ba'\", \" 'wfc'\", \" 'crm'\", \"'cmg'\", \"'lvs'\", \" 'plnt'\", \"'ostk'\", \" 'li'\", \" 'psth'\", \" 'rcl'\", \"'hmc'\", \" 'khc'\", \"'pcg'\", \"'holx'\", \"'hal'\", \" 'enph'\", \" 'cag'\", \" 'ccl'\", \"'pton'\", \" 'cvs'\", \"'amat'\", \" 'avgr'\", \" 'xpev'\", \" 'a'\", \"'mcd'\", \" 'gh'\", \"'pins'\", \" 'ttd'\", \" 'tho'\", \"'goog'\", \" 'clx'\", \" 'urbn'\", \" 'ilmn'\", \"'kr'\", \"'cgc'\", \" 'gis'\", \" 'dkng'\", \"'cei'\", \" 'splk'\", \" 'yy'\", \" 'hd'\", \" 'ci'\", \"'bbw'\", \" 'x'\", \" 'etsy'\", \" 'wynn'\", \" 'yum'\", \" 'cof'\", \" 'aapl'\", \"'expr'\", \" 'w'\", \" 'cost'\", \" 'dbx'\", \"'trip'\", \"'snap'\", \" 'v'\", \"'atvi'\", \"'dkng'\", \"'jnj'\", \" 't'\", \" 'unh'\", \" 'acb'\", \"'x'\", \" 's'\", \" 'fnv'\", \"'fsr'\", \"'jpm'\", \" 'rdhl'\", \"'czr'\", \" 'amzn'\", \"'six'\", \" 'fizz'\", \" 'll'\", \"'f'\", \" 'mtch'\", \"'lulu'\", \" 'fdx'\", \" 'swbi'\", \"'lmt'\", \" 'cmg'\", \"'ups'\", \" 'u'\", \"'ccl'\", \" 'db'\", \"'gold'\", \"'wmt'\", \"'gme'\", \" 'band'\", \"'etsy'\", \" 'gme'\", \"'msft'\", \" 'mt'\", \"'bbby'\", \"'spaq'\", \" 'sbux'\", \" 'aqms'\", \"'dell'\", \" 'mo'\", \" 'bby'\", \" 'pton'\", \"'ll'\", \"'cost'\", \" 'oxy'\", \"'tgt'\", \"'amzn'\", \" 'et'\", \" 'cvna'\", \"'mgm'\", \"'zm'\", \" 'intc'\", \"'nvax'\", \" 'fivn'\", \"'mo'\", \"'spce'\", \"'spg'\", \" 'bili'\", \"'yumc'\", \"'nio'\", \"'sfix'\", \" 'xom'\", \"'fslr'\", \" 'dxcm'\", \" 'nkla'\", \" 'snow'\", \"'vale'\", \"'t'\", \"'fvrr'\", \"'plug'\", \" 'mrna'\", \" 'ea'\", \" 'ua'\", \"'net'\", \"'fb'\", \" 'pins'\", \"'ufpi'\", \"'dis'\", \" 'bidu'\", \" 'qsr'\", \" 'nvta'\", \" 'goog'\", \"'teva'\", \"'baba'\", \" 'apt'\", \" 'tgt'\", \" 'coop'\", \"'we'\", \" 'pep'\", \" 'crsp'\", \" 'cat'\", \" 'shop'\", \"'apt'\", \" 'are'\", \" 'chgg'\", \"'bby'\", \" 'ms'\", \" 'rost'\", \" 'tsm'\", \"'mck'\", \" 'twtr'\", \"'sbux'\", \" 'jpm'\", \" 'ko'\", \" 'ds'\", \"'htz'\", \" 'glw'\", \" 'csco'\", \"'ino'\", \"'mrna'\", \" 'spot'\", \" 'jd'\", \" 'snap'\", \" 'noc'\", \" 'docu'\", \" 'levi'\", \" 'codx'\", \"'kdp'\", \" 'lulu'\", \"'abnb'\", \"'tmus'\", \" 'appn'\", \"'bigc'\", \"'uber'\", \"'pltr'\", \"'xpev'\", \" 'spg'\", \" 'googl'\", \" 'zuo'\", \" 'play'\", \" 'twnk'\", \"'jci'\", \" 'low'\", \"'bynd'\", \" 'hubs'\", \"'crwd'\", \" 'dltr'\", \" 'dow'\", \"'itci'\", \" 'ba'\", \" 'biib'\", \"'huya'\", \" 'rad'\", \" 'solo'\", \"'mrk'\", \" 'zg'\", \" 'ge'\", \" 'spce'\", \"'ulta'\", \"'shop'\", \"'lumn'\", \" 'znga'\", \" 'aci'\", \" 'tmus'\", \" 'riot'\", \"'tsla'\", \"'aapl'\", \"'nclh'\", \" 'maxr'\", \" 'wing'\", \"'sun'\", \" 'stm'\", \"'msci'\", \"'bac'\", \" 'wmt'\", \"'c'\", \" 'nvda'\", \" 'api'\", \" 'abt'\", \" 'nio'\", \"'tsm'\", \"'cvm'\", \" 'zi'\", \" 'fb'\", \" 'www'\", \"'xom'\", \" 'zm'\", \" 'bj'\", \" 'amrn'\", \" 'f'\", \"'pg'\", \" 'vygr'\", \" 'fcel'\", \"'snow'\", \"'cnhi'\", \"'docu'\", \" 'al'\", \" 'dis'\", \"'ko'\", \"'hrtx'\", \" 'uaa'\", \"'amc'\", \"'lpi'\", \"'nyt'\", \"'nkla'\", \" 'atvi'\", \"'cpb'\", \" 'bac'\", \" 'ccrn'\", \" 'twou'\", \" 'ino'\", \" 'sdgr'\", \" 'aal'\", \" 'dg'\", \" 'fsly'\", \"'gis'\", \" 'msft'\", \" 'rev'\", \"'nke'\", \"'intc'\", \" 'abbv'\", \" 'mro'\", \"'fsly'\", \" 'mu'\", \" 'baba'\", \" 'amc'\", \" 'nflx'\", \" 'nok'\", \"'dfs'\", \" 'bynd'\", \" 'mgm'\", \" 'dpz'\", \" 'cgc'\", \" 'prpl'\", \" 'ocn'\", \" 'pfe'\", \" 'amd'\", \" 'bbby'\", \" 'eng'\", \"'aep'\", \" 'rgld'\", \"'wwe'\", \" 'jblu'\", \"'vtiqu'\", \" 'de'\", \"'ms'\", \"'bx'\", \" 'adbe'\", \" 'tal'\", \"'tls'\", \"'lyft'\", \" 'czr'\", \" 'gild'\", \"'sq'\", \" 'pltr'\", \"'glsi'\", \" 'nxpi'\", \" 'tsla'\", \"'dd'\", \" 'hpq'\", \" 'mcd'\", \"'w'\", \" 'hon'\", \" 'gs'\", \"'bb'\", \" 'cb'\", \"'vrns'\", \" 'luv'\", \"'ally'\", \"'see'\", \" 'glu'\", \"'rkt'\", \" 'axp'\", \"'khc'\", \" 'pm'\"}\n"
     ]
    }
   ],
   "source": [
    "common_tickers(wsb_pre['tickers_'],wsb_post['tickers_'])"
   ]
  },
  {
   "cell_type": "code",
   "execution_count": 83,
   "metadata": {
    "colab": {
     "base_uri": "https://localhost:8080/"
    },
    "id": "gsB8GpAPCnmx",
    "outputId": "1dc50ea8-d769-44f2-e113-96be1e4e17ca"
   },
   "outputs": [
    {
     "name": "stdout",
     "output_type": "stream",
     "text": [
      "Elements in List 1: 179\n",
      "Elements in List 2: 1236\n",
      "common_elements [List 1,2]: 105\n",
      "common_elements: {\" 'etsy'\", \" 'wday'\", \" 'f'\", \" 'be'\", \"'zom'\", \" 'skx'\", \" 'crwd'\", \" 'shop'\", \" 'aapl'\", \"'acb'\", \" 'cost'\", \" 'sldb'\", \" 'se'\", \" 'chek'\", \" 'tdoc'\", \" 'wmg'\", \"'dkng'\", \" 'cocp'\", \" 'visl'\", \" 't'\", \" 'jpm'\", \"'dal'\", \"'hrtx'\", \" 'csco'\", \" 'bigc'\", \"'viac'\", \" 'gold'\", \" 'jd'\", \" 'ayx'\", \" 'sq'\", \" 'bac'\", \"'x'\", \" 'well'\", \" 'whr'\", \"'d'\", \" 'ino'\", \" 'bud'\", \"'four'\", \" 'bio'\", \"'ship'\", \" 'run'\", \" 'msft'\", \" 'sava'\", \" 'dgly'\", \"'nvda'\", \" 'swbi'\", \" 'pypl'\", \" 'sdc'\", \" 'ttnp'\", \" 'crm'\", \"'syy'\", \" 'bkyi'\", \" 'o'\", \" 'sint'\", \"'gold'\", \"'wmt'\", \" 'ba'\", \" 'plug'\", \" 'bynd'\", \"'wkhs'\", \"'msft'\", \" 'pd'\", \"'hal'\", \" 'ge'\", \" 'irm'\", \"'idex'\", \"'luv'\", \" 'spce'\", \" 'ccl'\", \"'zs'\", \" 'lh'\", \" 'apog'\", \" 'cvs'\", \" 'avgr'\", \"'sq'\", \" 'phm'\", \"'tsla'\", \" 'cvna'\", \"'mgm'\", \"'aapl'\", \" 'tsla'\", \" 'tnxp'\", \" 'lca'\", \"'spce'\", \" 'mcd'\", \" 'wmt'\", \"'nio'\", \" 'vtiq'\", \" 'big'\", \" 'lrn'\", \"'fami'\", \" 'nkla'\", \"'bb'\", \" 'aytu'\", \" 'fang'\", \" 'mrna'\", \" 'nvda'\", \" 'dkng'\", \" 'penn'\", \"'net'\", \" 'nio'\", \"'fb'\", \" 'fb'\", \" 'pins'\", \"'dis'\"}\n"
     ]
    }
   ],
   "source": [
    "common_tickers(stocks_pre['tickers_'],stocks_post['tickers_'])"
   ]
  },
  {
   "cell_type": "code",
   "execution_count": 84,
   "metadata": {
    "colab": {
     "base_uri": "https://localhost:8080/"
    },
    "id": "OgzuxRt8Cntl",
    "outputId": "a960cc18-eeb1-4e16-912f-687dc4d37a95"
   },
   "outputs": [
    {
     "name": "stdout",
     "output_type": "stream",
     "text": [
      "Elements in List 1: 140\n",
      "Elements in List 2: 243\n",
      "common_elements [List 1,2]: 42\n",
      "common_elements: {\"'wmt'\", \"'cers'\", \" 'anat'\", \" 'gold'\", \"'ge'\", \" 'noc'\", \" 'bynd'\", \" 'tsla'\", \" 'lea'\", \" 'khc'\", \"'pfe'\", \" 'awk'\", \" 'gure'\", \" 'f'\", \" 'amzn'\", \" 'cat'\", \"'pm'\", \"'uber'\", \"'virt'\", \"'abbv'\", \" 'msft'\", \" 'aapl'\", \" 'apo'\", \" 'mo'\", \"'luv'\", \" 'itci'\", \" 'spce'\", \" 'ccl'\", \" 'dis'\", \"'nnox'\", \" 'wab'\", \" 'crm'\", \" 'adt'\", \" 'jpm'\", \" 'ko'\", \"'hrtx'\", \"'sq'\", \" 'gild'\", \" 'baba'\", \"'tsla'\", \" 'nflx'\", \"'all'\"}\n"
     ]
    }
   ],
   "source": [
    "common_tickers(investing_pre['tickers_'],investing_post['tickers_'])"
   ]
  },
  {
   "cell_type": "code",
   "execution_count": 64,
   "metadata": {
    "colab": {
     "base_uri": "https://localhost:8080/"
    },
    "id": "jkJSzkgb4krr",
    "outputId": "3d9fcbaa-9d4c-41de-ffa4-cc86ba23a1a4"
   },
   "outputs": [
    {
     "name": "stdout",
     "output_type": "stream",
     "text": [
      "WSB_Pre-hype_tickers: [(\"'tsla'\", 104), (\"'spce'\", 50), (\"'bynd'\", 27), (\"'msft'\", 27), (\"'dis'\", 22), (\"'pltr'\", 22), (\"'nio'\", 21), (\"'ba'\", 21), (\"'amzn'\", 20), (\"'aapl'\", 20), (\"'amd'\", 19), (\"'snap'\", 15), (\"'zm'\", 14), (\"'nkla'\", 13), (\"'fb'\", 12), (\"'baba'\", 12), (\"'pton'\", 11), (\"'uber'\", 10), (\"'gme'\", 10), (\"'lulu'\", 10), (\"'mu'\", 10), (\"'sbux'\", 9), (\"'gild'\", 9), (\"'roku'\", 8), (\"'bac'\", 8), (\"'cgc'\", 8), (\"'atvi'\", 8), (\"'sq'\", 8), (\"'ino'\", 8), (\"'bbby'\", 8), (\"'fsly'\", 7), (\"'cost'\", 7), (\"'goog'\", 6), (\"'nvda'\", 6), (\"'tgt'\", 6), (\"'ge'\", 6), (\"'lyft'\", 6), (\"'shop'\", 5), (\"'pcg'\", 5), (\"'mo'\", 5), (\"'tlry'\", 5), (\"'mcd'\", 5), (\"'twtr'\", 5), (\"'f'\", 5), (\"'acb'\", 5), (\"'nke'\", 5), (\"'mrna'\", 5), (\"'gm'\", 5), (\"'crm'\", 5), (\"'ulta'\", 5)]\n",
      "WSB_Post-hype_tickers: [(\"'gme'\", 805), (\"'amc'\", 342), (\"'bb'\", 296), (\"'tsla'\", 247), (\"'pltr'\", 211), (\"'wish'\", 148), (\"'clov'\", 146), (\"'nok'\", 137), (\"'spce'\", 132), (\"'nio'\", 73), (\"'rkt'\", 69), (\"'baba'\", 66), (\"'aapl'\", 58), (\"'amd'\", 57), (\"'amzn'\", 51), (\"'wkhs'\", 50), (\"'sndl'\", 47), (\"'tlry'\", 46), (\"'uwmc'\", 46), (\"'clne'\", 44), (\"'msft'\", 41), (\"'sdc'\", 40), (\"'crsr'\", 38), (\"'mvis'\", 38), (\"'clf'\", 36), (\"'sofi'\", 34), (\"'f'\", 33), (\"'fb'\", 33), (\"'nkla'\", 33), (\"'hood'\", 33), (\"'bbby'\", 30), (\"'dis'\", 29), (\"'zm'\", 27), (\"'ba'\", 26), (\"'nvda'\", 25), (\"'goev'\", 24), (\"'dkng'\", 23), (\"'root'\", 23), (\"'rblx'\", 23), (\"'ride'\", 22), (\"'fubo'\", 22), (\"'mt'\", 22), (\"'irnt'\", 22), (\"'bynd'\", 20), (\"'pton'\", 20), (\"'snap'\", 20), (\"'riot'\", 19), (\"'ocgn'\", 19), (\"'x'\", 19), (\"'sklz'\", 19)]\n"
     ]
    }
   ],
   "source": [
    "#WSB\n",
    "print('WSB_Pre-hype_tickers:',count_freq(wsb_pre['tickers_'])[:50])\n",
    "print('WSB_Post-hype_tickers:',count_freq(wsb_post['tickers_'])[:50])"
   ]
  },
  {
   "cell_type": "code",
   "execution_count": 67,
   "metadata": {
    "colab": {
     "base_uri": "https://localhost:8080/"
    },
    "id": "Lmz366sj6kaq",
    "outputId": "cf8ab0eb-2d9b-46f0-d67f-95d9463c7dc7"
   },
   "outputs": [
    {
     "name": "stdout",
     "output_type": "stream",
     "text": [
      "WSB_DD_tickers: [(\"'gme'\", 445), (\"'tsla'\", 250), (\"'amc'\", 212), (\"'bb'\", 176), (\"'spce'\", 129), (\"'pltr'\", 126), (\"'wish'\", 103), (\"'clov'\", 102), (\"'nok'\", 87), (\"'msft'\", 60), (\"'aapl'\", 59), (\"'amzn'\", 55), (\"'nio'\", 55), (\"'baba'\", 55), (\"'dis'\", 53), (\"'amd'\", 53), (\"'bynd'\", 47), (\"'rkt'\", 47), (\"'ba'\", 40), (\"'snap'\", 40), (\"'wkhs'\", 37), (\"'tlry'\", 36), (\"'clne'\", 33), (\"'sndl'\", 32), (\"'clf'\", 31), (\"'zm'\", 31), (\"'sdc'\", 30), (\"'fb'\", 30), (\"'f'\", 28), (\"'uwmc'\", 28), (\"'nkla'\", 27), (\"'pton'\", 27), (\"'bbby'\", 26), (\"'crsr'\", 26), (\"'nvda'\", 24), (\"'dkng'\", 23), (\"'root'\", 22), (\"'acb'\", 21), (\"'goev'\", 21), (\"'hood'\", 20), (\"'sofi'\", 20), (\"'x'\", 19), (\"'lulu'\", 19), (\"'sq'\", 19), (\"'ino'\", 19), (\"'atvi'\", 19), (\"'mvis'\", 19), (\"'irnt'\", 19), (\"'mrna'\", 19), (\"'roku'\", 18)]\n"
     ]
    }
   ],
   "source": [
    "print('WSB_DD_tickers:',count_freq(wsb_dd['tickers_'])[:50])"
   ]
  },
  {
   "cell_type": "code",
   "execution_count": 65,
   "metadata": {
    "colab": {
     "base_uri": "https://localhost:8080/"
    },
    "id": "KLNKLAYs4o-y",
    "outputId": "35daa0c1-a493-4979-a378-e00195bb7a87"
   },
   "outputs": [
    {
     "name": "stdout",
     "output_type": "stream",
     "text": [
      "Stocks_Pre-hype_tickers: [(\"'tsla'\", 9), (\"'msft'\", 4), (\"'dkng'\", 3), (\"'sq'\", 3), (\"'dis'\", 3), (\"'aapl'\", 3), (\"'nvda'\", 3), (\"'spce'\", 3), (\"'net'\", 2), (\"'vtiq'\", 2), (\"'ba'\", 2), (\"'fb'\", 2), (\"'gold'\", 2), (\"'acb'\", 2), (\"'wkhs'\", 2), (\"'ge'\", 2), (\"'nkla'\", 2), (\"'nio'\", 2), (\"'jpm'\", 2), (\"'wmt'\", 2), (\"'csco'\", 2), (\"'mrna'\", 2), (\"'zom'\", 1), (\"'visl'\", 1), (\"'hexo'\", 1), (\"'dal'\", 1), (\"'mgm'\", 1), (\"'fang'\", 1), (\"'dgly'\", 1), (\"'sint'\", 1), (\"'pypl'\", 1), (\"'bset'\", 1), (\"'bigc'\", 1), (\"'ai'\", 1), (\"'big'\", 1), (\"'mcd'\", 1), (\"'cwh'\", 1), (\"'cvna'\", 1), (\"'hbi'\", 1), (\"'cvgi'\", 1), (\"'xpo'\", 1), (\"'crm'\", 1), (\"'dg'\", 1), (\"'penn'\", 1), (\"'lstr'\", 1), (\"'dell'\", 1), (\"'tdoc'\", 1), (\"'phm'\", 1), (\"'momo'\", 1), (\"'skx'\", 1)]\n",
      "Stocks_Post-hype_tickers: [(\"'tsla'\", 21), (\"'gme'\", 14), (\"'msft'\", 12), (\"'net'\", 12), (\"'dkng'\", 11), (\"'aapl'\", 11), (\"'nio'\", 11), (\"'spce'\", 9), (\"'bb'\", 8), (\"'fb'\", 8), (\"'baba'\", 8), (\"'amc'\", 7), (\"'intc'\", 7), (\"'sq'\", 7), (\"'rkt'\", 7), (\"'amd'\", 6), (\"'acb'\", 6), (\"'amzn'\", 6), (\"'bbig'\", 5), (\"'crwd'\", 5), (\"'pypl'\", 5), (\"'crsr'\", 5), (\"'enph'\", 5), (\"'nok'\", 5), (\"'snow'\", 5), (\"'jpm'\", 5), (\"'plug'\", 5), (\"'cost'\", 4), (\"'dis'\", 4), (\"'shop'\", 4), (\"'coin'\", 4), (\"'mrna'\", 4), (\"'tlry'\", 4), (\"'ccl'\", 4), (\"'ge'\", 4), (\"'crm'\", 4), (\"'nkla'\", 4), (\"'nvda'\", 4), (\"'wmt'\", 4), (\"'ko'\", 4), (\"'x'\", 4), (\"'fsly'\", 4), (\"'etsy'\", 4), (\"'v'\", 4), (\"'abbv'\", 4), (\"'fdx'\", 3), (\"'pton'\", 3), (\"'nat'\", 3), (\"'ba'\", 3), (\"'aht'\", 3)]\n"
     ]
    }
   ],
   "source": [
    "#stocks\n",
    "print('Stocks_Pre-hype_tickers:',count_freq(stocks_pre['tickers_'])[:50])\n",
    "print('Stocks_Post-hype_tickers:',count_freq(stocks_post['tickers_'])[:50])"
   ]
  },
  {
   "cell_type": "code",
   "execution_count": 66,
   "metadata": {
    "colab": {
     "base_uri": "https://localhost:8080/"
    },
    "id": "2ERWafBv6A43",
    "outputId": "eb47e233-e4a0-445d-f4a5-62026a4cb991"
   },
   "outputs": [
    {
     "name": "stdout",
     "output_type": "stream",
     "text": [
      "investing_Pre-hype_tickers: [(\"'tsla'\", 7), (\"'amzn'\", 3), (\"'qcom'\", 3), (\"'jpm'\", 3), (\"'ba'\", 3), (\"'nflx'\", 3), (\"'wmt'\", 2), (\"'shop'\", 2), (\"'sq'\", 2), (\"'csco'\", 2), (\"'fb'\", 2), (\"'nvda'\", 2), (\"'t'\", 2), (\"'aapl'\", 2), (\"'dis'\", 2), (\"'googl'\", 2), (\"'bynd'\", 2), (\"'uber'\", 2), (\"'tgt'\", 1), (\"'htz'\", 1), (\"'cers'\", 1), (\"'apo'\", 1), (\"'adt'\", 1), (\"'awk'\", 1), (\"'noc'\", 1), (\"'ge'\", 1), (\"'wab'\", 1), (\"'dbx'\", 1), (\"'spce'\", 1), (\"'x'\", 1), (\"'ptn'\", 1), (\"'jmia'\", 1), (\"'wynn'\", 1), (\"'amat'\", 1), (\"'alb'\", 1), (\"'sqm'\", 1), (\"'pm'\", 1), (\"'mo'\", 1), (\"'gild'\", 1), (\"'hasi'\", 1), (\"'mkc'\", 1), (\"'iq'\", 1), (\"'wkhs'\", 1), (\"'uavs'\", 1), (\"'all'\", 1), (\"'gure'\", 1), (\"'anat'\", 1), (\"'lea'\", 1), (\"'luv'\", 1), (\"'abbv'\", 1)]\n",
      "investing_Post-hype_tickers: [(\"'tsla'\", 9), (\"'gme'\", 5), (\"'amzn'\", 4), (\"'kulr'\", 3), (\"'bbig'\", 3), (\"'mara'\", 2), (\"'riot'\", 2), (\"'nvax'\", 2), (\"'sq'\", 2), (\"'bb'\", 2), (\"'luv'\", 2), (\"'jpm'\", 2), (\"'aapl'\", 2), (\"'sndl'\", 2), (\"'amc'\", 2), (\"'etsy'\", 2), (\"'uber'\", 2), (\"'gold'\", 2), (\"'pfe'\", 2), (\"'y'\", 1), (\"'muds'\", 1), (\"'celh'\", 1), (\"'mrna'\", 1), (\"'upst'\", 1), (\"'bntx'\", 1), (\"'tmdx'\", 1), (\"'futu'\", 1), (\"'dmtk'\", 1), (\"'si'\", 1), (\"'tigr'\", 1), (\"'fdx'\", 1), (\"'vzio'\", 1), (\"'coin'\", 1), (\"'nflx'\", 1), (\"'zim'\", 1), (\"'snow'\", 1), (\"'cvs'\", 1), (\"'baba'\", 1), (\"'cers'\", 1), (\"'crwd'\", 1), (\"'clov'\", 1), (\"'gab'\", 1), (\"'wbt'\", 1), (\"'rbb'\", 1), (\"'gdp'\", 1), (\"'cim'\", 1), (\"'pb'\", 1), (\"'slrx'\", 1), (\"'chef'\", 1), (\"'yten'\", 1)]\n"
     ]
    }
   ],
   "source": [
    "#investing\n",
    "print('investing_Pre-hype_tickers:',count_freq(investing_pre['tickers_'])[:50])\n",
    "print('investing_Post-hype_tickers:',count_freq(investing_post['tickers_'])[:50])"
   ]
  }
 ],
 "metadata": {
  "colab": {
   "collapsed_sections": [
    "wHNRmrhdGyCB"
   ],
   "name": "User-based analysis_part-3.ipynb",
   "provenance": []
  },
  "kernelspec": {
   "display_name": "Python 3",
   "language": "python",
   "name": "python3"
  },
  "language_info": {
   "codemirror_mode": {
    "name": "ipython",
    "version": 3
   },
   "file_extension": ".py",
   "mimetype": "text/x-python",
   "name": "python",
   "nbconvert_exporter": "python",
   "pygments_lexer": "ipython3",
   "version": "3.7.4"
  }
 },
 "nbformat": 4,
 "nbformat_minor": 4
}
