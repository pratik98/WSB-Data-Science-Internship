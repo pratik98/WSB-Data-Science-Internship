{
 "cells": [
  {
   "cell_type": "code",
   "execution_count": 1,
   "metadata": {},
   "outputs": [],
   "source": [
    "%%capture\n",
    "from datetime import datetime\n",
    "import matplotlib\n",
    "matplotlib.use('Agg')\n",
    "import matplotlib.pyplot as plt\n",
    "import numpy as np\n",
    "import pandas as pd\n",
    "import json\n",
    "from io import StringIO\n",
    "from sklearn.feature_extraction.text import TfidfVectorizer\n",
    "from sklearn.feature_selection import chi2\n",
    "\n",
    "from sklearn.model_selection import train_test_split\n",
    "from sklearn.feature_extraction.text import CountVectorizer\n",
    "from sklearn.feature_extraction.text import TfidfTransformer\n",
    "from sklearn.naive_bayes import MultinomialNB\n",
    "\n",
    "from sklearn.linear_model import LogisticRegression\n",
    "from sklearn.ensemble import RandomForestClassifier\n",
    "from sklearn.svm import LinearSVC\n",
    "from sklearn.model_selection import cross_val_score\n",
    "from sklearn.metrics import confusion_matrix\n",
    "import seaborn as sns\n",
    "from IPython.display import display\n",
    "from sklearn import metrics\n",
    "plt.rcParams.update({\"font.size\": 12})\n",
    "%matplotlib inline"
   ]
  },
  {
   "cell_type": "code",
   "execution_count": 2,
   "metadata": {},
   "outputs": [],
   "source": [
    "wsb_users_data = pd.read_csv(\"data/WSB_data_with_emb.csv\",sep=';', usecols = ['title','selftext'], low_memory = True)\n",
    "stocks_users_data= pd.read_csv(\"stocks/data/stocks_submissions_all.csv\",sep=';', usecols = ['title','selftext'], low_memory = True)\n",
    "investing_users_data= pd.read_csv(\"investing/data/investing_submissions_all.csv\",sep=';', usecols = ['title','selftext'], low_memory = True)"
   ]
  },
  {
   "cell_type": "code",
   "execution_count": 3,
   "metadata": {},
   "outputs": [],
   "source": [
    "# Create new column denoting class label and combine into one df\n",
    "wsb_users_data['sub'] = 'wsb'\n",
    "stocks_users_data['sub'] = 'stocks'\n",
    "investing_users_data['sub'] = 'investing'"
   ]
  },
  {
   "cell_type": "code",
   "execution_count": 4,
   "metadata": {},
   "outputs": [],
   "source": [
    "wsb_common_users_data = wsb_users_data[['title','selftext','sub']]"
   ]
  },
  {
   "cell_type": "code",
   "execution_count": 5,
   "metadata": {},
   "outputs": [],
   "source": [
    "stocks_common_users_data = stocks_users_data[['title','selftext','sub']]"
   ]
  },
  {
   "cell_type": "code",
   "execution_count": 6,
   "metadata": {},
   "outputs": [],
   "source": [
    "investing_common_users_data = investing_users_data[['title','selftext','sub']]"
   ]
  },
  {
   "cell_type": "code",
   "execution_count": 7,
   "metadata": {},
   "outputs": [
    {
     "data": {
      "text/html": [
       "<div>\n",
       "<style scoped>\n",
       "    .dataframe tbody tr th:only-of-type {\n",
       "        vertical-align: middle;\n",
       "    }\n",
       "\n",
       "    .dataframe tbody tr th {\n",
       "        vertical-align: top;\n",
       "    }\n",
       "\n",
       "    .dataframe thead th {\n",
       "        text-align: right;\n",
       "    }\n",
       "</style>\n",
       "<table border=\"1\" class=\"dataframe\">\n",
       "  <thead>\n",
       "    <tr style=\"text-align: right;\">\n",
       "      <th></th>\n",
       "      <th>title</th>\n",
       "      <th>selftext</th>\n",
       "      <th>sub</th>\n",
       "    </tr>\n",
       "  </thead>\n",
       "  <tbody>\n",
       "    <tr>\n",
       "      <th>0</th>\n",
       "      <td>What do you use to invest?</td>\n",
       "      <td>[removed]</td>\n",
       "      <td>investing</td>\n",
       "    </tr>\n",
       "  </tbody>\n",
       "</table>\n",
       "</div>"
      ],
      "text/plain": [
       "                        title   selftext        sub\n",
       "0  What do you use to invest?  [removed]  investing"
      ]
     },
     "execution_count": 7,
     "metadata": {},
     "output_type": "execute_result"
    }
   ],
   "source": [
    "investing_common_users_data.head(1)"
   ]
  },
  {
   "cell_type": "code",
   "execution_count": 8,
   "metadata": {},
   "outputs": [],
   "source": [
    "all_data = wsb_common_users_data.append(investing_common_users_data, ignore_index=True)"
   ]
  },
  {
   "cell_type": "code",
   "execution_count": 9,
   "metadata": {},
   "outputs": [],
   "source": [
    "all_data = all_data.append(stocks_common_users_data, ignore_index=True)"
   ]
  },
  {
   "cell_type": "code",
   "execution_count": 10,
   "metadata": {},
   "outputs": [],
   "source": [
    "all_data = all_data[pd.notnull(all_data['selftext'])]"
   ]
  },
  {
   "cell_type": "code",
   "execution_count": 11,
   "metadata": {},
   "outputs": [],
   "source": [
    "all_data = all_data[pd.notnull(all_data['title'])]"
   ]
  },
  {
   "cell_type": "code",
   "execution_count": 12,
   "metadata": {},
   "outputs": [
    {
     "data": {
      "text/html": [
       "<div>\n",
       "<style scoped>\n",
       "    .dataframe tbody tr th:only-of-type {\n",
       "        vertical-align: middle;\n",
       "    }\n",
       "\n",
       "    .dataframe tbody tr th {\n",
       "        vertical-align: top;\n",
       "    }\n",
       "\n",
       "    .dataframe thead th {\n",
       "        text-align: right;\n",
       "    }\n",
       "</style>\n",
       "<table border=\"1\" class=\"dataframe\">\n",
       "  <thead>\n",
       "    <tr style=\"text-align: right;\">\n",
       "      <th></th>\n",
       "      <th>title</th>\n",
       "      <th>selftext</th>\n",
       "      <th>sub</th>\n",
       "    </tr>\n",
       "  </thead>\n",
       "  <tbody>\n",
       "    <tr>\n",
       "      <th>0</th>\n",
       "      <td>BB</td>\n",
       "      <td>So 13.56 cad for BB.  It’s moving and gaining ...</td>\n",
       "      <td>wsb</td>\n",
       "    </tr>\n",
       "  </tbody>\n",
       "</table>\n",
       "</div>"
      ],
      "text/plain": [
       "  title                                           selftext  sub\n",
       "0    BB  So 13.56 cad for BB.  It’s moving and gaining ...  wsb"
      ]
     },
     "execution_count": 12,
     "metadata": {},
     "output_type": "execute_result"
    }
   ],
   "source": [
    "all_data.head(1)"
   ]
  },
  {
   "cell_type": "code",
   "execution_count": 13,
   "metadata": {},
   "outputs": [
    {
     "name": "stdout",
     "output_type": "stream",
     "text": [
      "<class 'pandas.core.frame.DataFrame'>\n",
      "Int64Index: 478617 entries, 0 to 1144021\n",
      "Data columns (total 3 columns):\n",
      " #   Column    Non-Null Count   Dtype \n",
      "---  ------    --------------   ----- \n",
      " 0   title     478617 non-null  object\n",
      " 1   selftext  478617 non-null  object\n",
      " 2   sub       478617 non-null  object\n",
      "dtypes: object(3)\n",
      "memory usage: 14.6+ MB\n"
     ]
    }
   ],
   "source": [
    "all_data.info()"
   ]
  },
  {
   "cell_type": "code",
   "execution_count": 14,
   "metadata": {},
   "outputs": [
    {
     "data": {
      "text/html": [
       "<div>\n",
       "<style scoped>\n",
       "    .dataframe tbody tr th:only-of-type {\n",
       "        vertical-align: middle;\n",
       "    }\n",
       "\n",
       "    .dataframe tbody tr th {\n",
       "        vertical-align: top;\n",
       "    }\n",
       "\n",
       "    .dataframe thead th {\n",
       "        text-align: right;\n",
       "    }\n",
       "</style>\n",
       "<table border=\"1\" class=\"dataframe\">\n",
       "  <thead>\n",
       "    <tr style=\"text-align: right;\">\n",
       "      <th></th>\n",
       "      <th>title</th>\n",
       "      <th>selftext</th>\n",
       "      <th>sub</th>\n",
       "      <th>sub_id</th>\n",
       "    </tr>\n",
       "  </thead>\n",
       "  <tbody>\n",
       "    <tr>\n",
       "      <th>0</th>\n",
       "      <td>BB</td>\n",
       "      <td>So 13.56 cad for BB.  It’s moving and gaining ...</td>\n",
       "      <td>wsb</td>\n",
       "      <td>0</td>\n",
       "    </tr>\n",
       "    <tr>\n",
       "      <th>4</th>\n",
       "      <td>BB</td>\n",
       "      <td>BB is on the move higher, not because of the p...</td>\n",
       "      <td>wsb</td>\n",
       "      <td>0</td>\n",
       "    </tr>\n",
       "    <tr>\n",
       "      <th>9</th>\n",
       "      <td>Don't Be A Menace To Hedge Funds By Squeezing ...</td>\n",
       "      <td>What up, nerds? Long time no post. I come bear...</td>\n",
       "      <td>wsb</td>\n",
       "      <td>0</td>\n",
       "    </tr>\n",
       "    <tr>\n",
       "      <th>10</th>\n",
       "      <td>$372k gains from TSLA deliveries and pre-earnings</td>\n",
       "      <td>TSLA has been beating estimates for deliveries...</td>\n",
       "      <td>wsb</td>\n",
       "      <td>0</td>\n",
       "    </tr>\n",
       "    <tr>\n",
       "      <th>14</th>\n",
       "      <td>Serious question: Trying to understand why AMC...</td>\n",
       "      <td>Why keep buying AMC when it's -6 billion and 2...</td>\n",
       "      <td>wsb</td>\n",
       "      <td>0</td>\n",
       "    </tr>\n",
       "  </tbody>\n",
       "</table>\n",
       "</div>"
      ],
      "text/plain": [
       "                                                title  \\\n",
       "0                                                  BB   \n",
       "4                                                  BB   \n",
       "9   Don't Be A Menace To Hedge Funds By Squeezing ...   \n",
       "10  $372k gains from TSLA deliveries and pre-earnings   \n",
       "14  Serious question: Trying to understand why AMC...   \n",
       "\n",
       "                                             selftext  sub  sub_id  \n",
       "0   So 13.56 cad for BB.  It’s moving and gaining ...  wsb       0  \n",
       "4   BB is on the move higher, not because of the p...  wsb       0  \n",
       "9   What up, nerds? Long time no post. I come bear...  wsb       0  \n",
       "10  TSLA has been beating estimates for deliveries...  wsb       0  \n",
       "14  Why keep buying AMC when it's -6 billion and 2...  wsb       0  "
      ]
     },
     "execution_count": 14,
     "metadata": {},
     "output_type": "execute_result"
    }
   ],
   "source": [
    "all_data['sub_id'] = all_data['sub'].factorize()[0]\n",
    "category_id_df = all_data[['sub', 'sub_id']].drop_duplicates().sort_values('sub_id')\n",
    "category_to_id = dict(category_id_df.values)\n",
    "id_to_category = dict(category_id_df[['sub_id', 'sub']].values)\n",
    "all_data.head()"
   ]
  },
  {
   "cell_type": "code",
   "execution_count": 15,
   "metadata": {},
   "outputs": [],
   "source": [
    "sample_data=all_data.sample(frac = 0.1)"
   ]
  },
  {
   "cell_type": "code",
   "execution_count": 16,
   "metadata": {},
   "outputs": [
    {
     "data": {
      "image/png": "[encoded data removed]",
      "text/plain": [
       "<Figure size 576x432 with 1 Axes>"
      ]
     },
     "metadata": {
      "needs_background": "light"
     },
     "output_type": "display_data"
    }
   ],
   "source": [
    "fig = plt.figure(figsize=(8,6))\n",
    "all_data.groupby('sub').title.count().plot.bar(ylim=0)\n",
    "plt.show()"
   ]
  },
  {
   "cell_type": "code",
   "execution_count": 17,
   "metadata": {},
   "outputs": [
    {
     "data": {
      "image/png": "[encoded data removed]",
      "text/plain": [
       "<Figure size 576x432 with 1 Axes>"
      ]
     },
     "metadata": {
      "needs_background": "light"
     },
     "output_type": "display_data"
    }
   ],
   "source": [
    "fig = plt.figure(figsize=(8,6))\n",
    "sample_data.groupby('sub').title.count().plot.bar(ylim=0)\n",
    "plt.show()"
   ]
  },
  {
   "cell_type": "code",
   "execution_count": 18,
   "metadata": {},
   "outputs": [
    {
     "data": {
      "text/plain": [
       "(47862, 5391)"
      ]
     },
     "execution_count": 18,
     "metadata": {},
     "output_type": "execute_result"
    }
   ],
   "source": [
    "tfidf = TfidfVectorizer(sublinear_tf=True, min_df=5, norm='l2', encoding='utf-8', ngram_range=(1, 1), stop_words='english')\n",
    "features = tfidf.fit_transform(sample_data.title).toarray() #+all_data.selftext\n",
    "labels = sample_data.sub_id\n",
    "features.shape"
   ]
  },
  {
   "cell_type": "code",
   "execution_count": 19,
   "metadata": {},
   "outputs": [
    {
     "name": "stdout",
     "output_type": "stream",
     "text": [
      "# 'investing':\n",
      "  . Most correlated unigrams:\n",
      ". moon\n",
      ". roth\n",
      ". funds\n",
      ". index\n",
      ". ira\n",
      ". invest\n",
      ". amc\n",
      ". gme\n",
      ". investment\n",
      ". investing\n",
      "# 'stocks':\n",
      "  . Most correlated unigrams:\n",
      ". nok\n",
      ". yolo\n",
      ". wsb\n",
      ". moon\n",
      ". bb\n",
      ". amc\n",
      ". gme\n",
      ". thoughts\n",
      ". stock\n",
      ". stocks\n",
      "# 'wsb':\n",
      "  . Most correlated unigrams:\n",
      ". stock\n",
      ". yolo\n",
      ". invest\n",
      ". nok\n",
      ". bb\n",
      ". moon\n",
      ". stocks\n",
      ". investing\n",
      ". amc\n",
      ". gme\n"
     ]
    }
   ],
   "source": [
    "N = 10\n",
    "for Product, category_id in sorted(category_to_id.items()):\n",
    "   # X{array-like, sparse matrix} of shape (n_samples, n_features)\n",
    "    #y -array-like of shape (n_samples,)\n",
    "    #Target vector (class labels).\n",
    "  features_chi2 = chi2(features, labels == category_id) \n",
    "\n",
    "  indices = np.argsort(features_chi2[0])\n",
    "  feature_names = np.array(tfidf.get_feature_names())[indices]\n",
    "  unigrams = [v for v in feature_names if len(v.split(' ')) == 1]\n",
    " \n",
    "  print(\"# '{}':\".format(Product))\n",
    "  print(\"  . Most correlated unigrams:\\n. {}\".format('\\n. '.join(unigrams[-N:])))\n"
   ]
  },
  {
   "cell_type": "code",
   "execution_count": 20,
   "metadata": {},
   "outputs": [],
   "source": [
    "X_train, X_test, y_train, y_test = train_test_split(sample_data['title'], sample_data['sub'], random_state = 0)\n",
    "count_vect = CountVectorizer()\n",
    "X_train_counts = count_vect.fit_transform(X_train)\n",
    "tfidf_transformer = TfidfTransformer()\n",
    "X_train_tfidf = tfidf_transformer.fit_transform(X_train_counts)\n",
    "clf = MultinomialNB().fit(X_train_tfidf, y_train)"
   ]
  },
  {
   "cell_type": "code",
   "execution_count": 21,
   "metadata": {},
   "outputs": [
    {
     "name": "stdout",
     "output_type": "stream",
     "text": [
      "['wsb']\n"
     ]
    }
   ],
   "source": [
    "print(clf.predict(count_vect.transform([\"🦍\"])))"
   ]
  },
  {
   "cell_type": "code",
   "execution_count": 22,
   "metadata": {},
   "outputs": [
    {
     "name": "stdout",
     "output_type": "stream",
     "text": [
      "['wsb']\n"
     ]
    }
   ],
   "source": [
    "print(clf.predict(count_vect.transform([\"🚀\"])))"
   ]
  },
  {
   "cell_type": "code",
   "execution_count": 23,
   "metadata": {},
   "outputs": [
    {
     "data": {
      "image/png": "[encoded data removed]",
      "text/plain": [
       "<Figure size 432x288 with 1 Axes>"
      ]
     },
     "metadata": {
      "needs_background": "light"
     },
     "output_type": "display_data"
    }
   ],
   "source": [
    "models = [\n",
    "   \n",
    "    MultinomialNB(),\n",
    "    LogisticRegression(random_state=0,max_iter=3000),\n",
    "]\n",
    "CV = 5\n",
    "cv_df = pd.DataFrame(index=range(CV * len(models)))\n",
    "entries = []\n",
    "for model in models:\n",
    "  model_name = model.__class__.__name__\n",
    "  accuracies = cross_val_score(model, features, labels, scoring='accuracy', cv=CV)\n",
    "  for fold_idx, accuracy in enumerate(accuracies):\n",
    "    entries.append((model_name, fold_idx, accuracy))\n",
    "cv_df = pd.DataFrame(entries, columns=['model_name', 'fold_idx', 'accuracy'])\n",
    "import seaborn as sns\n",
    "sns.boxplot(x='model_name', y='accuracy', data=cv_df)\n",
    "sns.stripplot(x='model_name', y='accuracy', data=cv_df, \n",
    "              size=8, jitter=True, edgecolor=\"gray\", linewidth=2)\n",
    "plt.show()"
   ]
  },
  {
   "cell_type": "code",
   "execution_count": 24,
   "metadata": {},
   "outputs": [
    {
     "data": {
      "text/plain": [
       "model_name\n",
       "LogisticRegression    0.617358\n",
       "MultinomialNB         0.612636\n",
       "Name: accuracy, dtype: float64"
      ]
     },
     "execution_count": 24,
     "metadata": {},
     "output_type": "execute_result"
    }
   ],
   "source": [
    "cv_df.groupby('model_name').accuracy.mean()"
   ]
  },
  {
   "cell_type": "code",
   "execution_count": 25,
   "metadata": {},
   "outputs": [
    {
     "data": {
      "text/plain": [
       "array(['wsb', 'investing', 'stocks'], dtype=object)"
      ]
     },
     "execution_count": 25,
     "metadata": {},
     "output_type": "execute_result"
    }
   ],
   "source": [
    "category_id_df['sub'].values"
   ]
  },
  {
   "cell_type": "code",
   "execution_count": 26,
   "metadata": {},
   "outputs": [
    {
     "name": "stderr",
     "output_type": "stream",
     "text": [
      "C:\\Users\\96ank\\AppData\\Local\\Continuum\\anaconda3\\lib\\site-packages\\sklearn\\linear_model\\_logistic.py:764: ConvergenceWarning: lbfgs failed to converge (status=1):\n",
      "STOP: TOTAL NO. of ITERATIONS REACHED LIMIT.\n",
      "\n",
      "Increase the number of iterations (max_iter) or scale the data as shown in:\n",
      "    https://scikit-learn.org/stable/modules/preprocessing.html\n",
      "Please also refer to the documentation for alternative solver options:\n",
      "    https://scikit-learn.org/stable/modules/linear_model.html#logistic-regression\n",
      "  extra_warning_msg=_LOGISTIC_SOLVER_CONVERGENCE_MSG)\n"
     ]
    },
    {
     "data": {
      "image/png": "[encoded data removed]",
      "text/plain": [
       "<Figure size 720x720 with 2 Axes>"
      ]
     },
     "metadata": {
      "needs_background": "light"
     },
     "output_type": "display_data"
    }
   ],
   "source": [
    "model = LogisticRegression()\n",
    "X_train, X_test, y_train, y_test, indices_train, indices_test = train_test_split(features, labels, sample_data.index, test_size=0.33, random_state=0)\n",
    "model.fit(X_train, y_train)\n",
    "y_pred = model.predict(X_test)\n",
    "from sklearn.metrics import confusion_matrix\n",
    "conf_mat = confusion_matrix(y_test, y_pred)\n",
    "fig, ax = plt.subplots(figsize=(10,10))\n",
    "sns.heatmap(conf_mat, annot=True, fmt='d',\n",
    "            xticklabels=category_id_df['sub'].values, yticklabels=category_id_df['sub'].values)\n",
    "plt.ylabel('Actual')\n",
    "plt.xlabel('Predicted')\n",
    "plt.show()"
   ]
  },
  {
   "cell_type": "code",
   "execution_count": 27,
   "metadata": {},
   "outputs": [
    {
     "data": {
      "text/html": [
       "<div>\n",
       "<style scoped>\n",
       "    .dataframe tbody tr th:only-of-type {\n",
       "        vertical-align: middle;\n",
       "    }\n",
       "\n",
       "    .dataframe tbody tr th {\n",
       "        vertical-align: top;\n",
       "    }\n",
       "\n",
       "    .dataframe thead th {\n",
       "        text-align: right;\n",
       "    }\n",
       "</style>\n",
       "<table border=\"1\" class=\"dataframe\">\n",
       "  <thead>\n",
       "    <tr style=\"text-align: right;\">\n",
       "      <th></th>\n",
       "      <th>sub</th>\n",
       "      <th>sub_id</th>\n",
       "    </tr>\n",
       "  </thead>\n",
       "  <tbody>\n",
       "    <tr>\n",
       "      <th>0</th>\n",
       "      <td>wsb</td>\n",
       "      <td>0</td>\n",
       "    </tr>\n",
       "    <tr>\n",
       "      <th>861752</th>\n",
       "      <td>investing</td>\n",
       "      <td>1</td>\n",
       "    </tr>\n",
       "    <tr>\n",
       "      <th>989521</th>\n",
       "      <td>stocks</td>\n",
       "      <td>2</td>\n",
       "    </tr>\n",
       "  </tbody>\n",
       "</table>\n",
       "</div>"
      ],
      "text/plain": [
       "              sub  sub_id\n",
       "0             wsb       0\n",
       "861752  investing       1\n",
       "989521     stocks       2"
      ]
     },
     "execution_count": 27,
     "metadata": {},
     "output_type": "execute_result"
    }
   ],
   "source": [
    "category_id_df"
   ]
  },
  {
   "cell_type": "code",
   "execution_count": 28,
   "metadata": {},
   "outputs": [
    {
     "name": "stdout",
     "output_type": "stream",
     "text": [
      "'investing' predicted as 'wsb' : 1140 examples.\n"
     ]
    },
    {
     "data": {
      "text/html": [
       "<div>\n",
       "<style scoped>\n",
       "    .dataframe tbody tr th:only-of-type {\n",
       "        vertical-align: middle;\n",
       "    }\n",
       "\n",
       "    .dataframe tbody tr th {\n",
       "        vertical-align: top;\n",
       "    }\n",
       "\n",
       "    .dataframe thead th {\n",
       "        text-align: right;\n",
       "    }\n",
       "</style>\n",
       "<table border=\"1\" class=\"dataframe\">\n",
       "  <thead>\n",
       "    <tr style=\"text-align: right;\">\n",
       "      <th></th>\n",
       "      <th>sub</th>\n",
       "      <th>title</th>\n",
       "    </tr>\n",
       "  </thead>\n",
       "  <tbody>\n",
       "    <tr>\n",
       "      <th>929171</th>\n",
       "      <td>investing</td>\n",
       "      <td>I accidentally did a wash sale</td>\n",
       "    </tr>\n",
       "    <tr>\n",
       "      <th>909959</th>\n",
       "      <td>investing</td>\n",
       "      <td>Cash on hand</td>\n",
       "    </tr>\n",
       "    <tr>\n",
       "      <th>949517</th>\n",
       "      <td>investing</td>\n",
       "      <td>Options Expiring</td>\n",
       "    </tr>\n",
       "    <tr>\n",
       "      <th>863037</th>\n",
       "      <td>investing</td>\n",
       "      <td>Do you guys think Elon Musk wants to retire fr...</td>\n",
       "    </tr>\n",
       "    <tr>\n",
       "      <th>916681</th>\n",
       "      <td>investing</td>\n",
       "      <td>MBA OR CFA?</td>\n",
       "    </tr>\n",
       "    <tr>\n",
       "      <th>...</th>\n",
       "      <td>...</td>\n",
       "      <td>...</td>\n",
       "    </tr>\n",
       "    <tr>\n",
       "      <th>908865</th>\n",
       "      <td>investing</td>\n",
       "      <td>NOK NOK is about to surge hop on the train guy...</td>\n",
       "    </tr>\n",
       "    <tr>\n",
       "      <th>952861</th>\n",
       "      <td>investing</td>\n",
       "      <td>Options strike price by expiry date</td>\n",
       "    </tr>\n",
       "    <tr>\n",
       "      <th>966261</th>\n",
       "      <td>investing</td>\n",
       "      <td>Is the CFA a necessity?</td>\n",
       "    </tr>\n",
       "    <tr>\n",
       "      <th>869754</th>\n",
       "      <td>investing</td>\n",
       "      <td>Is SNDL(Sundial) a losing fight?</td>\n",
       "    </tr>\n",
       "    <tr>\n",
       "      <th>931292</th>\n",
       "      <td>investing</td>\n",
       "      <td>im 16 and want to figure out what to do with m...</td>\n",
       "    </tr>\n",
       "  </tbody>\n",
       "</table>\n",
       "<p>1140 rows × 2 columns</p>\n",
       "</div>"
      ],
      "text/plain": [
       "              sub                                              title\n",
       "929171  investing                     I accidentally did a wash sale\n",
       "909959  investing                                       Cash on hand\n",
       "949517  investing                                   Options Expiring\n",
       "863037  investing  Do you guys think Elon Musk wants to retire fr...\n",
       "916681  investing                                        MBA OR CFA?\n",
       "...           ...                                                ...\n",
       "908865  investing  NOK NOK is about to surge hop on the train guy...\n",
       "952861  investing                Options strike price by expiry date\n",
       "966261  investing                            Is the CFA a necessity?\n",
       "869754  investing                   Is SNDL(Sundial) a losing fight?\n",
       "931292  investing  im 16 and want to figure out what to do with m...\n",
       "\n",
       "[1140 rows x 2 columns]"
      ]
     },
     "metadata": {},
     "output_type": "display_data"
    },
    {
     "name": "stdout",
     "output_type": "stream",
     "text": [
      "\n",
      "'stocks' predicted as 'wsb' : 1708 examples.\n"
     ]
    },
    {
     "data": {
      "text/html": [
       "<div>\n",
       "<style scoped>\n",
       "    .dataframe tbody tr th:only-of-type {\n",
       "        vertical-align: middle;\n",
       "    }\n",
       "\n",
       "    .dataframe tbody tr th {\n",
       "        vertical-align: top;\n",
       "    }\n",
       "\n",
       "    .dataframe thead th {\n",
       "        text-align: right;\n",
       "    }\n",
       "</style>\n",
       "<table border=\"1\" class=\"dataframe\">\n",
       "  <thead>\n",
       "    <tr style=\"text-align: right;\">\n",
       "      <th></th>\n",
       "      <th>sub</th>\n",
       "      <th>title</th>\n",
       "    </tr>\n",
       "  </thead>\n",
       "  <tbody>\n",
       "    <tr>\n",
       "      <th>1113946</th>\n",
       "      <td>stocks</td>\n",
       "      <td>Spirit Airlines SAVE</td>\n",
       "    </tr>\n",
       "    <tr>\n",
       "      <th>1102381</th>\n",
       "      <td>stocks</td>\n",
       "      <td>No more gambling</td>\n",
       "    </tr>\n",
       "    <tr>\n",
       "      <th>1048570</th>\n",
       "      <td>stocks</td>\n",
       "      <td>SINO - Buy Opportunity?</td>\n",
       "    </tr>\n",
       "    <tr>\n",
       "      <th>1073214</th>\n",
       "      <td>stocks</td>\n",
       "      <td>Teladoc (TDOC) is up 11-12% today</td>\n",
       "    </tr>\n",
       "    <tr>\n",
       "      <th>1012750</th>\n",
       "      <td>stocks</td>\n",
       "      <td>Trading induced stress tips</td>\n",
       "    </tr>\n",
       "    <tr>\n",
       "      <th>...</th>\n",
       "      <td>...</td>\n",
       "      <td>...</td>\n",
       "    </tr>\n",
       "    <tr>\n",
       "      <th>1103619</th>\n",
       "      <td>stocks</td>\n",
       "      <td>TT</td>\n",
       "    </tr>\n",
       "    <tr>\n",
       "      <th>995808</th>\n",
       "      <td>stocks</td>\n",
       "      <td>Lucid Motors</td>\n",
       "    </tr>\n",
       "    <tr>\n",
       "      <th>1040844</th>\n",
       "      <td>stocks</td>\n",
       "      <td>crypt and infl.</td>\n",
       "    </tr>\n",
       "    <tr>\n",
       "      <th>1008006</th>\n",
       "      <td>stocks</td>\n",
       "      <td>CLF: Sell the news on infrastructure deal or h...</td>\n",
       "    </tr>\n",
       "    <tr>\n",
       "      <th>1050107</th>\n",
       "      <td>stocks</td>\n",
       "      <td>NSPR set to take of to $500 and Above</td>\n",
       "    </tr>\n",
       "  </tbody>\n",
       "</table>\n",
       "<p>1708 rows × 2 columns</p>\n",
       "</div>"
      ],
      "text/plain": [
       "            sub                                              title\n",
       "1113946  stocks                               Spirit Airlines SAVE\n",
       "1102381  stocks                                   No more gambling\n",
       "1048570  stocks                            SINO - Buy Opportunity?\n",
       "1073214  stocks                  Teladoc (TDOC) is up 11-12% today\n",
       "1012750  stocks                        Trading induced stress tips\n",
       "...         ...                                                ...\n",
       "1103619  stocks                                                 TT\n",
       "995808   stocks                                       Lucid Motors\n",
       "1040844  stocks                                    crypt and infl.\n",
       "1008006  stocks  CLF: Sell the news on infrastructure deal or h...\n",
       "1050107  stocks              NSPR set to take of to $500 and Above\n",
       "\n",
       "[1708 rows x 2 columns]"
      ]
     },
     "metadata": {},
     "output_type": "display_data"
    },
    {
     "name": "stdout",
     "output_type": "stream",
     "text": [
      "\n",
      "'wsb' predicted as 'investing' : 531 examples.\n"
     ]
    },
    {
     "data": {
      "text/html": [
       "<div>\n",
       "<style scoped>\n",
       "    .dataframe tbody tr th:only-of-type {\n",
       "        vertical-align: middle;\n",
       "    }\n",
       "\n",
       "    .dataframe tbody tr th {\n",
       "        vertical-align: top;\n",
       "    }\n",
       "\n",
       "    .dataframe thead th {\n",
       "        text-align: right;\n",
       "    }\n",
       "</style>\n",
       "<table border=\"1\" class=\"dataframe\">\n",
       "  <thead>\n",
       "    <tr style=\"text-align: right;\">\n",
       "      <th></th>\n",
       "      <th>sub</th>\n",
       "      <th>title</th>\n",
       "    </tr>\n",
       "  </thead>\n",
       "  <tbody>\n",
       "    <tr>\n",
       "      <th>751247</th>\n",
       "      <td>wsb</td>\n",
       "      <td>COVID Vaccine Stocks Long Call or Put? The mum...</td>\n",
       "    </tr>\n",
       "    <tr>\n",
       "      <th>775568</th>\n",
       "      <td>wsb</td>\n",
       "      <td>🌈🐻 vs the 🌈FED</td>\n",
       "    </tr>\n",
       "    <tr>\n",
       "      <th>601263</th>\n",
       "      <td>wsb</td>\n",
       "      <td>When morons ask stupids questions</td>\n",
       "    </tr>\n",
       "    <tr>\n",
       "      <th>778999</th>\n",
       "      <td>wsb</td>\n",
       "      <td>S&amp;amp;P Futures money 💰</td>\n",
       "    </tr>\n",
       "    <tr>\n",
       "      <th>200776</th>\n",
       "      <td>wsb</td>\n",
       "      <td>These 6 Flags stocks bout to make the next gen...</td>\n",
       "    </tr>\n",
       "    <tr>\n",
       "      <th>...</th>\n",
       "      <td>...</td>\n",
       "      <td>...</td>\n",
       "    </tr>\n",
       "    <tr>\n",
       "      <th>815419</th>\n",
       "      <td>wsb</td>\n",
       "      <td>What if, Salesforce (CRM) did in fact make tha...</td>\n",
       "    </tr>\n",
       "    <tr>\n",
       "      <th>830212</th>\n",
       "      <td>wsb</td>\n",
       "      <td>Stock vs Forex vs Comodity Market</td>\n",
       "    </tr>\n",
       "    <tr>\n",
       "      <th>155650</th>\n",
       "      <td>wsb</td>\n",
       "      <td>Impact Investing - Free Money through Robinhoo...</td>\n",
       "    </tr>\n",
       "    <tr>\n",
       "      <th>144602</th>\n",
       "      <td>wsb</td>\n",
       "      <td>Kinross Gold</td>\n",
       "    </tr>\n",
       "    <tr>\n",
       "      <th>171619</th>\n",
       "      <td>wsb</td>\n",
       "      <td>TSLA cash investment affect on ER</td>\n",
       "    </tr>\n",
       "  </tbody>\n",
       "</table>\n",
       "<p>531 rows × 2 columns</p>\n",
       "</div>"
      ],
      "text/plain": [
       "        sub                                              title\n",
       "751247  wsb  COVID Vaccine Stocks Long Call or Put? The mum...\n",
       "775568  wsb                                     🌈🐻 vs the 🌈FED\n",
       "601263  wsb                  When morons ask stupids questions\n",
       "778999  wsb                            S&amp;P Futures money 💰\n",
       "200776  wsb  These 6 Flags stocks bout to make the next gen...\n",
       "...     ...                                                ...\n",
       "815419  wsb  What if, Salesforce (CRM) did in fact make tha...\n",
       "830212  wsb                  Stock vs Forex vs Comodity Market\n",
       "155650  wsb  Impact Investing - Free Money through Robinhoo...\n",
       "144602  wsb                                       Kinross Gold\n",
       "171619  wsb                  TSLA cash investment affect on ER\n",
       "\n",
       "[531 rows x 2 columns]"
      ]
     },
     "metadata": {},
     "output_type": "display_data"
    },
    {
     "name": "stdout",
     "output_type": "stream",
     "text": [
      "\n",
      "'stocks' predicted as 'investing' : 897 examples.\n"
     ]
    },
    {
     "data": {
      "text/html": [
       "<div>\n",
       "<style scoped>\n",
       "    .dataframe tbody tr th:only-of-type {\n",
       "        vertical-align: middle;\n",
       "    }\n",
       "\n",
       "    .dataframe tbody tr th {\n",
       "        vertical-align: top;\n",
       "    }\n",
       "\n",
       "    .dataframe thead th {\n",
       "        text-align: right;\n",
       "    }\n",
       "</style>\n",
       "<table border=\"1\" class=\"dataframe\">\n",
       "  <thead>\n",
       "    <tr style=\"text-align: right;\">\n",
       "      <th></th>\n",
       "      <th>sub</th>\n",
       "      <th>title</th>\n",
       "    </tr>\n",
       "  </thead>\n",
       "  <tbody>\n",
       "    <tr>\n",
       "      <th>1074680</th>\n",
       "      <td>stocks</td>\n",
       "      <td>Novice Investing Strategy from Jan 2020. Movin...</td>\n",
       "    </tr>\n",
       "    <tr>\n",
       "      <th>1100508</th>\n",
       "      <td>stocks</td>\n",
       "      <td>I think my cfp just violated our contract</td>\n",
       "    </tr>\n",
       "    <tr>\n",
       "      <th>994046</th>\n",
       "      <td>stocks</td>\n",
       "      <td>Where does Elon Musk have his shares ?</td>\n",
       "    </tr>\n",
       "    <tr>\n",
       "      <th>1005074</th>\n",
       "      <td>stocks</td>\n",
       "      <td>Avoiding a Taper Tantrum; The Federal Reserve’...</td>\n",
       "    </tr>\n",
       "    <tr>\n",
       "      <th>1023185</th>\n",
       "      <td>stocks</td>\n",
       "      <td>Are there any super-junk bonds/debt securities...</td>\n",
       "    </tr>\n",
       "    <tr>\n",
       "      <th>...</th>\n",
       "      <td>...</td>\n",
       "      <td>...</td>\n",
       "    </tr>\n",
       "    <tr>\n",
       "      <th>1027105</th>\n",
       "      <td>stocks</td>\n",
       "      <td>Any benefits to Traders Tax Status?</td>\n",
       "    </tr>\n",
       "    <tr>\n",
       "      <th>1093441</th>\n",
       "      <td>stocks</td>\n",
       "      <td>Share your Finviz Filters your using as a Long...</td>\n",
       "    </tr>\n",
       "    <tr>\n",
       "      <th>993826</th>\n",
       "      <td>stocks</td>\n",
       "      <td>I bought some ETFs. What should I do if my bro...</td>\n",
       "    </tr>\n",
       "    <tr>\n",
       "      <th>999206</th>\n",
       "      <td>stocks</td>\n",
       "      <td>Where to Invest after next US rate hike?</td>\n",
       "    </tr>\n",
       "    <tr>\n",
       "      <th>1107038</th>\n",
       "      <td>stocks</td>\n",
       "      <td>Investing/money management podcast suggestions?</td>\n",
       "    </tr>\n",
       "  </tbody>\n",
       "</table>\n",
       "<p>897 rows × 2 columns</p>\n",
       "</div>"
      ],
      "text/plain": [
       "            sub                                              title\n",
       "1074680  stocks  Novice Investing Strategy from Jan 2020. Movin...\n",
       "1100508  stocks          I think my cfp just violated our contract\n",
       "994046   stocks             Where does Elon Musk have his shares ?\n",
       "1005074  stocks  Avoiding a Taper Tantrum; The Federal Reserve’...\n",
       "1023185  stocks  Are there any super-junk bonds/debt securities...\n",
       "...         ...                                                ...\n",
       "1027105  stocks                Any benefits to Traders Tax Status?\n",
       "1093441  stocks  Share your Finviz Filters your using as a Long...\n",
       "993826   stocks  I bought some ETFs. What should I do if my bro...\n",
       "999206   stocks           Where to Invest after next US rate hike?\n",
       "1107038  stocks    Investing/money management podcast suggestions?\n",
       "\n",
       "[897 rows x 2 columns]"
      ]
     },
     "metadata": {},
     "output_type": "display_data"
    },
    {
     "name": "stdout",
     "output_type": "stream",
     "text": [
      "\n",
      "'wsb' predicted as 'stocks' : 860 examples.\n"
     ]
    },
    {
     "data": {
      "text/html": [
       "<div>\n",
       "<style scoped>\n",
       "    .dataframe tbody tr th:only-of-type {\n",
       "        vertical-align: middle;\n",
       "    }\n",
       "\n",
       "    .dataframe tbody tr th {\n",
       "        vertical-align: top;\n",
       "    }\n",
       "\n",
       "    .dataframe thead th {\n",
       "        text-align: right;\n",
       "    }\n",
       "</style>\n",
       "<table border=\"1\" class=\"dataframe\">\n",
       "  <thead>\n",
       "    <tr style=\"text-align: right;\">\n",
       "      <th></th>\n",
       "      <th>sub</th>\n",
       "      <th>title</th>\n",
       "    </tr>\n",
       "  </thead>\n",
       "  <tbody>\n",
       "    <tr>\n",
       "      <th>843556</th>\n",
       "      <td>wsb</td>\n",
       "      <td>How do you guys find penny stocks?</td>\n",
       "    </tr>\n",
       "    <tr>\n",
       "      <th>58916</th>\n",
       "      <td>wsb</td>\n",
       "      <td>Sell your AMC stock now</td>\n",
       "    </tr>\n",
       "    <tr>\n",
       "      <th>179649</th>\n",
       "      <td>wsb</td>\n",
       "      <td>RGBP - need some help here</td>\n",
       "    </tr>\n",
       "    <tr>\n",
       "      <th>459267</th>\n",
       "      <td>wsb</td>\n",
       "      <td>Best trading app for the UK? (newcomer)</td>\n",
       "    </tr>\n",
       "    <tr>\n",
       "      <th>771529</th>\n",
       "      <td>wsb</td>\n",
       "      <td>Gushing Losses -92.87%</td>\n",
       "    </tr>\n",
       "    <tr>\n",
       "      <th>...</th>\n",
       "      <td>...</td>\n",
       "      <td>...</td>\n",
       "    </tr>\n",
       "    <tr>\n",
       "      <th>290560</th>\n",
       "      <td>wsb</td>\n",
       "      <td>New investor</td>\n",
       "    </tr>\n",
       "    <tr>\n",
       "      <th>627152</th>\n",
       "      <td>wsb</td>\n",
       "      <td>Webull Stock Lending Income Program</td>\n",
       "    </tr>\n",
       "    <tr>\n",
       "      <th>589381</th>\n",
       "      <td>wsb</td>\n",
       "      <td>Get into SPCE stock right now.</td>\n",
       "    </tr>\n",
       "    <tr>\n",
       "      <th>722553</th>\n",
       "      <td>wsb</td>\n",
       "      <td>Good places to start out / learn for beginners?</td>\n",
       "    </tr>\n",
       "    <tr>\n",
       "      <th>780706</th>\n",
       "      <td>wsb</td>\n",
       "      <td>Peloton Floating vs Outstanding</td>\n",
       "    </tr>\n",
       "  </tbody>\n",
       "</table>\n",
       "<p>860 rows × 2 columns</p>\n",
       "</div>"
      ],
      "text/plain": [
       "        sub                                            title\n",
       "843556  wsb               How do you guys find penny stocks?\n",
       "58916   wsb                          Sell your AMC stock now\n",
       "179649  wsb                       RGBP - need some help here\n",
       "459267  wsb          Best trading app for the UK? (newcomer)\n",
       "771529  wsb                           Gushing Losses -92.87%\n",
       "...     ...                                              ...\n",
       "290560  wsb                                     New investor\n",
       "627152  wsb              Webull Stock Lending Income Program\n",
       "589381  wsb                   Get into SPCE stock right now.\n",
       "722553  wsb  Good places to start out / learn for beginners?\n",
       "780706  wsb                  Peloton Floating vs Outstanding\n",
       "\n",
       "[860 rows x 2 columns]"
      ]
     },
     "metadata": {},
     "output_type": "display_data"
    },
    {
     "name": "stdout",
     "output_type": "stream",
     "text": [
      "\n",
      "'investing' predicted as 'stocks' : 985 examples.\n"
     ]
    },
    {
     "data": {
      "text/html": [
       "<div>\n",
       "<style scoped>\n",
       "    .dataframe tbody tr th:only-of-type {\n",
       "        vertical-align: middle;\n",
       "    }\n",
       "\n",
       "    .dataframe tbody tr th {\n",
       "        vertical-align: top;\n",
       "    }\n",
       "\n",
       "    .dataframe thead th {\n",
       "        text-align: right;\n",
       "    }\n",
       "</style>\n",
       "<table border=\"1\" class=\"dataframe\">\n",
       "  <thead>\n",
       "    <tr style=\"text-align: right;\">\n",
       "      <th></th>\n",
       "      <th>sub</th>\n",
       "      <th>title</th>\n",
       "    </tr>\n",
       "  </thead>\n",
       "  <tbody>\n",
       "    <tr>\n",
       "      <th>984226</th>\n",
       "      <td>investing</td>\n",
       "      <td>RBC buying stocks on OTC when requested to be ...</td>\n",
       "    </tr>\n",
       "    <tr>\n",
       "      <th>936610</th>\n",
       "      <td>investing</td>\n",
       "      <td>[Hypothetical] let's assume you thought there ...</td>\n",
       "    </tr>\n",
       "    <tr>\n",
       "      <th>882027</th>\n",
       "      <td>investing</td>\n",
       "      <td>What happens with a company' stocks after it h...</td>\n",
       "    </tr>\n",
       "    <tr>\n",
       "      <th>887064</th>\n",
       "      <td>investing</td>\n",
       "      <td>10 Bagger and 100 Bagger Investments</td>\n",
       "    </tr>\n",
       "    <tr>\n",
       "      <th>930672</th>\n",
       "      <td>investing</td>\n",
       "      <td>AAPL, TSLA Stock Split and Options Trading</td>\n",
       "    </tr>\n",
       "    <tr>\n",
       "      <th>...</th>\n",
       "      <td>...</td>\n",
       "      <td>...</td>\n",
       "    </tr>\n",
       "    <tr>\n",
       "      <th>953523</th>\n",
       "      <td>investing</td>\n",
       "      <td>Anyone else listening to this press conference?</td>\n",
       "    </tr>\n",
       "    <tr>\n",
       "      <th>890650</th>\n",
       "      <td>investing</td>\n",
       "      <td>Hi I have a question about going all in on cer...</td>\n",
       "    </tr>\n",
       "    <tr>\n",
       "      <th>892984</th>\n",
       "      <td>investing</td>\n",
       "      <td>What Do You Think of GSAT? Is this Stock worth...</td>\n",
       "    </tr>\n",
       "    <tr>\n",
       "      <th>900586</th>\n",
       "      <td>investing</td>\n",
       "      <td>Very confused. Need help regarding after marke...</td>\n",
       "    </tr>\n",
       "    <tr>\n",
       "      <th>928996</th>\n",
       "      <td>investing</td>\n",
       "      <td>How can I keep up with stock trends?</td>\n",
       "    </tr>\n",
       "  </tbody>\n",
       "</table>\n",
       "<p>985 rows × 2 columns</p>\n",
       "</div>"
      ],
      "text/plain": [
       "              sub                                              title\n",
       "984226  investing  RBC buying stocks on OTC when requested to be ...\n",
       "936610  investing  [Hypothetical] let's assume you thought there ...\n",
       "882027  investing  What happens with a company' stocks after it h...\n",
       "887064  investing               10 Bagger and 100 Bagger Investments\n",
       "930672  investing         AAPL, TSLA Stock Split and Options Trading\n",
       "...           ...                                                ...\n",
       "953523  investing    Anyone else listening to this press conference?\n",
       "890650  investing  Hi I have a question about going all in on cer...\n",
       "892984  investing  What Do You Think of GSAT? Is this Stock worth...\n",
       "900586  investing  Very confused. Need help regarding after marke...\n",
       "928996  investing               How can I keep up with stock trends?\n",
       "\n",
       "[985 rows x 2 columns]"
      ]
     },
     "metadata": {},
     "output_type": "display_data"
    },
    {
     "name": "stdout",
     "output_type": "stream",
     "text": [
      "\n"
     ]
    }
   ],
   "source": [
    "from IPython.display import display\n",
    "for predicted in category_id_df.sub_id:\n",
    "  for actual in category_id_df.sub_id:\n",
    "    if predicted != actual and conf_mat[actual, predicted] >= 10:\n",
    "      print(\"'{}' predicted as '{}' : {} examples.\".format(id_to_category[actual], id_to_category[predicted], conf_mat[actual, predicted]))\n",
    "      display(sample_data.loc[indices_test[(y_test == actual) & (y_pred == predicted)]][['sub', 'title']])\n",
    "      print('')"
   ]
  },
  {
   "cell_type": "code",
   "execution_count": 29,
   "metadata": {},
   "outputs": [
    {
     "name": "stderr",
     "output_type": "stream",
     "text": [
      "C:\\Users\\96ank\\AppData\\Local\\Continuum\\anaconda3\\lib\\site-packages\\sklearn\\linear_model\\_logistic.py:764: ConvergenceWarning: lbfgs failed to converge (status=1):\n",
      "STOP: TOTAL NO. of ITERATIONS REACHED LIMIT.\n",
      "\n",
      "Increase the number of iterations (max_iter) or scale the data as shown in:\n",
      "    https://scikit-learn.org/stable/modules/preprocessing.html\n",
      "Please also refer to the documentation for alternative solver options:\n",
      "    https://scikit-learn.org/stable/modules/linear_model.html#logistic-regression\n",
      "  extra_warning_msg=_LOGISTIC_SOLVER_CONVERGENCE_MSG)\n"
     ]
    },
    {
     "data": {
      "text/plain": [
       "LogisticRegression()"
      ]
     },
     "execution_count": 29,
     "metadata": {},
     "output_type": "execute_result"
    }
   ],
   "source": [
    "model.fit(features, labels)"
   ]
  },
  {
   "cell_type": "code",
   "execution_count": 30,
   "metadata": {},
   "outputs": [
    {
     "name": "stdout",
     "output_type": "stream",
     "text": [
      "# 'investing':\n",
      "  . Top unigrams:\n",
      "       . spitballin\n",
      "       . investing\n",
      "       . bonds\n",
      "       . bitcoin\n",
      "       . investment\n",
      "       . 401k\n",
      "       . investments\n",
      "       . crypto\n",
      "       . retirement\n",
      "       . vanguard\n",
      "       . bond\n",
      "       . returns\n",
      "       . basic\n",
      "       . asset\n",
      "       . ira\n",
      "       . tariffs\n",
      "       . etfs\n",
      "       . invest\n",
      "       . tencent\n",
      "       . registration\n",
      "       . private\n",
      "       . economic\n",
      "       . investors\n",
      "       . etf\n",
      "       . advisor\n",
      "  . Top bigrams:\n",
      "       . \n",
      "  . Top trigrams:\n",
      "       . \n",
      "# 'stocks':\n",
      "  . Top unigrams:\n",
      "       . stocks\n",
      "       . dgly\n",
      "       . se\n",
      "       . recap\n",
      "       . stock\n",
      "       . affected\n",
      "       . enph\n",
      "       . evergrande\n",
      "       . rtx\n",
      "       . gnus\n",
      "       . appl\n",
      "       . ark\n",
      "       . penn\n",
      "       . watchlists\n",
      "       . gush\n",
      "       . petroleum\n",
      "       . nat\n",
      "       . limited\n",
      "       . scalping\n",
      "       . australis\n",
      "       . sls\n",
      "       . yard\n",
      "       . xpeng\n",
      "       . srne\n",
      "       . fmci\n",
      "  . Top bigrams:\n",
      "       . \n",
      "  . Top trigrams:\n",
      "       . \n",
      "# 'wsb':\n",
      "  . Top unigrams:\n",
      "       . retards\n",
      "       . yolo\n",
      "       . retard\n",
      "       . tendies\n",
      "       . retarded\n",
      "       . autists\n",
      "       . apes\n",
      "       . gme\n",
      "       . ape\n",
      "       . autistic\n",
      "       . fuck\n",
      "       . clov\n",
      "       . wsb\n",
      "       . autist\n",
      "       . gang\n",
      "       . gay\n",
      "       . fucking\n",
      "       . melvin\n",
      "       . porn\n",
      "       . bb\n",
      "       . degenerates\n",
      "       . thread\n",
      "       . autism\n",
      "       . bears\n",
      "       . shit\n",
      "  . Top bigrams:\n",
      "       . \n",
      "  . Top trigrams:\n",
      "       . \n"
     ]
    }
   ],
   "source": [
    "N = 25\n",
    "for Product, category_id in sorted(category_to_id.items()):\n",
    "  indices = np.argsort(model.coef_[category_id])\n",
    "  feature_names = np.array(tfidf.get_feature_names())[indices]\n",
    "  unigrams = [v for v in reversed(feature_names) if len(v.split(' ')) == 1][:N]\n",
    "  bigrams = [v for v in reversed(feature_names) if len(v.split(' ')) == 2][:N]\n",
    "  trigrams = [v for v in reversed(feature_names) if len(v.split(' ')) == 3][:N]\n",
    "  print(\"# '{}':\".format(Product))\n",
    "  print(\"  . Top unigrams:\\n       . {}\".format('\\n       . '.join(unigrams)))\n",
    "  print(\"  . Top bigrams:\\n       . {}\".format('\\n       . '.join(bigrams)))\n",
    "  print(\"  . Top trigrams:\\n       . {}\".format('\\n       . '.join(trigrams)))"
   ]
  },
  {
   "cell_type": "code",
   "execution_count": 31,
   "metadata": {},
   "outputs": [
    {
     "name": "stdout",
     "output_type": "stream",
     "text": [
      "              precision    recall  f1-score   support\n",
      "\n",
      "         wsb       0.68      0.81      0.74      7410\n",
      "   investing       0.58      0.48      0.53      4104\n",
      "      stocks       0.48      0.39      0.43      4281\n",
      "\n",
      "    accuracy                           0.61     15795\n",
      "   macro avg       0.58      0.56      0.57     15795\n",
      "weighted avg       0.60      0.61      0.60     15795\n",
      "\n"
     ]
    }
   ],
   "source": [
    "print(metrics.classification_report(y_test, y_pred, target_names=sample_data['sub'].unique()))"
   ]
  },
  {
   "cell_type": "code",
   "execution_count": 32,
   "metadata": {},
   "outputs": [
    {
     "name": "stdout",
     "output_type": "stream",
     "text": [
      "# 'investing':\n",
      "Feature: , Score:  (0, ('gme', -2.1971975765539944))\n",
      "Feature: , Score:  (1, ('amc', -1.9322071092543611))\n",
      "Feature: , Score:  (2, ('tendies', -1.9205117216868917))\n",
      "Feature: , Score:  (3, ('yolo', -1.8660127598099212))\n",
      "Feature: , Score:  (4, ('retards', -1.7544373690872994))\n",
      "Feature: , Score:  (5, ('clov', -1.7455687559445845))\n",
      "Feature: , Score:  (6, ('moon', -1.6072013627919064))\n",
      "Feature: , Score:  (7, ('apes', -1.5542158443378133))\n",
      "Feature: , Score:  (8, ('nokia', -1.5471018451417067))\n",
      "Feature: , Score:  (9, ('bynd', -1.4814893680804417))\n",
      "Feature: , Score:  (10, ('restrictions', -1.447182234777994))\n",
      "Feature: , Score:  (11, ('ape', -1.4017179989667699))\n",
      "Feature: , Score:  (12, ('retard', -1.3945298706047584))\n",
      "Feature: , Score:  (13, ('retarded', -1.3674715553773966))\n",
      "Feature: , Score:  (14, ('literally', -1.3585041492795287))\n",
      "Feature: , Score:  (15, ('nio', -1.3466806477580837))\n",
      "Feature: , Score:  (16, ('stonks', -1.3466483956187232))\n",
      "Feature: , Score:  (17, ('uwmc', -1.340106026744414))\n",
      "Feature: , Score:  (18, ('pltr', -1.310618587551921))\n",
      "Feature: , Score:  (19, ('autists', -1.3069569578600966))\n",
      "Feature: , Score:  (20, ('pdt', -1.2951932117185034))\n",
      "Feature: , Score:  (21, ('play', -1.2888481169909975))\n",
      "Feature: , Score:  (22, ('sndl', -1.2732102652244754))\n",
      "Feature: , Score:  (23, ('mvis', -1.2357571659983018))\n",
      "Feature: , Score:  (24, ('subreddit', -1.229159535548516))\n"
     ]
    },
    {
     "data": {
      "image/png": "[encoded data removed]",
      "text/plain": [
       "<Figure size 720x1440 with 1 Axes>"
      ]
     },
     "metadata": {
      "needs_background": "light"
     },
     "output_type": "display_data"
    },
    {
     "name": "stdout",
     "output_type": "stream",
     "text": [
      "# 'stocks':\n",
      "Feature: , Score:  (0, ('2019', -2.137103382549614))\n",
      "Feature: , Score:  (1, ('thread', -1.9730162164095153))\n",
      "Feature: , Score:  (2, ('retards', -1.740572831198632))\n",
      "Feature: , Score:  (3, ('retard', -1.5776265109193945))\n",
      "Feature: , Score:  (4, ('autist', -1.5442003798999675))\n",
      "Feature: , Score:  (5, ('autists', -1.5215177397008715))\n",
      "Feature: , Score:  (6, ('wsb', -1.5025229191250558))\n",
      "Feature: , Score:  (7, ('retarded', -1.466479179468175))\n",
      "Feature: , Score:  (8, ('bears', -1.4578879317942888))\n",
      "Feature: , Score:  (9, ('basic', -1.4306289907447516))\n",
      "Feature: , Score:  (10, ('autistic', -1.3031216106346049))\n",
      "Feature: , Score:  (11, ('period', -1.2746280885962908))\n",
      "Feature: , Score:  (12, ('yolo', -1.2689502883762709))\n",
      "Feature: , Score:  (13, ('fucking', -1.2564917051194011))\n",
      "Feature: , Score:  (14, ('porn', -1.2435199746929462))\n",
      "Feature: , Score:  (15, ('fuck', -1.2363120366427727))\n",
      "Feature: , Score:  (16, ('ibkr', -1.2293967203917673))\n",
      "Feature: , Score:  (17, ('lower', -1.215119005714094))\n",
      "Feature: , Score:  (18, ('store', -1.2138500369675718))\n",
      "Feature: , Score:  (19, ('apes', -1.189967110100808))\n",
      "Feature: , Score:  (20, ('bonds', -1.1883542923335886))\n",
      "Feature: , Score:  (21, ('allowing', -1.1836615985174626))\n",
      "Feature: , Score:  (22, ('economic', -1.179817739968561))\n",
      "Feature: , Score:  (23, ('30k', -1.1794591781284967))\n",
      "Feature: , Score:  (24, ('performance', -1.1636733336164156))\n"
     ]
    },
    {
     "data": {
      "image/png": "[encoded data removed]",
      "text/plain": [
       "<Figure size 720x1440 with 1 Axes>"
      ]
     },
     "metadata": {
      "needs_background": "light"
     },
     "output_type": "display_data"
    },
    {
     "name": "stdout",
     "output_type": "stream",
     "text": [
      "# 'wsb':\n",
      "Feature: , Score:  (0, ('investing', -2.692757401181552))\n",
      "Feature: , Score:  (1, ('bitcoin', -2.5975819383597645))\n",
      "Feature: , Score:  (2, ('etfs', -2.5142115678701))\n",
      "Feature: , Score:  (3, ('etf', -2.4288406498653328))\n",
      "Feature: , Score:  (4, ('investment', -2.2329801146666957))\n",
      "Feature: , Score:  (5, ('portfolio', -2.2043419941088986))\n",
      "Feature: , Score:  (6, ('crypto', -2.2009235346657365))\n",
      "Feature: , Score:  (7, ('stocks', -2.185150731784911))\n",
      "Feature: , Score:  (8, ('roth', -2.0760861418680556))\n",
      "Feature: , Score:  (9, ('investments', -2.0418312017162252))\n",
      "Feature: , Score:  (10, ('https', -2.0262224845282066))\n",
      "Feature: , Score:  (11, ('invest', -2.01537226533745))\n",
      "Feature: , Score:  (12, ('questions', -1.9817240753571104))\n",
      "Feature: , Score:  (13, ('spitballin', -1.8844051988065007))\n",
      "Feature: , Score:  (14, ('ira', -1.7792881802749354))\n",
      "Feature: , Score:  (15, ('index', -1.7361159638327182))\n",
      "Feature: , Score:  (16, ('voo', -1.7326636535164548))\n",
      "Feature: , Score:  (17, ('vti', -1.697301034584313))\n",
      "Feature: , Score:  (18, ('term', -1.6942879919310083))\n",
      "Feature: , Score:  (19, ('referral', -1.6770873404703959))\n",
      "Feature: , Score:  (20, ('investors', -1.641734768861386))\n",
      "Feature: , Score:  (21, ('yield', -1.6318644790029515))\n",
      "Feature: , Score:  (22, ('feedback', -1.6289830088697639))\n",
      "Feature: , Score:  (23, ('stock', -1.6238874046995693))\n",
      "Feature: , Score:  (24, ('investor', -1.6002125492282344))\n"
     ]
    },
    {
     "data": {
      "image/png": "[encoded data removed]",
      "text/plain": [
       "<Figure size 720x1440 with 1 Axes>"
      ]
     },
     "metadata": {
      "needs_background": "light"
     },
     "output_type": "display_data"
    }
   ],
   "source": [
    "from matplotlib import pyplot\n",
    "for Product, category_id in sorted(category_to_id.items()):\n",
    "    print(\"# '{}':\".format(Product))\n",
    "    # summarize feature importance\n",
    "    importance = np.sort(model.coef_[category_id])\n",
    "    indices = np.argsort(model.coef_[category_id])\n",
    "    feature_names = np.array(tfidf.get_feature_names())[indices]\n",
    "    \n",
    "    for i,v in enumerate(zip(feature_names[:25],importance[:25])):\n",
    "        print('Feature: , Score: ',(i,v))\n",
    "    # plot feature importance\n",
    "    pyplot.figure(figsize=(10,20))\n",
    "    pyplot.barh(feature_names[:25], importance[:25])    \n",
    "    pyplot.show()"
   ]
  },
  {
   "cell_type": "code",
   "execution_count": 33,
   "metadata": {},
   "outputs": [
    {
     "name": "stdout",
     "output_type": "stream",
     "text": [
      "# 'investing':\n",
      "Feature: , Score:  (0, ('allocation', 1.421632130414822))\n",
      "Feature: , Score:  (1, ('binance', 1.4384526895720773))\n",
      "Feature: , Score:  (2, ('article', 1.477570839975692))\n",
      "Feature: , Score:  (3, ('robo', 1.478952651547581))\n",
      "Feature: , Score:  (4, ('educational', 1.4822814175375263))\n",
      "Feature: , Score:  (5, ('questions', 1.495667461951492))\n",
      "Feature: , Score:  (6, ('estate', 1.4970260352121807))\n",
      "Feature: , Score:  (7, ('personal', 1.497269330528416))\n",
      "Feature: , Score:  (8, ('property', 1.5090624905592618))\n",
      "Feature: , Score:  (9, ('dual', 1.5129807834969264))\n",
      "Feature: , Score:  (10, ('investor', 1.521530815166185))\n",
      "Feature: , Score:  (11, ('lynch', 1.5298155510409701))\n",
      "Feature: , Score:  (12, ('savings', 1.5384968432185315))\n",
      "Feature: , Score:  (13, ('employer', 1.5466148659843229))\n",
      "Feature: , Score:  (14, ('401', 1.5466616397484692))\n",
      "Feature: , Score:  (15, ('online', 1.5540388381714456))\n",
      "Feature: , Score:  (16, ('2018', 1.5546404959792237))\n",
      "Feature: , Score:  (17, ('cd', 1.5549355106189031))\n",
      "Feature: , Score:  (18, ('espp', 1.5568105634312304))\n",
      "Feature: , Score:  (19, ('fund', 1.563678723470322))\n",
      "Feature: , Score:  (20, ('business', 1.569092421972932))\n",
      "Feature: , Score:  (21, ('sensex', 1.5693106677526423))\n",
      "Feature: , Score:  (22, ('newsletter', 1.5725447383647604))\n",
      "Feature: , Score:  (23, ('funds', 1.574925583915876))\n",
      "Feature: , Score:  (24, ('treasuries', 1.5822720437065352))\n",
      "Feature: , Score:  (25, ('advisor', 1.6017376248362325))\n",
      "Feature: , Score:  (26, ('etf', 1.616236334823901))\n",
      "Feature: , Score:  (27, ('investors', 1.6166320805410024))\n",
      "Feature: , Score:  (28, ('economic', 1.6191277629151595))\n",
      "Feature: , Score:  (29, ('private', 1.6346833796235802))\n",
      "Feature: , Score:  (30, ('registration', 1.647759600708275))\n",
      "Feature: , Score:  (31, ('tencent', 1.658931145239048))\n",
      "Feature: , Score:  (32, ('invest', 1.702564199125247))\n",
      "Feature: , Score:  (33, ('etfs', 1.7120148163101525))\n",
      "Feature: , Score:  (34, ('tariffs', 1.7504175013662364))\n",
      "Feature: , Score:  (35, ('ira', 1.8257504421356199))\n",
      "Feature: , Score:  (36, ('asset', 1.8338111357464364))\n",
      "Feature: , Score:  (37, ('basic', 1.835823301579052))\n",
      "Feature: , Score:  (38, ('returns', 1.8432218433825733))\n",
      "Feature: , Score:  (39, ('bond', 1.8558342314455605))\n",
      "Feature: , Score:  (40, ('vanguard', 1.8911968534160877))\n",
      "Feature: , Score:  (41, ('retirement', 1.9419680588737898))\n",
      "Feature: , Score:  (42, ('crypto', 1.9791627969720322))\n",
      "Feature: , Score:  (43, ('investments', 2.0075126829386623))\n",
      "Feature: , Score:  (44, ('401k', 2.112358663922519))\n",
      "Feature: , Score:  (45, ('investment', 2.1783314923288977))\n",
      "Feature: , Score:  (46, ('bitcoin', 2.305542958538332))\n",
      "Feature: , Score:  (47, ('bonds', 2.4487687653764807))\n",
      "Feature: , Score:  (48, ('investing', 2.702744635096078))\n",
      "Feature: , Score:  (49, ('spitballin', 2.807476428766425))\n"
     ]
    },
    {
     "data": {
      "image/png": "[encoded data removed]",
      "text/plain": [
       "<Figure size 720x1440 with 1 Axes>"
      ]
     },
     "metadata": {
      "needs_background": "light"
     },
     "output_type": "display_data"
    },
    {
     "name": "stdout",
     "output_type": "stream",
     "text": [
      "# 'stocks':\n",
      "Feature: , Score:  (0, ('referral', 1.0855879778840207))\n",
      "Feature: , Score:  (1, ('clsk', 1.088511446746685))\n",
      "Feature: , Score:  (2, ('arkk', 1.0935045549542735))\n",
      "Feature: , Score:  (3, ('insiders', 1.09661244661995))\n",
      "Feature: , Score:  (4, ('2021', 1.0979626382843257))\n",
      "Feature: , Score:  (5, ('wins', 1.0984391443523578))\n",
      "Feature: , Score:  (6, ('fell', 1.106342615317925))\n",
      "Feature: , Score:  (7, ('niu', 1.112129689773726))\n",
      "Feature: , Score:  (8, ('https', 1.1122823217307607))\n",
      "Feature: , Score:  (9, ('14', 1.1151732375711496))\n",
      "Feature: , Score:  (10, ('nasdaq', 1.116846101949735))\n",
      "Feature: , Score:  (11, ('plant', 1.123672522491402))\n",
      "Feature: , Score:  (12, ('hyln', 1.1276976443618925))\n",
      "Feature: , Score:  (13, ('bep', 1.1296990682437011))\n",
      "Feature: , Score:  (14, ('sbe', 1.1366835229755163))\n",
      "Feature: , Score:  (15, ('ttcf', 1.1381515106692381))\n",
      "Feature: , Score:  (16, ('square', 1.1447676119321855))\n",
      "Feature: , Score:  (17, ('particular', 1.1506788563962524))\n",
      "Feature: , Score:  (18, ('eri', 1.15281113733258))\n",
      "Feature: , Score:  (19, ('cleanspark', 1.1547082354793077))\n",
      "Feature: , Score:  (20, ('atos', 1.158885436297543))\n",
      "Feature: , Score:  (21, ('twlo', 1.1606381316944996))\n",
      "Feature: , Score:  (22, ('zomedica', 1.1631697903431106))\n",
      "Feature: , Score:  (23, ('tffp', 1.1744480929909076))\n",
      "Feature: , Score:  (24, ('ideanomics', 1.1748611937244677))\n",
      "Feature: , Score:  (25, ('fmci', 1.1792712382359718))\n",
      "Feature: , Score:  (26, ('srne', 1.1817153721881506))\n",
      "Feature: , Score:  (27, ('xpeng', 1.1847967398694876))\n",
      "Feature: , Score:  (28, ('yard', 1.1865923707479624))\n",
      "Feature: , Score:  (29, ('sls', 1.2006573029208265))\n",
      "Feature: , Score:  (30, ('australis', 1.202457232627412))\n",
      "Feature: , Score:  (31, ('scalping', 1.2120128255261506))\n",
      "Feature: , Score:  (32, ('limited', 1.2276851794920203))\n",
      "Feature: , Score:  (33, ('nat', 1.2343177876270293))\n",
      "Feature: , Score:  (34, ('petroleum', 1.2413143758090421))\n",
      "Feature: , Score:  (35, ('gush', 1.2443324016668444))\n",
      "Feature: , Score:  (36, ('watchlists', 1.2503295753578212))\n",
      "Feature: , Score:  (37, ('penn', 1.2838675149695167))\n",
      "Feature: , Score:  (38, ('ark', 1.2858371752034246))\n",
      "Feature: , Score:  (39, ('appl', 1.2923305839873636))\n",
      "Feature: , Score:  (40, ('gnus', 1.3146541280861486))\n",
      "Feature: , Score:  (41, ('rtx', 1.4192904015946977))\n",
      "Feature: , Score:  (42, ('evergrande', 1.4314355945584742))\n",
      "Feature: , Score:  (43, ('enph', 1.4529382046009227))\n",
      "Feature: , Score:  (44, ('affected', 1.5870044103758003))\n",
      "Feature: , Score:  (45, ('stock', 1.645354024193788))\n",
      "Feature: , Score:  (46, ('recap', 1.6850478954815877))\n",
      "Feature: , Score:  (47, ('se', 1.7181721234551033))\n",
      "Feature: , Score:  (48, ('dgly', 2.001301963023945))\n",
      "Feature: , Score:  (49, ('stocks', 2.271457954630233))\n"
     ]
    },
    {
     "data": {
      "image/png": "[encoded data removed]",
      "text/plain": [
       "<Figure size 720x1440 with 1 Axes>"
      ]
     },
     "metadata": {
      "needs_background": "light"
     },
     "output_type": "display_data"
    },
    {
     "name": "stdout",
     "output_type": "stream",
     "text": [
      "# 'wsb':\n",
      "Feature: , Score:  (0, ('meme', 1.440287170927788))\n",
      "Feature: , Score:  (1, ('nok', 1.4629344075118365))\n",
      "Feature: , Score:  (2, ('irnt', 1.4737677111846141))\n",
      "Feature: , Score:  (3, ('uwmc', 1.4846871520584193))\n",
      "Feature: , Score:  (4, ('puts', 1.4944214345600162))\n",
      "Feature: , Score:  (5, ('pltr', 1.512524472436705))\n",
      "Feature: , Score:  (6, ('hands', 1.5172148606308804))\n",
      "Feature: , Score:  (7, ('fucks', 1.5188982320066031))\n",
      "Feature: , Score:  (8, ('mooning', 1.5408209000603135))\n",
      "Feature: , Score:  (9, ('citadel', 1.5540648630723433))\n",
      "Feature: , Score:  (10, ('imagine', 1.563233861180613))\n",
      "Feature: , Score:  (11, ('clne', 1.5645722503833455))\n",
      "Feature: , Score:  (12, ('robinhood', 1.5839825119718738))\n",
      "Feature: , Score:  (13, ('yoloing', 1.6170954040761236))\n",
      "Feature: , Score:  (14, ('boys', 1.6455647156767177))\n",
      "Feature: , Score:  (15, ('moon', 1.6617597295327102))\n",
      "Feature: , Score:  (16, ('literally', 1.6808938041655384))\n",
      "Feature: , Score:  (17, ('petition', 1.7001312486898263))\n",
      "Feature: , Score:  (18, ('mnmd', 1.7383362537629556))\n",
      "Feature: , Score:  (19, ('dfv', 1.7826323799020394))\n",
      "Feature: , Score:  (20, ('confirmed', 1.7911129748667833))\n",
      "Feature: , Score:  (21, ('rh', 1.7987487373056492))\n",
      "Feature: , Score:  (22, ('amc', 1.8035102995103067))\n",
      "Feature: , Score:  (23, ('calls', 1.8193739627942138))\n",
      "Feature: , Score:  (24, ('fucked', 1.8276883633094967))\n",
      "Feature: , Score:  (25, ('shit', 1.8426886927530313))\n",
      "Feature: , Score:  (26, ('bears', 1.8517649824525597))\n",
      "Feature: , Score:  (27, ('autism', 1.8808026341414135))\n",
      "Feature: , Score:  (28, ('thread', 1.889720201668018))\n",
      "Feature: , Score:  (29, ('degenerates', 1.8997289236730883))\n",
      "Feature: , Score:  (30, ('bb', 1.9055085941154744))\n",
      "Feature: , Score:  (31, ('porn', 1.910690653897747))\n",
      "Feature: , Score:  (32, ('melvin', 1.9864865870844677))\n",
      "Feature: , Score:  (33, ('fucking', 2.035911454960257))\n",
      "Feature: , Score:  (34, ('gay', 2.0792284280167372))\n",
      "Feature: , Score:  (35, ('gang', 2.1245091375246647))\n",
      "Feature: , Score:  (36, ('autist', 2.1661144974768543))\n",
      "Feature: , Score:  (37, ('wsb', 2.2292884699642554))\n",
      "Feature: , Score:  (38, ('clov', 2.245700162722128))\n",
      "Feature: , Score:  (39, ('fuck', 2.3731090009170934))\n",
      "Feature: , Score:  (40, ('autistic', 2.436579339202197))\n",
      "Feature: , Score:  (41, ('ape', 2.531244245921811))\n",
      "Feature: , Score:  (42, ('gme', 2.541656913194012))\n",
      "Feature: , Score:  (43, ('apes', 2.744182954438636))\n",
      "Feature: , Score:  (44, ('autists', 2.828474697560939))\n",
      "Feature: , Score:  (45, ('retarded', 2.8339507348455855))\n",
      "Feature: , Score:  (46, ('tendies', 2.8425351515209853))\n",
      "Feature: , Score:  (47, ('retard', 2.9721563815241443))\n",
      "Feature: , Score:  (48, ('yolo', 3.1349630481862185))\n",
      "Feature: , Score:  (49, ('retards', 3.495010200285945))\n"
     ]
    },
    {
     "data": {
      "image/png": "[encoded data removed]",
      "text/plain": [
       "<Figure size 720x1440 with 1 Axes>"
      ]
     },
     "metadata": {
      "needs_background": "light"
     },
     "output_type": "display_data"
    }
   ],
   "source": [
    "from matplotlib import pyplot\n",
    "for Product, category_id in sorted(category_to_id.items()):\n",
    "    print(\"# '{}':\".format(Product))\n",
    "    # summarize feature importance\n",
    "    importance = np.sort(model.coef_[category_id])\n",
    "    indices = np.argsort(model.coef_[category_id])\n",
    "    feature_names = np.array(tfidf.get_feature_names())[indices]\n",
    "    \n",
    "    for i,v in enumerate(zip(feature_names[(len(feature_names[:])-50):],importance[(len(feature_names[:])-50):])):\n",
    "        print('Feature: , Score: ',(i,v))\n",
    "    # plot feature importance\n",
    "    #pyplot.bar([x for x in range(len(importance[:10]))], importance[:10])\n",
    "    pyplot.figure(figsize=(10,20))\n",
    "    pyplot.barh(feature_names[len(feature_names[:])-50:], importance[len(feature_names[:])-50:])    \n",
    "    pyplot.show()"
   ]
  },
  {
   "cell_type": "code",
   "execution_count": null,
   "metadata": {},
   "outputs": [],
   "source": []
  }
 ],
 "metadata": {
  "kernelspec": {
   "display_name": "Python 3",
   "language": "python",
   "name": "python3"
  },
  "language_info": {
   "codemirror_mode": {
    "name": "ipython",
    "version": 3
   },
   "file_extension": ".py",
   "mimetype": "text/x-python",
   "name": "python",
   "nbconvert_exporter": "python",
   "pygments_lexer": "ipython3",
   "version": "3.7.4"
  }
 },
 "nbformat": 4,
 "nbformat_minor": 4
}
