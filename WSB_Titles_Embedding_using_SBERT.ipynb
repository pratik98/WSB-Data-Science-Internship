{
 "cells": [
  {
   "cell_type": "code",
   "execution_count": 1,
   "metadata": {
    "id": "mg2qdMUtJ8r9"
   },
   "outputs": [
    {
     "name": "stderr",
     "output_type": "stream",
     "text": [
      "In C:\\Users\\96ank\\AppData\\Local\\Continuum\\anaconda3\\lib\\site-packages\\matplotlib\\mpl-data\\stylelib\\_classic_test.mplstyle: \n",
      "The text.latex.preview rcparam was deprecated in Matplotlib 3.3 and will be removed two minor releases later.\n",
      "In C:\\Users\\96ank\\AppData\\Local\\Continuum\\anaconda3\\lib\\site-packages\\matplotlib\\mpl-data\\stylelib\\_classic_test.mplstyle: \n",
      "The mathtext.fallback_to_cm rcparam was deprecated in Matplotlib 3.3 and will be removed two minor releases later.\n",
      "In C:\\Users\\96ank\\AppData\\Local\\Continuum\\anaconda3\\lib\\site-packages\\matplotlib\\mpl-data\\stylelib\\_classic_test.mplstyle: Support for setting the 'mathtext.fallback_to_cm' rcParam is deprecated since 3.3 and will be removed two minor releases later; use 'mathtext.fallback : 'cm' instead.\n",
      "In C:\\Users\\96ank\\AppData\\Local\\Continuum\\anaconda3\\lib\\site-packages\\matplotlib\\mpl-data\\stylelib\\_classic_test.mplstyle: \n",
      "The validate_bool_maybe_none function was deprecated in Matplotlib 3.3 and will be removed two minor releases later.\n",
      "In C:\\Users\\96ank\\AppData\\Local\\Continuum\\anaconda3\\lib\\site-packages\\matplotlib\\mpl-data\\stylelib\\_classic_test.mplstyle: \n",
      "The savefig.jpeg_quality rcparam was deprecated in Matplotlib 3.3 and will be removed two minor releases later.\n",
      "In C:\\Users\\96ank\\AppData\\Local\\Continuum\\anaconda3\\lib\\site-packages\\matplotlib\\mpl-data\\stylelib\\_classic_test.mplstyle: \n",
      "The keymap.all_axes rcparam was deprecated in Matplotlib 3.3 and will be removed two minor releases later.\n",
      "In C:\\Users\\96ank\\AppData\\Local\\Continuum\\anaconda3\\lib\\site-packages\\matplotlib\\mpl-data\\stylelib\\_classic_test.mplstyle: \n",
      "The animation.avconv_path rcparam was deprecated in Matplotlib 3.3 and will be removed two minor releases later.\n",
      "In C:\\Users\\96ank\\AppData\\Local\\Continuum\\anaconda3\\lib\\site-packages\\matplotlib\\mpl-data\\stylelib\\_classic_test.mplstyle: \n",
      "The animation.avconv_args rcparam was deprecated in Matplotlib 3.3 and will be removed two minor releases later.\n"
     ]
    }
   ],
   "source": [
    "from datetime import datetime\n",
    "import matplotlib.pyplot as plt\n",
    "import numpy as np\n",
    "import pandas as pd\n",
    "import json\n",
    "plt.rcParams.update({\"font.size\": 12})\n",
    "%matplotlib inline"
   ]
  },
  {
   "cell_type": "code",
   "execution_count": null,
   "metadata": {
    "id": "UHQiMaGBKYKj"
   },
   "outputs": [],
   "source": [
    "!pip install -U sentence-transformers"
   ]
  },
  {
   "cell_type": "code",
   "execution_count": null,
   "metadata": {
    "id": "NwYyRUUYKczK"
   },
   "outputs": [],
   "source": [
    "from sentence_transformers import SentenceTransformer\n",
    "model = SentenceTransformer('paraphrase-MiniLM-L6-v2')\n"
   ]
  },
  {
   "cell_type": "code",
   "execution_count": 2,
   "metadata": {
    "colab": {
     "base_uri": "https://localhost:8080/"
    },
    "id": "u2cg-eN5KqHy",
    "outputId": "ba1cf10e-a419-43b3-ccf7-29c41737a6e9"
   },
   "outputs": [
    {
     "name": "stdout",
     "output_type": "stream",
     "text": [
      "Mounted at /content/drive\n"
     ]
    }
   ],
   "source": [
    "from google.colab import drive\n",
    "drive.mount('/content/drive')"
   ]
  },
  {
   "cell_type": "code",
   "execution_count": 2,
   "metadata": {
    "colab": {
     "base_uri": "https://localhost:8080/",
     "height": 507
    },
    "id": "7j261Yc3LFZy",
    "outputId": "0f5e77a9-7685-457f-eb17-ef34dee76cf9"
   },
   "outputs": [
    {
     "data": {
      "text/html": [
       "<div>\n",
       "<style scoped>\n",
       "    .dataframe tbody tr th:only-of-type {\n",
       "        vertical-align: middle;\n",
       "    }\n",
       "\n",
       "    .dataframe tbody tr th {\n",
       "        vertical-align: top;\n",
       "    }\n",
       "\n",
       "    .dataframe thead th {\n",
       "        text-align: right;\n",
       "    }\n",
       "</style>\n",
       "<table border=\"1\" class=\"dataframe\">\n",
       "  <thead>\n",
       "    <tr style=\"text-align: right;\">\n",
       "      <th></th>\n",
       "      <th>Unnamed: 0</th>\n",
       "      <th>author</th>\n",
       "      <th>created_utc</th>\n",
       "      <th>id</th>\n",
       "      <th>link_flair_text</th>\n",
       "      <th>num_comments</th>\n",
       "      <th>score</th>\n",
       "      <th>subreddit_subscribers</th>\n",
       "      <th>selftext</th>\n",
       "      <th>title</th>\n",
       "      <th>upvote_ratio</th>\n",
       "    </tr>\n",
       "    <tr>\n",
       "      <th>created_utc</th>\n",
       "      <th></th>\n",
       "      <th></th>\n",
       "      <th></th>\n",
       "      <th></th>\n",
       "      <th></th>\n",
       "      <th></th>\n",
       "      <th></th>\n",
       "      <th></th>\n",
       "      <th></th>\n",
       "      <th></th>\n",
       "      <th></th>\n",
       "    </tr>\n",
       "  </thead>\n",
       "  <tbody>\n",
       "    <tr>\n",
       "      <th>2018-12-31 15:05:18</th>\n",
       "      <td>861747</td>\n",
       "      <td>Leading_Breath</td>\n",
       "      <td>2018-12-31 15:05:18</td>\n",
       "      <td>ab7upy</td>\n",
       "      <td>NaN</td>\n",
       "      <td>417</td>\n",
       "      <td>1</td>\n",
       "      <td>454678</td>\n",
       "      <td>NaN</td>\n",
       "      <td>\"I don't give a shit about Tesla I just want t...</td>\n",
       "      <td>0.0</td>\n",
       "    </tr>\n",
       "    <tr>\n",
       "      <th>2018-12-31 14:45:20</th>\n",
       "      <td>861748</td>\n",
       "      <td>skitty2</td>\n",
       "      <td>2018-12-31 14:45:20</td>\n",
       "      <td>ab7oz6</td>\n",
       "      <td>NaN</td>\n",
       "      <td>8</td>\n",
       "      <td>1</td>\n",
       "      <td>454674</td>\n",
       "      <td>The whole next year will be green.</td>\n",
       "      <td>If today closes green</td>\n",
       "      <td>0.0</td>\n",
       "    </tr>\n",
       "    <tr>\n",
       "      <th>2018-12-31 14:40:30</th>\n",
       "      <td>861749</td>\n",
       "      <td>Googs84</td>\n",
       "      <td>2018-12-31 14:40:30</td>\n",
       "      <td>ab7nkw</td>\n",
       "      <td>Shitpost</td>\n",
       "      <td>0</td>\n",
       "      <td>1</td>\n",
       "      <td>454672</td>\n",
       "      <td>Happy New Year to all you degenerates includin...</td>\n",
       "      <td>Happy New Year Degenerates</td>\n",
       "      <td>0.0</td>\n",
       "    </tr>\n",
       "    <tr>\n",
       "      <th>2018-12-31 14:34:10</th>\n",
       "      <td>861750</td>\n",
       "      <td>neocoff</td>\n",
       "      <td>2018-12-31 14:34:10</td>\n",
       "      <td>ab7lu7</td>\n",
       "      <td>NaN</td>\n",
       "      <td>7</td>\n",
       "      <td>1</td>\n",
       "      <td>454672</td>\n",
       "      <td>NaN</td>\n",
       "      <td>Chip stocks set for worst quarter in a decade....</td>\n",
       "      <td>0.0</td>\n",
       "    </tr>\n",
       "    <tr>\n",
       "      <th>2018-12-31 14:29:50</th>\n",
       "      <td>861751</td>\n",
       "      <td>Brodmann</td>\n",
       "      <td>2018-12-31 14:29:50</td>\n",
       "      <td>ab7km1</td>\n",
       "      <td>Discussion</td>\n",
       "      <td>2</td>\n",
       "      <td>1</td>\n",
       "      <td>454671</td>\n",
       "      <td>NaN</td>\n",
       "      <td>Aphria down 7% premarket; Questions Surface if...</td>\n",
       "      <td>0.0</td>\n",
       "    </tr>\n",
       "  </tbody>\n",
       "</table>\n",
       "</div>"
      ],
      "text/plain": [
       "                     Unnamed: 0          author         created_utc      id  \\\n",
       "created_utc                                                                   \n",
       "2018-12-31 15:05:18      861747  Leading_Breath 2018-12-31 15:05:18  ab7upy   \n",
       "2018-12-31 14:45:20      861748         skitty2 2018-12-31 14:45:20  ab7oz6   \n",
       "2018-12-31 14:40:30      861749         Googs84 2018-12-31 14:40:30  ab7nkw   \n",
       "2018-12-31 14:34:10      861750         neocoff 2018-12-31 14:34:10  ab7lu7   \n",
       "2018-12-31 14:29:50      861751        Brodmann 2018-12-31 14:29:50  ab7km1   \n",
       "\n",
       "                    link_flair_text  num_comments  score  \\\n",
       "created_utc                                                \n",
       "2018-12-31 15:05:18             NaN           417      1   \n",
       "2018-12-31 14:45:20             NaN             8      1   \n",
       "2018-12-31 14:40:30        Shitpost             0      1   \n",
       "2018-12-31 14:34:10             NaN             7      1   \n",
       "2018-12-31 14:29:50      Discussion             2      1   \n",
       "\n",
       "                     subreddit_subscribers  \\\n",
       "created_utc                                  \n",
       "2018-12-31 15:05:18                 454678   \n",
       "2018-12-31 14:45:20                 454674   \n",
       "2018-12-31 14:40:30                 454672   \n",
       "2018-12-31 14:34:10                 454672   \n",
       "2018-12-31 14:29:50                 454671   \n",
       "\n",
       "                                                              selftext  \\\n",
       "created_utc                                                              \n",
       "2018-12-31 15:05:18                                                NaN   \n",
       "2018-12-31 14:45:20                 The whole next year will be green.   \n",
       "2018-12-31 14:40:30  Happy New Year to all you degenerates includin...   \n",
       "2018-12-31 14:34:10                                                NaN   \n",
       "2018-12-31 14:29:50                                                NaN   \n",
       "\n",
       "                                                                 title  \\\n",
       "created_utc                                                              \n",
       "2018-12-31 15:05:18  \"I don't give a shit about Tesla I just want t...   \n",
       "2018-12-31 14:45:20                              If today closes green   \n",
       "2018-12-31 14:40:30                         Happy New Year Degenerates   \n",
       "2018-12-31 14:34:10  Chip stocks set for worst quarter in a decade....   \n",
       "2018-12-31 14:29:50  Aphria down 7% premarket; Questions Surface if...   \n",
       "\n",
       "                     upvote_ratio  \n",
       "created_utc                        \n",
       "2018-12-31 15:05:18           0.0  \n",
       "2018-12-31 14:45:20           0.0  \n",
       "2018-12-31 14:40:30           0.0  \n",
       "2018-12-31 14:34:10           0.0  \n",
       "2018-12-31 14:29:50           0.0  "
      ]
     },
     "execution_count": 2,
     "metadata": {},
     "output_type": "execute_result"
    }
   ],
   "source": [
    "df = pd.read_csv(\"data/WSB_submissions_all.csv\", sep=\";\")\n",
    "df['created_utc'] = pd.to_datetime(df['created_utc'], unit='s')\n",
    "df.index = pd.DatetimeIndex(df.created_utc)\n",
    "df.tail()"
   ]
  },
  {
   "cell_type": "code",
   "execution_count": 3,
   "metadata": {
    "colab": {
     "base_uri": "https://localhost:8080/",
     "height": 794
    },
    "id": "0rGRaA51MKW2",
    "outputId": "09b22d81-91f5-45da-b752-7d4b65a543b2"
   },
   "outputs": [],
   "source": [
    "df=df.drop(\"created_utc\",axis=1)"
   ]
  },
  {
   "cell_type": "code",
   "execution_count": 4,
   "metadata": {
    "id": "Y801_CucMadK"
   },
   "outputs": [],
   "source": [
    "df=df.rename(columns={\"Unnamed: 0\": \"SegmentID\"})"
   ]
  },
  {
   "cell_type": "code",
   "execution_count": 5,
   "metadata": {
    "colab": {
     "base_uri": "https://localhost:8080/",
     "height": 438
    },
    "id": "QjesWwLFMh3i",
    "outputId": "6e4823f4-acfc-4807-aa05-a6d52e8045d3"
   },
   "outputs": [
    {
     "data": {
      "text/html": [
       "<div>\n",
       "<style scoped>\n",
       "    .dataframe tbody tr th:only-of-type {\n",
       "        vertical-align: middle;\n",
       "    }\n",
       "\n",
       "    .dataframe tbody tr th {\n",
       "        vertical-align: top;\n",
       "    }\n",
       "\n",
       "    .dataframe thead th {\n",
       "        text-align: right;\n",
       "    }\n",
       "</style>\n",
       "<table border=\"1\" class=\"dataframe\">\n",
       "  <thead>\n",
       "    <tr style=\"text-align: right;\">\n",
       "      <th></th>\n",
       "      <th>SegmentID</th>\n",
       "      <th>author</th>\n",
       "      <th>id</th>\n",
       "      <th>link_flair_text</th>\n",
       "      <th>num_comments</th>\n",
       "      <th>score</th>\n",
       "      <th>subreddit_subscribers</th>\n",
       "      <th>selftext</th>\n",
       "      <th>title</th>\n",
       "      <th>upvote_ratio</th>\n",
       "    </tr>\n",
       "    <tr>\n",
       "      <th>created_utc</th>\n",
       "      <th></th>\n",
       "      <th></th>\n",
       "      <th></th>\n",
       "      <th></th>\n",
       "      <th></th>\n",
       "      <th></th>\n",
       "      <th></th>\n",
       "      <th></th>\n",
       "      <th></th>\n",
       "      <th></th>\n",
       "    </tr>\n",
       "  </thead>\n",
       "  <tbody>\n",
       "    <tr>\n",
       "      <th>2021-10-19 17:58:57</th>\n",
       "      <td>0</td>\n",
       "      <td>VendiVendiVendi</td>\n",
       "      <td>qbh10s</td>\n",
       "      <td>Gain</td>\n",
       "      <td>0</td>\n",
       "      <td>1</td>\n",
       "      <td>10967090</td>\n",
       "      <td>So 13.56 cad for BB.  It’s moving and gaining ...</td>\n",
       "      <td>BB</td>\n",
       "      <td>1.0</td>\n",
       "    </tr>\n",
       "    <tr>\n",
       "      <th>2021-10-19 17:57:49</th>\n",
       "      <td>1</td>\n",
       "      <td>Far_Bass_7284</td>\n",
       "      <td>qbh04w</td>\n",
       "      <td>News</td>\n",
       "      <td>1</td>\n",
       "      <td>1</td>\n",
       "      <td>10967087</td>\n",
       "      <td>NaN</td>\n",
       "      <td>Surely it is a coincidence.</td>\n",
       "      <td>1.0</td>\n",
       "    </tr>\n",
       "    <tr>\n",
       "      <th>2021-10-19 17:55:24</th>\n",
       "      <td>2</td>\n",
       "      <td>HistoricalAnimator43</td>\n",
       "      <td>qbgyco</td>\n",
       "      <td>YOLO</td>\n",
       "      <td>0</td>\n",
       "      <td>1</td>\n",
       "      <td>10967076</td>\n",
       "      <td>NaN</td>\n",
       "      <td>yolo sava options</td>\n",
       "      <td>1.0</td>\n",
       "    </tr>\n",
       "    <tr>\n",
       "      <th>2021-10-19 17:54:51</th>\n",
       "      <td>3</td>\n",
       "      <td>ZaRaWi</td>\n",
       "      <td>qbgxy8</td>\n",
       "      <td>YOLO</td>\n",
       "      <td>0</td>\n",
       "      <td>1</td>\n",
       "      <td>10967076</td>\n",
       "      <td>NaN</td>\n",
       "      <td>meme</td>\n",
       "      <td>1.0</td>\n",
       "    </tr>\n",
       "    <tr>\n",
       "      <th>2021-10-19 17:52:33</th>\n",
       "      <td>4</td>\n",
       "      <td>CuteInterest1884</td>\n",
       "      <td>qbgw9u</td>\n",
       "      <td>DD</td>\n",
       "      <td>0</td>\n",
       "      <td>1</td>\n",
       "      <td>10967075</td>\n",
       "      <td>BB is on the move higher, not because of the p...</td>\n",
       "      <td>BB</td>\n",
       "      <td>1.0</td>\n",
       "    </tr>\n",
       "  </tbody>\n",
       "</table>\n",
       "</div>"
      ],
      "text/plain": [
       "                     SegmentID                author      id link_flair_text  \\\n",
       "created_utc                                                                    \n",
       "2021-10-19 17:58:57          0       VendiVendiVendi  qbh10s            Gain   \n",
       "2021-10-19 17:57:49          1         Far_Bass_7284  qbh04w            News   \n",
       "2021-10-19 17:55:24          2  HistoricalAnimator43  qbgyco            YOLO   \n",
       "2021-10-19 17:54:51          3                ZaRaWi  qbgxy8            YOLO   \n",
       "2021-10-19 17:52:33          4      CuteInterest1884  qbgw9u              DD   \n",
       "\n",
       "                     num_comments  score  subreddit_subscribers  \\\n",
       "created_utc                                                       \n",
       "2021-10-19 17:58:57             0      1               10967090   \n",
       "2021-10-19 17:57:49             1      1               10967087   \n",
       "2021-10-19 17:55:24             0      1               10967076   \n",
       "2021-10-19 17:54:51             0      1               10967076   \n",
       "2021-10-19 17:52:33             0      1               10967075   \n",
       "\n",
       "                                                              selftext  \\\n",
       "created_utc                                                              \n",
       "2021-10-19 17:58:57  So 13.56 cad for BB.  It’s moving and gaining ...   \n",
       "2021-10-19 17:57:49                                                NaN   \n",
       "2021-10-19 17:55:24                                                NaN   \n",
       "2021-10-19 17:54:51                                                NaN   \n",
       "2021-10-19 17:52:33  BB is on the move higher, not because of the p...   \n",
       "\n",
       "                                           title  upvote_ratio  \n",
       "created_utc                                                     \n",
       "2021-10-19 17:58:57                           BB           1.0  \n",
       "2021-10-19 17:57:49  Surely it is a coincidence.           1.0  \n",
       "2021-10-19 17:55:24            yolo sava options           1.0  \n",
       "2021-10-19 17:54:51                         meme           1.0  \n",
       "2021-10-19 17:52:33                           BB           1.0  "
      ]
     },
     "execution_count": 5,
     "metadata": {},
     "output_type": "execute_result"
    }
   ],
   "source": [
    "df.head()"
   ]
  },
  {
   "cell_type": "code",
   "execution_count": null,
   "metadata": {
    "id": "tUMRnIH5MnVY"
   },
   "outputs": [],
   "source": [
    "#Sentences are encoded by calling model.encode() #https://www.sbert.net/\n",
    "#import re\n",
    "#df_title = df[\"title\"].apply(lambda title: re.sub(r\"http\\S+\", \"\", title).lower(), 1)\n",
    "#df_title[5000]\n",
    "#embeddings = model.encode(df_title.tolist())"
   ]
  },
  {
   "cell_type": "code",
   "execution_count": 6,
   "metadata": {
    "id": "ujyDs0lxn9NE"
   },
   "outputs": [],
   "source": [
    "import pickle\n",
    "#Store sentences & embeddings on disc\n",
    "#with open('/content/drive/MyDrive/WSB/embeddings.pkl', \"wb\") as fOut:\n",
    "#    pickle.dump({'sentences': df_title.tolist(), 'embeddings': embeddings}, fOut, protocol=pickle.HIGHEST_PROTOCOL)\n",
    "\n",
    "#Load sentences & embeddings from disc\n",
    "with open('data/embeddings.pkl', \"rb\") as fIn:\n",
    "    stored_data = pickle.load(fIn)\n",
    "    stored_sentences = stored_data['sentences']\n",
    "    stored_embeddings = stored_data['embeddings']"
   ]
  },
  {
   "cell_type": "code",
   "execution_count": 9,
   "metadata": {},
   "outputs": [
    {
     "data": {
      "text/plain": [
       "861752"
      ]
     },
     "execution_count": 9,
     "metadata": {},
     "output_type": "execute_result"
    }
   ],
   "source": [
    "len(stored_embeddings)"
   ]
  },
  {
   "cell_type": "code",
   "execution_count": 12,
   "metadata": {},
   "outputs": [
    {
     "data": {
      "text/plain": [
       "numpy.ndarray"
      ]
     },
     "execution_count": 12,
     "metadata": {},
     "output_type": "execute_result"
    }
   ],
   "source": [
    "type(stored_embeddings)"
   ]
  },
  {
   "cell_type": "code",
   "execution_count": null,
   "metadata": {},
   "outputs": [],
   "source": [
    "stored_embeddings[:2]"
   ]
  },
  {
   "cell_type": "code",
   "execution_count": 10,
   "metadata": {},
   "outputs": [
    {
     "name": "stdout",
     "output_type": "stream",
     "text": [
      "<class 'pandas.core.frame.DataFrame'>\n",
      "DatetimeIndex: 861752 entries, 2021-10-19 17:58:57 to 2018-12-31 14:29:50\n",
      "Data columns (total 10 columns):\n",
      " #   Column                 Non-Null Count   Dtype  \n",
      "---  ------                 --------------   -----  \n",
      " 0   SegmentID              861752 non-null  int64  \n",
      " 1   author                 861752 non-null  object \n",
      " 2   id                     861752 non-null  object \n",
      " 3   link_flair_text        814626 non-null  object \n",
      " 4   num_comments           861752 non-null  int64  \n",
      " 5   score                  861752 non-null  int64  \n",
      " 6   subreddit_subscribers  861752 non-null  int64  \n",
      " 7   selftext               223819 non-null  object \n",
      " 8   title                  861752 non-null  object \n",
      " 9   upvote_ratio           861752 non-null  float64\n",
      "dtypes: float64(1), int64(4), object(5)\n",
      "memory usage: 72.3+ MB\n"
     ]
    }
   ],
   "source": [
    "df.info()"
   ]
  },
  {
   "cell_type": "code",
   "execution_count": 15,
   "metadata": {},
   "outputs": [],
   "source": [
    "df['embedding'] = stored_embeddings.tolist()"
   ]
  },
  {
   "cell_type": "code",
   "execution_count": 16,
   "metadata": {},
   "outputs": [
    {
     "data": {
      "text/html": [
       "<div>\n",
       "<style scoped>\n",
       "    .dataframe tbody tr th:only-of-type {\n",
       "        vertical-align: middle;\n",
       "    }\n",
       "\n",
       "    .dataframe tbody tr th {\n",
       "        vertical-align: top;\n",
       "    }\n",
       "\n",
       "    .dataframe thead th {\n",
       "        text-align: right;\n",
       "    }\n",
       "</style>\n",
       "<table border=\"1\" class=\"dataframe\">\n",
       "  <thead>\n",
       "    <tr style=\"text-align: right;\">\n",
       "      <th></th>\n",
       "      <th>SegmentID</th>\n",
       "      <th>author</th>\n",
       "      <th>id</th>\n",
       "      <th>link_flair_text</th>\n",
       "      <th>num_comments</th>\n",
       "      <th>score</th>\n",
       "      <th>subreddit_subscribers</th>\n",
       "      <th>selftext</th>\n",
       "      <th>title</th>\n",
       "      <th>upvote_ratio</th>\n",
       "      <th>embedding</th>\n",
       "    </tr>\n",
       "    <tr>\n",
       "      <th>created_utc</th>\n",
       "      <th></th>\n",
       "      <th></th>\n",
       "      <th></th>\n",
       "      <th></th>\n",
       "      <th></th>\n",
       "      <th></th>\n",
       "      <th></th>\n",
       "      <th></th>\n",
       "      <th></th>\n",
       "      <th></th>\n",
       "      <th></th>\n",
       "    </tr>\n",
       "  </thead>\n",
       "  <tbody>\n",
       "    <tr>\n",
       "      <th>2021-10-19 17:58:57</th>\n",
       "      <td>0</td>\n",
       "      <td>VendiVendiVendi</td>\n",
       "      <td>qbh10s</td>\n",
       "      <td>Gain</td>\n",
       "      <td>0</td>\n",
       "      <td>1</td>\n",
       "      <td>10967090</td>\n",
       "      <td>So 13.56 cad for BB.  It’s moving and gaining ...</td>\n",
       "      <td>BB</td>\n",
       "      <td>1.0</td>\n",
       "      <td>[0.08041322976350784, 0.5628291964530945, -0.7...</td>\n",
       "    </tr>\n",
       "    <tr>\n",
       "      <th>2021-10-19 17:57:49</th>\n",
       "      <td>1</td>\n",
       "      <td>Far_Bass_7284</td>\n",
       "      <td>qbh04w</td>\n",
       "      <td>News</td>\n",
       "      <td>1</td>\n",
       "      <td>1</td>\n",
       "      <td>10967087</td>\n",
       "      <td>NaN</td>\n",
       "      <td>Surely it is a coincidence.</td>\n",
       "      <td>1.0</td>\n",
       "      <td>[-0.44094061851501465, -0.08837655186653137, 0...</td>\n",
       "    </tr>\n",
       "    <tr>\n",
       "      <th>2021-10-19 17:55:24</th>\n",
       "      <td>2</td>\n",
       "      <td>HistoricalAnimator43</td>\n",
       "      <td>qbgyco</td>\n",
       "      <td>YOLO</td>\n",
       "      <td>0</td>\n",
       "      <td>1</td>\n",
       "      <td>10967076</td>\n",
       "      <td>NaN</td>\n",
       "      <td>yolo sava options</td>\n",
       "      <td>1.0</td>\n",
       "      <td>[-0.40423384308815, 0.3974497616291046, -0.313...</td>\n",
       "    </tr>\n",
       "    <tr>\n",
       "      <th>2021-10-19 17:54:51</th>\n",
       "      <td>3</td>\n",
       "      <td>ZaRaWi</td>\n",
       "      <td>qbgxy8</td>\n",
       "      <td>YOLO</td>\n",
       "      <td>0</td>\n",
       "      <td>1</td>\n",
       "      <td>10967076</td>\n",
       "      <td>NaN</td>\n",
       "      <td>meme</td>\n",
       "      <td>1.0</td>\n",
       "      <td>[-0.3721004128456116, 0.35575810074806213, 0.3...</td>\n",
       "    </tr>\n",
       "    <tr>\n",
       "      <th>2021-10-19 17:52:33</th>\n",
       "      <td>4</td>\n",
       "      <td>CuteInterest1884</td>\n",
       "      <td>qbgw9u</td>\n",
       "      <td>DD</td>\n",
       "      <td>0</td>\n",
       "      <td>1</td>\n",
       "      <td>10967075</td>\n",
       "      <td>BB is on the move higher, not because of the p...</td>\n",
       "      <td>BB</td>\n",
       "      <td>1.0</td>\n",
       "      <td>[0.08041322976350784, 0.5628291964530945, -0.7...</td>\n",
       "    </tr>\n",
       "  </tbody>\n",
       "</table>\n",
       "</div>"
      ],
      "text/plain": [
       "                     SegmentID                author      id link_flair_text  \\\n",
       "created_utc                                                                    \n",
       "2021-10-19 17:58:57          0       VendiVendiVendi  qbh10s            Gain   \n",
       "2021-10-19 17:57:49          1         Far_Bass_7284  qbh04w            News   \n",
       "2021-10-19 17:55:24          2  HistoricalAnimator43  qbgyco            YOLO   \n",
       "2021-10-19 17:54:51          3                ZaRaWi  qbgxy8            YOLO   \n",
       "2021-10-19 17:52:33          4      CuteInterest1884  qbgw9u              DD   \n",
       "\n",
       "                     num_comments  score  subreddit_subscribers  \\\n",
       "created_utc                                                       \n",
       "2021-10-19 17:58:57             0      1               10967090   \n",
       "2021-10-19 17:57:49             1      1               10967087   \n",
       "2021-10-19 17:55:24             0      1               10967076   \n",
       "2021-10-19 17:54:51             0      1               10967076   \n",
       "2021-10-19 17:52:33             0      1               10967075   \n",
       "\n",
       "                                                              selftext  \\\n",
       "created_utc                                                              \n",
       "2021-10-19 17:58:57  So 13.56 cad for BB.  It’s moving and gaining ...   \n",
       "2021-10-19 17:57:49                                                NaN   \n",
       "2021-10-19 17:55:24                                                NaN   \n",
       "2021-10-19 17:54:51                                                NaN   \n",
       "2021-10-19 17:52:33  BB is on the move higher, not because of the p...   \n",
       "\n",
       "                                           title  upvote_ratio  \\\n",
       "created_utc                                                      \n",
       "2021-10-19 17:58:57                           BB           1.0   \n",
       "2021-10-19 17:57:49  Surely it is a coincidence.           1.0   \n",
       "2021-10-19 17:55:24            yolo sava options           1.0   \n",
       "2021-10-19 17:54:51                         meme           1.0   \n",
       "2021-10-19 17:52:33                           BB           1.0   \n",
       "\n",
       "                                                             embedding  \n",
       "created_utc                                                             \n",
       "2021-10-19 17:58:57  [0.08041322976350784, 0.5628291964530945, -0.7...  \n",
       "2021-10-19 17:57:49  [-0.44094061851501465, -0.08837655186653137, 0...  \n",
       "2021-10-19 17:55:24  [-0.40423384308815, 0.3974497616291046, -0.313...  \n",
       "2021-10-19 17:54:51  [-0.3721004128456116, 0.35575810074806213, 0.3...  \n",
       "2021-10-19 17:52:33  [0.08041322976350784, 0.5628291964530945, -0.7...  "
      ]
     },
     "execution_count": 16,
     "metadata": {},
     "output_type": "execute_result"
    }
   ],
   "source": [
    "df.head()"
   ]
  },
  {
   "cell_type": "code",
   "execution_count": 17,
   "metadata": {},
   "outputs": [],
   "source": [
    "df.to_csv('data/WSB_data_with_emb.csv',sep=';')"
   ]
  },
  {
   "cell_type": "code",
   "execution_count": null,
   "metadata": {
    "colab": {
     "base_uri": "https://localhost:8080/"
    },
    "id": "zWHHzD4vCtsj",
    "outputId": "b7c1a3fe-a7a7-429a-cd3d-1800b0149b0c"
   },
   "outputs": [
    {
     "name": "stdout",
     "output_type": "stream",
     "text": [
      "Start clustering\n",
      "Clustering done after 33.10 sec\n",
      "\n",
      "Cluster 1, #230 Elements \n",
      "\t to the moon\n",
      "\t to the moon\n",
      "\t to the moon\n",
      "\t ...\n",
      "\t tui me to tha moon\n",
      "\t come on elon help us going to the moon\n",
      "\t sdc to the moon!!!!\n",
      "\n",
      "Cluster 2, #215 Elements \n",
      "\t adtx💎🚀🚀🚀🚀\n",
      "\t 💫\n",
      "\t 😎\n",
      "\t ...\n",
      "\t buy the dip🚀🚀🚀\n",
      "\t wish to hell😭😭\n",
      "\t stand by ✋😂\n",
      "\n",
      "Cluster 3, #162 Elements \n",
      "\t $clov yolo\n",
      "\t $clov yolo\n",
      "\t $clov yolo\n",
      "\t ...\n",
      "\t $clov is ready again 🚀\n",
      "\t copied $clov\n",
      "\t $lcid $clov $idex $jagx lets goooooooo! 💰\n",
      "\n",
      "Cluster 4, #136 Elements \n",
      "\t wsb\n",
      "\t wsb now\n",
      "\t new to wsb\n",
      "\t ...\n",
      "\t has stocktwits become the new wsb\n",
      "\t he obviously found wsb.\n",
      "\t can anybody guess where i found wsb?🤡\n",
      "\n",
      "Cluster 5, #133 Elements \n",
      "\t wish$\n",
      "\t $wish\n",
      "\t $wish\n",
      "\t ...\n",
      "\t here you go you sick fucks $wish\n",
      "\t started my position on $wish\n",
      "\t let's try this $wish business yolo\n",
      "\n",
      "Cluster 6, #119 Elements \n",
      "\t am i doing this right?\n",
      "\t am i doing this right?\n",
      "\t am i doing this right?\n",
      "\t ...\n",
      "\t is this how i’m supposed to do it?\n",
      "\t is this right ?\n",
      "\t did i do something wrong?\n",
      "\n",
      "Cluster 7, #111 Elements \n",
      "\t short squeeze\n",
      "\t short squeeze\n",
      "\t short squeeze 💎🚀\n",
      "\t ...\n",
      "\t $cotrp -- short squeeze play\n",
      "\t $cotrp -- short squeeze play\n",
      "\t iota short squeeze happening\n",
      "\n",
      "Cluster 8, #100 Elements \n",
      "\t loss porn!\n",
      "\t loss porn!\n",
      "\t loss porn\n",
      "\t ...\n",
      "\t cathy woods loss porn...\n",
      "\t meme stock loss porn\n",
      "\t gain porn + loss porn = perseverance porn?\n"
     ]
    }
   ],
   "source": [
    "\"\"\"\n",
    "This is a more complex example on performing clustering on large scale dataset.\n",
    "This examples find in a large set of sentences local communities, i.e., groups of sentences that are highly\n",
    "similar. You can freely configure the threshold what is considered as similar. A high threshold will\n",
    "only find extremely similar sentences, a lower threshold will find more sentence that are less similar.\n",
    "A second parameter is 'min_community_size': Only communities with at least a certain number of sentences will be returned.\n",
    "The method for finding the communities is extremely fast, for clustering 50k sentences it requires only 5 seconds (plus embedding comuptation).\n",
    "\n",
    "\"\"\"\n",
    "from sentence_transformers import SentenceTransformer, util\n",
    "import os\n",
    "import csv\n",
    "import time\n",
    "\n",
    "titles = stored_sentences[0:40000]\n",
    "\n",
    "print(\"Start clustering\")\n",
    "start_time = time.time()\n",
    "\n",
    "#Two parameters to tune:\n",
    "#min_cluster_size: Only consider cluster that have at least 100 elements\n",
    "#threshold: Consider sentence pairs with a cosine-similarity larger than threshold as similar\n",
    "clusters = util.community_detection(stored_embeddings[0:40000], min_community_size=100, threshold=0.70)\n",
    "\n",
    "print(\"Clustering done after {:.2f} sec\".format(time.time() - start_time))\n",
    "\n",
    "#Print for all clusters the top 3 and bottom 3 elements\n",
    "for i, cluster in enumerate(clusters):\n",
    "    print(\"\\nCluster {}, #{} Elements \".format(i+1, len(cluster)))\n",
    "    for sentence_id in cluster[0:3]:\n",
    "        print(\"\\t\", titles[sentence_id])\n",
    "    print(\"\\t\", \"...\")\n",
    "    for sentence_id in cluster[-3:]:\n",
    "        print(\"\\t\", titles[sentence_id])\n"
   ]
  },
  {
   "cell_type": "code",
   "execution_count": 7,
   "metadata": {
    "colab": {
     "base_uri": "https://localhost:8080/",
     "height": 35
    },
    "id": "82xQnQLOKg3C",
    "outputId": "89eed529-5e2d-4ce9-becd-79756bdda802"
   },
   "outputs": [
    {
     "data": {
      "application/vnd.google.colaboratory.intrinsic+json": {
       "type": "string"
      },
      "text/plain": [
       "\"$ysg yatsen holding (nyse: ysg), future l'oreal of china\""
      ]
     },
     "execution_count": 7,
     "metadata": {},
     "output_type": "execute_result"
    }
   ],
   "source": [
    "stored_sentences[50]"
   ]
  },
  {
   "cell_type": "code",
   "execution_count": 56,
   "metadata": {
    "id": "-dvrg5VkvfTu"
   },
   "outputs": [],
   "source": [
    "author_list =df[df['SegmentID'] < 50]['author'][:][0:500].tolist()"
   ]
  },
  {
   "cell_type": "code",
   "execution_count": 8,
   "metadata": {
    "colab": {
     "base_uri": "https://localhost:8080/"
    },
    "id": "yYHOMaajKWRY",
    "outputId": "8fd652ee-f543-4f95-e42c-6c3a4ad46495"
   },
   "outputs": [
    {
     "data": {
      "text/plain": [
       "tensor([[-0.5545,  0.8472, -0.1737,  ..., -0.8908,  0.1790,  1.0774],\n",
       "        [ 0.2182,  0.9250,  0.4209,  ..., -0.5684, -0.2199,  1.3938],\n",
       "        [ 0.1964,  1.3039,  1.4290,  ..., -0.4559,  0.1984,  1.7098],\n",
       "        ...,\n",
       "        [-0.5663,  0.9565, -0.4537,  ..., -0.4376,  0.5234,  0.5840],\n",
       "        [ 0.0597,  1.0089,  0.3023,  ..., -0.5755, -0.4315,  1.0553],\n",
       "        [-0.2906,  1.3107,  0.6428,  ..., -1.2197, -0.4024,  1.1298]])"
      ]
     },
     "execution_count": 8,
     "metadata": {},
     "output_type": "execute_result"
    }
   ],
   "source": [
    "stored_embeddings[50]"
   ]
  },
  {
   "cell_type": "code",
   "execution_count": 12,
   "metadata": {
    "colab": {
     "base_uri": "https://localhost:8080/"
    },
    "id": "EsoIOn_Bq0Qg",
    "outputId": "c5753e23-7953-4b13-8289-70d34c68340b"
   },
   "outputs": [
    {
     "data": {
      "text/plain": [
       "torch.Size([24, 768])"
      ]
     },
     "execution_count": 12,
     "metadata": {},
     "output_type": "execute_result"
    }
   ],
   "source": [
    "stored_embeddings[50].size()"
   ]
  },
  {
   "cell_type": "code",
   "execution_count": null,
   "metadata": {
    "colab": {
     "base_uri": "https://localhost:8080/"
    },
    "id": "vt6Y_ouoH8Mt",
    "outputId": "859ee303-0d5d-4bba-b6ab-483dbc1d6962"
   },
   "outputs": [],
   "source": [
    "from sklearn.cluster import AgglomerativeClustering\n",
    "# Normalize the embeddings to unit length\n",
    "corpus_embeddings = stored_embeddings[0:5000] /  np.linalg.norm(stored_embeddings[0:5000], axis=1, keepdims=True)\n",
    "titles = stored_sentences[0:5000]\n",
    "# Perform kmean clustering\n",
    "clustering_model = AgglomerativeClustering(n_clusters=None,affinity='cosine',linkage='average',  distance_threshold=0.90) #,affinity='cosine', linkage='average', distance_threshold=1\n",
    "clustering_model.fit(corpus_embeddings)\n",
    "cluster_assignment = clustering_model.labels_\n",
    "\n",
    "clustered_sentences = {}\n",
    "for sentence_id, cluster_id in enumerate(cluster_assignment):\n",
    "    if cluster_id not in clustered_sentences:\n",
    "        clustered_sentences[cluster_id] = []\n",
    "\n",
    "    clustered_sentences[cluster_id].append(titles[sentence_id])\n",
    "print(len(clustered_sentences.items()))\n",
    "for i, cluster in clustered_sentences.items():\n",
    "    print(\"Cluster \", i+1)\n",
    "    print(len(cluster))\n",
    "    print(cluster)\n",
    "    print(\"\")"
   ]
  },
  {
   "cell_type": "code",
   "execution_count": 9,
   "metadata": {
    "id": "XJ3p_yzxpoCQ"
   },
   "outputs": [],
   "source": [
    "## TSINE Embedding Visualization \n",
    "\n",
    "from sklearn.manifold import TSNE\n",
    "%matplotlib inline"
   ]
  },
  {
   "cell_type": "code",
   "execution_count": 20,
   "metadata": {
    "colab": {
     "base_uri": "https://localhost:8080/"
    },
    "id": "I841LLAOr6fc",
    "outputId": "89d3e2ae-26e3-46a4-b765-e6dbce56bec2"
   },
   "outputs": [
    {
     "data": {
      "text/plain": [
       "array([[-0.55452025,  0.8472104 , -0.17372064, ..., -0.89082617,\n",
       "         0.17901888,  1.0773505 ],\n",
       "       [ 0.21823782,  0.92498493,  0.42089903, ..., -0.5684333 ,\n",
       "        -0.21987383,  1.3937865 ],\n",
       "       [ 0.19636495,  1.3038974 ,  1.4289933 , ..., -0.45588315,\n",
       "         0.19839036,  1.7098453 ],\n",
       "       ...,\n",
       "       [-0.5662651 ,  0.95652807, -0.4537239 , ..., -0.4376186 ,\n",
       "         0.5234431 ,  0.58399975],\n",
       "       [ 0.05972336,  1.0088934 ,  0.3023097 , ..., -0.5754747 ,\n",
       "        -0.43150175,  1.0552564 ],\n",
       "       [-0.2906491 ,  1.3107067 ,  0.64278907, ..., -1.2197479 ,\n",
       "        -0.40239522,  1.1297985 ]], dtype=float32)"
      ]
     },
     "execution_count": 20,
     "metadata": {},
     "output_type": "execute_result"
    }
   ],
   "source": [
    "stored_embeddings[50][:][:][:].numpy()"
   ]
  },
  {
   "cell_type": "code",
   "execution_count": 29,
   "metadata": {
    "id": "wC3l2UDuq5id"
   },
   "outputs": [],
   "source": [
    "#Convert Tensors to numpy array #stored_embeddings[50][:][:10][0].numpy()\n",
    "emb_array = []\n",
    "for emb in stored_embeddings:\n",
    "    emb_array.append(np.mean(emb[:][:][:].numpy(),axis=0))"
   ]
  },
  {
   "cell_type": "code",
   "execution_count": 28,
   "metadata": {
    "colab": {
     "base_uri": "https://localhost:8080/"
    },
    "id": "CxY8nqBGsc3x",
    "outputId": "0972c8e3-3d42-41ec-939f-aba4a6c9b9c4"
   },
   "outputs": [
    {
     "data": {
      "text/plain": [
       "(768,)"
      ]
     },
     "execution_count": 28,
     "metadata": {},
     "output_type": "execute_result"
    }
   ],
   "source": [
    "np.mean(stored_embeddings[50][:][:][:].numpy(),axis=0).shape"
   ]
  },
  {
   "cell_type": "code",
   "execution_count": 32,
   "metadata": {
    "colab": {
     "base_uri": "https://localhost:8080/"
    },
    "id": "EqepjdmIt39o",
    "outputId": "1c7d7fb3-1fb3-4200-a5f1-f9b3fd9d9636"
   },
   "outputs": [
    {
     "data": {
      "text/plain": [
       "(768,)"
      ]
     },
     "execution_count": 32,
     "metadata": {},
     "output_type": "execute_result"
    }
   ],
   "source": [
    "np.mean(stored_embeddings[51][:][:][:].numpy(),axis=0).shape"
   ]
  },
  {
   "cell_type": "code",
   "execution_count": 22,
   "metadata": {
    "colab": {
     "base_uri": "https://localhost:8080/"
    },
    "id": "4Ho9i8ZPrLOd",
    "outputId": "a8dc92c2-b79a-43e8-f903-6fc0ccdb0c97"
   },
   "outputs": [
    {
     "data": {
      "text/plain": [
       "(14, 768)"
      ]
     },
     "execution_count": 22,
     "metadata": {},
     "output_type": "execute_result"
    }
   ],
   "source": [
    "emb_array[51].shape"
   ]
  },
  {
   "cell_type": "code",
   "execution_count": 61,
   "metadata": {
    "colab": {
     "base_uri": "https://localhost:8080/",
     "height": 1000
    },
    "id": "SHpfD5t0p4Ar",
    "outputId": "aa12b0b9-13da-4153-f686-951c3bf0a0bf"
   },
   "outputs": [
    {
     "name": "stderr",
     "output_type": "stream",
     "text": [
      "/usr/local/lib/python3.7/dist-packages/sklearn/manifold/_t_sne.py:793: FutureWarning: The default learning rate in TSNE will change from 200.0 to 'auto' in 1.2.\n",
      "  FutureWarning,\n",
      "/usr/local/lib/python3.7/dist-packages/sklearn/manifold/_t_sne.py:986: FutureWarning: The PCA initialization in TSNE will change to have the standard deviation of PC1 equal to 1e-4 in 1.2. This will ensure better convergence.\n",
      "  FutureWarning,\n"
     ]
    },
    {
     "data": {
      "image/png": "[encoded data removed]",
      "text/plain": [
       "<Figure size 1152x1152 with 1 Axes>"
      ]
     },
     "metadata": {
      "needs_background": "light"
     },
     "output_type": "display_data"
    }
   ],
   "source": [
    "tsne_model = TSNE(perplexity=40, n_components=2, init='pca', n_iter=2500, random_state=23)\n",
    "new_values = tsne_model.fit_transform(emb_array)\n",
    "\n",
    "x = []\n",
    "y = []\n",
    "for value in new_values:\n",
    "    x.append(value[0])\n",
    "    y.append(value[1])\n",
    "        \n",
    "plt.figure(figsize=(16, 16)) \n",
    "for i in range(len(x[0:50])):\n",
    "    plt.scatter(x[i],y[i])\n",
    "    plt.annotate(author_list[i],\n",
    "                     xy=(x[i], y[i]),\n",
    "                     xytext=(5, 2),\n",
    "                     textcoords='offset points',\n",
    "                     ha='right',\n",
    "                     va='bottom')\n",
    "plt.show()"
   ]
  }
 ],
 "metadata": {
  "colab": {
   "collapsed_sections": [],
   "name": "WSB_Titles_Embedding_Clustering_using_SBERT.ipynb",
   "provenance": []
  },
  "kernelspec": {
   "display_name": "Python 3",
   "language": "python",
   "name": "python3"
  },
  "language_info": {
   "codemirror_mode": {
    "name": "ipython",
    "version": 3
   },
   "file_extension": ".py",
   "mimetype": "text/x-python",
   "name": "python",
   "nbconvert_exporter": "python",
   "pygments_lexer": "ipython3",
   "version": "3.7.4"
  }
 },
 "nbformat": 4,
 "nbformat_minor": 4
}
