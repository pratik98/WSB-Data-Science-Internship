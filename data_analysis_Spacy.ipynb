{
  "cells": [
    {
      "cell_type": "code",
      "execution_count": 1,
      "metadata": {
        "id": "EFsMPfS_EMIS"
      },
      "outputs": [],
      "source": [
        "from datetime import datetime\n",
        "import matplotlib.pyplot as plt\n",
        "import numpy as np\n",
        "import pandas as pd\n",
        "\n",
        "plt.rcParams.update({\"font.size\": 12})\n",
        "%matplotlib inline"
      ]
    },
    {
      "cell_type": "code",
      "source": [
        "from sklearn.preprocessing import MinMaxScaler\n",
        "import spacy\n",
        "from spacy.lang.en.stop_words import STOP_WORDS\n",
        "from spacytextblob.spacytextblob import SpacyTextBlob\n",
        "import json"
      ],
      "metadata": {
        "id": "YypKyBtESag3"
      },
      "execution_count": null,
      "outputs": []
    },
    {
      "cell_type": "code",
      "source": [
        "!pip3 install spacymoji==2.0.0\n",
        "!pip3 uninstall spacy -y\n",
        "!pip3 install spacy==3"
      ],
      "metadata": {
        "id": "Pi260KEuFIaU"
      },
      "execution_count": null,
      "outputs": []
    },
    {
      "cell_type": "code",
      "source": [
        "from google.colab import drive\n",
        "drive.mount('/content/drive')"
      ],
      "metadata": {
        "colab": {
          "base_uri": "https://localhost:8080/"
        },
        "id": "9XhOwkucFd76",
        "outputId": "4b48856b-71ae-4048-a6ff-9c8cfe6424d8"
      },
      "execution_count": 2,
      "outputs": [
        {
          "output_type": "stream",
          "name": "stdout",
          "text": [
            "Mounted at /content/drive\n"
          ]
        }
      ]
    },
    {
      "cell_type": "code",
      "execution_count": null,
      "metadata": {
        "id": "j9t2yD4LEMIa"
      },
      "outputs": [],
      "source": [
        "submissions_json = \"/content/drive/MyDrive/WSB/submission_data_pushshift_score1_20211020_clean.json\""
      ]
    },
    {
      "cell_type": "code",
      "execution_count": null,
      "metadata": {
        "id": "LA9danw6EMIc"
      },
      "outputs": [],
      "source": [
        "from pathlib import Path\n",
        "# read json\n",
        "p = Path(submissions_json)\n",
        "\n",
        "with p.open('r', encoding='utf-8') as f:\n",
        "    data = json.loads(f.read())\n",
        "\n"
      ]
    },
    {
      "cell_type": "code",
      "execution_count": null,
      "metadata": {
        "id": "iPkyLgflEMId",
        "outputId": "a31cea2a-72a0-4c2f-ef82-2603db2a17ed",
        "colab": {
          "base_uri": "https://localhost:8080/"
        }
      },
      "outputs": [
        {
          "output_type": "execute_result",
          "data": {
            "text/plain": [
              "['all_awardings',\n",
              " 'allow_live_comments',\n",
              " 'author',\n",
              " 'author_flair_css_class',\n",
              " 'author_flair_richtext',\n",
              " 'author_flair_text',\n",
              " 'author_flair_type',\n",
              " 'author_fullname',\n",
              " 'author_is_blocked',\n",
              " 'author_patreon_flair',\n",
              " 'author_premium',\n",
              " 'awarders',\n",
              " 'can_mod_post',\n",
              " 'contest_mode',\n",
              " 'created_utc',\n",
              " 'domain',\n",
              " 'full_link',\n",
              " 'gildings',\n",
              " 'id',\n",
              " 'is_created_from_ads_ui',\n",
              " 'is_crosspostable',\n",
              " 'is_meta',\n",
              " 'is_original_content',\n",
              " 'is_reddit_media_domain',\n",
              " 'is_robot_indexable',\n",
              " 'is_self',\n",
              " 'is_video',\n",
              " 'link_flair_background_color',\n",
              " 'link_flair_css_class',\n",
              " 'link_flair_richtext',\n",
              " 'link_flair_template_id',\n",
              " 'link_flair_text',\n",
              " 'link_flair_text_color',\n",
              " 'link_flair_type',\n",
              " 'locked',\n",
              " 'media_only',\n",
              " 'no_follow',\n",
              " 'num_comments',\n",
              " 'num_crossposts',\n",
              " 'over_18',\n",
              " 'parent_whitelist_status',\n",
              " 'permalink',\n",
              " 'pinned',\n",
              " 'pwls',\n",
              " 'retrieved_on',\n",
              " 'score',\n",
              " 'selftext',\n",
              " 'send_replies',\n",
              " 'spoiler',\n",
              " 'stickied',\n",
              " 'subreddit',\n",
              " 'subreddit_id',\n",
              " 'subreddit_subscribers',\n",
              " 'subreddit_type',\n",
              " 'suggested_sort',\n",
              " 'thumbnail',\n",
              " 'title',\n",
              " 'total_awards_received',\n",
              " 'treatment_tags',\n",
              " 'upvote_ratio',\n",
              " 'url',\n",
              " 'whitelist_status',\n",
              " 'wls']"
            ]
          },
          "metadata": {},
          "execution_count": 5
        }
      ],
      "source": [
        "list(data[0].keys())"
      ]
    },
    {
      "cell_type": "code",
      "source": [
        "len(data)"
      ],
      "metadata": {
        "colab": {
          "base_uri": "https://localhost:8080/"
        },
        "id": "0EBDhBknkZRF",
        "outputId": "383f6650-4b41-465f-8cbe-c24a7cbadfa5"
      },
      "execution_count": null,
      "outputs": [
        {
          "output_type": "execute_result",
          "data": {
            "text/plain": [
              "861752"
            ]
          },
          "metadata": {},
          "execution_count": 8
        }
      ]
    },
    {
      "cell_type": "code",
      "source": [
        "a = set([1, 2, 3,5])\n",
        "b = set([2, 3, 4,10])\n",
        "\n",
        "print(list(b-a)[0])"
      ],
      "metadata": {
        "colab": {
          "base_uri": "https://localhost:8080/"
        },
        "id": "RSXp_-jwq5ft",
        "outputId": "50be3803-e06a-4ed3-c887-66786a5229cd"
      },
      "execution_count": null,
      "outputs": [
        {
          "output_type": "stream",
          "name": "stdout",
          "text": [
            "10\n"
          ]
        }
      ]
    },
    {
      "cell_type": "code",
      "execution_count": null,
      "metadata": {
        "id": "ALT2QkDuEMIf",
        "colab": {
          "base_uri": "https://localhost:8080/"
        },
        "outputId": "8a4a1722-58a3-4623-cee9-015fe11283a6"
      },
      "outputs": [
        {
          "output_type": "stream",
          "name": "stdout",
          "text": [
            "<class 'pandas.core.frame.DataFrame'>\n",
            "RangeIndex: 861752 entries, 0 to 861751\n",
            "Data columns (total 10 columns):\n",
            " #   Column                 Non-Null Count   Dtype  \n",
            "---  ------                 --------------   -----  \n",
            " 0   author                 861752 non-null  object \n",
            " 1   created_utc            861752 non-null  int64  \n",
            " 2   id                     861752 non-null  object \n",
            " 3   link_flair_text        861752 non-null  object \n",
            " 4   num_comments           861752 non-null  int64  \n",
            " 5   score                  861752 non-null  int64  \n",
            " 6   subreddit_subscribers  861752 non-null  int64  \n",
            " 7   selftext               861752 non-null  object \n",
            " 8   title                  861752 non-null  object \n",
            " 9   upvote_ratio           861752 non-null  float64\n",
            "dtypes: float64(1), int64(4), object(5)\n",
            "memory usage: 65.7+ MB\n"
          ]
        }
      ],
      "source": [
        "cols = [\n",
        " 'author', \n",
        " 'created_utc',  \n",
        " 'id', \n",
        "'link_flair_text',\n",
        " 'num_comments', \n",
        " 'score',\n",
        "  'subreddit_subscribers',   \n",
        " 'selftext', \n",
        " 'title', 'upvote_ratio'\n",
        "\n",
        "]\n",
        "\n",
        "\n",
        "df_data = []\n",
        "\n",
        "for doc in data:\n",
        "  #cols =list(doc.keys())\n",
        "  #print(list(doc.keys()))\n",
        "  #print(list(doc.values()))\n",
        "  #df_data.append(list(doc.values()))\n",
        "  #break\n",
        "    if  doc.keys() >= set(cols):\n",
        "        lst =  [doc['author'], doc['created_utc'],doc['id']\n",
        "                ,doc[ 'link_flair_text'], \n",
        "                doc['num_comments'],doc[ 'score'],\n",
        "                doc[ 'subreddit_subscribers'],doc['selftext'],doc['title'],\n",
        "                doc['upvote_ratio']          \n",
        "                ]\n",
        "        df_data.append(lst)\n",
        "    else:\n",
        "      missing_keys = list(set(cols) - doc.keys())\n",
        "      if (len(missing_keys) == 1) and (missing_keys[0] == 'selftext'):\n",
        "        #print('selftext')\n",
        "        lst =  [doc['author'], doc['created_utc'],doc['id']\n",
        "                  ,doc[ 'link_flair_text'], \n",
        "                  doc['num_comments'],doc[ 'score'],\n",
        "                  doc[ 'subreddit_subscribers'],\"NA\",doc['title'],\n",
        "                  doc['upvote_ratio']          \n",
        "                  ]\n",
        "        df_data.append(lst)\n",
        "      elif(len(missing_keys) == 1) and (missing_keys[0] == 'upvote_ratio'):\n",
        "        #print('upvote_ratio')\n",
        "        lst =  [doc['author'], doc['created_utc'],doc['id']\n",
        "                  ,doc[ 'link_flair_text'], \n",
        "                  doc['num_comments'],doc[ 'score'],\n",
        "                  doc[ 'subreddit_subscribers'],doc['selftext'],doc['title'],\n",
        "                  0          \n",
        "                  ]\n",
        "        df_data.append(lst)\n",
        "      elif(len(missing_keys) == 1) and (missing_keys[0] == 'link_flair_text'):\n",
        "        #print('upvote_ratio')\n",
        "        lst =  [doc['author'], doc['created_utc'],doc['id']\n",
        "                  ,\"NA\", \n",
        "                  doc['num_comments'],doc[ 'score'],\n",
        "                  doc[ 'subreddit_subscribers'],doc['selftext'],doc['title'],\n",
        "                   doc['upvote_ratio']            \n",
        "                  ]\n",
        "        df_data.append(lst)\n",
        "      elif ((len(missing_keys) == 2) and (missing_keys[0] == 'link_flair_text') and (missing_keys[1] == 'upvote_ratio')):\n",
        "          #print('upvote_ratio and link_flair_text')\n",
        "          lst =  [doc['author'], doc['created_utc'],doc['id']\n",
        "                  ,\"NA\", \n",
        "                  doc['num_comments'],doc[ 'score'],\n",
        "                  doc[ 'subreddit_subscribers'],doc['selftext'],doc['title'],\n",
        "                  0          \n",
        "                  ]\n",
        "          df_data.append(lst)\n",
        "      elif ((len(missing_keys) == 2) and (missing_keys[0] == 'upvote_ratio') and (missing_keys[1] == 'selftext')):\n",
        "          #print('upvote_ratio and link_flair_text')\n",
        "          lst =  [doc['author'], doc['created_utc'],doc['id']\n",
        "                 ,doc[ 'link_flair_text'],\n",
        "                  doc['num_comments'],doc[ 'score'],\n",
        "                  doc[ 'subreddit_subscribers'],\"NA\",doc['title'],\n",
        "                  0          \n",
        "                  ]\n",
        "          df_data.append(lst)\n",
        "      elif ((len(missing_keys) == 2) and (missing_keys[0] == 'link_flair_text') and (missing_keys[1] == 'selftext')):\n",
        "          #print('upvote_ratio and link_flair_text')\n",
        "          lst =  [doc['author'], doc['created_utc'],doc['id']\n",
        "                 ,\"NA\",\n",
        "                  doc['num_comments'],doc[ 'score'],\n",
        "                  doc[ 'subreddit_subscribers'],\"NA\",doc['title'],\n",
        "                  doc['upvote_ratio']           \n",
        "                  ]\n",
        "          df_data.append(lst)\n",
        "      elif ((len(missing_keys) == 3) and (missing_keys[0] == 'link_flair_text') and (missing_keys[1] == 'upvote_ratio')):\n",
        "          #print('upvote_ratio and link_flair_text')\n",
        "          lst =  [doc['author'], doc['created_utc'],doc['id']\n",
        "                 ,\"NA\",\n",
        "                  doc['num_comments'],doc[ 'score'],\n",
        "                  doc[ 'subreddit_subscribers'],\"NA\",doc['title'],\n",
        "                  0           \n",
        "                  ]\n",
        "          df_data.append(lst)\n",
        "      else:\n",
        "        print(missing_keys)\n",
        "        #print(doc) \n",
        "        #print(doc.values()) \n",
        "        \n",
        "\n",
        "df = pd.DataFrame(data=df_data,columns=cols)\n",
        "df.info()"
      ]
    },
    {
      "cell_type": "code",
      "source": [
        "cols = [\n",
        " 'author', \n",
        " 'created_utc',  \n",
        " 'id', \n",
        "'link_flair_text',\n",
        " 'num_comments', \n",
        " 'score',\n",
        "  'subreddit_subscribers',   \n",
        " 'selftext', \n",
        " 'title', 'upvote_ratio'\n",
        "\n",
        "]\n",
        "\n",
        "\n",
        "df_data = []\n",
        "\n",
        "for doc in data:\n",
        "    if  doc.keys() >= set(cols):\n",
        "        lst =  [doc['author'], doc['created_utc'],doc['id']\n",
        "                ,doc[ 'link_flair_text'], \n",
        "                doc['num_comments'],doc[ 'score'],\n",
        "                doc[ 'subreddit_subscribers'],doc['selftext'],doc['title'],\n",
        "                doc['upvote_ratio']          \n",
        "                ]\n",
        "        df_data.append(lst)\n",
        "        \n",
        "        \n",
        "\n",
        "#df = pd.DataFrame(data=df_data, columns=cols)"
      ],
      "metadata": {
        "id": "Ghua55-jmC99"
      },
      "execution_count": null,
      "outputs": []
    },
    {
      "cell_type": "code",
      "execution_count": null,
      "metadata": {
        "id": "OxMqUc3YEMIh",
        "outputId": "7cded044-313c-4d22-c3b1-725f63359279",
        "colab": {
          "base_uri": "https://localhost:8080/"
        }
      },
      "outputs": [
        {
          "output_type": "stream",
          "name": "stdout",
          "text": [
            "<class 'pandas.core.frame.DataFrame'>\n",
            "RangeIndex: 861752 entries, 0 to 861751\n",
            "Data columns (total 10 columns):\n",
            " #   Column                 Non-Null Count   Dtype  \n",
            "---  ------                 --------------   -----  \n",
            " 0   author                 861752 non-null  object \n",
            " 1   created_utc            861752 non-null  int64  \n",
            " 2   id                     861752 non-null  object \n",
            " 3   link_flair_text        861752 non-null  object \n",
            " 4   num_comments           861752 non-null  int64  \n",
            " 5   score                  861752 non-null  int64  \n",
            " 6   subreddit_subscribers  861752 non-null  int64  \n",
            " 7   selftext               861752 non-null  object \n",
            " 8   title                  861752 non-null  object \n",
            " 9   upvote_ratio           861752 non-null  float64\n",
            "dtypes: float64(1), int64(4), object(5)\n",
            "memory usage: 65.7+ MB\n"
          ]
        }
      ],
      "source": [
        "df.info()"
      ]
    },
    {
      "cell_type": "code",
      "execution_count": 3,
      "metadata": {
        "id": "CAfRa2AMEMIj",
        "colab": {
          "base_uri": "https://localhost:8080/",
          "height": 166
        },
        "outputId": "9ffc0efe-5d91-462a-fa8b-0f622e1f7b53"
      },
      "outputs": [
        {
          "output_type": "error",
          "ename": "NameError",
          "evalue": "ignored",
          "traceback": [
            "\u001b[0;31m---------------------------------------------------------------------------\u001b[0m",
            "\u001b[0;31mNameError\u001b[0m                                 Traceback (most recent call last)",
            "\u001b[0;32m<ipython-input-3-288ca3bb69d6>\u001b[0m in \u001b[0;36m<module>\u001b[0;34m()\u001b[0m\n\u001b[0;32m----> 1\u001b[0;31m \u001b[0mdf\u001b[0m\u001b[0;34m.\u001b[0m\u001b[0mto_csv\u001b[0m\u001b[0;34m(\u001b[0m\u001b[0;34m\"/content/drive/MyDrive/WSB/WSB_submissions_all.csv\"\u001b[0m\u001b[0;34m,\u001b[0m \u001b[0msep\u001b[0m\u001b[0;34m=\u001b[0m\u001b[0;34m\";\"\u001b[0m\u001b[0;34m)\u001b[0m\u001b[0;34m\u001b[0m\u001b[0;34m\u001b[0m\u001b[0m\n\u001b[0m",
            "\u001b[0;31mNameError\u001b[0m: name 'df' is not defined"
          ]
        }
      ],
      "source": [
        "df.to_csv(\"/content/drive/MyDrive/WSB/WSB_submissions_all.csv\", sep=\";\")"
      ]
    },
    {
      "cell_type": "code",
      "execution_count": null,
      "metadata": {
        "id": "q0RH3I0fEMIm",
        "outputId": "0c28783a-c20c-49e9-f4bb-9cf0e2854d54",
        "colab": {
          "base_uri": "https://localhost:8080/",
          "height": 345
        }
      },
      "outputs": [
        {
          "output_type": "execute_result",
          "data": {
            "text/html": [
              "<div>\n",
              "<style scoped>\n",
              "    .dataframe tbody tr th:only-of-type {\n",
              "        vertical-align: middle;\n",
              "    }\n",
              "\n",
              "    .dataframe tbody tr th {\n",
              "        vertical-align: top;\n",
              "    }\n",
              "\n",
              "    .dataframe thead th {\n",
              "        text-align: right;\n",
              "    }\n",
              "</style>\n",
              "<table border=\"1\" class=\"dataframe\">\n",
              "  <thead>\n",
              "    <tr style=\"text-align: right;\">\n",
              "      <th></th>\n",
              "      <th>author</th>\n",
              "      <th>created_utc</th>\n",
              "      <th>id</th>\n",
              "      <th>link_flair_text</th>\n",
              "      <th>num_comments</th>\n",
              "      <th>score</th>\n",
              "      <th>subreddit_subscribers</th>\n",
              "      <th>selftext</th>\n",
              "      <th>title</th>\n",
              "      <th>upvote_ratio</th>\n",
              "    </tr>\n",
              "  </thead>\n",
              "  <tbody>\n",
              "    <tr>\n",
              "      <th>0</th>\n",
              "      <td>VendiVendiVendi</td>\n",
              "      <td>1634666337</td>\n",
              "      <td>qbh10s</td>\n",
              "      <td>Gain</td>\n",
              "      <td>0</td>\n",
              "      <td>1</td>\n",
              "      <td>10967090</td>\n",
              "      <td>So 13.56 cad for BB.  It’s moving and gaining ...</td>\n",
              "      <td>BB</td>\n",
              "      <td>1.0</td>\n",
              "    </tr>\n",
              "    <tr>\n",
              "      <th>1</th>\n",
              "      <td>Far_Bass_7284</td>\n",
              "      <td>1634666269</td>\n",
              "      <td>qbh04w</td>\n",
              "      <td>News</td>\n",
              "      <td>1</td>\n",
              "      <td>1</td>\n",
              "      <td>10967087</td>\n",
              "      <td></td>\n",
              "      <td>Surely it is a coincidence.</td>\n",
              "      <td>1.0</td>\n",
              "    </tr>\n",
              "    <tr>\n",
              "      <th>2</th>\n",
              "      <td>HistoricalAnimator43</td>\n",
              "      <td>1634666124</td>\n",
              "      <td>qbgyco</td>\n",
              "      <td>YOLO</td>\n",
              "      <td>0</td>\n",
              "      <td>1</td>\n",
              "      <td>10967076</td>\n",
              "      <td></td>\n",
              "      <td>yolo sava options</td>\n",
              "      <td>1.0</td>\n",
              "    </tr>\n",
              "    <tr>\n",
              "      <th>3</th>\n",
              "      <td>ZaRaWi</td>\n",
              "      <td>1634666091</td>\n",
              "      <td>qbgxy8</td>\n",
              "      <td>YOLO</td>\n",
              "      <td>0</td>\n",
              "      <td>1</td>\n",
              "      <td>10967076</td>\n",
              "      <td></td>\n",
              "      <td>meme</td>\n",
              "      <td>1.0</td>\n",
              "    </tr>\n",
              "    <tr>\n",
              "      <th>4</th>\n",
              "      <td>CuteInterest1884</td>\n",
              "      <td>1634665953</td>\n",
              "      <td>qbgw9u</td>\n",
              "      <td>DD</td>\n",
              "      <td>0</td>\n",
              "      <td>1</td>\n",
              "      <td>10967075</td>\n",
              "      <td>BB is on the move higher, not because of the p...</td>\n",
              "      <td>BB</td>\n",
              "      <td>1.0</td>\n",
              "    </tr>\n",
              "  </tbody>\n",
              "</table>\n",
              "</div>"
            ],
            "text/plain": [
              "                 author  created_utc  ...                        title upvote_ratio\n",
              "0       VendiVendiVendi   1634666337  ...                           BB          1.0\n",
              "1         Far_Bass_7284   1634666269  ...  Surely it is a coincidence.          1.0\n",
              "2  HistoricalAnimator43   1634666124  ...            yolo sava options          1.0\n",
              "3                ZaRaWi   1634666091  ...                         meme          1.0\n",
              "4      CuteInterest1884   1634665953  ...                           BB          1.0\n",
              "\n",
              "[5 rows x 10 columns]"
            ]
          },
          "metadata": {},
          "execution_count": 50
        }
      ],
      "source": [
        "df.head()"
      ]
    },
    {
      "cell_type": "code",
      "execution_count": null,
      "metadata": {
        "id": "xUatGY1QEMIq"
      },
      "outputs": [],
      "source": [
        "df['created_utc'] = pd.to_datetime(df['created_utc'], unit='s')"
      ]
    },
    {
      "cell_type": "code",
      "execution_count": null,
      "metadata": {
        "id": "DVRfYAWyEMIr"
      },
      "outputs": [],
      "source": [
        "#set created_utc as index\n",
        "#df.set_index('created_utc')\n",
        "\n",
        "df.index = pd.DatetimeIndex(df.created_utc)\n"
      ]
    },
    {
      "cell_type": "code",
      "execution_count": null,
      "metadata": {
        "id": "qlI2H0K_EMIt",
        "outputId": "f819d25c-ad78-4426-937c-f605b5c85011",
        "colab": {
          "base_uri": "https://localhost:8080/",
          "height": 553
        }
      },
      "outputs": [
        {
          "output_type": "execute_result",
          "data": {
            "text/html": [
              "<div>\n",
              "<style scoped>\n",
              "    .dataframe tbody tr th:only-of-type {\n",
              "        vertical-align: middle;\n",
              "    }\n",
              "\n",
              "    .dataframe tbody tr th {\n",
              "        vertical-align: top;\n",
              "    }\n",
              "\n",
              "    .dataframe thead th {\n",
              "        text-align: right;\n",
              "    }\n",
              "</style>\n",
              "<table border=\"1\" class=\"dataframe\">\n",
              "  <thead>\n",
              "    <tr style=\"text-align: right;\">\n",
              "      <th></th>\n",
              "      <th>author</th>\n",
              "      <th>created_utc</th>\n",
              "      <th>id</th>\n",
              "      <th>link_flair_text</th>\n",
              "      <th>num_comments</th>\n",
              "      <th>score</th>\n",
              "      <th>subreddit_subscribers</th>\n",
              "      <th>selftext</th>\n",
              "      <th>title</th>\n",
              "      <th>upvote_ratio</th>\n",
              "    </tr>\n",
              "    <tr>\n",
              "      <th>created_utc</th>\n",
              "      <th></th>\n",
              "      <th></th>\n",
              "      <th></th>\n",
              "      <th></th>\n",
              "      <th></th>\n",
              "      <th></th>\n",
              "      <th></th>\n",
              "      <th></th>\n",
              "      <th></th>\n",
              "      <th></th>\n",
              "    </tr>\n",
              "  </thead>\n",
              "  <tbody>\n",
              "    <tr>\n",
              "      <th>2018-12-31 15:05:18</th>\n",
              "      <td>Leading_Breath</td>\n",
              "      <td>2018-12-31 15:05:18</td>\n",
              "      <td>ab7upy</td>\n",
              "      <td>NA</td>\n",
              "      <td>417</td>\n",
              "      <td>1</td>\n",
              "      <td>454678</td>\n",
              "      <td></td>\n",
              "      <td>\"I don't give a shit about Tesla I just want t...</td>\n",
              "      <td>0.0</td>\n",
              "    </tr>\n",
              "    <tr>\n",
              "      <th>2018-12-31 14:45:20</th>\n",
              "      <td>skitty2</td>\n",
              "      <td>2018-12-31 14:45:20</td>\n",
              "      <td>ab7oz6</td>\n",
              "      <td>NA</td>\n",
              "      <td>8</td>\n",
              "      <td>1</td>\n",
              "      <td>454674</td>\n",
              "      <td>The whole next year will be green.</td>\n",
              "      <td>If today closes green</td>\n",
              "      <td>0.0</td>\n",
              "    </tr>\n",
              "    <tr>\n",
              "      <th>2018-12-31 14:40:30</th>\n",
              "      <td>Googs84</td>\n",
              "      <td>2018-12-31 14:40:30</td>\n",
              "      <td>ab7nkw</td>\n",
              "      <td>Shitpost</td>\n",
              "      <td>0</td>\n",
              "      <td>1</td>\n",
              "      <td>454672</td>\n",
              "      <td>Happy New Year to all you degenerates includin...</td>\n",
              "      <td>Happy New Year Degenerates</td>\n",
              "      <td>0.0</td>\n",
              "    </tr>\n",
              "    <tr>\n",
              "      <th>2018-12-31 14:34:10</th>\n",
              "      <td>neocoff</td>\n",
              "      <td>2018-12-31 14:34:10</td>\n",
              "      <td>ab7lu7</td>\n",
              "      <td>NA</td>\n",
              "      <td>7</td>\n",
              "      <td>1</td>\n",
              "      <td>454672</td>\n",
              "      <td></td>\n",
              "      <td>Chip stocks set for worst quarter in a decade....</td>\n",
              "      <td>0.0</td>\n",
              "    </tr>\n",
              "    <tr>\n",
              "      <th>2018-12-31 14:29:50</th>\n",
              "      <td>Brodmann</td>\n",
              "      <td>2018-12-31 14:29:50</td>\n",
              "      <td>ab7km1</td>\n",
              "      <td>Discussion</td>\n",
              "      <td>2</td>\n",
              "      <td>1</td>\n",
              "      <td>454671</td>\n",
              "      <td></td>\n",
              "      <td>Aphria down 7% premarket; Questions Surface if...</td>\n",
              "      <td>0.0</td>\n",
              "    </tr>\n",
              "  </tbody>\n",
              "</table>\n",
              "</div>"
            ],
            "text/plain": [
              "                             author  ... upvote_ratio\n",
              "created_utc                          ...             \n",
              "2018-12-31 15:05:18  Leading_Breath  ...          0.0\n",
              "2018-12-31 14:45:20         skitty2  ...          0.0\n",
              "2018-12-31 14:40:30         Googs84  ...          0.0\n",
              "2018-12-31 14:34:10         neocoff  ...          0.0\n",
              "2018-12-31 14:29:50        Brodmann  ...          0.0\n",
              "\n",
              "[5 rows x 10 columns]"
            ]
          },
          "metadata": {},
          "execution_count": 57
        }
      ],
      "source": [
        "df.tail()"
      ]
    },
    {
      "cell_type": "markdown",
      "metadata": {
        "id": "o-RbMJUREMIv"
      },
      "source": [
        "# 3. Exploratory Data Analysis"
      ]
    },
    {
      "cell_type": "markdown",
      "metadata": {
        "id": "AUdPpQQ2EMIy"
      },
      "source": [
        "## 3.1. Number of submissions"
      ]
    },
    {
      "cell_type": "code",
      "execution_count": null,
      "metadata": {
        "id": "CJFYP62MEMI0",
        "outputId": "14d8b87c-e237-4088-afc4-c23d02f9f0ea",
        "colab": {
          "base_uri": "https://localhost:8080/",
          "height": 350
        }
      },
      "outputs": [
        {
          "output_type": "display_data",
          "data": {
            "image/png": "[encoded data removed]",
            "text/plain": [
              "<Figure size 1080x360 with 1 Axes>"
            ]
          },
          "metadata": {
            "needs_background": "light"
          }
        }
      ],
      "source": [
        "df_submissions = df.groupby(pd.Grouper(freq=\"D\"))[\"id\"].count()\n",
        " \n",
        "\n",
        "plt.figure(figsize=(15,5))\n",
        "plt.plot(df_submissions)\n",
        "plt.xlabel(\"Months\")\n",
        "plt.ylabel(\"Number of submissions\")\n",
        "plt.title(\"Number of submissions\")\n",
        "plt.show()"
      ]
    },
    {
      "cell_type": "markdown",
      "metadata": {
        "id": "8s6dHO1LEMI2"
      },
      "source": [
        "## 3.2. Number of subscribers"
      ]
    },
    {
      "cell_type": "code",
      "execution_count": null,
      "metadata": {
        "id": "2fN6i9HSEMI3",
        "outputId": "4702bb1d-7817-4f48-87ee-3c710935011c",
        "colab": {
          "base_uri": "https://localhost:8080/",
          "height": 350
        }
      },
      "outputs": [
        {
          "output_type": "display_data",
          "data": {
            "image/png": "[encoded data removed]",
            "text/plain": [
              "<Figure size 1080x360 with 1 Axes>"
            ]
          },
          "metadata": {
            "needs_background": "light"
          }
        }
      ],
      "source": [
        "df_subscribers = df.groupby(pd.Grouper(freq=\"D\"))[\"subreddit_subscribers\"].nth(-1)\n",
        "# print(df_subscribers)\n",
        "\n",
        "plt.figure(figsize=(15,5))\n",
        "plt.plot(df_subscribers)\n",
        "plt.xlabel(\"Months\")\n",
        "plt.ylabel(\"Number of subscribers\")\n",
        "plt.title(\"Number of subscribers\")\n",
        "plt.show()"
      ]
    },
    {
      "cell_type": "markdown",
      "metadata": {
        "id": "hauLX23PEMI5"
      },
      "source": [
        "## 3.3. Number of submissions by flair"
      ]
    },
    {
      "cell_type": "code",
      "execution_count": null,
      "metadata": {
        "id": "dO_XtqLnEMI6",
        "outputId": "85c13e24-b9b5-4da7-9fd1-1a8f33135f87",
        "colab": {
          "base_uri": "https://localhost:8080/"
        }
      },
      "outputs": [
        {
          "output_type": "stream",
          "name": "stdout",
          "text": [
            "41 flair categories:\n",
            "['Discussion' 'Meme' 'YOLO' 'News' 'Gain' 'NA' 'Shitpost' 'DD' 'Loss'\n",
            " 'Chart' 'Options' 'Technical Analysis' 'Stocks' 'Fundamentals' 'Satire'\n",
            " 'Storytime' 'Technicals' 'Futures' 'Daily Discussion' 'Donation'\n",
            " 'Earnings Thread' 'Forex' 'Weekend Discussion' 'WSBbooks' 'Mods' 'Banned'\n",
            " 'Announcement' 'Gay' 'Gods' 'GME Thread' \"IT'S ACTUALLY GOOD\"\n",
            " 'Literally 10 minutes long' 'Megathread' 'Mods - Regarding MrBeast Post'\n",
            " 'Mods - Rule Reminder' 'Official' 'Tendies'\n",
            " 'Thank you, silent participants!' \"Tuesday 2-Feb. I'm retarded\" 'Welcome'\n",
            " 'dogshitpost']\n",
            "\n",
            "Top 15 flair count:\n",
            "link_flair_text\n",
            "Discussion            205819\n",
            "Meme                  167222\n",
            "YOLO                  115197\n",
            "News                   76494\n",
            "Gain                   68053\n",
            "NA                     47126\n",
            "Shitpost               41965\n",
            "DD                     41397\n",
            "Loss                   40540\n",
            "Chart                  11294\n",
            "Options                 9785\n",
            "Technical Analysis      9755\n",
            "Stocks                  8698\n",
            "Fundamentals            4153\n",
            "Satire                  3975\n",
            "Name: link_flair_text, dtype: int64\n"
          ]
        }
      ],
      "source": [
        "df_flairs = df.groupby(\"link_flair_text\")[\"link_flair_text\"].count().sort_values(ascending=False)\n",
        "print(f\"{len(df_flairs)} flair categories:\\n{df_flairs.index.values}\\n\")\n",
        "print(f\"Top 15 flair count:\\n{df_flairs.head(15)}\")"
      ]
    },
    {
      "cell_type": "code",
      "execution_count": null,
      "metadata": {
        "id": "ad_WdMWDEMI8",
        "outputId": "ef134a5f-efc2-41c2-e299-29fafd45e57d",
        "colab": {
          "base_uri": "https://localhost:8080/",
          "height": 442
        }
      },
      "outputs": [
        {
          "output_type": "execute_result",
          "data": {
            "text/plain": [
              "<matplotlib.axes._subplots.AxesSubplot at 0x7f52176dab10>"
            ]
          },
          "metadata": {},
          "execution_count": 60
        },
        {
          "output_type": "display_data",
          "data": {
            "image/png": "[encoded data removed]",
            "text/plain": [
              "<Figure size 432x288 with 1 Axes>"
            ]
          },
          "metadata": {
            "needs_background": "light"
          }
        }
      ],
      "source": [
        "df_flairs.plot.bar()"
      ]
    },
    {
      "cell_type": "markdown",
      "metadata": {
        "id": "8CuDJL46EMI-"
      },
      "source": [
        "## 3.4. Top authors by submissions"
      ]
    },
    {
      "cell_type": "code",
      "execution_count": null,
      "metadata": {
        "id": "FaHtgo4OEMI_",
        "outputId": "ce2af11d-9269-4edc-dc9b-9c231a1838c8",
        "colab": {
          "base_uri": "https://localhost:8080/"
        }
      },
      "outputs": [
        {
          "output_type": "stream",
          "name": "stdout",
          "text": [
            "Top 15 authors:\n",
            "author\n",
            "[deleted]               31133\n",
            "Onboarding92             1103\n",
            "WSBVoteBot               1094\n",
            "AutoModerator             923\n",
            "OPINION_IS_UNPOPULAR      498\n",
            "1poundbookingfee          310\n",
            "WSBConsensus              304\n",
            "bigbear0083               290\n",
            "pdwp90                    239\n",
            "patrickbateman02          225\n",
            "RealPennyMuncher          223\n",
            "btoned                    220\n",
            "rawrtherapy               209\n",
            "keenfeed                  182\n",
            "Ned_Flanderz              179\n",
            "Name: author, dtype: int64\n"
          ]
        }
      ],
      "source": [
        "df_authors = df.groupby(\"author\")[\"author\"].count().sort_values(ascending=False)\n",
        "print(f\"Top 15 authors:\\n{df_authors.head(15)}\")\n"
      ]
    },
    {
      "cell_type": "code",
      "source": [
        "df = pd.read_csv(\"/content/drive/MyDrive/WSB/WSB_submissions_all.csv\", sep=\";\")\n",
        "df['created_utc'] = pd.to_datetime(df['created_utc'], unit='s')\n",
        "df.index = pd.DatetimeIndex(df.created_utc)\n",
        "df.tail()"
      ],
      "metadata": {
        "colab": {
          "base_uri": "https://localhost:8080/",
          "height": 507
        },
        "id": "oV_-RBEFFRB_",
        "outputId": "d44682ca-b097-446e-ba12-a1b6d9cbab33"
      },
      "execution_count": 6,
      "outputs": [
        {
          "output_type": "execute_result",
          "data": {
            "text/html": [
              "\n",
              "  <div id=\"df-ac376a44-0926-443f-acca-bd279a078e11\">\n",
              "    <div class=\"colab-df-container\">\n",
              "      <div>\n",
              "<style scoped>\n",
              "    .dataframe tbody tr th:only-of-type {\n",
              "        vertical-align: middle;\n",
              "    }\n",
              "\n",
              "    .dataframe tbody tr th {\n",
              "        vertical-align: top;\n",
              "    }\n",
              "\n",
              "    .dataframe thead th {\n",
              "        text-align: right;\n",
              "    }\n",
              "</style>\n",
              "<table border=\"1\" class=\"dataframe\">\n",
              "  <thead>\n",
              "    <tr style=\"text-align: right;\">\n",
              "      <th></th>\n",
              "      <th>Unnamed: 0</th>\n",
              "      <th>author</th>\n",
              "      <th>created_utc</th>\n",
              "      <th>id</th>\n",
              "      <th>link_flair_text</th>\n",
              "      <th>num_comments</th>\n",
              "      <th>score</th>\n",
              "      <th>subreddit_subscribers</th>\n",
              "      <th>selftext</th>\n",
              "      <th>title</th>\n",
              "      <th>upvote_ratio</th>\n",
              "    </tr>\n",
              "    <tr>\n",
              "      <th>created_utc</th>\n",
              "      <th></th>\n",
              "      <th></th>\n",
              "      <th></th>\n",
              "      <th></th>\n",
              "      <th></th>\n",
              "      <th></th>\n",
              "      <th></th>\n",
              "      <th></th>\n",
              "      <th></th>\n",
              "      <th></th>\n",
              "      <th></th>\n",
              "    </tr>\n",
              "  </thead>\n",
              "  <tbody>\n",
              "    <tr>\n",
              "      <th>2018-12-31 15:05:18</th>\n",
              "      <td>861747</td>\n",
              "      <td>Leading_Breath</td>\n",
              "      <td>2018-12-31 15:05:18</td>\n",
              "      <td>ab7upy</td>\n",
              "      <td>NaN</td>\n",
              "      <td>417</td>\n",
              "      <td>1</td>\n",
              "      <td>454678</td>\n",
              "      <td>NaN</td>\n",
              "      <td>\"I don't give a shit about Tesla I just want t...</td>\n",
              "      <td>0.0</td>\n",
              "    </tr>\n",
              "    <tr>\n",
              "      <th>2018-12-31 14:45:20</th>\n",
              "      <td>861748</td>\n",
              "      <td>skitty2</td>\n",
              "      <td>2018-12-31 14:45:20</td>\n",
              "      <td>ab7oz6</td>\n",
              "      <td>NaN</td>\n",
              "      <td>8</td>\n",
              "      <td>1</td>\n",
              "      <td>454674</td>\n",
              "      <td>The whole next year will be green.</td>\n",
              "      <td>If today closes green</td>\n",
              "      <td>0.0</td>\n",
              "    </tr>\n",
              "    <tr>\n",
              "      <th>2018-12-31 14:40:30</th>\n",
              "      <td>861749</td>\n",
              "      <td>Googs84</td>\n",
              "      <td>2018-12-31 14:40:30</td>\n",
              "      <td>ab7nkw</td>\n",
              "      <td>Shitpost</td>\n",
              "      <td>0</td>\n",
              "      <td>1</td>\n",
              "      <td>454672</td>\n",
              "      <td>Happy New Year to all you degenerates includin...</td>\n",
              "      <td>Happy New Year Degenerates</td>\n",
              "      <td>0.0</td>\n",
              "    </tr>\n",
              "    <tr>\n",
              "      <th>2018-12-31 14:34:10</th>\n",
              "      <td>861750</td>\n",
              "      <td>neocoff</td>\n",
              "      <td>2018-12-31 14:34:10</td>\n",
              "      <td>ab7lu7</td>\n",
              "      <td>NaN</td>\n",
              "      <td>7</td>\n",
              "      <td>1</td>\n",
              "      <td>454672</td>\n",
              "      <td>NaN</td>\n",
              "      <td>Chip stocks set for worst quarter in a decade....</td>\n",
              "      <td>0.0</td>\n",
              "    </tr>\n",
              "    <tr>\n",
              "      <th>2018-12-31 14:29:50</th>\n",
              "      <td>861751</td>\n",
              "      <td>Brodmann</td>\n",
              "      <td>2018-12-31 14:29:50</td>\n",
              "      <td>ab7km1</td>\n",
              "      <td>Discussion</td>\n",
              "      <td>2</td>\n",
              "      <td>1</td>\n",
              "      <td>454671</td>\n",
              "      <td>NaN</td>\n",
              "      <td>Aphria down 7% premarket; Questions Surface if...</td>\n",
              "      <td>0.0</td>\n",
              "    </tr>\n",
              "  </tbody>\n",
              "</table>\n",
              "</div>\n",
              "      <button class=\"colab-df-convert\" onclick=\"convertToInteractive('df-ac376a44-0926-443f-acca-bd279a078e11')\"\n",
              "              title=\"Convert this dataframe to an interactive table.\"\n",
              "              style=\"display:none;\">\n",
              "        \n",
              "  <svg xmlns=\"http://www.w3.org/2000/svg\" height=\"24px\"viewBox=\"0 0 24 24\"\n",
              "       width=\"24px\">\n",
              "    <path d=\"M0 0h24v24H0V0z\" fill=\"none\"/>\n",
              "    <path d=\"M18.56 5.44l.94 2.06.94-2.06 2.06-.94-2.06-.94-.94-2.06-.94 2.06-2.06.94zm-11 1L8.5 8.5l.94-2.06 2.06-.94-2.06-.94L8.5 2.5l-.94 2.06-2.06.94zm10 10l.94 2.06.94-2.06 2.06-.94-2.06-.94-.94-2.06-.94 2.06-2.06.94z\"/><path d=\"M17.41 7.96l-1.37-1.37c-.4-.4-.92-.59-1.43-.59-.52 0-1.04.2-1.43.59L10.3 9.45l-7.72 7.72c-.78.78-.78 2.05 0 2.83L4 21.41c.39.39.9.59 1.41.59.51 0 1.02-.2 1.41-.59l7.78-7.78 2.81-2.81c.8-.78.8-2.07 0-2.86zM5.41 20L4 18.59l7.72-7.72 1.47 1.35L5.41 20z\"/>\n",
              "  </svg>\n",
              "      </button>\n",
              "      \n",
              "  <style>\n",
              "    .colab-df-container {\n",
              "      display:flex;\n",
              "      flex-wrap:wrap;\n",
              "      gap: 12px;\n",
              "    }\n",
              "\n",
              "    .colab-df-convert {\n",
              "      background-color: #E8F0FE;\n",
              "      border: none;\n",
              "      border-radius: 50%;\n",
              "      cursor: pointer;\n",
              "      display: none;\n",
              "      fill: #1967D2;\n",
              "      height: 32px;\n",
              "      padding: 0 0 0 0;\n",
              "      width: 32px;\n",
              "    }\n",
              "\n",
              "    .colab-df-convert:hover {\n",
              "      background-color: #E2EBFA;\n",
              "      box-shadow: 0px 1px 2px rgba(60, 64, 67, 0.3), 0px 1px 3px 1px rgba(60, 64, 67, 0.15);\n",
              "      fill: #174EA6;\n",
              "    }\n",
              "\n",
              "    [theme=dark] .colab-df-convert {\n",
              "      background-color: #3B4455;\n",
              "      fill: #D2E3FC;\n",
              "    }\n",
              "\n",
              "    [theme=dark] .colab-df-convert:hover {\n",
              "      background-color: #434B5C;\n",
              "      box-shadow: 0px 1px 3px 1px rgba(0, 0, 0, 0.15);\n",
              "      filter: drop-shadow(0px 1px 2px rgba(0, 0, 0, 0.3));\n",
              "      fill: #FFFFFF;\n",
              "    }\n",
              "  </style>\n",
              "\n",
              "      <script>\n",
              "        const buttonEl =\n",
              "          document.querySelector('#df-ac376a44-0926-443f-acca-bd279a078e11 button.colab-df-convert');\n",
              "        buttonEl.style.display =\n",
              "          google.colab.kernel.accessAllowed ? 'block' : 'none';\n",
              "\n",
              "        async function convertToInteractive(key) {\n",
              "          const element = document.querySelector('#df-ac376a44-0926-443f-acca-bd279a078e11');\n",
              "          const dataTable =\n",
              "            await google.colab.kernel.invokeFunction('convertToInteractive',\n",
              "                                                     [key], {});\n",
              "          if (!dataTable) return;\n",
              "\n",
              "          const docLinkHtml = 'Like what you see? Visit the ' +\n",
              "            '<a target=\"_blank\" href=https://colab.research.google.com/notebooks/data_table.ipynb>data table notebook</a>'\n",
              "            + ' to learn more about interactive tables.';\n",
              "          element.innerHTML = '';\n",
              "          dataTable['output_type'] = 'display_data';\n",
              "          await google.colab.output.renderOutput(dataTable, element);\n",
              "          const docLink = document.createElement('div');\n",
              "          docLink.innerHTML = docLinkHtml;\n",
              "          element.appendChild(docLink);\n",
              "        }\n",
              "      </script>\n",
              "    </div>\n",
              "  </div>\n",
              "  "
            ],
            "text/plain": [
              "                     Unnamed: 0  ... upvote_ratio\n",
              "created_utc                      ...             \n",
              "2018-12-31 15:05:18      861747  ...          0.0\n",
              "2018-12-31 14:45:20      861748  ...          0.0\n",
              "2018-12-31 14:40:30      861749  ...          0.0\n",
              "2018-12-31 14:34:10      861750  ...          0.0\n",
              "2018-12-31 14:29:50      861751  ...          0.0\n",
              "\n",
              "[5 rows x 11 columns]"
            ]
          },
          "metadata": {},
          "execution_count": 6
        }
      ]
    },
    {
      "cell_type": "markdown",
      "metadata": {
        "id": "GAcxDbQIEMJD"
      },
      "source": [
        "# 2. Find Sentiment"
      ]
    },
    {
      "cell_type": "markdown",
      "metadata": {
        "id": "tpC9b1CzEMJD"
      },
      "source": [
        "## 2.1. Intialize pipline\n",
        "\n",
        "<!-- ![nlp_pipeline](https://spacy.io/pipeline-fde48da9b43661abcdf62ab70a546d71.svg) -->"
      ]
    },
    {
      "cell_type": "code",
      "source": [
        "pip install SpacyTextBlob"
      ],
      "metadata": {
        "id": "eIderA40G3rE"
      },
      "execution_count": null,
      "outputs": []
    },
    {
      "cell_type": "code",
      "execution_count": null,
      "metadata": {
        "id": "MR7eLdQhEMJE",
        "outputId": "d7e0d510-9f2e-440a-9842-84a3ab3fd11b",
        "colab": {
          "base_uri": "https://localhost:8080/"
        }
      },
      "outputs": [
        {
          "output_type": "stream",
          "name": "stdout",
          "text": [
            "['sentiment']\n"
          ]
        }
      ],
      "source": [
        "# nlp = spacy.load(\"en_core_web_lg\")\n",
        "from spacytextblob.spacytextblob import SpacyTextBlob\n",
        "nlp = spacy.blank(\"en\")\n",
        "if \"spacytextblob\" not in nlp.pipe_names:\n",
        "    nlp.add_pipe(\"spacytextblob\")\n",
        "    nlp.rename_pipe(\"spacytextblob\", \"sentiment\")\n",
        "print(nlp.pipe_names)"
      ]
    },
    {
      "cell_type": "markdown",
      "metadata": {
        "id": "GPJtDtp2EMJF"
      },
      "source": [
        "## 2.2. Find sentiment"
      ]
    },
    {
      "cell_type": "code",
      "execution_count": null,
      "metadata": {
        "id": "RvWDH2JxEMJG",
        "outputId": "c52950ad-1eec-4f2e-8714-6e7e84b5007c",
        "colab": {
          "base_uri": "https://localhost:8080/",
          "height": 518
        }
      },
      "outputs": [
        {
          "output_type": "execute_result",
          "data": {
            "text/html": [
              "<div>\n",
              "<style scoped>\n",
              "    .dataframe tbody tr th:only-of-type {\n",
              "        vertical-align: middle;\n",
              "    }\n",
              "\n",
              "    .dataframe tbody tr th {\n",
              "        vertical-align: top;\n",
              "    }\n",
              "\n",
              "    .dataframe thead th {\n",
              "        text-align: right;\n",
              "    }\n",
              "</style>\n",
              "<table border=\"1\" class=\"dataframe\">\n",
              "  <thead>\n",
              "    <tr style=\"text-align: right;\">\n",
              "      <th></th>\n",
              "      <th>Unnamed: 0</th>\n",
              "      <th>author</th>\n",
              "      <th>created_utc</th>\n",
              "      <th>id</th>\n",
              "      <th>link_flair_text</th>\n",
              "      <th>num_comments</th>\n",
              "      <th>score</th>\n",
              "      <th>subreddit_subscribers</th>\n",
              "      <th>selftext</th>\n",
              "      <th>title</th>\n",
              "      <th>upvote_ratio</th>\n",
              "      <th>title_polarity</th>\n",
              "      <th>title_subjectivity</th>\n",
              "      <th>body_polarity</th>\n",
              "      <th>body_subjectivity</th>\n",
              "      <th>polarity</th>\n",
              "      <th>title_tokens</th>\n",
              "      <th>selftext_tokens</th>\n",
              "    </tr>\n",
              "    <tr>\n",
              "      <th>created_utc</th>\n",
              "      <th></th>\n",
              "      <th></th>\n",
              "      <th></th>\n",
              "      <th></th>\n",
              "      <th></th>\n",
              "      <th></th>\n",
              "      <th></th>\n",
              "      <th></th>\n",
              "      <th></th>\n",
              "      <th></th>\n",
              "      <th></th>\n",
              "      <th></th>\n",
              "      <th></th>\n",
              "      <th></th>\n",
              "      <th></th>\n",
              "      <th></th>\n",
              "      <th></th>\n",
              "      <th></th>\n",
              "    </tr>\n",
              "  </thead>\n",
              "  <tbody>\n",
              "    <tr>\n",
              "      <th>2021-10-19 17:58:57</th>\n",
              "      <td>0</td>\n",
              "      <td>VendiVendiVendi</td>\n",
              "      <td>2021-10-19 17:58:57</td>\n",
              "      <td>qbh10s</td>\n",
              "      <td>Gain</td>\n",
              "      <td>0</td>\n",
              "      <td>1</td>\n",
              "      <td>10967090</td>\n",
              "      <td>So 13.56 cad for BB.  It’s moving and gaining ...</td>\n",
              "      <td>BB</td>\n",
              "      <td>1.0</td>\n",
              "      <td>0.0</td>\n",
              "      <td>0.000000</td>\n",
              "      <td>-0.470378</td>\n",
              "      <td>0.516667</td>\n",
              "      <td>-0.470378</td>\n",
              "      <td>[BB]</td>\n",
              "      <td>[So, 13.56, cad, for, BB, .,  , It, ’s, moving...</td>\n",
              "    </tr>\n",
              "    <tr>\n",
              "      <th>2021-10-19 17:57:49</th>\n",
              "      <td>1</td>\n",
              "      <td>Far_Bass_7284</td>\n",
              "      <td>2021-10-19 17:57:49</td>\n",
              "      <td>qbh04w</td>\n",
              "      <td>News</td>\n",
              "      <td>1</td>\n",
              "      <td>1</td>\n",
              "      <td>10967087</td>\n",
              "      <td>NaN</td>\n",
              "      <td>Surely it is a coincidence.</td>\n",
              "      <td>1.0</td>\n",
              "      <td>0.5</td>\n",
              "      <td>0.888889</td>\n",
              "      <td>0.000000</td>\n",
              "      <td>0.000000</td>\n",
              "      <td>0.500000</td>\n",
              "      <td>[Surely, it, is, a, coincidence, .]</td>\n",
              "      <td>[nan]</td>\n",
              "    </tr>\n",
              "    <tr>\n",
              "      <th>2021-10-19 17:55:24</th>\n",
              "      <td>2</td>\n",
              "      <td>HistoricalAnimator43</td>\n",
              "      <td>2021-10-19 17:55:24</td>\n",
              "      <td>qbgyco</td>\n",
              "      <td>YOLO</td>\n",
              "      <td>0</td>\n",
              "      <td>1</td>\n",
              "      <td>10967076</td>\n",
              "      <td>NaN</td>\n",
              "      <td>yolo sava options</td>\n",
              "      <td>1.0</td>\n",
              "      <td>0.0</td>\n",
              "      <td>0.000000</td>\n",
              "      <td>0.000000</td>\n",
              "      <td>0.000000</td>\n",
              "      <td>0.000000</td>\n",
              "      <td>[yolo, sava, options]</td>\n",
              "      <td>[nan]</td>\n",
              "    </tr>\n",
              "    <tr>\n",
              "      <th>2021-10-19 17:54:51</th>\n",
              "      <td>3</td>\n",
              "      <td>ZaRaWi</td>\n",
              "      <td>2021-10-19 17:54:51</td>\n",
              "      <td>qbgxy8</td>\n",
              "      <td>YOLO</td>\n",
              "      <td>0</td>\n",
              "      <td>1</td>\n",
              "      <td>10967076</td>\n",
              "      <td>NaN</td>\n",
              "      <td>meme</td>\n",
              "      <td>1.0</td>\n",
              "      <td>0.0</td>\n",
              "      <td>0.000000</td>\n",
              "      <td>0.000000</td>\n",
              "      <td>0.000000</td>\n",
              "      <td>0.000000</td>\n",
              "      <td>[meme]</td>\n",
              "      <td>[nan]</td>\n",
              "    </tr>\n",
              "    <tr>\n",
              "      <th>2021-10-19 17:52:33</th>\n",
              "      <td>4</td>\n",
              "      <td>CuteInterest1884</td>\n",
              "      <td>2021-10-19 17:52:33</td>\n",
              "      <td>qbgw9u</td>\n",
              "      <td>DD</td>\n",
              "      <td>0</td>\n",
              "      <td>1</td>\n",
              "      <td>10967075</td>\n",
              "      <td>BB is on the move higher, not because of the p...</td>\n",
              "      <td>BB</td>\n",
              "      <td>1.0</td>\n",
              "      <td>0.0</td>\n",
              "      <td>0.000000</td>\n",
              "      <td>0.168254</td>\n",
              "      <td>0.506349</td>\n",
              "      <td>0.168254</td>\n",
              "      <td>[BB]</td>\n",
              "      <td>[BB, is, on, the, move, higher, ,, not, becaus...</td>\n",
              "    </tr>\n",
              "  </tbody>\n",
              "</table>\n",
              "</div>"
            ],
            "text/plain": [
              "                     Unnamed: 0  ...                                    selftext_tokens\n",
              "created_utc                      ...                                                   \n",
              "2021-10-19 17:58:57           0  ...  [So, 13.56, cad, for, BB, .,  , It, ’s, moving...\n",
              "2021-10-19 17:57:49           1  ...                                              [nan]\n",
              "2021-10-19 17:55:24           2  ...                                              [nan]\n",
              "2021-10-19 17:54:51           3  ...                                              [nan]\n",
              "2021-10-19 17:52:33           4  ...  [BB, is, on, the, move, higher, ,, not, becaus...\n",
              "\n",
              "[5 rows x 18 columns]"
            ]
          },
          "metadata": {},
          "execution_count": 30
        }
      ],
      "source": [
        "df[\"title_polarity\"] = 0.0\n",
        "df[\"title_subjectivity\"] = 0.0\n",
        "df[\"body_polarity\"] = 0.0\n",
        "df[\"body_subjectivity\"] = 0.0\n",
        "df[\"polarity\"] = 0.0\n",
        "df[\"title_tokens\"] = \"\"\n",
        "df['title_tokens'] = df['title_tokens'].apply(list)\n",
        "df[\"selftext_tokens\"] =\"\" \n",
        "df['selftext_tokens'] = df['selftext_tokens'].apply(list)\n",
        "\n",
        "def get_sentiment(title, body):\n",
        "    nlp_title = nlp(title)\n",
        "    nlp_body = nlp(str(body))\n",
        "    title_tokens = [token.text for token in nlp_title]\n",
        "    body_tokens = [token.text for token in nlp_body]\n",
        "    #ngrams = ngrams.append(list(textacy.extract.basics.ngrams(nlp_title, 3)))\n",
        "    #print(pd.Series([nlp_title._.polarity, nlp_title._.subjectivity,\n",
        "    #                  nlp_body._.polarity, nlp_body._.subjectivity,title_tokens,body_tokens]))\n",
        "    return pd.Series([nlp_title._.polarity, nlp_title._.subjectivity,\n",
        "                      nlp_body._.polarity, nlp_body._.subjectivity,title_tokens,body_tokens])\n",
        "\n",
        "df[[\"title_polarity\", \"title_subjectivity\", \"body_polarity\", \"body_subjectivity\",\"title_tokens\",\"selftext_tokens\"]] = df.apply(lambda row: get_sentiment(row[\"title\"], row[\"selftext\"]), axis=1)\n",
        "df[\"polarity\"] = (df[\"title_polarity\"] + df[\"body_polarity\"])\n",
        "df.head()"
      ]
    },
    {
      "cell_type": "code",
      "execution_count": null,
      "metadata": {
        "id": "Y4fCjEjNEMJI"
      },
      "outputs": [],
      "source": [
        "df.to_csv(\"/content/drive/MyDrive/WSB/WSB_submissions_features_spacy.csv\", sep=\";\")"
      ]
    },
    {
      "cell_type": "markdown",
      "metadata": {
        "id": "EQFcn1bBEMJJ"
      },
      "source": [
        "## 2.3. Group by day"
      ]
    },
    {
      "cell_type": "code",
      "execution_count": null,
      "metadata": {
        "id": "jM3m1xMFEMJK",
        "outputId": "67ff41d2-785e-4865-c89f-a6feca338296",
        "colab": {
          "base_uri": "https://localhost:8080/",
          "height": 238
        }
      },
      "outputs": [
        {
          "output_type": "display_data",
          "data": {
            "text/html": [
              "<div>\n",
              "<style scoped>\n",
              "    .dataframe tbody tr th:only-of-type {\n",
              "        vertical-align: middle;\n",
              "    }\n",
              "\n",
              "    .dataframe tbody tr th {\n",
              "        vertical-align: top;\n",
              "    }\n",
              "\n",
              "    .dataframe thead th {\n",
              "        text-align: right;\n",
              "    }\n",
              "</style>\n",
              "<table border=\"1\" class=\"dataframe\">\n",
              "  <thead>\n",
              "    <tr style=\"text-align: right;\">\n",
              "      <th></th>\n",
              "      <th>polarity</th>\n",
              "    </tr>\n",
              "    <tr>\n",
              "      <th>created_utc</th>\n",
              "      <th></th>\n",
              "    </tr>\n",
              "  </thead>\n",
              "  <tbody>\n",
              "    <tr>\n",
              "      <th>2018-12-31</th>\n",
              "      <td>0.044122</td>\n",
              "    </tr>\n",
              "    <tr>\n",
              "      <th>2019-01-01</th>\n",
              "      <td>0.076531</td>\n",
              "    </tr>\n",
              "    <tr>\n",
              "      <th>2019-01-02</th>\n",
              "      <td>0.065572</td>\n",
              "    </tr>\n",
              "    <tr>\n",
              "      <th>2019-01-03</th>\n",
              "      <td>0.098842</td>\n",
              "    </tr>\n",
              "    <tr>\n",
              "      <th>2019-01-04</th>\n",
              "      <td>0.082731</td>\n",
              "    </tr>\n",
              "  </tbody>\n",
              "</table>\n",
              "</div>"
            ],
            "text/plain": [
              "             polarity\n",
              "created_utc          \n",
              "2018-12-31   0.044122\n",
              "2019-01-01   0.076531\n",
              "2019-01-02   0.065572\n",
              "2019-01-03   0.098842\n",
              "2019-01-04   0.082731"
            ]
          },
          "metadata": {}
        }
      ],
      "source": [
        "df_polarity = df.groupby(pd.Grouper(freq=\"D\"))[[\"polarity\"]].mean()\n",
        "df_polarity = df_polarity.fillna(0)\n",
        "display(df_polarity.head())"
      ]
    },
    {
      "cell_type": "markdown",
      "metadata": {
        "id": "8PaGeQg1EMJL"
      },
      "source": [
        "##  choice of words, n-grams/phrases, ticker extraction"
      ]
    },
    {
      "cell_type": "code",
      "source": [
        "pip install textacy"
      ],
      "metadata": {
        "id": "GJRR8BxYHXjm"
      },
      "execution_count": null,
      "outputs": []
    },
    {
      "cell_type": "code",
      "execution_count": null,
      "metadata": {
        "id": "EsvI03qqEMJL"
      },
      "outputs": [],
      "source": [
        "import textacy\n",
        "bigrams_title = []\n",
        "trigrams_title = []\n",
        "\n",
        "def get_ngrams(title,n):\n",
        "    nlp_title = nlp(str(title)) \n",
        "    f.write(\"%s\\n\" % list(textacy.extract.basics.ngrams(nlp_title, n, filter_stops=True, filter_punct=True, filter_nums=False)))\n",
        "\n",
        "\n"
      ]
    },
    {
      "cell_type": "code",
      "source": [
        "with open('/content/drive/MyDrive/WSB/bigrams_title_.txt', 'a') as f: \n",
        " df.apply(lambda row: get_ngrams(row[\"title\"],2), axis=1)\n",
        "    \n",
        "with open('/content/drive/MyDrive/WSB/trigrams_title_.txt', 'a') as f:\n",
        " df.apply(lambda row: get_ngrams(row[\"title\"],3), axis=1)"
      ],
      "metadata": {
        "id": "jI3giMheQ1nT"
      },
      "execution_count": null,
      "outputs": []
    },
    {
      "cell_type": "code",
      "source": [
        "    \n",
        "with open('/content/drive/MyDrive/WSB/bigrams_selftext_.txt', 'a') as f:\n",
        " df.apply(lambda row: get_ngrams(row[\"selftext\"],2), axis=1)\n",
        " \n",
        "with open('/content/drive/MyDrive/WSB/trigrams_selftext_.txt', 'a') as f:\n",
        " df.apply(lambda row: get_ngrams(row[\"selftext\"],3), axis=1)"
      ],
      "metadata": {
        "id": "KRw9t2P_k9jP"
      },
      "execution_count": null,
      "outputs": []
    },
    {
      "cell_type": "markdown",
      "source": [
        "##Frequency of N-grams"
      ],
      "metadata": {
        "id": "wSNXSFcHwCOF"
      }
    },
    {
      "cell_type": "code",
      "source": [
        "# read a line from a file as a list of ngrams\n",
        "# create a list of all ngrams\n",
        "# calculate freq.\n",
        "# wordcloud \n",
        "\n",
        "import ast\n",
        "bigrams_title = []\n",
        "with open('/content/drive/MyDrive/WSB/bigrams_title_.txt',encoding=\"utf-8\") as f:\n",
        " lines = f.read().splitlines() \n"
      ],
      "metadata": {
        "id": "cVs3RkLvwC__"
      },
      "execution_count": null,
      "outputs": []
    },
    {
      "cell_type": "code",
      "source": [
        "import re\n",
        "bigrams_title = []\n",
        "for lst in lines:  \n",
        "  for bigram in lst.split(','):    \n",
        "    bigram=re.sub('[[]', '', bigram)\n",
        "    bigram=re.sub('[]]', '', bigram)\n",
        "    if bigram != '':      \n",
        "      bigrams_title.append(bigram.lower())\n",
        "print(bigrams_title[0:50])\n",
        "  "
      ],
      "metadata": {
        "colab": {
          "base_uri": "https://localhost:8080/"
        },
        "id": "tSsyB1J9yc-c",
        "outputId": "93fb45fc-a6cc-43fc-ffc4-7b1c66e43165"
      },
      "execution_count": null,
      "outputs": [
        {
          "output_type": "stream",
          "name": "stderr",
          "text": [
            "/usr/local/lib/python3.7/dist-packages/ipykernel_launcher.py:5: FutureWarning: Possible nested set at position 1\n",
            "  \"\"\"\n"
          ]
        },
        {
          "output_type": "stream",
          "name": "stdout",
          "text": [
            "['yolo sava', ' sava options', 'sitting ape', ' charging bull', 'prog yolo', ' yolo 1.5', ' 1.5 yrs', 'hedge funds', ' $hood', '$372k', ' 372k gains', ' tsla deliveries', 'bit lol', ' lol 😂', '💎🤲', ' 🤲🏾', ' 🏾 bb', ' bb 🚀', ' 🚀🚀', ' 🚀🚀', ' 🚀🚀', ' 🚀🚀', 'goal fulfilled', 'wsb apes', ' apes 20', ' 20 years', ' years later', 'tsla earnings', ' earnings prediction', ' beat estimates', 'fuk ur', ' ur puts', 'guys think', 'crude oil', ' $100', ' dec. 2021', ' bad bet', ' $200', ' 2022 aside', ' aug. 20th', 'spac merger', ' merger dd', 'fuck yeah', 'hedge funds', ' playtika holding', ' holding corp.', '$adxs', ' adxs continue', 'anybody watching', '$tlry']\n"
          ]
        }
      ]
    },
    {
      "cell_type": "code",
      "source": [
        "count_freq = {}\n",
        "for item in bigrams_title:\n",
        "    item = item.strip()\n",
        "    if item in count_freq:\n",
        "        count_freq[item] +=1\n",
        "    else:\n",
        "        count_freq[item] = 1"
      ],
      "metadata": {
        "id": "hV4LF3R8CZbG"
      },
      "execution_count": null,
      "outputs": []
    },
    {
      "cell_type": "code",
      "source": [
        "sorted_two_grams = sorted(count_freq.items(), key=lambda item: item[1], reverse = True)\n",
        "print(sorted_two_grams[:100])"
      ],
      "metadata": {
        "colab": {
          "base_uri": "https://localhost:8080/"
        },
        "id": "W9mLKRwZCn4H",
        "outputId": "60d2bf4b-ef0b-4725-e82b-431593f73d1b"
      },
      "execution_count": null,
      "outputs": [
        {
          "output_type": "stream",
          "name": "stdout",
          "text": [
            "[('🚀🚀', 184141), ('$gme', 14145), ('💎🙌', 13582), ('💎💎', 12363), ('🚀 🚀', 7277), ('🦍🦍', 6344), ('diamond hands', 5799), ('$amc', 5797), ('gonna', 5498), ('moon 🚀', 5310), ('short squeeze', 5083), ('wall street', 4999), ('🚀💎', 4389), ('hedge funds', 4256), ('$bb', 4089), ('000', 3920), ('short interest', 3651), ('💎👐', 3564), ('🙌💎', 3520), ('💎🤲', 3502), ('🌈🐻', 3345), ('💎🚀', 3305), ('loss porn', 3042), ('stock market', 2844), ('buy gme', 2764), ('looks like', 2746), ('💎✋', 2619), ('🚀🌕', 2565), ('gme 🚀', 2449), ('🔥🔥', 2412), ('$nok', 2389), ('🙌🏻', 2375), ('$wish', 2329), ('$$', 2325), ('hedge fund', 2209), ('$tsla', 1993), ('🙌🏼', 1987), ('buy buy', 1958), ('$1', 1916), ('💎 🙌', 1896), ('hold hold', 1831), ('market manipulation', 1821), ('$100', 1804), ('🦍🚀', 1804), ('moon🚀', 1758), ('$clov', 1681), ('elon musk', 1614), ('♂️', 1606), ('🙌🚀', 1572), ('🙌🙌', 1521), ('💎🤚', 1506), ('gme $', 1484), ('paper hands', 1468), ('📈📈', 1459), ('😂😂', 1453), ('honest work', 1445), ('financial advice', 1445), ('🌕🌕', 1432), ('melvin capital', 1388), ('fellow apes', 1349), ('$10', 1302), ('$pltr', 1284), ('robin hood', 1284), ('buy $', 1258), ('td ameritrade', 1201), ('🏻💎', 1190), ('🚀🌙', 1155), ('💎🖐', 1151), ('🦍💎', 1144), ('hold gme', 1136), ('long term', 1130), ('gme shares', 1119), ('yolo update', 1097), ('wsbvotebot log', 1094), ('$1000', 1072), ('stay strong', 1065), ('meme stock', 1064), ('life savings', 1060), ('buy amc', 1057), ('spy puts', 1054), ('❤️', 1046), ('gotta', 1044), ('amc 🚀', 1040), ('fuck robinhood', 1037), ('$20', 1031), ('🚀🦍', 1011), ('👐💎', 1011), ('$50', 1000), ('🏼💎', 973), ('🙌🏽', 972), ('$500', 962), ('guys think', 948), ('fucking moon', 942), ('short sellers', 934), ('🚀🌝', 933), ('🤲💎', 933), ('amc $', 932), ('gain porn', 932), ('🚀🌚', 927), ('trading 212', 926)]\n"
          ]
        }
      ]
    },
    {
      "cell_type": "code",
      "source": [
        "from nltk.probability import FreqDist\n",
        "from sklearn.feature_extraction.text import CountVectorizer\n",
        "from sklearn.feature_extraction.text import TfidfVectorizer\n",
        "from sklearn.decomposition import LatentDirichletAllocation, NMF\n",
        "from wordcloud import WordCloud, ImageColorGenerator\n",
        "import matplotlib.pyplot as plt\n",
        "import seaborn as sns\n"
      ],
      "metadata": {
        "id": "1BADQeQS8OzN"
      },
      "execution_count": null,
      "outputs": []
    },
    {
      "cell_type": "code",
      "source": [
        "import nltk\n",
        "from nltk.util import ngrams\n",
        "from nltk.collocations import BigramCollocationFinder\n",
        "from nltk.metrics import BigramAssocMeasures\n",
        "\n",
        "#word_fd = nltk.FreqDist(filtered_sentence)\n",
        "bigram_fd = nltk.FreqDist(nltk.bigrams(bigrams_title))\n",
        "\n"
      ],
      "metadata": {
        "id": "KZJzqkrr9z0V"
      },
      "execution_count": null,
      "outputs": []
    },
    {
      "cell_type": "code",
      "source": [
        "bigram_fd.most_common(10)"
      ],
      "metadata": {
        "colab": {
          "base_uri": "https://localhost:8080/"
        },
        "id": "ACAelwtB-aJy",
        "outputId": "d116619b-16dc-462c-8bf8-f9723d507d84"
      },
      "execution_count": null,
      "outputs": [
        {
          "output_type": "execute_result",
          "data": {
            "text/plain": [
              "[((' 🚀🚀', ' 🚀🚀'), 125438),\n",
              " ((' 💎💎', ' 💎💎'), 6189),\n",
              " (('🚀🚀', ' 🚀🚀'), 5032),\n",
              " ((' 🚀 🚀', ' 🚀 🚀'), 3596),\n",
              " ((' 🦍🦍', ' 🦍🦍'), 3477),\n",
              " ((' moon 🚀', ' 🚀🚀'), 2228),\n",
              " ((' 🚀🚀', ' 🚀💎'), 2133),\n",
              " ((' 💎🙌', ' 🙌💎'), 1819),\n",
              " ((' 🙌💎', ' 💎🙌'), 1502),\n",
              " (('moon 🚀', ' 🚀🚀'), 1350)]"
            ]
          },
          "metadata": {},
          "execution_count": 23
        }
      ]
    },
    {
      "cell_type": "code",
      "source": [
        "mostcommon = bigram_fd.most_common(20)\n",
        "wordcloud = WordCloud(width=1000, height=500, background_color='white').generate(str(mostcommon))\n",
        "fig = plt.figure(figsize=(30,10), facecolor='white')\n",
        "plt.imshow(wordcloud, interpolation=\"bilinear\")\n",
        "plt.axis('off')\n",
        "plt.title('Top 100 Most Common bigrams', fontsize=50)\n",
        "plt.tight_layout(pad=0)\n",
        "plt.show()"
      ],
      "metadata": {
        "colab": {
          "base_uri": "https://localhost:8080/",
          "height": 751
        },
        "id": "-QaruPs9-dPj",
        "outputId": "b4c45054-8829-4f33-e68e-331e171309b4"
      },
      "execution_count": null,
      "outputs": [
        {
          "output_type": "display_data",
          "data": {
            "image/png": "[encoded data removed]",
            "text/plain": [
              "<Figure size 2160x720 with 1 Axes>"
            ]
          },
          "metadata": {}
        }
      ]
    },
    {
      "cell_type": "code",
      "source": [
        "with open('/content/drive/MyDrive/WSB/trigrams_title_.txt',encoding=\"utf-8\") as f:\n",
        " lines = f.read().splitlines() \n",
        "\n",
        "trigrams_title = []\n",
        "for lst in lines:  \n",
        "  for trigram in lst.split(','):    \n",
        "    trigram=re.sub('[[]', '', trigram)\n",
        "    trigram=re.sub('[]]', '', trigram)\n",
        "    if trigram != '':      \n",
        "      trigrams_title.append(trigram.lower())\n",
        "print(trigrams_title[0:50])"
      ],
      "metadata": {
        "colab": {
          "base_uri": "https://localhost:8080/"
        },
        "id": "VLIHLkQc_O0z",
        "outputId": "483ede39-9fbe-43fc-d3ee-77fef1a37ee2"
      },
      "execution_count": null,
      "outputs": [
        {
          "output_type": "stream",
          "name": "stdout",
          "text": [
            "['yolo sava options', 'ape is strong', 'prog yolo 1.5', ' yolo 1.5 yrs', 'menace to hedge', ' funds by squeezing', ' squeezing their shorts', ' shorts of $', '$372k gains', ' gains from tsla', ' deliveries and pre', 'future and help', ' help a bit', ' bit lol 😂', '💎🤲🏾', ' 🤲🏾 bb', ' 🏾 bb 🚀', ' bb 🚀🚀', ' 🚀🚀🚀', ' 🚀🚀🚀', ' 🚀🚀🚀', 'trying to understand', ' understand why amc', ' amc and gme', 'wsb apes 20', ' apes 20 years', ' 20 years later', 'tsla earnings prediction', 'fuk ur puts', ' puts he said', 'wish to 10', 'oil to $', ' 100 by dec.', ' wagers on options', ' options of crude', ' crude to $', ' 200 in 2022', ' return since aug.', 'bowx we spac', ' spac merger dd', 'funds are piling', ' piling into playtika', ' playtika holding corp.', '$adxs continue', ' continue to buy', 'y’all thoughts', 'tlry is moving', ' moving big today', ' weed smokers rejoice', 'oil to $']\n"
          ]
        }
      ]
    },
    {
      "cell_type": "code",
      "source": [
        "count_freq_trigrams = {}\n",
        "for item in trigrams_title:\n",
        "    item = item.strip()\n",
        "    if item in count_freq_trigrams:\n",
        "        count_freq_trigrams[item] +=1\n",
        "    else:\n",
        "        count_freq_trigrams[item] = 1"
      ],
      "metadata": {
        "id": "sO9GkI1wXKbK"
      },
      "execution_count": null,
      "outputs": []
    },
    {
      "cell_type": "code",
      "source": [
        "sorted_tri_grams = sorted(count_freq_trigrams.items(), key=lambda item: item[1], reverse = True)\n",
        "print(sorted_tri_grams[:100])"
      ],
      "metadata": {
        "colab": {
          "base_uri": "https://localhost:8080/"
        },
        "id": "z8e3XMCHXVOK",
        "outputId": "c6f89bd6-f98b-4821-b9d1-24caa9a84635"
      },
      "execution_count": null,
      "outputs": [
        {
          "output_type": "stream",
          "name": "stdout",
          "text": [
            "[('🚀🚀🚀', 130366), ('💎💎💎', 6617), ('hold the line', 6170), ('🚀 🚀 🚀', 3823), ('🦍🦍🦍', 3664), ('like the stock', 3651), ('moon 🚀🚀', 3578), ('buy the dip', 2905), ('gme and amc', 2526), ('🚀🚀💎', 2199), ('000', 2145), ('💎🙌💎', 1988), ('gme 🚀🚀', 1633), ('buy and hold', 1588), ('🙌💎🙌', 1530), ('💎🙌🏻', 1498), ('💎🙌🚀', 1412), ('🔥🔥🔥', 1409), ('moon🚀🚀', 1373), ('💎🚀🚀', 1356), ('$$$', 1331), ('💎🙌🏼', 1259), ('$gme $', 1197), ('amc and gme', 1176), ('time to buy', 1020), ('🚀🚀🌕', 1013), ('hold hold hold', 1003), ('🚀💎🙌', 999), ('buy buy buy', 980), ('💎💎🙌', 939), ('🚀💎💎', 928), ('🙌🙌🙌', 846), ('apes together strong', 804), ('$amc $', 802), ('🌕🌕🌕', 802), ('🙌🚀🚀', 799), ('📈📈📈', 796), ('like this stock', 782), ('shares of gme', 768), ('\\u200d♂️', 742), ('holding the line', 707), ('bought the dip', 693), ('🚀 🚀🚀', 685), ('gme $amc', 662), ('💎💎🚀', 658), ('wall street bets', 656), ('daily discussion thread', 655), ('amc 🚀🚀', 653), ('😂😂😂', 631), ('wish me luck', 618), ('🦍🚀🚀', 618), ('💎👐💎', 608), ('$gme 🚀', 606), ('wife’s boyfriend', 589), ('🚀💎🚀', 586), ('💎🙌🏽', 582), ('buy more gme', 576), ('💎🚀💎', 546), ('🍌🍌🍌', 540), ('🙌🏻💎', 535), ('bb 🚀🚀', 511), ('buying the dip', 501), ('🏳️\\u200d🌈', 500), ('🚀🚀🌙', 487), ('let me buy', 482), ('🤑🤑🤑', 479), ('gme🚀🚀', 476), ('💎🙌🙌', 470), ('gme and $', 469), (\"wife's boyfriend\", 468), ('💎🤲💎', 465), ('hold the fucking', 463), ('won’t let', 458), ('💰💰💰', 453), ('👐💎👐', 449), ('🦍🦍🚀', 448), ('🙌🏼💎', 440), ('1', 434), ('🙌💎🚀', 433), ('🚀🌕🌕', 433), ('share of gme', 431), ('🚀🚀🌚', 423), ('💎🤲🏻', 415), ('💎👐🚀', 414), ('$bb $', 411), ('🌙🌙🌙', 404), ('shares of amc', 403), ('🚀🚀🌝', 402), ('diamond hands 💎', 390), ('🚀🚀 🚀', 383), ('🤲💎🤲', 381), ('🌝🌝🌝', 377), ('buy $gme', 376), ('$nok $', 371), ('💎✋💎', 370), ('🚀🚀🦍', 368), ('hold and buy', 367), ('amc amc amc', 365), ('🤷\\u200d♂', 363), ('🏻\\u200d♂️', 359)]\n"
          ]
        }
      ]
    },
    {
      "cell_type": "code",
      "source": [
        "trigram_fd = nltk.FreqDist(nltk.trigrams(trigrams_title))\n",
        "trigram_fd.most_common(10)"
      ],
      "metadata": {
        "colab": {
          "base_uri": "https://localhost:8080/"
        },
        "id": "zHZ8PC5-BFdr",
        "outputId": "f4b8c9ca-7df8-40f5-dc98-4867dc298182"
      },
      "execution_count": null,
      "outputs": [
        {
          "output_type": "execute_result",
          "data": {
            "text/plain": [
              "[((' 🚀🚀🚀', ' 🚀🚀🚀', ' 🚀🚀🚀'), 63768),\n",
              " ((' 💎💎💎', ' 💎💎💎', ' 💎💎💎'), 2062),\n",
              " (('🚀🚀🚀', ' 🚀🚀🚀', ' 🚀🚀🚀'), 1499),\n",
              " ((' 🚀 🚀 🚀', ' 🚀 🚀 🚀', ' 🚀 🚀 🚀'), 1336),\n",
              " ((' 🦍🦍🦍', ' 🦍🦍🦍', ' 🦍🦍🦍'), 1274),\n",
              " ((' moon 🚀🚀', ' 🚀🚀🚀', ' 🚀🚀🚀'), 860),\n",
              " ((' 🚀🚀🚀', ' 🚀🚀🚀', ' 🚀🚀💎'), 758),\n",
              " ((' 💎🙌💎', ' 🙌💎🙌', ' 💎🙌💎'), 737),\n",
              " ((' 🙌💎🙌', ' 💎🙌💎', ' 🙌💎🙌'), 694),\n",
              " (('moon 🚀🚀', ' 🚀🚀🚀', ' 🚀🚀🚀'), 627)]"
            ]
          },
          "metadata": {},
          "execution_count": 27
        }
      ]
    },
    {
      "cell_type": "markdown",
      "source": [
        "## Extract Tickers -start with $"
      ],
      "metadata": {
        "id": "3vjTONweYVUM"
      }
    },
    {
      "cell_type": "code",
      "source": [
        "nasdaq_stocks = pd.read_csv(\"/content/drive/MyDrive/WSB/nasdaq.csv\", sep=\",\")\n",
        "nasdaq_stocks_symbols = nasdaq_stocks[\"Symbol\"].tolist()"
      ],
      "metadata": {
        "id": "ZNqW5tkzYZ6i"
      },
      "execution_count": 4,
      "outputs": []
    },
    {
      "cell_type": "code",
      "source": [
        "# Function to find stocks in a text given stock list\n",
        "import re\n",
        "regex = re.compile(\"[^a-zA-Z ]\")\n",
        "ticker_set = set(nasdaq_stocks_symbols)\n",
        "#list(filter(lambda word: word[0]=='s', text.split()))\n",
        "\n",
        "def calculate_mentioned_stocks(title, body=\"\"):\n",
        "    #content = regex.sub(\"\", str(title) + \" \" + str(body)).split(\" \")\n",
        "    text = str(title) + \" \" + str(body)   \n",
        "    tick_list = list(filter(lambda word: word[0]=='$', text.split())) \n",
        "    content = set(list([i[1:] for i in tick_list]))\n",
        "    tickers = str(list(ticker_set & content))    \n",
        "    return pd.Series([tickers])\n",
        "\n",
        "def sanitize_column(column):\n",
        "    #print(str(column))\n",
        "    column = str(column).replace(\"[],\", \"\").replace(\"[]\", \"\").replace(\"],[\", \",\").replace(\"][\", \",\")\n",
        "    return column"
      ],
      "metadata": {
        "id": "aFQa9MnOcMih"
      },
      "execution_count": 5,
      "outputs": []
    },
    {
      "cell_type": "code",
      "source": [
        "#df[[\"tickers\"]] = df.apply(lambda x: calculate_mentioned_stocks(x[\"title\"],x[\"selftext\"]), axis=1)\n",
        "df[['tickers_']] = df.apply(lambda x: calculate_mentioned_stocks(x[\"title\"],x[\"selftext\"]), axis=1)"
      ],
      "metadata": {
        "id": "GQvXbqyWdYAn"
      },
      "execution_count": 7,
      "outputs": []
    },
    {
      "cell_type": "code",
      "source": [
        "df[['tickers_']] = df['tickers_'].apply(sanitize_column)"
      ],
      "metadata": {
        "id": "YqZMnxQ-pkUt"
      },
      "execution_count": 8,
      "outputs": []
    },
    {
      "cell_type": "code",
      "source": [
        "df['tickers_'].tolist()[:10]"
      ],
      "metadata": {
        "colab": {
          "base_uri": "https://localhost:8080/"
        },
        "id": "2YEqlxD4grv0",
        "outputId": "4f67ebcd-57b2-4349-a7cf-41648e886a89"
      },
      "execution_count": 75,
      "outputs": [
        {
          "output_type": "execute_result",
          "data": {
            "text/plain": [
              "['', '', '', '', '', '', '', '', '', \"['HOOD']\"]"
            ]
          },
          "metadata": {},
          "execution_count": 75
        }
      ]
    },
    {
      "cell_type": "code",
      "source": [
        "#df_daily.index = pd.DatetimeIndex(df_NLP.created_utc)\n",
        "df_daily_title_sentiment = df.groupby(pd.Grouper(freq=\"D\")).agg({'tickers_': 'sum'})\n",
        "df_daily = pd.concat([df_daily_title_sentiment], axis=1)\n",
        "df_daily.head()"
      ],
      "metadata": {
        "colab": {
          "base_uri": "https://localhost:8080/",
          "height": 238
        },
        "id": "wcOvMvGwq7cl",
        "outputId": "29066343-bb96-46cb-d83c-f7600ba89b0c"
      },
      "execution_count": 28,
      "outputs": [
        {
          "output_type": "execute_result",
          "data": {
            "text/html": [
              "\n",
              "  <div id=\"df-23f4ae6e-dfda-4eb9-928b-8dd2e3c2cbc6\">\n",
              "    <div class=\"colab-df-container\">\n",
              "      <div>\n",
              "<style scoped>\n",
              "    .dataframe tbody tr th:only-of-type {\n",
              "        vertical-align: middle;\n",
              "    }\n",
              "\n",
              "    .dataframe tbody tr th {\n",
              "        vertical-align: top;\n",
              "    }\n",
              "\n",
              "    .dataframe thead th {\n",
              "        text-align: right;\n",
              "    }\n",
              "</style>\n",
              "<table border=\"1\" class=\"dataframe\">\n",
              "  <thead>\n",
              "    <tr style=\"text-align: right;\">\n",
              "      <th></th>\n",
              "      <th>tickers_</th>\n",
              "    </tr>\n",
              "    <tr>\n",
              "      <th>created_utc</th>\n",
              "      <th></th>\n",
              "    </tr>\n",
              "  </thead>\n",
              "  <tbody>\n",
              "    <tr>\n",
              "      <th>2018-12-31</th>\n",
              "      <td>['ATVI']['ATVI']</td>\n",
              "    </tr>\n",
              "    <tr>\n",
              "      <th>2019-01-01</th>\n",
              "      <td>['ULTA']['GS', 'WFC']['TSLA']['BBBY']</td>\n",
              "    </tr>\n",
              "    <tr>\n",
              "      <th>2019-01-02</th>\n",
              "      <td>['MU']['TWTR']['PEP']['AAPL']</td>\n",
              "    </tr>\n",
              "    <tr>\n",
              "      <th>2019-01-03</th>\n",
              "      <td>['FB']['AAPL']['AAPL']['TSLA']['AAPL']['NFLX']...</td>\n",
              "    </tr>\n",
              "    <tr>\n",
              "      <th>2019-01-04</th>\n",
              "      <td>['AAPL']['TSLA']['F']['AXDX']['NFLX']['SQ']['D...</td>\n",
              "    </tr>\n",
              "  </tbody>\n",
              "</table>\n",
              "</div>\n",
              "      <button class=\"colab-df-convert\" onclick=\"convertToInteractive('df-23f4ae6e-dfda-4eb9-928b-8dd2e3c2cbc6')\"\n",
              "              title=\"Convert this dataframe to an interactive table.\"\n",
              "              style=\"display:none;\">\n",
              "        \n",
              "  <svg xmlns=\"http://www.w3.org/2000/svg\" height=\"24px\"viewBox=\"0 0 24 24\"\n",
              "       width=\"24px\">\n",
              "    <path d=\"M0 0h24v24H0V0z\" fill=\"none\"/>\n",
              "    <path d=\"M18.56 5.44l.94 2.06.94-2.06 2.06-.94-2.06-.94-.94-2.06-.94 2.06-2.06.94zm-11 1L8.5 8.5l.94-2.06 2.06-.94-2.06-.94L8.5 2.5l-.94 2.06-2.06.94zm10 10l.94 2.06.94-2.06 2.06-.94-2.06-.94-.94-2.06-.94 2.06-2.06.94z\"/><path d=\"M17.41 7.96l-1.37-1.37c-.4-.4-.92-.59-1.43-.59-.52 0-1.04.2-1.43.59L10.3 9.45l-7.72 7.72c-.78.78-.78 2.05 0 2.83L4 21.41c.39.39.9.59 1.41.59.51 0 1.02-.2 1.41-.59l7.78-7.78 2.81-2.81c.8-.78.8-2.07 0-2.86zM5.41 20L4 18.59l7.72-7.72 1.47 1.35L5.41 20z\"/>\n",
              "  </svg>\n",
              "      </button>\n",
              "      \n",
              "  <style>\n",
              "    .colab-df-container {\n",
              "      display:flex;\n",
              "      flex-wrap:wrap;\n",
              "      gap: 12px;\n",
              "    }\n",
              "\n",
              "    .colab-df-convert {\n",
              "      background-color: #E8F0FE;\n",
              "      border: none;\n",
              "      border-radius: 50%;\n",
              "      cursor: pointer;\n",
              "      display: none;\n",
              "      fill: #1967D2;\n",
              "      height: 32px;\n",
              "      padding: 0 0 0 0;\n",
              "      width: 32px;\n",
              "    }\n",
              "\n",
              "    .colab-df-convert:hover {\n",
              "      background-color: #E2EBFA;\n",
              "      box-shadow: 0px 1px 2px rgba(60, 64, 67, 0.3), 0px 1px 3px 1px rgba(60, 64, 67, 0.15);\n",
              "      fill: #174EA6;\n",
              "    }\n",
              "\n",
              "    [theme=dark] .colab-df-convert {\n",
              "      background-color: #3B4455;\n",
              "      fill: #D2E3FC;\n",
              "    }\n",
              "\n",
              "    [theme=dark] .colab-df-convert:hover {\n",
              "      background-color: #434B5C;\n",
              "      box-shadow: 0px 1px 3px 1px rgba(0, 0, 0, 0.15);\n",
              "      filter: drop-shadow(0px 1px 2px rgba(0, 0, 0, 0.3));\n",
              "      fill: #FFFFFF;\n",
              "    }\n",
              "  </style>\n",
              "\n",
              "      <script>\n",
              "        const buttonEl =\n",
              "          document.querySelector('#df-23f4ae6e-dfda-4eb9-928b-8dd2e3c2cbc6 button.colab-df-convert');\n",
              "        buttonEl.style.display =\n",
              "          google.colab.kernel.accessAllowed ? 'block' : 'none';\n",
              "\n",
              "        async function convertToInteractive(key) {\n",
              "          const element = document.querySelector('#df-23f4ae6e-dfda-4eb9-928b-8dd2e3c2cbc6');\n",
              "          const dataTable =\n",
              "            await google.colab.kernel.invokeFunction('convertToInteractive',\n",
              "                                                     [key], {});\n",
              "          if (!dataTable) return;\n",
              "\n",
              "          const docLinkHtml = 'Like what you see? Visit the ' +\n",
              "            '<a target=\"_blank\" href=https://colab.research.google.com/notebooks/data_table.ipynb>data table notebook</a>'\n",
              "            + ' to learn more about interactive tables.';\n",
              "          element.innerHTML = '';\n",
              "          dataTable['output_type'] = 'display_data';\n",
              "          await google.colab.output.renderOutput(dataTable, element);\n",
              "          const docLink = document.createElement('div');\n",
              "          docLink.innerHTML = docLinkHtml;\n",
              "          element.appendChild(docLink);\n",
              "        }\n",
              "      </script>\n",
              "    </div>\n",
              "  </div>\n",
              "  "
            ],
            "text/plain": [
              "                                                      tickers_\n",
              "created_utc                                                   \n",
              "2018-12-31                                    ['ATVI']['ATVI']\n",
              "2019-01-01               ['ULTA']['GS', 'WFC']['TSLA']['BBBY']\n",
              "2019-01-02                       ['MU']['TWTR']['PEP']['AAPL']\n",
              "2019-01-03   ['FB']['AAPL']['AAPL']['TSLA']['AAPL']['NFLX']...\n",
              "2019-01-04   ['AAPL']['TSLA']['F']['AXDX']['NFLX']['SQ']['D..."
            ]
          },
          "metadata": {},
          "execution_count": 28
        }
      ]
    },
    {
      "cell_type": "code",
      "source": [
        "df_daily['tickers']= df_daily['tickers_'].apply(lambda x: sanitize_column(x))"
      ],
      "metadata": {
        "id": "i_-2DW1ErrkE"
      },
      "execution_count": 78,
      "outputs": []
    },
    {
      "cell_type": "code",
      "source": [
        "df_daily.head(10)"
      ],
      "metadata": {
        "colab": {
          "base_uri": "https://localhost:8080/",
          "height": 394
        },
        "id": "uZIsIebWWCuz",
        "outputId": "c814b5be-e76b-42a5-edea-5599b84aab77"
      },
      "execution_count": 79,
      "outputs": [
        {
          "output_type": "execute_result",
          "data": {
            "text/html": [
              "\n",
              "  <div id=\"df-4cbc2b38-3fdb-45fe-b6c7-2b4e9de5f1a8\">\n",
              "    <div class=\"colab-df-container\">\n",
              "      <div>\n",
              "<style scoped>\n",
              "    .dataframe tbody tr th:only-of-type {\n",
              "        vertical-align: middle;\n",
              "    }\n",
              "\n",
              "    .dataframe tbody tr th {\n",
              "        vertical-align: top;\n",
              "    }\n",
              "\n",
              "    .dataframe thead th {\n",
              "        text-align: right;\n",
              "    }\n",
              "</style>\n",
              "<table border=\"1\" class=\"dataframe\">\n",
              "  <thead>\n",
              "    <tr style=\"text-align: right;\">\n",
              "      <th></th>\n",
              "      <th>tickers_</th>\n",
              "      <th>tickers</th>\n",
              "    </tr>\n",
              "    <tr>\n",
              "      <th>created_utc</th>\n",
              "      <th></th>\n",
              "      <th></th>\n",
              "    </tr>\n",
              "  </thead>\n",
              "  <tbody>\n",
              "    <tr>\n",
              "      <th>2018-12-31</th>\n",
              "      <td>['ATVI']['ATVI']</td>\n",
              "      <td>['ATVI','ATVI']</td>\n",
              "    </tr>\n",
              "    <tr>\n",
              "      <th>2019-01-01</th>\n",
              "      <td>['ULTA']['GS', 'WFC']['TSLA']['BBBY']</td>\n",
              "      <td>['ULTA','GS', 'WFC','TSLA','BBBY']</td>\n",
              "    </tr>\n",
              "    <tr>\n",
              "      <th>2019-01-02</th>\n",
              "      <td>['MU']['TWTR']['PEP']['AAPL']</td>\n",
              "      <td>['MU','TWTR','PEP','AAPL']</td>\n",
              "    </tr>\n",
              "    <tr>\n",
              "      <th>2019-01-03</th>\n",
              "      <td>['FB']['AAPL']['AAPL']['TSLA']['AAPL']['NFLX']...</td>\n",
              "      <td>['FB','AAPL','AAPL','TSLA','AAPL','NFLX','AAPL...</td>\n",
              "    </tr>\n",
              "    <tr>\n",
              "      <th>2019-01-04</th>\n",
              "      <td>['AAPL']['TSLA']['F']['AXDX']['NFLX']['SQ']['D...</td>\n",
              "      <td>['AAPL','TSLA','F','AXDX','NFLX','SQ','DELL']</td>\n",
              "    </tr>\n",
              "    <tr>\n",
              "      <th>2019-01-05</th>\n",
              "      <td>['PCG']</td>\n",
              "      <td>['PCG']</td>\n",
              "    </tr>\n",
              "    <tr>\n",
              "      <th>2019-01-06</th>\n",
              "      <td>['TSLA']['SNAP']['EA']['SNAP']['SQ', 'BAC']['X...</td>\n",
              "      <td>['TSLA','SNAP','EA','SNAP','SQ', 'BAC','X','DIS']</td>\n",
              "    </tr>\n",
              "    <tr>\n",
              "      <th>2019-01-07</th>\n",
              "      <td>['AMD']['NIO', 'TSLA']['TSLA']['SNAP']['AMD'][...</td>\n",
              "      <td>['AMD','NIO', 'TSLA','TSLA','SNAP','AMD','TSLA...</td>\n",
              "    </tr>\n",
              "    <tr>\n",
              "      <th>2019-01-08</th>\n",
              "      <td>['LULU']['TSLA']['USA']['MU']['AAPL', 'TSLA'][...</td>\n",
              "      <td>['LULU','TSLA','USA','MU','AAPL', 'TSLA','ROKU...</td>\n",
              "    </tr>\n",
              "    <tr>\n",
              "      <th>2019-01-09</th>\n",
              "      <td>['X']['KBH']['AMZN']['MU']['AMZN']['STZ']['TLR...</td>\n",
              "      <td>['X','KBH','AMZN','MU','AMZN','STZ','TLRY','MU...</td>\n",
              "    </tr>\n",
              "  </tbody>\n",
              "</table>\n",
              "</div>\n",
              "      <button class=\"colab-df-convert\" onclick=\"convertToInteractive('df-4cbc2b38-3fdb-45fe-b6c7-2b4e9de5f1a8')\"\n",
              "              title=\"Convert this dataframe to an interactive table.\"\n",
              "              style=\"display:none;\">\n",
              "        \n",
              "  <svg xmlns=\"http://www.w3.org/2000/svg\" height=\"24px\"viewBox=\"0 0 24 24\"\n",
              "       width=\"24px\">\n",
              "    <path d=\"M0 0h24v24H0V0z\" fill=\"none\"/>\n",
              "    <path d=\"M18.56 5.44l.94 2.06.94-2.06 2.06-.94-2.06-.94-.94-2.06-.94 2.06-2.06.94zm-11 1L8.5 8.5l.94-2.06 2.06-.94-2.06-.94L8.5 2.5l-.94 2.06-2.06.94zm10 10l.94 2.06.94-2.06 2.06-.94-2.06-.94-.94-2.06-.94 2.06-2.06.94z\"/><path d=\"M17.41 7.96l-1.37-1.37c-.4-.4-.92-.59-1.43-.59-.52 0-1.04.2-1.43.59L10.3 9.45l-7.72 7.72c-.78.78-.78 2.05 0 2.83L4 21.41c.39.39.9.59 1.41.59.51 0 1.02-.2 1.41-.59l7.78-7.78 2.81-2.81c.8-.78.8-2.07 0-2.86zM5.41 20L4 18.59l7.72-7.72 1.47 1.35L5.41 20z\"/>\n",
              "  </svg>\n",
              "      </button>\n",
              "      \n",
              "  <style>\n",
              "    .colab-df-container {\n",
              "      display:flex;\n",
              "      flex-wrap:wrap;\n",
              "      gap: 12px;\n",
              "    }\n",
              "\n",
              "    .colab-df-convert {\n",
              "      background-color: #E8F0FE;\n",
              "      border: none;\n",
              "      border-radius: 50%;\n",
              "      cursor: pointer;\n",
              "      display: none;\n",
              "      fill: #1967D2;\n",
              "      height: 32px;\n",
              "      padding: 0 0 0 0;\n",
              "      width: 32px;\n",
              "    }\n",
              "\n",
              "    .colab-df-convert:hover {\n",
              "      background-color: #E2EBFA;\n",
              "      box-shadow: 0px 1px 2px rgba(60, 64, 67, 0.3), 0px 1px 3px 1px rgba(60, 64, 67, 0.15);\n",
              "      fill: #174EA6;\n",
              "    }\n",
              "\n",
              "    [theme=dark] .colab-df-convert {\n",
              "      background-color: #3B4455;\n",
              "      fill: #D2E3FC;\n",
              "    }\n",
              "\n",
              "    [theme=dark] .colab-df-convert:hover {\n",
              "      background-color: #434B5C;\n",
              "      box-shadow: 0px 1px 3px 1px rgba(0, 0, 0, 0.15);\n",
              "      filter: drop-shadow(0px 1px 2px rgba(0, 0, 0, 0.3));\n",
              "      fill: #FFFFFF;\n",
              "    }\n",
              "  </style>\n",
              "\n",
              "      <script>\n",
              "        const buttonEl =\n",
              "          document.querySelector('#df-4cbc2b38-3fdb-45fe-b6c7-2b4e9de5f1a8 button.colab-df-convert');\n",
              "        buttonEl.style.display =\n",
              "          google.colab.kernel.accessAllowed ? 'block' : 'none';\n",
              "\n",
              "        async function convertToInteractive(key) {\n",
              "          const element = document.querySelector('#df-4cbc2b38-3fdb-45fe-b6c7-2b4e9de5f1a8');\n",
              "          const dataTable =\n",
              "            await google.colab.kernel.invokeFunction('convertToInteractive',\n",
              "                                                     [key], {});\n",
              "          if (!dataTable) return;\n",
              "\n",
              "          const docLinkHtml = 'Like what you see? Visit the ' +\n",
              "            '<a target=\"_blank\" href=https://colab.research.google.com/notebooks/data_table.ipynb>data table notebook</a>'\n",
              "            + ' to learn more about interactive tables.';\n",
              "          element.innerHTML = '';\n",
              "          dataTable['output_type'] = 'display_data';\n",
              "          await google.colab.output.renderOutput(dataTable, element);\n",
              "          const docLink = document.createElement('div');\n",
              "          docLink.innerHTML = docLinkHtml;\n",
              "          element.appendChild(docLink);\n",
              "        }\n",
              "      </script>\n",
              "    </div>\n",
              "  </div>\n",
              "  "
            ],
            "text/plain": [
              "                                                      tickers_                                            tickers\n",
              "created_utc                                                                                                      \n",
              "2018-12-31                                    ['ATVI']['ATVI']                                    ['ATVI','ATVI']\n",
              "2019-01-01               ['ULTA']['GS', 'WFC']['TSLA']['BBBY']                 ['ULTA','GS', 'WFC','TSLA','BBBY']\n",
              "2019-01-02                       ['MU']['TWTR']['PEP']['AAPL']                         ['MU','TWTR','PEP','AAPL']\n",
              "2019-01-03   ['FB']['AAPL']['AAPL']['TSLA']['AAPL']['NFLX']...  ['FB','AAPL','AAPL','TSLA','AAPL','NFLX','AAPL...\n",
              "2019-01-04   ['AAPL']['TSLA']['F']['AXDX']['NFLX']['SQ']['D...      ['AAPL','TSLA','F','AXDX','NFLX','SQ','DELL']\n",
              "2019-01-05                                             ['PCG']                                            ['PCG']\n",
              "2019-01-06   ['TSLA']['SNAP']['EA']['SNAP']['SQ', 'BAC']['X...  ['TSLA','SNAP','EA','SNAP','SQ', 'BAC','X','DIS']\n",
              "2019-01-07   ['AMD']['NIO', 'TSLA']['TSLA']['SNAP']['AMD'][...  ['AMD','NIO', 'TSLA','TSLA','SNAP','AMD','TSLA...\n",
              "2019-01-08   ['LULU']['TSLA']['USA']['MU']['AAPL', 'TSLA'][...  ['LULU','TSLA','USA','MU','AAPL', 'TSLA','ROKU...\n",
              "2019-01-09   ['X']['KBH']['AMZN']['MU']['AMZN']['STZ']['TLR...  ['X','KBH','AMZN','MU','AMZN','STZ','TLRY','MU..."
            ]
          },
          "metadata": {},
          "execution_count": 79
        }
      ]
    },
    {
      "cell_type": "code",
      "source": [
        "#count stocks\n",
        "from collections import Counter, defaultdict\n",
        "import ast\n",
        "df_daily[\"tickers\"] =df_daily[\"tickers\"].str.strip(\"[]\").str.split(\",\")\n",
        "df_daily[\"tickers_count\"] = df_daily.apply(lambda x: dict(Counter(list(x['tickers']))), axis=1)"
      ],
      "metadata": {
        "id": "MgUe4TYra7HJ"
      },
      "execution_count": 81,
      "outputs": []
    },
    {
      "cell_type": "code",
      "source": [
        "df_daily.head(8)"
      ],
      "metadata": {
        "colab": {
          "base_uri": "https://localhost:8080/",
          "height": 332
        },
        "id": "9R0ia08VbxMX",
        "outputId": "2cdb3ed0-9cb1-4b3e-ec48-a8ad04d36281"
      },
      "execution_count": 82,
      "outputs": [
        {
          "output_type": "execute_result",
          "data": {
            "text/html": [
              "\n",
              "  <div id=\"df-ec30ea24-c714-48ed-932e-5739f347a4e9\">\n",
              "    <div class=\"colab-df-container\">\n",
              "      <div>\n",
              "<style scoped>\n",
              "    .dataframe tbody tr th:only-of-type {\n",
              "        vertical-align: middle;\n",
              "    }\n",
              "\n",
              "    .dataframe tbody tr th {\n",
              "        vertical-align: top;\n",
              "    }\n",
              "\n",
              "    .dataframe thead th {\n",
              "        text-align: right;\n",
              "    }\n",
              "</style>\n",
              "<table border=\"1\" class=\"dataframe\">\n",
              "  <thead>\n",
              "    <tr style=\"text-align: right;\">\n",
              "      <th></th>\n",
              "      <th>tickers_</th>\n",
              "      <th>tickers</th>\n",
              "      <th>tickers_count</th>\n",
              "    </tr>\n",
              "    <tr>\n",
              "      <th>created_utc</th>\n",
              "      <th></th>\n",
              "      <th></th>\n",
              "      <th></th>\n",
              "    </tr>\n",
              "  </thead>\n",
              "  <tbody>\n",
              "    <tr>\n",
              "      <th>2018-12-31</th>\n",
              "      <td>['ATVI']['ATVI']</td>\n",
              "      <td>['ATVI', 'ATVI']</td>\n",
              "      <td>{''ATVI'': 2}</td>\n",
              "    </tr>\n",
              "    <tr>\n",
              "      <th>2019-01-01</th>\n",
              "      <td>['ULTA']['GS',  'WFC']['TSLA']['BBBY']</td>\n",
              "      <td>['ULTA', 'GS',  'WFC', 'TSLA', 'BBBY']</td>\n",
              "      <td>{''ULTA'': 1, ''GS'': 1, ' 'WFC'': 1, ''TSLA''...</td>\n",
              "    </tr>\n",
              "    <tr>\n",
              "      <th>2019-01-02</th>\n",
              "      <td>['MU']['TWTR']['PEP']['AAPL']</td>\n",
              "      <td>['MU', 'TWTR', 'PEP', 'AAPL']</td>\n",
              "      <td>{''MU'': 1, ''TWTR'': 1, ''PEP'': 1, ''AAPL'': 1}</td>\n",
              "    </tr>\n",
              "    <tr>\n",
              "      <th>2019-01-03</th>\n",
              "      <td>['FB']['AAPL']['AAPL']['TSLA']['AAPL']['NFLX']...</td>\n",
              "      <td>['FB', 'AAPL', 'AAPL', 'TSLA', 'AAPL', 'NFLX',...</td>\n",
              "      <td>{''FB'': 1, ''AAPL'': 5, ''TSLA'': 1, ''NFLX''...</td>\n",
              "    </tr>\n",
              "    <tr>\n",
              "      <th>2019-01-04</th>\n",
              "      <td>['AAPL']['TSLA']['F']['AXDX']['NFLX']['SQ']['D...</td>\n",
              "      <td>['AAPL', 'TSLA', 'F', 'AXDX', 'NFLX', 'SQ', 'D...</td>\n",
              "      <td>{''AAPL'': 1, ''TSLA'': 1, ''F'': 1, ''AXDX'':...</td>\n",
              "    </tr>\n",
              "    <tr>\n",
              "      <th>2019-01-05</th>\n",
              "      <td>['PCG']</td>\n",
              "      <td>['PCG']</td>\n",
              "      <td>{''PCG'': 1}</td>\n",
              "    </tr>\n",
              "    <tr>\n",
              "      <th>2019-01-06</th>\n",
              "      <td>['TSLA']['SNAP']['EA']['SNAP']['SQ',  'BAC']['...</td>\n",
              "      <td>['TSLA', 'SNAP', 'EA', 'SNAP', 'SQ',  'BAC', '...</td>\n",
              "      <td>{''TSLA'': 1, ''SNAP'': 2, ''EA'': 1, ''SQ'': ...</td>\n",
              "    </tr>\n",
              "    <tr>\n",
              "      <th>2019-01-07</th>\n",
              "      <td>['AMD']['NIO',  'TSLA']['TSLA']['SNAP']['AMD']...</td>\n",
              "      <td>['AMD', 'NIO',  'TSLA', 'TSLA', 'SNAP', 'AMD',...</td>\n",
              "      <td>{''AMD'': 3, ''NIO'': 1, ' 'TSLA'': 1, ''TSLA'...</td>\n",
              "    </tr>\n",
              "  </tbody>\n",
              "</table>\n",
              "</div>\n",
              "      <button class=\"colab-df-convert\" onclick=\"convertToInteractive('df-ec30ea24-c714-48ed-932e-5739f347a4e9')\"\n",
              "              title=\"Convert this dataframe to an interactive table.\"\n",
              "              style=\"display:none;\">\n",
              "        \n",
              "  <svg xmlns=\"http://www.w3.org/2000/svg\" height=\"24px\"viewBox=\"0 0 24 24\"\n",
              "       width=\"24px\">\n",
              "    <path d=\"M0 0h24v24H0V0z\" fill=\"none\"/>\n",
              "    <path d=\"M18.56 5.44l.94 2.06.94-2.06 2.06-.94-2.06-.94-.94-2.06-.94 2.06-2.06.94zm-11 1L8.5 8.5l.94-2.06 2.06-.94-2.06-.94L8.5 2.5l-.94 2.06-2.06.94zm10 10l.94 2.06.94-2.06 2.06-.94-2.06-.94-.94-2.06-.94 2.06-2.06.94z\"/><path d=\"M17.41 7.96l-1.37-1.37c-.4-.4-.92-.59-1.43-.59-.52 0-1.04.2-1.43.59L10.3 9.45l-7.72 7.72c-.78.78-.78 2.05 0 2.83L4 21.41c.39.39.9.59 1.41.59.51 0 1.02-.2 1.41-.59l7.78-7.78 2.81-2.81c.8-.78.8-2.07 0-2.86zM5.41 20L4 18.59l7.72-7.72 1.47 1.35L5.41 20z\"/>\n",
              "  </svg>\n",
              "      </button>\n",
              "      \n",
              "  <style>\n",
              "    .colab-df-container {\n",
              "      display:flex;\n",
              "      flex-wrap:wrap;\n",
              "      gap: 12px;\n",
              "    }\n",
              "\n",
              "    .colab-df-convert {\n",
              "      background-color: #E8F0FE;\n",
              "      border: none;\n",
              "      border-radius: 50%;\n",
              "      cursor: pointer;\n",
              "      display: none;\n",
              "      fill: #1967D2;\n",
              "      height: 32px;\n",
              "      padding: 0 0 0 0;\n",
              "      width: 32px;\n",
              "    }\n",
              "\n",
              "    .colab-df-convert:hover {\n",
              "      background-color: #E2EBFA;\n",
              "      box-shadow: 0px 1px 2px rgba(60, 64, 67, 0.3), 0px 1px 3px 1px rgba(60, 64, 67, 0.15);\n",
              "      fill: #174EA6;\n",
              "    }\n",
              "\n",
              "    [theme=dark] .colab-df-convert {\n",
              "      background-color: #3B4455;\n",
              "      fill: #D2E3FC;\n",
              "    }\n",
              "\n",
              "    [theme=dark] .colab-df-convert:hover {\n",
              "      background-color: #434B5C;\n",
              "      box-shadow: 0px 1px 3px 1px rgba(0, 0, 0, 0.15);\n",
              "      filter: drop-shadow(0px 1px 2px rgba(0, 0, 0, 0.3));\n",
              "      fill: #FFFFFF;\n",
              "    }\n",
              "  </style>\n",
              "\n",
              "      <script>\n",
              "        const buttonEl =\n",
              "          document.querySelector('#df-ec30ea24-c714-48ed-932e-5739f347a4e9 button.colab-df-convert');\n",
              "        buttonEl.style.display =\n",
              "          google.colab.kernel.accessAllowed ? 'block' : 'none';\n",
              "\n",
              "        async function convertToInteractive(key) {\n",
              "          const element = document.querySelector('#df-ec30ea24-c714-48ed-932e-5739f347a4e9');\n",
              "          const dataTable =\n",
              "            await google.colab.kernel.invokeFunction('convertToInteractive',\n",
              "                                                     [key], {});\n",
              "          if (!dataTable) return;\n",
              "\n",
              "          const docLinkHtml = 'Like what you see? Visit the ' +\n",
              "            '<a target=\"_blank\" href=https://colab.research.google.com/notebooks/data_table.ipynb>data table notebook</a>'\n",
              "            + ' to learn more about interactive tables.';\n",
              "          element.innerHTML = '';\n",
              "          dataTable['output_type'] = 'display_data';\n",
              "          await google.colab.output.renderOutput(dataTable, element);\n",
              "          const docLink = document.createElement('div');\n",
              "          docLink.innerHTML = docLinkHtml;\n",
              "          element.appendChild(docLink);\n",
              "        }\n",
              "      </script>\n",
              "    </div>\n",
              "  </div>\n",
              "  "
            ],
            "text/plain": [
              "                                                      tickers_  ...                                      tickers_count\n",
              "created_utc                                                     ...                                                   \n",
              "2018-12-31                                    ['ATVI']['ATVI']  ...                                      {''ATVI'': 2}\n",
              "2019-01-01              ['ULTA']['GS',  'WFC']['TSLA']['BBBY']  ...  {''ULTA'': 1, ''GS'': 1, ' 'WFC'': 1, ''TSLA''...\n",
              "2019-01-02                       ['MU']['TWTR']['PEP']['AAPL']  ...  {''MU'': 1, ''TWTR'': 1, ''PEP'': 1, ''AAPL'': 1}\n",
              "2019-01-03   ['FB']['AAPL']['AAPL']['TSLA']['AAPL']['NFLX']...  ...  {''FB'': 1, ''AAPL'': 5, ''TSLA'': 1, ''NFLX''...\n",
              "2019-01-04   ['AAPL']['TSLA']['F']['AXDX']['NFLX']['SQ']['D...  ...  {''AAPL'': 1, ''TSLA'': 1, ''F'': 1, ''AXDX'':...\n",
              "2019-01-05                                             ['PCG']  ...                                       {''PCG'': 1}\n",
              "2019-01-06   ['TSLA']['SNAP']['EA']['SNAP']['SQ',  'BAC']['...  ...  {''TSLA'': 1, ''SNAP'': 2, ''EA'': 1, ''SQ'': ...\n",
              "2019-01-07   ['AMD']['NIO',  'TSLA']['TSLA']['SNAP']['AMD']...  ...  {''AMD'': 3, ''NIO'': 1, ' 'TSLA'': 1, ''TSLA'...\n",
              "\n",
              "[8 rows x 3 columns]"
            ]
          },
          "metadata": {},
          "execution_count": 82
        }
      ]
    },
    {
      "cell_type": "code",
      "source": [
        "from numpy.core.numeric import NaN\n",
        "from collections import defaultdict\n",
        "\n",
        "def agg_counter_objs(rows):\n",
        "    if ((rows == '') | (rows == NaN)):\n",
        "        return 0\n",
        "    new_counter_objs = []\n",
        "    rows= ast.literal_eval(rows)\n",
        "    def default_val():\n",
        "        return 0\n",
        "        \n",
        "    new_dict = defaultdict(default_val)\n",
        "    #print(rows)\n",
        "    test_dict = Counter(rows)\n",
        "    for key in test_dict.keys():\n",
        "        new_key = key.replace(\"'\",\"\").replace('\"',\"\").replace(\"]\",\"\").replace(\"\\\\\",\"\").strip()\n",
        "        new_dict[new_key] += test_dict[key]\n",
        "            \n",
        "    if \"\" in new_dict.keys():\n",
        "        del new_dict[\"\"]\n",
        "            \n",
        "    new_counter_objs.append(Counter(new_dict))\n",
        "        \n",
        "    agg_counter_obj = Counter({})\n",
        "    for obj in new_counter_objs:\n",
        "        agg_counter_obj += obj        \n",
        "    return (str(dict(agg_counter_obj)))"
      ],
      "metadata": {
        "id": "8MnlOtSGfs-N"
      },
      "execution_count": 102,
      "outputs": []
    },
    {
      "cell_type": "code",
      "source": [
        "df_daily['tickers_count_'] = df_daily[\"tickers_count\"].apply(agg_counter_objs)"
      ],
      "metadata": {
        "id": "m1iyzYAcgG3l"
      },
      "execution_count": 83,
      "outputs": []
    },
    {
      "cell_type": "code",
      "source": [
        "df_daily.head(10)"
      ],
      "metadata": {
        "colab": {
          "base_uri": "https://localhost:8080/",
          "height": 490
        },
        "id": "g5yqc_FYlh6W",
        "outputId": "9c10df70-b794-4d78-ff2f-2ca6586782fc"
      },
      "execution_count": 84,
      "outputs": [
        {
          "output_type": "execute_result",
          "data": {
            "text/html": [
              "\n",
              "  <div id=\"df-b5239b29-ba51-4d0e-8016-61dc9c8be7f5\">\n",
              "    <div class=\"colab-df-container\">\n",
              "      <div>\n",
              "<style scoped>\n",
              "    .dataframe tbody tr th:only-of-type {\n",
              "        vertical-align: middle;\n",
              "    }\n",
              "\n",
              "    .dataframe tbody tr th {\n",
              "        vertical-align: top;\n",
              "    }\n",
              "\n",
              "    .dataframe thead th {\n",
              "        text-align: right;\n",
              "    }\n",
              "</style>\n",
              "<table border=\"1\" class=\"dataframe\">\n",
              "  <thead>\n",
              "    <tr style=\"text-align: right;\">\n",
              "      <th></th>\n",
              "      <th>tickers_</th>\n",
              "      <th>tickers</th>\n",
              "      <th>tickers_count</th>\n",
              "      <th>tickers_count_</th>\n",
              "    </tr>\n",
              "    <tr>\n",
              "      <th>created_utc</th>\n",
              "      <th></th>\n",
              "      <th></th>\n",
              "      <th></th>\n",
              "      <th></th>\n",
              "    </tr>\n",
              "  </thead>\n",
              "  <tbody>\n",
              "    <tr>\n",
              "      <th>2018-12-31</th>\n",
              "      <td>['ATVI']['ATVI']</td>\n",
              "      <td>['ATVI', 'ATVI']</td>\n",
              "      <td>{''ATVI'': 2}</td>\n",
              "      <td>{'ATVI': 2}</td>\n",
              "    </tr>\n",
              "    <tr>\n",
              "      <th>2019-01-01</th>\n",
              "      <td>['ULTA']['GS',  'WFC']['TSLA']['BBBY']</td>\n",
              "      <td>['ULTA', 'GS',  'WFC', 'TSLA', 'BBBY']</td>\n",
              "      <td>{''ULTA'': 1, ''GS'': 1, ' 'WFC'': 1, ''TSLA''...</td>\n",
              "      <td>{'ULTA': 1, 'GS': 1, 'WFC': 1, 'TSLA': 1, 'BBB...</td>\n",
              "    </tr>\n",
              "    <tr>\n",
              "      <th>2019-01-02</th>\n",
              "      <td>['MU']['TWTR']['PEP']['AAPL']</td>\n",
              "      <td>['MU', 'TWTR', 'PEP', 'AAPL']</td>\n",
              "      <td>{''MU'': 1, ''TWTR'': 1, ''PEP'': 1, ''AAPL'': 1}</td>\n",
              "      <td>{'MU': 1, 'TWTR': 1, 'PEP': 1, 'AAPL': 1}</td>\n",
              "    </tr>\n",
              "    <tr>\n",
              "      <th>2019-01-03</th>\n",
              "      <td>['FB']['AAPL']['AAPL']['TSLA']['AAPL']['NFLX']...</td>\n",
              "      <td>['FB', 'AAPL', 'AAPL', 'TSLA', 'AAPL', 'NFLX',...</td>\n",
              "      <td>{''FB'': 1, ''AAPL'': 5, ''TSLA'': 1, ''NFLX''...</td>\n",
              "      <td>{'FB': 1, 'AAPL': 5, 'TSLA': 1, 'NFLX': 1, 'SW...</td>\n",
              "    </tr>\n",
              "    <tr>\n",
              "      <th>2019-01-04</th>\n",
              "      <td>['AAPL']['TSLA']['F']['AXDX']['NFLX']['SQ']['D...</td>\n",
              "      <td>['AAPL', 'TSLA', 'F', 'AXDX', 'NFLX', 'SQ', 'D...</td>\n",
              "      <td>{''AAPL'': 1, ''TSLA'': 1, ''F'': 1, ''AXDX'':...</td>\n",
              "      <td>{'AAPL': 1, 'TSLA': 1, 'F': 1, 'AXDX': 1, 'NFL...</td>\n",
              "    </tr>\n",
              "    <tr>\n",
              "      <th>2019-01-05</th>\n",
              "      <td>['PCG']</td>\n",
              "      <td>['PCG']</td>\n",
              "      <td>{''PCG'': 1}</td>\n",
              "      <td>{'PCG': 1}</td>\n",
              "    </tr>\n",
              "    <tr>\n",
              "      <th>2019-01-06</th>\n",
              "      <td>['TSLA']['SNAP']['EA']['SNAP']['SQ',  'BAC']['...</td>\n",
              "      <td>['TSLA', 'SNAP', 'EA', 'SNAP', 'SQ',  'BAC', '...</td>\n",
              "      <td>{''TSLA'': 1, ''SNAP'': 2, ''EA'': 1, ''SQ'': ...</td>\n",
              "      <td>{'TSLA': 1, 'SNAP': 2, 'EA': 1, 'SQ': 1, 'BAC'...</td>\n",
              "    </tr>\n",
              "    <tr>\n",
              "      <th>2019-01-07</th>\n",
              "      <td>['AMD']['NIO',  'TSLA']['TSLA']['SNAP']['AMD']...</td>\n",
              "      <td>['AMD', 'NIO',  'TSLA', 'TSLA', 'SNAP', 'AMD',...</td>\n",
              "      <td>{''AMD'': 3, ''NIO'': 1, ' 'TSLA'': 1, ''TSLA'...</td>\n",
              "      <td>{'AMD': 3, 'NIO': 1, 'TSLA': 4, 'SNAP': 1}</td>\n",
              "    </tr>\n",
              "    <tr>\n",
              "      <th>2019-01-08</th>\n",
              "      <td>['LULU']['TSLA']['USA']['MU']['AAPL',  'TSLA']...</td>\n",
              "      <td>['LULU', 'TSLA', 'USA', 'MU', 'AAPL',  'TSLA',...</td>\n",
              "      <td>{''LULU'': 1, ''TSLA'': 1, ''USA'': 1, ''MU'':...</td>\n",
              "      <td>{'LULU': 1, 'TSLA': 2, 'USA': 1, 'MU': 1, 'AAP...</td>\n",
              "    </tr>\n",
              "    <tr>\n",
              "      <th>2019-01-09</th>\n",
              "      <td>['X']['KBH']['AMZN']['MU']['AMZN']['STZ']['TLR...</td>\n",
              "      <td>['X', 'KBH', 'AMZN', 'MU', 'AMZN', 'STZ', 'TLR...</td>\n",
              "      <td>{''X'': 1, ''KBH'': 1, ''AMZN'': 3, ''MU'': 2,...</td>\n",
              "      <td>{'X': 1, 'KBH': 1, 'AMZN': 3, 'MU': 2, 'STZ': ...</td>\n",
              "    </tr>\n",
              "  </tbody>\n",
              "</table>\n",
              "</div>\n",
              "      <button class=\"colab-df-convert\" onclick=\"convertToInteractive('df-b5239b29-ba51-4d0e-8016-61dc9c8be7f5')\"\n",
              "              title=\"Convert this dataframe to an interactive table.\"\n",
              "              style=\"display:none;\">\n",
              "        \n",
              "  <svg xmlns=\"http://www.w3.org/2000/svg\" height=\"24px\"viewBox=\"0 0 24 24\"\n",
              "       width=\"24px\">\n",
              "    <path d=\"M0 0h24v24H0V0z\" fill=\"none\"/>\n",
              "    <path d=\"M18.56 5.44l.94 2.06.94-2.06 2.06-.94-2.06-.94-.94-2.06-.94 2.06-2.06.94zm-11 1L8.5 8.5l.94-2.06 2.06-.94-2.06-.94L8.5 2.5l-.94 2.06-2.06.94zm10 10l.94 2.06.94-2.06 2.06-.94-2.06-.94-.94-2.06-.94 2.06-2.06.94z\"/><path d=\"M17.41 7.96l-1.37-1.37c-.4-.4-.92-.59-1.43-.59-.52 0-1.04.2-1.43.59L10.3 9.45l-7.72 7.72c-.78.78-.78 2.05 0 2.83L4 21.41c.39.39.9.59 1.41.59.51 0 1.02-.2 1.41-.59l7.78-7.78 2.81-2.81c.8-.78.8-2.07 0-2.86zM5.41 20L4 18.59l7.72-7.72 1.47 1.35L5.41 20z\"/>\n",
              "  </svg>\n",
              "      </button>\n",
              "      \n",
              "  <style>\n",
              "    .colab-df-container {\n",
              "      display:flex;\n",
              "      flex-wrap:wrap;\n",
              "      gap: 12px;\n",
              "    }\n",
              "\n",
              "    .colab-df-convert {\n",
              "      background-color: #E8F0FE;\n",
              "      border: none;\n",
              "      border-radius: 50%;\n",
              "      cursor: pointer;\n",
              "      display: none;\n",
              "      fill: #1967D2;\n",
              "      height: 32px;\n",
              "      padding: 0 0 0 0;\n",
              "      width: 32px;\n",
              "    }\n",
              "\n",
              "    .colab-df-convert:hover {\n",
              "      background-color: #E2EBFA;\n",
              "      box-shadow: 0px 1px 2px rgba(60, 64, 67, 0.3), 0px 1px 3px 1px rgba(60, 64, 67, 0.15);\n",
              "      fill: #174EA6;\n",
              "    }\n",
              "\n",
              "    [theme=dark] .colab-df-convert {\n",
              "      background-color: #3B4455;\n",
              "      fill: #D2E3FC;\n",
              "    }\n",
              "\n",
              "    [theme=dark] .colab-df-convert:hover {\n",
              "      background-color: #434B5C;\n",
              "      box-shadow: 0px 1px 3px 1px rgba(0, 0, 0, 0.15);\n",
              "      filter: drop-shadow(0px 1px 2px rgba(0, 0, 0, 0.3));\n",
              "      fill: #FFFFFF;\n",
              "    }\n",
              "  </style>\n",
              "\n",
              "      <script>\n",
              "        const buttonEl =\n",
              "          document.querySelector('#df-b5239b29-ba51-4d0e-8016-61dc9c8be7f5 button.colab-df-convert');\n",
              "        buttonEl.style.display =\n",
              "          google.colab.kernel.accessAllowed ? 'block' : 'none';\n",
              "\n",
              "        async function convertToInteractive(key) {\n",
              "          const element = document.querySelector('#df-b5239b29-ba51-4d0e-8016-61dc9c8be7f5');\n",
              "          const dataTable =\n",
              "            await google.colab.kernel.invokeFunction('convertToInteractive',\n",
              "                                                     [key], {});\n",
              "          if (!dataTable) return;\n",
              "\n",
              "          const docLinkHtml = 'Like what you see? Visit the ' +\n",
              "            '<a target=\"_blank\" href=https://colab.research.google.com/notebooks/data_table.ipynb>data table notebook</a>'\n",
              "            + ' to learn more about interactive tables.';\n",
              "          element.innerHTML = '';\n",
              "          dataTable['output_type'] = 'display_data';\n",
              "          await google.colab.output.renderOutput(dataTable, element);\n",
              "          const docLink = document.createElement('div');\n",
              "          docLink.innerHTML = docLinkHtml;\n",
              "          element.appendChild(docLink);\n",
              "        }\n",
              "      </script>\n",
              "    </div>\n",
              "  </div>\n",
              "  "
            ],
            "text/plain": [
              "                                                      tickers_  ...                                     tickers_count_\n",
              "created_utc                                                     ...                                                   \n",
              "2018-12-31                                    ['ATVI']['ATVI']  ...                                        {'ATVI': 2}\n",
              "2019-01-01              ['ULTA']['GS',  'WFC']['TSLA']['BBBY']  ...  {'ULTA': 1, 'GS': 1, 'WFC': 1, 'TSLA': 1, 'BBB...\n",
              "2019-01-02                       ['MU']['TWTR']['PEP']['AAPL']  ...          {'MU': 1, 'TWTR': 1, 'PEP': 1, 'AAPL': 1}\n",
              "2019-01-03   ['FB']['AAPL']['AAPL']['TSLA']['AAPL']['NFLX']...  ...  {'FB': 1, 'AAPL': 5, 'TSLA': 1, 'NFLX': 1, 'SW...\n",
              "2019-01-04   ['AAPL']['TSLA']['F']['AXDX']['NFLX']['SQ']['D...  ...  {'AAPL': 1, 'TSLA': 1, 'F': 1, 'AXDX': 1, 'NFL...\n",
              "2019-01-05                                             ['PCG']  ...                                         {'PCG': 1}\n",
              "2019-01-06   ['TSLA']['SNAP']['EA']['SNAP']['SQ',  'BAC']['...  ...  {'TSLA': 1, 'SNAP': 2, 'EA': 1, 'SQ': 1, 'BAC'...\n",
              "2019-01-07   ['AMD']['NIO',  'TSLA']['TSLA']['SNAP']['AMD']...  ...         {'AMD': 3, 'NIO': 1, 'TSLA': 4, 'SNAP': 1}\n",
              "2019-01-08   ['LULU']['TSLA']['USA']['MU']['AAPL',  'TSLA']...  ...  {'LULU': 1, 'TSLA': 2, 'USA': 1, 'MU': 1, 'AAP...\n",
              "2019-01-09   ['X']['KBH']['AMZN']['MU']['AMZN']['STZ']['TLR...  ...  {'X': 1, 'KBH': 1, 'AMZN': 3, 'MU': 2, 'STZ': ...\n",
              "\n",
              "[10 rows x 4 columns]"
            ]
          },
          "metadata": {},
          "execution_count": 84
        }
      ]
    },
    {
      "cell_type": "code",
      "source": [
        "df_daily = df_daily[['tickers','tickers_count_']]"
      ],
      "metadata": {
        "id": "_n5O0z6Rmnjm"
      },
      "execution_count": 85,
      "outputs": []
    },
    {
      "cell_type": "code",
      "source": [
        "df_daily.head()"
      ],
      "metadata": {
        "colab": {
          "base_uri": "https://localhost:8080/",
          "height": 238
        },
        "id": "Q_b2qZoLoYOu",
        "outputId": "835177aa-d988-4bd1-ac4e-833e32326d1d"
      },
      "execution_count": 86,
      "outputs": [
        {
          "output_type": "execute_result",
          "data": {
            "text/html": [
              "\n",
              "  <div id=\"df-afa7f210-1521-4035-9192-2a9693dc2e8d\">\n",
              "    <div class=\"colab-df-container\">\n",
              "      <div>\n",
              "<style scoped>\n",
              "    .dataframe tbody tr th:only-of-type {\n",
              "        vertical-align: middle;\n",
              "    }\n",
              "\n",
              "    .dataframe tbody tr th {\n",
              "        vertical-align: top;\n",
              "    }\n",
              "\n",
              "    .dataframe thead th {\n",
              "        text-align: right;\n",
              "    }\n",
              "</style>\n",
              "<table border=\"1\" class=\"dataframe\">\n",
              "  <thead>\n",
              "    <tr style=\"text-align: right;\">\n",
              "      <th></th>\n",
              "      <th>tickers</th>\n",
              "      <th>tickers_count_</th>\n",
              "    </tr>\n",
              "    <tr>\n",
              "      <th>created_utc</th>\n",
              "      <th></th>\n",
              "      <th></th>\n",
              "    </tr>\n",
              "  </thead>\n",
              "  <tbody>\n",
              "    <tr>\n",
              "      <th>2018-12-31</th>\n",
              "      <td>['ATVI', 'ATVI']</td>\n",
              "      <td>{'ATVI': 2}</td>\n",
              "    </tr>\n",
              "    <tr>\n",
              "      <th>2019-01-01</th>\n",
              "      <td>['ULTA', 'GS',  'WFC', 'TSLA', 'BBBY']</td>\n",
              "      <td>{'ULTA': 1, 'GS': 1, 'WFC': 1, 'TSLA': 1, 'BBB...</td>\n",
              "    </tr>\n",
              "    <tr>\n",
              "      <th>2019-01-02</th>\n",
              "      <td>['MU', 'TWTR', 'PEP', 'AAPL']</td>\n",
              "      <td>{'MU': 1, 'TWTR': 1, 'PEP': 1, 'AAPL': 1}</td>\n",
              "    </tr>\n",
              "    <tr>\n",
              "      <th>2019-01-03</th>\n",
              "      <td>['FB', 'AAPL', 'AAPL', 'TSLA', 'AAPL', 'NFLX',...</td>\n",
              "      <td>{'FB': 1, 'AAPL': 5, 'TSLA': 1, 'NFLX': 1, 'SW...</td>\n",
              "    </tr>\n",
              "    <tr>\n",
              "      <th>2019-01-04</th>\n",
              "      <td>['AAPL', 'TSLA', 'F', 'AXDX', 'NFLX', 'SQ', 'D...</td>\n",
              "      <td>{'AAPL': 1, 'TSLA': 1, 'F': 1, 'AXDX': 1, 'NFL...</td>\n",
              "    </tr>\n",
              "  </tbody>\n",
              "</table>\n",
              "</div>\n",
              "      <button class=\"colab-df-convert\" onclick=\"convertToInteractive('df-afa7f210-1521-4035-9192-2a9693dc2e8d')\"\n",
              "              title=\"Convert this dataframe to an interactive table.\"\n",
              "              style=\"display:none;\">\n",
              "        \n",
              "  <svg xmlns=\"http://www.w3.org/2000/svg\" height=\"24px\"viewBox=\"0 0 24 24\"\n",
              "       width=\"24px\">\n",
              "    <path d=\"M0 0h24v24H0V0z\" fill=\"none\"/>\n",
              "    <path d=\"M18.56 5.44l.94 2.06.94-2.06 2.06-.94-2.06-.94-.94-2.06-.94 2.06-2.06.94zm-11 1L8.5 8.5l.94-2.06 2.06-.94-2.06-.94L8.5 2.5l-.94 2.06-2.06.94zm10 10l.94 2.06.94-2.06 2.06-.94-2.06-.94-.94-2.06-.94 2.06-2.06.94z\"/><path d=\"M17.41 7.96l-1.37-1.37c-.4-.4-.92-.59-1.43-.59-.52 0-1.04.2-1.43.59L10.3 9.45l-7.72 7.72c-.78.78-.78 2.05 0 2.83L4 21.41c.39.39.9.59 1.41.59.51 0 1.02-.2 1.41-.59l7.78-7.78 2.81-2.81c.8-.78.8-2.07 0-2.86zM5.41 20L4 18.59l7.72-7.72 1.47 1.35L5.41 20z\"/>\n",
              "  </svg>\n",
              "      </button>\n",
              "      \n",
              "  <style>\n",
              "    .colab-df-container {\n",
              "      display:flex;\n",
              "      flex-wrap:wrap;\n",
              "      gap: 12px;\n",
              "    }\n",
              "\n",
              "    .colab-df-convert {\n",
              "      background-color: #E8F0FE;\n",
              "      border: none;\n",
              "      border-radius: 50%;\n",
              "      cursor: pointer;\n",
              "      display: none;\n",
              "      fill: #1967D2;\n",
              "      height: 32px;\n",
              "      padding: 0 0 0 0;\n",
              "      width: 32px;\n",
              "    }\n",
              "\n",
              "    .colab-df-convert:hover {\n",
              "      background-color: #E2EBFA;\n",
              "      box-shadow: 0px 1px 2px rgba(60, 64, 67, 0.3), 0px 1px 3px 1px rgba(60, 64, 67, 0.15);\n",
              "      fill: #174EA6;\n",
              "    }\n",
              "\n",
              "    [theme=dark] .colab-df-convert {\n",
              "      background-color: #3B4455;\n",
              "      fill: #D2E3FC;\n",
              "    }\n",
              "\n",
              "    [theme=dark] .colab-df-convert:hover {\n",
              "      background-color: #434B5C;\n",
              "      box-shadow: 0px 1px 3px 1px rgba(0, 0, 0, 0.15);\n",
              "      filter: drop-shadow(0px 1px 2px rgba(0, 0, 0, 0.3));\n",
              "      fill: #FFFFFF;\n",
              "    }\n",
              "  </style>\n",
              "\n",
              "      <script>\n",
              "        const buttonEl =\n",
              "          document.querySelector('#df-afa7f210-1521-4035-9192-2a9693dc2e8d button.colab-df-convert');\n",
              "        buttonEl.style.display =\n",
              "          google.colab.kernel.accessAllowed ? 'block' : 'none';\n",
              "\n",
              "        async function convertToInteractive(key) {\n",
              "          const element = document.querySelector('#df-afa7f210-1521-4035-9192-2a9693dc2e8d');\n",
              "          const dataTable =\n",
              "            await google.colab.kernel.invokeFunction('convertToInteractive',\n",
              "                                                     [key], {});\n",
              "          if (!dataTable) return;\n",
              "\n",
              "          const docLinkHtml = 'Like what you see? Visit the ' +\n",
              "            '<a target=\"_blank\" href=https://colab.research.google.com/notebooks/data_table.ipynb>data table notebook</a>'\n",
              "            + ' to learn more about interactive tables.';\n",
              "          element.innerHTML = '';\n",
              "          dataTable['output_type'] = 'display_data';\n",
              "          await google.colab.output.renderOutput(dataTable, element);\n",
              "          const docLink = document.createElement('div');\n",
              "          docLink.innerHTML = docLinkHtml;\n",
              "          element.appendChild(docLink);\n",
              "        }\n",
              "      </script>\n",
              "    </div>\n",
              "  </div>\n",
              "  "
            ],
            "text/plain": [
              "                                                       tickers                                     tickers_count_\n",
              "created_utc                                                                                                      \n",
              "2018-12-31                                    ['ATVI', 'ATVI']                                        {'ATVI': 2}\n",
              "2019-01-01              ['ULTA', 'GS',  'WFC', 'TSLA', 'BBBY']  {'ULTA': 1, 'GS': 1, 'WFC': 1, 'TSLA': 1, 'BBB...\n",
              "2019-01-02                       ['MU', 'TWTR', 'PEP', 'AAPL']          {'MU': 1, 'TWTR': 1, 'PEP': 1, 'AAPL': 1}\n",
              "2019-01-03   ['FB', 'AAPL', 'AAPL', 'TSLA', 'AAPL', 'NFLX',...  {'FB': 1, 'AAPL': 5, 'TSLA': 1, 'NFLX': 1, 'SW...\n",
              "2019-01-04   ['AAPL', 'TSLA', 'F', 'AXDX', 'NFLX', 'SQ', 'D...  {'AAPL': 1, 'TSLA': 1, 'F': 1, 'AXDX': 1, 'NFL..."
            ]
          },
          "metadata": {},
          "execution_count": 86
        }
      ]
    },
    {
      "cell_type": "code",
      "source": [
        "df_daily.to_csv(\"/content/drive/MyDrive/WSB/WSB_daily_ticker_count.csv\", sep=\";\")"
      ],
      "metadata": {
        "id": "yJvEXkkFoNWi"
      },
      "execution_count": 87,
      "outputs": []
    },
    {
      "cell_type": "code",
      "source": [
        "df[\"tickers\"] = df[\"tickers\"].apply(sanitize_column)"
      ],
      "metadata": {
        "id": "P-Ws4N9Qgu0t"
      },
      "execution_count": null,
      "outputs": []
    },
    {
      "cell_type": "code",
      "source": [
        "df.head(10)"
      ],
      "metadata": {
        "colab": {
          "base_uri": "https://localhost:8080/",
          "height": 944
        },
        "id": "w66aVng9iRM8",
        "outputId": "8e22043b-10bc-421e-a5cb-dfcc15743f01"
      },
      "execution_count": 88,
      "outputs": [
        {
          "output_type": "execute_result",
          "data": {
            "text/html": [
              "\n",
              "  <div id=\"df-c20b44ba-1c35-4000-9f5a-0d7eb793b7ae\">\n",
              "    <div class=\"colab-df-container\">\n",
              "      <div>\n",
              "<style scoped>\n",
              "    .dataframe tbody tr th:only-of-type {\n",
              "        vertical-align: middle;\n",
              "    }\n",
              "\n",
              "    .dataframe tbody tr th {\n",
              "        vertical-align: top;\n",
              "    }\n",
              "\n",
              "    .dataframe thead th {\n",
              "        text-align: right;\n",
              "    }\n",
              "</style>\n",
              "<table border=\"1\" class=\"dataframe\">\n",
              "  <thead>\n",
              "    <tr style=\"text-align: right;\">\n",
              "      <th></th>\n",
              "      <th>Unnamed: 0</th>\n",
              "      <th>author</th>\n",
              "      <th>created_utc</th>\n",
              "      <th>id</th>\n",
              "      <th>link_flair_text</th>\n",
              "      <th>num_comments</th>\n",
              "      <th>score</th>\n",
              "      <th>subreddit_subscribers</th>\n",
              "      <th>selftext</th>\n",
              "      <th>title</th>\n",
              "      <th>upvote_ratio</th>\n",
              "      <th>tickers_</th>\n",
              "    </tr>\n",
              "    <tr>\n",
              "      <th>created_utc</th>\n",
              "      <th></th>\n",
              "      <th></th>\n",
              "      <th></th>\n",
              "      <th></th>\n",
              "      <th></th>\n",
              "      <th></th>\n",
              "      <th></th>\n",
              "      <th></th>\n",
              "      <th></th>\n",
              "      <th></th>\n",
              "      <th></th>\n",
              "      <th></th>\n",
              "    </tr>\n",
              "  </thead>\n",
              "  <tbody>\n",
              "    <tr>\n",
              "      <th>2021-10-19 17:58:57</th>\n",
              "      <td>0</td>\n",
              "      <td>VendiVendiVendi</td>\n",
              "      <td>2021-10-19 17:58:57</td>\n",
              "      <td>qbh10s</td>\n",
              "      <td>Gain</td>\n",
              "      <td>0</td>\n",
              "      <td>1</td>\n",
              "      <td>10967090</td>\n",
              "      <td>So 13.56 cad for BB.  It’s moving and gaining ...</td>\n",
              "      <td>BB</td>\n",
              "      <td>1.0</td>\n",
              "      <td></td>\n",
              "    </tr>\n",
              "    <tr>\n",
              "      <th>2021-10-19 17:57:49</th>\n",
              "      <td>1</td>\n",
              "      <td>Far_Bass_7284</td>\n",
              "      <td>2021-10-19 17:57:49</td>\n",
              "      <td>qbh04w</td>\n",
              "      <td>News</td>\n",
              "      <td>1</td>\n",
              "      <td>1</td>\n",
              "      <td>10967087</td>\n",
              "      <td>NaN</td>\n",
              "      <td>Surely it is a coincidence.</td>\n",
              "      <td>1.0</td>\n",
              "      <td></td>\n",
              "    </tr>\n",
              "    <tr>\n",
              "      <th>2021-10-19 17:55:24</th>\n",
              "      <td>2</td>\n",
              "      <td>HistoricalAnimator43</td>\n",
              "      <td>2021-10-19 17:55:24</td>\n",
              "      <td>qbgyco</td>\n",
              "      <td>YOLO</td>\n",
              "      <td>0</td>\n",
              "      <td>1</td>\n",
              "      <td>10967076</td>\n",
              "      <td>NaN</td>\n",
              "      <td>yolo sava options</td>\n",
              "      <td>1.0</td>\n",
              "      <td></td>\n",
              "    </tr>\n",
              "    <tr>\n",
              "      <th>2021-10-19 17:54:51</th>\n",
              "      <td>3</td>\n",
              "      <td>ZaRaWi</td>\n",
              "      <td>2021-10-19 17:54:51</td>\n",
              "      <td>qbgxy8</td>\n",
              "      <td>YOLO</td>\n",
              "      <td>0</td>\n",
              "      <td>1</td>\n",
              "      <td>10967076</td>\n",
              "      <td>NaN</td>\n",
              "      <td>meme</td>\n",
              "      <td>1.0</td>\n",
              "      <td></td>\n",
              "    </tr>\n",
              "    <tr>\n",
              "      <th>2021-10-19 17:52:33</th>\n",
              "      <td>4</td>\n",
              "      <td>CuteInterest1884</td>\n",
              "      <td>2021-10-19 17:52:33</td>\n",
              "      <td>qbgw9u</td>\n",
              "      <td>DD</td>\n",
              "      <td>0</td>\n",
              "      <td>1</td>\n",
              "      <td>10967075</td>\n",
              "      <td>BB is on the move higher, not because of the p...</td>\n",
              "      <td>BB</td>\n",
              "      <td>1.0</td>\n",
              "      <td></td>\n",
              "    </tr>\n",
              "    <tr>\n",
              "      <th>2021-10-19 17:51:29</th>\n",
              "      <td>5</td>\n",
              "      <td>Farm1970</td>\n",
              "      <td>2021-10-19 17:51:29</td>\n",
              "      <td>qbgvh0</td>\n",
              "      <td>Discussion</td>\n",
              "      <td>0</td>\n",
              "      <td>1</td>\n",
              "      <td>10967072</td>\n",
              "      <td>NaN</td>\n",
              "      <td>SDIG</td>\n",
              "      <td>1.0</td>\n",
              "      <td></td>\n",
              "    </tr>\n",
              "    <tr>\n",
              "      <th>2021-10-19 17:50:55</th>\n",
              "      <td>6</td>\n",
              "      <td>UN9NOWN</td>\n",
              "      <td>2021-10-19 17:50:55</td>\n",
              "      <td>qbgv2y</td>\n",
              "      <td>Meme</td>\n",
              "      <td>0</td>\n",
              "      <td>1</td>\n",
              "      <td>10967071</td>\n",
              "      <td>NaN</td>\n",
              "      <td>A Sitting Ape Is strong against a charging Bull</td>\n",
              "      <td>1.0</td>\n",
              "      <td></td>\n",
              "    </tr>\n",
              "    <tr>\n",
              "      <th>2021-10-19 17:47:50</th>\n",
              "      <td>7</td>\n",
              "      <td>roastintheoven</td>\n",
              "      <td>2021-10-19 17:47:50</td>\n",
              "      <td>qbgspe</td>\n",
              "      <td>Discussion</td>\n",
              "      <td>0</td>\n",
              "      <td>1</td>\n",
              "      <td>10967055</td>\n",
              "      <td>NaN</td>\n",
              "      <td>Is this the inspiration</td>\n",
              "      <td>1.0</td>\n",
              "      <td></td>\n",
              "    </tr>\n",
              "    <tr>\n",
              "      <th>2021-10-19 17:46:50</th>\n",
              "      <td>8</td>\n",
              "      <td>Fuckhedgiez</td>\n",
              "      <td>2021-10-19 17:46:50</td>\n",
              "      <td>qbgs0r</td>\n",
              "      <td>YOLO</td>\n",
              "      <td>0</td>\n",
              "      <td>1</td>\n",
              "      <td>10967058</td>\n",
              "      <td>NaN</td>\n",
              "      <td>PROG YOLO 1.5 yrs out</td>\n",
              "      <td>1.0</td>\n",
              "      <td></td>\n",
              "    </tr>\n",
              "    <tr>\n",
              "      <th>2021-10-19 17:46:46</th>\n",
              "      <td>9</td>\n",
              "      <td>Sciencetist</td>\n",
              "      <td>2021-10-19 17:46:46</td>\n",
              "      <td>qbgrz6</td>\n",
              "      <td>DD</td>\n",
              "      <td>1</td>\n",
              "      <td>1</td>\n",
              "      <td>10967058</td>\n",
              "      <td>What up, nerds? Long time no post. I come bear...</td>\n",
              "      <td>Don't Be A Menace To Hedge Funds By Squeezing ...</td>\n",
              "      <td>1.0</td>\n",
              "      <td>['HOOD']</td>\n",
              "    </tr>\n",
              "  </tbody>\n",
              "</table>\n",
              "</div>\n",
              "      <button class=\"colab-df-convert\" onclick=\"convertToInteractive('df-c20b44ba-1c35-4000-9f5a-0d7eb793b7ae')\"\n",
              "              title=\"Convert this dataframe to an interactive table.\"\n",
              "              style=\"display:none;\">\n",
              "        \n",
              "  <svg xmlns=\"http://www.w3.org/2000/svg\" height=\"24px\"viewBox=\"0 0 24 24\"\n",
              "       width=\"24px\">\n",
              "    <path d=\"M0 0h24v24H0V0z\" fill=\"none\"/>\n",
              "    <path d=\"M18.56 5.44l.94 2.06.94-2.06 2.06-.94-2.06-.94-.94-2.06-.94 2.06-2.06.94zm-11 1L8.5 8.5l.94-2.06 2.06-.94-2.06-.94L8.5 2.5l-.94 2.06-2.06.94zm10 10l.94 2.06.94-2.06 2.06-.94-2.06-.94-.94-2.06-.94 2.06-2.06.94z\"/><path d=\"M17.41 7.96l-1.37-1.37c-.4-.4-.92-.59-1.43-.59-.52 0-1.04.2-1.43.59L10.3 9.45l-7.72 7.72c-.78.78-.78 2.05 0 2.83L4 21.41c.39.39.9.59 1.41.59.51 0 1.02-.2 1.41-.59l7.78-7.78 2.81-2.81c.8-.78.8-2.07 0-2.86zM5.41 20L4 18.59l7.72-7.72 1.47 1.35L5.41 20z\"/>\n",
              "  </svg>\n",
              "      </button>\n",
              "      \n",
              "  <style>\n",
              "    .colab-df-container {\n",
              "      display:flex;\n",
              "      flex-wrap:wrap;\n",
              "      gap: 12px;\n",
              "    }\n",
              "\n",
              "    .colab-df-convert {\n",
              "      background-color: #E8F0FE;\n",
              "      border: none;\n",
              "      border-radius: 50%;\n",
              "      cursor: pointer;\n",
              "      display: none;\n",
              "      fill: #1967D2;\n",
              "      height: 32px;\n",
              "      padding: 0 0 0 0;\n",
              "      width: 32px;\n",
              "    }\n",
              "\n",
              "    .colab-df-convert:hover {\n",
              "      background-color: #E2EBFA;\n",
              "      box-shadow: 0px 1px 2px rgba(60, 64, 67, 0.3), 0px 1px 3px 1px rgba(60, 64, 67, 0.15);\n",
              "      fill: #174EA6;\n",
              "    }\n",
              "\n",
              "    [theme=dark] .colab-df-convert {\n",
              "      background-color: #3B4455;\n",
              "      fill: #D2E3FC;\n",
              "    }\n",
              "\n",
              "    [theme=dark] .colab-df-convert:hover {\n",
              "      background-color: #434B5C;\n",
              "      box-shadow: 0px 1px 3px 1px rgba(0, 0, 0, 0.15);\n",
              "      filter: drop-shadow(0px 1px 2px rgba(0, 0, 0, 0.3));\n",
              "      fill: #FFFFFF;\n",
              "    }\n",
              "  </style>\n",
              "\n",
              "      <script>\n",
              "        const buttonEl =\n",
              "          document.querySelector('#df-c20b44ba-1c35-4000-9f5a-0d7eb793b7ae button.colab-df-convert');\n",
              "        buttonEl.style.display =\n",
              "          google.colab.kernel.accessAllowed ? 'block' : 'none';\n",
              "\n",
              "        async function convertToInteractive(key) {\n",
              "          const element = document.querySelector('#df-c20b44ba-1c35-4000-9f5a-0d7eb793b7ae');\n",
              "          const dataTable =\n",
              "            await google.colab.kernel.invokeFunction('convertToInteractive',\n",
              "                                                     [key], {});\n",
              "          if (!dataTable) return;\n",
              "\n",
              "          const docLinkHtml = 'Like what you see? Visit the ' +\n",
              "            '<a target=\"_blank\" href=https://colab.research.google.com/notebooks/data_table.ipynb>data table notebook</a>'\n",
              "            + ' to learn more about interactive tables.';\n",
              "          element.innerHTML = '';\n",
              "          dataTable['output_type'] = 'display_data';\n",
              "          await google.colab.output.renderOutput(dataTable, element);\n",
              "          const docLink = document.createElement('div');\n",
              "          docLink.innerHTML = docLinkHtml;\n",
              "          element.appendChild(docLink);\n",
              "        }\n",
              "      </script>\n",
              "    </div>\n",
              "  </div>\n",
              "  "
            ],
            "text/plain": [
              "                     Unnamed: 0                author  ... upvote_ratio  tickers_\n",
              "created_utc                                            ...                       \n",
              "2021-10-19 17:58:57           0       VendiVendiVendi  ...          1.0          \n",
              "2021-10-19 17:57:49           1         Far_Bass_7284  ...          1.0          \n",
              "2021-10-19 17:55:24           2  HistoricalAnimator43  ...          1.0          \n",
              "2021-10-19 17:54:51           3                ZaRaWi  ...          1.0          \n",
              "2021-10-19 17:52:33           4      CuteInterest1884  ...          1.0          \n",
              "2021-10-19 17:51:29           5              Farm1970  ...          1.0          \n",
              "2021-10-19 17:50:55           6               UN9NOWN  ...          1.0          \n",
              "2021-10-19 17:47:50           7        roastintheoven  ...          1.0          \n",
              "2021-10-19 17:46:50           8           Fuckhedgiez  ...          1.0          \n",
              "2021-10-19 17:46:46           9           Sciencetist  ...          1.0  ['HOOD']\n",
              "\n",
              "[10 rows x 12 columns]"
            ]
          },
          "metadata": {},
          "execution_count": 88
        }
      ]
    },
    {
      "cell_type": "code",
      "source": [
        "df['tickers_count'] = df[\"tickers_\"].apply(agg_counter_objs)"
      ],
      "metadata": {
        "id": "SWUXIfplpDJU"
      },
      "execution_count": null,
      "outputs": []
    },
    {
      "cell_type": "code",
      "source": [
        "df.head(10)"
      ],
      "metadata": {
        "colab": {
          "base_uri": "https://localhost:8080/",
          "height": 768
        },
        "id": "2edf25bVqeTc",
        "outputId": "0e3ce812-fefc-4c81-dd65-27f27787fa5b"
      },
      "execution_count": 104,
      "outputs": [
        {
          "output_type": "execute_result",
          "data": {
            "text/html": [
              "\n",
              "  <div id=\"df-4f59fe03-a0c2-4ec0-9d47-cc5aa125a7e8\">\n",
              "    <div class=\"colab-df-container\">\n",
              "      <div>\n",
              "<style scoped>\n",
              "    .dataframe tbody tr th:only-of-type {\n",
              "        vertical-align: middle;\n",
              "    }\n",
              "\n",
              "    .dataframe tbody tr th {\n",
              "        vertical-align: top;\n",
              "    }\n",
              "\n",
              "    .dataframe thead th {\n",
              "        text-align: right;\n",
              "    }\n",
              "</style>\n",
              "<table border=\"1\" class=\"dataframe\">\n",
              "  <thead>\n",
              "    <tr style=\"text-align: right;\">\n",
              "      <th></th>\n",
              "      <th>author</th>\n",
              "      <th>id</th>\n",
              "      <th>link_flair_text</th>\n",
              "      <th>num_comments</th>\n",
              "      <th>score</th>\n",
              "      <th>subreddit_subscribers</th>\n",
              "      <th>selftext</th>\n",
              "      <th>title</th>\n",
              "      <th>upvote_ratio</th>\n",
              "      <th>tickers_</th>\n",
              "      <th>tickers_count</th>\n",
              "    </tr>\n",
              "    <tr>\n",
              "      <th>created_utc</th>\n",
              "      <th></th>\n",
              "      <th></th>\n",
              "      <th></th>\n",
              "      <th></th>\n",
              "      <th></th>\n",
              "      <th></th>\n",
              "      <th></th>\n",
              "      <th></th>\n",
              "      <th></th>\n",
              "      <th></th>\n",
              "      <th></th>\n",
              "    </tr>\n",
              "  </thead>\n",
              "  <tbody>\n",
              "    <tr>\n",
              "      <th>2021-10-19 17:58:57</th>\n",
              "      <td>VendiVendiVendi</td>\n",
              "      <td>qbh10s</td>\n",
              "      <td>Gain</td>\n",
              "      <td>0</td>\n",
              "      <td>1</td>\n",
              "      <td>10967090</td>\n",
              "      <td>So 13.56 cad for BB.  It’s moving and gaining ...</td>\n",
              "      <td>BB</td>\n",
              "      <td>1.0</td>\n",
              "      <td></td>\n",
              "      <td>0</td>\n",
              "    </tr>\n",
              "    <tr>\n",
              "      <th>2021-10-19 17:57:49</th>\n",
              "      <td>Far_Bass_7284</td>\n",
              "      <td>qbh04w</td>\n",
              "      <td>News</td>\n",
              "      <td>1</td>\n",
              "      <td>1</td>\n",
              "      <td>10967087</td>\n",
              "      <td>NaN</td>\n",
              "      <td>Surely it is a coincidence.</td>\n",
              "      <td>1.0</td>\n",
              "      <td></td>\n",
              "      <td>0</td>\n",
              "    </tr>\n",
              "    <tr>\n",
              "      <th>2021-10-19 17:55:24</th>\n",
              "      <td>HistoricalAnimator43</td>\n",
              "      <td>qbgyco</td>\n",
              "      <td>YOLO</td>\n",
              "      <td>0</td>\n",
              "      <td>1</td>\n",
              "      <td>10967076</td>\n",
              "      <td>NaN</td>\n",
              "      <td>yolo sava options</td>\n",
              "      <td>1.0</td>\n",
              "      <td></td>\n",
              "      <td>0</td>\n",
              "    </tr>\n",
              "    <tr>\n",
              "      <th>2021-10-19 17:54:51</th>\n",
              "      <td>ZaRaWi</td>\n",
              "      <td>qbgxy8</td>\n",
              "      <td>YOLO</td>\n",
              "      <td>0</td>\n",
              "      <td>1</td>\n",
              "      <td>10967076</td>\n",
              "      <td>NaN</td>\n",
              "      <td>meme</td>\n",
              "      <td>1.0</td>\n",
              "      <td></td>\n",
              "      <td>0</td>\n",
              "    </tr>\n",
              "    <tr>\n",
              "      <th>2021-10-19 17:52:33</th>\n",
              "      <td>CuteInterest1884</td>\n",
              "      <td>qbgw9u</td>\n",
              "      <td>DD</td>\n",
              "      <td>0</td>\n",
              "      <td>1</td>\n",
              "      <td>10967075</td>\n",
              "      <td>BB is on the move higher, not because of the p...</td>\n",
              "      <td>BB</td>\n",
              "      <td>1.0</td>\n",
              "      <td></td>\n",
              "      <td>0</td>\n",
              "    </tr>\n",
              "    <tr>\n",
              "      <th>2021-10-19 17:51:29</th>\n",
              "      <td>Farm1970</td>\n",
              "      <td>qbgvh0</td>\n",
              "      <td>Discussion</td>\n",
              "      <td>0</td>\n",
              "      <td>1</td>\n",
              "      <td>10967072</td>\n",
              "      <td>NaN</td>\n",
              "      <td>SDIG</td>\n",
              "      <td>1.0</td>\n",
              "      <td></td>\n",
              "      <td>0</td>\n",
              "    </tr>\n",
              "    <tr>\n",
              "      <th>2021-10-19 17:50:55</th>\n",
              "      <td>UN9NOWN</td>\n",
              "      <td>qbgv2y</td>\n",
              "      <td>Meme</td>\n",
              "      <td>0</td>\n",
              "      <td>1</td>\n",
              "      <td>10967071</td>\n",
              "      <td>NaN</td>\n",
              "      <td>A Sitting Ape Is strong against a charging Bull</td>\n",
              "      <td>1.0</td>\n",
              "      <td></td>\n",
              "      <td>0</td>\n",
              "    </tr>\n",
              "    <tr>\n",
              "      <th>2021-10-19 17:47:50</th>\n",
              "      <td>roastintheoven</td>\n",
              "      <td>qbgspe</td>\n",
              "      <td>Discussion</td>\n",
              "      <td>0</td>\n",
              "      <td>1</td>\n",
              "      <td>10967055</td>\n",
              "      <td>NaN</td>\n",
              "      <td>Is this the inspiration</td>\n",
              "      <td>1.0</td>\n",
              "      <td></td>\n",
              "      <td>0</td>\n",
              "    </tr>\n",
              "    <tr>\n",
              "      <th>2021-10-19 17:46:50</th>\n",
              "      <td>Fuckhedgiez</td>\n",
              "      <td>qbgs0r</td>\n",
              "      <td>YOLO</td>\n",
              "      <td>0</td>\n",
              "      <td>1</td>\n",
              "      <td>10967058</td>\n",
              "      <td>NaN</td>\n",
              "      <td>PROG YOLO 1.5 yrs out</td>\n",
              "      <td>1.0</td>\n",
              "      <td></td>\n",
              "      <td>0</td>\n",
              "    </tr>\n",
              "    <tr>\n",
              "      <th>2021-10-19 17:46:46</th>\n",
              "      <td>Sciencetist</td>\n",
              "      <td>qbgrz6</td>\n",
              "      <td>DD</td>\n",
              "      <td>1</td>\n",
              "      <td>1</td>\n",
              "      <td>10967058</td>\n",
              "      <td>What up, nerds? Long time no post. I come bear...</td>\n",
              "      <td>Don't Be A Menace To Hedge Funds By Squeezing ...</td>\n",
              "      <td>1.0</td>\n",
              "      <td>['HOOD']</td>\n",
              "      <td>{'HOOD': 1}</td>\n",
              "    </tr>\n",
              "  </tbody>\n",
              "</table>\n",
              "</div>\n",
              "      <button class=\"colab-df-convert\" onclick=\"convertToInteractive('df-4f59fe03-a0c2-4ec0-9d47-cc5aa125a7e8')\"\n",
              "              title=\"Convert this dataframe to an interactive table.\"\n",
              "              style=\"display:none;\">\n",
              "        \n",
              "  <svg xmlns=\"http://www.w3.org/2000/svg\" height=\"24px\"viewBox=\"0 0 24 24\"\n",
              "       width=\"24px\">\n",
              "    <path d=\"M0 0h24v24H0V0z\" fill=\"none\"/>\n",
              "    <path d=\"M18.56 5.44l.94 2.06.94-2.06 2.06-.94-2.06-.94-.94-2.06-.94 2.06-2.06.94zm-11 1L8.5 8.5l.94-2.06 2.06-.94-2.06-.94L8.5 2.5l-.94 2.06-2.06.94zm10 10l.94 2.06.94-2.06 2.06-.94-2.06-.94-.94-2.06-.94 2.06-2.06.94z\"/><path d=\"M17.41 7.96l-1.37-1.37c-.4-.4-.92-.59-1.43-.59-.52 0-1.04.2-1.43.59L10.3 9.45l-7.72 7.72c-.78.78-.78 2.05 0 2.83L4 21.41c.39.39.9.59 1.41.59.51 0 1.02-.2 1.41-.59l7.78-7.78 2.81-2.81c.8-.78.8-2.07 0-2.86zM5.41 20L4 18.59l7.72-7.72 1.47 1.35L5.41 20z\"/>\n",
              "  </svg>\n",
              "      </button>\n",
              "      \n",
              "  <style>\n",
              "    .colab-df-container {\n",
              "      display:flex;\n",
              "      flex-wrap:wrap;\n",
              "      gap: 12px;\n",
              "    }\n",
              "\n",
              "    .colab-df-convert {\n",
              "      background-color: #E8F0FE;\n",
              "      border: none;\n",
              "      border-radius: 50%;\n",
              "      cursor: pointer;\n",
              "      display: none;\n",
              "      fill: #1967D2;\n",
              "      height: 32px;\n",
              "      padding: 0 0 0 0;\n",
              "      width: 32px;\n",
              "    }\n",
              "\n",
              "    .colab-df-convert:hover {\n",
              "      background-color: #E2EBFA;\n",
              "      box-shadow: 0px 1px 2px rgba(60, 64, 67, 0.3), 0px 1px 3px 1px rgba(60, 64, 67, 0.15);\n",
              "      fill: #174EA6;\n",
              "    }\n",
              "\n",
              "    [theme=dark] .colab-df-convert {\n",
              "      background-color: #3B4455;\n",
              "      fill: #D2E3FC;\n",
              "    }\n",
              "\n",
              "    [theme=dark] .colab-df-convert:hover {\n",
              "      background-color: #434B5C;\n",
              "      box-shadow: 0px 1px 3px 1px rgba(0, 0, 0, 0.15);\n",
              "      filter: drop-shadow(0px 1px 2px rgba(0, 0, 0, 0.3));\n",
              "      fill: #FFFFFF;\n",
              "    }\n",
              "  </style>\n",
              "\n",
              "      <script>\n",
              "        const buttonEl =\n",
              "          document.querySelector('#df-4f59fe03-a0c2-4ec0-9d47-cc5aa125a7e8 button.colab-df-convert');\n",
              "        buttonEl.style.display =\n",
              "          google.colab.kernel.accessAllowed ? 'block' : 'none';\n",
              "\n",
              "        async function convertToInteractive(key) {\n",
              "          const element = document.querySelector('#df-4f59fe03-a0c2-4ec0-9d47-cc5aa125a7e8');\n",
              "          const dataTable =\n",
              "            await google.colab.kernel.invokeFunction('convertToInteractive',\n",
              "                                                     [key], {});\n",
              "          if (!dataTable) return;\n",
              "\n",
              "          const docLinkHtml = 'Like what you see? Visit the ' +\n",
              "            '<a target=\"_blank\" href=https://colab.research.google.com/notebooks/data_table.ipynb>data table notebook</a>'\n",
              "            + ' to learn more about interactive tables.';\n",
              "          element.innerHTML = '';\n",
              "          dataTable['output_type'] = 'display_data';\n",
              "          await google.colab.output.renderOutput(dataTable, element);\n",
              "          const docLink = document.createElement('div');\n",
              "          docLink.innerHTML = docLinkHtml;\n",
              "          element.appendChild(docLink);\n",
              "        }\n",
              "      </script>\n",
              "    </div>\n",
              "  </div>\n",
              "  "
            ],
            "text/plain": [
              "                                   author      id  ...  tickers_  tickers_count\n",
              "created_utc                                        ...                         \n",
              "2021-10-19 17:58:57       VendiVendiVendi  qbh10s  ...                        0\n",
              "2021-10-19 17:57:49         Far_Bass_7284  qbh04w  ...                        0\n",
              "2021-10-19 17:55:24  HistoricalAnimator43  qbgyco  ...                        0\n",
              "2021-10-19 17:54:51                ZaRaWi  qbgxy8  ...                        0\n",
              "2021-10-19 17:52:33      CuteInterest1884  qbgw9u  ...                        0\n",
              "2021-10-19 17:51:29              Farm1970  qbgvh0  ...                        0\n",
              "2021-10-19 17:50:55               UN9NOWN  qbgv2y  ...                        0\n",
              "2021-10-19 17:47:50        roastintheoven  qbgspe  ...                        0\n",
              "2021-10-19 17:46:50           Fuckhedgiez  qbgs0r  ...                        0\n",
              "2021-10-19 17:46:46           Sciencetist  qbgrz6  ...  ['HOOD']    {'HOOD': 1}\n",
              "\n",
              "[10 rows x 11 columns]"
            ]
          },
          "metadata": {},
          "execution_count": 104
        }
      ]
    },
    {
      "cell_type": "code",
      "source": [
        "df = df.drop(['Unnamed: 0','created_utc'],axis=1)"
      ],
      "metadata": {
        "id": "2q068rIRqrsh"
      },
      "execution_count": 103,
      "outputs": []
    },
    {
      "cell_type": "code",
      "source": [
        "df.to_csv(\"/content/drive/MyDrive/WSB/WSB_submissions_features_tickers_count.csv\", sep=\";\")"
      ],
      "metadata": {
        "id": "pa2Rc1Jkp6ti"
      },
      "execution_count": 105,
      "outputs": []
    }
  ],
  "metadata": {
    "kernelspec": {
      "display_name": "Python 3",
      "language": "python",
      "name": "python3"
    },
    "language_info": {
      "codemirror_mode": {
        "name": "ipython",
        "version": 3
      },
      "file_extension": ".py",
      "mimetype": "text/x-python",
      "name": "python",
      "nbconvert_exporter": "python",
      "pygments_lexer": "ipython3",
      "version": "3.7.4"
    },
    "colab": {
      "name": "data_analysis_Spacy.ipynb",
      "provenance": []
    }
  },
  "nbformat": 4,
  "nbformat_minor": 0
}